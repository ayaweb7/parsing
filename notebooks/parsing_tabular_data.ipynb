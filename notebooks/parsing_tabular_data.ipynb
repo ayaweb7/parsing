{
 "cells": [
  {
   "cell_type": "markdown",
   "metadata": {},
   "source": [
    "# Парсинг таблицы с сайта на Python:\n",
    "### Пошаговое руководство"
   ]
  },
  {
   "cell_type": "code",
   "execution_count": null,
   "metadata": {},
   "outputs": [],
   "source": [
    "# https://idatica.com/blog/parsing-tablitsy-s-sayta-na-python-poshagovoye-rukovodstvo/"
   ]
  },
  {
   "cell_type": "markdown",
   "metadata": {},
   "source": [
    "## ШАГ 1. УСТАНОВКА БИБЛИОТЕК"
   ]
  },
  {
   "cell_type": "markdown",
   "metadata": {},
   "source": [
    "Прежде всего, нужно установить в нашу среду разработки библиотеки:\n",
    "\n",
    "BeautifulSoup4\n",
    "Requests\n",
    "pandas\n",
    "lxml"
   ]
  },
  {
   "cell_type": "markdown",
   "metadata": {},
   "source": [
    "## ШАГ 2. ИМПОРТИРОВАНИЕ БИБЛИОТЕК"
   ]
  },
  {
   "cell_type": "code",
   "execution_count": null,
   "metadata": {},
   "outputs": [],
   "source": [
    "# Import libraries\n",
    "import requests\n",
    "from bs4 import BeautifulSoup\n",
    "import pandas as pd"
   ]
  },
  {
   "cell_type": "markdown",
   "metadata": {},
   "source": [
    "## ШАГ 3. ВЫБОР СТРАНИЦЫ"
   ]
  },
  {
   "cell_type": "markdown",
   "metadata": {},
   "source": [
    "В этом проекте мы будем парсить таблицу данных covid с Worldometers.\n",
    "Как и в предыдущем руководстве, данный веб-сайт также создан с помощью HTML и считается более легким для понимания новичками.\n",
    "\n",
    "https://www.worldometers.info/coronavirus/"
   ]
  },
  {
   "cell_type": "markdown",
   "metadata": {},
   "source": [
    "## ШАГ 4. ЗАПРОС РАЗРЕШЕНИЯ"
   ]
  },
  {
   "cell_type": "markdown",
   "metadata": {},
   "source": [
    "После выбора страницы для парсинга мы можем скопировать ее URL-адрес и использовать requests, чтобы запросить разрешение у сервера на получение данных с их сайта."
   ]
  },
  {
   "cell_type": "code",
   "execution_count": null,
   "metadata": {},
   "outputs": [],
   "source": [
    "# Create an URL object\n",
    "url = 'https://www.worldometers.info/coronavirus/'\n",
    "# Create object page\n",
    "page = requests.get(url)"
   ]
  },
  {
   "cell_type": "markdown",
   "metadata": {},
   "source": [
    "Результат <Response [200]> означает, что сервер позволяет нам собирать информацию.\n",
    "Дальше необходимо обработать HTML-код с помощью lxml, чтобы сделать его более доступным для чтения."
   ]
  },
  {
   "cell_type": "code",
   "execution_count": null,
   "metadata": {},
   "outputs": [],
   "source": [
    "# parser-lxml = Change html to Python friendly format\n",
    "# Obtain page's information\n",
    "soup = BeautifulSoup(page.text, 'lxml')\n",
    "soup"
   ]
  },
  {
   "cell_type": "code",
   "execution_count": null,
   "metadata": {},
   "outputs": [],
   "source": []
  },
  {
   "cell_type": "markdown",
   "metadata": {},
   "source": [
    "## ШАГ 5. ПРОСМОТР КОДА ЭЛЕМЕНТОВ ТАБЛИЦЫ"
   ]
  },
  {
   "cell_type": "markdown",
   "metadata": {},
   "source": [
    "В предыдущей статье мы узнали, как просмотреть код каждого элемента на странице веб-сайта.\n",
    "Чтобы получить информацию о коде элементов таблицы, нам нужно сначала проверить ее расположение.\n",
    "\n",
    "https://idatica.com/blog/parsing-saytov-na-python-rukovodstvo-dlya-novichkov/"
   ]
  },
  {
   "cell_type": "markdown",
   "metadata": {},
   "source": [
    "Как видно из рисунка выше, эта таблица находится внутри тега <table> и id = ‘main_table_countries_today’.\n",
    "Теперь мы можем определить переменную. В нашем случае мы определим таблицу как ‘table1’."
   ]
  },
  {
   "cell_type": "code",
   "execution_count": null,
   "metadata": {},
   "outputs": [],
   "source": [
    "# Obtain information from tag <table>\n",
    "table1 = soup.find(‘table’, id=’main_table_countries_today’)\n",
    "table1"
   ]
  },
  {
   "cell_type": "code",
   "execution_count": null,
   "metadata": {},
   "outputs": [],
   "source": []
  },
  {
   "cell_type": "markdown",
   "metadata": {},
   "source": [
    "## ШАГ 6. СОЗДАНИЕ КОЛОНОК"
   ]
  },
  {
   "cell_type": "markdown",
   "metadata": {},
   "source": [
    "После создания table1 мы можем посмотреть расположение каждой колонки.\n",
    "Если мы просмотрим все колонки, то заметим, что они имеют одну и ту же характеристику.\n",
    "\n",
    "На рисунке видна общая характеристика каждой колонки – они расположены внутри тега <th>."
   ]
  },
  {
   "cell_type": "code",
   "execution_count": null,
   "metadata": {},
   "outputs": [],
   "source": [
    "# После нахождения тегов мы создаем цикл for, чтобы заполнить пустой список нашими колонками.\n",
    "# Давайте определим пустой список как headers.\n",
    "\n",
    "# Obtain every title of columns with tag <th>\n",
    "headers = []\n",
    "for i in table1.find_all(‘th’):\n",
    "title = i.text\n",
    "headers.append(title)\n",
    "\n",
    "# Результат:"
   ]
  },
  {
   "cell_type": "markdown",
   "metadata": {},
   "source": [
    "Список успешно заполнен и мы можем проверить его еще раз.\n",
    "Давайте посмотрим на индекс 13, здесь многострочный текст.\n",
    "Подобный перенос может быть проблемой, когда мы захотим сделать из него фрейм данных, поэтому необходимо преобразовать его в однострочный текст."
   ]
  },
  {
   "cell_type": "code",
   "execution_count": null,
   "metadata": {},
   "outputs": [],
   "source": [
    "# Convert wrapped text in column 13 into one line text\n",
    "headers[13] = ‘Tests/1M pop’\n",
    "\n",
    "# Результат:"
   ]
  },
  {
   "cell_type": "markdown",
   "metadata": {},
   "source": [
    "## ШАГ 7. СОЗДАНИЕ ФРЕЙМА ДАННЫХ"
   ]
  },
  {
   "cell_type": "code",
   "execution_count": null,
   "metadata": {},
   "outputs": [],
   "source": [
    "# Следующий этап парсинга таблицы с помощью Python — это создание фрейма данных.\n",
    "# Предлагаю определить фрейм данных как mydata.\n",
    "\n",
    "# Create a dataframe\n",
    "mydata = pd.DataFrame(columns = headers)"
   ]
  },
  {
   "cell_type": "markdown",
   "metadata": {},
   "source": [
    "## ШАГ 8. СОЗДАНИЕ ЦИКЛА FOR ДЛЯ ЗАПОЛНЕНИЯ ФРЕЙМА ДАННЫХ"
   ]
  },
  {
   "cell_type": "markdown",
   "metadata": {},
   "source": [
    "Как только фрейм данных готов, мы можем заполнить его элементами в каждой колонке.\n",
    "До момента создания цикла for нам нужно еще определить место расположения строки и колонки элемента.\n",
    "\n",
    "На рисунках выше видно, что строка находится внутри тега <tr>, а элементы — внутри тега <td>.\n",
    "Это применимо ко всем строкам и элементам в таблице."
   ]
  },
  {
   "cell_type": "code",
   "execution_count": null,
   "metadata": {},
   "outputs": [],
   "source": [
    "# Теги найдены и теперь можно создавать цикл for.\n",
    "\n",
    "# Create a for loop to fill mydata\n",
    "for j in table1.find_all(‘tr’)[1:]:\n",
    "row_data = j.find_all(‘td’)\n",
    "row = [i.text for i in row_data]\n",
    "length = len(mydata)\n",
    "mydata.loc[length] = row\n",
    "\n",
    "# Результат:"
   ]
  },
  {
   "cell_type": "markdown",
   "metadata": {},
   "source": [
    "## ШАГ 9. ОЧИСТКА ФРЕЙМА ДАННЫХ"
   ]
  },
  {
   "cell_type": "markdown",
   "metadata": {},
   "source": [
    "Далее, как только фрейм данных будет успешно создан, мы можем удалить и очистить ненужные строки.\n",
    "В нашем случае мы удалим индекс 0–6, 222–228, затем вернем индекс в исходное состояние и удалим столбец «#»."
   ]
  },
  {
   "cell_type": "code",
   "execution_count": null,
   "metadata": {},
   "outputs": [],
   "source": [
    "# Drop and clearing unnecessary rows\n",
    "mydata.drop(mydata.index[0:7], inplace=True)\n",
    "mydata.drop(mydata.index[222:229], inplace=True)\n",
    "mydata.reset_index(inplace=True, drop=True)\n",
    "\n",
    "# Drop “#” column\n",
    "mydata.drop(‘#’, inplace=True, axis=1)\n",
    "\n",
    "# Результат:"
   ]
  },
  {
   "cell_type": "markdown",
   "metadata": {},
   "source": [
    "## ШАГ 10. ЭКСПОРТ ДАННЫХ В CSV-ФАЙЛ"
   ]
  },
  {
   "cell_type": "code",
   "execution_count": null,
   "metadata": {},
   "outputs": [],
   "source": [
    "# Когда фрейм данных будет готов, мы можем экспортировать данные в CSV-файл.\n",
    "\n",
    "# Export to csv\n",
    "mydata.to_csv(‘covid_data.csv’, index=False)\n",
    "\n",
    "# Try to read csv\n",
    "mydata2 = pd.read_csv(‘covid_data.csv’)"
   ]
  },
  {
   "cell_type": "markdown",
   "metadata": {},
   "source": [
    "##### Это был завершающий этап парсинга таблицы на Python и теперь данные можно использовать для работы в проектах по анализу и обработке данных, в машинном обучении и для получения другой необходимой информации."
   ]
  },
  {
   "cell_type": "code",
   "execution_count": null,
   "metadata": {},
   "outputs": [],
   "source": []
  },
  {
   "cell_type": "code",
   "execution_count": null,
   "metadata": {},
   "outputs": [],
   "source": []
  },
  {
   "cell_type": "code",
   "execution_count": null,
   "metadata": {},
   "outputs": [],
   "source": [
    "## "
   ]
  },
  {
   "cell_type": "code",
   "execution_count": null,
   "metadata": {},
   "outputs": [],
   "source": []
  },
  {
   "cell_type": "code",
   "execution_count": null,
   "metadata": {},
   "outputs": [],
   "source": [
    "## "
   ]
  },
  {
   "cell_type": "code",
   "execution_count": null,
   "metadata": {},
   "outputs": [],
   "source": []
  },
  {
   "cell_type": "code",
   "execution_count": null,
   "metadata": {},
   "outputs": [],
   "source": [
    "## "
   ]
  },
  {
   "cell_type": "code",
   "execution_count": null,
   "metadata": {},
   "outputs": [],
   "source": []
  },
  {
   "cell_type": "code",
   "execution_count": null,
   "metadata": {},
   "outputs": [],
   "source": [
    "## "
   ]
  },
  {
   "cell_type": "code",
   "execution_count": null,
   "metadata": {},
   "outputs": [],
   "source": []
  },
  {
   "cell_type": "code",
   "execution_count": null,
   "metadata": {},
   "outputs": [],
   "source": [
    "## "
   ]
  },
  {
   "cell_type": "code",
   "execution_count": null,
   "metadata": {},
   "outputs": [],
   "source": []
  }
 ],
 "metadata": {
  "kernelspec": {
   "display_name": "Python 3",
   "language": "python",
   "name": "python3"
  },
  "language_info": {
   "codemirror_mode": {
    "name": "ipython",
    "version": 3
   },
   "file_extension": ".py",
   "mimetype": "text/x-python",
   "name": "python",
   "nbconvert_exporter": "python",
   "pygments_lexer": "ipython3",
   "version": "3.8.3"
  }
 },
 "nbformat": 4,
 "nbformat_minor": 4
}
