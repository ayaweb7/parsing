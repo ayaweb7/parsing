{
 "cells": [
  {
   "cell_type": "markdown",
   "metadata": {},
   "source": [
    "# Обучение парсингу на Python\n",
    "\n",
    "## PythonToday\n",
    "\n",
    "#### @PythonToday • 235 тыс. подписчиков • 215 видео"
   ]
  },
  {
   "cell_type": "markdown",
   "metadata": {},
   "source": [
    "### Хороший proxy сервис:\n",
    "https://proxy6.net/a/149995"
   ]
  },
  {
   "cell_type": "code",
   "execution_count": null,
   "metadata": {},
   "outputs": [],
   "source": []
  },
  {
   "cell_type": "markdown",
   "metadata": {},
   "source": [
    "##  УРОК 1 | Парсинг сайтов | Разбираем методы библиотеки Beautifulsoup"
   ]
  },
  {
   "cell_type": "code",
   "execution_count": null,
   "metadata": {},
   "outputs": [],
   "source": [
    "# https://www.youtube.com/watch?v=7hn1_t2ZtJQ"
   ]
  },
  {
   "cell_type": "code",
   "execution_count": null,
   "metadata": {},
   "outputs": [],
   "source": [
    "# Искать нужные элементы в коде с помощью библиотеки:\n",
    "# !pip install beautifulsoup4"
   ]
  },
  {
   "cell_type": "markdown",
   "metadata": {},
   "source": [
    "### Установка библиотек в ВИРТУАЛЬНОЕ ОКРУЖЕНИЕ через терминал !!!!"
   ]
  },
  {
   "cell_type": "code",
   "execution_count": null,
   "metadata": {},
   "outputs": [],
   "source": [
    "# Установка библиотек в ВИРТУАЛЬНОЕ ОКРУЖЕНИЕ через терминал !!!!\n",
    "# pip install requests\n",
    "# pip install beautifulsoup4\n",
    "# pip install lxml\n",
    "# pip install img2pdf"
   ]
  },
  {
   "cell_type": "code",
   "execution_count": null,
   "metadata": {},
   "outputs": [],
   "source": [
    "# Информация о библиотеке (через Jupyter Notebook):\n",
    "# Чтобы просмотреть подробную информацию о pandas и её зависимостях, примените следующую команду:\n",
    "# import pandas as pd\n",
    "# pd.show_versions()\n",
    "\n",
    "# Менеджеры пакетов, такие как pip, также позволяют узнать версию библиотеки (через Terminal):\n",
    "# pip show requests"
   ]
  },
  {
   "cell_type": "code",
   "execution_count": 4,
   "metadata": {},
   "outputs": [],
   "source": [
    "# Подключаем библиотеку для поиска элементов кода на сайте !!!!!!!!!!!!!\n",
    "# Библиотека PYTHON для извлечения данных из файлов HTML и XML\n",
    "import re\n",
    "from bs4 import BeautifulSoup"
   ]
  },
  {
   "cell_type": "code",
   "execution_count": 5,
   "metadata": {
    "collapsed": true,
    "jupyter": {
     "outputs_hidden": true
    }
   },
   "outputs": [
    {
     "name": "stdout",
     "output_type": "stream",
     "text": [
      "<!DOCTYPE html>\n",
      "<html lang=\"en\">\n",
      "<head>\n",
      "    <meta charset=\"UTF-8\">\n",
      "    <title>Главная страница блога</title>\n",
      "    <link rel=\"stylesheet\" href=\"style.css\">\n",
      "</head>\n",
      "<body>\n",
      "<div class=\"container\">\n",
      "    <h1>Страница пользователя Mr. Anderson</h1>\n",
      "    <div class=\"user__data\">\n",
      "        <div class=\"user__avatar\">\n",
      "            <img src=\"user_avatar.jpg\" alt=\"\">\n",
      "        </div>\n",
      "        <div class=\"user__info\">\n",
      "            <div class=\"user__name\">\n",
      "                <span>Mr Anderson</span>\n",
      "            </div>\n",
      "            <div class=\"user__birth__date\">\n",
      "                <span>Дата рождения:</span>\n",
      "                <span>01.01.1970</span>\n",
      "            </div>\n",
      "            <div class=\"user__city\">\n",
      "                <span class=\"city__label\">Город:</span>\n",
      "                <span>Los Angeles</span>\n",
      "            </div>\n",
      "            <div class=\"social__networks\">\n",
      "                <p>Ссылки на соц.сети:</p>\n",
      "                <ul>\n",
      "                    <li>\n",
      "                        <a href=\"http://instagram.com/username\">Instagram</a>\n",
      "                    </li>\n",
      "                    <li>\n",
      "                        <a href=\"http://twitter.com/username\">Twitter</a>\n",
      "                    </li>\n",
      "                    <li>\n",
      "                        <a href=\"http://youtube.com/username\">Youtube</a>\n",
      "                    </li>\n",
      "                </ul>\n",
      "            </div>\n",
      "        </div>\n",
      "    </div>\n",
      "    <div class=\"user__blog__wall\">\n",
      "        <div class=\"blog__title\">Блог</div>\n",
      "        <div class=\"user__post\">\n",
      "            <div class=\"user__post__info\">\n",
      "                <div class=\"post__title\">\n",
      "                    <h3>Российская нейросеть сортирует пластик с точностью 95%</h3>\n",
      "                </div>\n",
      "                <div class=\"post__text\">\n",
      "                    Lorem ipsum dolor sit amet, consectetur adipiscing elit, sed do eiusmod tempor incididunt ut labore\n",
      "                    et dolore magna aliqua. Vitae justo eget magna fermentum iaculis eu. Nibh sit amet commodo nulla\n",
      "                    facilisi nullam vehicula ipsum. Elit pellentesque habitant morbi tristique senectus et netus et\n",
      "                    malesuada.\n",
      "                </div>\n",
      "            </div>\n",
      "        </div>\n",
      "        <div class=\"user__post\">\n",
      "            <div class=\"user__post__info\">\n",
      "                <div class=\"post__title\">\n",
      "                    <h3>Wi-Fi Hack</h3>\n",
      "                </div>\n",
      "                <div class=\"post__text\">\n",
      "                    Semper risus in hendrerit gravida rutrum quisque. Imperdiet sed euismod nisi porta lorem mollis\n",
      "                    aliquam. Blandit massa enim nec dui nunc mattis enim. Enim neque volutpat ac tincidunt vitae semper.\n",
      "                </div>\n",
      "            </div>\n",
      "        </div>\n",
      "        <div class=\"user__post\">\n",
      "            <div class=\"user__post__info\">\n",
      "                <div class=\"post__title\">\n",
      "                    <h3>Twitter будет банить пользователей, которые желают смерти другим</h3>\n",
      "                </div>\n",
      "                <div class=\"post__text\">\n",
      "                    Lobortis scelerisque fermentum dui faucibus in ornare quam viverra orci. Eget lorem dolor sed\n",
      "                    viverra ipsum nunc aliquet. Nunc id cursus metus aliquam eleifend mi in nulla. Aliquam id diam\n",
      "                    maecenas ultricies mi eget mauris pharetra. Ut tortor pretium viverra suspendisse potenti.\n",
      "                </div>\n",
      "            </div>\n",
      "        </div>\n",
      "    </div>\n",
      "</div>\n",
      "</body>\n",
      "</html>\n"
     ]
    }
   ],
   "source": [
    "# Для начала работы нужно открыть файл нашей страницы:\n",
    "# with open(\"blank/index.html\") as file:\n",
    "# for Windows\n",
    "# with open('D:/father/Programs/OSPanel/domains/parsing/lesson_1/blank/index.html') as file:\n",
    "# for mac\n",
    "with open('data/index.html') as file:\n",
    "    src = file.read() # Сохраним содержимое файла в переменную\n",
    "\n",
    "# И прочитаем это содержимое\n",
    "# print(src)"
   ]
  },
  {
   "cell_type": "code",
   "execution_count": 6,
   "metadata": {
    "collapsed": true,
    "jupyter": {
     "outputs_hidden": true
    }
   },
   "outputs": [
    {
     "name": "stdout",
     "output_type": "stream",
     "text": [
      "<!DOCTYPE html>\n",
      "<html lang=\"en\">\n",
      "<head>\n",
      "    <meta charset=\"UTF-8\">\n",
      "    <title>Главная страница блога</title>\n",
      "    <link rel=\"stylesheet\" href=\"style.css\">\n",
      "</head>\n",
      "<body>\n",
      "<div class=\"container\">\n",
      "    <h1>Страница пользователя Mr. Anderson</h1>\n",
      "    <div class=\"user__data\">\n",
      "        <div class=\"user__avatar\">\n",
      "            <img src=\"user_avatar.jpg\" alt=\"\">\n",
      "        </div>\n",
      "        <div class=\"user__info\">\n",
      "            <div class=\"user__name\">\n",
      "                <span>Mr Anderson</span>\n",
      "            </div>\n",
      "            <div class=\"user__birth__date\">\n",
      "                <span>Дата рождения:</span>\n",
      "                <span>01.01.1970</span>\n",
      "            </div>\n",
      "            <div class=\"user__city\">\n",
      "                <span class=\"city__label\">Город:</span>\n",
      "                <span>Los Angeles</span>\n",
      "            </div>\n",
      "            <div class=\"social__networks\">\n",
      "                <p>Ссылки на соц.сети:</p>\n",
      "                <ul>\n",
      "                    <li>\n",
      "                        <a href=\"http://instagram.com/username\">Instagram</a>\n",
      "                    </li>\n",
      "                    <li>\n",
      "                        <a href=\"http://twitter.com/username\">Twitter</a>\n",
      "                    </li>\n",
      "                    <li>\n",
      "                        <a href=\"http://youtube.com/username\">Youtube</a>\n",
      "                    </li>\n",
      "                </ul>\n",
      "            </div>\n",
      "        </div>\n",
      "    </div>\n",
      "    <div class=\"user__blog__wall\">\n",
      "        <div class=\"blog__title\">Блог</div>\n",
      "        <div class=\"user__post\">\n",
      "            <div class=\"user__post__info\">\n",
      "                <div class=\"post__title\">\n",
      "                    <h3>Российская нейросеть сортирует пластик с точностью 95%</h3>\n",
      "                </div>\n",
      "                <div class=\"post__text\">\n",
      "                    Lorem ipsum dolor sit amet, consectetur adipiscing elit, sed do eiusmod tempor incididunt ut labore\n",
      "                    et dolore magna aliqua. Vitae justo eget magna fermentum iaculis eu. Nibh sit amet commodo nulla\n",
      "                    facilisi nullam vehicula ipsum. Elit pellentesque habitant morbi tristique senectus et netus et\n",
      "                    malesuada.\n",
      "                </div>\n",
      "            </div>\n",
      "        </div>\n",
      "        <div class=\"user__post\">\n",
      "            <div class=\"user__post__info\">\n",
      "                <div class=\"post__title\">\n",
      "                    <h3>Wi-Fi Hack</h3>\n",
      "                </div>\n",
      "                <div class=\"post__text\">\n",
      "                    Semper risus in hendrerit gravida rutrum quisque. Imperdiet sed euismod nisi porta lorem mollis\n",
      "                    aliquam. Blandit massa enim nec dui nunc mattis enim. Enim neque volutpat ac tincidunt vitae semper.\n",
      "                </div>\n",
      "            </div>\n",
      "        </div>\n",
      "        <div class=\"user__post\">\n",
      "            <div class=\"user__post__info\">\n",
      "                <div class=\"post__title\">\n",
      "                    <h3>Twitter будет банить пользователей, которые желают смерти другим</h3>\n",
      "                </div>\n",
      "                <div class=\"post__text\">\n",
      "                    Lobortis scelerisque fermentum dui faucibus in ornare quam viverra orci. Eget lorem dolor sed\n",
      "                    viverra ipsum nunc aliquet. Nunc id cursus metus aliquam eleifend mi in nulla. Aliquam id diam\n",
      "                    maecenas ultricies mi eget mauris pharetra. Ut tortor pretium viverra suspendisse potenti.\n",
      "                </div>\n",
      "            </div>\n",
      "        </div>\n",
      "    </div>\n",
      "</div>\n",
      "</body>\n",
      "</html>\n"
     ]
    }
   ],
   "source": [
    "# Для начала работы нужно открыть файл нашей страницы:\n",
    "\n",
    "# Всем у кого открывается набор символов, вместо русского языка!\n",
    "# Нужно перекодировать файл в кодировку UTF-8 добавив в первую строчку команду encoding=\"utf-8\".\n",
    "# Вот таким образом: with open('blank/index.html', encoding=\"utf-8\") as file:\n",
    "\n",
    "# for Windows\n",
    "# with open('D:/father/Programs/OSPanel/domains/parsing/lesson_1/blank/index.html', encoding='utf-8') as file:\n",
    "# for mac\n",
    "with open('data/index.html', encoding='utf-8') as file:\n",
    "    src = file.read() # Сохраним содержимое файла в переменную\n",
    "\n",
    "# И прочитаем это содержимое\n",
    "print(src)"
   ]
  },
  {
   "cell_type": "code",
   "execution_count": 5,
   "metadata": {},
   "outputs": [],
   "source": [
    "# Чтобы пользоваться методами библиотеки BEAUTIFULSOUP нужно открыть нашу переменную в этой библиотеке\n",
    "# (Преобразовать код в дерево объектов Python)\n",
    "soup = BeautifulSoup(src, \"lxml\")\n",
    "\n",
    "# LXML - это название название парсера (считается самым быстрым)\n",
    "# В стандартной установке его нет (надо устанавливать отдельно)\n",
    "# !pip install lxml"
   ]
  },
  {
   "cell_type": "code",
   "execution_count": 6,
   "metadata": {},
   "outputs": [
    {
     "name": "stdout",
     "output_type": "stream",
     "text": [
      "<title>Главная страница блога</title>\n",
      "Главная страница блога\n",
      "Главная страница блога\n"
     ]
    }
   ],
   "source": [
    "# Получаем информацию из тэга TITLE\n",
    "title = soup.title\n",
    "print(title)\n",
    "print(title.text) # Текстовое содержимое тэга\n",
    "print(title.string) # То же самое"
   ]
  },
  {
   "cell_type": "code",
   "execution_count": 11,
   "metadata": {},
   "outputs": [],
   "source": [
    "with open('D:/father/Programs/OSPanel/domains/parsing/lesson_1/blank/index2.html', encoding='utf-8') as file:\n",
    "    src2 = file.read() # Сохраним содержимое файла в переменную"
   ]
  },
  {
   "cell_type": "code",
   "execution_count": 12,
   "metadata": {},
   "outputs": [],
   "source": [
    "soup2 = BeautifulSoup(src2, \"lxml\")"
   ]
  },
  {
   "cell_type": "markdown",
   "metadata": {},
   "source": [
    "### Методы .find() и .find_all()\n",
    "\n",
    "##### Работают сверху вниз"
   ]
  },
  {
   "cell_type": "code",
   "execution_count": 8,
   "metadata": {},
   "outputs": [
    {
     "name": "stdout",
     "output_type": "stream",
     "text": [
      "<h1>Страница пользователя Mr. Anderson</h1>\n",
      "Страница пользователя Mr. Anderson\n"
     ]
    }
   ],
   "source": [
    "# Метод .find() находит самый первый встретившийся объект\n",
    "\n",
    "page_h1 = soup.find(\"h1\")\n",
    "print(page_h1)\n",
    "print(page_h1.text)"
   ]
  },
  {
   "cell_type": "code",
   "execution_count": 10,
   "metadata": {},
   "outputs": [
    {
     "name": "stdout",
     "output_type": "stream",
     "text": [
      "[<h1>Страница пользователя Mr. Anderson</h1>]\n"
     ]
    }
   ],
   "source": [
    "# Метод .find_all() находит все обекты на странице\n",
    "\n",
    "page_all_h1 = soup.find_all(\"h1\")\n",
    "print(page_all_h1)\n",
    "# print(page_all_h1.text)"
   ]
  },
  {
   "cell_type": "code",
   "execution_count": 13,
   "metadata": {},
   "outputs": [
    {
     "name": "stdout",
     "output_type": "stream",
     "text": [
      "<h1>Страница пользователя Mr. Anderson</h1>\n",
      "Страница пользователя Mr. Anderson\n",
      "-----------------\n",
      "[<h1>Страница пользователя Mr. Anderson</h1>, <h1>Ещё один h1 заголовок</h1>]\n"
     ]
    }
   ],
   "source": [
    "# Метод .find() находит самый первый встретившийся объект\n",
    "\n",
    "page_h1_2 = soup2.find(\"h1\")\n",
    "print(page_h1_2)\n",
    "print(page_h1_2.text)\n",
    "print('-----------------')\n",
    "\n",
    "# Метод .find_all() находит все обекты на странице\n",
    "\n",
    "page_all_h1_2 = soup2.find_all(\"h1\")\n",
    "print(page_all_h1_2)\n",
    "# print(page_all_h1.text)"
   ]
  },
  {
   "cell_type": "code",
   "execution_count": 14,
   "metadata": {},
   "outputs": [
    {
     "name": "stdout",
     "output_type": "stream",
     "text": [
      "Страница пользователя Mr. Anderson\n",
      "Ещё один h1 заголовок\n"
     ]
    }
   ],
   "source": [
    "# Перебор всех искомых элементов в цикле:\n",
    "for item in page_all_h1_2:\n",
    "    print(item.text)"
   ]
  },
  {
   "cell_type": "code",
   "execution_count": 16,
   "metadata": {},
   "outputs": [
    {
     "name": "stdout",
     "output_type": "stream",
     "text": [
      "Страница пользователя Mr. Anderson\n",
      "Ещё один h1 заголовок\n"
     ]
    },
    {
     "data": {
      "text/plain": [
       "[None, None]"
      ]
     },
     "execution_count": 16,
     "metadata": {},
     "output_type": "execute_result"
    }
   ],
   "source": [
    "# Magic\n",
    "# soup = BeautifulSoup(res.text, 'html')\n",
    "# links = soup.find_all('a')\n",
    "\n",
    "# Чтобы извлечь из ссылки текст:\n",
    "[print(x.text) for x in page_all_h1_2]"
   ]
  },
  {
   "cell_type": "code",
   "execution_count": 19,
   "metadata": {},
   "outputs": [
    {
     "name": "stdout",
     "output_type": "stream",
     "text": [
      "-----------------\n",
      "<div class=\"user__name\">\n",
      "<span>Mr Anderson</span>\n",
      "</div>\n",
      "-----------------\n",
      "\n",
      "Mr Anderson\n",
      "\n",
      "-----------------\n",
      "Mr Anderson\n",
      "-----------------\n"
     ]
    }
   ],
   "source": [
    "# \n",
    "user_name = soup.find(\"div\", class_=\"user__name\")\n",
    "print('-----------------')\n",
    "print(user_name)\n",
    "print('-----------------')\n",
    "print(user_name.text)\n",
    "print('-----------------')\n",
    "print(user_name.text.strip())\n",
    "print('-----------------')"
   ]
  },
  {
   "cell_type": "code",
   "execution_count": 25,
   "metadata": {},
   "outputs": [
    {
     "name": "stdout",
     "output_type": "stream",
     "text": [
      "Mr Anderson\n"
     ]
    }
   ],
   "source": [
    "# Двигаемся по цепочке вглубь кода, чтобы найти нужный элемент кода\n",
    "user_name = soup.find(\"div\", class_=\"user__name\").find(\"span\").text\n",
    "print(user_name)"
   ]
  },
  {
   "cell_type": "code",
   "execution_count": 28,
   "metadata": {},
   "outputs": [
    {
     "name": "stdout",
     "output_type": "stream",
     "text": [
      "Mr Anderson\n"
     ]
    }
   ],
   "source": [
    "# Вторым способом фильтрации атрибутов поиска является передача словаря\n",
    "user_name = soup2.find(\"div\", {\"class\": \"user__name\", \"id\": \"aaa\"}).find(\"span\").text\n",
    "print(user_name)"
   ]
  },
  {
   "cell_type": "code",
   "execution_count": 29,
   "metadata": {},
   "outputs": [
    {
     "name": "stdout",
     "output_type": "stream",
     "text": [
      "[<span>Mr Anderson</span>, <span>Дата рождения:</span>, <span>01.01.1970</span>, <span class=\"city__label\">Город:</span>, <span>Los Angeles</span>]\n"
     ]
    }
   ],
   "source": [
    "# \n",
    "find_all_spans_in_user_info = soup.find(class_=\"user__info\").find_all(\"span\")\n",
    "print(find_all_spans_in_user_info)"
   ]
  },
  {
   "cell_type": "code",
   "execution_count": 30,
   "metadata": {},
   "outputs": [
    {
     "name": "stdout",
     "output_type": "stream",
     "text": [
      "Mr Anderson\n",
      "Дата рождения:\n",
      "01.01.1970\n",
      "Город:\n",
      "Los Angeles\n"
     ]
    }
   ],
   "source": [
    "# \n",
    "for item in find_all_spans_in_user_info:\n",
    "    print(item.text)"
   ]
  },
  {
   "cell_type": "code",
   "execution_count": 31,
   "metadata": {},
   "outputs": [
    {
     "name": "stdout",
     "output_type": "stream",
     "text": [
      "<span>Mr Anderson</span>\n",
      "01.01.1970\n"
     ]
    }
   ],
   "source": [
    "# \n",
    "print(find_all_spans_in_user_info[0])\n",
    "print(find_all_spans_in_user_info[2].text)"
   ]
  },
  {
   "cell_type": "code",
   "execution_count": 32,
   "metadata": {},
   "outputs": [
    {
     "name": "stdout",
     "output_type": "stream",
     "text": [
      "[<a href=\"http://instagram.com/username\">Instagram</a>, <a href=\"http://twitter.com/username\">Twitter</a>, <a href=\"http://youtube.com/username\">Youtube</a>]\n"
     ]
    }
   ],
   "source": [
    "# ПЕРВЫЙ способ поиска элементов в коде - последовательный (углубляемся внутрь кода):\n",
    "social_links = soup.find(class_=\"social__networks\").find(\"ul\").find_all(\"a\")\n",
    "print(social_links)"
   ]
  },
  {
   "cell_type": "code",
   "execution_count": 33,
   "metadata": {},
   "outputs": [
    {
     "name": "stdout",
     "output_type": "stream",
     "text": [
      "[<a href=\"http://instagram.com/username\">Instagram</a>, <a href=\"http://twitter.com/username\">Twitter</a>, <a href=\"http://youtube.com/username\">Youtube</a>]\n"
     ]
    }
   ],
   "source": [
    "# ВТОРОЙ способ при помощи метода FIND_ALL:\n",
    "all_a = soup.find_all(\"a\")\n",
    "print(all_a)"
   ]
  },
  {
   "cell_type": "code",
   "execution_count": 34,
   "metadata": {},
   "outputs": [
    {
     "name": "stdout",
     "output_type": "stream",
     "text": [
      "Instagram: http://instagram.com/username\n",
      "Twitter: http://twitter.com/username\n",
      "Youtube: http://youtube.com/username\n"
     ]
    }
   ],
   "source": [
    "# Находим в тэге А полезную информацию - текст и ссылку\n",
    "for item in all_a:\n",
    "    item_text = item.text\n",
    "    item_url = item.get(\"href\")\n",
    "    print(f\"{item_text}: {item_url}\")"
   ]
  },
  {
   "cell_type": "markdown",
   "metadata": {},
   "source": [
    "## Для перемещения по DOM-дереву есть ещё несколько полезных методов:"
   ]
  },
  {
   "cell_type": "markdown",
   "metadata": {},
   "source": [
    "### Методы .find_parent() и .find_parents()"
   ]
  },
  {
   "cell_type": "code",
   "execution_count": 35,
   "metadata": {},
   "outputs": [
    {
     "name": "stdout",
     "output_type": "stream",
     "text": [
      "<div class=\"user__post__info\">\n",
      "<div class=\"post__title\">\n",
      "<h3>Российская нейросеть сортирует пластик с точностью 95%</h3>\n",
      "</div>\n",
      "<div class=\"post__text\">\n",
      "                    Lorem ipsum dolor sit amet, consectetur adipiscing elit, sed do eiusmod tempor incididunt ut labore\n",
      "                    et dolore magna aliqua. Vitae justo eget magna fermentum iaculis eu. Nibh sit amet commodo nulla\n",
      "                    facilisi nullam vehicula ipsum. Elit pellentesque habitant morbi tristique senectus et netus et\n",
      "                    malesuada.\n",
      "                </div>\n",
      "</div>\n"
     ]
    }
   ],
   "source": [
    "# Определяем ПЕРВОГО родителя искомого блока (вместе со всеми находящимися в родительском блоке элементами)\n",
    "post_div = soup.find(class_=\"post__text\").find_parent()\n",
    "print(post_div)"
   ]
  },
  {
   "cell_type": "code",
   "execution_count": 36,
   "metadata": {},
   "outputs": [
    {
     "name": "stdout",
     "output_type": "stream",
     "text": [
      "<div class=\"user__post\">\n",
      "<div class=\"user__post__info\">\n",
      "<div class=\"post__title\">\n",
      "<h3>Российская нейросеть сортирует пластик с точностью 95%</h3>\n",
      "</div>\n",
      "<div class=\"post__text\">\n",
      "                    Lorem ipsum dolor sit amet, consectetur adipiscing elit, sed do eiusmod tempor incididunt ut labore\n",
      "                    et dolore magna aliqua. Vitae justo eget magna fermentum iaculis eu. Nibh sit amet commodo nulla\n",
      "                    facilisi nullam vehicula ipsum. Elit pellentesque habitant morbi tristique senectus et netus et\n",
      "                    malesuada.\n",
      "                </div>\n",
      "</div>\n",
      "</div>\n"
     ]
    }
   ],
   "source": [
    "# При уточнении параметров поиска поднимаемся вверх по коду и определяем ОПРЕДЕЛЁННОГО родителя\n",
    "post_div = soup.find(class_=\"post__text\").find_parent(\"div\", \"user__post\")\n",
    "print(post_div)"
   ]
  },
  {
   "cell_type": "code",
   "execution_count": 1,
   "metadata": {},
   "outputs": [
    {
     "ename": "NameError",
     "evalue": "name 'soup' is not defined",
     "output_type": "error",
     "traceback": [
      "\u001b[0;31m---------------------------------------------------------------------------\u001b[0m",
      "\u001b[0;31mNameError\u001b[0m                                 Traceback (most recent call last)",
      "Cell \u001b[0;32mIn[1], line 2\u001b[0m\n\u001b[1;32m      1\u001b[0m \u001b[38;5;66;03m# КОНКРЕТНЫЙ родитель\u001b[39;00m\n\u001b[0;32m----> 2\u001b[0m post_divs \u001b[38;5;241m=\u001b[39m \u001b[43msoup\u001b[49m\u001b[38;5;241m.\u001b[39mfind(class_\u001b[38;5;241m=\u001b[39m\u001b[38;5;124m\"\u001b[39m\u001b[38;5;124mpost__text\u001b[39m\u001b[38;5;124m\"\u001b[39m)\u001b[38;5;241m.\u001b[39mfind_parents(\u001b[38;5;124m\"\u001b[39m\u001b[38;5;124mdiv\u001b[39m\u001b[38;5;124m\"\u001b[39m, \u001b[38;5;124m\"\u001b[39m\u001b[38;5;124muser__post\u001b[39m\u001b[38;5;124m\"\u001b[39m)\n\u001b[1;32m      3\u001b[0m \u001b[38;5;66;03m# print(post_divs)\u001b[39;00m\n",
      "\u001b[0;31mNameError\u001b[0m: name 'soup' is not defined"
     ]
    }
   ],
   "source": [
    "# КОНКРЕТНЫЙ родитель\n",
    "post_divs = soup.find(class_=\"post__text\").find_parents(\"div\", \"user__post\")\n",
    "# print(post_divs)"
   ]
  },
  {
   "cell_type": "code",
   "execution_count": 7,
   "metadata": {},
   "outputs": [
    {
     "ename": "NameError",
     "evalue": "name 'soup' is not defined",
     "output_type": "error",
     "traceback": [
      "\u001b[0;31m---------------------------------------------------------------------------\u001b[0m",
      "\u001b[0;31mNameError\u001b[0m                                 Traceback (most recent call last)",
      "Cell \u001b[0;32mIn[7], line 2\u001b[0m\n\u001b[1;32m      1\u001b[0m \u001b[38;5;66;03m# Все родительские теги включая BODY и HTML\u001b[39;00m\n\u001b[0;32m----> 2\u001b[0m post_divs \u001b[38;5;241m=\u001b[39m \u001b[43msoup\u001b[49m\u001b[38;5;241m.\u001b[39mfind(class_\u001b[38;5;241m=\u001b[39m\u001b[38;5;124m\"\u001b[39m\u001b[38;5;124mpost__text\u001b[39m\u001b[38;5;124m\"\u001b[39m)\u001b[38;5;241m.\u001b[39mfind_parents()\n\u001b[1;32m      3\u001b[0m \u001b[38;5;66;03m# print(post_divs)\u001b[39;00m\n",
      "\u001b[0;31mNameError\u001b[0m: name 'soup' is not defined"
     ]
    }
   ],
   "source": [
    "# Все родительские теги включая BODY и HTML\n",
    "post_divs = soup.find(class_=\"post__text\").find_parents()\n",
    "# print(post_divs)"
   ]
  },
  {
   "cell_type": "markdown",
   "metadata": {},
   "source": [
    "### Методы .next_element и .find_next();   .previous_element и .find_previous()"
   ]
  },
  {
   "cell_type": "code",
   "execution_count": 40,
   "metadata": {},
   "outputs": [
    {
     "name": "stdout",
     "output_type": "stream",
     "text": [
      "-----------------\n",
      "\n",
      "\n",
      "-----------------\n"
     ]
    }
   ],
   "source": [
    "# Ищет следующий от указанного элемент кода - в данном случае - это ПЕРЕНОС СТРОКИ !!!!\n",
    "next_el = soup.find(class_=\"post__title\").next_element\n",
    "print('-----------------')\n",
    "print(next_el)\n",
    "print('-----------------')"
   ]
  },
  {
   "cell_type": "code",
   "execution_count": 41,
   "metadata": {},
   "outputs": [
    {
     "name": "stdout",
     "output_type": "stream",
     "text": [
      "-----------------\n",
      "<h3>Российская нейросеть сортирует пластик с точностью 95%</h3>\n",
      "-----------------\n"
     ]
    }
   ],
   "source": [
    "# Чтобы добиться желаемого ркзультата - повторяем этот метод\n",
    "next_el = soup.find(class_=\"post__title\").next_element.next_element\n",
    "print('-----------------')\n",
    "print(next_el)\n",
    "print('-----------------')"
   ]
  },
  {
   "cell_type": "code",
   "execution_count": 42,
   "metadata": {},
   "outputs": [
    {
     "name": "stdout",
     "output_type": "stream",
     "text": [
      "-----------------\n",
      "Российская нейросеть сортирует пластик с точностью 95%\n",
      "-----------------\n"
     ]
    }
   ],
   "source": [
    "# Вытягиваем из элемента текст\n",
    "next_el = soup.find(class_=\"post__title\").next_element.next_element.text\n",
    "print('-----------------')\n",
    "print(next_el)\n",
    "print('-----------------')"
   ]
  },
  {
   "cell_type": "code",
   "execution_count": 43,
   "metadata": {},
   "outputs": [
    {
     "name": "stdout",
     "output_type": "stream",
     "text": [
      "-----------------\n",
      "Российская нейросеть сортирует пластик с точностью 95%\n",
      "-----------------\n"
     ]
    }
   ],
   "source": [
    "# Похожий метод, который СРАЗУ возвращает следующий элемент\n",
    "next_el = soup.find(class_=\"post__title\").find_next().text\n",
    "print('-----------------')\n",
    "print(next_el)\n",
    "print('-----------------')"
   ]
  },
  {
   "cell_type": "code",
   "execution_count": 46,
   "metadata": {},
   "outputs": [
    {
     "name": "stdout",
     "output_type": "stream",
     "text": [
      "-----------------\n",
      "\n",
      "\n",
      "Российская нейросеть сортирует пластик с точностью 95%\n",
      "\n",
      "\n",
      "                    Lorem ipsum dolor sit amet, consectetur adipiscing elit, sed do eiusmod tempor incididunt ut labore\n",
      "                    et dolore magna aliqua. Vitae justo eget magna fermentum iaculis eu. Nibh sit amet commodo nulla\n",
      "                    facilisi nullam vehicula ipsum. Elit pellentesque habitant morbi tristique senectus et netus et\n",
      "                    malesuada.\n",
      "                \n",
      "\n",
      "-----------------\n"
     ]
    }
   ],
   "source": [
    "# Метод PREVIOUS() - полная противоположность - возвращает предыдущий элемент\n",
    "prev_el = soup.find(class_=\"post__title\").previous_element.previous_element.text\n",
    "print('-----------------')\n",
    "print(prev_el)\n",
    "print('-----------------')"
   ]
  },
  {
   "cell_type": "markdown",
   "metadata": {},
   "source": [
    "### Методы .find_next_sibling() и .find_previous_sibling()"
   ]
  },
  {
   "cell_type": "code",
   "execution_count": 50,
   "metadata": {},
   "outputs": [
    {
     "name": "stdout",
     "output_type": "stream",
     "text": [
      "<div class=\"post__date\">\n",
      "                    01.01.2020\n",
      "                </div>\n"
     ]
    }
   ],
   "source": [
    "# Возвращают следующий и предыдущий элементы внутри искомого кода\n",
    "next_sib = soup2.find(class_=\"post__title\").find_next_sibling()\n",
    "print(next_sib)"
   ]
  },
  {
   "cell_type": "code",
   "execution_count": 51,
   "metadata": {},
   "outputs": [
    {
     "name": "stdout",
     "output_type": "stream",
     "text": [
      "<div class=\"post__title\">\n",
      "<h3>Российская нейросеть сортирует пластик с точностью 95%</h3>\n",
      "</div>\n"
     ]
    }
   ],
   "source": [
    "# \n",
    "prev_sib = soup2.find(class_=\"post__date\").find_previous_sibling()\n",
    "print(prev_sib)"
   ]
  },
  {
   "cell_type": "code",
   "execution_count": 52,
   "metadata": {},
   "outputs": [
    {
     "name": "stdout",
     "output_type": "stream",
     "text": [
      "Российская нейросеть сортирует пластик с точностью 95%\n"
     ]
    }
   ],
   "source": [
    "# \n",
    "post_title = soup2.find(class_=\"post__date\").find_previous_sibling().find_next().text\n",
    "print(post_title)"
   ]
  },
  {
   "cell_type": "code",
   "execution_count": null,
   "metadata": {},
   "outputs": [],
   "source": [
    "# \n"
   ]
  },
  {
   "cell_type": "markdown",
   "metadata": {},
   "source": [
    "### Практикуемся в поиске ссылок с помощью метода FIND_ALL()"
   ]
  },
  {
   "cell_type": "code",
   "execution_count": 54,
   "metadata": {},
   "outputs": [
    {
     "name": "stdout",
     "output_type": "stream",
     "text": [
      "[<a data-attr=\"shop_link\" href=\"/supermarket/\">Магазин</a>, <a data-attr=\"777\" href=\"/clothes/\">Одежда для взрослых</a>]\n"
     ]
    }
   ],
   "source": [
    "# Определяем все ссылки:\n",
    "links = soup2.find(class_=\"some__links\").find_all(\"a\")\n",
    "print(links)"
   ]
  },
  {
   "cell_type": "code",
   "execution_count": 60,
   "metadata": {},
   "outputs": [
    {
     "name": "stdout",
     "output_type": "stream",
     "text": [
      "shop_link /supermarket/\n",
      "shop_link /supermarket/\n",
      "\n",
      "shop_link: /supermarket/\n",
      "shop_link: /supermarket/\n",
      "-----------------\n",
      "777 /clothes/\n",
      "777 /clothes/\n",
      "\n",
      "777: /clothes/\n",
      "777: /clothes/\n",
      "-----------------\n"
     ]
    }
   ],
   "source": [
    "# \n",
    "for link in links:\n",
    "    link_href_attr = link.get(\"href\") # С помощью метода GET\n",
    "    link_href_attr1 = link[\"href\"] # Непосредственно обращаясь к атрибуту\n",
    "\n",
    "    link_data_attr = link.get(\"data-attr\") # С помощью метода GET\n",
    "    link_data_attr1 = link[\"data-attr\"] # Непосредственно обращаясь к атрибуту\n",
    "\n",
    "#     print(link_href_attr1)\n",
    "#     print(link_data_attr1)\n",
    "    \n",
    "    print(link_data_attr1, link_href_attr1)\n",
    "    print(link_data_attr, link_href_attr)\n",
    "    print()\n",
    "    print(f\"{link_data_attr1}: {link_href_attr1}\")\n",
    "    print(f\"{link_data_attr}: {link_href_attr}\")\n",
    "    print('-----------------')"
   ]
  },
  {
   "cell_type": "code",
   "execution_count": 57,
   "metadata": {},
   "outputs": [
    {
     "name": "stdout",
     "output_type": "stream",
     "text": [
      "777: /clothes/\n"
     ]
    }
   ],
   "source": [
    "# F-функция\n",
    "print(f\"{link_data_attr1}: {link_href_attr1}\")"
   ]
  },
  {
   "cell_type": "code",
   "execution_count": null,
   "metadata": {},
   "outputs": [],
   "source": []
  },
  {
   "cell_type": "code",
   "execution_count": 62,
   "metadata": {},
   "outputs": [
    {
     "name": "stdout",
     "output_type": "stream",
     "text": [
      "None\n"
     ]
    }
   ],
   "source": [
    "# Можно искать элементы, передавая в параметр текст. НО... есть нюансы\n",
    "find_a_by_text = soup2.find(\"a\", text=\"Одежда\")\n",
    "print(find_a_by_text)"
   ]
  },
  {
   "cell_type": "code",
   "execution_count": 63,
   "metadata": {},
   "outputs": [
    {
     "name": "stdout",
     "output_type": "stream",
     "text": [
      "<a data-attr=\"777\" href=\"/clothes/\">Одежда для взрослых</a>\n"
     ]
    }
   ],
   "source": [
    "# Ищет только по точному совпадению текста\n",
    "find_a_by_text = soup2.find(\"a\", text=\"Одежда для взрослых\")\n",
    "print(find_a_by_text)"
   ]
  },
  {
   "cell_type": "code",
   "execution_count": 65,
   "metadata": {},
   "outputs": [
    {
     "name": "stdout",
     "output_type": "stream",
     "text": [
      "<a data-attr=\"777\" href=\"/clothes/\">Одежда для взрослых</a>\n",
      "Одежда для взрослых\n"
     ]
    }
   ],
   "source": [
    "# Можно воспользоваться крутым методом '.COMPILE()' из модуля регулярных выражений 'RE'\n",
    "find_a_by_text = soup2.find(\"a\", text=re.compile(\"Одежда\"))\n",
    "print(find_a_by_text)\n",
    "print(find_a_by_text.text)"
   ]
  },
  {
   "cell_type": "code",
   "execution_count": 66,
   "metadata": {},
   "outputs": [
    {
     "name": "stdout",
     "output_type": "stream",
     "text": [
      "['Wi-Fi Hack одежда', 'Одежда для взрослых']\n"
     ]
    }
   ],
   "source": [
    "# Если нужно собрать все блоки, которые имеют слово 'Одежда'\n",
    "find_all_clothes = soup2.find_all(text=re.compile(\"([Оо]дежда)\"))\n",
    "print(find_all_clothes)"
   ]
  },
  {
   "cell_type": "code",
   "execution_count": null,
   "metadata": {},
   "outputs": [],
   "source": []
  },
  {
   "cell_type": "markdown",
   "metadata": {},
   "source": [
    "##  УРОК 2 | Парсинг сайтов | Выполняем заказ на фрилансе"
   ]
  },
  {
   "cell_type": "code",
   "execution_count": null,
   "metadata": {},
   "outputs": [],
   "source": [
    "# https://www.youtube.com/watch?v=ks64MvZJe0w"
   ]
  },
  {
   "cell_type": "code",
   "execution_count": 1,
   "metadata": {},
   "outputs": [],
   "source": [
    "# Импортируем необходимые для урока библиотеки\n",
    "import random\n",
    "from time import sleep\n",
    "import requests\n",
    "from bs4 import BeautifulSoup\n",
    "import json\n",
    "import csv"
   ]
  },
  {
   "cell_type": "code",
   "execution_count": 2,
   "metadata": {},
   "outputs": [],
   "source": [
    "# Создаём переменные-КОНСТАНТЫ\n",
    "HOST = 'https://health-diet.ru'\n",
    "URL = 'https://health-diet.ru/table_calorie/?utm_source=leftMenu&utm_medium=table_calorie'\n",
    "HEADERS = {\n",
    "    'accept': 'text/html,application/xhtml+xml,application/xml;q=0.9,image/avif,image/webp,image/apng,*/*;q=0.8,application/signed-exchange;v=b3;q=0.9',\n",
    "    'user-agent': 'Mozilla/5.0 (Windows NT 10.0; Win64; x64) AppleWebKit/537.36 (KHTML, like Gecko) Chrome/109.0.0.0 Safari/537.36'\n",
    "}\n",
    "CSV = 'catalog.csv'"
   ]
  },
  {
   "cell_type": "code",
   "execution_count": 68,
   "metadata": {},
   "outputs": [],
   "source": [
    "# URL-ссылка на страницу с категориями продуктов и калориями\n",
    "# url = \"https://health-diet.ru/table_calorie/?utm_source=leftMenu&utm_medium=table_calorie\""
   ]
  },
  {
   "cell_type": "code",
   "execution_count": 69,
   "metadata": {},
   "outputs": [],
   "source": [
    "# Это нужно для некоторых сайтов (но не для всех - для этого необязательно)\n",
    "# чтобы показать сайту, что ВЫ НЕ БОТ, а обычный пользователь\n",
    "# headers = {\n",
    "#     \"Accept\": \"text/html,application/xhtml+xml,application/xml;q=0.9,image/avif,image/webp,image/apng,*/*;q=0.8,application/signed-exchange;v=b3;q=0.9\",\n",
    "#     \"User-Agent\": \"Mozilla/5.0 (Windows NT 10.0; Win64; x64) AppleWebKit/537.36 (KHTML, like Gecko) Chrome/109.0.0.0 Safari/537.36\"\n",
    "# }"
   ]
  },
  {
   "cell_type": "code",
   "execution_count": 3,
   "metadata": {},
   "outputs": [],
   "source": [
    "# Переменная возвращает результат работы метода GET библиотеки REQUESTS\n",
    "req = requests.get(url=URL, headers=HEADERS)\n",
    "src = req.text\n",
    "# print(src)"
   ]
  },
  {
   "cell_type": "markdown",
   "metadata": {},
   "source": [
    "#### Желательно сохранять эту информацию на время написания программы,\n",
    "##### так как многие сайты не любят, когда их парсят\n",
    "##### и велика вероятность получить БАН или ограничение по времени за большое количество запросов"
   ]
  },
  {
   "cell_type": "code",
   "execution_count": 4,
   "metadata": {},
   "outputs": [],
   "source": [
    "# Сохраним нашу страницу в файл И ЗАКОММЕНТИРУЕМ ЭТУ КОМАНДУ за ненадобностью\n",
    "# with open(\"../data/interim/html/index_diet.html\", \"w\", encoding=\"utf-8\") as file:\n",
    "#     file.write(src)"
   ]
  },
  {
   "cell_type": "code",
   "execution_count": 5,
   "metadata": {},
   "outputs": [],
   "source": [
    "# Теперь откроем наш файл, прочитаем и сохраним код страницы в переменную:\n",
    "with open(\"../data/interim/html/index_diet.html\", encoding=\"utf-8\") as file:\n",
    "    src = file.read()\n",
    "# print(src)\n",
    "    \n",
    "# В Windows в шапке в одной ячейке указаны через запятую - Продукт,Калорийность,Белки,Жиры,Углеводы. \n",
    "# Чтобы разместить правильно по ячейкам указываем\n",
    "# with open(f'data/{count}_{category_name}.csv', 'w', encoding='utf-8-sig') as file:\n",
    "#        writer = csv.writer(file, delimiter=';')"
   ]
  },
  {
   "cell_type": "code",
   "execution_count": 6,
   "metadata": {},
   "outputs": [],
   "source": [
    "# Передадим нашу переменную в объект СУПа, объявим самый быстрый парсер LXML и приступим к сбору данных\n",
    "soup = BeautifulSoup(src, \"lxml\")\n",
    "\n",
    "# Определяем классы элементов, которые нас интересуют\n",
    "all_products_hrefs = soup.find_all(class_=\"mzr-tc-group-item-href\")"
   ]
  },
  {
   "cell_type": "code",
   "execution_count": 7,
   "metadata": {
    "collapsed": true,
    "jupyter": {
     "outputs_hidden": true
    }
   },
   "outputs": [
    {
     "name": "stdout",
     "output_type": "stream",
     "text": [
      "<a class=\"mzr-tc-group-item-href\" href=\"/base_of_food/food_24507/\" title=\"Химический состав продукта: Баранина и дичь\">Баранина и дичь</a>\n",
      "<a class=\"mzr-tc-group-item-href\" href=\"/base_of_food/food_24523/\" title=\"Химический состав продукта: Бобовые\">Бобовые</a>\n",
      "<a class=\"mzr-tc-group-item-href\" href=\"/base_of_food/food_24509/\" title=\"Химический состав продукта: Вода и напитки\">Вода и напитки</a>\n",
      "<a class=\"mzr-tc-group-item-href\" href=\"/base_of_food/food_24502/\" title=\"Химический состав продукта: Говядина и телятина\">Говядина и телятина</a>\n",
      "<a class=\"mzr-tc-group-item-href\" href=\"/base_of_food/food_24513/\" title=\"Химический состав продукта: Грибы\">Грибы</a>\n",
      "<a class=\"mzr-tc-group-item-href\" href=\"/base_of_food/food_24526/\" title=\"Химический состав продукта: Детское питание\">Детское питание</a>\n",
      "<a class=\"mzr-tc-group-item-href\" href=\"/base_of_food/food_24515/\" title=\"Химический состав продукта: Жиры и масла\">Жиры и масла</a>\n",
      "<a class=\"mzr-tc-group-item-href\" href=\"/base_of_food/food_24525/\" title=\"Химический состав продукта: Кондитерские изделия\">Кондитерские изделия</a>\n",
      "<a class=\"mzr-tc-group-item-href\" href=\"/base_of_food/food_24522/\" title=\"Химический состав продукта: Крупы, мука, макароны\">Крупы, мука, макароны</a>\n",
      "<a class=\"mzr-tc-group-item-href\" href=\"/base_of_food/food_24519/\" title=\"Химический состав продукта: Молочные продукты\">Молочные продукты</a>\n",
      "<a class=\"mzr-tc-group-item-href\" href=\"/base_of_food/food_24508/\" title=\"Химический состав продукта: Напитки алкогольные\">Напитки алкогольные</a>\n",
      "<a class=\"mzr-tc-group-item-href\" href=\"/base_of_food/food_24512/\" title=\"Химический состав продукта: Овощи и зелень\">Овощи и зелень</a>\n",
      "<a class=\"mzr-tc-group-item-href\" href=\"/base_of_food/food_24517/\" title=\"Химический состав продукта: Орехи и семена\">Орехи и семена</a>\n",
      "<a class=\"mzr-tc-group-item-href\" href=\"/base_of_food/food_24506/\" title=\"Химический состав продукта: Полуфабрикаты\">Полуфабрикаты</a>\n",
      "<a class=\"mzr-tc-group-item-href\" href=\"/base_of_food/food_24501/\" title=\"Химический состав продукта: Птица\">Птица</a>\n",
      "<a class=\"mzr-tc-group-item-href\" href=\"/base_of_food/food_24527/\" title=\"Химический состав продукта: Ресторанная еда\">Ресторанная еда</a>\n",
      "<a class=\"mzr-tc-group-item-href\" href=\"/base_of_food/food_24518/\" title=\"Химический состав продукта: Рыба и морепродукты\">Рыба и морепродукты</a>\n",
      "<a class=\"mzr-tc-group-item-href\" href=\"/base_of_food/food_24503/\" title=\"Химический состав продукта: Свинина\">Свинина</a>\n",
      "<a class=\"mzr-tc-group-item-href\" href=\"/base_of_food/food_24528/\" title=\"Химический состав продукта: Снеки\">Снеки</a>\n",
      "<a class=\"mzr-tc-group-item-href\" href=\"/base_of_food/food_24511/\" title=\"Химический состав продукта: Соки\">Соки</a>\n",
      "<a class=\"mzr-tc-group-item-href\" href=\"/base_of_food/food_24504/\" title=\"Химический состав продукта: Сосиски и колбаса\">Сосиски и колбаса</a>\n",
      "<a class=\"mzr-tc-group-item-href\" href=\"/base_of_food/food_24514/\" title=\"Химический состав продукта: Травы, специи и соусы\">Травы, специи и соусы</a>\n",
      "<a class=\"mzr-tc-group-item-href\" href=\"/base_of_food/food_24529/\" title=\"Химический состав продукта: Фаст-фуд\">Фаст-фуд</a>\n",
      "<a class=\"mzr-tc-group-item-href\" href=\"/base_of_food/food_24516/\" title=\"Химический состав продукта: Фрукты и ягоды\">Фрукты и ягоды</a>\n",
      "<a class=\"mzr-tc-group-item-href\" href=\"/base_of_food/food_24524/\" title=\"Химический состав продукта: Хлеб и выпечка\">Хлеб и выпечка</a>\n",
      "<a class=\"mzr-tc-group-item-href\" href=\"/base_of_food/food_24520/\" title=\"Химический состав продукта: Яйца и продукты из яиц\">Яйца и продукты из яиц</a>\n",
      "<a class=\"mzr-tc-group-item-href\" href=\"/base_of_meals/meals_21252/\" title=\"Химический состав продукта: Варенье и джемы\">Варенье и джемы</a>\n",
      "<a class=\"mzr-tc-group-item-href\" href=\"/base_of_meals/meals_21243/\" title=\"Химический состав продукта: Вторые блюда\">Вторые блюда</a>\n",
      "<a class=\"mzr-tc-group-item-href\" href=\"/base_of_meals/meals_21249/\" title=\"Химический состав продукта: Выпечка\">Выпечка</a>\n",
      "<a class=\"mzr-tc-group-item-href\" href=\"/base_of_meals/meals_21244/\" title=\"Химический состав продукта: Гарниры\">Гарниры</a>\n",
      "<a class=\"mzr-tc-group-item-href\" href=\"/base_of_meals/meals_21245/\" title=\"Химический состав продукта: Десерты\">Десерты</a>\n",
      "<a class=\"mzr-tc-group-item-href\" href=\"/base_of_meals/meals_21254/\" title=\"Химический состав продукта: Заготовки\">Заготовки</a>\n",
      "<a class=\"mzr-tc-group-item-href\" href=\"/base_of_meals/meals_21250/\" title=\"Химический состав продукта: Закуски\">Закуски</a>\n",
      "<a class=\"mzr-tc-group-item-href\" href=\"/base_of_meals/meals_21247/\" title=\"Химический состав продукта: Каши\">Каши</a>\n",
      "<a class=\"mzr-tc-group-item-href\" href=\"/base_of_meals/meals_21248/\" title=\"Химический состав продукта: Напитки\">Напитки</a>\n",
      "<a class=\"mzr-tc-group-item-href\" href=\"/base_of_meals/meals_21242/\" title=\"Химический состав продукта: Первые блюда\">Первые блюда</a>\n",
      "<a class=\"mzr-tc-group-item-href\" href=\"/base_of_meals/meals_21253/\" title=\"Химический состав продукта: Полуфабрикаты\">Полуфабрикаты</a>\n",
      "<a class=\"mzr-tc-group-item-href\" href=\"/base_of_meals/meals_21241/\" title=\"Химический состав продукта: Салаты\">Салаты</a>\n",
      "<a class=\"mzr-tc-group-item-href\" href=\"/base_of_meals/meals_21251/\" title=\"Химический состав продукта: Соусы и заправки\">Соусы и заправки</a>\n",
      "<a class=\"mzr-tc-group-item-href\" href=\"/base_of_food/food_108930/\" title=\"Химический состав продукта: Campina\">Campina</a>\n",
      "<a class=\"mzr-tc-group-item-href\" href=\"/base_of_food/food_103503/\" title=\"Химический состав продукта: Coca-Cola\">Coca-Cola</a>\n",
      "<a class=\"mzr-tc-group-item-href\" href=\"/base_of_food/food_120438/\" title=\"Химический состав продукта: Danone\">Danone</a>\n",
      "<a class=\"mzr-tc-group-item-href\" href=\"/base_of_food/food_120566/\" title=\"Химический состав продукта: KFC Ростик'c\">KFC Ростик'c</a>\n",
      "<a class=\"mzr-tc-group-item-href\" href=\"/base_of_food/food_111530/\" title=\"Химический состав продукта: Lay's\">Lay's</a>\n",
      "<a class=\"mzr-tc-group-item-href\" href=\"/base_of_food/food_109145/\" title=\"Химический состав продукта: Mars\">Mars</a>\n",
      "<a class=\"mzr-tc-group-item-href\" href=\"/base_of_food/food_107024/\" title=\"Химический состав продукта: Nestle\">Nestle</a>\n",
      "<a class=\"mzr-tc-group-item-href\" href=\"/base_of_food/food_120802/\" title=\"Химический состав продукта: Subway\">Subway</a>\n",
      "<a class=\"mzr-tc-group-item-href\" href=\"/base_of_food/food_100481/\" title=\"Химический состав продукта: Ашан\">Ашан</a>\n",
      "<a class=\"mzr-tc-group-item-href\" href=\"/base_of_food/food_102398/\" title=\"Химический состав продукта: Бондюэль\">Бондюэль</a>\n",
      "<a class=\"mzr-tc-group-item-href\" href=\"/base_of_food/food_120310/\" title=\"Химический состав продукта: Крошка-Картошка\">Крошка-Картошка</a>\n",
      "<a class=\"mzr-tc-group-item-href\" href=\"/base_of_food/food_124912/\" title=\"Химический состав продукта: Макдоналдс (McDonalds)\">Макдоналдс (McDonalds)</a>\n",
      "<a class=\"mzr-tc-group-item-href\" href=\"/base_of_food/food_121338/\" title=\"Химический состав продукта: Пятерочка\">Пятерочка</a>\n",
      "<a class=\"mzr-tc-group-item-href\" href=\"/base_of_food/food_114851/\" title=\"Химический состав продукта: Роллтон\">Роллтон</a>\n",
      "<a class=\"mzr-tc-group-item-href\" href=\"/base_of_food/food_124180/\" title=\"Химический состав продукта: Черкизово\">Черкизово</a>\n",
      "<a class=\"mzr-tc-group-item-href\" href=\"/base_of_food/food_117741/\" title=\"Химический состав продукта: Яшкино\">Яшкино</a>\n"
     ]
    }
   ],
   "source": [
    "# Пройдёмся циклом по нашему списку и посмотрим, что нам удалось собрать и это именно то, что нам надо\n",
    "# for item in all_products_hrefs:\n",
    "#     print(item)\n",
    "\n",
    "# И ЗАКОММЕНТИРУЕМ ЭТОТ ПРОВЕРОЧНЫЙ БЛОК"
   ]
  },
  {
   "cell_type": "code",
   "execution_count": 8,
   "metadata": {
    "collapsed": true,
    "jupyter": {
     "outputs_hidden": true
    }
   },
   "outputs": [
    {
     "name": "stdout",
     "output_type": "stream",
     "text": [
      "Баранина и дичь: https://health-diet.ru/base_of_food/food_24507/\n",
      "Бобовые: https://health-diet.ru/base_of_food/food_24523/\n",
      "Вода и напитки: https://health-diet.ru/base_of_food/food_24509/\n",
      "Говядина и телятина: https://health-diet.ru/base_of_food/food_24502/\n",
      "Грибы: https://health-diet.ru/base_of_food/food_24513/\n",
      "Детское питание: https://health-diet.ru/base_of_food/food_24526/\n",
      "Жиры и масла: https://health-diet.ru/base_of_food/food_24515/\n",
      "Кондитерские изделия: https://health-diet.ru/base_of_food/food_24525/\n",
      "Крупы, мука, макароны: https://health-diet.ru/base_of_food/food_24522/\n",
      "Молочные продукты: https://health-diet.ru/base_of_food/food_24519/\n",
      "Напитки алкогольные: https://health-diet.ru/base_of_food/food_24508/\n",
      "Овощи и зелень: https://health-diet.ru/base_of_food/food_24512/\n",
      "Орехи и семена: https://health-diet.ru/base_of_food/food_24517/\n",
      "Полуфабрикаты: https://health-diet.ru/base_of_food/food_24506/\n",
      "Птица: https://health-diet.ru/base_of_food/food_24501/\n",
      "Ресторанная еда: https://health-diet.ru/base_of_food/food_24527/\n",
      "Рыба и морепродукты: https://health-diet.ru/base_of_food/food_24518/\n",
      "Свинина: https://health-diet.ru/base_of_food/food_24503/\n",
      "Снеки: https://health-diet.ru/base_of_food/food_24528/\n",
      "Соки: https://health-diet.ru/base_of_food/food_24511/\n",
      "Сосиски и колбаса: https://health-diet.ru/base_of_food/food_24504/\n",
      "Травы, специи и соусы: https://health-diet.ru/base_of_food/food_24514/\n",
      "Фаст-фуд: https://health-diet.ru/base_of_food/food_24529/\n",
      "Фрукты и ягоды: https://health-diet.ru/base_of_food/food_24516/\n",
      "Хлеб и выпечка: https://health-diet.ru/base_of_food/food_24524/\n",
      "Яйца и продукты из яиц: https://health-diet.ru/base_of_food/food_24520/\n",
      "Варенье и джемы: https://health-diet.ru/base_of_meals/meals_21252/\n",
      "Вторые блюда: https://health-diet.ru/base_of_meals/meals_21243/\n",
      "Выпечка: https://health-diet.ru/base_of_meals/meals_21249/\n",
      "Гарниры: https://health-diet.ru/base_of_meals/meals_21244/\n",
      "Десерты: https://health-diet.ru/base_of_meals/meals_21245/\n",
      "Заготовки: https://health-diet.ru/base_of_meals/meals_21254/\n",
      "Закуски: https://health-diet.ru/base_of_meals/meals_21250/\n",
      "Каши: https://health-diet.ru/base_of_meals/meals_21247/\n",
      "Напитки: https://health-diet.ru/base_of_meals/meals_21248/\n",
      "Первые блюда: https://health-diet.ru/base_of_meals/meals_21242/\n",
      "Полуфабрикаты: https://health-diet.ru/base_of_meals/meals_21253/\n",
      "Салаты: https://health-diet.ru/base_of_meals/meals_21241/\n",
      "Соусы и заправки: https://health-diet.ru/base_of_meals/meals_21251/\n",
      "Campina: https://health-diet.ru/base_of_food/food_108930/\n",
      "Coca-Cola: https://health-diet.ru/base_of_food/food_103503/\n",
      "Danone: https://health-diet.ru/base_of_food/food_120438/\n",
      "KFC Ростик'c: https://health-diet.ru/base_of_food/food_120566/\n",
      "Lay's: https://health-diet.ru/base_of_food/food_111530/\n",
      "Mars: https://health-diet.ru/base_of_food/food_109145/\n",
      "Nestle: https://health-diet.ru/base_of_food/food_107024/\n",
      "Subway: https://health-diet.ru/base_of_food/food_120802/\n",
      "Ашан: https://health-diet.ru/base_of_food/food_100481/\n",
      "Бондюэль: https://health-diet.ru/base_of_food/food_102398/\n",
      "Крошка-Картошка: https://health-diet.ru/base_of_food/food_120310/\n",
      "Макдоналдс (McDonalds): https://health-diet.ru/base_of_food/food_124912/\n",
      "Пятерочка: https://health-diet.ru/base_of_food/food_121338/\n",
      "Роллтон: https://health-diet.ru/base_of_food/food_114851/\n",
      "Черкизово: https://health-diet.ru/base_of_food/food_124180/\n",
      "Яшкино: https://health-diet.ru/base_of_food/food_117741/\n"
     ]
    }
   ],
   "source": [
    "# Создаём переменные для текста и ссылок. Текст - получаем непосредственно, а ссылки методом GET\n",
    "# К ссылкам прикручиваем доменную постоянную часть, чтобы они отображались корректно\n",
    "\n",
    "for item in all_products_hrefs:\n",
    "    item_text = item.text\n",
    "    item_href = HOST + item.get(\"href\")\n",
    "    print(f\"{item_text}: {item_href}\")\n",
    "\n",
    "# ОТЛИЧНО !!!!!"
   ]
  },
  {
   "cell_type": "code",
   "execution_count": 9,
   "metadata": {
    "collapsed": true,
    "jupyter": {
     "outputs_hidden": true
    }
   },
   "outputs": [
    {
     "name": "stdout",
     "output_type": "stream",
     "text": [
      "{'Баранина и дичь': 'https://health-diet.ru/base_of_food/food_24507/', 'Бобовые': 'https://health-diet.ru/base_of_food/food_24523/', 'Вода и напитки': 'https://health-diet.ru/base_of_food/food_24509/', 'Говядина и телятина': 'https://health-diet.ru/base_of_food/food_24502/', 'Грибы': 'https://health-diet.ru/base_of_food/food_24513/', 'Детское питание': 'https://health-diet.ru/base_of_food/food_24526/', 'Жиры и масла': 'https://health-diet.ru/base_of_food/food_24515/', 'Кондитерские изделия': 'https://health-diet.ru/base_of_food/food_24525/', 'Крупы, мука, макароны': 'https://health-diet.ru/base_of_food/food_24522/', 'Молочные продукты': 'https://health-diet.ru/base_of_food/food_24519/', 'Напитки алкогольные': 'https://health-diet.ru/base_of_food/food_24508/', 'Овощи и зелень': 'https://health-diet.ru/base_of_food/food_24512/', 'Орехи и семена': 'https://health-diet.ru/base_of_food/food_24517/', 'Полуфабрикаты': 'https://health-diet.ru/base_of_meals/meals_21253/', 'Птица': 'https://health-diet.ru/base_of_food/food_24501/', 'Ресторанная еда': 'https://health-diet.ru/base_of_food/food_24527/', 'Рыба и морепродукты': 'https://health-diet.ru/base_of_food/food_24518/', 'Свинина': 'https://health-diet.ru/base_of_food/food_24503/', 'Снеки': 'https://health-diet.ru/base_of_food/food_24528/', 'Соки': 'https://health-diet.ru/base_of_food/food_24511/', 'Сосиски и колбаса': 'https://health-diet.ru/base_of_food/food_24504/', 'Травы, специи и соусы': 'https://health-diet.ru/base_of_food/food_24514/', 'Фаст-фуд': 'https://health-diet.ru/base_of_food/food_24529/', 'Фрукты и ягоды': 'https://health-diet.ru/base_of_food/food_24516/', 'Хлеб и выпечка': 'https://health-diet.ru/base_of_food/food_24524/', 'Яйца и продукты из яиц': 'https://health-diet.ru/base_of_food/food_24520/', 'Варенье и джемы': 'https://health-diet.ru/base_of_meals/meals_21252/', 'Вторые блюда': 'https://health-diet.ru/base_of_meals/meals_21243/', 'Выпечка': 'https://health-diet.ru/base_of_meals/meals_21249/', 'Гарниры': 'https://health-diet.ru/base_of_meals/meals_21244/', 'Десерты': 'https://health-diet.ru/base_of_meals/meals_21245/', 'Заготовки': 'https://health-diet.ru/base_of_meals/meals_21254/', 'Закуски': 'https://health-diet.ru/base_of_meals/meals_21250/', 'Каши': 'https://health-diet.ru/base_of_meals/meals_21247/', 'Напитки': 'https://health-diet.ru/base_of_meals/meals_21248/', 'Первые блюда': 'https://health-diet.ru/base_of_meals/meals_21242/', 'Салаты': 'https://health-diet.ru/base_of_meals/meals_21241/', 'Соусы и заправки': 'https://health-diet.ru/base_of_meals/meals_21251/', 'Campina': 'https://health-diet.ru/base_of_food/food_108930/', 'Coca-Cola': 'https://health-diet.ru/base_of_food/food_103503/', 'Danone': 'https://health-diet.ru/base_of_food/food_120438/', \"KFC Ростик'c\": 'https://health-diet.ru/base_of_food/food_120566/', \"Lay's\": 'https://health-diet.ru/base_of_food/food_111530/', 'Mars': 'https://health-diet.ru/base_of_food/food_109145/', 'Nestle': 'https://health-diet.ru/base_of_food/food_107024/', 'Subway': 'https://health-diet.ru/base_of_food/food_120802/', 'Ашан': 'https://health-diet.ru/base_of_food/food_100481/', 'Бондюэль': 'https://health-diet.ru/base_of_food/food_102398/', 'Крошка-Картошка': 'https://health-diet.ru/base_of_food/food_120310/', 'Макдоналдс (McDonalds)': 'https://health-diet.ru/base_of_food/food_124912/', 'Пятерочка': 'https://health-diet.ru/base_of_food/food_121338/', 'Роллтон': 'https://health-diet.ru/base_of_food/food_114851/', 'Черкизово': 'https://health-diet.ru/base_of_food/food_124180/', 'Яшкино': 'https://health-diet.ru/base_of_food/food_117741/'}\n"
     ]
    }
   ],
   "source": [
    "# Сохраняем полученные данные в словарь. На каждой итерации цикла будем его заполнять:\n",
    "# в котором ключами будут имена категорий, а значениями - ссылки\n",
    "\n",
    "all_categories_dict = {}\n",
    "\n",
    "for item in all_products_hrefs:\n",
    "    item_text = item.text\n",
    "    item_href = HOST + item.get(\"href\")\n",
    "#     print(f\"{item_text}: {item_href}\")\n",
    "\n",
    "    all_categories_dict[item_text] = item_href\n",
    "    \n",
    "print(all_categories_dict)\n",
    "\n",
    "# ОТЛИЧНО !!!!!"
   ]
  },
  {
   "cell_type": "markdown",
   "metadata": {},
   "source": [
    "### Обработка JSON файла - Сохранение данных в JSON файл"
   ]
  },
  {
   "cell_type": "code",
   "execution_count": 10,
   "metadata": {},
   "outputs": [],
   "source": [
    "# Сохраним наш словарь в JSON-файл (предварительно импортировав модуль json)\n",
    "with open(\"../data/interim/json/all_categories_dict_2.json\", \"w\") as file:\n",
    "    json.dump(all_categories_dict, file, indent=4, ensure_ascii=False)\n",
    "    \n",
    "# Сохранение с такими параметрами сэкономит поиск информации в Интернете\n",
    "# Параметр INDENT - это отсуп в нашем файле (без него все данные запишутся в 1 строку)\n",
    "# Параметр ENSURE_ASCII - не экранирует символы и помогает при работе с кириллицей"
   ]
  },
  {
   "cell_type": "code",
   "execution_count": 11,
   "metadata": {},
   "outputs": [],
   "source": [
    "# Прочитаем JSON-файл и сохраним содержимое в переменную\n",
    "with open(\"../data/interim/json/all_categories_dict_2.json\") as file:\n",
    "    all_categories = json.load(file)"
   ]
  },
  {
   "cell_type": "code",
   "execution_count": 12,
   "metadata": {
    "collapsed": true,
    "jupyter": {
     "outputs_hidden": true
    }
   },
   "outputs": [
    {
     "name": "stdout",
     "output_type": "stream",
     "text": [
      "{'Баранина и дичь': 'https://health-diet.ru/base_of_food/food_24507/', 'Бобовые': 'https://health-diet.ru/base_of_food/food_24523/', 'Вода и напитки': 'https://health-diet.ru/base_of_food/food_24509/', 'Говядина и телятина': 'https://health-diet.ru/base_of_food/food_24502/', 'Грибы': 'https://health-diet.ru/base_of_food/food_24513/', 'Детское питание': 'https://health-diet.ru/base_of_food/food_24526/', 'Жиры и масла': 'https://health-diet.ru/base_of_food/food_24515/', 'Кондитерские изделия': 'https://health-diet.ru/base_of_food/food_24525/', 'Крупы, мука, макароны': 'https://health-diet.ru/base_of_food/food_24522/', 'Молочные продукты': 'https://health-diet.ru/base_of_food/food_24519/', 'Напитки алкогольные': 'https://health-diet.ru/base_of_food/food_24508/', 'Овощи и зелень': 'https://health-diet.ru/base_of_food/food_24512/', 'Орехи и семена': 'https://health-diet.ru/base_of_food/food_24517/', 'Полуфабрикаты': 'https://health-diet.ru/base_of_meals/meals_21253/', 'Птица': 'https://health-diet.ru/base_of_food/food_24501/', 'Ресторанная еда': 'https://health-diet.ru/base_of_food/food_24527/', 'Рыба и морепродукты': 'https://health-diet.ru/base_of_food/food_24518/', 'Свинина': 'https://health-diet.ru/base_of_food/food_24503/', 'Снеки': 'https://health-diet.ru/base_of_food/food_24528/', 'Соки': 'https://health-diet.ru/base_of_food/food_24511/', 'Сосиски и колбаса': 'https://health-diet.ru/base_of_food/food_24504/', 'Травы, специи и соусы': 'https://health-diet.ru/base_of_food/food_24514/', 'Фаст-фуд': 'https://health-diet.ru/base_of_food/food_24529/', 'Фрукты и ягоды': 'https://health-diet.ru/base_of_food/food_24516/', 'Хлеб и выпечка': 'https://health-diet.ru/base_of_food/food_24524/', 'Яйца и продукты из яиц': 'https://health-diet.ru/base_of_food/food_24520/', 'Варенье и джемы': 'https://health-diet.ru/base_of_meals/meals_21252/', 'Вторые блюда': 'https://health-diet.ru/base_of_meals/meals_21243/', 'Выпечка': 'https://health-diet.ru/base_of_meals/meals_21249/', 'Гарниры': 'https://health-diet.ru/base_of_meals/meals_21244/', 'Десерты': 'https://health-diet.ru/base_of_meals/meals_21245/', 'Заготовки': 'https://health-diet.ru/base_of_meals/meals_21254/', 'Закуски': 'https://health-diet.ru/base_of_meals/meals_21250/', 'Каши': 'https://health-diet.ru/base_of_meals/meals_21247/', 'Напитки': 'https://health-diet.ru/base_of_meals/meals_21248/', 'Первые блюда': 'https://health-diet.ru/base_of_meals/meals_21242/', 'Салаты': 'https://health-diet.ru/base_of_meals/meals_21241/', 'Соусы и заправки': 'https://health-diet.ru/base_of_meals/meals_21251/', 'Campina': 'https://health-diet.ru/base_of_food/food_108930/', 'Coca-Cola': 'https://health-diet.ru/base_of_food/food_103503/', 'Danone': 'https://health-diet.ru/base_of_food/food_120438/', \"KFC Ростик'c\": 'https://health-diet.ru/base_of_food/food_120566/', \"Lay's\": 'https://health-diet.ru/base_of_food/food_111530/', 'Mars': 'https://health-diet.ru/base_of_food/food_109145/', 'Nestle': 'https://health-diet.ru/base_of_food/food_107024/', 'Subway': 'https://health-diet.ru/base_of_food/food_120802/', 'Ашан': 'https://health-diet.ru/base_of_food/food_100481/', 'Бондюэль': 'https://health-diet.ru/base_of_food/food_102398/', 'Крошка-Картошка': 'https://health-diet.ru/base_of_food/food_120310/', 'Макдоналдс (McDonalds)': 'https://health-diet.ru/base_of_food/food_124912/', 'Пятерочка': 'https://health-diet.ru/base_of_food/food_121338/', 'Роллтон': 'https://health-diet.ru/base_of_food/food_114851/', 'Черкизово': 'https://health-diet.ru/base_of_food/food_124180/', 'Яшкино': 'https://health-diet.ru/base_of_food/food_117741/'}\n"
     ]
    }
   ],
   "source": [
    "# \n",
    "print(all_categories)"
   ]
  },
  {
   "cell_type": "markdown",
   "metadata": {},
   "source": [
    "#### Создаём цикл для последующих итераций при посещении страниц сайта \n",
    "##### Замена нескольких символов в строке"
   ]
  },
  {
   "cell_type": "code",
   "execution_count": 13,
   "metadata": {
    "collapsed": true,
    "jupyter": {
     "outputs_hidden": true
    }
   },
   "outputs": [
    {
     "name": "stdout",
     "output_type": "stream",
     "text": [
      "Баранина_и_дичь\n",
      "Бобовые\n",
      "Вода_и_напитки\n",
      "Говядина_и_телятина\n",
      "Грибы\n",
      "Детское_питание\n",
      "Жиры_и_масла\n",
      "Кондитерские_изделия\n",
      "Крупы__мука__макароны\n",
      "Молочные_продукты\n",
      "Напитки_алкогольные\n",
      "Овощи_и_зелень\n",
      "Орехи_и_семена\n",
      "Полуфабрикаты\n",
      "Птица\n",
      "Ресторанная_еда\n",
      "Рыба_и_морепродукты\n",
      "Свинина\n",
      "Снеки\n",
      "Соки\n",
      "Сосиски_и_колбаса\n",
      "Травы__специи_и_соусы\n",
      "Фаст_фуд\n",
      "Фрукты_и_ягоды\n",
      "Хлеб_и_выпечка\n",
      "Яйца_и_продукты_из_яиц\n",
      "Варенье_и_джемы\n",
      "Вторые_блюда\n",
      "Выпечка\n",
      "Гарниры\n",
      "Десерты\n",
      "Заготовки\n",
      "Закуски\n",
      "Каши\n",
      "Напитки\n",
      "Первые_блюда\n",
      "Салаты\n",
      "Соусы_и_заправки\n",
      "Campina\n",
      "Coca_Cola\n",
      "Danone\n",
      "KFC_Ростик_c\n",
      "Lay_s\n",
      "Mars\n",
      "Nestle\n",
      "Subway\n",
      "Ашан\n",
      "Бондюэль\n",
      "Крошка_Картошка\n",
      "Макдоналдс_(McDonalds)\n",
      "Пятерочка\n",
      "Роллтон\n",
      "Черкизово\n",
      "Яшкино\n"
     ]
    }
   ],
   "source": [
    "# Заменим символы \" ',', 'пробел', '-', ' ' ' \" в названиях категорий на '_'\n",
    "for category_name, category_href in all_categories.items():\n",
    "\n",
    "    rep = [\",\", \" \", \"-\", \"'\"]\n",
    "    for item in rep:\n",
    "        if item in category_name:\n",
    "            category_name = category_name.replace(item, \"_\")\n",
    "    print(category_name)"
   ]
  },
  {
   "cell_type": "markdown",
   "metadata": {},
   "source": [
    "#### Переходим к запросам на страницах "
   ]
  },
  {
   "cell_type": "code",
   "execution_count": 15,
   "metadata": {},
   "outputs": [
    {
     "name": "stdout",
     "output_type": "stream",
     "text": [
      "Всего итераций: 53\n"
     ]
    }
   ],
   "source": [
    "# Тренируемся на первой странице:\n",
    "\n",
    "iteration_count = int(len(all_categories)) - 1\n",
    "count = 0\n",
    "print(f\"Всего итераций: {iteration_count}\")\n",
    "\n",
    "for category_name, category_href in all_categories.items():\n",
    "    \n",
    "    if count == 0:\n",
    "\n",
    "        rep = [\",\", \" \", \"-\", \"'\"]\n",
    "        for item in rep:\n",
    "            if item in category_name:\n",
    "                category_name = category_name.replace(item, \"_\")\n",
    "\n",
    "        req = requests.get(url=category_href, headers=HEADERS) # Прочитаем код первой страницы\n",
    "        src = req.text # Сохраним результат первой страницы в переменную\n",
    "\n",
    "        with open(f\"../data/interim/html/{count}_{category_name}.html\", \"w\", encoding=\"utf-8\") as file:\n",
    "            file.write(src) # Запишем результат в файл (для этого создадим папку 'DATA')\n",
    "\n",
    "        count += 1\n",
    "# НЕ ЗАБЫВАЕМ ПРО ENCODING=\"UTF-8\" !!!!!!!!!!!!!!!!"
   ]
  },
  {
   "cell_type": "code",
   "execution_count": 16,
   "metadata": {},
   "outputs": [],
   "source": [
    "# Дальше ОПЯТЬ работаем с сохранённым локально HTML-файлом\n",
    "\n",
    "with open(\"../data/interim/html/0_Баранина_и_дичь.html\", encoding=\"utf-8\") as file:\n",
    "        src = file.read()\n",
    "\n",
    "soup_0 = BeautifulSoup(src, \"lxml\")\n",
    "\n",
    "# НЕ ЗАБЫВАЕМ ПРО ENCODING=\"UTF-8\" !!!!!!!!!!!!!!!!"
   ]
  },
  {
   "cell_type": "code",
   "execution_count": 8,
   "metadata": {},
   "outputs": [],
   "source": [
    "# \n",
    "# print(soup_0)"
   ]
  },
  {
   "cell_type": "markdown",
   "metadata": {},
   "source": [
    "### Получение заголовков таблицы "
   ]
  },
  {
   "cell_type": "code",
   "execution_count": 20,
   "metadata": {},
   "outputs": [
    {
     "ename": "SyntaxError",
     "evalue": "'continue' not properly in loop (2194111737.py, line 5)",
     "output_type": "error",
     "traceback": [
      "\u001b[1;36m  Cell \u001b[1;32mIn[20], line 5\u001b[1;36m\u001b[0m\n\u001b[1;33m    continue\u001b[0m\n\u001b[1;37m    ^\u001b[0m\n\u001b[1;31mSyntaxError\u001b[0m\u001b[1;31m:\u001b[0m 'continue' not properly in loop\n"
     ]
    }
   ],
   "source": [
    "# проверка страницы на наличие таблицы с продуктами\n",
    "# alert_block = soup_0.find(class_=\"uk-alert-danger\")\n",
    "alert_block = soup_0.find(class_=\"uk-table\")\n",
    "if alert_block is not None:\n",
    "    continue"
   ]
  },
  {
   "cell_type": "code",
   "execution_count": 21,
   "metadata": {},
   "outputs": [],
   "source": [
    "# собираем заголовки таблицы\n",
    "# Для этого найдём первый TR на странице и соберём все тэги TH для него:\n",
    "table_head = soup_0.find(class_=\"mzr-tc-group-table\").find(\"tr\").find_all(\"th\")\n",
    "product = table_head[0].text\n",
    "calories = table_head[1].text\n",
    "proteins = table_head[2].text\n",
    "fats = table_head[3].text\n",
    "carbohydrates = table_head[4].text"
   ]
  },
  {
   "cell_type": "code",
   "execution_count": 103,
   "metadata": {},
   "outputs": [
    {
     "name": "stdout",
     "output_type": "stream",
     "text": [
      "Продукт Калорийность Белки Жиры Углеводы\n"
     ]
    }
   ],
   "source": [
    "# \n",
    "print(product, calories, proteins, fats, carbohydrates)"
   ]
  },
  {
   "cell_type": "markdown",
   "metadata": {},
   "source": [
    "#### Запись заголовков в csv файл"
   ]
  },
  {
   "cell_type": "code",
   "execution_count": 22,
   "metadata": {},
   "outputs": [],
   "source": [
    "# Поставим данные на запись в файл CSV\n",
    "with open(f\"../data/interim/csv/{count}_{category_name}_0.csv\", \"w\", encoding=\"utf-8\") as file:\n",
    "        writer = csv.writer(file)\n",
    "        writer.writerow(\n",
    "            (\n",
    "                product,\n",
    "                calories,\n",
    "                proteins,\n",
    "                fats,\n",
    "                carbohydrates\n",
    "            )\n",
    "        )"
   ]
  },
  {
   "cell_type": "code",
   "execution_count": 23,
   "metadata": {},
   "outputs": [],
   "source": [
    "# собираем данные продуктов\n",
    "# Для этого соберём все тэги 'TR' внутри 'TBODY'\n",
    "products_data = soup_0.find(class_=\"mzr-tc-group-table\").find(\"tbody\").find_all(\"tr\")"
   ]
  },
  {
   "cell_type": "markdown",
   "metadata": {},
   "source": [
    "###### Если использовать метод супа .select() вместо .find(), то можно существенно сократить код.\n",
    "Как пример, на 14:20 минуте видео, строка 80, вместо\n",
    "products_data = soup.find(class_='mzr-tc-group-table').find('tbody').find_all('tr')\n",
    "можно написать\n",
    "products_data = soup.select('.mzr-tc-group-table tbody tr')\n",
    "Метод .select() позволяет использовать синтаксис как в css, очень удобно"
   ]
  },
  {
   "cell_type": "markdown",
   "metadata": {},
   "source": [
    "### Получение химического состава продуктов со страницы"
   ]
  },
  {
   "cell_type": "code",
   "execution_count": 24,
   "metadata": {},
   "outputs": [],
   "source": [
    "# Пройдём в цикле по строкам таблицы\n",
    "product_info = []\n",
    "for item in products_data:\n",
    "    product_tds = item.find_all(\"td\")\n",
    "\n",
    "    title = product_tds[0].find(\"a\").text\n",
    "    calories = product_tds[1].text\n",
    "    proteins = product_tds[2].text\n",
    "    fats = product_tds[3].text\n",
    "    carbohydrates = product_tds[4].text\n",
    "\n",
    "    product_info.append(\n",
    "        {\n",
    "            \"Title\": title,\n",
    "            \"Calories\": calories,\n",
    "            \"Proteins\": proteins,\n",
    "            \"Fats\": fats,\n",
    "            \"Carbohydrates\": carbohydrates\n",
    "        }\n",
    "    )"
   ]
  },
  {
   "cell_type": "code",
   "execution_count": 25,
   "metadata": {
    "collapsed": true,
    "jupyter": {
     "outputs_hidden": true
    }
   },
   "outputs": [
    {
     "data": {
      "text/plain": [
       "[{'Title': 'Lamb, Australian, imported, fresh, external fat, cooked',\n",
       "  'Calories': '538 кКал',\n",
       "  'Proteins': '16,9 г',\n",
       "  'Fats': '52,3 г',\n",
       "  'Carbohydrates': '0 г'},\n",
       " {'Title': 'Антилопа',\n",
       "  'Calories': '114 кКал',\n",
       "  'Proteins': '22,38 г',\n",
       "  'Fats': '2,03 г',\n",
       "  'Carbohydrates': '0 г'},\n",
       " {'Title': 'Антилопа, запеченная',\n",
       "  'Calories': '150 кКал',\n",
       "  'Proteins': '29,45 г',\n",
       "  'Fats': '2,67 г',\n",
       "  'Carbohydrates': '0 г'},\n",
       " {'Title': 'Баранина 1 кат.',\n",
       "  'Calories': '209 кКал',\n",
       "  'Proteins': '15,6 г',\n",
       "  'Fats': '16,3 г',\n",
       "  'Carbohydrates': '0 г'},\n",
       " {'Title': 'Баранина 2 кат.',\n",
       "  'Calories': '166 кКал',\n",
       "  'Proteins': '19,8 г',\n",
       "  'Fats': '9,6 г',\n",
       "  'Carbohydrates': '0 г'},\n",
       " {'Title': \"Баранина австралийская ,голяшка, мясо и жир, обрезь до 1/8'' жира, жаренная\",\n",
       "  'Calories': '231 кКал',\n",
       "  'Proteins': '25,25 г',\n",
       "  'Fats': '13,69 г',\n",
       "  'Carbohydrates': '0 г'},\n",
       " {'Title': \"Баранина австралийская ,голяшка, мясо и жир, обрезь до 1/8'' жира, сырая\",\n",
       "  'Calories': '201 кКал',\n",
       "  'Proteins': '18,59 г',\n",
       "  'Fats': '13,48 г',\n",
       "  'Carbohydrates': '0 г'},\n",
       " {'Title': \"Баранина австралийская ,голяшка, только мясо, обрезь до 1/8'' жира, жаренная\",\n",
       "  'Calories': '182 кКал',\n",
       "  'Proteins': '27,18 г',\n",
       "  'Fats': '7,27 г',\n",
       "  'Carbohydrates': '0 г'},\n",
       " {'Title': \"Баранина австралийская ,голяшка, только мясо, обрезь до 1/8'' жира, сырая\",\n",
       "  'Calories': '133 кКал',\n",
       "  'Proteins': '20,45 г',\n",
       "  'Fats': '5,1 г',\n",
       "  'Carbohydrates': '0 г'},\n",
       " {'Title': \"Баранина австралийская, Мясной набор, мясо и жир, обрезь до 1/8'' жира, вареная\",\n",
       "  'Calories': '256 кКал',\n",
       "  'Proteins': '24,52 г',\n",
       "  'Fats': '16,82 г',\n",
       "  'Carbohydrates': '0 г'},\n",
       " {'Title': \"Баранина австралийская, мясной набор, мясо и жир, обрезь до 1/8'' жира, сырая\",\n",
       "  'Calories': '229 кКал',\n",
       "  'Proteins': '17,84 г',\n",
       "  'Fats': '16,97 г',\n",
       "  'Carbohydrates': '0 г'},\n",
       " {'Title': \"Баранина австралийская, Мясной набор, только мясо, обрезь до 1/8'' жира, вареная\",\n",
       "  'Calories': '201 кКал',\n",
       "  'Proteins': '26,71 г',\n",
       "  'Fats': '9,63 г',\n",
       "  'Carbohydrates': '0 г'},\n",
       " {'Title': \"Баранина австралийская, Мясной набор, только мясо, обрезь до 1/8'' жира, сырая\",\n",
       "  'Calories': '142 кКал',\n",
       "  'Proteins': '20,25 г',\n",
       "  'Fats': '6,18 г',\n",
       "  'Carbohydrates': '0 г'},\n",
       " {'Title': \"Баранина австралийская, нога передняя с лопаткой, мясо и жир, обрезь до 1/8'' жира, вареная\",\n",
       "  'Calories': '296 кКал',\n",
       "  'Proteins': '23,58 г',\n",
       "  'Fats': '21,65 г',\n",
       "  'Carbohydrates': '0 г'},\n",
       " {'Title': \"Баранина австралийская, нога передняя с лопаткой, только мясо, обрезь до 1/8'' жира, вареная\",\n",
       "  'Calories': '233 кКал',\n",
       "  'Proteins': '26,18 г',\n",
       "  'Fats': '13,44 г',\n",
       "  'Carbohydrates': '0 г'},\n",
       " {'Title': \"Баранина австралийская, Нога передняя, с лопаткой, мясо и жир, обрезь до 1/8'' жира, сырая\",\n",
       "  'Calories': '256 кКал',\n",
       "  'Proteins': '16,68 г',\n",
       "  'Fats': '20,47 г',\n",
       "  'Carbohydrates': '0 г'},\n",
       " {'Title': \"Баранина австралийская, нога целая,  только мясо, обрезь до 1/8'' жира, жаренная\",\n",
       "  'Calories': '190 кКал',\n",
       "  'Proteins': '27,31 г',\n",
       "  'Fats': '8,1 г',\n",
       "  'Carbohydrates': '0 г'},\n",
       " {'Title': \"Баранина австралийская, нога целая, мясо и жир, обрезь до 1/8'' жира, сырая\",\n",
       "  'Calories': '215 кКал',\n",
       "  'Proteins': '18,24 г',\n",
       "  'Fats': '15,19 г',\n",
       "  'Carbohydrates': '0 г'},\n",
       " {'Title': \"Баранина австралийская, нога, целая, мясо и жир, обрезь до 1/8'' жира, жаренная\",\n",
       "  'Calories': '244 кКал',\n",
       "  'Proteins': '25,16 г',\n",
       "  'Fats': '15,13 г',\n",
       "  'Carbohydrates': '0 г'},\n",
       " {'Title': \"Баранина австралийская, нога, целая, только мясо, обрезь до 1/8'' жира, сырая\",\n",
       "  'Calories': '135 кКал',\n",
       "  'Proteins': '20,46 г',\n",
       "  'Fats': '5,23 г',\n",
       "  'Carbohydrates': '0 г'},\n",
       " {'Title': \"Баранина австралийская, нога, центральная часть на кости, мясо и жир, обрезь до 1/8'' жира, жаренная на открытом огне\",\n",
       "  'Calories': '215 кКал',\n",
       "  'Proteins': '25,54 г',\n",
       "  'Fats': '11,78 г',\n",
       "  'Carbohydrates': '0 г'},\n",
       " {'Title': \"Баранина австралийская, нога, центральная часть на кости, мясо и жир, обрезь до 1/8'' жира, сырая\",\n",
       "  'Calories': '195 кКал',\n",
       "  'Proteins': '19,17 г',\n",
       "  'Fats': '12,56 г',\n",
       "  'Carbohydrates': '0 г'},\n",
       " {'Title': \"Баранина австралийская, нога, центральная часть на кости, только мясо, обрезь до 1/8'' жира, жаренная на открытом огне\",\n",
       "  'Calories': '183 кКал',\n",
       "  'Proteins': '26,75 г',\n",
       "  'Fats': '7,68 г',\n",
       "  'Carbohydrates': '0 г'},\n",
       " {'Title': \"Баранина австралийская, нога, центральная часть на кости, только мясо, обрезь до 1/8'' жира, сырая\",\n",
       "  'Calories': '143 кКал',\n",
       "  'Proteins': '20,65 г',\n",
       "  'Fats': '6,08 г',\n",
       "  'Carbohydrates': '0 г'},\n",
       " {'Title': \"Баранина австралийская, ребра, мясо и жир, обрезь до 1/8'' жира, жаренная\",\n",
       "  'Calories': '277 кКал',\n",
       "  'Proteins': '22,24 г',\n",
       "  'Fats': '20,21 г',\n",
       "  'Carbohydrates': '0 г'},\n",
       " {'Title': \"Баранина австралийская, ребра, мясо и жир, обрезь до 1/8'' жира, сырая\",\n",
       "  'Calories': '237 кКал',\n",
       "  'Proteins': '21,26 г',\n",
       "  'Fats': '16,89 г',\n",
       "  'Carbohydrates': '0 г'},\n",
       " {'Title': \"Баранина австралийская, ребра, только мясо, обрезь до 1/8'' жира, жаренная\",\n",
       "  'Calories': '210 кКал',\n",
       "  'Proteins': '24,63 г',\n",
       "  'Fats': '11,6 г',\n",
       "  'Carbohydrates': '0 г'},\n",
       " {'Title': \"Баранина австралийская, ребра, только мясо, обрезь до 1/8'' жира, сырая\",\n",
       "  'Calories': '147 кКал',\n",
       "  'Proteins': '24,07 г',\n",
       "  'Fats': '5,59 г',\n",
       "  'Carbohydrates': '0 г'},\n",
       " {'Title': 'Баранина австралийская, рулька, мясо и жир, обрезь до 1/8\" жира, сырая',\n",
       "  'Calories': '195 кКал',\n",
       "  'Proteins': '18,85 г',\n",
       "  'Fats': '12,68 г',\n",
       "  'Carbohydrates': '0 г'},\n",
       " {'Title': 'Баранина австралийская, рулька, мясо и жир, обрезь до 1/8\" жира, тушеная',\n",
       "  'Calories': '236 кКал',\n",
       "  'Proteins': '24,78 г',\n",
       "  'Fats': '14,44 г',\n",
       "  'Carbohydrates': '0 г'},\n",
       " {'Title': 'Баранина австралийская, рулька, только мясо, обрезь до 1/8\" жира, сырая',\n",
       "  'Calories': '123 кКал',\n",
       "  'Proteins': '20,83 г',\n",
       "  'Fats': '3,81 г',\n",
       "  'Carbohydrates': '0 г'},\n",
       " {'Title': 'Баранина австралийская, рулька, только мясо, обрезь до 1/8\" жира, тушеная',\n",
       "  'Calories': '165 кКал',\n",
       "  'Proteins': '27,5 г',\n",
       "  'Fats': '5,22 г',\n",
       "  'Carbohydrates': '0 г'},\n",
       " {'Title': \"Баранина австралийская, филейная часть, мясо и жир, обрезь до 1/8'' жира, жаренная на открытом огне\",\n",
       "  'Calories': '219 кКал',\n",
       "  'Proteins': '25,49 г',\n",
       "  'Fats': '12,25 г',\n",
       "  'Carbohydrates': '0 г'},\n",
       " {'Title': \"Баранина австралийская, филейная часть, мясо и жир, обрезь до 1/8'' жира, сырая\",\n",
       "  'Calories': '203 кКал',\n",
       "  'Proteins': '19,32 г',\n",
       "  'Fats': '13,38 г',\n",
       "  'Carbohydrates': '0 г'},\n",
       " {'Title': \"Баранина австралийская, филейная часть, только мясо, обрезь до 1/8'' жира, жаренная на открытом огне\",\n",
       "  'Calories': '192 кКал',\n",
       "  'Proteins': '26,53 г',\n",
       "  'Fats': '8,75 г',\n",
       "  'Carbohydrates': '0 г'},\n",
       " {'Title': \"Баранина австралийская, филейная часть, только мясо, обрезь до 1/8'' жира, сырая\",\n",
       "  'Calories': '146 кКал',\n",
       "  'Proteins': '21 г',\n",
       "  'Fats': '6,24 г',\n",
       "  'Carbohydrates': '0 г'},\n",
       " {'Title': 'Баранина жареная, по 1-396',\n",
       "  'Calories': '264 кКал',\n",
       "  'Proteins': '22,4 г',\n",
       "  'Fats': '19,4 г',\n",
       "  'Carbohydrates': '0 г'},\n",
       " {'Title': 'Баранина отварная, по 1-392',\n",
       "  'Calories': '244 кКал',\n",
       "  'Proteins': '21,8 г',\n",
       "  'Fats': '17,4 г',\n",
       "  'Carbohydrates': '0 г'},\n",
       " {'Title': 'Баранина тушеная, консервы',\n",
       "  'Calories': '191 кКал',\n",
       "  'Proteins': '17,4 г',\n",
       "  'Fats': '13,4 г',\n",
       "  'Carbohydrates': '0,2 г'},\n",
       " {'Title': 'Баранина тушеная, по 1-422',\n",
       "  'Calories': '170 кКал',\n",
       "  'Proteins': '10,3 г',\n",
       "  'Fats': '12,7 г',\n",
       "  'Carbohydrates': '3,6 г'},\n",
       " {'Title': 'Баранина, голяшка',\n",
       "  'Calories': '201 кКал',\n",
       "  'Proteins': '18,58 г',\n",
       "  'Fats': '13,49 г',\n",
       "  'Carbohydrates': '0 г'},\n",
       " {'Title': 'Баранина, голяшка, запеченная',\n",
       "  'Calories': '225 кКал',\n",
       "  'Proteins': '26,41 г',\n",
       "  'Fats': '12,45 г',\n",
       "  'Carbohydrates': '0 г'},\n",
       " {'Title': 'Баранина, голяшка, только мясо',\n",
       "  'Calories': '125 кКал',\n",
       "  'Proteins': '20,52 г',\n",
       "  'Fats': '4,19 г',\n",
       "  'Carbohydrates': '0 г'},\n",
       " {'Title': 'Баранина, голяшка, только мясо, запеченная',\n",
       "  'Calories': '180 кКал',\n",
       "  'Proteins': '28,17 г',\n",
       "  'Fats': '6,67 г',\n",
       "  'Carbohydrates': '0 г'},\n",
       " {'Title': 'Баранина, грудинка мякоть',\n",
       "  'Calories': '288 кКал',\n",
       "  'Proteins': '14 г',\n",
       "  'Fats': '25,8 г',\n",
       "  'Carbohydrates': '0 г'},\n",
       " {'Title': 'Баранина, корейка',\n",
       "  'Calories': '310 кКал',\n",
       "  'Proteins': '16,32 г',\n",
       "  'Fats': '26,63 г',\n",
       "  'Carbohydrates': '0 г'},\n",
       " {'Title': 'Баранина, корейка мякоть',\n",
       "  'Calories': '255 кКал',\n",
       "  'Proteins': '15,9 г',\n",
       "  'Fats': '21,5 г',\n",
       "  'Carbohydrates': '0 г'},\n",
       " {'Title': 'Баранина, корейка, жаренная на открытом огне',\n",
       "  'Calories': '316 кКал',\n",
       "  'Proteins': '25,17 г',\n",
       "  'Fats': '23,08 г',\n",
       "  'Carbohydrates': '0 г'},\n",
       " {'Title': 'Баранина, корейка, запеченная',\n",
       "  'Calories': '309 кКал',\n",
       "  'Proteins': '22,55 г',\n",
       "  'Fats': '23,59 г',\n",
       "  'Carbohydrates': '0 г'},\n",
       " {'Title': \"Баранина, корейка, мясо и жир, обрезь до 1/8'' жира, отборная, жареная\",\n",
       "  'Calories': '290 кКал',\n",
       "  'Proteins': '23,27 г',\n",
       "  'Fats': '21,12 г',\n",
       "  'Carbohydrates': '0 г'},\n",
       " {'Title': \"Баранина, корейка, мясо и жир, обрезь до 1/8'' жира, отборная, жареная на открытом огне\",\n",
       "  'Calories': '297 кКал',\n",
       "  'Proteins': '26,06 г',\n",
       "  'Fats': '20,61 г',\n",
       "  'Carbohydrates': '0 г'},\n",
       " {'Title': \"Баранина, корейка, мясо и жир, обрезь до 1/8'' жира, отборная, сырая\",\n",
       "  'Calories': '279 кКал',\n",
       "  'Proteins': '17,18 г',\n",
       "  'Fats': '22,75 г',\n",
       "  'Carbohydrates': '0 г'},\n",
       " {'Title': 'Баранина, корейка, только мясо',\n",
       "  'Calories': '143 кКал',\n",
       "  'Proteins': '20,88 г',\n",
       "  'Fats': '5,94 г',\n",
       "  'Carbohydrates': '0 г'},\n",
       " {'Title': 'Баранина, корейка, только мясо, жаренная на открытом огне',\n",
       "  'Calories': '216 кКал',\n",
       "  'Proteins': '29,99 г',\n",
       "  'Fats': '9,73 г',\n",
       "  'Carbohydrates': '0 г'},\n",
       " {'Title': 'Баранина, корейка, только мясо, запеченная',\n",
       "  'Calories': '202 кКал',\n",
       "  'Proteins': '26,59 г',\n",
       "  'Fats': '9,76 г',\n",
       "  'Carbohydrates': '0 г'},\n",
       " {'Title': 'Баранина, котлетное мясо',\n",
       "  'Calories': '238 кКал',\n",
       "  'Proteins': '16 г',\n",
       "  'Fats': '19,3 г',\n",
       "  'Carbohydrates': '0 г'},\n",
       " {'Title': 'Баранина, лопаточная часть',\n",
       "  'Calories': '199 кКал',\n",
       "  'Proteins': '16,1 г',\n",
       "  'Fats': '14,9 г',\n",
       "  'Carbohydrates': '0 г'},\n",
       " {'Title': 'Баранина, нога целая (с голяшкой и оковалком)',\n",
       "  'Calories': '230 кКал',\n",
       "  'Proteins': '17,91 г',\n",
       "  'Fats': '17,07 г',\n",
       "  'Carbohydrates': '0 г'},\n",
       " {'Title': 'Баранина, нога целая (с голяшкой и оковалком), запеченная',\n",
       "  'Calories': '258 кКал',\n",
       "  'Proteins': '25,55 г',\n",
       "  'Fats': '16,48 г',\n",
       "  'Carbohydrates': '0 г'},\n",
       " {'Title': 'Баранина, нога целая (с голяшкой и оковалком), только мясо',\n",
       "  'Calories': '128 кКал',\n",
       "  'Proteins': '20,56 г',\n",
       "  'Fats': '4,51 г',\n",
       "  'Carbohydrates': '0 г'},\n",
       " {'Title': 'Баранина, нога целая (с голяшкой и оковалком), только мясо, запеченная',\n",
       "  'Calories': '191 кКал',\n",
       "  'Proteins': '28,3 г',\n",
       "  'Fats': '7,74 г',\n",
       "  'Carbohydrates': '0 г'},\n",
       " {'Title': 'Баранина, пашина',\n",
       "  'Calories': '205 кКал',\n",
       "  'Proteins': '17,6 г',\n",
       "  'Fats': '14,9 г',\n",
       "  'Carbohydrates': '0 г'},\n",
       " {'Title': 'Баранина, плечевая и лопаточная части',\n",
       "  'Calories': '264 кКал',\n",
       "  'Proteins': '16,58 г',\n",
       "  'Fats': '21,45 г',\n",
       "  'Carbohydrates': '0 г'},\n",
       " {'Title': 'Баранина, плечевая и лопаточная части, жаренная на открытом огне',\n",
       "  'Calories': '278 кКал',\n",
       "  'Proteins': '24,42 г',\n",
       "  'Fats': '19,26 г',\n",
       "  'Carbohydrates': '0 г'},\n",
       " {'Title': 'Баранина, плечевая и лопаточная части, жаренная на открытом огне',\n",
       "  'Calories': '210 кКал',\n",
       "  'Proteins': '27,12 г',\n",
       "  'Fats': '10,5 г',\n",
       "  'Carbohydrates': '0 г'},\n",
       " {'Title': 'Баранина, плечевая и лопаточная части, запеченная',\n",
       "  'Calories': '276 кКал',\n",
       "  'Proteins': '22,51 г',\n",
       "  'Fats': '19,97 г',\n",
       "  'Carbohydrates': '0 г'},\n",
       " {'Title': 'Баранина, плечевая и лопаточная части, только мясо',\n",
       "  'Calories': '144 кКал',\n",
       "  'Proteins': '19,55 г',\n",
       "  'Fats': '6,76 г',\n",
       "  'Carbohydrates': '0 г'},\n",
       " {'Title': 'Баранина, плечевая и лопаточная части, только мясо, запеченная',\n",
       "  'Calories': '204 кКал',\n",
       "  'Proteins': '24,94 г',\n",
       "  'Fats': '10,77 г',\n",
       "  'Carbohydrates': '0 г'},\n",
       " {'Title': 'Баранина, плечевая и лопаточная части, только мясо, тушеная',\n",
       "  'Calories': '283 кКал',\n",
       "  'Proteins': '32,81 г',\n",
       "  'Fats': '15,89 г',\n",
       "  'Carbohydrates': '0 г'},\n",
       " {'Title': 'Баранина, плечевая и лопаточная части, тушеная',\n",
       "  'Calories': '344 кКал',\n",
       "  'Proteins': '28,68 г',\n",
       "  'Fats': '24,55 г',\n",
       "  'Carbohydrates': '0 г'},\n",
       " {'Title': 'Баранина, ребра',\n",
       "  'Calories': '372 кКал',\n",
       "  'Proteins': '14,52 г',\n",
       "  'Fats': '34,39 г',\n",
       "  'Carbohydrates': '0 г'},\n",
       " {'Title': 'Баранина, ребра, жаренные на открытом огне',\n",
       "  'Calories': '361 кКал',\n",
       "  'Proteins': '22,13 г',\n",
       "  'Fats': '29,59 г',\n",
       "  'Carbohydrates': '0 г'},\n",
       " {'Title': 'Баранина, ребра, запеченные',\n",
       "  'Calories': '359 кКал',\n",
       "  'Proteins': '21,12 г',\n",
       "  'Fats': '29,82 г',\n",
       "  'Carbohydrates': '0 г'},\n",
       " {'Title': 'Баранина, ребра, только мясо',\n",
       "  'Calories': '169 кКал',\n",
       "  'Proteins': '19,98 г',\n",
       "  'Fats': '9,23 г',\n",
       "  'Carbohydrates': '0 г'},\n",
       " {'Title': 'Баранина, ребра, только мясо, жаренные на открытом огне',\n",
       "  'Calories': '235 кКал',\n",
       "  'Proteins': '27,74 г',\n",
       "  'Fats': '12,95 г',\n",
       "  'Carbohydrates': '0 г'},\n",
       " {'Title': 'Баранина, ребра, только мясо, запеченные',\n",
       "  'Calories': '232 кКал',\n",
       "  'Proteins': '26,16 г',\n",
       "  'Fats': '13,31 г',\n",
       "  'Carbohydrates': '0 г'},\n",
       " {'Title': 'Баранина, рулька',\n",
       "  'Calories': '201 кКал',\n",
       "  'Proteins': '18,91 г',\n",
       "  'Fats': '13,38 г',\n",
       "  'Carbohydrates': '0 г'},\n",
       " {'Title': 'Баранина, рулька тушеная',\n",
       "  'Calories': '243 кКал',\n",
       "  'Proteins': '28,37 г',\n",
       "  'Fats': '13,46 г',\n",
       "  'Carbohydrates': '0 г'},\n",
       " {'Title': 'Баранина, рулька, только мясо',\n",
       "  'Calories': '120 кКал',\n",
       "  'Proteins': '21,08 г',\n",
       "  'Fats': '3,29 г',\n",
       "  'Carbohydrates': '0 г'},\n",
       " {'Title': 'Баранина, рулька, только мясо, тушеная',\n",
       "  'Calories': '187 кКал',\n",
       "  'Proteins': '31,01 г',\n",
       "  'Fats': '6,02 г',\n",
       "  'Carbohydrates': '0 г'},\n",
       " {'Title': 'Баранина, спинная часть',\n",
       "  'Calories': '254 кКал',\n",
       "  'Proteins': '16,5 г',\n",
       "  'Fats': '20,9 г',\n",
       "  'Carbohydrates': '0 г'},\n",
       " {'Title': 'Баранина, тазобедренная и лопаточная части, только мясо, нарезанное кубиками',\n",
       "  'Calories': '134 кКал',\n",
       "  'Proteins': '20,21 г',\n",
       "  'Fats': '5,28 г',\n",
       "  'Carbohydrates': '0 г'},\n",
       " {'Title': 'Баранина, тазобедренная и лопаточная части, только мясо, нарезанное кубиками, жаренная на открытом огне',\n",
       "  'Calories': '186 кКал',\n",
       "  'Proteins': '28,08 г',\n",
       "  'Fats': '7,33 г',\n",
       "  'Carbohydrates': '0 г'},\n",
       " {'Title': 'Баранина, тазобедренная и лопаточная части, только мясо, нарезанное кубиками, тушеная',\n",
       "  'Calories': '223 кКал',\n",
       "  'Proteins': '33,69 г',\n",
       "  'Fats': '8,8 г',\n",
       "  'Carbohydrates': '0 г'},\n",
       " {'Title': 'Баранина, тазобедренная часть',\n",
       "  'Calories': '198 кКал',\n",
       "  'Proteins': '17 г',\n",
       "  'Fats': '14,4 г',\n",
       "  'Carbohydrates': '0 г'},\n",
       " {'Title': 'Баранина, филейная часть, Новая зеландия, замороженная, мясо и жир, жаренная на открытом огне',\n",
       "  'Calories': '315 кКал',\n",
       "  'Proteins': '23,43 г',\n",
       "  'Fats': '23,88 г',\n",
       "  'Carbohydrates': '0 г'},\n",
       " {'Title': \"Баранина, филейная часть, Новая зеландия, замороженная, мясо и жир, обрезь до 1/8'' жира, жаренная на открытом огне\",\n",
       "  'Calories': '296 кКал',\n",
       "  'Proteins': '24,41 г',\n",
       "  'Fats': '21,28 г',\n",
       "  'Carbohydrates': '0 г'},\n",
       " {'Title': \"Баранина, филейная часть, Новая зеландия, замороженная, мясо и жир, обрезь до 1/8'' жира, сырая\",\n",
       "  'Calories': '273 кКал',\n",
       "  'Proteins': '17,18 г',\n",
       "  'Fats': '22,1 г',\n",
       "  'Carbohydrates': '0 г'},\n",
       " {'Title': 'Баранина, филейная часть, Новая зеландия, замороженная, мясо и жир, сырая',\n",
       "  'Calories': '298 кКал',\n",
       "  'Proteins': '15,4 г',\n",
       "  'Fats': '26,19 г',\n",
       "  'Carbohydrates': '0,22 г'},\n",
       " {'Title': 'Баранина, филейная часть, Новая зеландия, замороженная, только мясо, жаренная на открытом огне',\n",
       "  'Calories': '199 кКал',\n",
       "  'Proteins': '29,31 г',\n",
       "  'Fats': '8,24 г',\n",
       "  'Carbohydrates': '0 г'},\n",
       " {'Title': 'Баранина, филейная часть, Новая зеландия, замороженная, только мясо, сырая',\n",
       "  'Calories': '142 кКал',\n",
       "  'Proteins': '19,98 г',\n",
       "  'Fats': '6,88 г',\n",
       "  'Carbohydrates': '0 г'},\n",
       " {'Title': 'Баранина, шейная часть',\n",
       "  'Calories': '208 кКал',\n",
       "  'Proteins': '15,4 г',\n",
       "  'Fats': '16,3 г',\n",
       "  'Carbohydrates': '0 г'},\n",
       " {'Title': 'Белка',\n",
       "  'Calories': '120 кКал',\n",
       "  'Proteins': '21,23 г',\n",
       "  'Fats': '3,21 г',\n",
       "  'Carbohydrates': '0 г'},\n",
       " {'Title': 'Белка, запеченная',\n",
       "  'Calories': '173 кКал',\n",
       "  'Proteins': '30,77 г',\n",
       "  'Fats': '4,69 г',\n",
       "  'Carbohydrates': '0 г'},\n",
       " {'Title': 'Бизон, мякоть плечевой части, только мясо',\n",
       "  'Calories': '119 кКал',\n",
       "  'Proteins': '21,12 г',\n",
       "  'Fats': '3,15 г',\n",
       "  'Carbohydrates': '0 г'},\n",
       " {'Title': 'Бизон, мякоть плечевой части, только мясо',\n",
       "  'Calories': '109 кКал',\n",
       "  'Proteins': '21,1 г',\n",
       "  'Fats': '2,1 г',\n",
       "  'Carbohydrates': '0 г'},\n",
       " {'Title': 'Бизон, мякоть плечевой части, только мясо, тушеная',\n",
       "  'Calories': '193 кКал',\n",
       "  'Proteins': '33,78 г',\n",
       "  'Fats': '5,43 г',\n",
       "  'Carbohydrates': '0 г'},\n",
       " {'Title': 'Бизон, стейк из верхней части бедра, только мясо',\n",
       "  'Calories': '122 кКал',\n",
       "  'Proteins': '23,32 г',\n",
       "  'Fats': '2,43 г',\n",
       "  'Carbohydrates': '0 г'},\n",
       " {'Title': 'Бизон, стейк из верхней части бедра, только мясо, жаренный на открытом огне',\n",
       "  'Calories': '174 кКал',\n",
       "  'Proteins': '30,18 г',\n",
       "  'Fats': '4,96 г',\n",
       "  'Carbohydrates': '0 г'},\n",
       " {'Title': 'Бизон, стейк из верхней части оковалка, только мясо, жаренный на открытом огне',\n",
       "  'Calories': '171 кКал',\n",
       "  'Proteins': '28,05 г',\n",
       "  'Fats': '5,65 г',\n",
       "  'Carbohydrates': '0 г'},\n",
       " {'Title': 'Бизон, стейк из рибая (реберная сердцевина, глазок), только мясо',\n",
       "  'Calories': '116 кКал',\n",
       "  'Proteins': '22,1 г',\n",
       "  'Fats': '2,4 г',\n",
       "  'Carbohydrates': '0 г'},\n",
       " {'Title': 'Бизон, стейк из рибая (реберная сердцевина, глазок), только мясо, жареный на открытом огне',\n",
       "  'Calories': '177 кКал',\n",
       "  'Proteins': '29,45 г',\n",
       "  'Fats': '5,67 г',\n",
       "  'Carbohydrates': '0 г'},\n",
       " {'Title': 'Бизон, только мясо',\n",
       "  'Calories': '109 кКал',\n",
       "  'Proteins': '21,62 г',\n",
       "  'Fats': '1,84 г',\n",
       "  'Carbohydrates': '0 г'},\n",
       " {'Title': 'Бизон, только мясо, запеченное',\n",
       "  'Calories': '143 кКал',\n",
       "  'Proteins': '28,44 г',\n",
       "  'Fats': '2,42 г',\n",
       "  'Carbohydrates': '0 г'},\n",
       " {'Title': 'Бобер',\n",
       "  'Calories': '146 кКал',\n",
       "  'Proteins': '24,05 г',\n",
       "  'Fats': '4,8 г',\n",
       "  'Carbohydrates': '0 г'},\n",
       " {'Title': 'Бобер, запеченный',\n",
       "  'Calories': '212 кКал',\n",
       "  'Proteins': '34,85 г',\n",
       "  'Fats': '6,96 г',\n",
       "  'Carbohydrates': '0 г'},\n",
       " {'Title': 'Буйвол, стейк из верхней части бедра (Шошони-Баннок)',\n",
       "  'Calories': '97 кКал',\n",
       "  'Proteins': '21,44 г',\n",
       "  'Fats': '1,3 г',\n",
       "  'Carbohydrates': '0 г'},\n",
       " {'Title': 'Буйвол, стейк из верхней части бедра приготовленный (Шошони-Баннок)',\n",
       "  'Calories': '146 кКал',\n",
       "  'Proteins': '32,51 г',\n",
       "  'Fats': '1,8 г',\n",
       "  'Carbohydrates': '0 г'},\n",
       " {'Title': 'Буйволятина, 1 категории',\n",
       "  'Calories': '195 кКал',\n",
       "  'Proteins': '19 г',\n",
       "  'Fats': '13,2 г',\n",
       "  'Carbohydrates': '0 г'},\n",
       " {'Title': 'Буйволятина, 2 категории',\n",
       "  'Calories': '135 кКал',\n",
       "  'Proteins': '20,8 г',\n",
       "  'Fats': '5,8 г',\n",
       "  'Carbohydrates': '0 г'},\n",
       " {'Title': 'Буффало, гибрид бизона и коровы, мясной набор',\n",
       "  'Calories': '143 кКал',\n",
       "  'Proteins': '23,3 г',\n",
       "  'Fats': '4,8 г',\n",
       "  'Carbohydrates': '0 г'},\n",
       " {'Title': 'Буффало, гибрид бизона и коровы, мясной набор, запеченный',\n",
       "  'Calories': '188 кКал',\n",
       "  'Proteins': '30,66 г',\n",
       "  'Fats': '6,32 г',\n",
       "  'Carbohydrates': '0 г'},\n",
       " {'Title': 'Верблюжатина 1 категории',\n",
       "  'Calories': '160 кКал',\n",
       "  'Proteins': '18,9 г',\n",
       "  'Fats': '9,4 г',\n",
       "  'Carbohydrates': '0 г'},\n",
       " {'Title': 'Водяной буйвол',\n",
       "  'Calories': '99 кКал',\n",
       "  'Proteins': '20,39 г',\n",
       "  'Fats': '1,37 г',\n",
       "  'Carbohydrates': '0 г'},\n",
       " {'Title': 'Водяной буйвол, запеченный',\n",
       "  'Calories': '131 кКал',\n",
       "  'Proteins': '26,83 г',\n",
       "  'Fats': '1,8 г',\n",
       "  'Carbohydrates': '0 г'},\n",
       " {'Title': 'Глаза оленя карибу (Аляска)',\n",
       "  'Calories': '326 кКал',\n",
       "  'Proteins': '10,8 г',\n",
       "  'Fats': '31,4 г',\n",
       "  'Carbohydrates': '0 г'},\n",
       " {'Title': \"Голяшка, баранина, мясо и жир, обрезь до 1/8'' жира, жаренная\",\n",
       "  'Calories': '217 кКал',\n",
       "  'Proteins': '26,73 г',\n",
       "  'Fats': '11,4 г',\n",
       "  'Carbohydrates': '0 г'},\n",
       " {'Title': \"Голяшка, баранина, мясо и жир, обрезь до 1/8'' жира, сырая\",\n",
       "  'Calories': '185 кКал',\n",
       "  'Proteins': '18,99 г',\n",
       "  'Fats': '11,5 г',\n",
       "  'Carbohydrates': '0 г'},\n",
       " {'Title': 'Гуляш бараний, консервы',\n",
       "  'Calories': '213 кКал',\n",
       "  'Proteins': '14,2 г',\n",
       "  'Fats': '15,6 г',\n",
       "  'Carbohydrates': '3,9 г'},\n",
       " {'Title': 'Енот, запеченный',\n",
       "  'Calories': '255 кКал',\n",
       "  'Proteins': '29,2 г',\n",
       "  'Fats': '14,5 г',\n",
       "  'Carbohydrates': '0 г'},\n",
       " {'Title': 'Жир бараний приготовленный, Австралия',\n",
       "  'Calories': '639 кКал',\n",
       "  'Proteins': '9,42 г',\n",
       "  'Fats': '66,4 г',\n",
       "  'Carbohydrates': '0 г'},\n",
       " {'Title': 'Жир бараний сырой, Австралия',\n",
       "  'Calories': '648 кКал',\n",
       "  'Proteins': '6,27 г',\n",
       "  'Fats': '68,87 г',\n",
       "  'Carbohydrates': '0 г'},\n",
       " {'Title': 'Завтрак туриста (баранина), консервы',\n",
       "  'Calories': '210 кКал',\n",
       "  'Proteins': '18 г',\n",
       "  'Fats': '15,2 г',\n",
       "  'Carbohydrates': '0,2 г'},\n",
       " {'Title': 'Кабан',\n",
       "  'Calories': '122 кКал',\n",
       "  'Proteins': '21,51 г',\n",
       "  'Fats': '3,33 г',\n",
       "  'Carbohydrates': '0 г'},\n",
       " {'Title': 'Кабан, запеченный',\n",
       "  'Calories': '160 кКал',\n",
       "  'Proteins': '28,3 г',\n",
       "  'Fats': '4,38 г',\n",
       "  'Carbohydrates': '0 г'},\n",
       " {'Title': 'Карибу (канадский олень)',\n",
       "  'Calories': '127 кКал',\n",
       "  'Proteins': '22,63 г',\n",
       "  'Fats': '3,36 г',\n",
       "  'Carbohydrates': '0 г'},\n",
       " {'Title': 'Карибу (канадский олень), запеченный',\n",
       "  'Calories': '167 кКал',\n",
       "  'Proteins': '29,77 г',\n",
       "  'Fats': '4,42 г',\n",
       "  'Carbohydrates': '0 г'},\n",
       " {'Title': 'Карибу, костный мозг (Аляска)',\n",
       "  'Calories': '786 кКал',\n",
       "  'Proteins': '6,7 г',\n",
       "  'Fats': '84,4 г',\n",
       "  'Carbohydrates': '0 г'},\n",
       " {'Title': 'Карибу, мясо задней четвертины, приготовленное (Аляска)',\n",
       "  'Calories': '159 кКал',\n",
       "  'Proteins': '28,81 г',\n",
       "  'Fats': '4,82 г',\n",
       "  'Carbohydrates': '0 г'},\n",
       " {'Title': 'Карибу, огузок (кострец), наполовину высушенный (Аляска)',\n",
       "  'Calories': '255 кКал',\n",
       "  'Proteins': '52,06 г',\n",
       "  'Fats': '5,23 г',\n",
       "  'Carbohydrates': '0 г'},\n",
       " {'Title': 'Карибу, окорок (Аляска)',\n",
       "  'Calories': '122 кКал',\n",
       "  'Proteins': '22,63 г',\n",
       "  'Fats': '3,37 г',\n",
       "  'Carbohydrates': '0 г'},\n",
       " {'Title': 'Козлятина',\n",
       "  'Calories': '109 кКал',\n",
       "  'Proteins': '20,6 г',\n",
       "  'Fats': '2,31 г',\n",
       "  'Carbohydrates': '0 г'},\n",
       " {'Title': 'Козлятина, запеченная',\n",
       "  'Calories': '143 кКал',\n",
       "  'Proteins': '27,1 г',\n",
       "  'Fats': '3,03 г',\n",
       "  'Carbohydrates': '0 г'},\n",
       " {'Title': 'Конина',\n",
       "  'Calories': '133 кКал',\n",
       "  'Proteins': '21,39 г',\n",
       "  'Fats': '4,6 г',\n",
       "  'Carbohydrates': '0 г'},\n",
       " {'Title': 'Конина 1 кат.',\n",
       "  'Calories': '167 кКал',\n",
       "  'Proteins': '19,5 г',\n",
       "  'Fats': '9,9 г',\n",
       "  'Carbohydrates': '0 г'},\n",
       " {'Title': 'Конина 2 кат.',\n",
       "  'Calories': '121 кКал',\n",
       "  'Proteins': '20,9 г',\n",
       "  'Fats': '4,1 г',\n",
       "  'Carbohydrates': '0 г'},\n",
       " {'Title': 'Конина тушеная, консервы',\n",
       "  'Calories': '150 кКал',\n",
       "  'Proteins': '18,7 г',\n",
       "  'Fats': '8,4 г',\n",
       "  'Carbohydrates': '0 г'},\n",
       " {'Title': 'Конина, запеченная',\n",
       "  'Calories': '175 кКал',\n",
       "  'Proteins': '28,14 г',\n",
       "  'Fats': '6,05 г',\n",
       "  'Carbohydrates': '0 г'},\n",
       " {'Title': 'Котлеты отбивные из баранины, по 1-416',\n",
       "  'Calories': '394 кКал',\n",
       "  'Proteins': '20,6 г',\n",
       "  'Fats': '30,6 г',\n",
       "  'Carbohydrates': '9,1 г'},\n",
       " {'Title': 'Котлеты рубленые из баранины, по 1-442',\n",
       "  'Calories': '240 кКал',\n",
       "  'Proteins': '13,6 г',\n",
       "  'Fats': '14,8 г',\n",
       "  'Carbohydrates': '12,9 г'},\n",
       " {'Title': 'Кролик жареный, по 2-18',\n",
       "  'Calories': '241 кКал',\n",
       "  'Proteins': '31,5 г',\n",
       "  'Fats': '12,7 г',\n",
       "  'Carbohydrates': '0,1 г'},\n",
       " {'Title': 'Кролик отварной, по 2-6',\n",
       "  'Calories': '194 кКал',\n",
       "  'Proteins': '25,5 г',\n",
       "  'Fats': '10,4 г',\n",
       "  'Carbohydrates': '0 г'},\n",
       " {'Title': 'Кролик, дикий',\n",
       "  'Calories': '114 кКал',\n",
       "  'Proteins': '21,79 г',\n",
       "  'Fats': '2,32 г',\n",
       "  'Carbohydrates': '0 г'},\n",
       " {'Title': 'Кролик, дикий, тушеный',\n",
       "  'Calories': '173 кКал',\n",
       "  'Proteins': '33,02 г',\n",
       "  'Fats': '3,51 г',\n",
       "  'Carbohydrates': '0 г'},\n",
       " {'Title': 'Легкое баранье',\n",
       "  'Calories': '83 кКал',\n",
       "  'Proteins': '15,6 г',\n",
       "  'Fats': '2,3 г',\n",
       "  'Carbohydrates': '0 г'},\n",
       " {'Title': 'Легкое баранье',\n",
       "  'Calories': '95 кКал',\n",
       "  'Proteins': '16,7 г',\n",
       "  'Fats': '2,6 г',\n",
       "  'Carbohydrates': '0 г'},\n",
       " {'Title': 'Легкое баранье, тушеное',\n",
       "  'Calories': '113 кКал',\n",
       "  'Proteins': '19,88 г',\n",
       "  'Fats': '3,1 г',\n",
       "  'Carbohydrates': '0 г'},\n",
       " {'Title': 'Лось',\n",
       "  'Calories': '111 кКал',\n",
       "  'Proteins': '22,95 г',\n",
       "  'Fats': '1,45 г',\n",
       "  'Carbohydrates': '0 г'},\n",
       " {'Title': 'Лось, вырезка, только мясо, жаренный на открытом огне',\n",
       "  'Calories': '162 кКал',\n",
       "  'Proteins': '30,76 г',\n",
       "  'Fats': '3,41 г',\n",
       "  'Carbohydrates': '0 г'},\n",
       " {'Title': 'Лось, запеченный',\n",
       "  'Calories': '146 кКал',\n",
       "  'Proteins': '30,19 г',\n",
       "  'Fats': '1,9 г',\n",
       "  'Carbohydrates': '0 г'},\n",
       " {'Title': 'Лось, корейка, только мясо, жаренный на открытом огне',\n",
       "  'Calories': '167 кКал',\n",
       "  'Proteins': '31 г',\n",
       "  'Fats': '3,84 г',\n",
       "  'Carbohydrates': '0 г'},\n",
       " {'Title': 'Лось, тазобедренный отруб, только мясо, жаренный на открытом огне',\n",
       "  'Calories': '156 кКал',\n",
       "  'Proteins': '30,94 г',\n",
       "  'Fats': '2,64 г',\n",
       "  'Carbohydrates': '0 г'},\n",
       " {'Title': 'Медведь',\n",
       "  'Calories': '161 кКал',\n",
       "  'Proteins': '20,1 г',\n",
       "  'Fats': '8,3 г',\n",
       "  'Carbohydrates': '0 г'},\n",
       " {'Title': 'Медведь полярный (белый) (Аляска)',\n",
       "  'Calories': '130 кКал',\n",
       "  'Proteins': '25,6 г',\n",
       "  'Fats': '3,1 г',\n",
       "  'Carbohydrates': '0 г'},\n",
       " {'Title': 'Медведь, приготовленный на медленном огне',\n",
       "  'Calories': '259 кКал',\n",
       "  'Proteins': '32,42 г',\n",
       "  'Fats': '13,39 г',\n",
       "  'Carbohydrates': '0 г'},\n",
       " {'Title': 'Медведь, черный (Аляска)',\n",
       "  'Calories': '155 кКал',\n",
       "  'Proteins': '20,1 г',\n",
       "  'Fats': '8,3 г',\n",
       "  'Carbohydrates': '0 г'},\n",
       " {'Title': 'Мозги бараньи',\n",
       "  'Calories': '123 кКал',\n",
       "  'Proteins': '9,7 г',\n",
       "  'Fats': '9,4 г',\n",
       "  'Carbohydrates': '0 г'},\n",
       " {'Title': 'Мозги бараньи, жаренные на сковороде',\n",
       "  'Calories': '273 кКал',\n",
       "  'Proteins': '16,97 г',\n",
       "  'Fats': '22,19 г',\n",
       "  'Carbohydrates': '0 г'},\n",
       " {'Title': 'Мозги бараньи, тушеные',\n",
       "  'Calories': '145 кКал',\n",
       "  'Proteins': '12,55 г',\n",
       "  'Fats': '10,17 г',\n",
       "  'Carbohydrates': '0 г'},\n",
       " {'Title': 'Мозги, бараньи',\n",
       "  'Calories': '122 кКал',\n",
       "  'Proteins': '10,4 г',\n",
       "  'Fats': '8,58 г',\n",
       "  'Carbohydrates': '0 г'},\n",
       " {'Title': \"Мясной набор, баранина, мясо и жир, обрезь до 1/4'' жира, отборная, вареная\",\n",
       "  'Calories': '294 кКал',\n",
       "  'Proteins': '24,52 г',\n",
       "  'Fats': '20,94 г',\n",
       "  'Carbohydrates': '0 г'},\n",
       " {'Title': \"Мясной набор, баранина, мясо и жир, обрезь до 1/4'' жира, отборная, сырая\",\n",
       "  'Calories': '267 кКал',\n",
       "  'Proteins': '16,88 г',\n",
       "  'Fats': '21,59 г',\n",
       "  'Carbohydrates': '0 г'},\n",
       " {'Title': \"Мясной набор, баранина, мясо и жир, обрезь до 1/8'' жира, отборная, вареная\",\n",
       "  'Calories': '271 кКал',\n",
       "  'Proteins': '25,51 г',\n",
       "  'Fats': '18,01 г',\n",
       "  'Carbohydrates': '0 г'},\n",
       " {'Title': \"Мясной набор, баранина, мясо и жир, обрезь до 1/8'' жира, отборная, сырая\",\n",
       "  'Calories': '243 кКал',\n",
       "  'Proteins': '17,54 г',\n",
       "  'Fats': '18,66 г',\n",
       "  'Carbohydrates': '0 г'},\n",
       " {'Title': 'Мясной набор, баранина, Новая Зеландия, замороженная, мясо и жир, вареная',\n",
       "  'Calories': '305 кКал',\n",
       "  'Proteins': '24,42 г',\n",
       "  'Fats': '22,26 г',\n",
       "  'Carbohydrates': '0 г'},\n",
       " {'Title': \"Мясной набор, баранина, Новая Зеландия, замороженная, мясо и жир, обрезь до 1/8'' жира, отборная, вареная\",\n",
       "  'Calories': '270 кКал',\n",
       "  'Proteins': '25,26 г',\n",
       "  'Fats': '17,98 г',\n",
       "  'Carbohydrates': '0 г'},\n",
       " {'Title': \"Мясной набор, баранина, Новая Зеландия, замороженная, мясо и жир, обрезь до 1/8'' жира, отборная, сырая\",\n",
       "  'Calories': '232 кКал',\n",
       "  'Proteins': '17,95 г',\n",
       "  'Fats': '17,2 г',\n",
       "  'Carbohydrates': '0 г'},\n",
       " {'Title': 'Мясной набор, баранина, Новая Зеландия, замороженная, мясо и жир, сырая',\n",
       "  'Calories': '277 кКал',\n",
       "  'Proteins': '16,74 г',\n",
       "  'Fats': '22,74 г',\n",
       "  'Carbohydrates': '0 г'},\n",
       " {'Title': 'Мясной набор, баранина, Новая Зеландия, замороженная, только жир, вареная',\n",
       "  'Calories': '586 кКал',\n",
       "  'Proteins': '9,72 г',\n",
       "  'Fats': '60,39 г',\n",
       "  'Carbohydrates': '0 г'},\n",
       " {'Title': 'Мясной набор, баранина, Новая Зеландия, замороженная, только жир, сырая',\n",
       "  'Calories': '640 кКал',\n",
       "  'Proteins': '6,92 г',\n",
       "  'Fats': '67,63 г',\n",
       "  'Carbohydrates': '0 г'},\n",
       " {'Title': 'Мясной набор, баранина, Новая Зеландия, замороженная, только мясо, вареная',\n",
       "  'Calories': '206 кКал',\n",
       "  'Proteins': '29,59 г',\n",
       "  'Fats': '8,86 г',\n",
       "  'Carbohydrates': '0 г'},\n",
       " {'Title': 'Мясной набор, баранина, Новая Зеландия, замороженная, только мясо, сырая',\n",
       "  'Calories': '128 кКал',\n",
       "  'Proteins': '20,75 г',\n",
       "  'Fats': '4,41 г',\n",
       "  'Carbohydrates': '0 г'},\n",
       " {'Title': \"Мясной набор, баранина, только жир, обрезь до 1/4'' жира, отборная, вареная\",\n",
       "  'Calories': '586 кКал',\n",
       "  'Proteins': '12,16 г',\n",
       "  'Fats': '59,18 г',\n",
       "  'Carbohydrates': '0 г'},\n",
       " {'Title': \"Мясной набор, баранина, только жир, обрезь до 1/4'' жира, отборная, сырая\",\n",
       "  'Calories': '665 кКал',\n",
       "  'Proteins': '6,65 г',\n",
       "  'Fats': '70,61 г',\n",
       "  'Carbohydrates': '0 г'},\n",
       " {'Title': \"Мясной набор, баранина, только мясо, обрезь до 1/4'' жира, отборная, вареная\",\n",
       "  'Calories': '206 кКал',\n",
       "  'Proteins': '28,22 г',\n",
       "  'Fats': '9,52 г',\n",
       "  'Carbohydrates': '0 г'},\n",
       " {'Title': \"Мясной набор, баранина, только мясо, обрезь до 1/4'' жира, отборная, сырая\",\n",
       "  'Calories': '134 кКал',\n",
       "  'Proteins': '20,29 г',\n",
       "  'Fats': '5,25 г',\n",
       "  'Carbohydrates': '0 г'},\n",
       " {'Title': 'Мясо косули',\n",
       "  'Calories': '138 кКал',\n",
       "  'Proteins': '21,1 г',\n",
       "  'Fats': '6 г',\n",
       "  'Carbohydrates': '0 г'},\n",
       " {'Title': 'Мясо кролика',\n",
       "  'Calories': '183 кКал',\n",
       "  'Proteins': '21,2 г',\n",
       "  'Fats': '11 г',\n",
       "  'Carbohydrates': '0 г'},\n",
       " {'Title': 'Мясо лося',\n",
       "  'Calories': '101 кКал',\n",
       "  'Proteins': '21,4 г',\n",
       "  'Fats': '1,7 г',\n",
       "  'Carbohydrates': '0 г'},\n",
       " {'Title': 'Мясо сайгака',\n",
       "  'Calories': '208 кКал',\n",
       "  'Proteins': '21,2 г',\n",
       "  'Fats': '13,7 г',\n",
       "  'Carbohydrates': '0 г'},\n",
       " {'Title': 'Мясо яка',\n",
       "  'Calories': '112 кКал',\n",
       "  'Proteins': '20 г',\n",
       "  'Fats': '3,5 г',\n",
       "  'Carbohydrates': '0 г'},\n",
       " {'Title': \"Нога передняя, с лопаткой, баранина, мясо и жир, обрезь до 1/8'' жира, жаренная\",\n",
       "  'Calories': '269 кКал',\n",
       "  'Proteins': '22,7 г',\n",
       "  'Fats': '19,08 г',\n",
       "  'Carbohydrates': '0 г'},\n",
       " {'Title': \"Нога передняя, с лопаткой, баранина, мясо и жир, обрезь до 1/8'' жира, жаренная на открытом огне\",\n",
       "  'Calories': '268 кКал',\n",
       "  'Proteins': '23,84 г',\n",
       "  'Fats': '18,39 г',\n",
       "  'Carbohydrates': '0 г'},\n",
       " {'Title': \"Нога передняя, с лопаткой, баранина, мясо и жир, обрезь до 1/8'' жира, сырая\",\n",
       "  'Calories': '244 кКал',\n",
       "  'Proteins': '17,07 г',\n",
       "  'Fats': '18,96 г',\n",
       "  'Carbohydrates': '0 г'},\n",
       " {'Title': \"Нога передняя, с лопаткой, баранина, мясо и жир, обрезь до 1/8'' жира, тушеная\",\n",
       "  'Calories': '338 кКал',\n",
       "  'Proteins': '29,46 г',\n",
       "  'Fats': '23,57 г',\n",
       "  'Carbohydrates': '0 г'},\n",
       " {'Title': \"Нога, передняя, с лопаткой, баранина, Новая Зеландия, замороженная, мясо и жир, обрезь до 1/8'' жира, сырая\",\n",
       "  'Calories': '251 кКал',\n",
       "  'Proteins': '17,19 г',\n",
       "  'Fats': '19,74 г',\n",
       "  'Carbohydrates': '0 г'},\n",
       " {'Title': \"Нога, передняя, с лопаткой, баранина, Новая Зеландия, замороженная, мясо и жир, обрезь до 1/8'' жира, тушеная\",\n",
       "  'Calories': '342 кКал',\n",
       "  'Proteins': '29,43 г',\n",
       "  'Fats': '24,03 г',\n",
       "  'Carbohydrates': '0 г'},\n",
       " {'Title': 'Нога, передняя, с лопаткой, баранина, Новая Зеландия, замороженная, мясо и жир, сырая',\n",
       "  'Calories': '272 кКал',\n",
       "  'Proteins': '16,16 г',\n",
       "  'Fats': '22,89 г',\n",
       "  'Carbohydrates': '0,24 г'},\n",
       " {'Title': 'Нога, передняя, с лопаткой, баранина, Новая Зеландия, замороженная, мясо и жир, тушеная',\n",
       "  'Calories': '357 кКал',\n",
       "  'Proteins': '28,21 г',\n",
       "  'Fats': '26,27 г',\n",
       "  'Carbohydrates': '0 г'},\n",
       " {'Title': 'Нога, передняя, с лопаткой, баранина, Новая Зеландия, замороженная, только мясо, сырая',\n",
       "  'Calories': '154 кКал',\n",
       "  'Proteins': '19,72 г',\n",
       "  'Fats': '8,3 г',\n",
       "  'Carbohydrates': '0 г'},\n",
       " {'Title': 'Нога, передняя, с лопаткой, баранина, Новая Зеландия, замороженная, только мясо, тушеная',\n",
       "  'Calories': '285 кКал',\n",
       "  'Proteins': '34,06 г',\n",
       "  'Fats': '15,5 г',\n",
       "  'Carbohydrates': '0 г'},\n",
       " {'Title': \"Нога, целая, баранина, мясо и жир, обрезь до 1/8'' жира, отборная, жаренная\",\n",
       "  'Calories': '242 кКал',\n",
       "  'Proteins': '26,2 г',\n",
       "  'Fats': '14,42 г',\n",
       "  'Carbohydrates': '0 г'},\n",
       " {'Title': \"Нога, целая, баранина, мясо и жир, обрезь до 1/8'' жира, отборная, сырая\",\n",
       "  'Calories': '209 кКал',\n",
       "  'Proteins': '18,47 г',\n",
       "  'Fats': '14,42 г',\n",
       "  'Carbohydrates': '0 г'},\n",
       " {'Title': 'Нога, целая, баранина, Новая Зеландия, замороженная, мясо и жир, жаренная',\n",
       "  'Calories': '246 кКал',\n",
       "  'Proteins': '24,81 г',\n",
       "  'Fats': '15,56 г',\n",
       "  'Carbohydrates': '0 г'},\n",
       " {'Title': 'Нога, целая, баранина, Новая Зеландия, замороженная, мясо и жир, обрезь до 1/8\" жира, жаренная',\n",
       "  'Calories': '234 кКал',\n",
       "  'Proteins': '25,34 г',\n",
       "  'Fats': '13,95 г',\n",
       "  'Carbohydrates': '0 г'},\n",
       " {'Title': 'Нога, целая, баранина, Новая Зеландия, замороженная, мясо и жир, обрезь до 1/8\" жира, сырая',\n",
       "  'Calories': '201 кКал',\n",
       "  'Proteins': '18,76 г',\n",
       "  'Fats': '13,37 г',\n",
       "  'Carbohydrates': '0 г'},\n",
       " {'Title': 'Нога, целая, баранина, Новая Зеландия, замороженная, мясо и жир, сырая',\n",
       "  'Calories': '206 кКал',\n",
       "  'Proteins': '18,64 г',\n",
       "  'Fats': '14,52 г',\n",
       "  'Carbohydrates': '0,13 г'},\n",
       " {'Title': 'Нога, целая, баранина, Новая Зеландия, замороженная, только мясо, жаренная',\n",
       "  'Calories': '181 кКал',\n",
       "  'Proteins': '27,68 г',\n",
       "  'Fats': '7,01 г',\n",
       "  'Carbohydrates': '0 г'},\n",
       " {'Title': 'Нога, целая, баранина, Новая Зеландия, замороженная, только мясо, сырая',\n",
       "  'Calories': '126 кКал',\n",
       "  'Proteins': '21,1 г',\n",
       "  'Fats': '4,64 г',\n",
       "  'Carbohydrates': '0 г'},\n",
       " {'Title': 'Оленина 1 кат.',\n",
       "  'Calories': '155 кКал',\n",
       "  'Proteins': '19,5 г',\n",
       "  'Fats': '8,5 г',\n",
       "  'Carbohydrates': '0 г'},\n",
       " {'Title': 'Оленина тушеная, консервы',\n",
       "  'Calories': '171 кКал',\n",
       "  'Proteins': '19,3 г',\n",
       "  'Fats': '10,4 г',\n",
       "  'Carbohydrates': '0 г'},\n",
       " {'Title': 'Оленина, 2 категории',\n",
       "  'Calories': '125 кКал',\n",
       "  'Proteins': '21 г',\n",
       "  'Fats': '4,5 г',\n",
       "  'Carbohydrates': '0 г'},\n",
       " {'Title': 'Олень, (лань)',\n",
       "  'Calories': '120 кКал',\n",
       "  'Proteins': '22,96 г',\n",
       "  'Fats': '2,42 г',\n",
       "  'Carbohydrates': '0 г'},\n",
       " {'Title': 'Олень, (лань), запеченный',\n",
       "  'Calories': '158 кКал',\n",
       "  'Proteins': '30,21 г',\n",
       "  'Fats': '3,19 г',\n",
       "  'Carbohydrates': '0 г'},\n",
       " {'Title': 'Олень, (лань), мякоть плечевой части, только мясо, тушеный',\n",
       "  'Calories': '191 кКал',\n",
       "  'Proteins': '36,28 г',\n",
       "  'Fats': '3,95 г',\n",
       "  'Carbohydrates': '0 г'},\n",
       " {'Title': 'Олень, (лань), стейк из верхней части бедра, только мясо, жареный на открытом огне',\n",
       "  'Calories': '152 кКал',\n",
       "  'Proteins': '31,47 г',\n",
       "  'Fats': '1,92 г',\n",
       "  'Carbohydrates': '0 г'},\n",
       " {'Title': 'Олень, (лань), стейк из филея, только мясо, жаренный на открытом огне',\n",
       "  'Calories': '150 кКал',\n",
       "  'Proteins': '30,2 г',\n",
       "  'Fats': '2,38 г',\n",
       "  'Carbohydrates': '0 г'},\n",
       " {'Title': 'Олень, сырой, (Аляска, Ситка)',\n",
       "  'Calories': '116 кКал',\n",
       "  'Proteins': '21,5 г',\n",
       "  'Fats': '2,66 г',\n",
       "  'Carbohydrates': '0 г'},\n",
       " {'Title': 'Ондатра (выхухоль)',\n",
       "  'Calories': '162 кКал',\n",
       "  'Proteins': '20,76 г',\n",
       "  'Fats': '8,1 г',\n",
       "  'Carbohydrates': '0 г'},\n",
       " {'Title': 'Ондатра (выхухоль), запеченная',\n",
       "  'Calories': '234 кКал',\n",
       "  'Proteins': '30,09 г',\n",
       "  'Fats': '11,74 г',\n",
       "  'Carbohydrates': '0 г'},\n",
       " {'Title': 'Опоссум, запеченный',\n",
       "  'Calories': '221 кКал',\n",
       "  'Proteins': '30,2 г',\n",
       "  'Fats': '10,2 г',\n",
       "  'Carbohydrates': '0 г'},\n",
       " {'Title': 'Печень баранья',\n",
       "  'Calories': '101 кКал',\n",
       "  'Proteins': '18,7 г',\n",
       "  'Fats': '2,9 г',\n",
       "  'Carbohydrates': '0 г'},\n",
       " {'Title': 'Печень баранья',\n",
       "  'Calories': '139 кКал',\n",
       "  'Proteins': '20,38 г',\n",
       "  'Fats': '5,02 г',\n",
       "  'Carbohydrates': '1,78 г'},\n",
       " {'Title': 'Печень баранья, жаренная  на сковороде',\n",
       "  'Calories': '238 кКал',\n",
       "  'Proteins': '25,53 г',\n",
       "  'Fats': '12,65 г',\n",
       "  'Carbohydrates': '3,78 г'},\n",
       " {'Title': 'Печень баранья, тушеная',\n",
       "  'Calories': '220 кКал',\n",
       "  'Proteins': '30,57 г',\n",
       "  'Fats': '8,81 г',\n",
       "  'Carbohydrates': '2,53 г'},\n",
       " {'Title': 'Печень северного оленя карибу, (Аляска)',\n",
       "  'Calories': '122 кКал',\n",
       "  'Proteins': '15 г',\n",
       "  'Fats': '3,9 г',\n",
       "  'Carbohydrates': '6,8 г'},\n",
       " {'Title': 'Поджарка из баранины, по 1-408',\n",
       "  'Calories': '409 кКал',\n",
       "  'Proteins': '19,5 г',\n",
       "  'Fats': '35,1 г',\n",
       "  'Carbohydrates': '3,9 г'},\n",
       " {'Title': 'Поджелудочная железа баранья',\n",
       "  'Calories': '152 кКал',\n",
       "  'Proteins': '14,84 г',\n",
       "  'Fats': '9,82 г',\n",
       "  'Carbohydrates': '0 г'},\n",
       " {'Title': 'Поджелудочная железа баранья тушеная',\n",
       "  'Calories': '234 кКал',\n",
       "  'Proteins': '22,83 г',\n",
       "  'Fats': '15,12 г',\n",
       "  'Carbohydrates': '0 г'},\n",
       " {'Title': 'Почки бараньи',\n",
       "  'Calories': '77 кКал',\n",
       "  'Proteins': '13,6 г',\n",
       "  'Fats': '2,5 г',\n",
       "  'Carbohydrates': '0 г'},\n",
       " {'Title': 'Почки бараньи',\n",
       "  'Calories': '97 кКал',\n",
       "  'Proteins': '15,74 г',\n",
       "  'Fats': '2,95 г',\n",
       "  'Carbohydrates': '0,82 г'},\n",
       " {'Title': 'Почки бараньи, тушеные',\n",
       "  'Calories': '137 кКал',\n",
       "  'Proteins': '23,65 г',\n",
       "  'Fats': '3,62 г',\n",
       "  'Carbohydrates': '0,99 г'},\n",
       " {'Title': 'Рагу из баранины, по 1-430',\n",
       "  'Calories': '152 кКал',\n",
       "  'Proteins': '5,1 г',\n",
       "  'Fats': '10,1 г',\n",
       "  'Carbohydrates': '10,1 г'},\n",
       " {'Title': 'Рагу из кролика, по 2-10',\n",
       "  'Calories': '123 кКал',\n",
       "  'Proteins': '6,4 г',\n",
       "  'Fats': '6,1 г',\n",
       "  'Carbohydrates': '10,4 г'},\n",
       " {'Title': \"Ребра, баранина, мясо и жир, обрезь до 1/8'' жира, отборная, жаренная\",\n",
       "  'Calories': '341 кКал',\n",
       "  'Proteins': '21,82 г',\n",
       "  'Fats': '27,53 г',\n",
       "  'Carbohydrates': '0 г'},\n",
       " {'Title': \"Ребра, баранина, мясо и жир, обрезь до 1/8'' жира, отборная, жаренная на открытом огне\",\n",
       "  'Calories': '340 кКал',\n",
       "  'Proteins': '23,06 г',\n",
       "  'Fats': '26,82 г',\n",
       "  'Carbohydrates': '0 г'},\n",
       " {'Title': \"Ребра, баранина, мясо и жир, обрезь до 1/8'' жира, отборная, сырая\",\n",
       "  'Calories': '342 кКал',\n",
       "  'Proteins': '15,32 г',\n",
       "  'Fats': '30,71 г',\n",
       "  'Carbohydrates': '0 г'},\n",
       " {'Title': 'Ребра, баранина, Новая Зеландия, замороженная, мясо и жир, жаренная',\n",
       "  'Calories': '253 кКал',\n",
       "  'Proteins': '22,06 г',\n",
       "  'Fats': '18,29 г',\n",
       "  'Carbohydrates': '0,04 г'},\n",
       " {'Title': \"Ребра, баранина, Новая Зеландия, замороженная, мясо и жир, обрезь дл 1/8'' жира, жаренная\",\n",
       "  'Calories': '317 кКал',\n",
       "  'Proteins': '19,86 г',\n",
       "  'Fats': '25,74 г',\n",
       "  'Carbohydrates': '0 г'},\n",
       " {'Title': \"Ребра, баранина, Новая Зеландия, замороженная, мясо и жир, обрезь дл 1/8'' жира, сырая\",\n",
       "  'Calories': '311 кКал',\n",
       "  'Proteins': '15,87 г',\n",
       "  'Fats': '27 г',\n",
       "  'Carbohydrates': '0 г'},\n",
       " {'Title': 'Ребра, баранина, Новая Зеландия, замороженная, мясо и жир, сырая',\n",
       "  'Calories': '240 кКал',\n",
       "  'Proteins': '18,12 г',\n",
       "  'Fats': '18,52 г',\n",
       "  'Carbohydrates': '0,13 г'},\n",
       " {'Title': 'Ребра, баранина, Новая Зеландия, замороженная, только мясо, жаренная',\n",
       "  'Calories': '196 кКал',\n",
       "  'Proteins': '24,42 г',\n",
       "  'Fats': '10,16 г',\n",
       "  'Carbohydrates': '0 г'},\n",
       " {'Title': 'Ребра, баранина, Новая Зеландия, замороженная, только мясо, сырая',\n",
       "  'Calories': '160 кКал',\n",
       "  'Proteins': '20,65 г',\n",
       "  'Fats': '8,61 г',\n",
       "  'Carbohydrates': '0 г'},\n",
       " {'Title': 'Рубец бараний',\n",
       "  'Calories': '82 кКал',\n",
       "  'Proteins': '11,5 г',\n",
       "  'Fats': '4 г',\n",
       "  'Carbohydrates': '0 г'},\n",
       " {'Title': 'Рулька, баранина, мясо и жир, обрезь до 1/4\" жира, отборная, сырая',\n",
       "  'Calories': '201 кКал',\n",
       "  'Proteins': '18,91 г',\n",
       "  'Fats': '13,38 г',\n",
       "  'Carbohydrates': '0 г'},\n",
       " {'Title': 'Рулька, баранина, мясо и жир, обрезь до 1/4\" жира, отборная, тушеная',\n",
       "  'Calories': '243 кКал',\n",
       "  'Proteins': '28,37 г',\n",
       "  'Fats': '13,46 г',\n",
       "  'Carbohydrates': '0 г'},\n",
       " {'Title': 'Рулька, баранина, Новая Зеландия, замороженная, мясо и жир, обрезь до 1/8\" жира, сырая',\n",
       "  'Calories': '223 кКал',\n",
       "  'Proteins': '18,04 г',\n",
       "  'Fats': '16,15 г',\n",
       "  'Carbohydrates': '0 г'},\n",
       " {'Title': 'Рулька, баранина, Новая Зеландия, замороженная, мясо и жир, обрезь до 1/8\" жира, тушеная',\n",
       "  'Calories': '258 кКал',\n",
       "  'Proteins': '26,97 г',\n",
       "  'Fats': '15,83 г',\n",
       "  'Carbohydrates': '0 г'},\n",
       " {'Title': 'Рулька, баранина, Новая Зеландия, замороженная, мясо и жир, сырая',\n",
       "  'Calories': '183 кКал',\n",
       "  'Proteins': '20,09 г',\n",
       "  'Fats': '11,38 г',\n",
       "  'Carbohydrates': '0,09 г'},\n",
       " {'Title': 'Рулька, баранина, Новая Зеландия, замороженная, мясо и жир, тушеная',\n",
       "  'Calories': '258 кКал',\n",
       "  'Proteins': '26,97 г',\n",
       "  'Fats': '15,83 г',\n",
       "  'Carbohydrates': '0 г'},\n",
       " {'Title': 'Рулька, баранина, Новая Зеландия, замороженная, только мясо, сырая',\n",
       "  'Calories': '122 кКал',\n",
       "  'Proteins': '22,05 г',\n",
       "  'Fats': '3,77 г',\n",
       "  'Carbohydrates': '0 г'},\n",
       " {'Title': 'Рулька, баранина, Новая Зеландия, замороженная, только мясо, тушеная',\n",
       "  'Calories': '209 кКал',\n",
       "  'Proteins': '33,31 г',\n",
       "  'Fats': '8,4 г',\n",
       "  'Carbohydrates': '0 г'},\n",
       " {'Title': 'Селезенка баранья',\n",
       "  'Calories': '101 кКал',\n",
       "  'Proteins': '17,2 г',\n",
       "  'Fats': '3,1 г',\n",
       "  'Carbohydrates': '0 г'},\n",
       " {'Title': 'Селезенка баранья, тушеная',\n",
       "  'Calories': '156 кКал',\n",
       "  'Proteins': '26,46 г',\n",
       "  'Fats': '4,77 г',\n",
       "  'Carbohydrates': '0 г'},\n",
       " {'Title': 'Сердце баранье',\n",
       "  'Calories': '86 кКал',\n",
       "  'Proteins': '13,5 г',\n",
       "  'Fats': '3,5 г',\n",
       "  'Carbohydrates': '0 г'},\n",
       " {'Title': 'Сердце баранье',\n",
       "  'Calories': '122 кКал',\n",
       "  'Proteins': '16,47 г',\n",
       "  'Fats': '5,68 г',\n",
       "  'Carbohydrates': '0,21 г'},\n",
       " {'Title': 'Сердце баранье, тушеное',\n",
       "  'Calories': '185 кКал',\n",
       "  'Proteins': '24,97 г',\n",
       "  'Fats': '7,91 г',\n",
       "  'Carbohydrates': '1,93 г'},\n",
       " {'Title': 'Фарш из баранины',\n",
       "  'Calories': '282 кКал',\n",
       "  'Proteins': '16,56 г',\n",
       "  'Fats': '23,41 г',\n",
       "  'Carbohydrates': '0 г'},\n",
       " {'Title': 'Фарш из баранины, жаренный на открытом огне',\n",
       "  'Calories': '283 кКал',\n",
       "  'Proteins': '24,75 г',\n",
       "  'Fats': '19,65 г',\n",
       "  'Carbohydrates': '0 г'},\n",
       " {'Title': 'Фарш из мяса белки (Аляска)',\n",
       "  'Calories': '111 кКал',\n",
       "  'Proteins': '19,3 г',\n",
       "  'Fats': '3,8 г',\n",
       "  'Carbohydrates': '0 г'},\n",
       " {'Title': 'Фарш из мяса бизона',\n",
       "  'Calories': '223 кКал',\n",
       "  'Proteins': '18,67 г',\n",
       "  'Fats': '15,93 г',\n",
       "  'Carbohydrates': '0 г'},\n",
       " {'Title': 'Фарш из мяса бизона, жаренный на сковороде',\n",
       "  'Calories': '238 кКал',\n",
       "  'Proteins': '23,77 г',\n",
       "  'Fats': '15,13 г',\n",
       "  'Carbohydrates': '0 г'},\n",
       " {'Title': 'Фарш из мяса зубра пастбищного',\n",
       "  'Calories': '146 кКал',\n",
       "  'Proteins': '20,23 г',\n",
       "  'Fats': '7,21 г',\n",
       "  'Carbohydrates': '0,05 г'},\n",
       " {'Title': 'Фарш из мяса зубра пастбищного, приготовленный',\n",
       "  'Calories': '179 кКал',\n",
       "  'Proteins': '25,45 г',\n",
       "  'Fats': '8,62 г',\n",
       "  'Carbohydrates': '0 г'},\n",
       " {'Title': 'Фарш из мяса лося',\n",
       "  'Calories': '172 кКал',\n",
       "  'Proteins': '21,76 г',\n",
       "  'Fats': '8,82 г',\n",
       "  'Carbohydrates': '0 г'},\n",
       " {'Title': 'Фарш из мяса лося, жаренный на сковороде',\n",
       "  'Calories': '193 кКал',\n",
       "  'Proteins': '26,64 г',\n",
       "  'Fats': '8,74 г',\n",
       "  'Carbohydrates': '0 г'},\n",
       " {'Title': 'Фарш из мяса оленя (лани)',\n",
       "  'Calories': '157 кКал',\n",
       "  'Proteins': '21,78 г',\n",
       "  'Fats': '7,13 г',\n",
       "  'Carbohydrates': '0 г'},\n",
       " {'Title': 'Фарш из мяса оленя (лани), жаренный на сковороде',\n",
       "  'Calories': '187 кКал',\n",
       "  'Proteins': '26,45 г',\n",
       "  'Fats': '8,22 г',\n",
       "  'Carbohydrates': '0 г'},\n",
       " {'Title': 'Шницель отбивной из баранины, по 1-416',\n",
       "  'Calories': '333 кКал',\n",
       "  'Proteins': '21,8 г',\n",
       "  'Fats': '23,2 г',\n",
       "  'Carbohydrates': '9,1 г'},\n",
       " {'Title': 'Ягнятина',\n",
       "  'Calories': '196 кКал',\n",
       "  'Proteins': '17,2 г',\n",
       "  'Fats': '14,1 г',\n",
       "  'Carbohydrates': '0 г'},\n",
       " {'Title': 'Ягнятина, лопаточная часть',\n",
       "  'Calories': '259 кКал',\n",
       "  'Proteins': '16,63 г',\n",
       "  'Fats': '20,86 г',\n",
       "  'Carbohydrates': '0 г'},\n",
       " {'Title': 'Ягнятина, лопаточная часть жаренная на открытом огне',\n",
       "  'Calories': '278 кКал',\n",
       "  'Proteins': '23,08 г',\n",
       "  'Fats': '19,94 г',\n",
       "  'Carbohydrates': '0 г'},\n",
       " {'Title': 'Ягнятина, лопаточная часть только мясо',\n",
       "  'Calories': '151 кКал',\n",
       "  'Proteins': '19,29 г',\n",
       "  'Fats': '7,63 г',\n",
       "  'Carbohydrates': '0 г'},\n",
       " {'Title': 'Ягнятина, лопаточная часть только мясо, жаренная на открытом огне',\n",
       "  'Calories': '211 кКал',\n",
       "  'Proteins': '25,48 г',\n",
       "  'Fats': '11,32 г',\n",
       "  'Carbohydrates': '0 г'},\n",
       " {'Title': 'Ягнятина, лопаточная часть только мясо, запеченная',\n",
       "  'Calories': '209 кКал',\n",
       "  'Proteins': '24,61 г',\n",
       "  'Fats': '11,57 г',\n",
       "  'Carbohydrates': '0 г'},\n",
       " {'Title': 'Ягнятина, лопаточная часть, запеченная',\n",
       "  'Calories': '281 кКал',\n",
       "  'Proteins': '22,25 г',\n",
       "  'Fats': '20,61 г',\n",
       "  'Carbohydrates': '0 г'},\n",
       " {'Title': 'Ягнятина, лопаточная часть, только мясо, тушеная',\n",
       "  'Calories': '288 кКал',\n",
       "  'Proteins': '32,35 г',\n",
       "  'Fats': '16,64 г',\n",
       "  'Carbohydrates': '0 г'},\n",
       " {'Title': 'Ягнятина, лопаточная часть, тушеная',\n",
       "  'Calories': '345 кКал',\n",
       "  'Proteins': '28,51 г',\n",
       "  'Fats': '24,73 г',\n",
       "  'Carbohydrates': '0 г'},\n",
       " {'Title': 'Ягнятина, окорок',\n",
       "  'Calories': '272 кКал',\n",
       "  'Proteins': '16,94 г',\n",
       "  'Fats': '22,11 г',\n",
       "  'Carbohydrates': '0 г'},\n",
       " {'Title': 'Ягнятина, окорок, запеченный',\n",
       "  'Calories': '292 кКал',\n",
       "  'Proteins': '24,63 г',\n",
       "  'Fats': '20,67 г',\n",
       "  'Carbohydrates': '0 г'},\n",
       " {'Title': 'Ягнятина, окорок, только мясо, запеченный',\n",
       "  'Calories': '204 кКал',\n",
       "  'Proteins': '28,35 г',\n",
       "  'Fats': '9,17 г',\n",
       "  'Carbohydrates': '0 г'},\n",
       " {'Title': 'Ягнятина, плечевая часть',\n",
       "  'Calories': '260 кКал',\n",
       "  'Proteins': '16,79 г',\n",
       "  'Fats': '20,9 г',\n",
       "  'Carbohydrates': '0 г'},\n",
       " {'Title': 'Ягнятина, плечевая часть, жаренная на открытом огне',\n",
       "  'Calories': '281 кКал',\n",
       "  'Proteins': '24,44 г',\n",
       "  'Fats': '19,55 г',\n",
       "  'Carbohydrates': '0 г'},\n",
       " {'Title': 'Ягнятина, плечевая часть, запеченная',\n",
       "  'Calories': '279 кКал',\n",
       "  'Proteins': '22,53 г',\n",
       "  'Fats': '20,24 г',\n",
       "  'Carbohydrates': '0 г'},\n",
       " {'Title': 'Ягнятина, плечевая часть, только мясо',\n",
       "  'Calories': '132 кКал',\n",
       "  'Proteins': '19,99 г',\n",
       "  'Fats': '5,2 г',\n",
       "  'Carbohydrates': '0 г'},\n",
       " {'Title': 'Ягнятина, плечевая часть, только мясо, жаренная на открытом огне',\n",
       "  'Calories': '200 кКал',\n",
       "  'Proteins': '27,71 г',\n",
       "  'Fats': '9,02 г',\n",
       "  'Carbohydrates': '0 г'},\n",
       " {'Title': 'Ягнятина, плечевая часть, только мясо, запеченная',\n",
       "  'Calories': '192 кКал',\n",
       "  'Proteins': '25,46 г',\n",
       "  'Fats': '9,26 г',\n",
       "  'Carbohydrates': '0 г'},\n",
       " {'Title': 'Ягнятина, плечевая часть, только мясо, тушеная',\n",
       "  'Calories': '279 кКал',\n",
       "  'Proteins': '35,54 г',\n",
       "  'Fats': '14,08 г',\n",
       "  'Carbohydrates': '0 г'},\n",
       " {'Title': 'Ягнятина, плечевая часть, тушеная',\n",
       "  'Calories': '346 кКал',\n",
       "  'Proteins': '30,39 г',\n",
       "  'Fats': '24 г',\n",
       "  'Carbohydrates': '0 г'},\n",
       " {'Title': 'Язык бараний',\n",
       "  'Calories': '195 кКал',\n",
       "  'Proteins': '12,6 г',\n",
       "  'Fats': '16,1 г',\n",
       "  'Carbohydrates': '0 г'},\n",
       " {'Title': 'Язык бараний',\n",
       "  'Calories': '222 кКал',\n",
       "  'Proteins': '15,7 г',\n",
       "  'Fats': '17,17 г',\n",
       "  'Carbohydrates': '0 г'},\n",
       " {'Title': 'Язык бараний тушеный',\n",
       "  'Calories': '275 кКал',\n",
       "  'Proteins': '21,57 г',\n",
       "  'Fats': '20,28 г',\n",
       "  'Carbohydrates': '0 г'},\n",
       " {'Title': 'Язык оленя карибу (Аляска)',\n",
       "  'Calories': '260 кКал',\n",
       "  'Proteins': '13,7 г',\n",
       "  'Fats': '22,8 г',\n",
       "  'Carbohydrates': '0 г'}]"
      ]
     },
     "execution_count": 25,
     "metadata": {},
     "output_type": "execute_result"
    }
   ],
   "source": [
    "# \n",
    "product_info"
   ]
  },
  {
   "cell_type": "markdown",
   "metadata": {},
   "source": [
    "### Запись химического состава продуктов в csv файл"
   ]
  },
  {
   "cell_type": "code",
   "execution_count": 26,
   "metadata": {},
   "outputs": [],
   "source": [
    "# Продолжим записывать данные в наш CSV-файл (\"a\" - от слова append или добавить)\n",
    "with open(f\"../data/interim/csv/{count}_{category_name}_0.csv\", \"a\", encoding=\"utf-8\") as file:\n",
    "    writer = csv.writer(file)\n",
    "    writer.writerow(\n",
    "        (\n",
    "            title,\n",
    "            calories,\n",
    "            proteins,\n",
    "            fats,\n",
    "            carbohydrates\n",
    "        )\n",
    "    )"
   ]
  },
  {
   "cell_type": "markdown",
   "metadata": {},
   "source": [
    "### Создание списка и запись данных в json файл "
   ]
  },
  {
   "cell_type": "code",
   "execution_count": 27,
   "metadata": {},
   "outputs": [],
   "source": [
    "# \n",
    "with open(f\"../data/interim/json/{count}_{category_name}.json\", \"a\", encoding=\"utf-8\") as file:\n",
    "        json.dump(product_info, file, indent=4, ensure_ascii=False)"
   ]
  },
  {
   "cell_type": "code",
   "execution_count": null,
   "metadata": {},
   "outputs": [],
   "source": []
  },
  {
   "cell_type": "markdown",
   "metadata": {},
   "source": [
    "### Запуск парсера, объединение всех кусков кода в одно целое"
   ]
  },
  {
   "cell_type": "code",
   "execution_count": 28,
   "metadata": {},
   "outputs": [],
   "source": [
    "# Прочитаем JSON-файл и сохраним содержимое в переменную\n",
    "with open(\"../data/interim/json/all_categories_dict_2.json\") as file:\n",
    "    all_categories = json.load(file)"
   ]
  },
  {
   "cell_type": "code",
   "execution_count": 31,
   "metadata": {
    "scrolled": true
   },
   "outputs": [
    {
     "name": "stdout",
     "output_type": "stream",
     "text": [
      "Всего итераций: 53\n"
     ]
    },
    {
     "ename": "UnicodeEncodeError",
     "evalue": "'charmap' codec can't encode character '\\U0001f929' in position 318853: character maps to <undefined>",
     "output_type": "error",
     "traceback": [
      "\u001b[1;31m---------------------------------------------------------------------------\u001b[0m",
      "\u001b[1;31mUnicodeEncodeError\u001b[0m                        Traceback (most recent call last)",
      "Cell \u001b[1;32mIn[31], line 20\u001b[0m\n\u001b[0;32m     17\u001b[0m src \u001b[38;5;241m=\u001b[39m req\u001b[38;5;241m.\u001b[39mtext\n\u001b[0;32m     19\u001b[0m \u001b[38;5;28;01mwith\u001b[39;00m \u001b[38;5;28mopen\u001b[39m(\u001b[38;5;124mf\u001b[39m\u001b[38;5;124m\"\u001b[39m\u001b[38;5;124m../data/interim/html/\u001b[39m\u001b[38;5;132;01m{\u001b[39;00mcount\u001b[38;5;132;01m}\u001b[39;00m\u001b[38;5;124m_\u001b[39m\u001b[38;5;132;01m{\u001b[39;00mcategory_name\u001b[38;5;132;01m}\u001b[39;00m\u001b[38;5;124m.html\u001b[39m\u001b[38;5;124m\"\u001b[39m, \u001b[38;5;124m\"\u001b[39m\u001b[38;5;124mw\u001b[39m\u001b[38;5;124m\"\u001b[39m) \u001b[38;5;28;01mas\u001b[39;00m file:\n\u001b[1;32m---> 20\u001b[0m     \u001b[43mfile\u001b[49m\u001b[38;5;241;43m.\u001b[39;49m\u001b[43mwrite\u001b[49m\u001b[43m(\u001b[49m\u001b[43msrc\u001b[49m\u001b[43m)\u001b[49m\n\u001b[0;32m     22\u001b[0m \u001b[38;5;28;01mwith\u001b[39;00m \u001b[38;5;28mopen\u001b[39m(\u001b[38;5;124mf\u001b[39m\u001b[38;5;124m\"\u001b[39m\u001b[38;5;124m../data/interim/html/\u001b[39m\u001b[38;5;132;01m{\u001b[39;00mcount\u001b[38;5;132;01m}\u001b[39;00m\u001b[38;5;124m_\u001b[39m\u001b[38;5;132;01m{\u001b[39;00mcategory_name\u001b[38;5;132;01m}\u001b[39;00m\u001b[38;5;124m.html\u001b[39m\u001b[38;5;124m\"\u001b[39m) \u001b[38;5;28;01mas\u001b[39;00m file:\n\u001b[0;32m     23\u001b[0m     src \u001b[38;5;241m=\u001b[39m file\u001b[38;5;241m.\u001b[39mread()\n",
      "File \u001b[1;32mC:\\Python310\\lib\\encodings\\cp1251.py:19\u001b[0m, in \u001b[0;36mIncrementalEncoder.encode\u001b[1;34m(self, input, final)\u001b[0m\n\u001b[0;32m     18\u001b[0m \u001b[38;5;28;01mdef\u001b[39;00m \u001b[38;5;21mencode\u001b[39m(\u001b[38;5;28mself\u001b[39m, \u001b[38;5;28minput\u001b[39m, final\u001b[38;5;241m=\u001b[39m\u001b[38;5;28;01mFalse\u001b[39;00m):\n\u001b[1;32m---> 19\u001b[0m     \u001b[38;5;28;01mreturn\u001b[39;00m \u001b[43mcodecs\u001b[49m\u001b[38;5;241;43m.\u001b[39;49m\u001b[43mcharmap_encode\u001b[49m\u001b[43m(\u001b[49m\u001b[38;5;28;43minput\u001b[39;49m\u001b[43m,\u001b[49m\u001b[38;5;28;43mself\u001b[39;49m\u001b[38;5;241;43m.\u001b[39;49m\u001b[43merrors\u001b[49m\u001b[43m,\u001b[49m\u001b[43mencoding_table\u001b[49m\u001b[43m)\u001b[49m[\u001b[38;5;241m0\u001b[39m]\n",
      "\u001b[1;31mUnicodeEncodeError\u001b[0m: 'charmap' codec can't encode character '\\U0001f929' in position 318853: character maps to <undefined>"
     ]
    }
   ],
   "source": [
    "# \n",
    "with open(\"../data/interim/json/all_categories_dict_2.json\") as file:\n",
    "    all_categories = json.load(file)\n",
    "\n",
    "iteration_count = int(len(all_categories)) - 1\n",
    "count = 0\n",
    "print(f\"Всего итераций: {iteration_count}\")\n",
    "\n",
    "for category_name, category_href in all_categories.items():\n",
    "\n",
    "    rep = [\",\", \" \", \"-\", \"'\"]\n",
    "    for item in rep:\n",
    "        if item in category_name:\n",
    "            category_name = category_name.replace(item, \"_\")\n",
    "\n",
    "    req = requests.get(url=category_href, headers=HEADERS)\n",
    "    src = req.text\n",
    "\n",
    "    with open(f\"../data/interim/html/{count}_{category_name}.html\", \"w\") as file:\n",
    "        file.write(src)\n",
    "\n",
    "    with open(f\"../data/interim/html/{count}_{category_name}.html\") as file:\n",
    "        src = file.read()\n",
    "\n",
    "    soup = BeautifulSoup(src, \"lxml\")\n",
    "\n",
    "    # проверка страницы на наличие таблицы с продуктами\n",
    "    alert_block = soup.find(class_=\"uk-alert-danger\")\n",
    "    if alert_block is not None:\n",
    "        continue\n",
    "\n",
    "    # собираем заголовки таблицы\n",
    "    table_head = soup.find(class_=\"mzr-tc-group-table\").find(\"tr\").find_all(\"th\")\n",
    "    product = table_head[0].text\n",
    "    calories = table_head[1].text\n",
    "    proteins = table_head[2].text\n",
    "    fats = table_head[3].text\n",
    "    carbohydrates = table_head[4].text\n",
    "\n",
    "    with open(f\"../data/interim/csv/{count}_{category_name}.csv\", \"w\", encoding=\"utf-8\") as file:\n",
    "        writer = csv.writer(file)\n",
    "        writer.writerow(\n",
    "            (\n",
    "                product,\n",
    "                calories,\n",
    "                proteins,\n",
    "                fats,\n",
    "                carbohydrates\n",
    "            )\n",
    "        )\n",
    "\n",
    "    # собираем данные продуктов\n",
    "    products_data = soup.find(class_=\"mzr-tc-group-table\").find(\"tbody\").find_all(\"tr\")\n",
    "\n",
    "    product_info = []\n",
    "    for item in products_data:\n",
    "        product_tds = item.find_all(\"td\")\n",
    "\n",
    "        title = product_tds[0].find(\"a\").text\n",
    "        calories = product_tds[1].text\n",
    "        proteins = product_tds[2].text\n",
    "        fats = product_tds[3].text\n",
    "        carbohydrates = product_tds[4].text\n",
    "\n",
    "        product_info.append(\n",
    "            {\n",
    "                \"Title\": title,\n",
    "                \"Calories\": calories,\n",
    "                \"Proteins\": proteins,\n",
    "                \"Fats\": fats,\n",
    "                \"Carbohydrates\": carbohydrates\n",
    "            }\n",
    "        )\n",
    "\n",
    "        with open(f\"../data/interim/csv/{count}_{category_name}.csv\", \"a\", encoding=\"utf-8\") as file:\n",
    "            writer = csv.writer(file)\n",
    "            writer.writerow(\n",
    "                (\n",
    "                    title,\n",
    "                    calories,\n",
    "                    proteins,\n",
    "                    fats,\n",
    "                    carbohydrates\n",
    "                )\n",
    "            )\n",
    "            \n",
    "# Создаём третий файл в формате JSON, в который будем записывать данные в виде словаря\n",
    "# который весьма полезен и удобен для чтения (в дополнение к формату CSV)\n",
    "    with open(f\"../data/interim/json/{count}_{category_name}.json\", \"a\", encoding=\"utf-8\") as file:\n",
    "        json.dump(product_info, file, indent=4, ensure_ascii=False)\n",
    "\n",
    "    count += 1\n",
    "    print(f\"# Итерация {count}. {category_name} записан...\")\n",
    "    iteration_count = iteration_count - 1\n",
    "\n",
    "    if iteration_count == 0:\n",
    "        print(\"Работа завершена\")\n",
    "        break\n",
    "\n",
    "    print(f\"Осталось итераций: {iteration_count}\")\n",
    "    sleep(random.randrange(2, 4)) # Для симуляции работы реального пользователя, а не робота"
   ]
  },
  {
   "cell_type": "code",
   "execution_count": null,
   "metadata": {},
   "outputs": [],
   "source": []
  },
  {
   "cell_type": "markdown",
   "metadata": {},
   "source": [
    "##  УРОК 3 | Парсинг динамического сайта | Выполняем заказ на фрилансе "
   ]
  },
  {
   "cell_type": "code",
   "execution_count": null,
   "metadata": {},
   "outputs": [],
   "source": [
    "# https://www.youtube.com/watch?v=gy_YlibMW6Q"
   ]
  },
  {
   "cell_type": "markdown",
   "metadata": {},
   "source": [
    "## !!!!! Вернуться к этому видео, когда нужно будет парсить динамический сайт !!!!!"
   ]
  },
  {
   "cell_type": "code",
   "execution_count": 67,
   "metadata": {},
   "outputs": [],
   "source": [
    "# Импортируем необходимые для урока библиотеки\n",
    "import json\n",
    "import os\n",
    "import random\n",
    "import re\n",
    "import time\n",
    "import requests\n",
    "from bs4 import BeautifulSoup"
   ]
  },
  {
   "cell_type": "markdown",
   "metadata": {},
   "source": [
    "#### Комментарий программиста к этому уроку"
   ]
  },
  {
   "cell_type": "markdown",
   "metadata": {},
   "source": [
    "##### Я понимаю что код написан быстро, но для новичков нужно будет учесть несколько не критичных, но ошибок в коде:\n",
    "\n",
    "1. Довольно странно постоянно сохранять html файл, потом открывать его и парсить данные из него (по сути просто лишние движения). Правильно будет просто использовать responce.text и доставать информацию оттуда (но возможно у заказчика было требования сохранить html файлы)\n",
    "\n",
    "2. Хардкод пагинации может привести к тому что в будущем не все стартапы будут пасриться (на сайт банально добавят новые стартапы и пагинаций станет больше). Правильно будет проверять ответ на каждой итерации цикла, и если responce.status_code == 404 то выходим из цикла\n",
    "\n",
    "3. Это уже ошибка в стиле написания кода. Абсолютно весь код находится в одной функции. Получения запроса с основного сайта и распарсивание карточек стартапов должно быть отдельно (для сумасшедших можно даже на 2 функции разбить). Парсинг данных со страницы стартапа так же должно производится отдельной функцией. Сохранения json, так же должно быть отдельной функцией.\n",
    "\n",
    "4. Это скорее совет чем ошибка. На сайте не так много карточек, но если учесть что в будующем их вероятно станет больше (запросов станет больше), то код может выполняться несколько десятков минут. Если вы пишите парсер и либо он уже делает много запросов, либо есть вероятность что в будующем он будет делать много запросов, то просто необходимо использовать aiohttp (или любую другую асинхронную библиотеку). Если парсер одноразовый, это можно упустить.\n",
    "\n",
    "5. Было бы правильно вывести базовый URL в отдельную переменную, а не копировать его к каждой относительной ссылке.\n",
    "\n",
    "6. Считается неправильным отлавливать все исключения в блоке try except, так как если пользователь нажмёт CTRL+C, то это не прекратит работу программы, а выкинет исключение. Если вам нужно поймать конкретное исключение, укажите его в блоке except, если нужно отловить все (за исключением нажатия CTRL+C), то просто внутри блока except выполняйте проверку.\n",
    "\n",
    "7. Заголовки лучше прописывать вне функции как константу (в ином случаи вы либо используете одну функцию на всю программу (что неправильно) либо копипастите headers в тело каждой функции)\n",
    "\n",
    "8. Что бы не заниматься лишними телодвижениями, можно использовать XPATH для указания необходимого блока.\n",
    "\n",
    "Думаю это всё к чему смог придраться. Отличный урок особенно для новичков.\n",
    "На парсерах можно заработать первый деньги питон разработчику, так как офферов достаточно много.\n",
    "\n",
    "Дам совет для тех кто парсит какой то сложный сайт.\n",
    "Изучите траффик, который идёт от сайта. Иногда можно найти запрос в котором все данные поступают в одном json ответе и вам не нужно долбить сайт сотнями запросов.\n",
    "Если вам удалось найти такой запрос, считайте что вы выполнили заказ на фрилансе за 5 минут, так как вам остаётся лишь достать данные из json и сохранить туда, куда укажет заказчик."
   ]
  },
  {
   "cell_type": "markdown",
   "metadata": {},
   "source": [
    "#### Пример кода для простого парсинга"
   ]
  },
  {
   "cell_type": "code",
   "execution_count": 127,
   "metadata": {},
   "outputs": [],
   "source": [
    "# Самый простой запрос для парсинга вебсайта (сайт недоступен - нужно подставить любой другой URL и переписать классы)\n",
    "\n",
    "import requests\n",
    "from bs4 import BeautifulSoup\n",
    "\n",
    "# url = 'https://www.вологда.рф'\n",
    "url = 'https://vologda-oblast.ru/'\n",
    "# чтобы показать сайту, что ВЫ НЕ БОТ, а обычный пользователь\n",
    "headers = {\n",
    "    'accept': 'text/html,application/xhtml+xml,application/xml;q=0.9,image/avif,image/webp,image/apng,*/*;q=0.8,application/signed-exchange;v=b3;q=0.9',\n",
    "    'user-agent': 'Mozilla/5.0 (Windows NT 10.0; Win64; x64) AppleWebKit/537.36 (KHTML, like Gecko) Chrome/109.0.0.0 Safari/537.36'\n",
    "}\n",
    "\n",
    "# url = 'https://znanija.com/task/37248755'\n",
    "# headers = {'user-agent': 'Mozilla/5.0 (X11; Linux x86_64) AppleWebKit/537.36 (KHTML, like Gecko) Chrome/90.0.4430.72 Safari/537.36'}\n",
    "\n",
    "# with open(url, encoding='utf-8') as file:\n",
    "#     src = file.read() # Сохраним содержимое файла в переменную\n",
    "\n",
    "r = requests.get(url, headers=headers)\n",
    "soup = BeautifulSoup(r.content, 'lxml')\n",
    "# soup = BeautifulSoup(src, 'lxml')\n",
    "# answer = soup.find('div', class_='item')\n",
    "answer = soup.find('div', class_='news-list')\n",
    "\n",
    "# print(answer.text)\n",
    "# print(answer)"
   ]
  },
  {
   "cell_type": "markdown",
   "metadata": {},
   "source": [
    "### Изучаем структуру страницы"
   ]
  },
  {
   "cell_type": "code",
   "execution_count": null,
   "metadata": {},
   "outputs": [],
   "source": [
    "# Website: http://www.edutainme.ru"
   ]
  },
  {
   "cell_type": "code",
   "execution_count": null,
   "metadata": {},
   "outputs": [],
   "source": [
    "# Создаём функцию, которая принимает на вход адрес страницы и заголовки с юзер-агентом\n"
   ]
  },
  {
   "cell_type": "code",
   "execution_count": null,
   "metadata": {},
   "outputs": [],
   "source": [
    "# \n"
   ]
  },
  {
   "cell_type": "markdown",
   "metadata": {},
   "source": [
    "### Создаём функцию, и получаем главную страницу"
   ]
  },
  {
   "cell_type": "code",
   "execution_count": null,
   "metadata": {},
   "outputs": [],
   "source": [
    "# \n"
   ]
  },
  {
   "cell_type": "code",
   "execution_count": null,
   "metadata": {},
   "outputs": [],
   "source": [
    "# \n"
   ]
  },
  {
   "cell_type": "code",
   "execution_count": null,
   "metadata": {},
   "outputs": [],
   "source": [
    "# \n"
   ]
  },
  {
   "cell_type": "markdown",
   "metadata": {},
   "source": [
    "### Получаем ссылки на стартапы с первой страницы"
   ]
  },
  {
   "cell_type": "code",
   "execution_count": null,
   "metadata": {},
   "outputs": [],
   "source": [
    "# \n"
   ]
  },
  {
   "cell_type": "code",
   "execution_count": null,
   "metadata": {},
   "outputs": [],
   "source": [
    "# \n"
   ]
  },
  {
   "cell_type": "code",
   "execution_count": null,
   "metadata": {},
   "outputs": [],
   "source": [
    "# \n"
   ]
  },
  {
   "cell_type": "markdown",
   "metadata": {},
   "source": [
    "### Получаем страницу стартапа"
   ]
  },
  {
   "cell_type": "code",
   "execution_count": null,
   "metadata": {},
   "outputs": [],
   "source": [
    "# \n"
   ]
  },
  {
   "cell_type": "code",
   "execution_count": null,
   "metadata": {},
   "outputs": [],
   "source": [
    "# \n"
   ]
  },
  {
   "cell_type": "code",
   "execution_count": null,
   "metadata": {},
   "outputs": [],
   "source": [
    "# \n"
   ]
  },
  {
   "cell_type": "markdown",
   "metadata": {},
   "source": [
    "### Собираем данные стартапа"
   ]
  },
  {
   "cell_type": "code",
   "execution_count": null,
   "metadata": {},
   "outputs": [],
   "source": [
    "# \n"
   ]
  },
  {
   "cell_type": "code",
   "execution_count": null,
   "metadata": {},
   "outputs": [],
   "source": [
    "# \n"
   ]
  },
  {
   "cell_type": "code",
   "execution_count": null,
   "metadata": {},
   "outputs": [],
   "source": [
    "# \n"
   ]
  },
  {
   "cell_type": "markdown",
   "metadata": {},
   "source": [
    "### Сохраняем данные в JSON файл"
   ]
  },
  {
   "cell_type": "code",
   "execution_count": null,
   "metadata": {},
   "outputs": [],
   "source": [
    "# \n"
   ]
  },
  {
   "cell_type": "code",
   "execution_count": null,
   "metadata": {},
   "outputs": [],
   "source": [
    "# \n"
   ]
  },
  {
   "cell_type": "code",
   "execution_count": null,
   "metadata": {},
   "outputs": [],
   "source": [
    "# \n"
   ]
  },
  {
   "cell_type": "markdown",
   "metadata": {},
   "source": [
    "### Собираем данные всех стартапов с первой страницы"
   ]
  },
  {
   "cell_type": "code",
   "execution_count": null,
   "metadata": {},
   "outputs": [],
   "source": [
    "# \n"
   ]
  },
  {
   "cell_type": "code",
   "execution_count": null,
   "metadata": {},
   "outputs": [],
   "source": [
    "# \n"
   ]
  },
  {
   "cell_type": "code",
   "execution_count": null,
   "metadata": {},
   "outputs": [],
   "source": [
    "# \n"
   ]
  },
  {
   "cell_type": "markdown",
   "metadata": {},
   "source": [
    "### Сбор динамических данных"
   ]
  },
  {
   "cell_type": "code",
   "execution_count": null,
   "metadata": {},
   "outputs": [],
   "source": [
    "# \n"
   ]
  },
  {
   "cell_type": "code",
   "execution_count": null,
   "metadata": {},
   "outputs": [],
   "source": [
    "# \n"
   ]
  },
  {
   "cell_type": "code",
   "execution_count": null,
   "metadata": {},
   "outputs": [],
   "source": [
    "# \n"
   ]
  },
  {
   "cell_type": "markdown",
   "metadata": {},
   "source": [
    "### Запуск парсера"
   ]
  },
  {
   "cell_type": "code",
   "execution_count": null,
   "metadata": {},
   "outputs": [],
   "source": [
    "# \n"
   ]
  },
  {
   "cell_type": "code",
   "execution_count": null,
   "metadata": {},
   "outputs": [],
   "source": [
    "# \n"
   ]
  },
  {
   "cell_type": "code",
   "execution_count": null,
   "metadata": {},
   "outputs": [],
   "source": [
    "# \n",
    "def get_data(url):\n",
    "    headers = {\n",
    "        \"user-agent\": \"Mozilla/5.0 (Linux; Android 6.0; Nexus 5 Build/MRA58N) AppleWebKit/537.36 (KHTML, like Gecko) Chrome/86.0.4240.183 Mobile Safari/537.36\"\n",
    "    }\n",
    "\n",
    "    projects_data_list = []\n",
    "    iteration_count = 23\n",
    "    print(f\"Всего итераций: #{iteration_count}\")\n",
    "\n",
    "    for item in range(1, 24):\n",
    "        req = requests.get(url + f\"&PAGEN_1={item}&PAGEN_2={item}\", headers)\n",
    "\n",
    "        folder_name = f\"data/data_{item}\"\n",
    "\n",
    "        if os.path.exists(folder_name):\n",
    "            print(\"Папка уже существует!\")\n",
    "        else:\n",
    "            os.mkdir(folder_name)\n",
    "\n",
    "        with open(f\"{folder_name}/projects_{item}.html\", \"w\") as file:\n",
    "            file.write(req.text)\n",
    "\n",
    "        with open(f\"{folder_name}/projects_{item}.html\") as file:\n",
    "            src = file.read()\n",
    "\n",
    "        soup = BeautifulSoup(src, \"lxml\")\n",
    "        articles = soup.find_all(\"article\", class_=\"ib19\")\n",
    "\n",
    "        projects_urls = []\n",
    "        for article in articles:\n",
    "            project_url = \"http://www.edutainme.ru\" + article.find(\"div\", class_=\"txtBlock\").find(\"a\").get(\"href\")\n",
    "            projects_urls.append(project_url)\n",
    "\n",
    "        for project_url in projects_urls:\n",
    "            req = requests.get(project_url, headers)\n",
    "            project_name = project_url.split(\"/\")[-2]\n",
    "\n",
    "            with open(f\"{folder_name}/{project_name}.html\", \"w\") as file:\n",
    "                file.write(req.text)\n",
    "\n",
    "            with open(f\"{folder_name}/{project_name}.html\") as file:\n",
    "                src = file.read()\n",
    "\n",
    "            soup = BeautifulSoup(src, \"lxml\")\n",
    "            project_data = soup.find(\"div\", class_=\"inside\")\n",
    "\n",
    "            try:\n",
    "                project_logo = \"http://www.edutainme.ru\" + project_data.find(\"div\", class_=\"Img logo\").find(\"img\").get(\"src\")\n",
    "            except Exception:\n",
    "                project_logo = \"No project logo\"\n",
    "\n",
    "            try:\n",
    "                project_name = project_data.find(\"div\", class_=\"txt\").find(\"h1\").text\n",
    "            except Exception:\n",
    "                project_name = \"No project name\"\n",
    "\n",
    "            try:\n",
    "                project_short_description = project_data.find(\"div\", class_=\"txt\").find(\"h4\", class_=\"head\").text\n",
    "            except Exception:\n",
    "                project_short_description = \"No project short description\"\n",
    "\n",
    "            try:\n",
    "                project_website = project_data.find(\"div\", class_=\"txt\").find(\"p\").find(\"a\").text\n",
    "            except Exception:\n",
    "                project_website = \"No project website\"\n",
    "\n",
    "            try:\n",
    "                project_full_description = project_data.find(\"div\", class_=\"textWrap\").find(\"div\", class_=\"rBlock\").text\n",
    "            except Exception:\n",
    "                project_full_description = \"No project full description\"\n",
    "\n",
    "            def replace_string(string):\n",
    "                return ''.join(re.sub(r'(<p>|</p>)', \"\", string))\n",
    "            project_full_description = replace_string(project_full_description)\n",
    "\n",
    "            # rep = [\"<p>\", \"</p>\"]\n",
    "            # for s in rep:\n",
    "            #     if s in project_full_description:\n",
    "            #         project_full_description = project_full_description.replace(s, \"\")\n",
    "\n",
    "            projects_data_list.append(\n",
    "                {\n",
    "                    \"Имя проекта\": project_name,\n",
    "                    \"URL логотипа проекта\": project_logo,\n",
    "                    \"Короткое описание проекта\": project_short_description,\n",
    "                    \"Сайт проекта\": project_website,\n",
    "                    \"Полное описание проекта\": project_full_description.strip()\n",
    "                }\n",
    "            )\n",
    "\n",
    "        iteration_count -= 1\n",
    "        print(f\"Итерация #{item} завершена, осталось итераций #{iteration_count}\")\n",
    "        if iteration_count == 0:\n",
    "            print(\"Сбор данных завершен\")\n",
    "        time.sleep(random.randrange(2, 4))\n",
    "\n",
    "    with open(\"data/projects_data.json\", \"a\", encoding=\"utf-8\") as file:\n",
    "        json.dump(projects_data_list, file, indent=4, ensure_ascii=False)\n",
    "\n",
    "\n",
    "def main():\n",
    "    get_data(\"http://www.edutainme.ru/edindex/ajax.php?params=%7B%22LETTER%22%3Anull%2C%22RESTART%22%3A%22N%22%2C%22CHECK_DATES%22%3Afalse%2C%22arrWHERE%22%3A%5B%22iblock_startaps%22%5D%2C%22arrFILTER%22%3A%5B%22iblock_startaps%22%5D%2C%22startups%22%3A%22Y%22%2C%22SHOW_WHERE%22%3Atrue%2C%22PAGE_RESULT_COUNT%22%3A9%2C%22CACHE_TYPE%22%3A%22A%22%2C%22CACHE_TIME%22%3A0%2C%22TAGS_SORT%22%3A%22NAME%22%2C%22TAGS_PAGE_ELEMENTS%22%3A%22999999999999999999%22%2C%22TAGS_PERIOD%22%3A%22%22%2C%22TAGS_URL_SEARCH%22%3A%22%22%2C%22TAGS_INHERIT%22%3A%22Y%22%2C%22SHOW_RATING%22%3A%22Y%22%2C%22FONT_MAX%22%3A%2214%22%2C%22FONT_MIN%22%3A%2214%22%2C%22COLOR_NEW%22%3A%22000000%22%2C%22COLOR_OLD%22%3A%22C8C8C8%22%2C%22PERIOD_NEW_TAGS%22%3A%22%22%2C%22DISPLAY_TOP_PAGER%22%3A%22N%22%2C%22DISPLAY_BOTTOM_PAGER%22%3A%22N%22%2C%22SHOW_CHAIN%22%3A%22Y%22%2C%22COLOR_TYPE%22%3A%22Y%22%2C%22WIDTH%22%3A%22100%25%22%2C%22USE_LANGUAGE_GUESS%22%3A%22N%22%2C%22PATH_TO_USER_PROFILE%22%3A%22%23SITE_DIR%23people%5C%2Fuser%5C%2F%23USER_ID%23%5C%2F%22%2C%22SHOW_WHEN%22%3Afalse%2C%22PAGER_TITLE%22%3A%22%5Cu0420%5Cu0435%5Cu0437%5Cu0443%5Cu043b%5Cu044c%5Cu0442%5Cu0430%5Cu0442%5Cu044b+%5Cu043f%5Cu043e%5Cu0438%5Cu0441%5Cu043a%5Cu0430%22%2C%22PAGER_SHOW_ALWAYS%22%3Atrue%2C%22USE_TITLE_RANK%22%3Afalse%2C%22PAGER_TEMPLATE%22%3A%22%22%2C%22DEFAULT_SORT%22%3A%22rank%22%2C%22noTitle%22%3A%22Y%22%7D\")\n",
    "\n",
    "\n",
    "if __name__ == \"__main__\":\n",
    "    main()"
   ]
  },
  {
   "cell_type": "code",
   "execution_count": null,
   "metadata": {},
   "outputs": [],
   "source": [
    "# \n"
   ]
  },
  {
   "cell_type": "markdown",
   "metadata": {},
   "source": [
    "##  УРОК 4 | Парсинг сайтов | requests, beautifulsoup, lxml, proxy"
   ]
  },
  {
   "cell_type": "code",
   "execution_count": null,
   "metadata": {},
   "outputs": [],
   "source": [
    "# https://www.youtube.com/watch?v=arBTqminwU8"
   ]
  },
  {
   "cell_type": "code",
   "execution_count": 67,
   "metadata": {},
   "outputs": [],
   "source": [
    "# Импортируем необходимые для урока библиотеки\n",
    "import requests\n",
    "from bs4 import BeautifulSoup\n",
    "from proxy_auth import proxies\n",
    "import json"
   ]
  },
  {
   "cell_type": "markdown",
   "metadata": {},
   "source": [
    "### Константы для проекта:"
   ]
  },
  {
   "cell_type": "code",
   "execution_count": null,
   "metadata": {},
   "outputs": [],
   "source": [
    "# Создаём переменные-КОНСТАНТЫ\n",
    "# 1. Адрес основного хоста\n",
    "HOST = 'https://www.skiddle.com' \n",
    "\n",
    "# 2. Адрес страницы для парсинга\n",
    "URL = 'https://www.skiddle.com/news/festivals/'\n",
    "\n",
    "#5. Создаём словарь заголовков\n",
    "# Это нужно для некоторых сайтов (но не для всех - для этого необязательно)\n",
    "# чтобы показать сайту, что ВЫ НЕ БОТ, а обычный пользователь\n",
    "HEADERS = {\n",
    "    'accept': 'text/html,application/xhtml+xml,application/xml;q=0.9,image/avif,image/webp,image/apng,*/*;q=0.8,application/signed-exchange;v=b3;q=0.9',\n",
    "    'user-agent': 'Mozilla/5.0 (Windows NT 10.0; Win64; x64) AppleWebKit/537.36 (KHTML, like Gecko) Chrome/109.0.0.0 Safari/537.36'\n",
    "}\n",
    "\n",
    "# 4. Название финального файла\n",
    "# CSV = 'catalog.csv'\n",
    "\n",
    "# 6. PROXY\n",
    "PROXIES = {\n",
    "    \"https\": \"your_proxy_ip:port\"\n",
    "}\n",
    "\n",
    "# Хороший proxy сервис (канадский):\n",
    "# https://proxy6.net/a/149995"
   ]
  },
  {
   "cell_type": "code",
   "execution_count": 68,
   "metadata": {},
   "outputs": [],
   "source": [
    "# URL-ссылка на страницу с категориями продуктов и калориями\n",
    "# url = \"https://health-diet.ru/table_calorie/?utm_source=leftMenu&utm_medium=table_calorie\""
   ]
  },
  {
   "cell_type": "code",
   "execution_count": 69,
   "metadata": {},
   "outputs": [],
   "source": [
    "# Создаём словарь заголовков\n",
    "\n",
    "# Это нужно для некоторых сайтов (но не для всех - для этого необязательно)\n",
    "# чтобы показать сайту, что ВЫ НЕ БОТ, а обычный пользователь\n",
    "headers = {\n",
    "    \"Accept\": \"text/html,application/xhtml+xml,application/xml;q=0.9,image/avif,image/webp,image/apng,*/*;q=0.8,application/signed-exchange;v=b3;q=0.9\",\n",
    "    \"User-Agent\": \"Mozilla/5.0 (Windows NT 10.0; Win64; x64) AppleWebKit/537.36 (KHTML, like Gecko) Chrome/109.0.0.0 Safari/537.36\"\n",
    "}"
   ]
  },
  {
   "cell_type": "markdown",
   "metadata": {},
   "source": [
    "### Изучаем структуру страницы"
   ]
  },
  {
   "cell_type": "code",
   "execution_count": null,
   "metadata": {},
   "outputs": [],
   "source": [
    "# \n"
   ]
  },
  {
   "cell_type": "code",
   "execution_count": null,
   "metadata": {},
   "outputs": [],
   "source": [
    "# \n"
   ]
  },
  {
   "cell_type": "code",
   "execution_count": null,
   "metadata": {},
   "outputs": [],
   "source": [
    "# \n"
   ]
  },
  {
   "cell_type": "markdown",
   "metadata": {},
   "source": [
    "### Сбор всех ссылок"
   ]
  },
  {
   "cell_type": "code",
   "execution_count": null,
   "metadata": {},
   "outputs": [],
   "source": [
    "# Пишем цикл для создания списка всех заголовков\n",
    "fests_urls_list = []"
   ]
  },
  {
   "cell_type": "code",
   "execution_count": null,
   "metadata": {},
   "outputs": [],
   "source": [
    "# \n",
    "for i in range(0, 15, 15):\n",
    "    url = f\"https://www.skiddle.com/news/festivals/{i}\"\n",
    "\n",
    "    req = requests.get(url=url, headers=headers)\n",
    "    json_data = json.loads(req.text)\n",
    "    html_response = json_data[\"html\"]\n",
    "    \n",
    "    with open(f\"data4/index_{i}.html\", \"w\") as file:\n",
    "        file.write(html_response)"
   ]
  },
  {
   "cell_type": "code",
   "execution_count": null,
   "metadata": {},
   "outputs": [],
   "source": [
    "# \n"
   ]
  },
  {
   "cell_type": "markdown",
   "metadata": {},
   "source": [
    "### Отправляем запросы через Proxy"
   ]
  },
  {
   "cell_type": "code",
   "execution_count": null,
   "metadata": {},
   "outputs": [],
   "source": [
    "# \n"
   ]
  },
  {
   "cell_type": "code",
   "execution_count": null,
   "metadata": {},
   "outputs": [],
   "source": [
    "# \n"
   ]
  },
  {
   "cell_type": "code",
   "execution_count": null,
   "metadata": {},
   "outputs": [],
   "source": [
    "# \n"
   ]
  },
  {
   "cell_type": "markdown",
   "metadata": {},
   "source": [
    "### Сбор данных, получаем имя и дату фестиваля"
   ]
  },
  {
   "cell_type": "code",
   "execution_count": null,
   "metadata": {},
   "outputs": [],
   "source": [
    "# \n"
   ]
  },
  {
   "cell_type": "code",
   "execution_count": null,
   "metadata": {},
   "outputs": [],
   "source": [
    "# \n"
   ]
  },
  {
   "cell_type": "code",
   "execution_count": null,
   "metadata": {},
   "outputs": [],
   "source": [
    "# \n"
   ]
  },
  {
   "cell_type": "markdown",
   "metadata": {},
   "source": [
    "### Собираем контактные данные"
   ]
  },
  {
   "cell_type": "code",
   "execution_count": null,
   "metadata": {},
   "outputs": [],
   "source": [
    "# 14:34 - string.split(\"разделитель\", maxsplit = количество разбиений) тоисть contact_detail_list.split(\":\", 1)\n",
    "\n",
    "# Как всегда, восхитительно!\n",
    "# Только у меня идея, там, где мы сплитовали по двоеточию, можно было избежать ifelse, \n",
    "# если мы просто будем разделять по двоеточию+пробел, это же уникальный разделитель всегда\n",
    "\n",
    "# Для .split(\":\"), можно было просто написать .split(\":\", 1), у него есть встроенное ограничение на количество дроблений"
   ]
  },
  {
   "cell_type": "code",
   "execution_count": null,
   "metadata": {},
   "outputs": [],
   "source": [
    "# \n"
   ]
  },
  {
   "cell_type": "code",
   "execution_count": null,
   "metadata": {},
   "outputs": [],
   "source": [
    "# \n"
   ]
  },
  {
   "cell_type": "markdown",
   "metadata": {},
   "source": [
    "### Сохранение и запись данных в json файл"
   ]
  },
  {
   "cell_type": "code",
   "execution_count": null,
   "metadata": {},
   "outputs": [],
   "source": [
    "# \n"
   ]
  },
  {
   "cell_type": "code",
   "execution_count": null,
   "metadata": {},
   "outputs": [],
   "source": [
    "# \n"
   ]
  },
  {
   "cell_type": "code",
   "execution_count": null,
   "metadata": {},
   "outputs": [],
   "source": [
    "# \n"
   ]
  },
  {
   "cell_type": "markdown",
   "metadata": {},
   "source": [
    "### Запуск парсера"
   ]
  },
  {
   "cell_type": "code",
   "execution_count": null,
   "metadata": {},
   "outputs": [],
   "source": [
    "# \n"
   ]
  },
  {
   "cell_type": "code",
   "execution_count": null,
   "metadata": {},
   "outputs": [],
   "source": [
    "# \n",
    "# collect all fests URLs\n",
    "# В первую очередь собираем все ссылки на фестивали (их можно собрать используя библиотеку Selenium)\n",
    "\n",
    "# Создаём список под наши ссылки:\n",
    "fests_urls_list = []\n",
    "\n",
    "# for i in range(0, 192, 24):\n",
    "for i in range(0, 24, 24):\n",
    "    url = f\"https://www.skiddle.com/festivals/search/?ajaxing=1&sort=0&fest_name=&from_date=24%20Jan%202021&to_date=&where%5B%5D=2&where%5B%5D=3&where%5B%5D=4&where%5B%5D=6&where%5B%5D=7&where%5B%5D=8&where%5B%5D=9&where%5B%5D=10&maxprice=500&o={i}&bannertitle=May\"\n",
    "\n",
    "    req = requests.get(url=url, headers=headers)\n",
    "#     req = requests.get(url=url, headers=headers, proxies=PROXIES)\n",
    "# В ответ нам прилетает словарь - получим в JSON-данные:\n",
    "    json_data = json.loads(req.text)\n",
    "# Нужные нам данные содержатся в HTML коде с одноимённым ключом - заберём их:\n",
    "    html_response = json_data[\"html\"]\n",
    "\n",
    "# Запишем их в файл и посмотрим, что получилось:\n",
    "    with open(f\"data/index_{i}.html\", \"w\") as file:\n",
    "        file.write(html_response)\n",
    "\n",
    "# Прочитаем файл, поместим и запишем код в переменную SRC:\n",
    "    with open(f\"data/index_{i}.html\") as file:\n",
    "        src = file.read()\n",
    "\n",
    "# Создаём объект супа: \n",
    "    soup = BeautifulSoup(src, \"lxml\")\n",
    "# Определяем все ссылки фестивалей на одной странице по тэгу \"А\" и определённому классу:\n",
    "    cards = soup.find_all(\"a\", class_=\"card-details-link\")\n",
    "\n",
    "# Создаём переменную под наши ссылки:\n",
    "# Пробежимся в цикле по ссылкам и заберём атрибуты HREF и запишем их в созданный в начале кода словарь:\n",
    "    for item in cards:\n",
    "        fest_url = \"https://www.skiddle.com\" + item.get(\"href\")\n",
    "#         fest_url = HOST + item.get(\"href\")\n",
    "        fests_urls_list.append(fest_url)\n",
    "\n",
    "# Посмотрим что лежит в списке:\n",
    "#     print(fests_urls_list)\n",
    "\n",
    "# collect fest info\n",
    "# Теперь пробегаемся в цикле по всем ссылкам для сбора необходимой информации про фестивали:\n",
    "count = 0\n",
    "\n",
    "# Создаём список для общих данных:\n",
    "fest_list_result = []\n",
    "for url in fests_urls_list:\n",
    "    count += 1\n",
    "    print(count)\n",
    "    print(url)\n",
    "\n",
    "# Отправляем запрос по каждой ссылке:\n",
    "    req = requests.get(url=url, headers=headers)\n",
    "#     req = requests.get(url=url, headers=headers, proxies=PROXIES)\n",
    "\n",
    "    try:\n",
    "        soup = BeautifulSoup(req.text, \"lxml\")\n",
    "# Определяем блок с информацией по фестивалю:\n",
    "        fest_info_block = soup.find(\"div\", class_=\"top-info-cont\")\n",
    "\n",
    "        fest_name = fest_info_block.find(\"h1\").text.strip() # Название фестиваля (на всякий случай обрезаем пробелы с обеих сторон)\n",
    "        fest_date = fest_info_block.find(\"h3\").text.strip() # Дата фестиваля\n",
    "# Ссылка на локацию\n",
    "        fest_location_url = \"https://www.skiddle.com\" + fest_info_block.find(\"a\", class_=\"tc-white\").get(\"href\")\n",
    "\n",
    "        # get contact details and info:\n",
    "# Собираем контактные данные:\n",
    "        req = requests.get(url=fest_location_url, headers=headers)\n",
    "#         req = requests.get(url=fest_location_url, headers=headers, proxies=PROXIES)\n",
    "        soup = BeautifulSoup(req.text, \"lxml\")\n",
    "\n",
    "# Если у блока с контактами нет общих особенностей (типа класса) можно определить следующий блок через команду FIND_NEXT:\n",
    "        contact_details = soup.find(\"h2\", string=\"Venue contact details and info\").find_next()\n",
    "        items = [item.text for item in contact_details.find_all(\"p\")]\n",
    "\n",
    "# Разбиваем текстовую информацию по строкам, по атрибутам словаря (ключ:значение) так как всю информацию мы получаем слитно:\n",
    "        contact_details_dict = {}\n",
    "        for contact_detail in items:\n",
    "            contact_detail_list = contact_detail.split(\":\")\n",
    "\n",
    "# Разбиваем на ключ:значение по знаку \":\" и склеиваем текст ссылки обратно, так как ссылка содержит в себе знак \":\":\n",
    "            if len(contact_detail_list) == 3:\n",
    "                contact_details_dict[contact_detail_list[0].strip()] = contact_detail_list[1].strip() + \":\"\\\n",
    "                                                                       + contact_detail_list[2].strip()\n",
    "# ... а для всех остальных полей ключом будет [0]-элемент, а значением-[1] :\n",
    "            else:\n",
    "                contact_details_dict[contact_detail_list[0].strip()] = contact_detail_list[1].strip()\n",
    "\n",
    "# Наполняем список с общими данными на каждой итерации новым словарём:\n",
    "        fest_list_result.append(\n",
    "            {\n",
    "                \"Fest name\": fest_name,\n",
    "                \"Fest date\": fest_date,\n",
    "                \"Contacts data\": contact_details_dict\n",
    "            }\n",
    "        )\n",
    "\n",
    "    except Exception as ex:\n",
    "        print(ex)\n",
    "        print(\"Damn...There was some error...\")\n",
    "\n",
    "# После выполнения скрипта запишем список в JSON-файл:\n",
    "with open(\"fest_list_result.json\", \"a\", encoding=\"utf-8\") as file:\n",
    "    json.dump(fest_list_result, file, indent=4, ensure_ascii=False)"
   ]
  },
  {
   "cell_type": "code",
   "execution_count": null,
   "metadata": {},
   "outputs": [],
   "source": [
    "# \n"
   ]
  },
  {
   "cell_type": "code",
   "execution_count": null,
   "metadata": {},
   "outputs": [],
   "source": [
    "### "
   ]
  },
  {
   "cell_type": "code",
   "execution_count": null,
   "metadata": {},
   "outputs": [],
   "source": [
    "# \n"
   ]
  },
  {
   "cell_type": "markdown",
   "metadata": {},
   "source": [
    "##  УРОК 5 | Парсинг сайтов | Заказ на фрилансе | IMG to PDF "
   ]
  },
  {
   "cell_type": "markdown",
   "metadata": {},
   "source": [
    "### !!!!! Вернуться к этому видео, когда нужно будет парсить динамический сайт !!!!!"
   ]
  },
  {
   "cell_type": "code",
   "execution_count": null,
   "metadata": {},
   "outputs": [],
   "source": [
    "# https://youtu.be/ak8Nl1Stba4?si=0R5BA-l3czKmOnQ1"
   ]
  },
  {
   "cell_type": "code",
   "execution_count": 67,
   "metadata": {},
   "outputs": [],
   "source": [
    "# Импортируем необходимые для урока библиотеки\n",
    "import os\n",
    "import requests\n",
    "import img2pdf"
   ]
  },
  {
   "cell_type": "markdown",
   "metadata": {},
   "source": [
    "### Константы для проекта:"
   ]
  },
  {
   "cell_type": "code",
   "execution_count": null,
   "metadata": {},
   "outputs": [],
   "source": [
    "# Создаём переменные-КОНСТАНТЫ\n",
    "# 1. Адрес основного хоста\n",
    "HOST = 'https://www.recordpower.co.uk' \n",
    "\n",
    "# 2. Адрес страницы для парсинга\n",
    "URL = 'https://www.recordpower.co.uk/flip/Winter2020/files/mobile/48.jpg'\n",
    "\n",
    "# 3. Создаём словарь заголовков\n",
    "# Это нужно для некоторых сайтов (но не для всех - для этого необязательно)\n",
    "# чтобы показать сайту, что ВЫ НЕ БОТ, а обычный пользователь\n",
    "HEADERS = {\n",
    "    'accept': 'text/html,application/xhtml+xml,application/xml;q=0.9,image/avif,image/webp,image/apng,*/*;q=0.8,application/signed-exchange;v=b3;q=0.9',\n",
    "    'user-agent': 'Mozilla/5.0 (Windows NT 10.0; Win64; x64) AppleWebKit/537.36 (KHTML, like Gecko) Chrome/109.0.0.0 Safari/537.36'\n",
    "}\n",
    "\n",
    "# 4. Название финального файла\n",
    "# CSV = 'catalog.csv'"
   ]
  },
  {
   "cell_type": "markdown",
   "metadata": {},
   "source": [
    "### Интро"
   ]
  },
  {
   "cell_type": "markdown",
   "metadata": {},
   "source": [
    "##### Нужно собрать все изображения с сайта и конвертировать их в один PDF-файл"
   ]
  },
  {
   "cell_type": "code",
   "execution_count": null,
   "metadata": {},
   "outputs": [],
   "source": []
  },
  {
   "cell_type": "code",
   "execution_count": null,
   "metadata": {},
   "outputs": [],
   "source": [
    "### Ищем изображения"
   ]
  },
  {
   "cell_type": "code",
   "execution_count": null,
   "metadata": {},
   "outputs": [],
   "source": [
    "# \n"
   ]
  },
  {
   "cell_type": "code",
   "execution_count": null,
   "metadata": {},
   "outputs": [],
   "source": [
    "# \n"
   ]
  },
  {
   "cell_type": "code",
   "execution_count": null,
   "metadata": {},
   "outputs": [],
   "source": [
    "# \n"
   ]
  },
  {
   "cell_type": "code",
   "execution_count": null,
   "metadata": {},
   "outputs": [],
   "source": [
    "### Сохраняем изображения"
   ]
  },
  {
   "cell_type": "code",
   "execution_count": null,
   "metadata": {},
   "outputs": [],
   "source": [
    "# \n"
   ]
  },
  {
   "cell_type": "code",
   "execution_count": null,
   "metadata": {},
   "outputs": [],
   "source": [
    "# \n"
   ]
  },
  {
   "cell_type": "code",
   "execution_count": null,
   "metadata": {},
   "outputs": [],
   "source": [
    "# \n"
   ]
  },
  {
   "cell_type": "code",
   "execution_count": null,
   "metadata": {},
   "outputs": [],
   "source": [
    "### Запись изображений в файл"
   ]
  },
  {
   "cell_type": "code",
   "execution_count": null,
   "metadata": {},
   "outputs": [],
   "source": [
    "# \n"
   ]
  },
  {
   "cell_type": "code",
   "execution_count": null,
   "metadata": {},
   "outputs": [],
   "source": [
    "# \n"
   ]
  },
  {
   "cell_type": "code",
   "execution_count": null,
   "metadata": {},
   "outputs": [],
   "source": [
    "# \n"
   ]
  },
  {
   "cell_type": "code",
   "execution_count": null,
   "metadata": {},
   "outputs": [],
   "source": [
    "### "
   ]
  },
  {
   "cell_type": "code",
   "execution_count": null,
   "metadata": {},
   "outputs": [],
   "source": [
    "# \n"
   ]
  },
  {
   "cell_type": "code",
   "execution_count": null,
   "metadata": {},
   "outputs": [],
   "source": [
    "# \n"
   ]
  },
  {
   "cell_type": "code",
   "execution_count": null,
   "metadata": {},
   "outputs": [],
   "source": [
    "# \n"
   ]
  },
  {
   "cell_type": "code",
   "execution_count": null,
   "metadata": {},
   "outputs": [],
   "source": [
    "### "
   ]
  },
  {
   "cell_type": "code",
   "execution_count": null,
   "metadata": {},
   "outputs": [],
   "source": [
    "# \n"
   ]
  },
  {
   "cell_type": "code",
   "execution_count": null,
   "metadata": {},
   "outputs": [],
   "source": [
    "# \n"
   ]
  },
  {
   "cell_type": "code",
   "execution_count": null,
   "metadata": {},
   "outputs": [],
   "source": [
    "# \n"
   ]
  },
  {
   "cell_type": "code",
   "execution_count": null,
   "metadata": {},
   "outputs": [],
   "source": [
    "### "
   ]
  },
  {
   "cell_type": "code",
   "execution_count": null,
   "metadata": {},
   "outputs": [],
   "source": [
    "# \n"
   ]
  },
  {
   "cell_type": "code",
   "execution_count": null,
   "metadata": {},
   "outputs": [],
   "source": [
    "# \n"
   ]
  },
  {
   "cell_type": "code",
   "execution_count": null,
   "metadata": {},
   "outputs": [],
   "source": [
    "# \n"
   ]
  },
  {
   "cell_type": "code",
   "execution_count": null,
   "metadata": {},
   "outputs": [],
   "source": [
    "### "
   ]
  },
  {
   "cell_type": "code",
   "execution_count": null,
   "metadata": {},
   "outputs": [],
   "source": [
    "# \n"
   ]
  },
  {
   "cell_type": "code",
   "execution_count": null,
   "metadata": {},
   "outputs": [],
   "source": [
    "# \n"
   ]
  },
  {
   "cell_type": "code",
   "execution_count": null,
   "metadata": {},
   "outputs": [],
   "source": [
    "# \n"
   ]
  },
  {
   "cell_type": "code",
   "execution_count": null,
   "metadata": {},
   "outputs": [],
   "source": [
    "### "
   ]
  },
  {
   "cell_type": "code",
   "execution_count": null,
   "metadata": {},
   "outputs": [],
   "source": [
    "# \n"
   ]
  },
  {
   "cell_type": "code",
   "execution_count": null,
   "metadata": {},
   "outputs": [],
   "source": [
    "# \n"
   ]
  },
  {
   "cell_type": "code",
   "execution_count": null,
   "metadata": {},
   "outputs": [],
   "source": [
    "# \n"
   ]
  },
  {
   "cell_type": "code",
   "execution_count": null,
   "metadata": {},
   "outputs": [],
   "source": [
    "### "
   ]
  },
  {
   "cell_type": "code",
   "execution_count": null,
   "metadata": {},
   "outputs": [],
   "source": [
    "# \n"
   ]
  },
  {
   "cell_type": "code",
   "execution_count": null,
   "metadata": {},
   "outputs": [],
   "source": [
    "# \n"
   ]
  },
  {
   "cell_type": "code",
   "execution_count": null,
   "metadata": {},
   "outputs": [],
   "source": [
    "# \n",
    "def get_data():\n",
    "    headers = {\n",
    "        \"Accept\": \"image/avif,image/webp,image/apng,image/svg+xml,image/*,*/*;q=0.8\",\n",
    "        \"User-Agent\": \"Mozilla/5.0 (X11; Linux x86_64) AppleWebKit/537.36 (KHTML, like Gecko) Chrome/88.0.4324.182 Safari/537.36\"\n",
    "    }\n",
    "\n",
    "    img_list = []\n",
    "# Создаём цикл с количеством итераций по числу страниц с изображениями:\n",
    "    for i in range(1, 49):\n",
    "        url = f\"https://www.recordpower.co.uk/flip/Winter2020/files/mobile/{i}.jpg\"\n",
    "# Делаем запрос на заголовки и сохраняем его в переменную:\n",
    "        req = requests.get(url=url, headers=headers)\n",
    "        response = req.content\n",
    "\n",
    "# Сохраняем файлы изображений с флагом \"WB\" для двоичного формата\n",
    "        with open(f\"media/{i}.jpg\", \"wb\") as file:\n",
    "            file.write(response)\n",
    "            img_list.append(f\"media/{i}.jpg\")\n",
    "            print(f\"Downloaded {i} of 48\")\n",
    "\n",
    "    print(\"#\" * 20)\n",
    "    print(img_list)\n",
    "\n",
    "# Сохраняем изображения в ПДФ:\n",
    "    # create PDF file\n",
    "    with open(\"result.pdf\", \"wb\") as f:\n",
    "        f.write(img2pdf.convert(img_list))\n",
    "\n",
    "    print(\"PDF file created successfully!\")\n",
    "\n",
    "\n",
    "def write_to_pdf():\n",
    "# Точно такой же результат получается с помощью библиотеки OS и её метода LISTDIR\n",
    "    # print(os.listdir(\"media\"))\n",
    "    img_list = [f\"media/{i}.jpg\" for i in range(1, 49)]\n",
    "\n",
    "    # create PDF file\n",
    "    with open(\"result.pdf\", \"wb\") as f:\n",
    "        f.write(img2pdf.convert(img_list))\n",
    "\n",
    "    print(\"PDF file created successfully!\")\n",
    "\n",
    "\n",
    "def main():\n",
    "    # get_data()\n",
    "    write_to_pdf()\n",
    "\n",
    "\n",
    "if __name__ == '__main__':\n",
    "    main()\n"
   ]
  },
  {
   "cell_type": "code",
   "execution_count": null,
   "metadata": {},
   "outputs": [],
   "source": [
    "### "
   ]
  },
  {
   "cell_type": "code",
   "execution_count": null,
   "metadata": {},
   "outputs": [],
   "source": [
    "# \n"
   ]
  },
  {
   "cell_type": "markdown",
   "metadata": {},
   "source": [
    "##  УРОК 6 | Как собрать информацию с любого сайта | Requests, BS4, Selenium"
   ]
  },
  {
   "cell_type": "code",
   "execution_count": null,
   "metadata": {},
   "outputs": [],
   "source": [
    "# https://youtu.be/z4kSFUwnL5A?si=pZvlmAxf-uxKE-C0"
   ]
  },
  {
   "cell_type": "code",
   "execution_count": 67,
   "metadata": {},
   "outputs": [],
   "source": [
    "# Импортируем необходимые для урока библиотеки\n",
    "import time\n",
    "import requests\n",
    "from bs4 import BeautifulSoup\n",
    "from selenium import webdriver"
   ]
  },
  {
   "cell_type": "markdown",
   "metadata": {},
   "source": [
    "### Константы для проекта:"
   ]
  },
  {
   "cell_type": "code",
   "execution_count": null,
   "metadata": {},
   "outputs": [],
   "source": [
    "# Создаём переменные-КОНСТАНТЫ\n",
    "# 1. Адрес основного хоста\n",
    "HOST = 'https://www.tury.ru' \n",
    "\n",
    "# 2. Адрес страницы для парсинга\n",
    "URL = 'https://www.tury.ru/hotel/most_luxe.php'\n",
    "\n",
    "# 3. Создаём словарь заголовков\n",
    "# Это нужно для некоторых сайтов (но не для всех - для этого необязательно)\n",
    "# чтобы показать сайту, что ВЫ НЕ БОТ, а обычный пользователь\n",
    "HEADERS = {\n",
    "    'accept': 'text/html,application/xhtml+xml,application/xml;q=0.9,image/avif,image/webp,image/apng,*/*;q=0.8,application/signed-exchange;v=b3;q=0.9',\n",
    "    'user-agent': 'Mozilla/5.0 (Windows NT 10.0; Win64; x64) AppleWebKit/537.36 (KHTML, like Gecko) Chrome/109.0.0.0 Safari/537.36'\n",
    "}\n",
    "\n",
    "# 4. Название финального файла\n",
    "# CSV = 'catalog.csv'"
   ]
  },
  {
   "cell_type": "markdown",
   "metadata": {},
   "source": [
    "#### Рассматриваем как и откуда подгружается контент на динамический сайт\n",
    "##### Вариант как можно получить данные и сохранить страницу с помощью SELENIUM WEBDRIVER"
   ]
  },
  {
   "cell_type": "markdown",
   "metadata": {},
   "source": [
    "### Изучаем структуру страницы"
   ]
  },
  {
   "cell_type": "code",
   "execution_count": null,
   "metadata": {},
   "outputs": [],
   "source": [
    "# \n"
   ]
  },
  {
   "cell_type": "code",
   "execution_count": null,
   "metadata": {},
   "outputs": [],
   "source": [
    "### "
   ]
  },
  {
   "cell_type": "code",
   "execution_count": null,
   "metadata": {},
   "outputs": [],
   "source": [
    "# \n"
   ]
  },
  {
   "cell_type": "code",
   "execution_count": null,
   "metadata": {},
   "outputs": [],
   "source": [
    "### "
   ]
  },
  {
   "cell_type": "code",
   "execution_count": null,
   "metadata": {},
   "outputs": [],
   "source": [
    "# \n",
    "\n",
    "def get_data(url):\n",
    "    headers = {\n",
    "        \"Accept\": \"text/html,application/xhtml+xml,application/xml;q=0.9,image/avif,image/webp,image/apng,*/*;q=0.8,application/signed-exchange;v=b3;q=0.9\",\n",
    "        \"Accept-Encoding\": \"gzip, deflate, br\",\n",
    "        \"Accept-Language\": \"en\",\n",
    "        \"Cache-Control\": \"max-age=0\",\n",
    "        \"Connection\": \"keep-alive\",\n",
    "        \"User-Agent\": \"Mozilla/5.0 (X11; Linux x86_64) AppleWebKit/537.36 (KHTML, like Gecko) Chrome/89.0.4389.90 Safari/537.36\"\n",
    "    }\n",
    "# Запрос\n",
    "    r = requests.get(url=url, headers=headers)\n",
    "\n",
    "# Сохраним страницу\n",
    "    with open(\"index.html\", \"w\") as file:\n",
    "        file.write(r.text)\n",
    "\n",
    "# Нашли ссылку на нужные страницы через вкладку NETWORK (справа в коде)\n",
    "    # get hotels urls\n",
    "    r = requests.get(\"https://api.rsrv.me/hc.php?a=hc&most_id=1317&l=ru&sort=most\", headers=headers)\n",
    "    soup = BeautifulSoup(r.text, \"lxml\")\n",
    "\n",
    "# Соберем карточки с отелями в список\n",
    "    hotels_cards = soup.find_all(\"div\", class_=\"hotel_card_dv\")\n",
    "\n",
    "# Пробегаемся по всем карточкам и забираем URL отеля\n",
    "    for hotel_url in hotels_cards:\n",
    "        hotel_url = hotel_url.find(\"a\").get(\"href\")\n",
    "        print(hotel_url)\n",
    "\n",
    "# \n",
    "def get_data_with_selenium(url):\n",
    "\n",
    "# НЕОБХОДИМО СКАЧАТЬ ДРАЙВЕР ДЛЯ НАШЕГО БРАУЗЕРА И РАСПАКОВАТЬ ЕГО В ПАПКУ С ПРОЕКТОМ !!!!!\n",
    "# ЭТОТ КОД ДЛЯ FIREFOX\n",
    "    options = webdriver.FirefoxOptions() # !!!!!!!!!!!!!\n",
    "    options.set_preference(\"general.useragent.override\", \"Mozilla/5.0 (X11; Linux x86_64) AppleWebKit/537.36 (KHTML, like Gecko) Chrome/89.0.4389.90 Safari/537.36\")\n",
    "# В блоке TRY забираем данные со страницы\n",
    "    # try:\n",
    "    #     driver = webdriver.Firefox(\n",
    "    #         executable_path=\"/home/cain/PycharmProjects/scrap_tutorial/lesson6/geckodriver\",\n",
    "    #         options=options\n",
    "    #     )\n",
    "    #     driver.get(url=url)\n",
    "    #     time.sleep(5)\n",
    "    #\n",
    "    #     with open(\"index_selenium.html\", \"w\") as file:\n",
    "    #         file.write(driver.page_source)\n",
    "    #\n",
    "# В блоке EXCEPT обрабатываем ошибки\n",
    "    # except Exception as ex:\n",
    "    #     print(ex)\n",
    "# В FINALLY завершаем работу драйвера\n",
    "    # finally:\n",
    "    #     driver.close()\n",
    "    #     driver.quit()\n",
    "\n",
    "# \n",
    "    with open(\"index_selenium.html\") as file:\n",
    "        src = file.read()\n",
    "\n",
    "    # get hotels urls\n",
    "    soup = BeautifulSoup(src, \"lxml\")\n",
    "\n",
    "    hotels_cards = soup.find_all(\"div\", class_=\"hotel_card_dv\")\n",
    "\n",
    "# \n",
    "    for hotel_url in hotels_cards:\n",
    "        hotel_url = \"https://www.tury.ru\" + hotel_url.find(\"a\").get(\"href\")\n",
    "        print(hotel_url)\n",
    "\n",
    "# \n",
    "def main():\n",
    "    # get_data(\"https://www.tury.ru/hotel/most_luxe.php\")\n",
    "    get_data_with_selenium(\"https://www.tury.ru/hotel/most_luxe.php\")\n",
    "\n",
    "\n",
    "if __name__ == '__main__':\n",
    "    main()"
   ]
  },
  {
   "cell_type": "code",
   "execution_count": null,
   "metadata": {},
   "outputs": [],
   "source": [
    "# \n"
   ]
  },
  {
   "cell_type": "code",
   "execution_count": null,
   "metadata": {},
   "outputs": [],
   "source": [
    "# \n"
   ]
  },
  {
   "cell_type": "code",
   "execution_count": null,
   "metadata": {},
   "outputs": [],
   "source": [
    "### "
   ]
  },
  {
   "cell_type": "code",
   "execution_count": null,
   "metadata": {},
   "outputs": [],
   "source": [
    "# \n"
   ]
  },
  {
   "cell_type": "markdown",
   "metadata": {},
   "source": [
    "##  УРОК 7 | Парсинг сайтов на фрилансе | Requests, Beautifulsoup"
   ]
  },
  {
   "cell_type": "code",
   "execution_count": null,
   "metadata": {},
   "outputs": [],
   "source": [
    "# https://youtu.be/kK4j6o3bw4E?si=-v5_j-cCdh7gqXy4"
   ]
  },
  {
   "cell_type": "code",
   "execution_count": 67,
   "metadata": {},
   "outputs": [],
   "source": [
    "# Импортируем необходимые для урока библиотеки\n",
    "import csv\n",
    "import json\n",
    "import os\n",
    "import time\n",
    "import requests\n",
    "from bs4 import BeautifulSoup\n",
    "from datetime import datetime"
   ]
  },
  {
   "cell_type": "markdown",
   "metadata": {},
   "source": [
    "### Константы для проекта:"
   ]
  },
  {
   "cell_type": "code",
   "execution_count": null,
   "metadata": {},
   "outputs": [],
   "source": [
    "# Создаём переменные-КОНСТАНТЫ\n",
    "# 1. Адрес основного хоста\n",
    "HOST = 'https://www.' \n",
    "\n",
    "# 2. Адрес страницы для парсинга\n",
    "URL = 'https://www.'\n",
    "\n",
    "# 3. Создаём словарь заголовков\n",
    "# Это нужно для некоторых сайтов (но не для всех - для этого необязательно)\n",
    "# чтобы показать сайту, что ВЫ НЕ БОТ, а обычный пользователь\n",
    "HEADERS = {\n",
    "    'accept': 'text/html,application/xhtml+xml,application/xml;q=0.9,image/avif,image/webp,image/apng,*/*;q=0.8,application/signed-exchange;v=b3;q=0.9',\n",
    "    'user-agent': 'Mozilla/5.0 (Windows NT 10.0; Win64; x64) AppleWebKit/537.36 (KHTML, like Gecko) Chrome/109.0.0.0 Safari/537.36'\n",
    "}\n",
    "\n",
    "# 4. Название финального файла\n",
    "# CSV = 'catalog.csv'"
   ]
  },
  {
   "cell_type": "markdown",
   "metadata": {},
   "source": [
    "#### Делаем запросы, парсим информацию\n",
    "##### Сохраняем данные в JSON и CSV форматах в табличной форме"
   ]
  },
  {
   "cell_type": "markdown",
   "metadata": {},
   "source": [
    "### Изучаем структуру страницы"
   ]
  },
  {
   "cell_type": "code",
   "execution_count": null,
   "metadata": {},
   "outputs": [],
   "source": [
    "# \n"
   ]
  },
  {
   "cell_type": "code",
   "execution_count": null,
   "metadata": {},
   "outputs": [],
   "source": [
    "### "
   ]
  },
  {
   "cell_type": "code",
   "execution_count": null,
   "metadata": {},
   "outputs": [],
   "source": [
    "# \n"
   ]
  },
  {
   "cell_type": "code",
   "execution_count": null,
   "metadata": {},
   "outputs": [],
   "source": [
    "# \n"
   ]
  },
  {
   "cell_type": "code",
   "execution_count": null,
   "metadata": {},
   "outputs": [],
   "source": [
    "# \n"
   ]
  },
  {
   "cell_type": "code",
   "execution_count": null,
   "metadata": {},
   "outputs": [],
   "source": [
    "### "
   ]
  },
  {
   "cell_type": "code",
   "execution_count": null,
   "metadata": {},
   "outputs": [],
   "source": [
    "# \n"
   ]
  },
  {
   "cell_type": "code",
   "execution_count": null,
   "metadata": {},
   "outputs": [],
   "source": [
    "# \n"
   ]
  },
  {
   "cell_type": "code",
   "execution_count": null,
   "metadata": {},
   "outputs": [],
   "source": [
    "# \n"
   ]
  },
  {
   "cell_type": "code",
   "execution_count": null,
   "metadata": {},
   "outputs": [],
   "source": [
    "### "
   ]
  },
  {
   "cell_type": "code",
   "execution_count": 34,
   "metadata": {
    "collapsed": true,
    "jupyter": {
     "outputs_hidden": true
    }
   },
   "outputs": [
    {
     "ename": "SSLError",
     "evalue": "HTTPSConnectionPool(host='shop.casio.ru', port=443): Max retries exceeded with url: /catalog/g-shock/filter/gender-is-male/apply/ (Caused by SSLError(SSLCertVerificationError(1, '[SSL: CERTIFICATE_VERIFY_FAILED] certificate verify failed: certificate has expired (_ssl.c:997)')))",
     "output_type": "error",
     "traceback": [
      "\u001b[1;31m---------------------------------------------------------------------------\u001b[0m",
      "\u001b[1;31mSSLCertVerificationError\u001b[0m                  Traceback (most recent call last)",
      "File \u001b[1;32mC:\\Python310\\lib\\site-packages\\urllib3\\connectionpool.py:466\u001b[0m, in \u001b[0;36mHTTPConnectionPool._make_request\u001b[1;34m(self, conn, method, url, body, headers, retries, timeout, chunked, response_conn, preload_content, decode_content, enforce_content_length)\u001b[0m\n\u001b[0;32m    465\u001b[0m \u001b[38;5;28;01mtry\u001b[39;00m:\n\u001b[1;32m--> 466\u001b[0m     \u001b[38;5;28;43mself\u001b[39;49m\u001b[38;5;241;43m.\u001b[39;49m\u001b[43m_validate_conn\u001b[49m\u001b[43m(\u001b[49m\u001b[43mconn\u001b[49m\u001b[43m)\u001b[49m\n\u001b[0;32m    467\u001b[0m \u001b[38;5;28;01mexcept\u001b[39;00m (SocketTimeout, BaseSSLError) \u001b[38;5;28;01mas\u001b[39;00m e:\n",
      "File \u001b[1;32mC:\\Python310\\lib\\site-packages\\urllib3\\connectionpool.py:1095\u001b[0m, in \u001b[0;36mHTTPSConnectionPool._validate_conn\u001b[1;34m(self, conn)\u001b[0m\n\u001b[0;32m   1094\u001b[0m \u001b[38;5;28;01mif\u001b[39;00m conn\u001b[38;5;241m.\u001b[39mis_closed:\n\u001b[1;32m-> 1095\u001b[0m     \u001b[43mconn\u001b[49m\u001b[38;5;241;43m.\u001b[39;49m\u001b[43mconnect\u001b[49m\u001b[43m(\u001b[49m\u001b[43m)\u001b[49m\n\u001b[0;32m   1097\u001b[0m \u001b[38;5;66;03m# TODO revise this, see https://github.com/urllib3/urllib3/issues/2791\u001b[39;00m\n",
      "File \u001b[1;32mC:\\Python310\\lib\\site-packages\\urllib3\\connection.py:730\u001b[0m, in \u001b[0;36mHTTPSConnection.connect\u001b[1;34m(self)\u001b[0m\n\u001b[0;32m    728\u001b[0m server_hostname_rm_dot \u001b[38;5;241m=\u001b[39m server_hostname\u001b[38;5;241m.\u001b[39mrstrip(\u001b[38;5;124m\"\u001b[39m\u001b[38;5;124m.\u001b[39m\u001b[38;5;124m\"\u001b[39m)\n\u001b[1;32m--> 730\u001b[0m sock_and_verified \u001b[38;5;241m=\u001b[39m \u001b[43m_ssl_wrap_socket_and_match_hostname\u001b[49m\u001b[43m(\u001b[49m\n\u001b[0;32m    731\u001b[0m \u001b[43m    \u001b[49m\u001b[43msock\u001b[49m\u001b[38;5;241;43m=\u001b[39;49m\u001b[43msock\u001b[49m\u001b[43m,\u001b[49m\n\u001b[0;32m    732\u001b[0m \u001b[43m    \u001b[49m\u001b[43mcert_reqs\u001b[49m\u001b[38;5;241;43m=\u001b[39;49m\u001b[38;5;28;43mself\u001b[39;49m\u001b[38;5;241;43m.\u001b[39;49m\u001b[43mcert_reqs\u001b[49m\u001b[43m,\u001b[49m\n\u001b[0;32m    733\u001b[0m \u001b[43m    \u001b[49m\u001b[43mssl_version\u001b[49m\u001b[38;5;241;43m=\u001b[39;49m\u001b[38;5;28;43mself\u001b[39;49m\u001b[38;5;241;43m.\u001b[39;49m\u001b[43mssl_version\u001b[49m\u001b[43m,\u001b[49m\n\u001b[0;32m    734\u001b[0m \u001b[43m    \u001b[49m\u001b[43mssl_minimum_version\u001b[49m\u001b[38;5;241;43m=\u001b[39;49m\u001b[38;5;28;43mself\u001b[39;49m\u001b[38;5;241;43m.\u001b[39;49m\u001b[43mssl_minimum_version\u001b[49m\u001b[43m,\u001b[49m\n\u001b[0;32m    735\u001b[0m \u001b[43m    \u001b[49m\u001b[43mssl_maximum_version\u001b[49m\u001b[38;5;241;43m=\u001b[39;49m\u001b[38;5;28;43mself\u001b[39;49m\u001b[38;5;241;43m.\u001b[39;49m\u001b[43mssl_maximum_version\u001b[49m\u001b[43m,\u001b[49m\n\u001b[0;32m    736\u001b[0m \u001b[43m    \u001b[49m\u001b[43mca_certs\u001b[49m\u001b[38;5;241;43m=\u001b[39;49m\u001b[38;5;28;43mself\u001b[39;49m\u001b[38;5;241;43m.\u001b[39;49m\u001b[43mca_certs\u001b[49m\u001b[43m,\u001b[49m\n\u001b[0;32m    737\u001b[0m \u001b[43m    \u001b[49m\u001b[43mca_cert_dir\u001b[49m\u001b[38;5;241;43m=\u001b[39;49m\u001b[38;5;28;43mself\u001b[39;49m\u001b[38;5;241;43m.\u001b[39;49m\u001b[43mca_cert_dir\u001b[49m\u001b[43m,\u001b[49m\n\u001b[0;32m    738\u001b[0m \u001b[43m    \u001b[49m\u001b[43mca_cert_data\u001b[49m\u001b[38;5;241;43m=\u001b[39;49m\u001b[38;5;28;43mself\u001b[39;49m\u001b[38;5;241;43m.\u001b[39;49m\u001b[43mca_cert_data\u001b[49m\u001b[43m,\u001b[49m\n\u001b[0;32m    739\u001b[0m \u001b[43m    \u001b[49m\u001b[43mcert_file\u001b[49m\u001b[38;5;241;43m=\u001b[39;49m\u001b[38;5;28;43mself\u001b[39;49m\u001b[38;5;241;43m.\u001b[39;49m\u001b[43mcert_file\u001b[49m\u001b[43m,\u001b[49m\n\u001b[0;32m    740\u001b[0m \u001b[43m    \u001b[49m\u001b[43mkey_file\u001b[49m\u001b[38;5;241;43m=\u001b[39;49m\u001b[38;5;28;43mself\u001b[39;49m\u001b[38;5;241;43m.\u001b[39;49m\u001b[43mkey_file\u001b[49m\u001b[43m,\u001b[49m\n\u001b[0;32m    741\u001b[0m \u001b[43m    \u001b[49m\u001b[43mkey_password\u001b[49m\u001b[38;5;241;43m=\u001b[39;49m\u001b[38;5;28;43mself\u001b[39;49m\u001b[38;5;241;43m.\u001b[39;49m\u001b[43mkey_password\u001b[49m\u001b[43m,\u001b[49m\n\u001b[0;32m    742\u001b[0m \u001b[43m    \u001b[49m\u001b[43mserver_hostname\u001b[49m\u001b[38;5;241;43m=\u001b[39;49m\u001b[43mserver_hostname_rm_dot\u001b[49m\u001b[43m,\u001b[49m\n\u001b[0;32m    743\u001b[0m \u001b[43m    \u001b[49m\u001b[43mssl_context\u001b[49m\u001b[38;5;241;43m=\u001b[39;49m\u001b[38;5;28;43mself\u001b[39;49m\u001b[38;5;241;43m.\u001b[39;49m\u001b[43mssl_context\u001b[49m\u001b[43m,\u001b[49m\n\u001b[0;32m    744\u001b[0m \u001b[43m    \u001b[49m\u001b[43mtls_in_tls\u001b[49m\u001b[38;5;241;43m=\u001b[39;49m\u001b[43mtls_in_tls\u001b[49m\u001b[43m,\u001b[49m\n\u001b[0;32m    745\u001b[0m \u001b[43m    \u001b[49m\u001b[43massert_hostname\u001b[49m\u001b[38;5;241;43m=\u001b[39;49m\u001b[38;5;28;43mself\u001b[39;49m\u001b[38;5;241;43m.\u001b[39;49m\u001b[43massert_hostname\u001b[49m\u001b[43m,\u001b[49m\n\u001b[0;32m    746\u001b[0m \u001b[43m    \u001b[49m\u001b[43massert_fingerprint\u001b[49m\u001b[38;5;241;43m=\u001b[39;49m\u001b[38;5;28;43mself\u001b[39;49m\u001b[38;5;241;43m.\u001b[39;49m\u001b[43massert_fingerprint\u001b[49m\u001b[43m,\u001b[49m\n\u001b[0;32m    747\u001b[0m \u001b[43m\u001b[49m\u001b[43m)\u001b[49m\n\u001b[0;32m    748\u001b[0m \u001b[38;5;28mself\u001b[39m\u001b[38;5;241m.\u001b[39msock \u001b[38;5;241m=\u001b[39m sock_and_verified\u001b[38;5;241m.\u001b[39msocket\n",
      "File \u001b[1;32mC:\\Python310\\lib\\site-packages\\urllib3\\connection.py:909\u001b[0m, in \u001b[0;36m_ssl_wrap_socket_and_match_hostname\u001b[1;34m(sock, cert_reqs, ssl_version, ssl_minimum_version, ssl_maximum_version, cert_file, key_file, key_password, ca_certs, ca_cert_dir, ca_cert_data, assert_hostname, assert_fingerprint, server_hostname, ssl_context, tls_in_tls)\u001b[0m\n\u001b[0;32m    907\u001b[0m         server_hostname \u001b[38;5;241m=\u001b[39m normalized\n\u001b[1;32m--> 909\u001b[0m ssl_sock \u001b[38;5;241m=\u001b[39m \u001b[43mssl_wrap_socket\u001b[49m\u001b[43m(\u001b[49m\n\u001b[0;32m    910\u001b[0m \u001b[43m    \u001b[49m\u001b[43msock\u001b[49m\u001b[38;5;241;43m=\u001b[39;49m\u001b[43msock\u001b[49m\u001b[43m,\u001b[49m\n\u001b[0;32m    911\u001b[0m \u001b[43m    \u001b[49m\u001b[43mkeyfile\u001b[49m\u001b[38;5;241;43m=\u001b[39;49m\u001b[43mkey_file\u001b[49m\u001b[43m,\u001b[49m\n\u001b[0;32m    912\u001b[0m \u001b[43m    \u001b[49m\u001b[43mcertfile\u001b[49m\u001b[38;5;241;43m=\u001b[39;49m\u001b[43mcert_file\u001b[49m\u001b[43m,\u001b[49m\n\u001b[0;32m    913\u001b[0m \u001b[43m    \u001b[49m\u001b[43mkey_password\u001b[49m\u001b[38;5;241;43m=\u001b[39;49m\u001b[43mkey_password\u001b[49m\u001b[43m,\u001b[49m\n\u001b[0;32m    914\u001b[0m \u001b[43m    \u001b[49m\u001b[43mca_certs\u001b[49m\u001b[38;5;241;43m=\u001b[39;49m\u001b[43mca_certs\u001b[49m\u001b[43m,\u001b[49m\n\u001b[0;32m    915\u001b[0m \u001b[43m    \u001b[49m\u001b[43mca_cert_dir\u001b[49m\u001b[38;5;241;43m=\u001b[39;49m\u001b[43mca_cert_dir\u001b[49m\u001b[43m,\u001b[49m\n\u001b[0;32m    916\u001b[0m \u001b[43m    \u001b[49m\u001b[43mca_cert_data\u001b[49m\u001b[38;5;241;43m=\u001b[39;49m\u001b[43mca_cert_data\u001b[49m\u001b[43m,\u001b[49m\n\u001b[0;32m    917\u001b[0m \u001b[43m    \u001b[49m\u001b[43mserver_hostname\u001b[49m\u001b[38;5;241;43m=\u001b[39;49m\u001b[43mserver_hostname\u001b[49m\u001b[43m,\u001b[49m\n\u001b[0;32m    918\u001b[0m \u001b[43m    \u001b[49m\u001b[43mssl_context\u001b[49m\u001b[38;5;241;43m=\u001b[39;49m\u001b[43mcontext\u001b[49m\u001b[43m,\u001b[49m\n\u001b[0;32m    919\u001b[0m \u001b[43m    \u001b[49m\u001b[43mtls_in_tls\u001b[49m\u001b[38;5;241;43m=\u001b[39;49m\u001b[43mtls_in_tls\u001b[49m\u001b[43m,\u001b[49m\n\u001b[0;32m    920\u001b[0m \u001b[43m\u001b[49m\u001b[43m)\u001b[49m\n\u001b[0;32m    922\u001b[0m \u001b[38;5;28;01mtry\u001b[39;00m:\n",
      "File \u001b[1;32mC:\\Python310\\lib\\site-packages\\urllib3\\util\\ssl_.py:469\u001b[0m, in \u001b[0;36mssl_wrap_socket\u001b[1;34m(sock, keyfile, certfile, cert_reqs, ca_certs, server_hostname, ssl_version, ciphers, ssl_context, ca_cert_dir, key_password, ca_cert_data, tls_in_tls)\u001b[0m\n\u001b[0;32m    467\u001b[0m context\u001b[38;5;241m.\u001b[39mset_alpn_protocols(ALPN_PROTOCOLS)\n\u001b[1;32m--> 469\u001b[0m ssl_sock \u001b[38;5;241m=\u001b[39m \u001b[43m_ssl_wrap_socket_impl\u001b[49m\u001b[43m(\u001b[49m\u001b[43msock\u001b[49m\u001b[43m,\u001b[49m\u001b[43m \u001b[49m\u001b[43mcontext\u001b[49m\u001b[43m,\u001b[49m\u001b[43m \u001b[49m\u001b[43mtls_in_tls\u001b[49m\u001b[43m,\u001b[49m\u001b[43m \u001b[49m\u001b[43mserver_hostname\u001b[49m\u001b[43m)\u001b[49m\n\u001b[0;32m    470\u001b[0m \u001b[38;5;28;01mreturn\u001b[39;00m ssl_sock\n",
      "File \u001b[1;32mC:\\Python310\\lib\\site-packages\\urllib3\\util\\ssl_.py:513\u001b[0m, in \u001b[0;36m_ssl_wrap_socket_impl\u001b[1;34m(sock, ssl_context, tls_in_tls, server_hostname)\u001b[0m\n\u001b[0;32m    511\u001b[0m     \u001b[38;5;28;01mreturn\u001b[39;00m SSLTransport(sock, ssl_context, server_hostname)\n\u001b[1;32m--> 513\u001b[0m \u001b[38;5;28;01mreturn\u001b[39;00m \u001b[43mssl_context\u001b[49m\u001b[38;5;241;43m.\u001b[39;49m\u001b[43mwrap_socket\u001b[49m\u001b[43m(\u001b[49m\u001b[43msock\u001b[49m\u001b[43m,\u001b[49m\u001b[43m \u001b[49m\u001b[43mserver_hostname\u001b[49m\u001b[38;5;241;43m=\u001b[39;49m\u001b[43mserver_hostname\u001b[49m\u001b[43m)\u001b[49m\n",
      "File \u001b[1;32mC:\\Python310\\lib\\ssl.py:512\u001b[0m, in \u001b[0;36mSSLContext.wrap_socket\u001b[1;34m(self, sock, server_side, do_handshake_on_connect, suppress_ragged_eofs, server_hostname, session)\u001b[0m\n\u001b[0;32m    506\u001b[0m \u001b[38;5;28;01mdef\u001b[39;00m \u001b[38;5;21mwrap_socket\u001b[39m(\u001b[38;5;28mself\u001b[39m, sock, server_side\u001b[38;5;241m=\u001b[39m\u001b[38;5;28;01mFalse\u001b[39;00m,\n\u001b[0;32m    507\u001b[0m                 do_handshake_on_connect\u001b[38;5;241m=\u001b[39m\u001b[38;5;28;01mTrue\u001b[39;00m,\n\u001b[0;32m    508\u001b[0m                 suppress_ragged_eofs\u001b[38;5;241m=\u001b[39m\u001b[38;5;28;01mTrue\u001b[39;00m,\n\u001b[0;32m    509\u001b[0m                 server_hostname\u001b[38;5;241m=\u001b[39m\u001b[38;5;28;01mNone\u001b[39;00m, session\u001b[38;5;241m=\u001b[39m\u001b[38;5;28;01mNone\u001b[39;00m):\n\u001b[0;32m    510\u001b[0m     \u001b[38;5;66;03m# SSLSocket class handles server_hostname encoding before it calls\u001b[39;00m\n\u001b[0;32m    511\u001b[0m     \u001b[38;5;66;03m# ctx._wrap_socket()\u001b[39;00m\n\u001b[1;32m--> 512\u001b[0m     \u001b[38;5;28;01mreturn\u001b[39;00m \u001b[38;5;28;43mself\u001b[39;49m\u001b[38;5;241;43m.\u001b[39;49m\u001b[43msslsocket_class\u001b[49m\u001b[38;5;241;43m.\u001b[39;49m\u001b[43m_create\u001b[49m\u001b[43m(\u001b[49m\n\u001b[0;32m    513\u001b[0m \u001b[43m        \u001b[49m\u001b[43msock\u001b[49m\u001b[38;5;241;43m=\u001b[39;49m\u001b[43msock\u001b[49m\u001b[43m,\u001b[49m\n\u001b[0;32m    514\u001b[0m \u001b[43m        \u001b[49m\u001b[43mserver_side\u001b[49m\u001b[38;5;241;43m=\u001b[39;49m\u001b[43mserver_side\u001b[49m\u001b[43m,\u001b[49m\n\u001b[0;32m    515\u001b[0m \u001b[43m        \u001b[49m\u001b[43mdo_handshake_on_connect\u001b[49m\u001b[38;5;241;43m=\u001b[39;49m\u001b[43mdo_handshake_on_connect\u001b[49m\u001b[43m,\u001b[49m\n\u001b[0;32m    516\u001b[0m \u001b[43m        \u001b[49m\u001b[43msuppress_ragged_eofs\u001b[49m\u001b[38;5;241;43m=\u001b[39;49m\u001b[43msuppress_ragged_eofs\u001b[49m\u001b[43m,\u001b[49m\n\u001b[0;32m    517\u001b[0m \u001b[43m        \u001b[49m\u001b[43mserver_hostname\u001b[49m\u001b[38;5;241;43m=\u001b[39;49m\u001b[43mserver_hostname\u001b[49m\u001b[43m,\u001b[49m\n\u001b[0;32m    518\u001b[0m \u001b[43m        \u001b[49m\u001b[43mcontext\u001b[49m\u001b[38;5;241;43m=\u001b[39;49m\u001b[38;5;28;43mself\u001b[39;49m\u001b[43m,\u001b[49m\n\u001b[0;32m    519\u001b[0m \u001b[43m        \u001b[49m\u001b[43msession\u001b[49m\u001b[38;5;241;43m=\u001b[39;49m\u001b[43msession\u001b[49m\n\u001b[0;32m    520\u001b[0m \u001b[43m    \u001b[49m\u001b[43m)\u001b[49m\n",
      "File \u001b[1;32mC:\\Python310\\lib\\ssl.py:1070\u001b[0m, in \u001b[0;36mSSLSocket._create\u001b[1;34m(cls, sock, server_side, do_handshake_on_connect, suppress_ragged_eofs, server_hostname, context, session)\u001b[0m\n\u001b[0;32m   1069\u001b[0m             \u001b[38;5;28;01mraise\u001b[39;00m \u001b[38;5;167;01mValueError\u001b[39;00m(\u001b[38;5;124m\"\u001b[39m\u001b[38;5;124mdo_handshake_on_connect should not be specified for non-blocking sockets\u001b[39m\u001b[38;5;124m\"\u001b[39m)\n\u001b[1;32m-> 1070\u001b[0m         \u001b[38;5;28;43mself\u001b[39;49m\u001b[38;5;241;43m.\u001b[39;49m\u001b[43mdo_handshake\u001b[49m\u001b[43m(\u001b[49m\u001b[43m)\u001b[49m\n\u001b[0;32m   1071\u001b[0m \u001b[38;5;28;01mexcept\u001b[39;00m (\u001b[38;5;167;01mOSError\u001b[39;00m, \u001b[38;5;167;01mValueError\u001b[39;00m):\n",
      "File \u001b[1;32mC:\\Python310\\lib\\ssl.py:1341\u001b[0m, in \u001b[0;36mSSLSocket.do_handshake\u001b[1;34m(self, block)\u001b[0m\n\u001b[0;32m   1340\u001b[0m         \u001b[38;5;28mself\u001b[39m\u001b[38;5;241m.\u001b[39msettimeout(\u001b[38;5;28;01mNone\u001b[39;00m)\n\u001b[1;32m-> 1341\u001b[0m     \u001b[38;5;28;43mself\u001b[39;49m\u001b[38;5;241;43m.\u001b[39;49m\u001b[43m_sslobj\u001b[49m\u001b[38;5;241;43m.\u001b[39;49m\u001b[43mdo_handshake\u001b[49m\u001b[43m(\u001b[49m\u001b[43m)\u001b[49m\n\u001b[0;32m   1342\u001b[0m \u001b[38;5;28;01mfinally\u001b[39;00m:\n",
      "\u001b[1;31mSSLCertVerificationError\u001b[0m: [SSL: CERTIFICATE_VERIFY_FAILED] certificate verify failed: certificate has expired (_ssl.c:997)",
      "\nDuring handling of the above exception, another exception occurred:\n",
      "\u001b[1;31mSSLError\u001b[0m                                  Traceback (most recent call last)",
      "File \u001b[1;32mC:\\Python310\\lib\\site-packages\\urllib3\\connectionpool.py:789\u001b[0m, in \u001b[0;36mHTTPConnectionPool.urlopen\u001b[1;34m(self, method, url, body, headers, retries, redirect, assert_same_host, timeout, pool_timeout, release_conn, chunked, body_pos, preload_content, decode_content, **response_kw)\u001b[0m\n\u001b[0;32m    788\u001b[0m \u001b[38;5;66;03m# Make the request on the HTTPConnection object\u001b[39;00m\n\u001b[1;32m--> 789\u001b[0m response \u001b[38;5;241m=\u001b[39m \u001b[38;5;28mself\u001b[39m\u001b[38;5;241m.\u001b[39m_make_request(\n\u001b[0;32m    790\u001b[0m     conn,\n\u001b[0;32m    791\u001b[0m     method,\n\u001b[0;32m    792\u001b[0m     url,\n\u001b[0;32m    793\u001b[0m     timeout\u001b[38;5;241m=\u001b[39mtimeout_obj,\n\u001b[0;32m    794\u001b[0m     body\u001b[38;5;241m=\u001b[39mbody,\n\u001b[0;32m    795\u001b[0m     headers\u001b[38;5;241m=\u001b[39mheaders,\n\u001b[0;32m    796\u001b[0m     chunked\u001b[38;5;241m=\u001b[39mchunked,\n\u001b[0;32m    797\u001b[0m     retries\u001b[38;5;241m=\u001b[39mretries,\n\u001b[0;32m    798\u001b[0m     response_conn\u001b[38;5;241m=\u001b[39mresponse_conn,\n\u001b[0;32m    799\u001b[0m     preload_content\u001b[38;5;241m=\u001b[39mpreload_content,\n\u001b[0;32m    800\u001b[0m     decode_content\u001b[38;5;241m=\u001b[39mdecode_content,\n\u001b[0;32m    801\u001b[0m     \u001b[38;5;241m*\u001b[39m\u001b[38;5;241m*\u001b[39mresponse_kw,\n\u001b[0;32m    802\u001b[0m )\n\u001b[0;32m    804\u001b[0m \u001b[38;5;66;03m# Everything went great!\u001b[39;00m\n",
      "File \u001b[1;32mC:\\Python310\\lib\\site-packages\\urllib3\\connectionpool.py:490\u001b[0m, in \u001b[0;36mHTTPConnectionPool._make_request\u001b[1;34m(self, conn, method, url, body, headers, retries, timeout, chunked, response_conn, preload_content, decode_content, enforce_content_length)\u001b[0m\n\u001b[0;32m    489\u001b[0m         new_e \u001b[38;5;241m=\u001b[39m _wrap_proxy_error(new_e, conn\u001b[38;5;241m.\u001b[39mproxy\u001b[38;5;241m.\u001b[39mscheme)\n\u001b[1;32m--> 490\u001b[0m     \u001b[38;5;28;01mraise\u001b[39;00m new_e\n\u001b[0;32m    492\u001b[0m \u001b[38;5;66;03m# conn.request() calls http.client.*.request, not the method in\u001b[39;00m\n\u001b[0;32m    493\u001b[0m \u001b[38;5;66;03m# urllib3.request. It also calls makefile (recv) on the socket.\u001b[39;00m\n",
      "\u001b[1;31mSSLError\u001b[0m: [SSL: CERTIFICATE_VERIFY_FAILED] certificate verify failed: certificate has expired (_ssl.c:997)",
      "\nThe above exception was the direct cause of the following exception:\n",
      "\u001b[1;31mMaxRetryError\u001b[0m                             Traceback (most recent call last)",
      "File \u001b[1;32mC:\\Python310\\lib\\site-packages\\requests\\adapters.py:667\u001b[0m, in \u001b[0;36mHTTPAdapter.send\u001b[1;34m(self, request, stream, timeout, verify, cert, proxies)\u001b[0m\n\u001b[0;32m    666\u001b[0m \u001b[38;5;28;01mtry\u001b[39;00m:\n\u001b[1;32m--> 667\u001b[0m     resp \u001b[38;5;241m=\u001b[39m \u001b[43mconn\u001b[49m\u001b[38;5;241;43m.\u001b[39;49m\u001b[43murlopen\u001b[49m\u001b[43m(\u001b[49m\n\u001b[0;32m    668\u001b[0m \u001b[43m        \u001b[49m\u001b[43mmethod\u001b[49m\u001b[38;5;241;43m=\u001b[39;49m\u001b[43mrequest\u001b[49m\u001b[38;5;241;43m.\u001b[39;49m\u001b[43mmethod\u001b[49m\u001b[43m,\u001b[49m\n\u001b[0;32m    669\u001b[0m \u001b[43m        \u001b[49m\u001b[43murl\u001b[49m\u001b[38;5;241;43m=\u001b[39;49m\u001b[43murl\u001b[49m\u001b[43m,\u001b[49m\n\u001b[0;32m    670\u001b[0m \u001b[43m        \u001b[49m\u001b[43mbody\u001b[49m\u001b[38;5;241;43m=\u001b[39;49m\u001b[43mrequest\u001b[49m\u001b[38;5;241;43m.\u001b[39;49m\u001b[43mbody\u001b[49m\u001b[43m,\u001b[49m\n\u001b[0;32m    671\u001b[0m \u001b[43m        \u001b[49m\u001b[43mheaders\u001b[49m\u001b[38;5;241;43m=\u001b[39;49m\u001b[43mrequest\u001b[49m\u001b[38;5;241;43m.\u001b[39;49m\u001b[43mheaders\u001b[49m\u001b[43m,\u001b[49m\n\u001b[0;32m    672\u001b[0m \u001b[43m        \u001b[49m\u001b[43mredirect\u001b[49m\u001b[38;5;241;43m=\u001b[39;49m\u001b[38;5;28;43;01mFalse\u001b[39;49;00m\u001b[43m,\u001b[49m\n\u001b[0;32m    673\u001b[0m \u001b[43m        \u001b[49m\u001b[43massert_same_host\u001b[49m\u001b[38;5;241;43m=\u001b[39;49m\u001b[38;5;28;43;01mFalse\u001b[39;49;00m\u001b[43m,\u001b[49m\n\u001b[0;32m    674\u001b[0m \u001b[43m        \u001b[49m\u001b[43mpreload_content\u001b[49m\u001b[38;5;241;43m=\u001b[39;49m\u001b[38;5;28;43;01mFalse\u001b[39;49;00m\u001b[43m,\u001b[49m\n\u001b[0;32m    675\u001b[0m \u001b[43m        \u001b[49m\u001b[43mdecode_content\u001b[49m\u001b[38;5;241;43m=\u001b[39;49m\u001b[38;5;28;43;01mFalse\u001b[39;49;00m\u001b[43m,\u001b[49m\n\u001b[0;32m    676\u001b[0m \u001b[43m        \u001b[49m\u001b[43mretries\u001b[49m\u001b[38;5;241;43m=\u001b[39;49m\u001b[38;5;28;43mself\u001b[39;49m\u001b[38;5;241;43m.\u001b[39;49m\u001b[43mmax_retries\u001b[49m\u001b[43m,\u001b[49m\n\u001b[0;32m    677\u001b[0m \u001b[43m        \u001b[49m\u001b[43mtimeout\u001b[49m\u001b[38;5;241;43m=\u001b[39;49m\u001b[43mtimeout\u001b[49m\u001b[43m,\u001b[49m\n\u001b[0;32m    678\u001b[0m \u001b[43m        \u001b[49m\u001b[43mchunked\u001b[49m\u001b[38;5;241;43m=\u001b[39;49m\u001b[43mchunked\u001b[49m\u001b[43m,\u001b[49m\n\u001b[0;32m    679\u001b[0m \u001b[43m    \u001b[49m\u001b[43m)\u001b[49m\n\u001b[0;32m    681\u001b[0m \u001b[38;5;28;01mexcept\u001b[39;00m (ProtocolError, \u001b[38;5;167;01mOSError\u001b[39;00m) \u001b[38;5;28;01mas\u001b[39;00m err:\n",
      "File \u001b[1;32mC:\\Python310\\lib\\site-packages\\urllib3\\connectionpool.py:843\u001b[0m, in \u001b[0;36mHTTPConnectionPool.urlopen\u001b[1;34m(self, method, url, body, headers, retries, redirect, assert_same_host, timeout, pool_timeout, release_conn, chunked, body_pos, preload_content, decode_content, **response_kw)\u001b[0m\n\u001b[0;32m    841\u001b[0m     new_e \u001b[38;5;241m=\u001b[39m ProtocolError(\u001b[38;5;124m\"\u001b[39m\u001b[38;5;124mConnection aborted.\u001b[39m\u001b[38;5;124m\"\u001b[39m, new_e)\n\u001b[1;32m--> 843\u001b[0m retries \u001b[38;5;241m=\u001b[39m \u001b[43mretries\u001b[49m\u001b[38;5;241;43m.\u001b[39;49m\u001b[43mincrement\u001b[49m\u001b[43m(\u001b[49m\n\u001b[0;32m    844\u001b[0m \u001b[43m    \u001b[49m\u001b[43mmethod\u001b[49m\u001b[43m,\u001b[49m\u001b[43m \u001b[49m\u001b[43murl\u001b[49m\u001b[43m,\u001b[49m\u001b[43m \u001b[49m\u001b[43merror\u001b[49m\u001b[38;5;241;43m=\u001b[39;49m\u001b[43mnew_e\u001b[49m\u001b[43m,\u001b[49m\u001b[43m \u001b[49m\u001b[43m_pool\u001b[49m\u001b[38;5;241;43m=\u001b[39;49m\u001b[38;5;28;43mself\u001b[39;49m\u001b[43m,\u001b[49m\u001b[43m \u001b[49m\u001b[43m_stacktrace\u001b[49m\u001b[38;5;241;43m=\u001b[39;49m\u001b[43msys\u001b[49m\u001b[38;5;241;43m.\u001b[39;49m\u001b[43mexc_info\u001b[49m\u001b[43m(\u001b[49m\u001b[43m)\u001b[49m\u001b[43m[\u001b[49m\u001b[38;5;241;43m2\u001b[39;49m\u001b[43m]\u001b[49m\n\u001b[0;32m    845\u001b[0m \u001b[43m\u001b[49m\u001b[43m)\u001b[49m\n\u001b[0;32m    846\u001b[0m retries\u001b[38;5;241m.\u001b[39msleep()\n",
      "File \u001b[1;32mC:\\Python310\\lib\\site-packages\\urllib3\\util\\retry.py:519\u001b[0m, in \u001b[0;36mRetry.increment\u001b[1;34m(self, method, url, response, error, _pool, _stacktrace)\u001b[0m\n\u001b[0;32m    518\u001b[0m     reason \u001b[38;5;241m=\u001b[39m error \u001b[38;5;129;01mor\u001b[39;00m ResponseError(cause)\n\u001b[1;32m--> 519\u001b[0m     \u001b[38;5;28;01mraise\u001b[39;00m MaxRetryError(_pool, url, reason) \u001b[38;5;28;01mfrom\u001b[39;00m \u001b[38;5;21;01mreason\u001b[39;00m  \u001b[38;5;66;03m# type: ignore[arg-type]\u001b[39;00m\n\u001b[0;32m    521\u001b[0m log\u001b[38;5;241m.\u001b[39mdebug(\u001b[38;5;124m\"\u001b[39m\u001b[38;5;124mIncremented Retry for (url=\u001b[39m\u001b[38;5;124m'\u001b[39m\u001b[38;5;132;01m%s\u001b[39;00m\u001b[38;5;124m'\u001b[39m\u001b[38;5;124m): \u001b[39m\u001b[38;5;132;01m%r\u001b[39;00m\u001b[38;5;124m\"\u001b[39m, url, new_retry)\n",
      "\u001b[1;31mMaxRetryError\u001b[0m: HTTPSConnectionPool(host='shop.casio.ru', port=443): Max retries exceeded with url: /catalog/g-shock/filter/gender-is-male/apply/ (Caused by SSLError(SSLCertVerificationError(1, '[SSL: CERTIFICATE_VERIFY_FAILED] certificate verify failed: certificate has expired (_ssl.c:997)')))",
      "\nDuring handling of the above exception, another exception occurred:\n",
      "\u001b[1;31mSSLError\u001b[0m                                  Traceback (most recent call last)",
      "Cell \u001b[1;32mIn[34], line 108\u001b[0m\n\u001b[0;32m    104\u001b[0m     collect_data(pages_count\u001b[38;5;241m=\u001b[39mpages_count)\n\u001b[0;32m    107\u001b[0m \u001b[38;5;28;01mif\u001b[39;00m \u001b[38;5;18m__name__\u001b[39m \u001b[38;5;241m==\u001b[39m \u001b[38;5;124m'\u001b[39m\u001b[38;5;124m__main__\u001b[39m\u001b[38;5;124m'\u001b[39m:\n\u001b[1;32m--> 108\u001b[0m     \u001b[43mmain\u001b[49m\u001b[43m(\u001b[49m\u001b[43m)\u001b[49m\n",
      "Cell \u001b[1;32mIn[34], line 103\u001b[0m, in \u001b[0;36mmain\u001b[1;34m()\u001b[0m\n\u001b[0;32m    102\u001b[0m \u001b[38;5;28;01mdef\u001b[39;00m \u001b[38;5;21mmain\u001b[39m():\n\u001b[1;32m--> 103\u001b[0m     pages_count \u001b[38;5;241m=\u001b[39m \u001b[43mget_all_pages\u001b[49m\u001b[43m(\u001b[49m\u001b[43m)\u001b[49m\n\u001b[0;32m    104\u001b[0m     collect_data(pages_count\u001b[38;5;241m=\u001b[39mpages_count)\n",
      "Cell \u001b[1;32mIn[34], line 10\u001b[0m, in \u001b[0;36mget_all_pages\u001b[1;34m()\u001b[0m\n\u001b[0;32m      5\u001b[0m     headers \u001b[38;5;241m=\u001b[39m {\n\u001b[0;32m      6\u001b[0m         \u001b[38;5;124m\"\u001b[39m\u001b[38;5;124muser-agent\u001b[39m\u001b[38;5;124m\"\u001b[39m: \u001b[38;5;124m\"\u001b[39m\u001b[38;5;124mMozilla/5.0 (X11; Linux x86_64) AppleWebKit/537.36 (KHTML, like Gecko) Chrome/90.0.4430.212 Safari/537.36\u001b[39m\u001b[38;5;124m\"\u001b[39m\n\u001b[0;32m      7\u001b[0m     }\n\u001b[0;32m      9\u001b[0m \u001b[38;5;66;03m# Отправляем запрос на страницу, передаём в качестве GET-параметра URL-адрес\u001b[39;00m\n\u001b[1;32m---> 10\u001b[0m     r \u001b[38;5;241m=\u001b[39m \u001b[43mrequests\u001b[49m\u001b[38;5;241;43m.\u001b[39;49m\u001b[43mget\u001b[49m\u001b[43m(\u001b[49m\u001b[43murl\u001b[49m\u001b[38;5;241;43m=\u001b[39;49m\u001b[38;5;124;43m\"\u001b[39;49m\u001b[38;5;124;43mhttps://shop.casio.ru/catalog/g-shock/filter/gender-is-male/apply/\u001b[39;49m\u001b[38;5;124;43m\"\u001b[39;49m\u001b[43m,\u001b[49m\u001b[43m \u001b[49m\u001b[43mheaders\u001b[49m\u001b[38;5;241;43m=\u001b[39;49m\u001b[43mheaders\u001b[49m\u001b[43m)\u001b[49m\n\u001b[0;32m     12\u001b[0m \u001b[38;5;66;03m# Условие для создания директории, в которой будем сохранять HTML-файлы, чтобы не засорять дерево проекта\u001b[39;00m\n\u001b[0;32m     13\u001b[0m     \u001b[38;5;28;01mif\u001b[39;00m \u001b[38;5;129;01mnot\u001b[39;00m os\u001b[38;5;241m.\u001b[39mpath\u001b[38;5;241m.\u001b[39mexists(\u001b[38;5;124m\"\u001b[39m\u001b[38;5;124mdata\u001b[39m\u001b[38;5;124m\"\u001b[39m):\n",
      "File \u001b[1;32mC:\\Python310\\lib\\site-packages\\requests\\api.py:73\u001b[0m, in \u001b[0;36mget\u001b[1;34m(url, params, **kwargs)\u001b[0m\n\u001b[0;32m     62\u001b[0m \u001b[38;5;28;01mdef\u001b[39;00m \u001b[38;5;21mget\u001b[39m(url, params\u001b[38;5;241m=\u001b[39m\u001b[38;5;28;01mNone\u001b[39;00m, \u001b[38;5;241m*\u001b[39m\u001b[38;5;241m*\u001b[39mkwargs):\n\u001b[0;32m     63\u001b[0m \u001b[38;5;250m    \u001b[39m\u001b[38;5;124mr\u001b[39m\u001b[38;5;124;03m\"\"\"Sends a GET request.\u001b[39;00m\n\u001b[0;32m     64\u001b[0m \n\u001b[0;32m     65\u001b[0m \u001b[38;5;124;03m    :param url: URL for the new :class:`Request` object.\u001b[39;00m\n\u001b[1;32m   (...)\u001b[0m\n\u001b[0;32m     70\u001b[0m \u001b[38;5;124;03m    :rtype: requests.Response\u001b[39;00m\n\u001b[0;32m     71\u001b[0m \u001b[38;5;124;03m    \"\"\"\u001b[39;00m\n\u001b[1;32m---> 73\u001b[0m     \u001b[38;5;28;01mreturn\u001b[39;00m request(\u001b[38;5;124m\"\u001b[39m\u001b[38;5;124mget\u001b[39m\u001b[38;5;124m\"\u001b[39m, url, params\u001b[38;5;241m=\u001b[39mparams, \u001b[38;5;241m*\u001b[39m\u001b[38;5;241m*\u001b[39mkwargs)\n",
      "File \u001b[1;32mC:\\Python310\\lib\\site-packages\\requests\\api.py:59\u001b[0m, in \u001b[0;36mrequest\u001b[1;34m(method, url, **kwargs)\u001b[0m\n\u001b[0;32m     55\u001b[0m \u001b[38;5;66;03m# By using the 'with' statement we are sure the session is closed, thus we\u001b[39;00m\n\u001b[0;32m     56\u001b[0m \u001b[38;5;66;03m# avoid leaving sockets open which can trigger a ResourceWarning in some\u001b[39;00m\n\u001b[0;32m     57\u001b[0m \u001b[38;5;66;03m# cases, and look like a memory leak in others.\u001b[39;00m\n\u001b[0;32m     58\u001b[0m \u001b[38;5;28;01mwith\u001b[39;00m sessions\u001b[38;5;241m.\u001b[39mSession() \u001b[38;5;28;01mas\u001b[39;00m session:\n\u001b[1;32m---> 59\u001b[0m     \u001b[38;5;28;01mreturn\u001b[39;00m session\u001b[38;5;241m.\u001b[39mrequest(method\u001b[38;5;241m=\u001b[39mmethod, url\u001b[38;5;241m=\u001b[39murl, \u001b[38;5;241m*\u001b[39m\u001b[38;5;241m*\u001b[39mkwargs)\n",
      "File \u001b[1;32mC:\\Python310\\lib\\site-packages\\requests\\sessions.py:589\u001b[0m, in \u001b[0;36mSession.request\u001b[1;34m(self, method, url, params, data, headers, cookies, files, auth, timeout, allow_redirects, proxies, hooks, stream, verify, cert, json)\u001b[0m\n\u001b[0;32m    584\u001b[0m send_kwargs \u001b[38;5;241m=\u001b[39m {\n\u001b[0;32m    585\u001b[0m     \u001b[38;5;124m\"\u001b[39m\u001b[38;5;124mtimeout\u001b[39m\u001b[38;5;124m\"\u001b[39m: timeout,\n\u001b[0;32m    586\u001b[0m     \u001b[38;5;124m\"\u001b[39m\u001b[38;5;124mallow_redirects\u001b[39m\u001b[38;5;124m\"\u001b[39m: allow_redirects,\n\u001b[0;32m    587\u001b[0m }\n\u001b[0;32m    588\u001b[0m send_kwargs\u001b[38;5;241m.\u001b[39mupdate(settings)\n\u001b[1;32m--> 589\u001b[0m resp \u001b[38;5;241m=\u001b[39m \u001b[38;5;28mself\u001b[39m\u001b[38;5;241m.\u001b[39msend(prep, \u001b[38;5;241m*\u001b[39m\u001b[38;5;241m*\u001b[39msend_kwargs)\n\u001b[0;32m    591\u001b[0m \u001b[38;5;28;01mreturn\u001b[39;00m resp\n",
      "File \u001b[1;32mC:\\Python310\\lib\\site-packages\\requests\\sessions.py:703\u001b[0m, in \u001b[0;36mSession.send\u001b[1;34m(self, request, **kwargs)\u001b[0m\n\u001b[0;32m    700\u001b[0m start \u001b[38;5;241m=\u001b[39m preferred_clock()\n\u001b[0;32m    702\u001b[0m \u001b[38;5;66;03m# Send the request\u001b[39;00m\n\u001b[1;32m--> 703\u001b[0m r \u001b[38;5;241m=\u001b[39m adapter\u001b[38;5;241m.\u001b[39msend(request, \u001b[38;5;241m*\u001b[39m\u001b[38;5;241m*\u001b[39mkwargs)\n\u001b[0;32m    705\u001b[0m \u001b[38;5;66;03m# Total elapsed time of the request (approximately)\u001b[39;00m\n\u001b[0;32m    706\u001b[0m elapsed \u001b[38;5;241m=\u001b[39m preferred_clock() \u001b[38;5;241m-\u001b[39m start\n",
      "File \u001b[1;32mC:\\Python310\\lib\\site-packages\\requests\\adapters.py:698\u001b[0m, in \u001b[0;36mHTTPAdapter.send\u001b[1;34m(self, request, stream, timeout, verify, cert, proxies)\u001b[0m\n\u001b[0;32m    694\u001b[0m         \u001b[38;5;28;01mraise\u001b[39;00m ProxyError(e, request\u001b[38;5;241m=\u001b[39mrequest)\n\u001b[0;32m    696\u001b[0m     \u001b[38;5;28;01mif\u001b[39;00m \u001b[38;5;28misinstance\u001b[39m(e\u001b[38;5;241m.\u001b[39mreason, _SSLError):\n\u001b[0;32m    697\u001b[0m         \u001b[38;5;66;03m# This branch is for urllib3 v1.22 and later.\u001b[39;00m\n\u001b[1;32m--> 698\u001b[0m         \u001b[38;5;28;01mraise\u001b[39;00m SSLError(e, request\u001b[38;5;241m=\u001b[39mrequest)\n\u001b[0;32m    700\u001b[0m     \u001b[38;5;28;01mraise\u001b[39;00m \u001b[38;5;167;01mConnectionError\u001b[39;00m(e, request\u001b[38;5;241m=\u001b[39mrequest)\n\u001b[0;32m    702\u001b[0m \u001b[38;5;28;01mexcept\u001b[39;00m ClosedPoolError \u001b[38;5;28;01mas\u001b[39;00m e:\n",
      "\u001b[1;31mSSLError\u001b[0m: HTTPSConnectionPool(host='shop.casio.ru', port=443): Max retries exceeded with url: /catalog/g-shock/filter/gender-is-male/apply/ (Caused by SSLError(SSLCertVerificationError(1, '[SSL: CERTIFICATE_VERIFY_FAILED] certificate verify failed: certificate has expired (_ssl.c:997)')))"
     ]
    }
   ],
   "source": [
    "# \n",
    "\n",
    "def get_all_pages():\n",
    "# Словарь для заголовков запросов\n",
    "    headers = {\n",
    "        \"user-agent\": \"Mozilla/5.0 (X11; Linux x86_64) AppleWebKit/537.36 (KHTML, like Gecko) Chrome/90.0.4430.212 Safari/537.36\"\n",
    "    }\n",
    "\n",
    "# Отправляем запрос на страницу, передаём в качестве GET-параметра URL-адрес\n",
    "    r = requests.get(url=\"https://shop.casio.ru/catalog/g-shock/filter/gender-is-male/apply/\", headers=headers)\n",
    "\n",
    "# Условие для создания директории, в которой будем сохранять HTML-файлы, чтобы не засорять дерево проекта\n",
    "    if not os.path.exists(\"data\"):\n",
    "        os.mkdir(\"data\")\n",
    "\n",
    "# Сохраняем файлы\n",
    "    with open(\"data/page_1.html\", \"w\") as file:\n",
    "        file.write(r.text)\n",
    "\n",
    "# Читаем полученную страницу в переменную SRC  и начинаем парсинг\n",
    "    with open(\"data/page_1.html\") as file:\n",
    "        src = file.read()\n",
    "\n",
    "# Создаём объект Супа с параметрами \n",
    "    soup = BeautifulSoup(src, \"lxml\")\n",
    "\n",
    "    pages_count = int(soup.find(\"div\", class_=\"bx-pagination-container\").find_all(\"a\")[-2].text)\n",
    "\n",
    "# \n",
    "    for i in range(1, pages_count + 1):\n",
    "        url = f\"https://shop.casio.ru/catalog/g-shock/filter/gender-is-male/apply/?PAGEN_1={i}\"\n",
    "\n",
    "        r = requests.get(url=url, headers=headers)\n",
    "\n",
    "        with open(f\"data/page_{i}.html\", \"w\") as file:\n",
    "            file.write(r.text)\n",
    "\n",
    "        time.sleep(2)\n",
    "\n",
    "    return pages_count + 1\n",
    "\n",
    "# \n",
    "def collect_data(pages_count):\n",
    "    cur_date = datetime.now().strftime(\"%d_%m_%Y\")\n",
    "\n",
    "# \n",
    "    with open(f\"data_{cur_date}.csv\", \"w\") as file:\n",
    "        writer = csv.writer(file)\n",
    "\n",
    "        writer.writerow(\n",
    "            (\n",
    "                \"Артикул\",\n",
    "                \"Ссылка\",\n",
    "                \"Цена\"\n",
    "            )\n",
    "        )\n",
    "\n",
    "# \n",
    "    data = []\n",
    "    for page in range(1, pages_count):\n",
    "        with open(f\"data/page_{page}.html\") as file:\n",
    "            src = file.read()\n",
    "\n",
    "        soup = BeautifulSoup(src, \"lxml\")\n",
    "        items_cards = soup.find_all(\"a\", class_=\"product-item__link\")\n",
    "\n",
    "# \n",
    "        for item in items_cards:\n",
    "            product_article = item.find(\"p\", class_=\"product-item__articul\").text.strip()\n",
    "            product_price = item.find(\"p\", class_=\"product-item__price\").text.lstrip(\"руб. \")\n",
    "            product_url = f'https://shop.casio.ru{item.get(\"href\")}'\n",
    "\n",
    "            # print(f\"Article: {product_article} - Price: {product_price} - URL: {product_url}\")\n",
    "\n",
    "            data.append(\n",
    "                {\n",
    "                    \"product_article\": product_article,\n",
    "                    \"product_url\": product_url,\n",
    "                    \"product_price\": product_price\n",
    "                }\n",
    "            )\n",
    "\n",
    "# \n",
    "            with open(f\"data_{cur_date}.csv\", \"a\") as file:\n",
    "                writer = csv.writer(file)\n",
    "\n",
    "                writer.writerow(\n",
    "                    (\n",
    "                        product_article,\n",
    "                        product_url,\n",
    "                        product_price\n",
    "                    )\n",
    "                )\n",
    "\n",
    "        print(f\"[INFO] Обработана страница {page}/5\")\n",
    "\n",
    "# \n",
    "    with open(f\"data_{cur_date}.json\", \"a\") as file:\n",
    "        json.dump(data, file, indent=4, ensure_ascii=False)\n",
    "\n",
    "\n",
    "def main():\n",
    "    pages_count = get_all_pages()\n",
    "    collect_data(pages_count=pages_count)\n",
    "\n",
    "\n",
    "if __name__ == '__main__':\n",
    "    main()"
   ]
  },
  {
   "cell_type": "code",
   "execution_count": null,
   "metadata": {},
   "outputs": [],
   "source": [
    "# \n"
   ]
  },
  {
   "cell_type": "code",
   "execution_count": null,
   "metadata": {},
   "outputs": [],
   "source": [
    "# \n"
   ]
  },
  {
   "cell_type": "code",
   "execution_count": null,
   "metadata": {},
   "outputs": [],
   "source": [
    "### "
   ]
  },
  {
   "cell_type": "code",
   "execution_count": null,
   "metadata": {},
   "outputs": [],
   "source": [
    "# \n"
   ]
  },
  {
   "cell_type": "code",
   "execution_count": null,
   "metadata": {},
   "outputs": [],
   "source": [
    "# \n"
   ]
  },
  {
   "cell_type": "code",
   "execution_count": null,
   "metadata": {},
   "outputs": [],
   "source": [
    "# \n"
   ]
  },
  {
   "cell_type": "code",
   "execution_count": null,
   "metadata": {},
   "outputs": [],
   "source": [
    "### "
   ]
  },
  {
   "cell_type": "code",
   "execution_count": null,
   "metadata": {},
   "outputs": [],
   "source": [
    "# \n"
   ]
  },
  {
   "cell_type": "code",
   "execution_count": null,
   "metadata": {},
   "outputs": [],
   "source": [
    "# \n"
   ]
  },
  {
   "cell_type": "code",
   "execution_count": null,
   "metadata": {},
   "outputs": [],
   "source": [
    "# \n"
   ]
  },
  {
   "cell_type": "code",
   "execution_count": null,
   "metadata": {},
   "outputs": [],
   "source": [
    "### "
   ]
  },
  {
   "cell_type": "code",
   "execution_count": null,
   "metadata": {},
   "outputs": [],
   "source": [
    "# \n"
   ]
  },
  {
   "cell_type": "code",
   "execution_count": null,
   "metadata": {},
   "outputs": [],
   "source": [
    "# \n"
   ]
  },
  {
   "cell_type": "code",
   "execution_count": null,
   "metadata": {},
   "outputs": [],
   "source": [
    "# \n"
   ]
  },
  {
   "cell_type": "code",
   "execution_count": null,
   "metadata": {},
   "outputs": [],
   "source": [
    "### "
   ]
  },
  {
   "cell_type": "code",
   "execution_count": null,
   "metadata": {},
   "outputs": [],
   "source": [
    "# \n"
   ]
  },
  {
   "cell_type": "code",
   "execution_count": null,
   "metadata": {},
   "outputs": [],
   "source": [
    "# \n"
   ]
  },
  {
   "cell_type": "code",
   "execution_count": null,
   "metadata": {},
   "outputs": [],
   "source": [
    "# \n"
   ]
  },
  {
   "cell_type": "code",
   "execution_count": null,
   "metadata": {},
   "outputs": [],
   "source": [
    "### "
   ]
  },
  {
   "cell_type": "code",
   "execution_count": null,
   "metadata": {},
   "outputs": [],
   "source": [
    "# \n"
   ]
  },
  {
   "cell_type": "code",
   "execution_count": null,
   "metadata": {},
   "outputs": [],
   "source": [
    "# \n"
   ]
  },
  {
   "cell_type": "code",
   "execution_count": null,
   "metadata": {},
   "outputs": [],
   "source": [
    "# \n"
   ]
  },
  {
   "cell_type": "code",
   "execution_count": null,
   "metadata": {},
   "outputs": [],
   "source": [
    "### "
   ]
  },
  {
   "cell_type": "code",
   "execution_count": null,
   "metadata": {},
   "outputs": [],
   "source": [
    "# \n"
   ]
  },
  {
   "cell_type": "code",
   "execution_count": null,
   "metadata": {},
   "outputs": [],
   "source": [
    "# \n"
   ]
  },
  {
   "cell_type": "code",
   "execution_count": null,
   "metadata": {},
   "outputs": [],
   "source": [
    "# \n"
   ]
  },
  {
   "cell_type": "code",
   "execution_count": null,
   "metadata": {},
   "outputs": [],
   "source": [
    "### "
   ]
  },
  {
   "cell_type": "code",
   "execution_count": null,
   "metadata": {},
   "outputs": [],
   "source": [
    "# \n"
   ]
  },
  {
   "cell_type": "code",
   "execution_count": null,
   "metadata": {},
   "outputs": [],
   "source": [
    "# \n"
   ]
  },
  {
   "cell_type": "code",
   "execution_count": null,
   "metadata": {},
   "outputs": [],
   "source": [
    "# \n"
   ]
  },
  {
   "cell_type": "code",
   "execution_count": null,
   "metadata": {},
   "outputs": [],
   "source": [
    "### "
   ]
  },
  {
   "cell_type": "code",
   "execution_count": null,
   "metadata": {},
   "outputs": [],
   "source": [
    "# \n"
   ]
  },
  {
   "cell_type": "code",
   "execution_count": null,
   "metadata": {},
   "outputs": [],
   "source": [
    "# \n"
   ]
  },
  {
   "cell_type": "code",
   "execution_count": null,
   "metadata": {},
   "outputs": [],
   "source": [
    "# \n"
   ]
  },
  {
   "cell_type": "code",
   "execution_count": null,
   "metadata": {},
   "outputs": [],
   "source": [
    "### "
   ]
  },
  {
   "cell_type": "code",
   "execution_count": null,
   "metadata": {},
   "outputs": [],
   "source": [
    "# \n"
   ]
  },
  {
   "cell_type": "code",
   "execution_count": null,
   "metadata": {},
   "outputs": [],
   "source": [
    "# \n"
   ]
  },
  {
   "cell_type": "code",
   "execution_count": null,
   "metadata": {},
   "outputs": [],
   "source": [
    "# \n"
   ]
  },
  {
   "cell_type": "code",
   "execution_count": null,
   "metadata": {},
   "outputs": [],
   "source": [
    "# \n"
   ]
  },
  {
   "cell_type": "code",
   "execution_count": null,
   "metadata": {},
   "outputs": [],
   "source": [
    "# \n"
   ]
  },
  {
   "cell_type": "markdown",
   "metadata": {},
   "source": [
    "##  УРОК 8 | Выполняем заказ на фрилансе"
   ]
  },
  {
   "cell_type": "code",
   "execution_count": null,
   "metadata": {},
   "outputs": [],
   "source": [
    "# https://youtu.be/8LJllhrVJVw?si=EEZanNg8Y4nukaef\n",
    "# https://youtu.be/8LJllhrVJVw?si=EskLoAwRuu8zbFWF"
   ]
  },
  {
   "cell_type": "markdown",
   "metadata": {},
   "source": [
    "#### Задание на фрилансе:\n",
    "- Скрипт должен запускаться в любое время;\n",
    "- Нужны следующие спарсенные данные:\n",
    "    -- Наименование шин;\n",
    "    -- Цена;\n",
    "    -- Ссылка на изображение;\n",
    "    -- Ссылка на карточку;\n",
    "    -- Количество шин в наличии.\n",
    "- Результат вывести в JSON-формате под текущей датой и временем."
   ]
  },
  {
   "cell_type": "markdown",
   "metadata": {},
   "source": [
    "##### Рассмотрим запросы к API с помощью библиотеки requests, получение данных в JSON формате, сохранение в JSON файл."
   ]
  },
  {
   "cell_type": "code",
   "execution_count": 32,
   "metadata": {},
   "outputs": [],
   "source": [
    "# Импортируем необходимые для урока библиотеки\n",
    "import datetime\n",
    "import json\n",
    "import requests"
   ]
  },
  {
   "cell_type": "markdown",
   "metadata": {},
   "source": [
    "### Константы для проекта:"
   ]
  },
  {
   "cell_type": "code",
   "execution_count": null,
   "metadata": {},
   "outputs": [],
   "source": [
    "# Создаём переменные-КОНСТАНТЫ\n",
    "# 1. Адрес основного хоста\n",
    "HOST = 'https://roscarservis.ru' \n",
    "\n",
    "# 2. Адрес страницы для парсинга\n",
    "URL = 'https://roscarservis.ru/catalog/legkovye/?form_id=catalog_filter_form&filter_mode=params&sort=asc&filter_type=tires&arCatalogFilter_458_1500340406=Y&set_filter=Y&arCatalogFilter_463=668736523&PAGEN_1=1'\n",
    "\n",
    "# 3. Создаём словарь заголовков\n",
    "# Это нужно для некоторых сайтов (но не для всех - для этого необязательно)\n",
    "# чтобы показать сайту, что ВЫ НЕ БОТ, а обычный пользователь\n",
    "HEADERS = {\n",
    "    'accept': 'text/html,application/xhtml+xml,application/xml;q=0.9,image/avif,image/webp,image/apng,*/*;q=0.8,application/signed-exchange;v=b3;q=0.9',\n",
    "    'user-agent': 'Mozilla/5.0 (Windows NT 10.0; Win64; x64) AppleWebKit/537.36 (KHTML, like Gecko) Chrome/109.0.0.0 Safari/537.36'\n",
    "}\n",
    "\n",
    "# 4. Название финального файла\n",
    "# CSV = 'catalog.csv'"
   ]
  },
  {
   "cell_type": "code",
   "execution_count": null,
   "metadata": {},
   "outputs": [],
   "source": [
    "# \n"
   ]
  },
  {
   "cell_type": "code",
   "execution_count": 33,
   "metadata": {},
   "outputs": [
    {
     "ename": "JSONDecodeError",
     "evalue": "Expecting value: line 1 column 1 (char 0)",
     "output_type": "error",
     "traceback": [
      "\u001b[1;31m---------------------------------------------------------------------------\u001b[0m",
      "\u001b[1;31mJSONDecodeError\u001b[0m                           Traceback (most recent call last)",
      "File \u001b[1;32mC:\\Python310\\lib\\site-packages\\requests\\models.py:974\u001b[0m, in \u001b[0;36mResponse.json\u001b[1;34m(self, **kwargs)\u001b[0m\n\u001b[0;32m    973\u001b[0m \u001b[38;5;28;01mtry\u001b[39;00m:\n\u001b[1;32m--> 974\u001b[0m     \u001b[38;5;28;01mreturn\u001b[39;00m complexjson\u001b[38;5;241m.\u001b[39mloads(\u001b[38;5;28mself\u001b[39m\u001b[38;5;241m.\u001b[39mtext, \u001b[38;5;241m*\u001b[39m\u001b[38;5;241m*\u001b[39mkwargs)\n\u001b[0;32m    975\u001b[0m \u001b[38;5;28;01mexcept\u001b[39;00m JSONDecodeError \u001b[38;5;28;01mas\u001b[39;00m e:\n\u001b[0;32m    976\u001b[0m     \u001b[38;5;66;03m# Catch JSON-related errors and raise as requests.JSONDecodeError\u001b[39;00m\n\u001b[0;32m    977\u001b[0m     \u001b[38;5;66;03m# This aliases json.JSONDecodeError and simplejson.JSONDecodeError\u001b[39;00m\n",
      "File \u001b[1;32mC:\\Python310\\lib\\json\\__init__.py:346\u001b[0m, in \u001b[0;36mloads\u001b[1;34m(s, cls, object_hook, parse_float, parse_int, parse_constant, object_pairs_hook, **kw)\u001b[0m\n\u001b[0;32m    343\u001b[0m \u001b[38;5;28;01mif\u001b[39;00m (\u001b[38;5;28mcls\u001b[39m \u001b[38;5;129;01mis\u001b[39;00m \u001b[38;5;28;01mNone\u001b[39;00m \u001b[38;5;129;01mand\u001b[39;00m object_hook \u001b[38;5;129;01mis\u001b[39;00m \u001b[38;5;28;01mNone\u001b[39;00m \u001b[38;5;129;01mand\u001b[39;00m\n\u001b[0;32m    344\u001b[0m         parse_int \u001b[38;5;129;01mis\u001b[39;00m \u001b[38;5;28;01mNone\u001b[39;00m \u001b[38;5;129;01mand\u001b[39;00m parse_float \u001b[38;5;129;01mis\u001b[39;00m \u001b[38;5;28;01mNone\u001b[39;00m \u001b[38;5;129;01mand\u001b[39;00m\n\u001b[0;32m    345\u001b[0m         parse_constant \u001b[38;5;129;01mis\u001b[39;00m \u001b[38;5;28;01mNone\u001b[39;00m \u001b[38;5;129;01mand\u001b[39;00m object_pairs_hook \u001b[38;5;129;01mis\u001b[39;00m \u001b[38;5;28;01mNone\u001b[39;00m \u001b[38;5;129;01mand\u001b[39;00m \u001b[38;5;129;01mnot\u001b[39;00m kw):\n\u001b[1;32m--> 346\u001b[0m     \u001b[38;5;28;01mreturn\u001b[39;00m \u001b[43m_default_decoder\u001b[49m\u001b[38;5;241;43m.\u001b[39;49m\u001b[43mdecode\u001b[49m\u001b[43m(\u001b[49m\u001b[43ms\u001b[49m\u001b[43m)\u001b[49m\n\u001b[0;32m    347\u001b[0m \u001b[38;5;28;01mif\u001b[39;00m \u001b[38;5;28mcls\u001b[39m \u001b[38;5;129;01mis\u001b[39;00m \u001b[38;5;28;01mNone\u001b[39;00m:\n",
      "File \u001b[1;32mC:\\Python310\\lib\\json\\decoder.py:337\u001b[0m, in \u001b[0;36mJSONDecoder.decode\u001b[1;34m(self, s, _w)\u001b[0m\n\u001b[0;32m    333\u001b[0m \u001b[38;5;250m\u001b[39m\u001b[38;5;124;03m\"\"\"Return the Python representation of ``s`` (a ``str`` instance\u001b[39;00m\n\u001b[0;32m    334\u001b[0m \u001b[38;5;124;03mcontaining a JSON document).\u001b[39;00m\n\u001b[0;32m    335\u001b[0m \n\u001b[0;32m    336\u001b[0m \u001b[38;5;124;03m\"\"\"\u001b[39;00m\n\u001b[1;32m--> 337\u001b[0m obj, end \u001b[38;5;241m=\u001b[39m \u001b[38;5;28;43mself\u001b[39;49m\u001b[38;5;241;43m.\u001b[39;49m\u001b[43mraw_decode\u001b[49m\u001b[43m(\u001b[49m\u001b[43ms\u001b[49m\u001b[43m,\u001b[49m\u001b[43m \u001b[49m\u001b[43midx\u001b[49m\u001b[38;5;241;43m=\u001b[39;49m\u001b[43m_w\u001b[49m\u001b[43m(\u001b[49m\u001b[43ms\u001b[49m\u001b[43m,\u001b[49m\u001b[43m \u001b[49m\u001b[38;5;241;43m0\u001b[39;49m\u001b[43m)\u001b[49m\u001b[38;5;241;43m.\u001b[39;49m\u001b[43mend\u001b[49m\u001b[43m(\u001b[49m\u001b[43m)\u001b[49m\u001b[43m)\u001b[49m\n\u001b[0;32m    338\u001b[0m end \u001b[38;5;241m=\u001b[39m _w(s, end)\u001b[38;5;241m.\u001b[39mend()\n",
      "File \u001b[1;32mC:\\Python310\\lib\\json\\decoder.py:355\u001b[0m, in \u001b[0;36mJSONDecoder.raw_decode\u001b[1;34m(self, s, idx)\u001b[0m\n\u001b[0;32m    354\u001b[0m \u001b[38;5;28;01mexcept\u001b[39;00m \u001b[38;5;167;01mStopIteration\u001b[39;00m \u001b[38;5;28;01mas\u001b[39;00m err:\n\u001b[1;32m--> 355\u001b[0m     \u001b[38;5;28;01mraise\u001b[39;00m JSONDecodeError(\u001b[38;5;124m\"\u001b[39m\u001b[38;5;124mExpecting value\u001b[39m\u001b[38;5;124m\"\u001b[39m, s, err\u001b[38;5;241m.\u001b[39mvalue) \u001b[38;5;28;01mfrom\u001b[39;00m \u001b[38;5;28;01mNone\u001b[39;00m\n\u001b[0;32m    356\u001b[0m \u001b[38;5;28;01mreturn\u001b[39;00m obj, end\n",
      "\u001b[1;31mJSONDecodeError\u001b[0m: Expecting value: line 1 column 1 (char 0)",
      "\nDuring handling of the above exception, another exception occurred:\n",
      "\u001b[1;31mJSONDecodeError\u001b[0m                           Traceback (most recent call last)",
      "Cell \u001b[1;32mIn[33], line 92\u001b[0m\n\u001b[0;32m     88\u001b[0m     get_data()\n\u001b[0;32m     91\u001b[0m \u001b[38;5;28;01mif\u001b[39;00m \u001b[38;5;18m__name__\u001b[39m \u001b[38;5;241m==\u001b[39m \u001b[38;5;124m'\u001b[39m\u001b[38;5;124m__main__\u001b[39m\u001b[38;5;124m'\u001b[39m:\n\u001b[1;32m---> 92\u001b[0m     \u001b[43mmain\u001b[49m\u001b[43m(\u001b[49m\u001b[43m)\u001b[49m\n",
      "Cell \u001b[1;32mIn[33], line 88\u001b[0m, in \u001b[0;36mmain\u001b[1;34m()\u001b[0m\n\u001b[0;32m     87\u001b[0m \u001b[38;5;28;01mdef\u001b[39;00m \u001b[38;5;21mmain\u001b[39m():\n\u001b[1;32m---> 88\u001b[0m     \u001b[43mget_data\u001b[49m\u001b[43m(\u001b[49m\u001b[43m)\u001b[49m\n",
      "Cell \u001b[1;32mIn[33], line 26\u001b[0m, in \u001b[0;36mget_data\u001b[1;34m()\u001b[0m\n\u001b[0;32m     16\u001b[0m r \u001b[38;5;241m=\u001b[39m requests\u001b[38;5;241m.\u001b[39mget(url\u001b[38;5;241m=\u001b[39murl, headers\u001b[38;5;241m=\u001b[39mheaders)\n\u001b[0;32m     18\u001b[0m \u001b[38;5;66;03m# with open(\"index.html\", \"w\") as file:\u001b[39;00m\n\u001b[0;32m     19\u001b[0m \u001b[38;5;66;03m#     file.write(r.text)\u001b[39;00m\n\u001b[0;32m     20\u001b[0m \n\u001b[1;32m   (...)\u001b[0m\n\u001b[0;32m     23\u001b[0m \u001b[38;5;66;03m# with open(\"r.json\", \"w\") as file:\u001b[39;00m\n\u001b[0;32m     24\u001b[0m \u001b[38;5;66;03m#     json.dump(r.json(), file, indent=4, ensure_ascii=False)\u001b[39;00m\n\u001b[1;32m---> 26\u001b[0m pages_count \u001b[38;5;241m=\u001b[39m \u001b[43mr\u001b[49m\u001b[38;5;241;43m.\u001b[39;49m\u001b[43mjson\u001b[49m\u001b[43m(\u001b[49m\u001b[43m)\u001b[49m[\u001b[38;5;124m\"\u001b[39m\u001b[38;5;124mpageCount\u001b[39m\u001b[38;5;124m\"\u001b[39m]\n\u001b[0;32m     28\u001b[0m data_list \u001b[38;5;241m=\u001b[39m []\n\u001b[0;32m     29\u001b[0m \u001b[38;5;28;01mfor\u001b[39;00m page \u001b[38;5;129;01min\u001b[39;00m \u001b[38;5;28mrange\u001b[39m(\u001b[38;5;241m1\u001b[39m, pages_count \u001b[38;5;241m+\u001b[39m \u001b[38;5;241m1\u001b[39m):\n",
      "File \u001b[1;32mC:\\Python310\\lib\\site-packages\\requests\\models.py:978\u001b[0m, in \u001b[0;36mResponse.json\u001b[1;34m(self, **kwargs)\u001b[0m\n\u001b[0;32m    974\u001b[0m     \u001b[38;5;28;01mreturn\u001b[39;00m complexjson\u001b[38;5;241m.\u001b[39mloads(\u001b[38;5;28mself\u001b[39m\u001b[38;5;241m.\u001b[39mtext, \u001b[38;5;241m*\u001b[39m\u001b[38;5;241m*\u001b[39mkwargs)\n\u001b[0;32m    975\u001b[0m \u001b[38;5;28;01mexcept\u001b[39;00m JSONDecodeError \u001b[38;5;28;01mas\u001b[39;00m e:\n\u001b[0;32m    976\u001b[0m     \u001b[38;5;66;03m# Catch JSON-related errors and raise as requests.JSONDecodeError\u001b[39;00m\n\u001b[0;32m    977\u001b[0m     \u001b[38;5;66;03m# This aliases json.JSONDecodeError and simplejson.JSONDecodeError\u001b[39;00m\n\u001b[1;32m--> 978\u001b[0m     \u001b[38;5;28;01mraise\u001b[39;00m RequestsJSONDecodeError(e\u001b[38;5;241m.\u001b[39mmsg, e\u001b[38;5;241m.\u001b[39mdoc, e\u001b[38;5;241m.\u001b[39mpos)\n",
      "\u001b[1;31mJSONDecodeError\u001b[0m: Expecting value: line 1 column 1 (char 0)"
     ]
    }
   ],
   "source": [
    "# \n",
    "\n",
    "\n",
    "headers = {\n",
    "    \"Accept\": \"application/json, text/javascript, */*; q=0.01\",\n",
    "    \"X-Is-Ajax-Request\": \"X-Is-Ajax-Request\",\n",
    "    \"X-Requested-With\": \"XMLHttpRequest\",\n",
    "    \"User-Agent\": \"Mozilla/5.0 (X11; Linux x86_64) AppleWebKit/537.36 (KHTML, like Gecko) Chrome/91.0.4472.106 Safari/537.36\"\n",
    "}\n",
    "\n",
    "\n",
    "def get_data():\n",
    "    start_time = datetime.datetime.now()\n",
    "\n",
    "    url = \"https://roscarservis.ru/catalog/legkovye/?form_id=catalog_filter_form&filter_mode=params&sort=asc&filter_type=tires&arCatalogFilter_458_1500340406=Y&set_filter=Y&arCatalogFilter_463=668736523&PAGEN_1=1\"\n",
    "    r = requests.get(url=url, headers=headers)\n",
    "\n",
    "    # with open(\"index.html\", \"w\") as file:\n",
    "    #     file.write(r.text)\n",
    "\n",
    "    # print(r.json())\n",
    "\n",
    "    # with open(\"r.json\", \"w\") as file:\n",
    "    #     json.dump(r.json(), file, indent=4, ensure_ascii=False)\n",
    "\n",
    "    pages_count = r.json()[\"pageCount\"]\n",
    "\n",
    "    data_list = []\n",
    "    for page in range(1, pages_count + 1):\n",
    "        url = f\"https://roscarservis.ru/catalog/legkovye/?form_id=catalog_filter_form&filter_mode=params&sort=asc&filter_type=tires&arCatalogFilter_458_1500340406=Y&set_filter=Y&arCatalogFilter_463=668736523&PAGEN_1={page}\"\n",
    "\n",
    "        r = requests.get(url=url, headers=headers)\n",
    "        data = r.json()\n",
    "        items = data[\"items\"]\n",
    "\n",
    "        possible_stores = [\"discountStores\", \"fortochkiStores\", \"commonStores\"]\n",
    "        for item in items:\n",
    "            total_amount = 0\n",
    "\n",
    "            item_name = item[\"name\"]\n",
    "            item_price = item[\"price\"]\n",
    "            item_img = f'https://roscarservis.ru{item[\"imgSrc\"]}'\n",
    "            item_url = f'https://roscarservis.ru{item[\"url\"]}'\n",
    "\n",
    "            stores = []\n",
    "            for ps in possible_stores:\n",
    "                if ps in item:\n",
    "                    if item[ps] is None or len(item[ps]) < 1:\n",
    "                        continue\n",
    "                    else:\n",
    "                        for store in item[ps]:\n",
    "                            store_name = store[\"STORE_NAME\"]\n",
    "                            store_price = store[\"PRICE\"]\n",
    "                            store_amount = store[\"AMOUNT\"]\n",
    "                            total_amount += int(store[\"AMOUNT\"])\n",
    "\n",
    "                            stores.append(\n",
    "                                {\n",
    "                                    \"store_name\": store_name,\n",
    "                                    \"store_price\": store_price,\n",
    "                                    \"store_amount\": store_amount\n",
    "                                }\n",
    "                            )\n",
    "\n",
    "            data_list.append(\n",
    "                {\n",
    "                    \"name\": item_name,\n",
    "                    \"price\": item_price,\n",
    "                    \"url\": item_url,\n",
    "                    \"img_url\": item_img,\n",
    "                    \"stores\": stores,\n",
    "                    \"total_amount\": total_amount\n",
    "                }\n",
    "            )\n",
    "\n",
    "        print(f\"[INFO] Обработал {page}/{pages_count}\")\n",
    "\n",
    "    cur_time = datetime.datetime.now().strftime(\"%d_%m_%Y_%H_%M\")\n",
    "\n",
    "    with open(f\"data_{cur_time}.json\", \"a\") as file:\n",
    "        json.dump(data_list, file, indent=4, ensure_ascii=False)\n",
    "\n",
    "    diff_time = datetime.datetime.now() - start_time\n",
    "    print(diff_time)\n",
    "\n",
    "# ПИШЕМ ОСНОВНУЮ ФУНКЦИЮ СРАЗУ ДЛЯ ПРОМЕЖУТОЧНОГО ТЕСТИРОВАНИЯ РЕЗУЛЬТАТОВ\n",
    "def main():\n",
    "    get_data()\n",
    "\n",
    "\n",
    "if __name__ == '__main__':\n",
    "    main()"
   ]
  },
  {
   "cell_type": "code",
   "execution_count": null,
   "metadata": {},
   "outputs": [],
   "source": [
    "# \n"
   ]
  },
  {
   "cell_type": "code",
   "execution_count": null,
   "metadata": {},
   "outputs": [],
   "source": [
    "# \n"
   ]
  },
  {
   "cell_type": "code",
   "execution_count": null,
   "metadata": {},
   "outputs": [],
   "source": [
    "### "
   ]
  },
  {
   "cell_type": "code",
   "execution_count": null,
   "metadata": {},
   "outputs": [],
   "source": [
    "# \n"
   ]
  },
  {
   "cell_type": "code",
   "execution_count": null,
   "metadata": {},
   "outputs": [],
   "source": [
    "# \n"
   ]
  },
  {
   "cell_type": "code",
   "execution_count": null,
   "metadata": {},
   "outputs": [],
   "source": [
    "# \n"
   ]
  },
  {
   "cell_type": "code",
   "execution_count": null,
   "metadata": {},
   "outputs": [],
   "source": [
    "### "
   ]
  },
  {
   "cell_type": "code",
   "execution_count": null,
   "metadata": {},
   "outputs": [],
   "source": [
    "# \n"
   ]
  },
  {
   "cell_type": "code",
   "execution_count": null,
   "metadata": {},
   "outputs": [],
   "source": [
    "# \n"
   ]
  },
  {
   "cell_type": "code",
   "execution_count": null,
   "metadata": {},
   "outputs": [],
   "source": [
    "# \n"
   ]
  },
  {
   "cell_type": "code",
   "execution_count": null,
   "metadata": {},
   "outputs": [],
   "source": [
    "### "
   ]
  },
  {
   "cell_type": "code",
   "execution_count": null,
   "metadata": {},
   "outputs": [],
   "source": [
    "# \n"
   ]
  },
  {
   "cell_type": "code",
   "execution_count": null,
   "metadata": {},
   "outputs": [],
   "source": [
    "# \n"
   ]
  },
  {
   "cell_type": "code",
   "execution_count": null,
   "metadata": {},
   "outputs": [],
   "source": [
    "# \n"
   ]
  },
  {
   "cell_type": "code",
   "execution_count": null,
   "metadata": {},
   "outputs": [],
   "source": [
    "### "
   ]
  },
  {
   "cell_type": "code",
   "execution_count": null,
   "metadata": {},
   "outputs": [],
   "source": [
    "# \n"
   ]
  },
  {
   "cell_type": "code",
   "execution_count": null,
   "metadata": {},
   "outputs": [],
   "source": [
    "# \n"
   ]
  },
  {
   "cell_type": "code",
   "execution_count": null,
   "metadata": {},
   "outputs": [],
   "source": [
    "# \n"
   ]
  },
  {
   "cell_type": "code",
   "execution_count": null,
   "metadata": {},
   "outputs": [],
   "source": [
    "### "
   ]
  },
  {
   "cell_type": "code",
   "execution_count": null,
   "metadata": {},
   "outputs": [],
   "source": [
    "# \n"
   ]
  },
  {
   "cell_type": "code",
   "execution_count": null,
   "metadata": {},
   "outputs": [],
   "source": [
    "# \n"
   ]
  },
  {
   "cell_type": "code",
   "execution_count": null,
   "metadata": {},
   "outputs": [],
   "source": [
    "# \n"
   ]
  },
  {
   "cell_type": "code",
   "execution_count": null,
   "metadata": {},
   "outputs": [],
   "source": [
    "### "
   ]
  },
  {
   "cell_type": "code",
   "execution_count": null,
   "metadata": {},
   "outputs": [],
   "source": [
    "# \n"
   ]
  },
  {
   "cell_type": "code",
   "execution_count": null,
   "metadata": {},
   "outputs": [],
   "source": [
    "# \n"
   ]
  },
  {
   "cell_type": "code",
   "execution_count": null,
   "metadata": {},
   "outputs": [],
   "source": [
    "# \n"
   ]
  },
  {
   "cell_type": "code",
   "execution_count": null,
   "metadata": {},
   "outputs": [],
   "source": [
    "### "
   ]
  },
  {
   "cell_type": "code",
   "execution_count": null,
   "metadata": {},
   "outputs": [],
   "source": [
    "# \n"
   ]
  },
  {
   "cell_type": "code",
   "execution_count": null,
   "metadata": {},
   "outputs": [],
   "source": [
    "# \n"
   ]
  },
  {
   "cell_type": "code",
   "execution_count": null,
   "metadata": {},
   "outputs": [],
   "source": [
    "# \n"
   ]
  },
  {
   "cell_type": "code",
   "execution_count": null,
   "metadata": {},
   "outputs": [],
   "source": [
    "### "
   ]
  },
  {
   "cell_type": "code",
   "execution_count": null,
   "metadata": {},
   "outputs": [],
   "source": [
    "# \n"
   ]
  },
  {
   "cell_type": "code",
   "execution_count": null,
   "metadata": {},
   "outputs": [],
   "source": [
    "# \n"
   ]
  },
  {
   "cell_type": "code",
   "execution_count": null,
   "metadata": {},
   "outputs": [],
   "source": [
    "# \n"
   ]
  },
  {
   "cell_type": "code",
   "execution_count": null,
   "metadata": {},
   "outputs": [],
   "source": [
    "### "
   ]
  },
  {
   "cell_type": "code",
   "execution_count": null,
   "metadata": {},
   "outputs": [],
   "source": [
    "# \n"
   ]
  },
  {
   "cell_type": "code",
   "execution_count": null,
   "metadata": {},
   "outputs": [],
   "source": [
    "# \n"
   ]
  },
  {
   "cell_type": "code",
   "execution_count": null,
   "metadata": {},
   "outputs": [],
   "source": [
    "# \n"
   ]
  },
  {
   "cell_type": "code",
   "execution_count": null,
   "metadata": {},
   "outputs": [],
   "source": [
    "# \n"
   ]
  },
  {
   "cell_type": "code",
   "execution_count": null,
   "metadata": {},
   "outputs": [],
   "source": [
    "# \n"
   ]
  },
  {
   "cell_type": "markdown",
   "metadata": {},
   "source": [
    "##  УРОК 9 "
   ]
  },
  {
   "cell_type": "code",
   "execution_count": null,
   "metadata": {},
   "outputs": [],
   "source": [
    "# \n"
   ]
  },
  {
   "cell_type": "code",
   "execution_count": null,
   "metadata": {},
   "outputs": [],
   "source": [
    "# https://www.youtube.com/watch?v=gy_YlibMW6Q"
   ]
  },
  {
   "cell_type": "code",
   "execution_count": 67,
   "metadata": {},
   "outputs": [],
   "source": [
    "# Импортируем необходимые для урока библиотеки\n"
   ]
  },
  {
   "cell_type": "markdown",
   "metadata": {},
   "source": [
    "### Константы для проекта:"
   ]
  },
  {
   "cell_type": "code",
   "execution_count": null,
   "metadata": {},
   "outputs": [],
   "source": [
    "# Создаём переменные-КОНСТАНТЫ\n",
    "# 1. Адрес основного хоста\n",
    "HOST = 'https://www.recordpower.co.uk' \n",
    "\n",
    "# 2. Адрес страницы для парсинга\n",
    "URL = 'https://www.recordpower.co.uk/flip/Winter2020/files/mobile/48.jpg'\n",
    "\n",
    "# 3. Создаём словарь заголовков\n",
    "# Это нужно для некоторых сайтов (но не для всех - для этого необязательно)\n",
    "# чтобы показать сайту, что ВЫ НЕ БОТ, а обычный пользователь\n",
    "HEADERS = {\n",
    "    'accept': 'text/html,application/xhtml+xml,application/xml;q=0.9,image/avif,image/webp,image/apng,*/*;q=0.8,application/signed-exchange;v=b3;q=0.9',\n",
    "    'user-agent': 'Mozilla/5.0 (Windows NT 10.0; Win64; x64) AppleWebKit/537.36 (KHTML, like Gecko) Chrome/109.0.0.0 Safari/537.36'\n",
    "}\n",
    "\n",
    "# 4. Название финального файла\n",
    "# CSV = 'catalog.csv'"
   ]
  },
  {
   "cell_type": "code",
   "execution_count": null,
   "metadata": {},
   "outputs": [],
   "source": [
    "# \n"
   ]
  },
  {
   "cell_type": "markdown",
   "metadata": {},
   "source": [
    "### Изучаем структуру страницы"
   ]
  },
  {
   "cell_type": "code",
   "execution_count": null,
   "metadata": {},
   "outputs": [],
   "source": [
    "# \n"
   ]
  },
  {
   "cell_type": "code",
   "execution_count": null,
   "metadata": {},
   "outputs": [],
   "source": [
    "# \n"
   ]
  },
  {
   "cell_type": "code",
   "execution_count": null,
   "metadata": {},
   "outputs": [],
   "source": [
    "# \n"
   ]
  },
  {
   "cell_type": "code",
   "execution_count": null,
   "metadata": {},
   "outputs": [],
   "source": [
    "### "
   ]
  },
  {
   "cell_type": "code",
   "execution_count": null,
   "metadata": {},
   "outputs": [],
   "source": [
    "# \n"
   ]
  },
  {
   "cell_type": "code",
   "execution_count": null,
   "metadata": {},
   "outputs": [],
   "source": [
    "# \n"
   ]
  },
  {
   "cell_type": "code",
   "execution_count": null,
   "metadata": {},
   "outputs": [],
   "source": [
    "# \n"
   ]
  },
  {
   "cell_type": "code",
   "execution_count": null,
   "metadata": {},
   "outputs": [],
   "source": [
    "### "
   ]
  },
  {
   "cell_type": "code",
   "execution_count": null,
   "metadata": {},
   "outputs": [],
   "source": [
    "# \n"
   ]
  },
  {
   "cell_type": "code",
   "execution_count": null,
   "metadata": {},
   "outputs": [],
   "source": [
    "# \n"
   ]
  },
  {
   "cell_type": "code",
   "execution_count": null,
   "metadata": {},
   "outputs": [],
   "source": [
    "# \n"
   ]
  },
  {
   "cell_type": "code",
   "execution_count": null,
   "metadata": {},
   "outputs": [],
   "source": [
    "### "
   ]
  },
  {
   "cell_type": "code",
   "execution_count": null,
   "metadata": {},
   "outputs": [],
   "source": [
    "# main.py\n",
    "\n",
    "mport json\n",
    "import time\n",
    "import requests\n",
    "from bs4 import BeautifulSoup\n",
    "import datetime\n",
    "import csv\n",
    "\n",
    "\n",
    "start_time = time.time()\n",
    "\n",
    "\n",
    "def get_data():\n",
    "    cur_time = datetime.datetime.now().strftime(\"%d_%m_%Y_%H_%M\")\n",
    "\n",
    "    with open(f\"labirint_{cur_time}.csv\", \"w\") as file:\n",
    "        writer = csv.writer(file)\n",
    "\n",
    "        writer.writerow(\n",
    "            (\n",
    "                \"Название книги\",\n",
    "                \"Автор\",\n",
    "                \"Издательство\",\n",
    "                \"Цена со скидкой\",\n",
    "                \"Цена без скидки\",\n",
    "                \"Процент скидки\",\n",
    "                \"Наличие на складе\"\n",
    "            )\n",
    "        )\n",
    "\n",
    "    headers = {\n",
    "        \"accept\": \"text/html,application/xhtml+xml,application/xml;q=0.9,image/avif,image/webp,image/apng,*/*;q=0.8,application/signed-exchange;v=b3;q=0.9\",\n",
    "        \"user-agent\": \"Mozilla/5.0 (X11; Linux x86_64) AppleWebKit/537.36 (KHTML, like Gecko) Chrome/91.0.4472.106 Safari/537.36\"\n",
    "    }\n",
    "\n",
    "    url = \"https://www.labirint.ru/genres/2308/?available=1&paperbooks=1&display=table\"\n",
    "\n",
    "    response = requests.get(url=url, headers=headers)\n",
    "    soup = BeautifulSoup(response.text, \"lxml\")\n",
    "\n",
    "    pages_count = int(soup.find(\"div\", class_=\"pagination-numbers\").find_all(\"a\")[-1].text)\n",
    "\n",
    "    books_data = []\n",
    "    for page in range(1, pages_count + 1):\n",
    "    # for page in range(1, 2):\n",
    "        url = f\"https://www.labirint.ru/genres/2308/?available=1&paperbooks=1&display=table&page={page}\"\n",
    "\n",
    "        response = requests.get(url=url, headers=headers)\n",
    "        soup = BeautifulSoup(response.text, \"lxml\")\n",
    "\n",
    "        books_items = soup.find(\"tbody\", class_=\"products-table__body\").find_all(\"tr\")\n",
    "\n",
    "        for bi in books_items:\n",
    "            book_data = bi.find_all(\"td\")\n",
    "\n",
    "            try:\n",
    "                book_title = book_data[0].find(\"a\").text.strip()\n",
    "            except:\n",
    "                book_title = \"Нет названия книги\"\n",
    "\n",
    "            try:\n",
    "                book_author = book_data[1].text.strip()\n",
    "            except:\n",
    "                book_author = \"Нет автора\"\n",
    "\n",
    "            try:\n",
    "                # book_publishing = book_data[2].text\n",
    "                book_publishing = book_data[2].find_all(\"a\")\n",
    "                book_publishing = \":\".join([bp.text for bp in book_publishing])\n",
    "            except:\n",
    "                book_publishing = \"Нет издательства\"\n",
    "\n",
    "            try:\n",
    "                book_new_price = int(book_data[3].find(\"div\", class_=\"price\").find(\"span\").find(\"span\").text.strip().replace(\" \", \"\"))\n",
    "            except:\n",
    "                book_new_price = \"Нет нового прайса\"\n",
    "\n",
    "            try:\n",
    "                book_old_price = int(book_data[3].find(\"span\", class_=\"price-gray\").text.strip().replace(\" \", \"\"))\n",
    "            except:\n",
    "                book_old_price = \"Нет старого прайса\"\n",
    "\n",
    "            try:\n",
    "                book_sale = round(((book_old_price - book_new_price) / book_old_price) * 100)\n",
    "            except:\n",
    "                book_sale = \"Нет скидки\"\n",
    "\n",
    "            try:\n",
    "                book_status = book_data[-1].text.strip()\n",
    "            except:\n",
    "                book_status = \"Нет статуса\"\n",
    "\n",
    "            # print(book_title)\n",
    "            # print(book_author)\n",
    "            # print(book_publishing)\n",
    "            # print(book_new_price)\n",
    "            # print(book_old_price)\n",
    "            # print(book_sale)\n",
    "            # print(book_status)\n",
    "            # print(\"#\" * 10)\n",
    "\n",
    "            books_data.append(\n",
    "                {\n",
    "                    \"book_title\": book_title,\n",
    "                    \"book_author\": book_author,\n",
    "                    \"book_publishing\": book_publishing,\n",
    "                    \"book_new_price\": book_new_price,\n",
    "                    \"book_old_price\": book_old_price,\n",
    "                    \"book_sale\": book_sale,\n",
    "                    \"book_status\": book_status\n",
    "                }\n",
    "            )\n",
    "\n",
    "            with open(f\"labirint_{cur_time}.csv\", \"a\") as file:\n",
    "                writer = csv.writer(file)\n",
    "\n",
    "                writer.writerow(\n",
    "                    (\n",
    "                        book_title,\n",
    "                        book_author,\n",
    "                        book_publishing,\n",
    "                        book_new_price,\n",
    "                        book_old_price,\n",
    "                        book_sale,\n",
    "                        book_status\n",
    "                    )\n",
    "                )\n",
    "\n",
    "        print(f\"Обработана {page}/{pages_count}\")\n",
    "        time.sleep(1)\n",
    "\n",
    "    with open(f\"labirint_{cur_time}.json\", \"w\") as file:\n",
    "        json.dump(books_data, file, indent=4, ensure_ascii=False)\n",
    "\n",
    "\n",
    "def main():\n",
    "    get_data()\n",
    "    finish_time = time.time() - start_time\n",
    "    print(f\"Затраченное на работу скрипта время: {finish_time}\")\n",
    "\n",
    "\n",
    "if __name__ == '__main__':\n",
    "    main()"
   ]
  },
  {
   "cell_type": "code",
   "execution_count": null,
   "metadata": {},
   "outputs": [],
   "source": [
    "# \n"
   ]
  },
  {
   "cell_type": "code",
   "execution_count": null,
   "metadata": {},
   "outputs": [],
   "source": [
    "# \n"
   ]
  },
  {
   "cell_type": "code",
   "execution_count": null,
   "metadata": {},
   "outputs": [],
   "source": [
    "### "
   ]
  },
  {
   "cell_type": "code",
   "execution_count": null,
   "metadata": {},
   "outputs": [],
   "source": [
    "# \n"
   ]
  },
  {
   "cell_type": "code",
   "execution_count": null,
   "metadata": {},
   "outputs": [],
   "source": [
    "# \n"
   ]
  },
  {
   "cell_type": "code",
   "execution_count": null,
   "metadata": {},
   "outputs": [],
   "source": [
    "# \n"
   ]
  },
  {
   "cell_type": "code",
   "execution_count": null,
   "metadata": {},
   "outputs": [],
   "source": [
    "### "
   ]
  },
  {
   "cell_type": "code",
   "execution_count": null,
   "metadata": {},
   "outputs": [],
   "source": [
    "# main_asyncio.py\n",
    "\n",
    "import json\n",
    "import time\n",
    "from bs4 import BeautifulSoup\n",
    "import datetime\n",
    "import csv\n",
    "import asyncio\n",
    "import aiohttp\n",
    "\n",
    "\n",
    "books_data = []\n",
    "start_time = time.time()\n",
    "\n",
    "\n",
    "async def get_page_data(session, page):\n",
    "    headers = {\n",
    "        \"accept\": \"text/html,application/xhtml+xml,application/xml;q=0.9,image/avif,image/webp,image/apng,*/*;q=0.8,application/signed-exchange;v=b3;q=0.9\",\n",
    "        \"user-agent\": \"Mozilla/5.0 (X11; Linux x86_64) AppleWebKit/537.36 (KHTML, like Gecko) Chrome/91.0.4472.106 Safari/537.36\"\n",
    "    }\n",
    "\n",
    "    url = f\"https://www.labirint.ru/genres/2308/?available=1&paperbooks=1&display=table&page={page}\"\n",
    "\n",
    "    async with session.get(url=url, headers=headers) as response:\n",
    "        response_text = await response.text()\n",
    "\n",
    "        soup = BeautifulSoup(response_text, \"lxml\")\n",
    "\n",
    "        books_items = soup.find(\"tbody\", class_=\"products-table__body\").find_all(\"tr\")\n",
    "\n",
    "        for bi in books_items:\n",
    "            book_data = bi.find_all(\"td\")\n",
    "\n",
    "            try:\n",
    "                book_title = book_data[0].find(\"a\").text.strip()\n",
    "            except:\n",
    "                book_title = \"Нет названия книги\"\n",
    "\n",
    "            try:\n",
    "                book_author = book_data[1].text.strip()\n",
    "            except:\n",
    "                book_author = \"Нет автора\"\n",
    "\n",
    "            try:\n",
    "                book_publishing = book_data[2].find_all(\"a\")\n",
    "                book_publishing = \":\".join([bp.text for bp in book_publishing])\n",
    "            except:\n",
    "                book_publishing = \"Нет издательства\"\n",
    "\n",
    "            try:\n",
    "                book_new_price = int(book_data[3].find(\"div\", class_=\"price\").find(\"span\").find(\"span\").text.strip().replace(\" \", \"\"))\n",
    "            except:\n",
    "                book_new_price = \"Нет нового прайса\"\n",
    "\n",
    "            try:\n",
    "                book_old_price = int(book_data[3].find(\"span\", class_=\"price-gray\").text.strip().replace(\" \", \"\"))\n",
    "            except:\n",
    "                book_old_price = \"Нет старого прайса\"\n",
    "\n",
    "            try:\n",
    "                book_sale = round(((book_old_price - book_new_price) / book_old_price) * 100)\n",
    "            except:\n",
    "                book_sale = \"Нет скидки\"\n",
    "\n",
    "            try:\n",
    "                book_status = book_data[-1].text.strip()\n",
    "            except:\n",
    "                book_status = \"Нет статуса\"\n",
    "\n",
    "            books_data.append(\n",
    "                {\n",
    "                    \"book_title\": book_title,\n",
    "                    \"book_author\": book_author,\n",
    "                    \"book_publishing\": book_publishing,\n",
    "                    \"book_new_price\": book_new_price,\n",
    "                    \"book_old_price\": book_old_price,\n",
    "                    \"book_sale\": book_sale,\n",
    "                    \"book_status\": book_status\n",
    "                }\n",
    "            )\n",
    "\n",
    "        print(f\"[INFO] Обработал страницу {page}\")\n",
    "\n",
    "\n",
    "async def gather_data():\n",
    "    headers = {\n",
    "        \"accept\": \"text/html,application/xhtml+xml,application/xml;q=0.9,image/avif,image/webp,image/apng,*/*;q=0.8,application/signed-exchange;v=b3;q=0.9\",\n",
    "        \"user-agent\": \"Mozilla/5.0 (X11; Linux x86_64) AppleWebKit/537.36 (KHTML, like Gecko) Chrome/91.0.4472.106 Safari/537.36\"\n",
    "    }\n",
    "\n",
    "    url = \"https://www.labirint.ru/genres/2308/?available=1&paperbooks=1&display=table\"\n",
    "\n",
    "    async with aiohttp.ClientSession() as session:\n",
    "        response = await session.get(url=url, headers=headers)\n",
    "        soup = BeautifulSoup(await response.text(), \"lxml\")\n",
    "        pages_count = int(soup.find(\"div\", class_=\"pagination-numbers\").find_all(\"a\")[-1].text)\n",
    "\n",
    "        tasks = []\n",
    "\n",
    "        for page in range(1, pages_count + 1):\n",
    "            task = asyncio.create_task(get_page_data(session, page))\n",
    "            tasks.append(task)\n",
    "\n",
    "        await asyncio.gather(*tasks)\n",
    "\n",
    "\n",
    "def main():\n",
    "    asyncio.run(gather_data())\n",
    "    cur_time = datetime.datetime.now().strftime(\"%d_%m_%Y_%H_%M\")\n",
    "\n",
    "    with open(f\"labirint_{cur_time}_async.json\", \"w\") as file:\n",
    "        json.dump(books_data, file, indent=4, ensure_ascii=False)\n",
    "\n",
    "    with open(f\"labirint_{cur_time}_async.csv\", \"w\") as file:\n",
    "        writer = csv.writer(file)\n",
    "\n",
    "        writer.writerow(\n",
    "            (\n",
    "                \"Название книги\",\n",
    "                \"Автор\",\n",
    "                \"Издательство\",\n",
    "                \"Цена со скидкой\",\n",
    "                \"Цена без скидки\",\n",
    "                \"Процент скидки\",\n",
    "                \"Наличие на складе\"\n",
    "            )\n",
    "        )\n",
    "\n",
    "    for book in books_data:\n",
    "\n",
    "        with open(f\"labirint_{cur_time}_async.csv\", \"a\") as file:\n",
    "            writer = csv.writer(file)\n",
    "\n",
    "            writer.writerow(\n",
    "                (\n",
    "                    book[\"book_title\"],\n",
    "                    book[\"book_author\"],\n",
    "                    book[\"book_publishing\"],\n",
    "                    book[\"book_new_price\"],\n",
    "                    book[\"book_old_price\"],\n",
    "                    book[\"book_sale\"],\n",
    "                    book[\"book_status\"]\n",
    "                )\n",
    "            )\n",
    "\n",
    "    finish_time = time.time() - start_time\n",
    "    print(f\"Затраченное на работу скрипта время: {finish_time}\")\n",
    "\n",
    "\n",
    "if __name__ == \"__main__\":\n",
    "    main()"
   ]
  },
  {
   "cell_type": "code",
   "execution_count": null,
   "metadata": {},
   "outputs": [],
   "source": [
    "# \n"
   ]
  },
  {
   "cell_type": "code",
   "execution_count": null,
   "metadata": {},
   "outputs": [],
   "source": [
    "# \n"
   ]
  },
  {
   "cell_type": "code",
   "execution_count": null,
   "metadata": {},
   "outputs": [],
   "source": [
    "### "
   ]
  },
  {
   "cell_type": "code",
   "execution_count": null,
   "metadata": {},
   "outputs": [],
   "source": [
    "# \n"
   ]
  },
  {
   "cell_type": "code",
   "execution_count": null,
   "metadata": {},
   "outputs": [],
   "source": [
    "# \n"
   ]
  },
  {
   "cell_type": "code",
   "execution_count": null,
   "metadata": {},
   "outputs": [],
   "source": [
    "# \n"
   ]
  },
  {
   "cell_type": "code",
   "execution_count": null,
   "metadata": {},
   "outputs": [],
   "source": [
    "### "
   ]
  },
  {
   "cell_type": "code",
   "execution_count": null,
   "metadata": {},
   "outputs": [],
   "source": [
    "# \n"
   ]
  },
  {
   "cell_type": "code",
   "execution_count": null,
   "metadata": {},
   "outputs": [],
   "source": [
    "# \n"
   ]
  },
  {
   "cell_type": "code",
   "execution_count": null,
   "metadata": {},
   "outputs": [],
   "source": [
    "# \n"
   ]
  },
  {
   "cell_type": "code",
   "execution_count": null,
   "metadata": {},
   "outputs": [],
   "source": [
    "### "
   ]
  },
  {
   "cell_type": "code",
   "execution_count": null,
   "metadata": {},
   "outputs": [],
   "source": [
    "# \n"
   ]
  },
  {
   "cell_type": "code",
   "execution_count": null,
   "metadata": {},
   "outputs": [],
   "source": [
    "# \n"
   ]
  },
  {
   "cell_type": "code",
   "execution_count": null,
   "metadata": {},
   "outputs": [],
   "source": [
    "# \n"
   ]
  },
  {
   "cell_type": "code",
   "execution_count": null,
   "metadata": {},
   "outputs": [],
   "source": [
    "### "
   ]
  },
  {
   "cell_type": "code",
   "execution_count": null,
   "metadata": {},
   "outputs": [],
   "source": [
    "# \n"
   ]
  },
  {
   "cell_type": "code",
   "execution_count": null,
   "metadata": {},
   "outputs": [],
   "source": [
    "# \n"
   ]
  },
  {
   "cell_type": "code",
   "execution_count": null,
   "metadata": {},
   "outputs": [],
   "source": [
    "# \n"
   ]
  },
  {
   "cell_type": "code",
   "execution_count": null,
   "metadata": {},
   "outputs": [],
   "source": [
    "### "
   ]
  },
  {
   "cell_type": "code",
   "execution_count": null,
   "metadata": {},
   "outputs": [],
   "source": [
    "# \n"
   ]
  },
  {
   "cell_type": "code",
   "execution_count": null,
   "metadata": {},
   "outputs": [],
   "source": [
    "# \n"
   ]
  },
  {
   "cell_type": "code",
   "execution_count": null,
   "metadata": {},
   "outputs": [],
   "source": [
    "# \n"
   ]
  },
  {
   "cell_type": "code",
   "execution_count": null,
   "metadata": {},
   "outputs": [],
   "source": [
    "### "
   ]
  },
  {
   "cell_type": "code",
   "execution_count": null,
   "metadata": {},
   "outputs": [],
   "source": [
    "# \n"
   ]
  },
  {
   "cell_type": "code",
   "execution_count": null,
   "metadata": {},
   "outputs": [],
   "source": [
    "# \n"
   ]
  },
  {
   "cell_type": "code",
   "execution_count": null,
   "metadata": {},
   "outputs": [],
   "source": [
    "# \n"
   ]
  },
  {
   "cell_type": "code",
   "execution_count": null,
   "metadata": {},
   "outputs": [],
   "source": [
    "### "
   ]
  },
  {
   "cell_type": "code",
   "execution_count": null,
   "metadata": {},
   "outputs": [],
   "source": [
    "# \n"
   ]
  },
  {
   "cell_type": "code",
   "execution_count": null,
   "metadata": {},
   "outputs": [],
   "source": [
    "# \n"
   ]
  },
  {
   "cell_type": "code",
   "execution_count": null,
   "metadata": {},
   "outputs": [],
   "source": [
    "# \n"
   ]
  },
  {
   "cell_type": "code",
   "execution_count": null,
   "metadata": {},
   "outputs": [],
   "source": [
    "# \n"
   ]
  },
  {
   "cell_type": "code",
   "execution_count": null,
   "metadata": {},
   "outputs": [],
   "source": [
    "# \n"
   ]
  },
  {
   "cell_type": "markdown",
   "metadata": {},
   "source": [
    "##  УРОК 10 "
   ]
  },
  {
   "cell_type": "code",
   "execution_count": null,
   "metadata": {},
   "outputs": [],
   "source": [
    "# \n"
   ]
  },
  {
   "cell_type": "code",
   "execution_count": null,
   "metadata": {},
   "outputs": [],
   "source": [
    "# https://www.youtube.com/watch?v=gy_YlibMW6Q"
   ]
  },
  {
   "cell_type": "code",
   "execution_count": 67,
   "metadata": {},
   "outputs": [],
   "source": [
    "# Импортируем необходимые для урока библиотеки\n"
   ]
  },
  {
   "cell_type": "markdown",
   "metadata": {},
   "source": [
    "### Константы для проекта:"
   ]
  },
  {
   "cell_type": "code",
   "execution_count": null,
   "metadata": {},
   "outputs": [],
   "source": [
    "# Создаём переменные-КОНСТАНТЫ\n",
    "# 1. Адрес основного хоста\n",
    "HOST = 'https://www.recordpower.co.uk' \n",
    "\n",
    "# 2. Адрес страницы для парсинга\n",
    "URL = 'https://www.recordpower.co.uk/flip/Winter2020/files/mobile/48.jpg'\n",
    "\n",
    "# 3. Создаём словарь заголовков\n",
    "# Это нужно для некоторых сайтов (но не для всех - для этого необязательно)\n",
    "# чтобы показать сайту, что ВЫ НЕ БОТ, а обычный пользователь\n",
    "HEADERS = {\n",
    "    'accept': 'text/html,application/xhtml+xml,application/xml;q=0.9,image/avif,image/webp,image/apng,*/*;q=0.8,application/signed-exchange;v=b3;q=0.9',\n",
    "    'user-agent': 'Mozilla/5.0 (Windows NT 10.0; Win64; x64) AppleWebKit/537.36 (KHTML, like Gecko) Chrome/109.0.0.0 Safari/537.36'\n",
    "}\n",
    "\n",
    "# 4. Название финального файла\n",
    "# CSV = 'catalog.csv'"
   ]
  },
  {
   "cell_type": "code",
   "execution_count": null,
   "metadata": {},
   "outputs": [],
   "source": [
    "# \n"
   ]
  },
  {
   "cell_type": "markdown",
   "metadata": {},
   "source": [
    "### Изучаем структуру страницы"
   ]
  },
  {
   "cell_type": "code",
   "execution_count": null,
   "metadata": {},
   "outputs": [],
   "source": [
    "# \n"
   ]
  },
  {
   "cell_type": "code",
   "execution_count": null,
   "metadata": {},
   "outputs": [],
   "source": [
    "# \n"
   ]
  },
  {
   "cell_type": "code",
   "execution_count": null,
   "metadata": {},
   "outputs": [],
   "source": [
    "# \n"
   ]
  },
  {
   "cell_type": "code",
   "execution_count": null,
   "metadata": {},
   "outputs": [],
   "source": [
    "### "
   ]
  },
  {
   "cell_type": "code",
   "execution_count": null,
   "metadata": {},
   "outputs": [],
   "source": [
    "# \n"
   ]
  },
  {
   "cell_type": "code",
   "execution_count": null,
   "metadata": {},
   "outputs": [],
   "source": [
    "# \n"
   ]
  },
  {
   "cell_type": "code",
   "execution_count": null,
   "metadata": {},
   "outputs": [],
   "source": [
    "# \n"
   ]
  },
  {
   "cell_type": "code",
   "execution_count": null,
   "metadata": {},
   "outputs": [],
   "source": [
    "### "
   ]
  },
  {
   "cell_type": "code",
   "execution_count": null,
   "metadata": {},
   "outputs": [],
   "source": [
    "# \n"
   ]
  },
  {
   "cell_type": "code",
   "execution_count": null,
   "metadata": {},
   "outputs": [],
   "source": [
    "# \n"
   ]
  },
  {
   "cell_type": "code",
   "execution_count": null,
   "metadata": {},
   "outputs": [],
   "source": [
    "# \n"
   ]
  },
  {
   "cell_type": "code",
   "execution_count": null,
   "metadata": {},
   "outputs": [],
   "source": [
    "### "
   ]
  },
  {
   "cell_type": "code",
   "execution_count": null,
   "metadata": {},
   "outputs": [],
   "source": [
    "# \n",
    "import requests\n",
    "from bs4 import BeautifulSoup\n",
    "import time\n",
    "\n",
    "\n",
    "def test_request(url, retry=5):\n",
    "    headers = {\n",
    "        \"accept\": \"text/html,application/xhtml+xml,application/xml;q=0.9,image/avif,image/webp,image/apng,*/*;q=0.8,application/signed-exchange;v=b3;q=0.9\",\n",
    "        \"user-agent\": \"Mozilla/5.0 (X11; Linux x86_64) AppleWebKit/537.36 (KHTML, like Gecko) Chrome/91.0.4472.106 Safari/537.36\"\n",
    "    }\n",
    "\n",
    "    try:\n",
    "        response = requests.get(url=url, headers=headers)\n",
    "        print(f\"[+] {url} {response.status_code}\")\n",
    "    except Exception as ex:\n",
    "        time.sleep(3)\n",
    "        if retry:\n",
    "            print(f\"[INFO] retry={retry} => {url}\")\n",
    "            return test_request(url, retry=(retry - 1))\n",
    "        else:\n",
    "            raise\n",
    "    else:\n",
    "        return response\n",
    "\n",
    "\n",
    "def main():\n",
    "    with open(\"lesson10/books_urls.txt\") as file:\n",
    "        books_urls = file.read().splitlines()\n",
    "\n",
    "    for book_url in books_urls:\n",
    "        # test_request(url=book_url)\n",
    "\n",
    "        try:\n",
    "            r = test_request(url=book_url)\n",
    "            soup = BeautifulSoup(r.text, \"lxml\")\n",
    "            print(f\"{soup.title.text}\\n{'-' * 20}\")\n",
    "        except Exception as ex:\n",
    "            continue\n",
    "\n",
    "\n",
    "if __name__ == \"__main__\":\n",
    "    main()"
   ]
  },
  {
   "cell_type": "code",
   "execution_count": null,
   "metadata": {},
   "outputs": [],
   "source": [
    "# \n"
   ]
  },
  {
   "cell_type": "code",
   "execution_count": null,
   "metadata": {},
   "outputs": [],
   "source": [
    "# \n"
   ]
  },
  {
   "cell_type": "code",
   "execution_count": null,
   "metadata": {},
   "outputs": [],
   "source": [
    "### "
   ]
  },
  {
   "cell_type": "code",
   "execution_count": null,
   "metadata": {},
   "outputs": [],
   "source": [
    "# \n"
   ]
  },
  {
   "cell_type": "code",
   "execution_count": null,
   "metadata": {},
   "outputs": [],
   "source": [
    "# \n"
   ]
  },
  {
   "cell_type": "code",
   "execution_count": null,
   "metadata": {},
   "outputs": [],
   "source": [
    "# \n"
   ]
  },
  {
   "cell_type": "code",
   "execution_count": null,
   "metadata": {},
   "outputs": [],
   "source": [
    "### "
   ]
  },
  {
   "cell_type": "code",
   "execution_count": null,
   "metadata": {},
   "outputs": [],
   "source": [
    "# \n"
   ]
  },
  {
   "cell_type": "code",
   "execution_count": null,
   "metadata": {},
   "outputs": [],
   "source": [
    "# \n"
   ]
  },
  {
   "cell_type": "code",
   "execution_count": null,
   "metadata": {},
   "outputs": [],
   "source": [
    "# \n"
   ]
  },
  {
   "cell_type": "code",
   "execution_count": null,
   "metadata": {},
   "outputs": [],
   "source": [
    "### "
   ]
  },
  {
   "cell_type": "code",
   "execution_count": null,
   "metadata": {},
   "outputs": [],
   "source": [
    "# \n"
   ]
  },
  {
   "cell_type": "code",
   "execution_count": null,
   "metadata": {},
   "outputs": [],
   "source": [
    "# \n"
   ]
  },
  {
   "cell_type": "code",
   "execution_count": null,
   "metadata": {},
   "outputs": [],
   "source": [
    "# \n"
   ]
  },
  {
   "cell_type": "code",
   "execution_count": null,
   "metadata": {},
   "outputs": [],
   "source": [
    "### "
   ]
  },
  {
   "cell_type": "code",
   "execution_count": null,
   "metadata": {},
   "outputs": [],
   "source": [
    "# \n"
   ]
  },
  {
   "cell_type": "code",
   "execution_count": null,
   "metadata": {},
   "outputs": [],
   "source": [
    "# \n"
   ]
  },
  {
   "cell_type": "code",
   "execution_count": null,
   "metadata": {},
   "outputs": [],
   "source": [
    "# \n"
   ]
  },
  {
   "cell_type": "code",
   "execution_count": null,
   "metadata": {},
   "outputs": [],
   "source": [
    "### "
   ]
  },
  {
   "cell_type": "code",
   "execution_count": null,
   "metadata": {},
   "outputs": [],
   "source": [
    "# \n"
   ]
  },
  {
   "cell_type": "code",
   "execution_count": null,
   "metadata": {},
   "outputs": [],
   "source": [
    "# \n"
   ]
  },
  {
   "cell_type": "code",
   "execution_count": null,
   "metadata": {},
   "outputs": [],
   "source": [
    "# \n"
   ]
  },
  {
   "cell_type": "code",
   "execution_count": null,
   "metadata": {},
   "outputs": [],
   "source": [
    "### "
   ]
  },
  {
   "cell_type": "code",
   "execution_count": null,
   "metadata": {},
   "outputs": [],
   "source": [
    "# \n"
   ]
  },
  {
   "cell_type": "code",
   "execution_count": null,
   "metadata": {},
   "outputs": [],
   "source": [
    "# \n"
   ]
  },
  {
   "cell_type": "code",
   "execution_count": null,
   "metadata": {},
   "outputs": [],
   "source": [
    "# \n"
   ]
  },
  {
   "cell_type": "code",
   "execution_count": null,
   "metadata": {},
   "outputs": [],
   "source": [
    "### "
   ]
  },
  {
   "cell_type": "code",
   "execution_count": null,
   "metadata": {},
   "outputs": [],
   "source": [
    "# \n"
   ]
  },
  {
   "cell_type": "code",
   "execution_count": null,
   "metadata": {},
   "outputs": [],
   "source": [
    "# \n"
   ]
  },
  {
   "cell_type": "code",
   "execution_count": null,
   "metadata": {},
   "outputs": [],
   "source": [
    "# \n"
   ]
  },
  {
   "cell_type": "code",
   "execution_count": null,
   "metadata": {},
   "outputs": [],
   "source": [
    "### "
   ]
  },
  {
   "cell_type": "code",
   "execution_count": null,
   "metadata": {},
   "outputs": [],
   "source": [
    "# \n"
   ]
  },
  {
   "cell_type": "code",
   "execution_count": null,
   "metadata": {},
   "outputs": [],
   "source": [
    "# \n"
   ]
  },
  {
   "cell_type": "code",
   "execution_count": null,
   "metadata": {},
   "outputs": [],
   "source": [
    "# \n"
   ]
  },
  {
   "cell_type": "code",
   "execution_count": null,
   "metadata": {},
   "outputs": [],
   "source": [
    "### "
   ]
  },
  {
   "cell_type": "code",
   "execution_count": null,
   "metadata": {},
   "outputs": [],
   "source": [
    "# \n"
   ]
  },
  {
   "cell_type": "code",
   "execution_count": null,
   "metadata": {},
   "outputs": [],
   "source": [
    "# \n"
   ]
  },
  {
   "cell_type": "code",
   "execution_count": null,
   "metadata": {},
   "outputs": [],
   "source": [
    "# \n"
   ]
  },
  {
   "cell_type": "code",
   "execution_count": null,
   "metadata": {},
   "outputs": [],
   "source": [
    "# \n"
   ]
  },
  {
   "cell_type": "code",
   "execution_count": null,
   "metadata": {},
   "outputs": [],
   "source": [
    "# \n"
   ]
  },
  {
   "cell_type": "markdown",
   "metadata": {},
   "source": [
    "#  УРОК 11 "
   ]
  },
  {
   "cell_type": "code",
   "execution_count": null,
   "metadata": {},
   "outputs": [],
   "source": [
    "# \n"
   ]
  },
  {
   "cell_type": "code",
   "execution_count": null,
   "metadata": {},
   "outputs": [],
   "source": [
    "# https://www.youtube.com/watch?v=gy_YlibMW6Q"
   ]
  },
  {
   "cell_type": "code",
   "execution_count": 67,
   "metadata": {},
   "outputs": [],
   "source": [
    "# Импортируем необходимые для урока библиотеки\n"
   ]
  },
  {
   "cell_type": "markdown",
   "metadata": {},
   "source": [
    "### Константы для проекта:"
   ]
  },
  {
   "cell_type": "code",
   "execution_count": null,
   "metadata": {},
   "outputs": [],
   "source": [
    "# Создаём переменные-КОНСТАНТЫ\n",
    "# 1. Адрес основного хоста\n",
    "HOST = 'https://www.recordpower.co.uk' \n",
    "\n",
    "# 2. Адрес страницы для парсинга\n",
    "URL = 'https://www.recordpower.co.uk/flip/Winter2020/files/mobile/48.jpg'\n",
    "\n",
    "# 3. Создаём словарь заголовков\n",
    "# Это нужно для некоторых сайтов (но не для всех - для этого необязательно)\n",
    "# чтобы показать сайту, что ВЫ НЕ БОТ, а обычный пользователь\n",
    "HEADERS = {\n",
    "    'accept': 'text/html,application/xhtml+xml,application/xml;q=0.9,image/avif,image/webp,image/apng,*/*;q=0.8,application/signed-exchange;v=b3;q=0.9',\n",
    "    'user-agent': 'Mozilla/5.0 (Windows NT 10.0; Win64; x64) AppleWebKit/537.36 (KHTML, like Gecko) Chrome/109.0.0.0 Safari/537.36'\n",
    "}\n",
    "\n",
    "# 4. Название финального файла\n",
    "# CSV = 'catalog.csv'"
   ]
  },
  {
   "cell_type": "code",
   "execution_count": null,
   "metadata": {},
   "outputs": [],
   "source": [
    "# \n"
   ]
  },
  {
   "cell_type": "markdown",
   "metadata": {},
   "source": [
    "### Изучаем структуру страницы"
   ]
  },
  {
   "cell_type": "code",
   "execution_count": null,
   "metadata": {},
   "outputs": [],
   "source": [
    "# \n"
   ]
  },
  {
   "cell_type": "code",
   "execution_count": null,
   "metadata": {},
   "outputs": [],
   "source": [
    "# \n"
   ]
  },
  {
   "cell_type": "code",
   "execution_count": null,
   "metadata": {},
   "outputs": [],
   "source": [
    "# \n"
   ]
  },
  {
   "cell_type": "code",
   "execution_count": null,
   "metadata": {},
   "outputs": [],
   "source": [
    "### "
   ]
  },
  {
   "cell_type": "code",
   "execution_count": null,
   "metadata": {},
   "outputs": [],
   "source": [
    "# \n"
   ]
  },
  {
   "cell_type": "code",
   "execution_count": null,
   "metadata": {},
   "outputs": [],
   "source": [
    "# \n"
   ]
  },
  {
   "cell_type": "code",
   "execution_count": null,
   "metadata": {},
   "outputs": [],
   "source": [
    "# \n"
   ]
  },
  {
   "cell_type": "code",
   "execution_count": null,
   "metadata": {},
   "outputs": [],
   "source": [
    "### "
   ]
  },
  {
   "cell_type": "code",
   "execution_count": null,
   "metadata": {},
   "outputs": [],
   "source": [
    "# \n"
   ]
  },
  {
   "cell_type": "code",
   "execution_count": null,
   "metadata": {},
   "outputs": [],
   "source": [
    "# \n"
   ]
  },
  {
   "cell_type": "code",
   "execution_count": null,
   "metadata": {},
   "outputs": [],
   "source": [
    "# \n"
   ]
  },
  {
   "cell_type": "code",
   "execution_count": null,
   "metadata": {},
   "outputs": [],
   "source": [
    "### "
   ]
  },
  {
   "cell_type": "code",
   "execution_count": null,
   "metadata": {},
   "outputs": [],
   "source": [
    "# \n",
    "import requests\n",
    "import json\n",
    "import os\n",
    "import time\n",
    "\n",
    "\n",
    "headers = {\n",
    "    \"User-Agent\": \"Mozilla/5.0 (X11; Linux x86_64) AppleWebKit/537.36 (KHTML, like Gecko) Chrome/92.0.4515.159 Safari/537.36\",\n",
    "    \"Accept\": \"text/html,application/xhtml+xml,application/xml;q=0.9,image/avif,image/webp,image/apng,*/*;q=0.8,application/signed-exchange;v=b3;q=0.9\"\n",
    "}\n",
    "\n",
    "\n",
    "def get_data_file(headers):\n",
    "    \"\"\"Collect data and return a JSON file\"\"\"\n",
    "\n",
    "    # url = \"https://www.landingfolio.com/\"\n",
    "\n",
    "    # r = requests.get(url=url, headers=headers)\n",
    "\n",
    "    # with open(\"index.html\", \"w\") as file:\n",
    "    #     file.write(r.text)\n",
    "\n",
    "    offset = 0\n",
    "    img_count = 0\n",
    "    result_list = []\n",
    "\n",
    "    while True:\n",
    "        url = f\"https://s1.landingfolio.com/api/v1/inspiration/?offset={offset}&color=%23undefined\"\n",
    "\n",
    "        response = requests.get(url=url, headers=headers)\n",
    "        data = response.json()\n",
    "\n",
    "        for item in data:\n",
    "            if \"description\" in item:\n",
    "\n",
    "                images = item.get(\"images\")\n",
    "                img_count += len(images)\n",
    "\n",
    "                for img in images:\n",
    "                    img.update({\"url\": f\"https://landingfoliocom.imgix.net/{img.get('url')}\"})\n",
    "\n",
    "                result_list.append(\n",
    "                    {\n",
    "                        \"title\": item.get(\"title\"),\n",
    "                        \"description\": item.get(\"description\"),\n",
    "                        \"url\": item.get(\"url\"),\n",
    "                        \"images\": images\n",
    "                    }\n",
    "                )\n",
    "            else:\n",
    "                with open(\"result_list.json\", \"a\") as file:\n",
    "                    json.dump(result_list, file, indent=4, ensure_ascii=False)\n",
    "\n",
    "                return f\"[INFO] Work finished. Images count is: {img_count}\\n{'=' * 20}\"\n",
    "\n",
    "        print(f\"[+] Processed {offset}\")\n",
    "        offset += 1\n",
    "\n",
    "\n",
    "def download_imgs(file_path):\n",
    "    \"\"\"Download images\"\"\"\n",
    "\n",
    "    try:\n",
    "        with open(file_path) as file:\n",
    "            src = json.load(file)\n",
    "    except Exception as _ex:\n",
    "        print(_ex)\n",
    "        return \"[INFO] Check the file path!\"\n",
    "\n",
    "    items_len = len(src)\n",
    "    count = 1\n",
    "\n",
    "    for item in src[:100]:\n",
    "        item_name = item.get(\"title\")\n",
    "        item_imgs = item.get(\"images\")\n",
    "\n",
    "        if not os.path.exists(f\"data/{item_name}\"):\n",
    "            os.mkdir(f\"data/{item_name}\")\n",
    "\n",
    "        for img in item_imgs:\n",
    "            r = requests.get(url=img[\"url\"])\n",
    "\n",
    "            with open(f\"data/{item_name}/{img['type']}.png\", \"wb\") as file:\n",
    "                file.write(r.content)\n",
    "\n",
    "        print(f\"[+] Download {count}/{items_len}\")\n",
    "        count += 1\n",
    "\n",
    "    return \"[INFO] Work finished!\"\n",
    "\n",
    "\n",
    "def main():\n",
    "    start_time = time.time()\n",
    "\n",
    "    print(get_data_file(headers=headers))\n",
    "    print(download_imgs(\"result_list.json\"))\n",
    "\n",
    "    finish_time = time.time() - start_time\n",
    "    print(f\"Worked time: {finish_time}\")\n",
    "\n",
    "\n",
    "if __name__ == \"__main__\":\n",
    "    main()"
   ]
  },
  {
   "cell_type": "code",
   "execution_count": null,
   "metadata": {},
   "outputs": [],
   "source": [
    "# \n"
   ]
  },
  {
   "cell_type": "code",
   "execution_count": null,
   "metadata": {},
   "outputs": [],
   "source": [
    "# \n"
   ]
  },
  {
   "cell_type": "code",
   "execution_count": null,
   "metadata": {},
   "outputs": [],
   "source": [
    "### "
   ]
  },
  {
   "cell_type": "code",
   "execution_count": null,
   "metadata": {},
   "outputs": [],
   "source": [
    "# \n"
   ]
  },
  {
   "cell_type": "code",
   "execution_count": null,
   "metadata": {},
   "outputs": [],
   "source": [
    "# \n"
   ]
  },
  {
   "cell_type": "code",
   "execution_count": null,
   "metadata": {},
   "outputs": [],
   "source": [
    "# \n"
   ]
  },
  {
   "cell_type": "code",
   "execution_count": null,
   "metadata": {},
   "outputs": [],
   "source": [
    "### "
   ]
  },
  {
   "cell_type": "code",
   "execution_count": null,
   "metadata": {},
   "outputs": [],
   "source": [
    "# \n"
   ]
  },
  {
   "cell_type": "code",
   "execution_count": null,
   "metadata": {},
   "outputs": [],
   "source": [
    "# \n"
   ]
  },
  {
   "cell_type": "code",
   "execution_count": null,
   "metadata": {},
   "outputs": [],
   "source": [
    "# \n"
   ]
  },
  {
   "cell_type": "code",
   "execution_count": null,
   "metadata": {},
   "outputs": [],
   "source": [
    "### "
   ]
  },
  {
   "cell_type": "code",
   "execution_count": null,
   "metadata": {},
   "outputs": [],
   "source": [
    "# \n"
   ]
  },
  {
   "cell_type": "code",
   "execution_count": null,
   "metadata": {},
   "outputs": [],
   "source": [
    "# \n"
   ]
  },
  {
   "cell_type": "code",
   "execution_count": null,
   "metadata": {},
   "outputs": [],
   "source": [
    "# \n"
   ]
  },
  {
   "cell_type": "code",
   "execution_count": null,
   "metadata": {},
   "outputs": [],
   "source": [
    "### "
   ]
  },
  {
   "cell_type": "code",
   "execution_count": null,
   "metadata": {},
   "outputs": [],
   "source": [
    "# \n"
   ]
  },
  {
   "cell_type": "code",
   "execution_count": null,
   "metadata": {},
   "outputs": [],
   "source": [
    "# \n"
   ]
  },
  {
   "cell_type": "code",
   "execution_count": null,
   "metadata": {},
   "outputs": [],
   "source": [
    "# \n"
   ]
  },
  {
   "cell_type": "code",
   "execution_count": null,
   "metadata": {},
   "outputs": [],
   "source": [
    "### "
   ]
  },
  {
   "cell_type": "code",
   "execution_count": null,
   "metadata": {},
   "outputs": [],
   "source": [
    "# \n"
   ]
  },
  {
   "cell_type": "code",
   "execution_count": null,
   "metadata": {},
   "outputs": [],
   "source": [
    "# \n"
   ]
  },
  {
   "cell_type": "code",
   "execution_count": null,
   "metadata": {},
   "outputs": [],
   "source": [
    "# \n"
   ]
  },
  {
   "cell_type": "code",
   "execution_count": null,
   "metadata": {},
   "outputs": [],
   "source": [
    "### "
   ]
  },
  {
   "cell_type": "code",
   "execution_count": null,
   "metadata": {},
   "outputs": [],
   "source": [
    "# \n"
   ]
  },
  {
   "cell_type": "code",
   "execution_count": null,
   "metadata": {},
   "outputs": [],
   "source": [
    "# \n"
   ]
  },
  {
   "cell_type": "code",
   "execution_count": null,
   "metadata": {},
   "outputs": [],
   "source": [
    "# \n"
   ]
  },
  {
   "cell_type": "code",
   "execution_count": null,
   "metadata": {},
   "outputs": [],
   "source": [
    "### "
   ]
  },
  {
   "cell_type": "code",
   "execution_count": null,
   "metadata": {},
   "outputs": [],
   "source": [
    "# \n"
   ]
  },
  {
   "cell_type": "code",
   "execution_count": null,
   "metadata": {},
   "outputs": [],
   "source": [
    "# \n"
   ]
  },
  {
   "cell_type": "code",
   "execution_count": null,
   "metadata": {},
   "outputs": [],
   "source": [
    "# \n"
   ]
  },
  {
   "cell_type": "code",
   "execution_count": null,
   "metadata": {},
   "outputs": [],
   "source": [
    "### "
   ]
  },
  {
   "cell_type": "code",
   "execution_count": null,
   "metadata": {},
   "outputs": [],
   "source": [
    "# \n"
   ]
  },
  {
   "cell_type": "code",
   "execution_count": null,
   "metadata": {},
   "outputs": [],
   "source": [
    "# \n"
   ]
  },
  {
   "cell_type": "code",
   "execution_count": null,
   "metadata": {},
   "outputs": [],
   "source": [
    "# \n"
   ]
  },
  {
   "cell_type": "code",
   "execution_count": null,
   "metadata": {},
   "outputs": [],
   "source": [
    "### "
   ]
  },
  {
   "cell_type": "code",
   "execution_count": null,
   "metadata": {},
   "outputs": [],
   "source": [
    "# \n"
   ]
  },
  {
   "cell_type": "code",
   "execution_count": null,
   "metadata": {},
   "outputs": [],
   "source": [
    "# \n"
   ]
  },
  {
   "cell_type": "code",
   "execution_count": null,
   "metadata": {},
   "outputs": [],
   "source": [
    "# \n"
   ]
  },
  {
   "cell_type": "code",
   "execution_count": null,
   "metadata": {},
   "outputs": [],
   "source": [
    "# \n"
   ]
  },
  {
   "cell_type": "code",
   "execution_count": null,
   "metadata": {},
   "outputs": [],
   "source": [
    "# \n"
   ]
  },
  {
   "cell_type": "markdown",
   "metadata": {},
   "source": [
    "#  УРОК 12 "
   ]
  },
  {
   "cell_type": "code",
   "execution_count": null,
   "metadata": {},
   "outputs": [],
   "source": [
    "# \n"
   ]
  },
  {
   "cell_type": "code",
   "execution_count": null,
   "metadata": {},
   "outputs": [],
   "source": [
    "# https://www.youtube.com/watch?v=gy_YlibMW6Q"
   ]
  },
  {
   "cell_type": "code",
   "execution_count": 67,
   "metadata": {},
   "outputs": [],
   "source": [
    "# Импортируем необходимые для урока библиотеки\n"
   ]
  },
  {
   "cell_type": "markdown",
   "metadata": {},
   "source": [
    "### Константы для проекта:"
   ]
  },
  {
   "cell_type": "code",
   "execution_count": null,
   "metadata": {},
   "outputs": [],
   "source": [
    "# Создаём переменные-КОНСТАНТЫ\n",
    "# 1. Адрес основного хоста\n",
    "HOST = 'https://www.recordpower.co.uk' \n",
    "\n",
    "# 2. Адрес страницы для парсинга\n",
    "URL = 'https://www.recordpower.co.uk/flip/Winter2020/files/mobile/48.jpg'\n",
    "\n",
    "# 3. Создаём словарь заголовков\n",
    "# Это нужно для некоторых сайтов (но не для всех - для этого необязательно)\n",
    "# чтобы показать сайту, что ВЫ НЕ БОТ, а обычный пользователь\n",
    "HEADERS = {\n",
    "    'accept': 'text/html,application/xhtml+xml,application/xml;q=0.9,image/avif,image/webp,image/apng,*/*;q=0.8,application/signed-exchange;v=b3;q=0.9',\n",
    "    'user-agent': 'Mozilla/5.0 (Windows NT 10.0; Win64; x64) AppleWebKit/537.36 (KHTML, like Gecko) Chrome/109.0.0.0 Safari/537.36'\n",
    "}\n",
    "\n",
    "# 4. Название финального файла\n",
    "# CSV = 'catalog.csv'"
   ]
  },
  {
   "cell_type": "code",
   "execution_count": null,
   "metadata": {},
   "outputs": [],
   "source": [
    "# \n"
   ]
  },
  {
   "cell_type": "markdown",
   "metadata": {},
   "source": [
    "### Изучаем структуру страницы"
   ]
  },
  {
   "cell_type": "code",
   "execution_count": null,
   "metadata": {},
   "outputs": [],
   "source": [
    "# \n"
   ]
  },
  {
   "cell_type": "code",
   "execution_count": null,
   "metadata": {},
   "outputs": [],
   "source": [
    "# \n"
   ]
  },
  {
   "cell_type": "code",
   "execution_count": null,
   "metadata": {},
   "outputs": [],
   "source": [
    "# \n"
   ]
  },
  {
   "cell_type": "code",
   "execution_count": null,
   "metadata": {},
   "outputs": [],
   "source": [
    "### "
   ]
  },
  {
   "cell_type": "code",
   "execution_count": null,
   "metadata": {},
   "outputs": [],
   "source": [
    "# \n"
   ]
  },
  {
   "cell_type": "code",
   "execution_count": null,
   "metadata": {},
   "outputs": [],
   "source": [
    "# \n"
   ]
  },
  {
   "cell_type": "code",
   "execution_count": null,
   "metadata": {},
   "outputs": [],
   "source": [
    "# \n"
   ]
  },
  {
   "cell_type": "code",
   "execution_count": null,
   "metadata": {},
   "outputs": [],
   "source": [
    "### "
   ]
  },
  {
   "cell_type": "code",
   "execution_count": null,
   "metadata": {},
   "outputs": [],
   "source": [
    "# \n"
   ]
  },
  {
   "cell_type": "code",
   "execution_count": null,
   "metadata": {},
   "outputs": [],
   "source": [
    "# \n"
   ]
  },
  {
   "cell_type": "code",
   "execution_count": null,
   "metadata": {},
   "outputs": [],
   "source": [
    "# \n"
   ]
  },
  {
   "cell_type": "code",
   "execution_count": null,
   "metadata": {},
   "outputs": [],
   "source": [
    "### "
   ]
  },
  {
   "cell_type": "code",
   "execution_count": null,
   "metadata": {},
   "outputs": [],
   "source": [
    "# test.py\n",
    "\n",
    "from urllib.parse import unquote\n",
    "\n",
    "url = \"https://spb.zoon.ru/redirect/?to=https%3A%2F%2Fvk.com%2Fmeddynasty&hash=fdf6e88a9c5fd8539a1d6ed8f8fbb03e&from=549cbbcbaa2d494e258b4589.7ada&ext_site=ext_vk&backurl=https%3A%2F%2Fspb.zoon.ru%2Fmedical%2Fmeditsinskij_tsentr_dinastiya_na_ulitse_repischeva%2F\"\n",
    "\n",
    "url = unquote(url.split(\"?to=\")[1].split(\"&\")[0])\n",
    "print(url)"
   ]
  },
  {
   "cell_type": "code",
   "execution_count": null,
   "metadata": {},
   "outputs": [],
   "source": [
    "# \n"
   ]
  },
  {
   "cell_type": "code",
   "execution_count": null,
   "metadata": {},
   "outputs": [],
   "source": [
    "# \n"
   ]
  },
  {
   "cell_type": "code",
   "execution_count": null,
   "metadata": {},
   "outputs": [],
   "source": [
    "### "
   ]
  },
  {
   "cell_type": "code",
   "execution_count": null,
   "metadata": {},
   "outputs": [],
   "source": [
    "# main.py\n",
    "\n",
    "import requests\n",
    "from bs4 import BeautifulSoup\n",
    "from selenium import webdriver\n",
    "from selenium.webdriver.common.action_chains import ActionChains\n",
    "import time\n",
    "import re\n",
    "from urllib.parse import unquote\n",
    "import random\n",
    "import json\n",
    "\n",
    "headers = {\n",
    "    \"accept\": \"text/html,application/xhtml+xml,application/xml;q=0.9,image/avif,image/webp,image/apng,*/*;q=0.8,application/signed-exchange;v=b3;q=0.9\",\n",
    "    \"user-agent\": \"Mozilla/5.0 (X11; Linux x86_64) AppleWebKit/537.36 (KHTML, like Gecko) Chrome/93.0.4577.63 Safari/537.36\"\n",
    "}\n",
    "\n",
    "\n",
    "def get_source_html(url):\n",
    "    \n",
    "    driver = webdriver.Chrome(\n",
    "        executable_path=\"driver_path\"\n",
    "    )\n",
    "    \n",
    "    driver.maximize_window()\n",
    "    \n",
    "    try:\n",
    "        driver.get(url=url)\n",
    "        time.sleep(3)\n",
    "        \n",
    "        while True:\n",
    "            find_more_element = driver.find_element_by_class_name(\"catalog-button-showMore\")\n",
    "            \n",
    "            if driver.find_elements_by_class_name(\"hasmore-text\"):\n",
    "                with open(\"lesson12/source-page.html\", \"w\") as file:\n",
    "                    file.write(driver.page_source)\n",
    "                    \n",
    "                break\n",
    "            else:\n",
    "                actions = ActionChains(driver)\n",
    "                actions.move_to_element(find_more_element).perform()\n",
    "                time.sleep(3)\n",
    "    except Exception as _ex:\n",
    "        print(_ex)\n",
    "    finally:\n",
    "        driver.close()\n",
    "        driver.quit()\n",
    "        \n",
    "        \n",
    "def get_items_urls(file_path):\n",
    "    with open(file_path) as file:\n",
    "        src = file.read()\n",
    "        \n",
    "    soup = BeautifulSoup(src, \"lxml\")\n",
    "    items_divs = soup.find_all(\"div\", class_=\"service-description\")\n",
    "    \n",
    "    urls = []\n",
    "    for item in items_divs:\n",
    "        item_url = item.find(\"div\", class_=\"H3\").find(\"a\").get(\"href\")\n",
    "        urls.append(item_url)\n",
    "        \n",
    "    with open(\"lesson12/items_urls2.txt\", \"w\") as file:\n",
    "        for url in urls:\n",
    "            file.write(f\"{url}\\n\")\n",
    "            \n",
    "    return \"[INFO] Urls collected successfully!\"\n",
    "\n",
    "\n",
    "def get_data(file_path):\n",
    "    with open(file_path) as file:\n",
    "        # urls_list = file.readlines()\n",
    "        \n",
    "        # clear_urls_list = []\n",
    "        # for url in urls_list:\n",
    "        #     url = url.strip()\n",
    "        #     clear_urls_list.append(url)\n",
    "        # print(clear_urls_list)\n",
    "        \n",
    "        urls_list = [url.strip() for url in file.readlines()]\n",
    "        \n",
    "    result_list = []\n",
    "    urls_count = len(urls_list)\n",
    "    count = 1\n",
    "    for url in urls_list:\n",
    "        response = requests.get(url=url, headers=headers)\n",
    "        soup = BeautifulSoup(response.text, \"lxml\")\n",
    "        \n",
    "        try:\n",
    "            item_name = soup.find(\"span\", {\"itemprop\": \"name\"}).text.strip()\n",
    "        except Exception as _ex:\n",
    "            item_name = None\n",
    "            \n",
    "        item_phones_list = []\n",
    "        try:\n",
    "            item_phones = soup.find(\"div\", class_=\"service-phones-list\").find_all(\"a\", class_=\"js-phone-number\")\n",
    "            \n",
    "            for phone in item_phones:\n",
    "                item_phone = phone.get(\"href\").split(\":\")[-1].strip()\n",
    "                item_phones_list.append(item_phone)\n",
    "        except Exception as _ex:\n",
    "            item_phones_list = None\n",
    "            \n",
    "        try:\n",
    "            item_address = soup.find(\"address\", class_=\"iblock\").text.strip()\n",
    "        except Exception as _ex:\n",
    "            item_address = None\n",
    "            \n",
    "        try:\n",
    "            item_site = soup.find(text=re.compile(\"Сайт|Официальный сайт\")).find_next().text.strip()\n",
    "        except Exception as _ex:\n",
    "            item_site = None\n",
    "            \n",
    "        social_networks_list = []\n",
    "        try:\n",
    "            item_social_networks = soup.find(text=re.compile(\"Страница в соцсетях\")).find_next().find_all(\"a\")\n",
    "            for sn in item_social_networks:\n",
    "                sn_url = sn.get(\"href\")\n",
    "                sn_url = unquote(sn_url.split(\"?to=\")[1].split(\"&\")[0])\n",
    "                social_networks_list.append(sn_url)\n",
    "        except Exception as _ex:\n",
    "            social_networks_list = None\n",
    "            \n",
    "        result_list.append(\n",
    "            {\n",
    "                \"item_name\": item_name,\n",
    "                \"item_url\": url,\n",
    "                \"item_phones_list\": item_phones_list,\n",
    "                \"item_address\": item_address,\n",
    "                \"item_site\": item_site,\n",
    "                \"social_networks_list\": social_networks_list\n",
    "            }\n",
    "        )\n",
    "        \n",
    "        time.sleep(random.randrange(2, 5))\n",
    "        \n",
    "        if count%10 == 0:\n",
    "            time.sleep(random.randrange(5, 9))\n",
    "            \n",
    "        print(f\"[+] Processed: {count}/{urls_count}\")\n",
    "            \n",
    "        count += 1\n",
    "        \n",
    "    with open(\"lesson12/result.json\", \"w\") as file:\n",
    "        json.dump(result_list, file, indent=4, ensure_ascii=False)\n",
    "        \n",
    "    return \"[INFO] Data collected successfully!\"\n",
    "        \n",
    "\n",
    "def main():\n",
    "    get_source_html(url=\"https://spb.zoon.ru/medical/?search_query_form=1&m%5B5200e522a0f302f066000055%5D=1&center%5B%5D=59.91878264665887&center%5B%5D=30.342586983263384&zoom=10\")\n",
    "    # print(get_items_urls(file_path=\"file_path\"))\n",
    "    # print(get_data(file_path=\"file_path\"))\n",
    "    \n",
    "    \n",
    "if __name__ == \"__main__\":\n",
    "    main()"
   ]
  },
  {
   "cell_type": "code",
   "execution_count": null,
   "metadata": {},
   "outputs": [],
   "source": [
    "# \n"
   ]
  },
  {
   "cell_type": "code",
   "execution_count": null,
   "metadata": {},
   "outputs": [],
   "source": [
    "# \n"
   ]
  },
  {
   "cell_type": "code",
   "execution_count": null,
   "metadata": {},
   "outputs": [],
   "source": [
    "### "
   ]
  },
  {
   "cell_type": "code",
   "execution_count": null,
   "metadata": {},
   "outputs": [],
   "source": [
    "# \n"
   ]
  },
  {
   "cell_type": "code",
   "execution_count": null,
   "metadata": {},
   "outputs": [],
   "source": [
    "# \n"
   ]
  },
  {
   "cell_type": "code",
   "execution_count": null,
   "metadata": {},
   "outputs": [],
   "source": [
    "# \n"
   ]
  },
  {
   "cell_type": "code",
   "execution_count": null,
   "metadata": {},
   "outputs": [],
   "source": [
    "### "
   ]
  },
  {
   "cell_type": "code",
   "execution_count": null,
   "metadata": {},
   "outputs": [],
   "source": [
    "# \n"
   ]
  },
  {
   "cell_type": "code",
   "execution_count": null,
   "metadata": {},
   "outputs": [],
   "source": [
    "# \n"
   ]
  },
  {
   "cell_type": "code",
   "execution_count": null,
   "metadata": {},
   "outputs": [],
   "source": [
    "# \n"
   ]
  },
  {
   "cell_type": "code",
   "execution_count": null,
   "metadata": {},
   "outputs": [],
   "source": [
    "### "
   ]
  },
  {
   "cell_type": "code",
   "execution_count": null,
   "metadata": {},
   "outputs": [],
   "source": [
    "# \n"
   ]
  },
  {
   "cell_type": "code",
   "execution_count": null,
   "metadata": {},
   "outputs": [],
   "source": [
    "# \n"
   ]
  },
  {
   "cell_type": "code",
   "execution_count": null,
   "metadata": {},
   "outputs": [],
   "source": [
    "# \n"
   ]
  },
  {
   "cell_type": "code",
   "execution_count": null,
   "metadata": {},
   "outputs": [],
   "source": [
    "### "
   ]
  },
  {
   "cell_type": "code",
   "execution_count": null,
   "metadata": {},
   "outputs": [],
   "source": [
    "# \n"
   ]
  },
  {
   "cell_type": "code",
   "execution_count": null,
   "metadata": {},
   "outputs": [],
   "source": [
    "# \n"
   ]
  },
  {
   "cell_type": "code",
   "execution_count": null,
   "metadata": {},
   "outputs": [],
   "source": [
    "# \n"
   ]
  },
  {
   "cell_type": "code",
   "execution_count": null,
   "metadata": {},
   "outputs": [],
   "source": [
    "### "
   ]
  },
  {
   "cell_type": "code",
   "execution_count": null,
   "metadata": {},
   "outputs": [],
   "source": [
    "# \n"
   ]
  },
  {
   "cell_type": "code",
   "execution_count": null,
   "metadata": {},
   "outputs": [],
   "source": [
    "# \n"
   ]
  },
  {
   "cell_type": "code",
   "execution_count": null,
   "metadata": {},
   "outputs": [],
   "source": [
    "# \n"
   ]
  },
  {
   "cell_type": "code",
   "execution_count": null,
   "metadata": {},
   "outputs": [],
   "source": [
    "### "
   ]
  },
  {
   "cell_type": "code",
   "execution_count": null,
   "metadata": {},
   "outputs": [],
   "source": [
    "# \n"
   ]
  },
  {
   "cell_type": "code",
   "execution_count": null,
   "metadata": {},
   "outputs": [],
   "source": [
    "# \n"
   ]
  },
  {
   "cell_type": "code",
   "execution_count": null,
   "metadata": {},
   "outputs": [],
   "source": [
    "# \n"
   ]
  },
  {
   "cell_type": "code",
   "execution_count": null,
   "metadata": {},
   "outputs": [],
   "source": [
    "### "
   ]
  },
  {
   "cell_type": "code",
   "execution_count": null,
   "metadata": {},
   "outputs": [],
   "source": [
    "# \n"
   ]
  },
  {
   "cell_type": "code",
   "execution_count": null,
   "metadata": {},
   "outputs": [],
   "source": [
    "# \n"
   ]
  },
  {
   "cell_type": "code",
   "execution_count": null,
   "metadata": {},
   "outputs": [],
   "source": [
    "# \n"
   ]
  },
  {
   "cell_type": "code",
   "execution_count": null,
   "metadata": {},
   "outputs": [],
   "source": [
    "### "
   ]
  },
  {
   "cell_type": "code",
   "execution_count": null,
   "metadata": {},
   "outputs": [],
   "source": [
    "# \n"
   ]
  },
  {
   "cell_type": "code",
   "execution_count": null,
   "metadata": {},
   "outputs": [],
   "source": [
    "# \n"
   ]
  },
  {
   "cell_type": "code",
   "execution_count": null,
   "metadata": {},
   "outputs": [],
   "source": [
    "# \n"
   ]
  },
  {
   "cell_type": "code",
   "execution_count": null,
   "metadata": {},
   "outputs": [],
   "source": [
    "# \n"
   ]
  },
  {
   "cell_type": "code",
   "execution_count": null,
   "metadata": {},
   "outputs": [],
   "source": [
    "# \n"
   ]
  },
  {
   "cell_type": "markdown",
   "metadata": {},
   "source": [
    "#  УРОК 13 "
   ]
  },
  {
   "cell_type": "code",
   "execution_count": null,
   "metadata": {},
   "outputs": [],
   "source": [
    "# \n"
   ]
  },
  {
   "cell_type": "code",
   "execution_count": null,
   "metadata": {},
   "outputs": [],
   "source": [
    "# https://www.youtube.com/watch?v=gy_YlibMW6Q"
   ]
  },
  {
   "cell_type": "code",
   "execution_count": 67,
   "metadata": {},
   "outputs": [],
   "source": [
    "# Импортируем необходимые для урока библиотеки\n"
   ]
  },
  {
   "cell_type": "markdown",
   "metadata": {},
   "source": [
    "### Константы для проекта:"
   ]
  },
  {
   "cell_type": "code",
   "execution_count": null,
   "metadata": {},
   "outputs": [],
   "source": [
    "# Создаём переменные-КОНСТАНТЫ\n",
    "# 1. Адрес основного хоста\n",
    "HOST = 'https://www.recordpower.co.uk' \n",
    "\n",
    "# 2. Адрес страницы для парсинга\n",
    "URL = 'https://www.recordpower.co.uk/flip/Winter2020/files/mobile/48.jpg'\n",
    "\n",
    "# 3. Создаём словарь заголовков\n",
    "# Это нужно для некоторых сайтов (но не для всех - для этого необязательно)\n",
    "# чтобы показать сайту, что ВЫ НЕ БОТ, а обычный пользователь\n",
    "HEADERS = {\n",
    "    'accept': 'text/html,application/xhtml+xml,application/xml;q=0.9,image/avif,image/webp,image/apng,*/*;q=0.8,application/signed-exchange;v=b3;q=0.9',\n",
    "    'user-agent': 'Mozilla/5.0 (Windows NT 10.0; Win64; x64) AppleWebKit/537.36 (KHTML, like Gecko) Chrome/109.0.0.0 Safari/537.36'\n",
    "}\n",
    "\n",
    "# 4. Название финального файла\n",
    "# CSV = 'catalog.csv'"
   ]
  },
  {
   "cell_type": "code",
   "execution_count": null,
   "metadata": {},
   "outputs": [],
   "source": [
    "# \n"
   ]
  },
  {
   "cell_type": "markdown",
   "metadata": {},
   "source": [
    "### Изучаем структуру страницы"
   ]
  },
  {
   "cell_type": "code",
   "execution_count": null,
   "metadata": {},
   "outputs": [],
   "source": [
    "# \n"
   ]
  },
  {
   "cell_type": "code",
   "execution_count": null,
   "metadata": {},
   "outputs": [],
   "source": [
    "# \n"
   ]
  },
  {
   "cell_type": "code",
   "execution_count": null,
   "metadata": {},
   "outputs": [],
   "source": [
    "# \n"
   ]
  },
  {
   "cell_type": "code",
   "execution_count": null,
   "metadata": {},
   "outputs": [],
   "source": [
    "### "
   ]
  },
  {
   "cell_type": "code",
   "execution_count": null,
   "metadata": {},
   "outputs": [],
   "source": [
    "# \n"
   ]
  },
  {
   "cell_type": "code",
   "execution_count": null,
   "metadata": {},
   "outputs": [],
   "source": [
    "# \n"
   ]
  },
  {
   "cell_type": "code",
   "execution_count": null,
   "metadata": {},
   "outputs": [],
   "source": [
    "# \n"
   ]
  },
  {
   "cell_type": "code",
   "execution_count": null,
   "metadata": {},
   "outputs": [],
   "source": [
    "### "
   ]
  },
  {
   "cell_type": "code",
   "execution_count": null,
   "metadata": {},
   "outputs": [],
   "source": [
    "# main.py\n",
    "\n",
    "import requests\n",
    "from bs4 import BeautifulSoup\n",
    "import time\n",
    "from random import randrange\n",
    "import json\n",
    "\n",
    "headers = {\n",
    "    'Accept': 'text/html,application/xhtml+xml,application/xml;q=0.9,image/avif,image/webp,image/apng,*/*;q=0.8,application/signed-exchange;v=b3;q=0.9',\n",
    "    'User-Agent': 'Mozilla/5.0 (Macintosh; Intel Mac OS X 10_15_7) AppleWebKit/537.36 (KHTML, like Gecko) Chrome/95.0.4638.69 Safari/537.36'\n",
    "}\n",
    "\n",
    "\n",
    "def get_articles_urls(url):\n",
    "    with requests.Session() as session:\n",
    "        response = session.get(url=url, headers=headers)\n",
    "\n",
    "    soup = BeautifulSoup(response.text, 'lxml')\n",
    "    pagination_count = int(soup.find('span', class_='navigations').find_all('a')[-1].text)\n",
    "    \n",
    "    articles_urls_list = []\n",
    "    \n",
    "    with requests.Session() as session:\n",
    "        for page in range(1, pagination_count + 1):\n",
    "        # for page in range(1, 2):\n",
    "            response = session.get(url=f'https://hi-tech.news/page/{page}/', headers=headers)\n",
    "            soup = BeautifulSoup(response.text, 'lxml')\n",
    "\n",
    "            articles_urls = soup.find_all('a', class_='post-title-a')\n",
    "\n",
    "            for au in articles_urls:\n",
    "                art_url = au.get('href')\n",
    "                articles_urls_list.append(art_url)\n",
    "\n",
    "            # time.sleep(randrange(2, 5))\n",
    "            print(f'Обработал {page}/{pagination_count}')\n",
    "\n",
    "        with open('articles_urls.txt', 'w') as file:\n",
    "            for url in articles_urls_list:\n",
    "                file.write(f'{url}\\n')\n",
    "\n",
    "    return 'Работа по сбору ссылок выполнена!'\n",
    "\n",
    "\n",
    "def get_data(file_path):\n",
    "    with open(file_path) as file:\n",
    "        urls_list = [line.strip() for line in file.readlines()]\n",
    "\n",
    "    urls_count = len(urls_list)\n",
    "    result_data = []\n",
    "\n",
    "    with requests.Session() as session:\n",
    "        for i, url in enumerate(urls_list[:100]):\n",
    "            response = session.get(url=url, headers=headers)\n",
    "            soup = BeautifulSoup(response.text, 'lxml')\n",
    "\n",
    "            article_title = soup.find('div', class_='post-content').find('h1', class_='title').text.strip()\n",
    "            article_date = soup.find('div', class_='post').find('div', class_='tile-views').text.strip()\n",
    "            article_img = f\"https://hi-tech.news{soup.find('div', class_='post-media-full').find('img').get('src')}\"\n",
    "            article_text = soup.find('div', class_='the-excerpt').text.strip().replace('\\n', '')\n",
    "\n",
    "            result_data.append(\n",
    "                {\n",
    "                    'original_url': url,\n",
    "                    'article_title': article_title,\n",
    "                    'article_date': article_date,\n",
    "                    'article_img': article_img,\n",
    "                    'article_text': article_text\n",
    "                }\n",
    "            )\n",
    "            # print(f'{article_title}\\n{article_date}\\n{article_img}\\n{10*\"#\"}')\n",
    "            print(f'Обработал {i + 1}/{urls_count}')\n",
    "\n",
    "    with open('result.json', 'w') as file:\n",
    "        json.dump(result_data, file, indent=4, ensure_ascii=False)\n",
    "\n",
    "\n",
    "def main():\n",
    "    # print(get_articles_urls(url='https://hi-tech.news/'))\n",
    "    get_data(file_path='articles_urls.txt')\n",
    "\n",
    "\n",
    "if __name__ == '__main__':\n",
    "    main()"
   ]
  },
  {
   "cell_type": "code",
   "execution_count": null,
   "metadata": {},
   "outputs": [],
   "source": [
    "# \n"
   ]
  },
  {
   "cell_type": "code",
   "execution_count": null,
   "metadata": {},
   "outputs": [],
   "source": [
    "# \n"
   ]
  },
  {
   "cell_type": "code",
   "execution_count": null,
   "metadata": {},
   "outputs": [],
   "source": [
    "### "
   ]
  },
  {
   "cell_type": "code",
   "execution_count": null,
   "metadata": {},
   "outputs": [],
   "source": [
    "# \n"
   ]
  },
  {
   "cell_type": "code",
   "execution_count": null,
   "metadata": {},
   "outputs": [],
   "source": [
    "# \n"
   ]
  },
  {
   "cell_type": "code",
   "execution_count": null,
   "metadata": {},
   "outputs": [],
   "source": [
    "# \n"
   ]
  },
  {
   "cell_type": "code",
   "execution_count": null,
   "metadata": {},
   "outputs": [],
   "source": [
    "### "
   ]
  },
  {
   "cell_type": "code",
   "execution_count": null,
   "metadata": {},
   "outputs": [],
   "source": [
    "# \n"
   ]
  },
  {
   "cell_type": "code",
   "execution_count": null,
   "metadata": {},
   "outputs": [],
   "source": [
    "# \n"
   ]
  },
  {
   "cell_type": "code",
   "execution_count": null,
   "metadata": {},
   "outputs": [],
   "source": [
    "# \n"
   ]
  },
  {
   "cell_type": "code",
   "execution_count": null,
   "metadata": {},
   "outputs": [],
   "source": [
    "### "
   ]
  },
  {
   "cell_type": "code",
   "execution_count": null,
   "metadata": {},
   "outputs": [],
   "source": [
    "# \n"
   ]
  },
  {
   "cell_type": "code",
   "execution_count": null,
   "metadata": {},
   "outputs": [],
   "source": [
    "# \n"
   ]
  },
  {
   "cell_type": "code",
   "execution_count": null,
   "metadata": {},
   "outputs": [],
   "source": [
    "# \n"
   ]
  },
  {
   "cell_type": "code",
   "execution_count": null,
   "metadata": {},
   "outputs": [],
   "source": [
    "### "
   ]
  },
  {
   "cell_type": "code",
   "execution_count": null,
   "metadata": {},
   "outputs": [],
   "source": [
    "# \n"
   ]
  },
  {
   "cell_type": "code",
   "execution_count": null,
   "metadata": {},
   "outputs": [],
   "source": [
    "# \n"
   ]
  },
  {
   "cell_type": "code",
   "execution_count": null,
   "metadata": {},
   "outputs": [],
   "source": [
    "# \n"
   ]
  },
  {
   "cell_type": "code",
   "execution_count": null,
   "metadata": {},
   "outputs": [],
   "source": [
    "### "
   ]
  },
  {
   "cell_type": "code",
   "execution_count": null,
   "metadata": {},
   "outputs": [],
   "source": [
    "# \n"
   ]
  },
  {
   "cell_type": "code",
   "execution_count": null,
   "metadata": {},
   "outputs": [],
   "source": [
    "# \n"
   ]
  },
  {
   "cell_type": "code",
   "execution_count": null,
   "metadata": {},
   "outputs": [],
   "source": [
    "# \n"
   ]
  },
  {
   "cell_type": "code",
   "execution_count": null,
   "metadata": {},
   "outputs": [],
   "source": [
    "### "
   ]
  },
  {
   "cell_type": "code",
   "execution_count": null,
   "metadata": {},
   "outputs": [],
   "source": [
    "# \n"
   ]
  },
  {
   "cell_type": "code",
   "execution_count": null,
   "metadata": {},
   "outputs": [],
   "source": [
    "# \n"
   ]
  },
  {
   "cell_type": "code",
   "execution_count": null,
   "metadata": {},
   "outputs": [],
   "source": [
    "# \n"
   ]
  },
  {
   "cell_type": "code",
   "execution_count": null,
   "metadata": {},
   "outputs": [],
   "source": [
    "### "
   ]
  },
  {
   "cell_type": "code",
   "execution_count": null,
   "metadata": {},
   "outputs": [],
   "source": [
    "# \n"
   ]
  },
  {
   "cell_type": "code",
   "execution_count": null,
   "metadata": {},
   "outputs": [],
   "source": [
    "# \n"
   ]
  },
  {
   "cell_type": "code",
   "execution_count": null,
   "metadata": {},
   "outputs": [],
   "source": [
    "# \n"
   ]
  },
  {
   "cell_type": "code",
   "execution_count": null,
   "metadata": {},
   "outputs": [],
   "source": [
    "### "
   ]
  },
  {
   "cell_type": "code",
   "execution_count": null,
   "metadata": {},
   "outputs": [],
   "source": [
    "# \n"
   ]
  },
  {
   "cell_type": "code",
   "execution_count": null,
   "metadata": {},
   "outputs": [],
   "source": [
    "# \n"
   ]
  },
  {
   "cell_type": "code",
   "execution_count": null,
   "metadata": {},
   "outputs": [],
   "source": [
    "# \n"
   ]
  },
  {
   "cell_type": "code",
   "execution_count": null,
   "metadata": {},
   "outputs": [],
   "source": [
    "### "
   ]
  },
  {
   "cell_type": "code",
   "execution_count": null,
   "metadata": {},
   "outputs": [],
   "source": [
    "# \n"
   ]
  },
  {
   "cell_type": "code",
   "execution_count": null,
   "metadata": {},
   "outputs": [],
   "source": [
    "# \n"
   ]
  },
  {
   "cell_type": "code",
   "execution_count": null,
   "metadata": {},
   "outputs": [],
   "source": [
    "# \n"
   ]
  },
  {
   "cell_type": "markdown",
   "metadata": {},
   "source": [
    "### Пишем Telegram бота на Python + Загружаем Telegram бота на сервер(хостинг)"
   ]
  },
  {
   "cell_type": "markdown",
   "metadata": {},
   "source": [
    "# !!!!\n",
    "## Пересмотреть видео с 8-ой минуты для изучения темы работы с ботом на хостинге\n",
    "# !!!!!"
   ]
  },
  {
   "cell_type": "code",
   "execution_count": null,
   "metadata": {},
   "outputs": [],
   "source": [
    "# https://youtu.be/x-VB3b4pKcU?si=mqhV4ZYXT1GelBUc"
   ]
  },
  {
   "cell_type": "markdown",
   "metadata": {},
   "source": [
    "В данном видео пишем простого telegram бота на python.\n",
    "Работаем с API и библиотекой requests, а после загружаем telegram бота на сервер(хостинг)."
   ]
  },
  {
   "cell_type": "code",
   "execution_count": null,
   "metadata": {},
   "outputs": [],
   "source": [
    "# Установка необходимых библиотек\n",
    "import requests\n",
    "from datetime import datetime\n",
    "import telebot\n",
    "from auth_data import token # ЭТО КАК РАЗ ИМПОРТ ТОКЕНА ИЗ ФАЙЛА \"AUTH_DATA\" !!!!!!!! "
   ]
  },
  {
   "cell_type": "markdown",
   "metadata": {},
   "source": [
    "#### File \"AUTH-DATA.PY\" has only one line:\n",
    "token = \"your_token\""
   ]
  },
  {
   "cell_type": "markdown",
   "metadata": {},
   "source": [
    "#### File \".GITIGNORE\"\n",
    "\n",
    " !# Project exclude paths\n",
    "/venvVPS/\n",
    "*.pyc\n",
    ".idea"
   ]
  },
  {
   "cell_type": "markdown",
   "metadata": {},
   "source": [
    "#### **Команды на сервере**\n",
    "\n",
    "Перемещение по директориям: cd dir_name\n",
    "Список файлов в директории: ls\n",
    "Создать директорию: mkdir dirname\n",
    "Установка sudo: apt install sudo\n",
    "Обновление пакетов: sudo apt update && sudo apt upgrade\n",
    "Установка виртуального окружения: sudo apt install python3-venv\n",
    "Создание виртуального окружения: python3 -m venv venvName\n",
    "Запуск виртуального окружения: source venvName/bin/activate\n",
    "\n",
    "Нобходимые библиотеки для работы с ботом: pip install requests wheel telebot pytelegrambotapi "
   ]
  },
  {
   "cell_type": "markdown",
   "metadata": {},
   "source": [
    "#### Установка screen: sudo apt install screen\n",
    "\n",
    "Создаст новый screen: screen\n",
    "Свернуть screen: CRTL + A, после чего нажмаем D\n",
    "Что-бы посмотреть список запущенных screen: screen -ls\n",
    "Что-бы вернуться к свёрнутому screen: screen -r\n",
    "Что-бы завершить сессию/закрыть screen: exit"
   ]
  },
  {
   "cell_type": "code",
   "execution_count": null,
   "metadata": {},
   "outputs": [],
   "source": [
    "# Устанавливаем необходимые библиотеки и зависимости\n",
    "# pip install whell telebot pytelegrambotapi\n",
    "# Удалил эти 3 библиотеки что в видео. Вместо них pip install pytelegrambotapi==3.6.6"
   ]
  },
  {
   "cell_type": "markdown",
   "metadata": {},
   "source": [
    "#### Создаем функцию для получения данных с биржи\n",
    "Скрипт, который по нашему запросу получает последнюю стоимость биткойна"
   ]
  },
  {
   "cell_type": "code",
   "execution_count": null,
   "metadata": {},
   "outputs": [],
   "source": [
    "# Создаем telegram бота\n",
    "# File \"MAIN.PY\"\n",
    "\n",
    "# Функция для отправки GET-запроса на сайт биржи:\n",
    "def get_data():\n",
    "    req = requests.get(\"https://yobit.net/api/3/ticker/btc_usd\") # нам понадобится метод TICKER\n",
    "    response = req.json()\n",
    "\n",
    "# Заберём цену продажи:\n",
    "    sell_price = response[\"btc_usd\"][\"sell\"]\n",
    "    \n",
    "# Вывод данных в удобном нам формате с указанием текущего времени:\n",
    "    print(f\"{datetime.now().strftime('%Y-%m-%d %H:%M')}\\nSell BTC price: {sell_price}\")\n",
    "\n",
    "# Создание ТГ-бота\n",
    "# Идём в ТГ-канал ---> BotFather --->\n",
    "# Создаём нового бота (/newbot) ---> Присваиваем имя боту (myBot) ---> Выбираем URL бота (mybot22778_bot)\n",
    "\n",
    "# Пишем функцию для нашего бота:\n",
    "def telegram_bot(token):\n",
    "\n",
    "# Создаём обект бота:\n",
    "    bot = telebot.TeleBot(token)\n",
    "\n",
    "# ДВЕ ФУНКЦИИ БОТА:\n",
    "# Первая функция - приветствует пользователя (метод SEND_MESSAGE)\n",
    "# Обернём нашу функцию в декоратор \"MESSAGE_HANDLER\" (команда СТАРТ в качестве параметра):\n",
    "    @bot.message_handler(commands=[\"start\"])    \n",
    "    def start_message(message):\n",
    "        bot.send_message(message.chat.id, \"Hello friend! Write the 'price' to find out the cost of BTC!\")\n",
    "\n",
    "# Вторая функция - будет реагировать на отправленные сообщения:\n",
    "    @bot.message_handler(content_types=[\"text\"])\n",
    "    def send_text(message):\n",
    "        if message.text.lower() == \"price\":\n",
    "            try:\n",
    "                req = requests.get(\"https://yobit.net/api/3/ticker/btc_usd\")\n",
    "                response = req.json()\n",
    "                sell_price = response[\"btc_usd\"][\"sell\"]\n",
    "                bot.send_message(\n",
    "                    message.chat.id,\n",
    "                    f\"{datetime.now().strftime('%Y-%m-%d %H:%M')}\\nSell BTC price: {sell_price}\"\n",
    "                )\n",
    "            except Exception as ex:\n",
    "                print(ex)\n",
    "                bot.send_message(\n",
    "                    message.chat.id,\n",
    "                    \"Damn...Something was wrong...\"\n",
    "                )\n",
    "        else:\n",
    "            bot.send_message(message.chat.id, \"Whaaat??? Check the command dude!\")\n",
    "\n",
    "# Команда, запускающая бот на выполнение (бот проверяет - не поступают ли новые сообщения):\n",
    "    bot.polling()\n",
    "\n",
    "# Вызов основной функции:\n",
    "if __name__ == '__main__':\n",
    "    # get_data()\n",
    "    telegram_bot(token)"
   ]
  },
  {
   "cell_type": "markdown",
   "metadata": {},
   "source": [
    "### Создание ТГ-бота\n",
    "#### Идём в ТГ-канал ---> BotFather --->\n",
    "##### Создаём нового бота (/newbot) ---> Присваиваем имя боту (myBot) ---> Выбираем URL бота (mybot22778_bot)\n",
    "\n",
    "BotFather вернёт нам заветный токен ---> Копируем его ---> Сохраняем токен в переменную TOKEN"
   ]
  },
  {
   "cell_type": "markdown",
   "metadata": {},
   "source": [
    "#### Загрузка telegram бота на сервер(хостинг)\n",
    "##### Дешевый/надежный сервер в Европе:\n",
    "Дешевый/надежный сервер в Европе + СКИДКА 10%:\n",
    "https://vdsina.ru/?partner=858b36ud3p"
   ]
  },
  {
   "cell_type": "code",
   "execution_count": null,
   "metadata": {},
   "outputs": [],
   "source": []
  },
  {
   "cell_type": "markdown",
   "metadata": {},
   "source": [
    "#### Привет!\n",
    "Столкнулся с ошибкой, при которой пайтон ругался на отсутствие артибута message.handler у бота.\n",
    "Оказалось, что пакет telebot это не то, что нам нужно, настоящий телебот находится в пакете pyTelegramBotAPI.\n",
    "Причем код, представленный в видео, будет работать точно на версии pyTelegramBotAPI 3.6.6, на более высокой у меня не работало.\n",
    "То есть нет смысла устанавливать telebot как пакет, нужен именно pyTelegramBotAPI 3.6.6, хотя импорт тот же, то есть import telebot.\n",
    "\n",
    "##### У меня тоже такая проблема была.\n",
    "Удалил эти 3 библиотеки что в видео. Вместо них pip install pytelegrambotapi==3.6.6\n",
    "\n",
    "##### делаешь и все работает:\n",
    "pip install pytelegrambotapi==3.6.6\n",
    "\n",
    "##### Fidback\n",
    "setsid позволяет отвязать запущенный скрипт от терминала + в crontab можно сделать автозапуск скрипта при перезагрузке сервера"
   ]
  },
  {
   "cell_type": "code",
   "execution_count": null,
   "metadata": {},
   "outputs": [],
   "source": []
  }
 ],
 "metadata": {
  "kernelspec": {
   "display_name": "Python 3 (ipykernel)",
   "language": "python",
   "name": "python3"
  },
  "language_info": {
   "codemirror_mode": {
    "name": "ipython",
    "version": 3
   },
   "file_extension": ".py",
   "mimetype": "text/x-python",
   "name": "python",
   "nbconvert_exporter": "python",
   "pygments_lexer": "ipython3",
   "version": "3.12.7"
  }
 },
 "nbformat": 4,
 "nbformat_minor": 4
}
