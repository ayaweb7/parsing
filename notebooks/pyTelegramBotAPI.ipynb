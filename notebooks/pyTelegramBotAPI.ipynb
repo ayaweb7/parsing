{
 "cells": [
  {
   "cell_type": "markdown",
   "id": "07daaacc-74dc-4c6e-9c2d-c1d5be8bb54f",
   "metadata": {},
   "source": [
    "# pyTelegramBotAPI\n",
    "### хорошая и лёгкая библиотека для создания бота на python для телеграмма."
   ]
  },
  {
   "cell_type": "markdown",
   "id": "8c0ab940-1bb8-4b1a-af38-53ee944b4d5e",
   "metadata": {},
   "source": [
    "https://habr.com/ru/articles/580408/"
   ]
  },
  {
   "cell_type": "markdown",
   "id": "9ab87a3d-78c9-4e06-a273-78655763e75d",
   "metadata": {},
   "source": [
    "## Токен"
   ]
  },
  {
   "cell_type": "code",
   "execution_count": 1,
   "id": "39574e8d-97c5-4476-b2e4-9871e87c7e9e",
   "metadata": {},
   "outputs": [
    {
     "name": "stdout",
     "output_type": "stream",
     "text": [
      "3. Token - Gut !!\n"
     ]
    }
   ],
   "source": [
    "# Токен\n",
    "token='7667849204:AAGMp-qTeUfSIUaFt2Zd2r3OJCoKIkaS1jI'\n",
    "print('3. Token - Gut !!')"
   ]
  },
  {
   "cell_type": "markdown",
   "id": "216036aa-1afb-4390-88ac-93cad7275bf5",
   "metadata": {
    "jp-MarkdownHeadingCollapsed": true
   },
   "source": [
    "# Функция, которая измеряет время выполнения операции импортирования библиотек и выводит результат."
   ]
  },
  {
   "cell_type": "code",
   "execution_count": 3,
   "id": "63ee53e6-ed25-4ef6-8231-945dfa2fbeaa",
   "metadata": {},
   "outputs": [],
   "source": [
    "import time"
   ]
  },
  {
   "cell_type": "code",
   "execution_count": 2,
   "id": "bb04a1e8-7713-4b16-b019-e9290551d204",
   "metadata": {},
   "outputs": [],
   "source": [
    "# import time\n",
    "\n",
    "def import_and_measure(library_name):\n",
    "    \"\"\"\n",
    "    Импортирует библиотеку и измеряет время выполнения операции.\n",
    "    :param library_name: Имя библиотеки для импорта (строка).\n",
    "    \"\"\"\n",
    "    start_time = time.time()  # Запуск таймера\n",
    "\n",
    "    try:\n",
    "        # Динамический импорт библиотеки\n",
    "        globals()[library_name] = __import__(library_name)\n",
    "        end_time = time.time()  # Остановка таймера\n",
    "\n",
    "        # Вычисление времени выполнения\n",
    "        elapsed_time = end_time - start_time\n",
    "        minutes = int(elapsed_time // 60)\n",
    "        seconds = int(elapsed_time % 60)\n",
    "\n",
    "        # Вывод результата\n",
    "        print(f\"\\tИмпортирование '{library_name}' успешно завершено!\\n\"\n",
    "              f\"\\tВремя выполнения операции: \"\n",
    "              f\"минут: {minutes}, секунд: {seconds}\")\n",
    "    except ImportError as e:\n",
    "        print(f\"Ошибка при импортировании библиотеки '{library_name}': {e}\")"
   ]
  },
  {
   "cell_type": "code",
   "execution_count": 4,
   "id": "bbba070c-a66c-465d-bbf0-3a042574f7e5",
   "metadata": {},
   "outputs": [
    {
     "name": "stdout",
     "output_type": "stream",
     "text": [
      "1. Импортируется библиотека 'REQUESTS' ...\n",
      "\tИмпортирование 'requests' успешно завершено!\n",
      "\tВремя выполнения операции: минут: 0, секунд: 4\n",
      "2. Импортируется библиотека 'TELEBOT' ...\n",
      "\tИмпортирование 'telebot' успешно завершено!\n",
      "\tВремя выполнения операции: минут: 0, секунд: 3\n",
      "\n",
      "Общее время импортирования библиотек: минут: 0, секунд: 8\n"
     ]
    }
   ],
   "source": [
    "# Пример использования\n",
    "if __name__ == \"__main__\":\n",
    "    libraries = [\"requests\", \"telebot\"]\n",
    "    total_start_time = time.time()  # Запуск общего таймера\n",
    "    count = 1 # Счетчик операций\n",
    "\n",
    "    for lib in libraries:\n",
    "        print(f\"{count}. Импортируется библиотека '{lib.upper()}' ...\")\n",
    "        import_and_measure(lib)\n",
    "        count += 1\n",
    "\n",
    "    total_end_time = time.time()  # Остановка общего таймера\n",
    "    total_elapsed_time = total_end_time - total_start_time\n",
    "    total_minutes = int(total_elapsed_time // 60)\n",
    "    total_seconds = int(total_elapsed_time % 60)\n",
    "\n",
    "    print(f\"\\nОбщее время импортирования библиотек: \"\n",
    "          f\"минут: {total_minutes}, секунд: {total_seconds}\")"
   ]
  },
  {
   "cell_type": "code",
   "execution_count": 9,
   "id": "41dca9d8-82c2-4f28-842e-070a699d71e0",
   "metadata": {},
   "outputs": [
    {
     "name": "stdout",
     "output_type": "stream",
     "text": [
      "Ошибка при импортировании библиотеки 'telebotik': No module named 'telebotik'\n"
     ]
    }
   ],
   "source": [
    "import_and_measure('telebot')"
   ]
  },
  {
   "cell_type": "code",
   "execution_count": null,
   "id": "dfd6ea9e-c395-4aad-8b44-c3a8efbc4b05",
   "metadata": {},
   "outputs": [],
   "source": []
  },
  {
   "cell_type": "markdown",
   "id": "db93c111-2c80-4cc5-b6fc-9b20a8fb7758",
   "metadata": {},
   "source": [
    "# Усовершенствованная функция по импортированию библиотек"
   ]
  },
  {
   "cell_type": "code",
   "execution_count": 5,
   "id": "8cfa680a-67ed-457e-8daf-438b8278b198",
   "metadata": {},
   "outputs": [],
   "source": [
    "import time\n",
    "import importlib"
   ]
  },
  {
   "cell_type": "code",
   "execution_count": 6,
   "id": "8c2462ff-04ea-4256-96ad-2b215e1800c1",
   "metadata": {},
   "outputs": [],
   "source": [
    "# import time\n",
    "# import importlib\n",
    "\n",
    "def import_and_measure_improved(import_statement):\n",
    "    \"\"\"\n",
    "    Импортирует библиотеку или модуль и измеряет время выполнения операции.\n",
    "    :param import_statement: Строка с командой импорта (например, \"import requests\" или \"from telebot import types\").\n",
    "    \"\"\"\n",
    "    start_time = time.time()  # Запуск таймера\n",
    "\n",
    "    try:\n",
    "        # Выполняем команду импорта\n",
    "        exec(import_statement)\n",
    "        end_time = time.time()  # Остановка таймера\n",
    "\n",
    "        # Вычисление времени выполнения\n",
    "        elapsed_time = end_time - start_time\n",
    "        minutes = int(elapsed_time // 60)\n",
    "        seconds = int(elapsed_time % 60)\n",
    "\n",
    "        # Вывод результата\n",
    "        print(f\"\\t'{import_statement}' успешно завершено!\\n\"\n",
    "              f\"\\tВремя выполнения операции: \"\n",
    "              f\"минут: {minutes}, секунд: {seconds}\")\n",
    "    except Exception as e:\n",
    "        print(f\"Ошибка при импортировании '{import_statement}': {e}\")"
   ]
  },
  {
   "cell_type": "code",
   "execution_count": 10,
   "id": "de2f5bbe-35f6-4068-852c-51874721ca34",
   "metadata": {},
   "outputs": [
    {
     "name": "stdout",
     "output_type": "stream",
     "text": [
      "1. Выполняется операция 'IMPORT TIME' ...\n",
      "\t'import time' успешно завершено!\n",
      "\tВремя выполнения операции: минут: 0, секунд: 0\n",
      "2. Выполняется операция 'IMPORT IMPORTLIB' ...\n",
      "\t'import importlib' успешно завершено!\n",
      "\tВремя выполнения операции: минут: 0, секунд: 0\n",
      "\n",
      "Общее время импортирования библиотек: минут: 0, секунд: 0\n"
     ]
    }
   ],
   "source": [
    "# Пример использования усовершенствованной функции IMPORT_AND_MEASURE_IMPROVED\n",
    "if __name__ == \"__main__\":\n",
    "    # imports = [\n",
    "    #     \"import requests\",\n",
    "    #     \"from telebot import types\",\n",
    "    #     \"from telegram.ext import Updater, CommandHandler, MessageHandler, Filters\"\n",
    "    # ]\n",
    "    imports = [\n",
    "        \"import time\",\n",
    "        \"import importlib\"\n",
    "    ]\n",
    "\n",
    "    total_start_time = time.time()  # Запуск общего таймера\n",
    "    count = 1 # Счетчик операций\n",
    "\n",
    "    for imp in imports:\n",
    "        print(f\"{count}. Выполняется операция '{imp.upper()}' ...\")\n",
    "        import_and_measure_improved(imp)\n",
    "        count += 1\n",
    "\n",
    "    total_end_time = time.time()  # Остановка общего таймера\n",
    "    total_elapsed_time = total_end_time - total_start_time\n",
    "    total_minutes = int(total_elapsed_time // 60)\n",
    "    total_seconds = int(total_elapsed_time % 60)\n",
    "\n",
    "    print(f\"\\nОбщее время импортирования библиотек: \"\n",
    "          f\"минут: {total_minutes}, секунд: {total_seconds}\")"
   ]
  },
  {
   "cell_type": "code",
   "execution_count": 15,
   "id": "6d370672-d1d2-42a2-a377-1d1d9c6aea8d",
   "metadata": {},
   "outputs": [
    {
     "name": "stdout",
     "output_type": "stream",
     "text": [
      "Импортирование успешно завершено!\n",
      "Время выполнения операции 'import time': минут: 0, секунд: 0\n"
     ]
    }
   ],
   "source": [
    "# Пример для импорта одной библиотеки\n",
    "import_and_measure_improved('import time')"
   ]
  },
  {
   "cell_type": "code",
   "execution_count": null,
   "id": "8c56f9e9-8127-4a43-b4a1-70f209e814c3",
   "metadata": {},
   "outputs": [],
   "source": []
  },
  {
   "cell_type": "code",
   "execution_count": null,
   "id": "89fcdb82-67e5-435f-975d-b2e13b282482",
   "metadata": {},
   "outputs": [],
   "source": []
  },
  {
   "cell_type": "code",
   "execution_count": null,
   "id": "af380ae1-7655-440e-a0b1-1adf39f099e4",
   "metadata": {},
   "outputs": [],
   "source": [
    "# Для установки telebot (pyTelegramBotAPI) на windows вам надо написать в cmd\n",
    "# !pip install pyTelegramBotAPI\n",
    "\n",
    "# Для установки на macOS нам надо написать в терминале\n",
    "# pip3 install pyTelegramBotAPI"
   ]
  },
  {
   "cell_type": "markdown",
   "id": "8508607b-23c5-4f79-b9a4-5dbb278e017c",
   "metadata": {},
   "source": [
    "# Импорт библиотеки, выбираем значение для токена"
   ]
  },
  {
   "cell_type": "code",
   "execution_count": 1,
   "id": "b7243ae1-7d97-42e0-8e97-ae42d8f7b432",
   "metadata": {
    "jupyter": {
     "source_hidden": true
    }
   },
   "outputs": [
    {
     "name": "stdout",
     "output_type": "stream",
     "text": [
      "1. import TELEBOT - Sussessfully!\n",
      "2. from TELEBOT import TYPES - Sussessfully!\n",
      "3. Token - Gut !!\n"
     ]
    }
   ],
   "source": [
    "# Токен\n",
    "# Сначала надо получить токен. Для этого зайдём к боту botfather,чтобы получить токен (botfather)\n",
    "\n",
    "# Теперь можно начать писать код.Сначала мы импортируем библиотеку.\n",
    "import telebot\n",
    "print('1. import TELEBOT - Sussessfully!')\n",
    "\n",
    "# Импорт модуля для создания кнопки\n",
    "from telebot import types\n",
    "print('2. from TELEBOT import TYPES - Sussessfully!')\n",
    "\n",
    "token='7667849204:AAGMp-qTeUfSIUaFt2Zd2r3OJCoKIkaS1jI'\n",
    "print('3. Token - Gut !!')"
   ]
  },
  {
   "cell_type": "markdown",
   "id": "e994f2b9-9f70-47dc-a6bc-34b9aa07a5ee",
   "metadata": {},
   "source": [
    "# Создаём приветствие бота"
   ]
  },
  {
   "cell_type": "code",
   "execution_count": 10,
   "id": "338e938b-6a7e-4efa-9aca-8b4b09643974",
   "metadata": {},
   "outputs": [
    {
     "name": "stderr",
     "output_type": "stream",
     "text": [
      "2025-03-06 19:16:19,158 (__init__.py:1121 MainThread) ERROR - TeleBot: \"Infinity polling: polling exited\"\n",
      "2025-03-06 19:16:19,237 (__init__.py:1123 MainThread) ERROR - TeleBot: \"Break infinity polling\"\n"
     ]
    }
   ],
   "source": [
    "# Теперь мы можем создать приветствие бота:\n",
    "\n",
    "# import telebot\n",
    "# token='наш токен'\n",
    "\n",
    "bot=telebot.TeleBot(token)\n",
    "@bot.message_handler(commands=['start'])\n",
    "def start_message(message):\n",
    "  bot.send_message(message.chat.id,\"Привет - Ты меня хорошо слышишь?! Создаём приветствие для бота !!\")\n",
    "\n",
    "bot.infinity_polling()\n",
    "# bot.polling()"
   ]
  },
  {
   "cell_type": "markdown",
   "id": "f7b08e49-c6d0-4450-8d2a-0fa5c2466a5c",
   "metadata": {},
   "source": [
    "Нам надо создать переменную bot, в ней мы пишем telebot.Telebot (наша переменная с токеном).\n",
    "\n",
    "Пишем @bot.message_handler(commands=['start'])\n",
    "Создаём функцию под названием \"start_message\"\n",
    "В скобках указываем \"message\".\n",
    "\n",
    "Пишем внутри функции bot.send_message(message.chat.id,\"Привет\")\n",
    "и вне функции пишем bot.infinity_poling()\n",
    "и запускаем программу.\n",
    "\n",
    "Теперь наш бот может приветствовать"
   ]
  },
  {
   "cell_type": "markdown",
   "id": "740580bc-12b3-40ad-ad03-edbfce969c46",
   "metadata": {},
   "source": [
    "## Делаем кнопку"
   ]
  },
  {
   "cell_type": "code",
   "execution_count": 20,
   "id": "120e76a9-b8c1-40e3-acaa-94787572cc75",
   "metadata": {
    "collapsed": true,
    "jupyter": {
     "outputs_hidden": true
    }
   },
   "outputs": [
    {
     "ename": "SyntaxError",
     "evalue": "invalid syntax (1801050165.py, line 17)",
     "output_type": "error",
     "traceback": [
      "\u001b[1;36m  Cell \u001b[1;32mIn[20], line 17\u001b[1;36m\u001b[0m\n\u001b[1;33m    markup.add(item1)\t\t\t\t\t\t\t\t\t\t\t\t\t\t\t\t\t\t\t\t\t\t\t\t\t\t\t\t\t\t\t\t\t\t\t\t\tbot.send_message(message.chat.id,'Выберите что вам надо',reply_markup=markup)\u001b[0m\n\u001b[1;37m                     \t\t\t\t\t\t\t\t\t\t\t\t\t\t\t\t\t\t\t\t\t\t\t\t\t\t\t\t\t\t\t\t\t\t\t\t\t^\u001b[0m\n\u001b[1;31mSyntaxError\u001b[0m\u001b[1;31m:\u001b[0m invalid syntax\n"
     ]
    }
   ],
   "source": [
    "# Приветствие мы сделали, теперь давайте сделаем кнопку.\n",
    "# Надо написать from telebot import types там же, где мы импортировали библиотеку telebot\n",
    "\n",
    "# import telebot\n",
    "# from telebot import types\n",
    "# token='наш токен'\n",
    "bot=telebot.TeleBot(token)\n",
    "\n",
    "@bot.message_handler(commands=['start'])\n",
    "def start_message(message):\n",
    "\tbot.send_message(message.chat.id,\"\"\"Привет - это обновленная функция. Создаём кнопку !!!\n",
    "You received this message from the Notebook located at:\\n'../ parsing_cases/../ PyTelegramBotAPI'\"\"\")\n",
    "\n",
    "@bot.message_handler(commands=['button'])\n",
    "def button_message(message):\n",
    "    markup=types.ReplyKeyboardMarkup(resize_keyboard=True)\n",
    "    item1=types.KeyboardButton(\"кнопка\")\n",
    "    markup.add(item1)\t\t\t\t\t\t\t\t\t\t\t\t\t\t\t\t\t\t\t\t\t\t\t\t\t\t\t\t\t\t\t\t\t\t\t\t\tbot.send_message(message.chat.id,'Выберите что вам надо',reply_markup=markup)\n",
    "\n",
    "bot.infinity_polling()"
   ]
  },
  {
   "cell_type": "markdown",
   "id": "a6c4dd74-0c82-48f9-93be-4a490d31e0d9",
   "metadata": {},
   "source": [
    "Теперь пишем @bot.message_handler(commands=['button']).\n",
    "Дальше мы создаём функцию под названием button_message, в скобках указываем message.\n",
    "\n",
    "Дальше надо создать клавиатуру в переменной под названием markup, в переменной пишем types.ReplyKeyboardMarkup(resize_keyboard=True).\n",
    "Потом создаём переменную item1, в ней будет хранится сама кнопка и пишем что item1=types.KeyboardButton(\"текст на кнопке\").\n",
    "\n",
    "Дальше к клавиатуре добавим нашу кнопку:\n",
    "markup.add(item1)\n",
    "\n",
    "Далее надо отправить сообщение \"Выберите что вам надо\" и после текста написать reply_markup=markup и закрываем скобки.\n",
    "Но если мы на неё нажмём, то ничего не произойдёт."
   ]
  },
  {
   "cell_type": "markdown",
   "id": "68ef60f7-c389-4906-b2fd-384eada1c69b",
   "metadata": {},
   "source": [
    "## Вешаем на кнопку - действие - ссылку"
   ]
  },
  {
   "cell_type": "code",
   "execution_count": 23,
   "id": "c69c9ad7-92f2-486a-a9df-9e9747ea7f48",
   "metadata": {},
   "outputs": [
    {
     "name": "stderr",
     "output_type": "stream",
     "text": [
      "2025-03-06 20:06:04,609 (__init__.py:1121 MainThread) ERROR - TeleBot: \"Infinity polling: polling exited\"\n",
      "2025-03-06 20:06:04,652 (__init__.py:1123 MainThread) ERROR - TeleBot: \"Break infinity polling\"\n"
     ]
    }
   ],
   "source": [
    "# Сейчас мы сделаем так, чтобы при нажатии на кнопку выдавало ссылку на мою страницу в Хабре.\n",
    "\n",
    "# import telebot\n",
    "# from telebot import types\n",
    "# token='наш токен'\n",
    "bot=telebot.TeleBot(token)\n",
    "\n",
    "@bot.message_handler(commands=['start'])\n",
    "def start_message(message):\n",
    "    bot.send_message(message.chat.id,\"\"\"Привет - это Функция. Вешаем на кнопку действие (ссылку) !!!\n",
    "You received this message from the Notebook located at:\\n'../ parsing_cases/../ PyTelegramBotAPI'\"\"\")\n",
    "\n",
    "@bot.message_handler(commands=['button'])\n",
    "def button_message(message):\n",
    "    markup=types.ReplyKeyboardMarkup(resize_keyboard=True)\n",
    "    item1=types.KeyboardButton(\"кнопка\")\n",
    "    markup.add(item1)\n",
    "    bot.send_message(message.chat.id,'Выберите что вам надо',reply_markup=markup)\n",
    "\n",
    "@bot.message_handler(content_types='text')\n",
    "def message_reply(message):\n",
    "    if message.text.lower()==\"кнопка\":\n",
    "        bot.send_message(message.chat.id,\"https://habr.com/ru/users/lubaznatel/\")\n",
    "\n",
    "bot.infinity_polling()"
   ]
  },
  {
   "cell_type": "markdown",
   "id": "0c103ef5-98bd-46d5-bb5a-a4cdeeb79700",
   "metadata": {},
   "source": [
    "Для начала мы напишем @bot.message_handler(content_types='text')\n",
    "\n",
    "Дальше нам надо создать функцию по названием message_reply, а в скобках указать message.\n",
    "\n",
    "Внутри функции надо указать условие \"if message.text==\"Кнопка:\", а внутри условия отправить нам нужное сообщение."
   ]
  },
  {
   "cell_type": "markdown",
   "id": "0e2adf86-d00e-4dcc-97c3-7f7b2924c582",
   "metadata": {},
   "source": [
    "## Смена кнопок"
   ]
  },
  {
   "cell_type": "markdown",
   "id": "eda9e1f8-bd0a-4d29-94db-b3c5bf7e61f1",
   "metadata": {},
   "source": [
    "Это последняя часть статьи. В следующей статье мы разберём с вами добавление в группу или канал.\n",
    "Это можно считать самая лёгкая часть статьи.\n",
    "Мы разберём сейчас с вами замену кнопок."
   ]
  },
  {
   "cell_type": "code",
   "execution_count": 12,
   "id": "cf930caa-b196-4fe3-a6e5-d912341c06d4",
   "metadata": {},
   "outputs": [
    {
     "name": "stderr",
     "output_type": "stream",
     "text": [
      "2025-03-07 21:47:33,406 (__init__.py:1121 MainThread) ERROR - TeleBot: \"Infinity polling: polling exited\"\n",
      "2025-03-07 21:47:33,408 (__init__.py:1123 MainThread) ERROR - TeleBot: \"Break infinity polling\"\n"
     ]
    }
   ],
   "source": [
    "# \n",
    "import telebot\n",
    "from telebot import types\n",
    "# token='наш токен'\n",
    "bot=telebot.TeleBot(token)\n",
    "\n",
    "@bot.message_handler(commands=['start'])\n",
    "def start_message(message):\n",
    "    bot.send_message(message.chat.id,\"\"\"Привет. Это последняя часть статьи. - Смена кнопок\n",
    "You received this message from the Notebook located at:\\n'../ parsing_cases/../ PyTelegramBotAPI'\"\"\")\n",
    "\n",
    "@bot.message_handler(commands=['button'])\n",
    "def button_message(message):\n",
    "    markup=types.ReplyKeyboardMarkup(resize_keyboard=True)\n",
    "    item1=types.KeyboardButton(\"кнопка\")\n",
    "    markup.add(item1)\n",
    "    bot.send_message(message.chat.id,'Выберите что вам надо\\n(def button_message)', reply_markup=markup)\n",
    "\n",
    "@bot.message_handler(content_types='text')\n",
    "def message_reply(message):\n",
    "    if message.text.lower()==\"кнопка\":\n",
    "        markup=types.ReplyKeyboardMarkup(resize_keyboard=True)\n",
    "        item1=types.KeyboardButton(\"кнопка 2\")\n",
    "        markup.add(item1)\n",
    "        bot.send_message(message.chat.id,'Выберите что вам надо\\n(def message_reply)', reply_markup=markup)\n",
    "    elif message.text.lower()==\"кнопка 2\":\n",
    "        bot.send_message(message.chat.id,'Спасибо за прочтение статьи!')\n",
    "\n",
    "bot.infinity_polling()"
   ]
  },
  {
   "cell_type": "markdown",
   "id": "3286cb27-5716-485e-b731-6eace042bf12",
   "metadata": {},
   "source": [
    "Для начала мы напишем @bot.message_handler(content_types='text')\n",
    "Дальше нам надо создать функцию по названием message_reply, а в скобках указать message.\n",
    "Внутри функции надо указать условие \"if message.text==\"Кнопка:\", а внутри условия отправить нам нужное сообщение.\n",
    "\n",
    "Теперь нам просто надо создать клавиатуру с кнопками и добавить к клавиатуре кнопку как в прошлой части в тоже самое условие.Дальше в той же функции написать:\n",
    "\n",
    "elif message.text==\"Кнопка 2\":\n",
    "\tbot.send_message(message.chat.id,'Спасибо за прочтение статьи!')\n",
    "Теперь при нажатии на Кнопку 1 она у нас сменяется на кнопку 2 и при нажатии на кнопку 2 у нас присылает сообщение \"Спасибо за прочтение статьи!\"."
   ]
  },
  {
   "cell_type": "code",
   "execution_count": null,
   "id": "d80d8725-b548-4088-bdb3-4e36708ee6b1",
   "metadata": {},
   "outputs": [],
   "source": []
  },
  {
   "cell_type": "markdown",
   "id": "ae80eb65-d667-42d8-aa95-d27c92e5235f",
   "metadata": {},
   "source": [
    "# Создание url кнопки"
   ]
  },
  {
   "cell_type": "code",
   "execution_count": 3,
   "id": "92c963bf-927f-478b-94bf-b6a784fe1b64",
   "metadata": {},
   "outputs": [
    {
     "name": "stdout",
     "output_type": "stream",
     "text": [
      "3. Token - Gut !!\n"
     ]
    }
   ],
   "source": [
    "# Токен\n",
    "token='7667849204:AAGMp-qTeUfSIUaFt2Zd2r3OJCoKIkaS1jI'\n",
    "print('3. Token - Gut !!')"
   ]
  },
  {
   "cell_type": "code",
   "execution_count": 7,
   "id": "e060fc98-f152-4477-93ec-9ad68429a2b6",
   "metadata": {
    "jupyter": {
     "source_hidden": true
    }
   },
   "outputs": [
    {
     "name": "stdout",
     "output_type": "stream",
     "text": [
      "1. Выполняется операция 'IMPORT TELEBOT' ...\n",
      "\t'import telebot' успешно завершено!\n",
      "\tВремя выполнения операции: минут: 0, секунд: 0\n",
      "2. Выполняется операция 'FROM TELEBOT IMPORT TYPES' ...\n",
      "\t'from telebot import types' успешно завершено!\n",
      "\tВремя выполнения операции: минут: 0, секунд: 0\n",
      "\n",
      "Общее время импортирования библиотек: минут: 0, секунд: 0\n"
     ]
    }
   ],
   "source": [
    "# Пример использования усовершенствованной функции IMPORT_AND_MEASURE_IMPROVED\n",
    "if __name__ == \"__main__\":\n",
    "    imports = [\n",
    "        \"import telebot\",\n",
    "        \"from telebot import types\"\n",
    "    ]\n",
    "\n",
    "    total_start_time = time.time()  # Запуск общего таймера\n",
    "    count = 1 # Счетчик операций\n",
    "\n",
    "    for imp in imports:\n",
    "        print(f\"{count}. Выполняется операция '{imp.upper()}' ...\")\n",
    "        import_and_measure_improved(imp)\n",
    "        count += 1\n",
    "\n",
    "    total_end_time = time.time()  # Остановка общего таймера\n",
    "    total_elapsed_time = total_end_time - total_start_time\n",
    "    total_minutes = int(total_elapsed_time // 60)\n",
    "    total_seconds = int(total_elapsed_time % 60)\n",
    "\n",
    "    print(f\"\\nОбщее время импортирования библиотек: \"\n",
    "          f\"минут: {total_minutes}, секунд: {total_seconds}\")"
   ]
  },
  {
   "cell_type": "code",
   "execution_count": 13,
   "id": "507d10d8-77be-4937-a003-663deeedc7c9",
   "metadata": {},
   "outputs": [],
   "source": [
    "# Url кнопки используются, когда хотим создать кнопку при клике которой, пользователь переходил на сайт.\n",
    "import telebot\n",
    "# # для указание типов\n",
    "from telebot import types\n",
    "# # токен лежит в файле config.py\n",
    "# import config\n",
    "\n",
    "# bot = telebot.TeleBot(config.token)\n",
    "bot = telebot.TeleBot(token)\n",
    "\n",
    "@bot.message_handler(commands=['start']) #создаем команду\n",
    "def start(message):\n",
    "    markup = types.InlineKeyboardMarkup()\n",
    "    button1 = types.InlineKeyboardButton(\"Сайт Хабр\", url='https://habr.com/ru/all/')\n",
    "    markup.add(button1)\n",
    "    bot.send_message(message.chat.id,\n",
    "                     \"Привет, {0.first_name}! Нажми на кнопку и перейди на сайт)\".format(message.from_user),\n",
    "                     reply_markup=markup)\n",
    "\n",
    "bot.polling(none_stop=True)\n",
    "\n",
    "\n",
    "# bot=telebot.TeleBot(token)\n",
    "# @bot.message_handler(commands=['start'])\n",
    "# def start_message(message):\n",
    "#   bot.send_message(message.chat.id,\"Привет - Ты меня хорошо слышишь?! Создаём приветствие для бота !!\")\n",
    "\n",
    "# bot.infinity_polling()"
   ]
  },
  {
   "cell_type": "markdown",
   "id": "647901c3-a92b-4b44-92c2-e81f96279781",
   "metadata": {},
   "source": [
    "при создании url-кнопки используется тип InlineKeyboardMarkup, в который мы добавляем кнопку и с помощью reply_markup=markup выводим это в чат (обязательно не забудьте указать это, иначе ваша кнопка просто не будете отображаться)."
   ]
  },
  {
   "cell_type": "code",
   "execution_count": null,
   "id": "bc01fef3-07f8-4e4e-92db-8bf382095aa9",
   "metadata": {},
   "outputs": [],
   "source": []
  },
  {
   "cell_type": "markdown",
   "id": "bbb5dba6-77b3-4701-b28e-0fb3811304b3",
   "metadata": {},
   "source": [
    "# Создание Reply кнопки"
   ]
  },
  {
   "cell_type": "code",
   "execution_count": null,
   "id": "753f3910-0289-45a3-83ad-87622dc025f2",
   "metadata": {
    "jupyter": {
     "source_hidden": true
    }
   },
   "outputs": [],
   "source": [
    "# Пример использования усовершенствованной функции IMPORT_AND_MEASURE_IMPROVED\n",
    "if __name__ == \"__main__\":\n",
    "    imports = [\n",
    "        \"import telebot\",\n",
    "        \"from telebot import types\"\n",
    "    ]\n",
    "\n",
    "    total_start_time = time.time()  # Запуск общего таймера\n",
    "    count = 1 # Счетчик операций\n",
    "\n",
    "    for imp in imports:\n",
    "        print(f\"{count}. Выполняется операция '{imp.upper()}' ...\")\n",
    "        import_and_measure_improved(imp)\n",
    "        count += 1\n",
    "\n",
    "    total_end_time = time.time()  # Остановка общего таймера\n",
    "    total_elapsed_time = total_end_time - total_start_time\n",
    "    total_minutes = int(total_elapsed_time // 60)\n",
    "    total_seconds = int(total_elapsed_time % 60)\n",
    "\n",
    "    print(f\"\\nОбщее время импортирования библиотек: \"\n",
    "          f\"минут: {total_minutes}, секунд: {total_seconds}\")"
   ]
  },
  {
   "cell_type": "code",
   "execution_count": 15,
   "id": "064eadae-c842-46ec-80e7-c8604d38bc38",
   "metadata": {},
   "outputs": [],
   "source": [
    "# Вот весь код самого бота:\n",
    "# import telebot\n",
    "# # для указание типов\n",
    "# from telebot import types\n",
    "# # токен лежит в файле config.py\n",
    "# import config\n",
    "\n",
    "# bot = telebot.TeleBot(config.token)\n",
    "bot = telebot.TeleBot(token)\n",
    "\n",
    "@bot.message_handler(commands=['start'])\n",
    "def start(message):\n",
    "    markup = types.ReplyKeyboardMarkup(resize_keyboard=True)\n",
    "    btn1 = types.KeyboardButton(\"? Поздороваться\")\n",
    "    btn2 = types.KeyboardButton(\"❓ Задать вопрос\")\n",
    "    markup.add(btn1, btn2)\n",
    "    bot.send_message(message.chat.id, text=\"Привет, {0.first_name}! Я тестовый бот для твоей статьи для habr.com\".format(message.from_user), reply_markup=markup)\n",
    "    \n",
    "@bot.message_handler(content_types=['text'])\n",
    "def func(message):\n",
    "    if(message.text == \"? Поздороваться\"):\n",
    "        bot.send_message(message.chat.id, text=\"Привеет.. Спасибо что читаешь статью!)\")\n",
    "    elif(message.text == \"❓ Задать вопрос\"):\n",
    "        markup = types.ReplyKeyboardMarkup(resize_keyboard=True)\n",
    "        btn1 = types.KeyboardButton(\"Как меня зовут?\")\n",
    "        btn2 = types.KeyboardButton(\"Что я могу?\")\n",
    "        back = types.KeyboardButton(\"Вернуться в главное меню\")\n",
    "        markup.add(btn1, btn2, back)\n",
    "        bot.send_message(message.chat.id, text=\"Задай мне вопрос\", reply_markup=markup)\n",
    "    \n",
    "    elif(message.text == \"Как меня зовут?\"):\n",
    "        bot.send_message(message.chat.id, \"У меня нет имени..\")\n",
    "    \n",
    "    elif message.text == \"Что я могу?\":\n",
    "        bot.send_message(message.chat.id, text=\"Поздороваться с читателями\")\n",
    "    \n",
    "    elif (message.text == \"Вернуться в главное меню\"):\n",
    "        markup = types.ReplyKeyboardMarkup(resize_keyboard=True)\n",
    "        button1 = types.KeyboardButton(\"? Поздороваться\")\n",
    "        button2 = types.KeyboardButton(\"❓ Задать вопрос\")\n",
    "        markup.add(button1, button2)\n",
    "        bot.send_message(message.chat.id, text=\"Вы вернулись в главное меню\", reply_markup=markup)\n",
    "    else:\n",
    "        bot.send_message(message.chat.id, text=\"На такую комманду я не запрограммировал..\")\n",
    "\n",
    "bot.polling(none_stop=True)"
   ]
  },
  {
   "cell_type": "markdown",
   "id": "72fddabc-047f-4738-972d-992c9abf1e6c",
   "metadata": {},
   "source": [
    "Чтобы создать Replay кнопку, нужно создать переменную, я назвал ее markup (9 строчка кода) в нее помещаем types.ReplyKeyboardMarkup(resize_keyboard=True). Resize_keybord=True выполняет функцию адаптации (я всегда указываю и вам советую тоже).\n",
    "\n",
    "После этого мы создаем переменную уже с самими кнопками и их текстом (10, 11 строчка) и затем добавляем эти переменные командой\n",
    "markup.add(__имя ваших переменных__).\n",
    "\n",
    "Командой bot.send_message(message.chat.id, text=\"Привет, {0.first_name}!\n",
    "\n",
    "Я тестовый бот для твоей статьи для habr.com\".format(message.from_user), reply_markup=markup)\n",
    " и обязательно не забывайте добавлять reply_markup=markup, иначе просто кнопки не будут отображаться."
   ]
  },
  {
   "cell_type": "code",
   "execution_count": null,
   "id": "038d5752-f7be-4f31-8da5-38f6291e7a2c",
   "metadata": {},
   "outputs": [],
   "source": []
  },
  {
   "cell_type": "code",
   "execution_count": null,
   "id": "7a86661f-a80b-4526-bafc-8cd31617d16b",
   "metadata": {},
   "outputs": [],
   "source": []
  },
  {
   "cell_type": "code",
   "execution_count": null,
   "id": "01eb14b0-45b6-4abf-b4c9-6c1417c401e0",
   "metadata": {},
   "outputs": [],
   "source": [
    "## "
   ]
  },
  {
   "cell_type": "code",
   "execution_count": null,
   "id": "e54afe61-405e-4ffb-ba69-ac8aeea01a59",
   "metadata": {},
   "outputs": [],
   "source": []
  }
 ],
 "metadata": {
  "kernelspec": {
   "display_name": "Python 3 (ipykernel)",
   "language": "python",
   "name": "python3"
  },
  "language_info": {
   "codemirror_mode": {
    "name": "ipython",
    "version": 3
   },
   "file_extension": ".py",
   "mimetype": "text/x-python",
   "name": "python",
   "nbconvert_exporter": "python",
   "pygments_lexer": "ipython3",
   "version": "3.12.7"
  }
 },
 "nbformat": 4,
 "nbformat_minor": 5
}
