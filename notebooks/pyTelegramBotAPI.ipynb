{
 "cells": [
  {
   "cell_type": "markdown",
   "id": "07daaacc-74dc-4c6e-9c2d-c1d5be8bb54f",
   "metadata": {},
   "source": [
    "# pyTelegramBotAPI\n",
    "### хорошая и лёгкая библиотека для создания бота на python для телеграмма."
   ]
  },
  {
   "cell_type": "markdown",
   "id": "8c0ab940-1bb8-4b1a-af38-53ee944b4d5e",
   "metadata": {},
   "source": [
    "https://habr.com/ru/articles/580408/"
   ]
  },
  {
   "cell_type": "markdown",
   "id": "9ab87a3d-78c9-4e06-a273-78655763e75d",
   "metadata": {},
   "source": [
    "## Токен"
   ]
  },
  {
   "cell_type": "code",
   "execution_count": 1,
   "id": "39574e8d-97c5-4476-b2e4-9871e87c7e9e",
   "metadata": {},
   "outputs": [
    {
     "name": "stdout",
     "output_type": "stream",
     "text": [
      "3. Token - Gut !!\n"
     ]
    }
   ],
   "source": [
    "# Токен - botHelper\n",
    "token='7667849204:AAGMp-qTeUfSIUaFt2Zd2r3OJCoKIkaS1jI'\n",
    "print('3. Token - Gut !!')"
   ]
  },
  {
   "cell_type": "markdown",
   "id": "216036aa-1afb-4390-88ac-93cad7275bf5",
   "metadata": {
    "jp-MarkdownHeadingCollapsed": true
   },
   "source": [
    "# Функция, которая измеряет время выполнения операции импортирования библиотек и выводит результат."
   ]
  },
  {
   "cell_type": "code",
   "execution_count": 3,
   "id": "63ee53e6-ed25-4ef6-8231-945dfa2fbeaa",
   "metadata": {},
   "outputs": [],
   "source": [
    "import time"
   ]
  },
  {
   "cell_type": "code",
   "execution_count": 2,
   "id": "bb04a1e8-7713-4b16-b019-e9290551d204",
   "metadata": {},
   "outputs": [],
   "source": [
    "# import time\n",
    "\n",
    "def import_and_measure(library_name):\n",
    "    \"\"\"\n",
    "    Импортирует библиотеку и измеряет время выполнения операции.\n",
    "    :param library_name: Имя библиотеки для импорта (строка).\n",
    "    \"\"\"\n",
    "    start_time = time.time()  # Запуск таймера\n",
    "\n",
    "    try:\n",
    "        # Динамический импорт библиотеки\n",
    "        globals()[library_name] = __import__(library_name)\n",
    "        end_time = time.time()  # Остановка таймера\n",
    "\n",
    "        # Вычисление времени выполнения\n",
    "        elapsed_time = end_time - start_time\n",
    "        minutes = int(elapsed_time // 60)\n",
    "        seconds = int(elapsed_time % 60)\n",
    "\n",
    "        # Вывод результата\n",
    "        print(f\"\\tИмпортирование '{library_name}' успешно завершено!\\n\"\n",
    "              f\"\\tВремя выполнения операции: \"\n",
    "              f\"минут: {minutes}, секунд: {seconds}\")\n",
    "    except ImportError as e:\n",
    "        print(f\"Ошибка при импортировании библиотеки '{library_name}': {e}\")"
   ]
  },
  {
   "cell_type": "code",
   "execution_count": 4,
   "id": "bbba070c-a66c-465d-bbf0-3a042574f7e5",
   "metadata": {},
   "outputs": [
    {
     "name": "stdout",
     "output_type": "stream",
     "text": [
      "1. Импортируется библиотека 'REQUESTS' ...\n",
      "\tИмпортирование 'requests' успешно завершено!\n",
      "\tВремя выполнения операции: минут: 0, секунд: 4\n",
      "2. Импортируется библиотека 'TELEBOT' ...\n",
      "\tИмпортирование 'telebot' успешно завершено!\n",
      "\tВремя выполнения операции: минут: 0, секунд: 3\n",
      "\n",
      "Общее время импортирования библиотек: минут: 0, секунд: 8\n"
     ]
    }
   ],
   "source": [
    "# Пример использования\n",
    "if __name__ == \"__main__\":\n",
    "    libraries = [\"requests\", \"telebot\"]\n",
    "    total_start_time = time.time()  # Запуск общего таймера\n",
    "    count = 1 # Счетчик операций\n",
    "\n",
    "    for lib in libraries:\n",
    "        print(f\"{count}. Импортируется библиотека '{lib.upper()}' ...\")\n",
    "        import_and_measure(lib)\n",
    "        count += 1\n",
    "\n",
    "    total_end_time = time.time()  # Остановка общего таймера\n",
    "    total_elapsed_time = total_end_time - total_start_time\n",
    "    total_minutes = int(total_elapsed_time // 60)\n",
    "    total_seconds = int(total_elapsed_time % 60)\n",
    "\n",
    "    print(f\"\\nОбщее время импортирования библиотек: \"\n",
    "          f\"минут: {total_minutes}, секунд: {total_seconds}\")"
   ]
  },
  {
   "cell_type": "code",
   "execution_count": 9,
   "id": "41dca9d8-82c2-4f28-842e-070a699d71e0",
   "metadata": {},
   "outputs": [
    {
     "name": "stdout",
     "output_type": "stream",
     "text": [
      "Ошибка при импортировании библиотеки 'telebotik': No module named 'telebotik'\n"
     ]
    }
   ],
   "source": [
    "import_and_measure('telebot')"
   ]
  },
  {
   "cell_type": "code",
   "execution_count": null,
   "id": "dfd6ea9e-c395-4aad-8b44-c3a8efbc4b05",
   "metadata": {},
   "outputs": [],
   "source": []
  },
  {
   "cell_type": "markdown",
   "id": "db93c111-2c80-4cc5-b6fc-9b20a8fb7758",
   "metadata": {
    "jp-MarkdownHeadingCollapsed": true
   },
   "source": [
    "# Усовершенствованная функция по импортированию библиотек"
   ]
  },
  {
   "cell_type": "code",
   "execution_count": 4,
   "id": "8cfa680a-67ed-457e-8daf-438b8278b198",
   "metadata": {},
   "outputs": [],
   "source": [
    "import time\n",
    "import importlib"
   ]
  },
  {
   "cell_type": "code",
   "execution_count": 2,
   "id": "8c2462ff-04ea-4256-96ad-2b215e1800c1",
   "metadata": {},
   "outputs": [],
   "source": [
    "# import time\n",
    "# import importlib\n",
    "\n",
    "def import_and_measure_improved(import_statement):\n",
    "    \"\"\"\n",
    "    Импортирует библиотеку или модуль и измеряет время выполнения операции.\n",
    "    :param import_statement: Строка с командой импорта (например, \"import requests\" или \"from telebot import types\").\n",
    "    \"\"\"\n",
    "    start_time = time.time()  # Запуск таймера\n",
    "\n",
    "    try:\n",
    "        # Выполняем команду импорта\n",
    "        exec(import_statement)\n",
    "        end_time = time.time()  # Остановка таймера\n",
    "\n",
    "        # Вычисление времени выполнения\n",
    "        elapsed_time = end_time - start_time\n",
    "        minutes = int(elapsed_time // 60)\n",
    "        seconds = int(elapsed_time % 60)\n",
    "\n",
    "        # Вывод результата\n",
    "        print(f\"\\t'{import_statement}' успешно завершено!\\n\"\n",
    "              f\"\\tВремя выполнения операции: \"\n",
    "              f\"минут: {minutes}, секунд: {seconds}\")\n",
    "    except Exception as e:\n",
    "        print(f\"Ошибка при импортировании '{import_statement}': {e}\")"
   ]
  },
  {
   "cell_type": "code",
   "execution_count": 5,
   "id": "de2f5bbe-35f6-4068-852c-51874721ca34",
   "metadata": {},
   "outputs": [
    {
     "name": "stdout",
     "output_type": "stream",
     "text": [
      "1. Выполняется операция 'IMPORT TIME' ...\n",
      "\t'import time' успешно завершено!\n",
      "\tВремя выполнения операции: минут: 0, секунд: 0\n",
      "2. Выполняется операция 'IMPORT IMPORTLIB' ...\n",
      "\t'import importlib' успешно завершено!\n",
      "\tВремя выполнения операции: минут: 0, секунд: 0\n",
      "\n",
      "Общее время импортирования библиотек: минут: 0, секунд: 0\n"
     ]
    }
   ],
   "source": [
    "# Пример использования усовершенствованной функции IMPORT_AND_MEASURE_IMPROVED\n",
    "if __name__ == \"__main__\":\n",
    "    # imports = [\n",
    "    #     \"import requests\",\n",
    "    #     \"from telebot import types\",\n",
    "    #     \"from telegram.ext import Updater, CommandHandler, MessageHandler, Filters\"\n",
    "    # ]\n",
    "    imports = [\n",
    "        \"import time\",\n",
    "        \"import importlib\"\n",
    "    ]\n",
    "\n",
    "    total_start_time = time.time()  # Запуск общего таймера\n",
    "    count = 1 # Счетчик операций\n",
    "\n",
    "    for imp in imports:\n",
    "        print(f\"{count}. Выполняется операция '{imp.upper()}' ...\")\n",
    "        import_and_measure_improved(imp)\n",
    "        count += 1\n",
    "\n",
    "    total_end_time = time.time()  # Остановка общего таймера\n",
    "    total_elapsed_time = total_end_time - total_start_time\n",
    "    total_minutes = int(total_elapsed_time // 60)\n",
    "    total_seconds = int(total_elapsed_time % 60)\n",
    "\n",
    "    print(f\"\\nОбщее время импортирования библиотек: \"\n",
    "          f\"минут: {total_minutes}, секунд: {total_seconds}\")"
   ]
  },
  {
   "cell_type": "code",
   "execution_count": 15,
   "id": "6d370672-d1d2-42a2-a377-1d1d9c6aea8d",
   "metadata": {},
   "outputs": [
    {
     "name": "stdout",
     "output_type": "stream",
     "text": [
      "Импортирование успешно завершено!\n",
      "Время выполнения операции 'import time': минут: 0, секунд: 0\n"
     ]
    }
   ],
   "source": [
    "# Пример для импорта одной библиотеки\n",
    "import_and_measure_improved('import time')"
   ]
  },
  {
   "cell_type": "code",
   "execution_count": null,
   "id": "8c56f9e9-8127-4a43-b4a1-70f209e814c3",
   "metadata": {},
   "outputs": [],
   "source": []
  },
  {
   "cell_type": "code",
   "execution_count": null,
   "id": "89fcdb82-67e5-435f-975d-b2e13b282482",
   "metadata": {},
   "outputs": [],
   "source": []
  },
  {
   "cell_type": "code",
   "execution_count": null,
   "id": "af380ae1-7655-440e-a0b1-1adf39f099e4",
   "metadata": {},
   "outputs": [],
   "source": [
    "# Для установки telebot (pyTelegramBotAPI) на windows вам надо написать в cmd\n",
    "# !pip install pyTelegramBotAPI\n",
    "\n",
    "# Для установки на macOS нам надо написать в терминале\n",
    "# pip3 install pyTelegramBotAPI"
   ]
  },
  {
   "cell_type": "markdown",
   "id": "8508607b-23c5-4f79-b9a4-5dbb278e017c",
   "metadata": {
    "jp-MarkdownHeadingCollapsed": true
   },
   "source": [
    "# Импорт библиотеки, выбираем значение для токена"
   ]
  },
  {
   "cell_type": "code",
   "execution_count": 1,
   "id": "b7243ae1-7d97-42e0-8e97-ae42d8f7b432",
   "metadata": {},
   "outputs": [
    {
     "name": "stdout",
     "output_type": "stream",
     "text": [
      "1. import TELEBOT - Sussessfully!\n",
      "2. from TELEBOT import TYPES - Sussessfully!\n",
      "3. Token - Gut !!\n"
     ]
    }
   ],
   "source": [
    "# Токен\n",
    "# Сначала надо получить токен. Для этого зайдём к боту botfather,чтобы получить токен (botfather)\n",
    "\n",
    "# Теперь можно начать писать код.Сначала мы импортируем библиотеку.\n",
    "import telebot\n",
    "print('1. import TELEBOT - Sussessfully!')\n",
    "\n",
    "# Импорт модуля для создания кнопки\n",
    "from telebot import types\n",
    "print('2. from TELEBOT import TYPES - Sussessfully!')\n",
    "\n",
    "token='7667849204:AAGMp-qTeUfSIUaFt2Zd2r3OJCoKIkaS1jI'\n",
    "print('3. Token - Gut !!')"
   ]
  },
  {
   "cell_type": "markdown",
   "id": "e994f2b9-9f70-47dc-a6bc-34b9aa07a5ee",
   "metadata": {},
   "source": [
    "# Создаём приветствие бота"
   ]
  },
  {
   "cell_type": "code",
   "execution_count": 56,
   "id": "54d3ffc0-c602-473b-94ce-535147097b14",
   "metadata": {},
   "outputs": [],
   "source": [
    "# Библиотеки для ТелеБОТа\n",
    "import telebot\n",
    "# для указание типов\n",
    "from telebot import types\n",
    "# токен лежит в файле config.py\n",
    "import config\n",
    "\n",
    "from datetime import datetime"
   ]
  },
  {
   "cell_type": "code",
   "execution_count": 45,
   "id": "9ad9eb83-3c67-45d7-92d4-279d45697704",
   "metadata": {},
   "outputs": [
    {
     "name": "stdout",
     "output_type": "stream",
     "text": [
      "2025-04-27 19:19:40\n"
     ]
    }
   ],
   "source": [
    "message_time = datetime.now().strftime('%Y-%m-%d %H:%M:%S')\n",
    "print(message_time)"
   ]
  },
  {
   "cell_type": "code",
   "execution_count": 4,
   "id": "f6acd690-edf7-4571-b596-d7b36e05fe0d",
   "metadata": {},
   "outputs": [
    {
     "name": "stdout",
     "output_type": "stream",
     "text": [
      "15\n"
     ]
    }
   ],
   "source": [
    "def a_b(a,b):\n",
    "    return a*b\n",
    "\n",
    "# Запуск функции A_B\n",
    "if __name__ == \"__main__\":\n",
    "    print(a_b(5,3))"
   ]
  },
  {
   "cell_type": "code",
   "execution_count": 5,
   "id": "a8a45dc3-526c-4120-8730-84e4eb77e921",
   "metadata": {},
   "outputs": [
    {
     "name": "stdout",
     "output_type": "stream",
     "text": [
      "15\n"
     ]
    }
   ],
   "source": [
    "mult = a_b(5,3)\n",
    "print(mult)"
   ]
  },
  {
   "cell_type": "code",
   "execution_count": 2,
   "id": "59e42f8c-9fa8-45bb-98a0-374644e46ef6",
   "metadata": {},
   "outputs": [
    {
     "name": "stdout",
     "output_type": "stream",
     "text": [
      "<telebot.TeleBot object at 0x00000196DB22D520>\n"
     ]
    }
   ],
   "source": [
    "# Вытаскиваем значение TOKEN из файла CONFIG.PY\n",
    "import config\n",
    "import telebot\n",
    "\n",
    "bot = telebot.TeleBot(config.token)\n",
    "# print(f\"token: {token} '-' bot: {bot}\")\n",
    "print(bot)"
   ]
  },
  {
   "cell_type": "code",
   "execution_count": 1,
   "id": "a863aacc-012a-4dc7-80cd-613f69a90011",
   "metadata": {
    "collapsed": true,
    "jupyter": {
     "outputs_hidden": true
    }
   },
   "outputs": [
    {
     "name": "stdout",
     "output_type": "stream",
     "text": [
      "77. Hello Nick!\n",
      "88. Notebook testing SCHEDULE\n",
      "111. Token_&_CHAT_ID - Gut !!\n"
     ]
    },
    {
     "ename": "NameError",
     "evalue": "name 'chat_id' is not defined",
     "output_type": "error",
     "traceback": [
      "\u001b[1;31m---------------------------------------------------------------------------\u001b[0m",
      "\u001b[1;31mNameError\u001b[0m                                 Traceback (most recent call last)",
      "Cell \u001b[1;32mIn[1], line 5\u001b[0m\n\u001b[0;32m      1\u001b[0m \u001b[38;5;66;03m# Вытаскиваем значение CHAT_ID из файла CONFIG.PY\u001b[39;00m\n\u001b[0;32m      2\u001b[0m \u001b[38;5;66;03m# Узнать его можно через @userinfobot\u001b[39;00m\n\u001b[0;32m      3\u001b[0m \u001b[38;5;28;01mimport\u001b[39;00m \u001b[38;5;21;01mconfig\u001b[39;00m\n\u001b[1;32m----> 5\u001b[0m \u001b[38;5;28mprint\u001b[39m(\u001b[38;5;124mf\u001b[39m\u001b[38;5;124m\"\u001b[39m\u001b[38;5;124mchat_id=\u001b[39m\u001b[38;5;132;01m{\u001b[39;00mchat_id\u001b[38;5;132;01m}\u001b[39;00m\u001b[38;5;124m\"\u001b[39m)\n",
      "\u001b[1;31mNameError\u001b[0m: name 'chat_id' is not defined"
     ]
    }
   ],
   "source": [
    "# Вытаскиваем значение CHAT_ID из файла CONFIG.PY\n",
    "# Узнать его можно через @userinfobot\n",
    "import config\n",
    "\n",
    "print(f\"chat_id={chat_id}\")"
   ]
  },
  {
   "cell_type": "code",
   "execution_count": 11,
   "id": "d40261c9-fbf7-4204-be75-b072dc4b7829",
   "metadata": {},
   "outputs": [
    {
     "name": "stdout",
     "output_type": "stream",
     "text": [
      "Бот запущен!\n",
      "Получено сообщение: Rt\n",
      "Получено сообщение: Orivet\n"
     ]
    }
   ],
   "source": [
    "# Тестовая функция - Проверка, что бот вообще получает сообщения\n",
    "# Вот весь код самого бота:\n",
    "# import telebot\n",
    "# # для указание типов\n",
    "# from telebot import types\n",
    "# # токен лежит в файле config.py\n",
    "# import config\n",
    "\n",
    "bot = telebot.TeleBot(config.token)\n",
    "@bot.message_handler(func=lambda message: True)\n",
    "def echo_all(message):\n",
    "    print(f\"Получено сообщение: {message.text}\")\n",
    "    bot.reply_to(message, message.text)\n",
    "\n",
    "print(\"Бот запущен!\")\n",
    "bot.polling(none_stop=True)"
   ]
  },
  {
   "cell_type": "code",
   "execution_count": 9,
   "id": "338e938b-6a7e-4efa-9aca-8b4b09643974",
   "metadata": {
    "collapsed": true,
    "jupyter": {
     "outputs_hidden": true
    }
   },
   "outputs": [
    {
     "name": "stdout",
     "output_type": "stream",
     "text": [
      "Бот запущен!\n",
      "Получено сообщение: Rt\n",
      "Получено сообщение: /start\n",
      "Получено сообщение: Fg\n",
      "Получено сообщение: Ghjb\n",
      "Получено сообщение: Fg\n"
     ]
    },
    {
     "ename": "ConnectionError",
     "evalue": "('Connection aborted.', RemoteDisconnected('Remote end closed connection without response'))",
     "output_type": "error",
     "traceback": [
      "\u001b[1;31m---------------------------------------------------------------------------\u001b[0m",
      "\u001b[1;31mRemoteDisconnected\u001b[0m                        Traceback (most recent call last)",
      "File \u001b[1;32mC:\\ProgramData\\anaconda3\\Lib\\site-packages\\urllib3\\connectionpool.py:789\u001b[0m, in \u001b[0;36mHTTPConnectionPool.urlopen\u001b[1;34m(self, method, url, body, headers, retries, redirect, assert_same_host, timeout, pool_timeout, release_conn, chunked, body_pos, preload_content, decode_content, **response_kw)\u001b[0m\n\u001b[0;32m    788\u001b[0m \u001b[38;5;66;03m# Make the request on the HTTPConnection object\u001b[39;00m\n\u001b[1;32m--> 789\u001b[0m response \u001b[38;5;241m=\u001b[39m \u001b[38;5;28mself\u001b[39m\u001b[38;5;241m.\u001b[39m_make_request(\n\u001b[0;32m    790\u001b[0m     conn,\n\u001b[0;32m    791\u001b[0m     method,\n\u001b[0;32m    792\u001b[0m     url,\n\u001b[0;32m    793\u001b[0m     timeout\u001b[38;5;241m=\u001b[39mtimeout_obj,\n\u001b[0;32m    794\u001b[0m     body\u001b[38;5;241m=\u001b[39mbody,\n\u001b[0;32m    795\u001b[0m     headers\u001b[38;5;241m=\u001b[39mheaders,\n\u001b[0;32m    796\u001b[0m     chunked\u001b[38;5;241m=\u001b[39mchunked,\n\u001b[0;32m    797\u001b[0m     retries\u001b[38;5;241m=\u001b[39mretries,\n\u001b[0;32m    798\u001b[0m     response_conn\u001b[38;5;241m=\u001b[39mresponse_conn,\n\u001b[0;32m    799\u001b[0m     preload_content\u001b[38;5;241m=\u001b[39mpreload_content,\n\u001b[0;32m    800\u001b[0m     decode_content\u001b[38;5;241m=\u001b[39mdecode_content,\n\u001b[0;32m    801\u001b[0m     \u001b[38;5;241m*\u001b[39m\u001b[38;5;241m*\u001b[39mresponse_kw,\n\u001b[0;32m    802\u001b[0m )\n\u001b[0;32m    804\u001b[0m \u001b[38;5;66;03m# Everything went great!\u001b[39;00m\n",
      "File \u001b[1;32mC:\\ProgramData\\anaconda3\\Lib\\site-packages\\urllib3\\connectionpool.py:536\u001b[0m, in \u001b[0;36mHTTPConnectionPool._make_request\u001b[1;34m(self, conn, method, url, body, headers, retries, timeout, chunked, response_conn, preload_content, decode_content, enforce_content_length)\u001b[0m\n\u001b[0;32m    535\u001b[0m \u001b[38;5;28;01mtry\u001b[39;00m:\n\u001b[1;32m--> 536\u001b[0m     response \u001b[38;5;241m=\u001b[39m conn\u001b[38;5;241m.\u001b[39mgetresponse()\n\u001b[0;32m    537\u001b[0m \u001b[38;5;28;01mexcept\u001b[39;00m (BaseSSLError, \u001b[38;5;167;01mOSError\u001b[39;00m) \u001b[38;5;28;01mas\u001b[39;00m e:\n",
      "File \u001b[1;32mC:\\ProgramData\\anaconda3\\Lib\\site-packages\\urllib3\\connection.py:507\u001b[0m, in \u001b[0;36mHTTPConnection.getresponse\u001b[1;34m(self)\u001b[0m\n\u001b[0;32m    506\u001b[0m \u001b[38;5;66;03m# Get the response from http.client.HTTPConnection\u001b[39;00m\n\u001b[1;32m--> 507\u001b[0m httplib_response \u001b[38;5;241m=\u001b[39m \u001b[38;5;28msuper\u001b[39m()\u001b[38;5;241m.\u001b[39mgetresponse()\n\u001b[0;32m    509\u001b[0m \u001b[38;5;28;01mtry\u001b[39;00m:\n",
      "File \u001b[1;32mC:\\ProgramData\\anaconda3\\Lib\\http\\client.py:1428\u001b[0m, in \u001b[0;36mHTTPConnection.getresponse\u001b[1;34m(self)\u001b[0m\n\u001b[0;32m   1427\u001b[0m \u001b[38;5;28;01mtry\u001b[39;00m:\n\u001b[1;32m-> 1428\u001b[0m     response\u001b[38;5;241m.\u001b[39mbegin()\n\u001b[0;32m   1429\u001b[0m \u001b[38;5;28;01mexcept\u001b[39;00m \u001b[38;5;167;01mConnectionError\u001b[39;00m:\n",
      "File \u001b[1;32mC:\\ProgramData\\anaconda3\\Lib\\http\\client.py:331\u001b[0m, in \u001b[0;36mHTTPResponse.begin\u001b[1;34m(self)\u001b[0m\n\u001b[0;32m    330\u001b[0m \u001b[38;5;28;01mwhile\u001b[39;00m \u001b[38;5;28;01mTrue\u001b[39;00m:\n\u001b[1;32m--> 331\u001b[0m     version, status, reason \u001b[38;5;241m=\u001b[39m \u001b[38;5;28mself\u001b[39m\u001b[38;5;241m.\u001b[39m_read_status()\n\u001b[0;32m    332\u001b[0m     \u001b[38;5;28;01mif\u001b[39;00m status \u001b[38;5;241m!=\u001b[39m CONTINUE:\n",
      "File \u001b[1;32mC:\\ProgramData\\anaconda3\\Lib\\http\\client.py:300\u001b[0m, in \u001b[0;36mHTTPResponse._read_status\u001b[1;34m(self)\u001b[0m\n\u001b[0;32m    297\u001b[0m \u001b[38;5;28;01mif\u001b[39;00m \u001b[38;5;129;01mnot\u001b[39;00m line:\n\u001b[0;32m    298\u001b[0m     \u001b[38;5;66;03m# Presumably, the server closed the connection before\u001b[39;00m\n\u001b[0;32m    299\u001b[0m     \u001b[38;5;66;03m# sending a valid response.\u001b[39;00m\n\u001b[1;32m--> 300\u001b[0m     \u001b[38;5;28;01mraise\u001b[39;00m RemoteDisconnected(\u001b[38;5;124m\"\u001b[39m\u001b[38;5;124mRemote end closed connection without\u001b[39m\u001b[38;5;124m\"\u001b[39m\n\u001b[0;32m    301\u001b[0m                              \u001b[38;5;124m\"\u001b[39m\u001b[38;5;124m response\u001b[39m\u001b[38;5;124m\"\u001b[39m)\n\u001b[0;32m    302\u001b[0m \u001b[38;5;28;01mtry\u001b[39;00m:\n",
      "\u001b[1;31mRemoteDisconnected\u001b[0m: Remote end closed connection without response",
      "\nDuring handling of the above exception, another exception occurred:\n",
      "\u001b[1;31mProtocolError\u001b[0m                             Traceback (most recent call last)",
      "File \u001b[1;32mC:\\ProgramData\\anaconda3\\Lib\\site-packages\\requests\\adapters.py:667\u001b[0m, in \u001b[0;36mHTTPAdapter.send\u001b[1;34m(self, request, stream, timeout, verify, cert, proxies)\u001b[0m\n\u001b[0;32m    666\u001b[0m \u001b[38;5;28;01mtry\u001b[39;00m:\n\u001b[1;32m--> 667\u001b[0m     resp \u001b[38;5;241m=\u001b[39m conn\u001b[38;5;241m.\u001b[39murlopen(\n\u001b[0;32m    668\u001b[0m         method\u001b[38;5;241m=\u001b[39mrequest\u001b[38;5;241m.\u001b[39mmethod,\n\u001b[0;32m    669\u001b[0m         url\u001b[38;5;241m=\u001b[39murl,\n\u001b[0;32m    670\u001b[0m         body\u001b[38;5;241m=\u001b[39mrequest\u001b[38;5;241m.\u001b[39mbody,\n\u001b[0;32m    671\u001b[0m         headers\u001b[38;5;241m=\u001b[39mrequest\u001b[38;5;241m.\u001b[39mheaders,\n\u001b[0;32m    672\u001b[0m         redirect\u001b[38;5;241m=\u001b[39m\u001b[38;5;28;01mFalse\u001b[39;00m,\n\u001b[0;32m    673\u001b[0m         assert_same_host\u001b[38;5;241m=\u001b[39m\u001b[38;5;28;01mFalse\u001b[39;00m,\n\u001b[0;32m    674\u001b[0m         preload_content\u001b[38;5;241m=\u001b[39m\u001b[38;5;28;01mFalse\u001b[39;00m,\n\u001b[0;32m    675\u001b[0m         decode_content\u001b[38;5;241m=\u001b[39m\u001b[38;5;28;01mFalse\u001b[39;00m,\n\u001b[0;32m    676\u001b[0m         retries\u001b[38;5;241m=\u001b[39m\u001b[38;5;28mself\u001b[39m\u001b[38;5;241m.\u001b[39mmax_retries,\n\u001b[0;32m    677\u001b[0m         timeout\u001b[38;5;241m=\u001b[39mtimeout,\n\u001b[0;32m    678\u001b[0m         chunked\u001b[38;5;241m=\u001b[39mchunked,\n\u001b[0;32m    679\u001b[0m     )\n\u001b[0;32m    681\u001b[0m \u001b[38;5;28;01mexcept\u001b[39;00m (ProtocolError, \u001b[38;5;167;01mOSError\u001b[39;00m) \u001b[38;5;28;01mas\u001b[39;00m err:\n",
      "File \u001b[1;32mC:\\ProgramData\\anaconda3\\Lib\\site-packages\\urllib3\\connectionpool.py:843\u001b[0m, in \u001b[0;36mHTTPConnectionPool.urlopen\u001b[1;34m(self, method, url, body, headers, retries, redirect, assert_same_host, timeout, pool_timeout, release_conn, chunked, body_pos, preload_content, decode_content, **response_kw)\u001b[0m\n\u001b[0;32m    841\u001b[0m     new_e \u001b[38;5;241m=\u001b[39m ProtocolError(\u001b[38;5;124m\"\u001b[39m\u001b[38;5;124mConnection aborted.\u001b[39m\u001b[38;5;124m\"\u001b[39m, new_e)\n\u001b[1;32m--> 843\u001b[0m retries \u001b[38;5;241m=\u001b[39m retries\u001b[38;5;241m.\u001b[39mincrement(\n\u001b[0;32m    844\u001b[0m     method, url, error\u001b[38;5;241m=\u001b[39mnew_e, _pool\u001b[38;5;241m=\u001b[39m\u001b[38;5;28mself\u001b[39m, _stacktrace\u001b[38;5;241m=\u001b[39msys\u001b[38;5;241m.\u001b[39mexc_info()[\u001b[38;5;241m2\u001b[39m]\n\u001b[0;32m    845\u001b[0m )\n\u001b[0;32m    846\u001b[0m retries\u001b[38;5;241m.\u001b[39msleep()\n",
      "File \u001b[1;32mC:\\ProgramData\\anaconda3\\Lib\\site-packages\\urllib3\\util\\retry.py:474\u001b[0m, in \u001b[0;36mRetry.increment\u001b[1;34m(self, method, url, response, error, _pool, _stacktrace)\u001b[0m\n\u001b[0;32m    473\u001b[0m \u001b[38;5;28;01mif\u001b[39;00m read \u001b[38;5;129;01mis\u001b[39;00m \u001b[38;5;28;01mFalse\u001b[39;00m \u001b[38;5;129;01mor\u001b[39;00m method \u001b[38;5;129;01mis\u001b[39;00m \u001b[38;5;28;01mNone\u001b[39;00m \u001b[38;5;129;01mor\u001b[39;00m \u001b[38;5;129;01mnot\u001b[39;00m \u001b[38;5;28mself\u001b[39m\u001b[38;5;241m.\u001b[39m_is_method_retryable(method):\n\u001b[1;32m--> 474\u001b[0m     \u001b[38;5;28;01mraise\u001b[39;00m reraise(\u001b[38;5;28mtype\u001b[39m(error), error, _stacktrace)\n\u001b[0;32m    475\u001b[0m \u001b[38;5;28;01melif\u001b[39;00m read \u001b[38;5;129;01mis\u001b[39;00m \u001b[38;5;129;01mnot\u001b[39;00m \u001b[38;5;28;01mNone\u001b[39;00m:\n",
      "File \u001b[1;32mC:\\ProgramData\\anaconda3\\Lib\\site-packages\\urllib3\\util\\util.py:38\u001b[0m, in \u001b[0;36mreraise\u001b[1;34m(tp, value, tb)\u001b[0m\n\u001b[0;32m     37\u001b[0m \u001b[38;5;28;01mif\u001b[39;00m value\u001b[38;5;241m.\u001b[39m__traceback__ \u001b[38;5;129;01mis\u001b[39;00m \u001b[38;5;129;01mnot\u001b[39;00m tb:\n\u001b[1;32m---> 38\u001b[0m     \u001b[38;5;28;01mraise\u001b[39;00m value\u001b[38;5;241m.\u001b[39mwith_traceback(tb)\n\u001b[0;32m     39\u001b[0m \u001b[38;5;28;01mraise\u001b[39;00m value\n",
      "File \u001b[1;32mC:\\ProgramData\\anaconda3\\Lib\\site-packages\\urllib3\\connectionpool.py:789\u001b[0m, in \u001b[0;36mHTTPConnectionPool.urlopen\u001b[1;34m(self, method, url, body, headers, retries, redirect, assert_same_host, timeout, pool_timeout, release_conn, chunked, body_pos, preload_content, decode_content, **response_kw)\u001b[0m\n\u001b[0;32m    788\u001b[0m \u001b[38;5;66;03m# Make the request on the HTTPConnection object\u001b[39;00m\n\u001b[1;32m--> 789\u001b[0m response \u001b[38;5;241m=\u001b[39m \u001b[38;5;28mself\u001b[39m\u001b[38;5;241m.\u001b[39m_make_request(\n\u001b[0;32m    790\u001b[0m     conn,\n\u001b[0;32m    791\u001b[0m     method,\n\u001b[0;32m    792\u001b[0m     url,\n\u001b[0;32m    793\u001b[0m     timeout\u001b[38;5;241m=\u001b[39mtimeout_obj,\n\u001b[0;32m    794\u001b[0m     body\u001b[38;5;241m=\u001b[39mbody,\n\u001b[0;32m    795\u001b[0m     headers\u001b[38;5;241m=\u001b[39mheaders,\n\u001b[0;32m    796\u001b[0m     chunked\u001b[38;5;241m=\u001b[39mchunked,\n\u001b[0;32m    797\u001b[0m     retries\u001b[38;5;241m=\u001b[39mretries,\n\u001b[0;32m    798\u001b[0m     response_conn\u001b[38;5;241m=\u001b[39mresponse_conn,\n\u001b[0;32m    799\u001b[0m     preload_content\u001b[38;5;241m=\u001b[39mpreload_content,\n\u001b[0;32m    800\u001b[0m     decode_content\u001b[38;5;241m=\u001b[39mdecode_content,\n\u001b[0;32m    801\u001b[0m     \u001b[38;5;241m*\u001b[39m\u001b[38;5;241m*\u001b[39mresponse_kw,\n\u001b[0;32m    802\u001b[0m )\n\u001b[0;32m    804\u001b[0m \u001b[38;5;66;03m# Everything went great!\u001b[39;00m\n",
      "File \u001b[1;32mC:\\ProgramData\\anaconda3\\Lib\\site-packages\\urllib3\\connectionpool.py:536\u001b[0m, in \u001b[0;36mHTTPConnectionPool._make_request\u001b[1;34m(self, conn, method, url, body, headers, retries, timeout, chunked, response_conn, preload_content, decode_content, enforce_content_length)\u001b[0m\n\u001b[0;32m    535\u001b[0m \u001b[38;5;28;01mtry\u001b[39;00m:\n\u001b[1;32m--> 536\u001b[0m     response \u001b[38;5;241m=\u001b[39m conn\u001b[38;5;241m.\u001b[39mgetresponse()\n\u001b[0;32m    537\u001b[0m \u001b[38;5;28;01mexcept\u001b[39;00m (BaseSSLError, \u001b[38;5;167;01mOSError\u001b[39;00m) \u001b[38;5;28;01mas\u001b[39;00m e:\n",
      "File \u001b[1;32mC:\\ProgramData\\anaconda3\\Lib\\site-packages\\urllib3\\connection.py:507\u001b[0m, in \u001b[0;36mHTTPConnection.getresponse\u001b[1;34m(self)\u001b[0m\n\u001b[0;32m    506\u001b[0m \u001b[38;5;66;03m# Get the response from http.client.HTTPConnection\u001b[39;00m\n\u001b[1;32m--> 507\u001b[0m httplib_response \u001b[38;5;241m=\u001b[39m \u001b[38;5;28msuper\u001b[39m()\u001b[38;5;241m.\u001b[39mgetresponse()\n\u001b[0;32m    509\u001b[0m \u001b[38;5;28;01mtry\u001b[39;00m:\n",
      "File \u001b[1;32mC:\\ProgramData\\anaconda3\\Lib\\http\\client.py:1428\u001b[0m, in \u001b[0;36mHTTPConnection.getresponse\u001b[1;34m(self)\u001b[0m\n\u001b[0;32m   1427\u001b[0m \u001b[38;5;28;01mtry\u001b[39;00m:\n\u001b[1;32m-> 1428\u001b[0m     response\u001b[38;5;241m.\u001b[39mbegin()\n\u001b[0;32m   1429\u001b[0m \u001b[38;5;28;01mexcept\u001b[39;00m \u001b[38;5;167;01mConnectionError\u001b[39;00m:\n",
      "File \u001b[1;32mC:\\ProgramData\\anaconda3\\Lib\\http\\client.py:331\u001b[0m, in \u001b[0;36mHTTPResponse.begin\u001b[1;34m(self)\u001b[0m\n\u001b[0;32m    330\u001b[0m \u001b[38;5;28;01mwhile\u001b[39;00m \u001b[38;5;28;01mTrue\u001b[39;00m:\n\u001b[1;32m--> 331\u001b[0m     version, status, reason \u001b[38;5;241m=\u001b[39m \u001b[38;5;28mself\u001b[39m\u001b[38;5;241m.\u001b[39m_read_status()\n\u001b[0;32m    332\u001b[0m     \u001b[38;5;28;01mif\u001b[39;00m status \u001b[38;5;241m!=\u001b[39m CONTINUE:\n",
      "File \u001b[1;32mC:\\ProgramData\\anaconda3\\Lib\\http\\client.py:300\u001b[0m, in \u001b[0;36mHTTPResponse._read_status\u001b[1;34m(self)\u001b[0m\n\u001b[0;32m    297\u001b[0m \u001b[38;5;28;01mif\u001b[39;00m \u001b[38;5;129;01mnot\u001b[39;00m line:\n\u001b[0;32m    298\u001b[0m     \u001b[38;5;66;03m# Presumably, the server closed the connection before\u001b[39;00m\n\u001b[0;32m    299\u001b[0m     \u001b[38;5;66;03m# sending a valid response.\u001b[39;00m\n\u001b[1;32m--> 300\u001b[0m     \u001b[38;5;28;01mraise\u001b[39;00m RemoteDisconnected(\u001b[38;5;124m\"\u001b[39m\u001b[38;5;124mRemote end closed connection without\u001b[39m\u001b[38;5;124m\"\u001b[39m\n\u001b[0;32m    301\u001b[0m                              \u001b[38;5;124m\"\u001b[39m\u001b[38;5;124m response\u001b[39m\u001b[38;5;124m\"\u001b[39m)\n\u001b[0;32m    302\u001b[0m \u001b[38;5;28;01mtry\u001b[39;00m:\n",
      "\u001b[1;31mProtocolError\u001b[0m: ('Connection aborted.', RemoteDisconnected('Remote end closed connection without response'))",
      "\nDuring handling of the above exception, another exception occurred:\n",
      "\u001b[1;31mConnectionError\u001b[0m                           Traceback (most recent call last)",
      "Cell \u001b[1;32mIn[9], line 28\u001b[0m\n\u001b[0;32m     25\u001b[0m \u001b[38;5;66;03m# bot.infinity_polling()\u001b[39;00m\n\u001b[0;32m     26\u001b[0m \u001b[38;5;66;03m# bot.polling()\u001b[39;00m\n\u001b[0;32m     27\u001b[0m \u001b[38;5;28mprint\u001b[39m(\u001b[38;5;124m\"\u001b[39m\u001b[38;5;124mБот запущен!\u001b[39m\u001b[38;5;124m\"\u001b[39m)\n\u001b[1;32m---> 28\u001b[0m bot\u001b[38;5;241m.\u001b[39mpolling(none_stop\u001b[38;5;241m=\u001b[39m\u001b[38;5;28;01mTrue\u001b[39;00m)\n",
      "File \u001b[1;32m~\\AppData\\Roaming\\Python\\Python312\\site-packages\\telebot\\__init__.py:1198\u001b[0m, in \u001b[0;36mTeleBot.polling\u001b[1;34m(self, non_stop, skip_pending, interval, timeout, long_polling_timeout, logger_level, allowed_updates, none_stop, restart_on_change, path_to_watch)\u001b[0m\n\u001b[0;32m   1195\u001b[0m logger\u001b[38;5;241m.\u001b[39minfo(\u001b[38;5;124m'\u001b[39m\u001b[38;5;124mStarting your bot with username: [@\u001b[39m\u001b[38;5;132;01m%s\u001b[39;00m\u001b[38;5;124m]\u001b[39m\u001b[38;5;124m'\u001b[39m, \u001b[38;5;28mself\u001b[39m\u001b[38;5;241m.\u001b[39muser\u001b[38;5;241m.\u001b[39musername)\n\u001b[0;32m   1197\u001b[0m \u001b[38;5;28;01mif\u001b[39;00m \u001b[38;5;28mself\u001b[39m\u001b[38;5;241m.\u001b[39mthreaded:\n\u001b[1;32m-> 1198\u001b[0m     \u001b[38;5;28mself\u001b[39m\u001b[38;5;241m.\u001b[39m__threaded_polling(non_stop\u001b[38;5;241m=\u001b[39mnon_stop, interval\u001b[38;5;241m=\u001b[39minterval, timeout\u001b[38;5;241m=\u001b[39mtimeout, long_polling_timeout\u001b[38;5;241m=\u001b[39mlong_polling_timeout,\n\u001b[0;32m   1199\u001b[0m                             logger_level\u001b[38;5;241m=\u001b[39mlogger_level, allowed_updates\u001b[38;5;241m=\u001b[39mallowed_updates)\n\u001b[0;32m   1200\u001b[0m \u001b[38;5;28;01melse\u001b[39;00m:\n\u001b[0;32m   1201\u001b[0m     \u001b[38;5;28mself\u001b[39m\u001b[38;5;241m.\u001b[39m__non_threaded_polling(non_stop\u001b[38;5;241m=\u001b[39mnon_stop, interval\u001b[38;5;241m=\u001b[39minterval, timeout\u001b[38;5;241m=\u001b[39mtimeout, long_polling_timeout\u001b[38;5;241m=\u001b[39mlong_polling_timeout,\n\u001b[0;32m   1202\u001b[0m                                 logger_level\u001b[38;5;241m=\u001b[39mlogger_level, allowed_updates\u001b[38;5;241m=\u001b[39mallowed_updates)\n",
      "File \u001b[1;32m~\\AppData\\Roaming\\Python\\Python312\\site-packages\\telebot\\__init__.py:1273\u001b[0m, in \u001b[0;36mTeleBot.__threaded_polling\u001b[1;34m(self, non_stop, interval, timeout, long_polling_timeout, logger_level, allowed_updates)\u001b[0m\n\u001b[0;32m   1271\u001b[0m     polling_thread\u001b[38;5;241m.\u001b[39mclear_exceptions()   \u001b[38;5;66;03m#*\u001b[39;00m\n\u001b[0;32m   1272\u001b[0m     \u001b[38;5;28mself\u001b[39m\u001b[38;5;241m.\u001b[39mworker_pool\u001b[38;5;241m.\u001b[39mclear_exceptions() \u001b[38;5;66;03m#*\u001b[39;00m\n\u001b[1;32m-> 1273\u001b[0m     \u001b[38;5;28;01mraise\u001b[39;00m e\n\u001b[0;32m   1274\u001b[0m \u001b[38;5;28;01melse\u001b[39;00m:\n\u001b[0;32m   1275\u001b[0m     polling_thread\u001b[38;5;241m.\u001b[39mclear_exceptions()\n",
      "File \u001b[1;32m~\\AppData\\Roaming\\Python\\Python312\\site-packages\\telebot\\__init__.py:1235\u001b[0m, in \u001b[0;36mTeleBot.__threaded_polling\u001b[1;34m(self, non_stop, interval, timeout, long_polling_timeout, logger_level, allowed_updates)\u001b[0m\n\u001b[0;32m   1233\u001b[0m     or_event\u001b[38;5;241m.\u001b[39mwait()  \u001b[38;5;66;03m# wait for polling thread finish, polling thread error or thread pool error\u001b[39;00m\n\u001b[0;32m   1234\u001b[0m     polling_thread\u001b[38;5;241m.\u001b[39mraise_exceptions()\n\u001b[1;32m-> 1235\u001b[0m     \u001b[38;5;28mself\u001b[39m\u001b[38;5;241m.\u001b[39mworker_pool\u001b[38;5;241m.\u001b[39mraise_exceptions()\n\u001b[0;32m   1236\u001b[0m     error_interval \u001b[38;5;241m=\u001b[39m \u001b[38;5;241m0.25\u001b[39m\n\u001b[0;32m   1237\u001b[0m \u001b[38;5;28;01mexcept\u001b[39;00m apihelper\u001b[38;5;241m.\u001b[39mApiException \u001b[38;5;28;01mas\u001b[39;00m e:\n",
      "File \u001b[1;32m~\\AppData\\Roaming\\Python\\Python312\\site-packages\\telebot\\util.py:150\u001b[0m, in \u001b[0;36mThreadPool.raise_exceptions\u001b[1;34m(self)\u001b[0m\n\u001b[0;32m    148\u001b[0m \u001b[38;5;28;01mdef\u001b[39;00m \u001b[38;5;21mraise_exceptions\u001b[39m(\u001b[38;5;28mself\u001b[39m):\n\u001b[0;32m    149\u001b[0m     \u001b[38;5;28;01mif\u001b[39;00m \u001b[38;5;28mself\u001b[39m\u001b[38;5;241m.\u001b[39mexception_event\u001b[38;5;241m.\u001b[39mis_set():\n\u001b[1;32m--> 150\u001b[0m         \u001b[38;5;28;01mraise\u001b[39;00m \u001b[38;5;28mself\u001b[39m\u001b[38;5;241m.\u001b[39mexception_info\n",
      "File \u001b[1;32m~\\AppData\\Roaming\\Python\\Python312\\site-packages\\telebot\\util.py:93\u001b[0m, in \u001b[0;36mWorkerThread.run\u001b[1;34m(self)\u001b[0m\n\u001b[0;32m     90\u001b[0m logger\u001b[38;5;241m.\u001b[39mdebug(\u001b[38;5;124m\"\u001b[39m\u001b[38;5;124mReceived task\u001b[39m\u001b[38;5;124m\"\u001b[39m)\n\u001b[0;32m     91\u001b[0m \u001b[38;5;28mself\u001b[39m\u001b[38;5;241m.\u001b[39mreceived_task_event\u001b[38;5;241m.\u001b[39mset()\n\u001b[1;32m---> 93\u001b[0m task(\u001b[38;5;241m*\u001b[39margs, \u001b[38;5;241m*\u001b[39m\u001b[38;5;241m*\u001b[39mkwargs)\n\u001b[0;32m     94\u001b[0m logger\u001b[38;5;241m.\u001b[39mdebug(\u001b[38;5;124m\"\u001b[39m\u001b[38;5;124mTask complete\u001b[39m\u001b[38;5;124m\"\u001b[39m)\n\u001b[0;32m     95\u001b[0m \u001b[38;5;28mself\u001b[39m\u001b[38;5;241m.\u001b[39mdone_event\u001b[38;5;241m.\u001b[39mset()\n",
      "File \u001b[1;32m~\\AppData\\Roaming\\Python\\Python312\\site-packages\\telebot\\__init__.py:9233\u001b[0m, in \u001b[0;36mTeleBot._run_middlewares_and_handler\u001b[1;34m(self, message, handlers, middlewares, update_type)\u001b[0m\n\u001b[0;32m   9231\u001b[0m     result \u001b[38;5;241m=\u001b[39m handler[\u001b[38;5;124m'\u001b[39m\u001b[38;5;124mfunction\u001b[39m\u001b[38;5;124m'\u001b[39m](message, bot\u001b[38;5;241m=\u001b[39m\u001b[38;5;28mself\u001b[39m)\n\u001b[0;32m   9232\u001b[0m \u001b[38;5;28;01melse\u001b[39;00m:\n\u001b[1;32m-> 9233\u001b[0m     result \u001b[38;5;241m=\u001b[39m handler[\u001b[38;5;124m'\u001b[39m\u001b[38;5;124mfunction\u001b[39m\u001b[38;5;124m'\u001b[39m](message)\n\u001b[0;32m   9234\u001b[0m \u001b[38;5;28;01mif\u001b[39;00m \u001b[38;5;129;01mnot\u001b[39;00m \u001b[38;5;28misinstance\u001b[39m(result, ContinueHandling):\n\u001b[0;32m   9235\u001b[0m     \u001b[38;5;28;01mbreak\u001b[39;00m\n",
      "Cell \u001b[1;32mIn[9], line 22\u001b[0m, in \u001b[0;36mecho_all\u001b[1;34m(message)\u001b[0m\n\u001b[0;32m     19\u001b[0m \u001b[38;5;129m@bot\u001b[39m\u001b[38;5;241m.\u001b[39mmessage_handler(func\u001b[38;5;241m=\u001b[39m\u001b[38;5;28;01mlambda\u001b[39;00m message: \u001b[38;5;28;01mTrue\u001b[39;00m)\n\u001b[0;32m     20\u001b[0m \u001b[38;5;28;01mdef\u001b[39;00m \u001b[38;5;21mecho_all\u001b[39m(message):\n\u001b[0;32m     21\u001b[0m     \u001b[38;5;28mprint\u001b[39m(\u001b[38;5;124mf\u001b[39m\u001b[38;5;124m\"\u001b[39m\u001b[38;5;124mПолучено сообщение: \u001b[39m\u001b[38;5;132;01m{\u001b[39;00mmessage\u001b[38;5;241m.\u001b[39mtext\u001b[38;5;132;01m}\u001b[39;00m\u001b[38;5;124m\"\u001b[39m)\n\u001b[1;32m---> 22\u001b[0m     bot\u001b[38;5;241m.\u001b[39mreply_to(message, message\u001b[38;5;241m.\u001b[39mtext)\n",
      "File \u001b[1;32m~\\AppData\\Roaming\\Python\\Python312\\site-packages\\telebot\\__init__.py:5949\u001b[0m, in \u001b[0;36mTeleBot.reply_to\u001b[1;34m(self, message, text, **kwargs)\u001b[0m\n\u001b[0;32m   5946\u001b[0m \u001b[38;5;28;01mif\u001b[39;00m \u001b[38;5;129;01mnot\u001b[39;00m reply_parameters\u001b[38;5;241m.\u001b[39mmessage_id:\n\u001b[0;32m   5947\u001b[0m     reply_parameters\u001b[38;5;241m.\u001b[39mmessage_id \u001b[38;5;241m=\u001b[39m message\u001b[38;5;241m.\u001b[39mmessage_id\n\u001b[1;32m-> 5949\u001b[0m \u001b[38;5;28;01mreturn\u001b[39;00m \u001b[38;5;28mself\u001b[39m\u001b[38;5;241m.\u001b[39msend_message(message\u001b[38;5;241m.\u001b[39mchat\u001b[38;5;241m.\u001b[39mid, text, reply_parameters\u001b[38;5;241m=\u001b[39mreply_parameters, \u001b[38;5;241m*\u001b[39m\u001b[38;5;241m*\u001b[39mkwargs)\n",
      "File \u001b[1;32m~\\AppData\\Roaming\\Python\\Python312\\site-packages\\telebot\\__init__.py:1800\u001b[0m, in \u001b[0;36mTeleBot.send_message\u001b[1;34m(self, chat_id, text, parse_mode, entities, disable_web_page_preview, disable_notification, protect_content, reply_to_message_id, allow_sending_without_reply, reply_markup, timeout, message_thread_id, reply_parameters, link_preview_options, business_connection_id, message_effect_id, allow_paid_broadcast)\u001b[0m\n\u001b[0;32m   1795\u001b[0m \u001b[38;5;28;01mif\u001b[39;00m \u001b[38;5;129;01mnot\u001b[39;00m link_preview_options \u001b[38;5;129;01mand\u001b[39;00m \u001b[38;5;28mself\u001b[39m\u001b[38;5;241m.\u001b[39mdisable_web_page_preview:\n\u001b[0;32m   1796\u001b[0m     \u001b[38;5;66;03m# create a LinkPreviewOptions object\u001b[39;00m\n\u001b[0;32m   1797\u001b[0m     link_preview_options \u001b[38;5;241m=\u001b[39m types\u001b[38;5;241m.\u001b[39mLinkPreviewOptions(is_disabled\u001b[38;5;241m=\u001b[39m\u001b[38;5;28mself\u001b[39m\u001b[38;5;241m.\u001b[39mdisable_web_page_preview)\n\u001b[0;32m   1799\u001b[0m \u001b[38;5;28;01mreturn\u001b[39;00m types\u001b[38;5;241m.\u001b[39mMessage\u001b[38;5;241m.\u001b[39mde_json(\n\u001b[1;32m-> 1800\u001b[0m     apihelper\u001b[38;5;241m.\u001b[39msend_message(\n\u001b[0;32m   1801\u001b[0m         \u001b[38;5;28mself\u001b[39m\u001b[38;5;241m.\u001b[39mtoken, chat_id, text,\n\u001b[0;32m   1802\u001b[0m         reply_markup\u001b[38;5;241m=\u001b[39mreply_markup, parse_mode\u001b[38;5;241m=\u001b[39mparse_mode, disable_notification\u001b[38;5;241m=\u001b[39mdisable_notification,\n\u001b[0;32m   1803\u001b[0m         timeout\u001b[38;5;241m=\u001b[39mtimeout, entities\u001b[38;5;241m=\u001b[39mentities, protect_content\u001b[38;5;241m=\u001b[39mprotect_content, message_thread_id\u001b[38;5;241m=\u001b[39mmessage_thread_id,\n\u001b[0;32m   1804\u001b[0m         reply_parameters\u001b[38;5;241m=\u001b[39mreply_parameters, link_preview_options\u001b[38;5;241m=\u001b[39mlink_preview_options, business_connection_id\u001b[38;5;241m=\u001b[39mbusiness_connection_id,\n\u001b[0;32m   1805\u001b[0m         message_effect_id\u001b[38;5;241m=\u001b[39mmessage_effect_id, allow_paid_broadcast\u001b[38;5;241m=\u001b[39mallow_paid_broadcast))\n",
      "File \u001b[1;32m~\\AppData\\Roaming\\Python\\Python312\\site-packages\\telebot\\apihelper.py:275\u001b[0m, in \u001b[0;36msend_message\u001b[1;34m(token, chat_id, text, reply_markup, parse_mode, disable_notification, timeout, entities, protect_content, message_thread_id, reply_parameters, link_preview_options, business_connection_id, message_effect_id, allow_paid_broadcast)\u001b[0m\n\u001b[0;32m    273\u001b[0m \u001b[38;5;28;01mif\u001b[39;00m allow_paid_broadcast \u001b[38;5;129;01mis\u001b[39;00m \u001b[38;5;129;01mnot\u001b[39;00m \u001b[38;5;28;01mNone\u001b[39;00m:\n\u001b[0;32m    274\u001b[0m     payload[\u001b[38;5;124m'\u001b[39m\u001b[38;5;124mallow_paid_broadcast\u001b[39m\u001b[38;5;124m'\u001b[39m] \u001b[38;5;241m=\u001b[39m allow_paid_broadcast\n\u001b[1;32m--> 275\u001b[0m \u001b[38;5;28;01mreturn\u001b[39;00m _make_request(token, method_url, params\u001b[38;5;241m=\u001b[39mpayload, method\u001b[38;5;241m=\u001b[39m\u001b[38;5;124m'\u001b[39m\u001b[38;5;124mpost\u001b[39m\u001b[38;5;124m'\u001b[39m)\n",
      "File \u001b[1;32m~\\AppData\\Roaming\\Python\\Python312\\site-packages\\telebot\\apihelper.py:162\u001b[0m, in \u001b[0;36m_make_request\u001b[1;34m(token, method_name, method, params, files)\u001b[0m\n\u001b[0;32m    158\u001b[0m     result \u001b[38;5;241m=\u001b[39m http\u001b[38;5;241m.\u001b[39mrequest(\n\u001b[0;32m    159\u001b[0m         method, request_url, params\u001b[38;5;241m=\u001b[39mparams, files\u001b[38;5;241m=\u001b[39mfiles,\n\u001b[0;32m    160\u001b[0m         timeout\u001b[38;5;241m=\u001b[39m(connect_timeout, read_timeout), proxies\u001b[38;5;241m=\u001b[39mproxy)\n\u001b[0;32m    161\u001b[0m \u001b[38;5;28;01melse\u001b[39;00m:\n\u001b[1;32m--> 162\u001b[0m     result \u001b[38;5;241m=\u001b[39m _get_req_session()\u001b[38;5;241m.\u001b[39mrequest(\n\u001b[0;32m    163\u001b[0m         method, request_url, params\u001b[38;5;241m=\u001b[39mparams, files\u001b[38;5;241m=\u001b[39mfiles,\n\u001b[0;32m    164\u001b[0m         timeout\u001b[38;5;241m=\u001b[39m(connect_timeout, read_timeout), proxies\u001b[38;5;241m=\u001b[39mproxy)\n\u001b[0;32m    166\u001b[0m logger\u001b[38;5;241m.\u001b[39mdebug(\u001b[38;5;124m\"\u001b[39m\u001b[38;5;124mThe server returned: \u001b[39m\u001b[38;5;124m'\u001b[39m\u001b[38;5;132;01m{0}\u001b[39;00m\u001b[38;5;124m'\u001b[39m\u001b[38;5;124m\"\u001b[39m\u001b[38;5;241m.\u001b[39mformat(result\u001b[38;5;241m.\u001b[39mtext\u001b[38;5;241m.\u001b[39mencode(\u001b[38;5;124m'\u001b[39m\u001b[38;5;124mutf8\u001b[39m\u001b[38;5;124m'\u001b[39m)))\n\u001b[0;32m    168\u001b[0m json_result \u001b[38;5;241m=\u001b[39m _check_result(method_name, result)\n",
      "File \u001b[1;32mC:\\ProgramData\\anaconda3\\Lib\\site-packages\\requests\\sessions.py:589\u001b[0m, in \u001b[0;36mSession.request\u001b[1;34m(self, method, url, params, data, headers, cookies, files, auth, timeout, allow_redirects, proxies, hooks, stream, verify, cert, json)\u001b[0m\n\u001b[0;32m    584\u001b[0m send_kwargs \u001b[38;5;241m=\u001b[39m {\n\u001b[0;32m    585\u001b[0m     \u001b[38;5;124m\"\u001b[39m\u001b[38;5;124mtimeout\u001b[39m\u001b[38;5;124m\"\u001b[39m: timeout,\n\u001b[0;32m    586\u001b[0m     \u001b[38;5;124m\"\u001b[39m\u001b[38;5;124mallow_redirects\u001b[39m\u001b[38;5;124m\"\u001b[39m: allow_redirects,\n\u001b[0;32m    587\u001b[0m }\n\u001b[0;32m    588\u001b[0m send_kwargs\u001b[38;5;241m.\u001b[39mupdate(settings)\n\u001b[1;32m--> 589\u001b[0m resp \u001b[38;5;241m=\u001b[39m \u001b[38;5;28mself\u001b[39m\u001b[38;5;241m.\u001b[39msend(prep, \u001b[38;5;241m*\u001b[39m\u001b[38;5;241m*\u001b[39msend_kwargs)\n\u001b[0;32m    591\u001b[0m \u001b[38;5;28;01mreturn\u001b[39;00m resp\n",
      "File \u001b[1;32mC:\\ProgramData\\anaconda3\\Lib\\site-packages\\requests\\sessions.py:703\u001b[0m, in \u001b[0;36mSession.send\u001b[1;34m(self, request, **kwargs)\u001b[0m\n\u001b[0;32m    700\u001b[0m start \u001b[38;5;241m=\u001b[39m preferred_clock()\n\u001b[0;32m    702\u001b[0m \u001b[38;5;66;03m# Send the request\u001b[39;00m\n\u001b[1;32m--> 703\u001b[0m r \u001b[38;5;241m=\u001b[39m adapter\u001b[38;5;241m.\u001b[39msend(request, \u001b[38;5;241m*\u001b[39m\u001b[38;5;241m*\u001b[39mkwargs)\n\u001b[0;32m    705\u001b[0m \u001b[38;5;66;03m# Total elapsed time of the request (approximately)\u001b[39;00m\n\u001b[0;32m    706\u001b[0m elapsed \u001b[38;5;241m=\u001b[39m preferred_clock() \u001b[38;5;241m-\u001b[39m start\n",
      "File \u001b[1;32mC:\\ProgramData\\anaconda3\\Lib\\site-packages\\requests\\adapters.py:682\u001b[0m, in \u001b[0;36mHTTPAdapter.send\u001b[1;34m(self, request, stream, timeout, verify, cert, proxies)\u001b[0m\n\u001b[0;32m    667\u001b[0m     resp \u001b[38;5;241m=\u001b[39m conn\u001b[38;5;241m.\u001b[39murlopen(\n\u001b[0;32m    668\u001b[0m         method\u001b[38;5;241m=\u001b[39mrequest\u001b[38;5;241m.\u001b[39mmethod,\n\u001b[0;32m    669\u001b[0m         url\u001b[38;5;241m=\u001b[39murl,\n\u001b[1;32m   (...)\u001b[0m\n\u001b[0;32m    678\u001b[0m         chunked\u001b[38;5;241m=\u001b[39mchunked,\n\u001b[0;32m    679\u001b[0m     )\n\u001b[0;32m    681\u001b[0m \u001b[38;5;28;01mexcept\u001b[39;00m (ProtocolError, \u001b[38;5;167;01mOSError\u001b[39;00m) \u001b[38;5;28;01mas\u001b[39;00m err:\n\u001b[1;32m--> 682\u001b[0m     \u001b[38;5;28;01mraise\u001b[39;00m \u001b[38;5;167;01mConnectionError\u001b[39;00m(err, request\u001b[38;5;241m=\u001b[39mrequest)\n\u001b[0;32m    684\u001b[0m \u001b[38;5;28;01mexcept\u001b[39;00m MaxRetryError \u001b[38;5;28;01mas\u001b[39;00m e:\n\u001b[0;32m    685\u001b[0m     \u001b[38;5;28;01mif\u001b[39;00m \u001b[38;5;28misinstance\u001b[39m(e\u001b[38;5;241m.\u001b[39mreason, ConnectTimeoutError):\n\u001b[0;32m    686\u001b[0m         \u001b[38;5;66;03m# TODO: Remove this in 3.0.0: see #2811\u001b[39;00m\n",
      "\u001b[1;31mConnectionError\u001b[0m: ('Connection aborted.', RemoteDisconnected('Remote end closed connection without response'))"
     ]
    }
   ],
   "source": [
    "# Теперь мы можем создать приветствие бота:\n",
    "# token='наш токен'\n",
    "# !!!!!!!!!! Пишем запрос в боте: \"/start\" !!!!!!!!!!!!!!!\n",
    "\n",
    "# Вот весь код самого бота:\n",
    "import telebot\n",
    "# для указание типов\n",
    "from telebot import types\n",
    "# токен лежит в файле config.py\n",
    "import config\n",
    "\n",
    "bot = telebot.TeleBot(config.token)\n",
    "# bot = telebot.TeleBot(token)\n",
    "\n",
    "@bot.message_handler(commands=['start'])\n",
    "def start_message(message):\n",
    "    bot.send_message(message.chat.id,\"Привет - Ты меня хорошо слышишь?! Создаём приветствие для бота !!\")\n",
    "\n",
    "# bot.infinity_polling()\n",
    "# bot.polling()\n",
    "print(\"Бот запущен!\")\n",
    "bot.polling(none_stop=True)"
   ]
  },
  {
   "cell_type": "markdown",
   "id": "f7b08e49-c6d0-4450-8d2a-0fa5c2466a5c",
   "metadata": {},
   "source": [
    "Нам надо создать переменную bot, в ней мы пишем telebot.Telebot (наша переменная с токеном).\n",
    "\n",
    "Пишем @bot.message_handler(commands=['start'])\n",
    "Создаём функцию под названием \"start_message\"\n",
    "В скобках указываем \"message\".\n",
    "\n",
    "Пишем внутри функции bot.send_message(message.chat.id,\"Привет\")\n",
    "и вне функции пишем bot.infinity_poling()\n",
    "и запускаем программу.\n",
    "\n",
    "Теперь наш бот может приветствовать"
   ]
  },
  {
   "cell_type": "markdown",
   "id": "0ffd709e-eb9f-4122-a8a4-11b10393fefb",
   "metadata": {},
   "source": [
    "# Как сделать однократную отправку и завершение?"
   ]
  },
  {
   "cell_type": "markdown",
   "id": "55394528-216d-4f14-a432-d31e953f3c67",
   "metadata": {},
   "source": [
    "### Если вам нужно, чтобы бот:\n",
    "\n",
    "1. Отправил одно сообщение и завершился,\n",
    "2. Или завершался по команде (например, /stop),\n",
    "\n",
    "#### есть несколько вариантов."
   ]
  },
  {
   "cell_type": "markdown",
   "id": "ef44af47-dfb3-4760-bcff-d9bda117a473",
   "metadata": {},
   "source": [
    "## Вариант 1: Отправить сообщение и сразу завершить работу"
   ]
  },
  {
   "cell_type": "markdown",
   "id": "76fea23f-4194-4de3-a550-50e880988ad5",
   "metadata": {},
   "source": [
    "#### Чтобы узнать chat_id:\n",
    "- написать сообщение боту @getmyid_bot (найти через строку поиска в Telegram.)\n",
    "\n",
    "· Запустите бота, нажав на кнопку «Начать».\n",
    "· В ответном сообщении бот предоставит вам ваш Telegram ID.\n",
    "\n",
    "Your user ID: 1938719365\n",
    "Current chat ID: 1938719365"
   ]
  },
  {
   "cell_type": "code",
   "execution_count": 47,
   "id": "303306dd-f9e0-4165-9e80-4b7890ec9480",
   "metadata": {},
   "outputs": [
    {
     "name": "stdout",
     "output_type": "stream",
     "text": [
      "Бот запущен. Никаких действий не требуется! Время: 2025-04-27 19:23:41\n",
      "Выключаюсь...\n"
     ]
    }
   ],
   "source": [
    "# import telebot\n",
    "# import config\n",
    "# from datetime import datetime\n",
    "\n",
    "bot = telebot.TeleBot(config.token)\n",
    "\n",
    "# Отправляем сообщение в указанный chat_id и завершаем работу\n",
    "chat_id = \"1938719365\"  # Узнать его можно через @userinfobot\n",
    "message_time = datetime.now().strftime('%Y-%m-%d %H:%M:%S')\n",
    "print(f\"Бот запущен. Никаких действий не требуется! Время: {message_time}\")\n",
    "\n",
    "bot.send_message(chat_id, f\"Работает Вариант 1:\\nСообщение отправлено! Скрипт завершается.\\nВремя: {message_time}\")\n",
    "bot.stop_polling()  # Останавливаем бота\n",
    "print(\"Выключаюсь...\")"
   ]
  },
  {
   "cell_type": "markdown",
   "id": "656acaaa-eab3-4c19-98f3-22bfaaf72b7a",
   "metadata": {},
   "source": [
    "### Как узнать chat_id?\n",
    "Напишите боту @userinfobot, и он покажет ваш id."
   ]
  },
  {
   "cell_type": "markdown",
   "id": "471a2b8a-0698-4021-90ff-9527bf83aa9d",
   "metadata": {},
   "source": [
    "## Вариант 2: Завершение по команде (например, /stop)"
   ]
  },
  {
   "cell_type": "code",
   "execution_count": 30,
   "id": "d06c77c5-a0b7-4c59-9e09-3eb06f729009",
   "metadata": {},
   "outputs": [
    {
     "name": "stdout",
     "output_type": "stream",
     "text": [
      "Бот запущен. Напишите /start в Telegram.\n",
      "Выключаюсь...\n"
     ]
    }
   ],
   "source": [
    "# import telebot\n",
    "# import config\n",
    "\n",
    "bot = telebot.TeleBot(config.token)\n",
    "\n",
    "@bot.message_handler(commands=['start'])\n",
    "def start_message(message):\n",
    "    bot.send_message(message.chat.id, \"Привет! Я работаю. Напиши /stop, чтобы я завершился.\")\n",
    "\n",
    "@bot.message_handler(commands=['stop'])\n",
    "def stop_bot(message):\n",
    "    bot.send_message(message.chat.id, \"Выключаюсь...\")\n",
    "    print(\"Выключаюсь...\")\n",
    "    bot.stop_polling()  # Остановка бота\n",
    "\n",
    "print(\"Бот запущен. Напишите /start в Telegram.\")\n",
    "bot.polling(none_stop=True)\n",
    "\n",
    "# Теперь бот будет завершаться только после команды /stop."
   ]
  },
  {
   "cell_type": "code",
   "execution_count": null,
   "id": "086657a8-cb0a-4a45-b080-08cddb5adbd6",
   "metadata": {},
   "outputs": [],
   "source": []
  },
  {
   "cell_type": "markdown",
   "id": "681da3ed-072d-40e7-abdb-35f31743cc63",
   "metadata": {},
   "source": [
    "## Вариант 3: Завершение после отправки сообщения (без /stop)\n",
    "Если нужно, чтобы бот отправил сообщение один раз и сразу завершился:"
   ]
  },
  {
   "cell_type": "code",
   "execution_count": 19,
   "id": "f347d431-99a4-4379-aba0-624063d26122",
   "metadata": {},
   "outputs": [
    {
     "name": "stdout",
     "output_type": "stream",
     "text": [
      "Бот запущен. Никаких действий не требуется!\n"
     ]
    }
   ],
   "source": [
    "# import telebot\n",
    "# import config\n",
    "\n",
    "bot = telebot.TeleBot(config.token)\n",
    "chat_id = \"1938719365\"  # Узнать его можно через @userinfobot\n",
    "print(\"Бот запущен. Никаких действий не требуется!\")\n",
    "\n",
    "bot.send_message(chat_id, \"Работает Вариант 3:\\nЭто однократное сообщение.\\nБот завершает работу.\")\n",
    "# Дополнительные действия (если нужны)\n",
    "bot.stop_polling()  # Остановка"
   ]
  },
  {
   "cell_type": "markdown",
   "id": "12aa5295-8f64-4dab-a4ce-c4bcf3d67827",
   "metadata": {},
   "source": [
    "#### Этот код не требует polling, он просто отправляет сообщение и завершается."
   ]
  },
  {
   "cell_type": "markdown",
   "id": "48c65a74-5db4-401d-8ede-d6a57984218b",
   "metadata": {},
   "source": [
    "### Вывод\n",
    "- Если нужно однократно отправить сообщение → Вариант 1 или 3.\n",
    "- Если нужно удобно управлять ботом (запускать/останавливать через Telegram) → Вариант 2."
   ]
  },
  {
   "cell_type": "markdown",
   "id": "740580bc-12b3-40ad-ad03-edbfce969c46",
   "metadata": {},
   "source": [
    "# Делаем кнопку"
   ]
  },
  {
   "cell_type": "code",
   "execution_count": 33,
   "id": "120e76a9-b8c1-40e3-acaa-94787572cc75",
   "metadata": {},
   "outputs": [
    {
     "ename": "SyntaxError",
     "evalue": "invalid syntax (2577446296.py, line 27)",
     "output_type": "error",
     "traceback": [
      "\u001b[1;36m  Cell \u001b[1;32mIn[33], line 27\u001b[1;36m\u001b[0m\n\u001b[1;33m    markup.add(item1)\t\t\t\t\t\t\t\t\t\t\t\t\t\t\t\t\t\t\t\t\t\t\t\t\t\t\t\t\t\t\t\t\t\t\t\t\tbot.send_message(message.chat.id,'Выберите что вам надо',reply_markup=markup)\u001b[0m\n\u001b[1;37m                     \t\t\t\t\t\t\t\t\t\t\t\t\t\t\t\t\t\t\t\t\t\t\t\t\t\t\t\t\t\t\t\t\t\t\t\t\t^\u001b[0m\n\u001b[1;31mSyntaxError\u001b[0m\u001b[1;31m:\u001b[0m invalid syntax\n"
     ]
    }
   ],
   "source": [
    "# Приветствие мы сделали, теперь давайте сделаем кнопку.\n",
    "# Надо написать from telebot import types там же, где мы импортировали библиотеку telebot\n",
    "\n",
    "# import telebot\n",
    "# from telebot import types\n",
    "# token='наш токен'\n",
    "\n",
    "# Вот весь код самого бота:\n",
    "# import telebot\n",
    "# # для указание типов\n",
    "# from telebot import types\n",
    "# # токен лежит в файле config.py\n",
    "# import config\n",
    "\n",
    "# bot=telebot.TeleBot(token)\n",
    "bot = telebot.TeleBot(config.token)\n",
    "\n",
    "@bot.message_handler(commands=['start'])\n",
    "def start_message(message):\n",
    "    bot.send_message(message.chat.id, \"\"\"Привет - это обновленная функция. Создаём кнопку !!!\n",
    "You received this message from the Notebook located at:\\n'../ parsing_cases/../ PyTelegramBotAPI'\"\"\")\n",
    "\n",
    "@bot.message_handler(commands=['button'])\n",
    "def button_message(message):\n",
    "    markup=types.ReplyKeyboardMarkup(resize_keyboard=True)\n",
    "    item1=types.KeyboardButton(\"кнопка\")\n",
    "    markup.add(item1)\t\t\t\t\t\t\t\t\t\t\t\t\t\t\t\t\t\t\t\t\t\t\t\t\t\t\t\t\t\t\t\t\t\t\t\t\tbot.send_message(message.chat.id,'Выберите что вам надо',reply_markup=markup)\n",
    "\n",
    "print(\"Бот запущен. Напишите /start в Telegram.\")\n",
    "bot.polling(none_stop=True)\n",
    "# bot.infinity_polling()"
   ]
  },
  {
   "cell_type": "markdown",
   "id": "a6c4dd74-0c82-48f9-93be-4a490d31e0d9",
   "metadata": {},
   "source": [
    "Теперь пишем @bot.message_handler(commands=['button']).\n",
    "Дальше мы создаём функцию под названием button_message, в скобках указываем message.\n",
    "\n",
    "Дальше надо создать клавиатуру в переменной под названием markup, в переменной пишем types.ReplyKeyboardMarkup(resize_keyboard=True).\n",
    "Потом создаём переменную item1, в ней будет хранится сама кнопка и пишем что item1=types.KeyboardButton(\"текст на кнопке\").\n",
    "\n",
    "Дальше к клавиатуре добавим нашу кнопку:\n",
    "markup.add(item1)\n",
    "\n",
    "Далее надо отправить сообщение \"Выберите что вам надо\" и после текста написать reply_markup=markup и закрываем скобки.\n",
    "Но если мы на неё нажмём, то ничего не произойдёт."
   ]
  },
  {
   "cell_type": "markdown",
   "id": "68ef60f7-c389-4906-b2fd-384eada1c69b",
   "metadata": {},
   "source": [
    "# Вешаем на кнопку - действие - ссылку"
   ]
  },
  {
   "cell_type": "code",
   "execution_count": 38,
   "id": "c69c9ad7-92f2-486a-a9df-9e9747ea7f48",
   "metadata": {},
   "outputs": [
    {
     "name": "stdout",
     "output_type": "stream",
     "text": [
      "ВЫКЛЮЧЕНО !!\n",
      "Бот запущен. Напишите:\n",
      "1. /start в Telegram для запуска функции\n",
      "2. /button или просто 'кнопка' для показа ссылки\n",
      "3. /stop для остановки скрипта\n"
     ]
    }
   ],
   "source": [
    "# Сейчас мы сделаем так, чтобы при нажатии на кнопку выдавало ссылку на мою страницу в Хабре.\n",
    "\n",
    "# import telebot\n",
    "# from telebot import types\n",
    "# token='наш токен'\n",
    "# bot=telebot.TeleBot(token)\n",
    "\n",
    "# Вот весь код самого бота:\n",
    "# import telebot\n",
    "# # для указание типов\n",
    "# from telebot import types\n",
    "# # токен лежит в файле config.py\n",
    "# import config\n",
    "\n",
    "bot = telebot.TeleBot(config.token)\n",
    "@bot.message_handler(commands=['start'])\n",
    "def start_message(message):\n",
    "    bot.send_message(message.chat.id,\"\"\"Привет - это Функция. Вешаем на кнопку действие (ссылку) !!!\n",
    "You received this message from the Notebook located at:\\n'../ parsing_cases/../ PyTelegramBotAPI'\"\"\")\n",
    "\n",
    "@bot.message_handler(commands=['button'])\n",
    "def button_message(message):\n",
    "    markup=types.ReplyKeyboardMarkup(resize_keyboard=True)\n",
    "    item1=types.KeyboardButton(\"кнопка\")\n",
    "    markup.add(item1)\n",
    "    bot.send_message(message.chat.id,'Выберите что вам надо',reply_markup=markup)\n",
    "\n",
    "@bot.message_handler(commands=['stop'])\n",
    "def stop_bot(message):\n",
    "    bot.send_message(message.chat.id, \"Выключаюсь...\")\n",
    "    print(\"\\nВыключаюсь...\")\n",
    "    bot.stop_polling()  # Остановка бота\n",
    "\n",
    "@bot.message_handler(content_types='text')\n",
    "def message_reply(message):\n",
    "    if message.text.lower()==\"кнопка\":\n",
    "        bot.send_message(message.chat.id,\"https://habr.com/ru/users/lubaznatel/\")\n",
    "\n",
    "print(\"Бот запущен. Напишите:\\n1. /start в Telegram для запуска функции\\n2. /button или просто 'кнопка' для показа ссылки\\n3. /stop для остановки скрипта\")\n",
    "bot.polling(none_stop=True)\n",
    "# bot.infinity_polling()"
   ]
  },
  {
   "cell_type": "markdown",
   "id": "0c103ef5-98bd-46d5-bb5a-a4cdeeb79700",
   "metadata": {},
   "source": [
    "Для начала мы напишем @bot.message_handler(content_types='text')\n",
    "\n",
    "Дальше нам надо создать функцию по названием message_reply, а в скобках указать message.\n",
    "\n",
    "Внутри функции надо указать условие \"if message.text==\"Кнопка:\", а внутри условия отправить нам нужное сообщение."
   ]
  },
  {
   "cell_type": "markdown",
   "id": "bb8ccabc-b7cf-46ec-9fc9-b65c5b85cb88",
   "metadata": {},
   "source": [
    "## Та же самая функция - только без команды /START"
   ]
  },
  {
   "cell_type": "code",
   "execution_count": 41,
   "id": "77b5bd59-6ad3-43d3-bd77-9f25678e94e8",
   "metadata": {},
   "outputs": [
    {
     "name": "stdout",
     "output_type": "stream",
     "text": [
      "Бот запущен. Никаких действий не требуется!\n",
      "Бот запущен. Напишите:\n",
      "1. /start в Telegram для запуска функции\n",
      "2. /button или просто 'кнопка' для показа ссылки\n",
      "3. /stop для остановки скрипта\n",
      "\n",
      "Выключаюсь...\n"
     ]
    }
   ],
   "source": [
    "bot = telebot.TeleBot(config.token)\n",
    "\n",
    "# Отправляем сообщение в указанный chat_id и завершаем работу\n",
    "chat_id = \"1938719365\"  # Узнать его можно через @userinfobot\n",
    "print(\"Бот запущен. Никаких действий не требуется!\")\n",
    "\n",
    "# @bot.message_handler(commands=['start'])\n",
    "# def start_message():\n",
    "bot.send_message(chat_id, \"\"\"Привет - это Функция. Вешаем на кнопку действие (ссылку) !!!\n",
    "You received this message from the Notebook located at:\\n'../ parsing_cases/../ PyTelegramBotAPI'\"\"\")\n",
    "\n",
    "@bot.message_handler(commands=['button'])\n",
    "def button_message(message):\n",
    "    markup=types.ReplyKeyboardMarkup(resize_keyboard=True)\n",
    "    item1=types.KeyboardButton(\"кнопка\")\n",
    "    markup.add(item1)\n",
    "    bot.send_message(message.chat.id,'Выберите что вам надо',reply_markup=markup)\n",
    "\n",
    "@bot.message_handler(commands=['stop'])\n",
    "def stop_bot(message):\n",
    "    bot.send_message(message.chat.id, \"Выключаюсь...\")\n",
    "    print(\"\\nВыключаюсь...\")\n",
    "    bot.stop_polling()  # Остановка бота\n",
    "\n",
    "@bot.message_handler(content_types='text')\n",
    "def message_reply(message):\n",
    "    if message.text.lower()==\"кнопка\":\n",
    "        bot.send_message(message.chat.id,\"https://habr.com/ru/users/lubaznatel/\")\n",
    "\n",
    "print(\"Бот запущен. Напишите:\\n1. /start в Telegram для запуска функции\\n2. /button или просто 'кнопка' для показа ссылки\\n3. /stop для остановки скрипта\")\n",
    "bot.polling(none_stop=True)"
   ]
  },
  {
   "cell_type": "code",
   "execution_count": null,
   "id": "b41e3044-b997-43ed-b8b4-922c327305e0",
   "metadata": {},
   "outputs": [],
   "source": []
  },
  {
   "cell_type": "markdown",
   "id": "0e2adf86-d00e-4dcc-97c3-7f7b2924c582",
   "metadata": {},
   "source": [
    "## Смена кнопок"
   ]
  },
  {
   "cell_type": "markdown",
   "id": "eda9e1f8-bd0a-4d29-94db-b3c5bf7e61f1",
   "metadata": {},
   "source": [
    "Это последняя часть статьи. В следующей статье мы разберём с вами добавление в группу или канал.\n",
    "Это можно считать самая лёгкая часть статьи.\n",
    "Мы разберём сейчас с вами замену кнопок."
   ]
  },
  {
   "cell_type": "code",
   "execution_count": 6,
   "id": "cf930caa-b196-4fe3-a6e5-d912341c06d4",
   "metadata": {},
   "outputs": [
    {
     "name": "stderr",
     "output_type": "stream",
     "text": [
      "2025-04-26 22:41:08,036 (__init__.py:1121 MainThread) ERROR - TeleBot: \"Infinity polling: polling exited\"\n",
      "2025-04-26 22:41:08,036 (__init__.py:1123 MainThread) ERROR - TeleBot: \"Break infinity polling\"\n"
     ]
    }
   ],
   "source": [
    "# \n",
    "import telebot\n",
    "from telebot import types\n",
    "# token='наш токен'\n",
    "# bot=telebot.TeleBot(token)\n",
    "\n",
    "# Вот весь код самого бота:\n",
    "import telebot\n",
    "# для указание типов\n",
    "from telebot import types\n",
    "# токен лежит в файле config.py\n",
    "import config\n",
    "\n",
    "bot = telebot.TeleBot(config.token)\n",
    "@bot.message_handler(commands=['start'])\n",
    "def start_message(message):\n",
    "    bot.send_message(message.chat.id,\"\"\"Привет. Это последняя часть статьи. - Смена кнопок\n",
    "You received this message from the Notebook located at:\\n'../ parsing_cases/../ PyTelegramBotAPI'\"\"\")\n",
    "\n",
    "@bot.message_handler(commands=['button'])\n",
    "def button_message(message):\n",
    "    markup=types.ReplyKeyboardMarkup(resize_keyboard=True)\n",
    "    item1=types.KeyboardButton(\"кнопка\")\n",
    "    markup.add(item1)\n",
    "    bot.send_message(message.chat.id,'Выберите что вам надо\\n(def button_message)', reply_markup=markup)\n",
    "\n",
    "@bot.message_handler(content_types='text')\n",
    "def message_reply(message):\n",
    "    if message.text.lower()==\"кнопка\":\n",
    "        markup=types.ReplyKeyboardMarkup(resize_keyboard=True)\n",
    "        item1=types.KeyboardButton(\"кнопка 2\")\n",
    "        markup.add(item1)\n",
    "        bot.send_message(message.chat.id,'Выберите что вам надо\\n(def message_reply)', reply_markup=markup)\n",
    "    elif message.text.lower()==\"кнопка 2\":\n",
    "        bot.send_message(message.chat.id,'Спасибо за прочтение статьи!')\n",
    "\n",
    "bot.infinity_polling()"
   ]
  },
  {
   "cell_type": "markdown",
   "id": "3286cb27-5716-485e-b731-6eace042bf12",
   "metadata": {},
   "source": [
    "Для начала мы напишем @bot.message_handler(content_types='text')\n",
    "Дальше нам надо создать функцию по названием message_reply, а в скобках указать message.\n",
    "Внутри функции надо указать условие \"if message.text==\"Кнопка:\", а внутри условия отправить нам нужное сообщение.\n",
    "\n",
    "Теперь нам просто надо создать клавиатуру с кнопками и добавить к клавиатуре кнопку как в прошлой части в тоже самое условие.Дальше в той же функции написать:\n",
    "\n",
    "elif message.text==\"Кнопка 2\":\n",
    "\tbot.send_message(message.chat.id,'Спасибо за прочтение статьи!')\n",
    "Теперь при нажатии на Кнопку 1 она у нас сменяется на кнопку 2 и при нажатии на кнопку 2 у нас присылает сообщение \"Спасибо за прочтение статьи!\"."
   ]
  },
  {
   "cell_type": "code",
   "execution_count": null,
   "id": "d80d8725-b548-4088-bdb3-4e36708ee6b1",
   "metadata": {},
   "outputs": [],
   "source": []
  },
  {
   "cell_type": "markdown",
   "id": "ae80eb65-d667-42d8-aa95-d27c92e5235f",
   "metadata": {},
   "source": [
    "# Создание url кнопки"
   ]
  },
  {
   "cell_type": "code",
   "execution_count": 3,
   "id": "92c963bf-927f-478b-94bf-b6a784fe1b64",
   "metadata": {},
   "outputs": [
    {
     "name": "stdout",
     "output_type": "stream",
     "text": [
      "3. Token - Gut !!\n"
     ]
    }
   ],
   "source": [
    "# Токен\n",
    "token='7667849204:AAGMp-qTeUfSIUaFt2Zd2r3OJCoKIkaS1jI'\n",
    "print('3. Token - Gut !!')"
   ]
  },
  {
   "cell_type": "code",
   "execution_count": 7,
   "id": "e060fc98-f152-4477-93ec-9ad68429a2b6",
   "metadata": {
    "jupyter": {
     "source_hidden": true
    }
   },
   "outputs": [
    {
     "name": "stdout",
     "output_type": "stream",
     "text": [
      "1. Выполняется операция 'IMPORT TELEBOT' ...\n",
      "\t'import telebot' успешно завершено!\n",
      "\tВремя выполнения операции: минут: 0, секунд: 0\n",
      "2. Выполняется операция 'FROM TELEBOT IMPORT TYPES' ...\n",
      "\t'from telebot import types' успешно завершено!\n",
      "\tВремя выполнения операции: минут: 0, секунд: 0\n",
      "\n",
      "Общее время импортирования библиотек: минут: 0, секунд: 0\n"
     ]
    }
   ],
   "source": [
    "# Пример использования усовершенствованной функции IMPORT_AND_MEASURE_IMPROVED\n",
    "if __name__ == \"__main__\":\n",
    "    imports = [\n",
    "        \"import telebot\",\n",
    "        \"from telebot import types\"\n",
    "    ]\n",
    "\n",
    "    total_start_time = time.time()  # Запуск общего таймера\n",
    "    count = 1 # Счетчик операций\n",
    "\n",
    "    for imp in imports:\n",
    "        print(f\"{count}. Выполняется операция '{imp.upper()}' ...\")\n",
    "        import_and_measure_improved(imp)\n",
    "        count += 1\n",
    "\n",
    "    total_end_time = time.time()  # Остановка общего таймера\n",
    "    total_elapsed_time = total_end_time - total_start_time\n",
    "    total_minutes = int(total_elapsed_time // 60)\n",
    "    total_seconds = int(total_elapsed_time % 60)\n",
    "\n",
    "    print(f\"\\nОбщее время импортирования библиотек: \"\n",
    "          f\"минут: {total_minutes}, секунд: {total_seconds}\")"
   ]
  },
  {
   "cell_type": "code",
   "execution_count": 8,
   "id": "507d10d8-77be-4937-a003-663deeedc7c9",
   "metadata": {},
   "outputs": [],
   "source": [
    "# Url кнопки используются, когда хотим создать кнопку при клике которой, пользователь переходил на сайт.\n",
    "# Вот весь код самого бота:\n",
    "import telebot\n",
    "# для указание типов\n",
    "from telebot import types\n",
    "# токен лежит в файле config.py\n",
    "import config\n",
    "\n",
    "bot = telebot.TeleBot(config.token)\n",
    "\n",
    "# bot = telebot.TeleBot(token)\n",
    "\n",
    "@bot.message_handler(commands=['start']) #создаем команду\n",
    "def start(message):\n",
    "    markup = types.InlineKeyboardMarkup()\n",
    "    button1 = types.InlineKeyboardButton(\"Сайт Хабр\", url='https://habr.com/ru/all/')\n",
    "    markup.add(button1)\n",
    "    bot.send_message(message.chat.id,\n",
    "                     \"Привет, {0.first_name}! Нажми на кнопку и перейди на сайт)\".format(message.from_user),\n",
    "                     reply_markup=markup)\n",
    "\n",
    "bot.polling(none_stop=True)\n",
    "\n",
    "\n",
    "# bot=telebot.TeleBot(token)\n",
    "# @bot.message_handler(commands=['start'])\n",
    "# def start_message(message):\n",
    "#   bot.send_message(message.chat.id,\"Привет - Ты меня хорошо слышишь?! Создаём приветствие для бота !!\")\n",
    "\n",
    "# bot.infinity_polling()"
   ]
  },
  {
   "cell_type": "markdown",
   "id": "647901c3-a92b-4b44-92c2-e81f96279781",
   "metadata": {},
   "source": [
    "при создании url-кнопки используется тип InlineKeyboardMarkup, в который мы добавляем кнопку и с помощью reply_markup=markup выводим это в чат (обязательно не забудьте указать это, иначе ваша кнопка просто не будете отображаться)."
   ]
  },
  {
   "cell_type": "code",
   "execution_count": null,
   "id": "bc01fef3-07f8-4e4e-92db-8bf382095aa9",
   "metadata": {},
   "outputs": [],
   "source": []
  },
  {
   "cell_type": "markdown",
   "id": "bbb5dba6-77b3-4701-b28e-0fb3811304b3",
   "metadata": {},
   "source": [
    "# Создание Reply кнопки"
   ]
  },
  {
   "cell_type": "code",
   "execution_count": 7,
   "id": "753f3910-0289-45a3-83ad-87622dc025f2",
   "metadata": {
    "jupyter": {
     "source_hidden": true
    }
   },
   "outputs": [
    {
     "name": "stdout",
     "output_type": "stream",
     "text": [
      "1. Выполняется операция 'IMPORT TELEBOT' ...\n",
      "\t'import telebot' успешно завершено!\n",
      "\tВремя выполнения операции: минут: 0, секунд: 0\n",
      "2. Выполняется операция 'FROM TELEBOT IMPORT TYPES' ...\n",
      "\t'from telebot import types' успешно завершено!\n",
      "\tВремя выполнения операции: минут: 0, секунд: 0\n",
      "\n",
      "Общее время импортирования библиотек: минут: 0, секунд: 0\n"
     ]
    }
   ],
   "source": [
    "# Пример использования усовершенствованной функции IMPORT_AND_MEASURE_IMPROVED\n",
    "if __name__ == \"__main__\":\n",
    "    imports = [\n",
    "        \"import telebot\",\n",
    "        \"from telebot import types\"\n",
    "    ]\n",
    "\n",
    "    total_start_time = time.time()  # Запуск общего таймера\n",
    "    count = 1 # Счетчик операций\n",
    "\n",
    "    for imp in imports:\n",
    "        print(f\"{count}. Выполняется операция '{imp.upper()}' ...\")\n",
    "        import_and_measure_improved(imp)\n",
    "        count += 1\n",
    "\n",
    "    total_end_time = time.time()  # Остановка общего таймера\n",
    "    total_elapsed_time = total_end_time - total_start_time\n",
    "    total_minutes = int(total_elapsed_time // 60)\n",
    "    total_seconds = int(total_elapsed_time % 60)\n",
    "\n",
    "    print(f\"\\nОбщее время импортирования библиотек: \"\n",
    "          f\"минут: {total_minutes}, секунд: {total_seconds}\")"
   ]
  },
  {
   "cell_type": "code",
   "execution_count": 9,
   "id": "064eadae-c842-46ec-80e7-c8604d38bc38",
   "metadata": {},
   "outputs": [],
   "source": [
    "# Вот весь код самого бота:\n",
    "import telebot\n",
    "# для указание типов\n",
    "from telebot import types\n",
    "# токен лежит в файле config.py\n",
    "import config\n",
    "\n",
    "bot = telebot.TeleBot(config.token)\n",
    "# bot = telebot.TeleBot(token)\n",
    "\n",
    "@bot.message_handler(commands=['start'])\n",
    "def start(message):\n",
    "    markup = types.ReplyKeyboardMarkup(resize_keyboard=True)\n",
    "    btn1 = types.KeyboardButton(\"? Поздороваться\")\n",
    "    btn2 = types.KeyboardButton(\"❓ Задать вопрос\")\n",
    "    markup.add(btn1, btn2)\n",
    "    bot.send_message(message.chat.id, text=\"Привет, {0.first_name}! Я тестовый бот для твоей статьи для habr.com\".format(message.from_user), reply_markup=markup)\n",
    "    \n",
    "@bot.message_handler(content_types=['text'])\n",
    "def func(message):\n",
    "    if(message.text == \"? Поздороваться\"):\n",
    "        bot.send_message(message.chat.id, text=\"Привеет.. Спасибо что читаешь статью!)\")\n",
    "    elif(message.text == \"❓ Задать вопрос\"):\n",
    "        markup = types.ReplyKeyboardMarkup(resize_keyboard=True)\n",
    "        btn1 = types.KeyboardButton(\"Как меня зовут?\")\n",
    "        btn2 = types.KeyboardButton(\"Что я могу?\")\n",
    "        back = types.KeyboardButton(\"Вернуться в главное меню\")\n",
    "        markup.add(btn1, btn2, back)\n",
    "        bot.send_message(message.chat.id, text=\"Задай мне вопрос\", reply_markup=markup)\n",
    "    \n",
    "    elif(message.text == \"Как меня зовут?\"):\n",
    "        bot.send_message(message.chat.id, \"У меня нет имени..\")\n",
    "    \n",
    "    elif message.text == \"Что я могу?\":\n",
    "        bot.send_message(message.chat.id, text=\"Поздороваться с читателями\")\n",
    "    \n",
    "    elif (message.text == \"Вернуться в главное меню\"):\n",
    "        markup = types.ReplyKeyboardMarkup(resize_keyboard=True)\n",
    "        button1 = types.KeyboardButton(\"? Поздороваться\")\n",
    "        button2 = types.KeyboardButton(\"❓ Задать вопрос\")\n",
    "        markup.add(button1, button2)\n",
    "        bot.send_message(message.chat.id, text=\"Вы вернулись в главное меню\", reply_markup=markup)\n",
    "    else:\n",
    "        bot.send_message(message.chat.id, text=\"На такую комманду я не запрограммировал..\")\n",
    "\n",
    "bot.polling(none_stop=True)"
   ]
  },
  {
   "cell_type": "markdown",
   "id": "72fddabc-047f-4738-972d-992c9abf1e6c",
   "metadata": {},
   "source": [
    "Чтобы создать Replay кнопку, нужно создать переменную, я назвал ее markup (9 строчка кода) в нее помещаем types.ReplyKeyboardMarkup(resize_keyboard=True). Resize_keybord=True выполняет функцию адаптации (я всегда указываю и вам советую тоже).\n",
    "\n",
    "После этого мы создаем переменную уже с самими кнопками и их текстом (10, 11 строчка) и затем добавляем эти переменные командой\n",
    "markup.add(__имя ваших переменных__).\n",
    "\n",
    "Командой bot.send_message(message.chat.id, text=\"Привет, {0.first_name}!\n",
    "\n",
    "Я тестовый бот для твоей статьи для habr.com\".format(message.from_user), reply_markup=markup)\n",
    " и обязательно не забывайте добавлять reply_markup=markup, иначе просто кнопки не будут отображаться."
   ]
  },
  {
   "cell_type": "code",
   "execution_count": null,
   "id": "038d5752-f7be-4f31-8da5-38f6291e7a2c",
   "metadata": {},
   "outputs": [],
   "source": []
  },
  {
   "cell_type": "code",
   "execution_count": null,
   "id": "7a86661f-a80b-4526-bafc-8cd31617d16b",
   "metadata": {},
   "outputs": [],
   "source": []
  },
  {
   "cell_type": "code",
   "execution_count": null,
   "id": "01eb14b0-45b6-4abf-b4c9-6c1417c401e0",
   "metadata": {},
   "outputs": [],
   "source": [
    "## "
   ]
  },
  {
   "cell_type": "code",
   "execution_count": null,
   "id": "e54afe61-405e-4ffb-ba69-ac8aeea01a59",
   "metadata": {},
   "outputs": [],
   "source": []
  }
 ],
 "metadata": {
  "kernelspec": {
   "display_name": "Python 3 (ipykernel)",
   "language": "python",
   "name": "python3"
  },
  "language_info": {
   "codemirror_mode": {
    "name": "ipython",
    "version": 3
   },
   "file_extension": ".py",
   "mimetype": "text/x-python",
   "name": "python",
   "nbconvert_exporter": "python",
   "pygments_lexer": "ipython3",
   "version": "3.12.7"
  }
 },
 "nbformat": 4,
 "nbformat_minor": 5
}
