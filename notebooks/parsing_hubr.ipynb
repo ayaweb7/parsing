{
 "cells": [
  {
   "cell_type": "markdown",
   "metadata": {},
   "source": [
    "## Парсер новостей с HUBR.COM на PYTHON"
   ]
  },
  {
   "cell_type": "code",
   "execution_count": null,
   "metadata": {},
   "outputs": [],
   "source": []
  },
  {
   "cell_type": "code",
   "execution_count": 44,
   "metadata": {},
   "outputs": [],
   "source": [
    "# Подключаем библиотеку для поиска элементов кода на сайте !!!!!!!!!!!!!\n",
    "# Библиотека PYTHON для извлечения данных из файлов HTML и XML\n",
    "from bs4 import BeautifulSoup\n",
    "\n",
    "# Подключаем библиотеку для парсинга сайтов !!!!!!!!!!!!!\n",
    "import requests"
   ]
  },
  {
   "cell_type": "code",
   "execution_count": 45,
   "metadata": {},
   "outputs": [],
   "source": [
    "# Переменная со ссылкой на сайт\n",
    "url = 'https://habr.com/ru/news/'"
   ]
  },
  {
   "cell_type": "code",
   "execution_count": 46,
   "metadata": {},
   "outputs": [],
   "source": [
    "# Создаём запрос\n",
    "response = requests.get(url)"
   ]
  },
  {
   "cell_type": "code",
   "execution_count": 47,
   "metadata": {},
   "outputs": [],
   "source": [
    "# Объект SOUP\n",
    "soup = BeautifulSoup(response.text, 'html')\n",
    "\n",
    "# Вылезает куча кода в виде текста\n",
    "# print(soup)"
   ]
  },
  {
   "cell_type": "code",
   "execution_count": 64,
   "metadata": {},
   "outputs": [],
   "source": [
    "# Определяем DIV-ы с нужной инфой (заголовки статей)\n",
    "# articles = soup.find('div', class_ = 'tm-articles-list')\n",
    "articles = soup.find('div', class_ = 'tm-article-snippet tm-article-snippet')\n",
    "# print (articles)"
   ]
  },
  {
   "cell_type": "code",
   "execution_count": 71,
   "metadata": {},
   "outputs": [
    {
     "name": "stdout",
     "output_type": "stream",
     "text": [
      "<h2 class=\"tm-title tm-title_h2\" data-test-id=\"articleTitle\"><!--[--><a class=\"tm-title__link\" data-article-link=\"true\" data-test-id=\"article-snippet-title-link\" href=\"/ru/companies/X5Tech/news/858696/\"><span>«Целимся в то, чтобы клиент приходил покупать продукты, а мы ему ещё и доплачивали»</span></a><!--]--></h2>\n",
      "\n",
      "«Целимся в то, чтобы клиент приходил покупать продукты, а мы ему ещё и доплачивали»\n"
     ]
    }
   ],
   "source": [
    "# Достаём нужный DIV - H2:\n",
    "# div = articles.div.div.div\n",
    "h2 = articles.find('h2', class_ = 'tm-title tm-title_h2')\n",
    "h2_2 = h2.a.span.text\n",
    "\n",
    "print (h2)\n",
    "print ()\n",
    "print (h2_2)"
   ]
  },
  {
   "cell_type": "code",
   "execution_count": 68,
   "metadata": {},
   "outputs": [
    {
     "name": "stdout",
     "output_type": "stream",
     "text": [
      "«Целимся в то, чтобы клиент приходил покупать продукты, а мы ему ещё и доплачивали»\n"
     ]
    }
   ],
   "source": [
    "# Достаём текст заголовка из этого DIV-а\n",
    "title = h2.text\n",
    "print (title)"
   ]
  },
  {
   "cell_type": "code",
   "execution_count": 69,
   "metadata": {},
   "outputs": [
    {
     "name": "stdout",
     "output_type": "stream",
     "text": [
      "«Целимся в то, чтобы клиент приходил покупать продукты, а мы ему ещё и доплачивали» /ru/companies/X5Tech/news/858696/\n",
      "«Целимся в то, чтобы клиент приходил покупать продукты, а мы ему ещё и доплачивали» /ru/companies/X5Tech/news/858696/\n",
      "«Целимся в то, чтобы клиент приходил покупать продукты, а мы ему ещё и доплачивали» https://hubr.com/ru/companies/X5Tech/news/858696/\n"
     ]
    }
   ],
   "source": [
    "# Ссылку ищем как элемент словаря:\n",
    "link_1 = h2.a['href']\n",
    "link_2 = h2.find('a', class_ = 'tm-title__link')['href']\n",
    "link_3 = 'https://hubr.com' + h2.a['href']\n",
    "# link = articles.a['href']\n",
    "\n",
    "# print(link)\n",
    "print(title, link_1)\n",
    "print(title, link_2)\n",
    "print(title, link_3)"
   ]
  },
  {
   "cell_type": "code",
   "execution_count": null,
   "metadata": {},
   "outputs": [],
   "source": []
  },
  {
   "cell_type": "code",
   "execution_count": null,
   "metadata": {},
   "outputs": [],
   "source": []
  },
  {
   "cell_type": "code",
   "execution_count": 72,
   "metadata": {},
   "outputs": [
    {
     "name": "stdout",
     "output_type": "stream",
     "text": [
      "«Целимся в то, чтобы клиент приходил покупать продукты, а мы ему ещё и доплачивали» https://hubr.com/ru/companies/X5Tech/news/858696/\n",
      "\n",
      "Проект Debian Junior представил Live-сборку дистрибутива Debian GNU/Linux для детей до 12 лет https://hubr.com/ru/news/858694/\n",
      "\n",
      "T2.digital проведет митап про ребрендинг и редизайн интерфейсов https://hubr.com/ru/companies/t2/news/858692/\n",
      "\n",
      "74% компаний испытывают дефицит специалистов для сервисной поддержки ИТ-инфраструктуры https://hubr.com/ru/companies/k2tech/news/858682/\n",
      "\n",
      "Учёные обнаружили, что лучи лазера могут блокировать свет и отбрасывать тень https://hubr.com/ru/news/858666/\n",
      "\n",
      "В России завершилась годовая имитация космического полёта SIRIUS-23 https://hubr.com/ru/news/858660/\n",
      "\n",
      "Роскомнадзор: учения по проверке работы интернета не затронут сегмент доступа в сеть российских пользователей https://hubr.com/ru/news/858658/\n",
      "\n",
      "«Ростелеком» и ICL Services связали подразделения ДГТУ с помощью российского софта https://hubr.com/ru/companies/icl_group/news/858656/\n",
      "\n",
      "Рейтинг BI-систем: Luxms BI в топе https://hubr.com/ru/companies/luxms_bi/news/858652/\n",
      "\n",
      "«Авито», «Яндекс» и «Лаборатория Касперского» вошли в рейтинг лучших работодателей 2024 года по версии Forbes https://hubr.com/ru/news/858650/\n",
      "\n",
      "Издание GizmoChina представило рейтинг лучших кнопочных телефонов 2024 года для «цифровой детоксикации» https://hubr.com/ru/news/858640/\n",
      "\n",
      "Российские учёные разработали элементы системы управления синхротронным пучком для СКИФа https://hubr.com/ru/news/858634/\n",
      "\n",
      "VK впервые проведёт конференцию по практической кибербезопасности https://hubr.com/ru/news/858624/\n",
      "\n",
      "Исследование: в России выросла доля покупателей, которые осознанно покупают подделки https://hubr.com/ru/news/858620/\n",
      "\n",
      "В сети нашли базы рекрутинговой IT-компании Alltech Consulting Services с данными 216 тыс. соискателей https://hubr.com/ru/news/858618/\n",
      "\n",
      "Как подготовить и внедрить большие языковые модели https://hubr.com/ru/companies/mws/news/858614/\n",
      "\n",
      "(upd) В декабре 2024 года ожидаются учения по «выключению международного интернета» в РФ https://hubr.com/ru/news/858608/\n",
      "\n",
      "Специалисты Института ядерной физики СО РАН приступили к монтажу оборудования бустерного синхротрона на установке СКИФ https://hubr.com/ru/news/858596/\n",
      "\n",
      "Рекордное количество спутников СТЦ отправилось на орбиту https://hubr.com/ru/companies/stc_spb/news/858594/\n",
      "\n",
      "«МегаФон»: в дни распродаж россияне раскупали умные часы, наушники и смартфоны https://hubr.com/ru/news/858592/\n",
      "\n"
     ]
    }
   ],
   "source": [
    "# Достаём все заголовки статей со ссылками (используем цикл):\n",
    "for article in soup.find_all('div', class_ = 'tm-article-snippet tm-article-snippet'):\n",
    "    \n",
    "    h2 = article.find('h2', class_ = 'tm-title tm-title_h2')\n",
    "    title = h2.text\n",
    "    link = 'https://hubr.com' + h2.a['href']\n",
    "\n",
    "    print(title, link)\n",
    "    print()"
   ]
  }
 ],
 "metadata": {
  "kernelspec": {
   "display_name": "Python 3",
   "language": "python",
   "name": "python3"
  },
  "language_info": {
   "codemirror_mode": {
    "name": "ipython",
    "version": 3
   },
   "file_extension": ".py",
   "mimetype": "text/x-python",
   "name": "python",
   "nbconvert_exporter": "python",
   "pygments_lexer": "ipython3",
   "version": "3.8.3"
  }
 },
 "nbformat": 4,
 "nbformat_minor": 5
}
