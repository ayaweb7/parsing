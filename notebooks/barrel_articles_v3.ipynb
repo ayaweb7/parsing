{
 "cells": [
  {
   "cell_type": "markdown",
   "id": "91e21609-6e1a-4378-99cc-faedffc1a324",
   "metadata": {},
   "source": [
    "# PARSING статей про баню - Набор СКРИПТОВ для работы в автономном режиме (сохранённые HTML коды)"
   ]
  },
  {
   "cell_type": "code",
   "execution_count": 2,
   "id": "2db7e801-bd66-43e8-889b-6da7c825e052",
   "metadata": {},
   "outputs": [],
   "source": [
    "# Импортируем нужные нам библиотеки.\n",
    "import pandas as pd\n",
    "from io import StringIO\n",
    "import numpy as np"
   ]
  },
  {
   "cell_type": "code",
   "execution_count": 7,
   "id": "49a99884-94f7-4cb5-8a1c-436876af6475",
   "metadata": {},
   "outputs": [],
   "source": [
    "# Подключаем библиотеку для поиска элементов кода на сайте !!!!!!!!!!!!!\n",
    "# Библиотека PYTHON для извлечения данных из файлов HTML и XML\n",
    "from bs4 import BeautifulSoup\n",
    "\n",
    "# Подключаем библиотеки для парсинга сайтов !!!!!!!!!!!!!\n",
    "import requests\n",
    "import lxml\n",
    "import os\n",
    "import json\n",
    "import csv\n",
    "\n",
    "# Работа с файлами XLSX\n",
    "import openpyxl\n",
    "import xlsxwriter\n",
    "\n",
    "# Использование объекта datetime :\n",
    "from datetime import datetime\n",
    "from time import sleep\n",
    "import time\n",
    "import random"
   ]
  },
  {
   "cell_type": "code",
   "execution_count": 2,
   "id": "fb841557-71dd-46de-8595-44e1621bfd16",
   "metadata": {},
   "outputs": [],
   "source": [
    "# Выполним импорты:\n",
    "# from gspread import Client, Spreadsheet, Worksheet, service_account\n",
    "from gspread import Client, Spreadsheet, Worksheet, service_account, exceptions\n",
    "from typing import List, Dict"
   ]
  },
  {
   "cell_type": "markdown",
   "id": "c88f768c-5f49-4c77-b651-acb63956959f",
   "metadata": {},
   "source": [
    "### Путь к папкам и файлам с данными - Path to folders and files with data\n",
    "\n",
    "#### ВНЕШНИЕ (скачанные) данные: ../data/external/(csv, html, json, xls)/file_name.*\n",
    "#### ВРЕМЕННЫЕ данные: ../data/interim/(csv, html, json, xls)/file_name.*\n",
    "#### ФИНАЛЬНЫЕ данные: ../data/processed/(csv, html, json, xls)/file_name.*"
   ]
  },
  {
   "cell_type": "markdown",
   "id": "085aad3b-c9a2-42dc-85f0-286f9a830b9f",
   "metadata": {},
   "source": [
    "## Константы для проекта"
   ]
  },
  {
   "cell_type": "markdown",
   "id": "ec08cc05-140d-42d2-8da3-24b67b11e0e1",
   "metadata": {},
   "source": [
    "# ФУНКЦИЯ № 1. Определение переменных"
   ]
  },
  {
   "cell_type": "code",
   "execution_count": 3,
   "id": "157c99a8-ef06-4294-9c3a-89732557df99",
   "metadata": {},
   "outputs": [],
   "source": [
    "def variable():\n",
    "# 0. Создаём словарь заголовков\n",
    "    headers = {\n",
    "    'accept': 'text/html,application/xhtml+xml,application/xml;q=0.9,image/avif,image/webp,image/apng,*/*;q=0.8,application/signed-exchange;v=b3;q=0.9',\n",
    "    'user-agent': 'Mozilla/5.0 (Windows NT 10.0; Win64; x64) AppleWebKit/537.36 (KHTML, like Gecko) Chrome/109.0.0.0 Safari/537.36'\n",
    "        }\n",
    "    \n",
    "# 1. Список адресов основного хоста\n",
    "    hosts = ['https://chelyabinsk.bani.ru.com',\n",
    "             'https://svoy-bany.ru'\n",
    "             ]\n",
    "    \n",
    "# 2. Список адресов страниц для парсинга\n",
    "    urls = ['https://chelyabinsk.bani.ru.com/poleznye-statiy/',\n",
    "            'https://svoy-bany.ru/article/'\n",
    "            ]\n",
    "\n",
    "# 3. Список имен сайтов\n",
    "    names = [{\"name\": u.split('//')[1].split('.')[0]} for u in urls]\n",
    "    # names = []\n",
    "    # for u in urls:\n",
    "    #     names.append({\n",
    "    #         'name': u.split('//')[1].split('.')[0]\n",
    "    #         })\n",
    "    \n",
    "# 4. Словарь путей для папок с данными\n",
    "    type_files = ['csv', 'html', 'jpg', 'json', 'txt', 'xls']\n",
    "    path_files = ['../data/processed/csv/', '../data/interim/html/', '../data/processed/img/',\n",
    "                 '../data/processed/json/', '../data/processed/txt/', '../data/processed/xls/'\n",
    "                ]\n",
    "    extension_files = ['.csv', '.html', '.jpg', '.json', '.txt', '.xls']\n",
    "    \n",
    "    paths = [{'type_file': type_files[i], 'path_file': path_files[i], 'extension_file': extension_files[i]} for i in range(len(type_files))]\n",
    "    \n",
    "    # paths = []\n",
    "    # for i in range(len(type_files)):\n",
    "    #     paths.append({\n",
    "    #         'type_file': type_files[i],\n",
    "    #         'path_file': path_files[i],\n",
    "    #         'extension_file': extension_files[i]\n",
    "    #         })\n",
    "    \n",
    "\n",
    "    return headers, hosts, urls, names, paths"
   ]
  },
  {
   "cell_type": "code",
   "execution_count": 10,
   "id": "0274002c-ea87-4c20-8726-6ba65ecdcc95",
   "metadata": {},
   "outputs": [
    {
     "name": "stdout",
     "output_type": "stream",
     "text": [
      "<class 'dict'>\n",
      "<class 'list'>\n",
      "<class 'list'>\n",
      "<class 'list'>\n",
      "<class 'list'>\n"
     ]
    }
   ],
   "source": [
    "for i in range(5):\n",
    "    print(type(variable()[i]))"
   ]
  },
  {
   "cell_type": "markdown",
   "id": "8689f5db-f1b1-490f-81fc-49819fe6fc89",
   "metadata": {},
   "source": [
    "#### Доступ к элементам словаря из списка словарей\n",
    "Мы можем получить доступ к элементам в списке словарей, используя индексацию для словаря и ключи для определенных значений внутри словаря."
   ]
  },
  {
   "cell_type": "code",
   "execution_count": 213,
   "id": "7ae34baf-8584-486c-95b8-78ceef1ab605",
   "metadata": {},
   "outputs": [
    {
     "data": {
      "text/plain": [
       "{'type_file': 'csv',\n",
       " 'path_file': '../data/processed/csv/',\n",
       " 'extension_file': '.csv'}"
      ]
     },
     "execution_count": 213,
     "metadata": {},
     "output_type": "execute_result"
    }
   ],
   "source": [
    "# К элементам \"ПУТЬ К ФАЙЛУ\" - \"PATHS\"\n",
    "variable()[4][0]"
   ]
  },
  {
   "cell_type": "code",
   "execution_count": 13,
   "id": "6cfa240f-5edc-4160-ab37-36eee9394a46",
   "metadata": {
    "jupyter": {
     "source_hidden": true
    }
   },
   "outputs": [
    {
     "data": {
      "text/plain": [
       "'csv'"
      ]
     },
     "execution_count": 13,
     "metadata": {},
     "output_type": "execute_result"
    }
   ],
   "source": [
    "# К элементам \"ПУТЬ К ФАЙЛУ\" - \"PATHS\"\n",
    "variable()[4][0]['type_file']"
   ]
  },
  {
   "cell_type": "code",
   "execution_count": 15,
   "id": "128017b9-73f6-43c1-aa92-e62fa7f780d6",
   "metadata": {
    "jupyter": {
     "source_hidden": true
    }
   },
   "outputs": [
    {
     "data": {
      "text/plain": [
       "'../data/processed/csv/'"
      ]
     },
     "execution_count": 15,
     "metadata": {},
     "output_type": "execute_result"
    }
   ],
   "source": [
    "# К элементам \"ПУТЬ К ФАЙЛУ\" - \"PATHS\"\n",
    "variable()[4][0]['path_file']"
   ]
  },
  {
   "cell_type": "code",
   "execution_count": 7,
   "id": "00ba6045-e58a-4e17-bee0-2b9cf7ceeddd",
   "metadata": {
    "jupyter": {
     "source_hidden": true
    }
   },
   "outputs": [
    {
     "data": {
      "text/plain": [
       "dict"
      ]
     },
     "execution_count": 7,
     "metadata": {},
     "output_type": "execute_result"
    }
   ],
   "source": [
    "# Тип переменной для \"PATHS\"\n",
    "type(variable()[4][0])"
   ]
  },
  {
   "cell_type": "code",
   "execution_count": 212,
   "id": "99d7677d-3af9-4db0-b54f-2867ac3767c2",
   "metadata": {},
   "outputs": [
    {
     "name": "stdout",
     "output_type": "stream",
     "text": [
      "name chelyabinsk\n"
     ]
    }
   ],
   "source": [
    "# К элементам \"ИМЯ ФАЙЛА\" - \"FILES\"\n",
    "for key, value in variable()[3][0].items():\n",
    "    print(key, value)"
   ]
  },
  {
   "cell_type": "code",
   "execution_count": 9,
   "id": "6e214e9b-8345-4d17-90f8-7316d190e01a",
   "metadata": {},
   "outputs": [
    {
     "data": {
      "text/plain": [
       "'svoy-bany'"
      ]
     },
     "execution_count": 9,
     "metadata": {},
     "output_type": "execute_result"
    }
   ],
   "source": [
    "# Доступ к элементам словаря \"NAMES\" по ключу \"NAME\"\n",
    "variable()[3][1]['name']"
   ]
  },
  {
   "cell_type": "code",
   "execution_count": 12,
   "id": "42c70ff7-25ac-471f-b1d8-dcf462afc92b",
   "metadata": {},
   "outputs": [
    {
     "name": "stdout",
     "output_type": "stream",
     "text": [
      "<class 'list'>\n",
      "{'name': 'chelyabinsk'} <class 'dict'>\n",
      "dict_items([('name', 'chelyabinsk')]) dict_items([('name', 'chelyabinsk')])\n",
      "name - chelyabinsk\n",
      "{'name': 'svoy-bany'} <class 'dict'>\n",
      "dict_items([('name', 'svoy-bany')]) dict_items([('name', 'svoy-bany')])\n",
      "name - svoy-bany\n"
     ]
    }
   ],
   "source": [
    "names_list = variable()[3]\n",
    "print(type(names_list))\n",
    "\n",
    "for nl in names_list:\n",
    "    print(nl, type(nl))\n",
    "    print(nl.items(), nl.items())\n",
    "    for key, value in nl.items():\n",
    "        print(f'{key} - {value}')"
   ]
  },
  {
   "cell_type": "code",
   "execution_count": 15,
   "id": "b2fbaeb7-7cee-45ad-a44e-bdfa2315217d",
   "metadata": {},
   "outputs": [
    {
     "name": "stdout",
     "output_type": "stream",
     "text": [
      "name\n",
      "name - chelyabinsk\n",
      "name\n",
      "name - svoy-bany\n"
     ]
    }
   ],
   "source": [
    "for nl in names_list:\n",
    "    print([*nl][0])\n",
    "    for key, value in nl.items():\n",
    "        print(f'{key} - {value}')"
   ]
  },
  {
   "cell_type": "code",
   "execution_count": 16,
   "id": "d5633740-dc22-4827-9e25-db2f75cdd91e",
   "metadata": {},
   "outputs": [
    {
     "name": "stdout",
     "output_type": "stream",
     "text": [
      "['a', 'b', 'c'] a\n",
      "['one', 'two', 'three'] one\n"
     ]
    }
   ],
   "source": [
    "mydict = {'a': 'one', 'b': 'two', 'c': 'three'}\n",
    "mykeys = [*mydict]          #list of keys\n",
    "myvals = [*mydict.values()] #list of values\n",
    "\n",
    "print(mykeys, mykeys[0])\n",
    "print(myvals, myvals[0])"
   ]
  },
  {
   "cell_type": "code",
   "execution_count": 60,
   "id": "3bf6288f-9e0b-420d-8086-4c8f4ba1b75f",
   "metadata": {
    "jupyter": {
     "source_hidden": true
    }
   },
   "outputs": [
    {
     "name": "stdout",
     "output_type": "stream",
     "text": [
      "[{'type_file': 'csv', 'file_path': '../data/processed/csv/', 'file_extension': '.csv'}, {'type_file': 'html', 'file_path': '../data/interim/html/', 'file_extension': '.html'}, {'type_file': 'jpg', 'file_path': '../data/processed/img/', 'file_extension': '.jpg'}, {'type_file': 'json', 'file_path': '../data/processed/json/', 'file_extension': '.json'}, {'type_file': 'txt', 'file_path': '../data/processed/txt/', 'file_extension': '.txt'}, {'type_file': 'xls', 'file_path': '../data/processed/xls/', 'file_extension': '.xls'}]\n"
     ]
    }
   ],
   "source": [
    "type_files = ['csv', 'html', 'jpg', 'json', 'txt', 'xls']\n",
    "files_extension = ['.csv', '.html', '.jpg', '.json', '.txt', '.xls']\n",
    "files_path = ['../data/processed/csv/', '../data/interim/html/', '../data/processed/img/',\n",
    "                 '../data/processed/json/', '../data/processed/txt/', '../data/processed/xls/'\n",
    "                ]\n",
    "paths = []\n",
    "for i in range(len(type_files)):\n",
    "    paths.append({\n",
    "        'type_file': type_files[i],\n",
    "        'file_path': files_path[i],\n",
    "        'file_extension': files_extension[i]\n",
    "        })\n",
    "\n",
    "# paths = [{'type_file': type_files[i], 'file_path': files_path[i], 'file_extension': files_extension[i]} for i in range(len(names))]\n",
    "print(paths)"
   ]
  },
  {
   "cell_type": "code",
   "execution_count": 61,
   "id": "fcdb0d0e-cae9-460a-97f2-a8f2b5394824",
   "metadata": {
    "collapsed": true,
    "jupyter": {
     "outputs_hidden": true,
     "source_hidden": true
    }
   },
   "outputs": [
    {
     "name": "stdout",
     "output_type": "stream",
     "text": [
      "[{'type_file': 'csv', 'file_path': '../data/processed/csv/', 'file_extension': '.csv'}, {'type_file': 'html', 'file_path': '../data/interim/html/', 'file_extension': '.html'}, {'type_file': 'jpg', 'file_path': '../data/processed/img/', 'file_extension': '.jpg'}, {'type_file': 'json', 'file_path': '../data/processed/json/', 'file_extension': '.json'}, {'type_file': 'txt', 'file_path': '../data/processed/txt/', 'file_extension': '.txt'}, {'type_file': 'xls', 'file_path': '../data/processed/xls/', 'file_extension': '.xls'}]\n"
     ]
    }
   ],
   "source": [
    "paths = [{'type_file': type_files[i], 'file_path': files_path[i], 'file_extension': files_extension[i]} for i in range(len(type_files))]\n",
    "print(paths)"
   ]
  },
  {
   "cell_type": "code",
   "execution_count": 18,
   "id": "e3cf1220-7a60-4dff-8e21-c0801198e439",
   "metadata": {},
   "outputs": [],
   "source": [
    "# d0 = paths[0]\n",
    "# print(d0)  \n",
    "# print(paths[0]['type_file'])"
   ]
  },
  {
   "cell_type": "markdown",
   "id": "118ee01f-7b91-4930-a0b8-d2d936c8c59a",
   "metadata": {},
   "source": [
    "#### Создание списка словарей из списков\n",
    "Если у нас уже есть список данных, и мы хотим превратить его в список словарей. Мы можем использовать цикл или списочное включение, чтобы сделать это."
   ]
  },
  {
   "cell_type": "code",
   "execution_count": 34,
   "id": "03c74f67-d495-4023-81bf-793fbe013f11",
   "metadata": {
    "jupyter": {
     "source_hidden": true
    }
   },
   "outputs": [
    {
     "name": "stdout",
     "output_type": "stream",
     "text": [
      "[{'name': 'Alice', 'age': 25}, {'name': 'Bob', 'age': 30}, {'name': 'Charlie', 'age': 22}]\n"
     ]
    }
   ],
   "source": [
    "# Создание списка словарей из другого списка\n",
    "# Creating a list of dictionaries from another list\n",
    "\n",
    "names = [\"Alice\", \"Bob\", \"Charlie\"]\n",
    "ages = [25, 30, 22]\n",
    "\n",
    "a = [{\"name\": names[i], \"age\": ages[i]} for i in range(len(names))]\n",
    "print(a)"
   ]
  },
  {
   "cell_type": "code",
   "execution_count": 53,
   "id": "914a5669-6544-49be-8376-6d564bb653de",
   "metadata": {
    "jupyter": {
     "source_hidden": true
    }
   },
   "outputs": [
    {
     "name": "stdout",
     "output_type": "stream",
     "text": [
      "[{'name': 'Alice', 'age': 25}, {'name': 'Bob', 'age': 30}, {'name': 'Charlie', 'age': 22}]\n"
     ]
    }
   ],
   "source": [
    "a=[]\n",
    "for i in range(len(names)):\n",
    "    \n",
    "    a.append({\n",
    "        'name': names[i],\n",
    "        'age': ages[i]\n",
    "    })\n",
    "print(a)"
   ]
  },
  {
   "cell_type": "code",
   "execution_count": 45,
   "id": "5913ea57-747d-41c9-826d-9bfd877eb3cc",
   "metadata": {},
   "outputs": [
    {
     "name": "stdout",
     "output_type": "stream",
     "text": [
      "{'name': 'Charlie', 'age': 22}\n"
     ]
    }
   ],
   "source": [
    "print(a)"
   ]
  },
  {
   "cell_type": "markdown",
   "id": "f75d1b31-a18a-40f7-9242-e08fa48d4faf",
   "metadata": {},
   "source": [
    "#### Доступ к элементам словаря из списка словарей\n",
    "Мы можем получить доступ к элементам в списке словарей, используя индексацию для словаря и ключи для определенных значений внутри словаря."
   ]
  },
  {
   "cell_type": "code",
   "execution_count": 37,
   "id": "869ce696-81b0-4f76-aa29-fe30d9abb0da",
   "metadata": {
    "jupyter": {
     "source_hidden": true
    }
   },
   "outputs": [
    {
     "name": "stdout",
     "output_type": "stream",
     "text": [
      "{'name': 'Bob', 'age': 30, 'city': 'Los Angeles'}\n",
      "Alice\n"
     ]
    }
   ],
   "source": [
    "# Доступ к элементам словаря из списка словарей\n",
    "lod = [\n",
    "    {'name': 'Alice', 'age': 25, 'city': 'New York'},\n",
    "    {'name': 'Bob', 'age': 30, 'city': 'Los Angeles'},\n",
    "    {'name': 'Charlie', 'age': 35, 'city': 'Chicago'}\n",
    "]\n",
    "\n",
    "# Access the second dictionary in the list\n",
    "d1 = lod[1]\n",
    "print(d1)  \n",
    "print(lod[0]['name'])"
   ]
  },
  {
   "cell_type": "code",
   "execution_count": 51,
   "id": "cf49a742-e062-4f16-9d63-f985a4226337",
   "metadata": {
    "jupyter": {
     "source_hidden": true
    }
   },
   "outputs": [
    {
     "name": "stdout",
     "output_type": "stream",
     "text": [
      "../data/processed/json/barrels_articles_chelyabinsk.json\n",
      "../data/processed/json/barrels_articles_svoy-bany.json\n"
     ]
    }
   ],
   "source": [
    "# Прописываем путь и характеристики файла\n",
    "# 1. Список адресов основного хоста\n",
    "hosts = ['https://chelyabinsk.bani.ru.com',\n",
    "         'https://svoy-bany.ru'\n",
    "        ]\n",
    "\n",
    "# 2. Список адресов страниц для парсинга\n",
    "urls = ['https://chelyabinsk.bani.ru.com/poleznye-statiy/',\n",
    "        'https://svoy-bany.ru/article/'\n",
    "           ]\n",
    "# 3. Создаём словарь заголовков\n",
    "# Это нужно для некоторых сайтов (но не для всех - для этого необязательно)\n",
    "# чтобы показать сайту, что ВЫ НЕ БОТ, а обычный пользователь\n",
    "headers = {\n",
    "    'accept': 'text/html,application/xhtml+xml,application/xml;q=0.9,image/avif,image/webp,image/apng,*/*;q=0.8,application/signed-exchange;v=b3;q=0.9',\n",
    "    'user-agent': 'Mozilla/5.0 (Windows NT 10.0; Win64; x64) AppleWebKit/537.36 (KHTML, like Gecko) Chrome/109.0.0.0 Safari/537.36'\n",
    "}\n",
    "\n",
    "# 4. Пути для директорий с файлами\n",
    "paths = ['../data/processed/csv/',\n",
    "        '../data/processed/img/',\n",
    "        '../data/processed/json/',\n",
    "        '../data/processed/txt/',\n",
    "        '../data/processed/xls/',\n",
    "        '../data/interim/html/'\n",
    "       ]\n",
    "\n",
    "# 5. Переменные для файлов\n",
    "file_start = 'barrels_articles_'\n",
    "file_extension = ['.csv', '.png', '.json', '.txt', '.xlsx', '.html']\n",
    "# FILE = paths + file_start + file_name + file_extension\n",
    "# print(f'data: {paths[2]} -- type: {type(paths[2])}')\n",
    "\n",
    "for f in hosts:\n",
    "    file_name = f.split('//')[1].split('.')[0]\n",
    "    sheet_name = file_name\n",
    "    print(paths[2] + file_start + file_name + file_extension[2])"
   ]
  },
  {
   "cell_type": "code",
   "execution_count": null,
   "id": "4049a0dd-8eb8-4936-b643-0883caa85dc0",
   "metadata": {},
   "outputs": [],
   "source": []
  },
  {
   "cell_type": "code",
   "execution_count": 216,
   "id": "b785122a-2b09-4755-86e2-7acdc5f183f3",
   "metadata": {
    "jupyter": {
     "source_hidden": true
    }
   },
   "outputs": [
    {
     "name": "stdout",
     "output_type": "stream",
     "text": [
      "[{'name': 'chelyabinsk'}, {'name': 'svoy-bany'}]\n",
      "{'name': 'chelyabinsk'} {'name': 'svoy-bany'}\n"
     ]
    }
   ],
   "source": [
    "urls = ['https://chelyabinsk.bani.ru.com/poleznye-statiy/',\n",
    "            'https://svoy-bany.ru/article/'\n",
    "            ]\n",
    "\n",
    "# 4. Список имен сайтов\n",
    "# names = []\n",
    "# for u in urls:\n",
    "#     names.append({\n",
    "#         'name': u.split('//')[1].split('.')[0]\n",
    "#         })\n",
    "\n",
    "names = [{\"name\": u.split('//')[1].split('.')[0]} for u in urls]\n",
    "print(names)\n",
    "print(*names)\n",
    "# print(*names.values())"
   ]
  },
  {
   "cell_type": "code",
   "execution_count": 217,
   "id": "ca9377ad-6d6a-4915-9535-f1ca6d6fd7c5",
   "metadata": {
    "jupyter": {
     "source_hidden": true
    }
   },
   "outputs": [
    {
     "name": "stdout",
     "output_type": "stream",
     "text": [
      "['foo', 'hello']\n",
      "foo\n",
      "['a', 'b', 'c'] a\n",
      "['one', 'two', 'three'] one\n"
     ]
    }
   ],
   "source": [
    "# Преобразование словаря в список. Работа со словарём: ключи и значения.\n",
    "test = {'foo': 'bar', 'hello': 'world'}\n",
    "print(list(test))\n",
    "# ['foo', 'hello']\n",
    "print(list(test)[0])\n",
    "# 'foo'\n",
    "\n",
    "mydict = {'a': 'one', 'b': 'two', 'c': 'three'}\n",
    "mykeys = [*mydict]          #list of keys\n",
    "myvals = [*mydict.values()] #list of values\n",
    "\n",
    "print(mykeys, mykeys[0])\n",
    "print(myvals, myvals[0])"
   ]
  },
  {
   "cell_type": "code",
   "execution_count": null,
   "id": "c4ddbb48-d750-4ec9-accc-fd8dd9e87f15",
   "metadata": {},
   "outputs": [],
   "source": []
  },
  {
   "cell_type": "markdown",
   "id": "4ad9e2ac-7e3a-4461-9e71-52081970cf10",
   "metadata": {},
   "source": [
    "## GET-запросы на сайты для прочтения HTML кода и сохранения его в переменную"
   ]
  },
  {
   "cell_type": "markdown",
   "id": "51622ee1-26e4-4237-a995-ab712ca8c86f",
   "metadata": {},
   "source": [
    "# ФУНКЦИЯ № 2. Сохранение HTML-кода для тестирования"
   ]
  },
  {
   "cell_type": "code",
   "execution_count": 66,
   "id": "771bc931-06bc-4fa3-9427-6214294c4ba4",
   "metadata": {
    "jupyter": {
     "source_hidden": true
    }
   },
   "outputs": [
    {
     "name": "stdout",
     "output_type": "stream",
     "text": [
      "Folder \"../data/interim/html/\" FOUND!!! It`s OK\n",
      "START of function \"WRITE_HTML()\"\n",
      "\n",
      "1. Function \"WRITE_HTML(chelyabinsk)\" EXECUTING ...\n",
      "\tIn the folder \"../data/interim/html/\" the file \"barrels_articles_chelyabinsk\" EXISTS.\n",
      "\tThe file \"barrels_articles_chelyabinsk\" will be DELETED and REWRITTEN.\n",
      "\tHTML-code \"barrels_articles_chelyabinsk\" is SAVED in folder \"../data/interim/html/\"\n",
      "Function \"WRITE_HTML(CHELYABINSK)\" is EXECUTED\n",
      "\n",
      "2. Function \"WRITE_HTML(svoy-bany)\" EXECUTING ...\n",
      "\tIn the folder \"../data/interim/html/\" the file \"barrels_articles_svoy-bany\" EXISTS.\n",
      "\tThe file \"barrels_articles_svoy-bany\" will be DELETED and REWRITTEN.\n",
      "\tHTML-code \"barrels_articles_svoy-bany\" is SAVED in folder \"../data/interim/html/\"\n",
      "Function \"WRITE_HTML(SVOY-BANY)\" is EXECUTED\n",
      "\n",
      "Function \"WRITE_HTML()\" COMPLETED successfully!\n"
     ]
    }
   ],
   "source": [
    "# import os\n",
    "# Отправляем запрос на страницу, передаём в качестве GET-параметра URL-адрес\n",
    "# Сохраним нашу страницу в файл И ЗАКОММЕНТИРУЕМ ЭТУ КОМАНДУ за ненадобностью\n",
    "\n",
    "def write_html(headers, url, path):\n",
    "    # path = '../data/interim/html/'\n",
    "# Если папки для сохранения результатов не существует, то она будет создана\n",
    "    if not os.path.isdir(path[1]['path_file']):\n",
    "        print(f'Folder \"{path[1]['path_file']}\" does NOT exist - it will be created !!!')\n",
    "        os.mkdir(path[1]['path_file'])\n",
    "    else:\n",
    "        print(f'Folder \"{path[1]['path_file']}\" FOUND!!! It`s OK')\n",
    "    \n",
    "    print(f'START of function \"WRITE_HTML()\"\\n')\n",
    "    \n",
    "    count = 1\n",
    "# Проходим циклом по списку со ссылками на страницы сайтов\n",
    "    for u in url:\n",
    "        r = requests.get(url=u, headers=headers)\n",
    "        src = r.text\n",
    "\n",
    "        file_start = 'barrels_articles_'\n",
    "        name = u.split('//')[1].split('.')[0]\n",
    "        file_name = file_start + name\n",
    "        file_path = os.path.join(path[1]['path_file'], file_name) + path[1]['extension_file']\n",
    "        print(f'{count}. Function \"WRITE_HTML({name})\" EXECUTING ...')\n",
    "\n",
    "# Проверка существования старых файлов с таким же названием (если они существуют - обновляем)\n",
    "        if not os.path.exists(file_path):\n",
    "            print(f\"\\tThere is NO file \\\"{file_name}\\\" in the folder \\\"{path[1]['path_file']}\\\" - It will be CREATED.\")\n",
    "        else:\n",
    "            print(f\"\\tIn the folder \\\"{path[1]['path_file']}\\\" the file \\\"{file_name}\\\" EXISTS.\")\n",
    "            print(f'\\tThe file \"{file_name}\" will be DELETED and REWRITTEN.')\n",
    "            os.remove(file_path)\n",
    "            \n",
    "# Сохраняем код по указанному пути\n",
    "        with open(file_path, 'w', encoding='utf-8') as file:\n",
    "            file.write(src)\n",
    "        print(f'\\tHTML-code \\\"{file_name}\\\" is SAVED in folder \\\"{path[1]['path_file']}\\\"')\n",
    "        print(f'Function \"WRITE_HTML({name.upper()})\" is EXECUTED\\n')\n",
    "        count += 1\n",
    "\n",
    "    print(f'Function \"WRITE_HTML()\" COMPLETED successfully!')\n",
    "\n",
    "# Безусловный запуск функции\n",
    "if __name__ == '__main__':\n",
    "    write_html(variable()[0], variable()[2], variable()[4])"
   ]
  },
  {
   "cell_type": "markdown",
   "id": "63ec3793-9714-4684-ac06-9c825ce8c0dc",
   "metadata": {},
   "source": [
    "# СОХРАНИЛИ ФАЙЛЫ В НУЖНОЙ ПАПКЕ !!!!"
   ]
  },
  {
   "cell_type": "markdown",
   "id": "954d9e01-9c4a-4b7b-8d3c-5c628e6c3ef3",
   "metadata": {},
   "source": [
    "## Теперь открыли файлы списком"
   ]
  },
  {
   "cell_type": "markdown",
   "id": "47f1d339-aff8-4bd2-8df5-9428cf959eb3",
   "metadata": {},
   "source": [
    "# ФУНКЦИЯ № 3.0. Чтение HTML-кода, сохранение его в список"
   ]
  },
  {
   "cell_type": "code",
   "execution_count": 78,
   "id": "a6b349f8-c078-4b70-9a51-c3c17a607c02",
   "metadata": {
    "jupyter": {
     "source_hidden": true
    }
   },
   "outputs": [],
   "source": [
    "# Теперь откроем наши файлы, прочитаем и сохраним коды страниц в СПИСОК: READ_HTML_0\n",
    "\n",
    "def read_html_0(names, path):\n",
    "    # path = '../data/interim/html/'\n",
    "    count = 1\n",
    "    src = []\n",
    "    print(f'START of function \"READ_HTML()\"')\n",
    "    \n",
    "    for name in names:\n",
    "        file_start = 'barrels_articles_'\n",
    "        name = name['name']\n",
    "        file_name = file_start + name\n",
    "        file_path = os.path.join(path['path_file'], file_name) + path['extension_file']\n",
    "        \n",
    "        with open(file_path, encoding='utf-8') as file:\n",
    "            src.append(file.read())\n",
    "        print(f'\\t{count}. HTML-code \"{file_name}\" is OPENED from {file_path}')\n",
    "        \n",
    "        count += 1\n",
    "    \n",
    "    print(f'Function \"READ_HTML()\" COMPLETED successfully!')\n",
    "\n",
    "    return src\n",
    "\n",
    "# if __name__ == '__main__':\n",
    "#     read_html_0(variable()[3], variable()[4])"
   ]
  },
  {
   "cell_type": "code",
   "execution_count": 79,
   "id": "7780da25-8577-47b2-b724-1365825c1651",
   "metadata": {},
   "outputs": [
    {
     "name": "stdout",
     "output_type": "stream",
     "text": [
      "START of function \"READ_HTML()\"\n",
      "\t1. HTML-code \"barrels_articles_chelyabinsk\" is OPENED from ../data/interim/html/barrels_articles_chelyabinsk.html\n",
      "\t2. HTML-code \"barrels_articles_svoy-bany\" is OPENED from ../data/interim/html/barrels_articles_svoy-bany.html\n",
      "Function \"READ_HTML()\" COMPLETED successfully!\n"
     ]
    }
   ],
   "source": [
    "src = read_html_0(variable()[3], variable()[4][1])\n",
    "# print(src[0])"
   ]
  },
  {
   "cell_type": "code",
   "execution_count": 80,
   "id": "ad2a0616-c85a-459f-be00-d03ee6247f49",
   "metadata": {
    "collapsed": true,
    "jupyter": {
     "outputs_hidden": true
    }
   },
   "outputs": [
    {
     "name": "stdout",
     "output_type": "stream",
     "text": [
      "\n",
      "\n",
      "<!DOCTYPE html>\n",
      "<html lang=\"ru\">\n",
      "\t<head>\n",
      "\t\t<!-- META -->\n",
      "\t\t<meta name=\"format-detection\" content=\"telephone=no\">\n",
      "\t\t\n",
      "\t\t<!-- FAVICONS ICON -->\n",
      "\t\t<link rel=\"shortcut icon\" type=\"image/x-icon\" href=\"/favicon.ico\" />\n",
      "\t\t<link rel=\"icon\" href=\"/images/favicon.ico\">\n",
      "\t\t<link rel=\"shortcut icon\" href=\"/images/favicon.ico\" />\n",
      "\t\t\n",
      "\t\t<!-- PAGE TITLE HERE -->\n",
      "\t\t<title>Полезно знать</title>\n",
      "\t\t<meta property=\"og:image\" content=\"/bitrix/templates/svoy-bany/images/logo.png\" />\n",
      "\t\t<meta name=\"cmsmagazine\" content=\"eca93abe1f826dfcb15a2970177f1bf3\" />\n",
      "\t\t<meta name=\"cmsmagazine\" content=\"788f743ee7952a16864d8025ac8aee05\" /><meta name=\"ktoprodvinul\" content=\"f6d77d9a598006e7\" />\n",
      "\t\t<meta http-equiv=\"Content-Type\" content=\"text/html; charset=UTF-8\" />\n",
      "<meta name=\"robots\" content=\"index, follow\" />\n",
      "<meta name=\"keywords\" content=\"баня-бочка, мобильные бани из бруса, готовые бани, гриль-домик, купель, детские площадки для дачи, молодильные чаны\" />\n",
      "<meta name=\"description\" content=\"Все о банных процедурах и отдыхе на даче: обзоры моделей бань-бочек, готовых бань из бруса, статьи о пользе купелей и молодильных чанов\" />\n",
      "<link href=\"/bitrix/js/main/core/css/core.min.css?15742398932854\" type=\"text/css\" rel=\"stylesheet\" />\n",
      "\n",
      "\n",
      "<script type=\"text/javascript\" data-skip-moving=\"true\">(function(w, d) {var v = w.frameCacheVars = {'CACHE_MODE':'HTMLCACHE','storageBlocks':[],'dynamicBlocks':{'LkGdQn':'bbcd2ecd34f7'},'AUTO_UPDATE':true,'AUTO_UPDATE_TTL':'0'};var inv = false;if (v.AUTO_UPDATE === false){if (v.AUTO_UPDATE_TTL && v.AUTO_UPDATE_TTL > 0){var lm = Date.parse(d.lastModified);if (!isNaN(lm)){var td = new Date().getTime();if ((lm + v.AUTO_UPDATE_TTL * 1000) >= td){w.frameRequestStart = false;w.preventAutoUpdate = true;return;}inv = true;}}else{w.frameRequestStart = false;w.preventAutoUpdate = true;return;}}var r = w.XMLHttpRequest ? new XMLHttpRequest() : (w.ActiveXObject ? new w.ActiveXObject(\"Microsoft.XMLHTTP\") : null);if (!r) { return; }w.frameRequestStart = true;var m = v.CACHE_MODE; var l = w.location; var x = new Date().getTime();var q = \"?bxrand=\" + x + (l.search.length > 0 ? \"&\" + l.search.substring(1) : \"\");var u = l.protocol + \"//\" + l.host + l.pathname + q;r.open(\"GET\", u, true);r.setRequestHeader(\"BX-ACTION-TYPE\", \"get_dynamic\");r.setRequestHeader(\"X-Bitrix-Composite\", \"get_dynamic\");r.setRequestHeader(\"BX-CACHE-MODE\", m);r.setRequestHeader(\"BX-CACHE-BLOCKS\", v.dynamicBlocks ? JSON.stringify(v.dynamicBlocks) : \"\");if (inv){r.setRequestHeader(\"BX-INVALIDATE-CACHE\", \"Y\");}try { r.setRequestHeader(\"BX-REF\", d.referrer || \"\");} catch(e) {}if (m === \"APPCACHE\"){r.setRequestHeader(\"BX-APPCACHE-PARAMS\", JSON.stringify(v.PARAMS));r.setRequestHeader(\"BX-APPCACHE-URL\", v.PAGE_URL ? v.PAGE_URL : \"\");}r.onreadystatechange = function() {if (r.readyState != 4) { return; }var a = r.getResponseHeader(\"BX-RAND\");var b = w.BX && w.BX.frameCache ? w.BX.frameCache : false;if (a != x || !((r.status >= 200 && r.status < 300) || r.status === 304 || r.status === 1223 || r.status === 0)){var f = {error:true, reason:a!=x?\"bad_rand\":\"bad_status\", url:u, xhr:r, status:r.status};if (w.BX && w.BX.ready){BX.ready(function() {setTimeout(function(){BX.onCustomEvent(\"onFrameDataRequestFail\", [f]);}, 0);});}else{w.frameRequestFail = f;}return;}if (b){b.onFrameDataReceived(r.responseText);if (!w.frameUpdateInvoked){b.update(false);}w.frameUpdateInvoked = true;}else{w.frameDataString = r.responseText;}};r.send();})(window, document);</script>\n",
      "\n",
      "\n",
      "<link href=\"/bitrix/components/bitrix/news.list/templates/.default/style.css?1630045722150\" type=\"text/css\"  rel=\"stylesheet\" />\n",
      "<link href=\"/bitrix/templates/svoy-bany/components/bitrix/menu/top_menu/style.min.css?15742399183715\" type=\"text/css\"  data-template-style=\"true\"  rel=\"stylesheet\" />\n",
      "<link href=\"/bitrix/templates/svoy-bany/components/bitrix/breadcrumb/nav/style.min.css?1574239918467\" type=\"text/css\"  data-template-style=\"true\"  rel=\"stylesheet\" />\n",
      "<link href=\"/bitrix/templates/svoy-bany/components/bitrix/news.list/home_progress/style.css?1630044897571\" type=\"text/css\"  data-template-style=\"true\"  rel=\"stylesheet\" />\n",
      "<link href=\"/bitrix/templates/svoy-bany/components/bitrix/catalog.section.list/footer_works/style.min.css?15742399186236\" type=\"text/css\"  data-template-style=\"true\"  rel=\"stylesheet\" />\n",
      "<link href=\"/bitrix/templates/svoy-bany/components/bitrix/news.list/footer_works/style.css?1630045723171\" type=\"text/css\"  data-template-style=\"true\"  rel=\"stylesheet\" />\n",
      "<link href=\"/bitrix/templates/svoy-bany/styles.css?168085653863\" type=\"text/css\"  data-template-style=\"true\"  rel=\"stylesheet\" />\n",
      "<script type=\"text/javascript\">if(!window.BX)window.BX={};if(!window.BX.message)window.BX.message=function(mess){if(typeof mess==='object'){for(let i in mess) {BX.message[i]=mess[i];} return true;}};</script>\n",
      "<script type=\"text/javascript\">(window.BX||top.BX).message({'JS_CORE_LOADING':'Загрузка...','JS_CORE_NO_DATA':'- Нет данных -','JS_CORE_WINDOW_CLOSE':'Закрыть','JS_CORE_WINDOW_EXPAND':'Развернуть','JS_CORE_WINDOW_NARROW':'Свернуть в окно','JS_CORE_WINDOW_SAVE':'Сохранить','JS_CORE_WINDOW_CANCEL':'Отменить','JS_CORE_WINDOW_CONTINUE':'Продолжить','JS_CORE_H':'ч','JS_CORE_M':'м','JS_CORE_S':'с','JSADM_AI_HIDE_EXTRA':'Скрыть лишние','JSADM_AI_ALL_NOTIF':'Показать все','JSADM_AUTH_REQ':'Требуется авторизация!','JS_CORE_WINDOW_AUTH':'Войти','JS_CORE_IMAGE_FULL':'Полный размер'});</script>\n",
      "\n",
      "\n",
      "<script type=\"text/javascript\" src=\"/bitrix/js/main/core/core.min.js?1601879854252095\"></script>\n",
      "\n",
      "\n",
      "<script>BX.setJSList(['/bitrix/js/main/core/core_ajax.js','/bitrix/js/main/core/core_promise.js','/bitrix/js/main/polyfill/promise/js/promise.js','/bitrix/js/main/loadext/loadext.js','/bitrix/js/main/loadext/extension.js','/bitrix/js/main/polyfill/promise/js/promise.js','/bitrix/js/main/polyfill/find/js/find.js','/bitrix/js/main/polyfill/includes/js/includes.js','/bitrix/js/main/polyfill/matches/js/matches.js','/bitrix/js/ui/polyfill/closest/js/closest.js','/bitrix/js/main/polyfill/fill/main.polyfill.fill.js','/bitrix/js/main/polyfill/find/js/find.js','/bitrix/js/main/polyfill/matches/js/matches.js','/bitrix/js/main/polyfill/core/dist/polyfill.bundle.js','/bitrix/js/main/core/core.js','/bitrix/js/main/polyfill/intersectionobserver/js/intersectionobserver.js','/bitrix/js/main/lazyload/dist/lazyload.bundle.js','/bitrix/js/main/polyfill/core/dist/polyfill.bundle.js','/bitrix/js/main/parambag/dist/parambag.bundle.js']);\n",
      "BX.setCSSList(['/bitrix/js/main/core/css/core.css','/bitrix/js/main/lazyload/dist/lazyload.bundle.css','/bitrix/js/main/parambag/dist/parambag.bundle.css']);</script>\n",
      "<script type=\"text/javascript\">(window.BX||top.BX).message({'LANGUAGE_ID':'ru','FORMAT_DATE':'DD.MM.YYYY','FORMAT_DATETIME':'DD.MM.YYYY HH:MI:SS','COOKIE_PREFIX':'BITRIX_SM','SERVER_TZ_OFFSET':'10800','SITE_ID':'s1','SITE_DIR':'/'});</script>\n",
      "\n",
      "\n",
      "\n",
      "<script type=\"text/javascript\"  src=\"/bitrix/cache/js/s1/svoy-bany/kernel_main/kernel_main_v1.js?1737368369160623\"></script>\n",
      "<script type=\"text/javascript\"  src=\"/bitrix/cache/js/s1/svoy-bany/kernel_main_polyfill_customevent/kernel_main_polyfill_customevent_v1.js?17373682591051\"></script>\n",
      "<script type=\"text/javascript\" src=\"/bitrix/js/ui/dexie/dist/dexie.bitrix.bundle.min.js?159401488760291\"></script>\n",
      "<script type=\"text/javascript\" src=\"/bitrix/js/main/core/core_ls.min.js?15742398937365\"></script>\n",
      "<script type=\"text/javascript\" src=\"/bitrix/js/main/core/core_frame_cache.min.js?160187985410532\"></script>\n",
      "<script type=\"text/javascript\">BX.setJSList(['/bitrix/js/main/core/core_fx.js','/bitrix/js/main/session.js','/bitrix/js/main/pageobject/pageobject.js','/bitrix/js/main/core/core_window.js','/bitrix/js/main/date/main.date.js','/bitrix/js/main/core/core_date.js','/bitrix/js/main/utils.js','/bitrix/js/main/polyfill/customevent/main.polyfill.customevent.js','/bitrix/templates/svoy-bany/components/bitrix/menu/top_menu/script.js']);</script>\n",
      "\n",
      "\n",
      "<script type=\"text/javascript\"  src=\"/bitrix/cache/js/s1/svoy-bany/template_ae3ecbe5687763c67a251aa94b03750f/template_ae3ecbe5687763c67a251aa94b03750f_v1.js?1737368259950\"></script>\n",
      "<script type=\"text/javascript\">var _ba = _ba || []; _ba.push([\"aid\", \"1f193c30dee54e19bdf33e71fe787ab8\"]); _ba.push([\"host\", \"svoy-bany.ru\"]); (function() {var ba = document.createElement(\"script\"); ba.type = \"text/javascript\"; ba.async = true;ba.src = (document.location.protocol == \"https:\" ? \"https://\" : \"http://\") + \"bitrix.info/ba.js\";var s = document.getElementsByTagName(\"script\")[0];s.parentNode.insertBefore(ba, s);})();</script>\n",
      "\n",
      "\n",
      "\t\n",
      "\t\t<!-- MOBILE SPECIFIC -->\n",
      "\t\t<meta name=\"viewport\" content=\"width=device-width, initial-scale=1\">\n",
      "\t\t<!--[if lt IE 9]>\n",
      "\t\t<script src=\"js/html5shiv.min.js\"></script>\n",
      "\t\t<script src=\"js/respond.min.js\"></script>\n",
      "\t\t<![endif]-->\n",
      "\t\t\n",
      "\t\t<!-- STYLESHEETS -->\n",
      "\t\t<link rel=\"stylesheet preload\" type=\"text/css\" as=\"style\" href=\"/bitrix/templates/svoy-bany/css/plugins.css\">\n",
      "\t\t<link rel=\"stylesheet preload\" type=\"text/css\" as=\"style\" href=\"/bitrix/templates/svoy-bany/css/style.css\">\n",
      "\t\t<link rel=\"stylesheet preload\" type=\"text/css\" as=\"style\" href=\"/bitrix/templates/svoy-bany/css/templete.css\">\n",
      "\t\t<link class=\"skin\"  rel=\"stylesheet\" type=\"text/css\" href=\"/bitrix/templates/svoy-bany/css/skin/skin-1.css\">\n",
      "\t\t<!-- Revolution Slider Css -->\n",
      "\t\t<link rel=\"stylesheet\" type=\"text/css\" as=\"style\" href=\"/bitrix/templates/svoy-bany/plugins/revolution/revolution/css/settings.css\">\n",
      "\t\t<!-- Revolution Navigation Style -->\n",
      "\t\t<link rel=\"stylesheet\" type=\"text/css\" as=\"style\" href=\"/bitrix/templates/svoy-bany/plugins/revolution/revolution/css/navigation.css\">\n",
      "\n",
      "\t\t<link rel=\"stylesheet\" href=\"https://cdn.jsdelivr.net/npm/swiper@11/swiper-bundle.min.css\"/>\n",
      "\t\t<script src=\"https://cdn.jsdelivr.net/npm/swiper@11/swiper-bundle.min.js\"></script>\n",
      "<!-- Top.Mail.Ru counter -->\n",
      "<script type=\"text/javascript\">\n",
      "var _tmr = window._tmr || (window._tmr = []);\n",
      "_tmr.push({id: \"3320080\", type: \"pageView\", start: (new Date()).getTime()});\n",
      "(function (d, w, id) {\n",
      "  if (d.getElementById(id)) return;\n",
      "  var ts = d.createElement(\"script\"); ts.type = \"text/javascript\"; ts.async = true; ts.id = id;\n",
      "  ts.src = \"https://top-fwz1.mail.ru/js/code.js\";\n",
      "  var f = function () {var s = d.getElementsByTagName(\"script\")[0]; s.parentNode.insertBefore(ts, s);};\n",
      "  if (w.opera == \"[object Opera]\") { d.addEventListener(\"DOMContentLoaded\", f, false); } else { f(); }\n",
      "})(document, window, \"tmr-code\");\n",
      "</script>\n",
      "<noscript><div><img src=\"https://top-fwz1.mail.ru/counter?id=3320080;js=na\" style=\"position:absolute;left:-9999px;\" alt=\"Top.Mail.Ru\" /></div></noscript>\n",
      "<!-- /Top.Mail.Ru counter -->\n",
      "\t</head>\n",
      "\t<body id=\"bg\">\n",
      "\t\t<div id=\"panel\">\n",
      "\t\t\t\t\t</div>\n",
      "\t\t<div class=\"page-wraper\">\n",
      "\t\t\t<div id=\"loading-area1\"></div>\n",
      "\t\t\t\t<!-- header -->\n",
      "\t\t\t\t<header class=\"site-header header-style-1 dark mo-left\">\n",
      "\t\t\t\t\t<!-- top bar -->\n",
      "\t\t\t\t\t<div class=\"top-bar\">\n",
      "\t\t\t\t\t\t<div class=\"container\">\n",
      "\t\t\t\t\t\t\t<div class=\"row d-flex justify-content-between\">\n",
      "\t\t\t\t\t\t\t\t<div class=\"rdx-topbar-left\">\n",
      "\t\t\t\t\t\t\t\t\t<ul class=\"social-bx list-inline pull-right\">\n",
      "\t\t\t\t\t\t\t\t\t\t<li><a href=\"https://instagram.com/_u/stroimbani?r=sun1\" title=\"Перейти на сайт instagram.com\" target=\"_blank\">\n",
      "    <img src=\"/images/instagram-icon.png\" alt=\"instagram\">\n",
      "</a></li>\n",
      "<li><a href=\"https://www.youtube.com/channel/UCU1mN88DgzpE6ZVdjRrLuPA/videos\" title=\"Перейти на сайт youtube.com\" target=\"_blank\">\n",
      "    <img src=\"/images/youtube-icon.png\" alt=\"\">\n",
      "</a></li>\n",
      "<li><a href=\"https://rutube.ru/channel/25079153/\" title=\"Перейти на сайт rutube.ru\" target=\"_blank\">\n",
      "    <img src=\"/images/rutube-icon.jpg\" alt=\"\">\n",
      "</a></li>\n",
      "<li><a href=\"https://ok.ru/svoyabanya\" title=\"Перейти на сайт ok.ru\" target=\"_blank\">\n",
      "    <img src=\"/images/ok-icon.png\" alt=\"\">\n",
      "</a></li>\n",
      "<li><a href=\"https://vk.com/svoybany86\" title=\"Перейти на сайт vk.com\" target=\"_blank\">\n",
      "    <img src=\"/images/vk-icon.png\" alt=\"\">\n",
      "</a></li>\n",
      "<li><a href=\"https://wa.me/+79292977627\" title=\"Написать нам в Whatsapp\">\n",
      "    <img src=\"/images/whatsapp-icon.png\" alt=\"\">\n",
      "</a></li>\n",
      "<li><a href=\"viber://chat?number=+79292977627\" title=\"Написать нам в Viber\">\n",
      "    <img src=\"/images/viber-icon.png\" alt=\"\">\n",
      "</a></li>\n",
      "<li><a href=\"https://t.me/svoy_bany86\" title=\"Написать нам в Telegram\" target=\"_blank\">\n",
      "    <img src=\"/images/telegram-icon.png\" alt=\"\">\n",
      "</a></li>\n",
      "<!--<div class =\"about_link\">-->\n",
      "<!--    <a href=\"/about/\">О компании</a>-->\n",
      "<!--</div>-->\t\t\t\t\t\t\t\t\t</ul>\n",
      "\t\t\t\t\t\t\t\t</div>\n",
      "                                <div class=\"logo__text\">\n",
      "                                    <span>\n",
      "\t\t\t\t\t\t\t\t\t\tCтроительство мобильных домов и бань\t\t\t\t\t\t\t\t\t</span>\n",
      "                                </div>\n",
      "\t\t\t\t\t\t\t\t<div class=\"rdx-topbar-right list-unstyled e-p-bx \"> \n",
      "\t\t\t\t\t\t\t\t\t<ul>\n",
      "\t\t\t\t\t\t\t\t\t\t<li>\n",
      "\t\t\t\t\t\t\t\t\t\t\t\t\t\t\t\t\t\t\t\t\t</li>\n",
      "\t\t\t\t\t\t\t\t\t\t<li>\n",
      "\t\t\t\t\t\t\t\t\t\t\t<a class=\"callibri_phone\" href=\"tel:+73462479799\">\n",
      "\t<i class=\"fa fa-phone\"></i>\n",
      "\t<span>+7 (3462) 47-97-99</span>\n",
      "</a>\n",
      "\t\t\t\t\t\t\t\t\t\t</li>\n",
      "\t\t\t\t\t\t\t\t\t\t<li><button class=\"site-button skew-secondry\" id=\"btn-modal-window\">Заказать звонок</button></li>\n",
      "\t\t\t\t\t\t\t\t\t</ul>\t\n",
      "\t\t\t\t\t\t\t\t</div>\n",
      "\t\t\t\t\t\t\t</div>\n",
      "\t\t\t\t\t\t</div>\n",
      "\t\t\t\t\t</div>\n",
      "\t\t\t\t\t<!-- top bar END-->\n",
      "\t\t\t\t\t<!-- main header -->\n",
      "\t\t\t\t\t<div class=\"sticky-header header-curve main-bar-wraper navbar-expand-lg\">\n",
      "\t\t\t\t\t\t<div class=\"main-bar bg-primary clearfix \">\n",
      "\t\t\t\t\t\t\t<div class=\"container clearfix\">\n",
      "\t\t\t\t\t\t\t\t<!-- website logo -->\n",
      "\t\t\t\t\t\t\t\t<div class=\"logo-header mostion logohead\">\n",
      "\t\t\t\t\t\t\t\t\t<a href=\"/\">\n",
      "\t\t\t\t\t\t\t\t\t\t<picture>\n",
      "    <source style=\"width: 59px; height: 62px\" media=\"(max-width: 767px)\" srcset=\"/bitrix/templates/svoy-bany/images/logo.png\" height=\"89\" alt=\"Своя Баня\">\n",
      "    <source style=\"width: 268px; height: 80px;\" media=\"(max-width: 2560px)\" srcset=\"/bitrix/templates/svoy-bany/images/logo-new.png\" height=\"89\" alt=\"Своя Баня\">\n",
      "    <img src=\"/bitrix/templates/svoy-bany/images/logo-new.png\" width=\"268\" height=\"89\" alt=\"Своя Баня\">\n",
      "</picture>\n",
      "\t\t\t\t\t\t\t\t\t</a>\n",
      "\t\t\t\t\t\t\t\t</div>\n",
      "\t\t\t\t\t\t\t\t<!-- nav toggle button -->\n",
      "\t\t\t\t\t\t\t\t<button class=\"navbar-toggler collapsed navicon justify-content-end\" type=\"button\" data-toggle=\"collapse\" data-target=\"#navbarNavDropdown\" aria-controls=\"navbarNavDropdown\" aria-expanded=\"false\" aria-label=\"Toggle navigation\">\n",
      "\t\t\t\t\t\t\t\t\t<span></span>\n",
      "\t\t\t\t\t\t\t\t\t<span></span>\n",
      "\t\t\t\t\t\t\t\t\t<span></span>\n",
      "\t\t\t\t\t\t\t\t</button>\n",
      "\t\t\t\t\t\t\t\t<!-- extra nav -->\n",
      "\n",
      "\t\t\t\t\t\t\t\t<!-- main nav -->\n",
      "\t\t\t\t\t\t\t\t<div id=\"bxdynamic_LkGdQn_start\" style=\"display:none\"></div>\n",
      "<div class=\"header-nav navbar-collapse collapse justify-content-end\" id=\"navbarNavDropdown\">\n",
      "\t<ul class=\" nav navbar-nav\">\n",
      "\t\t\t\t\t\t\t\t\t\t\t\t\t\t\t\t\t\t\t\t\t\t\t\t\t\t\t<li class=\"selected active\">\n",
      "\t\t\t\t\t\t\t<a href=\"/\">\n",
      "\t\t\t\t\t\t\t\tГлавная\t\t\t\t\t\t\t</a>\n",
      "\t\t\t\t\t\t</li>\n",
      "\t\t\t\t\t\t\t\t\t\t\t\t\t\t\t\t\t\n",
      "\t\t\t\t\t\t\t\t\t\t\t\t\t\t\t\t\t<li >\n",
      "\t\t\t\t\t\t<a href=\"/catalog/\">\n",
      "\t\t\t\t\t\t\tЦена\t\t\t\t\t\t\t<i class=\"fa fa-chevron-down\"></i>\n",
      "\t\t\t\t\t\t</a>\n",
      "\t\t\t\t\t\t<button>\n",
      "\t\t\t\t\t\t\t<i class=\"fa fa-chevron-down\"></i>\n",
      "\t\t\t\t\t\t</button>\n",
      "\t\t\t\t\t\t<ul class=\"sub-menu\">\n",
      "\t\t\t\t\t\t\t\t\t\t\t\t\n",
      "\t\t\t\t\t\t\t\t\t\t\t\t\t\t\t\t\t\t\t\t\t\t\t<li >\n",
      "\t\t\t\t\t\t\t<a href=\"/catalog/karkasnye-bani/\">\n",
      "\t\t\t\t\t\t\t\tБани Север\t\t\t\t\t\t\t</a>\n",
      "\t\t\t\t\t\t</li>\n",
      "\t\t\t\t\t\t\t\t\t\t\t\t\t\t\t\t\t\n",
      "\t\t\t\t\t\t\t\t\t\t\t\t\t\t\t\t\t\t\t\t\t\t\t<li >\n",
      "\t\t\t\t\t\t\t<a href=\"/catalog/karkasnye-doma/\">\n",
      "\t\t\t\t\t\t\t\tДома Север\t\t\t\t\t\t\t</a>\n",
      "\t\t\t\t\t\t</li>\n",
      "\t\t\t\t\t\t\t\t\t\t\t\t\t\t\t\t\t\n",
      "\t\t\t\t\t\t\t\t\t\t\t\t\t\t\t\t\t\t\t\t\t\t\t<li >\n",
      "\t\t\t\t\t\t\t<a href=\"/catalog/bani-loft/\">\n",
      "\t\t\t\t\t\t\t\tБани LOFT\t\t\t\t\t\t\t</a>\n",
      "\t\t\t\t\t\t</li>\n",
      "\t\t\t\t\t\t\t\t\t\t\t\t\t\t\t\t\t\n",
      "\t\t\t\t\t\t\t\t\t\t\t\t\t\t\t\t\t\t\t\t\t\t\t<li >\n",
      "\t\t\t\t\t\t\t<a href=\"/catalog/doma-v-stile-loft/\">\n",
      "\t\t\t\t\t\t\t\tДома LOFT\t\t\t\t\t\t\t</a>\n",
      "\t\t\t\t\t\t</li>\n",
      "\t\t\t\t\t\t\t\t\t\t\t\t\t\t\t\t\t\n",
      "\t\t\t\t\t\t\t\t\t</ul></li>\t\t\t\t\t\t\t\t\t\t\t\t\t\t\t<li >\n",
      "\t\t\t\t\t\t<a href=\"/our-work/\">\n",
      "\t\t\t\t\t\t\tФото\t\t\t\t\t\t\t<i class=\"fa fa-chevron-down\"></i>\n",
      "\t\t\t\t\t\t</a>\n",
      "\t\t\t\t\t\t<button>\n",
      "\t\t\t\t\t\t\t<i class=\"fa fa-chevron-down\"></i>\n",
      "\t\t\t\t\t\t</button>\n",
      "\t\t\t\t\t\t<ul class=\"sub-menu\">\n",
      "\t\t\t\t\t\t\t\t\t\t\t\t\n",
      "\t\t\t\t\t\t\t\t\t\t\t\t\t\t\t\t\t\t\t\t\t\t\t<li >\n",
      "\t\t\t\t\t\t\t<a href=\"/our-work/karkasnye-bani/\">\n",
      "\t\t\t\t\t\t\t\tКаркасные бани\t\t\t\t\t\t\t</a>\n",
      "\t\t\t\t\t\t</li>\n",
      "\t\t\t\t\t\t\t\t\t\t\t\t\t\t\t\t\t\n",
      "\t\t\t\t\t\t\t\t\t\t\t\t\t\t\t\t\t\t\t\t\t\t\t<li >\n",
      "\t\t\t\t\t\t\t<a href=\"/our-work/modulnye-doma-i-bani/\">\n",
      "\t\t\t\t\t\t\t\tМодульные дома и бани\t\t\t\t\t\t\t</a>\n",
      "\t\t\t\t\t\t</li>\n",
      "\t\t\t\t\t\t\t\t\t\t\t\t\t\t\t\t\t\n",
      "\t\t\t\t\t\t\t\t\t</ul></li>\t\t\t\t\t\t\t\t\t\t\t\t\t\t\t\t\t\t\t\t\t<li >\n",
      "\t\t\t\t\t\t\t<a href=\"/video/\">\n",
      "\t\t\t\t\t\t\t\tВидео\t\t\t\t\t\t\t</a>\n",
      "\t\t\t\t\t\t</li>\n",
      "\t\t\t\t\t\t\t\t\t\t\t\t\t\t\t\t\t\n",
      "\t\t\t\t\t\t\t\t\t\t\t\t\t\t\t\t\t\t\t\t\t\t\t<li >\n",
      "\t\t\t\t\t\t\t<a href=\"/contacts/\">\n",
      "\t\t\t\t\t\t\t\tКонтакты\t\t\t\t\t\t\t</a>\n",
      "\t\t\t\t\t\t</li>\n",
      "\t\t\t\t\t\t\t\t\t\t\t\t\t\t\t\t\t\n",
      "\t\t\t\t\t</ul>\n",
      "</div>\n",
      "<div id=\"bxdynamic_LkGdQn_end\" style=\"display:none\"></div>\t\t\t\t\t\t\t\t<!-- main nav END -->\n",
      "\t\t\t\t\t\t\t</div>\n",
      "\t\t\t\t\t\t</div>\n",
      "\t\t\t\t\t</div>\n",
      "\t\t\t\t\t<!-- main header END -->\n",
      "\t\t\t\t</header>\n",
      "\t\t\t\t<!-- header END -->\n",
      "\n",
      "\t\t\t\t<!-- Content -->\n",
      "\t\t\t\t<div class=\"page-content\">\n",
      "\n",
      "\t\t\t\t\t\t\t\t\t\t<style>\n",
      "\t\t\t\t\t\t.cat-head-ban {min-height: 300px;background-size: cover;background-repeat: no-repeat;background-position: top center;}\n",
      "\t\t\t\t\t\t.cat-head-ban.overlay-black-middle:after {opacity:0;}\n",
      "\t\t\t\t\t\t@media all and (max-width: 1450px){\n",
      "\t\t\t\t\t\t\t.cat-head-ban {min-height: 215px;background-size: contain;background-position: center center; }\n",
      "\t\t\t\t\t\t\t.rdx-bnr-inr.cat-head-ban {height: 215px!important;}\n",
      "\t\t\t\t\t\t}\n",
      "\t\t\t\t\t\t@media all and (max-width:767px){\n",
      "\t\t\t\t\t\t\t.cat-head-ban {min-height: 0px;height: 60px;background-size: cover;}\n",
      "\t\t\t\t\t\t\t.rdx-bnr-inr.cat-head-ban {height: 140px!important;}\n",
      "\t\t\t\t\t\t}\n",
      "\t\t\t\t\t\t@media all and (max-width:550px){\n",
      "\t\t\t\t\t\t\t.rdx-bnr-inr.cat-head-ban {height: 80px!important;}\n",
      "\t\t\t\t\t\t}\n",
      "\t\t\t\t\t\t</style>\n",
      "<!-- inner page banner -->\n",
      "\t\t\t\t\t\t<div class=\"rdx-bnr-inr overlay-black-middle cat-head-ban\" style=\"background-image:url(/images/fon-stati.png);\">\n",
      "\t\t\t\t\t\t\t<div class=\"container\">\n",
      "\t\t\t\t\t\t\t\t<div class=\"rdx-bnr-inr-entry\">\n",
      "\t\t\t\t\t\t\t\t\t<!--h1 class=\"text-white\"></h1-->\n",
      "\t\t\t\t\t\t\t\t</div>\n",
      "\t\t\t\t\t\t\t</div>\n",
      "\t\t\t\t\t\t</div>\n",
      "\t\t\t\t\t\t<!-- inner page banner END -->\n",
      "\t\t\t\t\t\t<!-- Breadcrumb row -->\n",
      "\t\t\t\t\t\t<div class=\"breadcrumb-row\">\n",
      "\t\t\t\t\t\t\t<div class=\"container\">\n",
      "\t\t\t\t\t\t\t\t<ul class=\"list-inline\" itemprop=\"http://schema.org/breadcrumb\" itemscope itemtype=\"http://schema.org/BreadcrumbList\">\n",
      "\t\t\t<li id=\"bx_breadcrumb_0\" itemprop=\"itemListElement\" itemscope itemtype=\"http://schema.org/ListItem\">\n",
      "\t\t\t\t<a itemprop=\"item\" href=\"/\" title=\"Главная\" >\n",
      "\t\t\t\t\t<span itemprop=\"name\">Главная</span>\n",
      "\t\t\t\t</a>\n",
      "\t\t\t\t<meta itemprop=\"position\" content=\"1\" />\n",
      "\t\t\t</li>\n",
      "\t\t\t<li itemprop=\"itemListElement\" itemscope itemtype=\"http://schema.org/ListItem\">\n",
      "\t\t\t\t<span itemprop=\"name\">Полезно знать</span>\n",
      "\t\t\t\t<meta itemprop=\"position\" content=\"2\" />\n",
      "\t\t\t</li></ul>\t\t\t\t\t\t\t</div>\n",
      "\t\t\t\t\t\t</div>\n",
      "\t\t\t\t\t\t<!-- Breadcrumb row END -->\n",
      "\n",
      "\t\t\t\t\t\t<!-- contact area -->\n",
      "\t\t\t\t\t\t<div class=\"content-area\">\n",
      "\t\t\t\t\t\t\t<!-- Page -->\n",
      "\t\t\t\t\t\t\t<div class=\"container\">\n",
      "\t\t\t\t\t\t\t\t\t\t\t\t\t\t\t\t\t<div class=\"row\">\n",
      "\t<div class=\"col-12\">\n",
      "\t\t<div class=\"icon-bx-xs m-b30 m-r8\"> \n",
      "\t\t\t<span class=\"icon-cell\">\n",
      "\t\t\t\t<a href=\"https://ok.ru/svoyabanya\" title=\"Перейти на сайт ok.ru\" target=\"_blank\">\n",
      "\t\t\t\t\t<img src=\"/images/ok-icon.png\" alt=\"\">\n",
      "\t\t\t\t</a>\n",
      "\t\t\t</span> \n",
      "\t\t</div>\n",
      "\t\t<div class=\"icon-bx-xs m-b30 m-r8\"> \n",
      "\t\t\t<span class=\"icon-cell\">\n",
      "\t\t\t\t<a href=\"https://vk.com/svoybany86\" title=\"Перейти на сайт vk.com\" target=\"_blank\">\n",
      "\t\t\t\t\t<img src=\"/images/vk-icon.png\" alt=\"\">\n",
      "\t\t\t\t</a>\n",
      "\t\t\t</span> \n",
      "\t\t</div>\n",
      "\t\t<div class=\"icon-bx-xs m-b30 m-r8\"> \n",
      "\t\t\t<span class=\"icon-cell\">\n",
      "\t\t\t\t<a href=\"https://instagram.com/_u/stroimbani?r=sun1\" title=\"Перейти на сайт instagram.com\" target=\"_blank\">\n",
      "\t\t\t\t\t<img src=\"/images/instagram-icon.png\" alt=\"\">\n",
      "\t\t\t\t</a>\n",
      "\t\t\t</span> \n",
      "\t\t</div>\n",
      "\t\t<div class=\"icon-bx-xs m-b30 m-r8\"> \n",
      "\t\t\t<span class=\"icon-cell\">\n",
      "\t\t\t\t<a href=\"https://www.youtube.com/channel/UCU1mN88DgzpE6ZVdjRrLuPA/videos\" title=\"Перейти на сайт youtube.com\" target=\"_blank\">\n",
      "\t\t\t\t\t<img src=\"/images/youtube-icon.png\" alt=\"\">\n",
      "\t\t\t\t</a>\n",
      "\t\t\t</span> \n",
      "\t\t</div>\n",
      "\t<div class=\"icon-bx-xs m-b30 m-r8\"> \n",
      "\t\t\t<span class=\"icon-cell\">\n",
      "\t\t\t\t<a href=\"https://rutube.ru/channel/25079153/\" title=\"Перейти на сайт rutube.ru\" target=\"_blank\">\n",
      "\t\t\t\t\t<img src=\"/images/rutube-icon.jpg\" alt=\"\">\n",
      "\t\t\t\t</a>\n",
      "\t\t\t</span> \n",
      "\t\t</div>\n",
      "\t\t<div class=\"icon-bx-xs m-b30 m-r8 \"> \n",
      "\t\t\t<span class=\"icon-cell\">\n",
      "\t\t\t\t<a href=\"https://wa.me/+79292977627\" title=\"Написать нам в Whatsapp\">\n",
      "\t\t\t\t\t<img src=\"/images/whatsapp-icon.png\" alt=\"\">\n",
      "\t\t\t\t</a>\n",
      "\t\t\t</span> \n",
      "\t\t</div>\n",
      "\t\t<div class=\"icon-bx-xs m-b30 m-r8 \"> \n",
      "\t\t\t<span class=\"icon-cell\">\n",
      "\t\t\t\t<a href=\"viber://chat?number=+79292977627\" title=\"Написать нам в Viber\">\n",
      "\t\t\t\t\t<img src=\"/images/viber-icon.png\" alt=\"\">\n",
      "\t\t\t\t</a>\n",
      "\t\t\t</span> \n",
      "\t\t</div>\n",
      "\t<div class=\"icon-bx-xs m-b30 \"> \n",
      "\t\t\t<span class=\"icon-cell\">\n",
      "\t\t\t\t<a href=\"https://t.me/svoy_bany86\" title=\"Написать нам в Telegram\" target=\"_blank\">\n",
      "\t\t\t\t\t<img src=\"/images/telegram-icon.png\" alt=\"\">\n",
      "\t\t\t\t</a>\n",
      "\t\t\t</span> \n",
      "\t\t</div>\n",
      "\n",
      "\n",
      "\t</div>\n",
      "</div>\t\t\t\t\t\t\t\t\t\t\t\t\t\n",
      "\n",
      "\n",
      "\n",
      "<div class=\"news-list\">\n",
      "\t\t<p class=\"news-item\" id=\"bx_3218110189_1174\">\n",
      "\t\t\t\t\t\t\t\t\t<a href=\"/article/tekhnologiya-stroitelstva-iz-minibrusa/\"><img\n",
      "\t\t\t\t\t\tclass=\"preview_picture\"\n",
      "\t\t\t\t\t\tborder=\"0\"\n",
      "\t\t\t\t\t\tsrc=\"/upload/iblock/46b/46b93a704189dce9f7c3b5f007d8948e.jpg\"\n",
      "\t\t\t\t\t\twidth=\"300\"\n",
      "\t\t\t\t\t\theight=\"172\"\n",
      "\t\t\t\t\t\talt=\"Технология строительства из минибруса\"\n",
      "\t\t\t\t\t\ttitle=\"Технология строительства из минибруса\"\n",
      "\t\t\t\t\t\tstyle=\"float:left\"\n",
      "\t\t\t\t\t\t/></a>\n",
      "\t\t\t\t\t\t\t\t\t\t\t\t\t\t\t\t<a href=\"/article/tekhnologiya-stroitelstva-iz-minibrusa/\"><b>Технология строительства из минибруса</b></a><br />\n",
      "\t\t\t\t\t\t\t\t\t\t<div class = \"preview\">\n",
      "\t\t\t\tСтроительство дома из минибруса не подразумевает каких-либо сложных принципов и особенностей. Сама по себе технология достаточно проста, чем она и привлекательна.\t\t\t</div>\n",
      "\t\t\t\t\t\t\t<div style=\"clear:both\"></div>\n",
      "\t\t\t\t\t\t\t</p>\n",
      "\t\t<p class=\"news-item\" id=\"bx_3218110189_1173\">\n",
      "\t\t\t\t\t\t\t\t\t<a href=\"/article/a-frame-house-treugolnye-doma-shalashi-snova-nabirayut-populyarnost/\"><img\n",
      "\t\t\t\t\t\tclass=\"preview_picture\"\n",
      "\t\t\t\t\t\tborder=\"0\"\n",
      "\t\t\t\t\t\tsrc=\"/upload/iblock/77c/77c1ab733d9fffc8d2e3461aecf01e82.png\"\n",
      "\t\t\t\t\t\twidth=\"300\"\n",
      "\t\t\t\t\t\theight=\"168\"\n",
      "\t\t\t\t\t\talt=\"A-frame House: треугольные дома-шалаши снова набирают популярность\"\n",
      "\t\t\t\t\t\ttitle=\"A-frame House: треугольные дома-шалаши снова набирают популярность\"\n",
      "\t\t\t\t\t\tstyle=\"float:left\"\n",
      "\t\t\t\t\t\t/></a>\n",
      "\t\t\t\t\t\t\t\t\t\t\t\t\t\t\t\t<a href=\"/article/a-frame-house-treugolnye-doma-shalashi-snova-nabirayut-populyarnost/\"><b>A-frame House: треугольные дома-шалаши снова набирают популярность</b></a><br />\n",
      "\t\t\t\t\t\t\t\t\t\t<div class = \"preview\">\n",
      "\t\t\t\tA-frame дом – это тот самый случай, когда хочется иметь на своем участке что-то необычное, красивое и к тому же современное. Идея строительства А-образных проектов хоть и не нова, но в последнее время набирает огромную популярность.\t\t\t</div>\n",
      "\t\t\t\t\t\t\t<div style=\"clear:both\"></div>\n",
      "\t\t\t\t\t\t\t</p>\n",
      "\t\t<p class=\"news-item\" id=\"bx_3218110189_1172\">\n",
      "\t\t\t\t\t\t\t\t\t<a href=\"/article/banya-iz-brusa-ili-karkasnaya-chto-luchshe-vybrat/\"><img\n",
      "\t\t\t\t\t\tclass=\"preview_picture\"\n",
      "\t\t\t\t\t\tborder=\"0\"\n",
      "\t\t\t\t\t\tsrc=\"/upload/iblock/4dd/4ddd7ab89a0e7d08cd108ae3a4149cfc.jpg\"\n",
      "\t\t\t\t\t\twidth=\"300\"\n",
      "\t\t\t\t\t\theight=\"148\"\n",
      "\t\t\t\t\t\talt=\"Баня из бруса или каркасная – что лучше выбрать?\"\n",
      "\t\t\t\t\t\ttitle=\"Баня из бруса или каркасная – что лучше выбрать?\"\n",
      "\t\t\t\t\t\tstyle=\"float:left\"\n",
      "\t\t\t\t\t\t/></a>\n",
      "\t\t\t\t\t\t\t\t\t\t\t\t\t\t\t\t<a href=\"/article/banya-iz-brusa-ili-karkasnaya-chto-luchshe-vybrat/\"><b>Баня из бруса или каркасная – что лучше выбрать?</b></a><br />\n",
      "\t\t\t\t\t\t\t\t\t\t<div class = \"preview\">\n",
      "\t\t\t\tКак и из чего построить баню – вопрос, с которым сталкиваются миллионы семей. Сегодня мы поделимся с вами, дорогие наши читатели, своим объективным мнением на счет того, какая баня лучше, из бруса или все же каркасная.\t\t\t</div>\n",
      "\t\t\t\t\t\t\t<div style=\"clear:both\"></div>\n",
      "\t\t\t\t\t\t\t</p>\n",
      "\t\t<p class=\"news-item\" id=\"bx_3218110189_1163\">\n",
      "\t\t\t\t\t\t\t\t\t<a href=\"/article/vse-o-modulnyh-banyah/\"><img\n",
      "\t\t\t\t\t\tclass=\"preview_picture\"\n",
      "\t\t\t\t\t\tborder=\"0\"\n",
      "\t\t\t\t\t\tsrc=\"/upload/iblock/af5/af5dc991bc562616ad56a4045b2b7480.jpg\"\n",
      "\t\t\t\t\t\twidth=\"300\"\n",
      "\t\t\t\t\t\theight=\"143\"\n",
      "\t\t\t\t\t\talt=\"Модульные бани: особенности строительства, преимущества конструкции\"\n",
      "\t\t\t\t\t\ttitle=\"Модульные бани: особенности строительства, преимущества конструкции\"\n",
      "\t\t\t\t\t\tstyle=\"float:left\"\n",
      "\t\t\t\t\t\t/></a>\n",
      "\t\t\t\t\t\t\t\t\t\t\t\t\t\t\t\t<a href=\"/article/vse-o-modulnyh-banyah/\"><b>Модульные бани: особенности строительства, преимущества конструкции</b></a><br />\n",
      "\t\t\t\t\t\t\t\t\t\t<div class = \"preview\">\n",
      "\t\t\t\tМногие ошибочно думают, что строительство бани процесс затяжной, сложный и к тому же дорогой. Если вы считаете также, значит вам еще не знакома новая модульная технология строительства бань.\t\t\t</div>\n",
      "\t\t\t\t\t\t\t<div style=\"clear:both\"></div>\n",
      "\t\t\t\t\t\t\t</p>\n",
      "\t\t<p class=\"news-item\" id=\"bx_3218110189_1095\">\n",
      "\t\t\t\t\t\t\t\t\t<a href=\"/article/plusy-i-minusy-karkasnyh-domov/\"><img\n",
      "\t\t\t\t\t\tclass=\"preview_picture\"\n",
      "\t\t\t\t\t\tborder=\"0\"\n",
      "\t\t\t\t\t\tsrc=\"/upload/iblock/bdd/bdd7dca5612c06050b0d28e6664c79b9.png\"\n",
      "\t\t\t\t\t\twidth=\"300\"\n",
      "\t\t\t\t\t\theight=\"168\"\n",
      "\t\t\t\t\t\talt=\"Плюсы и минусы каркасных домов\"\n",
      "\t\t\t\t\t\ttitle=\"Плюсы и минусы каркасных домов\"\n",
      "\t\t\t\t\t\tstyle=\"float:left\"\n",
      "\t\t\t\t\t\t/></a>\n",
      "\t\t\t\t\t\t\t\t\t\t\t\t\t\t\t\t<a href=\"/article/plusy-i-minusy-karkasnyh-domov/\"><b>Плюсы и минусы каркасных домов</b></a><br />\n",
      "\t\t\t\t\t\t\t\t\t\t<div class = \"preview\">\n",
      "\t\t\t\tТехнологий возведения жилых зданий много, но, пожалуй, пальму первенства удерживает каркасное строительство. По сути это прочная коробка, которая облагораживается кровлей, окнами, дверьми и пр.&#41;. Чтобы лучше понять, почему оно так популярно, разберем основные плюсы и минусы каркасного дома. Отметим, что речь идет о постройках, возведенных из качественных материалов, профессионалами, а также по всем стандартам.\t\t\t</div>\n",
      "\t\t\t\t\t\t\t<div style=\"clear:both\"></div>\n",
      "\t\t\t\t\t\t\t</p>\n",
      "\t\t<p class=\"news-item\" id=\"bx_3218110189_76\">\n",
      "\t\t\t\t\t\t\t\t\t<a href=\"/article/pravila-ekspluatatsii-ban-bochek/\"><img\n",
      "\t\t\t\t\t\tclass=\"preview_picture\"\n",
      "\t\t\t\t\t\tborder=\"0\"\n",
      "\t\t\t\t\t\tsrc=\"/upload/iblock/678/678ad6303e90468ef865429a00cc9e90.jpg\"\n",
      "\t\t\t\t\t\twidth=\"300\"\n",
      "\t\t\t\t\t\theight=\"200\"\n",
      "\t\t\t\t\t\talt=\"Правила эксплуатации бань-бочек\"\n",
      "\t\t\t\t\t\ttitle=\"Правила эксплуатации бань-бочек\"\n",
      "\t\t\t\t\t\tstyle=\"float:left\"\n",
      "\t\t\t\t\t\t/></a>\n",
      "\t\t\t\t\t\t\t\t\t\t\t\t\t\t\t\t<a href=\"/article/pravila-ekspluatatsii-ban-bochek/\"><b>Правила эксплуатации бань-бочек</b></a><br />\n",
      "\t\t\t\t\t\t\t\t\t\t<div class = \"preview\">\n",
      "\t\t\t\tЕсли вы купили или собираетесь купить баню-бочку, вам следует знать правила ее эксплуатации, с тем, чтобы баня-бочка служила вам долгие годы.\t\t\t</div>\n",
      "\t\t\t\t\t\t\t<div style=\"clear:both\"></div>\n",
      "\t\t\t\t\t\t\t</p>\n",
      "\t\t<p class=\"news-item\" id=\"bx_3218110189_46\">\n",
      "\t\t\t\t\t\t\t\t\t<a href=\"/article/napitki-v-bane-travyanoy-chay/\"><img\n",
      "\t\t\t\t\t\tclass=\"preview_picture\"\n",
      "\t\t\t\t\t\tborder=\"0\"\n",
      "\t\t\t\t\t\tsrc=\"/upload/iblock/9f8/9f8c6e1db2f4435b24dedefebd8e2f96.png\"\n",
      "\t\t\t\t\t\twidth=\"300\"\n",
      "\t\t\t\t\t\theight=\"200\"\n",
      "\t\t\t\t\t\talt=\"Напитки в бане: травяной чай\"\n",
      "\t\t\t\t\t\ttitle=\"Напитки в бане: травяной чай\"\n",
      "\t\t\t\t\t\tstyle=\"float:left\"\n",
      "\t\t\t\t\t\t/></a>\n",
      "\t\t\t\t\t\t\t\t\t\t\t\t\t\t\t\t<a href=\"/article/napitki-v-bane-travyanoy-chay/\"><b>Напитки в бане: травяной чай</b></a><br />\n",
      "\t\t\t\t\t\t\t\t\t\t<div class = \"preview\">\n",
      "\t\t\t\tВ банной парной высокая температура, и наш организм активно отдает влагу через пот. Конечно же, мы можем почувствовать сильную жажду. Сразу нужно заметить, что пить много жидкости в бане нельзя – так мы нагружаем наше сердце и все остальное.\t\t\t</div>\n",
      "\t\t\t\t\t\t\t<div style=\"clear:both\"></div>\n",
      "\t\t\t\t\t\t\t</p>\n",
      "\t\t<p class=\"news-item\" id=\"bx_3218110189_45\">\n",
      "\t\t\t\t\t\t\t\t\t<a href=\"/article/kak-pravilno-paritsya-v-bane/\"><img\n",
      "\t\t\t\t\t\tclass=\"preview_picture\"\n",
      "\t\t\t\t\t\tborder=\"0\"\n",
      "\t\t\t\t\t\tsrc=\"/upload/iblock/917/91731e6a0459760903e4372ba002fa49.png\"\n",
      "\t\t\t\t\t\twidth=\"300\"\n",
      "\t\t\t\t\t\theight=\"200\"\n",
      "\t\t\t\t\t\talt=\"Как правильно париться в бане?\"\n",
      "\t\t\t\t\t\ttitle=\"Как правильно париться в бане?\"\n",
      "\t\t\t\t\t\tstyle=\"float:left\"\n",
      "\t\t\t\t\t\t/></a>\n",
      "\t\t\t\t\t\t\t\t\t\t\t\t\t\t\t\t<a href=\"/article/kak-pravilno-paritsya-v-bane/\"><b>Как правильно париться в бане?</b></a><br />\n",
      "\t\t\t\t\t\t\t\t\t\t<div class = \"preview\">\n",
      "\t\t\t\tМытье в бане и посещение парной – это очень полезные процедуры. В бане вы не только глубоко очистите кожу, расслабите напряженные мышцы, но и по-настоящему отдохнете, избавитесь от стресса и усталости.\t\t\t</div>\n",
      "\t\t\t\t\t\t\t<div style=\"clear:both\"></div>\n",
      "\t\t\t\t\t\t\t</p>\n",
      "\t\t<p class=\"news-item\" id=\"bx_3218110189_44\">\n",
      "\t\t\t\t\t\t\t\t\t<a href=\"/article/kak-pravilno-zaparivat-bannyy-venik-iz-raznykh-porod/\"><img\n",
      "\t\t\t\t\t\tclass=\"preview_picture\"\n",
      "\t\t\t\t\t\tborder=\"0\"\n",
      "\t\t\t\t\t\tsrc=\"/upload/iblock/887/887c9f7cba8e305eac54e4750d332036.jpg\"\n",
      "\t\t\t\t\t\twidth=\"300\"\n",
      "\t\t\t\t\t\theight=\"216\"\n",
      "\t\t\t\t\t\talt=\"Как правильно запаривать банный веник из разных пород?\"\n",
      "\t\t\t\t\t\ttitle=\"Как правильно запаривать банный веник из разных пород?\"\n",
      "\t\t\t\t\t\tstyle=\"float:left\"\n",
      "\t\t\t\t\t\t/></a>\n",
      "\t\t\t\t\t\t\t\t\t\t\t\t\t\t\t\t<a href=\"/article/kak-pravilno-zaparivat-bannyy-venik-iz-raznykh-porod/\"><b>Как правильно запаривать банный веник из разных пород?</b></a><br />\n",
      "\t\t\t\t\t\t\t\t\t\t<div class = \"preview\">\n",
      "\t\t\t\tПосещение парной с душистым веничком – это особый момент для отдыхающего в бане. При использовании веника из веток березы или дуба, ваше тело целиком расслабляется, и это не идет ни в какое сравнение с простым принятием ванны или душа.\t\t\t</div>\n",
      "\t\t\t\t\t\t\t<div style=\"clear:both\"></div>\n",
      "\t\t\t\t\t\t\t</p>\n",
      "\t<br /></div>\n",
      "\t</div>\n",
      "\t<!-- Page END-->\n",
      "\t</div>\n",
      "</div>\n",
      "<!-- Content END-->\n",
      "\n",
      "<div class=\"seo-form\" id=\"my-modal\">\n",
      "\t<div class=\"section-content row\" style=\"justify-content: center;\">\n",
      "\t\t<div class=\"p-lr60 p-t50 p-b40 bg-white clearfix m-t40 mack-an-appointment\">\n",
      "\t\t\t<div class=\"close-border\">\n",
      "\t\t\t\t<span class=\"close_modal_window\"></span>\n",
      "\t\t\t</div>\n",
      "\t\t\t<div id=\"comp_0623b3200c0003e133c76844b21eba73\">\t\t\t\t\t\n",
      "<form id=\"seoru_form\" action=\"/article/\" method=\"POST\"><input type=\"hidden\" name=\"bxajaxid\" id=\"bxajaxid_0623b3200c0003e133c76844b21eba73_8BACKi\" value=\"0623b3200c0003e133c76844b21eba73\" /><input type=\"hidden\" name=\"AJAX_CALL\" value=\"Y\" /><script type=\"text/javascript\">\n",
      "function _processform_8BACKi(){\n",
      "\tif (BX('bxajaxid_0623b3200c0003e133c76844b21eba73_8BACKi'))\n",
      "\t{\n",
      "\t\tvar obForm = BX('bxajaxid_0623b3200c0003e133c76844b21eba73_8BACKi').form;\n",
      "\t\tBX.bind(obForm, 'submit', function() {BX.ajax.submitComponentForm(this, 'comp_0623b3200c0003e133c76844b21eba73', true)});\n",
      "\t}\n",
      "\tBX.removeCustomEvent('onAjaxSuccess', _processform_8BACKi);\n",
      "}\n",
      "if (BX('bxajaxid_0623b3200c0003e133c76844b21eba73_8BACKi'))\n",
      "\t_processform_8BACKi();\n",
      "else\n",
      "\tBX.addCustomEvent('onAjaxSuccess', _processform_8BACKi);\n",
      "</script>\n",
      "\t\t\t\t\t<input type=\"hidden\" name=\"sessid\" id=\"sessid\" value=\"\" />\t\t\t\t\t\t<div class=\"row\">\n",
      "\t\t\t\t\t\t\t<div class=\"section-head text-center\">\n",
      "\t\t\t\t\t\t\t\t\t\t\t\t\t\t\t\t<h2  class=\"h2\">Оставьте<span class=\"text-primary\"> заявку</span></h2>\n",
      "\t\t\t\t\t\t\t\t<div class=\"rdx-separator text-primary style-icon border-dark\">\n",
      "\t\t\t\t\t\t\t\t\t<img src=\"/bitrix/templates/svoy-bany/images/leaf-green.png\" alt=\"Своя Баня\"/>\n",
      "\t\t\t\t\t\t\t\t</div>\n",
      "\t\t\t\t\t\t\t\t<p class=\"title-small\">Наш специалист свяжеться с Вами и ответит на все интересующие вопросы</p>\n",
      "\t\t\t\t\t\t\t</div>\n",
      "\t\t\t\t\t\t\t<div class=\"col-sm-12\">\n",
      "\t\t\t\t\t\t\t\t<div class=\"form-group\">\n",
      "\t\t\t\t\t\t\t\t\t<input \n",
      "\t\t\t\t\t\t\t\t\t\tclass=\"form-control\"\n",
      "\t\t\t\t\t\t\t\t\t\ttype=\"text\" \n",
      "\t\t\t\t\t\t\t\t\t\tplaceholder=\"Имя\" \n",
      "\t\t\t\t\t\t\t\t\t\tvalue=\"\"\n",
      "\t\t\t\t\t\t\t\t\t\tname=\"user_name\"\n",
      "\t\t\t\t\t\t\t\t\t>\n",
      "\t\t\t\t\t\t\t\t</div>\n",
      "\t\t\t\t\t\t\t</div>\n",
      "\t\t\t\t\t\t\t<div class=\"col-sm-12\">\n",
      "\t\t\t\t\t\t\t\t<div class=\"form-group\">\n",
      "\t\t\t\t\t\t\t\t\t<input \n",
      "\t\t\t\t\t\t\t\t\t\tclass=\"form-control\"\n",
      "\t\t\t\t\t\t\t\t\t\ttype=\"text\" \n",
      "\t\t\t\t\t\t\t\t\t\tplaceholder=\"Телефон*\" \n",
      "\t\t\t\t\t\t\t\t\t\tname=\"user_phone\"\n",
      "\t\t\t\t\t\t\t\t\t\tvalue=\"\" \n",
      "\t\t\t\t\t\t\t\t\t>\n",
      "\t\t\t\t\t\t\t\t</div>\n",
      "\t\t\t\t\t\t\t</div>\n",
      "\n",
      "\t\t\t\t\t\t\t\t\t\t\t\t\t\t<div class=\"col-lg-12\">\n",
      "\t\t\t\t\t\t\t\t<p>Нажимая кнопку \"Отправить\", Вы соглашаетесь на<a style =\"color:#62821e\" href=\"/privacy/\"> обработку персональных данных.</a></p>\n",
      "\t\t\t\t\t\t\t</div>\n",
      "\t\t\t\t\t\t\t<div class=\"col-lg-12 text-center\">\n",
      "\t\t\t\t\t\t\t\t<div id=\"show_appoinment_msg\" ></div>\n",
      "\t\t\t\t\t\t\t\t<input  class=\"form-control\" type=\"hidden\" name=\"PARAMS_HASH\" value=\"8c8d6c90b55f67057a0eff8517ca7d13\">\n",
      "\t\t\t\t\t\t\t\t<input  class=\"site-button skew-secondry\" type=\"submit\" name=\"submit\" value=\"Отправить\">\n",
      "\t\t\t\t\t\t\t</div>\n",
      "\t\t\t\t\t\t\t\t\t\t\t\t\t\t\t\t\t\t\t\t</div>\n",
      "\t\t\t\t\t</form>\n",
      "</div>\t\t</div>\n",
      "\t</div>\n",
      "</div>\n",
      "\n",
      "<!-- Footer -->\n",
      "<footer class=\"site-footer\">\n",
      "\t<!-- Progress -->\n",
      "\t<div class=\"text-center company-stats bg-primary-dark text-white\">\n",
      "\t<div class=\"container\">\n",
      "\t\t<div class=\"row\">\n",
      "\t\t\t<div class=\"col-lg-8 col-md-8 col-12\">\n",
      "\t\t\t\t<div class=\"row p-t20\">\n",
      "\t\t\t\t\t\t\t\t\t\t\t\t\t\t\t\t\t<div class=\"col-lg-3 col-sm-3 col-6 p-b20\" id=\"bx_651765591_1048\">\n",
      "\t\t\t\t\t\t\t<div class=\"icon-bx-sm radius text-white border-2 m-b5\"> \n",
      "\t\t\t\t\t\t\t\t<span class=\"icon-cell\">\n",
      "\t\t\t\t\t\t\t\t\t<i class=\"fa fa-calendar\"></i>\n",
      "\t\t\t\t\t\t\t\t</span> \n",
      "\t\t\t\t\t\t\t</div>\n",
      "\t\t\t\t\t\t\t<span class=\"counter m-b5  m-t0 h2_style\">\n",
      "\t\t\t\t\t\t\t\t12\t\t\t\t\t\t\t</span>\n",
      "\t\t\t\t\t\t\t<span>\n",
      "\t\t\t\t\t\t\t\tБолее чем 12 лет на строительном рынке\t\t\t\t\t\t\t</span>\n",
      "\t\t\t\t\t\t</div>\n",
      "\t\t\t\t\t\t\t\t\t\t\t\t\t\t\t\t\t<div class=\"col-lg-3 col-sm-3 col-6 p-b20\" id=\"bx_651765591_1049\">\n",
      "\t\t\t\t\t\t\t<div class=\"icon-bx-sm radius text-white border-2 m-b5\"> \n",
      "\t\t\t\t\t\t\t\t<span class=\"icon-cell\">\n",
      "\t\t\t\t\t\t\t\t\t<i class=\"fa fa-home\"></i>\n",
      "\t\t\t\t\t\t\t\t</span> \n",
      "\t\t\t\t\t\t\t</div>\n",
      "\t\t\t\t\t\t\t<span class=\"counter m-b5  m-t0 h2_style\">\n",
      "\t\t\t\t\t\t\t\t950\t\t\t\t\t\t\t</span>\n",
      "\t\t\t\t\t\t\t<span>\n",
      "\t\t\t\t\t\t\t\tПостроенных объектов\t\t\t\t\t\t\t</span>\n",
      "\t\t\t\t\t\t</div>\n",
      "\t\t\t\t\t\t\t\t\t\t\t\t\t\t\t\t\t<div class=\"col-lg-3 col-sm-3 col-6 p-b20\" id=\"bx_651765591_1050\">\n",
      "\t\t\t\t\t\t\t<div class=\"icon-bx-sm radius text-white border-2 m-b5\"> \n",
      "\t\t\t\t\t\t\t\t<span class=\"icon-cell\">\n",
      "\t\t\t\t\t\t\t\t\t<i class=\"fa fa-map-signs\"></i>\n",
      "\t\t\t\t\t\t\t\t</span> \n",
      "\t\t\t\t\t\t\t</div>\n",
      "\t\t\t\t\t\t\t<span class=\"counter m-b5  m-t0 h2_style\">\n",
      "\t\t\t\t\t\t\t\t30\t\t\t\t\t\t\t</span>\n",
      "\t\t\t\t\t\t\t<span>\n",
      "\t\t\t\t\t\t\t\tРаботаем более чем в 30 городах ХМАО\t\t\t\t\t\t\t</span>\n",
      "\t\t\t\t\t\t</div>\n",
      "\t\t\t\t\t\t\t\t\t\t\t\t\t\t\t\t\t<div class=\"col-lg-3 col-sm-3 col-6 p-b20\" id=\"bx_651765591_1051\">\n",
      "\t\t\t\t\t\t\t<div class=\"icon-bx-sm radius text-white border-2 m-b5\"> \n",
      "\t\t\t\t\t\t\t\t<span class=\"icon-cell\">\n",
      "\t\t\t\t\t\t\t\t\t<i class=\"fa fa-user\"></i>\n",
      "\t\t\t\t\t\t\t\t</span> \n",
      "\t\t\t\t\t\t\t</div>\n",
      "\t\t\t\t\t\t\t<span class=\"counter m-b5  m-t0 h2_style\">\n",
      "\t\t\t\t\t\t\t\t950\t\t\t\t\t\t\t</span>\n",
      "\t\t\t\t\t\t\t<span>\n",
      "\t\t\t\t\t\t\t\tДовольных заказчиков\t\t\t\t\t\t\t</span>\n",
      "\t\t\t\t\t\t</div>\n",
      "\t\t\t\t\t\t\t\t\t</div>\n",
      "\t\t\t</div>\n",
      "\t\t\t<!-- <div class=\"col-lg-4 col-md-4 col-12 company-stats-worker\">\n",
      "\t\t\t\t<img loading=\"lazy\" src=\"/upload/iblock/43b/43bbc2d4156a80467e72635acdddba05.png\" alt=\"Достижения\"/>\n",
      "\t\t\t</div> -->\n",
      "\t\t</div>\n",
      "\t</div>\n",
      "</div>\n",
      "\t<!-- Progress END -->\n",
      "\t<div class=\"footer-top\">\n",
      "\t\t<div class=\"container\">\n",
      "\t\t\t<div class=\"row\">\n",
      "\t\t\t\t<div class=\"col-xl-3 col-sm-6 footer-col-4\">\n",
      "\t\t\t\t\t<div class=\"widget widget_about\">\n",
      "\t\t\t\t\t\t<div class=\"\">\n",
      "\t\t\t\t\t\t\t<picture>\n",
      "    <source style=\"width: 59px; height: 62px\" media=\"(max-width: 767px)\" srcset=\"/bitrix/templates/svoy-bany/images/logo.png\" height=\"89\" alt=\"Своя Баня\">\n",
      "    <source style=\"width: 268px; height: 80px;\" media=\"(max-width: 2560px)\" srcset=\"/bitrix/templates/svoy-bany/images/logo-new.png\" height=\"89\" alt=\"Своя Баня\">\n",
      "    <img src=\"/bitrix/templates/svoy-bany/images/logo-new.png\" width=\"268\" height=\"89\" alt=\"Своя Баня\">\n",
      "</picture>\n",
      "\t\t\t\t\t\t</div>\n",
      "\t\t\t\t\t\t<p class=\"\">\n",
      "\t\t\t\t\t\t\tЗанимаемся строительством домов и бань с 2012 г. Строим у себя на производстве, к Вам на участок привозим готовые объекты «под ключ»\t\t\t\t\t\t</p>\n",
      "\t\t\t\t\t\t<ul class=\"rdx-social-icon rdx-border\">\n",
      "\t\t\t\t\t\t\t<li><a href=\"https://instagram.com/_u/stroimbani?r=sun1\" title=\"Перейти на сайт instagram.com\" target=\"_blank\">\n",
      "    <img src=\"/images/instagram-icon.png\" alt=\"instagram\">\n",
      "</a></li>\n",
      "<li><a href=\"https://www.youtube.com/channel/UCU1mN88DgzpE6ZVdjRrLuPA/videos\" title=\"Перейти на сайт youtube.com\" target=\"_blank\">\n",
      "    <img src=\"/images/youtube-icon.png\" alt=\"\">\n",
      "</a></li>\n",
      "<li><a href=\"https://rutube.ru/channel/25079153/\" title=\"Перейти на сайт rutube.ru\" target=\"_blank\">\n",
      "    <img src=\"/images/rutube-icon.jpg\" alt=\"\">\n",
      "</a></li>\n",
      "<li><a href=\"https://ok.ru/svoyabanya\" title=\"Перейти на сайт ok.ru\" target=\"_blank\">\n",
      "    <img src=\"/images/ok-icon.png\" alt=\"\">\n",
      "</a></li>\n",
      "<li><a href=\"https://vk.com/svoybany86\" title=\"Перейти на сайт vk.com\" target=\"_blank\">\n",
      "    <img src=\"/images/vk-icon.png\" alt=\"\">\n",
      "</a></li>\n",
      "<li><a href=\"https://wa.me/+79292977627\" title=\"Написать нам в Whatsapp\">\n",
      "    <img src=\"/images/whatsapp-icon.png\" alt=\"\">\n",
      "</a></li>\n",
      "<li><a href=\"viber://chat?number=+79292977627\" title=\"Написать нам в Viber\">\n",
      "    <img src=\"/images/viber-icon.png\" alt=\"\">\n",
      "</a></li>\n",
      "<li><a href=\"https://t.me/svoy_bany86\" title=\"Написать нам в Telegram\" target=\"_blank\">\n",
      "    <img src=\"/images/telegram-icon.png\" alt=\"\">\n",
      "</a></li>\n",
      "<!--<div class =\"about_link\">-->\n",
      "<!--    <a href=\"/about/\">О компании</a>-->\n",
      "<!--</div>-->\t\t\t\t\t\t\t<div class=\"about_link\">\n",
      "\t\t\t\t\t\t\t\t<a href=\"/about/\">О компании </a>\n",
      "\t\t\t\t\t\t\t</div>\n",
      "\n",
      "\n",
      "\t\t\t\t\t\t</ul>\n",
      "\t\t\t\t\t\t\t\t\t\t\t</div>\n",
      "\t\t\t\t</div>\n",
      "\t\t\t\t<div class=\"col-xl-3 col-sm-6 footer-col-4\">\n",
      "\t<div class=\"widget widget_services\">\n",
      "\t\t<h4 class=\"m-b15 text-uppercase\">Цены и комплектации</h4>\n",
      "\t\t<div class=\"rdx-separator bg-primary\">\n",
      "\t\t</div>\n",
      "\t\t\n",
      "\t\t<div class=\"bx_catalog_line section-content\"><ul>\n",
      "\t\t\t\t<li id=\"bx_1847241719_16\">\n",
      "\t\t\t\t\t<a href=\"/catalog/karkasnye-bani/\">\n",
      "\t\t\t\t\t\tБани Север\t\t\t\t\t</a>\n",
      "\t\t\t\t</li>\n",
      "\t\t\t\t<li id=\"bx_1847241719_24\">\n",
      "\t\t\t\t\t<a href=\"/catalog/karkasnye-doma/\">\n",
      "\t\t\t\t\t\tДома Север\t\t\t\t\t</a>\n",
      "\t\t\t\t</li>\n",
      "\t\t\t\t<li id=\"bx_1847241719_42\">\n",
      "\t\t\t\t\t<a href=\"/catalog/bani-loft/\">\n",
      "\t\t\t\t\t\tБани LOFT\t\t\t\t\t</a>\n",
      "\t\t\t\t</li>\n",
      "\t\t\t\t<li id=\"bx_1847241719_43\">\n",
      "\t\t\t\t\t<a href=\"/catalog/doma-v-stile-loft/\">\n",
      "\t\t\t\t\t\tДома LOFT\t\t\t\t\t</a>\n",
      "\t\t\t\t</li>\n",
      "</ul>\n",
      "</div>\n",
      "\n",
      "\n",
      "\n",
      "\n",
      "\n",
      "\n",
      "\n",
      "\t</div>\n",
      "</div>\t\t\t\t<div class=\"col-xl-3 col-sm-6 footer-col-4\">\n",
      "\t<div class=\"widget widget_services\">\n",
      "\t\t<h4 class=\"m-b15 text-uppercase\">Наши работы</h4>\n",
      "\t\t<div class=\"rdx-separator bg-primary\">\n",
      "\t\t</div>\n",
      "\t\t<ul>\n",
      "\t\t\t\t\t\t\t\t\t\t\t\t\t\t\t\t\t\t\t\t\t\t<li id=\"bx_1373509569_1080\">\n",
      "\t\t\t\t\t\t\t<a href=\"/our-work/karkasnye-bani/\">\n",
      "\t\t\t\t\t\t\t\tКаркасные бани\t\t\t\t\t\t\t</a>\n",
      "\t\t\t\t\t\t</li>\n",
      "\t\t\t\t\t\t\t\t\t\t\t\t\t\t\t\t\t\t\t\t\t\t\t\t\t\t\t\t\t\t\t<li id=\"bx_1373509569_1082\">\n",
      "\t\t\t\t\t\t\t<a href=\"/our-work/modulnye-doma-i-bani/\">\n",
      "\t\t\t\t\t\t\t\tМодульные дома и бани\t\t\t\t\t\t\t</a>\n",
      "\t\t\t\t\t\t</li>\n",
      "\t\t\t\t\t\t\t\t\t\t\t\t\t\t</ul>\n",
      "\t</div>\n",
      "</div>\t\t\t\t<div class=\"col-xl-3 col-sm-6 footer-col-4\">\n",
      "\t\t\t\t\t<div class=\"widget widget_getintuch\">\n",
      "\t\t\t\t\t\t<h4 class=\"m-b15 text-uppercase\">Контакты: </h4>\n",
      "\t\t\t\t\t\t<div class=\"rdx-separator bg-primary\"></div>\n",
      "\t\t\t\t\t\t<ul>\n",
      "\t\t\t\t\t\t\t<li>\n",
      "\t\t\t\t\t\t\t\t<i class=\"fa fa-clock-o\"></i>\n",
      "\t\t\t\t\t\t\t\t<strong>рабочее время</strong>\n",
      "\t\t\t\t\t\t\t\t<span style=\"width:85px;display: inline-block;\">ПН,ВТ,СР,ПТ</span> - по предварительной записи<br>\n",
      "<span style=\"width:45px;display: inline-block;\">СБ,ВС</span> - с 11:00-19:00<br>\n",
      "\t\t\t\t\t\t\t</li>\n",
      "\t\t\t\t\t\t\t<li>\n",
      "\t\t\t\t\t\t\t\t<i class=\"fa fa-phone\"></i>\n",
      "\t\t\t\t\t\t\t\t<strong>телефон</strong>\n",
      "\t\t\t\t\t\t\t\t<a class=\"callibri_phone\" href=\"tel:+73462479799\">+7 (3462) 47-97-99</a><br>\n",
      "\t\t\t\t\t\t\t\t<a class=\"callibri_phone2\" href=\"tel:+79292977627\">+7 (929) 297-76-27</a>\t\t\t\t\t\t\t</li>\n",
      "\t\t\t\t\t\t\t<li>\n",
      "\t\t\t\t\t\t\t\t<i class=\"fa fa-envelope\"></i>\n",
      "\t\t\t\t\t\t\t\t<strong>e-mail</strong>\n",
      "\t\t\t\t\t\t\t\t<a href=\"mailto:svoy-bany@mail.ru\">svoy-bany@mail.ru</a>\t\t\t\t\t\t\t</li>\n",
      "\t\t\t\t\t\t</ul>\n",
      "\t\t\t\t\t</div>\n",
      "\t\t\t\t</div>\n",
      "\t\t\t</div>\n",
      "\t\t</div>\n",
      "\t</div>\n",
      "\t<!-- footer bottom part -->\n",
      "\t<div class=\"footer-bottom\">\n",
      "\t\t<div class=\"container\">\n",
      "\t\t\t<div class=\"row\">\n",
      "\t\t\t\t<div class=\"col-lg-4 text-left \">\n",
      "\t\t\t\t\t<span>Строительная компания \"Своя баня\" © 2025</span>\n",
      "\t\t\t\t\t\t\t\t\t\t\t\t\t\t</div>\n",
      "\t\t\t\t<div class=\"col-lg-3 text-right \"> <a href=\"/privacy/\">Политика конфиденциальности</a></div>\n",
      "\t\t\t\t<div class=\"col-lg-5 text-right \"> <a href=\"/auth/\"> Авторизация</a> <a href=\"/rules/\"> Правила использования</a> <a href=\"/map/\"> Карта сайта</a> </div>\n",
      "\t\t\t</div>\n",
      "\t\t</div>\n",
      "\t</div>\n",
      "\n",
      "\n",
      "\t<!-- WhatsApp -->\n",
      "\t<div class=\"whatsapp-widget\" id=\"whatsappWidget\">\n",
      "\t\t<a href=\"https://api.whatsapp.com/send/?phone=%2B79292977627&text&type=phone_number&app_absent=0\" target=\"_blank\">\n",
      "\t\t\t<img src=\"/bitrix/templates/svoy-bany/images/WhatsApp.png\" alt=\"WhatsApp\" />\n",
      "\t\t</a>\n",
      "\t</div>\n",
      "\n",
      "\t<div class=\"whatsapp-widget-mobile\" id=\"whatsappWidgetMobile\">\n",
      "\t\t<a href=\"https://api.whatsapp.com/send/?phone=%2B79292977627&text&type=phone_number&app_absent=0\" target=\"_blank\">\n",
      "\t\t\t<svg fill=\"#fff\" height=\"40px\" width=\"40px\" version=\"1.1\" id=\"Layer_1\" xmlns=\"http://www.w3.org/2000/svg\" xmlns:xlink=\"http://www.w3.org/1999/xlink\" \n",
      "\t\tviewBox=\"0 0 308 308\" xml:space=\"preserve\">\n",
      "\t\t\t<g id=\"XMLID_468_\">\n",
      "\t\t\t\t<path id=\"XMLID_469_\" d=\"M227.904,176.981c-0.6-0.288-23.054-11.345-27.044-12.781c-1.629-0.585-3.374-1.156-5.23-1.156\n",
      "\t\t\t\t\tc-3.032,0-5.579,1.511-7.563,4.479c-2.243,3.334-9.033,11.271-11.131,13.642c-0.274,0.313-0.648,0.687-0.872,0.687\n",
      "\t\t\t\t\tc-0.201,0-3.676-1.431-4.728-1.888c-24.087-10.463-42.37-35.624-44.877-39.867c-0.358-0.61-0.373-0.887-0.376-0.887\n",
      "\t\t\t\t\tc0.088-0.323,0.898-1.135,1.316-1.554c1.223-1.21,2.548-2.805,3.83-4.348c0.607-0.731,1.215-1.463,1.812-2.153\n",
      "\t\t\t\t\tc1.86-2.164,2.688-3.844,3.648-5.79l0.503-1.011c2.344-4.657,0.342-8.587-0.305-9.856c-0.531-1.062-10.012-23.944-11.02-26.348\n",
      "\t\t\t\t\tc-2.424-5.801-5.627-8.502-10.078-8.502c-0.413,0,0,0-1.732,0.073c-2.109,0.089-13.594,1.601-18.672,4.802\n",
      "\t\t\t\t\tc-5.385,3.395-14.495,14.217-14.495,33.249c0,17.129,10.87,33.302,15.537,39.453c0.116,0.155,0.329,0.47,0.638,0.922\n",
      "\t\t\t\t\tc17.873,26.102,40.154,45.446,62.741,54.469c21.745,8.686,32.042,9.69,37.896,9.69c0.001,0,0.001,0,0.001,0\n",
      "\t\t\t\t\tc2.46,0,4.429-0.193,6.166-0.364l1.102-0.105c7.512-0.666,24.02-9.22,27.775-19.655c2.958-8.219,3.738-17.199,1.77-20.458\n",
      "\t\t\t\t\tC233.168,179.508,230.845,178.393,227.904,176.981z\"/>\n",
      "\t\t\t\t<path id=\"XMLID_470_\" d=\"M156.734,0C73.318,0,5.454,67.354,5.454,150.143c0,26.777,7.166,52.988,20.741,75.928L0.212,302.716\n",
      "\t\t\t\t\tc-0.484,1.429-0.124,3.009,0.933,4.085C1.908,307.58,2.943,308,4,308c0.405,0,0.813-0.061,1.211-0.188l79.92-25.396\n",
      "\t\t\t\t\tc21.87,11.685,46.588,17.853,71.604,17.853C240.143,300.27,308,232.923,308,150.143C308,67.354,240.143,0,156.734,0z\n",
      "\t\t\t\t\tM156.734,268.994c-23.539,0-46.338-6.797-65.936-19.657c-0.659-0.433-1.424-0.655-2.194-0.655c-0.407,0-0.815,0.062-1.212,0.188\n",
      "\t\t\t\t\tl-40.035,12.726l12.924-38.129c0.418-1.234,0.209-2.595-0.561-3.647c-14.924-20.392-22.813-44.485-22.813-69.677\n",
      "\t\t\t\t\tc0-65.543,53.754-118.867,119.826-118.867c66.064,0,119.812,53.324,119.812,118.867\n",
      "\t\t\t\t\tC276.546,215.678,222.799,268.994,156.734,268.994z\"/>\n",
      "\t\t\t</g>\n",
      "\t\t\t</svg>\n",
      "\t\tНаписать в WhatsApp\n",
      "\t\t</a>\n",
      "\t</div>\n",
      "\n",
      "\t<script>\n",
      "\t\twindow.addEventListener('scroll', function() {\n",
      "\t\t\tvar whatsappWidget = document.getElementById('whatsappWidget');\n",
      "\t\t\tvar scrollPosition = window.scrollY || document.documentElement.scrollTop;\n",
      "\n",
      "\t\t\tif (scrollPosition > 100) {\n",
      "\t\t\t\twhatsappWidget.classList.add('show');\n",
      "\t\t\t} else {\n",
      "\t\t\t\twhatsappWidget.classList.remove('show');\n",
      "\t\t\t}\n",
      "\t\t});\n",
      "\t</script>\n",
      "\n",
      "<script>\n",
      "\t\twindow.addEventListener('scroll', function() {\n",
      "\t\t\tvar whatsappWidget = document.getElementById('whatsappWidgetMobile');\n",
      "\t\t\tvar scrollPosition = window.scrollY || document.documentElement.scrollTop;\n",
      "\n",
      "\t\t\tif (scrollPosition > 100) {\n",
      "\t\t\t\twhatsappWidget.classList.add('show');\n",
      "\t\t\t} else {\n",
      "\t\t\t\twhatsappWidget.classList.remove('show');\n",
      "\t\t\t}\n",
      "\t\t});\n",
      "\t</script>\n",
      "<!-- /WhatsApp -->\n",
      "\n",
      "\n",
      "</footer>\n",
      "<!-- Footer END-->\n",
      "<!-- scroll top button -->\n",
      "<button class=\"scroltop fa fa-caret-up\"></button>\n",
      "</div>\n",
      "<!-- JavaScript  files ========================================= -->\n",
      "<script src=\"/bitrix/templates/svoy-bany/js/jquery.min.js\"></script><!-- JQUERY.MIN JS -->\n",
      "<script src=\"/bitrix/templates/svoy-bany/plugins/bootstrap/js/popper.min.js\"></script><!-- BOOTSTRAP.MIN JS -->\n",
      "<script src=\"/bitrix/templates/svoy-bany/plugins/bootstrap/js/bootstrap.min.js\"></script><!-- BOOTSTRAP.MIN JS -->\n",
      "<script src=\"/bitrix/templates/svoy-bany/plugins/bootstrap-select/bootstrap-select.min.js\"></script><!-- FORM JS -->\n",
      "<script src=\"/bitrix/templates/svoy-bany/plugins/bootstrap-touchspin/jquery.bootstrap-touchspin.js\"></script><!-- FORM JS -->\n",
      "<script src=\"/bitrix/templates/svoy-bany/plugins/magnific-popup/magnific-popup.js\"></script><!-- MAGNIFIC POPUP JS -->\n",
      "<script src=\"/bitrix/templates/svoy-bany/plugins/counter/waypoints-min.js\"></script><!-- WAYPOINTS JS -->\n",
      "<script src=\"/bitrix/templates/svoy-bany/plugins/counter/counterup.min.js\"></script><!-- COUNTERUP JS -->\n",
      "<script src=\"/bitrix/templates/svoy-bany/plugins/imagesloaded/imagesloaded.js\"></script><!-- IMAGESLOADED -->\n",
      "<script src=\"/bitrix/templates/svoy-bany/plugins/masonry/masonry-3.1.4.js\"></script><!-- MASONRY -->\n",
      "<script src=\"/bitrix/templates/svoy-bany/plugins/masonry/masonry.filter.js\"></script><!-- MASONRY -->\n",
      "<script src=\"/bitrix/templates/svoy-bany/plugins/owl-carousel/owl.carousel.js\"></script><!-- OWL SLIDER -->\n",
      "<!--<script src=\"/bitrix/templates/svoy-bany/plugins/switcher/js/switcher.js\"></script><!-- SWITCHER FUCTIONS  -->\n",
      "<script src=\"/bitrix/templates/svoy-bany/js/custom.js\"></script><!-- CUSTOM FUCTIONS  -->\n",
      "<script src=\"/bitrix/templates/svoy-bany/js/dz.carousel.js\"></script><!-- SORTCODE FUCTIONS  -->\n",
      "<script src=\"/bitrix/templates/svoy-bany/js/dz.ajax.js\"></script><!-- CONTACT JS  -->\n",
      "<!-- revolution JS FILES -->\n",
      "<script type=\"text/javascript\" src=\"/bitrix/templates/svoy-bany/plugins/revolution/revolution/js/jquery.themepunch.tools.min.js\"></script>\n",
      "<script type=\"text/javascript\" src=\"/bitrix/templates/svoy-bany/plugins/revolution/revolution/js/jquery.themepunch.revolution.min.js\"></script>\n",
      "<!-- Slider revolution 5.0 Extensions  (Load Extensions only on Local File Systems !  The following part can be removed on Server for On Demand Loading) -->\n",
      "<script type=\"text/javascript\" src=\"/bitrix/templates/svoy-bany/plugins/revolution/revolution/js/extensions/revolution.extension.actions.min.js\"></script>\n",
      "<script type=\"text/javascript\" src=\"/bitrix/templates/svoy-bany/plugins/revolution/revolution/js/extensions/revolution.extension.carousel.min.js\"></script>\n",
      "<script type=\"text/javascript\" src=\"/bitrix/templates/svoy-bany/plugins/revolution/revolution/js/extensions/revolution.extension.kenburn.min.js\"></script>\n",
      "<script type=\"text/javascript\" src=\"/bitrix/templates/svoy-bany/plugins/revolution/revolution/js/extensions/revolution.extension.layeranimation.min.js\"></script>\n",
      "<script type=\"text/javascript\" src=\"/bitrix/templates/svoy-bany/plugins/revolution/revolution/js/extensions/revolution.extension.migration.min.js\"></script>\n",
      "<script type=\"text/javascript\" src=\"/bitrix/templates/svoy-bany/plugins/revolution/revolution/js/extensions/revolution.extension.navigation.min.js\"></script>\n",
      "<script type=\"text/javascript\" src=\"/bitrix/templates/svoy-bany/plugins/revolution/revolution/js/extensions/revolution.extension.parallax.min.js\"></script>\n",
      "<script type=\"text/javascript\" src=\"/bitrix/templates/svoy-bany/plugins/revolution/revolution/js/extensions/revolution.extension.slideanims.min.js\"></script>\n",
      "<script type=\"text/javascript\" src=\"/bitrix/templates/svoy-bany/plugins/revolution/revolution/js/extensions/revolution.extension.video.min.js\"></script>\n",
      "\n",
      "\n",
      "<script defer type=\"text/javascript\">\n",
      "\tvar tpj = jQuery;\n",
      "\tvar revapi1014;\n",
      "\tjQuery(document).ready(function() {\n",
      "\t\t'use strict';\n",
      "\t\tif (jQuery(\"#rev_slider_1014_1\").revolution == undefined) {\n",
      "\t\t\trevslider_showDoubleJqueryError(\"#rev_slider_1014_1\");\n",
      "\t\t} else {\n",
      "\t\t\trevapi1014 = jQuery(\"#rev_slider_1014_1\").show().revolution({\n",
      "\t\t\t\tsliderType: \"standard\",\n",
      "\t\t\t\tjsFileLocation: \"//server.local/revslider/wp-content/plugins/revslider/public/assets/js/\",\n",
      "\t\t\t\tdottedOverlay: \"none\",\n",
      "\t\t\t\tdelay: 6000,\n",
      "\t\t\t\tstartwidth: 1200,\n",
      "\t\t\t\tstartheight: 500,\n",
      "\t\t\t\thideThumbs: 600,\n",
      "\t\t\t\tnavigation: {\n",
      "\t\t\t\t\tkeyboardNavigation: \"off\",\n",
      "\t\t\t\t\tkeyboard_direction: \"horizontal\",\n",
      "\t\t\t\t\tmouseScrollNavigation: \"off\",\n",
      "\t\t\t\t\tmouseScrollReverse: \"default\",\n",
      "\t\t\t\t\tonHoverStop: \"on\",\n",
      "\t\t\t\t\ttouch: {\n",
      "\t\t\t\t\t\ttouchenabled: \"on\",\n",
      "\t\t\t\t\t\tswipe_threshold: 75,\n",
      "\t\t\t\t\t\tswipe_min_touches: 1,\n",
      "\t\t\t\t\t\tswipe_direction: \"horizontal\",\n",
      "\t\t\t\t\t\tdrag_block_vertical: false\n",
      "\t\t\t\t\t},\n",
      "\t\t\t\t\tarrows: {\n",
      "\t\t\t\t\t\tstyle: \"hermes\",\n",
      "\t\t\t\t\t\tenable: true,\n",
      "\t\t\t\t\t\thide_onmobile: false,\n",
      "\t\t\t\t\t\thide_onleave: false,\n",
      "\t\t\t\t\t\ttmp: '<div class=\"tp-arr-allwrapper\">\t<div class=\"tp-arr-imgholder\"></div>\t<div class=\"tp-arr-titleholder\">{{title}}</div>\t</div>',\n",
      "\t\t\t\t\t\tleft: {\n",
      "\t\t\t\t\t\t\th_align: \"left\",\n",
      "\t\t\t\t\t\t\tv_align: \"center\",\n",
      "\t\t\t\t\t\t\th_offset: 0,\n",
      "\t\t\t\t\t\t\tv_offset: 0\n",
      "\t\t\t\t\t\t},\n",
      "\t\t\t\t\t\tright: {\n",
      "\t\t\t\t\t\t\th_align: \"right\",\n",
      "\t\t\t\t\t\t\tv_align: \"center\",\n",
      "\t\t\t\t\t\t\th_offset: 0,\n",
      "\t\t\t\t\t\t\tv_offset: 0\n",
      "\t\t\t\t\t\t}\n",
      "\t\t\t\t\t}\n",
      "\t\t\t\t},\n",
      "\t\t\t\tresponsiveLevels: [1240, 1024, 778, 480],\n",
      "\t\t\t\tvisibilityLevels: [1240, 1024, 778, 480],\n",
      "\n",
      "\t\t\t\tlazyType: \"none\",\n",
      "\t\t\t\tshadow: 0,\n",
      "\t\t\t\tspinner: \"off\",\n",
      "\t\t\t\tstopLoop: \"on\",\n",
      "\t\t\t\tstopAfterLoops: -1,\n",
      "\t\t\t\tstopAtSlide: 1,\n",
      "\t\t\t\tshuffle: \"off\",\n",
      "\t\t\t\tautoHeight: \"off\",\n",
      "\t\t\t\tfullScreenAutoWidth: \"off\",\n",
      "\t\t\t\tfullScreenAlignForce: \"off\",\n",
      "\t\t\t\tfullScreenOffsetContainer: \"\",\n",
      "\t\t\t\tfullScreenOffset: \"60px\",\n",
      "\t\t\t\tdisableProgressBar: \"on\",\n",
      "\t\t\t\thideThumbsOnMobile: \"off\",\n",
      "\t\t\t\thideSliderAtLimit: 0,\n",
      "\t\t\t\thideCaptionAtLimit: 0,\n",
      "\t\t\t\thideAllCaptionAtLilmit: 0,\n",
      "\t\t\t\tdebugMode: false,\n",
      "\t\t\t\tfallbacks: {\n",
      "\t\t\t\t\tsimplifyAll: \"off\",\n",
      "\t\t\t\t\tnextSlideOnWindowFocus: \"off\",\n",
      "\t\t\t\t\tdisableFocusListener: false,\n",
      "\t\t\t\t}\n",
      "\t\t\t});\n",
      "\t\t}\n",
      "\t}); /*end ready*/\n",
      "</script>\n",
      "\n",
      "\n",
      "\n",
      "<script>\n",
      "\tvar fired = false;\n",
      "\n",
      "\twindow.addEventListener('scroll', () => {\n",
      "\t\tif (fired === false) {\n",
      "\t\t\tfired = true;\n",
      "\n",
      "\t\t\tsetTimeout(() => {\n",
      "\t\t\t\t(function(i, s, o, g, r, a, m) {\n",
      "\t\t\t\t\ti['GoogleAnalyticsObject'] = r;\n",
      "\t\t\t\t\ti[r] = i[r] || function() {\n",
      "\t\t\t\t\t\t(i[r].q = i[r].q || []).push(arguments)\n",
      "\t\t\t\t\t}, i[r].l = 1 * new Date();\n",
      "\t\t\t\t\ta = s.createElement(o),\n",
      "\t\t\t\t\t\tm = s.getElementsByTagName(o)[0];\n",
      "\t\t\t\t\ta.async = 1;\n",
      "\t\t\t\t\ta.src = g;\n",
      "\t\t\t\t\tm.parentNode.insertBefore(a, m)\n",
      "\t\t\t\t})(window, document, 'script', 'https://www.google-analytics.com/analytics.js', 'ga');\n",
      "\t\t\t\tga('create', 'UA-78958659-1', 'auto');\n",
      "\t\t\t\tga('send', 'pageview');\n",
      "\n",
      "\n",
      "\n",
      "\n",
      "\n",
      "\t\t\t\t(function(m, e, t, r, i, k, a) {\n",
      "\t\t\t\t\tm[i] = m[i] || function() {\n",
      "\t\t\t\t\t\t(m[i].a = m[i].a || []).push(arguments)\n",
      "\t\t\t\t\t};\n",
      "\t\t\t\t\tm[i].l = 1 * new Date();\n",
      "\t\t\t\t\tk = e.createElement(t), a = e.getElementsByTagName(t)[0], k.async = 1, k.src = r, a.parentNode.insertBefore(k, a)\n",
      "\t\t\t\t})\n",
      "\t\t\t\t(window, document, \"script\", \"https://mc.yandex.ru/metrika/tag.js\", \"ym\");\n",
      "\n",
      "\t\t\t\tym(56858947, \"init\", {\n",
      "\t\t\t\t\tclickmap: true,\n",
      "\t\t\t\t\ttrackLinks: true,\n",
      "\t\t\t\t\taccurateTrackBounce: true,\n",
      "\t\t\t\t\twebvisor: true,\n",
      "\t\t\t\t\ttrackHash: true\n",
      "\t\t\t\t});\n",
      "\n",
      "\n",
      "\t\t\t\twindow.dataLayer = window.dataLayer || [];\n",
      "\n",
      "\t\t\t\tfunction gtag() {\n",
      "\t\t\t\t\tdataLayer.push(arguments);\n",
      "\t\t\t\t}\n",
      "\t\t\t\tgtag('js', new Date());\n",
      "\n",
      "\t\t\t\tgtag('config', 'UA-182650510-1');\n",
      "\n",
      "\n",
      "\t\t\t\t(function(m, e, t, r, i, k, a) {\n",
      "\t\t\t\t\tm[i] = m[i] || function() {\n",
      "\t\t\t\t\t\t(m[i].a = m[i].a || []).push(arguments)\n",
      "\t\t\t\t\t};\n",
      "\t\t\t\t\tm[i].l = 1 * new Date();\n",
      "\t\t\t\t\tfor (var j = 0; j < document.scripts.length; j++) {\n",
      "\t\t\t\t\t\tif (document.scripts[j].src === r) {\n",
      "\t\t\t\t\t\t\treturn;\n",
      "\t\t\t\t\t\t}\n",
      "\t\t\t\t\t}\n",
      "\t\t\t\t\tk = e.createElement(t), a = e.getElementsByTagName(t)[0], k.async = 1, k.src = r, a.parentNode.insertBefore(k, a)\n",
      "\t\t\t\t})(window, document, \"script\", \"https://mc.yandex.ru/metrika/tag.js\", \"ym\");\n",
      "\t\t\t\tym(93252020, \"init\", {\n",
      "\t\t\t\t\tclickmap: true,\n",
      "\t\t\t\t\ttrackLinks: true,\n",
      "\t\t\t\t\taccurateTrackBounce: true,\n",
      "\t\t\t\t\twebvisor: true\n",
      "\t\t\t\t});\n",
      "\n",
      "\n",
      "\t\t\t\twindow.dataLayer = window.dataLayer || [];\n",
      "\n",
      "\t\t\t\tfunction gtag() {\n",
      "\t\t\t\t\tdataLayer.push(arguments);\n",
      "\t\t\t\t}\n",
      "\t\t\t\tgtag('js', new Date());\n",
      "\n",
      "\t\t\t\tgtag('config', 'UA-182650510-1');\n",
      "\t\t\t}, 1000)\n",
      "\t\t}\n",
      "\t});\n",
      "</script>\n",
      "\n",
      "\n",
      "<script type=\"text/javascript\">\n",
      "\tjQuery('document').ready(function() {\n",
      "\t\tjQuery(\"#appointment_form3\").submit(function(event) {\n",
      "\t\t\tif ((jQuery(\"input[name*='user_name']\").val() != '') && (jQuery(\"input[name*='user_email']\").val() != '') && (jQuery(\"input[name*='user_phone']\").val() != '') && (jQuery(\"input[name*='MESSAGE']\").val() != '')) {\n",
      "\t\t\t\tgtag('event', 'send', {\n",
      "\t\t\t\t\t'event_category': 'form',\n",
      "\t\t\t\t\t'event_action': 'submit'\n",
      "\t\t\t\t});\n",
      "\t\t\t}\n",
      "\t\t});\n",
      "\t});\n",
      "</script>\n",
      "<script type=\"text/javascript\">\n",
      "\tjQuery('document').ready(function() {\n",
      "\t\t$('.callibri_phone, .callibri_phone2').click(function() {\n",
      "\t\t\tgtag('event', 'send', {\n",
      "\t\t\t\t'event_category': 'tel',\n",
      "\t\t\t\t'event_action': 'clik-tel'\n",
      "\t\t\t});\n",
      "\t\t\tconsole.log('send');\n",
      "\t\t});\n",
      "\t});\n",
      "</script>\n",
      "<script defer src=\"/bitrix/templates/svoy-bany/js/jquery.lazyloadxt.js\"></script>\n",
      "\n",
      "\n",
      "<script type=\"text/javascript\">\n",
      "\t// Eliseev Denis, SEO.RU, task: 148020, popup-modal-form\n",
      "\tvar modal = document.getElementById(\"my-modal\");\n",
      "\tvar btn = document.getElementById(\"btn-modal-window\");\n",
      "\tvar span = document.getElementsByClassName(\"close_modal_window\")[0];\n",
      "\n",
      "\tbtn.onclick = function() {\n",
      "\t\tmodal.style.display = \"block\";\n",
      "\t}\n",
      "\n",
      "\tspan.onclick = function() {\n",
      "\t\tmodal.style.display = \"none\";\n",
      "\t}\n",
      "\n",
      "\twindow.onclick = function(event) {\n",
      "\t\tif (event.target == modal) {\n",
      "\t\t\tmodal.style.display = \"none\";\n",
      "\t\t}\n",
      "\t}\n",
      "</script>\n",
      "\n",
      "<script type=\"text/javascript\">\n",
      "\t//Цели для кнопки\n",
      "\tjQuery('#btn-modal-window').click(function() {\n",
      "\t\tym(56858947, 'reachGoal', 'callback_request');\n",
      "\t});\n",
      "\t//Цели для формы\n",
      "\tjQuery('document').ready(function() {\n",
      "\t\tjQuery(\"#seoru_form\").submit(function(event) {\n",
      "\t\t\tym(56858947, 'reachGoal', 'zayavka-otpravlena');\n",
      "\t\t});\n",
      "\t});\n",
      "</script>\n",
      "<div class=\"loading-area\" style=\"display:none;\">\n",
      "\t<div class=\"loading-box\"></div>\n",
      "\t<div class=\"loading-pic\"></div>\n",
      "</div>\n",
      "\n",
      "\n",
      "<!-- Google reCaptcha -->\n",
      "<!-- <script async src=\"https://www.google.com/recaptcha/api.js\"></script> -->\n",
      "\n",
      "<noscript>\n",
      "\t<div><img loading=\"lazy\" src=\"https://mc.yandex.ru/watch/56858947\" style=\"position:absolute; left:-9999px;\" alt=\"\" /></div>\n",
      "</noscript>\n",
      "<!-- Global site tag (gtag.js) - Google Analytics -->\n",
      "<!-- <script src=\"https://www.googletagmanager.com/gtag/js?id=UA-182650510-1\"></script> -->\n",
      "\n",
      "\n",
      "<!-- /Yandex.Metrika counter -->\n",
      "\n",
      "\n",
      "\n",
      "\n",
      "<script>\n",
      "\tconst swiper = new Swiper('.swiper', {\n",
      "  // Optional parameters\n",
      "\t\tloop: true,\n",
      "\t\tautoplay: {\n",
      "\t\tdelay: 7000,\n",
      " },\n",
      "\n",
      "  // Navigation arrows\n",
      "  navigation: {\n",
      "    nextEl: '.swiper-button-next',\n",
      "    prevEl: '.swiper-button-prev',\n",
      "  },\n",
      "});\n",
      "</script>\n",
      "</body>\n",
      "\n",
      "</html><!--9a34e0b61e800c00c3ef182d9bd4185f-->\n"
     ]
    }
   ],
   "source": [
    "print(src[1])"
   ]
  },
  {
   "cell_type": "code",
   "execution_count": 65,
   "id": "626810a9-4c94-4b5a-81f0-e1c95e3b7f27",
   "metadata": {
    "jupyter": {
     "source_hidden": true
    }
   },
   "outputs": [
    {
     "name": "stdout",
     "output_type": "stream",
     "text": [
      "['foo', 'hello']\n",
      "foo\n",
      "['a', 'b', 'c'] a\n",
      "['one', 'two', 'three'] one\n"
     ]
    }
   ],
   "source": [
    "# Преобразование словаря в список. Работа со словарём: ключи и значения.\n",
    "test = {'foo': 'bar', 'hello': 'world'}\n",
    "print(list(test))\n",
    "# ['foo', 'hello']\n",
    "print(list(test)[0])\n",
    "# 'foo'\n",
    "\n",
    "mydict = {'a': 'one', 'b': 'two', 'c': 'three'}\n",
    "mykeys = [*mydict]          #list of keys\n",
    "myvals = [*mydict.values()] #list of values\n",
    "\n",
    "print(mykeys, mykeys[0])\n",
    "print(myvals, myvals[0])"
   ]
  },
  {
   "cell_type": "code",
   "execution_count": null,
   "id": "fef3d4f4-d140-4739-8eb9-b7fc7ac5fdba",
   "metadata": {},
   "outputs": [],
   "source": [
    "# file = os.path.join(path, file_name)\n",
    "# path = os.path.join(location, file) + extension"
   ]
  },
  {
   "cell_type": "markdown",
   "id": "36f1b7d3-44eb-4e31-b076-498884a0e815",
   "metadata": {},
   "source": [
    "## Пишем новую функцию для чтения нашего HTML-файла, прочитаем и сохраним коды страниц в список:"
   ]
  },
  {
   "cell_type": "markdown",
   "id": "0beac076-3ddc-4ef0-b348-5ea816ae6e39",
   "metadata": {},
   "source": [
    "# ФУНКЦИЯ № 3. Чтение HTML-кода, сохранение его в список"
   ]
  },
  {
   "cell_type": "code",
   "execution_count": 141,
   "id": "8f280e36-adc1-405d-a619-648b07e8d5b6",
   "metadata": {},
   "outputs": [],
   "source": [
    "# Пишем новую функцию для чтения нашего HTML-файла, прочитаем и сохраним коды страниц в список:\n",
    "def read_html(name, path):\n",
    "    print(f'START of function \"READ_HTML()\"')\n",
    "    count = 1\n",
    "    \n",
    "    # print(name)\n",
    "    file_start = 'barrels_articles_'\n",
    "    file_name = file_start + name\n",
    "    file_path = os.path.join(path['path_file'], file_name) + path['extension_file']\n",
    "    print(f'{count}. Function \"READ_HTML({name.upper()})\" is EXECUTING...')\n",
    "    \n",
    "# Проверка существования файлов с HTML-кодом. Существующие коды собираем в список.\n",
    "    if os.path.exists(file_path):\n",
    "        print(f\"\\tIn the folder \\\"{path['path_file']}\\\" the file \\\"{file_name}\\\" EXISTS.\")\n",
    "        \n",
    "        with open(file_path, encoding='utf-8') as file:\n",
    "            src = file.read()\n",
    "            \n",
    "        print(f'\\tHTML-code \"{file_name}\" is OPENED from {file_path}')\n",
    "    else:\n",
    "        print(f\"\\tThere is NO file \\\"{file_name}\\\" in the \\\"{path['path_file']}\\\" folder!\")\n",
    "        print('\\tIt is necessary to START function \"WRITE_HTML()\" !!!\\n')\n",
    "        # break\n",
    "        \n",
    "    count += 1\n",
    "    print(f'\"READ_HTML({name.upper()})\" COMPLETED SUCCESSFULLY!')\n",
    "\n",
    "    # return src\n",
    "    # yield src\n",
    "\n",
    "# ПОТОМ НУЖНО СДЕЛАТЬ ВМЕСТО RETURN --- YIELD !!!!!!"
   ]
  },
  {
   "cell_type": "code",
   "execution_count": 144,
   "id": "37b81580-943a-49a5-9ac5-c2a262e141d6",
   "metadata": {},
   "outputs": [
    {
     "name": "stdout",
     "output_type": "stream",
     "text": [
      "START of function \"READ_HTML()\"\n",
      "1. Function \"READ_HTML(CHELYABINSK)\" is EXECUTING...\n",
      "\tIn the folder \"../data/interim/html/\" the file \"barrels_articles_chelyabinsk\" EXISTS.\n",
      "\tHTML-code \"barrels_articles_chelyabinsk\" is OPENED from ../data/interim/html/barrels_articles_chelyabinsk.html\n",
      "\"READ_HTML(CHELYABINSK)\" COMPLETED SUCCESSFULLY!\n"
     ]
    }
   ],
   "source": [
    "read_html(variable()[3][0]['name'], variable()[4][1])"
   ]
  },
  {
   "cell_type": "code",
   "execution_count": 136,
   "id": "07a6f2ee-2a61-4ec3-ae62-7ee2105b58dc",
   "metadata": {},
   "outputs": [
    {
     "name": "stdout",
     "output_type": "stream",
     "text": [
      "chelyabinsk {'type_file': 'html', 'path_file': '../data/interim/html/', 'extension_file': '.html'}\n"
     ]
    }
   ],
   "source": [
    "print(variable()[3][0]['name'], variable()[4][1])"
   ]
  },
  {
   "cell_type": "code",
   "execution_count": 143,
   "id": "c190f6e8-4da6-4cbf-94aa-5657c432b274",
   "metadata": {},
   "outputs": [
    {
     "ename": "NameError",
     "evalue": "name 'src' is not defined",
     "output_type": "error",
     "traceback": [
      "\u001b[1;31m---------------------------------------------------------------------------\u001b[0m",
      "\u001b[1;31mNameError\u001b[0m                                 Traceback (most recent call last)",
      "Cell \u001b[1;32mIn[143], line 1\u001b[0m\n\u001b[1;32m----> 1\u001b[0m \u001b[38;5;28mprint\u001b[39m(src)\n",
      "\u001b[1;31mNameError\u001b[0m: name 'src' is not defined"
     ]
    }
   ],
   "source": [
    "print(src)"
   ]
  },
  {
   "cell_type": "code",
   "execution_count": 357,
   "id": "ee410d94-6ebe-47bf-a8b0-2c84fe4d0483",
   "metadata": {},
   "outputs": [
    {
     "name": "stdout",
     "output_type": "stream",
     "text": [
      "1. Function \"READ_HTML(chelyabinsk)\" is EXECUTED\n",
      "\tIn the folder \"../data/interim/html/\" the file \"barrels_articles_chelyabinsk\" EXISTS.\n",
      "\tHTML-code \"barrels_articles_chelyabinsk\" is OPENED from ../data/interim/html/barrels_articles_chelyabinsk.html\n",
      "\n"
     ]
    }
   ],
   "source": [
    "# src = read_html(urls)\n",
    "# print(f'Number of elements in the list: {len(src)}')\n",
    "# src = read_html('https://chelyabinsk.bani.ru.com/poleznye-statiy/')"
   ]
  },
  {
   "cell_type": "code",
   "execution_count": null,
   "id": "bf8b5ef3-1578-4ad1-960e-33589a7cf18b",
   "metadata": {},
   "outputs": [],
   "source": []
  },
  {
   "cell_type": "markdown",
   "id": "555952ec-1435-448b-883f-950b1e73f2b5",
   "metadata": {},
   "source": [
    "# ФУНКЦИЯ № 4. Определение блоков для парсинга"
   ]
  },
  {
   "cell_type": "code",
   "execution_count": null,
   "id": "4a298e22-b5f9-4006-8dab-333c6bb4a5e2",
   "metadata": {},
   "outputs": [],
   "source": []
  },
  {
   "cell_type": "code",
   "execution_count": null,
   "id": "9563c404-37a3-42cc-97f0-e61b6eae601d",
   "metadata": {},
   "outputs": [],
   "source": []
  },
  {
   "cell_type": "markdown",
   "id": "5a18f0ee-331f-4d5b-852c-b0657d4063a5",
   "metadata": {},
   "source": [
    "# ФУНКЦИЯ № 5. Определение имени"
   ]
  },
  {
   "cell_type": "code",
   "execution_count": 87,
   "id": "af058c5b-4bdc-4ef2-a927-fe8a11276d59",
   "metadata": {
    "jupyter": {
     "source_hidden": true
    }
   },
   "outputs": [],
   "source": [
    "def definition_name_list(url):\n",
    "    names = []\n",
    "    for u in url:\n",
    "        names.append(u.split('//')[1].split('.')[0])\n",
    "    return names"
   ]
  },
  {
   "cell_type": "code",
   "execution_count": 88,
   "id": "e7685ee3-cf9e-44b3-9850-6ea5877d6b99",
   "metadata": {},
   "outputs": [
    {
     "data": {
      "text/plain": [
       "['chelyabinsk', 'svoy-bany']"
      ]
     },
     "execution_count": 88,
     "metadata": {},
     "output_type": "execute_result"
    }
   ],
   "source": [
    "definition_name_list(variable()[1])"
   ]
  },
  {
   "cell_type": "code",
   "execution_count": 99,
   "id": "14a4afbf-4c0f-40bf-8c66-297215dd11f4",
   "metadata": {
    "jupyter": {
     "source_hidden": true
    }
   },
   "outputs": [],
   "source": [
    "def definition_name_dict(names):\n",
    "    names_list = []\n",
    "    for name in names:\n",
    "        names_list.append(name['name'])\n",
    "    return names_list"
   ]
  },
  {
   "cell_type": "code",
   "execution_count": 100,
   "id": "a766431e-751b-43fb-821f-634f39bd054c",
   "metadata": {},
   "outputs": [
    {
     "data": {
      "text/plain": [
       "['chelyabinsk', 'svoy-bany']"
      ]
     },
     "execution_count": 100,
     "metadata": {},
     "output_type": "execute_result"
    }
   ],
   "source": [
    "definition_name_dict(variable()[3])"
   ]
  },
  {
   "cell_type": "code",
   "execution_count": 103,
   "id": "733e5173-b034-4e2f-87bc-322474036d12",
   "metadata": {},
   "outputs": [
    {
     "name": "stdout",
     "output_type": "stream",
     "text": [
      "chelyabinsk\n",
      "svoy-bany\n"
     ]
    }
   ],
   "source": [
    "names = variable()[3]\n",
    "for name in names:\n",
    "    print(name['name'])"
   ]
  },
  {
   "cell_type": "markdown",
   "id": "f8fec42f-fc14-4e2d-8d62-ba6f6e0ff605",
   "metadata": {},
   "source": [
    "# ФУНКЦИЯ № 5.1.OOP. Проверка наличия папки для файлов CSV"
   ]
  },
  {
   "cell_type": "code",
   "execution_count": 4,
   "id": "535caf5d-5874-4c52-8d0c-f698ce557e40",
   "metadata": {},
   "outputs": [],
   "source": [
    "def checking_folder(path):\n",
    "    # path = '../data/processed/csv/' = variable()[4][0]['path_file']\n",
    "    \n",
    "# Если папки для сохранения результатов не существует, то она будет создана\n",
    "    if not os.path.isdir(path['path_file']):\n",
    "        try:\n",
    "            print(f\"Folder \\\"{path['type_file'].upper()}\\\" does NOT exist - it will be CREATED !!!\\n\")\n",
    "            os.mkdir(path)\n",
    "        except KeyError as e:\n",
    "            print(f\"Sorry, but you have the folder name WRONG! There CAN't BE a folder \\\"{path}\\\"! % str(e)\")\n",
    "    else:\n",
    "        print(f\"Folder \\\"{path['type_file'].upper()}\\\" FOUND!!! It`s OK\\n\")\n",
    "\n",
    "    # return path"
   ]
  },
  {
   "cell_type": "code",
   "execution_count": 205,
   "id": "cc762abd-90a7-4012-970b-773d0df817d8",
   "metadata": {},
   "outputs": [
    {
     "name": "stdout",
     "output_type": "stream",
     "text": [
      "Folder \"CSV\" FOUND!!! It`s OK\n",
      "\n"
     ]
    }
   ],
   "source": [
    "checking_folder(variable()[4][0])\n",
    "# checking_folder('../data/processed/csv/')"
   ]
  },
  {
   "cell_type": "markdown",
   "id": "60cf7de7-3bab-4326-8776-dc1cd6457b19",
   "metadata": {},
   "source": [
    "# ФУНКЦИЯ № 5.2. Проверка наличия старых CSV файлов в папке, создание заголовков"
   ]
  },
  {
   "cell_type": "code",
   "execution_count": 120,
   "id": "57a421de-19e6-4976-944c-f10305cc9527",
   "metadata": {
    "jupyter": {
     "source_hidden": true
    }
   },
   "outputs": [],
   "source": [
    "# Для единичной проверки - def checking_file_csv(path)\n",
    "def checking_file_csv(path):\n",
    "\n",
    "    file_start = 'barrels_articles_'\n",
    "    names = variable()[3]\n",
    "    print(f'START of function \"CHECKING_FILE_CSV()\"')\n",
    "    count = 1\n",
    "\n",
    "    for name in names:\n",
    "        name = name['name']\n",
    "        file_name = file_start + name\n",
    "        file_path = os.path.join(path[0]['path_file'], file_name) + path[0]['extension_file']\n",
    "        print(f\"\\t{count}.START function CHECKING_FILE_CSV(\\\"{name.upper()}\\\")\")\n",
    "        \n",
    "    # Проверка существования старых CSV файлов с таким же названием (если они существуют - обновляем).\n",
    "        if not os.path.exists(file_path):\n",
    "            print(f\"\\tThere is NO file \\\"{file_name}\\\" in the folder \\\"{path[0]['path_file']}\\\" - It will be CREATED.\\n\")\n",
    "        else:\n",
    "            print(f\"\\tIn the folder \\\"{path[0]['path_file']}\\\" the file \\\"{file_name}\\\" EXISTS.\")\n",
    "            print(f'\\tThe file \"{file_name}\" will be DELETED and REWRITTEN.\\n')\n",
    "            # os.remove(file_path) # DON'T FORGET TO OPEN THE LINE !!!!!!!!!!!!!!!!!!!!!!!!!!!!\n",
    "            \n",
    "    # Собираем заголовки для CSV-файла\n",
    "        with open(file_path, 'w', encoding='utf-8') as file:\n",
    "            writer = csv.writer(file)\n",
    "            writer.writerow(\n",
    "                (\n",
    "                    'Number',\n",
    "                    'Topic',\n",
    "                    'Link',\n",
    "                    'DateTime'\n",
    "                )\n",
    "            )\n",
    "        count += 1\n",
    "    \n",
    "    print(f'Function \"CHECKING_FILE_CSV()\" COMPLETED successfully!')"
   ]
  },
  {
   "cell_type": "code",
   "execution_count": 121,
   "id": "f566a835-cf76-4ac0-9db3-459c3275e3b2",
   "metadata": {},
   "outputs": [
    {
     "name": "stdout",
     "output_type": "stream",
     "text": [
      "START of function \"CHECKING_FILE_CSV()\"\n",
      "\t1.START function CHECKING_FILE_CSV(\"CHELYABINSK\")\n",
      "\tIn the folder \"../data/processed/csv/\" the file \"barrels_articles_chelyabinsk\" EXISTS.\n",
      "\tThe file \"barrels_articles_chelyabinsk\" will be DELETED and REWRITTEN.\n",
      "\n",
      "\t2.START function CHECKING_FILE_CSV(\"SVOY-BANY\")\n",
      "\tIn the folder \"../data/processed/csv/\" the file \"barrels_articles_svoy-bany\" EXISTS.\n",
      "\tThe file \"barrels_articles_svoy-bany\" will be DELETED and REWRITTEN.\n",
      "\n",
      "Function \"CHECKING_FILE_CSV()\" COMPLETED successfully!\n"
     ]
    }
   ],
   "source": [
    "checking_file_csv(variable()[4])"
   ]
  },
  {
   "cell_type": "code",
   "execution_count": 5,
   "id": "c6b37522-dc95-4c6f-9ca3-0908b83f15cd",
   "metadata": {},
   "outputs": [],
   "source": [
    "# Для подготовки CSV файла в YIELD функции - def csv_preparation(path, name)\n",
    "def csv_preparation(path, name):\n",
    "    \n",
    "    print(f'\\tSTART \"CSV_PREPARATION({name.upper()})\"')\n",
    "    \n",
    "    file_start = 'barrels_articles_'\n",
    "    file_name = file_start + name\n",
    "    file_path = os.path.join(path['path_file'], file_name) + path['extension_file']\n",
    "        \n",
    "# Проверка существования старых CSV файлов с таким же названием (если они существуют - обновляем).\n",
    "    if not os.path.exists(file_path):\n",
    "        print(f\"\\t\\tThere is NO file \\\"{file_name}\\\" in the folder \\\"{path['path_file'].upper()}\\\" - It will be CREATED.\\n\")\n",
    "    else:\n",
    "        print(f\"\\t\\tIn the folder \\\"{path['type_file'].upper()}\\\" the file \\\"{file_name}\\\" EXISTS.\")\n",
    "        print(f'\\t\\tThe file \"{file_name}\" will be DELETED and REWRITTEN.')\n",
    "        # os.remove(file_path) # DON'T FORGET TO OPEN THE LINE !!!! - Это необязательно, потому что - \"W\"\n",
    "        \n",
    "# Собираем заголовки для CSV-файла\n",
    "    with open(file_path, 'w', encoding='utf-8') as file:\n",
    "        writer = csv.writer(file)\n",
    "        writer.writerow(\n",
    "            (\n",
    "                'Number',\n",
    "                'Topic',\n",
    "                'Link',\n",
    "                'DateTime'\n",
    "            )\n",
    "        )\n",
    "    \n",
    "    print(f'\\tEND \"CSV_PREPARATION({name.upper()})\"')"
   ]
  },
  {
   "cell_type": "code",
   "execution_count": 199,
   "id": "bfae06e4-4fdd-4e0c-bbcf-13d0087daad2",
   "metadata": {},
   "outputs": [
    {
     "name": "stdout",
     "output_type": "stream",
     "text": [
      "\tSTART \"CSV_PREPARATION(CHELYABINSK)\"\n",
      "\t\tIn the folder \"CSV\" the file \"barrels_articles_chelyabinsk\" EXISTS.\n",
      "\t\tThe file \"barrels_articles_chelyabinsk\" will be DELETED and REWRITTEN.\n",
      "\tEND \"CSV_PREPARATION(CHELYABINSK)\"\n"
     ]
    }
   ],
   "source": [
    "csv_preparation(variable()[4][0], 'chelyabinsk')"
   ]
  },
  {
   "cell_type": "markdown",
   "id": "da3d0cee-18fd-40cd-96c0-adf23232f9fb",
   "metadata": {},
   "source": [
    "# ФУНКЦИЯ № 5.3. Создание CSV-файла"
   ]
  },
  {
   "cell_type": "code",
   "execution_count": 6,
   "id": "acaaa934-8808-4988-b6b5-b6e762e9ec01",
   "metadata": {},
   "outputs": [],
   "source": [
    "# Для заполнения CSV файла содержимым построчно - def save_csv(name, count, title, link, date_time, path):\n",
    "def save_csv(name, count, title, link, date_time, path):\n",
    "    \n",
    "    file_start = 'barrels_articles_'\n",
    "    file_name = file_start + name\n",
    "    file_path = os.path.join(path['path_file'], file_name) + path['extension_file']\n",
    "    \n",
    "# Заполняем CSV файл построчно (внутри цикла)\n",
    "    with open(file_path, 'a', encoding='utf-8') as file:\n",
    "        writer = csv.writer(file)\n",
    "        writer.writerow(\n",
    "            (\n",
    "                count,\n",
    "                title,\n",
    "                link,\n",
    "                date_time\n",
    "            )\n",
    "        )"
   ]
  },
  {
   "cell_type": "code",
   "execution_count": 87,
   "id": "99335f8b-f17e-41f2-bd2d-774e047ba522",
   "metadata": {},
   "outputs": [],
   "source": [
    "# save_csv(urls)"
   ]
  },
  {
   "cell_type": "code",
   "execution_count": null,
   "id": "8a36edd3-2e5f-4a60-9328-e75bfe2e815b",
   "metadata": {},
   "outputs": [],
   "source": []
  },
  {
   "cell_type": "markdown",
   "id": "9c84affd-0b51-43aa-ac81-5c2eedc8a9f5",
   "metadata": {},
   "source": [
    "# ФУНКЦИЯ № 6. Создание JSON-файла"
   ]
  },
  {
   "cell_type": "code",
   "execution_count": 7,
   "id": "6e220661-7f65-4b85-ac9b-a98a23b432b9",
   "metadata": {},
   "outputs": [],
   "source": [
    "def save_json(name, path, articles_list):\n",
    "\n",
    "# Если папки для сохранения результатов не существует, то она будет создана\n",
    "    if not os.path.isdir(path['path_file']):\n",
    "        print(f\"Folder \\\"{path['type_file'].upper()}\\\" does NOT exist - it will be CREATED !!!\")\n",
    "        os.mkdir(path['path_file'])\n",
    "    else:\n",
    "        print(f\"Folder \\\"{path['type_file'].upper()}\\\" FOUND!!! It`s OK\")\n",
    "\n",
    "\n",
    "    file_start = 'barrels_articles_'\n",
    "    file_name = file_start + name\n",
    "    file_path = os.path.join(path['path_file'], file_name) + path['extension_file']\n",
    "    print(f'START function SAVE_JSON(\"{name.upper()}\")')\n",
    "    \n",
    "# Проверка существования старых CSV файлов с таким же названием (если они существуют - обновляем).\n",
    "    if not os.path.exists(file_path):\n",
    "        print(f\"\\tThere is NO file \\\"{file_name}\\\" in the folder \\\"{path['path_file'].upper()}\\\" - It will be CREATED.\")\n",
    "    else:\n",
    "        print(f\"\\tIn the folder \\\"{path['type_file'].upper()}\\\" the file \\\"{file_name}\\\" EXISTS.\")\n",
    "        print(f'\\tThe file \"{file_name}\" will be DELETED and REWRITTEN.')\n",
    "        os.remove(file_path) # DON'T FORGET TO OPEN THE LINE !!!!!!!!!!!!!!!!!!!!!!!!!!!!\n",
    "\n",
    "    \n",
    "# Создаём третий файл в формате JSON, в который будем записывать данные в виде словаря\n",
    "# который весьма полезен и удобен для чтения (в дополнение к формату CSV)\n",
    "    with open(file_path, 'a', encoding='utf-8') as file:\n",
    "        json.dump(articles_list, file, indent=4, ensure_ascii=False)\n",
    "\n",
    "    print(f\"FINISH function SAVE_JSON(\\\"{name.upper()}\\\")\")"
   ]
  },
  {
   "cell_type": "markdown",
   "id": "79f1b60f-8f0c-4484-bff4-8ce6e496274f",
   "metadata": {},
   "source": [
    "# ФУНКЦИЯ № 7. Чтение HTML-кода, БЕЗ сохранения его в список. Команда YIELD."
   ]
  },
  {
   "cell_type": "code",
   "execution_count": 26,
   "id": "9de76177-51ae-408a-9952-6da3bebfd8f8",
   "metadata": {
    "jupyter": {
     "source_hidden": true
    }
   },
   "outputs": [],
   "source": [
    "# Функция для чтения HTML кода из Интернета на-лету (НУЖНО МУДРИТЬ С ПЕРЕМЕННЫМИ)\n",
    "def read_html_yield(url, path):\n",
    "# Счётчик для URL-ов:\n",
    "    count = 1\n",
    "    \n",
    "    for u in url:    \n",
    "        file_start = 'barrels_articles_'\n",
    "        name = u.split('//')[1].split('.')[0]\n",
    "        file_name = file_start + name\n",
    "        file_path = os.path.join(path, file_name) + '.html'\n",
    "        print(f'{count}. Function READ_HTML(\"{name.upper()}\") is EXECUTING...')\n",
    "        \n",
    "# Проверка существования файлов с HTML-кодом.\n",
    "        if os.path.exists(file_path):\n",
    "            print(f\"\\tIn the folder \\\"{path}\\\" the file \\\"{file_name}\\\" EXISTS.\")\n",
    "            \n",
    "            with open(file_path, encoding='utf-8') as file:\n",
    "                src = file.read()\n",
    "            print(f'\\tHTML-code \"{file_name}\" is OPENED from {file_path}')\n",
    "            \n",
    "        else:\n",
    "            print(f\"\\tThere is NO file \\\"{file_name}\\\" in the \\\"{path}\\\" folder!\")\n",
    "            print('\\tIt is necessary to START function \"WRITE_HTML()\" !!!\\n')\n",
    "            break\n",
    "        \n",
    "        count += 1\n",
    "        print(f'FINAL_HTML - \"{name.upper()}\"\\n')\n",
    "    \n",
    "        yield src, name\n",
    "    print('FINAL_READ')"
   ]
  },
  {
   "cell_type": "code",
   "execution_count": 8,
   "id": "4cf35bd3-58da-4a21-9754-b8cf868066f0",
   "metadata": {},
   "outputs": [],
   "source": [
    "# Функция для чтения сохранённых HTML-файлов в HTML папке - выбор по имени\n",
    "def read_html_yield_names(name, path, count):\n",
    "    print(f'{count}.START of function \"READ_HTML_YIELD_NAMES()\"')\n",
    "    # count = 1\n",
    "    \n",
    "    file_start = 'barrels_articles_'\n",
    "    file_name = file_start + name\n",
    "    file_path = os.path.join(path['path_file'], file_name) + path['extension_file']\n",
    "    print(f\"\\tFunction \\\"READ_HTML_YIELD_NAMES({name.upper()})\\\" is EXECUTING...\")\n",
    "    \n",
    "# Проверка существования файлов с HTML-кодом. Существующие коды собираем в список.\n",
    "    if os.path.exists(file_path):\n",
    "        print(f\"\\tIn the folder \\\"{path['type_file'].upper()}\\\" the file \\\"{file_name}\\\" EXISTS.\")\n",
    "        \n",
    "        with open(file_path, encoding='utf-8') as file:\n",
    "            src = file.read()\n",
    "            \n",
    "        print(f\"\\t\\\"{path['type_file'].upper()}\\\"-code \\\"{file_name}\\\" is OPENED from \\\"{file_path}\\\"\")\n",
    "    else:\n",
    "        print(f\"\\tThere is NO file \\\"{file_name}\\\" in the \\\"{path['type_file'].upper()}\\\" folder!\")\n",
    "        print('\\tIt is necessary to START function \"WRITE_HTML()\" !!!\\n')\n",
    "        # break\n",
    "        \n",
    "    # count += 1\n",
    "    print(f'\"READ_HTML_YIELD_NAMES({name.upper()})\" COMPLETED SUCCESSFULLY!\\n')\n",
    "\n",
    "    \n",
    "    # return src\n",
    "    yield src\n",
    "    # print('FINAL_READ')"
   ]
  },
  {
   "cell_type": "code",
   "execution_count": 161,
   "id": "a8c6f4d7-675a-4999-99d4-92d6c4d56c4d",
   "metadata": {},
   "outputs": [
    {
     "data": {
      "text/plain": [
       "<generator object read_html_yield_names at 0x000001CD955D96D0>"
      ]
     },
     "execution_count": 161,
     "metadata": {},
     "output_type": "execute_result"
    }
   ],
   "source": [
    "read_html_yield_names(variable()[3][1]['name'], variable()[4][1], 1)"
   ]
  },
  {
   "cell_type": "markdown",
   "id": "011d46bc-8cd4-4e1d-a8b5-8af9fa03015a",
   "metadata": {},
   "source": [
    "## Парсер - генератор, оптимизируем код"
   ]
  },
  {
   "cell_type": "markdown",
   "id": "2f92b739-c50b-4239-9eae-5c435c673de1",
   "metadata": {},
   "source": [
    "# ФУНКЦИЯ № 8. Определение блоков для парсинга интересующих сайтов (функция YIELD)"
   ]
  },
  {
   "cell_type": "code",
   "execution_count": 1,
   "id": "4756fc60-7f0c-446b-a01f-6bf263cf8670",
   "metadata": {
    "jupyter": {
     "source_hidden": true
    }
   },
   "outputs": [],
   "source": [
    "def abc():\n",
    "    a = [1, 2, 3]\n",
    "    b = ['a', 'b', 'c']\n",
    "    c = [234, 456, 789]\n",
    "    return a,b,c"
   ]
  },
  {
   "cell_type": "code",
   "execution_count": 2,
   "id": "b672b6b2-29af-4476-b15c-e86aac50039d",
   "metadata": {},
   "outputs": [
    {
     "name": "stdout",
     "output_type": "stream",
     "text": [
      "([1, 2, 3], ['a', 'b', 'c'], [234, 456, 789])\n"
     ]
    }
   ],
   "source": [
    "print(abc())"
   ]
  },
  {
   "cell_type": "code",
   "execution_count": 3,
   "id": "e6a58e61-237c-403c-b837-78e58c7fbf4c",
   "metadata": {
    "jupyter": {
     "source_hidden": true
    }
   },
   "outputs": [
    {
     "name": "stdout",
     "output_type": "stream",
     "text": [
      "1 a 234\n",
      "2 b 456\n",
      "3 c 789\n"
     ]
    }
   ],
   "source": [
    "a,b,c = abc()\n",
    "for x, y, z in zip(a, b, c):\n",
    "    print(x, y, z)"
   ]
  },
  {
   "cell_type": "code",
   "execution_count": 8,
   "id": "c13d2151-2ce7-4447-926f-5066095d134f",
   "metadata": {
    "collapsed": true,
    "jupyter": {
     "outputs_hidden": true,
     "source_hidden": true
    }
   },
   "outputs": [
    {
     "name": "stdout",
     "output_type": "stream",
     "text": [
      "\t\tSTART of function \"DEFINITION_BLOCKS()\"\n",
      "\n",
      "Folder \"CSV\" FOUND!!! It`s OK\n",
      "\n",
      "1.START of function \"READ_HTML_YIELD_NAMES()\"\n",
      "\tFunction \"READ_HTML_YIELD_NAMES(CHELYABINSK)\" is EXECUTING...\n",
      "\tIn the folder \"HTML\" the file \"barrels_articles_chelyabinsk\" EXISTS.\n",
      "\t\"HTML\"-code \"barrels_articles_chelyabinsk\" is OPENED from \"../data/interim/html/barrels_articles_chelyabinsk.html\"\n",
      "\"READ_HTML_YIELD_NAMES(CHELYABINSK)\" COMPLETED SUCCESSFULLY!\n",
      "\n",
      "\t1.START of function \"DEFINITION_BLOCKS(CHELYABINSK)\" and it`s EXECUTING ...\n",
      "\tSTART \"CSV_PREPARATION(CHELYABINSK)\"\n",
      "\t\tIn the folder \"CSV\" the file \"barrels_articles_chelyabinsk\" EXISTS.\n",
      "\t\tThe file \"barrels_articles_chelyabinsk\" will be DELETED and REWRITTEN.\n",
      "\tEND \"CSV_PREPARATION(CHELYABINSK)\"\n",
      "START SAVE_CSV(\"CHELYABINSK\"):\n",
      "Link №1. Как сделать фундамент для бани-бочки?\n",
      "Link №2. Печь в бане-бочке: печь с топкой через перегородку или на улицу — плюсы и минусы\n",
      "Link №3. Правила эксплуатации бань-бочек\n",
      "Link №4. Что нужно знать при покупке?\n",
      "Link №5. Эксплуатация бани-бочки зимой\n",
      "Link №6. Почему покупатели выбирают Бани-бочки?\n",
      "Link №7. Планировки и внутреннее устройство бань-бочек\n",
      "Link №8. Выбор материала при производстве и отделке бани-бочки\n",
      "Link №9. ТОП-15 причин, почему нужно выбирать бани Лукоморье\n",
      "Link №10. Популярные дополнения к бане\n",
      "Link №11. Как топить баню-бочку?\n",
      "Link №12. Как устроена баня-бочка?\n",
      "Link №13. Как сделать баню-бочку своими руками?\n",
      "Link №14. Баня-бочка по финской технологии\n",
      "Link №15. Виды веников для бани и как правильно их запаривать?\n",
      "Link №16. Полезна ли баня для здоровья?\n",
      "Link №17. Внешний вид бани: обработка и отделка\n",
      "Link №18. Сборка бани бочки на участке\n",
      "Link №19. Финская и русская баня-бочка: в чем разница\n",
      "Link №20. Баня-бочка из кедра или ели, что лучше?\n",
      "Link №21. Виды кровли для бани\n",
      "Link №22. Какой должна быть влажность бруса при строительстве бани?\n",
      "Link №23. Печь для бани — какую выбрать?\n",
      "Link №24. Вагонка для отделки бани\n",
      "Link №25. Преимущества деревянной бани\n",
      "Link №26. Основные требования по эксплуатации бань\n",
      "Link №27. В чем разница между срощенной и обычной древесиной\n",
      "Link №28. Секреты создания легкого и приятного пара\n",
      "\t\"CSV\"-file \"barrels_articles_chelyabinsk\" is SAVED in folder \"CSV\"\n",
      "END SAVE_CSV - \"CHELYABINSK\"\n",
      "\n",
      "Folder \"JSON\" FOUND!!! It`s OK\n",
      "START function SAVE_JSON(\"CHELYABINSK\")\n",
      "\tIn the folder \"JSON\" the file \"barrels_articles_chelyabinsk\" EXISTS.\n",
      "\tThe file \"barrels_articles_chelyabinsk\" will be DELETED and REWRITTEN.\n",
      "FINISH function SAVE_JSON(\"CHELYABINSK\")\n",
      "\"DEFINITION_..(CHELYABINSK)\" COMPLETED SUCCESSFULLY!\n",
      "\n",
      "2.START of function \"READ_HTML_YIELD_NAMES()\"\n",
      "\tFunction \"READ_HTML_YIELD_NAMES(SVOY-BANY)\" is EXECUTING...\n",
      "\tIn the folder \"HTML\" the file \"barrels_articles_svoy-bany\" EXISTS.\n",
      "\t\"HTML\"-code \"barrels_articles_svoy-bany\" is OPENED from \"../data/interim/html/barrels_articles_svoy-bany.html\"\n",
      "\"READ_HTML_YIELD_NAMES(SVOY-BANY)\" COMPLETED SUCCESSFULLY!\n",
      "\n",
      "\t2.START of function \"DEFINITION_BLOCKS(SVOY-BANY)\" and it`s EXECUTING ...\n",
      "\tSTART \"CSV_PREPARATION(SVOY-BANY)\"\n",
      "\t\tIn the folder \"CSV\" the file \"barrels_articles_svoy-bany\" EXISTS.\n",
      "\t\tThe file \"barrels_articles_svoy-bany\" will be DELETED and REWRITTEN.\n",
      "\tEND \"CSV_PREPARATION(SVOY-BANY)\"\n",
      "Link №1. Технология строительства из минибруса\n",
      "Link №2. A-frame House: треугольные дома-шалаши снова набирают популярность\n",
      "Link №3. Баня из бруса или каркасная – что лучше выбрать?\n",
      "Link №4. Модульные бани: особенности строительства, преимущества конструкции\n",
      "Link №5. Плюсы и минусы каркасных домов\n",
      "Link №6. Правила эксплуатации бань-бочек\n",
      "Link №7. Напитки в бане: травяной чай\n",
      "Link №8. Как правильно париться в бане?\n",
      "Link №9. Как правильно запаривать банный веник из разных пород?\n",
      "\t\"CSV\"-file \"barrels_articles_svoy-bany\" is SAVED in folder \"CSV\"\n",
      "FINAL SAVE_CSV - \"SVOY-BANY\"\n",
      "\n",
      "Folder \"JSON\" FOUND!!! It`s OK\n",
      "START function SAVE_JSON(\"SVOY-BANY\")\n",
      "\tIn the folder \"JSON\" the file \"barrels_articles_svoy-bany\" EXISTS.\n",
      "\tThe file \"barrels_articles_svoy-bany\" will be DELETED and REWRITTEN.\n",
      "FINISH function SAVE_JSON(\"SVOY-BANY\")\n",
      "\"DEFINITION_..(SVOY-BANY)\" COMPLETED SUCCESSFULLY!\n",
      "\n",
      "\t\tEND of function \"DEFINITION_BLOCKS()\"\n"
     ]
    }
   ],
   "source": [
    "# Каждый раз функция проходит по внутренней ссылке на товар и выполнение цикла приостанавливается благодаря команде !!! \"YIELD\" !!!\n",
    "def definition_blocks():\n",
    "# Определяем переменные с помощью функции VARIABLE()\n",
    "    hosts = variable()[1]\n",
    "    urls = variable()[2]\n",
    "    names = variable()[3]\n",
    "    \n",
    "    paths = variable()[4]\n",
    "    path_csv = paths[0]\n",
    "    path_html = paths[1]\n",
    "    path_json = paths[3]\n",
    "    \n",
    "    print(f'\\t\\tSTART of function \"DEFINITION_BLOCKS()\"\\n')\n",
    "# Проверка наличия папки для файлов\n",
    "    # checking_folder_csv(paths)\n",
    "    checking_folder(path_csv)\n",
    "    count = 1\n",
    "    for item in range(len(names)):\n",
    "        \n",
    "        for src in read_html_yield_names(names[item]['name'], path_html, count):\n",
    "        \n",
    "# Определяем объекты BeautifulSoup:\n",
    "            soup = BeautifulSoup(src, 'lxml')\n",
    "# Счётчик для ссылок на статьи\n",
    "            count_url = 1\n",
    "        \n",
    "            file_start = 'barrels_articles_'\n",
    "            name = names[item]['name']\n",
    "        \n",
    "# Объявляем начало чтения ссылок\n",
    "        print(f'\\t{item+1}.START of function \"DEFINITION_BLOCKS({name.upper()})\" and it`s EXECUTING ...')\n",
    "        # print(f'\\tFunction GET_URL(\"{name.upper()}\") is EXECUTING...')\n",
    "    \n",
    "        if name == 'chelyabinsk':\n",
    "# Заполняем заголовки для CSV-файла\n",
    "            csv_preparation(path_csv, name)\n",
    "            \n",
    "            file_name = file_start + name\n",
    "            articles_list = []\n",
    "            blocks = soup.find('div', class_='desc list').find_all('a')\n",
    "            count_link = 1\n",
    "\n",
    "            print(f'START SAVE_CSV(\"{name.upper()}\"):')\n",
    "            for item in blocks:\n",
    "                title = item.text\n",
    "                link = item.get(\"href\")\n",
    "                date_time = datetime.now().strftime('%Y-%m-%d %H:%M:%S')\n",
    "                print(f'Link №{count_link}. {title}')\n",
    "\n",
    "                articles_list.append(\n",
    "                    {\n",
    "                        \"Number\": count_link,\n",
    "                        \"Topic\": title,\n",
    "                        \"Link\": link,\n",
    "                        \"DateTime\": date_time\n",
    "                    }\n",
    "                )\n",
    "# Заполняем строки CSV-файла                \n",
    "                save_csv(name, count_link, title, link, date_time, path_csv)\n",
    "                count_link += 1\n",
    "            print(f'\\t\\\"{path_csv['type_file'].upper()}\\\"-file \\\"{file_name}\\\" is SAVED in folder \\\"{path_csv['type_file'].upper()}\\\"')\n",
    "            print(f'END SAVE_CSV - \"{name.upper()}\"\\n')\n",
    "# Заполняем JSON файл\n",
    "            save_json(name, path_json, articles_list)\n",
    "        \n",
    "        elif name == 'svoy-bany':\n",
    "# Заполняем заголовки для CSV-файла\n",
    "            csv_preparation(path_csv, name)\n",
    "\n",
    "            file_name = file_start + name\n",
    "            articles_list = []\n",
    "            blocks = soup.find_all('p', class_= 'news-item')\n",
    "            count_link = 1\n",
    "            \n",
    "            for item in blocks:\n",
    "                title = item.text.strip()\n",
    "                link = hosts[1] + item.find('a').get('href')\n",
    "                date_time = datetime.now().strftime('%Y-%m-%d %H:%M:%S')\n",
    "                print(f'Link №{count_link}. {title}')\n",
    "                \n",
    "                articles_list.append(\n",
    "                    {\n",
    "                        \"Number\": count_link,\n",
    "                        \"Topic\": title,\n",
    "                        \"Link\": link,\n",
    "                        \"DateTime\": date_time\n",
    "                    }\n",
    "                )\n",
    "# Заполняем строки CSV-файла\n",
    "                save_csv(name, count_link, title, link, date_time, path_csv)\n",
    "                count_link += 1\n",
    "            print(f'\\t\\\"{path_csv['type_file'].upper()}\\\"-file \\\"{file_name}\\\" is SAVED in folder \\\"{path_csv['type_file'].upper()}\\\"')\n",
    "            print(f'FINAL SAVE_CSV - \"{name.upper()}\"\\n')\n",
    "# Заполняем JSON файл\n",
    "            save_json(name, path_json, articles_list)\n",
    "        \n",
    "        # sleep(random.randrange(2, 4)) # Для симуляции работы реального пользователя, а не робота\n",
    "        \n",
    "        count_url += 1\n",
    "        count += 1\n",
    "        \n",
    "        print(f'\"DEFINITION_..({name.upper()})\" COMPLETED SUCCESSFULLY!\\n')\n",
    "    print(f'\\t\\tEND of function \"DEFINITION_BLOCKS()\"')\n",
    "    # return name\n",
    "\n",
    "# Безусловный запуск функции\n",
    "if __name__ == '__main__':\n",
    "    definition_blocks()"
   ]
  },
  {
   "cell_type": "code",
   "execution_count": 11,
   "id": "1c95fac7-a748-42eb-b5b6-d07ef22e772c",
   "metadata": {
    "scrolled": true
   },
   "outputs": [],
   "source": [
    "# definition_blocks()"
   ]
  },
  {
   "cell_type": "code",
   "execution_count": null,
   "id": "67d83517-d9a6-4393-b42c-aec815858435",
   "metadata": {},
   "outputs": [],
   "source": [
    "# BeautifulSoup(str(f.readlines()), \"html.parser\")"
   ]
  },
  {
   "cell_type": "code",
   "execution_count": null,
   "id": "2d2dfab7-d207-4011-9a8b-470d15946186",
   "metadata": {},
   "outputs": [],
   "source": []
  },
  {
   "cell_type": "code",
   "execution_count": null,
   "id": "7df925ba-3509-4f57-a71d-5fd66050189e",
   "metadata": {},
   "outputs": [],
   "source": [
    "## Создание класса \"Article\""
   ]
  },
  {
   "cell_type": "code",
   "execution_count": 76,
   "id": "c0d49c07-1db9-4003-8157-db4303fe0554",
   "metadata": {},
   "outputs": [
    {
     "name": "stdout",
     "output_type": "stream",
     "text": [
      "chelyabinsk\n",
      "svoy-bany\n",
      "[<__main__.Chel object at 0x000001CD92D94410>, <__main__.Svoy object at 0x000001CD935DFA10>]\n"
     ]
    }
   ],
   "source": [
    "obj_list = []\n",
    "for i in range(len(names_l)):\n",
    "    print(names_l[i])\n",
    "    if names_l[i] == 'chelyabinsk':\n",
    "        obj = Chel(names_l[i])\n",
    "    elif names_l[i] == 'svoy-bany':\n",
    "        obj = Svoy(names_l[i])\n",
    "    obj_list.append(obj)\n",
    "print(obj_list)"
   ]
  },
  {
   "cell_type": "code",
   "execution_count": 78,
   "id": "6596afaa-8333-4b52-9f72-f1586c3421f6",
   "metadata": {},
   "outputs": [
    {
     "name": "stdout",
     "output_type": "stream",
     "text": [
      "chelyabinsk link_ch\n"
     ]
    }
   ],
   "source": [
    "print(obj_list[0].name, obj_list[0].link)"
   ]
  },
  {
   "cell_type": "code",
   "execution_count": null,
   "id": "07fd5530-8227-4584-8cb6-617f21517ff5",
   "metadata": {
    "jupyter": {
     "source_hidden": true
    }
   },
   "outputs": [],
   "source": [
    "if -10 < a < 10:\n",
    "    obj = One(a)\n",
    "else:\n",
    "    obj = Two(a)"
   ]
  },
  {
   "cell_type": "code",
   "execution_count": null,
   "id": "fc77a3bb-d3cf-41fc-a06c-9350668c0887",
   "metadata": {},
   "outputs": [],
   "source": []
  },
  {
   "cell_type": "code",
   "execution_count": 16,
   "id": "67fae51b-4369-45fe-ba86-f7318a973a60",
   "metadata": {},
   "outputs": [
    {
     "name": "stdout",
     "output_type": "stream",
     "text": [
      "{'host': 'https://chelyabinsk.bani.ru.com', 'url': 'https://chelyabinsk.bani.ru.com/poleznye-statiy/', 'block': \"soup.find('div', class_='desc list').find_all('a')\", 'title': 'item.text', 'link': \"item.get('href')\"}\n",
      "\n",
      "[{'name': 'chelyabinsk'}, {'name': 'svoy-bany'}]\n",
      "['chelyabinsk', 'svoy-bany']\n",
      "\n",
      "[{'div': 'div', 'class': 'desc list'}, {'div': 'p', 'class': 'news-item'}] <class 'list'>\n",
      "{'div': 'div', 'class': 'desc list'} <class 'dict'>\n"
     ]
    },
    {
     "data": {
      "text/plain": [
       "'desc list'"
      ]
     },
     "execution_count": 16,
     "metadata": {},
     "output_type": "execute_result"
    }
   ],
   "source": [
    "# 1. Список адресов основного хоста\n",
    "hosts = [\n",
    "    'https://chelyabinsk.bani.ru.com',\n",
    "    'https://svoy-bany.ru'\n",
    "    ]\n",
    "    \n",
    "# 2. Список адресов страниц для парсинга\n",
    "urls = [\n",
    "    'https://chelyabinsk.bani.ru.com/poleznye-statiy/',\n",
    "    'https://svoy-bany.ru/article/'\n",
    "    ]\n",
    "\n",
    "# 3. Список имен сайтов\n",
    "names_d = [{\"name\": u.split('//')[1].split('.')[0]} for u in urls]\n",
    "names_l = [u.split('//')[1].split('.')[0] for u in urls]\n",
    "\n",
    "# 4. Словарь для блоков, заголовков, ссылок\n",
    "blocks = [\n",
    "    \"soup.find('div', class_='desc list').find_all('a')\",\n",
    "    \"soup.find_all('p', class_= 'news-item')\"\n",
    "    ]\n",
    "\n",
    "titles = [\n",
    "    \"item.text\",\n",
    "    \"item.text.strip()\"\n",
    "    ]\n",
    "\n",
    "links = [\n",
    "    \"item.get('href')\",\n",
    "    \"hosts[1] + item.find('a').get('href')\"\n",
    "    ]\n",
    "    \n",
    "elements = [{'host': hosts[i], 'url': urls[i], 'block': blocks[i], 'title': titles[i], 'link': links[i]} for i in range(len(urls))]\n",
    "print(elements[0])\n",
    "# paths\n",
    "print()\n",
    "print(names_d)\n",
    "print(names_l)\n",
    "print()\n",
    "\n",
    "\n",
    "# 5. Словарь атрибутов Супа\n",
    "divs = ['div', 'p']\n",
    "classes = ['desc list', 'news-item']\n",
    "# extension_files = ['.csv', '.html', '.jpg', '.json', '.txt', '.xls']\n",
    "\n",
    "patt = [{'div': divs[i], 'class': classes[i]} for i in range(len(divs))]\n",
    "print(patt, type(patt))\n",
    "print(patt[0], type(patt[0]))\n",
    "patt[0]['class']"
   ]
  },
  {
   "cell_type": "code",
   "execution_count": 41,
   "id": "b5fc3025-b65e-4ade-a97e-ce2eea1ec9fc",
   "metadata": {
    "jupyter": {
     "source_hidden": true
    }
   },
   "outputs": [
    {
     "name": "stdout",
     "output_type": "stream",
     "text": [
      "https://chelyabinsk.bani.ru.com/poleznye-statiy/\n",
      "chelyabinsk\n",
      "chelyabinsk\n"
     ]
    }
   ],
   "source": [
    "print(elements[0]['url'])\n",
    "print(names_d[0]['name'])\n",
    "print(names_l[0])"
   ]
  },
  {
   "cell_type": "code",
   "execution_count": null,
   "id": "0b20876b-6d95-4280-898f-d7b9b398c0b3",
   "metadata": {},
   "outputs": [],
   "source": []
  },
  {
   "cell_type": "code",
   "execution_count": null,
   "id": "c8b5ab8b-b9eb-438a-a6c3-a2f287a5ddf0",
   "metadata": {},
   "outputs": [],
   "source": []
  },
  {
   "cell_type": "code",
   "execution_count": 75,
   "id": "8c186331-346a-4bf3-8544-9ee98b7776f5",
   "metadata": {},
   "outputs": [
    {
     "name": "stdout",
     "output_type": "stream",
     "text": [
      "Article 'TOM': Block - soup.find('div', class_='desc list').find_all('a'); Link - i.get('href').\n"
     ]
    }
   ],
   "source": [
    "article1 = Article('Tom', \"soup.find('div', class_='desc list').find_all('a')\", \"i.get('href')\")"
   ]
  },
  {
   "cell_type": "code",
   "execution_count": 17,
   "id": "1a66e4c9-5e7f-45d4-b920-ea0ebf1663d1",
   "metadata": {},
   "outputs": [
    {
     "name": "stdout",
     "output_type": "stream",
     "text": [
      "<class 'dict'>\n",
      "../data/processed/csv/\n"
     ]
    }
   ],
   "source": [
    "paths = variable()[3]\n",
    "print(type(paths))\n",
    "print(paths['csv'])"
   ]
  },
  {
   "cell_type": "code",
   "execution_count": 18,
   "id": "80bcf27c-d282-492f-ac42-b8db29539d1f",
   "metadata": {},
   "outputs": [
    {
     "name": "stdout",
     "output_type": "stream",
     "text": [
      "../data/processed/csv/\n"
     ]
    }
   ],
   "source": [
    "path_csv = variable()[3]['csv']\n",
    "print(path_csv)"
   ]
  },
  {
   "cell_type": "markdown",
   "id": "be71ff46-e737-4b19-a79d-5ad128dd47f7",
   "metadata": {},
   "source": [
    "# ФУНКЦИЯ № 10. Собираем все рабочие функции в одну главную с использованием ООП"
   ]
  },
  {
   "cell_type": "code",
   "execution_count": null,
   "id": "efc6e3b7-0d7b-4262-b575-e3b7b1dd7451",
   "metadata": {},
   "outputs": [],
   "source": []
  },
  {
   "cell_type": "code",
   "execution_count": 37,
   "id": "6997fa42-f95f-4e98-badc-4ae4af3bf681",
   "metadata": {},
   "outputs": [],
   "source": [
    "# STARTING OPTION Class Article - It`s a working option\n",
    "class Article:\n",
    "    html = \"<div class='findme'> blabla <p> p-tag content</p></div>\"\n",
    "    sources = {'source': 'div, findme'}\n",
    "    # tag = sources['source'].split(', ')\n",
    "    \n",
    "    # sources = {'source1': 'p, class_=\\'findme\\'',\n",
    "    def __init__(self, name='NoName', src=html):\n",
    "        self.name = name\n",
    "        self.src = src\n",
    "        self.sources = {'source': 'div, findme'}\n",
    "        self.tag = self.sources['source'].split(', ')\n",
    "        self.soup = BeautifulSoup(self.src, 'lxml')\n",
    "        self.block = self.soup.find(self.tag[0], class_=self.tag[1])\n",
    "        self.title = self.block.text\n",
    "    \n",
    "    def __str__(self):\n",
    "        # return f\"\\nArticle '{self.name.upper()}':\\nBlock - {self.block}\"\n",
    "        return f\"\\nArticle '{self.name.upper()}':\\nBlock - {self.block}\\nTitle - {self.title}\"\n",
    "        # return f\"\\nArticle:\\nBlock - {self.block}\\nTitle - {self.title}\"\n",
    "\n",
    "class Chel(Article):\n",
    "    def __init__(self, name='Some Name', newsrc=Article.html, newsources=Article.sources):\n",
    "        self.name = name\n",
    "        self.sources = newsources\n",
    "        self.src = newsrc\n",
    "        self.soup = BeautifulSoup(self.src, 'lxml')\n",
    "        self.tag = self.sources['source'].split(', ')\n",
    "        self.block = self.soup.find(self.tag[0], class_=self.tag[1])\n",
    "        self.title = self.block.text\n",
    "        # self.link = self.block.find('a').get('href')\n",
    "\n",
    "    def __str__(self):\n",
    "        # return f\"\\nChel '{self.name.upper()}':\\nBlock - {self.block}\\nTitle - {self.title}\\nLink - {self.link}\"\n",
    "        return f\"\\nChel '{self.name.upper()}':\\nBlock - {self.block}\\nTitle - {self.title}\"\n",
    "\n",
    "\n",
    "# class Svoy(Article):\n",
    "#     def __init__(self, name, src=None):\n",
    "#         self.soup = Article(src)\n",
    "#         self.name = name\n",
    "#         self.block = self.soup.find_all('p', class_= 'news-item')\n",
    "#         self.title = self.block.text.strip()\n",
    "#         self.link = self.block.find('a').get('href')"
   ]
  },
  {
   "cell_type": "code",
   "execution_count": 41,
   "id": "67509116-5e2e-4360-a0c2-5759cff8c4c4",
   "metadata": {},
   "outputs": [
    {
     "name": "stdout",
     "output_type": "stream",
     "text": [
      "\n",
      "Article 'NONAME':\n",
      "Block - <div class=\"findme\"> blabla <p> p-tag content</p></div>\n",
      "Title -  blabla  p-tag content\n",
      "\n",
      "Chel 'SOME NAME':\n",
      "Block - <div class=\"findme\"> blabla <p> p-tag content</p></div>\n",
      "Title -  blabla  p-tag content\n"
     ]
    }
   ],
   "source": [
    "# Variant 1\n",
    "obj_main = Article()\n",
    "# obj_main = Article('chelyabinsk')\n",
    "print(obj_main)\n",
    "# print()\n",
    "b = obj_main.block\n",
    "# print('Block:', b, '\\n')\n",
    "\n",
    "# Variant 2\n",
    "block_chel = '''\n",
    "<div> blabla \n",
    "<p class='findmeee'> p-tag content\n",
    "<a href=\"https://chelyabinsk.bani.ru.com/poleznye-statiy/kak-sdelat-fundament-dlya-bani-bochki/\">Как сделать фундамент для бани-бочки?</a>\n",
    "</p>\n",
    "</div>\n",
    "'''\n",
    "class_chel = {'source': 'p, findmeee'}\n",
    "# obj_chel = Chel(newsrc=block_chel, newsources=class_chel)\n",
    "# obj_chel = Chel('chelyabinsk')\n",
    "obj_chel = Chel()\n",
    "print(obj_chel)\n",
    "# print()\n",
    "b = obj_chel.block\n",
    "# print('Block:', b, '\\n')"
   ]
  },
  {
   "cell_type": "code",
   "execution_count": 24,
   "id": "f7b9be75-8750-41bf-8eb1-daaedca61965",
   "metadata": {},
   "outputs": [
    {
     "name": "stdout",
     "output_type": "stream",
     "text": [
      "\n",
      "Chel 'CHELYABINSK':\n",
      "Block - <div class=\"findme\"> blabla <p> p-tag content</p></div>;\n",
      "Title -  blabla  p-tag content.\n",
      "\n",
      "<div class=\"findme\"> blabla <p> p-tag content</p></div>\n"
     ]
    }
   ],
   "source": [
    "# site1 = Chel('chlb', 'block', 'title', 'link')\n",
    "# site1 = Chel(names_l[0])\n",
    "# site1 = Chel('chelyabinsk', read_html_yield_names(variable()[3][1]['name'], variable()[4][1], 1))\n",
    "obj = Chel('chelyabinsk')\n",
    "\n",
    "# site2 = Svoy(names_l[1])\n",
    "# soup_test = Article(src)\n",
    "print(obj)\n",
    "print()\n",
    "b = obj.block\n",
    "print(b)\n",
    "\n",
    "\n",
    "# obj = Chel(name)"
   ]
  },
  {
   "cell_type": "code",
   "execution_count": 11,
   "id": "772e8bbc-dd25-44de-a767-9a3f62edf92b",
   "metadata": {},
   "outputs": [
    {
     "name": "stdout",
     "output_type": "stream",
     "text": [
      "\t\tSTART of function \"DEFINITION_BLOCKS()\"\n",
      "\n",
      "Folder \"CSV\" FOUND!!! It`s OK\n",
      "\n",
      "1.START of function \"READ_HTML_YIELD_NAMES()\"\n",
      "\tFunction \"READ_HTML_YIELD_NAMES(CHELYABINSK)\" is EXECUTING...\n",
      "\tIn the folder \"HTML\" the file \"barrels_articles_chelyabinsk\" EXISTS.\n",
      "\t\"HTML\"-code \"barrels_articles_chelyabinsk\" is OPENED from \"../data/interim/html/barrels_articles_chelyabinsk.html\"\n",
      "\"READ_HTML_YIELD_NAMES(CHELYABINSK)\" COMPLETED SUCCESSFULLY!\n",
      "\n",
      "-------------------------------------------------------------------------\n",
      "1. src - <class 'str'>\n",
      "2. soup - <class 'bs4.BeautifulSoup'>\n",
      "-------------------------------------------------------------------------\n",
      "\t1.START of function \"DEFINITION_BLOCKS(CHELYABINSK)\" and it`s EXECUTING ...\n",
      "-------------------------------------------------------------------------\n",
      "4. name chelyabinsk - <class 'str'>\n",
      "-------------------------------------------------------------------------\n",
      "-------------------------------------------------------------------------\n",
      "5. blocks - [<a href=\"https://chelyabinsk.bani.ru.com/poleznye-statiy/kak-sdelat-fundament-dlya-bani-bochki/\">Как сделать фундамент для бани-бочки?</a>, <a href=\"https://chelyabinsk.bani.ru.com/poleznye-statiy/pech-v-bane-bochke-varianty-raspolozheniya/\">Печь в бане-бочке: печь с топкой через перегородку или на улицу — плюсы и минусы</a>, <a href=\"https://chelyabinsk.bani.ru.com/poleznye-statiy/pravila-ekspluatacii-bani-bochki-kak-prodlit-srok-sluzhby/\">Правила эксплуатации бань-бочек</a>, <a href=\"https://chelyabinsk.bani.ru.com/poleznye-statiy/chto-nuzhno-znat-pri-pokupke-bani-bochki/\">Что нужно знать при покупке?</a>, <a href=\"https://chelyabinsk.bani.ru.com/poleznye-statiy/ekspluataciya-bani-bochki-zimoj/\">Эксплуатация бани-бочки зимой</a>, <a href=\"https://chelyabinsk.bani.ru.com/poleznye-statiy/pochemu-pokupateli-vybirajut-bani-bochki/\">Почему покупатели выбирают Бани-бочки?</a>, <a href=\"https://chelyabinsk.bani.ru.com/poleznye-statiy/planirovki-i-vnutrennee-ustrojstvo-ban-bochek/\">Планировки и внутреннее устройство бань-бочек</a>, <a href=\"https://chelyabinsk.bani.ru.com/poleznye-statiy/vybor-materiala-pri-proizvodstve-i-otdelke-bani-bochki/\">Выбор материала при производстве и отделке бани-бочки</a>, <a href=\"https://chelyabinsk.bani.ru.com/poleznye-statiy/pochemu-pokupateli-vybirajut-bani-lukomore/\">ТОП-15 причин, почему нужно выбирать бани Лукоморье</a>, <a href=\"https://chelyabinsk.bani.ru.com/poleznye-statiy/populyarnye-dopolneniya-k-bane/\">Популярные дополнения к бане</a>, <a href=\"https://chelyabinsk.bani.ru.com/poleznye-statiy/kak-topit-banju-bochku/\">Как топить баню-бочку?</a>, <a href=\"https://chelyabinsk.bani.ru.com/poleznye-statiy/kak-ustroena-banya-bochka/\">Как устроена баня-бочка?</a>, <a href=\"https://chelyabinsk.bani.ru.com/poleznye-statiy/kak-sdelat-banju-bochku-svoimi-rukami/\">Как сделать баню-бочку своими руками?</a>, <a href=\"https://chelyabinsk.bani.ru.com/poleznye-statiy/banya-bochka-po-finskoj-tehnologii/\">Баня-бочка по финской технологии</a>, <a href=\"https://chelyabinsk.bani.ru.com/poleznye-statiy/vidy-venikov-dlya-bani-i-kak-pravilno-ih-zaparivat/\">Виды веников для бани и как правильно их запаривать?</a>, <a href=\"https://chelyabinsk.bani.ru.com/poleznye-statiy/polezna-li-banya-dlya-zdorovya/\">Полезна ли баня для здоровья?</a>, <a href=\"https://chelyabinsk.bani.ru.com/poleznye-statiy/vneshnij-vid-bani-obrabotka-i-otdelka/\">Внешний вид бани: обработка и отделка</a>, <a href=\"https://chelyabinsk.bani.ru.com/poleznye-statiy/sborka-bani-bochki-na-uchastke/\">Сборка бани бочки на участке</a>, <a href=\"https://chelyabinsk.bani.ru.com/poleznye-statiy/finskaya-i-russkaya-banya-v-chem-raznica/\">Финская и русская баня-бочка: в чем разница</a>, <a href=\"https://chelyabinsk.bani.ru.com/poleznye-statiy/banya-bochka-iz-kedra-ili-eli/\">Баня-бочка из кедра или ели, что лучше?</a>, <a href=\"https://chelyabinsk.bani.ru.com/poleznye-statiy/vidy-krovli-dlya-bani/\">Виды кровли для бани</a>, <a href=\"https://chelyabinsk.bani.ru.com/poleznye-statiy/kakoj-dolzhna-byt-vlazhnost-brusa-pri-stroitelstve-bani/\">Какой должна быть влажность бруса при строительстве бани?</a>, <a href=\"https://chelyabinsk.bani.ru.com/poleznye-statiy/pech-dlya-bani/\">Печь для бани — какую выбрать?</a>, <a href=\"https://chelyabinsk.bani.ru.com/poleznye-statiy/vagonka-dlya-otdelki-bani/\">Вагонка для отделки бани</a>, <a href=\"https://chelyabinsk.bani.ru.com/poleznye-statiy/derevyannye-bani/\">Преимущества деревянной бани</a>, <a href=\"https://chelyabinsk.bani.ru.com/poleznye-statiy/osnovnye-trebovaniya-po-ekspluatacii-ban/\">Основные требования по эксплуатации бань</a>, <a href=\"https://chelyabinsk.bani.ru.com/poleznye-statiy/v-chem-raznica-mezhdu-sroshhennoj-i-obychnoj-drevesinoj/\">В чем разница между срощенной и обычной древесиной</a>, <a href=\"https://chelyabinsk.bani.ru.com/kak-sozdat-legkij-i-priyatnyj-par-v-bane-bochke/\">Секреты создания легкого и приятного пара</a>] - <class 'bs4.element.ResultSet'>\n",
      "==========================================================================\n",
      "==========================================================================\n",
      "\"DEFINITION_..(CHELYABINSK)\" COMPLETED SUCCESSFULLY!\n",
      "\n",
      "\t\tEND of function \"DEFINITION_BLOCKS()\"\n"
     ]
    }
   ],
   "source": [
    "# Каждый раз функция проходит по внутренней ссылке на товар и выполнение цикла приостанавливается благодаря команде !!! \"YIELD\" !!!\n",
    "def definition_blocks_class():\n",
    "# Определяем переменные с помощью функции VARIABLE()\n",
    "    hosts = variable()[1]\n",
    "    urls = variable()[2]\n",
    "    names = variable()[3]\n",
    "    \n",
    "    paths = variable()[4]\n",
    "    path_csv = paths[0]\n",
    "    path_html = paths[1]\n",
    "    path_json = paths[3]\n",
    "    \n",
    "    print(f'\\t\\tSTART of function \"DEFINITION_BLOCKS()\"\\n')\n",
    "# Проверка наличия папки для файлов\n",
    "    # checking_folder_csv(paths)\n",
    "    checking_folder(path_csv)\n",
    "    count = 1\n",
    "    # for item in range(len(names)):\n",
    "    for item in range(1):\n",
    "        for src in read_html_yield_names(names[item]['name'], path_html, count):\n",
    "        \n",
    "# Определяем объекты BeautifulSoup:\n",
    "            # soup = Article(src)\n",
    "            class_is_multi= { '*' : 'class'}\n",
    "            soup = BeautifulSoup(src, 'lxml')\n",
    "            # soup = BeautifulSoup(src, 'lxml', multi_valued_attributes=class_is_multi)\n",
    "            print(\"-------------------------------------------------------------------------\")\n",
    "            # print(soup.a['class'])\n",
    "            \n",
    "            print('1. src -', type(src))\n",
    "            print('2. soup -', type(soup))\n",
    "            print(\"-------------------------------------------------------------------------\")\n",
    "            \n",
    "            \n",
    "# Счётчик для ссылок на статьи\n",
    "            count_url = 1\n",
    "        \n",
    "            file_start = 'barrels_articles_'\n",
    "            name = names[item]['name']\n",
    "        \n",
    "# Объявляем начало чтения ссылок\n",
    "        print(f'\\t{item+1}.START of function \"DEFINITION_BLOCKS({name.upper()})\" and it`s EXECUTING ...')\n",
    "        # print(f'\\tFunction GET_URL(\"{name.upper()}\") is EXECUTING...')\n",
    "\n",
    "# -------------------------------------------------------------------------\n",
    "        if name == 'chelyabinsk':\n",
    "# Заполняем заголовки для CSV-файла\n",
    "            # obj = Chel(name, src)\n",
    "            print(\"-------------------------------------------------------------------------\")\n",
    "            # print('3. obj.name -', obj.name, '-', type(obj.name))\n",
    "            print('4. name', name, '-', type(name))\n",
    "            print(\"-------------------------------------------------------------------------\")\n",
    "#             csv_preparation(path_csv, name)\n",
    "            \n",
    "            file_name = file_start + name\n",
    "            articles_list = []\n",
    "            # blocks = soup.find('div', class_='desc list').find_all('a')\n",
    "            blocks = soup.find(patt[0]['div'], patt[0]['class']).find_all('a')\n",
    "            # blocks1 = soup.find(b)\n",
    "            # blocks1 = soup.join(soup, b)\n",
    "            # blocks1 = BeautifulSoup(blocks1, 'lxml')\n",
    "            \n",
    "            print(\"-------------------------------------------------------------------------\")\n",
    "            print('5. blocks -', blocks, '-', type(blocks))\n",
    "            # print('6. obj.blocks -', blocks1, type(blocks1))\n",
    "            print(\"==========================================================================\")\n",
    "            # for b in blocks:\n",
    "            #     # b = str(b)\n",
    "            #     print(b, 'TYPE:', type(b), 'tag_name:', b.name, type(b.name), 'tag.attrs:', b.attrs, type(b.attrs))\n",
    "\n",
    "            print(\"==========================================================================\")\n",
    "            \n",
    "#             # obj.block = soup.find('div', class_='desc list').find_all('a')\n",
    "#             count_link = 1\n",
    "\n",
    "#             print(f'START SAVE_CSV(\"{name.upper()}\"):')\n",
    "#             for item in blocks:\n",
    "#                 title = item.text\n",
    "#                 link = item.get(\"href\")\n",
    "#                 date_time = datetime.now().strftime('%Y-%m-%d %H:%M:%S')\n",
    "#                 print(f'Link №{count_link}. {title}')\n",
    "\n",
    "#                 articles_list.append(\n",
    "#                     {\n",
    "#                         \"Number\": count_link,\n",
    "#                         \"Topic\": title,\n",
    "#                         \"Link\": link,\n",
    "#                         \"DateTime\": date_time\n",
    "#                     }\n",
    "#                 )\n",
    "# # Заполняем строки CSV-файла                \n",
    "#                 save_csv(name, count_link, title, link, date_time, path_csv)\n",
    "#                 count_link += 1\n",
    "#             print(f'\\t\\\"{path_csv['type_file'].upper()}\\\"-file \\\"{file_name}\\\" is SAVED in folder \\\"{path_csv['type_file'].upper()}\\\"')\n",
    "#             print(f'END SAVE_CSV - \"{name.upper()}\"\\n')\n",
    "# # Заполняем JSON файл\n",
    "#             save_json(name, path_json, articles_list)\n",
    "\n",
    "# --------------------------------------------------------------------------\n",
    "        \n",
    "#         elif name == 'svoy-bany':\n",
    "# # Заполняем заголовки для CSV-файла\n",
    "#             csv_preparation(path_csv, name)\n",
    "\n",
    "#             file_name = file_start + name\n",
    "#             articles_list = []\n",
    "#             blocks = soup.find_all('p', class_= 'news-item')\n",
    "#             count_link = 1\n",
    "            \n",
    "#             for item in blocks:\n",
    "#                 title = item.text.strip()\n",
    "#                 link = hosts[1] + item.find('a').get('href')\n",
    "#                 date_time = datetime.now().strftime('%Y-%m-%d %H:%M:%S')\n",
    "#                 print(f'Link №{count_link}. {title}')\n",
    "                \n",
    "#                 articles_list.append(\n",
    "#                     {\n",
    "#                         \"Number\": count_link,\n",
    "#                         \"Topic\": title,\n",
    "#                         \"Link\": link,\n",
    "#                         \"DateTime\": date_time\n",
    "#                     }\n",
    "#                 )\n",
    "# # Заполняем строки CSV-файла\n",
    "#                 save_csv(name, count_link, title, link, date_time, path_csv)\n",
    "#                 count_link += 1\n",
    "#             print(f'\\t\\\"{path_csv['type_file'].upper()}\\\"-file \\\"{file_name}\\\" is SAVED in folder \\\"{path_csv['type_file'].upper()}\\\"')\n",
    "#             print(f'FINAL SAVE_CSV - \"{name.upper()}\"\\n')\n",
    "# # Заполняем JSON файл\n",
    "#             save_json(name, path_json, articles_list)\n",
    "        \n",
    "        # sleep(random.randrange(2, 4)) # Для симуляции работы реального пользователя, а не робота\n",
    "        \n",
    "        count_url += 1\n",
    "        count += 1\n",
    "        \n",
    "        print(f'\"DEFINITION_..({name.upper()})\" COMPLETED SUCCESSFULLY!\\n')\n",
    "    print(f'\\t\\tEND of function \"DEFINITION_BLOCKS()\"')\n",
    "    # return name\n",
    "\n",
    "# Безусловный запуск функции\n",
    "if __name__ == '__main__':\n",
    "    definition_blocks_class()"
   ]
  },
  {
   "cell_type": "code",
   "execution_count": null,
   "id": "7e53b62b-83c9-4fb7-8bec-07604dc0111c",
   "metadata": {},
   "outputs": [],
   "source": []
  },
  {
   "cell_type": "code",
   "execution_count": null,
   "id": "31dd32c1-09ff-4e3a-9939-57c6f976293f",
   "metadata": {},
   "outputs": [],
   "source": []
  },
  {
   "cell_type": "markdown",
   "id": "8a84262e-cb14-47c0-93f1-9ab926665955",
   "metadata": {},
   "source": [
    "# FORUM"
   ]
  },
  {
   "cell_type": "code",
   "execution_count": 224,
   "id": "d177e8e3-fa8d-4022-8557-c3e242c982b3",
   "metadata": {},
   "outputs": [
    {
     "name": "stdout",
     "output_type": "stream",
     "text": [
      "\n",
      "Folder \"../data/processed/csv/\" FOUND!!! It`s OK\n",
      "\n",
      "\n",
      "Folder \"../data/processed/csv/\" FOUND!!! It`s OK\n",
      "\n",
      "[{'Name': 'chelyabinsk'}, {'Name': 'svoy-bany'}]\n",
      "Name chelyabinsk\n",
      "Name svoy-bany\n"
     ]
    }
   ],
   "source": [
    "# Объект NAME класса WEBSITE - это список, состоящий из словарей\n",
    "names = Website(variable()[1])\n",
    "print(names.name)\n",
    "\n",
    "for n in names.name:\n",
    "\n",
    "# Разбираем список на элементы (всего 2 строки)\n",
    "    for key, value in n.items():\n",
    "\n",
    "# Каждый словарь разбираем по ключу и значению (КЛЮЧИ у разных строк одинаковые, а значения РАЗНЫЕ)\n",
    "        print(key, value)"
   ]
  },
  {
   "cell_type": "code",
   "execution_count": 53,
   "id": "80b15dfb-5aa8-4f90-b091-65f91cee1a91",
   "metadata": {},
   "outputs": [
    {
     "data": {
      "text/plain": [
       "['body', 'strikeout', 'rty']"
      ]
     },
     "execution_count": 53,
     "metadata": {},
     "output_type": "execute_result"
    }
   ],
   "source": [
    "class_is_multi= { '*' : 'class'}\n",
    "xml_soup = BeautifulSoup('<p class=\"body strikeout rty\"></p>', 'lxml', multi_valued_attributes=class_is_multi)\n",
    "xml_soup.p['class']\n",
    "# print(xml_soup.p['class'])\n",
    "# ['body', 'strikeout']"
   ]
  },
  {
   "cell_type": "code",
   "execution_count": 169,
   "id": "649734c6-b286-424b-a503-406bdc4199f1",
   "metadata": {},
   "outputs": [
    {
     "name": "stdout",
     "output_type": "stream",
     "text": [
      "\n",
      "Folder \"../data/processed/csv/\" FOUND!!! It`s OK\n",
      "\n",
      "\n",
      "Folder \"../data/processed/csv/\" FOUND!!! It`s OK\n",
      "\n"
     ]
    }
   ],
   "source": [
    "# Variable()[1] - URLS; Variable()[2] - HOSTS\n",
    "website_list = Website(variable()[1], variable()[2], variable()[3])"
   ]
  },
  {
   "cell_type": "code",
   "execution_count": null,
   "id": "7e2d6940-9d34-43c7-ba53-70d2c98cb3dd",
   "metadata": {},
   "outputs": [],
   "source": []
  },
  {
   "cell_type": "code",
   "execution_count": null,
   "id": "d26786f5-b4ab-4d6e-b1e4-7b5e15be4bab",
   "metadata": {},
   "outputs": [],
   "source": [
    "# Просто выполните замену перед разбором :\n",
    "\n",
    "html = html.replace('class=\"row bigbox container mi-df-local locked-single\"', 'class=\"row bigbox container mi-df-local single-local\"')\n",
    "soup = BeautifulSoup(html, \"html.parser\")"
   ]
  },
  {
   "cell_type": "code",
   "execution_count": null,
   "id": "1891c7ce-554e-42af-8d48-7c539ee2439f",
   "metadata": {},
   "outputs": [],
   "source": [
    "# Обратите внимание, что также было бы возможно (я бы даже сказал предпочтительно ) проанализировать HTML, \n",
    "# найти элемент(ы) и изменить атрибуты экземпляра Tag, например:\n",
    "\n",
    "soup = BeautifulSoup(html, \"html.parser\")\n",
    "for elm in soup.select(\".row.bigbox.container.mi-df-local.locked-single\"):\n",
    "    elm[\"class\"] = [\"row\", \"bigbox\", \"container\", \"mi-df-local\", \"single-local\"]"
   ]
  },
  {
   "cell_type": "code",
   "execution_count": null,
   "id": "64d2cc36-bc20-4ebd-85cb-0afbca83316e",
   "metadata": {},
   "outputs": [],
   "source": [
    "# Обратите внимание, что class это специальный многозначный атрибут — вот почему мы устанавливаем значение для списка отдельных классов.\n",
    "# Демонстрация:\n",
    "from bs4 import BeautifulSoup\n",
    "\n",
    "html = \"\"\"\n",
    "<div class=\"row bigbox container mi-df-local locked-single\">test</div>\n",
    "\"\"\"\n",
    "\n",
    "soup = BeautifulSoup(html, \"html.parser\")\n",
    "for elm in soup.select(\".row.bigbox.container.mi-df-local.locked-single\"):\n",
    "    elm[\"class\"] = [\"row\", \"bigbox\", \"container\", \"mi-df-local\", \"single-local\"]\n",
    "\n",
    "print(soup.prettify())\n",
    "\n",
    "# Теперь посмотрим, как div обновились классы элементов:\n",
    "\n",
    "<div class=\"row bigbox container mi-df-local single-local\">\n",
    " test\n",
    "</div>"
   ]
  },
  {
   "cell_type": "code",
   "execution_count": null,
   "id": "c9eac48b-4b84-4308-9f99-46e84f403f82",
   "metadata": {},
   "outputs": [],
   "source": []
  },
  {
   "cell_type": "code",
   "execution_count": null,
   "id": "235977e2-7e6f-4057-a8b2-6e2cdf8ec0a2",
   "metadata": {},
   "outputs": [],
   "source": []
  },
  {
   "cell_type": "code",
   "execution_count": 117,
   "id": "fa4cf8c0-a754-4ad0-ba86-5f31fe6d0d3e",
   "metadata": {},
   "outputs": [
    {
     "name": "stdout",
     "output_type": "stream",
     "text": [
      "{'class_': 'findme'} <class 'dict'>\n"
     ]
    },
    {
     "data": {
      "text/plain": [
       "'findme'"
      ]
     },
     "execution_count": 117,
     "metadata": {},
     "output_type": "execute_result"
    }
   ],
   "source": [
    "# 4. Словарь атрибутов Супа\n",
    "divs_test = ['p', 'span', 'div']\n",
    "classes_test = ['findme', 'findme2', 'findme33']\n",
    "# extension_files = ['.csv', '.html', '.jpg', '.json', '.txt', '.xls']\n",
    "\n",
    "patt_test = [{'class_': classes_test[i]} for i in range(len(divs_test))]\n",
    "print(patt_test[0], type(patt_test[0]))\n",
    "patt_test[0]['class_']"
   ]
  },
  {
   "cell_type": "code",
   "execution_count": 72,
   "id": "4925e93c-9468-472f-b420-db4379553070",
   "metadata": {},
   "outputs": [
    {
     "name": "stdout",
     "output_type": "stream",
     "text": [
      "p, findme <class 'str'>\n",
      "['p', 'findme'] <class 'list'>\n",
      "tag[0]: p <class 'str'> findme <class 'str'>\n",
      "0. <p class=\"findme\"> p-tag content</p>\n",
      "1. <p class=\"findme\"> p-tag content</p>\n",
      "---------------------\n",
      "!!!\n",
      "2. None\n",
      "------------\n",
      "tag1 == tag[0]: True\n"
     ]
    }
   ],
   "source": [
    "# Привет, мне нужно передать переменную в функцию soup.find(), но она не работает :( Кто-нибудь знает решение этой проблемы?\n",
    "\n",
    "from bs4 import BeautifulSoup\n",
    "\n",
    "html = '''<div> blabla\n",
    "<p class='findme'> p-tag content</p>\n",
    "</div>'''\n",
    "\n",
    "sources = {'source1': 'p, findme',\n",
    "           'source2': '\\'span\\', class_=\\'findme2\\'',\n",
    "           'source3': '\\'div\\', class_=\\'findme3\\''}\n",
    "\n",
    "class_test = 'findme'\n",
    "tag1 = \"p\"\n",
    "test = BeautifulSoup(html, 'lxml')\n",
    "\n",
    "# this works\n",
    "#print(test.find('p', class_='findme'))\n",
    "# >>> <p class=\"findme\"> p-tag content</p>\n",
    "\n",
    "\n",
    "# this doesn't work\n",
    "# tag = '\\'p\\' class_=\\'findme\\''\n",
    "\n",
    "tag = sources['source1'].split(', ')\n",
    "print(sources['source1'], type(sources['source1']))\n",
    "print(tag, type(tag))\n",
    "print('tag[0]:', tag[0], type(tag[0]), tag[1], type(tag[1]))\n",
    "\n",
    "# a source gets passed\n",
    "print('0.', test.find(tag[0], class_=tag[1]))\n",
    "print('1.', test.find('p', class_='findme'))\n",
    "# test.find(sources['source1'])\n",
    "# >>> None\n",
    "print('---------------------')\n",
    "print('!!!')\n",
    "# print(test.find(divs_test[0], **patt_test[0]))\n",
    "print('2.', test.find(patt[0]['div'], class_=patt[0]['class']))\n",
    "test.find(patt[0]['div'], class_= patt[0]['class'])\n",
    "# obj.block = soup.find('div', class_='desc list')\n",
    "\n",
    "print('------------')\n",
    "print('tag1 == tag[0]:', tag1 == tag[0])"
   ]
  },
  {
   "cell_type": "code",
   "execution_count": 55,
   "id": "4fafe5df-634b-4156-915d-6f7bfef89f8b",
   "metadata": {},
   "outputs": [
    {
     "name": "stdout",
     "output_type": "stream",
     "text": [
      "tag -  ['p', '{\"class_\": \"findme\"}'] <class 'list'>\n",
      "tag[0] -  p <class 'str'>\n",
      "tag1 -  p <class 'str'>\n",
      "tag[1] -  {\"class_\": \"findme\"} <class 'str'>\n",
      "tag[11] -  {'class_': 'findme'} <class 'dict'>\n",
      "------------\n",
      "tag1 == tag[0]: True\n"
     ]
    },
    {
     "data": {
      "text/plain": [
       "<p class=\"findme\"> p-tag content</p>"
      ]
     },
     "execution_count": 55,
     "metadata": {},
     "output_type": "execute_result"
    }
   ],
   "source": [
    "# Я пытаюсь разделить это, как предлагается, следующим образом:\n",
    "\n",
    "pattern = 'p, {\"class_\": \"findme\"}'\n",
    "tag = pattern.split(', ')\n",
    "tag1 = \"p\"\n",
    "print('tag - ', tag, type(tag))\n",
    "print('tag[0] - ', tag[0], type(tag[0]))\n",
    "print('tag1 - ', tag1, type(tag1))\n",
    "print('tag[1] - ', tag[1], type(tag[1]))\n",
    "\n",
    "\n",
    "\n",
    "# filter_ = dict(tag[1])\n",
    "filter_ = {'class_': 'findme'}\n",
    "print('tag[11] - ', filter_, type(filter_))\n",
    "# date = test.find(tag1, filter)\n",
    "print('------------')\n",
    "\n",
    "# Я не получаю ошибок, просто None для даты. Проблема, вероятно, в содержании tag1 и фильтра. Отладчик pycharm выдает мне:\n",
    "print('tag1 == tag[0]:', tag1 == tag[0])\n",
    "test.find(tag[0], **filter_)\n",
    "# tag1 = 'p'\n",
    "# filter = {'class_': 'findme'}\n",
    "# test.find(tag1, **filter)\n",
    "# При печати эти апострофы не отображаются. Можно ли убрать эти апострофы?"
   ]
  },
  {
   "cell_type": "code",
   "execution_count": 49,
   "id": "1dc673a1-3dc6-4495-bb67-9778aad99f1f",
   "metadata": {},
   "outputs": [
    {
     "data": {
      "text/plain": [
       "<p class=\"findme\"> p-tag content</p>"
      ]
     },
     "execution_count": 49,
     "metadata": {},
     "output_type": "execute_result"
    }
   ],
   "source": [
    "tag1 = 'p'\n",
    "filter_ = {'class_': 'findme'}\n",
    "test.find(tag1, **filter_)"
   ]
  },
  {
   "cell_type": "code",
   "execution_count": 87,
   "id": "ce5a2a0a-57be-4a03-8b0e-2be091eda1d7",
   "metadata": {},
   "outputs": [
    {
     "name": "stdout",
     "output_type": "stream",
     "text": [
      "tag[1] -  {'class_': 'findme'} <class 'dict'> \n",
      "\n"
     ]
    },
    {
     "data": {
      "text/plain": [
       "<p class=\"findme\"> p-tag content</p>"
      ]
     },
     "execution_count": 87,
     "metadata": {},
     "output_type": "execute_result"
    }
   ],
   "source": [
    "# Первый аргумент — это имя тега , а ваша строка его не содержит.\n",
    "# BeautifulSoup (или Python в целом) не будет анализировать такую строку, он не может догадаться,\n",
    "# что вы поместили в это значение какой-то произвольный синтаксис Python.\n",
    "\n",
    "# Выделите компоненты:\n",
    "\n",
    "tag = 'p'\n",
    "filter = {'class_': 'findme'}\n",
    "print('tag[1] - ', filter, type(filter),'\\n')\n",
    "test.find(tag, **filter)"
   ]
  },
  {
   "cell_type": "code",
   "execution_count": 64,
   "id": "00b02945-e9b9-41ff-9401-eb4f822794ff",
   "metadata": {
    "collapsed": true,
    "jupyter": {
     "outputs_hidden": true
    }
   },
   "outputs": [
    {
     "name": "stderr",
     "output_type": "stream",
     "text": [
      "<>:8: SyntaxWarning: \"is\" with 'int' literal. Did you mean \"==\"?\n",
      "<>:8: SyntaxWarning: \"is\" with 'int' literal. Did you mean \"==\"?\n",
      "C:\\Users\\User\\AppData\\Local\\Temp\\ipykernel_8440\\3122824207.py:8: SyntaxWarning: \"is\" with 'int' literal. Did you mean \"==\"?\n",
      "  if len(tag) is 2:\n",
      "C:\\Users\\User\\AppData\\Local\\Temp\\ipykernel_8440\\3122824207.py:8: SyntaxWarning: \"is\" with 'int' literal. Did you mean \"==\"?\n",
      "  if len(tag) is 2:\n",
      "C:\\Users\\User\\AppData\\Local\\Temp\\ipykernel_8440\\3122824207.py:8: SyntaxWarning: \"is\" with 'int' literal. Did you mean \"==\"?\n",
      "  if len(tag) is 2:\n",
      "C:\\Users\\User\\AppData\\Local\\Temp\\ipykernel_8440\\3122824207.py:8: SyntaxWarning: \"is\" with 'int' literal. Did you mean \"==\"?\n",
      "  if len(tag) is 2:\n",
      "C:\\Users\\User\\AppData\\Local\\Temp\\ipykernel_8440\\3122824207.py:8: SyntaxWarning: \"is\" with 'int' literal. Did you mean \"==\"?\n",
      "  if len(tag) is 2:\n"
     ]
    },
    {
     "ename": "NameError",
     "evalue": "name 'soup' is not defined",
     "output_type": "error",
     "traceback": [
      "\u001b[1;31m---------------------------------------------------------------------------\u001b[0m",
      "\u001b[1;31mNameError\u001b[0m                                 Traceback (most recent call last)",
      "Cell \u001b[1;32mIn[64], line 11\u001b[0m\n\u001b[0;32m      9\u001b[0m     att \u001b[38;5;241m=\u001b[39m tag[\u001b[38;5;241m1\u001b[39m]\u001b[38;5;241m.\u001b[39msplit(\u001b[38;5;124m'\u001b[39m\u001b[38;5;124m:\u001b[39m\u001b[38;5;124m'\u001b[39m)  \u001b[38;5;66;03m# getting the attribute\u001b[39;00m\n\u001b[0;32m     10\u001b[0m     att \u001b[38;5;241m=\u001b[39m {att[\u001b[38;5;241m0\u001b[39m]: att[\u001b[38;5;241m1\u001b[39m]}  \u001b[38;5;66;03m# building a dictionary for the attributes\u001b[39;00m\n\u001b[1;32m---> 11\u001b[0m     date \u001b[38;5;241m=\u001b[39m soup\u001b[38;5;241m.\u001b[39mfind(tag[\u001b[38;5;241m0\u001b[39m], att)\n\u001b[0;32m     12\u001b[0m \u001b[38;5;28;01melse\u001b[39;00m:\n\u001b[0;32m     13\u001b[0m     date \u001b[38;5;241m=\u001b[39m soup\u001b[38;5;241m.\u001b[39mfind(tag[\u001b[38;5;241m0\u001b[39m])\n",
      "\u001b[1;31mNameError\u001b[0m: name 'soup' is not defined"
     ]
    }
   ],
   "source": [
    "# Хорошо, я понял, спасибо еще раз.\n",
    "\n",
    "# dic_date = {'source1': 'p, class:findme', other sources ...}\n",
    "dic_date = {'source1': 'p, class:findme'}\n",
    "\n",
    "pattern = dic_date['source1']\n",
    "tag = pattern.split(', ')\n",
    "if len(tag) is 2:\n",
    "    att = tag[1].split(':')  # getting the attribute\n",
    "    att = {att[0]: att[1]}  # building a dictionary for the attributes\n",
    "    date = soup.find(tag[0], att)\n",
    "else:\n",
    "    date = soup.find(tag[0])  # if there is only a tag without an attribute\n",
    "\n",
    "    # Ну, выглядит не очень красиво, но работает :)"
   ]
  },
  {
   "cell_type": "code",
   "execution_count": null,
   "id": "b75bedfa-fc25-4a1d-ba9a-8fe6020e6ff3",
   "metadata": {},
   "outputs": [],
   "source": []
  },
  {
   "cell_type": "code",
   "execution_count": null,
   "id": "7adecba5-6346-4791-b7b6-4a244d2e4439",
   "metadata": {},
   "outputs": [],
   "source": [
    "# Test for GIT"
   ]
  },
  {
   "cell_type": "code",
   "execution_count": null,
   "id": "b70e1543-cb70-46b8-909b-c26917f6926f",
   "metadata": {},
   "outputs": [],
   "source": []
  }
 ],
 "metadata": {
  "kernelspec": {
   "display_name": "Python 3 (ipykernel)",
   "language": "python",
   "name": "python3"
  },
  "language_info": {
   "codemirror_mode": {
    "name": "ipython",
    "version": 3
   },
   "file_extension": ".py",
   "mimetype": "text/x-python",
   "name": "python",
   "nbconvert_exporter": "python",
   "pygments_lexer": "ipython3",
   "version": "3.12.7"
  }
 },
 "nbformat": 4,
 "nbformat_minor": 5
}
