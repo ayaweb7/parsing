{
 "cells": [
  {
   "cell_type": "markdown",
   "id": "9cf7a98b",
   "metadata": {},
   "source": [
    "## Парсер новостей с VC.RU на PYTHON"
   ]
  },
  {
   "cell_type": "code",
   "execution_count": 1,
   "id": "f5be45f8",
   "metadata": {},
   "outputs": [],
   "source": [
    "# Подключаем библиотеку для поиска элементов кода на сайте !!!!!!!!!!!!!\n",
    "# Библиотека PYTHON для извлечения данных из файлов HTML и XML\n",
    "from bs4 import BeautifulSoup\n",
    "\n",
    "# Подключаем библиотеку для парсинга сайтов !!!!!!!!!!!!!\n",
    "import requests"
   ]
  },
  {
   "cell_type": "code",
   "execution_count": 9,
   "id": "fff80494-85f9-4c8c-8122-66af57e4245e",
   "metadata": {},
   "outputs": [],
   "source": [
    "# Подключаем библиотеку для поиска элементов кода на сайте !!!!!!!!!!!!!\n",
    "# Библиотека PYTHON для извлечения данных из файлов HTML и XML\n",
    "from bs4 import BeautifulSoup\n",
    "\n",
    "# Подключаем библиотеки для парсинга сайтов !!!!!!!!!!!!!\n",
    "import requests\n",
    "import lxml\n",
    "import os\n",
    "import json\n",
    "import csv\n",
    "\n",
    "# Работа с файлами XLSX\n",
    "import openpyxl\n",
    "import xlsxwriter\n",
    "\n",
    "# Использование объекта datetime :\n",
    "from datetime import datetime\n",
    "from time import sleep\n",
    "import time\n",
    "import random"
   ]
  },
  {
   "cell_type": "code",
   "execution_count": 2,
   "id": "982f50a0",
   "metadata": {},
   "outputs": [],
   "source": [
    "# Переменная со ссылкой на сайт\n",
    "url = 'https://vc.ru/popular'"
   ]
  },
  {
   "cell_type": "code",
   "execution_count": null,
   "id": "e7b33361-02b0-437c-b2e3-fce93d7cc409",
   "metadata": {},
   "outputs": [],
   "source": [
    "# Переменная со ссылкой на сайт\n",
    "url = 'https://vc.ru/new'"
   ]
  },
  {
   "cell_type": "markdown",
   "id": "86e990e1-54a0-4c21-8582-ee5a4f167269",
   "metadata": {},
   "source": [
    "# ФУНКЦИЯ № 1. Определение переменных"
   ]
  },
  {
   "cell_type": "code",
   "execution_count": 5,
   "id": "dd7f21aa-6a72-4951-a6a1-bf8f8ff6c427",
   "metadata": {},
   "outputs": [],
   "source": [
    "def variable():\n",
    "# 0. Создаём словарь заголовков\n",
    "    headers = {\n",
    "    'accept': 'text/html,application/xhtml+xml,application/xml;q=0.9,image/avif,image/webp,image/apng,*/*;q=0.8,application/signed-exchange;v=b3;q=0.9',\n",
    "    'user-agent': 'Mozilla/5.0 (Windows NT 10.0; Win64; x64) AppleWebKit/537.36 (KHTML, like Gecko) Chrome/109.0.0.0 Safari/537.36'\n",
    "        }\n",
    "    \n",
    "# 1. Список адресов основного хоста\n",
    "    hosts = ['https://vc.ru']\n",
    "    \n",
    "# 2. Список адресов страниц для парсинга\n",
    "    urls = ['https://vc.ru/new']\n",
    "\n",
    "# 3. Список имен сайтов - список словарей\n",
    "    names = [{\"name\": u.split('//')[1].split('.')[0]} for u in urls]\n",
    "    \n",
    "# 4. Словарь путей для папок с данными\n",
    "    type_files = ['csv', 'html', 'jpg', 'json', 'txt', 'xlsx']\n",
    "    path_files = ['../data/processed/csv/', '../data/interim/html/', '../data/processed/img/',\n",
    "                 '../data/processed/json/', '../data/processed/txt/', '../data/processed/xlsx/'\n",
    "                ]\n",
    "    extension_files = ['.csv', '.html', '.jpg', '.json', '.txt', '.xlsx']\n",
    "    \n",
    "    paths = [{'type_file': type_files[i], 'path_file': path_files[i], 'extension_file': extension_files[i]} for i in range(len(type_files))]\n",
    "    \n",
    "# 5. Словарь атрибутов Супа - список списков\n",
    "    divs = ['div', 'p']\n",
    "    classes = ['desc list', 'news-item']\n",
    "    pattern = [[divs[i], classes[i]] for i in range(len(divs))]\n",
    "    \n",
    "    \n",
    "    return headers, hosts, urls, names, paths, pattern"
   ]
  },
  {
   "cell_type": "code",
   "execution_count": 7,
   "id": "0bdd0810-fb8d-41d1-bc15-24098a0275d6",
   "metadata": {},
   "outputs": [
    {
     "name": "stdout",
     "output_type": "stream",
     "text": [
      "vc\n"
     ]
    }
   ],
   "source": [
    "print(variable()[3][0]['name'])\n",
    "# print(variable()[3][0])"
   ]
  },
  {
   "cell_type": "markdown",
   "id": "18718305-4f6d-4b44-a406-041266faaf04",
   "metadata": {},
   "source": [
    "# ФУНКЦИЯ № 2. Сохранение HTML-кода для тестирования"
   ]
  },
  {
   "cell_type": "code",
   "execution_count": 13,
   "id": "eedc3218-8c1d-4997-8707-b1937a3bd329",
   "metadata": {},
   "outputs": [
    {
     "name": "stdout",
     "output_type": "stream",
     "text": [
      "Fun.2.0. Folder \"../data/interim/html/\" FOUND!!! It`s OK\n",
      "Fun.2.0. START of function \"WRITE_HTML()\"\n",
      "\n",
      "1. Function \"WRITE_HTML(vc)\" EXECUTING ...\n",
      "\tIn the folder \"../data/interim/html/\" the file \"news_articles_vc\" EXISTS.\n",
      "\tThe file \"news_articles_vc\" will be DELETED and REWRITTEN.\n",
      "\tHTML-code \"news_articles_vc\" is SAVED in folder \"../data/interim/html/\"\n",
      "Function \"WRITE_HTML(VC)\" is EXECUTED\n",
      "\n",
      "Fun.2.0. Function \"WRITE_HTML()\" COMPLETED successfully!\n"
     ]
    }
   ],
   "source": [
    "# import os\n",
    "# Отправляем запрос на страницу, передаём в качестве GET-параметра URL-адрес\n",
    "# Сохраним нашу страницу в файл И ЗАКОММЕНТИРУЕМ ЭТУ КОМАНДУ за ненадобностью\n",
    "\n",
    "def write_html(headers, url, path):\n",
    "    # path = '../data/interim/html/'\n",
    "# Если папки для сохранения результатов не существует, то она будет создана\n",
    "    if not os.path.isdir(path[1]['path_file']):\n",
    "        print(f'Fun.2.0. Folder \"{path[1]['path_file']}\" does NOT exist - it will be created !!!')\n",
    "        os.mkdir(path[1]['path_file'])\n",
    "    else:\n",
    "        print(f'Fun.2.0. Folder \"{path[1]['path_file']}\" FOUND!!! It`s OK')\n",
    "    \n",
    "    print(f'Fun.2.0. START of function \"WRITE_HTML()\"\\n')\n",
    "    \n",
    "    count = 1\n",
    "# Проходим циклом по списку со ссылками на страницы сайтов\n",
    "    for u in url:\n",
    "        r = requests.get(url=u, headers=headers)\n",
    "        src = r.text\n",
    "\n",
    "        file_start = 'news_articles_'\n",
    "        name = u.split('//')[1].split('.')[0]\n",
    "        file_name = file_start + name\n",
    "        file_path = os.path.join(path[1]['path_file'], file_name) + path[1]['extension_file']\n",
    "        print(f'{count}. Function \"WRITE_HTML({name})\" EXECUTING ...')\n",
    "\n",
    "# Проверка существования старых файлов с таким же названием (если они существуют - обновляем)\n",
    "        if not os.path.exists(file_path):\n",
    "            print(f\"\\tThere is NO file \\\"{file_name}\\\" in the folder \\\"{path[1]['path_file']}\\\" - It will be CREATED.\")\n",
    "        else:\n",
    "            print(f\"\\tIn the folder \\\"{path[1]['path_file']}\\\" the file \\\"{file_name}\\\" EXISTS.\")\n",
    "            print(f'\\tThe file \"{file_name}\" will be DELETED and REWRITTEN.')\n",
    "            os.remove(file_path)\n",
    "            \n",
    "# Сохраняем код по указанному пути\n",
    "        with open(file_path, 'w', encoding='utf-8') as file:\n",
    "            file.write(src)\n",
    "        print(f'\\tHTML-code \\\"{file_name}\\\" is SAVED in folder \\\"{path[1]['path_file']}\\\"')\n",
    "        print(f'Function \"WRITE_HTML({name.upper()})\" is EXECUTED\\n')\n",
    "        count += 1\n",
    "\n",
    "    print(f'Fun.2.0. Function \"WRITE_HTML()\" COMPLETED successfully!')\n",
    "\n",
    "# Безусловный запуск функции\n",
    "if __name__ == '__main__':\n",
    "    write_html(variable()[0], variable()[2], variable()[4])"
   ]
  },
  {
   "cell_type": "code",
   "execution_count": null,
   "id": "89854007-30ca-45dd-ae5a-ee6fe0e39efb",
   "metadata": {},
   "outputs": [],
   "source": []
  },
  {
   "cell_type": "markdown",
   "id": "8869ea2f-e3be-465b-aaeb-05b4ff58931d",
   "metadata": {},
   "source": [
    "# ФУНКЦИЯ № 3.0. Чтение HTML-кода, сохранение его в список"
   ]
  },
  {
   "cell_type": "code",
   "execution_count": 10,
   "id": "f9f0df19-2699-4420-9cfb-02a2a9dcb4d3",
   "metadata": {},
   "outputs": [
    {
     "name": "stdout",
     "output_type": "stream",
     "text": [
      "Fun.3.0. START of function \"READ_HTML()\"\n",
      "1. Function \"READ_HTML(VC)\" is EXECUTING...\n",
      "\tIn the folder \"../data/interim/html/\" the file \"news_articles_vc\" EXISTS.\n",
      "\tHTML-code \"news_articles_vc\" is OPENED from ../data/interim/html/news_articles_vc.html\n",
      "Fun.3.0. \"READ_HTML(VC)\" COMPLETED SUCCESSFULLY!\n",
      "\n"
     ]
    }
   ],
   "source": [
    "# READ_HTML:\n",
    "def read_html(name, path):\n",
    "    print(f'Fun.3.0. START of function \"READ_HTML()\"')\n",
    "    count = 1\n",
    "    \n",
    "    # print(name)\n",
    "    file_start = 'news_articles_'\n",
    "    file_name = file_start + name\n",
    "    file_path = os.path.join(path['path_file'], file_name) + path['extension_file']\n",
    "    print(f'{count}. Function \"READ_HTML({name.upper()})\" is EXECUTING...')\n",
    "    \n",
    "# Проверка существования файлов с HTML-кодом. Существующие коды собираем в список.\n",
    "    if os.path.exists(file_path):\n",
    "        print(f\"\\tIn the folder \\\"{path['path_file']}\\\" the file \\\"{file_name}\\\" EXISTS.\")\n",
    "        \n",
    "        with open(file_path, encoding='utf-8') as file:\n",
    "            src = file.read()\n",
    "            \n",
    "        print(f'\\tHTML-code \"{file_name}\" is OPENED from {file_path}')\n",
    "    else:\n",
    "        print(f\"\\tThere is NO file \\\"{file_name}\\\" in the \\\"{path['path_file']}\\\" folder!\")\n",
    "        print('\\tIt is necessary to START function \"WRITE_HTML()\" !!!\\n')\n",
    "        # break\n",
    "        \n",
    "    count += 1\n",
    "    print(f'Fun.3.0. \"READ_HTML({name.upper()})\" COMPLETED SUCCESSFULLY!\\n')\n",
    "\n",
    "    return src\n",
    "\n",
    "# Безусловный запуск функции\n",
    "if __name__ == '__main__':\n",
    "    read_html(variable()[3][0]['name'], variable()[4][1])"
   ]
  },
  {
   "cell_type": "code",
   "execution_count": null,
   "id": "c00ea9b0-0c43-4f71-b4ac-03cdb759a271",
   "metadata": {},
   "outputs": [],
   "source": []
  },
  {
   "cell_type": "code",
   "execution_count": 3,
   "id": "74959927",
   "metadata": {},
   "outputs": [],
   "source": [
    "# Создаём запрос\n",
    "# response = requests.get(url)"
   ]
  },
  {
   "cell_type": "code",
   "execution_count": 6,
   "id": "30a1b36b",
   "metadata": {},
   "outputs": [
    {
     "name": "stdout",
     "output_type": "stream",
     "text": [
      "Fun.3.0. START of function \"READ_HTML()\"\n",
      "1. Function \"READ_HTML(VC)\" is EXECUTING...\n",
      "\tIn the folder \"../data/interim/html/\" the file \"news_articles_vc\" EXISTS.\n",
      "\tHTML-code \"news_articles_vc\" is OPENED from ../data/interim/html/news_articles_vc.html\n",
      "Fun.3.0. \"READ_HTML(VC)\" COMPLETED SUCCESSFULLY!\n"
     ]
    }
   ],
   "source": [
    "# Объект SOUP\n",
    "# soup = BeautifulSoup(response.text, 'html')\n",
    "soup = BeautifulSoup(read_html(variable()[3][0]['name'], variable()[4][1]), 'lxml')\n",
    "\n",
    "# Вылезает куча кода в виде текста\n",
    "# print(soup)"
   ]
  },
  {
   "cell_type": "code",
   "execution_count": 8,
   "id": "4465f6fb",
   "metadata": {
    "collapsed": true,
    "jupyter": {
     "outputs_hidden": true
    }
   },
   "outputs": [
    {
     "name": "stdout",
     "output_type": "stream",
     "text": [
      "<div class=\"content-list\"><!--[--><!--[--><!-- --><!-- --><div class=\"content content--short\"><!-- --><!-- --><div class=\"content-header\"><div class=\"author author--with-sticker\" style=\"--90f1d586:40px;\"><a class=\"author__avatar\" data-router-link=\"\" href=\"/u/597714-polina-laakso\"><!--[--><div class=\"andropov-media andropov-media--rounded andropov-media--bordered andropov-media--has-preview andropov-video\" data-loaded=\"false\" style=\"aspect-ratio:1;width:40px;height:40px;max-width:none;--background-color:#877458;\"><!-- --><!--[--><video autoplay=\"\" loop=\"\" muted=\"\" playsinline=\"true\" preload=\"auto\"></video><!--]--></div><!--]--></a><a class=\"author__avatar-sticker\" data-router-link=\"\" href=\"/offline\"><!--[--><div class=\"andropov-media andropov-media--rounded andropov-media--bordered andropov-media--has-preview andropov-image\" data-loaded=\"true\" style=\"aspect-ratio:1;width:20px;height:20px;max-width:none;--background-color:#f0cab7;\"><!-- --><!--[--><picture><source srcset=\"https://leonardo.osnova.io/808531a2-36b0-523a-ab43-9b889f8d3d6c/-/scale_crop/72x72/-/format/webp/, https://leonardo.osnova.io/808531a2-36b0-523a-ab43-9b889f8d3d6c/-/scale_crop/72x72/-/format/webp/ 2x\" type=\"image/webp\"><img alt=\"\" loading=\"lazy\" src=\"https://leonardo.osnova.io/808531a2-36b0-523a-ab43-9b889f8d3d6c/-/scale_crop/72x72/\" srcset=\"https://leonardo.osnova.io/808531a2-36b0-523a-ab43-9b889f8d3d6c/-/scale_crop/72x72/, https://leonardo.osnova.io/808531a2-36b0-523a-ab43-9b889f8d3d6c/-/scale_crop/72x72/ 2x\"/></source></picture><!--]--></div><!--]--></a><div class=\"author__main\"><div class=\"subsite-name\"><div class=\"subsite-name__value\"><!--[--><a class=\"author__name\" data-router-link=\"\" href=\"/u/597714-polina-laakso\"><!--[-->Полина Лааксо<!--]--></a><!--]--></div></div><div class=\"badge\"><div class=\"badge__icon\"><!-- --></div></div><!--[--><!--]--></div><div class=\"author__details\"><!--[--><div class=\"subsite-name\"><div class=\"subsite-name__value\"><!--[--><a class=\"content-header__topic\" data-router-link=\"\" href=\"/offline\"><!--[-->Офлайн<!--]--></a><!--]--></div></div><div class=\"content-header-details\"><div class=\"content-header-details__inner\"><!--[--><!--[--><a class=\"noshrink\" data-router-link=\"\" href=\"/offline/1818637-umer-otec-nutella-himik-franchesko-rivella\"><!--[--><time datetime=\"2025-02-17T18:18:34.000Z\" title=\"17.02.2025 в 21:18\">вчера</time><!--]--></a><!--]--><!--]--></div></div><!-- --><!--]--></div></div><div class=\"content-header__actions\"><!-- --></div></div><div class=\"content__body\"><div class=\"content-title content-title--low-indent\">Умер «отец Nutella» — химик Франческо <span class=\"content-title__editorial\" title=\"Материал редакции\">Ривелла <a class=\"\" data-router-link=\"\" href=\"/editorial\"><!--[--><svg class=\"icon icon--tick_redaction\" height=\"22\" width=\"22\"><use xlink:href=\"#tick_redaction\"></use></svg><!--]--></a></span></div><!-- --><article class=\"content__blocks\"><!--[--><figure class=\"block-wrapper block-wrapper--default\"><div class=\"block-wrapper__content\"><!--[--><!-- --><div class=\"block-text\"><p>Ему было 97 лет.</p></div><!--]--></div><!-- --></figure><figure class=\"block-wrapper block-wrapper--media\"><div class=\"block-wrapper__content\"><!--[--><!-- --><div class=\"block-media\"><!--[--><div class=\"media\"><div class=\"media__underlay\" style=\"--background-color:#a8abb1;--background-image:url(data:image/png;base64,/9j/4AAQSkZJRgABAQAAAQABAAD/2wBDAAMCAgICAgMCAgIDAwMDBAYEBAQEBAgGBgUGCQgKCgkICQkKDA8MCgsOCwkJDRENDg8QEBEQCgwSExIQEw8QEBD/2wBDAQMDAwQDBAgEBAgQCwkLEBAQEBAQEBAQEBAQEBAQEBAQEBAQEBAQEBAQEBAQEBAQEBAQEBAQEBAQEBAQEBAQEBD/wAARCAAKAAoDAREAAhEBAxEB/8QAFgABAQEAAAAAAAAAAAAAAAAAAwUI/8QAJBAAAQMEAQMFAAAAAAAAAAAAAQIDBAUREiEABggUMUFSgYL/xAAXAQADAQAAAAAAAAAAAAAAAAABBAUG/8QAJREAAgIAAgsBAAAAAAAAAAAAAQIAAwQRBRMUITEyM2FxgZHw/9oADAMBAAIRAxEAPwB6/wBxNU6s8brSOiWzEoswJkRUuhSnWrpudp0dkfXA5ay+u5RkFjGHZasHbS+9m4fu0ro7oqG4hLjdLnFKgCk4HYP55QbT+GUkHP5IGw2zMFFcctFZzVg55Gab6Voeo9+Lp0z6lc8wjU6VKFPigSXQAyiwzPxHMpeBrW8mAk5z/9k=);\"></div><!--[--><div class=\"andropov-media andropov-image andropov-image--zoom\" data-loaded=\"true\" style=\"aspect-ratio:1.5036674816625917;max-width:592px;--background-color:#a8abb1;\"><!-- --><!--[--><picture><source srcset=\"https://leonardo.osnova.io/51de08d7-41e6-55d8-ac6a-2aaa6a5f55f8/-/scale_crop/592x/-/format/webp/, https://leonardo.osnova.io/51de08d7-41e6-55d8-ac6a-2aaa6a5f55f8/-/scale_crop/1184x/-/format/webp/ 2x\" type=\"image/webp\"><img alt=\"Ривелла. Источник фото: Bristol Live\" loading=\"lazy\" src=\"https://leonardo.osnova.io/51de08d7-41e6-55d8-ac6a-2aaa6a5f55f8/-/scale_crop/592x/\" srcset=\"https://leonardo.osnova.io/51de08d7-41e6-55d8-ac6a-2aaa6a5f55f8/-/scale_crop/592x/, https://leonardo.osnova.io/51de08d7-41e6-55d8-ac6a-2aaa6a5f55f8/-/scale_crop/1184x/ 2x\"/></source></picture><!--]--></div><!--]--></div><!-- --><!--]--><!-- --></div><!--]--></div><!-- --></figure><!--]--></article><div class=\"content__read-more\"><a class=\"link-button link-button--default\" data-router-link=\"\" href=\"/offline/1818637-umer-otec-nutella-himik-franchesko-rivella\"><!--[--><!--[-->Читать далее<!--]--><!-- --><!--]--></a></div><a class=\"content__link\" data-router-link=\"\" href=\"/offline/1818637-umer-otec-nutella-himik-franchesko-rivella\"><!--[--><!--]--></a><!-- --></div><div class=\"content__reactions\"><div class=\"reactions reactions--overflow\"><!--[--><div class=\"reaction-button reaction-button\"><div class=\"reaction-button__dummy\"></div><span>60</span><!-- --></div><div class=\"reaction-button reaction-button\"><div class=\"reaction-button__dummy\"></div><span>8</span><!-- --></div><div class=\"reaction-button reaction-button\"><div class=\"reaction-button__dummy\"></div><span>1</span><!-- --></div><!--]--></div></div><!-- --><div class=\"content-footer\"><!-- --><a class=\"comments-counter content-footer__item\" data-router-link=\"\" href=\"/offline/1818637-umer-otec-nutella-himik-franchesko-rivella#comments\"><!--[--><button class=\"content-footer-button content-footer-button--default\"><div class=\"content-footer-button__icon\"><svg class=\"icon icon--comment\" height=\"20\" width=\"20\"><use xlink:href=\"#comment\"></use></svg><!-- --></div><div class=\"content-footer-button__label\">98<!-- --></div></button><!--]--></a><button class=\"content-footer-button content-footer-button--default content-footer__item\" title=\"Добавить в закладки\"><div class=\"content-footer-button__icon\"><svg class=\"icon icon--bookmark\" height=\"20\" width=\"20\"><use xlink:href=\"#bookmark\"></use></svg><!-- --></div><div class=\"content-footer-button__label\">3<!-- --></div></button><div class=\"content-share content-footer__item content-footer__share\"><button class=\"content-footer-button content-footer-button--default bookmark-button\"><div class=\"content-footer-button__icon\"><svg class=\"icon icon--reply\" height=\"20\" width=\"20\"><use xlink:href=\"#reply\"></use></svg><!-- --></div><!-- --></button></div><button class=\"content-footer-button content-footer-button--default content-footer__item\"><div class=\"content-footer-button__icon\"><svg class=\"icon icon--gift\" height=\"20\" width=\"20\"><use xlink:href=\"#gift\"></use></svg><!-- --></div><!-- --></button><div class=\"content-footer__space\"></div><button class=\"content-footer-button content-footer-button--default content-views\"><div class=\"content-footer-button__icon\"><svg class=\"icon icon--eye\" height=\"20\" width=\"20\"><use xlink:href=\"#eye\"></use></svg><!-- --></div><div class=\"content-footer-button__label\">17K<!-- --></div></button></div><a class=\"content-comment\" data-router-link=\"\" href=\"/offline/1818637-umer-otec-nutella-himik-franchesko-rivella#comments\"><!--[--><div class=\"content-comment__avatar\"><div class=\"andropov-media andropov-media--rounded andropov-media--bordered andropov-media--has-preview andropov-image\" data-loaded=\"true\" style=\"aspect-ratio:1;width:28px;height:28px;max-width:none;--background-color:#fff;\"><!-- --><!--[--><picture><source srcset=\"https://leonardo.osnova.io/f6dc86f5-3b6c-6cef-5b37-15109bc705ec/-/scale_crop/72x72/-/format/webp/, https://leonardo.osnova.io/f6dc86f5-3b6c-6cef-5b37-15109bc705ec/-/scale_crop/72x72/-/format/webp/ 2x\" type=\"image/webp\"><img alt=\"\" loading=\"lazy\" src=\"https://leonardo.osnova.io/f6dc86f5-3b6c-6cef-5b37-15109bc705ec/-/scale_crop/72x72/\" srcset=\"https://leonardo.osnova.io/f6dc86f5-3b6c-6cef-5b37-15109bc705ec/-/scale_crop/72x72/, https://leonardo.osnova.io/f6dc86f5-3b6c-6cef-5b37-15109bc705ec/-/scale_crop/72x72/ 2x\"/></source></picture><!--]--></div></div><div class=\"content-comment__text\">Так я узнал что ТикТак и Kinder Surprise - итальянские...</div><!--]--></a></div><!--]--><!--[--><!-- --><!--[--><!--]--><div class=\"content content--short\"><!-- --><!-- --><div class=\"content-header\"><div class=\"author author--with-sticker\" style=\"--90f1d586:40px;\"><a class=\"author__avatar\" data-router-link=\"\" href=\"/u/597714-polina-laakso\"><!--[--><div class=\"andropov-media andropov-media--rounded andropov-media--bordered andropov-media--has-preview andropov-video\" data-loaded=\"false\" style=\"aspect-ratio:1;width:40px;height:40px;max-width:none;--background-color:#877458;\"><!-- --><!--[--><video autoplay=\"\" loop=\"\" muted=\"\" playsinline=\"true\" preload=\"auto\"></video><!--]--></div><!--]--></a><a class=\"author__avatar-sticker\" data-router-link=\"\" href=\"/invest\"><!--[--><div class=\"andropov-media andropov-media--rounded andropov-media--bordered andropov-media--has-preview andropov-image\" data-loaded=\"true\" style=\"aspect-ratio:1;width:20px;height:20px;max-width:none;--background-color:#3cfb4c;\"><div class=\"andropov-media__thumbnail\" style=\"background-image:url(data:image/png;base64,/9j/4AAQSkZJRgABAQAAAQABAAD/2wBDAAEBAQEBAQEBAQEBAQEBAQEBAQEBAQEBAQEBAQEBAQEBAQEBAQICAQECAQEBAgICAgICAgICAQICAgICAgICAgL/2wBDAQEBAQEBAQEBAQECAQEBAgICAgICAgICAgICAgICAgICAgICAgICAgICAgICAgICAgICAgICAgICAgICAgICAgL/wAARCAAKAAoDAREAAhEBAxEB/8QAFgABAQEAAAAAAAAAAAAAAAAAAAIJ/8QAHxAAAAYCAwEAAAAAAAAAAAAAAQIDBAUGByEACBFB/8QAGAEAAwEBAAAAAAAAAAAAAAAAAAEJBwj/xAAfEQACAgMBAAMBAAAAAAAAAAABAwIEAAUHBhMUITH/2gAMAwEAAhEDEQA/AHfnL3dynZRSb9RrBYpCDpNfpVjyxV3GF4edrMdDTloJCoIVy5PmK7+13iSTdnVGNj0DoRbCDXePHCJjppnl7zDQc52GkM/dVVKs7FtlVFw2DFOmxaSwl1eMoqTWSYiPzNkJOayK1wkASIQcK8lxjb+Ykzq+vrovbl92vqrMdw5FljkVi6UrFNc1oq0qxiI/ZsTE7L3rSlcwJSGwxBESEE2jCUomDzzYgAjr5vmBH8JzkeQAlID+AnK4sWOGGf/Z);\"></div><!--[--><picture><source srcset=\"https://leonardo.osnova.io/086291cc-181a-5cf1-b897-ca3dd55f9252/-/scale_crop/72x72/-/format/webp/, https://leonardo.osnova.io/086291cc-181a-5cf1-b897-ca3dd55f9252/-/scale_crop/72x72/-/format/webp/ 2x\" type=\"image/webp\"><img alt=\"\" loading=\"lazy\" src=\"https://leonardo.osnova.io/086291cc-181a-5cf1-b897-ca3dd55f9252/-/scale_crop/72x72/\" srcset=\"https://leonardo.osnova.io/086291cc-181a-5cf1-b897-ca3dd55f9252/-/scale_crop/72x72/, https://leonardo.osnova.io/086291cc-181a-5cf1-b897-ca3dd55f9252/-/scale_crop/72x72/ 2x\"/></source></picture><!--]--></div><!--]--></a><div class=\"author__main\"><div class=\"subsite-name\"><div class=\"subsite-name__value\"><!--[--><a class=\"author__name\" data-router-link=\"\" href=\"/u/597714-polina-laakso\"><!--[-->Полина Лааксо<!--]--></a><!--]--></div></div><div class=\"badge\"><div class=\"badge__icon\"><!-- --></div></div><!--[--><!--]--></div><div class=\"author__details\"><!--[--><div class=\"subsite-name\"><div class=\"subsite-name__value\"><!--[--><a class=\"content-header__topic\" data-router-link=\"\" href=\"/invest\"><!--[-->Инвестиции<!--]--></a><!--]--></div></div><div class=\"content-header-details\"><div class=\"content-header-details__inner\"><!--[--><!--[--><a class=\"noshrink\" data-router-link=\"\" href=\"/invest/1818518-rynok-akcii-argentiny-upal-bolee-chem-na-6-prezident-strany-proreklamiroval-token-kotoryi-pozzhe-podeshevel-na-95\"><!--[--><time datetime=\"2025-02-17T17:03:10.000Z\" title=\"17.02.2025 в 20:03\">вчера</time><!--]--></a><!--]--><!--]--></div></div><!-- --><!--]--></div></div><div class=\"content-header__actions\"><!-- --></div></div><div class=\"content__body\"><div class=\"content-title content-title--low-indent\">Рынок акций Аргентины упал более чем на 6% — президент страны прорекламировал токен, который позже подешевел на <span class=\"content-title__editorial\" title=\"Материал редакции\">95% <a class=\"\" data-router-link=\"\" href=\"/editorial\"><!--[--><svg class=\"icon icon--tick_redaction\" height=\"22\" width=\"22\"><use xlink:href=\"#tick_redaction\"></use></svg><!--]--></a></span></div><!-- --><article class=\"content__blocks\"><!--[--><figure class=\"block-wrapper block-wrapper--default\"><div class=\"block-wrapper__content\"><!--[--><!-- --><div class=\"block-text\"><p>Как отмечают СМИ, криптоскандал может привести в том числе к импичменту Хавьера Милея.</p></div><!--]--></div><!-- --></figure><figure class=\"block-wrapper block-wrapper--media\"><div class=\"block-wrapper__content\"><!--[--><!-- --><div class=\"block-media\"><!--[--><div class=\"media\"><div class=\"media__underlay\" style=\"--background-color:#4a54e0;--background-image:url(data:image/png;base64,/9j/4AAQSkZJRgABAQAAAQABAAD/2wBDAAMCAgICAgMCAgIDAwMDBAYEBAQEBAgGBgUGCQgKCgkICQkKDA8MCgsOCwkJDRENDg8QEBEQCgwSExIQEw8QEBD/2wBDAQMDAwQDBAgEBAgQCwkLEBAQEBAQEBAQEBAQEBAQEBAQEBAQEBAQEBAQEBAQEBAQEBAQEBAQEBAQEBAQEBAQEBD/wAARCAAKAAoDAREAAhEBAxEB/8QAFwAAAwEAAAAAAAAAAAAAAAAAAgUGB//EACkQAAEDAgQEBwEAAAAAAAAAAAECAwQFBgAHERITITFBCBQiJjJEkdL/xAAZAQACAwEAAAAAAAAAAAAAAAAFBgIEBwj/xAAsEQABAwMABQ0AAAAAAAAAAAABAgMRAAQFBhMhMZEUIiMzQVJxkqGx0eLw/9oADAMBAAIRAxEAPwB5kxmpSKFY7FBuvy7c19G5SYZLbZWR6krStwbVdASdBy6DGxYc5DSy1GTdgLCiCO2AdhAgnZxqjestY57k6DIgGfGhn1bK6ZOkS34VMLr7q3F73QVblEk6kSNNdT25Yb27bKNoCElUARu+lDyWiZP71qU8GlLptaRcD9Zp0ae4i3oBSuUyl1QPGI5FQPYD8xz9ZXT9u50Symd8Ej2psKErHOE1vTlo2pxFe2KT8j9Jv+cHBkbyOtV5j81HUt90cK//2Q==);\"></div><!--[--><div class=\"andropov-media andropov-image andropov-image--zoom\" data-loaded=\"true\" style=\"aspect-ratio:1.7777777777777777;max-width:592px;--background-color:#4a54e0;\"><!-- --><!--[--><picture><source srcset=\"https://leonardo.osnova.io/e19a4f64-34c7-540a-bdc1-692572a952c8/-/scale_crop/592x/-/format/webp/, https://leonardo.osnova.io/e19a4f64-34c7-540a-bdc1-692572a952c8/-/scale_crop/1184x/-/format/webp/ 2x\" type=\"image/webp\"><img alt=\"Хавьер Милей. Источник фото: Reason Magazine\" loading=\"lazy\" src=\"https://leonardo.osnova.io/e19a4f64-34c7-540a-bdc1-692572a952c8/-/scale_crop/592x/\" srcset=\"https://leonardo.osnova.io/e19a4f64-34c7-540a-bdc1-692572a952c8/-/scale_crop/592x/, https://leonardo.osnova.io/e19a4f64-34c7-540a-bdc1-692572a952c8/-/scale_crop/1184x/ 2x\"/></source></picture><!--]--></div><!--]--></div><!-- --><!--]--><!-- --></div><!--]--></div><!-- --></figure><!--]--></article><div class=\"content__read-more\"><a class=\"link-button link-button--default\" data-router-link=\"\" href=\"/invest/1818518-rynok-akcii-argentiny-upal-bolee-chem-na-6-prezident-strany-proreklamiroval-token-kotoryi-pozzhe-podeshevel-na-95\"><!--[--><!--[-->Читать далее<!--]--><!-- --><!--]--></a></div><a class=\"content__link\" data-router-link=\"\" href=\"/invest/1818518-rynok-akcii-argentiny-upal-bolee-chem-na-6-prezident-strany-proreklamiroval-token-kotoryi-pozzhe-podeshevel-na-95\"><!--[--><!--]--></a><!-- --></div><div class=\"content__reactions\"><div class=\"reactions reactions--overflow\"><!--[--><div class=\"reaction-button reaction-button\"><div class=\"reaction-button__dummy\"></div><span>24</span><!-- --></div><div class=\"reaction-button reaction-button\"><div class=\"reaction-button__dummy\"></div><span>4</span><!-- --></div><div class=\"reaction-button reaction-button\"><div class=\"reaction-button__dummy\"></div><span>2</span><!-- --></div><div class=\"reaction-button reaction-button\"><div class=\"reaction-button__dummy\"></div><span>1</span><!-- --></div><div class=\"reaction-button reaction-button\"><div class=\"reaction-button__dummy\"></div><span>1</span><!-- --></div><!--]--></div></div><!-- --><div class=\"content-footer\"><!-- --><a class=\"comments-counter content-footer__item\" data-router-link=\"\" href=\"/invest/1818518-rynok-akcii-argentiny-upal-bolee-chem-na-6-prezident-strany-proreklamiroval-token-kotoryi-pozzhe-podeshevel-na-95#comments\"><!--[--><button class=\"content-footer-button content-footer-button--default\"><div class=\"content-footer-button__icon\"><svg class=\"icon icon--comment\" height=\"20\" width=\"20\"><use xlink:href=\"#comment\"></use></svg><!-- --></div><div class=\"content-footer-button__label\">81<!-- --></div></button><!--]--></a><button class=\"content-footer-button content-footer-button--default content-footer__item\" title=\"Добавить в закладки\"><div class=\"content-footer-button__icon\"><svg class=\"icon icon--bookmark\" height=\"20\" width=\"20\"><use xlink:href=\"#bookmark\"></use></svg><!-- --></div><div class=\"content-footer-button__label\">1<!-- --></div></button><div class=\"content-share content-footer__item content-footer__share\"><button class=\"content-footer-button content-footer-button--default bookmark-button\"><div class=\"content-footer-button__icon\"><svg class=\"icon icon--reply\" height=\"20\" width=\"20\"><use xlink:href=\"#reply\"></use></svg><!-- --></div><!-- --></button></div><button class=\"content-footer-button content-footer-button--default content-footer__item\"><div class=\"content-footer-button__icon\"><svg class=\"icon icon--gift\" height=\"20\" width=\"20\"><use xlink:href=\"#gift\"></use></svg><!-- --></div><!-- --></button><div class=\"content-footer__space\"></div><button class=\"content-footer-button content-footer-button--default content-views\"><div class=\"content-footer-button__icon\"><svg class=\"icon icon--eye\" height=\"20\" width=\"20\"><use xlink:href=\"#eye\"></use></svg><!-- --></div><div class=\"content-footer-button__label\">12K<!-- --></div></button></div><!-- --></div><!--]--><!--[--><!-- --><!-- --><div class=\"content content--short\"><!-- --><!-- --><div class=\"content-header\"><div class=\"author author--with-sticker\" style=\"--90f1d586:40px;\"><a class=\"author__avatar\" data-router-link=\"\" href=\"/dtf\"><!--[--><div class=\"andropov-media andropov-media--rounded andropov-media--bordered andropov-media--has-preview andropov-image\" data-loaded=\"true\" style=\"aspect-ratio:1;width:40px;height:40px;max-width:none;--background-color:#dbf4fb;\"><!-- --><!--[--><picture><source srcset=\"https://leonardo.osnova.io/6919c234-f50c-57eb-acbd-2a4c38a57159/-/scale_crop/72x72/-/format/webp/, https://leonardo.osnova.io/6919c234-f50c-57eb-acbd-2a4c38a57159/-/scale_crop/144x144/-/format/webp/ 2x\" type=\"image/webp\"><img alt=\"\" loading=\"lazy\" src=\"https://leonardo.osnova.io/6919c234-f50c-57eb-acbd-2a4c38a57159/-/scale_crop/72x72/\" srcset=\"https://leonardo.osnova.io/6919c234-f50c-57eb-acbd-2a4c38a57159/-/scale_crop/72x72/, https://leonardo.osnova.io/6919c234-f50c-57eb-acbd-2a4c38a57159/-/scale_crop/144x144/ 2x\"/></source></picture><!--]--></div><!--]--></a><a class=\"author__avatar-sticker\" data-router-link=\"\" href=\"/future\"><!--[--><div class=\"andropov-media andropov-media--rounded andropov-media--bordered andropov-media--has-preview andropov-image\" data-loaded=\"true\" style=\"aspect-ratio:1;width:20px;height:20px;max-width:none;--background-color:#312e40;\"><!-- --><!--[--><picture><source srcset=\"https://leonardo.osnova.io/64d1192b-d0a7-553e-b439-ed3b9eaf59b6/-/scale_crop/72x72/-/format/webp/, https://leonardo.osnova.io/64d1192b-d0a7-553e-b439-ed3b9eaf59b6/-/scale_crop/72x72/-/format/webp/ 2x\" type=\"image/webp\"><img alt=\"\" loading=\"lazy\" src=\"https://leonardo.osnova.io/64d1192b-d0a7-553e-b439-ed3b9eaf59b6/-/scale_crop/72x72/\" srcset=\"https://leonardo.osnova.io/64d1192b-d0a7-553e-b439-ed3b9eaf59b6/-/scale_crop/72x72/, https://leonardo.osnova.io/64d1192b-d0a7-553e-b439-ed3b9eaf59b6/-/scale_crop/72x72/ 2x\"/></source></picture><!--]--></div><!--]--></a><div class=\"author__main\"><div class=\"subsite-name\"><div class=\"subsite-name__value\"><!--[--><a class=\"author__name\" data-router-link=\"\" href=\"/dtf\"><!--[-->DTF<!--]--></a><!--]--></div></div><!-- --><!--[--><!--]--></div><div class=\"author__details\"><!--[--><div class=\"subsite-name\"><div class=\"subsite-name__value\"><!--[--><a class=\"content-header__topic\" data-router-link=\"\" href=\"/future\"><!--[-->Будущее<!--]--></a><!--]--></div></div><div class=\"content-header-details\"><div class=\"content-header-details__inner\"><!--[--><!--[--><a class=\"noshrink\" data-router-link=\"\" href=\"/future/1818424-rossiiskie-uchenye-sozdadut-yadernye-chasy-oni-pomogut-s-issledovaniem-temnoi-materii\"><!--[--><time datetime=\"2025-02-17T16:11:30.000Z\" title=\"17.02.2025 в 19:11\">вчера</time><!--]--></a><!--]--><!--]--></div></div><!-- --><!--]--></div></div><div class=\"content-header__actions\"><!-- --></div></div><div class=\"content__body\"><div class=\"content-title content-title--low-indent\">Российские учёные создадут ядерные часы — они помогут с исследованием тёмной <span class=\"content-title__editorial\" title=\"Материал редакции\">материи <a class=\"\" data-router-link=\"\" href=\"/editorial\"><!--[--><svg class=\"icon icon--tick_redaction\" height=\"22\" width=\"22\"><use xlink:href=\"#tick_redaction\"></use></svg><!--]--></a></span></div><!-- --><article class=\"content__blocks\"><!--[--><figure class=\"block-wrapper block-wrapper--default\"><div class=\"block-wrapper__content\"><!--[--><!-- --><div class=\"block-text\"><p>А также с другими экспериментами, которые требуют точных расчётов.</p></div><!--]--></div><!-- --></figure><figure class=\"block-wrapper block-wrapper--media\"><div class=\"block-wrapper__content\"><!--[--><!-- --><div class=\"block-media\"><!--[--><div class=\"media\"><div class=\"media__underlay\" style=\"--background-color:#1a0f0c;--background-image:url(data:image/png;base64,/9j/4AAQSkZJRgABAQAAAQABAAD/2wBDAAMCAgICAgMCAgIDAwMDBAYEBAQEBAgGBgUGCQgKCgkICQkKDA8MCgsOCwkJDRENDg8QEBEQCgwSExIQEw8QEBD/2wBDAQMDAwQDBAgEBAgQCwkLEBAQEBAQEBAQEBAQEBAQEBAQEBAQEBAQEBAQEBAQEBAQEBAQEBAQEBAQEBAQEBAQEBD/wAARCAAKAAoDAREAAhEBAxEB/8QAFgABAQEAAAAAAAAAAAAAAAAAAwcI/8QAJBABAAEDAgUFAAAAAAAAAAAAAQQCAxEABQYSISIxMjVTYWL/xAAXAQADAQAAAAAAAAAAAAAAAAAAAQUE/8QAHREAAQQCAwAAAAAAAAAAAAAAAQACA1EREiJCUv/aAAwDAQACEQMRAD8AwBs+x8I1xKyfYnWpTUFvnlmEPPaUiLkfLqfM+cHjhU4hH2RkTh/Hvm/W/wAFq28v169GZfIRlllT6mVKCnEm725ae96Z841QDRSxBxtKTZgAS7wB8jp6tpPY2v/Z);\"></div><!--[--><div class=\"andropov-media andropov-image andropov-image--zoom\" data-loaded=\"true\" style=\"aspect-ratio:2;max-width:592px;--background-color:#1a0f0c;\"><!-- --><!--[--><picture><source srcset=\"https://leonardo.osnova.io/1f60c9df-116e-5247-b4e5-ee3b0dca5197/-/scale_crop/592x/-/format/webp/, https://leonardo.osnova.io/1f60c9df-116e-5247-b4e5-ee3b0dca5197/-/scale_crop/1184x/-/format/webp/ 2x\" type=\"image/webp\"><img alt=\"Кадр из сериала «Тьма» Барана бо Одара и Янтье Фризе, 2017-2020\" loading=\"lazy\" src=\"https://leonardo.osnova.io/1f60c9df-116e-5247-b4e5-ee3b0dca5197/-/scale_crop/592x/\" srcset=\"https://leonardo.osnova.io/1f60c9df-116e-5247-b4e5-ee3b0dca5197/-/scale_crop/592x/, https://leonardo.osnova.io/1f60c9df-116e-5247-b4e5-ee3b0dca5197/-/scale_crop/1184x/ 2x\"/></source></picture><!--]--></div><!--]--></div><!-- --><!--]--><!-- --></div><!--]--></div><!-- --></figure><!--]--></article><div class=\"content__read-more\"><a class=\"link-button link-button--default\" data-router-link=\"\" href=\"/future/1818424-rossiiskie-uchenye-sozdadut-yadernye-chasy-oni-pomogut-s-issledovaniem-temnoi-materii\"><!--[--><!--[-->Читать далее<!--]--><!-- --><!--]--></a></div><a class=\"content__link\" data-router-link=\"\" href=\"/future/1818424-rossiiskie-uchenye-sozdadut-yadernye-chasy-oni-pomogut-s-issledovaniem-temnoi-materii\"><!--[--><!--]--></a><!-- --></div><div class=\"content__reactions\"><div class=\"reactions reactions--overflow\"><!--[--><div class=\"reaction-button reaction-button\"><div class=\"reaction-button__dummy\"></div><span>23</span><!-- --></div><div class=\"reaction-button reaction-button\"><div class=\"reaction-button__dummy\"></div><span>4</span><!-- --></div><div class=\"reaction-button reaction-button\"><div class=\"reaction-button__dummy\"></div><span>1</span><!-- --></div><!--]--></div></div><!-- --><div class=\"content-footer\"><!-- --><a class=\"comments-counter content-footer__item\" data-router-link=\"\" href=\"/future/1818424-rossiiskie-uchenye-sozdadut-yadernye-chasy-oni-pomogut-s-issledovaniem-temnoi-materii#comments\"><!--[--><button class=\"content-footer-button content-footer-button--default\"><div class=\"content-footer-button__icon\"><svg class=\"icon icon--comment\" height=\"20\" width=\"20\"><use xlink:href=\"#comment\"></use></svg><!-- --></div><div class=\"content-footer-button__label\">76<!-- --></div></button><!--]--></a><button class=\"content-footer-button content-footer-button--default content-footer__item\" title=\"Добавить в закладки\"><div class=\"content-footer-button__icon\"><svg class=\"icon icon--bookmark\" height=\"20\" width=\"20\"><use xlink:href=\"#bookmark\"></use></svg><!-- --></div><div class=\"content-footer-button__label\">3<!-- --></div></button><div class=\"content-share content-footer__item content-footer__share\"><button class=\"content-footer-button content-footer-button--default bookmark-button\"><div class=\"content-footer-button__icon\"><svg class=\"icon icon--reply\" height=\"20\" width=\"20\"><use xlink:href=\"#reply\"></use></svg><!-- --></div><!-- --></button></div><button class=\"content-footer-button content-footer-button--default content-footer__item\"><div class=\"content-footer-button__icon\"><svg class=\"icon icon--gift\" height=\"20\" width=\"20\"><use xlink:href=\"#gift\"></use></svg><!-- --></div><!-- --></button><div class=\"content-footer__space\"></div><button class=\"content-footer-button content-footer-button--default content-views\"><div class=\"content-footer-button__icon\"><svg class=\"icon icon--eye\" height=\"20\" width=\"20\"><use xlink:href=\"#eye\"></use></svg><!-- --></div><div class=\"content-footer-button__label\">9.6K<!-- --></div></button></div><a class=\"content-comment\" data-router-link=\"\" href=\"/future/1818424-rossiiskie-uchenye-sozdadut-yadernye-chasy-oni-pomogut-s-issledovaniem-temnoi-materii#comments\"><!--[--><div class=\"content-comment__avatar\"><div class=\"andropov-media andropov-media--rounded andropov-media--bordered andropov-media--has-preview andropov-image\" data-loaded=\"true\" style=\"aspect-ratio:1;width:28px;height:28px;max-width:none;--background-color:#040404;\"><!-- --><!--[--><picture><source srcset=\"https://leonardo.osnova.io/ec23d521-49f6-5de3-bc0f-19511eb6157e/-/scale_crop/72x72/-/format/webp/, https://leonardo.osnova.io/ec23d521-49f6-5de3-bc0f-19511eb6157e/-/scale_crop/72x72/-/format/webp/ 2x\" type=\"image/webp\"><img alt=\"\" loading=\"lazy\" src=\"https://leonardo.osnova.io/ec23d521-49f6-5de3-bc0f-19511eb6157e/-/scale_crop/72x72/\" srcset=\"https://leonardo.osnova.io/ec23d521-49f6-5de3-bc0f-19511eb6157e/-/scale_crop/72x72/, https://leonardo.osnova.io/ec23d521-49f6-5de3-bc0f-19511eb6157e/-/scale_crop/72x72/ 2x\"/></source></picture><!--]--></div></div><div class=\"content-comment__text\">Знаменитый 2030! Там будет всё.\n",
      "\n",
      "Там все будет бесплатно, там всё будет в кайф,\n",
      "Там наверное вообще не надо будет умирать. ©</div><!--]--></a></div><!--]--><!--[--><!-- --><!-- --><div class=\"content content--short\"><!-- --><!-- --><div class=\"content-header\"><div class=\"author author--with-sticker\" style=\"--90f1d586:40px;\"><a class=\"author__avatar\" data-router-link=\"\" href=\"/u/597714-polina-laakso\"><!--[--><div class=\"andropov-media andropov-media--rounded andropov-media--bordered andropov-media--has-preview andropov-video\" data-loaded=\"false\" style=\"aspect-ratio:1;width:40px;height:40px;max-width:none;--background-color:#877458;\"><!-- --><!--[--><video autoplay=\"\" loop=\"\" muted=\"\" playsinline=\"true\" preload=\"auto\"></video><!--]--></div><!--]--></a><a class=\"author__avatar-sticker\" data-router-link=\"\" href=\"/money\"><!--[--><div class=\"andropov-media andropov-media--rounded andropov-media--bordered andropov-media--has-preview andropov-image\" data-loaded=\"true\" style=\"aspect-ratio:1.1019108280254777;width:20px;height:20px;max-width:none;--background-color:#faf37b;\"><!-- --><!--[--><picture><source srcset=\"https://leonardo.osnova.io/f78c5282-d1f1-5738-aa77-7fd53aa09ea5/-/scale_crop/72x72/-/format/webp/, https://leonardo.osnova.io/f78c5282-d1f1-5738-aa77-7fd53aa09ea5/-/scale_crop/72x72/-/format/webp/ 2x\" type=\"image/webp\"><img alt=\"\" loading=\"lazy\" src=\"https://leonardo.osnova.io/f78c5282-d1f1-5738-aa77-7fd53aa09ea5/-/scale_crop/72x72/\" srcset=\"https://leonardo.osnova.io/f78c5282-d1f1-5738-aa77-7fd53aa09ea5/-/scale_crop/72x72/, https://leonardo.osnova.io/f78c5282-d1f1-5738-aa77-7fd53aa09ea5/-/scale_crop/72x72/ 2x\"/></source></picture><!--]--></div><!--]--></a><div class=\"author__main\"><div class=\"subsite-name\"><div class=\"subsite-name__value\"><!--[--><a class=\"author__name\" data-router-link=\"\" href=\"/u/597714-polina-laakso\"><!--[-->Полина Лааксо<!--]--></a><!--]--></div></div><div class=\"badge\"><div class=\"badge__icon\"><!-- --></div></div><!--[--><!--]--></div><div class=\"author__details\"><!--[--><div class=\"subsite-name\"><div class=\"subsite-name__value\"><!--[--><a class=\"content-header__topic\" data-router-link=\"\" href=\"/money\"><!--[-->Деньги<!--]--></a><!--]--></div></div><div class=\"content-header-details\"><div class=\"content-header-details__inner\"><!--[--><!--[--><a class=\"noshrink\" data-router-link=\"\" href=\"/money/1818268-bank-sankt-peterburg-vvedet-komissiyu-za-priem-nalichnoi-valyuty-na-summu-ot-200-tysyach-i-bolee-v-kalendarnye-sutki\"><!--[--><time datetime=\"2025-02-17T15:59:06.000Z\" title=\"17.02.2025 в 18:59\">вчера</time><!--]--></a><!--]--><!--]--></div></div><div class=\"content-modified\"><svg class=\"icon icon--pen_solid\" height=\"12\" width=\"12\"><use xlink:href=\"#pen_solid\"></use></svg></div><!--]--></div></div><div class=\"content-header__actions\"><!-- --></div></div><div class=\"content__body\"><div class=\"content-title content-title--low-indent\">Банк «Санкт-Петербург» введёт комиссию за приём наличной валюты на сумму от $200 тысяч и более в календарные <span class=\"content-title__editorial\" title=\"Материал редакции\">сутки <a class=\"\" data-router-link=\"\" href=\"/editorial\"><!--[--><svg class=\"icon icon--tick_redaction\" height=\"22\" width=\"22\"><use xlink:href=\"#tick_redaction\"></use></svg><!--]--></a></span></div><!-- --><article class=\"content__blocks\"><!--[--><figure class=\"block-wrapper block-wrapper--default\"><div class=\"block-wrapper__content\"><!--[--><!-- --><div class=\"block-text\"><p>То же касается эквивалентов в других валютах. </p></div><!--]--></div><!-- --></figure><figure class=\"block-wrapper block-wrapper--media\"><div class=\"block-wrapper__content\"><!--[--><!-- --><div class=\"block-media\"><!--[--><div class=\"media\"><div class=\"media__underlay\" style=\"--background-color:#c8cbd1;--background-image:url(data:image/png;base64,/9j/4AAQSkZJRgABAQAAAQABAAD/2wBDAAMCAgICAgMCAgIDAwMDBAYEBAQEBAgGBgUGCQgKCgkICQkKDA8MCgsOCwkJDRENDg8QEBEQCgwSExIQEw8QEBD/2wBDAQMDAwQDBAgEBAgQCwkLEBAQEBAQEBAQEBAQEBAQEBAQEBAQEBAQEBAQEBAQEBAQEBAQEBAQEBAQEBAQEBAQEBD/wAARCAAKAAoDAREAAhEBAxEB/8QAFgABAQEAAAAAAAAAAAAAAAAACAQH/8QAKBAAAQMCBAQHAAAAAAAAAAAAAQIDBAURAAYHEgkUIVEiJTFBQlTR/8QAFgEBAQEAAAAAAAAAAAAAAAAAAgMA/8QAGxEAAgIDAQAAAAAAAAAAAAAAAAEDEQISIUH/2gAMAwEAAhEDEQA/AFHpZqLoZSsvooucs/0xyu05hHPNSAW3ErQjuB4lWPx9z3xeZvdk4leF0ZpM4idKgy34VGyCyqBHcU1FLqlBZZSbIKhbodoF8ZQ31sLlrwBmpcmQjMdQfQ+4lzmgd4UQq+0db40gsOECa9Xdo86n+n2V/uICP//Z);\"></div><!--[--><div class=\"andropov-media andropov-image andropov-image--zoom\" data-loaded=\"true\" style=\"aspect-ratio:1.63;max-width:592px;--background-color:#c8cbd1;\"><!-- --><!--[--><picture><source srcset=\"https://leonardo.osnova.io/76653b13-3c69-5a65-8fba-5d7324f44e7b/-/scale_crop/592x/-/format/webp/, https://leonardo.osnova.io/76653b13-3c69-5a65-8fba-5d7324f44e7b/-/scale_crop/1184x/-/format/webp/ 2x\" type=\"image/webp\"><img alt=\"Источник: Plus World\" loading=\"lazy\" src=\"https://leonardo.osnova.io/76653b13-3c69-5a65-8fba-5d7324f44e7b/-/scale_crop/592x/\" srcset=\"https://leonardo.osnova.io/76653b13-3c69-5a65-8fba-5d7324f44e7b/-/scale_crop/592x/, https://leonardo.osnova.io/76653b13-3c69-5a65-8fba-5d7324f44e7b/-/scale_crop/1184x/ 2x\"/></source></picture><!--]--></div><!--]--></div><!-- --><!--]--><!-- --></div><!--]--></div><!-- --></figure><!--]--></article><div class=\"content__read-more\"><a class=\"link-button link-button--default\" data-router-link=\"\" href=\"/money/1818268-bank-sankt-peterburg-vvedet-komissiyu-za-priem-nalichnoi-valyuty-na-summu-ot-200-tysyach-i-bolee-v-kalendarnye-sutki\"><!--[--><!--[-->Читать далее<!--]--><!-- --><!--]--></a></div><a class=\"content__link\" data-router-link=\"\" href=\"/money/1818268-bank-sankt-peterburg-vvedet-komissiyu-za-priem-nalichnoi-valyuty-na-summu-ot-200-tysyach-i-bolee-v-kalendarnye-sutki\"><!--[--><!--]--></a><!-- --></div><div class=\"content__reactions\"><div class=\"reactions reactions--overflow\"><!--[--><div class=\"reaction-button reaction-button\"><div class=\"reaction-button__dummy\"></div><span>4</span><!-- --></div><div class=\"reaction-button reaction-button\"><div class=\"reaction-button__dummy\"></div><span>1</span><!-- --></div><!--]--></div></div><!-- --><div class=\"content-footer\"><!-- --><a class=\"comments-counter content-footer__item\" data-router-link=\"\" href=\"/money/1818268-bank-sankt-peterburg-vvedet-komissiyu-za-priem-nalichnoi-valyuty-na-summu-ot-200-tysyach-i-bolee-v-kalendarnye-sutki#comments\"><!--[--><button class=\"content-footer-button content-footer-button--default\"><div class=\"content-footer-button__icon\"><svg class=\"icon icon--comment\" height=\"20\" width=\"20\"><use xlink:href=\"#comment\"></use></svg><!-- --></div><div class=\"content-footer-button__label\">22<!-- --></div></button><!--]--></a><button class=\"content-footer-button content-footer-button--default content-footer__item\" title=\"Добавить в закладки\"><div class=\"content-footer-button__icon\"><svg class=\"icon icon--bookmark\" height=\"20\" width=\"20\"><use xlink:href=\"#bookmark\"></use></svg><!-- --></div><div class=\"content-footer-button__label\">1<!-- --></div></button><div class=\"content-share content-footer__item content-footer__share\"><button class=\"content-footer-button content-footer-button--default bookmark-button\"><div class=\"content-footer-button__icon\"><svg class=\"icon icon--reply\" height=\"20\" width=\"20\"><use xlink:href=\"#reply\"></use></svg><!-- --></div><!-- --></button></div><button class=\"content-footer-button content-footer-button--default content-footer__item\"><div class=\"content-footer-button__icon\"><svg class=\"icon icon--gift\" height=\"20\" width=\"20\"><use xlink:href=\"#gift\"></use></svg><!-- --></div><!-- --></button><div class=\"content-footer__space\"></div><button class=\"content-footer-button content-footer-button--default content-views\"><div class=\"content-footer-button__icon\"><svg class=\"icon icon--eye\" height=\"20\" width=\"20\"><use xlink:href=\"#eye\"></use></svg><!-- --></div><div class=\"content-footer-button__label\">4K<!-- --></div></button></div><!-- --></div><!--]--><!--[--><!-- --><!-- --><div class=\"content content--short\"><!-- --><!-- --><div class=\"content-header\"><div class=\"author author--with-sticker\" style=\"--90f1d586:40px;\"><a class=\"author__avatar\" data-router-link=\"\" href=\"/u/4262546-karina-pardaeva\"><!--[--><div class=\"andropov-media andropov-media--rounded andropov-media--bordered andropov-media--has-preview andropov-image\" data-loaded=\"true\" style=\"aspect-ratio:1;width:40px;height:40px;max-width:none;--background-color:#272122;\"><div class=\"andropov-media__thumbnail\" style=\"background-image:url(data:image/png;base64,/9j/4AAQSkZJRgABAQAAAQABAAD/2wBDAAoHCAkIBgoJCAkMCwoMDxoRDw4ODx8WGBMaJSEnJiQhJCMpLjsyKSw4LCMkM0Y0OD0/QkNCKDFITUhATTtBQj//2wBDAQsMDA8NDx4RER4/KiQqPz8/Pz8/Pz8/Pz8/Pz8/Pz8/Pz8/Pz8/Pz8/Pz8/Pz8/Pz8/Pz8/Pz8/Pz8/Pz8/Pz//wAARCAAKAAoDAREAAhEBAxEB/8QAFgABAQEAAAAAAAAAAAAAAAAABwUG/8QAIxAAAgECBQUBAAAAAAAAAAAAAQMCAAUEERIhMQYiIzKSof/EABYBAQEBAAAAAAAAAAAAAAAAAAIAA//EABsRAAICAwEAAAAAAAAAAAAAAAABAhESIVEx/9oADAMBAAIRAxEAPwA/tdpuWlWMw6tSs/Yb/nNT2JaZr43bFiIBRmQN+yVDF9FkuEPohzV3pcVtnEHkRkRVLwURbLWZnyS+jWdsdI//2Q==);\"></div><!--[--><picture><source srcset=\"https://leonardo.osnova.io/9cbca420-1279-5194-8cb7-a94cdc02a3ae/-/scale_crop/72x72/-/format/webp/, https://leonardo.osnova.io/9cbca420-1279-5194-8cb7-a94cdc02a3ae/-/scale_crop/144x144/-/format/webp/ 2x\" type=\"image/webp\"><img alt=\"\" loading=\"lazy\" src=\"https://leonardo.osnova.io/9cbca420-1279-5194-8cb7-a94cdc02a3ae/-/scale_crop/72x72/\" srcset=\"https://leonardo.osnova.io/9cbca420-1279-5194-8cb7-a94cdc02a3ae/-/scale_crop/72x72/, https://leonardo.osnova.io/9cbca420-1279-5194-8cb7-a94cdc02a3ae/-/scale_crop/144x144/ 2x\"/></source></picture><!--]--></div><!--]--></a><a class=\"author__avatar-sticker\" data-router-link=\"\" href=\"/migration\"><!--[--><div class=\"andropov-media andropov-media--rounded andropov-media--bordered andropov-media--has-preview andropov-image\" data-loaded=\"true\" style=\"aspect-ratio:1;width:20px;height:20px;max-width:none;--background-color:#abb3eb;\"><!-- --><!--[--><picture><source srcset=\"https://leonardo.osnova.io/d1d6a257-f314-54eb-b94c-430fb0086082/-/scale_crop/72x72/-/format/webp/, https://leonardo.osnova.io/d1d6a257-f314-54eb-b94c-430fb0086082/-/scale_crop/72x72/-/format/webp/ 2x\" type=\"image/webp\"><img alt=\"\" loading=\"lazy\" src=\"https://leonardo.osnova.io/d1d6a257-f314-54eb-b94c-430fb0086082/-/scale_crop/72x72/\" srcset=\"https://leonardo.osnova.io/d1d6a257-f314-54eb-b94c-430fb0086082/-/scale_crop/72x72/, https://leonardo.osnova.io/d1d6a257-f314-54eb-b94c-430fb0086082/-/scale_crop/72x72/ 2x\"/></source></picture><!--]--></div><!--]--></a><div class=\"author__main\"><div class=\"subsite-name\"><div class=\"subsite-name__value\"><!--[--><a class=\"author__name\" data-router-link=\"\" href=\"/u/4262546-karina-pardaeva\"><!--[-->Карина Пардаева<!--]--></a><!--]--></div></div><div class=\"badge\"><div class=\"badge__icon\"><!-- --></div></div><!--[--><!--]--></div><div class=\"author__details\"><!--[--><div class=\"subsite-name\"><div class=\"subsite-name__value\"><!--[--><a class=\"content-header__topic\" data-router-link=\"\" href=\"/migration\"><!--[-->Миграция<!--]--></a><!--]--></div></div><div class=\"content-header-details\"><div class=\"content-header-details__inner\"><!--[--><!--[--><a class=\"noshrink\" data-router-link=\"\" href=\"/migration/1817880-avstraliya-na-dva-goda-zapretit-inostrancam-pokupat-zhile\"><!--[--><time datetime=\"2025-02-17T14:49:14.000Z\" title=\"17.02.2025 в 17:49\">вчера</time><!--]--></a><!--]--><!--]--></div></div><div class=\"content-modified\"><svg class=\"icon icon--pen_solid\" height=\"12\" width=\"12\"><use xlink:href=\"#pen_solid\"></use></svg></div><!--]--></div></div><div class=\"content-header__actions\"><!-- --></div></div><div class=\"content__body\"><div class=\"content-title content-title--low-indent\">Австралия на два года запретит иностранцам покупать <span class=\"content-title__editorial\" title=\"Материал редакции\">жильё <a class=\"\" data-router-link=\"\" href=\"/editorial\"><!--[--><svg class=\"icon icon--tick_redaction\" height=\"22\" width=\"22\"><use xlink:href=\"#tick_redaction\"></use></svg><!--]--></a></span></div><!-- --><article class=\"content__blocks\"><!--[--><figure class=\"block-wrapper block-wrapper--default\"><div class=\"block-wrapper__content\"><!--[--><!-- --><div class=\"block-text\"><p>Причина — жилищный кризис.</p></div><!--]--></div><!-- --></figure><figure class=\"block-wrapper block-wrapper--media\"><div class=\"block-wrapper__content\"><!--[--><!-- --><div class=\"block-media\"><!--[--><div class=\"media\"><div class=\"media__underlay\" style=\"--background-color:#d0cdc8;--background-image:url(data:image/png;base64,/9j/4AAQSkZJRgABAQAAAQABAAD/2wBDAAMCAgICAgMCAgIDAwMDBAYEBAQEBAgGBgUGCQgKCgkICQkKDA8MCgsOCwkJDRENDg8QEBEQCgwSExIQEw8QEBD/2wBDAQMDAwQDBAgEBAgQCwkLEBAQEBAQEBAQEBAQEBAQEBAQEBAQEBAQEBAQEBAQEBAQEBAQEBAQEBAQEBAQEBAQEBD/wAARCAAKAAoDAREAAhEBAxEB/8QAFgABAQEAAAAAAAAAAAAAAAAABQcI/8QAJRAAAgEDAwMFAQAAAAAAAAAAAQIDBAURAAYSBwghIjJBYXGR/8QAGAEAAwEBAAAAAAAAAAAAAAAAAgQGAQP/xAAgEQACAgICAgMAAAAAAAAAAAABAgADBCERQRJxIjFR/9oADAMBAAIRAxEAPwCubN7h+q28rbX3ewWSxGGhiL8noZEiL5ACc2lALeoHA84+DrVDa8m2eooLUfyNVfIHcYXuL6owgRVlj29DUIOMsbM4KOPcpHHwQcjRCq07BEE5mMNFW59CZc6HVE77h3PE88jIbfDlSxIOIxjx9YH81GZ+RctdZVyPvsy/wMalntBQceh+R6nvF3enid7rWMzIpJM7Ek4/ddQdRJx8jP/Z);\"></div><!--[--><div class=\"andropov-media andropov-image andropov-image--zoom\" data-loaded=\"true\" style=\"aspect-ratio:1.7800421644413211;max-width:592px;--background-color:#d0cdc8;\"><!-- --><!--[--><picture><source srcset=\"https://leonardo.osnova.io/b4d42c03-5d27-5976-b970-c31c44ecbd86/-/scale_crop/592x/-/format/webp/, https://leonardo.osnova.io/b4d42c03-5d27-5976-b970-c31c44ecbd86/-/scale_crop/1184x/-/format/webp/ 2x\" type=\"image/webp\"><img alt=\"Unsplash\" loading=\"lazy\" src=\"https://leonardo.osnova.io/b4d42c03-5d27-5976-b970-c31c44ecbd86/-/scale_crop/592x/\" srcset=\"https://leonardo.osnova.io/b4d42c03-5d27-5976-b970-c31c44ecbd86/-/scale_crop/592x/, https://leonardo.osnova.io/b4d42c03-5d27-5976-b970-c31c44ecbd86/-/scale_crop/1184x/ 2x\"/></source></picture><!--]--></div><!--]--></div><!-- --><!--]--><!-- --></div><!--]--></div><!-- --></figure><!--]--></article><div class=\"content__read-more\"><a class=\"link-button link-button--default\" data-router-link=\"\" href=\"/migration/1817880-avstraliya-na-dva-goda-zapretit-inostrancam-pokupat-zhile\"><!--[--><!--[-->Читать далее<!--]--><!-- --><!--]--></a></div><a class=\"content__link\" data-router-link=\"\" href=\"/migration/1817880-avstraliya-na-dva-goda-zapretit-inostrancam-pokupat-zhile\"><!--[--><!--]--></a><!-- --></div><div class=\"content__reactions\"><div class=\"reactions reactions--overflow\"><!--[--><div class=\"reaction-button reaction-button\"><div class=\"reaction-button__dummy\"></div><span>14</span><!-- --></div><div class=\"reaction-button reaction-button\"><div class=\"reaction-button__dummy\"></div><span>8</span><!-- --></div><div class=\"reaction-button reaction-button\"><div class=\"reaction-button__dummy\"></div><span>2</span><!-- --></div><div class=\"reaction-button reaction-button\"><div class=\"reaction-button__dummy\"></div><span>1</span><!-- --></div><div class=\"reaction-button reaction-button\"><div class=\"reaction-button__dummy\"></div><span>1</span><!-- --></div><!--]--></div></div><!-- --><div class=\"content-footer\"><!-- --><a class=\"comments-counter content-footer__item\" data-router-link=\"\" href=\"/migration/1817880-avstraliya-na-dva-goda-zapretit-inostrancam-pokupat-zhile#comments\"><!--[--><button class=\"content-footer-button content-footer-button--default\"><div class=\"content-footer-button__icon\"><svg class=\"icon icon--comment\" height=\"20\" width=\"20\"><use xlink:href=\"#comment\"></use></svg><!-- --></div><div class=\"content-footer-button__label\">80<!-- --></div></button><!--]--></a><button class=\"content-footer-button content-footer-button--default content-footer__item\" title=\"Добавить в закладки\"><div class=\"content-footer-button__icon\"><svg class=\"icon icon--bookmark\" height=\"20\" width=\"20\"><use xlink:href=\"#bookmark\"></use></svg><!-- --></div><div class=\"content-footer-button__label\">2<!-- --></div></button><div class=\"content-share content-footer__item content-footer__share\"><button class=\"content-footer-button content-footer-button--default bookmark-button\"><div class=\"content-footer-button__icon\"><svg class=\"icon icon--reply\" height=\"20\" width=\"20\"><use xlink:href=\"#reply\"></use></svg><!-- --></div><!-- --></button></div><button class=\"content-footer-button content-footer-button--default content-footer__item\"><div class=\"content-footer-button__icon\"><svg class=\"icon icon--gift\" height=\"20\" width=\"20\"><use xlink:href=\"#gift\"></use></svg><!-- --></div><!-- --></button><div class=\"content-footer__space\"></div><button class=\"content-footer-button content-footer-button--default content-views\"><div class=\"content-footer-button__icon\"><svg class=\"icon icon--eye\" height=\"20\" width=\"20\"><use xlink:href=\"#eye\"></use></svg><!-- --></div><div class=\"content-footer-button__label\">12K<!-- --></div></button></div><a class=\"content-comment\" data-router-link=\"\" href=\"/migration/1817880-avstraliya-na-dva-goda-zapretit-inostrancam-pokupat-zhile#comments\"><!--[--><div class=\"content-comment__avatar\"><div class=\"andropov-media andropov-media--rounded andropov-media--bordered andropov-media--has-preview andropov-image\" data-loaded=\"true\" style=\"aspect-ratio:1.1904109589041096;width:28px;height:28px;max-width:none;--background-color:#343543;\"><div class=\"andropov-media__thumbnail\" style=\"background-image:url(data:image/png;base64,/9j/4AAQSkZJRgABAQEASABIAAD/2wBDAAMCAgICAgMCAgIDAwMDBAYEBAQEBAgGBgUGCQgKCgkICQkKDA8MCgsOCwkJDRENDg8QEBEQCgwSExIQEw8QEBD/2wBDAQMDAwQDBAgEBAgQCwkLEBAQEBAQEBAQEBAQEBAQEBAQEBAQEBAQEBAQEBAQEBAQEBAQEBAQEBAQEBAQEBAQEBD/wAARCAAKAAoDASIAAhEBAxEB/8QAFwAAAwEAAAAAAAAAAAAAAAAABAUGCP/EACUQAAIBAwIFBQAAAAAAAAAAAAECAwQFEQAGBxIhMUEICRQVUf/EABUBAQEAAAAAAAAAAAAAAAAAAAEF/8QAHREAAgEEAwAAAAAAAAAAAAAAAQIRAAMEMUGhsf/aAAwDAQACEQMRAD8ADovVtxTvu5KjiDFu+32mS1RfImpYrfGzTkKSxl5jkjAC5AXt+41QVHuUb3M8hgtdMsZclBznouenjWKd1VFRHcLbUJPIssv2ELuGIZozzAqT5XBIx201RmVQqkgAYAGqFvCVSQxnXlF/IDwVWO+a/9k=);\"></div><!--[--><picture><source srcset=\"https://leonardo.osnova.io/5388c19d-9a1e-5708-8df1-a2321eff8cd5/-/scale_crop/72x72/-/format/webp/, https://leonardo.osnova.io/5388c19d-9a1e-5708-8df1-a2321eff8cd5/-/scale_crop/72x72/-/format/webp/ 2x\" type=\"image/webp\"><img alt=\"\" loading=\"lazy\" src=\"https://leonardo.osnova.io/5388c19d-9a1e-5708-8df1-a2321eff8cd5/-/scale_crop/72x72/\" srcset=\"https://leonardo.osnova.io/5388c19d-9a1e-5708-8df1-a2321eff8cd5/-/scale_crop/72x72/, https://leonardo.osnova.io/5388c19d-9a1e-5708-8df1-a2321eff8cd5/-/scale_crop/72x72/ 2x\"/></source></picture><!--]--></div></div><div class=\"content-comment__text\">Увеличивать количество жилищной площади, строить новые дома? - Нет\n",
      "\n",
      "Запретить иностранцам покупать дома? Да, то, что нужно)</div><!--]--></a></div><!--]--><!--[--><!--[--><!--]--><!-- --><div class=\"content content--short\"><!-- --><!-- --><div class=\"content-header\"><div class=\"author author--with-sticker\" style=\"--90f1d586:40px;\"><a class=\"author__avatar\" data-router-link=\"\" href=\"/u/597714-polina-laakso\"><!--[--><div class=\"andropov-media andropov-media--rounded andropov-media--bordered andropov-media--has-preview andropov-video\" data-loaded=\"false\" style=\"aspect-ratio:1;width:40px;height:40px;max-width:none;--background-color:#877458;\"><!-- --><!--[--><video autoplay=\"\" loop=\"\" muted=\"\" playsinline=\"true\" preload=\"auto\"></video><!--]--></div><!--]--></a><a class=\"author__avatar-sticker\" data-router-link=\"\" href=\"/opinions\"><!--[--><div class=\"andropov-media andropov-media--rounded andropov-media--bordered andropov-media--has-preview andropov-image\" data-loaded=\"true\" style=\"aspect-ratio:1;width:20px;height:20px;max-width:none;--background-color:#540414;\"><!-- --><!--[--><picture><source srcset=\"https://leonardo.osnova.io/2087be84-2a57-5815-b95c-163b2ad0c3db/-/scale_crop/72x72/-/format/webp/, https://leonardo.osnova.io/2087be84-2a57-5815-b95c-163b2ad0c3db/-/scale_crop/72x72/-/format/webp/ 2x\" type=\"image/webp\"><img alt=\"\" loading=\"lazy\" src=\"https://leonardo.osnova.io/2087be84-2a57-5815-b95c-163b2ad0c3db/-/scale_crop/72x72/\" srcset=\"https://leonardo.osnova.io/2087be84-2a57-5815-b95c-163b2ad0c3db/-/scale_crop/72x72/, https://leonardo.osnova.io/2087be84-2a57-5815-b95c-163b2ad0c3db/-/scale_crop/72x72/ 2x\"/></source></picture><!--]--></div><!--]--></a><div class=\"author__main\"><div class=\"subsite-name\"><div class=\"subsite-name__value\"><!--[--><a class=\"author__name\" data-router-link=\"\" href=\"/u/597714-polina-laakso\"><!--[-->Полина Лааксо<!--]--></a><!--]--></div></div><div class=\"badge\"><div class=\"badge__icon\"><!-- --></div></div><!--[--><!--]--></div><div class=\"author__details\"><!--[--><div class=\"subsite-name\"><div class=\"subsite-name__value\"><!--[--><a class=\"content-header__topic\" data-router-link=\"\" href=\"/opinions\"><!--[-->Мнения<!--]--></a><!--]--></div></div><div class=\"content-header-details\"><div class=\"content-header-details__inner\"><!--[--><!--[--><a class=\"noshrink\" data-router-link=\"\" href=\"/opinions/1810211-mask-zayavil-v-h-chto-ego-zabavlyayut-oskorbleniya-v-ego-adres-nekotorye-v-otvet-nazvali-ego-geroem-i-postavili-v-odin-ryad-s-iisusom\"><!--[--><time datetime=\"2025-02-17T14:43:52.000Z\" title=\"17.02.2025 в 17:43\">вчера</time><!--]--></a><!--]--><!--]--></div></div><!-- --><!--]--></div></div><div class=\"content-header__actions\"><!-- --></div></div><div class=\"content__body\"><div class=\"content-title content-title--low-indent\">Маск заявил в Х, что его забавляют оскорбления в его адрес — некоторые в ответ назвали его «героем» и поставили в один ряд с <span class=\"content-title__editorial\" title=\"Материал редакции\">Иисусом <a class=\"\" data-router-link=\"\" href=\"/editorial\"><!--[--><svg class=\"icon icon--tick_redaction\" height=\"22\" width=\"22\"><use xlink:href=\"#tick_redaction\"></use></svg><!--]--></a></span></div><!-- --><article class=\"content__blocks\"><!--[--><figure class=\"block-wrapper block-wrapper--default\"><div class=\"block-wrapper__content\"><!--[--><!-- --><div class=\"block-text\"><p>Другие поспешили «позабавить» его ещё и обвинили в пропаганде и разжигании ненависти.</p></div><!--]--></div><!-- --></figure><figure class=\"block-wrapper block-wrapper--media\"><div class=\"block-wrapper__content\"><!--[--><!-- --><div class=\"block-media\"><!--[--><div class=\"media\"><div class=\"media__underlay\" style=\"--background-color:#c3a065;--background-image:url(data:image/png;base64,/9j/4AAQSkZJRgABAQAAAQABAAD/2wBDAAMCAgICAgMCAgIDAwMDBAYEBAQEBAgGBgUGCQgKCgkICQkKDA8MCgsOCwkJDRENDg8QEBEQCgwSExIQEw8QEBD/2wBDAQMDAwQDBAgEBAgQCwkLEBAQEBAQEBAQEBAQEBAQEBAQEBAQEBAQEBAQEBAQEBAQEBAQEBAQEBAQEBAQEBAQEBD/wAARCAAKAAoDAREAAhEBAxEB/8QAFgABAQEAAAAAAAAAAAAAAAAABgEI/8QAKBAAAQMCBAQHAAAAAAAAAAAAAQIDBAARBQchMQgSE2EGFBUiJEFD/8QAFQEBAQAAAAAAAAAAAAAAAAAABQb/xAAlEQABAwIEBwEAAAAAAAAAAAABAgMEABESEyGRMTJRUnGx0UH/2gAMAwEAAhEDEQA/AJlPxTMSMsMHxnxc7FjzJbpbW5HWokNpe5Q4oXuSUpWk6k7H7qXXBjuuTG1C6yBhJ7uJtuDTuY4W2HkGwvYgdLH5alSuK/JNSir1TEHLm/OHZACu4FtKbhw2W47aHIiSoJAOieNtf2iX8a3VKTIIBJ7vlYrZAjYIERx0ktyHUICPaEp8y7oLbDtRL2jzp8eqbiciB590jbhQ+mn4jOw/MUKHXLcx3qgykdBtX//Z);\"></div><!--[--><div class=\"andropov-media andropov-image andropov-image--zoom\" data-loaded=\"true\" style=\"aspect-ratio:1.7767106842737095;max-width:592px;--background-color:#c3a065;\"><!-- --><!--[--><picture><source srcset=\"https://leonardo.osnova.io/0ff4d768-bebd-5223-9cd5-e66302a66618/-/scale_crop/592x/-/format/webp/, https://leonardo.osnova.io/0ff4d768-bebd-5223-9cd5-e66302a66618/-/scale_crop/1184x/-/format/webp/ 2x\" type=\"image/webp\"><img alt=\"Илон Маск, его сын  X Æ A-Xii и президент США Дональд Трамп. Источник: CNN\" loading=\"lazy\" src=\"https://leonardo.osnova.io/0ff4d768-bebd-5223-9cd5-e66302a66618/-/scale_crop/592x/\" srcset=\"https://leonardo.osnova.io/0ff4d768-bebd-5223-9cd5-e66302a66618/-/scale_crop/592x/, https://leonardo.osnova.io/0ff4d768-bebd-5223-9cd5-e66302a66618/-/scale_crop/1184x/ 2x\"/></source></picture><!--]--></div><!--]--></div><!-- --><!--]--><!-- --></div><!--]--></div><!-- --></figure><!--]--></article><div class=\"content__read-more\"><a class=\"link-button link-button--default\" data-router-link=\"\" href=\"/opinions/1810211-mask-zayavil-v-h-chto-ego-zabavlyayut-oskorbleniya-v-ego-adres-nekotorye-v-otvet-nazvali-ego-geroem-i-postavili-v-odin-ryad-s-iisusom\"><!--[--><!--[-->Читать далее<!--]--><!-- --><!--]--></a></div><a class=\"content__link\" data-router-link=\"\" href=\"/opinions/1810211-mask-zayavil-v-h-chto-ego-zabavlyayut-oskorbleniya-v-ego-adres-nekotorye-v-otvet-nazvali-ego-geroem-i-postavili-v-odin-ryad-s-iisusom\"><!--[--><!--]--></a><!-- --></div><div class=\"content__reactions\"><div class=\"reactions reactions--overflow\"><!--[--><div class=\"reaction-button reaction-button\"><div class=\"reaction-button__dummy\"></div><span>8</span><!-- --></div><div class=\"reaction-button reaction-button\"><div class=\"reaction-button__dummy\"></div><span>3</span><!-- --></div><div class=\"reaction-button reaction-button\"><div class=\"reaction-button__dummy\"></div><span>2</span><!-- --></div><div class=\"reaction-button reaction-button\"><div class=\"reaction-button__dummy\"></div><span>2</span><!-- --></div><!--]--></div></div><!-- --><div class=\"content-footer\"><!-- --><a class=\"comments-counter content-footer__item\" data-router-link=\"\" href=\"/opinions/1810211-mask-zayavil-v-h-chto-ego-zabavlyayut-oskorbleniya-v-ego-adres-nekotorye-v-otvet-nazvali-ego-geroem-i-postavili-v-odin-ryad-s-iisusom#comments\"><!--[--><button class=\"content-footer-button content-footer-button--default\"><div class=\"content-footer-button__icon\"><svg class=\"icon icon--comment\" height=\"20\" width=\"20\"><use xlink:href=\"#comment\"></use></svg><!-- --></div><div class=\"content-footer-button__label\">50<!-- --></div></button><!--]--></a><button class=\"content-footer-button content-footer-button--default content-footer__item\" title=\"Добавить в закладки\"><div class=\"content-footer-button__icon\"><svg class=\"icon icon--bookmark\" height=\"20\" width=\"20\"><use xlink:href=\"#bookmark\"></use></svg><!-- --></div><div class=\"content-footer-button__label\">1<!-- --></div></button><div class=\"content-share content-footer__item content-footer__share\"><button class=\"content-footer-button content-footer-button--default bookmark-button\"><div class=\"content-footer-button__icon\"><svg class=\"icon icon--reply\" height=\"20\" width=\"20\"><use xlink:href=\"#reply\"></use></svg><!-- --></div><!-- --></button></div><button class=\"content-footer-button content-footer-button--default content-footer__item\"><div class=\"content-footer-button__icon\"><svg class=\"icon icon--gift\" height=\"20\" width=\"20\"><use xlink:href=\"#gift\"></use></svg><!-- --></div><!-- --></button><div class=\"content-footer__space\"></div><button class=\"content-footer-button content-footer-button--default content-views\"><div class=\"content-footer-button__icon\"><svg class=\"icon icon--eye\" height=\"20\" width=\"20\"><use xlink:href=\"#eye\"></use></svg><!-- --></div><div class=\"content-footer-button__label\">6.9K<!-- --></div></button></div><!-- --></div><!--]--><!--[--><!-- --><!-- --><div class=\"content content--short\"><!-- --><!-- --><div class=\"content-header\"><div class=\"author author--with-sticker\" style=\"--90f1d586:40px;\"><a class=\"author__avatar\" data-router-link=\"\" href=\"/u/74761-artur-tomilko\"><!--[--><div class=\"andropov-media andropov-media--rounded andropov-media--bordered andropov-media--has-preview andropov-image\" data-loaded=\"true\" style=\"aspect-ratio:0.75;width:40px;height:40px;max-width:none;--background-color:#90a4b9;\"><!-- --><!--[--><picture><source srcset=\"https://leonardo.osnova.io/ed70b52a-df75-5b63-a167-c8806a54dc20/-/scale_crop/72x72/-/format/webp/, https://leonardo.osnova.io/ed70b52a-df75-5b63-a167-c8806a54dc20/-/scale_crop/144x144/-/format/webp/ 2x\" type=\"image/webp\"><img alt=\"\" loading=\"lazy\" src=\"https://leonardo.osnova.io/ed70b52a-df75-5b63-a167-c8806a54dc20/-/scale_crop/72x72/\" srcset=\"https://leonardo.osnova.io/ed70b52a-df75-5b63-a167-c8806a54dc20/-/scale_crop/72x72/, https://leonardo.osnova.io/ed70b52a-df75-5b63-a167-c8806a54dc20/-/scale_crop/144x144/ 2x\"/></source></picture><!--]--></div><!--]--></a><a class=\"author__avatar-sticker\" data-router-link=\"\" href=\"/money\"><!--[--><div class=\"andropov-media andropov-media--rounded andropov-media--bordered andropov-media--has-preview andropov-image\" data-loaded=\"true\" style=\"aspect-ratio:1.1019108280254777;width:20px;height:20px;max-width:none;--background-color:#faf37b;\"><!-- --><!--[--><picture><source srcset=\"https://leonardo.osnova.io/f78c5282-d1f1-5738-aa77-7fd53aa09ea5/-/scale_crop/72x72/-/format/webp/, https://leonardo.osnova.io/f78c5282-d1f1-5738-aa77-7fd53aa09ea5/-/scale_crop/72x72/-/format/webp/ 2x\" type=\"image/webp\"><img alt=\"\" loading=\"lazy\" src=\"https://leonardo.osnova.io/f78c5282-d1f1-5738-aa77-7fd53aa09ea5/-/scale_crop/72x72/\" srcset=\"https://leonardo.osnova.io/f78c5282-d1f1-5738-aa77-7fd53aa09ea5/-/scale_crop/72x72/, https://leonardo.osnova.io/f78c5282-d1f1-5738-aa77-7fd53aa09ea5/-/scale_crop/72x72/ 2x\"/></source></picture><!--]--></div><!--]--></a><div class=\"author__main\"><div class=\"subsite-name\"><div class=\"subsite-name__value\"><!--[--><a class=\"author__name\" data-router-link=\"\" href=\"/u/74761-artur-tomilko\"><!--[-->Артур Томилко<!--]--></a><!--]--></div></div><div class=\"badge\"><div class=\"badge__icon\"><!-- --></div></div><!--[--><!--]--></div><div class=\"author__details\"><!--[--><div class=\"subsite-name\"><div class=\"subsite-name__value\"><!--[--><a class=\"content-header__topic\" data-router-link=\"\" href=\"/money\"><!--[-->Деньги<!--]--></a><!--]--></div></div><div class=\"content-header-details\"><div class=\"content-header-details__inner\"><!--[--><!--[--><a class=\"noshrink\" data-router-link=\"\" href=\"/money/1817817-rossiya-i-oae-podpisali-soglashenie-ob-izbezhanii-dvoinogo-nalogooblozheniya\"><!--[--><time datetime=\"2025-02-17T14:10:16.000Z\" title=\"17.02.2025 в 17:10\">вчера</time><!--]--></a><!--]--><!--]--></div></div><div class=\"content-modified\"><svg class=\"icon icon--pen_solid\" height=\"12\" width=\"12\"><use xlink:href=\"#pen_solid\"></use></svg></div><!--]--></div></div><div class=\"content-header__actions\"><!-- --></div></div><div class=\"content__body\"><div class=\"content-title content-title--low-indent\">Россия и ОАЭ подписали соглашение об избежании двойного <span class=\"content-title__editorial\" title=\"Материал редакции\">налогообложения <a class=\"\" data-router-link=\"\" href=\"/editorial\"><!--[--><svg class=\"icon icon--tick_redaction\" height=\"22\" width=\"22\"><use xlink:href=\"#tick_redaction\"></use></svg><!--]--></a></span></div><!-- --><article class=\"content__blocks\"><!--[--><figure class=\"block-wrapper block-wrapper--default\"><div class=\"block-wrapper__content\"><!--[--><!-- --><div class=\"block-text\"><p>Оно вступит в силу с 1 января 2026 года после ратификации обеими странами. </p></div><!--]--></div><!-- --></figure><!--]--></article><div class=\"content__read-more\"><a class=\"link-button link-button--default\" data-router-link=\"\" href=\"/money/1817817-rossiya-i-oae-podpisali-soglashenie-ob-izbezhanii-dvoinogo-nalogooblozheniya\"><!--[--><!--[-->Читать далее<!--]--><!-- --><!--]--></a></div><a class=\"content__link\" data-router-link=\"\" href=\"/money/1817817-rossiya-i-oae-podpisali-soglashenie-ob-izbezhanii-dvoinogo-nalogooblozheniya\"><!--[--><!--]--></a><!-- --></div><div class=\"content__reactions\"><div class=\"reactions reactions--overflow\"><!--[--><div class=\"reaction-button reaction-button\"><div class=\"reaction-button__dummy\"></div><span>15</span><!-- --></div><!--]--></div></div><!-- --><div class=\"content-footer\"><!-- --><a class=\"comments-counter content-footer__item\" data-router-link=\"\" href=\"/money/1817817-rossiya-i-oae-podpisali-soglashenie-ob-izbezhanii-dvoinogo-nalogooblozheniya#comments\"><!--[--><button class=\"content-footer-button content-footer-button--default\"><div class=\"content-footer-button__icon\"><svg class=\"icon icon--comment\" height=\"20\" width=\"20\"><use xlink:href=\"#comment\"></use></svg><!-- --></div><div class=\"content-footer-button__label\">22<!-- --></div></button><!--]--></a><button class=\"content-footer-button content-footer-button--default content-footer__item\" title=\"Добавить в закладки\"><div class=\"content-footer-button__icon\"><svg class=\"icon icon--bookmark\" height=\"20\" width=\"20\"><use xlink:href=\"#bookmark\"></use></svg><!-- --></div><div class=\"content-footer-button__label\">7<!-- --></div></button><div class=\"content-share content-footer__item content-footer__share\"><button class=\"content-footer-button content-footer-button--default bookmark-button\"><div class=\"content-footer-button__icon\"><svg class=\"icon icon--reply\" height=\"20\" width=\"20\"><use xlink:href=\"#reply\"></use></svg><!-- --></div><!-- --></button></div><button class=\"content-footer-button content-footer-button--default content-footer__item\"><div class=\"content-footer-button__icon\"><svg class=\"icon icon--gift\" height=\"20\" width=\"20\"><use xlink:href=\"#gift\"></use></svg><!-- --></div><!-- --></button><div class=\"content-footer__space\"></div><button class=\"content-footer-button content-footer-button--default content-views\"><div class=\"content-footer-button__icon\"><svg class=\"icon icon--eye\" height=\"20\" width=\"20\"><use xlink:href=\"#eye\"></use></svg><!-- --></div><div class=\"content-footer-button__label\">9.6K<!-- --></div></button></div><!-- --></div><!--]--><!--[--><!-- --><!-- --><div class=\"content content--short\"><!-- --><!-- --><div class=\"content-header\"><div class=\"author author--with-sticker\" style=\"--90f1d586:40px;\"><a class=\"author__avatar\" data-router-link=\"\" href=\"/u/4262546-karina-pardaeva\"><!--[--><div class=\"andropov-media andropov-media--rounded andropov-media--bordered andropov-media--has-preview andropov-image\" data-loaded=\"true\" style=\"aspect-ratio:1;width:40px;height:40px;max-width:none;--background-color:#272122;\"><div class=\"andropov-media__thumbnail\" style=\"background-image:url(data:image/png;base64,/9j/4AAQSkZJRgABAQAAAQABAAD/2wBDAAoHCAkIBgoJCAkMCwoMDxoRDw4ODx8WGBMaJSEnJiQhJCMpLjsyKSw4LCMkM0Y0OD0/QkNCKDFITUhATTtBQj//2wBDAQsMDA8NDx4RER4/KiQqPz8/Pz8/Pz8/Pz8/Pz8/Pz8/Pz8/Pz8/Pz8/Pz8/Pz8/Pz8/Pz8/Pz8/Pz8/Pz8/Pz//wAARCAAKAAoDAREAAhEBAxEB/8QAFgABAQEAAAAAAAAAAAAAAAAABwUG/8QAIxAAAgECBQUBAAAAAAAAAAAAAQMCAAUEERIhMQYiIzKSof/EABYBAQEBAAAAAAAAAAAAAAAAAAIAA//EABsRAAICAwEAAAAAAAAAAAAAAAABAhESIVEx/9oADAMBAAIRAxEAPwA/tdpuWlWMw6tSs/Yb/nNT2JaZr43bFiIBRmQN+yVDF9FkuEPohzV3pcVtnEHkRkRVLwURbLWZnyS+jWdsdI//2Q==);\"></div><!--[--><picture><source srcset=\"https://leonardo.osnova.io/9cbca420-1279-5194-8cb7-a94cdc02a3ae/-/scale_crop/72x72/-/format/webp/, https://leonardo.osnova.io/9cbca420-1279-5194-8cb7-a94cdc02a3ae/-/scale_crop/144x144/-/format/webp/ 2x\" type=\"image/webp\"><img alt=\"\" loading=\"lazy\" src=\"https://leonardo.osnova.io/9cbca420-1279-5194-8cb7-a94cdc02a3ae/-/scale_crop/72x72/\" srcset=\"https://leonardo.osnova.io/9cbca420-1279-5194-8cb7-a94cdc02a3ae/-/scale_crop/72x72/, https://leonardo.osnova.io/9cbca420-1279-5194-8cb7-a94cdc02a3ae/-/scale_crop/144x144/ 2x\"/></source></picture><!--]--></div><!--]--></a><a class=\"author__avatar-sticker\" data-router-link=\"\" href=\"/retail\"><!--[--><div class=\"andropov-media andropov-media--rounded andropov-media--bordered andropov-media--has-preview andropov-image\" data-loaded=\"true\" style=\"aspect-ratio:1;width:20px;height:20px;max-width:none;--background-color:#040a29;\"><div class=\"andropov-media__thumbnail\" style=\"background-image:url(data:image/png;base64,/9j/4AAQSkZJRgABAQIAHAAcAAD/2wBDAAMCAgICAgMCAgIDAwMDBAYEBAQEBAgGBgUGCQgKCgkICQkKDA8MCgsOCwkJDRENDg8QEBEQCgwSExIQEw8QEBD/2wBDAQMDAwQDBAgEBAgQCwkLEBAQEBAQEBAQEBAQEBAQEBAQEBAQEBAQEBAQEBAQEBAQEBAQEBAQEBAQEBAQEBAQEBD/wAARCAAKAAoDAREAAhEBAxEB/8QAFQABAQAAAAAAAAAAAAAAAAAACAf/xAAlEAABAgYBAwUAAAAAAAAAAAABAgMABQYHESESBBMVIjE1UVL/xAAXAQADAQAAAAAAAAAAAAAAAAAFBgcD/8QAIxEAAQIFAwUAAAAAAAAAAAAAAQACAwQFESEGFUETFFJhsf/aAAwDAQACEQMRAD8AFtt6LkVQ2hqyoJnK5g/O0/BOMoy0e0OT3M59OB7a2dQZqFbnRUIPReRDFrjFjc8rSTk4DpKKXtBdwc4wpB5g/qGTd/aC9sknYRlldhuuUtpCifIbKQTpJxEiqTjuMLKsml2tOlKkSPH6ibk/cNNypcv/2Q==);\"></div><!--[--><picture><source srcset=\"https://leonardo.osnova.io/46ec2f29-4751-5be2-a278-3fb2b3c2645d/-/scale_crop/72x72/-/format/webp/, https://leonardo.osnova.io/46ec2f29-4751-5be2-a278-3fb2b3c2645d/-/scale_crop/72x72/-/format/webp/ 2x\" type=\"image/webp\"><img alt=\"\" loading=\"lazy\" src=\"https://leonardo.osnova.io/46ec2f29-4751-5be2-a278-3fb2b3c2645d/-/scale_crop/72x72/\" srcset=\"https://leonardo.osnova.io/46ec2f29-4751-5be2-a278-3fb2b3c2645d/-/scale_crop/72x72/, https://leonardo.osnova.io/46ec2f29-4751-5be2-a278-3fb2b3c2645d/-/scale_crop/72x72/ 2x\"/></source></picture><!--]--></div><!--]--></a><div class=\"author__main\"><div class=\"subsite-name\"><div class=\"subsite-name__value\"><!--[--><a class=\"author__name\" data-router-link=\"\" href=\"/u/4262546-karina-pardaeva\"><!--[-->Карина Пардаева<!--]--></a><!--]--></div></div><div class=\"badge\"><div class=\"badge__icon\"><!-- --></div></div><!--[--><!--]--></div><div class=\"author__details\"><!--[--><div class=\"subsite-name\"><div class=\"subsite-name__value\"><!--[--><a class=\"content-header__topic\" data-router-link=\"\" href=\"/retail\"><!--[-->Ритейл<!--]--></a><!--]--></div></div><div class=\"content-header-details\"><div class=\"content-header-details__inner\"><!--[--><!--[--><a class=\"noshrink\" data-router-link=\"\" href=\"/retail/1817666-svetofor-podast-v-sud-iz-za-soobshenii-o-zakrytii-magazinov\"><!--[--><time datetime=\"2025-02-17T13:03:46.000Z\" title=\"17.02.2025 в 16:03\">вчера</time><!--]--></a><!--]--><!--]--></div></div><!-- --><!--]--></div></div><div class=\"content-header__actions\"><!-- --></div></div><div class=\"content__body\"><div class=\"content-title content-title--low-indent\">«Светофор» подаст в суд из-за сообщений о закрытии <span class=\"content-title__editorial\" title=\"Материал редакции\">магазинов <a class=\"\" data-router-link=\"\" href=\"/editorial\"><!--[--><svg class=\"icon icon--tick_redaction\" height=\"22\" width=\"22\"><use xlink:href=\"#tick_redaction\"></use></svg><!--]--></a></span></div><!-- --><article class=\"content__blocks\"><!--[--><figure class=\"block-wrapper block-wrapper--default\"><div class=\"block-wrapper__content\"><!--[--><!-- --><div class=\"block-text\"><p>Информацию об этом распространили «представители конкурентов», заявили в сети.</p></div><!--]--></div><!-- --></figure><figure class=\"block-wrapper block-wrapper--media\"><div class=\"block-wrapper__content\"><!--[--><!-- --><div class=\"block-media\"><!--[--><div class=\"media\"><div class=\"media__underlay\" style=\"--background-color:#a71d1b;--background-image:url(data:image/png;base64,/9j/4AAQSkZJRgABAQAAAQABAAD/2wBDAAMCAgICAgMCAgIDAwMDBAYEBAQEBAgGBgUGCQgKCgkICQkKDA8MCgsOCwkJDRENDg8QEBEQCgwSExIQEw8QEBD/2wBDAQMDAwQDBAgEBAgQCwkLEBAQEBAQEBAQEBAQEBAQEBAQEBAQEBAQEBAQEBAQEBAQEBAQEBAQEBAQEBAQEBAQEBD/wAARCAAKAAoDAREAAhEBAxEB/8QAFwAAAwEAAAAAAAAAAAAAAAAABQYHCP/EACEQAAIBAgcBAQAAAAAAAAAAAAECBAMRAAUGCBIhMSJh/8QAFgEBAQEAAAAAAAAAAAAAAAAABwQF/8QAKREAAQIGAAILAAAAAAAAAAAAAQIDAAQFETFBEuEGEyEiIyQyUWKBsf/aAAwDAQACEQMRAD8AuuZ7jdVyINI1dPRYgHSBkaQ6tysb8R6PcD4qElU0APTIVbCbC4hyptA6NOm6Kigk5HEhOvko/kJ1beRUj1Xj1JhVqTFGVgFIINrEcOj+YxzM1K/h24ddgxqDmbnGGZhxtJBAJGb4PuDY/UB9Zk1MlzsOSwUfIPduh5gsph8w2d84N6V6lK3zjKsmNGaTVZo9IkuxJKC5N8LSHFhIAJiZ51zrFd45O4//2Q==);\"></div><!--[--><div class=\"andropov-media andropov-image andropov-image--zoom\" data-loaded=\"true\" style=\"aspect-ratio:1.3333333333333333;max-width:592px;--background-color:#a71d1b;\"><!-- --><!--[--><picture><source srcset=\"https://leonardo.osnova.io/88b63753-d8a0-5caa-a639-4625b5808084/-/scale_crop/592x/-/format/webp/, https://leonardo.osnova.io/88b63753-d8a0-5caa-a639-4625b5808084/-/scale_crop/1184x/-/format/webp/ 2x\" type=\"image/webp\"><img alt=\"«Светофор»\" loading=\"lazy\" src=\"https://leonardo.osnova.io/88b63753-d8a0-5caa-a639-4625b5808084/-/scale_crop/592x/\" srcset=\"https://leonardo.osnova.io/88b63753-d8a0-5caa-a639-4625b5808084/-/scale_crop/592x/, https://leonardo.osnova.io/88b63753-d8a0-5caa-a639-4625b5808084/-/scale_crop/1184x/ 2x\"/></source></picture><!--]--></div><!--]--></div><!-- --><!--]--><!-- --></div><!--]--></div><!-- --></figure><!--]--></article><div class=\"content__read-more\"><a class=\"link-button link-button--default\" data-router-link=\"\" href=\"/retail/1817666-svetofor-podast-v-sud-iz-za-soobshenii-o-zakrytii-magazinov\"><!--[--><!--[-->Читать далее<!--]--><!-- --><!--]--></a></div><a class=\"content__link\" data-router-link=\"\" href=\"/retail/1817666-svetofor-podast-v-sud-iz-za-soobshenii-o-zakrytii-magazinov\"><!--[--><!--]--></a><!-- --></div><div class=\"content__reactions\"><div class=\"reactions reactions--overflow\"><!--[--><div class=\"reaction-button reaction-button\"><div class=\"reaction-button__dummy\"></div><span>30</span><!-- --></div><div class=\"reaction-button reaction-button\"><div class=\"reaction-button__dummy\"></div><span>6</span><!-- --></div><div class=\"reaction-button reaction-button\"><div class=\"reaction-button__dummy\"></div><span>4</span><!-- --></div><div class=\"reaction-button reaction-button\"><div class=\"reaction-button__dummy\"></div><span>3</span><!-- --></div><div class=\"reaction-button reaction-button\"><div class=\"reaction-button__dummy\"></div><span>1</span><!-- --></div><!--]--></div></div><!-- --><div class=\"content-footer\"><!-- --><a class=\"comments-counter content-footer__item\" data-router-link=\"\" href=\"/retail/1817666-svetofor-podast-v-sud-iz-za-soobshenii-o-zakrytii-magazinov#comments\"><!--[--><button class=\"content-footer-button content-footer-button--default\"><div class=\"content-footer-button__icon\"><svg class=\"icon icon--comment\" height=\"20\" width=\"20\"><use xlink:href=\"#comment\"></use></svg><!-- --></div><div class=\"content-footer-button__label\">72<!-- --></div></button><!--]--></a><button class=\"content-footer-button content-footer-button--default content-footer__item\" title=\"Добавить в закладки\"><div class=\"content-footer-button__icon\"><svg class=\"icon icon--bookmark\" height=\"20\" width=\"20\"><use xlink:href=\"#bookmark\"></use></svg><!-- --></div><div class=\"content-footer-button__label\">2<!-- --></div></button><div class=\"content-share content-footer__item content-footer__share\"><button class=\"content-footer-button content-footer-button--default bookmark-button\"><div class=\"content-footer-button__icon\"><svg class=\"icon icon--reply\" height=\"20\" width=\"20\"><use xlink:href=\"#reply\"></use></svg><!-- --></div><!-- --></button></div><button class=\"content-footer-button content-footer-button--default content-footer__item\"><div class=\"content-footer-button__icon\"><svg class=\"icon icon--gift\" height=\"20\" width=\"20\"><use xlink:href=\"#gift\"></use></svg><!-- --></div><!-- --></button><div class=\"content-footer__space\"></div><button class=\"content-footer-button content-footer-button--default content-views\"><div class=\"content-footer-button__icon\"><svg class=\"icon icon--eye\" height=\"20\" width=\"20\"><use xlink:href=\"#eye\"></use></svg><!-- --></div><div class=\"content-footer-button__label\">11K<!-- --></div></button></div><a class=\"content-comment\" data-router-link=\"\" href=\"/retail/1817666-svetofor-podast-v-sud-iz-za-soobshenii-o-zakrytii-magazinov#comments\"><!--[--><div class=\"content-comment__avatar\"><div class=\"andropov-media andropov-media--rounded andropov-media--bordered andropov-media--has-preview andropov-image\" data-loaded=\"true\" style=\"aspect-ratio:1;width:28px;height:28px;max-width:none;--background-color:#346c1c;\"><!-- --><!--[--><picture><source srcset=\"https://leonardo.osnova.io/9e54efb3-c0cb-55e6-a948-5480d33dee48/-/scale_crop/72x72/-/format/webp/, https://leonardo.osnova.io/9e54efb3-c0cb-55e6-a948-5480d33dee48/-/scale_crop/72x72/-/format/webp/ 2x\" type=\"image/webp\"><img alt=\"\" loading=\"lazy\" src=\"https://leonardo.osnova.io/9e54efb3-c0cb-55e6-a948-5480d33dee48/-/scale_crop/72x72/\" srcset=\"https://leonardo.osnova.io/9e54efb3-c0cb-55e6-a948-5480d33dee48/-/scale_crop/72x72/, https://leonardo.osnova.io/9e54efb3-c0cb-55e6-a948-5480d33dee48/-/scale_crop/72x72/ 2x\"/></source></picture><!--]--></div></div><div class=\"content-comment__text\">Везде просрочки, везде тараканы.\n",
      "В любой магазин роспотреб придет, везде найдет кучу нарушений.</div><!--]--></a></div><!--]--><!--[--><!-- --><!-- --><div class=\"content content--short\"><!-- --><!-- --><div class=\"content-header\"><div class=\"author author--with-sticker\" style=\"--90f1d586:40px;\"><a class=\"author__avatar\" data-router-link=\"\" href=\"/u/617692-evgeniya-evseeva\"><!--[--><div class=\"andropov-media andropov-media--rounded andropov-media--bordered andropov-media--has-preview andropov-image\" data-loaded=\"true\" style=\"aspect-ratio:1.1377708978328174;width:40px;height:40px;max-width:none;--background-color:#d3d1d3;\"><div class=\"andropov-media__thumbnail\" style=\"background-image:url(data:image/png;base64,/9j/4AAQSkZJRgABAQAAAQABAAD/2wBDAAMCAgICAgMCAgIDAwMDBAYEBAQEBAgGBgUGCQgKCgkICQkKDA8MCgsOCwkJDRENDg8QEBEQCgwSExIQEw8QEBD/2wBDAQMDAwQDBAgEBAgQCwkLEBAQEBAQEBAQEBAQEBAQEBAQEBAQEBAQEBAQEBAQEBAQEBAQEBAQEBAQEBAQEBAQEBD/wAARCAAKAAoDAREAAhEBAxEB/8QAFwAAAwEAAAAAAAAAAAAAAAAABAUICf/EACMQAAICAQMEAwEAAAAAAAAAAAECAwUEBhFBABITIQcIIlH/xAAXAQADAQAAAAAAAAAAAAAAAAAFBgcE/8QAIBEAAgEDBAMAAAAAAAAAAAAAAQMAAhEhBBQxkRMzgf/aAAwDAQACEQMRAD8AN+NLjW1R9cbCngqrbDFPCKo0poy4z/MWJk7yA3786knb12jbfhh1DV78UXGc3vxBCaK9iWEHA4tzJXn0pcY08mNkVU0csTlHRo9mVgdiCOCD01Bqzm8SKltBIIM1agggjqclI4UVY2nVAFACqCQAP4Bx1MW5cPkqq/UYsi0LojIiTIyNHUcssqh3d6+FmZiNySSvsk89EPMwYFR7mEpWcmkdT//Z);\"></div><!--[--><picture><source srcset=\"https://leonardo.osnova.io/76162cf3-cc56-5437-8b18-bc3837608281/-/scale_crop/72x72/-/format/webp/, https://leonardo.osnova.io/76162cf3-cc56-5437-8b18-bc3837608281/-/scale_crop/144x144/-/format/webp/ 2x\" type=\"image/webp\"><img alt=\"\" loading=\"lazy\" src=\"https://leonardo.osnova.io/76162cf3-cc56-5437-8b18-bc3837608281/-/scale_crop/72x72/\" srcset=\"https://leonardo.osnova.io/76162cf3-cc56-5437-8b18-bc3837608281/-/scale_crop/72x72/, https://leonardo.osnova.io/76162cf3-cc56-5437-8b18-bc3837608281/-/scale_crop/144x144/ 2x\"/></source></picture><!--]--></div><!--]--></a><a class=\"author__avatar-sticker\" data-router-link=\"\" href=\"/travel\"><!--[--><div class=\"andropov-media andropov-media--rounded andropov-media--bordered andropov-media--has-preview andropov-image\" data-loaded=\"true\" style=\"aspect-ratio:1;width:20px;height:20px;max-width:none;--background-color:#fbd394;\"><!-- --><!--[--><picture><source srcset=\"https://leonardo.osnova.io/620df88c-80a8-5ac8-9df4-661e8bbe451e/-/scale_crop/72x72/-/format/webp/, https://leonardo.osnova.io/620df88c-80a8-5ac8-9df4-661e8bbe451e/-/scale_crop/72x72/-/format/webp/ 2x\" type=\"image/webp\"><img alt=\"\" loading=\"lazy\" src=\"https://leonardo.osnova.io/620df88c-80a8-5ac8-9df4-661e8bbe451e/-/scale_crop/72x72/\" srcset=\"https://leonardo.osnova.io/620df88c-80a8-5ac8-9df4-661e8bbe451e/-/scale_crop/72x72/, https://leonardo.osnova.io/620df88c-80a8-5ac8-9df4-661e8bbe451e/-/scale_crop/72x72/ 2x\"/></source></picture><!--]--></div><!--]--></a><div class=\"author__main\"><div class=\"subsite-name\"><div class=\"subsite-name__value\"><!--[--><a class=\"author__name\" data-router-link=\"\" href=\"/u/617692-evgeniya-evseeva\"><!--[-->Евгения Евсеева<!--]--></a><!--]--></div></div><div class=\"badge\"><div class=\"badge__icon\"><!-- --></div></div><!--[--><!--]--></div><div class=\"author__details\"><!--[--><div class=\"subsite-name\"><div class=\"subsite-name__value\"><!--[--><a class=\"content-header__topic\" data-router-link=\"\" href=\"/travel\"><!--[-->Путешествия<!--]--></a><!--]--></div></div><div class=\"content-header-details\"><div class=\"content-header-details__inner\"><!--[--><!--[--><a class=\"noshrink\" data-router-link=\"\" href=\"/travel/1817676-servis-bronirovaniya-mts-travel-pereedet-na-platformu-bronevikcom-i-smenit-nazvanie\"><!--[--><time datetime=\"2025-02-17T13:00:24.000Z\" title=\"17.02.2025 в 16:00\">вчера</time><!--]--></a><!--]--><!--]--></div></div><!-- --><!--]--></div></div><div class=\"content-header__actions\"><!-- --></div></div><div class=\"content__body\"><div class=\"content-title content-title--low-indent\">Сервис бронирования «МТС Travel» «переедет» на платформу Bronevik.com и сменит <span class=\"content-title__editorial\" title=\"Материал редакции\">название <a class=\"\" data-router-link=\"\" href=\"/editorial\"><!--[--><svg class=\"icon icon--tick_redaction\" height=\"22\" width=\"22\"><use xlink:href=\"#tick_redaction\"></use></svg><!--]--></a></span></div><!-- --><article class=\"content__blocks\"><!--[--><figure class=\"block-wrapper block-wrapper--default\"><div class=\"block-wrapper__content\"><!--[--><!-- --><div class=\"block-text\"><p>Работа под одним брендом сделает бизнес-процессы более эффективными, считают в МТС.</p></div><!--]--></div><!-- --></figure><!--]--></article><div class=\"content__read-more\"><a class=\"link-button link-button--default\" data-router-link=\"\" href=\"/travel/1817676-servis-bronirovaniya-mts-travel-pereedet-na-platformu-bronevikcom-i-smenit-nazvanie\"><!--[--><!--[-->Читать далее<!--]--><!-- --><!--]--></a></div><a class=\"content__link\" data-router-link=\"\" href=\"/travel/1817676-servis-bronirovaniya-mts-travel-pereedet-na-platformu-bronevikcom-i-smenit-nazvanie\"><!--[--><!--]--></a><!-- --></div><div class=\"content__reactions\"><div class=\"reactions reactions--overflow\"><!--[--><div class=\"reaction-button reaction-button\"><div class=\"reaction-button__dummy\"></div><span>12</span><!-- --></div><div class=\"reaction-button reaction-button\"><div class=\"reaction-button__dummy\"></div><span>2</span><!-- --></div><!--]--></div></div><!-- --><div class=\"content-footer\"><!-- --><a class=\"comments-counter content-footer__item\" data-router-link=\"\" href=\"/travel/1817676-servis-bronirovaniya-mts-travel-pereedet-na-platformu-bronevikcom-i-smenit-nazvanie#comments\"><!--[--><button class=\"content-footer-button content-footer-button--default\"><div class=\"content-footer-button__icon\"><svg class=\"icon icon--comment\" height=\"20\" width=\"20\"><use xlink:href=\"#comment\"></use></svg><!-- --></div><div class=\"content-footer-button__label\">41<!-- --></div></button><!--]--></a><button class=\"content-footer-button content-footer-button--default content-footer__item\" title=\"Добавить в закладки\"><div class=\"content-footer-button__icon\"><svg class=\"icon icon--bookmark\" height=\"20\" width=\"20\"><use xlink:href=\"#bookmark\"></use></svg><!-- --></div><div class=\"content-footer-button__label\">3<!-- --></div></button><div class=\"content-share content-footer__item content-footer__share\"><button class=\"content-footer-button content-footer-button--default bookmark-button\"><div class=\"content-footer-button__icon\"><svg class=\"icon icon--reply\" height=\"20\" width=\"20\"><use xlink:href=\"#reply\"></use></svg><!-- --></div><!-- --></button></div><button class=\"content-footer-button content-footer-button--default content-footer__item\"><div class=\"content-footer-button__icon\"><svg class=\"icon icon--gift\" height=\"20\" width=\"20\"><use xlink:href=\"#gift\"></use></svg><!-- --></div><!-- --></button><div class=\"content-footer__space\"></div><button class=\"content-footer-button content-footer-button--default content-views\"><div class=\"content-footer-button__icon\"><svg class=\"icon icon--eye\" height=\"20\" width=\"20\"><use xlink:href=\"#eye\"></use></svg><!-- --></div><div class=\"content-footer-button__label\">6.8K<!-- --></div></button></div><!-- --></div><!--]--><!--[--><!-- --><!--[--><!--]--><div class=\"content content--short\"><!-- --><!-- --><div class=\"content-header\"><div class=\"author author--with-sticker\" style=\"--90f1d586:40px;\"><a class=\"author__avatar\" data-router-link=\"\" href=\"/u/4117243-asya-karpova\"><!--[--><div class=\"andropov-media andropov-media--rounded andropov-media--bordered andropov-media--has-preview andropov-image\" data-loaded=\"true\" style=\"aspect-ratio:0.6;width:40px;height:40px;max-width:none;--background-color:#2e3036;\"><div class=\"andropov-media__thumbnail\" style=\"background-image:url(data:image/png;base64,/9j/4AAQSkZJRgABAQAAAQABAAD/2wBDAAUDBAQEAwUEBAQFBQUGBwwIBwcHBw8LCwkMEQ8SEhEPERETFhwXExQaFRERGCEYGh0dHx8fExciJCIeJBweHx7/2wBDAQUFBQcGBw4ICA4eFBEUHh4eHh4eHh4eHh4eHh4eHh4eHh4eHh4eHh4eHh4eHh4eHh4eHh4eHh4eHh4eHh4eHh7/wAARCAAKAAoDASEAAhEBAxEB/8QAFgABAQEAAAAAAAAAAAAAAAAABgAC/8QAJRAAAQMDAwMFAAAAAAAAAAAAAQIDBAUGIQAREhMUFQciQlJh/8QAFgEBAQEAAAAAAAAAAAAAAAAAAgMF/8QAHREAAgIBBQAAAAAAAAAAAAAAAQIABEEDESEx8P/aAAwDAQACEQMRAD8AI+rdsUNkeOhVqIqsw4HVqCnEq4k8kpUEgEhJAAO2T7TqpFvM+Jh8LnjPJ6CNnOxJ5jiM5O+f3SLHfuaVerpBmTA8YjsaBBU3MdVCjFxxBU4stJ3US6sEk7ZJGDrFuRYwt6nAR2QO0a+A+g1NMxKeBP/Z);\"></div><!--[--><picture><source srcset=\"https://leonardo.osnova.io/bcc8f410-669f-51bc-8073-bcb5672f24c6/-/scale_crop/72x72/-/format/webp/, https://leonardo.osnova.io/bcc8f410-669f-51bc-8073-bcb5672f24c6/-/scale_crop/144x144/-/format/webp/ 2x\" type=\"image/webp\"><img alt=\"\" loading=\"lazy\" src=\"https://leonardo.osnova.io/bcc8f410-669f-51bc-8073-bcb5672f24c6/-/scale_crop/72x72/\" srcset=\"https://leonardo.osnova.io/bcc8f410-669f-51bc-8073-bcb5672f24c6/-/scale_crop/72x72/, https://leonardo.osnova.io/bcc8f410-669f-51bc-8073-bcb5672f24c6/-/scale_crop/144x144/ 2x\"/></source></picture><!--]--></div><!--]--></a><a class=\"author__avatar-sticker\" data-router-link=\"\" href=\"/ai\"><!--[--><div class=\"andropov-media andropov-media--rounded andropov-media--bordered andropov-media--has-preview andropov-image\" data-loaded=\"true\" style=\"aspect-ratio:1;width:20px;height:20px;max-width:none;--background-color:#8dd2f1;\"><!-- --><!--[--><picture><source srcset=\"https://leonardo.osnova.io/47d7652c-7ff3-5ad3-b72c-3d0aa7d14f06/-/scale_crop/72x72/-/format/webp/, https://leonardo.osnova.io/47d7652c-7ff3-5ad3-b72c-3d0aa7d14f06/-/scale_crop/72x72/-/format/webp/ 2x\" type=\"image/webp\"><img alt=\"\" loading=\"lazy\" src=\"https://leonardo.osnova.io/47d7652c-7ff3-5ad3-b72c-3d0aa7d14f06/-/scale_crop/72x72/\" srcset=\"https://leonardo.osnova.io/47d7652c-7ff3-5ad3-b72c-3d0aa7d14f06/-/scale_crop/72x72/, https://leonardo.osnova.io/47d7652c-7ff3-5ad3-b72c-3d0aa7d14f06/-/scale_crop/72x72/ 2x\"/></source></picture><!--]--></div><!--]--></a><div class=\"author__main\"><div class=\"subsite-name\"><div class=\"subsite-name__value\"><!--[--><a class=\"author__name\" data-router-link=\"\" href=\"/u/4117243-asya-karpova\"><!--[-->Ася Карпова<!--]--></a><!--]--></div></div><!-- --><!--[--><!--]--></div><div class=\"author__details\"><!--[--><div class=\"subsite-name\"><div class=\"subsite-name__value\"><!--[--><a class=\"content-header__topic\" data-router-link=\"\" href=\"/ai\"><!--[-->AI<!--]--></a><!--]--></div></div><div class=\"content-header-details\"><div class=\"content-header-details__inner\"><!--[--><!--[--><a class=\"noshrink\" data-router-link=\"\" href=\"/ai/1817340-kitaiskie-razrabotchiki-vypustili-videogenerator-step-video-bez-ogranichenii-na-sozdanie-izvestnyh-lichnostei\"><!--[--><time datetime=\"2025-02-17T12:47:11.000Z\" title=\"17.02.2025 в 15:47\">вчера</time><!--]--></a><!--]--><!--]--></div></div><div class=\"content-modified\"><svg class=\"icon icon--pen_solid\" height=\"12\" width=\"12\"><use xlink:href=\"#pen_solid\"></use></svg></div><!--]--></div></div><div class=\"content-header__actions\"><!-- --></div></div><div class=\"content__body\"><div class=\"content-title content-title--low-indent\">Китайские разработчики выпустили видеогенератор Step-Video без ограничений на создание известных <span class=\"content-title__editorial\" title=\"Материал редакции\">личностей <a class=\"\" data-router-link=\"\" href=\"/editorial\"><!--[--><svg class=\"icon icon--tick_redaction\" height=\"22\" width=\"22\"><use xlink:href=\"#tick_redaction\"></use></svg><!--]--></a></span></div><!-- --><article class=\"content__blocks\"><!--[--><figure class=\"block-wrapper block-wrapper--default\"><div class=\"block-wrapper__content\"><!--[--><!-- --><div class=\"block-text\"><p>Его можно протестировать в бесплатной демоверсии.</p></div><!--]--></div><!-- --></figure><figure class=\"block-wrapper block-wrapper--media\"><div class=\"block-wrapper__content\"><!--[--><!-- --><div class=\"block-media\"><!--[--><div class=\"media\"><div class=\"media__underlay\" style=\"--background-color:#dedde1;\"></div><!--[--><div class=\"andropov-media andropov-video\" data-loaded=\"false\" style=\"aspect-ratio:1.7777777777777777;max-width:592px;--background-color:#dedde1;\"><!-- --><!--[--><video autoplay=\"\" loop=\"\" muted=\"\" playsinline=\"true\" preload=\"auto\"></video><!--]--></div><!--]--></div><!-- --><!--]--><!-- --></div><!--]--></div><!-- --></figure><!--]--></article><div class=\"content__read-more\"><a class=\"link-button link-button--default\" data-router-link=\"\" href=\"/ai/1817340-kitaiskie-razrabotchiki-vypustili-videogenerator-step-video-bez-ogranichenii-na-sozdanie-izvestnyh-lichnostei\"><!--[--><!--[-->Читать далее<!--]--><!-- --><!--]--></a></div><a class=\"content__link\" data-router-link=\"\" href=\"/ai/1817340-kitaiskie-razrabotchiki-vypustili-videogenerator-step-video-bez-ogranichenii-na-sozdanie-izvestnyh-lichnostei\"><!--[--><!--]--></a><!-- --></div><div class=\"content__reactions\"><div class=\"reactions reactions--overflow\"><!--[--><div class=\"reaction-button reaction-button\"><div class=\"reaction-button__dummy\"></div><span>12</span><!-- --></div><div class=\"reaction-button reaction-button\"><div class=\"reaction-button__dummy\"></div><span>5</span><!-- --></div><!--]--></div></div><!-- --><div class=\"content-footer\"><!-- --><a class=\"comments-counter content-footer__item\" data-router-link=\"\" href=\"/ai/1817340-kitaiskie-razrabotchiki-vypustili-videogenerator-step-video-bez-ogranichenii-na-sozdanie-izvestnyh-lichnostei#comments\"><!--[--><button class=\"content-footer-button content-footer-button--default\"><div class=\"content-footer-button__icon\"><svg class=\"icon icon--comment\" height=\"20\" width=\"20\"><use xlink:href=\"#comment\"></use></svg><!-- --></div><div class=\"content-footer-button__label\">31<!-- --></div></button><!--]--></a><button class=\"content-footer-button content-footer-button--default content-footer__item\" title=\"Добавить в закладки\"><div class=\"content-footer-button__icon\"><svg class=\"icon icon--bookmark\" height=\"20\" width=\"20\"><use xlink:href=\"#bookmark\"></use></svg><!-- --></div><div class=\"content-footer-button__label\">36<!-- --></div></button><div class=\"content-share content-footer__item content-footer__share\"><button class=\"content-footer-button content-footer-button--default bookmark-button\"><div class=\"content-footer-button__icon\"><svg class=\"icon icon--reply\" height=\"20\" width=\"20\"><use xlink:href=\"#reply\"></use></svg><!-- --></div><div class=\"content-footer-button__label\">1<!-- --></div></button></div><button class=\"content-footer-button content-footer-button--default content-footer__item\"><div class=\"content-footer-button__icon\"><svg class=\"icon icon--gift\" height=\"20\" width=\"20\"><use xlink:href=\"#gift\"></use></svg><!-- --></div><!-- --></button><div class=\"content-footer__space\"></div><button class=\"content-footer-button content-footer-button--default content-views\"><div class=\"content-footer-button__icon\"><svg class=\"icon icon--eye\" height=\"20\" width=\"20\"><use xlink:href=\"#eye\"></use></svg><!-- --></div><div class=\"content-footer-button__label\">8.6K<!-- --></div></button></div><!-- --></div><!--]--><!--[--><!-- --><!-- --><div class=\"content content--short\"><!-- --><!-- --><div class=\"content-header\"><div class=\"author author--with-sticker\" style=\"--90f1d586:40px;\"><a class=\"author__avatar\" data-router-link=\"\" href=\"/u/74761-artur-tomilko\"><!--[--><div class=\"andropov-media andropov-media--rounded andropov-media--bordered andropov-media--has-preview andropov-image\" data-loaded=\"true\" style=\"aspect-ratio:0.75;width:40px;height:40px;max-width:none;--background-color:#90a4b9;\"><!-- --><!--[--><picture><source srcset=\"https://leonardo.osnova.io/ed70b52a-df75-5b63-a167-c8806a54dc20/-/scale_crop/72x72/-/format/webp/, https://leonardo.osnova.io/ed70b52a-df75-5b63-a167-c8806a54dc20/-/scale_crop/144x144/-/format/webp/ 2x\" type=\"image/webp\"><img alt=\"\" loading=\"lazy\" src=\"https://leonardo.osnova.io/ed70b52a-df75-5b63-a167-c8806a54dc20/-/scale_crop/72x72/\" srcset=\"https://leonardo.osnova.io/ed70b52a-df75-5b63-a167-c8806a54dc20/-/scale_crop/72x72/, https://leonardo.osnova.io/ed70b52a-df75-5b63-a167-c8806a54dc20/-/scale_crop/144x144/ 2x\"/></source></picture><!--]--></div><!--]--></a><a class=\"author__avatar-sticker\" data-router-link=\"\" href=\"/crypto\"><!--[--><div class=\"andropov-media andropov-media--rounded andropov-media--bordered andropov-media--has-preview andropov-image\" data-loaded=\"true\" style=\"aspect-ratio:1;width:20px;height:20px;max-width:none;--background-color:#040404;\"><div class=\"andropov-media__thumbnail\" style=\"background-image:url(data:image/png;base64,/9j/4AAQSkZJRgABAQIAHAAcAAD/2wBDAAMCAgICAgMCAgIDAwMDBAYEBAQEBAgGBgUGCQgKCgkICQkKDA8MCgsOCwkJDRENDg8QEBEQCgwSExIQEw8QEBD/2wBDAQMDAwQDBAgEBAgQCwkLEBAQEBAQEBAQEBAQEBAQEBAQEBAQEBAQEBAQEBAQEBAQEBAQEBAQEBAQEBAQEBAQEBD/wAARCAAKAAoDAREAAhEBAxEB/8QAFgABAQEAAAAAAAAAAAAAAAAAAgQH/8QAIBAAAgEEAwADAAAAAAAAAAAAAQIDAAQGEQcSIRMicf/EABcBAQEBAQAAAAAAAAAAAAAAAAEGBwj/xAAfEQACAQUBAAMAAAAAAAAAAAABEQACAwQFITESQaH/2gAMAwEAAhEDEQA/AIuVOR8zx7lXH8exiaaS1eK3e6sjZF1uPmuljYqwXZ6R93PU/XQ35uuZNJqMPL1d7IyQBUyqvkkqSfH9lAMdm8bXZZOPsLdmwecYXrqA/AzzybVUbKiExxlxKUUuBoNr0D9pZSgg3FRGf//Z);\"></div><!--[--><picture><source srcset=\"https://leonardo.osnova.io/3e37806f-d36e-5972-b8a4-f70d166550f4/-/scale_crop/72x72/-/format/webp/, https://leonardo.osnova.io/3e37806f-d36e-5972-b8a4-f70d166550f4/-/scale_crop/72x72/-/format/webp/ 2x\" type=\"image/webp\"><img alt=\"\" loading=\"lazy\" src=\"https://leonardo.osnova.io/3e37806f-d36e-5972-b8a4-f70d166550f4/-/scale_crop/72x72/\" srcset=\"https://leonardo.osnova.io/3e37806f-d36e-5972-b8a4-f70d166550f4/-/scale_crop/72x72/, https://leonardo.osnova.io/3e37806f-d36e-5972-b8a4-f70d166550f4/-/scale_crop/72x72/ 2x\"/></source></picture><!--]--></div><!--]--></a><div class=\"author__main\"><div class=\"subsite-name\"><div class=\"subsite-name__value\"><!--[--><a class=\"author__name\" data-router-link=\"\" href=\"/u/74761-artur-tomilko\"><!--[-->Артур Томилко<!--]--></a><!--]--></div></div><div class=\"badge\"><div class=\"badge__icon\"><!-- --></div></div><!--[--><!--]--></div><div class=\"author__details\"><!--[--><div class=\"subsite-name\"><div class=\"subsite-name__value\"><!--[--><a class=\"content-header__topic\" data-router-link=\"\" href=\"/crypto\"><!--[-->Крипто<!--]--></a><!--]--></div></div><div class=\"content-header-details\"><div class=\"content-header-details__inner\"><!--[--><!--[--><a class=\"noshrink\" data-router-link=\"\" href=\"/crypto/1817322-milei-libra\"><!--[--><time datetime=\"2025-02-17T11:15:05.000Z\" title=\"17.02.2025 в 14:15\">вчера</time><!--]--></a><!--]--><!--]--></div></div><div class=\"content-modified\"><svg class=\"icon icon--pen_solid\" height=\"12\" width=\"12\"><use xlink:href=\"#pen_solid\"></use></svg></div><!--]--></div></div><div class=\"content-header__actions\"><!-- --></div></div><div class=\"content__body\"><div class=\"content-title content-title--low-indent\">Президент Аргентины Хавьер Милей прорекламировал в X монету $Libra — за несколько часов её капитализация достигла $4,56 млрд, а затем обвалилась на <span class=\"content-title__editorial\" title=\"Материал редакции\">95% <a class=\"\" data-router-link=\"\" href=\"/editorial\"><!--[--><svg class=\"icon icon--tick_redaction\" height=\"22\" width=\"22\"><use xlink:href=\"#tick_redaction\"></use></svg><!--]--></a></span></div><!-- --><article class=\"content__blocks\"><!--[--><figure class=\"block-wrapper block-wrapper--default\"><div class=\"block-wrapper__content\"><!--[--><!-- --><div class=\"block-text\"><p>После этого политик удалил публикацию и признался, что «не был в курсе подробностей проекта», а оппозиция обвинила его в мошенничестве.</p></div><!--]--></div><!-- --></figure><figure class=\"block-wrapper block-wrapper--media\"><div class=\"block-wrapper__content\"><!--[--><!-- --><div class=\"block-media\"><!--[--><div class=\"media\"><div class=\"media__underlay\" style=\"--background-color:#484c69;--background-image:url(data:image/png;base64,/9j/4AAQSkZJRgABAQAAAQABAAD/2wBDAAMCAgICAgMCAgIDAwMDBAYEBAQEBAgGBgUGCQgKCgkICQkKDA8MCgsOCwkJDRENDg8QEBEQCgwSExIQEw8QEBD/2wBDAQMDAwQDBAgEBAgQCwkLEBAQEBAQEBAQEBAQEBAQEBAQEBAQEBAQEBAQEBAQEBAQEBAQEBAQEBAQEBAQEBAQEBD/wAARCAAKAAoDAREAAhEBAxEB/8QAFgABAQEAAAAAAAAAAAAAAAAABwMF/8QAJRAAAgIBAwMEAwAAAAAAAAAAAQIDBQQAESEGEhMHFCJBMWGR/8QAFwEBAQEBAAAAAAAAAAAAAAAABgUBBP/EACIRAAIBAwMFAQAAAAAAAAAAAAECAwAEEQUhMRIiMkFxUf/aAAwDAQACEQMRAD8AE7M015jZnitK3Dr6eWDFnx/ZhpZZZHYHvdfkpAA2AB/e350gluisqqvh7rLe2jeBpS3ftgZ5z+VnJ0lAyK0PgaMgFCMNyCv0d+znXWOkjIFTGu4VJViM/RVKUmH09EkRKPL1TgtIy8F23j5J+zyf7oro7s9kxY53pVqyLHqEYQY2HH2iy1vLqK0zIorfNREyJFVVyHAADHYAb8avozBRvRiaGNpGJUcn1X//2Q==);\"></div><!--[--><div class=\"andropov-media andropov-image andropov-image--zoom\" data-loaded=\"true\" style=\"aspect-ratio:1.6;max-width:592px;--background-color:#484c69;\"><!-- --><!--[--><picture><source srcset=\"https://leonardo.osnova.io/b62efb78-8dcf-55fc-b54c-17b222fad53a/-/scale_crop/592x/-/format/webp/, https://leonardo.osnova.io/b62efb78-8dcf-55fc-b54c-17b222fad53a/-/scale_crop/1184x/-/format/webp/ 2x\" type=\"image/webp\"><img alt=\"Хавьер Милей, фото Reuters \" loading=\"lazy\" src=\"https://leonardo.osnova.io/b62efb78-8dcf-55fc-b54c-17b222fad53a/-/scale_crop/592x/\" srcset=\"https://leonardo.osnova.io/b62efb78-8dcf-55fc-b54c-17b222fad53a/-/scale_crop/592x/, https://leonardo.osnova.io/b62efb78-8dcf-55fc-b54c-17b222fad53a/-/scale_crop/1184x/ 2x\"/></source></picture><!--]--></div><!--]--></div><!-- --><!--]--><!-- --></div><!--]--></div><!-- --></figure><!--]--></article><div class=\"content__read-more\"><a class=\"link-button link-button--default\" data-router-link=\"\" href=\"/crypto/1817322-milei-libra\"><!--[--><!--[-->Читать далее<!--]--><!-- --><!--]--></a></div><a class=\"content__link\" data-router-link=\"\" href=\"/crypto/1817322-milei-libra\"><!--[--><!--]--></a><!-- --></div><div class=\"content__reactions\"><div class=\"reactions reactions--overflow\"><!--[--><div class=\"reaction-button reaction-button\"><div class=\"reaction-button__dummy\"></div><span>28</span><!-- --></div><div class=\"reaction-button reaction-button\"><div class=\"reaction-button__dummy\"></div><span>3</span><!-- --></div><div class=\"reaction-button reaction-button\"><div class=\"reaction-button__dummy\"></div><span>2</span><!-- --></div><div class=\"reaction-button reaction-button\"><div class=\"reaction-button__dummy\"></div><span>1</span><!-- --></div><div class=\"reaction-button reaction-button\"><div class=\"reaction-button__dummy\"></div><span>1</span><!-- --></div><!--]--></div></div><!-- --><div class=\"content-footer\"><!-- --><a class=\"comments-counter content-footer__item\" data-router-link=\"\" href=\"/crypto/1817322-milei-libra#comments\"><!--[--><button class=\"content-footer-button content-footer-button--default\"><div class=\"content-footer-button__icon\"><svg class=\"icon icon--comment\" height=\"20\" width=\"20\"><use xlink:href=\"#comment\"></use></svg><!-- --></div><div class=\"content-footer-button__label\">66<!-- --></div></button><!--]--></a><button class=\"content-footer-button content-footer-button--default content-footer__item\" title=\"Добавить в закладки\"><div class=\"content-footer-button__icon\"><svg class=\"icon icon--bookmark\" height=\"20\" width=\"20\"><use xlink:href=\"#bookmark\"></use></svg><!-- --></div><div class=\"content-footer-button__label\">7<!-- --></div></button><div class=\"content-share content-footer__item content-footer__share\"><button class=\"content-footer-button content-footer-button--default bookmark-button\"><div class=\"content-footer-button__icon\"><svg class=\"icon icon--reply\" height=\"20\" width=\"20\"><use xlink:href=\"#reply\"></use></svg><!-- --></div><!-- --></button></div><button class=\"content-footer-button content-footer-button--default content-footer__item\"><div class=\"content-footer-button__icon\"><svg class=\"icon icon--gift\" height=\"20\" width=\"20\"><use xlink:href=\"#gift\"></use></svg><!-- --></div><!-- --></button><div class=\"content-footer__space\"></div><button class=\"content-footer-button content-footer-button--default content-views\"><div class=\"content-footer-button__icon\"><svg class=\"icon icon--eye\" height=\"20\" width=\"20\"><use xlink:href=\"#eye\"></use></svg><!-- --></div><div class=\"content-footer-button__label\">12K<!-- --></div></button></div><a class=\"content-comment\" data-router-link=\"\" href=\"/crypto/1817322-milei-libra#comments\"><!--[--><div class=\"content-comment__avatar\"><div class=\"andropov-media andropov-media--rounded andropov-media--bordered andropov-media--has-preview andropov-image\" data-loaded=\"true\" style=\"aspect-ratio:1.3402061855670102;width:28px;height:28px;max-width:none;--background-color:#2d1817;\"><!-- --><!--[--><picture><source srcset=\"https://leonardo.osnova.io/d2d0ca1a-0a3f-5e36-8540-0ddfa317fa01/-/scale_crop/72x72/-/format/webp/, https://leonardo.osnova.io/d2d0ca1a-0a3f-5e36-8540-0ddfa317fa01/-/scale_crop/72x72/-/format/webp/ 2x\" type=\"image/webp\"><img alt=\"\" loading=\"lazy\" src=\"https://leonardo.osnova.io/d2d0ca1a-0a3f-5e36-8540-0ddfa317fa01/-/scale_crop/72x72/\" srcset=\"https://leonardo.osnova.io/d2d0ca1a-0a3f-5e36-8540-0ddfa317fa01/-/scale_crop/72x72/, https://leonardo.osnova.io/d2d0ca1a-0a3f-5e36-8540-0ddfa317fa01/-/scale_crop/72x72/ 2x\"/></source></picture><!--]--></div></div><div class=\"content-comment__text\">Крипта - бизнес президентов</div><!--]--></a></div><!--]--><!--[--><!-- --><!-- --><div class=\"content content--short\"><!-- --><!-- --><div class=\"content-header\"><div class=\"author author--with-sticker\" style=\"--90f1d586:40px;\"><a class=\"author__avatar\" data-router-link=\"\" href=\"/u/617692-evgeniya-evseeva\"><!--[--><div class=\"andropov-media andropov-media--rounded andropov-media--bordered andropov-media--has-preview andropov-image\" data-loaded=\"true\" style=\"aspect-ratio:1.1377708978328174;width:40px;height:40px;max-width:none;--background-color:#d3d1d3;\"><div class=\"andropov-media__thumbnail\" style=\"background-image:url(data:image/png;base64,/9j/4AAQSkZJRgABAQAAAQABAAD/2wBDAAMCAgICAgMCAgIDAwMDBAYEBAQEBAgGBgUGCQgKCgkICQkKDA8MCgsOCwkJDRENDg8QEBEQCgwSExIQEw8QEBD/2wBDAQMDAwQDBAgEBAgQCwkLEBAQEBAQEBAQEBAQEBAQEBAQEBAQEBAQEBAQEBAQEBAQEBAQEBAQEBAQEBAQEBAQEBD/wAARCAAKAAoDAREAAhEBAxEB/8QAFwAAAwEAAAAAAAAAAAAAAAAABAUICf/EACMQAAICAQMEAwEAAAAAAAAAAAECAwUEBhFBABITIQcIIlH/xAAXAQADAQAAAAAAAAAAAAAAAAAFBgcE/8QAIBEAAgEDBAMAAAAAAAAAAAAAAQMAAhEhBBQxkRMzgf/aAAwDAQACEQMRAD8AN+NLjW1R9cbCngqrbDFPCKo0poy4z/MWJk7yA3786knb12jbfhh1DV78UXGc3vxBCaK9iWEHA4tzJXn0pcY08mNkVU0csTlHRo9mVgdiCOCD01Bqzm8SKltBIIM1agggjqclI4UVY2nVAFACqCQAP4Bx1MW5cPkqq/UYsi0LojIiTIyNHUcssqh3d6+FmZiNySSvsk89EPMwYFR7mEpWcmkdT//Z);\"></div><!--[--><picture><source srcset=\"https://leonardo.osnova.io/76162cf3-cc56-5437-8b18-bc3837608281/-/scale_crop/72x72/-/format/webp/, https://leonardo.osnova.io/76162cf3-cc56-5437-8b18-bc3837608281/-/scale_crop/144x144/-/format/webp/ 2x\" type=\"image/webp\"><img alt=\"\" loading=\"lazy\" src=\"https://leonardo.osnova.io/76162cf3-cc56-5437-8b18-bc3837608281/-/scale_crop/72x72/\" srcset=\"https://leonardo.osnova.io/76162cf3-cc56-5437-8b18-bc3837608281/-/scale_crop/72x72/, https://leonardo.osnova.io/76162cf3-cc56-5437-8b18-bc3837608281/-/scale_crop/144x144/ 2x\"/></source></picture><!--]--></div><!--]--></a><a class=\"author__avatar-sticker\" data-router-link=\"\" href=\"/retail\"><!--[--><div class=\"andropov-media andropov-media--rounded andropov-media--bordered andropov-media--has-preview andropov-image\" data-loaded=\"true\" style=\"aspect-ratio:1;width:20px;height:20px;max-width:none;--background-color:#040a29;\"><div class=\"andropov-media__thumbnail\" style=\"background-image:url(data:image/png;base64,/9j/4AAQSkZJRgABAQIAHAAcAAD/2wBDAAMCAgICAgMCAgIDAwMDBAYEBAQEBAgGBgUGCQgKCgkICQkKDA8MCgsOCwkJDRENDg8QEBEQCgwSExIQEw8QEBD/2wBDAQMDAwQDBAgEBAgQCwkLEBAQEBAQEBAQEBAQEBAQEBAQEBAQEBAQEBAQEBAQEBAQEBAQEBAQEBAQEBAQEBAQEBD/wAARCAAKAAoDAREAAhEBAxEB/8QAFQABAQAAAAAAAAAAAAAAAAAACAf/xAAlEAABAgYBAwUAAAAAAAAAAAABAgMABQYHESESBBMVIjE1UVL/xAAXAQADAQAAAAAAAAAAAAAAAAAFBgcD/8QAIxEAAQIFAwUAAAAAAAAAAAAAAQACAwQFESEGFUETFFJhsf/aAAwDAQACEQMRAD8AFtt6LkVQ2hqyoJnK5g/O0/BOMoy0e0OT3M59OB7a2dQZqFbnRUIPReRDFrjFjc8rSTk4DpKKXtBdwc4wpB5g/qGTd/aC9sknYRlldhuuUtpCifIbKQTpJxEiqTjuMLKsml2tOlKkSPH6ibk/cNNypcv/2Q==);\"></div><!--[--><picture><source srcset=\"https://leonardo.osnova.io/46ec2f29-4751-5be2-a278-3fb2b3c2645d/-/scale_crop/72x72/-/format/webp/, https://leonardo.osnova.io/46ec2f29-4751-5be2-a278-3fb2b3c2645d/-/scale_crop/72x72/-/format/webp/ 2x\" type=\"image/webp\"><img alt=\"\" loading=\"lazy\" src=\"https://leonardo.osnova.io/46ec2f29-4751-5be2-a278-3fb2b3c2645d/-/scale_crop/72x72/\" srcset=\"https://leonardo.osnova.io/46ec2f29-4751-5be2-a278-3fb2b3c2645d/-/scale_crop/72x72/, https://leonardo.osnova.io/46ec2f29-4751-5be2-a278-3fb2b3c2645d/-/scale_crop/72x72/ 2x\"/></source></picture><!--]--></div><!--]--></a><div class=\"author__main\"><div class=\"subsite-name\"><div class=\"subsite-name__value\"><!--[--><a class=\"author__name\" data-router-link=\"\" href=\"/u/617692-evgeniya-evseeva\"><!--[-->Евгения Евсеева<!--]--></a><!--]--></div></div><div class=\"badge\"><div class=\"badge__icon\"><!-- --></div></div><!--[--><!--]--></div><div class=\"author__details\"><!--[--><div class=\"subsite-name\"><div class=\"subsite-name__value\"><!--[--><a class=\"content-header__topic\" data-router-link=\"\" href=\"/retail\"><!--[-->Ритейл<!--]--></a><!--]--></div></div><div class=\"content-header-details\"><div class=\"content-header-details__inner\"><!--[--><!--[--><a class=\"noshrink\" data-router-link=\"\" href=\"/retail/1817049-soyuz-torgovyh-centrov-predlozhil-uniqlo-hm-i-inditex-vernutsya-v-rossiyu-ih-gotovy-prinyat-i-osvobodit-ploshadi\"><!--[--><time datetime=\"2025-02-17T09:10:05.000Z\" title=\"17.02.2025 в 12:10\">вчера</time><!--]--></a><!--]--><!--]--></div></div><div class=\"content-modified\"><svg class=\"icon icon--pen_solid\" height=\"12\" width=\"12\"><use xlink:href=\"#pen_solid\"></use></svg></div><!--]--></div></div><div class=\"content-header__actions\"><!-- --></div></div><div class=\"content__body\"><div class=\"content-title content-title--low-indent\">Союз торговых центров предложил Uniqlo, H&amp;M и Inditex вернуться в Россию — их готовы принять и освободить <span class=\"content-title__editorial\" title=\"Материал редакции\">площади <a class=\"\" data-router-link=\"\" href=\"/editorial\"><!--[--><svg class=\"icon icon--tick_redaction\" height=\"22\" width=\"22\"><use xlink:href=\"#tick_redaction\"></use></svg><!--]--></a></span></div><!-- --><article class=\"content__blocks\"><!--[--><figure class=\"block-wrapper block-wrapper--default\"><div class=\"block-wrapper__content\"><!--[--><!-- --><div class=\"block-text\"><p>По слухам, бренды и сами готовятся к возвращению. </p></div><!--]--></div><!-- --></figure><figure class=\"block-wrapper block-wrapper--media\"><div class=\"block-wrapper__content\"><!--[--><!-- --><div class=\"block-media\"><!--[--><div class=\"media\"><div class=\"media__underlay\" style=\"--background-color:#7a7373;--background-image:url(data:image/png;base64,/9j/4AAQSkZJRgABAQAAAQABAAD/2wBDAAUDBAQEAwUEBAQFBQUGBwwIBwcHBw8LCwkMEQ8SEhEPERETFhwXExQaFRERGCEYGh0dHx8fExciJCIeJBweHx7/2wBDAQUFBQcGBw4ICA4eFBEUHh4eHh4eHh4eHh4eHh4eHh4eHh4eHh4eHh4eHh4eHh4eHh4eHh4eHh4eHh4eHh4eHh7/wAARCAAKAAoDASEAAhEBAxEB/8QAFwAAAwEAAAAAAAAAAAAAAAAAAwUGB//EACQQAAIBAwMDBQAAAAAAAAAAAAECAwAEEQUGEiExUQcTIkHR/8QAFgEBAQEAAAAAAAAAAAAAAAAAAwEE/8QAHxEAAQQBBQEAAAAAAAAAAAAAAQACAxEhBAUTMkFx/9oADAMBAAIRAxEAPwBHLvHTLKztjfRRiSWEyYKkEg5GR5wR0+6NFunRXiRxcyAMoPWB/wAq6bILj6tu4z87I2BoBYKv0igBfyll3qCzPepzYtxgYLk5wPcbtU0jvwHybt5oIsNCKXsV/9k=);\"></div><!--[--><div class=\"andropov-media andropov-image andropov-image--zoom\" data-loaded=\"true\" style=\"aspect-ratio:1.7777777777777777;max-width:592px;--background-color:#7a7373;\"><!-- --><!--[--><picture><source srcset=\"https://leonardo.osnova.io/c1dd2c64-716e-560b-ae5a-01907dd79a56/-/scale_crop/592x/-/format/webp/, https://leonardo.osnova.io/c1dd2c64-716e-560b-ae5a-01907dd79a56/-/scale_crop/1184x/-/format/webp/ 2x\" type=\"image/webp\"><img alt=\"Источник: «РИА Новости»\" loading=\"lazy\" src=\"https://leonardo.osnova.io/c1dd2c64-716e-560b-ae5a-01907dd79a56/-/scale_crop/592x/\" srcset=\"https://leonardo.osnova.io/c1dd2c64-716e-560b-ae5a-01907dd79a56/-/scale_crop/592x/, https://leonardo.osnova.io/c1dd2c64-716e-560b-ae5a-01907dd79a56/-/scale_crop/1184x/ 2x\"/></source></picture><!--]--></div><!--]--></div><!-- --><!--]--><!-- --></div><!--]--></div><!-- --></figure><!--]--></article><div class=\"content__read-more\"><a class=\"link-button link-button--default\" data-router-link=\"\" href=\"/retail/1817049-soyuz-torgovyh-centrov-predlozhil-uniqlo-hm-i-inditex-vernutsya-v-rossiyu-ih-gotovy-prinyat-i-osvobodit-ploshadi\"><!--[--><!--[-->Читать далее<!--]--><!-- --><!--]--></a></div><a class=\"content__link\" data-router-link=\"\" href=\"/retail/1817049-soyuz-torgovyh-centrov-predlozhil-uniqlo-hm-i-inditex-vernutsya-v-rossiyu-ih-gotovy-prinyat-i-osvobodit-ploshadi\"><!--[--><!--]--></a><!-- --></div><div class=\"content__reactions\"><div class=\"reactions reactions--overflow\"><!--[--><div class=\"reaction-button reaction-button\"><div class=\"reaction-button__dummy\"></div><span>90</span><!-- --></div><div class=\"reaction-button reaction-button\"><div class=\"reaction-button__dummy\"></div><span>18</span><!-- --></div><div class=\"reaction-button reaction-button\"><div class=\"reaction-button__dummy\"></div><span>7</span><!-- --></div><div class=\"reaction-button reaction-button\"><div class=\"reaction-button__dummy\"></div><span>6</span><!-- --></div><div class=\"reaction-button reaction-button\"><div class=\"reaction-button__dummy\"></div><span>6</span><!-- --></div><div class=\"reaction-button reaction-button\"><div class=\"reaction-button__dummy\"></div><span>1</span><!-- --></div><!--]--></div></div><!-- --><div class=\"content-footer\"><!-- --><a class=\"comments-counter content-footer__item\" data-router-link=\"\" href=\"/retail/1817049-soyuz-torgovyh-centrov-predlozhil-uniqlo-hm-i-inditex-vernutsya-v-rossiyu-ih-gotovy-prinyat-i-osvobodit-ploshadi#comments\"><!--[--><button class=\"content-footer-button content-footer-button--default\"><div class=\"content-footer-button__icon\"><svg class=\"icon icon--comment\" height=\"20\" width=\"20\"><use xlink:href=\"#comment\"></use></svg><!-- --></div><div class=\"content-footer-button__label\">242<!-- --></div></button><!--]--></a><button class=\"content-footer-button content-footer-button--default content-footer__item\" title=\"Добавить в закладки\"><div class=\"content-footer-button__icon\"><svg class=\"icon icon--bookmark\" height=\"20\" width=\"20\"><use xlink:href=\"#bookmark\"></use></svg><!-- --></div><div class=\"content-footer-button__label\">17<!-- --></div></button><div class=\"content-share content-footer__item content-footer__share\"><button class=\"content-footer-button content-footer-button--default bookmark-button\"><div class=\"content-footer-button__icon\"><svg class=\"icon icon--reply\" height=\"20\" width=\"20\"><use xlink:href=\"#reply\"></use></svg><!-- --></div><!-- --></button></div><button class=\"content-footer-button content-footer-button--default content-footer__item\"><div class=\"content-footer-button__icon\"><svg class=\"icon icon--gift\" height=\"20\" width=\"20\"><use xlink:href=\"#gift\"></use></svg><!-- --></div><!-- --></button><div class=\"content-footer__space\"></div><button class=\"content-footer-button content-footer-button--default content-views\"><div class=\"content-footer-button__icon\"><svg class=\"icon icon--eye\" height=\"20\" width=\"20\"><use xlink:href=\"#eye\"></use></svg><!-- --></div><div class=\"content-footer-button__label\">33K<!-- --></div></button></div><!-- --></div><!--]--><!--]--><div><!-- --><div class=\"loader content-list__loader\" style=\"display:none;\"><div class=\"loader__dot\"></div><div class=\"loader__dot\"></div><div class=\"loader__dot\"></div></div></div></div>\n"
     ]
    }
   ],
   "source": [
    "# Определяем DIV-ы с нужной инфой (заголовки статей)\n",
    "# articles = soup.find('div', class_ = 'content content--short')\n",
    "articles = soup.find('div', class_ = 'content-list')\n",
    "print (articles)"
   ]
  },
  {
   "cell_type": "code",
   "execution_count": 43,
   "id": "0762beb4",
   "metadata": {},
   "outputs": [],
   "source": [
    "# Чтобы определить степени вложенности DIV-ов применяем трюк PRETTIFY:\n",
    "# print(articles.prettify())"
   ]
  },
  {
   "cell_type": "code",
   "execution_count": 9,
   "id": "349e9374",
   "metadata": {
    "collapsed": true,
    "jupyter": {
     "outputs_hidden": true
    }
   },
   "outputs": [
    {
     "name": "stdout",
     "output_type": "stream",
     "text": [
      "<div class=\"content content--short\"><!-- --><!-- --><div class=\"content-header\"><div class=\"author author--with-sticker\" style=\"--90f1d586:40px;\"><a class=\"author__avatar\" data-router-link=\"\" href=\"/u/597714-polina-laakso\"><!--[--><div class=\"andropov-media andropov-media--rounded andropov-media--bordered andropov-media--has-preview andropov-video\" data-loaded=\"false\" style=\"aspect-ratio:1;width:40px;height:40px;max-width:none;--background-color:#877458;\"><!-- --><!--[--><video autoplay=\"\" loop=\"\" muted=\"\" playsinline=\"true\" preload=\"auto\"></video><!--]--></div><!--]--></a><a class=\"author__avatar-sticker\" data-router-link=\"\" href=\"/offline\"><!--[--><div class=\"andropov-media andropov-media--rounded andropov-media--bordered andropov-media--has-preview andropov-image\" data-loaded=\"true\" style=\"aspect-ratio:1;width:20px;height:20px;max-width:none;--background-color:#f0cab7;\"><!-- --><!--[--><picture><source srcset=\"https://leonardo.osnova.io/808531a2-36b0-523a-ab43-9b889f8d3d6c/-/scale_crop/72x72/-/format/webp/, https://leonardo.osnova.io/808531a2-36b0-523a-ab43-9b889f8d3d6c/-/scale_crop/72x72/-/format/webp/ 2x\" type=\"image/webp\"><img alt=\"\" loading=\"lazy\" src=\"https://leonardo.osnova.io/808531a2-36b0-523a-ab43-9b889f8d3d6c/-/scale_crop/72x72/\" srcset=\"https://leonardo.osnova.io/808531a2-36b0-523a-ab43-9b889f8d3d6c/-/scale_crop/72x72/, https://leonardo.osnova.io/808531a2-36b0-523a-ab43-9b889f8d3d6c/-/scale_crop/72x72/ 2x\"/></source></picture><!--]--></div><!--]--></a><div class=\"author__main\"><div class=\"subsite-name\"><div class=\"subsite-name__value\"><!--[--><a class=\"author__name\" data-router-link=\"\" href=\"/u/597714-polina-laakso\"><!--[-->Полина Лааксо<!--]--></a><!--]--></div></div><div class=\"badge\"><div class=\"badge__icon\"><!-- --></div></div><!--[--><!--]--></div><div class=\"author__details\"><!--[--><div class=\"subsite-name\"><div class=\"subsite-name__value\"><!--[--><a class=\"content-header__topic\" data-router-link=\"\" href=\"/offline\"><!--[-->Офлайн<!--]--></a><!--]--></div></div><div class=\"content-header-details\"><div class=\"content-header-details__inner\"><!--[--><!--[--><a class=\"noshrink\" data-router-link=\"\" href=\"/offline/1818637-umer-otec-nutella-himik-franchesko-rivella\"><!--[--><time datetime=\"2025-02-17T18:18:34.000Z\" title=\"17.02.2025 в 21:18\">вчера</time><!--]--></a><!--]--><!--]--></div></div><!-- --><!--]--></div></div><div class=\"content-header__actions\"><!-- --></div></div><div class=\"content__body\"><div class=\"content-title content-title--low-indent\">Умер «отец Nutella» — химик Франческо <span class=\"content-title__editorial\" title=\"Материал редакции\">Ривелла <a class=\"\" data-router-link=\"\" href=\"/editorial\"><!--[--><svg class=\"icon icon--tick_redaction\" height=\"22\" width=\"22\"><use xlink:href=\"#tick_redaction\"></use></svg><!--]--></a></span></div><!-- --><article class=\"content__blocks\"><!--[--><figure class=\"block-wrapper block-wrapper--default\"><div class=\"block-wrapper__content\"><!--[--><!-- --><div class=\"block-text\"><p>Ему было 97 лет.</p></div><!--]--></div><!-- --></figure><figure class=\"block-wrapper block-wrapper--media\"><div class=\"block-wrapper__content\"><!--[--><!-- --><div class=\"block-media\"><!--[--><div class=\"media\"><div class=\"media__underlay\" style=\"--background-color:#a8abb1;--background-image:url(data:image/png;base64,/9j/4AAQSkZJRgABAQAAAQABAAD/2wBDAAMCAgICAgMCAgIDAwMDBAYEBAQEBAgGBgUGCQgKCgkICQkKDA8MCgsOCwkJDRENDg8QEBEQCgwSExIQEw8QEBD/2wBDAQMDAwQDBAgEBAgQCwkLEBAQEBAQEBAQEBAQEBAQEBAQEBAQEBAQEBAQEBAQEBAQEBAQEBAQEBAQEBAQEBAQEBD/wAARCAAKAAoDAREAAhEBAxEB/8QAFgABAQEAAAAAAAAAAAAAAAAAAwUI/8QAJBAAAQMEAQMFAAAAAAAAAAAAAQIDBAUREiEABggUMUFSgYL/xAAXAQADAQAAAAAAAAAAAAAAAAABBAUG/8QAJREAAgIAAgsBAAAAAAAAAAAAAQIAAwQRBRMUITEyM2FxgZHw/9oADAMBAAIRAxEAPwB6/wBxNU6s8brSOiWzEoswJkRUuhSnWrpudp0dkfXA5ay+u5RkFjGHZasHbS+9m4fu0ro7oqG4hLjdLnFKgCk4HYP55QbT+GUkHP5IGw2zMFFcctFZzVg55Gab6Voeo9+Lp0z6lc8wjU6VKFPigSXQAyiwzPxHMpeBrW8mAk5z/9k=);\"></div><!--[--><div class=\"andropov-media andropov-image andropov-image--zoom\" data-loaded=\"true\" style=\"aspect-ratio:1.5036674816625917;max-width:592px;--background-color:#a8abb1;\"><!-- --><!--[--><picture><source srcset=\"https://leonardo.osnova.io/51de08d7-41e6-55d8-ac6a-2aaa6a5f55f8/-/scale_crop/592x/-/format/webp/, https://leonardo.osnova.io/51de08d7-41e6-55d8-ac6a-2aaa6a5f55f8/-/scale_crop/1184x/-/format/webp/ 2x\" type=\"image/webp\"><img alt=\"Ривелла. Источник фото: Bristol Live\" loading=\"lazy\" src=\"https://leonardo.osnova.io/51de08d7-41e6-55d8-ac6a-2aaa6a5f55f8/-/scale_crop/592x/\" srcset=\"https://leonardo.osnova.io/51de08d7-41e6-55d8-ac6a-2aaa6a5f55f8/-/scale_crop/592x/, https://leonardo.osnova.io/51de08d7-41e6-55d8-ac6a-2aaa6a5f55f8/-/scale_crop/1184x/ 2x\"/></source></picture><!--]--></div><!--]--></div><!-- --><!--]--><!-- --></div><!--]--></div><!-- --></figure><!--]--></article><div class=\"content__read-more\"><a class=\"link-button link-button--default\" data-router-link=\"\" href=\"/offline/1818637-umer-otec-nutella-himik-franchesko-rivella\"><!--[--><!--[-->Читать далее<!--]--><!-- --><!--]--></a></div><a class=\"content__link\" data-router-link=\"\" href=\"/offline/1818637-umer-otec-nutella-himik-franchesko-rivella\"><!--[--><!--]--></a><!-- --></div><div class=\"content__reactions\"><div class=\"reactions reactions--overflow\"><!--[--><div class=\"reaction-button reaction-button\"><div class=\"reaction-button__dummy\"></div><span>60</span><!-- --></div><div class=\"reaction-button reaction-button\"><div class=\"reaction-button__dummy\"></div><span>8</span><!-- --></div><div class=\"reaction-button reaction-button\"><div class=\"reaction-button__dummy\"></div><span>1</span><!-- --></div><!--]--></div></div><!-- --><div class=\"content-footer\"><!-- --><a class=\"comments-counter content-footer__item\" data-router-link=\"\" href=\"/offline/1818637-umer-otec-nutella-himik-franchesko-rivella#comments\"><!--[--><button class=\"content-footer-button content-footer-button--default\"><div class=\"content-footer-button__icon\"><svg class=\"icon icon--comment\" height=\"20\" width=\"20\"><use xlink:href=\"#comment\"></use></svg><!-- --></div><div class=\"content-footer-button__label\">98<!-- --></div></button><!--]--></a><button class=\"content-footer-button content-footer-button--default content-footer__item\" title=\"Добавить в закладки\"><div class=\"content-footer-button__icon\"><svg class=\"icon icon--bookmark\" height=\"20\" width=\"20\"><use xlink:href=\"#bookmark\"></use></svg><!-- --></div><div class=\"content-footer-button__label\">3<!-- --></div></button><div class=\"content-share content-footer__item content-footer__share\"><button class=\"content-footer-button content-footer-button--default bookmark-button\"><div class=\"content-footer-button__icon\"><svg class=\"icon icon--reply\" height=\"20\" width=\"20\"><use xlink:href=\"#reply\"></use></svg><!-- --></div><!-- --></button></div><button class=\"content-footer-button content-footer-button--default content-footer__item\"><div class=\"content-footer-button__icon\"><svg class=\"icon icon--gift\" height=\"20\" width=\"20\"><use xlink:href=\"#gift\"></use></svg><!-- --></div><!-- --></button><div class=\"content-footer__space\"></div><button class=\"content-footer-button content-footer-button--default content-views\"><div class=\"content-footer-button__icon\"><svg class=\"icon icon--eye\" height=\"20\" width=\"20\"><use xlink:href=\"#eye\"></use></svg><!-- --></div><div class=\"content-footer-button__label\">17K<!-- --></div></button></div><a class=\"content-comment\" data-router-link=\"\" href=\"/offline/1818637-umer-otec-nutella-himik-franchesko-rivella#comments\"><!--[--><div class=\"content-comment__avatar\"><div class=\"andropov-media andropov-media--rounded andropov-media--bordered andropov-media--has-preview andropov-image\" data-loaded=\"true\" style=\"aspect-ratio:1;width:28px;height:28px;max-width:none;--background-color:#fff;\"><!-- --><!--[--><picture><source srcset=\"https://leonardo.osnova.io/f6dc86f5-3b6c-6cef-5b37-15109bc705ec/-/scale_crop/72x72/-/format/webp/, https://leonardo.osnova.io/f6dc86f5-3b6c-6cef-5b37-15109bc705ec/-/scale_crop/72x72/-/format/webp/ 2x\" type=\"image/webp\"><img alt=\"\" loading=\"lazy\" src=\"https://leonardo.osnova.io/f6dc86f5-3b6c-6cef-5b37-15109bc705ec/-/scale_crop/72x72/\" srcset=\"https://leonardo.osnova.io/f6dc86f5-3b6c-6cef-5b37-15109bc705ec/-/scale_crop/72x72/, https://leonardo.osnova.io/f6dc86f5-3b6c-6cef-5b37-15109bc705ec/-/scale_crop/72x72/ 2x\"/></source></picture><!--]--></div></div><div class=\"content-comment__text\">Так я узнал что ТикТак и Kinder Surprise - итальянские...</div><!--]--></a></div>\n"
     ]
    }
   ],
   "source": [
    "# Достаём нужный DIV:\n",
    "# div = articles.div.div.div\n",
    "div = articles.find('div', class_ = 'content--short')\n",
    "print (div)"
   ]
  },
  {
   "cell_type": "code",
   "execution_count": null,
   "id": "2fbc1c52-3038-4965-adef-91d52786d7dc",
   "metadata": {},
   "outputs": [],
   "source": []
  },
  {
   "cell_type": "code",
   "execution_count": 47,
   "id": "d6d988a0-8bdc-4d88-b0d2-f90b1563c736",
   "metadata": {},
   "outputs": [
    {
     "name": "stdout",
     "output_type": "stream",
     "text": [
      "Полина Лааксо\n"
     ]
    }
   ],
   "source": [
    "# author__name\n",
    "author = div.find('a', class_='author__name').text\n",
    "print(author)"
   ]
  },
  {
   "cell_type": "code",
   "execution_count": 11,
   "id": "6dd7667b",
   "metadata": {},
   "outputs": [
    {
     "name": "stdout",
     "output_type": "stream",
     "text": [
      "Умер «отец Nutella» — химик Франческо Ривелла \n"
     ]
    }
   ],
   "source": [
    "# Достаём текст заголовка из этого DIV-а\n",
    "# title = div.text\n",
    "title = div.find('div', class_='content-title content-title--low-indent').text\n",
    "print(title)"
   ]
  },
  {
   "cell_type": "code",
   "execution_count": 39,
   "id": "b75cc276-0438-4f89-8f8a-9910ced9482f",
   "metadata": {},
   "outputs": [
    {
     "name": "stdout",
     "output_type": "stream",
     "text": [
      "Ему было 97 лет.\n"
     ]
    }
   ],
   "source": [
    "# Краткое содержание\n",
    "shorts = div.find('div', class_='block-text').text\n",
    "print(shorts)\n",
    "# block-text"
   ]
  },
  {
   "cell_type": "code",
   "execution_count": 12,
   "id": "e5e827c1",
   "metadata": {},
   "outputs": [
    {
     "name": "stdout",
     "output_type": "stream",
     "text": [
      "/offline/1818637-umer-otec-nutella-himik-franchesko-rivella\n"
     ]
    }
   ],
   "source": [
    "# Ссылку ищем как элемент словаря:\n",
    "# link = div.a['href']\n",
    "link = div.find('a', class_ = 'noshrink')['href']\n",
    "# link = articles.a['href']\n",
    "\n",
    "print(link)\n",
    "# print(title, link)"
   ]
  },
  {
   "cell_type": "code",
   "execution_count": 24,
   "id": "0f8375e5-9184-48b3-af65-cd79d7a8c490",
   "metadata": {},
   "outputs": [
    {
     "name": "stdout",
     "output_type": "stream",
     "text": [
      "<a class=\"noshrink\" data-router-link=\"\" href=\"/offline/1818637-umer-otec-nutella-himik-franchesko-rivella\"><!--[--><time datetime=\"2025-02-17T18:18:34.000Z\" title=\"17.02.2025 в 21:18\">вчера</time><!--]--></a>\n"
     ]
    }
   ],
   "source": [
    "# Время публикации:\n",
    "time_pub = div.find('a', class_ = 'noshrink')\n",
    "print(time_pub)"
   ]
  },
  {
   "cell_type": "code",
   "execution_count": 33,
   "id": "856321c5-6dd3-496e-805b-fa3c8367bb39",
   "metadata": {},
   "outputs": [
    {
     "name": "stdout",
     "output_type": "stream",
     "text": [
      "2025-02-17T18:18:34.000Z 17.02.2025 в 21:18\n"
     ]
    }
   ],
   "source": [
    "# Время публикации:\n",
    "# time_pub = div.find('a', class_ = 'noshrink').['time datetime']\n",
    "# time_pub = div.find('div', class_ = 'content-header-details__inner').find('time')\n",
    "time_dt = div.find('div', class_ = 'content-header-details__inner').find('time')['datetime']\n",
    "time_t = div.find('div', class_ = 'content-header-details__inner').find('time')['title']\n",
    "print(time_dt, time_t)\n",
    "# print(title, link)"
   ]
  },
  {
   "cell_type": "markdown",
   "id": "1e186a57-9275-4737-b744-934385d05687",
   "metadata": {},
   "source": [
    "## ЭТО СКАЧАННЫЙ КОД !!!"
   ]
  },
  {
   "cell_type": "code",
   "execution_count": 19,
   "id": "62ff2a76",
   "metadata": {
    "collapsed": true,
    "jupyter": {
     "outputs_hidden": true
    }
   },
   "outputs": [
    {
     "name": "stdout",
     "output_type": "stream",
     "text": [
      "Fun.3.0. START of function \"READ_HTML()\"\n",
      "1. Function \"READ_HTML(VC)\" is EXECUTING...\n",
      "\tIn the folder \"../data/interim/html/\" the file \"news_articles_vc\" EXISTS.\n",
      "\tHTML-code \"news_articles_vc\" is OPENED from ../data/interim/html/news_articles_vc.html\n",
      "Fun.3.0. \"READ_HTML(VC)\" COMPLETED SUCCESSFULLY!\n",
      "\n",
      "1. Полина Лааксо - 18.02.2025 в 19:25\n",
      "The New York Times «одобрило» использование ИИ в новостном и продуктовом отделах — Semafor\n",
      "Издание задумалось об этом ещё в 2024 году.\n",
      "https://vc.ru/ai/1820574-the-new-york-times-odobrilo-ispolzovanie-ii-v-novostnom-i-produktovom-otdelah-semafor\n",
      "2025-02-18 20:00:03\n",
      "\n",
      "2. Никита Якушкин - 18.02.2025 в 19:24\n",
      "Самые упоминаемые нейросети в 2025 году\n",
      "С помощью системы “Медиалогия” был проведен анализ того, как появление DeepSeek-R1 повлияло на обсуждение нейросетей в социальных сетях в 2025 году. Результаты исследования показывают, что текстовые и визуальные нейросети остаются в центре внимания пользователей, при этом ChatGPT сохраняет лидерство, а DeepSeek стремительно набирает популярность.\n",
      "https://vc.ru/social/1820639-samye-upominaemye-neiroseti-v-2025-godu\n",
      "2025-02-18 20:00:03\n",
      "\n",
      "3. Николай Вертий - 18.02.2025 в 19:21\n",
      "Ушёл из найма в 32 года. Жена (в декрете), 2 детей, кредиты, накоплений 0 руб. Пост-знакомство.\n",
      "Привет привет, меня зовут Николай Вертий, сейчас я предприниматель и владелец маркетингового агентства 360-DIGITAL, совсем недавно я работал на заводе в Липецке и история не про успешный успех, не про то как я был никем и стал мульти-мульёнером, не будет фото с геликом и квартирой в москоу-сити, есть реальная история...(многа букф)...\n",
      "https://vc.ru/life/1816026-ushel-iz-naima-v-32-goda-zhena-v-dekrete-2-detei-kredity-nakoplenii-0-rub-post-znakomstvo\n",
      "2025-02-18 20:00:03\n",
      "\n",
      "4. Наталия Сармонт - 18.02.2025 в 19:20\n",
      "Почему отделы контента и SMM в онлайн-школах тонут в хаосе?\n",
      "Absent\n",
      "https://vc.ru/social/1820647-pochemu-otdely-kontenta-i-smm-v-onlain-shkolah-tonut-v-haose\n",
      "2025-02-18 20:00:03\n",
      "\n",
      "5. Aifory Pro - 18.02.2025 в 19:11\n",
      "Где купить криптовалюту в России за рубли в 2025 году: безопасные и официальные способы для новичков\n",
      "Криптовалюта продолжает набирать популярность, и многие россияне интересуются, где можно безопасно купить цифровые активы за рубли. С 2025 года ужесточились правила регулирования, но все еще остаются доступные, выгодные и официальные способы приобретения криптовалюты. В этой статье разберем все актуальные методы покупки, их особенности, преимуществ…\n",
      "https://vc.ru/crypto/1820629-gde-kupit-kriptovalyutu-v-rossii-za-rubli-v-2025-godu-bezopasnye-i-oficialnye-sposoby-dlya-novichkov\n",
      "2025-02-18 20:00:03\n",
      "\n",
      "6. Осторожный инвестор - 18.02.2025 в 19:06\n",
      "Актуальный состав моего инвестиционного портфеля. Февраль 2025.\n",
      "По традиции указываю активы совокупно по всем счетам в процентах к общему объему портфеля (но с определенными округлениями).Предыдущий отчет о составе Портфеля на январь 2025 смотрите по ссылке.\n",
      "https://vc.ru/invest/1820609-aktualnyi-sostav-moego-investicionnogo-portfelya-fevral-2025\n",
      "2025-02-18 20:00:03\n",
      "\n",
      "7. Настя Ланская:Воронки, продажи - 18.02.2025 в 19:04\n",
      "Трипваерные воронки: новый тренд или очередной разводняк?\n",
      "Я реально не догоняю, почему столько шума вокруг этого инструмента? Вы в курсе?\n",
      "https://vc.ru/marketing/1820616-tripvaernye-voronki-novyi-trend-ili-ocherednoi-razvodnyak\n",
      "2025-02-18 20:00:03\n",
      "\n",
      "8. Aifory Pro - 18.02.2025 в 18:58\n",
      "Как безопасно и выгодно обменять криптовалюту на рубли в Москве: обзор криптообменников в Москва-Сити\n",
      "В последние годы обмен криптовалюты на рубли стал популярной услугой среди частных инвесторов, предпринимателей и обычных пользователей, которые хотят конвертировать цифровые активы в фиат. Причины могут быть разными: кто-то хочет зафиксировать прибыль, кто-то оплачивает товары и услуги, а кто-то просто предпочитает хранить деньги в наличных.\n",
      "https://vc.ru/crypto/1820610-kak-bezopasno-i-vygodno-obmenyat-kriptovalyutu-na-rubli-v-moskve-obzor-kriptoobmennikov-v-moskva-siti\n",
      "2025-02-18 20:00:04\n",
      "\n",
      "9. Игорь про маркетинг - 18.02.2025 в 18:57\n",
      "Как увеличивать продажи с помощью брендинга и ребрендинга\n",
      "Часто работы над брендом ограничиваются разработкой логотипа, фирменного стиля, буклетов, этикеток. В общем классический брендбук. Это придает солидный вид компании и определённо может улучшить отношение потребителей. Однако этого мало чтобы появился именно желанный бренд. На данном этапе вы получаете хорошо упакованный бизнес, который не стыдно по…\n",
      "https://vc.ru/marketing/1820605-kak-uvelichivat-prodazhi-s-pomoshyu-brendinga-i-rebrendinga\n",
      "2025-02-18 20:00:04\n",
      "\n",
      "10. Таня Боброва - 18.02.2025 в 18:56\n",
      "Петербургский аэропорт Пулково начал тестировать роботов для уборки залов регистрации и прибытия\n",
      "Это не первые роботы, которых тестируют в аэровокзале, — в декабре 2024 года там запустили беспилотных роботов для доставки багажа.\n",
      "https://vc.ru/tech/1815837-pulkovo-robots\n",
      "2025-02-18 20:00:04\n",
      "\n",
      "11. Твой закупщик Александр - 18.02.2025 в 18:51\n",
      "От учителя английского языка до второй женщины-миллиардера в России: история основательницы WildBerries\n",
      "Absent\n",
      "https://vc.ru/marketing/1817803-ot-uchitelya-angliiskogo-yazyka-do-vtoroi-zhenshiny-milliardera-v-rossii-istoriya-osnovatelnicy-wildberries\n",
      "2025-02-18 20:00:04\n",
      "\n",
      "12. Aifory Pro - 18.02.2025 в 18:50\n",
      "Криптокошелёк - что это такое?\n",
      "Криптовалюты становятся всё более популярными, а вместе с ними растёт потребность в их безопасном хранении. Чтобы защитить свои цифровые активы, необходимо выбрать надёжный кошелек для криптовалюты. В этой статье мы разберёмся, что это такое, какие бывают криптокошельки и как ими пользоваться.\n",
      "https://vc.ru/crypto/1820590-kriptokoshelek-chto-eto-takoe\n",
      "2025-02-18 20:00:04\n",
      "\n"
     ]
    }
   ],
   "source": [
    "# Достаём все заголовки статей со ссылками (используем цикл):\n",
    "# Объект SOUP\n",
    "soup = BeautifulSoup(read_html(variable()[3][0]['name'], variable()[4][1]), 'lxml')\n",
    "host = variable()[1][0]\n",
    "articles = soup.find('div', class_='content-list')\n",
    "divs = articles.find_all('div', class_='content--short')\n",
    "count = 1\n",
    "for art in divs:\n",
    "    author = art.find('a', class_='author__name').text.strip()\n",
    "    date = art.find('div', class_ = 'content-header-details__inner').find('time')['title']\n",
    "    title = art.find('div', class_='content-title').text.strip() if art.find('div', class_='content-title') else 'Absent'\n",
    "    shorts = art.find('div', class_='block-text').text.strip() if art.find('div', class_='block-text') else 'Absent'\n",
    "    link = host + art.find('a', class_ = 'noshrink')['href']\n",
    "    date_time = datetime.now().strftime('%Y-%m-%d %H:%M:%S')\n",
    "\n",
    "    print(f'{count}. {author} - {date}\\n{title}\\n{shorts}\\n{link}\\n{date_time}\\n')\n",
    "    count +=1"
   ]
  },
  {
   "cell_type": "code",
   "execution_count": null,
   "id": "d32262ca-c439-4a5b-bb5e-cee69ba0a929",
   "metadata": {},
   "outputs": [],
   "source": []
  },
  {
   "cell_type": "markdown",
   "id": "85835ab5-5621-4d82-a65b-aad5fafa211c",
   "metadata": {},
   "source": [
    "## ЭТО ИНТЕРНЕТ - ONLINE !!!"
   ]
  },
  {
   "cell_type": "code",
   "execution_count": null,
   "id": "a062cfa9-2930-4e45-968a-10fff80f7507",
   "metadata": {},
   "outputs": [],
   "source": [
    "from selenium import webdriver"
   ]
  },
  {
   "cell_type": "code",
   "execution_count": 12,
   "id": "117fcda9-3aac-4124-abcd-d5571ebcbc12",
   "metadata": {
    "collapsed": true,
    "jupyter": {
     "outputs_hidden": true
    }
   },
   "outputs": [
    {
     "name": "stdout",
     "output_type": "stream",
     "text": [
      "1\n"
     ]
    },
    {
     "ename": "AttributeError",
     "evalue": "'NoneType' object has no attribute 'text'",
     "output_type": "error",
     "traceback": [
      "\u001b[1;31m---------------------------------------------------------------------------\u001b[0m",
      "\u001b[1;31mAttributeError\u001b[0m                            Traceback (most recent call last)",
      "Cell \u001b[1;32mIn[12], line 21\u001b[0m\n\u001b[0;32m     19\u001b[0m author \u001b[38;5;241m=\u001b[39m art\u001b[38;5;241m.\u001b[39mfind(\u001b[38;5;124m'\u001b[39m\u001b[38;5;124ma\u001b[39m\u001b[38;5;124m'\u001b[39m, class_\u001b[38;5;241m=\u001b[39m\u001b[38;5;124m'\u001b[39m\u001b[38;5;124mauthor__name\u001b[39m\u001b[38;5;124m'\u001b[39m)\u001b[38;5;241m.\u001b[39mtext\n\u001b[0;32m     20\u001b[0m date \u001b[38;5;241m=\u001b[39m art\u001b[38;5;241m.\u001b[39mfind(\u001b[38;5;124m'\u001b[39m\u001b[38;5;124mdiv\u001b[39m\u001b[38;5;124m'\u001b[39m, class_ \u001b[38;5;241m=\u001b[39m \u001b[38;5;124m'\u001b[39m\u001b[38;5;124mcontent-header-details__inner\u001b[39m\u001b[38;5;124m'\u001b[39m)\u001b[38;5;241m.\u001b[39mfind(\u001b[38;5;124m'\u001b[39m\u001b[38;5;124mtime\u001b[39m\u001b[38;5;124m'\u001b[39m)[\u001b[38;5;124m'\u001b[39m\u001b[38;5;124mtitle\u001b[39m\u001b[38;5;124m'\u001b[39m]\n\u001b[1;32m---> 21\u001b[0m title \u001b[38;5;241m=\u001b[39m art\u001b[38;5;241m.\u001b[39mfind(\u001b[38;5;124m'\u001b[39m\u001b[38;5;124mdiv\u001b[39m\u001b[38;5;124m'\u001b[39m, class_\u001b[38;5;241m=\u001b[39m\u001b[38;5;124m'\u001b[39m\u001b[38;5;124mcontent-title content-title--low-indent\u001b[39m\u001b[38;5;124m'\u001b[39m)\u001b[38;5;241m.\u001b[39mtext\n\u001b[0;32m     22\u001b[0m shorts \u001b[38;5;241m=\u001b[39m art\u001b[38;5;241m.\u001b[39mfind(\u001b[38;5;124m'\u001b[39m\u001b[38;5;124mdiv\u001b[39m\u001b[38;5;124m'\u001b[39m, class_\u001b[38;5;241m=\u001b[39m\u001b[38;5;124m'\u001b[39m\u001b[38;5;124mblock-text\u001b[39m\u001b[38;5;124m'\u001b[39m)\u001b[38;5;241m.\u001b[39mtext\n\u001b[0;32m     23\u001b[0m link \u001b[38;5;241m=\u001b[39m host \u001b[38;5;241m+\u001b[39m art\u001b[38;5;241m.\u001b[39mfind(\u001b[38;5;124m'\u001b[39m\u001b[38;5;124ma\u001b[39m\u001b[38;5;124m'\u001b[39m, class_ \u001b[38;5;241m=\u001b[39m \u001b[38;5;124m'\u001b[39m\u001b[38;5;124mnoshrink\u001b[39m\u001b[38;5;124m'\u001b[39m)[\u001b[38;5;124m'\u001b[39m\u001b[38;5;124mhref\u001b[39m\u001b[38;5;124m'\u001b[39m]\n",
      "\u001b[1;31mAttributeError\u001b[0m: 'NoneType' object has no attribute 'text'"
     ]
    }
   ],
   "source": [
    "# Рабочий вариант без скроллинга\n",
    "\n",
    "headers = variable()[0]\n",
    "host = variable()[1][0]\n",
    "url = variable()[2][0]\n",
    "articles = soup.find('div', class_='content-list')\n",
    "divs = articles.find_all('div', class_='content--short')\n",
    "\n",
    "r = requests.get(url=url, headers=headers)\n",
    "src = r.text\n",
    "soup = BeautifulSoup(src, 'lxml')\n",
    "articles = soup.find('div', class_='content-list')\n",
    "divs = articles.find_all('div', class_='content--short')\n",
    "\n",
    "count = 1\n",
    "page=1\n",
    "print(page)\n",
    "for art in divs:\n",
    "    author = art.find('a', class_='author__name').text.strip()\n",
    "    date = art.find('div', class_ = 'content-header-details__inner').find('time')['title']\n",
    "    title = art.find('div', class_='content-title').text.strip() if art.find('div', class_='content-title') else 'Absent'\n",
    "    shorts = art.find('div', class_='block-text').text.strip() if art.find('div', class_='block-text') else 'Absent'\n",
    "    link = host + art.find('a', class_ = 'noshrink')['href']\n",
    "    date_time = datetime.now().strftime('%Y-%m-%d %H:%M:%S')\n",
    "    \n",
    "    sleep(random.randrange(1, 3)) # Для симуляции работы реального пользователя, а не робота\n",
    "    print(f'{count}. {author} - {date}\\n{title}\\n{shorts}\\n{link}\\n{date_time}\\n')\n",
    "    count +=1"
   ]
  },
  {
   "cell_type": "code",
   "execution_count": 52,
   "id": "73819ac6",
   "metadata": {
    "collapsed": true,
    "jupyter": {
     "outputs_hidden": true,
     "source_hidden": true
    }
   },
   "outputs": [
    {
     "name": "stdout",
     "output_type": "stream",
     "text": [
      "1\n",
      "Евгения Евсеева - 18.02.2025 в 12:30\n",
      "РСПП предложил ввести семейное налогообложение и индексировать пороги доходов для начисления НДФЛ \n",
      "Чтобы налог рассчитывался исходя из семейного положения, а порог для прогрессивного налога рос каждый год. \n",
      "https://vc.ru/money/1819449-rspp-predlozhil-vvesti-semeinoe-nalogooblozhenie-i-indeksirovat-porogi-dohodov-dlya-nachisleniya-ndfl\n",
      "2025-02-18 13:40:40\n",
      "\n",
      "Евгения Евсеева - 18.02.2025 в 11:23\n",
      "«Магнит» проведёт коллаборацию с игрой Genshin Impact — с подарками в виде мерча и внутриигровых бонусов \n",
      "Она пройдёт с 12 марта по 22 апреля 2025 года.\n",
      "https://vc.ru/marketing/1819325-magnit-provedet-kollaboraciyu-s-igroi-genshin-impact-s-podarkami-v-vide-mercha-i-vnutriigrovyh-bonusov\n",
      "2025-02-18 13:40:41\n",
      "\n",
      "Евгения Евсеева - 18.02.2025 в 11:00\n",
      "Сервис для монетизации сообществ во «ВКонтакте» VK Donut добавил уровни подписок \n",
      "Настраивать их и выбирать, какой контент сделать доступным, будут сами авторы.\n",
      "https://vc.ru/social/1819267-servis-dlya-monetizacii-soobshestv-vo-vkontakte-vk-donut-dobavil-urovni-podpisok\n",
      "2025-02-18 13:40:43\n",
      "\n",
      "Артур Томилко - 18.02.2025 в 11:00\n",
      "VK Education открыла набор на бесплатные образовательные программы по ИТ-специальностям \n",
      "Весной 2025 года студентам будут доступны на выбор пять направлений и 25 открытых курсов. \n",
      "https://vc.ru/education/1819306-vk-education-otkryla-nabor-na-besplatnye-obrazovatelnye-programmy-po-it-specialnostyam\n",
      "2025-02-18 13:40:44\n",
      "\n",
      "Карина Пардаева - 18.02.2025 в 10:06\n",
      "Fujitsu представила ультрабук с деревянной крышкой в технике кумико — в честь 50 млн выпущенных ПК \n",
      "На её создание потребовалось около трёх месяцев.\n",
      "https://vc.ru/tech/1819127-fujitsu-predstavila-ultrabuk-s-derevyannoi-kryshkoi-v-tehnike-kumiko-v-chest-50-mln-vypushennyh-pk\n",
      "2025-02-18 13:40:45\n",
      "\n",
      "Евгения Евсеева - 18.02.2025 в 9:44\n",
      "Правительство задумалось о введении лицензий для продавцов табака — «Ъ» \n",
      "Цель — сократить нелегальный оборот табака.\n",
      "https://vc.ru/retail/1819132-pravitelstvo-zadumalos-o-vvedenii-licenzii-dlya-prodavcov-tabaka\n",
      "2025-02-18 13:40:46\n",
      "\n",
      "Ася Карпова - 18.02.2025 в 8:57\n",
      "xAI выпустила Grok 3 с режимами «рассуждений» и DeepSearch \n",
      "Первыми доступ к модели получат подписчики Premium Plus.\n",
      "https://vc.ru/ai/1819027-xai-vypustila-grok-3-s-rezhimami-rassuzhdenii-i-deepsearch\n",
      "2025-02-18 13:40:48\n",
      "\n",
      "Евгения Евсеева - 18.02.2025 в 8:46\n",
      "МТС решил «оптимизировать» затраты на принадлежащий ему видеосервис Nuum, но закрывать его не планирует — «Ведомости» \n",
      "В компании подтвердили, что остановят инвестиции в контент и маркетинг и не будут разрабатывать новые функции. \n",
      "https://vc.ru/services/1819065-mts-reshil-optimizirovat-zatraty-na-prinadlezhashii-emu-videoservis-nuum-no-zakryvat-ego-ne-planiruet-vedomosti\n",
      "2025-02-18 13:40:50\n",
      "\n",
      "Евгения Евсеева - 18.02.2025 в 8:08\n",
      "Дистрибьютор электроники VVP Group запустит производство смартфонов под собственным брендом на заводе Samsung в Калуге — «Ъ» \n",
      "Или будет предоставлять площадку под контрактное производство.\n",
      "https://vc.ru/tech/1819044-distribyutor-elektroniki-vvp-group-zapustit-proizvodstvo-smartfonov-pod-sobstvennym-brendom-na-zavode-samsung-v-kaluge\n",
      "2025-02-18 13:40:51\n",
      "\n",
      "Евгения Евсеева - 18.02.2025 в 7:44\n",
      "День 1091: компании из Китая увеличили траты на рекламу в VK почти в три раза в 2024 году, МТС оптимизирует затраты на принадлежащий ему сервис Nuum \n",
      "Собираем новости, события и мнения о рынках, банках и реакциях компаний.\n",
      "https://vc.ru/money/1819032-den-1091-kompanii-iz-kitaya-uvelichili-traty-na-reklamu-v-vk-pochti-v-tri-raza-v-2024-godu-mts-optimiziruet-zatraty-na-prinadlezhashii-emu-servis-nuum\n",
      "2025-02-18 13:40:53\n",
      "\n",
      "Полина Лааксо - 18.02.2025 в 0:04\n",
      "Администрация Трампа уволит «сотни» сотрудников авиарегулятора FAA и направит туда специалистов SpaceX для консультаций по безопасности \n",
      "Федеральное управление гражданской авиации (FAA) находится в центре внимания после столкновения вертолёта и самолёта над Вашингтоном. \n",
      "https://vc.ru/transport/1818815-administraciya-trampa-uvolit-sotni-sotrudnikov-aviaregulyatora-faa-i-napravit-tuda-specialistov-spacex-dlya-konsultacii-po-bezopasnosti\n",
      "2025-02-18 13:40:55\n",
      "\n",
      "Полина Лааксо - 17.02.2025 в 21:18\n",
      "Умер «отец Nutella» — химик Франческо Ривелла \n",
      "Ему было 97 лет.\n",
      "https://vc.ru/offline/1818637-umer-otec-nutella-himik-franchesko-rivella\n",
      "2025-02-18 13:40:57\n",
      "\n"
     ]
    },
    {
     "ename": "ReadTimeoutError",
     "evalue": "HTTPConnectionPool(host='localhost', port=50694): Read timed out. (read timeout=120)",
     "output_type": "error",
     "traceback": [
      "\u001b[1;31m---------------------------------------------------------------------------\u001b[0m",
      "\u001b[1;31mTimeoutError\u001b[0m                              Traceback (most recent call last)",
      "File \u001b[1;32mC:\\ProgramData\\anaconda3\\Lib\\site-packages\\urllib3\\connectionpool.py:536\u001b[0m, in \u001b[0;36mHTTPConnectionPool._make_request\u001b[1;34m(self, conn, method, url, body, headers, retries, timeout, chunked, response_conn, preload_content, decode_content, enforce_content_length)\u001b[0m\n\u001b[0;32m    535\u001b[0m \u001b[38;5;28;01mtry\u001b[39;00m:\n\u001b[1;32m--> 536\u001b[0m     response \u001b[38;5;241m=\u001b[39m conn\u001b[38;5;241m.\u001b[39mgetresponse()\n\u001b[0;32m    537\u001b[0m \u001b[38;5;28;01mexcept\u001b[39;00m (BaseSSLError, \u001b[38;5;167;01mOSError\u001b[39;00m) \u001b[38;5;28;01mas\u001b[39;00m e:\n",
      "File \u001b[1;32mC:\\ProgramData\\anaconda3\\Lib\\site-packages\\urllib3\\connection.py:507\u001b[0m, in \u001b[0;36mHTTPConnection.getresponse\u001b[1;34m(self)\u001b[0m\n\u001b[0;32m    506\u001b[0m \u001b[38;5;66;03m# Get the response from http.client.HTTPConnection\u001b[39;00m\n\u001b[1;32m--> 507\u001b[0m httplib_response \u001b[38;5;241m=\u001b[39m \u001b[38;5;28msuper\u001b[39m()\u001b[38;5;241m.\u001b[39mgetresponse()\n\u001b[0;32m    509\u001b[0m \u001b[38;5;28;01mtry\u001b[39;00m:\n",
      "File \u001b[1;32mC:\\ProgramData\\anaconda3\\Lib\\http\\client.py:1428\u001b[0m, in \u001b[0;36mHTTPConnection.getresponse\u001b[1;34m(self)\u001b[0m\n\u001b[0;32m   1427\u001b[0m \u001b[38;5;28;01mtry\u001b[39;00m:\n\u001b[1;32m-> 1428\u001b[0m     response\u001b[38;5;241m.\u001b[39mbegin()\n\u001b[0;32m   1429\u001b[0m \u001b[38;5;28;01mexcept\u001b[39;00m \u001b[38;5;167;01mConnectionError\u001b[39;00m:\n",
      "File \u001b[1;32mC:\\ProgramData\\anaconda3\\Lib\\http\\client.py:331\u001b[0m, in \u001b[0;36mHTTPResponse.begin\u001b[1;34m(self)\u001b[0m\n\u001b[0;32m    330\u001b[0m \u001b[38;5;28;01mwhile\u001b[39;00m \u001b[38;5;28;01mTrue\u001b[39;00m:\n\u001b[1;32m--> 331\u001b[0m     version, status, reason \u001b[38;5;241m=\u001b[39m \u001b[38;5;28mself\u001b[39m\u001b[38;5;241m.\u001b[39m_read_status()\n\u001b[0;32m    332\u001b[0m     \u001b[38;5;28;01mif\u001b[39;00m status \u001b[38;5;241m!=\u001b[39m CONTINUE:\n",
      "File \u001b[1;32mC:\\ProgramData\\anaconda3\\Lib\\http\\client.py:292\u001b[0m, in \u001b[0;36mHTTPResponse._read_status\u001b[1;34m(self)\u001b[0m\n\u001b[0;32m    291\u001b[0m \u001b[38;5;28;01mdef\u001b[39;00m \u001b[38;5;21m_read_status\u001b[39m(\u001b[38;5;28mself\u001b[39m):\n\u001b[1;32m--> 292\u001b[0m     line \u001b[38;5;241m=\u001b[39m \u001b[38;5;28mstr\u001b[39m(\u001b[38;5;28mself\u001b[39m\u001b[38;5;241m.\u001b[39mfp\u001b[38;5;241m.\u001b[39mreadline(_MAXLINE \u001b[38;5;241m+\u001b[39m \u001b[38;5;241m1\u001b[39m), \u001b[38;5;124m\"\u001b[39m\u001b[38;5;124miso-8859-1\u001b[39m\u001b[38;5;124m\"\u001b[39m)\n\u001b[0;32m    293\u001b[0m     \u001b[38;5;28;01mif\u001b[39;00m \u001b[38;5;28mlen\u001b[39m(line) \u001b[38;5;241m>\u001b[39m _MAXLINE:\n",
      "File \u001b[1;32mC:\\ProgramData\\anaconda3\\Lib\\socket.py:720\u001b[0m, in \u001b[0;36mSocketIO.readinto\u001b[1;34m(self, b)\u001b[0m\n\u001b[0;32m    719\u001b[0m \u001b[38;5;28;01mtry\u001b[39;00m:\n\u001b[1;32m--> 720\u001b[0m     \u001b[38;5;28;01mreturn\u001b[39;00m \u001b[38;5;28mself\u001b[39m\u001b[38;5;241m.\u001b[39m_sock\u001b[38;5;241m.\u001b[39mrecv_into(b)\n\u001b[0;32m    721\u001b[0m \u001b[38;5;28;01mexcept\u001b[39;00m timeout:\n",
      "\u001b[1;31mTimeoutError\u001b[0m: timed out",
      "\nThe above exception was the direct cause of the following exception:\n",
      "\u001b[1;31mReadTimeoutError\u001b[0m                          Traceback (most recent call last)",
      "Cell \u001b[1;32mIn[52], line 28\u001b[0m\n\u001b[0;32m     25\u001b[0m     sleep(random\u001b[38;5;241m.\u001b[39mrandrange(\u001b[38;5;241m1\u001b[39m, \u001b[38;5;241m3\u001b[39m)) \u001b[38;5;66;03m# Для симуляции работы реального пользователя, а не робота\u001b[39;00m\n\u001b[0;32m     26\u001b[0m     \u001b[38;5;28mprint\u001b[39m(\u001b[38;5;124mf\u001b[39m\u001b[38;5;124m'\u001b[39m\u001b[38;5;132;01m{\u001b[39;00mauthor\u001b[38;5;132;01m}\u001b[39;00m\u001b[38;5;124m - \u001b[39m\u001b[38;5;132;01m{\u001b[39;00mdate\u001b[38;5;132;01m}\u001b[39;00m\u001b[38;5;130;01m\\n\u001b[39;00m\u001b[38;5;132;01m{\u001b[39;00mtitle\u001b[38;5;132;01m}\u001b[39;00m\u001b[38;5;130;01m\\n\u001b[39;00m\u001b[38;5;132;01m{\u001b[39;00mshorts\u001b[38;5;132;01m}\u001b[39;00m\u001b[38;5;130;01m\\n\u001b[39;00m\u001b[38;5;132;01m{\u001b[39;00mlink\u001b[38;5;132;01m}\u001b[39;00m\u001b[38;5;130;01m\\n\u001b[39;00m\u001b[38;5;132;01m{\u001b[39;00mdate_time\u001b[38;5;132;01m}\u001b[39;00m\u001b[38;5;130;01m\\n\u001b[39;00m\u001b[38;5;124m'\u001b[39m)\n\u001b[1;32m---> 28\u001b[0m driver\u001b[38;5;241m.\u001b[39mget(url)\n\u001b[0;32m     29\u001b[0m driver\u001b[38;5;241m.\u001b[39mexecute_script(\u001b[38;5;124m'\u001b[39m\u001b[38;5;124mwindow.scrollTo(0, document.body.scrollHeight);\u001b[39m\u001b[38;5;124m'\u001b[39m)\n\u001b[0;32m     31\u001b[0m time\u001b[38;5;241m.\u001b[39msleep(\u001b[38;5;241m5\u001b[39m) \n",
      "File \u001b[1;32m~\\AppData\\Roaming\\Python\\Python312\\site-packages\\selenium\\webdriver\\remote\\webdriver.py:454\u001b[0m, in \u001b[0;36mWebDriver.get\u001b[1;34m(self, url)\u001b[0m\n\u001b[0;32m    436\u001b[0m \u001b[38;5;28;01mdef\u001b[39;00m \u001b[38;5;21mget\u001b[39m(\u001b[38;5;28mself\u001b[39m, url: \u001b[38;5;28mstr\u001b[39m) \u001b[38;5;241m-\u001b[39m\u001b[38;5;241m>\u001b[39m \u001b[38;5;28;01mNone\u001b[39;00m:\n\u001b[0;32m    437\u001b[0m \u001b[38;5;250m    \u001b[39m\u001b[38;5;124;03m\"\"\"Navigate the browser to the specified URL in the current window or\u001b[39;00m\n\u001b[0;32m    438\u001b[0m \u001b[38;5;124;03m    tab.\u001b[39;00m\n\u001b[0;32m    439\u001b[0m \n\u001b[1;32m   (...)\u001b[0m\n\u001b[0;32m    452\u001b[0m \u001b[38;5;124;03m    >>> driver.get(\"https://example.com\")\u001b[39;00m\n\u001b[0;32m    453\u001b[0m \u001b[38;5;124;03m    \"\"\"\u001b[39;00m\n\u001b[1;32m--> 454\u001b[0m     \u001b[38;5;28mself\u001b[39m\u001b[38;5;241m.\u001b[39mexecute(Command\u001b[38;5;241m.\u001b[39mGET, {\u001b[38;5;124m\"\u001b[39m\u001b[38;5;124murl\u001b[39m\u001b[38;5;124m\"\u001b[39m: url})\n",
      "File \u001b[1;32m~\\AppData\\Roaming\\Python\\Python312\\site-packages\\selenium\\webdriver\\remote\\webdriver.py:427\u001b[0m, in \u001b[0;36mWebDriver.execute\u001b[1;34m(self, driver_command, params)\u001b[0m\n\u001b[0;32m    424\u001b[0m     \u001b[38;5;28;01melif\u001b[39;00m \u001b[38;5;124m\"\u001b[39m\u001b[38;5;124msessionId\u001b[39m\u001b[38;5;124m\"\u001b[39m \u001b[38;5;129;01mnot\u001b[39;00m \u001b[38;5;129;01min\u001b[39;00m params:\n\u001b[0;32m    425\u001b[0m         params[\u001b[38;5;124m\"\u001b[39m\u001b[38;5;124msessionId\u001b[39m\u001b[38;5;124m\"\u001b[39m] \u001b[38;5;241m=\u001b[39m \u001b[38;5;28mself\u001b[39m\u001b[38;5;241m.\u001b[39msession_id\n\u001b[1;32m--> 427\u001b[0m response \u001b[38;5;241m=\u001b[39m \u001b[38;5;28mself\u001b[39m\u001b[38;5;241m.\u001b[39mcommand_executor\u001b[38;5;241m.\u001b[39mexecute(driver_command, params)\n\u001b[0;32m    428\u001b[0m \u001b[38;5;28;01mif\u001b[39;00m response:\n\u001b[0;32m    429\u001b[0m     \u001b[38;5;28mself\u001b[39m\u001b[38;5;241m.\u001b[39merror_handler\u001b[38;5;241m.\u001b[39mcheck_response(response)\n",
      "File \u001b[1;32m~\\AppData\\Roaming\\Python\\Python312\\site-packages\\selenium\\webdriver\\remote\\remote_connection.py:404\u001b[0m, in \u001b[0;36mRemoteConnection.execute\u001b[1;34m(self, command, params)\u001b[0m\n\u001b[0;32m    402\u001b[0m trimmed \u001b[38;5;241m=\u001b[39m \u001b[38;5;28mself\u001b[39m\u001b[38;5;241m.\u001b[39m_trim_large_entries(params)\n\u001b[0;32m    403\u001b[0m LOGGER\u001b[38;5;241m.\u001b[39mdebug(\u001b[38;5;124m\"\u001b[39m\u001b[38;5;132;01m%s\u001b[39;00m\u001b[38;5;124m \u001b[39m\u001b[38;5;132;01m%s\u001b[39;00m\u001b[38;5;124m \u001b[39m\u001b[38;5;132;01m%s\u001b[39;00m\u001b[38;5;124m\"\u001b[39m, command_info[\u001b[38;5;241m0\u001b[39m], url, \u001b[38;5;28mstr\u001b[39m(trimmed))\n\u001b[1;32m--> 404\u001b[0m \u001b[38;5;28;01mreturn\u001b[39;00m \u001b[38;5;28mself\u001b[39m\u001b[38;5;241m.\u001b[39m_request(command_info[\u001b[38;5;241m0\u001b[39m], url, body\u001b[38;5;241m=\u001b[39mdata)\n",
      "File \u001b[1;32m~\\AppData\\Roaming\\Python\\Python312\\site-packages\\selenium\\webdriver\\remote\\remote_connection.py:428\u001b[0m, in \u001b[0;36mRemoteConnection._request\u001b[1;34m(self, method, url, body)\u001b[0m\n\u001b[0;32m    425\u001b[0m     body \u001b[38;5;241m=\u001b[39m \u001b[38;5;28;01mNone\u001b[39;00m\n\u001b[0;32m    427\u001b[0m \u001b[38;5;28;01mif\u001b[39;00m \u001b[38;5;28mself\u001b[39m\u001b[38;5;241m.\u001b[39m_client_config\u001b[38;5;241m.\u001b[39mkeep_alive:\n\u001b[1;32m--> 428\u001b[0m     response \u001b[38;5;241m=\u001b[39m \u001b[38;5;28mself\u001b[39m\u001b[38;5;241m.\u001b[39m_conn\u001b[38;5;241m.\u001b[39mrequest(method, url, body\u001b[38;5;241m=\u001b[39mbody, headers\u001b[38;5;241m=\u001b[39mheaders, timeout\u001b[38;5;241m=\u001b[39m\u001b[38;5;28mself\u001b[39m\u001b[38;5;241m.\u001b[39m_client_config\u001b[38;5;241m.\u001b[39mtimeout)\n\u001b[0;32m    429\u001b[0m     statuscode \u001b[38;5;241m=\u001b[39m response\u001b[38;5;241m.\u001b[39mstatus\n\u001b[0;32m    430\u001b[0m \u001b[38;5;28;01melse\u001b[39;00m:\n",
      "File \u001b[1;32mC:\\ProgramData\\anaconda3\\Lib\\site-packages\\urllib3\\_request_methods.py:143\u001b[0m, in \u001b[0;36mRequestMethods.request\u001b[1;34m(self, method, url, body, fields, headers, json, **urlopen_kw)\u001b[0m\n\u001b[0;32m    135\u001b[0m     \u001b[38;5;28;01mreturn\u001b[39;00m \u001b[38;5;28mself\u001b[39m\u001b[38;5;241m.\u001b[39mrequest_encode_url(\n\u001b[0;32m    136\u001b[0m         method,\n\u001b[0;32m    137\u001b[0m         url,\n\u001b[1;32m   (...)\u001b[0m\n\u001b[0;32m    140\u001b[0m         \u001b[38;5;241m*\u001b[39m\u001b[38;5;241m*\u001b[39murlopen_kw,\n\u001b[0;32m    141\u001b[0m     )\n\u001b[0;32m    142\u001b[0m \u001b[38;5;28;01melse\u001b[39;00m:\n\u001b[1;32m--> 143\u001b[0m     \u001b[38;5;28;01mreturn\u001b[39;00m \u001b[38;5;28mself\u001b[39m\u001b[38;5;241m.\u001b[39mrequest_encode_body(\n\u001b[0;32m    144\u001b[0m         method, url, fields\u001b[38;5;241m=\u001b[39mfields, headers\u001b[38;5;241m=\u001b[39mheaders, \u001b[38;5;241m*\u001b[39m\u001b[38;5;241m*\u001b[39murlopen_kw\n\u001b[0;32m    145\u001b[0m     )\n",
      "File \u001b[1;32mC:\\ProgramData\\anaconda3\\Lib\\site-packages\\urllib3\\_request_methods.py:278\u001b[0m, in \u001b[0;36mRequestMethods.request_encode_body\u001b[1;34m(self, method, url, fields, headers, encode_multipart, multipart_boundary, **urlopen_kw)\u001b[0m\n\u001b[0;32m    274\u001b[0m     extra_kw[\u001b[38;5;124m\"\u001b[39m\u001b[38;5;124mheaders\u001b[39m\u001b[38;5;124m\"\u001b[39m]\u001b[38;5;241m.\u001b[39msetdefault(\u001b[38;5;124m\"\u001b[39m\u001b[38;5;124mContent-Type\u001b[39m\u001b[38;5;124m\"\u001b[39m, content_type)\n\u001b[0;32m    276\u001b[0m extra_kw\u001b[38;5;241m.\u001b[39mupdate(urlopen_kw)\n\u001b[1;32m--> 278\u001b[0m \u001b[38;5;28;01mreturn\u001b[39;00m \u001b[38;5;28mself\u001b[39m\u001b[38;5;241m.\u001b[39murlopen(method, url, \u001b[38;5;241m*\u001b[39m\u001b[38;5;241m*\u001b[39mextra_kw)\n",
      "File \u001b[1;32mC:\\ProgramData\\anaconda3\\Lib\\site-packages\\urllib3\\poolmanager.py:443\u001b[0m, in \u001b[0;36mPoolManager.urlopen\u001b[1;34m(self, method, url, redirect, **kw)\u001b[0m\n\u001b[0;32m    441\u001b[0m     response \u001b[38;5;241m=\u001b[39m conn\u001b[38;5;241m.\u001b[39murlopen(method, url, \u001b[38;5;241m*\u001b[39m\u001b[38;5;241m*\u001b[39mkw)\n\u001b[0;32m    442\u001b[0m \u001b[38;5;28;01melse\u001b[39;00m:\n\u001b[1;32m--> 443\u001b[0m     response \u001b[38;5;241m=\u001b[39m conn\u001b[38;5;241m.\u001b[39murlopen(method, u\u001b[38;5;241m.\u001b[39mrequest_uri, \u001b[38;5;241m*\u001b[39m\u001b[38;5;241m*\u001b[39mkw)\n\u001b[0;32m    445\u001b[0m redirect_location \u001b[38;5;241m=\u001b[39m redirect \u001b[38;5;129;01mand\u001b[39;00m response\u001b[38;5;241m.\u001b[39mget_redirect_location()\n\u001b[0;32m    446\u001b[0m \u001b[38;5;28;01mif\u001b[39;00m \u001b[38;5;129;01mnot\u001b[39;00m redirect_location:\n",
      "File \u001b[1;32mC:\\ProgramData\\anaconda3\\Lib\\site-packages\\urllib3\\connectionpool.py:843\u001b[0m, in \u001b[0;36mHTTPConnectionPool.urlopen\u001b[1;34m(self, method, url, body, headers, retries, redirect, assert_same_host, timeout, pool_timeout, release_conn, chunked, body_pos, preload_content, decode_content, **response_kw)\u001b[0m\n\u001b[0;32m    840\u001b[0m \u001b[38;5;28;01melif\u001b[39;00m \u001b[38;5;28misinstance\u001b[39m(new_e, (\u001b[38;5;167;01mOSError\u001b[39;00m, HTTPException)):\n\u001b[0;32m    841\u001b[0m     new_e \u001b[38;5;241m=\u001b[39m ProtocolError(\u001b[38;5;124m\"\u001b[39m\u001b[38;5;124mConnection aborted.\u001b[39m\u001b[38;5;124m\"\u001b[39m, new_e)\n\u001b[1;32m--> 843\u001b[0m retries \u001b[38;5;241m=\u001b[39m retries\u001b[38;5;241m.\u001b[39mincrement(\n\u001b[0;32m    844\u001b[0m     method, url, error\u001b[38;5;241m=\u001b[39mnew_e, _pool\u001b[38;5;241m=\u001b[39m\u001b[38;5;28mself\u001b[39m, _stacktrace\u001b[38;5;241m=\u001b[39msys\u001b[38;5;241m.\u001b[39mexc_info()[\u001b[38;5;241m2\u001b[39m]\n\u001b[0;32m    845\u001b[0m )\n\u001b[0;32m    846\u001b[0m retries\u001b[38;5;241m.\u001b[39msleep()\n\u001b[0;32m    848\u001b[0m \u001b[38;5;66;03m# Keep track of the error for the retry warning.\u001b[39;00m\n",
      "File \u001b[1;32mC:\\ProgramData\\anaconda3\\Lib\\site-packages\\urllib3\\util\\retry.py:474\u001b[0m, in \u001b[0;36mRetry.increment\u001b[1;34m(self, method, url, response, error, _pool, _stacktrace)\u001b[0m\n\u001b[0;32m    471\u001b[0m \u001b[38;5;28;01melif\u001b[39;00m error \u001b[38;5;129;01mand\u001b[39;00m \u001b[38;5;28mself\u001b[39m\u001b[38;5;241m.\u001b[39m_is_read_error(error):\n\u001b[0;32m    472\u001b[0m     \u001b[38;5;66;03m# Read retry?\u001b[39;00m\n\u001b[0;32m    473\u001b[0m     \u001b[38;5;28;01mif\u001b[39;00m read \u001b[38;5;129;01mis\u001b[39;00m \u001b[38;5;28;01mFalse\u001b[39;00m \u001b[38;5;129;01mor\u001b[39;00m method \u001b[38;5;129;01mis\u001b[39;00m \u001b[38;5;28;01mNone\u001b[39;00m \u001b[38;5;129;01mor\u001b[39;00m \u001b[38;5;129;01mnot\u001b[39;00m \u001b[38;5;28mself\u001b[39m\u001b[38;5;241m.\u001b[39m_is_method_retryable(method):\n\u001b[1;32m--> 474\u001b[0m         \u001b[38;5;28;01mraise\u001b[39;00m reraise(\u001b[38;5;28mtype\u001b[39m(error), error, _stacktrace)\n\u001b[0;32m    475\u001b[0m     \u001b[38;5;28;01melif\u001b[39;00m read \u001b[38;5;129;01mis\u001b[39;00m \u001b[38;5;129;01mnot\u001b[39;00m \u001b[38;5;28;01mNone\u001b[39;00m:\n\u001b[0;32m    476\u001b[0m         read \u001b[38;5;241m-\u001b[39m\u001b[38;5;241m=\u001b[39m \u001b[38;5;241m1\u001b[39m\n",
      "File \u001b[1;32mC:\\ProgramData\\anaconda3\\Lib\\site-packages\\urllib3\\util\\util.py:39\u001b[0m, in \u001b[0;36mreraise\u001b[1;34m(tp, value, tb)\u001b[0m\n\u001b[0;32m     37\u001b[0m     \u001b[38;5;28;01mif\u001b[39;00m value\u001b[38;5;241m.\u001b[39m__traceback__ \u001b[38;5;129;01mis\u001b[39;00m \u001b[38;5;129;01mnot\u001b[39;00m tb:\n\u001b[0;32m     38\u001b[0m         \u001b[38;5;28;01mraise\u001b[39;00m value\u001b[38;5;241m.\u001b[39mwith_traceback(tb)\n\u001b[1;32m---> 39\u001b[0m     \u001b[38;5;28;01mraise\u001b[39;00m value\n\u001b[0;32m     40\u001b[0m \u001b[38;5;28;01mfinally\u001b[39;00m:\n\u001b[0;32m     41\u001b[0m     value \u001b[38;5;241m=\u001b[39m \u001b[38;5;28;01mNone\u001b[39;00m  \u001b[38;5;66;03m# type: ignore[assignment]\u001b[39;00m\n",
      "File \u001b[1;32mC:\\ProgramData\\anaconda3\\Lib\\site-packages\\urllib3\\connectionpool.py:789\u001b[0m, in \u001b[0;36mHTTPConnectionPool.urlopen\u001b[1;34m(self, method, url, body, headers, retries, redirect, assert_same_host, timeout, pool_timeout, release_conn, chunked, body_pos, preload_content, decode_content, **response_kw)\u001b[0m\n\u001b[0;32m    786\u001b[0m response_conn \u001b[38;5;241m=\u001b[39m conn \u001b[38;5;28;01mif\u001b[39;00m \u001b[38;5;129;01mnot\u001b[39;00m release_conn \u001b[38;5;28;01melse\u001b[39;00m \u001b[38;5;28;01mNone\u001b[39;00m\n\u001b[0;32m    788\u001b[0m \u001b[38;5;66;03m# Make the request on the HTTPConnection object\u001b[39;00m\n\u001b[1;32m--> 789\u001b[0m response \u001b[38;5;241m=\u001b[39m \u001b[38;5;28mself\u001b[39m\u001b[38;5;241m.\u001b[39m_make_request(\n\u001b[0;32m    790\u001b[0m     conn,\n\u001b[0;32m    791\u001b[0m     method,\n\u001b[0;32m    792\u001b[0m     url,\n\u001b[0;32m    793\u001b[0m     timeout\u001b[38;5;241m=\u001b[39mtimeout_obj,\n\u001b[0;32m    794\u001b[0m     body\u001b[38;5;241m=\u001b[39mbody,\n\u001b[0;32m    795\u001b[0m     headers\u001b[38;5;241m=\u001b[39mheaders,\n\u001b[0;32m    796\u001b[0m     chunked\u001b[38;5;241m=\u001b[39mchunked,\n\u001b[0;32m    797\u001b[0m     retries\u001b[38;5;241m=\u001b[39mretries,\n\u001b[0;32m    798\u001b[0m     response_conn\u001b[38;5;241m=\u001b[39mresponse_conn,\n\u001b[0;32m    799\u001b[0m     preload_content\u001b[38;5;241m=\u001b[39mpreload_content,\n\u001b[0;32m    800\u001b[0m     decode_content\u001b[38;5;241m=\u001b[39mdecode_content,\n\u001b[0;32m    801\u001b[0m     \u001b[38;5;241m*\u001b[39m\u001b[38;5;241m*\u001b[39mresponse_kw,\n\u001b[0;32m    802\u001b[0m )\n\u001b[0;32m    804\u001b[0m \u001b[38;5;66;03m# Everything went great!\u001b[39;00m\n\u001b[0;32m    805\u001b[0m clean_exit \u001b[38;5;241m=\u001b[39m \u001b[38;5;28;01mTrue\u001b[39;00m\n",
      "File \u001b[1;32mC:\\ProgramData\\anaconda3\\Lib\\site-packages\\urllib3\\connectionpool.py:538\u001b[0m, in \u001b[0;36mHTTPConnectionPool._make_request\u001b[1;34m(self, conn, method, url, body, headers, retries, timeout, chunked, response_conn, preload_content, decode_content, enforce_content_length)\u001b[0m\n\u001b[0;32m    536\u001b[0m     response \u001b[38;5;241m=\u001b[39m conn\u001b[38;5;241m.\u001b[39mgetresponse()\n\u001b[0;32m    537\u001b[0m \u001b[38;5;28;01mexcept\u001b[39;00m (BaseSSLError, \u001b[38;5;167;01mOSError\u001b[39;00m) \u001b[38;5;28;01mas\u001b[39;00m e:\n\u001b[1;32m--> 538\u001b[0m     \u001b[38;5;28mself\u001b[39m\u001b[38;5;241m.\u001b[39m_raise_timeout(err\u001b[38;5;241m=\u001b[39me, url\u001b[38;5;241m=\u001b[39murl, timeout_value\u001b[38;5;241m=\u001b[39mread_timeout)\n\u001b[0;32m    539\u001b[0m     \u001b[38;5;28;01mraise\u001b[39;00m\n\u001b[0;32m    541\u001b[0m \u001b[38;5;66;03m# Set properties that are used by the pooling layer.\u001b[39;00m\n",
      "File \u001b[1;32mC:\\ProgramData\\anaconda3\\Lib\\site-packages\\urllib3\\connectionpool.py:369\u001b[0m, in \u001b[0;36mHTTPConnectionPool._raise_timeout\u001b[1;34m(self, err, url, timeout_value)\u001b[0m\n\u001b[0;32m    366\u001b[0m \u001b[38;5;250m\u001b[39m\u001b[38;5;124;03m\"\"\"Is the error actually a timeout? Will raise a ReadTimeout or pass\"\"\"\u001b[39;00m\n\u001b[0;32m    368\u001b[0m \u001b[38;5;28;01mif\u001b[39;00m \u001b[38;5;28misinstance\u001b[39m(err, SocketTimeout):\n\u001b[1;32m--> 369\u001b[0m     \u001b[38;5;28;01mraise\u001b[39;00m ReadTimeoutError(\n\u001b[0;32m    370\u001b[0m         \u001b[38;5;28mself\u001b[39m, url, \u001b[38;5;124mf\u001b[39m\u001b[38;5;124m\"\u001b[39m\u001b[38;5;124mRead timed out. (read timeout=\u001b[39m\u001b[38;5;132;01m{\u001b[39;00mtimeout_value\u001b[38;5;132;01m}\u001b[39;00m\u001b[38;5;124m)\u001b[39m\u001b[38;5;124m\"\u001b[39m\n\u001b[0;32m    371\u001b[0m     ) \u001b[38;5;28;01mfrom\u001b[39;00m \u001b[38;5;21;01merr\u001b[39;00m\n\u001b[0;32m    373\u001b[0m \u001b[38;5;66;03m# See the above comment about EAGAIN in Python 3.\u001b[39;00m\n\u001b[0;32m    374\u001b[0m \u001b[38;5;28;01mif\u001b[39;00m \u001b[38;5;28mhasattr\u001b[39m(err, \u001b[38;5;124m\"\u001b[39m\u001b[38;5;124merrno\u001b[39m\u001b[38;5;124m\"\u001b[39m) \u001b[38;5;129;01mand\u001b[39;00m err\u001b[38;5;241m.\u001b[39merrno \u001b[38;5;129;01min\u001b[39;00m _blocking_errnos:\n",
      "\u001b[1;31mReadTimeoutError\u001b[0m: HTTPConnectionPool(host='localhost', port=50694): Read timed out. (read timeout=120)"
     ]
    }
   ],
   "source": [
    "# Selenium & скроллинг - пока не работает !!!\n",
    "# from selenium import webdriver\n",
    "\n",
    "headers = variable()[0]\n",
    "host = variable()[1][0]\n",
    "url = variable()[2][0]\n",
    "articles = soup.find('div', class_='content-list')\n",
    "divs = articles.find_all('div', class_='content--short')\n",
    "\n",
    "r = requests.get(url=url, headers=headers)\n",
    "src = r.text\n",
    "soup = BeautifulSoup(src, 'lxml')\n",
    "driver = webdriver.Chrome()\n",
    "\n",
    "for item in range(3):\n",
    "    print(item +1)\n",
    "    for art in divs:\n",
    "        author = art.find('a', class_='author__name').text\n",
    "        date = art.find('div', class_ = 'content-header-details__inner').find('time')['title']\n",
    "        title = art.find('div', class_='content-title content-title--low-indent').text\n",
    "        shorts = art.find('div', class_='block-text').text\n",
    "        link = host + art.find('a', class_ = 'noshrink')['href']\n",
    "        date_time = datetime.now().strftime('%Y-%m-%d %H:%M:%S')\n",
    "        \n",
    "        sleep(random.randrange(1, 3)) # Для симуляции работы реального пользователя, а не робота\n",
    "        print(f'{author} - {date}\\n{title}\\n{shorts}\\n{link}\\n{date_time}\\n')\n",
    "\n",
    "    driver.get(url)\n",
    "    driver.execute_script('window.scrollTo(0, document.body.scrollHeight);')\n",
    "    \n",
    "    time.sleep(5) \n",
    "    src = driver.page_source\n",
    "    soup = BeautifulSoup(src, 'lxml')"
   ]
  },
  {
   "cell_type": "code",
   "execution_count": null,
   "id": "8ad35123-db7d-415f-b0f1-29236fd82f12",
   "metadata": {},
   "outputs": [],
   "source": []
  },
  {
   "cell_type": "code",
   "execution_count": 32,
   "id": "8b6c6d03-cbb3-48e6-ab07-241b22271aba",
   "metadata": {},
   "outputs": [
    {
     "name": "stdout",
     "output_type": "stream",
     "text": [
      "1\n",
      "1. Артем Колисниченко - 18.02.2025 в 20:27\n",
      "Повышаем повторные продажи: 5 способов удержать клиента\n",
      "Многие компании упускают возможность повторных продаж. Менеджеры забывают перезвонить, заявки теряются, а списки клиентов хранятся в хаотичном виде. В итоге теплый клиент уходит к конкурентам, а бизнес теряет доход. В статье расскажем, как упорядочить процессы, чтобы клиенты возвращались после первой покупки.\n",
      "https://vc.ru/u/4179928-artem-kolisnichenko/1820753-povyshaem-povtornye-prodazhi-5-sposobov-uderzhat-klienta\n",
      "2025-02-18 20:33:08\n",
      "\n",
      "2. Вова Козырев - 18.02.2025 в 20:20\n",
      "Как снизить стоимость привлечения соискателя в 3 раза: кейс клиента HR-tech компания.\n",
      "Рассказываю, как помогаю компании по аутсорсингу персонала в 55 городах РФ, навести порядок в маркетинге и увеличить поток квал.лидов.\n",
      "https://vc.ru/marketing/1820643-kak-snizit-stoimost-privlecheniya-soiskatelya-v-3-raza-keis-klienta-hr-tech-kompaniya\n",
      "2025-02-18 20:33:09\n",
      "\n",
      "3. Мышление предпринимателя - 18.02.2025 в 20:20\n",
      "«Я так много работаю, я устала, у меня нет сил» до\n",
      "Эксперимент. Хотите прямо сейчас найдем несколько свободных часов в день? Я даже не буду предлагать бизнес инструменты, хотя они есть у меня.\n",
      "https://vc.ru/hr/1820732-ya-tak-mnogo-rabotayu-ya-ustala-u-menya-net-sil-do\n",
      "2025-02-18 20:33:11\n",
      "\n",
      "4. Censored Pro - 18.02.2025 в 20:19\n",
      "Сравниваем модерацию отзывов на Яндекс Картах и 2GIS: где бороться с фейками проще?\n",
      "Если у вас есть бизнес, вы, скорее всего, уже сталкивались с ситуацией, когда на вашу компанию начинают массово писать негативные отзывы. Возможно, это действия конкурентов или просто чей-то злой умысел, но факт остается фактом: бороться с такими отзывами бывает непросто. Особенно если площадки не спешат их удалять. Давайте разберемся, как работают…\n",
      "https://vc.ru/marketing/1820726-sravnivaem-moderaciyu-otzyvov-na-yandeks-kartah-i-2gis-gde-borotsya-s-feikami-proshe\n",
      "2025-02-18 20:33:12\n",
      "\n",
      "5. UP business / PRslon - 18.02.2025 в 20:12\n",
      "Подарок защитнику как ежегодный квест\n",
      "Приближается день праздника всех мужчин - отличный повод порадовать близких. Но что делать, если свежие идеи на тему «что подарить папе/брату/мужу/парню на 23 февраля» у вас давно закончились, а выбор подарка превратился в лотерею под лозунгом «надеюсь, хоть это ему понравится»?\n",
      "https://vc.ru/life/1819795-podarok-zashitniku-kak-ezhegodnyi-kvest\n",
      "2025-02-18 20:33:14\n",
      "\n",
      "6. Антон Галушко - 18.02.2025 в 20:06\n",
      "Кейс: как логистическая компания увеличила выручку в 3,4 раза, систематизировав бизнес\n",
      "Absent\n",
      "https://vc.ru/growth/1820686-keis-kak-logisticheskaya-kompaniya-uvelichila-vyruchku-v-34-raza-sistematizirovav-biznes\n",
      "2025-02-18 20:33:15\n",
      "\n",
      "7. Colife - 18.02.2025 в 20:03\n",
      "Скандинавский стиль в интерьере: 5 лучших приемов от дизайнеров Colife, которые можно использовать в своей квартире\n",
      "Absent\n",
      "https://vc.ru/design/1820715-skandinavskii-stil-v-interere-5-luchshih-priemov-ot-dizainerov-colife-kotorye-mozhno-ispolzovat-v-svoei-kvartire\n",
      "2025-02-18 20:33:17\n",
      "\n",
      "8. Крис Истина - 18.02.2025 в 19:58\n",
      "🔬 Медитация под микроскопом: что доказала наука и как это изменит вашу жизнь?\n",
      "Добрый день! Меня зовут Крис Истина – сертифицированный тичер mindfulness медитации и практик осознанности: веду сессии с клиентами онлайн, практики оффлайн и корпоративные сессии.\n",
      "https://vc.ru/u/4567273-kris-istina/1820614-meditaciya-pod-mikroskopom-chto-dokazala-nauka-i-kak-eto-izmenit-vashu-zhizn\n",
      "2025-02-18 20:33:18\n",
      "\n",
      "9. Kirohu - 18.02.2025 в 19:50\n",
      "Модель машинного обучения для оценки концентрации внимания: подходы и перспектив\n",
      "Привет мир сегодня я бы хотел расказать о своем проекте для определоение вашей концентраци и улушение его с помошю LLM модели.\n",
      "https://vc.ru/dev/1820698-model-mashinnogo-obucheniya-dlya-ocenki-koncentracii-vnimaniya-podhody-i-perspektiv\n",
      "2025-02-18 20:33:19\n",
      "\n",
      "10. Онлайн Патент - 18.02.2025 в 19:44\n",
      "Мир в течение 100 дней — а вы поставляете импортозамещающие детали. Что случится и как минимизировать риски?\n",
      "Вероятность отмены (частичной или полной) введенных санкций в последнее время возросла. Это может потенциально привести к тому, что на российский рынок вернутся некоторые зарубежные фирмы.\n",
      "https://vc.ru/offline/1820692-mir-v-techenie-100-dnei-a-vy-postavlyaete-importozameshayushie-detali-chto-sluchitsya-i-kak-minimizirovat-riski\n",
      "2025-02-18 20:33:20\n",
      "\n",
      "11. Виталий Ермолаев - 18.02.2025 в 19:42\n",
      "Инвайтинг (приглашение пользователей в группы или каналы) — это один из эффективных способов продвижения криптопроектов в Telegram.\n",
      "Вот основные преимущества этого метода:\n",
      "https://vc.ru/u/725438-vitalii-ermolaev/1820680-invaiting-priglashenie-polzovatelei-v-gruppy-ili-kanaly-eto-odin-iz-effektivnyh-sposobov-prodvizheniya-kriptoproektov-v-telegram\n",
      "2025-02-18 20:33:21\n",
      "\n",
      "12. Наталия Котлова - 18.02.2025 в 19:38\n",
      "Я личность! Я уникален… только вот, в чем?\n",
      "Ты когда-нибудь задумывался, почему в детстве это ощущение было таким ярким? Почему ты был уверен, что можешь покорить мир? А потом вдруг оказалось, что все эти «быть собой» и «найти своё предназначение» на деле превращаются в бесконечный цикл сомнений и попыток понять, что же ты можешь делать лучше других?\n",
      "https://vc.ru/u/1029536-nataliya-kotlova/1820612-ya-lichnost-ya-unikalen-tolko-vot-v-chem\n",
      "2025-02-18 20:33:23\n",
      "\n",
      "13. Алексей Комиссаров - 18.02.2025 в 19:36\n",
      "Ближайшее будущее магазинов: почему привычный шопинг скоро исчезнет\n",
      "Absent\n",
      "https://vc.ru/future/1820477-blizhaishee-budushee-magazinov-pochemu-privychnyi-shoping-skoro-ischeznet\n",
      "2025-02-18 20:33:24\n",
      "\n",
      "14. Руслан Рекламщик - 18.02.2025 в 19:36\n",
      "Идея для оптимизация РК в Директе: как выжать максимум из бюджета\n",
      "Запуск рекламной кампании (РК) в Яндекс.Директе — это только половина дела. Если просто запустить рекламу и ждать результатов, можно быстро слить бюджет в трубу. Настоящая магия происходит на этапе оптимизации. Разбираем пошагово, как грамотно перераспределять ставки и улучшать результаты.\n",
      "https://vc.ru/marketing/1820669-ideya-dlya-optimizaciya-rk-v-direkte-kak-vyzhat-maksimum-iz-byudzheta\n",
      "2025-02-18 20:33:25\n",
      "\n",
      "15. Николай Самарин - 18.02.2025 в 19:35\n",
      "Как не терять время и успевать не все, но многое\n",
      "Absent\n",
      "https://vc.ru/u/4591779-nikolai-samarin/1820675-kak-ne-teryat-vremya-i-uspevat-ne-vse-no-mnogoe\n",
      "2025-02-18 20:33:26\n",
      "\n",
      "16. Виктория Белова - 18.02.2025 в 19:34\n",
      "Список полезных привычек для жизни человека на каждый день\n",
      "Последние годы я помогаю людям освобождать время от рутины и использовать его для личного роста, здоровья и полноценного отдыха. В этом тексте я расскажу о полезных привычках, которые можно внедрять постепенно, без стрессовой ломки привычного ритма.\n",
      "https://vc.ru/life/1820620-spisok-poleznyh-privychek-dlya-zhizni-cheloveka-na-kazhdyi-den\n",
      "2025-02-18 20:33:27\n",
      "\n",
      "17. Andrey Butakov - 18.02.2025 в 19:29\n",
      "Absent\n",
      "Видео 1Робот с щупальцами - босс из видеоигры. У тех, кто играл в шутеры, много опыта против таких. А говорили: \"игры бесполезные\". Интересный вариант робо -щупальца -руки. Может всё хватать и наводить ужас на обычных людей.\n",
      "https://vc.ru/u/2371043-andrey-butakov/1820658\n",
      "2025-02-18 20:33:28\n",
      "\n",
      "18. Dmitry Filonov - 18.02.2025 в 19:28\n",
      "Absent\n",
      "Вот вам две картинки из статьи Sherwood про шествие AI в мире стартапов.\n",
      "https://vc.ru/u/theedinorogblog/1820659\n",
      "2025-02-18 20:33:29\n",
      "\n",
      "19. Копирайтер Андрей Саблин - 18.02.2025 в 19:27\n",
      "Что такое агентство блог-маркетинга и как оно зарабатывает на задачах клиентов?\n",
      "На днях консультировал команду одной из Дзен-ферм. В процессе часового общения понял, что тема нашей беседы может быть интересна и вам. Ведь как ни раскручивайся, а блог-маркетинг остается интереснейшим и простейшим решением для всех рекламных нужд, поскольку он на протяжении многих лет производит интересный контент и выдерживает жесткую конкуренци…\n",
      "https://vc.ru/u/3921457-kopiraiter-andrei-sablin/1820402-chto-takoe-agentstvo-blog-marketinga-i-kak-ono-zarabatyvaet-na-zadachah-klientov\n",
      "2025-02-18 20:33:30\n",
      "\n",
      "20. Полина Лааксо - 18.02.2025 в 19:25\n",
      "The New York Times «одобрило» использование ИИ в новостном и продуктовом отделах — Semafor\n",
      "Издание задумалось об этом ещё в 2024 году.\n",
      "https://vc.ru/ai/1820574-the-new-york-times-odobrilo-ispolzovanie-ii-v-novostnom-i-produktovom-otdelah-semafor\n",
      "2025-02-18 20:33:32\n",
      "\n",
      "21. Efremova Victoria Design - 18.02.2025 в 19:25\n",
      "\"Golden Mountains\" или \"Золотая гора\": Новый Тренд 2025 Года в Дизайне Интерьеров от IAC\n",
      "В мире дизайна интерьеров постоянно появляются новые тренды, которые вдохновляют и удивляют. В 2025 году архитектурный концепт IAC представляет уникальную концепцию, которая обещает стать настоящим хитом — \"Golden Mountains\". Этот тренд не только привнесет изысканность и эксклюзивность в ваши пространства, но и создаст атмосферу, полную тепла и уют…\n",
      "https://vc.ru/u/3257257-efremova-victoria-design/1820634-golden-mountains-ili-zolotaya-gora-novyi-trend-2025-goda-v-dizaine-intererov-ot-iac\n",
      "2025-02-18 20:33:33\n",
      "\n",
      "22. Никита Якушкин - 18.02.2025 в 19:24\n",
      "Самые упоминаемые нейросети в 2025 году\n",
      "С помощью системы “Медиалогия” был проведен анализ того, как появление DeepSeek-R1 повлияло на обсуждение нейросетей в социальных сетях в 2025 году. Результаты исследования показывают, что текстовые и визуальные нейросети остаются в центре внимания пользователей, при этом ChatGPT сохраняет лидерство, а DeepSeek стремительно набирает популярность.\n",
      "https://vc.ru/social/1820639-samye-upominaemye-neiroseti-v-2025-godu\n",
      "2025-02-18 20:33:35\n",
      "\n",
      "23. Николай Вертий - 18.02.2025 в 19:21\n",
      "Ушёл из найма в 32 года. Жена (в декрете), 2 детей, кредиты, накоплений 0 руб. Пост-знакомство.\n",
      "Привет привет, меня зовут Николай Вертий, сейчас я предприниматель и владелец маркетингового агентства 360-DIGITAL, совсем недавно я работал на заводе в Липецке и история не про успешный успех, не про то как я был никем и стал мульти-мульёнером, не будет фото с геликом и квартирой в москоу-сити, есть реальная история...(многа букф)...\n",
      "https://vc.ru/life/1816026-ushel-iz-naima-v-32-goda-zhena-v-dekrete-2-detei-kredity-nakoplenii-0-rub-post-znakomstvo\n",
      "2025-02-18 20:33:37\n",
      "\n",
      "24. krasnielapki - 18.02.2025 в 19:21\n",
      "Как правильно настроить и запустить рекламу на Яндекс Картах\n",
      "«Пока вы заняты делами, Рекламная подписка будет продвигать ваш бизнес». Согласитесь, такое предложение от Яндекса звучит заманчиво. Инструмент, который позиционирует себя «запустил, как-то настроил и работает» — просто магнит для предпринимателей, у которых и так забот хватает. Но практика нашей многолетней работы показывает: эффективность такого…\n",
      "https://vc.ru/u/309079-krasnielapki/1815846-kak-pravilno-nastroit-i-zapustit-reklamu-na-yandeks-kartah\n",
      "2025-02-18 20:33:38\n",
      "\n",
      "2\n",
      "25. Артем Колисниченко - 18.02.2025 в 20:27\n",
      "Повышаем повторные продажи: 5 способов удержать клиента\n",
      "Многие компании упускают возможность повторных продаж. Менеджеры забывают перезвонить, заявки теряются, а списки клиентов хранятся в хаотичном виде. В итоге теплый клиент уходит к конкурентам, а бизнес теряет доход. В статье расскажем, как упорядочить процессы, чтобы клиенты возвращались после первой покупки.\n",
      "https://vc.ru/u/4179928-artem-kolisnichenko/1820753-povyshaem-povtornye-prodazhi-5-sposobov-uderzhat-klienta\n",
      "2025-02-18 20:34:01\n",
      "\n",
      "26. Вова Козырев - 18.02.2025 в 20:20\n",
      "Как снизить стоимость привлечения соискателя в 3 раза: кейс клиента HR-tech компания.\n",
      "Рассказываю, как помогаю компании по аутсорсингу персонала в 55 городах РФ, навести порядок в маркетинге и увеличить поток квал.лидов.\n",
      "https://vc.ru/marketing/1820643-kak-snizit-stoimost-privlecheniya-soiskatelya-v-3-raza-keis-klienta-hr-tech-kompaniya\n",
      "2025-02-18 20:34:02\n",
      "\n",
      "27. Мышление предпринимателя - 18.02.2025 в 20:20\n",
      "«Я так много работаю, я устала, у меня нет сил» до\n",
      "Эксперимент. Хотите прямо сейчас найдем несколько свободных часов в день? Я даже не буду предлагать бизнес инструменты, хотя они есть у меня.\n",
      "https://vc.ru/hr/1820732-ya-tak-mnogo-rabotayu-ya-ustala-u-menya-net-sil-do\n",
      "2025-02-18 20:34:04\n",
      "\n",
      "28. Censored Pro - 18.02.2025 в 20:19\n",
      "Сравниваем модерацию отзывов на Яндекс Картах и 2GIS: где бороться с фейками проще?\n",
      "Если у вас есть бизнес, вы, скорее всего, уже сталкивались с ситуацией, когда на вашу компанию начинают массово писать негативные отзывы. Возможно, это действия конкурентов или просто чей-то злой умысел, но факт остается фактом: бороться с такими отзывами бывает непросто. Особенно если площадки не спешат их удалять. Давайте разберемся, как работают…\n",
      "https://vc.ru/marketing/1820726-sravnivaem-moderaciyu-otzyvov-na-yandeks-kartah-i-2gis-gde-borotsya-s-feikami-proshe\n",
      "2025-02-18 20:34:06\n",
      "\n",
      "29. UP business / PRslon - 18.02.2025 в 20:12\n",
      "Подарок защитнику как ежегодный квест\n",
      "Приближается день праздника всех мужчин - отличный повод порадовать близких. Но что делать, если свежие идеи на тему «что подарить папе/брату/мужу/парню на 23 февраля» у вас давно закончились, а выбор подарка превратился в лотерею под лозунгом «надеюсь, хоть это ему понравится»?\n",
      "https://vc.ru/life/1819795-podarok-zashitniku-kak-ezhegodnyi-kvest\n",
      "2025-02-18 20:34:07\n",
      "\n",
      "30. Антон Галушко - 18.02.2025 в 20:06\n",
      "Кейс: как логистическая компания увеличила выручку в 3,4 раза, систематизировав бизнес\n",
      "Absent\n",
      "https://vc.ru/growth/1820686-keis-kak-logisticheskaya-kompaniya-uvelichila-vyruchku-v-34-raza-sistematizirovav-biznes\n",
      "2025-02-18 20:34:09\n",
      "\n",
      "31. Colife - 18.02.2025 в 20:03\n",
      "Скандинавский стиль в интерьере: 5 лучших приемов от дизайнеров Colife, которые можно использовать в своей квартире\n",
      "Absent\n",
      "https://vc.ru/design/1820715-skandinavskii-stil-v-interere-5-luchshih-priemov-ot-dizainerov-colife-kotorye-mozhno-ispolzovat-v-svoei-kvartire\n",
      "2025-02-18 20:34:10\n",
      "\n",
      "32. Крис Истина - 18.02.2025 в 19:58\n",
      "🔬 Медитация под микроскопом: что доказала наука и как это изменит вашу жизнь?\n",
      "Добрый день! Меня зовут Крис Истина – сертифицированный тичер mindfulness медитации и практик осознанности: веду сессии с клиентами онлайн, практики оффлайн и корпоративные сессии.\n",
      "https://vc.ru/u/4567273-kris-istina/1820614-meditaciya-pod-mikroskopom-chto-dokazala-nauka-i-kak-eto-izmenit-vashu-zhizn\n",
      "2025-02-18 20:34:12\n",
      "\n",
      "33. Kirohu - 18.02.2025 в 19:50\n",
      "Модель машинного обучения для оценки концентрации внимания: подходы и перспектив\n",
      "Привет мир сегодня я бы хотел расказать о своем проекте для определоение вашей концентраци и улушение его с помошю LLM модели.\n",
      "https://vc.ru/dev/1820698-model-mashinnogo-obucheniya-dlya-ocenki-koncentracii-vnimaniya-podhody-i-perspektiv\n",
      "2025-02-18 20:34:13\n",
      "\n",
      "34. Онлайн Патент - 18.02.2025 в 19:44\n",
      "Мир в течение 100 дней — а вы поставляете импортозамещающие детали. Что случится и как минимизировать риски?\n",
      "Вероятность отмены (частичной или полной) введенных санкций в последнее время возросла. Это может потенциально привести к тому, что на российский рынок вернутся некоторые зарубежные фирмы.\n",
      "https://vc.ru/offline/1820692-mir-v-techenie-100-dnei-a-vy-postavlyaete-importozameshayushie-detali-chto-sluchitsya-i-kak-minimizirovat-riski\n",
      "2025-02-18 20:34:14\n",
      "\n",
      "35. Виталий Ермолаев - 18.02.2025 в 19:42\n",
      "Инвайтинг (приглашение пользователей в группы или каналы) — это один из эффективных способов продвижения криптопроектов в Telegram.\n",
      "Вот основные преимущества этого метода:\n",
      "https://vc.ru/u/725438-vitalii-ermolaev/1820680-invaiting-priglashenie-polzovatelei-v-gruppy-ili-kanaly-eto-odin-iz-effektivnyh-sposobov-prodvizheniya-kriptoproektov-v-telegram\n",
      "2025-02-18 20:34:16\n",
      "\n",
      "36. Наталия Котлова - 18.02.2025 в 19:38\n",
      "Я личность! Я уникален… только вот, в чем?\n",
      "Ты когда-нибудь задумывался, почему в детстве это ощущение было таким ярким? Почему ты был уверен, что можешь покорить мир? А потом вдруг оказалось, что все эти «быть собой» и «найти своё предназначение» на деле превращаются в бесконечный цикл сомнений и попыток понять, что же ты можешь делать лучше других?\n",
      "https://vc.ru/u/1029536-nataliya-kotlova/1820612-ya-lichnost-ya-unikalen-tolko-vot-v-chem\n",
      "2025-02-18 20:34:18\n",
      "\n",
      "37. Алексей Комиссаров - 18.02.2025 в 19:36\n",
      "Ближайшее будущее магазинов: почему привычный шопинг скоро исчезнет\n",
      "Absent\n",
      "https://vc.ru/future/1820477-blizhaishee-budushee-magazinov-pochemu-privychnyi-shoping-skoro-ischeznet\n",
      "2025-02-18 20:34:19\n",
      "\n",
      "38. Руслан Рекламщик - 18.02.2025 в 19:36\n",
      "Идея для оптимизация РК в Директе: как выжать максимум из бюджета\n",
      "Запуск рекламной кампании (РК) в Яндекс.Директе — это только половина дела. Если просто запустить рекламу и ждать результатов, можно быстро слить бюджет в трубу. Настоящая магия происходит на этапе оптимизации. Разбираем пошагово, как грамотно перераспределять ставки и улучшать результаты.\n",
      "https://vc.ru/marketing/1820669-ideya-dlya-optimizaciya-rk-v-direkte-kak-vyzhat-maksimum-iz-byudzheta\n",
      "2025-02-18 20:34:21\n",
      "\n"
     ]
    },
    {
     "ename": "KeyboardInterrupt",
     "evalue": "",
     "output_type": "error",
     "traceback": [
      "\u001b[1;31m---------------------------------------------------------------------------\u001b[0m",
      "\u001b[1;31mKeyboardInterrupt\u001b[0m                         Traceback (most recent call last)",
      "Cell \u001b[1;32mIn[32], line 36\u001b[0m\n\u001b[0;32m     33\u001b[0m link \u001b[38;5;241m=\u001b[39m host \u001b[38;5;241m+\u001b[39m art\u001b[38;5;241m.\u001b[39mfind(\u001b[38;5;124m'\u001b[39m\u001b[38;5;124ma\u001b[39m\u001b[38;5;124m'\u001b[39m, class_ \u001b[38;5;241m=\u001b[39m \u001b[38;5;124m'\u001b[39m\u001b[38;5;124mnoshrink\u001b[39m\u001b[38;5;124m'\u001b[39m)[\u001b[38;5;124m'\u001b[39m\u001b[38;5;124mhref\u001b[39m\u001b[38;5;124m'\u001b[39m]\n\u001b[0;32m     34\u001b[0m date_time \u001b[38;5;241m=\u001b[39m datetime\u001b[38;5;241m.\u001b[39mnow()\u001b[38;5;241m.\u001b[39mstrftime(\u001b[38;5;124m'\u001b[39m\u001b[38;5;124m%\u001b[39m\u001b[38;5;124mY-\u001b[39m\u001b[38;5;124m%\u001b[39m\u001b[38;5;124mm-\u001b[39m\u001b[38;5;132;01m%d\u001b[39;00m\u001b[38;5;124m \u001b[39m\u001b[38;5;124m%\u001b[39m\u001b[38;5;124mH:\u001b[39m\u001b[38;5;124m%\u001b[39m\u001b[38;5;124mM:\u001b[39m\u001b[38;5;124m%\u001b[39m\u001b[38;5;124mS\u001b[39m\u001b[38;5;124m'\u001b[39m)\n\u001b[1;32m---> 36\u001b[0m sleep(random\u001b[38;5;241m.\u001b[39mrandrange(\u001b[38;5;241m1\u001b[39m, \u001b[38;5;241m3\u001b[39m)) \u001b[38;5;66;03m# Для симуляции работы реального пользователя, а не робота\u001b[39;00m\n\u001b[0;32m     37\u001b[0m \u001b[38;5;28mprint\u001b[39m(\u001b[38;5;124mf\u001b[39m\u001b[38;5;124m'\u001b[39m\u001b[38;5;132;01m{\u001b[39;00mcount\u001b[38;5;132;01m}\u001b[39;00m\u001b[38;5;124m. \u001b[39m\u001b[38;5;132;01m{\u001b[39;00mauthor\u001b[38;5;132;01m}\u001b[39;00m\u001b[38;5;124m - \u001b[39m\u001b[38;5;132;01m{\u001b[39;00mdate\u001b[38;5;132;01m}\u001b[39;00m\u001b[38;5;130;01m\\n\u001b[39;00m\u001b[38;5;132;01m{\u001b[39;00mtitle\u001b[38;5;132;01m}\u001b[39;00m\u001b[38;5;130;01m\\n\u001b[39;00m\u001b[38;5;132;01m{\u001b[39;00mshorts\u001b[38;5;132;01m}\u001b[39;00m\u001b[38;5;130;01m\\n\u001b[39;00m\u001b[38;5;132;01m{\u001b[39;00mlink\u001b[38;5;132;01m}\u001b[39;00m\u001b[38;5;130;01m\\n\u001b[39;00m\u001b[38;5;132;01m{\u001b[39;00mdate_time\u001b[38;5;132;01m}\u001b[39;00m\u001b[38;5;130;01m\\n\u001b[39;00m\u001b[38;5;124m'\u001b[39m)\n\u001b[0;32m     38\u001b[0m count \u001b[38;5;241m+\u001b[39m\u001b[38;5;241m=\u001b[39m\u001b[38;5;241m1\u001b[39m\n",
      "\u001b[1;31mKeyboardInterrupt\u001b[0m: "
     ]
    }
   ],
   "source": [
    "from selenium import webdriver\n",
    "\n",
    "from time import sleep\n",
    "from selenium.webdriver import Chrome\n",
    "from webdriver_manager.chrome import ChromeDriverManager\n",
    "from selenium.webdriver.chrome.service import Service\n",
    "from bs4 import BeautifulSoup\n",
    "# driver = webdriver.Chrome(service=ChromeService(ChromeDriverManager(cache_valid_range=10).install()))\n",
    "\n",
    "driver = webdriver.Chrome() # или webdriver.Firefox()\n",
    "url = 'https://vc.ru/new'\n",
    "\n",
    "\n",
    "count = 1\n",
    "page=1\n",
    "\n",
    "while page < 3:\n",
    "    print(page)\n",
    "    driver.get(url)\n",
    "    driver.execute_script('window.scrollTo(0, document.body.scrollHeight);')\n",
    "    time.sleep(5)\n",
    "    \n",
    "    src = driver.page_source\n",
    "    soup = BeautifulSoup(src, 'lxml')\n",
    "    articles = soup.find('div', class_='content-list')\n",
    "    divs = articles.find_all('div', class_='content--short')\n",
    "    \n",
    "    for art in divs:\n",
    "        author = art.find('a', class_='author__name').text.strip()\n",
    "        date = art.find('div', class_ = 'content-header-details__inner').find('time')['title']\n",
    "        title = art.find('div', class_='content-title').text.strip() if art.find('div', class_='content-title') else 'Absent'\n",
    "        shorts = art.find('div', class_='block-text').text.strip() if art.find('div', class_='block-text') else 'Absent'\n",
    "        link = host + art.find('a', class_ = 'noshrink')['href']\n",
    "        date_time = datetime.now().strftime('%Y-%m-%d %H:%M:%S')\n",
    "        \n",
    "        sleep(random.randrange(1, 3)) # Для симуляции работы реального пользователя, а не робота\n",
    "        print(f'{count}. {author} - {date}\\n{title}\\n{shorts}\\n{link}\\n{date_time}\\n')\n",
    "        count +=1\n",
    "\n",
    "    page +=1"
   ]
  },
  {
   "cell_type": "code",
   "execution_count": 31,
   "id": "b33cde54-0e5d-4966-b3a3-d0fd25037d54",
   "metadata": {},
   "outputs": [
    {
     "name": "stdout",
     "output_type": "stream",
     "text": [
      "1\n",
      "1, 2, 3, 4, 5, 6, 7, 8, 9, 10, 11, 12, \n",
      "2\n",
      "13, 14, 15, 16, 17, 18, 19, 20, 21, 22, 23, 24, \n"
     ]
    }
   ],
   "source": [
    "count = 1\n",
    "page=1\n",
    "\n",
    "while page < 3:\n",
    "    print(page)\n",
    "    for i in range(1,13):\n",
    "        print(count, end=', ')\n",
    "        count +=1\n",
    "    print()\n",
    "    page+=1"
   ]
  },
  {
   "cell_type": "code",
   "execution_count": null,
   "id": "ba638118-5b57-44e4-a214-a8f3e62065f3",
   "metadata": {},
   "outputs": [],
   "source": []
  },
  {
   "cell_type": "code",
   "execution_count": null,
   "id": "abbe7a13-f6a5-4805-947a-2bcdfd787516",
   "metadata": {},
   "outputs": [],
   "source": []
  },
  {
   "cell_type": "markdown",
   "id": "578c57a5-c717-43f3-94a1-ae6a7c059a9c",
   "metadata": {},
   "source": [
    "# FORUM"
   ]
  },
  {
   "cell_type": "code",
   "execution_count": null,
   "id": "38275113-1c8c-4058-bc3f-8af86906a163",
   "metadata": {},
   "outputs": [],
   "source": [
    "# Если нужно прокрутить к целевому элементу, можно воспользоваться методом .move_to_element() из ActionChains, пример:\n",
    "\n",
    "from selenium import webdriver\n",
    "from selenium.webdriver.common.action_chains import ActionChains\n",
    "\n",
    "driver = webdriver.Chrome()\n",
    "driver.get('http://www.w3schools.com/')\n",
    "target = driver.find_element_by_link_text('BROWSE TEMPLATES')\n",
    "actions = ActionChains(driver)\n",
    "actions.move_to_element(target)\n",
    "actions.perform()"
   ]
  },
  {
   "cell_type": "code",
   "execution_count": null,
   "id": "6173a6f6-45f4-4fe4-a14e-1a3f4afb70ad",
   "metadata": {},
   "outputs": [],
   "source": [
    "# Для прокрутки в конец (начало) страницы через .send_keys():\n",
    "\n",
    "from selenium import webdriver\n",
    "from selenium.webdriver.common.keys import Keys \n",
    "\n",
    "driver = webdriver.Chrome()\n",
    "driver.get('http://www.w3schools.com/')\n",
    "driver.find_element_by_tag_name('body').send_keys(Keys.END)\n",
    "\n",
    "# send_keys(Keys.HOME), если в начало\n",
    "# так тоже сработает:\n",
    "# send_keys(Keys.DOWN) send_keys(Keys.PAGE_DOWN)\n",
    "# send_keys(Keys.UP) send_keys(Keys.PAGE_UP)"
   ]
  },
  {
   "cell_type": "code",
   "execution_count": null,
   "id": "36e9fda4-dee9-4d45-8dd5-cc2ecf254f6b",
   "metadata": {},
   "outputs": [],
   "source": [
    "# Для прокрутки на заданное количество пикселей метод окна .scrollBy():\n",
    "\n",
    "scroll_vаlue = -200\n",
    "scroll_by = f'window.scrollBy(0, {scroll_vаlue});'\n",
    "driver.execute_script(scroll_by)"
   ]
  },
  {
   "cell_type": "code",
   "execution_count": null,
   "id": "ac362e45",
   "metadata": {},
   "outputs": [],
   "source": [
    "# Второй вариант цикл скроллинга\n",
    "\n",
    "from selenium.webdriver.common.keys import Keys\n",
    "\n",
    "while True:\n",
    "    # прокручиваем страницу до конца\n",
    "    driver.execute_script(\"window.scrollTo(0, document.body.scrollHeight);\")\n",
    "    time.sleep(5)\n",
    "    # проверяем, появились ли новые товары\n",
    "    if driver.find_elements(By.CLASS_NAME, \"tovar\"):\n",
    "        with open(\"C:/Users/SERGEY/PycharmProjects/ТEST/Test1\", \"w\", encoding=\"utf=8\") as file:\n",
    "            file.write(driver.page_source)\n",
    "    else:\n",
    "        break"
   ]
  }
 ],
 "metadata": {
  "kernelspec": {
   "display_name": "Python 3 (ipykernel)",
   "language": "python",
   "name": "python3"
  },
  "language_info": {
   "codemirror_mode": {
    "name": "ipython",
    "version": 3
   },
   "file_extension": ".py",
   "mimetype": "text/x-python",
   "name": "python",
   "nbconvert_exporter": "python",
   "pygments_lexer": "ipython3",
   "version": "3.12.7"
  }
 },
 "nbformat": 4,
 "nbformat_minor": 5
}
