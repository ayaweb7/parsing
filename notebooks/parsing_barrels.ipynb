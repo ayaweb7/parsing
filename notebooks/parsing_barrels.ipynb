{
 "cells": [
  {
   "cell_type": "markdown",
   "metadata": {},
   "source": [
    "# Parsing sites about barrel baths"
   ]
  },
  {
   "cell_type": "code",
   "execution_count": null,
   "metadata": {},
   "outputs": [],
   "source": [
    "# Чтобы узнать какие библиотеки используются в текущем проекте: Terminal --> \"pip freeze\"\n",
    "# Чтобы создать список библиотек проекта: Terminal --> \"pip freeze > requirements.txt\"\n",
    "# Чтобы установить одной командой все библиотеки необходимые для работы проекта на другую машину:\n",
    "# Terminal --> \"pip install -r requirements.txt\"\n",
    "\n",
    "# Установка библиотек в ВИРТУАЛЬНОЕ ОКРУЖЕНИЕ через терминал !!!!\n",
    "# pip install requests\n",
    "# pip install beautifulsoup4\n",
    "# pip install lxml\n",
    "# pip install img2pdf\n",
    "# pip install pandas\n",
    "# pip install pandas-compat\n",
    "# pip install gspread\n",
    "# pip install openpyxl Работа с файлами XLSX\n",
    "# pip install seaborn\n",
    "# pip install matplotlib\n",
    "# pip install selenium\n",
    "# pip install MechanicalSoup"
   ]
  },
  {
   "cell_type": "code",
   "execution_count": 3,
   "metadata": {},
   "outputs": [],
   "source": [
    "# import xlsxwriter"
   ]
  },
  {
   "cell_type": "code",
   "execution_count": null,
   "metadata": {},
   "outputs": [],
   "source": [
    "# Информация о библиотеке (через Jupyter Notebook):\n",
    "# Чтобы просмотреть подробную информацию о pandas и её зависимостях, примените следующую команду:\n",
    "# import pandas as pd\n",
    "# pd.show_versions()\n",
    "\n",
    "# Менеджеры пакетов, такие как pip, также позволяют узнать версию библиотеки (через Terminal):\n",
    "# pip show requests"
   ]
  },
  {
   "cell_type": "code",
   "execution_count": 15,
   "metadata": {},
   "outputs": [],
   "source": [
    "# Подключаем библиотеку для поиска элементов кода на сайте !!!!!!!!!!!!!\n",
    "# Библиотека PYTHON для извлечения данных из файлов HTML и XML\n",
    "from bs4 import BeautifulSoup\n",
    "\n",
    "# Подключаем библиотеки для парсинга сайтов !!!!!!!!!!!!!\n",
    "import requests\n",
    "import json\n",
    "import csv\n",
    "import random\n",
    "from time import sleep\n",
    "import openpyxl # Работа с файлами XLSX\n",
    "import lxml"
   ]
  },
  {
   "cell_type": "markdown",
   "metadata": {},
   "source": [
    "### Путь к папкам и файлам с данными - Path to folders and files with data\n",
    "\n",
    "#### ВНЕШНИЕ (скачанные) данные: ../data/external/(csv, html, json, xls)/file_name.*\n",
    "#### ВРЕМЕННЫЕ данные: ../data/interim/(csv, html, json, xls)/file_name.*\n",
    "#### ФИНАЛЬНЫЕ данные: ../data/processed/(csv, html, json, xls)/file_name.*"
   ]
  },
  {
   "cell_type": "code",
   "execution_count": null,
   "metadata": {},
   "outputs": [],
   "source": []
  },
  {
   "cell_type": "markdown",
   "metadata": {},
   "source": [
    "# № 1 - SPEKTR - Парсинг сайта https://novie-bani.ru/"
   ]
  },
  {
   "cell_type": "markdown",
   "metadata": {},
   "source": [
    "##### https://novie-bani.ru/"
   ]
  },
  {
   "cell_type": "markdown",
   "metadata": {},
   "source": [
    "### Сайт свёрстан на Тильде - парсинг для меня пока недоступен"
   ]
  },
  {
   "cell_type": "markdown",
   "metadata": {},
   "source": [
    "### Константы для проекта"
   ]
  },
  {
   "cell_type": "code",
   "execution_count": 74,
   "metadata": {},
   "outputs": [],
   "source": [
    "# Создаём переменные-КОНСТАНТЫ\n",
    "# PAGE = 1\n",
    "HOST = 'https://novie-bani.ru/'\n",
    "URL = 'https://novie-bani.ru/tproduct/625052929-735502603081-banya-bochka-2-metra'\n",
    "HEADERS = {\n",
    "    'accept': 'text/html,application/xhtml+xml,application/xml;q=0.9,image/avif,image/webp,image/apng,*/*;q=0.8,application/signed-exchange;v=b3;q=0.9',\n",
    "    'user-agent': 'Mozilla/5.0 (Windows NT 10.0; Win64; x64) AppleWebKit/537.36 (KHTML, like Gecko) Chrome/131.0.0.0 Safari/537.36'\n",
    "}"
   ]
  },
  {
   "cell_type": "code",
   "execution_count": null,
   "metadata": {},
   "outputs": [],
   "source": [
    "# js-product t-store__card t-store__stretch-col t-store__stretch-col_33 t-align_left t-item\n",
    "# js-product t-store__card t-store__stretch-col t-store__stretch-col_33 t-align_left t-item\n",
    "\n",
    "# js-store-prod-name js-product-name t-store__card__title t-typography__title t-name t-name_md\n",
    "# js-store-prod-name js-product-name t-store__card__title t-typography__title t-name t-name_md\n",
    "\n",
    "# t-store__card__textwrapper"
   ]
  },
  {
   "cell_type": "code",
   "execution_count": 9,
   "metadata": {},
   "outputs": [],
   "source": [
    "# Отправляем запрос на страницу, передаём в качестве GET-параметра URL-адрес\n",
    "# Сохраним нашу страницу в файл И ЗАКОММЕНТИРУЕМ ЭТУ КОМАНДУ за ненадобностью\n",
    "\n",
    "res = requests.get(url=URL, headers=HEADERS)\n",
    "src = res.text\n",
    "with open('../data/interim/html/index_novieBani.html.html', 'w', encoding='utf-8') as file:\n",
    "    file.write(src)"
   ]
  },
  {
   "cell_type": "code",
   "execution_count": 10,
   "metadata": {},
   "outputs": [],
   "source": [
    "# Теперь откроем наш файл, прочитаем и сохраним код страницы в переменную:\n",
    "with open('../data/interim/html/index_novieBani.html', encoding='utf-8') as file:\n",
    "    src = file.read()\n",
    "# print(src)"
   ]
  },
  {
   "cell_type": "code",
   "execution_count": 28,
   "metadata": {},
   "outputs": [],
   "source": [
    "# Создаём объект Супа с параметрами \n",
    "soup = BeautifulSoup(src, 'lxml')"
   ]
  },
  {
   "cell_type": "markdown",
   "metadata": {},
   "source": [
    "### Находим информацию по одной карточке товара"
   ]
  },
  {
   "cell_type": "code",
   "execution_count": 75,
   "metadata": {},
   "outputs": [],
   "source": [
    "res1 = requests.get(url=URL, headers=HEADERS)\n",
    "soup1 = BeautifulSoup(res1.text, 'lxml')"
   ]
  },
  {
   "cell_type": "code",
   "execution_count": 91,
   "metadata": {},
   "outputs": [],
   "source": [
    "# \n",
    "# Определяем общий блок со всей информацией\n",
    "h1 = soup1.find('h1')"
   ]
  },
  {
   "cell_type": "code",
   "execution_count": 92,
   "metadata": {},
   "outputs": [
    {
     "name": "stdout",
     "output_type": "stream",
     "text": [
      "<h1 class=\"js-store-prod-name js-product-name t-store__prod-popup__name t-name t-name_xl\" itemprop=\"name\" style=\"color:#4a4947;font-size:18px;line-height:1.3;font-weight:400;font-family:TildaSans;\">Баня бочка 2 метра</h1>\n"
     ]
    }
   ],
   "source": [
    "# js-store-prod-name js-product-name t-store__prod-popup__name t-name t-name_xl\n",
    "print(h1)"
   ]
  },
  {
   "cell_type": "code",
   "execution_count": 95,
   "metadata": {},
   "outputs": [],
   "source": [
    "link = soup.find_all('a')"
   ]
  },
  {
   "cell_type": "code",
   "execution_count": 97,
   "metadata": {},
   "outputs": [],
   "source": [
    "# \n",
    "# print(link)"
   ]
  },
  {
   "cell_type": "code",
   "execution_count": 2,
   "metadata": {},
   "outputs": [],
   "source": [
    "# t-store js-store t-store__prod-snippet__container\n",
    "# block1 = soup1.find('div', class_='t-store__prod-snippet__container')\n",
    "# print(block1)"
   ]
  },
  {
   "cell_type": "code",
   "execution_count": 107,
   "metadata": {},
   "outputs": [
    {
     "name": "stdout",
     "output_type": "stream",
     "text": [
      "<div class=\"js-store-grid-cont t-store__grid-cont t-store__grid-cont_col-width_stretch t-container t-store__grid-cont_mobile-grid\" data-col-gap=\"10\"></div>\n"
     ]
    }
   ],
   "source": [
    "# t-store js-store t-store__prod-snippet__container js-product\n",
    "block = soup.find('div', class_='js-store-grid-cont t-store__grid-cont t-store__grid-cont_col-width_stretch t-container t-store__grid-cont_mobile-grid')\n",
    "print(block)"
   ]
  },
  {
   "cell_type": "code",
   "execution_count": null,
   "metadata": {},
   "outputs": [],
   "source": [
    "# \n"
   ]
  },
  {
   "cell_type": "code",
   "execution_count": null,
   "metadata": {},
   "outputs": [],
   "source": []
  },
  {
   "cell_type": "markdown",
   "metadata": {},
   "source": [
    "# № 2 - Парсим полезные статьи и что нужно знать о банях-бочках."
   ]
  },
  {
   "cell_type": "code",
   "execution_count": 14,
   "metadata": {},
   "outputs": [],
   "source": [
    "# Подключаем библиотеку для поиска элементов кода на сайте !!!!!!!!!!!!!\n",
    "# Библиотека PYTHON для извлечения данных из файлов HTML и XML\n",
    "from bs4 import BeautifulSoup\n",
    "\n",
    "# Подключаем библиотеки для парсинга сайтов !!!!!!!!!!!!!\n",
    "import requests\n",
    "import json\n",
    "import csv\n",
    "import random\n",
    "from time import sleep\n",
    "import openpyxl # Работа с файлами XLSX\n",
    "import lxml\n",
    "import os\n",
    "\n",
    "# Для взаимодействия Python с Google-таблицей\n",
    "import gspread"
   ]
  },
  {
   "cell_type": "code",
   "execution_count": 83,
   "metadata": {},
   "outputs": [],
   "source": [
    "# !pip install gspread"
   ]
  },
  {
   "cell_type": "code",
   "execution_count": 1,
   "metadata": {},
   "outputs": [],
   "source": [
    "import gspread"
   ]
  },
  {
   "cell_type": "code",
   "execution_count": 24,
   "metadata": {},
   "outputs": [],
   "source": [
    "# Импортируем нужные нам библиотеки.\n",
    "import pandas as pd\n",
    "from io import StringIO\n",
    "\n",
    "import numpy as np\n",
    "import random\n",
    "\n",
    "# Использование объекта datetime :\n",
    "from datetime import datetime\n",
    "\n",
    "import time"
   ]
  },
  {
   "cell_type": "markdown",
   "metadata": {},
   "source": [
    "##### https://chelyabinsk.bani.ru.com"
   ]
  },
  {
   "cell_type": "markdown",
   "metadata": {},
   "source": [
    "### Константы для проекта"
   ]
  },
  {
   "cell_type": "code",
   "execution_count": 5,
   "metadata": {},
   "outputs": [],
   "source": [
    "# Создаём переменные-КОНСТАНТЫ\n",
    "# 1. Адрес основного хоста\n",
    "HOST = 'https://chelyabinsk.bani.ru.com'\n",
    "# https://chelyabinsk.bani.ru.com/poleznye-statiy/pravila-ekspluatacii-bani-bochki-kak-prodlit-srok-sluzhby/\n",
    "\n",
    "# 2. Адрес страницы для парсинга\n",
    "URL = 'https://chelyabinsk.bani.ru.com/poleznye-statiy/'\n",
    "\n",
    "# 3. Создаём словарь заголовков\n",
    "# Это нужно для некоторых сайтов (но не для всех - для этого необязательно)\n",
    "# чтобы показать сайту, что ВЫ НЕ БОТ, а обычный пользователь\n",
    "HEADERS = {\n",
    "    'accept': 'text/html,application/xhtml+xml,application/xml;q=0.9,image/avif,image/webp,image/apng,*/*;q=0.8,application/signed-exchange;v=b3;q=0.9',\n",
    "    'user-agent': 'Mozilla/5.0 (Windows NT 10.0; Win64; x64) AppleWebKit/537.36 (KHTML, like Gecko) Chrome/109.0.0.0 Safari/537.36'\n",
    "}"
   ]
  },
  {
   "cell_type": "code",
   "execution_count": 2,
   "metadata": {},
   "outputs": [],
   "source": [
    "# Отправляем запрос на страницу, передаём в качестве GET-параметра URL-адрес\n",
    "# Сохраним нашу страницу в файл И ЗАКОММЕНТИРУЕМ ЭТУ КОМАНДУ за ненадобностью\n",
    "\n",
    "# r = requests.get(url=URL, headers=HEADERS)\n",
    "# src = r.text\n",
    "# with open(\"index_clb.html\", \"w\", encoding=\"utf-8\") as file:\n",
    "# with open('../data/interim/html/barrels_articles_clb.html', 'w', encoding='utf-8') as file:\n",
    "#     file.write(src)\n",
    "\n",
    "# Теперь откроем наш файл, прочитаем и сохраним код страницы в переменную:\n",
    "with open('../data/interim/html/barrels_articles_clb.html', encoding='utf-8') as file:\n",
    "    src = file.read()\n",
    "# print(src)\n",
    "\n",
    "# f'data/{count}_{category_name}.csv'"
   ]
  },
  {
   "cell_type": "code",
   "execution_count": 6,
   "metadata": {
    "collapsed": true,
    "jupyter": {
     "outputs_hidden": true
    }
   },
   "outputs": [
    {
     "name": "stdout",
     "output_type": "stream",
     "text": [
      "[<a href=\"https://chelyabinsk.bani.ru.com/poleznye-statiy/kak-sdelat-fundament-dlya-bani-bochki/\">Как сделать фундамент для бани-бочки?</a>, <a href=\"https://chelyabinsk.bani.ru.com/poleznye-statiy/pech-v-bane-bochke-varianty-raspolozheniya/\">Печь в бане-бочке: печь с топкой через перегородку или на улицу — плюсы и минусы</a>, <a href=\"https://chelyabinsk.bani.ru.com/poleznye-statiy/pravila-ekspluatacii-bani-bochki-kak-prodlit-srok-sluzhby/\">Правила эксплуатации бань-бочек</a>, <a href=\"https://chelyabinsk.bani.ru.com/poleznye-statiy/chto-nuzhno-znat-pri-pokupke-bani-bochki/\">Что нужно знать при покупке?</a>, <a href=\"https://chelyabinsk.bani.ru.com/poleznye-statiy/ekspluataciya-bani-bochki-zimoj/\">Эксплуатация бани-бочки зимой</a>, <a href=\"https://chelyabinsk.bani.ru.com/poleznye-statiy/pochemu-pokupateli-vybirajut-bani-bochki/\">Почему покупатели выбирают Бани-бочки?</a>, <a href=\"https://chelyabinsk.bani.ru.com/poleznye-statiy/planirovki-i-vnutrennee-ustrojstvo-ban-bochek/\">Планировки и внутреннее устройство бань-бочек</a>, <a href=\"https://chelyabinsk.bani.ru.com/poleznye-statiy/vybor-materiala-pri-proizvodstve-i-otdelke-bani-bochki/\">Выбор материала при производстве и отделке бани-бочки</a>, <a href=\"https://chelyabinsk.bani.ru.com/poleznye-statiy/pochemu-pokupateli-vybirajut-bani-lukomore/\">ТОП-15 причин, почему нужно выбирать бани Лукоморье</a>, <a href=\"https://chelyabinsk.bani.ru.com/poleznye-statiy/populyarnye-dopolneniya-k-bane/\">Популярные дополнения к бане</a>, <a href=\"https://chelyabinsk.bani.ru.com/poleznye-statiy/kak-topit-banju-bochku/\">Как топить баню-бочку?</a>, <a href=\"https://chelyabinsk.bani.ru.com/poleznye-statiy/kak-ustroena-banya-bochka/\">Как устроена баня-бочка?</a>, <a href=\"https://chelyabinsk.bani.ru.com/poleznye-statiy/kak-sdelat-banju-bochku-svoimi-rukami/\">Как сделать баню-бочку своими руками?</a>, <a href=\"https://chelyabinsk.bani.ru.com/poleznye-statiy/banya-bochka-po-finskoj-tehnologii/\">Баня-бочка по финской технологии</a>, <a href=\"https://chelyabinsk.bani.ru.com/poleznye-statiy/vidy-venikov-dlya-bani-i-kak-pravilno-ih-zaparivat/\">Виды веников для бани и как правильно их запаривать?</a>, <a href=\"https://chelyabinsk.bani.ru.com/poleznye-statiy/polezna-li-banya-dlya-zdorovya/\">Полезна ли баня для здоровья?</a>, <a href=\"https://chelyabinsk.bani.ru.com/poleznye-statiy/vneshnij-vid-bani-obrabotka-i-otdelka/\">Внешний вид бани: обработка и отделка</a>, <a href=\"https://chelyabinsk.bani.ru.com/poleznye-statiy/sborka-bani-bochki-na-uchastke/\">Сборка бани бочки на участке</a>, <a href=\"https://chelyabinsk.bani.ru.com/poleznye-statiy/finskaya-i-russkaya-banya-v-chem-raznica/\">Финская и русская баня-бочка: в чем разница</a>, <a href=\"https://chelyabinsk.bani.ru.com/poleznye-statiy/banya-bochka-iz-kedra-ili-eli/\">Баня-бочка из кедра или ели, что лучше?</a>, <a href=\"https://chelyabinsk.bani.ru.com/poleznye-statiy/vidy-krovli-dlya-bani/\">Виды кровли для бани</a>, <a href=\"https://chelyabinsk.bani.ru.com/poleznye-statiy/kakoj-dolzhna-byt-vlazhnost-brusa-pri-stroitelstve-bani/\">Какой должна быть влажность бруса при строительстве бани?</a>, <a href=\"https://chelyabinsk.bani.ru.com/poleznye-statiy/pech-dlya-bani/\">Печь для бани — какую выбрать?</a>, <a href=\"https://chelyabinsk.bani.ru.com/poleznye-statiy/vagonka-dlya-otdelki-bani/\">Вагонка для отделки бани</a>, <a href=\"https://chelyabinsk.bani.ru.com/poleznye-statiy/derevyannye-bani/\">Преимущества деревянной бани</a>, <a href=\"https://chelyabinsk.bani.ru.com/poleznye-statiy/osnovnye-trebovaniya-po-ekspluatacii-ban/\">Основные требования по эксплуатации бань</a>, <a href=\"https://chelyabinsk.bani.ru.com/poleznye-statiy/v-chem-raznica-mezhdu-sroshhennoj-i-obychnoj-drevesinoj/\">В чем разница между срощенной и обычной древесиной</a>, <a href=\"https://chelyabinsk.bani.ru.com/kak-sozdat-legkij-i-priyatnyj-par-v-bane-bochke/\">Секреты создания легкого и приятного пара</a>]\n"
     ]
    }
   ],
   "source": [
    "# Отправляем запрос на страницу, передаём в качестве GET-параметра URL-адрес\n",
    "# r = requests.get(src)\n",
    "    \n",
    "# Создаём объект Супа с параметрами \n",
    "soup = BeautifulSoup(src, 'lxml')\n",
    "\n",
    "# Определяем DIV-ы с нужной инфой (заголовки статей)\n",
    "articles = soup.find('div', class_='desc list').find_all(\"a\")\n",
    "print(articles)"
   ]
  },
  {
   "cell_type": "code",
   "execution_count": null,
   "metadata": {},
   "outputs": [],
   "source": []
  },
  {
   "cell_type": "code",
   "execution_count": null,
   "metadata": {},
   "outputs": [],
   "source": []
  },
  {
   "cell_type": "markdown",
   "metadata": {},
   "source": [
    "### Обработка JSON файла - Сохранение данных в JSON файл"
   ]
  },
  {
   "cell_type": "code",
   "execution_count": 7,
   "metadata": {
    "collapsed": true,
    "jupyter": {
     "outputs_hidden": true
    },
    "scrolled": true
   },
   "outputs": [
    {
     "name": "stdout",
     "output_type": "stream",
     "text": [
      "[{0, 'Как сделать фундамент для бани-бочки?', 'https://chelyabinsk.bani.ru.com/poleznye-statiy/kak-sdelat-fundament-dlya-bani-bochki/'}, {1, 'Печь в бане-бочке: печь с топкой через перегородку или на улицу — плюсы и минусы', 'https://chelyabinsk.bani.ru.com/poleznye-statiy/pech-v-bane-bochke-varianty-raspolozheniya/'}, {'https://chelyabinsk.bani.ru.com/poleznye-statiy/pravila-ekspluatacii-bani-bochki-kak-prodlit-srok-sluzhby/', 2, 'Правила эксплуатации бань-бочек'}, {'Что нужно знать при покупке?', 'https://chelyabinsk.bani.ru.com/poleznye-statiy/chto-nuzhno-znat-pri-pokupke-bani-bochki/', 3}, {'https://chelyabinsk.bani.ru.com/poleznye-statiy/ekspluataciya-bani-bochki-zimoj/', 4, 'Эксплуатация бани-бочки зимой'}, {'https://chelyabinsk.bani.ru.com/poleznye-statiy/pochemu-pokupateli-vybirajut-bani-bochki/', 'Почему покупатели выбирают Бани-бочки?', 5}, {'https://chelyabinsk.bani.ru.com/poleznye-statiy/planirovki-i-vnutrennee-ustrojstvo-ban-bochek/', 6, 'Планировки и внутреннее устройство бань-бочек'}, {'https://chelyabinsk.bani.ru.com/poleznye-statiy/vybor-materiala-pri-proizvodstve-i-otdelke-bani-bochki/', 'Выбор материала при производстве и отделке бани-бочки', 7}, {8, 'https://chelyabinsk.bani.ru.com/poleznye-statiy/pochemu-pokupateli-vybirajut-bani-lukomore/', 'ТОП-15 причин, почему нужно выбирать бани Лукоморье'}, {9, 'https://chelyabinsk.bani.ru.com/poleznye-statiy/populyarnye-dopolneniya-k-bane/', 'Популярные дополнения к бане'}, {'Как топить баню-бочку?', 10, 'https://chelyabinsk.bani.ru.com/poleznye-statiy/kak-topit-banju-bochku/'}, {'https://chelyabinsk.bani.ru.com/poleznye-statiy/kak-ustroena-banya-bochka/', 'Как устроена баня-бочка?', 11}, {'Как сделать баню-бочку своими руками?', 'https://chelyabinsk.bani.ru.com/poleznye-statiy/kak-sdelat-banju-bochku-svoimi-rukami/', 12}, {'https://chelyabinsk.bani.ru.com/poleznye-statiy/banya-bochka-po-finskoj-tehnologii/', 13, 'Баня-бочка по финской технологии'}, {'https://chelyabinsk.bani.ru.com/poleznye-statiy/vidy-venikov-dlya-bani-i-kak-pravilno-ih-zaparivat/', 14, 'Виды веников для бани и как правильно их запаривать?'}, {'https://chelyabinsk.bani.ru.com/poleznye-statiy/polezna-li-banya-dlya-zdorovya/', 'Полезна ли баня для здоровья?', 15}, {16, 'https://chelyabinsk.bani.ru.com/poleznye-statiy/vneshnij-vid-bani-obrabotka-i-otdelka/', 'Внешний вид бани: обработка и отделка'}, {17, 'https://chelyabinsk.bani.ru.com/poleznye-statiy/sborka-bani-bochki-na-uchastke/', 'Сборка бани бочки на участке'}, {'Финская и русская баня-бочка: в чем разница', 18, 'https://chelyabinsk.bani.ru.com/poleznye-statiy/finskaya-i-russkaya-banya-v-chem-raznica/'}, {'Баня-бочка из кедра или ели, что лучше?', 19, 'https://chelyabinsk.bani.ru.com/poleznye-statiy/banya-bochka-iz-kedra-ili-eli/'}, {20, 'Виды кровли для бани', 'https://chelyabinsk.bani.ru.com/poleznye-statiy/vidy-krovli-dlya-bani/'}, {'https://chelyabinsk.bani.ru.com/poleznye-statiy/kakoj-dolzhna-byt-vlazhnost-brusa-pri-stroitelstve-bani/', 21, 'Какой должна быть влажность бруса при строительстве бани?'}, {'Печь для бани — какую выбрать?', 'https://chelyabinsk.bani.ru.com/poleznye-statiy/pech-dlya-bani/', 22}, {'Вагонка для отделки бани', 'https://chelyabinsk.bani.ru.com/poleznye-statiy/vagonka-dlya-otdelki-bani/', 23}, {24, 'https://chelyabinsk.bani.ru.com/poleznye-statiy/derevyannye-bani/', 'Преимущества деревянной бани'}, {25, 'Основные требования по эксплуатации бань', 'https://chelyabinsk.bani.ru.com/poleznye-statiy/osnovnye-trebovaniya-po-ekspluatacii-ban/'}, {26, 'В чем разница между срощенной и обычной древесиной', 'https://chelyabinsk.bani.ru.com/poleznye-statiy/v-chem-raznica-mezhdu-sroshhennoj-i-obychnoj-drevesinoj/'}, {27, 'Секреты создания легкого и приятного пара', 'https://chelyabinsk.bani.ru.com/kak-sozdat-legkij-i-priyatnyj-par-v-bane-bochke/'}]\n"
     ]
    }
   ],
   "source": [
    "# Сохраняем полученные данные в словарь. На каждой итерации цикла будем его заполнять:\n",
    "# в котором ключами будут имена категорий, а значениями - ссылки\n",
    "\n",
    "# Отправляем запрос на страницу, передаём в качестве GET-параметра URL-адрес\n",
    "# r = requests.get(url=URL, headers=HEADERS)\n",
    "    \n",
    "# Создаём объект Супа с параметрами \n",
    "# soup = BeautifulSoup(r.text, 'lxml')\n",
    "    \n",
    "# Определяем DIV-ы с нужной инфой (заголовки статей)\n",
    "# articles = soup.find('div', class_='desc list').find_all(\"a\")\n",
    "\n",
    "articles_list = []\n",
    "articles_list_dict = {}\n",
    "count = 0\n",
    "for item in articles:\n",
    "    title = item.text\n",
    "    link = item.get(\"href\")\n",
    "#     print(f\"{item_text}: {item_href}\")\n",
    "\n",
    "    articles_list_dict['Number'] = count\n",
    "    articles_list_dict['Topic'] = title\n",
    "    articles_list_dict['Link'] = link\n",
    "    \n",
    "    articles_list.append(\n",
    "            {\n",
    "                articles_list_dict['Number'],\n",
    "                articles_list_dict['Topic'],\n",
    "                articles_list_dict['Link']\n",
    "            }\n",
    "        )\n",
    "    count += 1\n",
    "#     articles_list_dict[title] = link\n",
    "    \n",
    "print(articles_list)\n",
    "\n",
    "# ОТЛИЧНО !!!!!"
   ]
  },
  {
   "cell_type": "code",
   "execution_count": 9,
   "metadata": {},
   "outputs": [
    {
     "name": "stdout",
     "output_type": "stream",
     "text": [
      "{'one': 1, 'two': 2, 'three': 3, 'four': 4, 'five': 5}\n"
     ]
    }
   ],
   "source": [
    "# Создание словаря:\n",
    "list_one = [\"one\", \"two\", \"three\", \"four\", \"five\"]\n",
    "list_two = [1, 2, 3, 4, 5]\n",
    " \n",
    "the_dict = dict(zip(list_one, list_two))\n",
    "print(the_dict)"
   ]
  },
  {
   "cell_type": "code",
   "execution_count": 8,
   "metadata": {},
   "outputs": [
    {
     "name": "stdout",
     "output_type": "stream",
     "text": [
      "{0: 'Как сделать фундамент для бани-бочки?', 1: 'Печь в бане-бочке: печь с топкой через перегородку или на улицу — плюсы и минусы', 2: 'Правила эксплуатации бань-бочек', 3: 'Что нужно знать при покупке?', 4: 'Эксплуатация бани-бочки зимой', 5: 'Почему покупатели выбирают Бани-бочки?', 6: 'Планировки и внутреннее устройство бань-бочек', 7: 'Выбор материала при производстве и отделке бани-бочки', 8: 'ТОП-15 причин, почему нужно выбирать бани Лукоморье', 9: 'Популярные дополнения к бане', 10: 'Как топить баню-бочку?', 11: 'Как устроена баня-бочка?', 12: 'Как сделать баню-бочку своими руками?', 13: 'Баня-бочка по финской технологии', 14: 'Виды веников для бани и как правильно их запаривать?', 15: 'Полезна ли баня для здоровья?', 16: 'Внешний вид бани: обработка и отделка', 17: 'Сборка бани бочки на участке', 18: 'Финская и русская баня-бочка: в чем разница', 19: 'Баня-бочка из кедра или ели, что лучше?', 20: 'Виды кровли для бани', 21: 'Какой должна быть влажность бруса при строительстве бани?', 22: 'Печь для бани — какую выбрать?', 23: 'Вагонка для отделки бани', 24: 'Преимущества деревянной бани', 25: 'Основные требования по эксплуатации бань', 26: 'В чем разница между срощенной и обычной древесиной', 27: 'Секреты создания легкого и приятного пара'}\n"
     ]
    }
   ],
   "source": [
    "# Отправляем запрос на страницу, передаём в качестве GET-параметра URL-адрес\n",
    "# r = requests.get(url=URL, headers=HEADERS)\n",
    "    \n",
    "# Создаём объект Супа с параметрами \n",
    "# soup = BeautifulSoup(r.text, 'lxml')\n",
    "    \n",
    "# Определяем DIV-ы с нужной инфой (заголовки статей)\n",
    "# articles = soup.find('div', class_='desc list').find_all(\"a\")\n",
    "\n",
    "numbers_list, topics_list, links_list, articles_list = [], [], [], []\n",
    "articles_list_dict = {}\n",
    "\n",
    "count = 0\n",
    "for item in articles:\n",
    "    title = item.text\n",
    "    link = item.get(\"href\")\n",
    "    \n",
    "    numbers_list.append(count)\n",
    "    topics_list.append(title)\n",
    "    links_list.append(link)\n",
    "    count += 1\n",
    "    \n",
    "articles_list_dict = dict(zip(numbers_list, topics_list))\n",
    "        \n",
    "print(articles_list_dict)"
   ]
  },
  {
   "cell_type": "code",
   "execution_count": 9,
   "metadata": {
    "collapsed": true,
    "jupyter": {
     "outputs_hidden": true
    }
   },
   "outputs": [
    {
     "name": "stdout",
     "output_type": "stream",
     "text": [
      "[{'Number': 1, 'Topic': 'Как сделать фундамент для бани-бочки?', 'Link': 'https://chelyabinsk.bani.ru.com/poleznye-statiy/kak-sdelat-fundament-dlya-bani-bochki/'}, {'Number': 2, 'Topic': 'Печь в бане-бочке: печь с топкой через перегородку или на улицу — плюсы и минусы', 'Link': 'https://chelyabinsk.bani.ru.com/poleznye-statiy/pech-v-bane-bochke-varianty-raspolozheniya/'}, {'Number': 3, 'Topic': 'Правила эксплуатации бань-бочек', 'Link': 'https://chelyabinsk.bani.ru.com/poleznye-statiy/pravila-ekspluatacii-bani-bochki-kak-prodlit-srok-sluzhby/'}, {'Number': 4, 'Topic': 'Что нужно знать при покупке?', 'Link': 'https://chelyabinsk.bani.ru.com/poleznye-statiy/chto-nuzhno-znat-pri-pokupke-bani-bochki/'}, {'Number': 5, 'Topic': 'Эксплуатация бани-бочки зимой', 'Link': 'https://chelyabinsk.bani.ru.com/poleznye-statiy/ekspluataciya-bani-bochki-zimoj/'}, {'Number': 6, 'Topic': 'Почему покупатели выбирают Бани-бочки?', 'Link': 'https://chelyabinsk.bani.ru.com/poleznye-statiy/pochemu-pokupateli-vybirajut-bani-bochki/'}, {'Number': 7, 'Topic': 'Планировки и внутреннее устройство бань-бочек', 'Link': 'https://chelyabinsk.bani.ru.com/poleznye-statiy/planirovki-i-vnutrennee-ustrojstvo-ban-bochek/'}, {'Number': 8, 'Topic': 'Выбор материала при производстве и отделке бани-бочки', 'Link': 'https://chelyabinsk.bani.ru.com/poleznye-statiy/vybor-materiala-pri-proizvodstve-i-otdelke-bani-bochki/'}, {'Number': 9, 'Topic': 'ТОП-15 причин, почему нужно выбирать бани Лукоморье', 'Link': 'https://chelyabinsk.bani.ru.com/poleznye-statiy/pochemu-pokupateli-vybirajut-bani-lukomore/'}, {'Number': 10, 'Topic': 'Популярные дополнения к бане', 'Link': 'https://chelyabinsk.bani.ru.com/poleznye-statiy/populyarnye-dopolneniya-k-bane/'}, {'Number': 11, 'Topic': 'Как топить баню-бочку?', 'Link': 'https://chelyabinsk.bani.ru.com/poleznye-statiy/kak-topit-banju-bochku/'}, {'Number': 12, 'Topic': 'Как устроена баня-бочка?', 'Link': 'https://chelyabinsk.bani.ru.com/poleznye-statiy/kak-ustroena-banya-bochka/'}, {'Number': 13, 'Topic': 'Как сделать баню-бочку своими руками?', 'Link': 'https://chelyabinsk.bani.ru.com/poleznye-statiy/kak-sdelat-banju-bochku-svoimi-rukami/'}, {'Number': 14, 'Topic': 'Баня-бочка по финской технологии', 'Link': 'https://chelyabinsk.bani.ru.com/poleznye-statiy/banya-bochka-po-finskoj-tehnologii/'}, {'Number': 15, 'Topic': 'Виды веников для бани и как правильно их запаривать?', 'Link': 'https://chelyabinsk.bani.ru.com/poleznye-statiy/vidy-venikov-dlya-bani-i-kak-pravilno-ih-zaparivat/'}, {'Number': 16, 'Topic': 'Полезна ли баня для здоровья?', 'Link': 'https://chelyabinsk.bani.ru.com/poleznye-statiy/polezna-li-banya-dlya-zdorovya/'}, {'Number': 17, 'Topic': 'Внешний вид бани: обработка и отделка', 'Link': 'https://chelyabinsk.bani.ru.com/poleznye-statiy/vneshnij-vid-bani-obrabotka-i-otdelka/'}, {'Number': 18, 'Topic': 'Сборка бани бочки на участке', 'Link': 'https://chelyabinsk.bani.ru.com/poleznye-statiy/sborka-bani-bochki-na-uchastke/'}, {'Number': 19, 'Topic': 'Финская и русская баня-бочка: в чем разница', 'Link': 'https://chelyabinsk.bani.ru.com/poleznye-statiy/finskaya-i-russkaya-banya-v-chem-raznica/'}, {'Number': 20, 'Topic': 'Баня-бочка из кедра или ели, что лучше?', 'Link': 'https://chelyabinsk.bani.ru.com/poleznye-statiy/banya-bochka-iz-kedra-ili-eli/'}, {'Number': 21, 'Topic': 'Виды кровли для бани', 'Link': 'https://chelyabinsk.bani.ru.com/poleznye-statiy/vidy-krovli-dlya-bani/'}, {'Number': 22, 'Topic': 'Какой должна быть влажность бруса при строительстве бани?', 'Link': 'https://chelyabinsk.bani.ru.com/poleznye-statiy/kakoj-dolzhna-byt-vlazhnost-brusa-pri-stroitelstve-bani/'}, {'Number': 23, 'Topic': 'Печь для бани — какую выбрать?', 'Link': 'https://chelyabinsk.bani.ru.com/poleznye-statiy/pech-dlya-bani/'}, {'Number': 24, 'Topic': 'Вагонка для отделки бани', 'Link': 'https://chelyabinsk.bani.ru.com/poleznye-statiy/vagonka-dlya-otdelki-bani/'}, {'Number': 25, 'Topic': 'Преимущества деревянной бани', 'Link': 'https://chelyabinsk.bani.ru.com/poleznye-statiy/derevyannye-bani/'}, {'Number': 26, 'Topic': 'Основные требования по эксплуатации бань', 'Link': 'https://chelyabinsk.bani.ru.com/poleznye-statiy/osnovnye-trebovaniya-po-ekspluatacii-ban/'}, {'Number': 27, 'Topic': 'В чем разница между срощенной и обычной древесиной', 'Link': 'https://chelyabinsk.bani.ru.com/poleznye-statiy/v-chem-raznica-mezhdu-sroshhennoj-i-obychnoj-drevesinoj/'}, {'Number': 28, 'Topic': 'Секреты создания легкого и приятного пара', 'Link': 'https://chelyabinsk.bani.ru.com/kak-sozdat-legkij-i-priyatnyj-par-v-bane-bochke/'}]\n"
     ]
    }
   ],
   "source": [
    "# Пройдём в цикле по коду блока\n",
    "articles_list = []\n",
    "count = 1\n",
    "for item in articles:\n",
    "    title = item.text\n",
    "    link = item.get(\"href\")\n",
    "\n",
    "    articles_list.append(\n",
    "        {\n",
    "            \"Number\": count,\n",
    "            \"Topic\": title,\n",
    "            \"Link\": link\n",
    "        }\n",
    "    )\n",
    "    count += 1\n",
    "    \n",
    "print(articles_list)"
   ]
  },
  {
   "cell_type": "code",
   "execution_count": 118,
   "metadata": {
    "collapsed": true,
    "jupyter": {
     "outputs_hidden": true
    }
   },
   "outputs": [
    {
     "data": {
      "text/plain": [
       "[{'Number': 1,\n",
       "  'Topic': 'Как сделать фундамент для бани-бочки?',\n",
       "  'Link': 'https://chelyabinsk.bani.ru.com/poleznye-statiy/kak-sdelat-fundament-dlya-bani-bochki/'},\n",
       " {'Number': 2,\n",
       "  'Topic': 'Печь в бане-бочке: печь с топкой через перегородку или на улицу — плюсы и минусы',\n",
       "  'Link': 'https://chelyabinsk.bani.ru.com/poleznye-statiy/pech-v-bane-bochke-varianty-raspolozheniya/'},\n",
       " {'Number': 3,\n",
       "  'Topic': 'Правила эксплуатации бань-бочек',\n",
       "  'Link': 'https://chelyabinsk.bani.ru.com/poleznye-statiy/pravila-ekspluatacii-bani-bochki-kak-prodlit-srok-sluzhby/'},\n",
       " {'Number': 4,\n",
       "  'Topic': 'Что нужно знать при покупке?',\n",
       "  'Link': 'https://chelyabinsk.bani.ru.com/poleznye-statiy/chto-nuzhno-znat-pri-pokupke-bani-bochki/'},\n",
       " {'Number': 5,\n",
       "  'Topic': 'Эксплуатация бани-бочки зимой',\n",
       "  'Link': 'https://chelyabinsk.bani.ru.com/poleznye-statiy/ekspluataciya-bani-bochki-zimoj/'},\n",
       " {'Number': 6,\n",
       "  'Topic': 'Почему покупатели выбирают Бани-бочки?',\n",
       "  'Link': 'https://chelyabinsk.bani.ru.com/poleznye-statiy/pochemu-pokupateli-vybirajut-bani-bochki/'},\n",
       " {'Number': 7,\n",
       "  'Topic': 'Планировки и внутреннее устройство бань-бочек',\n",
       "  'Link': 'https://chelyabinsk.bani.ru.com/poleznye-statiy/planirovki-i-vnutrennee-ustrojstvo-ban-bochek/'},\n",
       " {'Number': 8,\n",
       "  'Topic': 'Выбор материала при производстве и отделке бани-бочки',\n",
       "  'Link': 'https://chelyabinsk.bani.ru.com/poleznye-statiy/vybor-materiala-pri-proizvodstve-i-otdelke-bani-bochki/'},\n",
       " {'Number': 9,\n",
       "  'Topic': 'ТОП-15 причин, почему нужно выбирать бани Лукоморье',\n",
       "  'Link': 'https://chelyabinsk.bani.ru.com/poleznye-statiy/pochemu-pokupateli-vybirajut-bani-lukomore/'},\n",
       " {'Number': 10,\n",
       "  'Topic': 'Популярные дополнения к бане',\n",
       "  'Link': 'https://chelyabinsk.bani.ru.com/poleznye-statiy/populyarnye-dopolneniya-k-bane/'},\n",
       " {'Number': 11,\n",
       "  'Topic': 'Как топить баню-бочку?',\n",
       "  'Link': 'https://chelyabinsk.bani.ru.com/poleznye-statiy/kak-topit-banju-bochku/'},\n",
       " {'Number': 12,\n",
       "  'Topic': 'Как устроена баня-бочка?',\n",
       "  'Link': 'https://chelyabinsk.bani.ru.com/poleznye-statiy/kak-ustroena-banya-bochka/'},\n",
       " {'Number': 13,\n",
       "  'Topic': 'Как сделать баню-бочку своими руками?',\n",
       "  'Link': 'https://chelyabinsk.bani.ru.com/poleznye-statiy/kak-sdelat-banju-bochku-svoimi-rukami/'},\n",
       " {'Number': 14,\n",
       "  'Topic': 'Баня-бочка по финской технологии',\n",
       "  'Link': 'https://chelyabinsk.bani.ru.com/poleznye-statiy/banya-bochka-po-finskoj-tehnologii/'},\n",
       " {'Number': 15,\n",
       "  'Topic': 'Виды веников для бани и как правильно их запаривать?',\n",
       "  'Link': 'https://chelyabinsk.bani.ru.com/poleznye-statiy/vidy-venikov-dlya-bani-i-kak-pravilno-ih-zaparivat/'},\n",
       " {'Number': 16,\n",
       "  'Topic': 'Полезна ли баня для здоровья?',\n",
       "  'Link': 'https://chelyabinsk.bani.ru.com/poleznye-statiy/polezna-li-banya-dlya-zdorovya/'},\n",
       " {'Number': 17,\n",
       "  'Topic': 'Внешний вид бани: обработка и отделка',\n",
       "  'Link': 'https://chelyabinsk.bani.ru.com/poleznye-statiy/vneshnij-vid-bani-obrabotka-i-otdelka/'},\n",
       " {'Number': 18,\n",
       "  'Topic': 'Сборка бани бочки на участке',\n",
       "  'Link': 'https://chelyabinsk.bani.ru.com/poleznye-statiy/sborka-bani-bochki-na-uchastke/'},\n",
       " {'Number': 19,\n",
       "  'Topic': 'Финская и русская баня-бочка: в чем разница',\n",
       "  'Link': 'https://chelyabinsk.bani.ru.com/poleznye-statiy/finskaya-i-russkaya-banya-v-chem-raznica/'},\n",
       " {'Number': 20,\n",
       "  'Topic': 'Баня-бочка из кедра или ели, что лучше?',\n",
       "  'Link': 'https://chelyabinsk.bani.ru.com/poleznye-statiy/banya-bochka-iz-kedra-ili-eli/'},\n",
       " {'Number': 21,\n",
       "  'Topic': 'Виды кровли для бани',\n",
       "  'Link': 'https://chelyabinsk.bani.ru.com/poleznye-statiy/vidy-krovli-dlya-bani/'},\n",
       " {'Number': 22,\n",
       "  'Topic': 'Какой должна быть влажность бруса при строительстве бани?',\n",
       "  'Link': 'https://chelyabinsk.bani.ru.com/poleznye-statiy/kakoj-dolzhna-byt-vlazhnost-brusa-pri-stroitelstve-bani/'},\n",
       " {'Number': 23,\n",
       "  'Topic': 'Печь для бани — какую выбрать?',\n",
       "  'Link': 'https://chelyabinsk.bani.ru.com/poleznye-statiy/pech-dlya-bani/'},\n",
       " {'Number': 24,\n",
       "  'Topic': 'Вагонка для отделки бани',\n",
       "  'Link': 'https://chelyabinsk.bani.ru.com/poleznye-statiy/vagonka-dlya-otdelki-bani/'},\n",
       " {'Number': 25,\n",
       "  'Topic': 'Преимущества деревянной бани',\n",
       "  'Link': 'https://chelyabinsk.bani.ru.com/poleznye-statiy/derevyannye-bani/'},\n",
       " {'Number': 26,\n",
       "  'Topic': 'Основные требования по эксплуатации бань',\n",
       "  'Link': 'https://chelyabinsk.bani.ru.com/poleznye-statiy/osnovnye-trebovaniya-po-ekspluatacii-ban/'},\n",
       " {'Number': 27,\n",
       "  'Topic': 'В чем разница между срощенной и обычной древесиной',\n",
       "  'Link': 'https://chelyabinsk.bani.ru.com/poleznye-statiy/v-chem-raznica-mezhdu-sroshhennoj-i-obychnoj-drevesinoj/'},\n",
       " {'Number': 28,\n",
       "  'Topic': 'Секреты создания легкого и приятного пара',\n",
       "  'Link': 'https://chelyabinsk.bani.ru.com/kak-sozdat-legkij-i-priyatnyj-par-v-bane-bochke/'}]"
      ]
     },
     "execution_count": 118,
     "metadata": {},
     "output_type": "execute_result"
    }
   ],
   "source": [
    "articles_list"
   ]
  },
  {
   "cell_type": "code",
   "execution_count": 122,
   "metadata": {},
   "outputs": [],
   "source": [
    "# Сохранение данных в JSON файл\n",
    "with open(\"barrels_articles.json\", \"a\", encoding=\"utf-8\") as file:\n",
    "        json.dump(articles_list, file, indent=4, ensure_ascii=False)"
   ]
  },
  {
   "cell_type": "code",
   "execution_count": 13,
   "metadata": {},
   "outputs": [
    {
     "data": {
      "text/plain": [
       "'2025-01-23 15:33:30'"
      ]
     },
     "execution_count": 13,
     "metadata": {},
     "output_type": "execute_result"
    }
   ],
   "source": [
    "# Добавим TIMESTEMP когда программа выполнилась\n",
    "from datetime import datetime\n",
    "from time import sleep\n",
    "import random\n",
    "\n",
    "sleep(random.randrange(2, 4))\n",
    "datetime.now().strftime('%Y-%m-%d %H:%M:%S')"
   ]
  },
  {
   "cell_type": "code",
   "execution_count": null,
   "metadata": {},
   "outputs": [],
   "source": [
    "from time import sleep\n",
    "# Для симуляции работы реального пользователя, а не робота\n",
    "sleep(random.randrange(2, 4))"
   ]
  },
  {
   "cell_type": "code",
   "execution_count": 35,
   "metadata": {},
   "outputs": [
    {
     "name": "stdout",
     "output_type": "stream",
     "text": [
      "2012-12-12 10:10:10\n",
      "<class 'str'>\n",
      "<class 'datetime.datetime'>\n"
     ]
    }
   ],
   "source": [
    "from datetime import datetime\n",
    "\n",
    "date_string = \"2012-12-12 10:10:10\"\n",
    "# date = datetime.strptime(d, '%b %d %Y %I:%M%p')\n",
    "print (datetime.fromisoformat(date_string))\n",
    "# 2012-12-12 10:10:10\n",
    "print(type(date_string))\n",
    "print(type(datetime.fromisoformat(date_string)))"
   ]
  },
  {
   "cell_type": "markdown",
   "metadata": {},
   "source": [
    "## Окончательный вариант оформляем в виде общей функции"
   ]
  },
  {
   "cell_type": "code",
   "execution_count": 40,
   "metadata": {
    "collapsed": true,
    "jupyter": {
     "outputs_hidden": true
    },
    "scrolled": true
   },
   "outputs": [
    {
     "name": "stdout",
     "output_type": "stream",
     "text": [
      "Осталось итераций: 1\n",
      "# Итерация 1. Как сделать фундамент для бани-бочки? ... записан...\n",
      "Осталось итераций: 2\n",
      "# Итерация 2. Печь в бане-бочке: печь с топкой через перегородку или на улицу — плюсы и минусы ... записан...\n",
      "Осталось итераций: 3\n",
      "# Итерация 3. Правила эксплуатации бань-бочек ... записан...\n",
      "Осталось итераций: 4\n",
      "# Итерация 4. Что нужно знать при покупке? ... записан...\n",
      "Осталось итераций: 5\n",
      "# Итерация 5. Эксплуатация бани-бочки зимой ... записан...\n",
      "Осталось итераций: 6\n",
      "# Итерация 6. Почему покупатели выбирают Бани-бочки? ... записан...\n",
      "Осталось итераций: 7\n",
      "# Итерация 7. Планировки и внутреннее устройство бань-бочек ... записан...\n",
      "Осталось итераций: 8\n",
      "# Итерация 8. Выбор материала при производстве и отделке бани-бочки ... записан...\n",
      "Осталось итераций: 9\n",
      "# Итерация 9. ТОП-15 причин, почему нужно выбирать бани Лукоморье ... записан...\n",
      "Осталось итераций: 10\n",
      "# Итерация 10. Популярные дополнения к бане ... записан...\n",
      "Осталось итераций: 11\n",
      "# Итерация 11. Как топить баню-бочку? ... записан...\n",
      "Осталось итераций: 12\n",
      "# Итерация 12. Как устроена баня-бочка? ... записан...\n",
      "Осталось итераций: 13\n",
      "# Итерация 13. Как сделать баню-бочку своими руками? ... записан...\n",
      "Осталось итераций: 14\n",
      "# Итерация 14. Баня-бочка по финской технологии ... записан...\n",
      "Осталось итераций: 15\n",
      "# Итерация 15. Виды веников для бани и как правильно их запаривать? ... записан...\n",
      "Осталось итераций: 16\n",
      "# Итерация 16. Полезна ли баня для здоровья? ... записан...\n",
      "Осталось итераций: 17\n",
      "# Итерация 17. Внешний вид бани: обработка и отделка ... записан...\n",
      "Осталось итераций: 18\n",
      "# Итерация 18. Сборка бани бочки на участке ... записан...\n",
      "Осталось итераций: 19\n",
      "# Итерация 19. Финская и русская баня-бочка: в чем разница ... записан...\n",
      "Осталось итераций: 20\n",
      "# Итерация 20. Баня-бочка из кедра или ели, что лучше? ... записан...\n",
      "Осталось итераций: 21\n",
      "# Итерация 21. Виды кровли для бани ... записан...\n",
      "Осталось итераций: 22\n",
      "# Итерация 22. Какой должна быть влажность бруса при строительстве бани? ... записан...\n",
      "Осталось итераций: 23\n",
      "# Итерация 23. Печь для бани — какую выбрать? ... записан...\n",
      "Осталось итераций: 24\n",
      "# Итерация 24. Вагонка для отделки бани ... записан...\n",
      "Осталось итераций: 25\n",
      "# Итерация 25. Преимущества деревянной бани ... записан...\n",
      "Осталось итераций: 26\n",
      "# Итерация 26. Основные требования по эксплуатации бань ... записан...\n",
      "Осталось итераций: 27\n",
      "# Итерация 27. В чем разница между срощенной и обычной древесиной ... записан...\n",
      "Осталось итераций: 28\n",
      "# Итерация 28. Секреты создания легкого и приятного пара ... записан...\n",
      "Общее число итераций: 28\n"
     ]
    }
   ],
   "source": [
    "def get_barrels():\n",
    "# Словарь для заголовков запросов\n",
    "# 1. Адрес основного хоста\n",
    "    HOST = 'https://chelyabinsk.bani.ru.com' \n",
    "\n",
    "# 2. Адрес страницы для парсинга\n",
    "    URL = 'https://chelyabinsk.bani.ru.com/poleznye-statiy/'\n",
    "    \n",
    "# 3. Создаём словарь заголовков\n",
    "# Это нужно для некоторых сайтов (но не для всех - для этого необязательно)\n",
    "# чтобы показать сайту, что ВЫ НЕ БОТ, а обычный пользователь\n",
    "    HEADERS = {\n",
    "        'accept': 'text/html,application/xhtml+xml,application/xml;q=0.9,image/avif,image/webp,image/apng,*/*;q=0.8,application/signed-exchange;v=b3;q=0.9',\n",
    "        'user-agent': 'Mozilla/5.0 (Windows NT 10.0; Win64; x64) AppleWebKit/537.36 (KHTML, like Gecko) Chrome/109.0.0.0 Safari/537.36'\n",
    "    }\n",
    "\n",
    "# Для начала работы нужно открыть файл нашей страницы:\n",
    "#     with open(URL, encoding='utf-8') as file:\n",
    "#         src = file.read() # Сохраним содержимое файла в переменную\n",
    "#     print(src)\n",
    "# Теперь откроем наш файл, прочитаем и сохраним код страницы в переменную:\n",
    "    with open('../data/interim/html/barrels_articles_clb.html', encoding='utf-8') as file:\n",
    "        src = file.read()\n",
    "    \n",
    "# Отправляем запрос на страницу, передаём в качестве GET-параметра URL-адрес\n",
    "#     r = requests.get(url=URL, headers=HEADERS)\n",
    "    \n",
    "# Создаём объект Супа с параметрами \n",
    "    soup = BeautifulSoup(src, 'lxml')\n",
    "    \n",
    "# Определяем DIV-ы с нужной инфой (заголовки статей)\n",
    "    articles = soup.find('div', class_='desc list').find_all('a')\n",
    "#     print(articles)\n",
    "\n",
    "# собираем заголовки для CSV-файла\n",
    "    with open('../data/processed/csv/barrels_articles_clb.csv', 'w', encoding='utf-8') as file:\n",
    "        writer = csv.writer(file)\n",
    "        writer.writerow(\n",
    "            (\n",
    "                'title',\n",
    "                'link',\n",
    "                'date_time'\n",
    "            )\n",
    "        )\n",
    "\n",
    "# Пройдём в цикле по коду блока - Достаём все заголовки статей со ссылками (используем цикл):\n",
    "    articles_list = []\n",
    "    count = 1\n",
    "    for item in articles:\n",
    "        title = item.text\n",
    "        link = item.get(\"href\")\n",
    "        date_time = datetime.now().strftime('%Y-%m-%d %H:%M:%S')\n",
    "\n",
    "        articles_list.append(\n",
    "            {\n",
    "                \"Number\": count,\n",
    "                \"Topic\": title,\n",
    "                \"Link\": link,\n",
    "                \"DateTime\": date_time\n",
    "            }\n",
    "        )\n",
    "        # iteration_count = int(len(articles_list))\n",
    "        sleep(random.randrange(2, 4)) # Для симуляции работы реального пользователя, а не робота\n",
    "    \n",
    "# print(articles_list)\n",
    "        \n",
    "        \n",
    "        with open('../data/processed/csv/barrels_articles_clb.csv', 'a', encoding='utf-8') as file:\n",
    "            writer = csv.writer(file)\n",
    "            writer.writerow(\n",
    "                (\n",
    "                    title,\n",
    "                    link,\n",
    "                    date_time\n",
    "                )\n",
    "            )\n",
    "            \n",
    "                \n",
    "        print(f\"Осталось итераций: {iteration_count}\")\n",
    "        print(f\"# Итерация {count}. {title} ... записан...\")\n",
    "        \n",
    "\n",
    "        if iteration_count == 0:\n",
    "            print(\"\\nРабота завершена\")\n",
    "            break\n",
    "\n",
    "        count += 1\n",
    "\n",
    "    print(f'Общее число итераций: {iteration_count}')\n",
    "    iteration_count = iteration_count - 1\n",
    "    \n",
    "# Создаём третий файл в формате JSON, в который будем записывать данные в виде словаря\n",
    "# который весьма полезен и удобен для чтения (в дополнение к формату CSV)\n",
    "    with open('../data/processed/json/barrels_articles_clb.json', 'a', encoding='utf-8') as file:\n",
    "        json.dump(articles_list, file, indent=4, ensure_ascii=False)\n",
    "\n",
    "\n",
    "# MAIN SCRIPT\n",
    "def main():\n",
    "    get_barrels()\n",
    "\n",
    "\n",
    "if __name__ == '__main__':\n",
    "    main()"
   ]
  },
  {
   "cell_type": "code",
   "execution_count": null,
   "metadata": {},
   "outputs": [],
   "source": []
  },
  {
   "cell_type": "markdown",
   "metadata": {},
   "source": [
    "## Reading JSON from a file"
   ]
  },
  {
   "cell_type": "code",
   "execution_count": null,
   "metadata": {},
   "outputs": [],
   "source": [
    "import json\n",
    "\n",
    "with open('strings.json') as f:\n",
    "    d = json.load(f)\n",
    "    print(d)"
   ]
  },
  {
   "cell_type": "code",
   "execution_count": 41,
   "metadata": {
    "collapsed": true,
    "jupyter": {
     "outputs_hidden": true
    },
    "scrolled": true
   },
   "outputs": [
    {
     "name": "stdout",
     "output_type": "stream",
     "text": [
      "[{'Number': 1, 'Topic': 'Как сделать фундамент для бани-бочки?', 'Link': 'https://chelyabinsk.bani.ru.com/poleznye-statiy/kak-sdelat-fundament-dlya-bani-bochki/', 'DateTime': '2025-01-23 16:26:20'}, {'Number': 2, 'Topic': 'Печь в бане-бочке: печь с топкой через перегородку или на улицу — плюсы и минусы', 'Link': 'https://chelyabinsk.bani.ru.com/poleznye-statiy/pech-v-bane-bochke-varianty-raspolozheniya/', 'DateTime': '2025-01-23 16:26:22'}, {'Number': 3, 'Topic': 'Правила эксплуатации бань-бочек', 'Link': 'https://chelyabinsk.bani.ru.com/poleznye-statiy/pravila-ekspluatacii-bani-bochki-kak-prodlit-srok-sluzhby/', 'DateTime': '2025-01-23 16:26:25'}, {'Number': 4, 'Topic': 'Что нужно знать при покупке?', 'Link': 'https://chelyabinsk.bani.ru.com/poleznye-statiy/chto-nuzhno-znat-pri-pokupke-bani-bochki/', 'DateTime': '2025-01-23 16:26:27'}, {'Number': 5, 'Topic': 'Эксплуатация бани-бочки зимой', 'Link': 'https://chelyabinsk.bani.ru.com/poleznye-statiy/ekspluataciya-bani-bochki-zimoj/', 'DateTime': '2025-01-23 16:26:29'}, {'Number': 6, 'Topic': 'Почему покупатели выбирают Бани-бочки?', 'Link': 'https://chelyabinsk.bani.ru.com/poleznye-statiy/pochemu-pokupateli-vybirajut-bani-bochki/', 'DateTime': '2025-01-23 16:26:32'}, {'Number': 7, 'Topic': 'Планировки и внутреннее устройство бань-бочек', 'Link': 'https://chelyabinsk.bani.ru.com/poleznye-statiy/planirovki-i-vnutrennee-ustrojstvo-ban-bochek/', 'DateTime': '2025-01-23 16:26:35'}, {'Number': 8, 'Topic': 'Выбор материала при производстве и отделке бани-бочки', 'Link': 'https://chelyabinsk.bani.ru.com/poleznye-statiy/vybor-materiala-pri-proizvodstve-i-otdelke-bani-bochki/', 'DateTime': '2025-01-23 16:26:37'}, {'Number': 9, 'Topic': 'ТОП-15 причин, почему нужно выбирать бани Лукоморье', 'Link': 'https://chelyabinsk.bani.ru.com/poleznye-statiy/pochemu-pokupateli-vybirajut-bani-lukomore/', 'DateTime': '2025-01-23 16:26:40'}, {'Number': 10, 'Topic': 'Популярные дополнения к бане', 'Link': 'https://chelyabinsk.bani.ru.com/poleznye-statiy/populyarnye-dopolneniya-k-bane/', 'DateTime': '2025-01-23 16:26:42'}, {'Number': 11, 'Topic': 'Как топить баню-бочку?', 'Link': 'https://chelyabinsk.bani.ru.com/poleznye-statiy/kak-topit-banju-bochku/', 'DateTime': '2025-01-23 16:26:45'}, {'Number': 12, 'Topic': 'Как устроена баня-бочка?', 'Link': 'https://chelyabinsk.bani.ru.com/poleznye-statiy/kak-ustroena-banya-bochka/', 'DateTime': '2025-01-23 16:26:48'}, {'Number': 13, 'Topic': 'Как сделать баню-бочку своими руками?', 'Link': 'https://chelyabinsk.bani.ru.com/poleznye-statiy/kak-sdelat-banju-bochku-svoimi-rukami/', 'DateTime': '2025-01-23 16:26:50'}, {'Number': 14, 'Topic': 'Баня-бочка по финской технологии', 'Link': 'https://chelyabinsk.bani.ru.com/poleznye-statiy/banya-bochka-po-finskoj-tehnologii/', 'DateTime': '2025-01-23 16:26:53'}, {'Number': 15, 'Topic': 'Виды веников для бани и как правильно их запаривать?', 'Link': 'https://chelyabinsk.bani.ru.com/poleznye-statiy/vidy-venikov-dlya-bani-i-kak-pravilno-ih-zaparivat/', 'DateTime': '2025-01-23 16:26:56'}, {'Number': 16, 'Topic': 'Полезна ли баня для здоровья?', 'Link': 'https://chelyabinsk.bani.ru.com/poleznye-statiy/polezna-li-banya-dlya-zdorovya/', 'DateTime': '2025-01-23 16:26:59'}, {'Number': 17, 'Topic': 'Внешний вид бани: обработка и отделка', 'Link': 'https://chelyabinsk.bani.ru.com/poleznye-statiy/vneshnij-vid-bani-obrabotka-i-otdelka/', 'DateTime': '2025-01-23 16:27:01'}, {'Number': 18, 'Topic': 'Сборка бани бочки на участке', 'Link': 'https://chelyabinsk.bani.ru.com/poleznye-statiy/sborka-bani-bochki-na-uchastke/', 'DateTime': '2025-01-23 16:27:04'}, {'Number': 19, 'Topic': 'Финская и русская баня-бочка: в чем разница', 'Link': 'https://chelyabinsk.bani.ru.com/poleznye-statiy/finskaya-i-russkaya-banya-v-chem-raznica/', 'DateTime': '2025-01-23 16:27:07'}, {'Number': 20, 'Topic': 'Баня-бочка из кедра или ели, что лучше?', 'Link': 'https://chelyabinsk.bani.ru.com/poleznye-statiy/banya-bochka-iz-kedra-ili-eli/', 'DateTime': '2025-01-23 16:27:09'}, {'Number': 21, 'Topic': 'Виды кровли для бани', 'Link': 'https://chelyabinsk.bani.ru.com/poleznye-statiy/vidy-krovli-dlya-bani/', 'DateTime': '2025-01-23 16:27:12'}, {'Number': 22, 'Topic': 'Какой должна быть влажность бруса при строительстве бани?', 'Link': 'https://chelyabinsk.bani.ru.com/poleznye-statiy/kakoj-dolzhna-byt-vlazhnost-brusa-pri-stroitelstve-bani/', 'DateTime': '2025-01-23 16:27:14'}, {'Number': 23, 'Topic': 'Печь для бани — какую выбрать?', 'Link': 'https://chelyabinsk.bani.ru.com/poleznye-statiy/pech-dlya-bani/', 'DateTime': '2025-01-23 16:27:17'}, {'Number': 24, 'Topic': 'Вагонка для отделки бани', 'Link': 'https://chelyabinsk.bani.ru.com/poleznye-statiy/vagonka-dlya-otdelki-bani/', 'DateTime': '2025-01-23 16:27:20'}, {'Number': 25, 'Topic': 'Преимущества деревянной бани', 'Link': 'https://chelyabinsk.bani.ru.com/poleznye-statiy/derevyannye-bani/', 'DateTime': '2025-01-23 16:27:23'}, {'Number': 26, 'Topic': 'Основные требования по эксплуатации бань', 'Link': 'https://chelyabinsk.bani.ru.com/poleznye-statiy/osnovnye-trebovaniya-po-ekspluatacii-ban/', 'DateTime': '2025-01-23 16:27:25'}, {'Number': 27, 'Topic': 'В чем разница между срощенной и обычной древесиной', 'Link': 'https://chelyabinsk.bani.ru.com/poleznye-statiy/v-chem-raznica-mezhdu-sroshhennoj-i-obychnoj-drevesinoj/', 'DateTime': '2025-01-23 16:27:28'}, {'Number': 28, 'Topic': 'Секреты создания легкого и приятного пара', 'Link': 'https://chelyabinsk.bani.ru.com/kak-sozdat-legkij-i-priyatnyj-par-v-bane-bochke/', 'DateTime': '2025-01-23 16:27:30'}]\n"
     ]
    }
   ],
   "source": [
    "import json\n",
    "\n",
    "with open('../data/processed/json/barrels_articles_clb.json', encoding='utf-8') as file:\n",
    "    data1 = json.load(file)\n",
    "    print(data1)"
   ]
  },
  {
   "cell_type": "code",
   "execution_count": 44,
   "metadata": {},
   "outputs": [
    {
     "data": {
      "text/html": [
       "<div>\n",
       "<style scoped>\n",
       "    .dataframe tbody tr th:only-of-type {\n",
       "        vertical-align: middle;\n",
       "    }\n",
       "\n",
       "    .dataframe tbody tr th {\n",
       "        vertical-align: top;\n",
       "    }\n",
       "\n",
       "    .dataframe thead th {\n",
       "        text-align: right;\n",
       "    }\n",
       "</style>\n",
       "<table border=\"1\" class=\"dataframe\">\n",
       "  <thead>\n",
       "    <tr style=\"text-align: right;\">\n",
       "      <th></th>\n",
       "      <th>Number</th>\n",
       "      <th>Topic</th>\n",
       "      <th>Link</th>\n",
       "      <th>DateTime</th>\n",
       "    </tr>\n",
       "  </thead>\n",
       "  <tbody>\n",
       "    <tr>\n",
       "      <th>23</th>\n",
       "      <td>24</td>\n",
       "      <td>Вагонка для отделки бани</td>\n",
       "      <td>https://chelyabinsk.bani.ru.com/poleznye-stati...</td>\n",
       "      <td>2025-01-23 16:27:20</td>\n",
       "    </tr>\n",
       "    <tr>\n",
       "      <th>24</th>\n",
       "      <td>25</td>\n",
       "      <td>Преимущества деревянной бани</td>\n",
       "      <td>https://chelyabinsk.bani.ru.com/poleznye-stati...</td>\n",
       "      <td>2025-01-23 16:27:23</td>\n",
       "    </tr>\n",
       "    <tr>\n",
       "      <th>25</th>\n",
       "      <td>26</td>\n",
       "      <td>Основные требования по эксплуатации бань</td>\n",
       "      <td>https://chelyabinsk.bani.ru.com/poleznye-stati...</td>\n",
       "      <td>2025-01-23 16:27:25</td>\n",
       "    </tr>\n",
       "    <tr>\n",
       "      <th>26</th>\n",
       "      <td>27</td>\n",
       "      <td>В чем разница между срощенной и обычной древес...</td>\n",
       "      <td>https://chelyabinsk.bani.ru.com/poleznye-stati...</td>\n",
       "      <td>2025-01-23 16:27:28</td>\n",
       "    </tr>\n",
       "    <tr>\n",
       "      <th>27</th>\n",
       "      <td>28</td>\n",
       "      <td>Секреты создания легкого и приятного пара</td>\n",
       "      <td>https://chelyabinsk.bani.ru.com/kak-sozdat-leg...</td>\n",
       "      <td>2025-01-23 16:27:30</td>\n",
       "    </tr>\n",
       "  </tbody>\n",
       "</table>\n",
       "</div>"
      ],
      "text/plain": [
       "    Number                                              Topic  \\\n",
       "23      24                           Вагонка для отделки бани   \n",
       "24      25                       Преимущества деревянной бани   \n",
       "25      26           Основные требования по эксплуатации бань   \n",
       "26      27  В чем разница между срощенной и обычной древес...   \n",
       "27      28          Секреты создания легкого и приятного пара   \n",
       "\n",
       "                                                 Link             DateTime  \n",
       "23  https://chelyabinsk.bani.ru.com/poleznye-stati...  2025-01-23 16:27:20  \n",
       "24  https://chelyabinsk.bani.ru.com/poleznye-stati...  2025-01-23 16:27:23  \n",
       "25  https://chelyabinsk.bani.ru.com/poleznye-stati...  2025-01-23 16:27:25  \n",
       "26  https://chelyabinsk.bani.ru.com/poleznye-stati...  2025-01-23 16:27:28  \n",
       "27  https://chelyabinsk.bani.ru.com/kak-sozdat-leg...  2025-01-23 16:27:30  "
      ]
     },
     "execution_count": 44,
     "metadata": {},
     "output_type": "execute_result"
    }
   ],
   "source": [
    "# Преобразуем объект в пандасовский датафрейм\n",
    "# import pandas as pd\n",
    "df1 = pd.DataFrame(data1)\n",
    "df1.tail()"
   ]
  },
  {
   "cell_type": "code",
   "execution_count": 48,
   "metadata": {},
   "outputs": [
    {
     "data": {
      "text/plain": [
       "Number               int64\n",
       "Topic               object\n",
       "Link                object\n",
       "DateTime    datetime64[ns]\n",
       "dtype: object"
      ]
     },
     "execution_count": 48,
     "metadata": {},
     "output_type": "execute_result"
    }
   ],
   "source": [
    "df1.dtypes"
   ]
  },
  {
   "cell_type": "code",
   "execution_count": 47,
   "metadata": {},
   "outputs": [],
   "source": [
    "df1['DateTime'] = pd.to_datetime(df1['DateTime'])"
   ]
  },
  {
   "cell_type": "code",
   "execution_count": 49,
   "metadata": {},
   "outputs": [
    {
     "data": {
      "text/html": [
       "<div>\n",
       "<style scoped>\n",
       "    .dataframe tbody tr th:only-of-type {\n",
       "        vertical-align: middle;\n",
       "    }\n",
       "\n",
       "    .dataframe tbody tr th {\n",
       "        vertical-align: top;\n",
       "    }\n",
       "\n",
       "    .dataframe thead th {\n",
       "        text-align: right;\n",
       "    }\n",
       "</style>\n",
       "<table border=\"1\" class=\"dataframe\">\n",
       "  <thead>\n",
       "    <tr style=\"text-align: right;\">\n",
       "      <th></th>\n",
       "      <th>Number</th>\n",
       "      <th>Topic</th>\n",
       "      <th>Link</th>\n",
       "      <th>DateTime</th>\n",
       "    </tr>\n",
       "  </thead>\n",
       "  <tbody>\n",
       "    <tr>\n",
       "      <th>23</th>\n",
       "      <td>24</td>\n",
       "      <td>Вагонка для отделки бани</td>\n",
       "      <td>https://chelyabinsk.bani.ru.com/poleznye-stati...</td>\n",
       "      <td>2025-01-23 16:27:20</td>\n",
       "    </tr>\n",
       "    <tr>\n",
       "      <th>24</th>\n",
       "      <td>25</td>\n",
       "      <td>Преимущества деревянной бани</td>\n",
       "      <td>https://chelyabinsk.bani.ru.com/poleznye-stati...</td>\n",
       "      <td>2025-01-23 16:27:23</td>\n",
       "    </tr>\n",
       "    <tr>\n",
       "      <th>25</th>\n",
       "      <td>26</td>\n",
       "      <td>Основные требования по эксплуатации бань</td>\n",
       "      <td>https://chelyabinsk.bani.ru.com/poleznye-stati...</td>\n",
       "      <td>2025-01-23 16:27:25</td>\n",
       "    </tr>\n",
       "    <tr>\n",
       "      <th>26</th>\n",
       "      <td>27</td>\n",
       "      <td>В чем разница между срощенной и обычной древес...</td>\n",
       "      <td>https://chelyabinsk.bani.ru.com/poleznye-stati...</td>\n",
       "      <td>2025-01-23 16:27:28</td>\n",
       "    </tr>\n",
       "    <tr>\n",
       "      <th>27</th>\n",
       "      <td>28</td>\n",
       "      <td>Секреты создания легкого и приятного пара</td>\n",
       "      <td>https://chelyabinsk.bani.ru.com/kak-sozdat-leg...</td>\n",
       "      <td>2025-01-23 16:27:30</td>\n",
       "    </tr>\n",
       "  </tbody>\n",
       "</table>\n",
       "</div>"
      ],
      "text/plain": [
       "    Number                                              Topic  \\\n",
       "23      24                           Вагонка для отделки бани   \n",
       "24      25                       Преимущества деревянной бани   \n",
       "25      26           Основные требования по эксплуатации бань   \n",
       "26      27  В чем разница между срощенной и обычной древес...   \n",
       "27      28          Секреты создания легкого и приятного пара   \n",
       "\n",
       "                                                 Link            DateTime  \n",
       "23  https://chelyabinsk.bani.ru.com/poleznye-stati... 2025-01-23 16:27:20  \n",
       "24  https://chelyabinsk.bani.ru.com/poleznye-stati... 2025-01-23 16:27:23  \n",
       "25  https://chelyabinsk.bani.ru.com/poleznye-stati... 2025-01-23 16:27:25  \n",
       "26  https://chelyabinsk.bani.ru.com/poleznye-stati... 2025-01-23 16:27:28  \n",
       "27  https://chelyabinsk.bani.ru.com/kak-sozdat-leg... 2025-01-23 16:27:30  "
      ]
     },
     "execution_count": 49,
     "metadata": {},
     "output_type": "execute_result"
    }
   ],
   "source": [
    "df1.tail()"
   ]
  },
  {
   "cell_type": "markdown",
   "metadata": {},
   "source": [
    "# Сохраняем датафрейм в EXCEL-таблицу при отсутствии файла"
   ]
  },
  {
   "cell_type": "markdown",
   "metadata": {},
   "source": [
    "### Как проверить существование файла?"
   ]
  },
  {
   "cell_type": "code",
   "execution_count": null,
   "metadata": {},
   "outputs": [],
   "source": [
    "# Как проверить существование файла?\n",
    "import os\n",
    "\n",
    "if os.path.exists(\"Имя_папки\\\\Имя_папки\\\\anytext.txt\"): \n",
    "     print (\"Файл найден\")\n",
    "else: \n",
    "     print (\"Файл не найден\")"
   ]
  },
  {
   "cell_type": "markdown",
   "metadata": {},
   "source": [
    "## pandas.DataFrame.to_excel — pandas 2.2.3 documentation"
   ]
  },
  {
   "cell_type": "markdown",
   "metadata": {},
   "source": [
    "### pandas.DataFrame.to_excel\n",
    "DataFrame.to_excel(excel_writer, *, sheet_name='Sheet1', na_rep='', float_format=None, columns=None, header=True, index=True, index_label=None, startrow=0, startcol=0, engine=None, merge_cells=True, inf_rep='inf', freeze_panes=None, storage_options=None, engine_kwargs=None)"
   ]
  },
  {
   "cell_type": "code",
   "execution_count": 50,
   "metadata": {},
   "outputs": [],
   "source": [
    "# Сохраняем датафрейм в EXCEL-таблицу\n",
    "import os\n",
    "\n",
    "# Прописываем путь и характеристики файла\n",
    "PATH = '../data/processed/xls/'\n",
    "file_name = 'sauna_articles'\n",
    "sheet_name = 'chelyabinsk'\n",
    "file_extension = '.xlsx'\n",
    "FILE = PATH + file_name + file_extension\n",
    "\n",
    "# Если папки для сохранения результатов не существует, то она будет создана\n",
    "if not os.path.isdir(PATH):\n",
    "    os.mkdir(PATH)\n",
    "\n",
    "# Отправляем датафрейм в EXCEL-таблицу\n",
    "df1.to_excel(FILE, engine='openpyxl', sheet_name=sheet_name)\n",
    "\n",
    "# df1.to_excel(\"output.xlsx\", sheet_name='Sheet_name_1')"
   ]
  },
  {
   "cell_type": "markdown",
   "metadata": {},
   "source": [
    "### Как проверить существование файла?"
   ]
  },
  {
   "cell_type": "code",
   "execution_count": 43,
   "metadata": {},
   "outputs": [
    {
     "name": "stdout",
     "output_type": "stream",
     "text": [
      "Файл найден\n"
     ]
    }
   ],
   "source": [
    "# Как проверить существование файла?\n",
    "import os\n",
    "\n",
    "# Прописываем путь и характеристики файла\n",
    "PATH = '../data/processed/xls/'\n",
    "file_name = 'sauna_articles'\n",
    "sheet_name = 'chelyabinsk'\n",
    "file_extension = '.xlsx'\n",
    "FILE = PATH + file_name + file_extension\n",
    "\n",
    "if os.path.exists(FILE): \n",
    "     print (\"Файл найден\")\n",
    "else: \n",
    "     print (\"Файл не найден\")"
   ]
  },
  {
   "cell_type": "code",
   "execution_count": null,
   "metadata": {},
   "outputs": [],
   "source": []
  },
  {
   "cell_type": "markdown",
   "metadata": {},
   "source": [
    "## Загружаем данные в Google Sheets API Python - ТЕОРИЯ"
   ]
  },
  {
   "cell_type": "markdown",
   "metadata": {},
   "source": [
    "### Простой способ взаимодействия с Google Таблицами через Python (Gspread)"
   ]
  },
  {
   "cell_type": "markdown",
   "metadata": {},
   "source": [
    "##### https://habr.com/ru/articles/825404/"
   ]
  },
  {
   "cell_type": "markdown",
   "metadata": {},
   "source": [
    "##### Установка:\n",
    "pip install -r req.txt\n",
    "\n",
    "##### Выполним импорты:\n",
    "from gspread import Client, Spreadsheet, Worksheet, service_account\n",
    "\n",
    "##### Client:\n",
    "Это класс, представляющий клиентскую сессию для взаимодействия с Google Sheets. Используется для аутентификации и управления доступом к таблицам.\n",
    "\n",
    "##### Spreadsheet:\n",
    "Это класс, представляющий конкретную таблицу в Google Sheets. С его помощью можно управлять рабочими листами внутри таблицы и выполнять операции с данными.\n",
    "\n",
    "##### Worksheet:\n",
    "Это класс, представляющий конкретный рабочий лист внутри таблицы. Используется для выполнения операций с данными, таких как чтение, запись и обновление.\n",
    "\n",
    "##### service_account:\n",
    "Это функция для аутентификации с использованием сервисного аккаунта. С её помощью создается клиентская сессия (Client) для взаимодействия с Google Sheets от имени сервисного аккаунта."
   ]
  },
  {
   "cell_type": "code",
   "execution_count": null,
   "metadata": {},
   "outputs": [],
   "source": [
    "# Напишем функцию, которая позволит выполнить инициализацию клиента для работы с Google Sheets через загруженный JSON:\n",
    "\n",
    "def client_init_json() -> Client:\n",
    "    \"\"\"Создание клиента для работы с Google Sheets.\"\"\"\n",
    "    return service_account(filename='yakvenalex-habr-project.json')\n",
    "\n",
    "# Если мы просто вызовем эту функцию и распечатаем результат, то увидим следующее:\n",
    "# <gspread.client.Client object at 0x00000166052A0380>\n",
    "# Такой ответ говорит нам о том, что авторизация прошла корректно."
   ]
  },
  {
   "cell_type": "code",
   "execution_count": null,
   "metadata": {},
   "outputs": [],
   "source": [
    "# Для получения ссылки на таблицу (а из нее ещё и ID) просто копируем ссылку с браузера на таблицу. В моем случае вид такой:\n",
    "\n",
    "# https://docs.google.com/spreadsheets/d/1-9n_S8-uQxykltg4g3N6ucY3uG_KnGjwU_phmjzITXU/edit?gid=0#gid=0\n",
    "\n",
    "# ID хранится в ссылке на таблицу после d/\n",
    "# Обратите внимание. В ссылке на таблицу уже указывется ee ID."
   ]
  },
  {
   "cell_type": "code",
   "execution_count": null,
   "metadata": {},
   "outputs": [],
   "source": [
    "# Пишем код для доступа к таблице:\n",
    "\n",
    "def get_table_by_url(client: Client, table_url):\n",
    "    \"\"\"Получение таблицы из Google Sheets по ссылке.\"\"\"\n",
    "    return client.open_by_url(table_url)\n",
    "\n",
    "\n",
    "def get_table_by_id(client: Client, table_url):\n",
    "    \"\"\"Получение таблицы из Google Sheets по ID таблицы.\"\"\"\n",
    "    return client.open_by_key(table_url)\n",
    "\n",
    "# Тестируем:\n",
    "\n",
    "def test_get_table(table_url: str, table_key: str):\n",
    "    \"\"\"Тестирование получения таблицы из Google Sheets.\"\"\"\n",
    "    client = client_init_json()\n",
    "    table = get_table_by_url(client, table_url)\n",
    "    print('Инфо по таблице по ссылке: ', table)\n",
    "    table = get_table_by_id(client, table_key)\n",
    "    print('Инфо по таблице по id: ', table)\n",
    "\n",
    "\n",
    "if __name__ == '__main__':\n",
    "    test_get_table(table_link, table_id)"
   ]
  },
  {
   "cell_type": "code",
   "execution_count": null,
   "metadata": {},
   "outputs": [],
   "source": [
    "# Результат выполнения кода:\n",
    "\n",
    "# Инфо по таблице по ссылке:  <Spreadsheet 'Habr table' id:1lzQ78nxKShICHQaVW2ZuKw5QBRR1q4gAzPPbVOHsd4Q>\n",
    "# Инфо по таблице по id:  <Spreadsheet 'Habr table' id:1lzQ78nxKShICHQaVW2ZuKw5QBRR1q4gAzPPbVOHsd4Q>"
   ]
  },
  {
   "cell_type": "code",
   "execution_count": null,
   "metadata": {},
   "outputs": [],
   "source": [
    "# Теперь перейдем к более интересному опыту взаимодействия с гугл таблицами.\n",
    "\n",
    "# Для начала давайте узнаем количество листов в таблице и их название.\n",
    "\n",
    "def get_worksheet_info(table: Spreadsheet) -> dict:\n",
    "    \"\"\"Возвращает количество листов в таблице и их названия.\"\"\"\n",
    "    worksheets = table.worksheets()\n",
    "    worksheet_info = {\n",
    "        \"count\": len(worksheets),\n",
    "        \"names\": [worksheet.title for worksheet in worksheets]\n",
    "    }\n",
    "    return worksheet_info\n",
    "\n",
    "\n",
    "def main():\n",
    "    # Создаем клиента и открываем таблицу\n",
    "    client = client_init_json()\n",
    "    table = get_table_by_id(client, table_id)\n",
    "\n",
    "    # Получаем информацию о листах\n",
    "    info = get_worksheet_info(table)\n",
    "    print(f\"Количество листов: {info['count']}\")\n",
    "    print(\"Названия листов:\")\n",
    "    for name in info['names']:\n",
    "        print(name)\n",
    "\n",
    "\n",
    "if __name__ == '__main__':\n",
    "    main()"
   ]
  },
  {
   "cell_type": "code",
   "execution_count": null,
   "metadata": {},
   "outputs": [],
   "source": [
    "# Смотрим на результат:\n",
    "\n",
    "# Количество листов: 1\n",
    "# Названия листов:\n",
    "# Sheet1"
   ]
  },
  {
   "cell_type": "markdown",
   "metadata": {},
   "source": [
    "Если я добавлю новые листы или изменю название, то при повторном вызове получу актуальную информацию. Дело в том, что каждое обращение клиента к таблице происходит в live-режиме.\n",
    "\n",
    "##### Очень важно после изменения имени листа указать это в коде.\n",
    "У меня из практики были случаи, когда клиенты переименовывали лист, а после возвращались ко мне с претензиями, мол не работает. Внимательно."
   ]
  },
  {
   "cell_type": "code",
   "execution_count": null,
   "metadata": {},
   "outputs": [],
   "source": [
    "# Для того чтоб клиент понимал с каким листом работать, в дальнейшем, необходимо будет явно указывать лист.\n",
    "# Речь про такие операции, как: добавление записи, удаление записи, удаление листа и прочее (рассмотрим далее). \n",
    "# А сейчас я покажу как создать новый лист через нашего клиента:\n",
    "\n",
    "def create_worksheet(table: Spreadsheet, title: str, rows: int, cols: int):\n",
    "    \"\"\"Создание листа в таблице.\"\"\"\n",
    "    return table.add_worksheet(title, rows, cols)\n",
    "\n",
    "    \n",
    "# Тестируем\n",
    "def test_create_worksheet():\n",
    "    client = client_init_json()\n",
    "    table = get_table_by_id(client, table_id)\n",
    "    rez = create_worksheet(table, 'НовыйРабочийЛист', rows=15, cols=10)\n",
    "    print(rez)\n",
    "\n",
    "\n",
    "test_create_worksheet()\n",
    "# Результат:\n",
    "\n",
    "# <Worksheet 'НовыйРабочийЛист' id:2135109655>\n",
    "# Обратите внимание. Листу присвоеy id. Смотрим в таблицу:"
   ]
  },
  {
   "cell_type": "code",
   "execution_count": null,
   "metadata": {},
   "outputs": [],
   "source": [
    "# Для удаления листа можно использовать такую функцию:\n",
    "\n",
    "def delete_worksheet(table: Spreadsheet, title: str):\n",
    "    \"\"\"Удаление листа из таблицы.\"\"\"\n",
    "    table.del_worksheet(table.worksheet(title))\n",
    "\n",
    "# Пример использования:\n",
    "\n",
    "def test_dell_worksheet():\n",
    "    client = client_init_json()\n",
    "    table = get_table_by_id(client, table_id)\n",
    "    delete_worksheet(table, title='НовыйРабочийЛист')\n",
    "\n",
    "\n",
    "test_dell_worksheet()"
   ]
  },
  {
   "cell_type": "markdown",
   "metadata": {},
   "source": [
    "На этом примере вы могли заметить конструкцию table.worksheet(title). Благодаря такому простому обращению мы указываем клиенту текущий рабочий лист. Далее, когда мы будем добавлять данные и удалять их мы будем использовать похожее указание на текущий рабочий лист.\n",
    "\n",
    "Теперь мы готовы работать с данными. Для начала попробуем добавить информацию в любой из листов. Для этого напишем простую функцию, суть которой будет принимать некие данные и вставлять их в свободную строку (вставка идет сверху-вниз). Данный метод называется insert_row, а принимает он список с данными."
   ]
  },
  {
   "cell_type": "code",
   "execution_count": null,
   "metadata": {},
   "outputs": [],
   "source": [
    "def insert_one(table: Spreadsheet, title: str, data: list, index: int = 1):\n",
    "    \"\"\"Вставка данных в лист.\"\"\"\n",
    "    worksheet = table.worksheet(title)\n",
    "    worksheet.insert_row(data, index=index)\n",
    "\n",
    "# Обратите внимание. Мы бы могли в эту функцию передавать worksheet, но, с опыта скажу что удобнее явно передавать имя листа. Меньше проблем потом."
   ]
  },
  {
   "cell_type": "markdown",
   "metadata": {},
   "source": [
    "Индексы в таблицах начинаются не с 0, как мы привыкли, а с 1. По умолчанию запись будет добавлена в первую строку (индекс 1), но я его решил явно передать чтоб путанницы не было. Если укажем 2, то запись пойдет во вторую строку и так далее."
   ]
  },
  {
   "cell_type": "code",
   "execution_count": null,
   "metadata": {},
   "outputs": [],
   "source": [
    "def test_add_data():\n",
    "    \"\"\"Тестирование добавления данных в таблицу.\"\"\"\n",
    "    client = client_init_json()\n",
    "    table = get_table_by_id(client, table_id)\n",
    "    worksheet_info = get_worksheet_info(table)\n",
    "    print('Инфо по таблице: ', worksheet_info)\n",
    "    insert_one(table=table,\n",
    "               title=worksheet_info['names'][0],\n",
    "               data=['name', 'address', 'email', 'phone_number', 'birth_date', 'company', 'job'])\n",
    "\n",
    "\n",
    "test_add_data()"
   ]
  },
  {
   "cell_type": "markdown",
   "metadata": {},
   "source": [
    "А вот тут давайте остановимся подробнее. Для получения имени листа я воспользовался функцией worksheet_info и достал данные по нулевому индексу. Сделал это просто для демонстрации, а для работы было бы просто достаточно указания названия листа.\n",
    "\n",
    "data - это список и в данной функции при его помощи мы создаем некий header для нашей таблицы. Выполним код и посмотрим что получилось:"
   ]
  },
  {
   "cell_type": "markdown",
   "metadata": {},
   "source": [
    "Мы видим что данные добавлены. Теперь было бы не плохо заполнить их информацией и понять, а как вообще добавлять данные массово, не по 1 строке.\n",
    "Напишем код для создания фейковых пользователей при помощи библиотеки faker."
   ]
  },
  {
   "cell_type": "code",
   "execution_count": null,
   "metadata": {},
   "outputs": [],
   "source": [
    "from faker import Faker\n",
    "\n",
    "\n",
    "def generate_fake_user():\n",
    "    fake = Faker('ru_RU')\n",
    "\n",
    "    return {\n",
    "        'name': fake.name(),\n",
    "        'address': fake.address(),\n",
    "        'email': fake.email(),\n",
    "        'phone_number': fake.phone_number(),\n",
    "        'birth_date': fake.date_of_birth().strftime(\"%d.%m.%Y\"),\n",
    "        'company': fake.company(),\n",
    "        'job': fake.job()\n",
    "    }\n",
    "\n",
    "\n",
    "def get_fake_users(count: int):\n",
    "    return [generate_fake_user() for _ in range(count)]"
   ]
  },
  {
   "cell_type": "markdown",
   "metadata": {},
   "source": [
    "Смысл данного кода в генерации фейковых данных по русским пользователям. На выходе укажем число пользователей и получим список из питоновских словарей с данными.\n",
    "\n",
    "Сам код поместил в отдельный файл, чтоб не перегружать main.py."
   ]
  },
  {
   "cell_type": "code",
   "execution_count": null,
   "metadata": {},
   "outputs": [],
   "source": [
    "# Первый вариант функции (простой)\n",
    "\n",
    "def add_data_to_worksheet_var_1(table: Spreadsheet, title: str, data: List[Dict], start_row: int = 2) -> None:\n",
    "    \"\"\"\n",
    "    Добавляет данные на рабочий лист в Google Sheets.\n",
    "\n",
    "    :param table: Объект таблицы (Spreadsheet).\n",
    "    :param title: Название рабочего листа.\n",
    "    :param data: Список словарей с данными.\n",
    "    :param start_row: Номер строки, с которой начнется добавление данных.\n",
    "    \"\"\"\n",
    "    try:\n",
    "        worksheet = table.worksheet(title)\n",
    "    except exceptions.WorksheetNotFound:\n",
    "        worksheet = create_worksheet(table, title, rows=100, cols=20)\n",
    "\n",
    "    # Преобразуем список словарей в список списков для добавления через insert_rows\n",
    "    headers = list(data[0].keys())\n",
    "    rows = [[row[header] for header in headers] for row in data]\n",
    "\n",
    "    # Вставляем строки с данными в рабочий лист\n",
    "    worksheet.insert_rows(rows, row=start_row)"
   ]
  },
  {
   "cell_type": "markdown",
   "metadata": {},
   "source": [
    "В данном коде я прописал условие, при котором, при отсутствии листа, он будет создан. Для этого используется функция, которую мы уже расмотрели.\n",
    "\n",
    "Далее мы преобразуем список словарей в список списков (rows), подходящий для метода insert_rows, а после уже идет сам метод insert_rows. Тестируем:"
   ]
  },
  {
   "cell_type": "code",
   "execution_count": null,
   "metadata": {},
   "outputs": [],
   "source": [
    "def test_add_many_data():\n",
    "    \"\"\"Тестирование добавления данных на рабочий лист.\"\"\"\n",
    "    client = client_init_json()\n",
    "    table = get_table_by_id(client, table_id)\n",
    "    users_data = get_fake_users(10)\n",
    "    add_data_to_worksheet_var_1(table=table,\n",
    "                                title='РабочийЛист1',\n",
    "                                data=users_data)\n",
    "\n",
    "\n",
    "test_add_many_data()"
   ]
  },
  {
   "cell_type": "markdown",
   "metadata": {},
   "source": [
    "Данные добавлены.\n",
    "При помощи функции get_fake_users мы создали 10 пользователей, а после, без особых проблем, добавили их на рабочий лист с именем 'РабочийЛист1'.\n",
    "\n",
    "Технически, для большинства задач будет достаточно использовать описанный выше метод, но, можно ту же задачу закрыть по другому."
   ]
  },
  {
   "cell_type": "code",
   "execution_count": null,
   "metadata": {},
   "outputs": [],
   "source": [
    "def add_data_to_worksheet_var_2(table: Spreadsheet, title: str, data: List[Dict], start_row: int = 2) -> None:\n",
    "    \"\"\"\n",
    "    Добавляет данные на рабочий лист в Google Sheets.\n",
    "\n",
    "    :param table: Объект таблицы (Spreadsheet).\n",
    "    :param title: Название рабочего листа.\n",
    "    :param data: Список словарей с данными.\n",
    "    :param start_row: Номер строки, с которой начнется добавление данных.\n",
    "    \"\"\"\n",
    "    try:\n",
    "        worksheet = table.worksheet(title)\n",
    "    except exceptions.WorksheetNotFound:\n",
    "        worksheet = create_worksheet(table, title, rows=100, cols=20)\n",
    "\n",
    "    headers = data[0].keys()\n",
    "    end_row = start_row + len(data) - 1\n",
    "    end_col = chr(ord('A') + len(headers) - 1)\n",
    "\n",
    "    cell_range = f'A{start_row}:{end_col}{end_row}'\n",
    "    cell_list = worksheet.range(cell_range)\n",
    "\n",
    "    flat_data = []\n",
    "    for row in data:\n",
    "        for header in headers:\n",
    "            flat_data.append(row[header])\n",
    "\n",
    "    for i, cell in enumerate(cell_list):\n",
    "        cell.value = flat_data[i]\n",
    "\n",
    "    worksheet.update_cells(cell_list)"
   ]
  },
  {
   "cell_type": "markdown",
   "metadata": {},
   "source": [
    "Новый функционал:\n",
    "\n",
    "Определяет диапазон ячеек, которые будут обновлены, на основе размера данных.\n",
    "\n",
    "Преобразует список словарей в плоский список значений для обновления ячеек.\n",
    "\n",
    "Обновляет ячейки в указанном диапазоне значениями из данных (используя метод update_cells).\n",
    "\n",
    "Как вы видите, данный метод немного сложнее в синтаксисе, но, в то же время, он более гибкий. Кроме того, на примере данного метода вы увидели как просиходит обновление данных в ячейках (метод update_cells)."
   ]
  },
  {
   "cell_type": "code",
   "execution_count": null,
   "metadata": {},
   "outputs": [],
   "source": [
    "# Пишем функцию для получения данных:\n",
    "\n",
    "def extract_data_from_sheet(table: Spreadsheet, sheet_name: str) -> List[Dict]:\n",
    "    \"\"\"\n",
    "    Извлекает данные из указанного листа таблицы Google Sheets и возвращает список словарей.\n",
    "\n",
    "    :param table: Объект таблицы Google Sheets (Spreadsheet).\n",
    "    :param sheet_name: Название листа в таблице.\n",
    "    :return: Список словарей, представляющих данные из таблицы.\n",
    "    \"\"\"\n",
    "    worksheet = table.worksheet(sheet_name)\n",
    "    rows = worksheet.get_all_records()\n",
    "    return rows"
   ]
  },
  {
   "cell_type": "markdown",
   "metadata": {},
   "source": [
    "Как вы видите, все достаточно просто. Для того чтоб извлечь данные из указанного рабочего листа таблицы можно использовать метод get_all_records.\n",
    "\n",
    "Метод удобен, так как он сразу возвращает данные в виде списка питоновских словарей, принимая первую строку, как список ключей по умолчанию."
   ]
  },
  {
   "cell_type": "code",
   "execution_count": null,
   "metadata": {},
   "outputs": [],
   "source": [
    "# Тестируем:\n",
    "\n",
    "def test_get_data():\n",
    "    \"\"\"Тестирование извлечения данных из таблицы Google Sheets.\"\"\"\n",
    "    client = client_init_json()\n",
    "    table = get_table_by_id(client, table_id)\n",
    "    data = extract_data_from_sheet(table, 'РабочийЛист1')\n",
    "    for i in data:\n",
    "        print(i)\n",
    "\n",
    "\n",
    "test_get_data()\n",
    "# Результат:"
   ]
  },
  {
   "cell_type": "markdown",
   "metadata": {},
   "source": [
    "Теперь мы можем использовать ключ в каждом из словарей, для того чтоб фильтровать данные или получать конкретные значения.\n",
    "\n",
    "Для получения данных из таблицы Google Sheets без использования метода get_all_records(), можно воспользоваться более низкоуровневыми методами библиотеки gspread, такими как get для получения диапазона ячеек. Это позволяет более гибко управлять процессом извлечения данных."
   ]
  },
  {
   "cell_type": "code",
   "execution_count": null,
   "metadata": {},
   "outputs": [],
   "source": [
    "# Вот пример функции, которая извлекает данные из таблицы, используя метод get:\n",
    "\n",
    "def extract_data_from_sheet_var_2(table: Spreadsheet, sheet_name: str) -> List[Dict]:\n",
    "    \"\"\"\n",
    "    Извлекает данные из указанного листа таблицы Google Sheets и возвращает список словарей.\n",
    "\n",
    "    :param table: Объект таблицы Google Sheets (Spreadsheet).\n",
    "    :param sheet_name: Название листа в таблице.\n",
    "    :return: Список словарей, представляющих данные из таблицы.\n",
    "    \"\"\"\n",
    "    worksheet = table.worksheet(sheet_name)\n",
    "    headers = worksheet.row_values(1)  # Первая строка считается заголовками\n",
    "\n",
    "    data = []\n",
    "    rows = worksheet.get_all_values()[1:]  # Начинаем считывать с второй строки\n",
    "\n",
    "    for row in rows:\n",
    "        row_dict = {headers[i]: value for i, value in enumerate(row)}\n",
    "        data.append(row_dict)\n",
    "\n",
    "    return data"
   ]
  },
  {
   "cell_type": "markdown",
   "metadata": {},
   "source": [
    "Давайте рассмотрим тему с удалением данных из таблицы. Тут будет 2 варианта:\n",
    "\n",
    "Удаление данных из заданного диапазона ячеек на указанном рабочем листе таблицы Google Sheets.\n",
    "\n",
    "Удаление всех данных из указанного рабочего листа таблицы Google Sheets."
   ]
  },
  {
   "cell_type": "code",
   "execution_count": null,
   "metadata": {},
   "outputs": [],
   "source": [
    "def clear_range(table: Spreadsheet, sheet_name: str, start_cell: str, end_cell: str) -> None:\n",
    "    \"\"\"\n",
    "    Удаляет данные из заданного диапазона ячеек на указанном рабочем листе таблицы Google Sheets.\n",
    "\n",
    "    :param table: Объект таблицы Google Sheets (Spreadsheet).\n",
    "    :param sheet_name: Название листа в таблице.\n",
    "    :param start_cell: Начальная ячейка диапазона (например, 'A1').\n",
    "    :param end_cell: Конечная ячейка диапазона (например, 'B10').\n",
    "    \"\"\"\n",
    "    worksheet = table.worksheet(sheet_name)\n",
    "    cell_list = worksheet.range(f\"{start_cell}:{end_cell}\")\n",
    "    for cell in cell_list:\n",
    "        cell.value = ''\n",
    "    worksheet.update_cells(cell_list)\n",
    "    print(f\"Данные в диапазоне {start_cell}:{end_cell} на листе '{sheet_name}' были успешно удалены.\")\n",
    "# Давайте удалим данные в диапазоне A10:G11"
   ]
  },
  {
   "cell_type": "code",
   "execution_count": null,
   "metadata": {},
   "outputs": [],
   "source": [
    "# Тестируем:\n",
    "\n",
    "def test_dell_data():\n",
    "    \"\"\"Тестирование удаления данных по указанному диапазону.\"\"\"\n",
    "    client = client_init_json()\n",
    "    table = get_table_by_id(client, table_id)\n",
    "    clear_range(table=table, sheet_name=\"РабочийЛист1\", start_cell=\"A10\", end_cell=\"G11\")\n",
    "\n",
    "\n",
    "test_dell_data()\n",
    "\n",
    "# Смотрим:\n",
    "\n",
    "# Данные в диапазоне A10:G11 на листе 'РабочийЛист1' были успешно удалены."
   ]
  },
  {
   "cell_type": "code",
   "execution_count": null,
   "metadata": {},
   "outputs": [],
   "source": [
    "# Теперь удалим все данные с указанного листа:\n",
    "\n",
    "def clear_sheet(table: Spreadsheet, sheet_name: str) -> None:\n",
    "    \"\"\"\n",
    "    Удаляет все данные из указанного рабочего листа таблицы Google Sheets.\n",
    "\n",
    "    :param table: Объект таблицы Google Sheets (Spreadsheet).\n",
    "    :param sheet_name: Название листа в таблице.\n",
    "    \"\"\"\n",
    "    worksheet = table.worksheet(sheet_name)\n",
    "    worksheet.clear()\n",
    "    print(f\"Все данные на листе '{sheet_name}' были успешно удалены.\")\n",
    "\n",
    "# Тестируем удаление всех данных:\n",
    "\n",
    "def test_dell_all_data():\n",
    "    \"\"\"Тестирование удаления данных по указанному диапазону.\"\"\"\n",
    "    client = client_init_json()\n",
    "    table = get_table_by_id(client, table_id)\n",
    "    clear_sheet(table=table, sheet_name=\"РабочийЛист1\")\n",
    "\n",
    "\n",
    "test_dell_all_data()\n",
    "\n",
    "# Смотрим:\n",
    "\n",
    "# Все данные на листе 'РабочийЛист1' были успешно удалены."
   ]
  },
  {
   "cell_type": "code",
   "execution_count": null,
   "metadata": {},
   "outputs": [],
   "source": [
    "# Ссылка на полный код: GspreadTeach\n",
    "# https://github.com/Yakvenalex/GspreadTeach"
   ]
  },
  {
   "cell_type": "markdown",
   "metadata": {},
   "source": [
    "В заключение, работа с Google Таблицами через Python с использованием библиотеки Gspread предоставляет множество возможностей для автоматизации и управления данными. В данной статье мы рассмотрели основные шаги для настройки окружения, получения доступа к таблицам через сервисный аккаунт Google, а также основные операции работы с данными.\n",
    "\n",
    "Gspread предлагает удобные методы для чтения, записи и обновления данных, что позволяет разработчикам эффективно интегрировать Google Sheets в свои проекты. С помощью простых функций можно добавлять данные, получать и фильтровать информацию, а также удалять данные как в определенных диапазонах, так и полностью из листов.\n",
    "\n",
    "Надеюсь, что данное руководство помогло вам разобраться с основами работы с Google Таблицами через Python и вдохновило на создание собственных проектов с использованием этого мощного инструмента. Если это так, то сообщите об этом в комментариях, лайком или подпиской."
   ]
  },
  {
   "cell_type": "code",
   "execution_count": null,
   "metadata": {},
   "outputs": [],
   "source": []
  },
  {
   "cell_type": "markdown",
   "metadata": {},
   "source": [
    "## КОНЕЦ ТЕОРИИ"
   ]
  },
  {
   "cell_type": "code",
   "execution_count": null,
   "metadata": {},
   "outputs": [],
   "source": []
  },
  {
   "cell_type": "code",
   "execution_count": null,
   "metadata": {},
   "outputs": [],
   "source": []
  },
  {
   "cell_type": "code",
   "execution_count": 1,
   "metadata": {},
   "outputs": [],
   "source": [
    "# Выполним импорты:\n",
    "# from gspread import Client, Spreadsheet, Worksheet, service_account\n",
    "from gspread import Client, Spreadsheet, Worksheet, service_account, exceptions\n",
    "from typing import List, Dict\n",
    "\n",
    "import pandas as pd"
   ]
  },
  {
   "cell_type": "code",
   "execution_count": 63,
   "metadata": {},
   "outputs": [],
   "source": [
    "# Объявляем ключ для связи с сервисным аккаунтом и его расположение на диске\n",
    "gc = gspread.service_account(filename='../../beauty-salon-key.json')\n",
    "\n",
    "# Открытие электронной таблицы\n",
    "sau = gc.open('sauna_articles')"
   ]
  },
  {
   "cell_type": "code",
   "execution_count": null,
   "metadata": {},
   "outputs": [],
   "source": [
    "# Выбор рабочего листа\n",
    "# Выбрать лист по индексу. Индексы листов начинаются с нуля:\n",
    "worksheet = sh.get_worksheet(0)\n",
    "\n",
    "# Или по названию:\n",
    "worksheet = sh.worksheet(\"January\")\n",
    "\n",
    "# Или самый распространенный случай: Лист1 :\n",
    "worksheet = sh.sheet1\n",
    "\n",
    "# Чтобы получить список всех рабочих листов:\n",
    "worksheet_list = sh.worksheets()"
   ]
  },
  {
   "cell_type": "code",
   "execution_count": 64,
   "metadata": {},
   "outputs": [
    {
     "name": "stdout",
     "output_type": "stream",
     "text": [
      "<Worksheet 'chelyabinsk' id:0>\n"
     ]
    }
   ],
   "source": [
    "worksheet = sau.worksheet('chelyabinsk')\n",
    "print(worksheet)"
   ]
  },
  {
   "cell_type": "code",
   "execution_count": 65,
   "metadata": {},
   "outputs": [
    {
     "data": {
      "text/plain": [
       "[<Worksheet 'chelyabinsk' id:0>]"
      ]
     },
     "execution_count": 65,
     "metadata": {},
     "output_type": "execute_result"
    }
   ],
   "source": [
    "# Чтобы получить список всех рабочих листов:\n",
    "sau.worksheets()\n",
    "# worksheet_list = sau.worksheets()\n",
    "# print(worksheet_list)"
   ]
  },
  {
   "cell_type": "code",
   "execution_count": 66,
   "metadata": {},
   "outputs": [
    {
     "name": "stdout",
     "output_type": "stream",
     "text": [
      "<Worksheet 'chelyabinsk' id:0>\n"
     ]
    }
   ],
   "source": [
    "# \n",
    "worksheet = sau.get_worksheet(0)\n",
    "print(worksheet)"
   ]
  },
  {
   "cell_type": "code",
   "execution_count": 10,
   "metadata": {},
   "outputs": [
    {
     "data": {
      "text/plain": [
       "'2025-01-23 15:22:48'"
      ]
     },
     "execution_count": 10,
     "metadata": {},
     "output_type": "execute_result"
    }
   ],
   "source": [
    "# Добавим TIMESTEMP когда программа выполнилась\n",
    "from datetime import datetime\n",
    "\n",
    "datetime.now().strftime('%Y-%m-%d %H:%M:%S')"
   ]
  },
  {
   "cell_type": "code",
   "execution_count": 46,
   "metadata": {},
   "outputs": [
    {
     "data": {
      "text/html": [
       "<div>\n",
       "<style scoped>\n",
       "    .dataframe tbody tr th:only-of-type {\n",
       "        vertical-align: middle;\n",
       "    }\n",
       "\n",
       "    .dataframe tbody tr th {\n",
       "        vertical-align: top;\n",
       "    }\n",
       "\n",
       "    .dataframe thead th {\n",
       "        text-align: right;\n",
       "    }\n",
       "</style>\n",
       "<table border=\"1\" class=\"dataframe\">\n",
       "  <thead>\n",
       "    <tr style=\"text-align: right;\">\n",
       "      <th></th>\n",
       "      <th>Number</th>\n",
       "      <th>Topic</th>\n",
       "      <th>Link</th>\n",
       "      <th>timestamp</th>\n",
       "    </tr>\n",
       "  </thead>\n",
       "  <tbody>\n",
       "    <tr>\n",
       "      <th>23</th>\n",
       "      <td>24</td>\n",
       "      <td>Вагонка для отделки бани</td>\n",
       "      <td>https://chelyabinsk.bani.ru.com/poleznye-stati...</td>\n",
       "      <td>2025-01-21 19:45:44</td>\n",
       "    </tr>\n",
       "    <tr>\n",
       "      <th>24</th>\n",
       "      <td>25</td>\n",
       "      <td>Преимущества деревянной бани</td>\n",
       "      <td>https://chelyabinsk.bani.ru.com/poleznye-stati...</td>\n",
       "      <td>2025-01-21 19:45:44</td>\n",
       "    </tr>\n",
       "    <tr>\n",
       "      <th>25</th>\n",
       "      <td>26</td>\n",
       "      <td>Основные требования по эксплуатации бань</td>\n",
       "      <td>https://chelyabinsk.bani.ru.com/poleznye-stati...</td>\n",
       "      <td>2025-01-21 19:45:44</td>\n",
       "    </tr>\n",
       "    <tr>\n",
       "      <th>26</th>\n",
       "      <td>27</td>\n",
       "      <td>В чем разница между срощенной и обычной древес...</td>\n",
       "      <td>https://chelyabinsk.bani.ru.com/poleznye-stati...</td>\n",
       "      <td>2025-01-21 19:45:44</td>\n",
       "    </tr>\n",
       "    <tr>\n",
       "      <th>27</th>\n",
       "      <td>28</td>\n",
       "      <td>Секреты создания легкого и приятного пара</td>\n",
       "      <td>https://chelyabinsk.bani.ru.com/kak-sozdat-leg...</td>\n",
       "      <td>2025-01-21 19:45:44</td>\n",
       "    </tr>\n",
       "  </tbody>\n",
       "</table>\n",
       "</div>"
      ],
      "text/plain": [
       "    Number                                              Topic  \\\n",
       "23      24                           Вагонка для отделки бани   \n",
       "24      25                       Преимущества деревянной бани   \n",
       "25      26           Основные требования по эксплуатации бань   \n",
       "26      27  В чем разница между срощенной и обычной древес...   \n",
       "27      28          Секреты создания легкого и приятного пара   \n",
       "\n",
       "                                                 Link            timestamp  \n",
       "23  https://chelyabinsk.bani.ru.com/poleznye-stati...  2025-01-21 19:45:44  \n",
       "24  https://chelyabinsk.bani.ru.com/poleznye-stati...  2025-01-21 19:45:44  \n",
       "25  https://chelyabinsk.bani.ru.com/poleznye-stati...  2025-01-21 19:45:44  \n",
       "26  https://chelyabinsk.bani.ru.com/poleznye-stati...  2025-01-21 19:45:44  \n",
       "27  https://chelyabinsk.bani.ru.com/kak-sozdat-leg...  2025-01-21 19:45:44  "
      ]
     },
     "execution_count": 46,
     "metadata": {},
     "output_type": "execute_result"
    }
   ],
   "source": [
    "# Добавляем к датафрейму колонку с датой когда сформировалась таблица\n",
    "df1['timestamp'] = datetime.now().strftime('%Y-%m-%d %H:%M:%S')\n",
    "df1.tail()"
   ]
  },
  {
   "cell_type": "code",
   "execution_count": 70,
   "metadata": {},
   "outputs": [
    {
     "ename": "AttributeError",
     "evalue": "'Spreadsheet' object has no attribute 'update'",
     "output_type": "error",
     "traceback": [
      "\u001b[1;31m---------------------------------------------------------------------------\u001b[0m",
      "\u001b[1;31mAttributeError\u001b[0m                            Traceback (most recent call last)",
      "Cell \u001b[1;32mIn[70], line 3\u001b[0m\n\u001b[0;32m      1\u001b[0m \u001b[38;5;66;03m# Заливаем данные в Гугл-таблицы\u001b[39;00m\n\u001b[0;32m      2\u001b[0m \u001b[38;5;66;03m# Изменяем код примера в таблице\u001b[39;00m\n\u001b[1;32m----> 3\u001b[0m sau\u001b[38;5;241m.\u001b[39mupdate([df1\u001b[38;5;241m.\u001b[39mcolumns\u001b[38;5;241m.\u001b[39mvalues\u001b[38;5;241m.\u001b[39mtolist()] \u001b[38;5;241m+\u001b[39m df1\u001b[38;5;241m.\u001b[39mvalues\u001b[38;5;241m.\u001b[39mtolist())\n",
      "\u001b[1;31mAttributeError\u001b[0m: 'Spreadsheet' object has no attribute 'update'"
     ]
    }
   ],
   "source": [
    "# Заливаем данные в Гугл-таблицы\n",
    "# Изменяем код примера в таблице\n",
    "sau.update([df1.columns.values.tolist()] + df1.values.tolist())"
   ]
  },
  {
   "cell_type": "code",
   "execution_count": 52,
   "metadata": {},
   "outputs": [
    {
     "data": {
      "text/plain": [
       "{'spreadsheetId': '1-9n_S8-uQxykltg4g3N6ucY3uG_KnGjwU_phmjzITXU',\n",
       " 'replies': [{}]}"
      ]
     },
     "execution_count": 52,
     "metadata": {},
     "output_type": "execute_result"
    }
   ],
   "source": [
    "# Отформатировать строки - сделаем жирными заголовки таблицы:\n",
    "sau.format('A1:L1', {'textFormat': {'bold': True}})"
   ]
  },
  {
   "cell_type": "code",
   "execution_count": null,
   "metadata": {},
   "outputs": [],
   "source": []
  },
  {
   "cell_type": "code",
   "execution_count": 67,
   "metadata": {},
   "outputs": [
    {
     "data": {
      "text/plain": [
       "<Worksheet 'A worksheet' id:2015621942>"
      ]
     },
     "execution_count": 67,
     "metadata": {},
     "output_type": "execute_result"
    }
   ],
   "source": [
    "# Creating a Worksheet\n",
    "# worksheet = sau.add_worksheet(title=\"A worksheet\", rows=100, cols=20)\n",
    "\n",
    "sau.add_worksheet(title=\"A worksheet\", rows=100, cols=20)"
   ]
  },
  {
   "cell_type": "markdown",
   "metadata": {},
   "source": [
    "### Добавить новую строку в конец листа с помощью Gspread"
   ]
  },
  {
   "cell_type": "code",
   "execution_count": 82,
   "metadata": {},
   "outputs": [
    {
     "name": "stdout",
     "output_type": "stream",
     "text": [
      "<Worksheet 'vologda_2' id:427420938>\n",
      "<Worksheet 'vologda_2' id:427420938>\n"
     ]
    }
   ],
   "source": [
    "# У меня есть этот код, мне нужно добавить значения в столбцы в моей таблице Google, \n",
    "# и значения должны быть добавлены в конец таблицы в новой строке, не удаляя существующие данные.\n",
    "\n",
    "# Создаем клиента и открываем таблицу\n",
    "table = get_table(table_link)\n",
    "\n",
    "# Выбор рабочего листа\n",
    "# Выбрать лист по индексу. Индексы листов начинаются с нуля: table.GET_workssheet(0) !!!!!\n",
    "worksheetss = table.get_worksheet(4) # \"vologda_2\"\n",
    "\n",
    "# Или по названию:\n",
    "print(worksheetss)\n",
    "worksheetsss = table.worksheet('vologda_2') # \"vologda_2\": table.WORKSHEET('Sheet_Name') !!!!!\n",
    "print(worksheetsss)\n",
    "\n",
    "# all_values = worksheetss.get_all_values()\n",
    "# row_count = len(all_values)\n",
    "# sheet_range = \"'{}'!{row}:{row}\".format(worksheetss.title, row=row_count+1+5)\n",
    "\n",
    "# values = {\n",
    "#   \"Topic\": \"Ford\",\n",
    "#   \"Link\": \"34\",\n",
    "#   \"timestamp\": 'Blue'\n",
    "# }\n",
    "# worksheet.append_row(sheet_range, values)"
   ]
  },
  {
   "cell_type": "code",
   "execution_count": 79,
   "metadata": {},
   "outputs": [
    {
     "name": "stdout",
     "output_type": "stream",
     "text": [
      "[<Worksheet 'chelyabinsk' id:0>, <Worksheet 'surgut' id:2015621942>, <Worksheet 'vologda' id:173362967>, <Worksheet 'vologda_1' id:228546517>, <Worksheet 'vologda_2' id:427420938>]\n"
     ]
    }
   ],
   "source": [
    "worksheet_list = table.worksheets()\n",
    "print(worksheet_list)"
   ]
  },
  {
   "cell_type": "code",
   "execution_count": null,
   "metadata": {},
   "outputs": [],
   "source": [
    "# Я понял, на самом деле все довольно просто.\n",
    "\n",
    "body=[0, 4, 9,7,5] #the values should be a list\n",
    "\n",
    "worksheet.append_row(body, table_range=\"A1:E1\") \n",
    "\n",
    "#table_range should be range of columns in the sheet, example from A1 to E1 (A1:E1), other parameters are optional. \n",
    "# this will append the values in body to the last row in the sheet and it will not overwrite existing data.\n",
    "\n",
    "# table_range должен быть диапазоном столбцов в таблице, например от A1 до E1 (A1:E1), другие параметры необязательны.\n",
    "# это добавит значения в body в последнюю строку в таблице и не перезапишет существующие данные."
   ]
  },
  {
   "cell_type": "code",
   "execution_count": null,
   "metadata": {},
   "outputs": [],
   "source": []
  },
  {
   "cell_type": "code",
   "execution_count": 53,
   "metadata": {},
   "outputs": [
    {
     "data": {
      "text/html": [
       "<div>\n",
       "<style scoped>\n",
       "    .dataframe tbody tr th:only-of-type {\n",
       "        vertical-align: middle;\n",
       "    }\n",
       "\n",
       "    .dataframe tbody tr th {\n",
       "        vertical-align: top;\n",
       "    }\n",
       "\n",
       "    .dataframe thead th {\n",
       "        text-align: right;\n",
       "    }\n",
       "</style>\n",
       "<table border=\"1\" class=\"dataframe\">\n",
       "  <thead>\n",
       "    <tr style=\"text-align: right;\">\n",
       "      <th></th>\n",
       "      <th>Number</th>\n",
       "      <th>Topic</th>\n",
       "      <th>Link</th>\n",
       "      <th>timestamp</th>\n",
       "    </tr>\n",
       "  </thead>\n",
       "  <tbody>\n",
       "    <tr>\n",
       "      <th>0</th>\n",
       "      <td>1</td>\n",
       "      <td>Как сделать фундамент для бани-бочки?</td>\n",
       "      <td>https://chelyabinsk.bani.ru.com/poleznye-stati...</td>\n",
       "      <td>2025-01-21 19:45:44</td>\n",
       "    </tr>\n",
       "    <tr>\n",
       "      <th>1</th>\n",
       "      <td>2</td>\n",
       "      <td>Печь в бане-бочке: печь с топкой через перегор...</td>\n",
       "      <td>https://chelyabinsk.bani.ru.com/poleznye-stati...</td>\n",
       "      <td>2025-01-21 19:45:44</td>\n",
       "    </tr>\n",
       "    <tr>\n",
       "      <th>2</th>\n",
       "      <td>3</td>\n",
       "      <td>Правила эксплуатации бань-бочек</td>\n",
       "      <td>https://chelyabinsk.bani.ru.com/poleznye-stati...</td>\n",
       "      <td>2025-01-21 19:45:44</td>\n",
       "    </tr>\n",
       "    <tr>\n",
       "      <th>3</th>\n",
       "      <td>4</td>\n",
       "      <td>Что нужно знать при покупке?</td>\n",
       "      <td>https://chelyabinsk.bani.ru.com/poleznye-stati...</td>\n",
       "      <td>2025-01-21 19:45:44</td>\n",
       "    </tr>\n",
       "    <tr>\n",
       "      <th>4</th>\n",
       "      <td>5</td>\n",
       "      <td>Эксплуатация бани-бочки зимой</td>\n",
       "      <td>https://chelyabinsk.bani.ru.com/poleznye-stati...</td>\n",
       "      <td>2025-01-21 19:45:44</td>\n",
       "    </tr>\n",
       "  </tbody>\n",
       "</table>\n",
       "</div>"
      ],
      "text/plain": [
       "   Number                                              Topic  \\\n",
       "0       1              Как сделать фундамент для бани-бочки?   \n",
       "1       2  Печь в бане-бочке: печь с топкой через перегор...   \n",
       "2       3                    Правила эксплуатации бань-бочек   \n",
       "3       4                       Что нужно знать при покупке?   \n",
       "4       5                      Эксплуатация бани-бочки зимой   \n",
       "\n",
       "                                                Link            timestamp  \n",
       "0  https://chelyabinsk.bani.ru.com/poleznye-stati...  2025-01-21 19:45:44  \n",
       "1  https://chelyabinsk.bani.ru.com/poleznye-stati...  2025-01-21 19:45:44  \n",
       "2  https://chelyabinsk.bani.ru.com/poleznye-stati...  2025-01-21 19:45:44  \n",
       "3  https://chelyabinsk.bani.ru.com/poleznye-stati...  2025-01-21 19:45:44  \n",
       "4  https://chelyabinsk.bani.ru.com/poleznye-stati...  2025-01-21 19:45:44  "
      ]
     },
     "execution_count": 53,
     "metadata": {},
     "output_type": "execute_result"
    }
   ],
   "source": [
    "# Самый простой способ получить данные из таблицы в pandas DataFrame — это get_all_records():\n",
    "sauna_df = pd.DataFrame(sau.get_all_records())\n",
    "sauna_df.head()"
   ]
  },
  {
   "cell_type": "code",
   "execution_count": null,
   "metadata": {},
   "outputs": [],
   "source": []
  },
  {
   "cell_type": "markdown",
   "metadata": {},
   "source": [
    "## Проработанный скрипт для записи Pandas DF в GoogleSheets"
   ]
  },
  {
   "cell_type": "code",
   "execution_count": 71,
   "metadata": {},
   "outputs": [],
   "source": [
    "# Выполним импорты:\n",
    "# from gspread import Client, Spreadsheet, Worksheet, service_account\n",
    "from gspread import Client, Spreadsheet, Worksheet, service_account, exceptions\n",
    "from typing import List, Dict\n",
    "\n",
    "import pandas as pd"
   ]
  },
  {
   "cell_type": "code",
   "execution_count": null,
   "metadata": {},
   "outputs": [],
   "source": []
  },
  {
   "cell_type": "markdown",
   "metadata": {},
   "source": [
    "### 0. Инициализация"
   ]
  },
  {
   "cell_type": "code",
   "execution_count": 51,
   "metadata": {},
   "outputs": [
    {
     "data": {
      "text/plain": [
       "<gspread.client.Client at 0x1fe83748c50>"
      ]
     },
     "execution_count": 51,
     "metadata": {},
     "output_type": "execute_result"
    }
   ],
   "source": [
    "# Напишем функцию, которая позволит выполнить инициализацию клиента для работы с Google Sheets через загруженный JSON:\n",
    "\n",
    "def client_init_json() -> Client:\n",
    "    \"\"\"Создание клиента для работы с Google Sheets.\"\"\"\n",
    "    return service_account(filename='../../beauty-salon-key.json')\n",
    "\n",
    "# Если мы просто вызовем эту функцию и распечатаем результат, то увидим следующее:\n",
    "# <gspread.client.Client object at 0x00000166052A0380>\n",
    "# Такой ответ говорит нам о том, что авторизация прошла корректно.\n",
    "client_init_json()"
   ]
  },
  {
   "cell_type": "code",
   "execution_count": 52,
   "metadata": {},
   "outputs": [],
   "source": [
    "# Для получения ссылки на таблицу (а из нее ещё и ID) просто копируем ссылку с браузера на таблицу.\n",
    "table_link = 'https://docs.google.com/spreadsheets/d/1-9n_S8-uQxykltg4g3N6ucY3uG_KnGjwU_phmjzITXU/edit?gid=0#gid=0'"
   ]
  },
  {
   "cell_type": "code",
   "execution_count": 53,
   "metadata": {},
   "outputs": [
    {
     "name": "stdout",
     "output_type": "stream",
     "text": [
      "Инфо по таблице по ссылке:  <Spreadsheet 'sauna_articles' id:1-9n_S8-uQxykltg4g3N6ucY3uG_KnGjwU_phmjzITXU>\n"
     ]
    }
   ],
   "source": [
    "# Пишем код для доступа к таблице:\n",
    "\n",
    "def get_table_by_url(client: Client, table_url):\n",
    "    \"\"\"Получение таблицы из Google Sheets по ссылке.\"\"\"\n",
    "    return client.open_by_url(table_url)\n",
    "\n",
    "# Тестируем:\n",
    "\n",
    "def test_get_table(table_url: str):\n",
    "    \"\"\"Тестирование получения таблицы из Google Sheets.\"\"\"\n",
    "    \n",
    "    # Создаем клиента и открываем таблицу\n",
    "    client = client_init_json()\n",
    "    table = get_table_by_url(client, table_url)\n",
    "    print('Инфо по таблице по ссылке: ', table)\n",
    "\n",
    "if __name__ == '__main__':\n",
    "    test_get_table(table_link)"
   ]
  },
  {
   "cell_type": "code",
   "execution_count": null,
   "metadata": {},
   "outputs": [],
   "source": []
  },
  {
   "cell_type": "markdown",
   "metadata": {},
   "source": [
    "### 1. Создаем клиента и открываем таблицу"
   ]
  },
  {
   "cell_type": "code",
   "execution_count": 54,
   "metadata": {},
   "outputs": [],
   "source": [
    "# Создаем клиента и открываем таблицу\n",
    "def get_table(table_url: str):\n",
    "    # Инициализация клиента\n",
    "    client = client_init_json()\n",
    "\n",
    "    # Доступ к таблице\n",
    "    table = get_table_by_url(client, table_url)\n",
    "    # print('Инфо по таблице по ссылке: ', table)\n",
    "\n",
    "    return table\n",
    "\n",
    "if __name__ == '__main__':\n",
    "    get_table(table_link)"
   ]
  },
  {
   "cell_type": "code",
   "execution_count": 55,
   "metadata": {},
   "outputs": [
    {
     "name": "stdout",
     "output_type": "stream",
     "text": [
      "Работает функция: MAIN_FULL - Количество листов: 5 - Названия листов:\n",
      "chelyabinsk\n",
      "surgut\n",
      "vologda\n",
      "vologda_1\n",
      "vologda_2\n"
     ]
    }
   ],
   "source": [
    "# Для начала давайте узнаем количество листов в таблице и их название.\n",
    "\n",
    "def get_worksheet_info(table: Spreadsheet) -> dict:\n",
    "    \"\"\"Возвращает количество листов в таблице и их названия.\"\"\"\n",
    "    worksheets = table.worksheets()\n",
    "    worksheet_info = {\n",
    "        \"count\": len(worksheets),\n",
    "        \"names\": [worksheet.title for worksheet in worksheets]\n",
    "    }\n",
    "    return worksheet_info\n",
    "\n",
    "\n",
    "def main_full():\n",
    "    # Создаем клиента и открываем таблицу\n",
    "    client = client_init_json()\n",
    "    table = get_table_by_url(client, table_link)\n",
    "    \n",
    "    # Получаем информацию о листах\n",
    "    info = get_worksheet_info(table)\n",
    "    print('Работает функция: MAIN_FULL', end=' - ')\n",
    "    print(f\"Количество листов: {info['count']}\", end=' - ')\n",
    "    print(\"Названия листов:\")\n",
    "    for name in info['names']:\n",
    "        print(name)\n",
    "    # print(dir(table))\n",
    "    \n",
    "\n",
    "if __name__ == '__main__':\n",
    "    main_full()"
   ]
  },
  {
   "cell_type": "code",
   "execution_count": 56,
   "metadata": {},
   "outputs": [
    {
     "name": "stdout",
     "output_type": "stream",
     "text": [
      "Работает функция: MAIN - Количество листов: 5 - Названия листов:\n",
      "chelyabinsk\n",
      "surgut\n",
      "vologda\n",
      "vologda_1\n",
      "vologda_2\n"
     ]
    }
   ],
   "source": [
    "# ТО ЖЕ САМОЕ С ИСПОЛЬЗОВАНИЕМ ФУНКЦИИ ИНИЦИАЛИЗАЦИИ\n",
    "\n",
    "def get_worksheet_info(table: Spreadsheet) -> dict:\n",
    "    \"\"\"Возвращает количество листов в таблице и их названия.\"\"\"\n",
    "    worksheets = table.worksheets()\n",
    "    worksheet_info = {\n",
    "        \"count\": len(worksheets),\n",
    "        \"names\": [worksheet.title for worksheet in worksheets]\n",
    "    }\n",
    "    return worksheet_info\n",
    "\n",
    "\n",
    "def main():\n",
    "    # Создаем клиента и открываем таблицу\n",
    "    table = get_table(table_link)\n",
    "\n",
    "    # Получаем информацию о листах\n",
    "    info = get_worksheet_info(table)\n",
    "    print('Работает функция: MAIN', end=' - ')\n",
    "    print(f\"Количество листов: {info['count']}\", end=' - ')\n",
    "    print(\"Названия листов:\")\n",
    "    for name in info['names']:\n",
    "        print(name)\n",
    "\n",
    "\n",
    "if __name__ == '__main__':\n",
    "    main()"
   ]
  },
  {
   "cell_type": "code",
   "execution_count": null,
   "metadata": {},
   "outputs": [],
   "source": []
  },
  {
   "cell_type": "markdown",
   "metadata": {},
   "source": [
    "### 2. Создание нового листа через клиента. Удаление листа."
   ]
  },
  {
   "cell_type": "code",
   "execution_count": 103,
   "metadata": {},
   "outputs": [
    {
     "name": "stdout",
     "output_type": "stream",
     "text": [
      "SHEET vologda_2 CREATED from TABLE <Spreadsheet 'sauna_articles' id:1-9n_S8-uQxykltg4g3N6ucY3uG_KnGjwU_phmjzITXU>!\n",
      "<Worksheet 'vologda_2' id:64309427>\n"
     ]
    }
   ],
   "source": [
    "def create_worksheet(table: Spreadsheet, title: str, rows: int, cols: int):\n",
    "    \"\"\"Создание листа в таблице.\"\"\"\n",
    "    print(f'SHEET {title} CREATED from TABLE {table}!')\n",
    "    return table.add_worksheet(title, rows, cols)\n",
    "\n",
    "    \n",
    "# Тестируем\n",
    "def test_create_worksheet():\n",
    "    \n",
    "    # Создаем клиента и открываем таблицу\n",
    "    table = get_table(table_link)\n",
    "    \n",
    "    # Через функцию определяем Название таблицы, Название нового листа, Количество строк и столбцов (необязательно)\n",
    "    new_list = create_worksheet(table, 'vologda_2', rows=50, cols=10)\n",
    "    print(new_list)\n",
    "\n",
    "test_create_worksheet()\n",
    "\n",
    "# Результат:\n",
    "# <Worksheet 'vologda' id:1534257905>\n",
    "# Обратите внимание. Листу присвоеy id. Смотрим в таблицу:"
   ]
  },
  {
   "cell_type": "code",
   "execution_count": null,
   "metadata": {},
   "outputs": [],
   "source": []
  },
  {
   "cell_type": "code",
   "execution_count": 113,
   "metadata": {},
   "outputs": [
    {
     "name": "stdout",
     "output_type": "stream",
     "text": [
      "SHEET vologda_2 REMOVED from TABLE <Spreadsheet 'sauna_articles' id:1-9n_S8-uQxykltg4g3N6ucY3uG_KnGjwU_phmjzITXU>!\n"
     ]
    }
   ],
   "source": [
    "# Для удаления листа можно использовать такую функцию:\n",
    "\n",
    "def delete_worksheet(table: Spreadsheet, title: str):\n",
    "    \"\"\"Удаление листа из таблицы.\"\"\"\n",
    "    print(f'SHEET {title} REMOVED from TABLE {table}!')\n",
    "    return table.del_worksheet(table.worksheet(title))\n",
    "\n",
    "# Пример использования:\n",
    "\n",
    "def test_dell_worksheet():\n",
    "    # Создаем клиента и открываем таблицу\n",
    "    table = get_table(table_link)\n",
    "    \n",
    "    # Удаление листа по его названию через специально созданную функцию\n",
    "    delete_worksheet(table, title='vologda_2')\n",
    "\n",
    "\n",
    "test_dell_worksheet()"
   ]
  },
  {
   "cell_type": "code",
   "execution_count": null,
   "metadata": {},
   "outputs": [],
   "source": []
  },
  {
   "cell_type": "markdown",
   "metadata": {},
   "source": [
    "### 3. Добавление данных в таблицу (ДВА варианта)"
   ]
  },
  {
   "cell_type": "code",
   "execution_count": null,
   "metadata": {},
   "outputs": [],
   "source": []
  },
  {
   "cell_type": "code",
   "execution_count": 57,
   "metadata": {},
   "outputs": [
    {
     "name": "stdout",
     "output_type": "stream",
     "text": [
      "[{'Number': 1, 'Topic': 'Как сделать фундамент для бани-бочки?', 'Link': 'https://chelyabinsk.bani.ru.com/poleznye-statiy/kak-sdelat-fundament-dlya-bani-bochki/', 'DateTime': '2025-01-23 16:26:20'}, {'Number': 2, 'Topic': 'Печь в бане-бочке: печь с топкой через перегородку или на улицу — плюсы и минусы', 'Link': 'https://chelyabinsk.bani.ru.com/poleznye-statiy/pech-v-bane-bochke-varianty-raspolozheniya/', 'DateTime': '2025-01-23 16:26:22'}, {'Number': 3, 'Topic': 'Правила эксплуатации бань-бочек', 'Link': 'https://chelyabinsk.bani.ru.com/poleznye-statiy/pravila-ekspluatacii-bani-bochki-kak-prodlit-srok-sluzhby/', 'DateTime': '2025-01-23 16:26:25'}, {'Number': 4, 'Topic': 'Что нужно знать при покупке?', 'Link': 'https://chelyabinsk.bani.ru.com/poleznye-statiy/chto-nuzhno-znat-pri-pokupke-bani-bochki/', 'DateTime': '2025-01-23 16:26:27'}, {'Number': 5, 'Topic': 'Эксплуатация бани-бочки зимой', 'Link': 'https://chelyabinsk.bani.ru.com/poleznye-statiy/ekspluataciya-bani-bochki-zimoj/', 'DateTime': '2025-01-23 16:26:29'}, {'Number': 6, 'Topic': 'Почему покупатели выбирают Бани-бочки?', 'Link': 'https://chelyabinsk.bani.ru.com/poleznye-statiy/pochemu-pokupateli-vybirajut-bani-bochki/', 'DateTime': '2025-01-23 16:26:32'}, {'Number': 7, 'Topic': 'Планировки и внутреннее устройство бань-бочек', 'Link': 'https://chelyabinsk.bani.ru.com/poleznye-statiy/planirovki-i-vnutrennee-ustrojstvo-ban-bochek/', 'DateTime': '2025-01-23 16:26:35'}, {'Number': 8, 'Topic': 'Выбор материала при производстве и отделке бани-бочки', 'Link': 'https://chelyabinsk.bani.ru.com/poleznye-statiy/vybor-materiala-pri-proizvodstve-i-otdelke-bani-bochki/', 'DateTime': '2025-01-23 16:26:37'}, {'Number': 9, 'Topic': 'ТОП-15 причин, почему нужно выбирать бани Лукоморье', 'Link': 'https://chelyabinsk.bani.ru.com/poleznye-statiy/pochemu-pokupateli-vybirajut-bani-lukomore/', 'DateTime': '2025-01-23 16:26:40'}, {'Number': 10, 'Topic': 'Популярные дополнения к бане', 'Link': 'https://chelyabinsk.bani.ru.com/poleznye-statiy/populyarnye-dopolneniya-k-bane/', 'DateTime': '2025-01-23 16:26:42'}, {'Number': 11, 'Topic': 'Как топить баню-бочку?', 'Link': 'https://chelyabinsk.bani.ru.com/poleznye-statiy/kak-topit-banju-bochku/', 'DateTime': '2025-01-23 16:26:45'}, {'Number': 12, 'Topic': 'Как устроена баня-бочка?', 'Link': 'https://chelyabinsk.bani.ru.com/poleznye-statiy/kak-ustroena-banya-bochka/', 'DateTime': '2025-01-23 16:26:48'}, {'Number': 13, 'Topic': 'Как сделать баню-бочку своими руками?', 'Link': 'https://chelyabinsk.bani.ru.com/poleznye-statiy/kak-sdelat-banju-bochku-svoimi-rukami/', 'DateTime': '2025-01-23 16:26:50'}, {'Number': 14, 'Topic': 'Баня-бочка по финской технологии', 'Link': 'https://chelyabinsk.bani.ru.com/poleznye-statiy/banya-bochka-po-finskoj-tehnologii/', 'DateTime': '2025-01-23 16:26:53'}, {'Number': 15, 'Topic': 'Виды веников для бани и как правильно их запаривать?', 'Link': 'https://chelyabinsk.bani.ru.com/poleznye-statiy/vidy-venikov-dlya-bani-i-kak-pravilno-ih-zaparivat/', 'DateTime': '2025-01-23 16:26:56'}, {'Number': 16, 'Topic': 'Полезна ли баня для здоровья?', 'Link': 'https://chelyabinsk.bani.ru.com/poleznye-statiy/polezna-li-banya-dlya-zdorovya/', 'DateTime': '2025-01-23 16:26:59'}, {'Number': 17, 'Topic': 'Внешний вид бани: обработка и отделка', 'Link': 'https://chelyabinsk.bani.ru.com/poleznye-statiy/vneshnij-vid-bani-obrabotka-i-otdelka/', 'DateTime': '2025-01-23 16:27:01'}, {'Number': 18, 'Topic': 'Сборка бани бочки на участке', 'Link': 'https://chelyabinsk.bani.ru.com/poleznye-statiy/sborka-bani-bochki-na-uchastke/', 'DateTime': '2025-01-23 16:27:04'}, {'Number': 19, 'Topic': 'Финская и русская баня-бочка: в чем разница', 'Link': 'https://chelyabinsk.bani.ru.com/poleznye-statiy/finskaya-i-russkaya-banya-v-chem-raznica/', 'DateTime': '2025-01-23 16:27:07'}, {'Number': 20, 'Topic': 'Баня-бочка из кедра или ели, что лучше?', 'Link': 'https://chelyabinsk.bani.ru.com/poleznye-statiy/banya-bochka-iz-kedra-ili-eli/', 'DateTime': '2025-01-23 16:27:09'}, {'Number': 21, 'Topic': 'Виды кровли для бани', 'Link': 'https://chelyabinsk.bani.ru.com/poleznye-statiy/vidy-krovli-dlya-bani/', 'DateTime': '2025-01-23 16:27:12'}, {'Number': 22, 'Topic': 'Какой должна быть влажность бруса при строительстве бани?', 'Link': 'https://chelyabinsk.bani.ru.com/poleznye-statiy/kakoj-dolzhna-byt-vlazhnost-brusa-pri-stroitelstve-bani/', 'DateTime': '2025-01-23 16:27:14'}, {'Number': 23, 'Topic': 'Печь для бани — какую выбрать?', 'Link': 'https://chelyabinsk.bani.ru.com/poleznye-statiy/pech-dlya-bani/', 'DateTime': '2025-01-23 16:27:17'}, {'Number': 24, 'Topic': 'Вагонка для отделки бани', 'Link': 'https://chelyabinsk.bani.ru.com/poleznye-statiy/vagonka-dlya-otdelki-bani/', 'DateTime': '2025-01-23 16:27:20'}, {'Number': 25, 'Topic': 'Преимущества деревянной бани', 'Link': 'https://chelyabinsk.bani.ru.com/poleznye-statiy/derevyannye-bani/', 'DateTime': '2025-01-23 16:27:23'}, {'Number': 26, 'Topic': 'Основные требования по эксплуатации бань', 'Link': 'https://chelyabinsk.bani.ru.com/poleznye-statiy/osnovnye-trebovaniya-po-ekspluatacii-ban/', 'DateTime': '2025-01-23 16:27:25'}, {'Number': 27, 'Topic': 'В чем разница между срощенной и обычной древесиной', 'Link': 'https://chelyabinsk.bani.ru.com/poleznye-statiy/v-chem-raznica-mezhdu-sroshhennoj-i-obychnoj-drevesinoj/', 'DateTime': '2025-01-23 16:27:28'}, {'Number': 28, 'Topic': 'Секреты создания легкого и приятного пара', 'Link': 'https://chelyabinsk.bani.ru.com/kak-sozdat-legkij-i-priyatnyj-par-v-bane-bochke/', 'DateTime': '2025-01-23 16:27:30'}]\n"
     ]
    }
   ],
   "source": [
    "import json\n",
    "\n",
    "with open('../data/processed/json/barrels_articles_clb.json', encoding='utf-8') as file:\n",
    "    data1 = json.load(file)\n",
    "    print(data1)"
   ]
  },
  {
   "cell_type": "code",
   "execution_count": 58,
   "metadata": {},
   "outputs": [
    {
     "data": {
      "text/html": [
       "<div>\n",
       "<style scoped>\n",
       "    .dataframe tbody tr th:only-of-type {\n",
       "        vertical-align: middle;\n",
       "    }\n",
       "\n",
       "    .dataframe tbody tr th {\n",
       "        vertical-align: top;\n",
       "    }\n",
       "\n",
       "    .dataframe thead th {\n",
       "        text-align: right;\n",
       "    }\n",
       "</style>\n",
       "<table border=\"1\" class=\"dataframe\">\n",
       "  <thead>\n",
       "    <tr style=\"text-align: right;\">\n",
       "      <th></th>\n",
       "      <th>Number</th>\n",
       "      <th>Topic</th>\n",
       "      <th>Link</th>\n",
       "      <th>DateTime</th>\n",
       "    </tr>\n",
       "  </thead>\n",
       "  <tbody>\n",
       "    <tr>\n",
       "      <th>23</th>\n",
       "      <td>24</td>\n",
       "      <td>Вагонка для отделки бани</td>\n",
       "      <td>https://chelyabinsk.bani.ru.com/poleznye-stati...</td>\n",
       "      <td>2025-01-23 16:27:20</td>\n",
       "    </tr>\n",
       "    <tr>\n",
       "      <th>24</th>\n",
       "      <td>25</td>\n",
       "      <td>Преимущества деревянной бани</td>\n",
       "      <td>https://chelyabinsk.bani.ru.com/poleznye-stati...</td>\n",
       "      <td>2025-01-23 16:27:23</td>\n",
       "    </tr>\n",
       "    <tr>\n",
       "      <th>25</th>\n",
       "      <td>26</td>\n",
       "      <td>Основные требования по эксплуатации бань</td>\n",
       "      <td>https://chelyabinsk.bani.ru.com/poleznye-stati...</td>\n",
       "      <td>2025-01-23 16:27:25</td>\n",
       "    </tr>\n",
       "    <tr>\n",
       "      <th>26</th>\n",
       "      <td>27</td>\n",
       "      <td>В чем разница между срощенной и обычной древес...</td>\n",
       "      <td>https://chelyabinsk.bani.ru.com/poleznye-stati...</td>\n",
       "      <td>2025-01-23 16:27:28</td>\n",
       "    </tr>\n",
       "    <tr>\n",
       "      <th>27</th>\n",
       "      <td>28</td>\n",
       "      <td>Секреты создания легкого и приятного пара</td>\n",
       "      <td>https://chelyabinsk.bani.ru.com/kak-sozdat-leg...</td>\n",
       "      <td>2025-01-23 16:27:30</td>\n",
       "    </tr>\n",
       "  </tbody>\n",
       "</table>\n",
       "</div>"
      ],
      "text/plain": [
       "    Number                                              Topic  \\\n",
       "23      24                           Вагонка для отделки бани   \n",
       "24      25                       Преимущества деревянной бани   \n",
       "25      26           Основные требования по эксплуатации бань   \n",
       "26      27  В чем разница между срощенной и обычной древес...   \n",
       "27      28          Секреты создания легкого и приятного пара   \n",
       "\n",
       "                                                 Link            DateTime  \n",
       "23  https://chelyabinsk.bani.ru.com/poleznye-stati... 2025-01-23 16:27:20  \n",
       "24  https://chelyabinsk.bani.ru.com/poleznye-stati... 2025-01-23 16:27:23  \n",
       "25  https://chelyabinsk.bani.ru.com/poleznye-stati... 2025-01-23 16:27:25  \n",
       "26  https://chelyabinsk.bani.ru.com/poleznye-stati... 2025-01-23 16:27:28  \n",
       "27  https://chelyabinsk.bani.ru.com/kak-sozdat-leg... 2025-01-23 16:27:30  "
      ]
     },
     "execution_count": 58,
     "metadata": {},
     "output_type": "execute_result"
    }
   ],
   "source": [
    "# Преобразуем объект в пандасовский датафрейм\n",
    "# import pandas as pd\n",
    "df1 = pd.DataFrame(data1)\n",
    "df1['DateTime'] = pd.to_datetime(df1['DateTime'])\n",
    "df1.tail()"
   ]
  },
  {
   "cell_type": "code",
   "execution_count": 59,
   "metadata": {},
   "outputs": [
    {
     "data": {
      "text/plain": [
       "Number               int64\n",
       "Topic               object\n",
       "Link                object\n",
       "DateTime    datetime64[ns]\n",
       "dtype: object"
      ]
     },
     "execution_count": 59,
     "metadata": {},
     "output_type": "execute_result"
    }
   ],
   "source": [
    "df1.dtypes"
   ]
  },
  {
   "cell_type": "code",
   "execution_count": 116,
   "metadata": {},
   "outputs": [
    {
     "data": {
      "text/plain": [
       "'2025-01-22'"
      ]
     },
     "execution_count": 116,
     "metadata": {},
     "output_type": "execute_result"
    }
   ],
   "source": [
    "# Добавим TIMESTEMP когда программа выполнилась\n",
    "from datetime import datetime\n",
    "\n",
    "datetime.now().strftime('%Y-%m-%d')"
   ]
  },
  {
   "cell_type": "code",
   "execution_count": 117,
   "metadata": {},
   "outputs": [
    {
     "data": {
      "text/html": [
       "<div>\n",
       "<style scoped>\n",
       "    .dataframe tbody tr th:only-of-type {\n",
       "        vertical-align: middle;\n",
       "    }\n",
       "\n",
       "    .dataframe tbody tr th {\n",
       "        vertical-align: top;\n",
       "    }\n",
       "\n",
       "    .dataframe thead th {\n",
       "        text-align: right;\n",
       "    }\n",
       "</style>\n",
       "<table border=\"1\" class=\"dataframe\">\n",
       "  <thead>\n",
       "    <tr style=\"text-align: right;\">\n",
       "      <th></th>\n",
       "      <th>Number</th>\n",
       "      <th>Topic</th>\n",
       "      <th>Link</th>\n",
       "      <th>timestamp</th>\n",
       "    </tr>\n",
       "  </thead>\n",
       "  <tbody>\n",
       "    <tr>\n",
       "      <th>23</th>\n",
       "      <td>24</td>\n",
       "      <td>Вагонка для отделки бани</td>\n",
       "      <td>https://chelyabinsk.bani.ru.com/poleznye-stati...</td>\n",
       "      <td>2025-01-22 21:26</td>\n",
       "    </tr>\n",
       "    <tr>\n",
       "      <th>24</th>\n",
       "      <td>25</td>\n",
       "      <td>Преимущества деревянной бани</td>\n",
       "      <td>https://chelyabinsk.bani.ru.com/poleznye-stati...</td>\n",
       "      <td>2025-01-22 21:26</td>\n",
       "    </tr>\n",
       "    <tr>\n",
       "      <th>25</th>\n",
       "      <td>26</td>\n",
       "      <td>Основные требования по эксплуатации бань</td>\n",
       "      <td>https://chelyabinsk.bani.ru.com/poleznye-stati...</td>\n",
       "      <td>2025-01-22 21:26</td>\n",
       "    </tr>\n",
       "    <tr>\n",
       "      <th>26</th>\n",
       "      <td>27</td>\n",
       "      <td>В чем разница между срощенной и обычной древес...</td>\n",
       "      <td>https://chelyabinsk.bani.ru.com/poleznye-stati...</td>\n",
       "      <td>2025-01-22 21:26</td>\n",
       "    </tr>\n",
       "    <tr>\n",
       "      <th>27</th>\n",
       "      <td>28</td>\n",
       "      <td>Секреты создания легкого и приятного пара</td>\n",
       "      <td>https://chelyabinsk.bani.ru.com/kak-sozdat-leg...</td>\n",
       "      <td>2025-01-22 21:26</td>\n",
       "    </tr>\n",
       "  </tbody>\n",
       "</table>\n",
       "</div>"
      ],
      "text/plain": [
       "    Number                                              Topic  \\\n",
       "23      24                           Вагонка для отделки бани   \n",
       "24      25                       Преимущества деревянной бани   \n",
       "25      26           Основные требования по эксплуатации бань   \n",
       "26      27  В чем разница между срощенной и обычной древес...   \n",
       "27      28          Секреты создания легкого и приятного пара   \n",
       "\n",
       "                                                 Link         timestamp  \n",
       "23  https://chelyabinsk.bani.ru.com/poleznye-stati...  2025-01-22 21:26  \n",
       "24  https://chelyabinsk.bani.ru.com/poleznye-stati...  2025-01-22 21:26  \n",
       "25  https://chelyabinsk.bani.ru.com/poleznye-stati...  2025-01-22 21:26  \n",
       "26  https://chelyabinsk.bani.ru.com/poleznye-stati...  2025-01-22 21:26  \n",
       "27  https://chelyabinsk.bani.ru.com/kak-sozdat-leg...  2025-01-22 21:26  "
      ]
     },
     "execution_count": 117,
     "metadata": {},
     "output_type": "execute_result"
    }
   ],
   "source": [
    "# Добавляем к датафрейму колонку с датой когда сформировалась таблица\n",
    "df1['timestamp'] = datetime.now().strftime('%Y-%m-%d %H:%M')\n",
    "df1.tail()"
   ]
  },
  {
   "cell_type": "code",
   "execution_count": 123,
   "metadata": {},
   "outputs": [
    {
     "data": {
      "text/plain": [
       "pandas.core.frame.DataFrame"
      ]
     },
     "execution_count": 123,
     "metadata": {},
     "output_type": "execute_result"
    }
   ],
   "source": [
    "type(df1)"
   ]
  },
  {
   "cell_type": "markdown",
   "metadata": {},
   "source": [
    "# НА ПАНДАСОВСКОМ ДАТАФРЕЙМЕ НЕ РАБОТАЕТ"
   ]
  },
  {
   "cell_type": "markdown",
   "metadata": {},
   "source": [
    "### Но работает с JSON-файлом или со словарями"
   ]
  },
  {
   "cell_type": "code",
   "execution_count": null,
   "metadata": {},
   "outputs": [],
   "source": [
    "### Вариант 0-й"
   ]
  },
  {
   "cell_type": "code",
   "execution_count": 60,
   "metadata": {},
   "outputs": [],
   "source": [
    "# Первый вариант функции (простой)\n",
    "\n",
    "def add_data_to_worksheet_var_0(table: Spreadsheet, title: str, data: List[Dict], start_row: int = 30) -> None:\n",
    "    \"\"\"\n",
    "    Добавляет данные на рабочий лист в Google Sheets.\n",
    "\n",
    "    :param table: Объект таблицы (Spreadsheet).\n",
    "    :param title: Название рабочего листа.\n",
    "    :param data: Список словарей с данными.\n",
    "    :param start_row: Номер строки, с которой начнется добавление данных.\n",
    "    \"\"\"\n",
    "\n",
    "    # Условие, при котором, при отсутствии листа, он будет создан. Для этого используется функция, которую мы уже расмотрели.\n",
    "    try:\n",
    "        worksheet = table.worksheet(title)\n",
    "    except exceptions.WorksheetNotFound:\n",
    "        worksheet = create_worksheet(table, title, rows=100, cols=10)\n",
    "\n",
    "    # Преобразуем список словарей в список списков для добавления через insert_rows\n",
    "    headers = list(data[0].keys())\n",
    "    rows = [[row[header] for header in headers] for row in data]\n",
    "\n",
    "    # Вставляем строки с данными в рабочий лист\n",
    "    worksheet.insert_rows(rows, row=start_row)"
   ]
  },
  {
   "cell_type": "code",
   "execution_count": 61,
   "metadata": {},
   "outputs": [],
   "source": [
    "# Тестируем\n",
    "\n",
    "def test_add_data_0():\n",
    "    \"\"\"Тестирование добавления данных на рабочий лист.\"\"\"\n",
    "    \n",
    "    # Создаем клиента и открываем таблицу\n",
    "    table = get_table(table_link)\n",
    "\n",
    "    # Заполняем список фейковыми данными\n",
    "    users_data = data1\n",
    "    \n",
    "    # Записываем данные в указанную таблицу, лист и начиная с указанной строки\n",
    "    add_data_to_worksheet_var_0(table=table,\n",
    "                                title='chelyabinsk',\n",
    "                                data=users_data)\n",
    "\n",
    "\n",
    "test_add_data_0()"
   ]
  },
  {
   "cell_type": "markdown",
   "metadata": {},
   "source": [
    "# КОНЕЦ ПРИМЕЧАНИЯ"
   ]
  },
  {
   "cell_type": "code",
   "execution_count": null,
   "metadata": {},
   "outputs": [],
   "source": [
    "wts.update([df.columns.values.tolist()] + df.values.tolist())"
   ]
  },
  {
   "cell_type": "markdown",
   "metadata": {},
   "source": [
    "## Ввод данных из Пандасовского датафрейма"
   ]
  },
  {
   "cell_type": "markdown",
   "metadata": {},
   "source": [
    "### Вариант 1-й"
   ]
  },
  {
   "cell_type": "code",
   "execution_count": 125,
   "metadata": {},
   "outputs": [],
   "source": [
    "# Первый вариант функции (простой)\n",
    "\n",
    "def add_data_to_worksheet_var_1(table: Spreadsheet, title: str, data: pd.core.frame.DataFrame, start_row: int = 1) -> None:\n",
    "    \"\"\"\n",
    "    Добавляет данные на рабочий лист в Google Sheets.\n",
    "\n",
    "    :param table: Объект таблицы (Spreadsheet).\n",
    "    :param title: Название рабочего листа.\n",
    "    :param data: Список словарей с данными.\n",
    "    :param start_row: Номер строки, с которой начнется добавление данных.\n",
    "    \"\"\"\n",
    "\n",
    "    # Условие, при котором, при отсутствии листа, он будет создан. Для этого используется функция, которую мы уже расмотрели.\n",
    "    try:\n",
    "        worksheet = table.worksheet(title)\n",
    "    except exceptions.WorksheetNotFound:\n",
    "        worksheet = create_worksheet(table, title, rows=100, cols=10)\n",
    "\n",
    "    # Преобразуем список словарей в список списков для добавления через insert_rows\n",
    "    # headers = list(data[0].keys())\n",
    "    # rows = [[row[header] for header in headers] for row in data]\n",
    "\n",
    "    # Вставляем строки с данными в рабочий лист\n",
    "    # worksheet.insert_rows(rows, row=start_row)\n",
    "    worksheet.update([data.columns.values.tolist()] + data.values.tolist())"
   ]
  },
  {
   "cell_type": "code",
   "execution_count": 126,
   "metadata": {},
   "outputs": [],
   "source": [
    "# Тестируем\n",
    "\n",
    "def test_add_data_1():\n",
    "    \"\"\"Тестирование добавления данных на рабочий лист.\"\"\"\n",
    "    \n",
    "    # Создаем клиента и открываем таблицу\n",
    "    table = get_table(table_link)\n",
    "\n",
    "    # Заполняем список фейковыми данными\n",
    "    users_data = df1\n",
    "    \n",
    "    # Записываем данные в указанную таблицу, лист и начиная с указанной строки\n",
    "    add_data_to_worksheet_var_1(table=table,\n",
    "                                title='vologda_2',\n",
    "                                data=users_data)\n",
    "\n",
    "\n",
    "test_add_data_1()"
   ]
  },
  {
   "cell_type": "code",
   "execution_count": null,
   "metadata": {},
   "outputs": [],
   "source": []
  },
  {
   "cell_type": "markdown",
   "metadata": {},
   "source": [
    "### Вариант 2-й"
   ]
  },
  {
   "cell_type": "code",
   "execution_count": 69,
   "metadata": {},
   "outputs": [],
   "source": [
    "def add_data_to_worksheet_var_2(table: Spreadsheet, title: str, data: List[Dict], start_row: int = 40) -> None:\n",
    "    \"\"\"\n",
    "    Добавляет данные на рабочий лист в Google Sheets.\n",
    "\n",
    "    :param table: Объект таблицы (Spreadsheet).\n",
    "    :param title: Название рабочего листа.\n",
    "    :param data: Список словарей с данными.\n",
    "    :param start_row: Номер строки, с которой начнется добавление данных.\n",
    "    \"\"\"\n",
    "    \n",
    "    # Условие, при котором, при отсутствии листа, он будет создан. Для этого используется функция, которую мы уже расмотрели.\n",
    "    try:\n",
    "        worksheet = table.worksheet(title)\n",
    "    except exceptions.WorksheetNotFound:\n",
    "        worksheet = create_worksheet(table, title, rows=100, cols=10)\n",
    "\n",
    "    headers = data[0].keys()\n",
    "    end_row = start_row + len(data) - 1\n",
    "    end_col = chr(ord('A') + len(headers) - 1)\n",
    "\n",
    "    cell_range = f'A{start_row}:{end_col}{end_row}'\n",
    "    cell_list = worksheet.range(cell_range)\n",
    "\n",
    "    flat_data = []\n",
    "    for row in data:\n",
    "        for header in headers:\n",
    "            flat_data.append(row[header])\n",
    "\n",
    "    for i, cell in enumerate(cell_list):\n",
    "        cell.value = flat_data[i]\n",
    "\n",
    "    worksheet.update_cells(cell_list)"
   ]
  },
  {
   "cell_type": "markdown",
   "metadata": {},
   "source": [
    "Новый функционал:\n",
    "Определяет диапазон ячеек, которые будут обновлены, на основе размера данных.\n",
    "Преобразует список словарей в плоский список значений для обновления ячеек.\n",
    "Обновляет ячейки в указанном диапазоне значениями из данных (используя метод update_cells).\n",
    "Как вы видите, данный метод немного сложнее в синтаксисе, но, в то же время, он более гибкий. Кроме того, на примере данного метода вы увидели как просиходит обновление данных в ячейках (метод update_cells)."
   ]
  },
  {
   "cell_type": "code",
   "execution_count": 70,
   "metadata": {},
   "outputs": [],
   "source": [
    "# Тестируем\n",
    "\n",
    "def test_add_data_2():\n",
    "    \"\"\"Тестирование добавления данных на рабочий лист.\"\"\"\n",
    "    \n",
    "    # Создаем клиента и открываем таблицу\n",
    "    table = get_table(table_link)\n",
    "\n",
    "    # Заполняем список фейковыми данными\n",
    "    users_data = data1\n",
    "    \n",
    "    # Записываем данные в указанную таблицу, лист и начиная с указанной строки\n",
    "    add_data_to_worksheet_var_2(table=table,\n",
    "                                title='vologda_2',\n",
    "                                data=users_data)\n",
    "\n",
    "\n",
    "test_add_data_2()"
   ]
  },
  {
   "cell_type": "code",
   "execution_count": null,
   "metadata": {},
   "outputs": [],
   "source": []
  },
  {
   "cell_type": "code",
   "execution_count": null,
   "metadata": {},
   "outputs": [],
   "source": []
  },
  {
   "cell_type": "code",
   "execution_count": 149,
   "metadata": {},
   "outputs": [],
   "source": [
    "# скачаем таблицу из Гугл и сохраним её во временный датафрейм\n",
    "def open_spreadsheat():\n",
    "    # Создаем клиента и открываем таблицу\n",
    "    table = get_table(table_link)\n",
    "\n",
    "    # Открываем первый лист\n",
    "    current_df = table.get_worksheet(3) # ПОРЯДКОВЫЙ НОМЕР СТРАНИЦЫ\n",
    "    # current_df = pd.DataFrame(table.get_all_records())\n",
    "    return current_df"
   ]
  },
  {
   "cell_type": "code",
   "execution_count": 150,
   "metadata": {},
   "outputs": [
    {
     "name": "stdout",
     "output_type": "stream",
     "text": [
      "<Worksheet 'vologda_1' id:228546517>\n"
     ]
    }
   ],
   "source": [
    "df_2 = open_spreadsheat()\n",
    "# df_2.tail()\n",
    "print(df_2)"
   ]
  },
  {
   "cell_type": "markdown",
   "metadata": {},
   "source": [
    "### Извлекает данные из указанного листа таблицы Google Sheets и возвращает список словарей."
   ]
  },
  {
   "cell_type": "code",
   "execution_count": 120,
   "metadata": {},
   "outputs": [],
   "source": [
    "# Пишем функцию для получения данных:\n",
    "\n",
    "def extract_data_from_sheet(table: Spreadsheet, sheet_name: str) -> List[Dict]:\n",
    "    \"\"\"\n",
    "    Извлекает данные из указанного листа таблицы Google Sheets и возвращает список словарей.\n",
    "\n",
    "    :param table: Объект таблицы Google Sheets (Spreadsheet).\n",
    "    :param sheet_name: Название листа в таблице.\n",
    "    :return: Список словарей, представляющих данные из таблицы.\n",
    "    \"\"\"\n",
    "    worksheet = table.worksheet(sheet_name)\n",
    "    rows = worksheet.get_all_records()\n",
    "    return rows"
   ]
  },
  {
   "cell_type": "code",
   "execution_count": 121,
   "metadata": {},
   "outputs": [
    {
     "name": "stdout",
     "output_type": "stream",
     "text": [
      "{'Number': 1, 'Topic': 'Как сделать фундамент для бани-бочки?', 'Link': 'https://chelyabinsk.bani.ru.com/poleznye-statiy/kak-sdelat-fundament-dlya-bani-bochki/', 'timestamp': '2025-01-21 19:45:44'}\n",
      "{'Number': 2, 'Topic': 'Печь в бане-бочке: печь с топкой через перегородку или на улицу — плюсы и минусы', 'Link': 'https://chelyabinsk.bani.ru.com/poleznye-statiy/pech-v-bane-bochke-varianty-raspolozheniya/', 'timestamp': '2025-01-21 19:45:44'}\n",
      "{'Number': 3, 'Topic': 'Правила эксплуатации бань-бочек', 'Link': 'https://chelyabinsk.bani.ru.com/poleznye-statiy/pravila-ekspluatacii-bani-bochki-kak-prodlit-srok-sluzhby/', 'timestamp': '2025-01-21 19:45:44'}\n",
      "{'Number': 4, 'Topic': 'Что нужно знать при покупке?', 'Link': 'https://chelyabinsk.bani.ru.com/poleznye-statiy/chto-nuzhno-znat-pri-pokupke-bani-bochki/', 'timestamp': '2025-01-21 19:45:44'}\n",
      "{'Number': 5, 'Topic': 'Эксплуатация бани-бочки зимой', 'Link': 'https://chelyabinsk.bani.ru.com/poleznye-statiy/ekspluataciya-bani-bochki-zimoj/', 'timestamp': '2025-01-21 19:45:44'}\n",
      "{'Number': 6, 'Topic': 'Почему покупатели выбирают Бани-бочки?', 'Link': 'https://chelyabinsk.bani.ru.com/poleznye-statiy/pochemu-pokupateli-vybirajut-bani-bochki/', 'timestamp': '2025-01-21 19:45:44'}\n",
      "{'Number': 7, 'Topic': 'Планировки и внутреннее устройство бань-бочек', 'Link': 'https://chelyabinsk.bani.ru.com/poleznye-statiy/planirovki-i-vnutrennee-ustrojstvo-ban-bochek/', 'timestamp': '2025-01-21 19:45:44'}\n",
      "{'Number': 8, 'Topic': 'Выбор материала при производстве и отделке бани-бочки', 'Link': 'https://chelyabinsk.bani.ru.com/poleznye-statiy/vybor-materiala-pri-proizvodstve-i-otdelke-bani-bochki/', 'timestamp': '2025-01-21 19:45:44'}\n",
      "{'Number': 9, 'Topic': 'ТОП-15 причин, почему нужно выбирать бани Лукоморье', 'Link': 'https://chelyabinsk.bani.ru.com/poleznye-statiy/pochemu-pokupateli-vybirajut-bani-lukomore/', 'timestamp': '2025-01-21 19:45:44'}\n",
      "{'Number': 10, 'Topic': 'Популярные дополнения к бане', 'Link': 'https://chelyabinsk.bani.ru.com/poleznye-statiy/populyarnye-dopolneniya-k-bane/', 'timestamp': '2025-01-21 19:45:44'}\n",
      "{'Number': 11, 'Topic': 'Как топить баню-бочку?', 'Link': 'https://chelyabinsk.bani.ru.com/poleznye-statiy/kak-topit-banju-bochku/', 'timestamp': '2025-01-21 19:45:44'}\n",
      "{'Number': 12, 'Topic': 'Как устроена баня-бочка?', 'Link': 'https://chelyabinsk.bani.ru.com/poleznye-statiy/kak-ustroena-banya-bochka/', 'timestamp': '2025-01-21 19:45:44'}\n",
      "{'Number': 13, 'Topic': 'Как сделать баню-бочку своими руками?', 'Link': 'https://chelyabinsk.bani.ru.com/poleznye-statiy/kak-sdelat-banju-bochku-svoimi-rukami/', 'timestamp': '2025-01-21 19:45:44'}\n",
      "{'Number': 14, 'Topic': 'Баня-бочка по финской технологии', 'Link': 'https://chelyabinsk.bani.ru.com/poleznye-statiy/banya-bochka-po-finskoj-tehnologii/', 'timestamp': '2025-01-21 19:45:44'}\n",
      "{'Number': 15, 'Topic': 'Виды веников для бани и как правильно их запаривать?', 'Link': 'https://chelyabinsk.bani.ru.com/poleznye-statiy/vidy-venikov-dlya-bani-i-kak-pravilno-ih-zaparivat/', 'timestamp': '2025-01-21 19:45:44'}\n",
      "{'Number': 16, 'Topic': 'Полезна ли баня для здоровья?', 'Link': 'https://chelyabinsk.bani.ru.com/poleznye-statiy/polezna-li-banya-dlya-zdorovya/', 'timestamp': '2025-01-21 19:45:44'}\n",
      "{'Number': 17, 'Topic': 'Внешний вид бани: обработка и отделка', 'Link': 'https://chelyabinsk.bani.ru.com/poleznye-statiy/vneshnij-vid-bani-obrabotka-i-otdelka/', 'timestamp': '2025-01-21 19:45:44'}\n",
      "{'Number': 18, 'Topic': 'Сборка бани бочки на участке', 'Link': 'https://chelyabinsk.bani.ru.com/poleznye-statiy/sborka-bani-bochki-na-uchastke/', 'timestamp': '2025-01-21 19:45:44'}\n",
      "{'Number': 19, 'Topic': 'Финская и русская баня-бочка: в чем разница', 'Link': 'https://chelyabinsk.bani.ru.com/poleznye-statiy/finskaya-i-russkaya-banya-v-chem-raznica/', 'timestamp': '2025-01-21 19:45:44'}\n",
      "{'Number': 20, 'Topic': 'Баня-бочка из кедра или ели, что лучше?', 'Link': 'https://chelyabinsk.bani.ru.com/poleznye-statiy/banya-bochka-iz-kedra-ili-eli/', 'timestamp': '2025-01-21 19:45:44'}\n",
      "{'Number': 21, 'Topic': 'Виды кровли для бани', 'Link': 'https://chelyabinsk.bani.ru.com/poleznye-statiy/vidy-krovli-dlya-bani/', 'timestamp': '2025-01-21 19:45:44'}\n",
      "{'Number': 22, 'Topic': 'Какой должна быть влажность бруса при строительстве бани?', 'Link': 'https://chelyabinsk.bani.ru.com/poleznye-statiy/kakoj-dolzhna-byt-vlazhnost-brusa-pri-stroitelstve-bani/', 'timestamp': '2025-01-21 19:45:44'}\n",
      "{'Number': 23, 'Topic': 'Печь для бани — какую выбрать?', 'Link': 'https://chelyabinsk.bani.ru.com/poleznye-statiy/pech-dlya-bani/', 'timestamp': '2025-01-21 19:45:44'}\n",
      "{'Number': 24, 'Topic': 'Вагонка для отделки бани', 'Link': 'https://chelyabinsk.bani.ru.com/poleznye-statiy/vagonka-dlya-otdelki-bani/', 'timestamp': '2025-01-21 19:45:44'}\n",
      "{'Number': 25, 'Topic': 'Преимущества деревянной бани', 'Link': 'https://chelyabinsk.bani.ru.com/poleznye-statiy/derevyannye-bani/', 'timestamp': '2025-01-21 19:45:44'}\n",
      "{'Number': 26, 'Topic': 'Основные требования по эксплуатации бань', 'Link': 'https://chelyabinsk.bani.ru.com/poleznye-statiy/osnovnye-trebovaniya-po-ekspluatacii-ban/', 'timestamp': '2025-01-21 19:45:44'}\n",
      "{'Number': 27, 'Topic': 'В чем разница между срощенной и обычной древесиной', 'Link': 'https://chelyabinsk.bani.ru.com/poleznye-statiy/v-chem-raznica-mezhdu-sroshhennoj-i-obychnoj-drevesinoj/', 'timestamp': '2025-01-21 19:45:44'}\n",
      "{'Number': 28, 'Topic': 'Секреты создания легкого и приятного пара', 'Link': 'https://chelyabinsk.bani.ru.com/kak-sozdat-legkij-i-priyatnyj-par-v-bane-bochke/', 'timestamp': '2025-01-21 19:45:44'}\n"
     ]
    }
   ],
   "source": [
    "# Тестируем:\n",
    "\n",
    "def test_get_data():\n",
    "    \"\"\"Тестирование извлечения данных из таблицы Google Sheets.\"\"\"\n",
    "    \n",
    "    # Создаем клиента и открываем таблицу\n",
    "    table = get_table(table_link)\n",
    "    \n",
    "    data = extract_data_from_sheet(table, 'chelyabinsk')\n",
    "    for i in data:\n",
    "        print(i)\n",
    "\n",
    "\n",
    "test_get_data()\n",
    "# Результат:"
   ]
  },
  {
   "cell_type": "code",
   "execution_count": null,
   "metadata": {},
   "outputs": [],
   "source": []
  },
  {
   "cell_type": "code",
   "execution_count": null,
   "metadata": {},
   "outputs": [],
   "source": []
  },
  {
   "cell_type": "code",
   "execution_count": null,
   "metadata": {},
   "outputs": [],
   "source": []
  },
  {
   "cell_type": "markdown",
   "metadata": {},
   "source": [
    "# № 3 - Парсим статьи про бани"
   ]
  },
  {
   "cell_type": "markdown",
   "metadata": {},
   "source": [
    "### Путь к папкам и файлам с данными - Path to folders and files with data\n",
    "\n",
    "#### ВРЕМЕННЫЕ данные: ../data/interim/(csv, html, json, xls)/file_name_svoy.*\n",
    "#### ФИНАЛЬНЫЕ данные: ../data/processed/(csv, html, json, xls)/file_name_svoy.*"
   ]
  },
  {
   "cell_type": "markdown",
   "metadata": {},
   "source": [
    "##### https://svoy-bany.ru/article/"
   ]
  },
  {
   "cell_type": "code",
   "execution_count": 3,
   "metadata": {},
   "outputs": [],
   "source": [
    "# Подключаем библиотеку для поиска элементов кода на сайте !!!!!!!!!!!!!\n",
    "# Библиотека PYTHON для извлечения данных из файлов HTML и XML\n",
    "from bs4 import BeautifulSoup\n",
    "\n",
    "# Подключаем библиотеки для парсинга сайтов !!!!!!!!!!!!!\n",
    "import requests\n",
    "import json\n",
    "import csv\n",
    "import random\n",
    "from time import sleep\n",
    "import openpyxl # Работа с файлами XLSX\n",
    "import lxml\n",
    "import os\n",
    "\n",
    "# Для взаимодействия Python с Google-таблицей\n",
    "import gspread"
   ]
  },
  {
   "cell_type": "markdown",
   "metadata": {},
   "source": [
    "### Константы для проекта"
   ]
  },
  {
   "cell_type": "code",
   "execution_count": 26,
   "metadata": {},
   "outputs": [],
   "source": [
    "# Создаём переменные-КОНСТАНТЫ\n",
    "# 1. Адрес основного хоста\n",
    "HOST = 'https://svoy-bany.ru'\n",
    "# https://chelyabinsk.bani.ru.com/poleznye-statiy/pravila-ekspluatacii-bani-bochki-kak-prodlit-srok-sluzhby/\n",
    "\n",
    "# 2. Адрес страницы для парсинга\n",
    "URL = 'https://svoy-bany.ru/article/'\n",
    "\n",
    "# 3. Создаём словарь заголовков\n",
    "# Это нужно для некоторых сайтов (но не для всех - для этого необязательно)\n",
    "# чтобы показать сайту, что ВЫ НЕ БОТ, а обычный пользователь\n",
    "HEADERS = {\n",
    "    'accept': 'text/html,application/xhtml+xml,application/xml;q=0.9,image/avif,image/webp,image/apng,*/*;q=0.8,application/signed-exchange;v=b3;q=0.9',\n",
    "    'user-agent': 'Mozilla/5.0 (Windows NT 10.0; Win64; x64) AppleWebKit/537.36 (KHTML, like Gecko) Chrome/109.0.0.0 Safari/537.36'\n",
    "}"
   ]
  },
  {
   "cell_type": "code",
   "execution_count": 24,
   "metadata": {},
   "outputs": [],
   "source": [
    "# Отправляем запрос на страницу, передаём в качестве GET-параметра URL-адрес\n",
    "# Сохраним нашу страницу в файл И ЗАКОММЕНТИРУЕМ ЭТУ КОМАНДУ за ненадобностью\n",
    "\n",
    "# r = requests.get(url=URL, headers=HEADERS)\n",
    "# src = r.text\n",
    "# with open('../data/interim/html/index_svoy.html', 'w', encoding='utf-8') as file:\n",
    "#     file.write(src)\n",
    "\n",
    "# Теперь откроем наш файл, прочитаем и сохраним код страницы в переменную:\n",
    "with open('../data/interim/html/index_svoy.html', encoding='utf-8') as file:\n",
    "    src = file.read()\n",
    "# print(src)"
   ]
  },
  {
   "cell_type": "code",
   "execution_count": 1,
   "metadata": {},
   "outputs": [],
   "source": [
    "# print(src)"
   ]
  },
  {
   "cell_type": "code",
   "execution_count": 27,
   "metadata": {},
   "outputs": [
    {
     "name": "stdout",
     "output_type": "stream",
     "text": [
      "Topic: Технология строительства из минибруса\n",
      "Link: https://svoy-bany.ru/article/tekhnologiya-stroitelstva-iz-minibrusa/\n"
     ]
    }
   ],
   "source": [
    "# Создаём объект Супа с параметрами \n",
    "soup = BeautifulSoup(src, 'lxml')\n",
    "# Определяем DIV-ы с нужной инфой (заголовки статей)\n",
    "topic = soup.find('p', class_='news-item')\n",
    "# link = soup.find('p', class_='news-item').find('a')\n",
    "print(f\"Topic: {topic.text.strip()}\")\n",
    "print(f\"Link: {HOST}{topic.find('a').get('href')}\")\n",
    "\n",
    "# topic = soup.find('div', class_='news-list').find_all('p')\n",
    "# print(topic)"
   ]
  },
  {
   "cell_type": "code",
   "execution_count": 28,
   "metadata": {},
   "outputs": [
    {
     "name": "stdout",
     "output_type": "stream",
     "text": [
      "[{1, 'https://svoy-bany.ru/article/tekhnologiya-stroitelstva-iz-minibrusa/', 'Технология строительства из минибруса'}, {'A-frame House: треугольные дома-шалаши снова набирают популярность', 2, 'https://svoy-bany.ru/article/a-frame-house-treugolnye-doma-shalashi-snova-nabirayut-populyarnost/'}, {'https://svoy-bany.ru/article/banya-iz-brusa-ili-karkasnaya-chto-luchshe-vybrat/', 3, 'Баня из бруса или каркасная – что лучше выбрать?'}, {'https://svoy-bany.ru/article/vse-o-modulnyh-banyah/', 4, 'Модульные бани: особенности строительства, преимущества конструкции'}, {'Плюсы и минусы каркасных домов', 5, 'https://svoy-bany.ru/article/plusy-i-minusy-karkasnyh-domov/'}, {'Правила эксплуатации бань-бочек', 'https://svoy-bany.ru/article/pravila-ekspluatatsii-ban-bochek/', 6}, {'https://svoy-bany.ru/article/napitki-v-bane-travyanoy-chay/', 'Напитки в бане: травяной чай', 7}, {8, 'Как правильно париться в бане?', 'https://svoy-bany.ru/article/kak-pravilno-paritsya-v-bane/'}, {9, 'Как правильно запаривать банный веник из разных пород?', 'https://svoy-bany.ru/article/kak-pravilno-zaparivat-bannyy-venik-iz-raznykh-porod/'}]\n"
     ]
    }
   ],
   "source": [
    "# Создаём объект Супа с параметрами \n",
    "soup = BeautifulSoup(src, 'lxml')\n",
    "# Определяем DIV-ы с нужной инфой (заголовки статей)\n",
    "articles = soup.find_all('p', class_='news-item')\n",
    "\n",
    "articles_list = []\n",
    "articles_list_dict = {}\n",
    "count = 1\n",
    "for item in articles:\n",
    "    title = item.text.strip()\n",
    "    link = item.find('a').get('href')\n",
    "#     print(f\"{item_text}: {item_href}\")\n",
    "\n",
    "    articles_list_dict['Number'] = count\n",
    "    articles_list_dict['Topic'] = title\n",
    "    articles_list_dict['Link'] = HOST + link\n",
    "    \n",
    "    articles_list.append(\n",
    "            {\n",
    "                articles_list_dict['Number'],\n",
    "                articles_list_dict['Topic'],\n",
    "                articles_list_dict['Link']\n",
    "            }\n",
    "        )\n",
    "    count += 1\n",
    "    \n",
    "print(articles_list)"
   ]
  },
  {
   "cell_type": "code",
   "execution_count": 41,
   "metadata": {},
   "outputs": [],
   "source": [
    "# articles_list"
   ]
  },
  {
   "cell_type": "markdown",
   "metadata": {},
   "source": [
    "### Обработка JSON файла - Сохранение данных в JSON файл"
   ]
  },
  {
   "cell_type": "code",
   "execution_count": null,
   "metadata": {},
   "outputs": [],
   "source": []
  },
  {
   "cell_type": "code",
   "execution_count": null,
   "metadata": {},
   "outputs": [],
   "source": []
  },
  {
   "cell_type": "markdown",
   "metadata": {},
   "source": [
    "## Окончательный вариант оформляем в виде общей функции"
   ]
  },
  {
   "cell_type": "code",
   "execution_count": 56,
   "metadata": {},
   "outputs": [
    {
     "name": "stdout",
     "output_type": "stream",
     "text": [
      "Осталось итераций: 1\n",
      "# Итерация 1. Технология строительства из минибруса ... записан...\n",
      "Осталось итераций: 2\n",
      "# Итерация 2. A-frame House: треугольные дома-шалаши снова набирают популярность ... записан...\n",
      "Осталось итераций: 3\n",
      "# Итерация 3. Баня из бруса или каркасная – что лучше выбрать? ... записан...\n",
      "Осталось итераций: 4\n",
      "# Итерация 4. Модульные бани: особенности строительства, преимущества конструкции ... записан...\n",
      "Осталось итераций: 5\n",
      "# Итерация 5. Плюсы и минусы каркасных домов ... записан...\n",
      "Осталось итераций: 6\n",
      "# Итерация 6. Правила эксплуатации бань-бочек ... записан...\n",
      "Осталось итераций: 7\n",
      "# Итерация 7. Напитки в бане: травяной чай ... записан...\n",
      "Осталось итераций: 8\n",
      "# Итерация 8. Как правильно париться в бане? ... записан...\n",
      "Осталось итераций: 9\n",
      "# Итерация 9. Как правильно запаривать банный веник из разных пород? ... записан...\n",
      "Общее число итераций: 9\n"
     ]
    }
   ],
   "source": [
    "def get_svoy():\n",
    "# Создаём переменные-КОНСТАНТЫ\n",
    "# 1. Адрес основного хоста\n",
    "    HOST = 'https://svoy-bany.ru'\n",
    "    # https://chelyabinsk.bani.ru.com/poleznye-statiy/pravila-ekspluatacii-bani-bochki-kak-prodlit-srok-sluzhby/\n",
    "\n",
    "    # 2. Адрес страницы для парсинга\n",
    "    URL = 'https://svoy-bany.ru/article/'\n",
    "\n",
    "    # 3. Создаём словарь заголовков\n",
    "    # Это нужно для некоторых сайтов (но не для всех - для этого необязательно)\n",
    "    # чтобы показать сайту, что ВЫ НЕ БОТ, а обычный пользователь\n",
    "    HEADERS = {\n",
    "        'accept': 'text/html,application/xhtml+xml,application/xml;q=0.9,image/avif,image/webp,image/apng,*/*;q=0.8,application/signed-exchange;v=b3;q=0.9',\n",
    "        'user-agent': 'Mozilla/5.0 (Windows NT 10.0; Win64; x64) AppleWebKit/537.36 (KHTML, like Gecko) Chrome/109.0.0.0 Safari/537.36'\n",
    "    }\n",
    "\n",
    "# !!!!!!!!!! CODE BLOCK FOR TESTING - БЛОК КОДА ДЛЯ ТЕСТИРОВАНИЯ !!!!!!!!!!\n",
    "# Теперь откроем наш файл, прочитаем и сохраним код страницы в переменную:\n",
    "    with open('../data/interim/html/index_svoy.html', encoding='utf-8') as file:\n",
    "        src = file.read()\n",
    "# Создаём объект Супа с параметрами \n",
    "    soup = BeautifulSoup(src, 'lxml')        \n",
    "# !!!!!!!!!! THE END !!!!!!!!!!\n",
    "\n",
    "# $$$$$$$$$$ CODE BLOCK FOR WORKING WITH THE SITE - БЛОК КОДА ДЛЯ РАБОТЫ С САЙТОМ $$$$$$$$$$\n",
    "# Отправляем запрос на страницу, передаём в качестве GET-параметра URL-адрес\n",
    "#     r = requests.get(url=URL, headers=HEADERS)\n",
    "    \n",
    "# Создаём объект Супа с параметрами \n",
    "#     soup = BeautifulSoup(r.text, 'lxml')\n",
    "# $$$$$$$$$$ THE END $$$$$$$$$$\n",
    "\n",
    "\n",
    "# Определяем DIV-ы с нужной инфой (заголовки статей)\n",
    "    articles = soup.find_all('p', class_='news-item')\n",
    "#     print(articles)\n",
    "\n",
    "# собираем заголовки для CSV-файла\n",
    "    with open('../data/processed/csv/barrels_articles_svoy.csv', 'w', encoding='utf-8') as file:\n",
    "            writer = csv.writer(file)\n",
    "            writer.writerow(\n",
    "                (\n",
    "                    'title',\n",
    "                    'link'\n",
    "                )\n",
    "            )\n",
    "\n",
    "# Пройдём в цикле по коду блока - Достаём все заголовки статей со ссылками (используем цикл):\n",
    "    articles_list = []\n",
    "    count = 1\n",
    "    for item in articles:\n",
    "        title = item.text.strip()\n",
    "        link = HOST + item.find('a').get('href')\n",
    "\n",
    "        articles_list.append(\n",
    "            {\n",
    "                \"Number\": count,\n",
    "                \"Topic\": title,\n",
    "                \"Link\": link\n",
    "            }\n",
    "        )\n",
    "        \n",
    "    \n",
    "# print(articles_list)\n",
    "        \n",
    "\n",
    "        with open('../data/processed/csv/barrels_articles_svoy.csv', 'a', encoding='utf-8') as file:\n",
    "            writer = csv.writer(file)\n",
    "            writer.writerow(\n",
    "                (\n",
    "                    title,\n",
    "                    link\n",
    "                )\n",
    "            )\n",
    "            \n",
    "        iteration_count = int(len(articles_list))        \n",
    "        print(f\"Осталось итераций: {iteration_count}\")\n",
    "        print(f\"# Итерация {count}. {title} ... записан...\")\n",
    "\n",
    "\n",
    "        if iteration_count == 0:\n",
    "            print(\"\\nРабота завершена\")\n",
    "            break\n",
    "\n",
    "\n",
    "        sleep(random.randrange(2, 4)) # Для симуляции работы реального пользователя, а не робота\n",
    "\n",
    "\n",
    "        count += 1\n",
    "\n",
    "    print(f'Общее число итераций: {iteration_count}')\n",
    "    iteration_count = iteration_count - 1\n",
    "    \n",
    "# Создаём третий файл в формате JSON, в который будем записывать данные в виде словаря\n",
    "# который весьма полезен и удобен для чтения (в дополнение к формату CSV)\n",
    "    with open('../data/processed/json/barrels_articles_svoy.json', 'a', encoding='utf-8') as file:\n",
    "        json.dump(articles_list, file, indent=4, ensure_ascii=False)\n",
    "\n",
    "\n",
    "# MAIN SCRIPT\n",
    "def main():\n",
    "    get_svoy()\n",
    "\n",
    "\n",
    "if __name__ == '__main__':\n",
    "    main()"
   ]
  },
  {
   "cell_type": "code",
   "execution_count": null,
   "metadata": {},
   "outputs": [],
   "source": []
  },
  {
   "cell_type": "markdown",
   "metadata": {},
   "source": [
    "## Reading JSON from a file"
   ]
  },
  {
   "cell_type": "code",
   "execution_count": 35,
   "metadata": {},
   "outputs": [
    {
     "name": "stdout",
     "output_type": "stream",
     "text": [
      "[{'Number': 1, 'Topic': 'Технология строительства из минибруса', 'Link': 'https://svoy-bany.ru/article/tekhnologiya-stroitelstva-iz-minibrusa/'}, {'Number': 2, 'Topic': 'A-frame House: треугольные дома-шалаши снова набирают популярность', 'Link': 'https://svoy-bany.ru/article/a-frame-house-treugolnye-doma-shalashi-snova-nabirayut-populyarnost/'}, {'Number': 3, 'Topic': 'Баня из бруса или каркасная – что лучше выбрать?', 'Link': 'https://svoy-bany.ru/article/banya-iz-brusa-ili-karkasnaya-chto-luchshe-vybrat/'}, {'Number': 4, 'Topic': 'Модульные бани: особенности строительства, преимущества конструкции', 'Link': 'https://svoy-bany.ru/article/vse-o-modulnyh-banyah/'}, {'Number': 5, 'Topic': 'Плюсы и минусы каркасных домов', 'Link': 'https://svoy-bany.ru/article/plusy-i-minusy-karkasnyh-domov/'}, {'Number': 6, 'Topic': 'Правила эксплуатации бань-бочек', 'Link': 'https://svoy-bany.ru/article/pravila-ekspluatatsii-ban-bochek/'}, {'Number': 7, 'Topic': 'Напитки в бане: травяной чай', 'Link': 'https://svoy-bany.ru/article/napitki-v-bane-travyanoy-chay/'}, {'Number': 8, 'Topic': 'Как правильно париться в бане?', 'Link': 'https://svoy-bany.ru/article/kak-pravilno-paritsya-v-bane/'}, {'Number': 9, 'Topic': 'Как правильно запаривать банный веник из разных пород?', 'Link': 'https://svoy-bany.ru/article/kak-pravilno-zaparivat-bannyy-venik-iz-raznykh-porod/'}]\n"
     ]
    }
   ],
   "source": [
    "import json\n",
    "\n",
    "with open('../data/processed/json/barrels_articles_svoy.json', encoding='utf-8') as file:\n",
    "    data2 = json.load(file)\n",
    "    print(data2)"
   ]
  },
  {
   "cell_type": "code",
   "execution_count": 36,
   "metadata": {},
   "outputs": [
    {
     "data": {
      "text/html": [
       "<div>\n",
       "<style scoped>\n",
       "    .dataframe tbody tr th:only-of-type {\n",
       "        vertical-align: middle;\n",
       "    }\n",
       "\n",
       "    .dataframe tbody tr th {\n",
       "        vertical-align: top;\n",
       "    }\n",
       "\n",
       "    .dataframe thead th {\n",
       "        text-align: right;\n",
       "    }\n",
       "</style>\n",
       "<table border=\"1\" class=\"dataframe\">\n",
       "  <thead>\n",
       "    <tr style=\"text-align: right;\">\n",
       "      <th></th>\n",
       "      <th>Number</th>\n",
       "      <th>Topic</th>\n",
       "      <th>Link</th>\n",
       "    </tr>\n",
       "  </thead>\n",
       "  <tbody>\n",
       "    <tr>\n",
       "      <th>4</th>\n",
       "      <td>5</td>\n",
       "      <td>Плюсы и минусы каркасных домов</td>\n",
       "      <td>https://svoy-bany.ru/article/plusy-i-minusy-ka...</td>\n",
       "    </tr>\n",
       "    <tr>\n",
       "      <th>5</th>\n",
       "      <td>6</td>\n",
       "      <td>Правила эксплуатации бань-бочек</td>\n",
       "      <td>https://svoy-bany.ru/article/pravila-ekspluata...</td>\n",
       "    </tr>\n",
       "    <tr>\n",
       "      <th>6</th>\n",
       "      <td>7</td>\n",
       "      <td>Напитки в бане: травяной чай</td>\n",
       "      <td>https://svoy-bany.ru/article/napitki-v-bane-tr...</td>\n",
       "    </tr>\n",
       "    <tr>\n",
       "      <th>7</th>\n",
       "      <td>8</td>\n",
       "      <td>Как правильно париться в бане?</td>\n",
       "      <td>https://svoy-bany.ru/article/kak-pravilno-pari...</td>\n",
       "    </tr>\n",
       "    <tr>\n",
       "      <th>8</th>\n",
       "      <td>9</td>\n",
       "      <td>Как правильно запаривать банный веник из разны...</td>\n",
       "      <td>https://svoy-bany.ru/article/kak-pravilno-zapa...</td>\n",
       "    </tr>\n",
       "  </tbody>\n",
       "</table>\n",
       "</div>"
      ],
      "text/plain": [
       "   Number                                              Topic  \\\n",
       "4       5                     Плюсы и минусы каркасных домов   \n",
       "5       6                    Правила эксплуатации бань-бочек   \n",
       "6       7                       Напитки в бане: травяной чай   \n",
       "7       8                     Как правильно париться в бане?   \n",
       "8       9  Как правильно запаривать банный веник из разны...   \n",
       "\n",
       "                                                Link  \n",
       "4  https://svoy-bany.ru/article/plusy-i-minusy-ka...  \n",
       "5  https://svoy-bany.ru/article/pravila-ekspluata...  \n",
       "6  https://svoy-bany.ru/article/napitki-v-bane-tr...  \n",
       "7  https://svoy-bany.ru/article/kak-pravilno-pari...  \n",
       "8  https://svoy-bany.ru/article/kak-pravilno-zapa...  "
      ]
     },
     "execution_count": 36,
     "metadata": {},
     "output_type": "execute_result"
    }
   ],
   "source": [
    "# Преобразуем объект в пандасовский датафрейм\n",
    "# import pandas as pd\n",
    "df2 = pd.DataFrame(data2)\n",
    "df2.tail()"
   ]
  },
  {
   "cell_type": "code",
   "execution_count": null,
   "metadata": {},
   "outputs": [],
   "source": []
  },
  {
   "cell_type": "markdown",
   "metadata": {},
   "source": [
    "## pandas.DataFrame.to_excel — pandas 2.2.3 documentation"
   ]
  },
  {
   "cell_type": "markdown",
   "metadata": {},
   "source": [
    "### pandas.DataFrame.to_excel\n",
    "DataFrame.to_excel(excel_writer, *, sheet_name='Sheet1', na_rep='', float_format=None, columns=None, header=True, index=True, index_label=None, startrow=0, startcol=0, engine=None, merge_cells=True, inf_rep='inf', freeze_panes=None, storage_options=None, engine_kwargs=None)"
   ]
  },
  {
   "cell_type": "code",
   "execution_count": 42,
   "metadata": {},
   "outputs": [],
   "source": [
    "# Сохраняем датафрейм в EXCEL-таблицу\n",
    "import os\n",
    "# import openpyxl # Работа с файлами XLSX\n",
    "\n",
    "# Прописываем путь и характеристики файла\n",
    "PATH = '../data/processed/xls/'\n",
    "file_name = 'sauna_articles'\n",
    "sheet_name = 'surgut'\n",
    "file_extension = '.xlsx'\n",
    "FILE = PATH + file_name + file_extension\n",
    "\n",
    "# Если папки для сохранения результатов не существует, то она будет создана\n",
    "if not os.path.isdir(PATH):\n",
    "    os.mkdir(PATH)\n",
    "\n",
    "# ДОБАВЛЯЕМ датафрейм в EXCEL-таблицу НА СЛЕДУЮЩИЙ ЛИСТ\n",
    "def append_to_excel(fpath, df, sheet_name):\n",
    "    with pd.ExcelWriter(fpath, engine='openpyxl', mode='a', if_sheet_exists = 'overlay') as f:\n",
    "        df.to_excel(f, sheet_name=sheet_name)\n",
    "\n",
    "append_to_excel(FILE, df2, sheet_name)\n",
    "    \n",
    "# with pd.ExcelWriter(PATH + file_name + file_extension, mode='a', if_sheet_exists = 'overlay') as writer:\n",
    "#     df2.to_excel(writer, sheet_name=sheet_name)\n",
    "\n",
    "# df2.to_excel(PATH + file_name + file_extension, sheet_name=sheet_name)\n",
    "# df2.to_excel(\"output.xlsx\", sheet_name='Sheet_name_1')"
   ]
  },
  {
   "cell_type": "code",
   "execution_count": null,
   "metadata": {},
   "outputs": [],
   "source": []
  },
  {
   "cell_type": "markdown",
   "metadata": {},
   "source": [
    "## ТЕОРИЯ"
   ]
  },
  {
   "cell_type": "markdown",
   "metadata": {},
   "source": [
    "### добавить фрейм данных в excel с помощью pandas"
   ]
  },
  {
   "cell_type": "code",
   "execution_count": null,
   "metadata": {},
   "outputs": [],
   "source": [
    "# Если кому-то нужно, я нашел более простой способ:\n",
    "\n",
    "# Преобразовать DF в строки списка\n",
    "rows = your_df.values.tolist()\n",
    "\n",
    "# загрузите свою рабочую книгу\n",
    "workbook = load_workbook(filename=your_excel)\n",
    "\n",
    "# Выберите свой лист\n",
    "sheet = workbook[your_sheet]\n",
    "\n",
    "# Пройдитесь по строкам, чтобы добавить каждую:\n",
    "for row in rows:\n",
    "    sheet.append(row)\n",
    "\n",
    "# Сохраните книгу, когда закончите\n",
    "workbook.save(filename=your_excel)\n",
    "\n",
    "# Собираем все вместе:\n",
    "rows = your_df.values.tolist()\n",
    "workbook = load_workbook(filename=your_excel)\n",
    "sheet = workbook[your_sheet]\n",
    "for row in rows:\n",
    "    sheet.append(row)\n",
    "workbook.save(filename=your_excel)"
   ]
  },
  {
   "cell_type": "code",
   "execution_count": null,
   "metadata": {},
   "outputs": [],
   "source": [
    "# Зачем все усложнять? Просто получите количество строк в файле Excel, чтобы определить, куда их добавлять, с помощью параметра startrow:\n",
    "\n",
    "import pandas as pd\n",
    "import openpyxl as xl\n",
    "\n",
    "# Get number of rows in excel file (to determine where to append)\n",
    "source_file = xl.load_workbook(\"file.xlsx\", enumerate)\n",
    "sheet = source_file[\"sheetname\"]\n",
    "row_count = sheet.max_row\n",
    "source_file.close()\n",
    "\n",
    "with pd.ExcelWriter(\"file.xlsx\", engine='openpyxl', mode='a', if_sheet_exists='overlay') as writer:  \n",
    "    data.to_excel(writer, sheet_name='sheetname', index= False, startrow = row_count)"
   ]
  },
  {
   "cell_type": "code",
   "execution_count": null,
   "metadata": {},
   "outputs": [],
   "source": [
    "# ExcelWriter также можно использовать для добавления в существующий файл Excel:\n",
    "\n",
    "with pd.ExcelWriter('output.xlsx', mode='a') as writer:\n",
    "    df1.to_excel(writer, sheet_name='Sheet_name_3')"
   ]
  },
  {
   "cell_type": "markdown",
   "metadata": {},
   "source": []
  },
  {
   "cell_type": "markdown",
   "metadata": {},
   "source": [
    "Вы можете использовать append_df_to_excel()вспомогательную функцию, которая определена в этом ответе :\n",
    "Примеры использования:\n",
    "\n",
    "filename = r'C:\\OCC.xlsx'\n",
    "append_df_to_excel(filename, df)\n",
    "append_df_to_excel(filename, df, header=None, index=False)\n",
    "append_df_to_excel(filename, df, sheet_name='Sheet2', index=False)\n",
    "append_df_to_excel(filename, df, sheet_name='Sheet2', index=False, startrow=25)"
   ]
  },
  {
   "cell_type": "code",
   "execution_count": null,
   "metadata": {},
   "outputs": [],
   "source": [
    "# Все примеры здесь довольно сложные. В документации все гораздо проще:\n",
    "\n",
    "def append_to_excel(fpath, df, sheet_name):\n",
    "    with pd.ExcelWriter(fpath, mode=\"a\", if_sheet_exists = 'overlay') as f:\n",
    "        df.to_excel(f, sheet_name=sheet_name)\n",
    "\n",
    "append_to_excel(<your_excel_path>, <new_df>, <new_sheet_name>)"
   ]
  },
  {
   "cell_type": "code",
   "execution_count": null,
   "metadata": {},
   "outputs": [],
   "source": [
    "# ExcelWriter также можно использовать для добавления в существующий файл Excel:\n",
    "\n",
    "with pd.ExcelWriter('output.xlsx', mode='a') as writer:\n",
    "    df1.to_excel(writer, sheet_name='Sheet_name_3')"
   ]
  },
  {
   "cell_type": "markdown",
   "metadata": {},
   "source": [
    "## КОНЕЦ ТЕОРИИ"
   ]
  },
  {
   "cell_type": "code",
   "execution_count": null,
   "metadata": {},
   "outputs": [],
   "source": []
  },
  {
   "cell_type": "markdown",
   "metadata": {},
   "source": [
    "# Forming a database from JSON-files"
   ]
  },
  {
   "cell_type": "markdown",
   "metadata": {},
   "source": [
    "## How do I list all files of a directory?"
   ]
  },
  {
   "cell_type": "code",
   "execution_count": null,
   "metadata": {},
   "outputs": [],
   "source": [
    "# Как проверить существование папки?\n",
    "import os\n",
    "\n",
    "# Прописываем путь и характеристики файла\n",
    "PATH = '../data/processed/xlsыы/'\n",
    "file_name = 'sauna_articles'\n",
    "sheet_name = 'chelyabinsk'\n",
    "file_extension = '.xlsx'\n",
    "FILE = PATH + file_name + file_extension\n",
    "\n",
    "# if not os.path.isdir(PATH):\n",
    "#     os.mkdir(PATH)\n",
    "    \n",
    "if os.path.isdir(PATH): \n",
    "     print (\"Папка найдена!\")\n",
    "else: \n",
    "     print (\"Папки не существует !!!\")"
   ]
  },
  {
   "cell_type": "code",
   "execution_count": 137,
   "metadata": {},
   "outputs": [
    {
     "name": "stdout",
     "output_type": "stream",
     "text": [
      "file: barrels_articles_clb.json, type_file: <class 'str'>\n",
      "clb\n",
      "file: barrels_articles_svoy.json, type_file: <class 'str'>\n",
      "svoy\n",
      "\n",
      "clb\n"
     ]
    }
   ],
   "source": [
    "from os import walk\n",
    "import re\n",
    "\n",
    "PATH = '../data/processed/json/'\n",
    "regex = re.compile('(barrels*.*json$)')\n",
    "\n",
    "files_list = []\n",
    "for (dirpath, dirnames, filenames) in walk(PATH):\n",
    "    # files_list.extend(regex.match(filenames))\n",
    "    files_list.extend(filenames)\n",
    "    break\n",
    "\n",
    "for file in files_list:\n",
    "        if regex.match(file):\n",
    "            print(f'file: {file}, type_file: {type(file)}')\n",
    "            print(file.split('_')[-1].split('.')[0])\n",
    "\n",
    "# print(f'{files_list},\\ntype_files_list: {type(files_list)}')\n",
    "\n",
    "# ПОЛУЧИЛИ НАИМЕНОВАНИЕ СТРАНИЦЫ ДЛЯ ТАБЛИЦЫ (TITLE)\n",
    "\n",
    "print()\n",
    "print(files_list[0].split('_')[-1].split('.')[0])"
   ]
  },
  {
   "cell_type": "code",
   "execution_count": 134,
   "metadata": {},
   "outputs": [
    {
     "name": "stdout",
     "output_type": "stream",
     "text": [
      "file: barrels_articles_clb.json, type_file: <class 'str'> - clb\n",
      "file: barrels_articles_svoy.json, type_file: <class 'str'> - svoy\n"
     ]
    }
   ],
   "source": [
    "import os\n",
    "import re\n",
    "\n",
    "PATH = '../data/processed/json/'\n",
    "\n",
    "# rootdir = \"/mnt/externa/Torrents/completed\"\n",
    "# regex = re.compile('(.*json$)|(.*rar$)|(.*r01$)')\n",
    "regex = re.compile('(barrels*.*json$)')\n",
    "\n",
    "for root, dirs, files in os.walk(PATH):\n",
    "    for file in files:\n",
    "        if regex.match(file):\n",
    "            print(f'file: {file}, type_file: {type(file)} - {file.split('_')[-1].split('.')[0]}')"
   ]
  },
  {
   "cell_type": "code",
   "execution_count": 135,
   "metadata": {},
   "outputs": [
    {
     "name": "stdout",
     "output_type": "stream",
     "text": [
      "['barrels_articles_clb.json', 'barrels_articles_svoy.json', 'spektr-key.json', 'Test_text.txt']\n"
     ]
    }
   ],
   "source": [
    "# or, shorter:\n",
    "from os import walk\n",
    "\n",
    "filenames = next(walk(PATH), (None, None, []))[2]  # [] if no file\n",
    "print(filenames)"
   ]
  },
  {
   "cell_type": "code",
   "execution_count": 141,
   "metadata": {},
   "outputs": [
    {
     "name": "stdout",
     "output_type": "stream",
     "text": [
      "['../data/processed/json\\\\barrels_articles_clb.json', '../data/processed/json\\\\barrels_articles_svoy.json', '../data/processed/json\\\\spektr-key.json']\n",
      "['../data/processed/json\\\\barrels_articles_clb.json', '../data/processed/json\\\\barrels_articles_svoy.json', '../data/processed/json\\\\spektr-key.json']\n"
     ]
    }
   ],
   "source": [
    "import glob\n",
    "# print(glob.glob('/home/adam/*.json'))\n",
    "print(glob.glob(PATH + '*.json'))\n",
    "print(glob.glob(glob.escape(PATH) + \"*.json\"))"
   ]
  },
  {
   "cell_type": "code",
   "execution_count": 140,
   "metadata": {},
   "outputs": [
    {
     "name": "stdout",
     "output_type": "stream",
     "text": [
      "['barrels_articles_clb.json', 'barrels_articles_svoy.json', 'spektr-key.json', 'Test_text.txt']\n"
     ]
    }
   ],
   "source": [
    "import os\n",
    "arr = os.listdir(PATH)\n",
    "print(arr)"
   ]
  },
  {
   "cell_type": "code",
   "execution_count": 139,
   "metadata": {},
   "outputs": [
    {
     "name": "stdout",
     "output_type": "stream",
     "text": [
      "['barrels_articles_clb.json', 'barrels_articles_svoy.json', 'spektr-key.json', 'Test_text.txt']\n"
     ]
    }
   ],
   "source": [
    "import os\n",
    "arr = next(os.walk(PATH))[2]\n",
    "print(arr)"
   ]
  },
  {
   "cell_type": "code",
   "execution_count": 100,
   "metadata": {},
   "outputs": [],
   "source": [
    "# from path import path\n",
    "# from glob import glob\n",
    "\n",
    "# x = [PATH(f).abspath() for f in glob(\"F:\\\\*.txt\")]\n",
    "# print(x)"
   ]
  },
  {
   "cell_type": "code",
   "execution_count": 138,
   "metadata": {},
   "outputs": [
    {
     "data": {
      "text/plain": [
       "['barrels_articles_clb.json',\n",
       " 'barrels_articles_svoy.json',\n",
       " 'spektr-key.json',\n",
       " 'Test_text.txt']"
      ]
     },
     "execution_count": 138,
     "metadata": {},
     "output_type": "execute_result"
    }
   ],
   "source": [
    "import os\n",
    "next(os.walk(PATH))[2] # for the current dir use ('.')\n",
    " \n",
    " # >>> ['python3','others']"
   ]
  },
  {
   "cell_type": "code",
   "execution_count": null,
   "metadata": {},
   "outputs": [],
   "source": []
  },
  {
   "cell_type": "code",
   "execution_count": 41,
   "metadata": {
    "collapsed": true,
    "jupyter": {
     "outputs_hidden": true
    },
    "scrolled": true
   },
   "outputs": [
    {
     "name": "stdout",
     "output_type": "stream",
     "text": [
      "[{'Number': 1, 'Topic': 'Как сделать фундамент для бани-бочки?', 'Link': 'https://chelyabinsk.bani.ru.com/poleznye-statiy/kak-sdelat-fundament-dlya-bani-bochki/', 'DateTime': '2025-01-23 16:26:20'}, {'Number': 2, 'Topic': 'Печь в бане-бочке: печь с топкой через перегородку или на улицу — плюсы и минусы', 'Link': 'https://chelyabinsk.bani.ru.com/poleznye-statiy/pech-v-bane-bochke-varianty-raspolozheniya/', 'DateTime': '2025-01-23 16:26:22'}, {'Number': 3, 'Topic': 'Правила эксплуатации бань-бочек', 'Link': 'https://chelyabinsk.bani.ru.com/poleznye-statiy/pravila-ekspluatacii-bani-bochki-kak-prodlit-srok-sluzhby/', 'DateTime': '2025-01-23 16:26:25'}, {'Number': 4, 'Topic': 'Что нужно знать при покупке?', 'Link': 'https://chelyabinsk.bani.ru.com/poleznye-statiy/chto-nuzhno-znat-pri-pokupke-bani-bochki/', 'DateTime': '2025-01-23 16:26:27'}, {'Number': 5, 'Topic': 'Эксплуатация бани-бочки зимой', 'Link': 'https://chelyabinsk.bani.ru.com/poleznye-statiy/ekspluataciya-bani-bochki-zimoj/', 'DateTime': '2025-01-23 16:26:29'}, {'Number': 6, 'Topic': 'Почему покупатели выбирают Бани-бочки?', 'Link': 'https://chelyabinsk.bani.ru.com/poleznye-statiy/pochemu-pokupateli-vybirajut-bani-bochki/', 'DateTime': '2025-01-23 16:26:32'}, {'Number': 7, 'Topic': 'Планировки и внутреннее устройство бань-бочек', 'Link': 'https://chelyabinsk.bani.ru.com/poleznye-statiy/planirovki-i-vnutrennee-ustrojstvo-ban-bochek/', 'DateTime': '2025-01-23 16:26:35'}, {'Number': 8, 'Topic': 'Выбор материала при производстве и отделке бани-бочки', 'Link': 'https://chelyabinsk.bani.ru.com/poleznye-statiy/vybor-materiala-pri-proizvodstve-i-otdelke-bani-bochki/', 'DateTime': '2025-01-23 16:26:37'}, {'Number': 9, 'Topic': 'ТОП-15 причин, почему нужно выбирать бани Лукоморье', 'Link': 'https://chelyabinsk.bani.ru.com/poleznye-statiy/pochemu-pokupateli-vybirajut-bani-lukomore/', 'DateTime': '2025-01-23 16:26:40'}, {'Number': 10, 'Topic': 'Популярные дополнения к бане', 'Link': 'https://chelyabinsk.bani.ru.com/poleznye-statiy/populyarnye-dopolneniya-k-bane/', 'DateTime': '2025-01-23 16:26:42'}, {'Number': 11, 'Topic': 'Как топить баню-бочку?', 'Link': 'https://chelyabinsk.bani.ru.com/poleznye-statiy/kak-topit-banju-bochku/', 'DateTime': '2025-01-23 16:26:45'}, {'Number': 12, 'Topic': 'Как устроена баня-бочка?', 'Link': 'https://chelyabinsk.bani.ru.com/poleznye-statiy/kak-ustroena-banya-bochka/', 'DateTime': '2025-01-23 16:26:48'}, {'Number': 13, 'Topic': 'Как сделать баню-бочку своими руками?', 'Link': 'https://chelyabinsk.bani.ru.com/poleznye-statiy/kak-sdelat-banju-bochku-svoimi-rukami/', 'DateTime': '2025-01-23 16:26:50'}, {'Number': 14, 'Topic': 'Баня-бочка по финской технологии', 'Link': 'https://chelyabinsk.bani.ru.com/poleznye-statiy/banya-bochka-po-finskoj-tehnologii/', 'DateTime': '2025-01-23 16:26:53'}, {'Number': 15, 'Topic': 'Виды веников для бани и как правильно их запаривать?', 'Link': 'https://chelyabinsk.bani.ru.com/poleznye-statiy/vidy-venikov-dlya-bani-i-kak-pravilno-ih-zaparivat/', 'DateTime': '2025-01-23 16:26:56'}, {'Number': 16, 'Topic': 'Полезна ли баня для здоровья?', 'Link': 'https://chelyabinsk.bani.ru.com/poleznye-statiy/polezna-li-banya-dlya-zdorovya/', 'DateTime': '2025-01-23 16:26:59'}, {'Number': 17, 'Topic': 'Внешний вид бани: обработка и отделка', 'Link': 'https://chelyabinsk.bani.ru.com/poleznye-statiy/vneshnij-vid-bani-obrabotka-i-otdelka/', 'DateTime': '2025-01-23 16:27:01'}, {'Number': 18, 'Topic': 'Сборка бани бочки на участке', 'Link': 'https://chelyabinsk.bani.ru.com/poleznye-statiy/sborka-bani-bochki-na-uchastke/', 'DateTime': '2025-01-23 16:27:04'}, {'Number': 19, 'Topic': 'Финская и русская баня-бочка: в чем разница', 'Link': 'https://chelyabinsk.bani.ru.com/poleznye-statiy/finskaya-i-russkaya-banya-v-chem-raznica/', 'DateTime': '2025-01-23 16:27:07'}, {'Number': 20, 'Topic': 'Баня-бочка из кедра или ели, что лучше?', 'Link': 'https://chelyabinsk.bani.ru.com/poleznye-statiy/banya-bochka-iz-kedra-ili-eli/', 'DateTime': '2025-01-23 16:27:09'}, {'Number': 21, 'Topic': 'Виды кровли для бани', 'Link': 'https://chelyabinsk.bani.ru.com/poleznye-statiy/vidy-krovli-dlya-bani/', 'DateTime': '2025-01-23 16:27:12'}, {'Number': 22, 'Topic': 'Какой должна быть влажность бруса при строительстве бани?', 'Link': 'https://chelyabinsk.bani.ru.com/poleznye-statiy/kakoj-dolzhna-byt-vlazhnost-brusa-pri-stroitelstve-bani/', 'DateTime': '2025-01-23 16:27:14'}, {'Number': 23, 'Topic': 'Печь для бани — какую выбрать?', 'Link': 'https://chelyabinsk.bani.ru.com/poleznye-statiy/pech-dlya-bani/', 'DateTime': '2025-01-23 16:27:17'}, {'Number': 24, 'Topic': 'Вагонка для отделки бани', 'Link': 'https://chelyabinsk.bani.ru.com/poleznye-statiy/vagonka-dlya-otdelki-bani/', 'DateTime': '2025-01-23 16:27:20'}, {'Number': 25, 'Topic': 'Преимущества деревянной бани', 'Link': 'https://chelyabinsk.bani.ru.com/poleznye-statiy/derevyannye-bani/', 'DateTime': '2025-01-23 16:27:23'}, {'Number': 26, 'Topic': 'Основные требования по эксплуатации бань', 'Link': 'https://chelyabinsk.bani.ru.com/poleznye-statiy/osnovnye-trebovaniya-po-ekspluatacii-ban/', 'DateTime': '2025-01-23 16:27:25'}, {'Number': 27, 'Topic': 'В чем разница между срощенной и обычной древесиной', 'Link': 'https://chelyabinsk.bani.ru.com/poleznye-statiy/v-chem-raznica-mezhdu-sroshhennoj-i-obychnoj-drevesinoj/', 'DateTime': '2025-01-23 16:27:28'}, {'Number': 28, 'Topic': 'Секреты создания легкого и приятного пара', 'Link': 'https://chelyabinsk.bani.ru.com/kak-sozdat-legkij-i-priyatnyj-par-v-bane-bochke/', 'DateTime': '2025-01-23 16:27:30'}]\n"
     ]
    }
   ],
   "source": [
    "import json\n",
    "\n",
    "with open('../data/processed/json/barrels_articles_clb.json', encoding='utf-8') as file:\n",
    "    data1 = json.load(file)\n",
    "    print(data1)"
   ]
  },
  {
   "cell_type": "code",
   "execution_count": 44,
   "metadata": {},
   "outputs": [
    {
     "data": {
      "text/html": [
       "<div>\n",
       "<style scoped>\n",
       "    .dataframe tbody tr th:only-of-type {\n",
       "        vertical-align: middle;\n",
       "    }\n",
       "\n",
       "    .dataframe tbody tr th {\n",
       "        vertical-align: top;\n",
       "    }\n",
       "\n",
       "    .dataframe thead th {\n",
       "        text-align: right;\n",
       "    }\n",
       "</style>\n",
       "<table border=\"1\" class=\"dataframe\">\n",
       "  <thead>\n",
       "    <tr style=\"text-align: right;\">\n",
       "      <th></th>\n",
       "      <th>Number</th>\n",
       "      <th>Topic</th>\n",
       "      <th>Link</th>\n",
       "      <th>DateTime</th>\n",
       "    </tr>\n",
       "  </thead>\n",
       "  <tbody>\n",
       "    <tr>\n",
       "      <th>23</th>\n",
       "      <td>24</td>\n",
       "      <td>Вагонка для отделки бани</td>\n",
       "      <td>https://chelyabinsk.bani.ru.com/poleznye-stati...</td>\n",
       "      <td>2025-01-23 16:27:20</td>\n",
       "    </tr>\n",
       "    <tr>\n",
       "      <th>24</th>\n",
       "      <td>25</td>\n",
       "      <td>Преимущества деревянной бани</td>\n",
       "      <td>https://chelyabinsk.bani.ru.com/poleznye-stati...</td>\n",
       "      <td>2025-01-23 16:27:23</td>\n",
       "    </tr>\n",
       "    <tr>\n",
       "      <th>25</th>\n",
       "      <td>26</td>\n",
       "      <td>Основные требования по эксплуатации бань</td>\n",
       "      <td>https://chelyabinsk.bani.ru.com/poleznye-stati...</td>\n",
       "      <td>2025-01-23 16:27:25</td>\n",
       "    </tr>\n",
       "    <tr>\n",
       "      <th>26</th>\n",
       "      <td>27</td>\n",
       "      <td>В чем разница между срощенной и обычной древес...</td>\n",
       "      <td>https://chelyabinsk.bani.ru.com/poleznye-stati...</td>\n",
       "      <td>2025-01-23 16:27:28</td>\n",
       "    </tr>\n",
       "    <tr>\n",
       "      <th>27</th>\n",
       "      <td>28</td>\n",
       "      <td>Секреты создания легкого и приятного пара</td>\n",
       "      <td>https://chelyabinsk.bani.ru.com/kak-sozdat-leg...</td>\n",
       "      <td>2025-01-23 16:27:30</td>\n",
       "    </tr>\n",
       "  </tbody>\n",
       "</table>\n",
       "</div>"
      ],
      "text/plain": [
       "    Number                                              Topic  \\\n",
       "23      24                           Вагонка для отделки бани   \n",
       "24      25                       Преимущества деревянной бани   \n",
       "25      26           Основные требования по эксплуатации бань   \n",
       "26      27  В чем разница между срощенной и обычной древес...   \n",
       "27      28          Секреты создания легкого и приятного пара   \n",
       "\n",
       "                                                 Link             DateTime  \n",
       "23  https://chelyabinsk.bani.ru.com/poleznye-stati...  2025-01-23 16:27:20  \n",
       "24  https://chelyabinsk.bani.ru.com/poleznye-stati...  2025-01-23 16:27:23  \n",
       "25  https://chelyabinsk.bani.ru.com/poleznye-stati...  2025-01-23 16:27:25  \n",
       "26  https://chelyabinsk.bani.ru.com/poleznye-stati...  2025-01-23 16:27:28  \n",
       "27  https://chelyabinsk.bani.ru.com/kak-sozdat-leg...  2025-01-23 16:27:30  "
      ]
     },
     "execution_count": 44,
     "metadata": {},
     "output_type": "execute_result"
    }
   ],
   "source": [
    "# Преобразуем объект в пандасовский датафрейм\n",
    "# import pandas as pd\n",
    "df1 = pd.DataFrame(data1)\n",
    "df1.tail()"
   ]
  },
  {
   "cell_type": "code",
   "execution_count": null,
   "metadata": {},
   "outputs": [],
   "source": []
  },
  {
   "cell_type": "code",
   "execution_count": 142,
   "metadata": {},
   "outputs": [
    {
     "name": "stdout",
     "output_type": "stream",
     "text": [
      "apple\n",
      "banana\n",
      "cherry\n"
     ]
    }
   ],
   "source": [
    "def my_function(food):\n",
    "  for x in food:\n",
    "    print(x)\n",
    "\n",
    "fruits = [\"apple\", \"banana\", \"cherry\"]\n",
    "\n",
    "my_function(fruits)"
   ]
  },
  {
   "cell_type": "code",
   "execution_count": null,
   "metadata": {},
   "outputs": [],
   "source": []
  }
 ],
 "metadata": {
  "kernelspec": {
   "display_name": "Python 3 (ipykernel)",
   "language": "python",
   "name": "python3"
  },
  "language_info": {
   "codemirror_mode": {
    "name": "ipython",
    "version": 3
   },
   "file_extension": ".py",
   "mimetype": "text/x-python",
   "name": "python",
   "nbconvert_exporter": "python",
   "pygments_lexer": "ipython3",
   "version": "3.12.7"
  }
 },
 "nbformat": 4,
 "nbformat_minor": 4
}
