{
 "cells": [
  {
   "cell_type": "markdown",
   "metadata": {},
   "source": [
    "# Parsing sites about barrel baths"
   ]
  },
  {
   "cell_type": "code",
   "execution_count": null,
   "metadata": {},
   "outputs": [],
   "source": [
    "# Чтобы узнать какие библиотеки используются в текущем проекте: Terminal --> \"pip freeze\"\n",
    "# Чтобы создать список библиотек проекта: Terminal --> \"pip freeze > requirements.txt\"\n",
    "# Чтобы установить одной командой все библиотеки необходимые для работы проекта на другую машину:\n",
    "# Terminal --> \"pip install -r requirements.txt\"\n",
    "\n",
    "# Установка библиотек в ВИРТУАЛЬНОЕ ОКРУЖЕНИЕ через терминал !!!!\n",
    "# pip install requests\n",
    "# pip install beautifulsoup4\n",
    "# pip install lxml\n",
    "# pip install img2pdf\n",
    "# pip install pandas\n",
    "# pip install pandas-compat\n",
    "# pip install gspread\n",
    "# pip install openpyxl Работа с файлами XLSX\n",
    "# pip install seaborn\n",
    "# pip install matplotlib\n",
    "# pip install selenium\n",
    "# pip install MechanicalSoup"
   ]
  },
  {
   "cell_type": "code",
   "execution_count": 3,
   "metadata": {},
   "outputs": [],
   "source": [
    "# import xlsxwriter"
   ]
  },
  {
   "cell_type": "code",
   "execution_count": null,
   "metadata": {},
   "outputs": [],
   "source": [
    "# Информация о библиотеке (через Jupyter Notebook):\n",
    "# Чтобы просмотреть подробную информацию о pandas и её зависимостях, примените следующую команду:\n",
    "# import pandas as pd\n",
    "# pd.show_versions()\n",
    "\n",
    "# Менеджеры пакетов, такие как pip, также позволяют узнать версию библиотеки (через Terminal):\n",
    "# pip show requests"
   ]
  },
  {
   "cell_type": "code",
   "execution_count": 27,
   "metadata": {},
   "outputs": [],
   "source": [
    "# Подключаем библиотеку для поиска элементов кода на сайте !!!!!!!!!!!!!\n",
    "# Библиотека PYTHON для извлечения данных из файлов HTML и XML\n",
    "from bs4 import BeautifulSoup\n",
    "\n",
    "# Подключаем библиотеки для парсинга сайтов !!!!!!!!!!!!!\n",
    "import requests\n",
    "import json\n",
    "import csv\n",
    "import random\n",
    "from time import sleep\n",
    "import openpyxl # Работа с файлами XLSX\n",
    "import lxml"
   ]
  },
  {
   "cell_type": "markdown",
   "metadata": {},
   "source": [
    "### Путь к папкам и файлам с данными - Path to folders and files with data\n",
    "\n",
    "#### ВНЕШНИЕ (скачанные) данные: ../data/external/(csv, html, json, xls)/file_name.*\n",
    "#### ВРЕМЕННЫЕ данные: ../data/interim/(csv, html, json, xls)/file_name.*\n",
    "#### ФИНАЛЬНЫЕ данные: ../data/processed/(csv, html, json, xls)/file_name.*"
   ]
  },
  {
   "cell_type": "code",
   "execution_count": null,
   "metadata": {},
   "outputs": [],
   "source": []
  },
  {
   "cell_type": "markdown",
   "metadata": {},
   "source": [
    "# № 1 - SPEKTR - Парсинг сайта https://novie-bani.ru/"
   ]
  },
  {
   "cell_type": "markdown",
   "metadata": {},
   "source": [
    "##### https://novie-bani.ru/"
   ]
  },
  {
   "cell_type": "markdown",
   "metadata": {},
   "source": [
    "### Константы для проекта"
   ]
  },
  {
   "cell_type": "code",
   "execution_count": 74,
   "metadata": {},
   "outputs": [],
   "source": [
    "# Создаём переменные-КОНСТАНТЫ\n",
    "# PAGE = 1\n",
    "HOST = 'https://novie-bani.ru/'\n",
    "URL = 'https://novie-bani.ru/tproduct/625052929-735502603081-banya-bochka-2-metra'\n",
    "HEADERS = {\n",
    "    'accept': 'text/html,application/xhtml+xml,application/xml;q=0.9,image/avif,image/webp,image/apng,*/*;q=0.8,application/signed-exchange;v=b3;q=0.9',\n",
    "    'user-agent': 'Mozilla/5.0 (Windows NT 10.0; Win64; x64) AppleWebKit/537.36 (KHTML, like Gecko) Chrome/109.0.0.0 Safari/537.36'\n",
    "}"
   ]
  },
  {
   "cell_type": "code",
   "execution_count": null,
   "metadata": {},
   "outputs": [],
   "source": [
    "# js-product t-store__card t-store__stretch-col t-store__stretch-col_33 t-align_left t-item\n",
    "# js-product t-store__card t-store__stretch-col t-store__stretch-col_33 t-align_left t-item\n",
    "\n",
    "# js-store-prod-name js-product-name t-store__card__title t-typography__title t-name t-name_md\n",
    "# js-store-prod-name js-product-name t-store__card__title t-typography__title t-name t-name_md\n",
    "\n",
    "# t-store__card__textwrapper"
   ]
  },
  {
   "cell_type": "code",
   "execution_count": 9,
   "metadata": {},
   "outputs": [],
   "source": [
    "# Отправляем запрос на страницу, передаём в качестве GET-параметра URL-адрес\n",
    "# Сохраним нашу страницу в файл И ЗАКОММЕНТИРУЕМ ЭТУ КОМАНДУ за ненадобностью\n",
    "\n",
    "res = requests.get(url=URL, headers=HEADERS)\n",
    "src = res.text\n",
    "with open('../data/interim/html/index_novieBani.html.html', 'w', encoding='utf-8') as file:\n",
    "    file.write(src)"
   ]
  },
  {
   "cell_type": "code",
   "execution_count": 10,
   "metadata": {},
   "outputs": [],
   "source": [
    "# Теперь откроем наш файл, прочитаем и сохраним код страницы в переменную:\n",
    "with open('../data/interim/html/index_novieBani.html', encoding='utf-8') as file:\n",
    "    src = file.read()\n",
    "# print(src)"
   ]
  },
  {
   "cell_type": "code",
   "execution_count": 28,
   "metadata": {},
   "outputs": [],
   "source": [
    "# Создаём объект Супа с параметрами \n",
    "soup = BeautifulSoup(src, 'lxml')"
   ]
  },
  {
   "cell_type": "markdown",
   "metadata": {},
   "source": [
    "### Находим информацию по одной карточке товара"
   ]
  },
  {
   "cell_type": "code",
   "execution_count": 75,
   "metadata": {},
   "outputs": [],
   "source": [
    "res1 = requests.get(url=URL, headers=HEADERS)\n",
    "soup1 = BeautifulSoup(res1.text, 'lxml')"
   ]
  },
  {
   "cell_type": "code",
   "execution_count": 91,
   "metadata": {},
   "outputs": [],
   "source": [
    "# \n",
    "# Определяем общий блок со всей информацией\n",
    "h1 = soup1.find('h1')"
   ]
  },
  {
   "cell_type": "code",
   "execution_count": 92,
   "metadata": {},
   "outputs": [
    {
     "name": "stdout",
     "output_type": "stream",
     "text": [
      "<h1 class=\"js-store-prod-name js-product-name t-store__prod-popup__name t-name t-name_xl\" itemprop=\"name\" style=\"color:#4a4947;font-size:18px;line-height:1.3;font-weight:400;font-family:TildaSans;\">Баня бочка 2 метра</h1>\n"
     ]
    }
   ],
   "source": [
    "# js-store-prod-name js-product-name t-store__prod-popup__name t-name t-name_xl\n",
    "print(h1)"
   ]
  },
  {
   "cell_type": "code",
   "execution_count": 95,
   "metadata": {},
   "outputs": [],
   "source": [
    "link = soup.find_all('a')"
   ]
  },
  {
   "cell_type": "code",
   "execution_count": 97,
   "metadata": {},
   "outputs": [],
   "source": [
    "# \n",
    "# print(link)"
   ]
  },
  {
   "cell_type": "code",
   "execution_count": 100,
   "metadata": {},
   "outputs": [
    {
     "name": "stdout",
     "output_type": "stream",
     "text": [
      "<div class=\"t-store t-store__prod-snippet__container\">\n",
      "<div class=\"t-store__prod-popup__close-txt-wr\" style=\"position:absolute;\">\n",
      "<a class=\"js-store-close-text t-store__prod-popup__close-txt t-descr t-descr_xxs\" href=\"https://novie-bani.ru\" style=\"color:#000000;\">\n",
      "                Вернуться на сайт\n",
      "            </a>\n",
      "</div>\n",
      "<a class=\"t-popup__close\" href=\"https://novie-bani.ru\" style=\"position:absolute; background-color:#ffffff\">\n",
      "<div class=\"t-popup__close-wrapper\">\n",
      "<svg class=\"t-popup__close-icon t-popup__close-icon_arrow\" height=\"26px\" version=\"1.1\" viewbox=\"0 0 26 26\" width=\"26px\" xmlns=\"http://www.w3.org/2000/svg\" xmlns:xlink=\"http://www.w3.org/1999/xlink\"><path d=\"M10.4142136,5 L11.8284271,6.41421356 L5.829,12.414 L23.4142136,12.4142136 L23.4142136,14.4142136 L5.829,14.414 L11.8284271,20.4142136 L10.4142136,21.8284271 L2,13.4142136 L10.4142136,5 Z\" fill=\"#000000\"></path></svg>\n",
      "<svg class=\"t-popup__close-icon t-popup__close-icon_cross\" height=\"23px\" version=\"1.1\" viewbox=\"0 0 23 23\" width=\"23px\" xmlns=\"http://www.w3.org/2000/svg\" xmlns:xlink=\"http://www.w3.org/1999/xlink\"><g fill=\"#000000\" fill-rule=\"evenodd\" stroke=\"none\" stroke-width=\"1\"><rect height=\"30\" transform=\"translate(11.313708, 11.313708) rotate(-45.000000) translate(-11.313708, -11.313708) \" width=\"2\" x=\"10.3137085\" y=\"-3.6862915\"></rect><rect height=\"30\" transform=\"translate(11.313708, 11.313708) rotate(-315.000000) translate(-11.313708, -11.313708) \" width=\"2\" x=\"10.3137085\" y=\"-3.6862915\"></rect></g></svg>\n",
      "</div>\n",
      "</a>\n",
      "<div class=\"js-store-product js-product t-store__product-snippet\" data-product-lid=\"735502603081\" data-product-uid=\"735502603081\" itemscope=\"\" itemtype=\"http://schema.org/Product\">\n",
      "<meta content=\"735502603081\" itemprop=\"productID\"/>\n",
      "<div class=\"t-container\">\n",
      "<div>\n",
      "<meta content=\"https://static.tildacdn.com/stor3530-6266-4235-a562-393430363263/74121909.jpg\" itemprop=\"image\"/>\n",
      "<div class=\"t-store__prod-popup__slider js-store-prod-slider t-store__prod-popup__col-left t-col t-col_6\">\n",
      "<div class=\"js-product-img\" style=\"width:100%;padding-bottom:75%;background-image: url(https://static.tildacdn.com/stor3530-6266-4235-a562-393430363263/74121909.jpg);background-size:cover;opacity:0;\">\n",
      "</div>\n",
      "</div>\n",
      "<div class=\"t-store__prod-popup__info t-align_left t-store__prod-popup__col-right t-col t-col_6\">\n",
      "<div class=\"t-store__prod-popup__title-wrapper\">\n",
      "<h1 class=\"js-store-prod-name js-product-name t-store__prod-popup__name t-name t-name_xl\" itemprop=\"name\" style=\"color:#4a4947;font-size:18px;line-height:1.3;font-weight:400;font-family:TildaSans;\">Баня бочка 2 метра</h1>\n",
      "<div class=\"t-store__prod-popup__brand t-descr t-descr_xxs\" itemprop=\"brand\" itemscope=\"\" itemtype=\"https://schema.org/Brand\">\n",
      "<span class=\"js-product-brand\" itemprop=\"name\">НОВЫЕ БАНИ</span> </div>\n",
      "<div class=\"t-store__prod-popup__sku t-descr t-descr_xxs\">\n",
      "<span class=\"js-store-prod-sku js-product-sku\" translate=\"no\">\n",
      "</span>\n",
      "</div>\n",
      "</div>\n",
      "<div itemprop=\"offers\" itemscope=\"\" itemtype=\"http://schema.org/Offer\" style=\"display:none;\">\n",
      "<meta content=\"735502603081\" itemprop=\"serialNumber\"/>\n",
      "<meta content=\"175000.00\" itemprop=\"price\"/>\n",
      "<meta content=\"RUB\" itemprop=\"priceCurrency\"/>\n",
      "<link href=\"http://schema.org/InStock\" itemprop=\"availability\"/>\n",
      "</div>\n",
      "<div class=\"js-store-price-wrapper t-store__prod-popup__price-wrapper\">\n",
      "<div class=\"js-store-prod-price t-store__prod-popup__price t-store__prod-popup__price-item t-name t-name_md\" style=\"color:#6b6a69;font-weight:400;\">\n",
      "<div class=\"js-product-price js-store-prod-price-val t-store__prod-popup__price-value\" data-product-price-def=\"175000.0000\" data-product-price-def-str=\"175000,00\">175000,00</div><div class=\"t-store__prod-popup__price-currency\" translate=\"no\">р.</div>\n",
      "</div>\n",
      "<div class=\"js-store-prod-price-old t-store__prod-popup__price_old t-store__prod-popup__price-item t-name t-name_md\" style=\"font-weight:400;display:none;\">\n",
      "<div class=\"js-store-prod-price-old-val t-store__prod-popup__price-value\"></div><div class=\"t-store__prod-popup__price-currency\" translate=\"no\">р.</div>\n",
      "</div>\n",
      "</div>\n",
      "<div class=\"js-product-controls-wrapper\">\n",
      "</div>\n",
      "<div class=\"t-store__prod-popup__links-wrapper\">\n",
      "</div>\n",
      "<div class=\"js-store-prod-text t-store__prod-popup__text t-descr t-descr_xxs\">\n",
      "<div class=\"js-store-prod-all-text\" itemprop=\"description\">\n",
      "<span style=\"font-size: 16px;\">Общая длина 300 см</span><br/><span style=\"font-size: 16px;\">Длина парной 180 см</span><br/><span style=\"font-size: 16px;\">Длина раздевалки 90 см</span><br/><span style=\"font-size: 16px;\">Диаметр 210 см</span><br/><br/><strong style=\"font-size: 16px;\">Цена на баню в стандартной комплектации:</strong><br/><span style=\"font-size: 16px;\">Простая 135 000 р.</span><br/><span style=\"font-size: 16px;\">С козырьком 142 000 р.</span><br/><span style=\"font-size: 16px;\">С крыльцом 155 000 р.</span><br/><br/><strong style=\"font-size: 16px;\">Стандартная комплектация включает в себя:</strong><br/><span style=\"font-size: 16px;\">- печь и дымоход в сборе</span><br/><span style=\"font-size: 16px;\">- бак для воды на 50л из нержавеющей стали</span><br/><span style=\"font-size: 16px;\">- 2 лежака из осины в парной</span><br/><span style=\"font-size: 16px;\">- трапик из осины в парной</span><br/><span style=\"font-size: 16px;\">- комплект электрики и освещения</span><br/><span style=\"font-size: 16px;\">- защита от нагрева из минерита</span><br/><span style=\"font-size: 16px;\">- обручи из нержавеющей стали с замками для стягивания</span><br/><span style=\"font-size: 16px;\">- входная дверь деревянная глухая</span><br/><span style=\"font-size: 16px;\">- слив</span><br/><span style=\"font-size: 16px;\">- крыша из гибкой черепицы</span><br/><span style=\"font-size: 16px;\">- снаружи пропитана защитным составом в два слоя</span><br/><span style=\"font-size: 16px;\">- фундаментные блоки 4 шт.</span><br/><br/><span style=\"font-size: 16px;\">Стоимость указана без доставки. Рассчитывается индивидуально.</span><br/><br/><span style=\"font-size: 16px;\">При сборке на участке стоимость увеличивается на 7%.</span> </div>\n",
      "<div class=\"js-store-prod-all-charcs\">\n",
      "</div>\n",
      "</div>\n",
      "</div>\n",
      "</div>\n",
      "</div>\n",
      "</div>\n",
      "<div class=\"js-store-error-msg t-store__error-msg-cont\"></div>\n",
      "<div itemscope=\"\" itemtype=\"http://schema.org/ImageGallery\" style=\"display:none;\">\n",
      "</div>\n",
      "</div>\n"
     ]
    }
   ],
   "source": [
    "# t-store js-store t-store__prod-snippet__container\n",
    "block1 = soup1.find('div', class_='t-store__prod-snippet__container')\n",
    "print(block1)"
   ]
  },
  {
   "cell_type": "code",
   "execution_count": 107,
   "metadata": {},
   "outputs": [
    {
     "name": "stdout",
     "output_type": "stream",
     "text": [
      "<div class=\"js-store-grid-cont t-store__grid-cont t-store__grid-cont_col-width_stretch t-container t-store__grid-cont_mobile-grid\" data-col-gap=\"10\"></div>\n"
     ]
    }
   ],
   "source": [
    "# t-store js-store t-store__prod-snippet__container js-product\n",
    "block = soup.find('div', class_='js-store-grid-cont t-store__grid-cont t-store__grid-cont_col-width_stretch t-container t-store__grid-cont_mobile-grid')\n",
    "print(block)"
   ]
  },
  {
   "cell_type": "code",
   "execution_count": null,
   "metadata": {},
   "outputs": [],
   "source": [
    "# \n"
   ]
  },
  {
   "cell_type": "code",
   "execution_count": null,
   "metadata": {},
   "outputs": [],
   "source": [
    "# \n"
   ]
  },
  {
   "cell_type": "code",
   "execution_count": null,
   "metadata": {},
   "outputs": [],
   "source": [
    "# \n"
   ]
  },
  {
   "cell_type": "code",
   "execution_count": null,
   "metadata": {},
   "outputs": [],
   "source": [
    "# \n"
   ]
  },
  {
   "cell_type": "code",
   "execution_count": null,
   "metadata": {},
   "outputs": [],
   "source": [
    "# \n"
   ]
  },
  {
   "cell_type": "code",
   "execution_count": null,
   "metadata": {},
   "outputs": [],
   "source": [
    "# \n"
   ]
  },
  {
   "cell_type": "code",
   "execution_count": null,
   "metadata": {},
   "outputs": [],
   "source": []
  },
  {
   "cell_type": "markdown",
   "metadata": {},
   "source": [
    "# № 2 - Парсим полезные статьи и что нужно знать о банях-бочках."
   ]
  },
  {
   "cell_type": "markdown",
   "metadata": {},
   "source": [
    "##### https://chelyabinsk.bani.ru.com"
   ]
  },
  {
   "cell_type": "markdown",
   "metadata": {},
   "source": [
    "### Константы для проекта"
   ]
  },
  {
   "cell_type": "code",
   "execution_count": 1,
   "metadata": {},
   "outputs": [],
   "source": [
    "# Создаём переменные-КОНСТАНТЫ\n",
    "# 1. Адрес основного хоста\n",
    "HOST = 'https://chelyabinsk.bani.ru.com'\n",
    "# https://chelyabinsk.bani.ru.com/poleznye-statiy/pravila-ekspluatacii-bani-bochki-kak-prodlit-srok-sluzhby/\n",
    "\n",
    "# 2. Адрес страницы для парсинга\n",
    "URL = 'https://chelyabinsk.bani.ru.com/poleznye-statiy/'\n",
    "\n",
    "# 3. Создаём словарь заголовков\n",
    "# Это нужно для некоторых сайтов (но не для всех - для этого необязательно)\n",
    "# чтобы показать сайту, что ВЫ НЕ БОТ, а обычный пользователь\n",
    "HEADERS = {\n",
    "    'accept': 'text/html,application/xhtml+xml,application/xml;q=0.9,image/avif,image/webp,image/apng,*/*;q=0.8,application/signed-exchange;v=b3;q=0.9',\n",
    "    'user-agent': 'Mozilla/5.0 (Windows NT 10.0; Win64; x64) AppleWebKit/537.36 (KHTML, like Gecko) Chrome/109.0.0.0 Safari/537.36'\n",
    "}"
   ]
  },
  {
   "cell_type": "code",
   "execution_count": 128,
   "metadata": {},
   "outputs": [],
   "source": [
    "# Отправляем запрос на страницу, передаём в качестве GET-параметра URL-адрес\n",
    "# Сохраним нашу страницу в файл И ЗАКОММЕНТИРУЕМ ЭТУ КОМАНДУ за ненадобностью\n",
    "\n",
    "# r = requests.get(url=URL, headers=HEADERS)\n",
    "# src = r.text\n",
    "# with open(\"index_clb.html\", \"w\", encoding=\"utf-8\") as file:\n",
    "# with open('../data/interim/html/index_clb.html', 'w', encoding='utf-8') as file:\n",
    "#     file.write(src)\n",
    "\n",
    "# Теперь откроем наш файл, прочитаем и сохраним код страницы в переменную:\n",
    "with open('../data/interim/html/index_clb.html', encoding='utf-8') as file:\n",
    "    src = file.read()\n",
    "# print(src)\n",
    "\n",
    "# f'data/{count}_{category_name}.csv'"
   ]
  },
  {
   "cell_type": "code",
   "execution_count": 98,
   "metadata": {},
   "outputs": [],
   "source": []
  },
  {
   "cell_type": "markdown",
   "metadata": {},
   "source": [
    "### Обработка JSON файла - Сохранение данных в JSON файл"
   ]
  },
  {
   "cell_type": "code",
   "execution_count": 111,
   "metadata": {},
   "outputs": [
    {
     "name": "stdout",
     "output_type": "stream",
     "text": [
      "[{0, 'Как сделать фундамент для бани-бочки?', 'https://chelyabinsk.bani.ru.com/poleznye-statiy/kak-sdelat-fundament-dlya-bani-bochki/'}, {1, 'https://chelyabinsk.bani.ru.com/poleznye-statiy/pech-v-bane-bochke-varianty-raspolozheniya/', 'Печь в бане-бочке: печь с топкой через перегородку или на улицу — плюсы и минусы'}, {2, 'https://chelyabinsk.bani.ru.com/poleznye-statiy/pravila-ekspluatacii-bani-bochki-kak-prodlit-srok-sluzhby/', 'Правила эксплуатации бань-бочек'}, {3, 'Что нужно знать при покупке?', 'https://chelyabinsk.bani.ru.com/poleznye-statiy/chto-nuzhno-znat-pri-pokupke-bani-bochki/'}, {'Эксплуатация бани-бочки зимой', 4, 'https://chelyabinsk.bani.ru.com/poleznye-statiy/ekspluataciya-bani-bochki-zimoj/'}, {'https://chelyabinsk.bani.ru.com/poleznye-statiy/pochemu-pokupateli-vybirajut-bani-bochki/', 5, 'Почему покупатели выбирают Бани-бочки?'}, {'https://chelyabinsk.bani.ru.com/poleznye-statiy/planirovki-i-vnutrennee-ustrojstvo-ban-bochek/', 'Планировки и внутреннее устройство бань-бочек', 6}, {'https://chelyabinsk.bani.ru.com/poleznye-statiy/vybor-materiala-pri-proizvodstve-i-otdelke-bani-bochki/', 'Выбор материала при производстве и отделке бани-бочки', 7}, {8, 'https://chelyabinsk.bani.ru.com/poleznye-statiy/pochemu-pokupateli-vybirajut-bani-lukomore/', 'ТОП-15 причин, почему нужно выбирать бани Лукоморье'}, {9, 'https://chelyabinsk.bani.ru.com/poleznye-statiy/populyarnye-dopolneniya-k-bane/', 'Популярные дополнения к бане'}, {'Как топить баню-бочку?', 10, 'https://chelyabinsk.bani.ru.com/poleznye-statiy/kak-topit-banju-bochku/'}, {'https://chelyabinsk.bani.ru.com/poleznye-statiy/kak-ustroena-banya-bochka/', 11, 'Как устроена баня-бочка?'}, {'Как сделать баню-бочку своими руками?', 'https://chelyabinsk.bani.ru.com/poleznye-statiy/kak-sdelat-banju-bochku-svoimi-rukami/', 12}, {'https://chelyabinsk.bani.ru.com/poleznye-statiy/banya-bochka-po-finskoj-tehnologii/', 'Баня-бочка по финской технологии', 13}, {'Виды веников для бани и как правильно их запаривать?', 'https://chelyabinsk.bani.ru.com/poleznye-statiy/vidy-venikov-dlya-bani-i-kak-pravilno-ih-zaparivat/', 14}, {'https://chelyabinsk.bani.ru.com/poleznye-statiy/polezna-li-banya-dlya-zdorovya/', 'Полезна ли баня для здоровья?', 15}, {16, 'https://chelyabinsk.bani.ru.com/poleznye-statiy/vneshnij-vid-bani-obrabotka-i-otdelka/', 'Внешний вид бани: обработка и отделка'}, {'Сборка бани бочки на участке', 17, 'https://chelyabinsk.bani.ru.com/poleznye-statiy/sborka-bani-bochki-na-uchastke/'}, {18, 'https://chelyabinsk.bani.ru.com/poleznye-statiy/finskaya-i-russkaya-banya-v-chem-raznica/', 'Финская и русская баня-бочка: в чем разница'}, {19, 'Баня-бочка из кедра или ели, что лучше?', 'https://chelyabinsk.bani.ru.com/poleznye-statiy/banya-bochka-iz-kedra-ili-eli/'}, {'Виды кровли для бани', 'https://chelyabinsk.bani.ru.com/poleznye-statiy/vidy-krovli-dlya-bani/', 20}, {'https://chelyabinsk.bani.ru.com/poleznye-statiy/kakoj-dolzhna-byt-vlazhnost-brusa-pri-stroitelstve-bani/', 21, 'Какой должна быть влажность бруса при строительстве бани?'}, {'Печь для бани — какую выбрать?', 'https://chelyabinsk.bani.ru.com/poleznye-statiy/pech-dlya-bani/', 22}, {'https://chelyabinsk.bani.ru.com/poleznye-statiy/vagonka-dlya-otdelki-bani/', 'Вагонка для отделки бани', 23}, {24, 'Преимущества деревянной бани', 'https://chelyabinsk.bani.ru.com/poleznye-statiy/derevyannye-bani/'}, {25, 'Основные требования по эксплуатации бань', 'https://chelyabinsk.bani.ru.com/poleznye-statiy/osnovnye-trebovaniya-po-ekspluatacii-ban/'}, {26, 'В чем разница между срощенной и обычной древесиной', 'https://chelyabinsk.bani.ru.com/poleznye-statiy/v-chem-raznica-mezhdu-sroshhennoj-i-obychnoj-drevesinoj/'}, {'Секреты создания легкого и приятного пара', 27, 'https://chelyabinsk.bani.ru.com/kak-sozdat-legkij-i-priyatnyj-par-v-bane-bochke/'}]\n"
     ]
    }
   ],
   "source": [
    "# Сохраняем полученные данные в словарь. На каждой итерации цикла будем его заполнять:\n",
    "# в котором ключами будут имена категорий, а значениями - ссылки\n",
    "\n",
    "# Отправляем запрос на страницу, передаём в качестве GET-параметра URL-адрес\n",
    "r = requests.get(url=URL, headers=HEADERS)\n",
    "    \n",
    "# Создаём объект Супа с параметрами \n",
    "soup = BeautifulSoup(r.text, 'lxml')\n",
    "    \n",
    "# Определяем DIV-ы с нужной инфой (заголовки статей)\n",
    "articles = soup.find('div', class_='desc list').find_all(\"a\")\n",
    "\n",
    "articles_list = []\n",
    "articles_list_dict = {}\n",
    "count = 0\n",
    "for item in articles:\n",
    "    title = item.text\n",
    "    link = item.get(\"href\")\n",
    "#     print(f\"{item_text}: {item_href}\")\n",
    "\n",
    "    articles_list_dict['Number'] = count\n",
    "    articles_list_dict['Topic'] = title\n",
    "    articles_list_dict['Link'] = link\n",
    "    \n",
    "    articles_list.append(\n",
    "            {\n",
    "                articles_list_dict['Number'],\n",
    "                articles_list_dict['Topic'],\n",
    "                articles_list_dict['Link']\n",
    "            }\n",
    "        )\n",
    "    count += 1\n",
    "#     articles_list_dict[title] = link\n",
    "    \n",
    "print(articles_list)\n",
    "\n",
    "# ОТЛИЧНО !!!!!"
   ]
  },
  {
   "cell_type": "code",
   "execution_count": null,
   "metadata": {},
   "outputs": [],
   "source": [
    "# Создание словаря:\n",
    "list_one = [\"one\", \"two\", \"three\", \"four\", \"five\"]\n",
    "list_two = [1, 2, 3, 4, 5]\n",
    " \n",
    "the_dict = dict(zip(list_one, list_two))"
   ]
  },
  {
   "cell_type": "code",
   "execution_count": 116,
   "metadata": {},
   "outputs": [
    {
     "name": "stdout",
     "output_type": "stream",
     "text": [
      "{0: 'Как сделать фундамент для бани-бочки?', 1: 'Печь в бане-бочке: печь с топкой через перегородку или на улицу — плюсы и минусы', 2: 'Правила эксплуатации бань-бочек', 3: 'Что нужно знать при покупке?', 4: 'Эксплуатация бани-бочки зимой', 5: 'Почему покупатели выбирают Бани-бочки?', 6: 'Планировки и внутреннее устройство бань-бочек', 7: 'Выбор материала при производстве и отделке бани-бочки', 8: 'ТОП-15 причин, почему нужно выбирать бани Лукоморье', 9: 'Популярные дополнения к бане', 10: 'Как топить баню-бочку?', 11: 'Как устроена баня-бочка?', 12: 'Как сделать баню-бочку своими руками?', 13: 'Баня-бочка по финской технологии', 14: 'Виды веников для бани и как правильно их запаривать?', 15: 'Полезна ли баня для здоровья?', 16: 'Внешний вид бани: обработка и отделка', 17: 'Сборка бани бочки на участке', 18: 'Финская и русская баня-бочка: в чем разница', 19: 'Баня-бочка из кедра или ели, что лучше?', 20: 'Виды кровли для бани', 21: 'Какой должна быть влажность бруса при строительстве бани?', 22: 'Печь для бани — какую выбрать?', 23: 'Вагонка для отделки бани', 24: 'Преимущества деревянной бани', 25: 'Основные требования по эксплуатации бань', 26: 'В чем разница между срощенной и обычной древесиной', 27: 'Секреты создания легкого и приятного пара'}\n"
     ]
    }
   ],
   "source": [
    "# Отправляем запрос на страницу, передаём в качестве GET-параметра URL-адрес\n",
    "r = requests.get(url=URL, headers=HEADERS)\n",
    "    \n",
    "# Создаём объект Супа с параметрами \n",
    "soup = BeautifulSoup(r.text, 'lxml')\n",
    "    \n",
    "# Определяем DIV-ы с нужной инфой (заголовки статей)\n",
    "articles = soup.find('div', class_='desc list').find_all(\"a\")\n",
    "\n",
    "numbers_list = []\n",
    "topics_list = []\n",
    "links_list = []\n",
    "articles_list = []\n",
    "articles_list_dict = {}\n",
    "\n",
    "count = 0\n",
    "for item in articles:\n",
    "    title = item.text\n",
    "    link = item.get(\"href\")\n",
    "    \n",
    "    numbers_list.append(count)\n",
    "    topics_list.append(title)\n",
    "    links_list.append(link)\n",
    "    count += 1\n",
    "    \n",
    "articles_list_dict = dict(zip(numbers_list, topics_list))\n",
    "        \n",
    "print(articles_list_dict)"
   ]
  },
  {
   "cell_type": "code",
   "execution_count": 117,
   "metadata": {},
   "outputs": [
    {
     "name": "stdout",
     "output_type": "stream",
     "text": [
      "[{'Number': 1, 'Topic': 'Как сделать фундамент для бани-бочки?', 'Link': 'https://chelyabinsk.bani.ru.com/poleznye-statiy/kak-sdelat-fundament-dlya-bani-bochki/'}, {'Number': 2, 'Topic': 'Печь в бане-бочке: печь с топкой через перегородку или на улицу — плюсы и минусы', 'Link': 'https://chelyabinsk.bani.ru.com/poleznye-statiy/pech-v-bane-bochke-varianty-raspolozheniya/'}, {'Number': 3, 'Topic': 'Правила эксплуатации бань-бочек', 'Link': 'https://chelyabinsk.bani.ru.com/poleznye-statiy/pravila-ekspluatacii-bani-bochki-kak-prodlit-srok-sluzhby/'}, {'Number': 4, 'Topic': 'Что нужно знать при покупке?', 'Link': 'https://chelyabinsk.bani.ru.com/poleznye-statiy/chto-nuzhno-znat-pri-pokupke-bani-bochki/'}, {'Number': 5, 'Topic': 'Эксплуатация бани-бочки зимой', 'Link': 'https://chelyabinsk.bani.ru.com/poleznye-statiy/ekspluataciya-bani-bochki-zimoj/'}, {'Number': 6, 'Topic': 'Почему покупатели выбирают Бани-бочки?', 'Link': 'https://chelyabinsk.bani.ru.com/poleznye-statiy/pochemu-pokupateli-vybirajut-bani-bochki/'}, {'Number': 7, 'Topic': 'Планировки и внутреннее устройство бань-бочек', 'Link': 'https://chelyabinsk.bani.ru.com/poleznye-statiy/planirovki-i-vnutrennee-ustrojstvo-ban-bochek/'}, {'Number': 8, 'Topic': 'Выбор материала при производстве и отделке бани-бочки', 'Link': 'https://chelyabinsk.bani.ru.com/poleznye-statiy/vybor-materiala-pri-proizvodstve-i-otdelke-bani-bochki/'}, {'Number': 9, 'Topic': 'ТОП-15 причин, почему нужно выбирать бани Лукоморье', 'Link': 'https://chelyabinsk.bani.ru.com/poleznye-statiy/pochemu-pokupateli-vybirajut-bani-lukomore/'}, {'Number': 10, 'Topic': 'Популярные дополнения к бане', 'Link': 'https://chelyabinsk.bani.ru.com/poleznye-statiy/populyarnye-dopolneniya-k-bane/'}, {'Number': 11, 'Topic': 'Как топить баню-бочку?', 'Link': 'https://chelyabinsk.bani.ru.com/poleznye-statiy/kak-topit-banju-bochku/'}, {'Number': 12, 'Topic': 'Как устроена баня-бочка?', 'Link': 'https://chelyabinsk.bani.ru.com/poleznye-statiy/kak-ustroena-banya-bochka/'}, {'Number': 13, 'Topic': 'Как сделать баню-бочку своими руками?', 'Link': 'https://chelyabinsk.bani.ru.com/poleznye-statiy/kak-sdelat-banju-bochku-svoimi-rukami/'}, {'Number': 14, 'Topic': 'Баня-бочка по финской технологии', 'Link': 'https://chelyabinsk.bani.ru.com/poleznye-statiy/banya-bochka-po-finskoj-tehnologii/'}, {'Number': 15, 'Topic': 'Виды веников для бани и как правильно их запаривать?', 'Link': 'https://chelyabinsk.bani.ru.com/poleznye-statiy/vidy-venikov-dlya-bani-i-kak-pravilno-ih-zaparivat/'}, {'Number': 16, 'Topic': 'Полезна ли баня для здоровья?', 'Link': 'https://chelyabinsk.bani.ru.com/poleznye-statiy/polezna-li-banya-dlya-zdorovya/'}, {'Number': 17, 'Topic': 'Внешний вид бани: обработка и отделка', 'Link': 'https://chelyabinsk.bani.ru.com/poleznye-statiy/vneshnij-vid-bani-obrabotka-i-otdelka/'}, {'Number': 18, 'Topic': 'Сборка бани бочки на участке', 'Link': 'https://chelyabinsk.bani.ru.com/poleznye-statiy/sborka-bani-bochki-na-uchastke/'}, {'Number': 19, 'Topic': 'Финская и русская баня-бочка: в чем разница', 'Link': 'https://chelyabinsk.bani.ru.com/poleznye-statiy/finskaya-i-russkaya-banya-v-chem-raznica/'}, {'Number': 20, 'Topic': 'Баня-бочка из кедра или ели, что лучше?', 'Link': 'https://chelyabinsk.bani.ru.com/poleznye-statiy/banya-bochka-iz-kedra-ili-eli/'}, {'Number': 21, 'Topic': 'Виды кровли для бани', 'Link': 'https://chelyabinsk.bani.ru.com/poleznye-statiy/vidy-krovli-dlya-bani/'}, {'Number': 22, 'Topic': 'Какой должна быть влажность бруса при строительстве бани?', 'Link': 'https://chelyabinsk.bani.ru.com/poleznye-statiy/kakoj-dolzhna-byt-vlazhnost-brusa-pri-stroitelstve-bani/'}, {'Number': 23, 'Topic': 'Печь для бани — какую выбрать?', 'Link': 'https://chelyabinsk.bani.ru.com/poleznye-statiy/pech-dlya-bani/'}, {'Number': 24, 'Topic': 'Вагонка для отделки бани', 'Link': 'https://chelyabinsk.bani.ru.com/poleznye-statiy/vagonka-dlya-otdelki-bani/'}, {'Number': 25, 'Topic': 'Преимущества деревянной бани', 'Link': 'https://chelyabinsk.bani.ru.com/poleznye-statiy/derevyannye-bani/'}, {'Number': 26, 'Topic': 'Основные требования по эксплуатации бань', 'Link': 'https://chelyabinsk.bani.ru.com/poleznye-statiy/osnovnye-trebovaniya-po-ekspluatacii-ban/'}, {'Number': 27, 'Topic': 'В чем разница между срощенной и обычной древесиной', 'Link': 'https://chelyabinsk.bani.ru.com/poleznye-statiy/v-chem-raznica-mezhdu-sroshhennoj-i-obychnoj-drevesinoj/'}, {'Number': 28, 'Topic': 'Секреты создания легкого и приятного пара', 'Link': 'https://chelyabinsk.bani.ru.com/kak-sozdat-legkij-i-priyatnyj-par-v-bane-bochke/'}]\n"
     ]
    }
   ],
   "source": [
    "# Пройдём в цикле по коду блока\n",
    "articles_list = []\n",
    "count = 1\n",
    "for item in articles:\n",
    "    title = item.text\n",
    "    link = item.get(\"href\")\n",
    "\n",
    "    articles_list.append(\n",
    "        {\n",
    "            \"Number\": count,\n",
    "            \"Topic\": title,\n",
    "            \"Link\": link\n",
    "        }\n",
    "    )\n",
    "    count += 1\n",
    "    \n",
    "print(articles_list)"
   ]
  },
  {
   "cell_type": "code",
   "execution_count": 118,
   "metadata": {},
   "outputs": [
    {
     "data": {
      "text/plain": [
       "[{'Number': 1,\n",
       "  'Topic': 'Как сделать фундамент для бани-бочки?',\n",
       "  'Link': 'https://chelyabinsk.bani.ru.com/poleznye-statiy/kak-sdelat-fundament-dlya-bani-bochki/'},\n",
       " {'Number': 2,\n",
       "  'Topic': 'Печь в бане-бочке: печь с топкой через перегородку или на улицу — плюсы и минусы',\n",
       "  'Link': 'https://chelyabinsk.bani.ru.com/poleznye-statiy/pech-v-bane-bochke-varianty-raspolozheniya/'},\n",
       " {'Number': 3,\n",
       "  'Topic': 'Правила эксплуатации бань-бочек',\n",
       "  'Link': 'https://chelyabinsk.bani.ru.com/poleznye-statiy/pravila-ekspluatacii-bani-bochki-kak-prodlit-srok-sluzhby/'},\n",
       " {'Number': 4,\n",
       "  'Topic': 'Что нужно знать при покупке?',\n",
       "  'Link': 'https://chelyabinsk.bani.ru.com/poleznye-statiy/chto-nuzhno-znat-pri-pokupke-bani-bochki/'},\n",
       " {'Number': 5,\n",
       "  'Topic': 'Эксплуатация бани-бочки зимой',\n",
       "  'Link': 'https://chelyabinsk.bani.ru.com/poleznye-statiy/ekspluataciya-bani-bochki-zimoj/'},\n",
       " {'Number': 6,\n",
       "  'Topic': 'Почему покупатели выбирают Бани-бочки?',\n",
       "  'Link': 'https://chelyabinsk.bani.ru.com/poleznye-statiy/pochemu-pokupateli-vybirajut-bani-bochki/'},\n",
       " {'Number': 7,\n",
       "  'Topic': 'Планировки и внутреннее устройство бань-бочек',\n",
       "  'Link': 'https://chelyabinsk.bani.ru.com/poleznye-statiy/planirovki-i-vnutrennee-ustrojstvo-ban-bochek/'},\n",
       " {'Number': 8,\n",
       "  'Topic': 'Выбор материала при производстве и отделке бани-бочки',\n",
       "  'Link': 'https://chelyabinsk.bani.ru.com/poleznye-statiy/vybor-materiala-pri-proizvodstve-i-otdelke-bani-bochki/'},\n",
       " {'Number': 9,\n",
       "  'Topic': 'ТОП-15 причин, почему нужно выбирать бани Лукоморье',\n",
       "  'Link': 'https://chelyabinsk.bani.ru.com/poleznye-statiy/pochemu-pokupateli-vybirajut-bani-lukomore/'},\n",
       " {'Number': 10,\n",
       "  'Topic': 'Популярные дополнения к бане',\n",
       "  'Link': 'https://chelyabinsk.bani.ru.com/poleznye-statiy/populyarnye-dopolneniya-k-bane/'},\n",
       " {'Number': 11,\n",
       "  'Topic': 'Как топить баню-бочку?',\n",
       "  'Link': 'https://chelyabinsk.bani.ru.com/poleznye-statiy/kak-topit-banju-bochku/'},\n",
       " {'Number': 12,\n",
       "  'Topic': 'Как устроена баня-бочка?',\n",
       "  'Link': 'https://chelyabinsk.bani.ru.com/poleznye-statiy/kak-ustroena-banya-bochka/'},\n",
       " {'Number': 13,\n",
       "  'Topic': 'Как сделать баню-бочку своими руками?',\n",
       "  'Link': 'https://chelyabinsk.bani.ru.com/poleznye-statiy/kak-sdelat-banju-bochku-svoimi-rukami/'},\n",
       " {'Number': 14,\n",
       "  'Topic': 'Баня-бочка по финской технологии',\n",
       "  'Link': 'https://chelyabinsk.bani.ru.com/poleznye-statiy/banya-bochka-po-finskoj-tehnologii/'},\n",
       " {'Number': 15,\n",
       "  'Topic': 'Виды веников для бани и как правильно их запаривать?',\n",
       "  'Link': 'https://chelyabinsk.bani.ru.com/poleznye-statiy/vidy-venikov-dlya-bani-i-kak-pravilno-ih-zaparivat/'},\n",
       " {'Number': 16,\n",
       "  'Topic': 'Полезна ли баня для здоровья?',\n",
       "  'Link': 'https://chelyabinsk.bani.ru.com/poleznye-statiy/polezna-li-banya-dlya-zdorovya/'},\n",
       " {'Number': 17,\n",
       "  'Topic': 'Внешний вид бани: обработка и отделка',\n",
       "  'Link': 'https://chelyabinsk.bani.ru.com/poleznye-statiy/vneshnij-vid-bani-obrabotka-i-otdelka/'},\n",
       " {'Number': 18,\n",
       "  'Topic': 'Сборка бани бочки на участке',\n",
       "  'Link': 'https://chelyabinsk.bani.ru.com/poleznye-statiy/sborka-bani-bochki-na-uchastke/'},\n",
       " {'Number': 19,\n",
       "  'Topic': 'Финская и русская баня-бочка: в чем разница',\n",
       "  'Link': 'https://chelyabinsk.bani.ru.com/poleznye-statiy/finskaya-i-russkaya-banya-v-chem-raznica/'},\n",
       " {'Number': 20,\n",
       "  'Topic': 'Баня-бочка из кедра или ели, что лучше?',\n",
       "  'Link': 'https://chelyabinsk.bani.ru.com/poleznye-statiy/banya-bochka-iz-kedra-ili-eli/'},\n",
       " {'Number': 21,\n",
       "  'Topic': 'Виды кровли для бани',\n",
       "  'Link': 'https://chelyabinsk.bani.ru.com/poleznye-statiy/vidy-krovli-dlya-bani/'},\n",
       " {'Number': 22,\n",
       "  'Topic': 'Какой должна быть влажность бруса при строительстве бани?',\n",
       "  'Link': 'https://chelyabinsk.bani.ru.com/poleznye-statiy/kakoj-dolzhna-byt-vlazhnost-brusa-pri-stroitelstve-bani/'},\n",
       " {'Number': 23,\n",
       "  'Topic': 'Печь для бани — какую выбрать?',\n",
       "  'Link': 'https://chelyabinsk.bani.ru.com/poleznye-statiy/pech-dlya-bani/'},\n",
       " {'Number': 24,\n",
       "  'Topic': 'Вагонка для отделки бани',\n",
       "  'Link': 'https://chelyabinsk.bani.ru.com/poleznye-statiy/vagonka-dlya-otdelki-bani/'},\n",
       " {'Number': 25,\n",
       "  'Topic': 'Преимущества деревянной бани',\n",
       "  'Link': 'https://chelyabinsk.bani.ru.com/poleznye-statiy/derevyannye-bani/'},\n",
       " {'Number': 26,\n",
       "  'Topic': 'Основные требования по эксплуатации бань',\n",
       "  'Link': 'https://chelyabinsk.bani.ru.com/poleznye-statiy/osnovnye-trebovaniya-po-ekspluatacii-ban/'},\n",
       " {'Number': 27,\n",
       "  'Topic': 'В чем разница между срощенной и обычной древесиной',\n",
       "  'Link': 'https://chelyabinsk.bani.ru.com/poleznye-statiy/v-chem-raznica-mezhdu-sroshhennoj-i-obychnoj-drevesinoj/'},\n",
       " {'Number': 28,\n",
       "  'Topic': 'Секреты создания легкого и приятного пара',\n",
       "  'Link': 'https://chelyabinsk.bani.ru.com/kak-sozdat-legkij-i-priyatnyj-par-v-bane-bochke/'}]"
      ]
     },
     "execution_count": 118,
     "metadata": {},
     "output_type": "execute_result"
    }
   ],
   "source": [
    "articles_list"
   ]
  },
  {
   "cell_type": "code",
   "execution_count": 122,
   "metadata": {},
   "outputs": [],
   "source": [
    "# Сохранение данных в JSON файл\n",
    "with open(\"barrels_articles.json\", \"a\", encoding=\"utf-8\") as file:\n",
    "        json.dump(articles_list, file, indent=4, ensure_ascii=False)"
   ]
  },
  {
   "cell_type": "code",
   "execution_count": null,
   "metadata": {},
   "outputs": [],
   "source": []
  },
  {
   "cell_type": "markdown",
   "metadata": {},
   "source": [
    "## Окончательный вариант оформляем в виде общей функции"
   ]
  },
  {
   "cell_type": "code",
   "execution_count": 57,
   "metadata": {},
   "outputs": [
    {
     "name": "stdout",
     "output_type": "stream",
     "text": [
      "Осталось итераций: 1\n",
      "# Итерация 1. Как сделать фундамент для бани-бочки? ... записан...\n",
      "Осталось итераций: 2\n",
      "# Итерация 2. Печь в бане-бочке: печь с топкой через перегородку или на улицу — плюсы и минусы ... записан...\n",
      "Осталось итераций: 3\n",
      "# Итерация 3. Правила эксплуатации бань-бочек ... записан...\n",
      "Осталось итераций: 4\n",
      "# Итерация 4. Что нужно знать при покупке? ... записан...\n",
      "Осталось итераций: 5\n",
      "# Итерация 5. Эксплуатация бани-бочки зимой ... записан...\n",
      "Осталось итераций: 6\n",
      "# Итерация 6. Почему покупатели выбирают Бани-бочки? ... записан...\n",
      "Осталось итераций: 7\n",
      "# Итерация 7. Планировки и внутреннее устройство бань-бочек ... записан...\n",
      "Осталось итераций: 8\n",
      "# Итерация 8. Выбор материала при производстве и отделке бани-бочки ... записан...\n",
      "Осталось итераций: 9\n",
      "# Итерация 9. ТОП-15 причин, почему нужно выбирать бани Лукоморье ... записан...\n",
      "Осталось итераций: 10\n",
      "# Итерация 10. Популярные дополнения к бане ... записан...\n",
      "Осталось итераций: 11\n",
      "# Итерация 11. Как топить баню-бочку? ... записан...\n",
      "Осталось итераций: 12\n",
      "# Итерация 12. Как устроена баня-бочка? ... записан...\n",
      "Осталось итераций: 13\n",
      "# Итерация 13. Как сделать баню-бочку своими руками? ... записан...\n",
      "Осталось итераций: 14\n",
      "# Итерация 14. Баня-бочка по финской технологии ... записан...\n",
      "Осталось итераций: 15\n",
      "# Итерация 15. Виды веников для бани и как правильно их запаривать? ... записан...\n",
      "Осталось итераций: 16\n",
      "# Итерация 16. Полезна ли баня для здоровья? ... записан...\n",
      "Осталось итераций: 17\n",
      "# Итерация 17. Внешний вид бани: обработка и отделка ... записан...\n",
      "Осталось итераций: 18\n",
      "# Итерация 18. Сборка бани бочки на участке ... записан...\n",
      "Осталось итераций: 19\n",
      "# Итерация 19. Финская и русская баня-бочка: в чем разница ... записан...\n",
      "Осталось итераций: 20\n",
      "# Итерация 20. Баня-бочка из кедра или ели, что лучше? ... записан...\n",
      "Осталось итераций: 21\n",
      "# Итерация 21. Виды кровли для бани ... записан...\n",
      "Осталось итераций: 22\n",
      "# Итерация 22. Какой должна быть влажность бруса при строительстве бани? ... записан...\n",
      "Осталось итераций: 23\n",
      "# Итерация 23. Печь для бани — какую выбрать? ... записан...\n",
      "Осталось итераций: 24\n",
      "# Итерация 24. Вагонка для отделки бани ... записан...\n",
      "Осталось итераций: 25\n",
      "# Итерация 25. Преимущества деревянной бани ... записан...\n",
      "Осталось итераций: 26\n",
      "# Итерация 26. Основные требования по эксплуатации бань ... записан...\n",
      "Осталось итераций: 27\n",
      "# Итерация 27. В чем разница между срощенной и обычной древесиной ... записан...\n",
      "Осталось итераций: 28\n",
      "# Итерация 28. Секреты создания легкого и приятного пара ... записан...\n",
      "Общее число итераций: 28\n"
     ]
    }
   ],
   "source": [
    "def get_barrels():\n",
    "# Словарь для заголовков запросов\n",
    "# 1. Адрес основного хоста\n",
    "    HOST = 'https://chelyabinsk.bani.ru.com' \n",
    "\n",
    "# 2. Адрес страницы для парсинга\n",
    "    URL = 'https://chelyabinsk.bani.ru.com/poleznye-statiy/'\n",
    "    \n",
    "# 3. Создаём словарь заголовков\n",
    "# Это нужно для некоторых сайтов (но не для всех - для этого необязательно)\n",
    "# чтобы показать сайту, что ВЫ НЕ БОТ, а обычный пользователь\n",
    "    HEADERS = {\n",
    "        'accept': 'text/html,application/xhtml+xml,application/xml;q=0.9,image/avif,image/webp,image/apng,*/*;q=0.8,application/signed-exchange;v=b3;q=0.9',\n",
    "        'user-agent': 'Mozilla/5.0 (Windows NT 10.0; Win64; x64) AppleWebKit/537.36 (KHTML, like Gecko) Chrome/109.0.0.0 Safari/537.36'\n",
    "    }\n",
    "\n",
    "# Для начала работы нужно открыть файл нашей страницы:\n",
    "#     with open(URL, encoding='utf-8') as file:\n",
    "#         src = file.read() # Сохраним содержимое файла в переменную\n",
    "#     print(src)\n",
    "# Теперь откроем наш файл, прочитаем и сохраним код страницы в переменную:\n",
    "    with open('../data/interim/html/index_clb.html', encoding='utf-8') as file:\n",
    "        src = file.read()\n",
    "    \n",
    "# Отправляем запрос на страницу, передаём в качестве GET-параметра URL-адрес\n",
    "#     r = requests.get(url=URL, headers=HEADERS)\n",
    "    \n",
    "# Создаём объект Супа с параметрами \n",
    "    soup = BeautifulSoup(src, 'lxml')\n",
    "    \n",
    "# Определяем DIV-ы с нужной инфой (заголовки статей)\n",
    "    articles = soup.find('div', class_='desc list').find_all('a')\n",
    "#     print(articles)\n",
    "\n",
    "# собираем заголовки для CSV-файла\n",
    "    with open('../data/processed/csv/barrels_articles_clb.csv', 'w', encoding='utf-8') as file:\n",
    "            writer = csv.writer(file)\n",
    "            writer.writerow(\n",
    "                (\n",
    "                    'title',\n",
    "                    'link'\n",
    "                )\n",
    "            )\n",
    "\n",
    "# Пройдём в цикле по коду блока - Достаём все заголовки статей со ссылками (используем цикл):\n",
    "    articles_list = []\n",
    "    count = 1\n",
    "    for item in articles:\n",
    "        title = item.text\n",
    "        link = item.get(\"href\")\n",
    "\n",
    "        articles_list.append(\n",
    "            {\n",
    "                \"Number\": count,\n",
    "                \"Topic\": title,\n",
    "                \"Link\": link\n",
    "            }\n",
    "        )\n",
    "        \n",
    "    \n",
    "# print(articles_list)\n",
    "        \n",
    "        \n",
    "        with open('../data/processed/csv/barrels_articles_clb.csv', 'a', encoding='utf-8') as file:\n",
    "            writer = csv.writer(file)\n",
    "            writer.writerow(\n",
    "                (\n",
    "                    title,\n",
    "                    link\n",
    "                )\n",
    "            )\n",
    "            \n",
    "        iteration_count = int(len(articles_list))        \n",
    "        print(f\"Осталось итераций: {iteration_count}\")\n",
    "        print(f\"# Итерация {count}. {title} ... записан...\")\n",
    "\n",
    "\n",
    "        if iteration_count == 0:\n",
    "            print(\"\\nРабота завершена\")\n",
    "            break\n",
    "\n",
    "\n",
    "        sleep(random.randrange(2, 4)) # Для симуляции работы реального пользователя, а не робота\n",
    "\n",
    "\n",
    "        count += 1\n",
    "\n",
    "    print(f'Общее число итераций: {iteration_count}')\n",
    "    iteration_count = iteration_count - 1\n",
    "    \n",
    "# Создаём третий файл в формате JSON, в который будем записывать данные в виде словаря\n",
    "# который весьма полезен и удобен для чтения (в дополнение к формату CSV)\n",
    "    with open('../data/processed/json/barrels_articles_clb.json', 'a', encoding='utf-8') as file:\n",
    "        json.dump(articles_list, file, indent=4, ensure_ascii=False)\n",
    "\n",
    "\n",
    "# MAIN SCRIPT\n",
    "def main():\n",
    "    get_barrels()\n",
    "\n",
    "\n",
    "if __name__ == '__main__':\n",
    "    main()"
   ]
  },
  {
   "cell_type": "code",
   "execution_count": null,
   "metadata": {},
   "outputs": [],
   "source": []
  },
  {
   "cell_type": "markdown",
   "metadata": {},
   "source": [
    "# № 3 - Парсим статьи про бани"
   ]
  },
  {
   "cell_type": "markdown",
   "metadata": {},
   "source": [
    "### Путь к папкам и файлам с данными - Path to folders and files with data\n",
    "\n",
    "#### ВРЕМЕННЫЕ данные: ../data/interim/(csv, html, json, xls)/file_name_svoy.*\n",
    "#### ФИНАЛЬНЫЕ данные: ../data/processed/(csv, html, json, xls)/file_name_svoy.*"
   ]
  },
  {
   "cell_type": "markdown",
   "metadata": {},
   "source": [
    "##### https://svoy-bany.ru/article/"
   ]
  },
  {
   "cell_type": "code",
   "execution_count": 3,
   "metadata": {},
   "outputs": [],
   "source": [
    "# Подключаем библиотеку для поиска элементов кода на сайте !!!!!!!!!!!!!\n",
    "# Библиотека PYTHON для извлечения данных из файлов HTML и XML\n",
    "from bs4 import BeautifulSoup\n",
    "\n",
    "# Подключаем библиотеку для парсинга сайтов !!!!!!!!!!!!!\n",
    "import requests\n",
    "import json\n",
    "import csv\n",
    "import random\n",
    "from time import sleep"
   ]
  },
  {
   "cell_type": "markdown",
   "metadata": {},
   "source": [
    "### Константы для проекта"
   ]
  },
  {
   "cell_type": "code",
   "execution_count": 35,
   "metadata": {},
   "outputs": [],
   "source": [
    "# Создаём переменные-КОНСТАНТЫ\n",
    "# 1. Адрес основного хоста\n",
    "HOST = 'https://svoy-bany.ru'\n",
    "# https://chelyabinsk.bani.ru.com/poleznye-statiy/pravila-ekspluatacii-bani-bochki-kak-prodlit-srok-sluzhby/\n",
    "\n",
    "# 2. Адрес страницы для парсинга\n",
    "URL = 'https://svoy-bany.ru/article/'\n",
    "\n",
    "# 3. Создаём словарь заголовков\n",
    "# Это нужно для некоторых сайтов (но не для всех - для этого необязательно)\n",
    "# чтобы показать сайту, что ВЫ НЕ БОТ, а обычный пользователь\n",
    "HEADERS = {\n",
    "    'accept': 'text/html,application/xhtml+xml,application/xml;q=0.9,image/avif,image/webp,image/apng,*/*;q=0.8,application/signed-exchange;v=b3;q=0.9',\n",
    "    'user-agent': 'Mozilla/5.0 (Windows NT 10.0; Win64; x64) AppleWebKit/537.36 (KHTML, like Gecko) Chrome/109.0.0.0 Safari/537.36'\n",
    "}"
   ]
  },
  {
   "cell_type": "code",
   "execution_count": 2,
   "metadata": {},
   "outputs": [],
   "source": [
    "# Отправляем запрос на страницу, передаём в качестве GET-параметра URL-адрес\n",
    "# Сохраним нашу страницу в файл И ЗАКОММЕНТИРУЕМ ЭТУ КОМАНДУ за ненадобностью\n",
    "\n",
    "# r = requests.get(url=URL, headers=HEADERS)\n",
    "# src = r.text\n",
    "# with open('../data/interim/html/index_svoy.html', 'w', encoding='utf-8') as file:\n",
    "#     file.write(src)\n",
    "\n",
    "# Теперь откроем наш файл, прочитаем и сохраним код страницы в переменную:\n",
    "with open('../data/interim/html/index_svoy.html', encoding='utf-8') as file:\n",
    "    src = file.read()\n",
    "# print(src)"
   ]
  },
  {
   "cell_type": "code",
   "execution_count": 1,
   "metadata": {},
   "outputs": [],
   "source": [
    "# print(src)"
   ]
  },
  {
   "cell_type": "code",
   "execution_count": 36,
   "metadata": {},
   "outputs": [
    {
     "name": "stdout",
     "output_type": "stream",
     "text": [
      "Topic: Технология строительства из минибруса\n",
      "Link: https://svoy-bany.ru/article/tekhnologiya-stroitelstva-iz-minibrusa/\n"
     ]
    }
   ],
   "source": [
    "# Создаём объект Супа с параметрами \n",
    "soup = BeautifulSoup(src, 'lxml')\n",
    "# Определяем DIV-ы с нужной инфой (заголовки статей)\n",
    "topic = soup.find('p', class_='news-item')\n",
    "# link = soup.find('p', class_='news-item').find('a')\n",
    "print(f\"Topic: {topic.text.strip()}\")\n",
    "print(f\"Link: {HOST}{topic.find('a').get('href')}\")\n",
    "\n",
    "# topic = soup.find('div', class_='news-list').find_all('p')\n",
    "# print(topic)"
   ]
  },
  {
   "cell_type": "code",
   "execution_count": 39,
   "metadata": {},
   "outputs": [
    {
     "name": "stdout",
     "output_type": "stream",
     "text": [
      "[{'https://svoy-bany.ru/article/tekhnologiya-stroitelstva-iz-minibrusa/', 1, 'Технология строительства из минибруса'}, {'A-frame House: треугольные дома-шалаши снова набирают популярность', 2, 'https://svoy-bany.ru/article/a-frame-house-treugolnye-doma-shalashi-snova-nabirayut-populyarnost/'}, {3, 'Баня из бруса или каркасная – что лучше выбрать?', 'https://svoy-bany.ru/article/banya-iz-brusa-ili-karkasnaya-chto-luchshe-vybrat/'}, {'Модульные бани: особенности строительства, преимущества конструкции', 'https://svoy-bany.ru/article/vse-o-modulnyh-banyah/', 4}, {'https://svoy-bany.ru/article/plusy-i-minusy-karkasnyh-domov/', 'Плюсы и минусы каркасных домов', 5}, {'Правила эксплуатации бань-бочек', 'https://svoy-bany.ru/article/pravila-ekspluatatsii-ban-bochek/', 6}, {'Напитки в бане: травяной чай', 'https://svoy-bany.ru/article/napitki-v-bane-travyanoy-chay/', 7}, {8, 'Как правильно париться в бане?', 'https://svoy-bany.ru/article/kak-pravilno-paritsya-v-bane/'}, {'https://svoy-bany.ru/article/kak-pravilno-zaparivat-bannyy-venik-iz-raznykh-porod/', 9, 'Как правильно запаривать банный веник из разных пород?'}]\n"
     ]
    }
   ],
   "source": [
    "# Создаём объект Супа с параметрами \n",
    "soup = BeautifulSoup(src, 'lxml')\n",
    "# Определяем DIV-ы с нужной инфой (заголовки статей)\n",
    "articles = soup.find_all('p', class_='news-item')\n",
    "\n",
    "articles_list = []\n",
    "articles_list_dict = {}\n",
    "count = 1\n",
    "for item in articles:\n",
    "    title = item.text.strip()\n",
    "    link = item.find('a').get('href')\n",
    "#     print(f\"{item_text}: {item_href}\")\n",
    "\n",
    "    articles_list_dict['Number'] = count\n",
    "    articles_list_dict['Topic'] = title\n",
    "    articles_list_dict['Link'] = HOST + link\n",
    "    \n",
    "    articles_list.append(\n",
    "            {\n",
    "                articles_list_dict['Number'],\n",
    "                articles_list_dict['Topic'],\n",
    "                articles_list_dict['Link']\n",
    "            }\n",
    "        )\n",
    "    count += 1\n",
    "    \n",
    "print(articles_list)"
   ]
  },
  {
   "cell_type": "code",
   "execution_count": 41,
   "metadata": {},
   "outputs": [],
   "source": [
    "# articles_list"
   ]
  },
  {
   "cell_type": "markdown",
   "metadata": {},
   "source": [
    "### Обработка JSON файла - Сохранение данных в JSON файл"
   ]
  },
  {
   "cell_type": "code",
   "execution_count": null,
   "metadata": {},
   "outputs": [],
   "source": []
  },
  {
   "cell_type": "code",
   "execution_count": null,
   "metadata": {},
   "outputs": [],
   "source": []
  },
  {
   "cell_type": "markdown",
   "metadata": {},
   "source": [
    "## Окончательный вариант оформляем в виде общей функции"
   ]
  },
  {
   "cell_type": "code",
   "execution_count": 56,
   "metadata": {},
   "outputs": [
    {
     "name": "stdout",
     "output_type": "stream",
     "text": [
      "Осталось итераций: 1\n",
      "# Итерация 1. Технология строительства из минибруса ... записан...\n",
      "Осталось итераций: 2\n",
      "# Итерация 2. A-frame House: треугольные дома-шалаши снова набирают популярность ... записан...\n",
      "Осталось итераций: 3\n",
      "# Итерация 3. Баня из бруса или каркасная – что лучше выбрать? ... записан...\n",
      "Осталось итераций: 4\n",
      "# Итерация 4. Модульные бани: особенности строительства, преимущества конструкции ... записан...\n",
      "Осталось итераций: 5\n",
      "# Итерация 5. Плюсы и минусы каркасных домов ... записан...\n",
      "Осталось итераций: 6\n",
      "# Итерация 6. Правила эксплуатации бань-бочек ... записан...\n",
      "Осталось итераций: 7\n",
      "# Итерация 7. Напитки в бане: травяной чай ... записан...\n",
      "Осталось итераций: 8\n",
      "# Итерация 8. Как правильно париться в бане? ... записан...\n",
      "Осталось итераций: 9\n",
      "# Итерация 9. Как правильно запаривать банный веник из разных пород? ... записан...\n",
      "Общее число итераций: 9\n"
     ]
    }
   ],
   "source": [
    "def get_svoy():\n",
    "# Создаём переменные-КОНСТАНТЫ\n",
    "# 1. Адрес основного хоста\n",
    "    HOST = 'https://svoy-bany.ru'\n",
    "    # https://chelyabinsk.bani.ru.com/poleznye-statiy/pravila-ekspluatacii-bani-bochki-kak-prodlit-srok-sluzhby/\n",
    "\n",
    "    # 2. Адрес страницы для парсинга\n",
    "    URL = 'https://svoy-bany.ru/article/'\n",
    "\n",
    "    # 3. Создаём словарь заголовков\n",
    "    # Это нужно для некоторых сайтов (но не для всех - для этого необязательно)\n",
    "    # чтобы показать сайту, что ВЫ НЕ БОТ, а обычный пользователь\n",
    "    HEADERS = {\n",
    "        'accept': 'text/html,application/xhtml+xml,application/xml;q=0.9,image/avif,image/webp,image/apng,*/*;q=0.8,application/signed-exchange;v=b3;q=0.9',\n",
    "        'user-agent': 'Mozilla/5.0 (Windows NT 10.0; Win64; x64) AppleWebKit/537.36 (KHTML, like Gecko) Chrome/109.0.0.0 Safari/537.36'\n",
    "    }\n",
    "\n",
    "# !!!!!!!!!! CODE BLOCK FOR TESTING - БЛОК КОДА ДЛЯ ТЕСТИРОВАНИЯ !!!!!!!!!!\n",
    "# Теперь откроем наш файл, прочитаем и сохраним код страницы в переменную:\n",
    "    with open('../data/interim/html/index_svoy.html', encoding='utf-8') as file:\n",
    "        src = file.read()\n",
    "# Создаём объект Супа с параметрами \n",
    "    soup = BeautifulSoup(src, 'lxml')        \n",
    "# !!!!!!!!!! THE END !!!!!!!!!!\n",
    "\n",
    "# $$$$$$$$$$ CODE BLOCK FOR WORKING WITH THE SITE - БЛОК КОДА ДЛЯ РАБОТЫ С САЙТОМ $$$$$$$$$$\n",
    "# Отправляем запрос на страницу, передаём в качестве GET-параметра URL-адрес\n",
    "#     r = requests.get(url=URL, headers=HEADERS)\n",
    "    \n",
    "# Создаём объект Супа с параметрами \n",
    "#     soup = BeautifulSoup(r.text, 'lxml')\n",
    "# $$$$$$$$$$ THE END $$$$$$$$$$\n",
    "\n",
    "\n",
    "# Определяем DIV-ы с нужной инфой (заголовки статей)\n",
    "    articles = soup.find_all('p', class_='news-item')\n",
    "#     print(articles)\n",
    "\n",
    "# собираем заголовки для CSV-файла\n",
    "    with open('../data/processed/csv/barrels_articles_svoy.csv', 'w', encoding='utf-8') as file:\n",
    "            writer = csv.writer(file)\n",
    "            writer.writerow(\n",
    "                (\n",
    "                    'title',\n",
    "                    'link'\n",
    "                )\n",
    "            )\n",
    "\n",
    "# Пройдём в цикле по коду блока - Достаём все заголовки статей со ссылками (используем цикл):\n",
    "    articles_list = []\n",
    "    count = 1\n",
    "    for item in articles:\n",
    "        title = item.text.strip()\n",
    "        link = HOST + item.find('a').get('href')\n",
    "\n",
    "        articles_list.append(\n",
    "            {\n",
    "                \"Number\": count,\n",
    "                \"Topic\": title,\n",
    "                \"Link\": link\n",
    "            }\n",
    "        )\n",
    "        \n",
    "    \n",
    "# print(articles_list)\n",
    "        \n",
    "\n",
    "        with open('../data/processed/csv/barrels_articles_svoy.csv', 'a', encoding='utf-8') as file:\n",
    "            writer = csv.writer(file)\n",
    "            writer.writerow(\n",
    "                (\n",
    "                    title,\n",
    "                    link\n",
    "                )\n",
    "            )\n",
    "            \n",
    "        iteration_count = int(len(articles_list))        \n",
    "        print(f\"Осталось итераций: {iteration_count}\")\n",
    "        print(f\"# Итерация {count}. {title} ... записан...\")\n",
    "\n",
    "\n",
    "        if iteration_count == 0:\n",
    "            print(\"\\nРабота завершена\")\n",
    "            break\n",
    "\n",
    "\n",
    "        sleep(random.randrange(2, 4)) # Для симуляции работы реального пользователя, а не робота\n",
    "\n",
    "\n",
    "        count += 1\n",
    "\n",
    "    print(f'Общее число итераций: {iteration_count}')\n",
    "    iteration_count = iteration_count - 1\n",
    "    \n",
    "# Создаём третий файл в формате JSON, в который будем записывать данные в виде словаря\n",
    "# который весьма полезен и удобен для чтения (в дополнение к формату CSV)\n",
    "    with open('../data/processed/json/barrels_articles_svoy.json', 'a', encoding='utf-8') as file:\n",
    "        json.dump(articles_list, file, indent=4, ensure_ascii=False)\n",
    "\n",
    "\n",
    "# MAIN SCRIPT\n",
    "def main():\n",
    "    get_svoy()\n",
    "\n",
    "\n",
    "if __name__ == '__main__':\n",
    "    main()"
   ]
  },
  {
   "cell_type": "code",
   "execution_count": null,
   "metadata": {},
   "outputs": [],
   "source": []
  }
 ],
 "metadata": {
  "kernelspec": {
   "display_name": "Python 3 (ipykernel)",
   "language": "python",
   "name": "python3"
  },
  "language_info": {
   "codemirror_mode": {
    "name": "ipython",
    "version": 3
   },
   "file_extension": ".py",
   "mimetype": "text/x-python",
   "name": "python",
   "nbconvert_exporter": "python",
   "pygments_lexer": "ipython3",
   "version": "3.10.4"
  }
 },
 "nbformat": 4,
 "nbformat_minor": 4
}
