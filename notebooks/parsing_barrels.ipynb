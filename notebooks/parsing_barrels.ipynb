{
 "cells": [
  {
   "cell_type": "markdown",
   "metadata": {},
   "source": [
    "# Parsing sites about barrel baths"
   ]
  },
  {
   "cell_type": "code",
   "execution_count": null,
   "metadata": {},
   "outputs": [],
   "source": [
    "# Чтобы узнать какие библиотеки используются в текущем проекте: Terminal --> \"pip freeze\"\n",
    "# Чтобы создать список библиотек проекта: Terminal --> \"pip freeze > requirements.txt\"\n",
    "# Чтобы установить одной командой все библиотеки необходимые для работы проекта на другую машину:\n",
    "# Terminal --> \"pip install -r requirements.txt\"\n",
    "\n",
    "# Установка библиотек в ВИРТУАЛЬНОЕ ОКРУЖЕНИЕ через терминал !!!!\n",
    "# pip install requests\n",
    "# pip install beautifulsoup4\n",
    "# pip install lxml\n",
    "# pip install img2pdf\n",
    "# pip install pandas\n",
    "# pip install pandas-compat\n",
    "# pip install gspread\n",
    "# pip install openpyxl Работа с файлами XLSX\n",
    "# pip install seaborn\n",
    "# pip install matplotlib\n",
    "# pip install selenium\n",
    "# pip install MechanicalSoup"
   ]
  },
  {
   "cell_type": "code",
   "execution_count": 3,
   "metadata": {},
   "outputs": [],
   "source": [
    "# import xlsxwriter"
   ]
  },
  {
   "cell_type": "code",
   "execution_count": null,
   "metadata": {},
   "outputs": [],
   "source": [
    "# Информация о библиотеке (через Jupyter Notebook):\n",
    "# Чтобы просмотреть подробную информацию о pandas и её зависимостях, примените следующую команду:\n",
    "# import pandas as pd\n",
    "# pd.show_versions()\n",
    "\n",
    "# Менеджеры пакетов, такие как pip, также позволяют узнать версию библиотеки (через Terminal):\n",
    "# pip show requests"
   ]
  },
  {
   "cell_type": "code",
   "execution_count": 1,
   "metadata": {},
   "outputs": [],
   "source": [
    "# Подключаем библиотеку для поиска элементов кода на сайте !!!!!!!!!!!!!\n",
    "# Библиотека PYTHON для извлечения данных из файлов HTML и XML\n",
    "from bs4 import BeautifulSoup\n",
    "\n",
    "# Подключаем библиотеки для парсинга сайтов !!!!!!!!!!!!!\n",
    "import requests\n",
    "import json\n",
    "import csv\n",
    "import random\n",
    "from time import sleep\n",
    "import openpyxl # Работа с файлами XLSX\n",
    "import lxml"
   ]
  },
  {
   "cell_type": "markdown",
   "metadata": {},
   "source": [
    "### Путь к папкам и файлам с данными - Path to folders and files with data\n",
    "\n",
    "#### ВНЕШНИЕ (скачанные) данные: ../data/external/(csv, html, json, xls)/file_name.*\n",
    "#### ВРЕМЕННЫЕ данные: ../data/interim/(csv, html, json, xls)/file_name.*\n",
    "#### ФИНАЛЬНЫЕ данные: ../data/processed/(csv, html, json, xls)/file_name.*"
   ]
  },
  {
   "cell_type": "code",
   "execution_count": null,
   "metadata": {},
   "outputs": [],
   "source": []
  },
  {
   "cell_type": "markdown",
   "metadata": {},
   "source": [
    "# № 1 - SPEKTR - Парсинг сайта https://novie-bani.ru/"
   ]
  },
  {
   "cell_type": "markdown",
   "metadata": {},
   "source": [
    "##### https://novie-bani.ru/"
   ]
  },
  {
   "cell_type": "code",
   "execution_count": null,
   "metadata": {},
   "outputs": [],
   "source": [
    "### Сайт свёрстан на Тильде - парсинг для меня пока недоступен"
   ]
  },
  {
   "cell_type": "markdown",
   "metadata": {},
   "source": [
    "### Константы для проекта"
   ]
  },
  {
   "cell_type": "code",
   "execution_count": 74,
   "metadata": {},
   "outputs": [],
   "source": [
    "# Создаём переменные-КОНСТАНТЫ\n",
    "# PAGE = 1\n",
    "HOST = 'https://novie-bani.ru/'\n",
    "URL = 'https://novie-bani.ru/tproduct/625052929-735502603081-banya-bochka-2-metra'\n",
    "HEADERS = {\n",
    "    'accept': 'text/html,application/xhtml+xml,application/xml;q=0.9,image/avif,image/webp,image/apng,*/*;q=0.8,application/signed-exchange;v=b3;q=0.9',\n",
    "    'user-agent': 'Mozilla/5.0 (Windows NT 10.0; Win64; x64) AppleWebKit/537.36 (KHTML, like Gecko) Chrome/109.0.0.0 Safari/537.36'\n",
    "}"
   ]
  },
  {
   "cell_type": "code",
   "execution_count": null,
   "metadata": {},
   "outputs": [],
   "source": [
    "# js-product t-store__card t-store__stretch-col t-store__stretch-col_33 t-align_left t-item\n",
    "# js-product t-store__card t-store__stretch-col t-store__stretch-col_33 t-align_left t-item\n",
    "\n",
    "# js-store-prod-name js-product-name t-store__card__title t-typography__title t-name t-name_md\n",
    "# js-store-prod-name js-product-name t-store__card__title t-typography__title t-name t-name_md\n",
    "\n",
    "# t-store__card__textwrapper"
   ]
  },
  {
   "cell_type": "code",
   "execution_count": 9,
   "metadata": {},
   "outputs": [],
   "source": [
    "# Отправляем запрос на страницу, передаём в качестве GET-параметра URL-адрес\n",
    "# Сохраним нашу страницу в файл И ЗАКОММЕНТИРУЕМ ЭТУ КОМАНДУ за ненадобностью\n",
    "\n",
    "res = requests.get(url=URL, headers=HEADERS)\n",
    "src = res.text\n",
    "with open('../data/interim/html/index_novieBani.html.html', 'w', encoding='utf-8') as file:\n",
    "    file.write(src)"
   ]
  },
  {
   "cell_type": "code",
   "execution_count": 10,
   "metadata": {},
   "outputs": [],
   "source": [
    "# Теперь откроем наш файл, прочитаем и сохраним код страницы в переменную:\n",
    "with open('../data/interim/html/index_novieBani.html', encoding='utf-8') as file:\n",
    "    src = file.read()\n",
    "# print(src)"
   ]
  },
  {
   "cell_type": "code",
   "execution_count": 28,
   "metadata": {},
   "outputs": [],
   "source": [
    "# Создаём объект Супа с параметрами \n",
    "soup = BeautifulSoup(src, 'lxml')"
   ]
  },
  {
   "cell_type": "markdown",
   "metadata": {},
   "source": [
    "### Находим информацию по одной карточке товара"
   ]
  },
  {
   "cell_type": "code",
   "execution_count": 75,
   "metadata": {},
   "outputs": [],
   "source": [
    "res1 = requests.get(url=URL, headers=HEADERS)\n",
    "soup1 = BeautifulSoup(res1.text, 'lxml')"
   ]
  },
  {
   "cell_type": "code",
   "execution_count": 91,
   "metadata": {},
   "outputs": [],
   "source": [
    "# \n",
    "# Определяем общий блок со всей информацией\n",
    "h1 = soup1.find('h1')"
   ]
  },
  {
   "cell_type": "code",
   "execution_count": 92,
   "metadata": {},
   "outputs": [
    {
     "name": "stdout",
     "output_type": "stream",
     "text": [
      "<h1 class=\"js-store-prod-name js-product-name t-store__prod-popup__name t-name t-name_xl\" itemprop=\"name\" style=\"color:#4a4947;font-size:18px;line-height:1.3;font-weight:400;font-family:TildaSans;\">Баня бочка 2 метра</h1>\n"
     ]
    }
   ],
   "source": [
    "# js-store-prod-name js-product-name t-store__prod-popup__name t-name t-name_xl\n",
    "print(h1)"
   ]
  },
  {
   "cell_type": "code",
   "execution_count": 95,
   "metadata": {},
   "outputs": [],
   "source": [
    "link = soup.find_all('a')"
   ]
  },
  {
   "cell_type": "code",
   "execution_count": 97,
   "metadata": {},
   "outputs": [],
   "source": [
    "# \n",
    "# print(link)"
   ]
  },
  {
   "cell_type": "code",
   "execution_count": 2,
   "metadata": {},
   "outputs": [],
   "source": [
    "# t-store js-store t-store__prod-snippet__container\n",
    "# block1 = soup1.find('div', class_='t-store__prod-snippet__container')\n",
    "# print(block1)"
   ]
  },
  {
   "cell_type": "code",
   "execution_count": 107,
   "metadata": {},
   "outputs": [
    {
     "name": "stdout",
     "output_type": "stream",
     "text": [
      "<div class=\"js-store-grid-cont t-store__grid-cont t-store__grid-cont_col-width_stretch t-container t-store__grid-cont_mobile-grid\" data-col-gap=\"10\"></div>\n"
     ]
    }
   ],
   "source": [
    "# t-store js-store t-store__prod-snippet__container js-product\n",
    "block = soup.find('div', class_='js-store-grid-cont t-store__grid-cont t-store__grid-cont_col-width_stretch t-container t-store__grid-cont_mobile-grid')\n",
    "print(block)"
   ]
  },
  {
   "cell_type": "code",
   "execution_count": null,
   "metadata": {},
   "outputs": [],
   "source": [
    "# \n"
   ]
  },
  {
   "cell_type": "code",
   "execution_count": null,
   "metadata": {},
   "outputs": [],
   "source": []
  },
  {
   "cell_type": "markdown",
   "metadata": {},
   "source": [
    "# № 2 - Парсим полезные статьи и что нужно знать о банях-бочках."
   ]
  },
  {
   "cell_type": "markdown",
   "metadata": {},
   "source": [
    "##### https://chelyabinsk.bani.ru.com"
   ]
  },
  {
   "cell_type": "markdown",
   "metadata": {},
   "source": [
    "### Константы для проекта"
   ]
  },
  {
   "cell_type": "code",
   "execution_count": 5,
   "metadata": {},
   "outputs": [],
   "source": [
    "# Создаём переменные-КОНСТАНТЫ\n",
    "# 1. Адрес основного хоста\n",
    "HOST = 'https://chelyabinsk.bani.ru.com'\n",
    "# https://chelyabinsk.bani.ru.com/poleznye-statiy/pravila-ekspluatacii-bani-bochki-kak-prodlit-srok-sluzhby/\n",
    "\n",
    "# 2. Адрес страницы для парсинга\n",
    "URL = 'https://chelyabinsk.bani.ru.com/poleznye-statiy/'\n",
    "\n",
    "# 3. Создаём словарь заголовков\n",
    "# Это нужно для некоторых сайтов (но не для всех - для этого необязательно)\n",
    "# чтобы показать сайту, что ВЫ НЕ БОТ, а обычный пользователь\n",
    "HEADERS = {\n",
    "    'accept': 'text/html,application/xhtml+xml,application/xml;q=0.9,image/avif,image/webp,image/apng,*/*;q=0.8,application/signed-exchange;v=b3;q=0.9',\n",
    "    'user-agent': 'Mozilla/5.0 (Windows NT 10.0; Win64; x64) AppleWebKit/537.36 (KHTML, like Gecko) Chrome/109.0.0.0 Safari/537.36'\n",
    "}"
   ]
  },
  {
   "cell_type": "code",
   "execution_count": 12,
   "metadata": {},
   "outputs": [],
   "source": [
    "# Отправляем запрос на страницу, передаём в качестве GET-параметра URL-адрес\n",
    "# Сохраним нашу страницу в файл И ЗАКОММЕНТИРУЕМ ЭТУ КОМАНДУ за ненадобностью\n",
    "\n",
    "# r = requests.get(url=URL, headers=HEADERS)\n",
    "# src = r.text\n",
    "# with open(\"index_clb.html\", \"w\", encoding=\"utf-8\") as file:\n",
    "# with open('../data/interim/html/index_clb.html', 'w', encoding='utf-8') as file:\n",
    "#     file.write(src)\n",
    "\n",
    "# Теперь откроем наш файл, прочитаем и сохраним код страницы в переменную:\n",
    "with open('../data/interim/html/index_clb.html', encoding='utf-8') as file:\n",
    "    src = file.read()\n",
    "# print(src)\n",
    "\n",
    "# f'data/{count}_{category_name}.csv'"
   ]
  },
  {
   "cell_type": "code",
   "execution_count": 14,
   "metadata": {},
   "outputs": [
    {
     "name": "stdout",
     "output_type": "stream",
     "text": [
      "[<a href=\"https://chelyabinsk.bani.ru.com/poleznye-statiy/kak-sdelat-fundament-dlya-bani-bochki/\">Как сделать фундамент для бани-бочки?</a>, <a href=\"https://chelyabinsk.bani.ru.com/poleznye-statiy/pech-v-bane-bochke-varianty-raspolozheniya/\">Печь в бане-бочке: печь с топкой через перегородку или на улицу — плюсы и минусы</a>, <a href=\"https://chelyabinsk.bani.ru.com/poleznye-statiy/pravila-ekspluatacii-bani-bochki-kak-prodlit-srok-sluzhby/\">Правила эксплуатации бань-бочек</a>, <a href=\"https://chelyabinsk.bani.ru.com/poleznye-statiy/chto-nuzhno-znat-pri-pokupke-bani-bochki/\">Что нужно знать при покупке?</a>, <a href=\"https://chelyabinsk.bani.ru.com/poleznye-statiy/ekspluataciya-bani-bochki-zimoj/\">Эксплуатация бани-бочки зимой</a>, <a href=\"https://chelyabinsk.bani.ru.com/poleznye-statiy/pochemu-pokupateli-vybirajut-bani-bochki/\">Почему покупатели выбирают Бани-бочки?</a>, <a href=\"https://chelyabinsk.bani.ru.com/poleznye-statiy/planirovki-i-vnutrennee-ustrojstvo-ban-bochek/\">Планировки и внутреннее устройство бань-бочек</a>, <a href=\"https://chelyabinsk.bani.ru.com/poleznye-statiy/vybor-materiala-pri-proizvodstve-i-otdelke-bani-bochki/\">Выбор материала при производстве и отделке бани-бочки</a>, <a href=\"https://chelyabinsk.bani.ru.com/poleznye-statiy/pochemu-pokupateli-vybirajut-bani-lukomore/\">ТОП-15 причин, почему нужно выбирать бани Лукоморье</a>, <a href=\"https://chelyabinsk.bani.ru.com/poleznye-statiy/populyarnye-dopolneniya-k-bane/\">Популярные дополнения к бане</a>, <a href=\"https://chelyabinsk.bani.ru.com/poleznye-statiy/kak-topit-banju-bochku/\">Как топить баню-бочку?</a>, <a href=\"https://chelyabinsk.bani.ru.com/poleznye-statiy/kak-ustroena-banya-bochka/\">Как устроена баня-бочка?</a>, <a href=\"https://chelyabinsk.bani.ru.com/poleznye-statiy/kak-sdelat-banju-bochku-svoimi-rukami/\">Как сделать баню-бочку своими руками?</a>, <a href=\"https://chelyabinsk.bani.ru.com/poleznye-statiy/banya-bochka-po-finskoj-tehnologii/\">Баня-бочка по финской технологии</a>, <a href=\"https://chelyabinsk.bani.ru.com/poleznye-statiy/vidy-venikov-dlya-bani-i-kak-pravilno-ih-zaparivat/\">Виды веников для бани и как правильно их запаривать?</a>, <a href=\"https://chelyabinsk.bani.ru.com/poleznye-statiy/polezna-li-banya-dlya-zdorovya/\">Полезна ли баня для здоровья?</a>, <a href=\"https://chelyabinsk.bani.ru.com/poleznye-statiy/vneshnij-vid-bani-obrabotka-i-otdelka/\">Внешний вид бани: обработка и отделка</a>, <a href=\"https://chelyabinsk.bani.ru.com/poleznye-statiy/sborka-bani-bochki-na-uchastke/\">Сборка бани бочки на участке</a>, <a href=\"https://chelyabinsk.bani.ru.com/poleznye-statiy/finskaya-i-russkaya-banya-v-chem-raznica/\">Финская и русская баня-бочка: в чем разница</a>, <a href=\"https://chelyabinsk.bani.ru.com/poleznye-statiy/banya-bochka-iz-kedra-ili-eli/\">Баня-бочка из кедра или ели, что лучше?</a>, <a href=\"https://chelyabinsk.bani.ru.com/poleznye-statiy/vidy-krovli-dlya-bani/\">Виды кровли для бани</a>, <a href=\"https://chelyabinsk.bani.ru.com/poleznye-statiy/kakoj-dolzhna-byt-vlazhnost-brusa-pri-stroitelstve-bani/\">Какой должна быть влажность бруса при строительстве бани?</a>, <a href=\"https://chelyabinsk.bani.ru.com/poleznye-statiy/pech-dlya-bani/\">Печь для бани — какую выбрать?</a>, <a href=\"https://chelyabinsk.bani.ru.com/poleznye-statiy/vagonka-dlya-otdelki-bani/\">Вагонка для отделки бани</a>, <a href=\"https://chelyabinsk.bani.ru.com/poleznye-statiy/derevyannye-bani/\">Преимущества деревянной бани</a>, <a href=\"https://chelyabinsk.bani.ru.com/poleznye-statiy/osnovnye-trebovaniya-po-ekspluatacii-ban/\">Основные требования по эксплуатации бань</a>, <a href=\"https://chelyabinsk.bani.ru.com/poleznye-statiy/v-chem-raznica-mezhdu-sroshhennoj-i-obychnoj-drevesinoj/\">В чем разница между срощенной и обычной древесиной</a>, <a href=\"https://chelyabinsk.bani.ru.com/kak-sozdat-legkij-i-priyatnyj-par-v-bane-bochke/\">Секреты создания легкого и приятного пара</a>]\n"
     ]
    }
   ],
   "source": [
    "# Отправляем запрос на страницу, передаём в качестве GET-параметра URL-адрес\n",
    "# r = requests.get(src)\n",
    "    \n",
    "# Создаём объект Супа с параметрами \n",
    "soup = BeautifulSoup(src, 'lxml')\n",
    "\n",
    "# Определяем DIV-ы с нужной инфой (заголовки статей)\n",
    "articles = soup.find('div', class_='desc list').find_all(\"a\")\n",
    "print(articles)"
   ]
  },
  {
   "cell_type": "code",
   "execution_count": null,
   "metadata": {},
   "outputs": [],
   "source": []
  },
  {
   "cell_type": "code",
   "execution_count": null,
   "metadata": {},
   "outputs": [],
   "source": []
  },
  {
   "cell_type": "markdown",
   "metadata": {},
   "source": [
    "### Обработка JSON файла - Сохранение данных в JSON файл"
   ]
  },
  {
   "cell_type": "code",
   "execution_count": 7,
   "metadata": {},
   "outputs": [
    {
     "ename": "SSLError",
     "evalue": "HTTPSConnectionPool(host='chelyabinsk.bani.ru.com', port=443): Max retries exceeded with url: /poleznye-statiy/ (Caused by SSLError(SSLEOFError(8, '[SSL: UNEXPECTED_EOF_WHILE_READING] EOF occurred in violation of protocol (_ssl.c:1000)')))",
     "output_type": "error",
     "traceback": [
      "\u001b[1;31m---------------------------------------------------------------------------\u001b[0m",
      "\u001b[1;31mSSLEOFError\u001b[0m                               Traceback (most recent call last)",
      "File \u001b[1;32mC:\\ProgramData\\anaconda3\\Lib\\site-packages\\urllib3\\connectionpool.py:466\u001b[0m, in \u001b[0;36mHTTPConnectionPool._make_request\u001b[1;34m(self, conn, method, url, body, headers, retries, timeout, chunked, response_conn, preload_content, decode_content, enforce_content_length)\u001b[0m\n\u001b[0;32m    465\u001b[0m \u001b[38;5;28;01mtry\u001b[39;00m:\n\u001b[1;32m--> 466\u001b[0m     \u001b[38;5;28mself\u001b[39m\u001b[38;5;241m.\u001b[39m_validate_conn(conn)\n\u001b[0;32m    467\u001b[0m \u001b[38;5;28;01mexcept\u001b[39;00m (SocketTimeout, BaseSSLError) \u001b[38;5;28;01mas\u001b[39;00m e:\n",
      "File \u001b[1;32mC:\\ProgramData\\anaconda3\\Lib\\site-packages\\urllib3\\connectionpool.py:1095\u001b[0m, in \u001b[0;36mHTTPSConnectionPool._validate_conn\u001b[1;34m(self, conn)\u001b[0m\n\u001b[0;32m   1094\u001b[0m \u001b[38;5;28;01mif\u001b[39;00m conn\u001b[38;5;241m.\u001b[39mis_closed:\n\u001b[1;32m-> 1095\u001b[0m     conn\u001b[38;5;241m.\u001b[39mconnect()\n\u001b[0;32m   1097\u001b[0m \u001b[38;5;66;03m# TODO revise this, see https://github.com/urllib3/urllib3/issues/2791\u001b[39;00m\n",
      "File \u001b[1;32mC:\\ProgramData\\anaconda3\\Lib\\site-packages\\urllib3\\connection.py:730\u001b[0m, in \u001b[0;36mHTTPSConnection.connect\u001b[1;34m(self)\u001b[0m\n\u001b[0;32m    728\u001b[0m server_hostname_rm_dot \u001b[38;5;241m=\u001b[39m server_hostname\u001b[38;5;241m.\u001b[39mrstrip(\u001b[38;5;124m\"\u001b[39m\u001b[38;5;124m.\u001b[39m\u001b[38;5;124m\"\u001b[39m)\n\u001b[1;32m--> 730\u001b[0m sock_and_verified \u001b[38;5;241m=\u001b[39m _ssl_wrap_socket_and_match_hostname(\n\u001b[0;32m    731\u001b[0m     sock\u001b[38;5;241m=\u001b[39msock,\n\u001b[0;32m    732\u001b[0m     cert_reqs\u001b[38;5;241m=\u001b[39m\u001b[38;5;28mself\u001b[39m\u001b[38;5;241m.\u001b[39mcert_reqs,\n\u001b[0;32m    733\u001b[0m     ssl_version\u001b[38;5;241m=\u001b[39m\u001b[38;5;28mself\u001b[39m\u001b[38;5;241m.\u001b[39mssl_version,\n\u001b[0;32m    734\u001b[0m     ssl_minimum_version\u001b[38;5;241m=\u001b[39m\u001b[38;5;28mself\u001b[39m\u001b[38;5;241m.\u001b[39mssl_minimum_version,\n\u001b[0;32m    735\u001b[0m     ssl_maximum_version\u001b[38;5;241m=\u001b[39m\u001b[38;5;28mself\u001b[39m\u001b[38;5;241m.\u001b[39mssl_maximum_version,\n\u001b[0;32m    736\u001b[0m     ca_certs\u001b[38;5;241m=\u001b[39m\u001b[38;5;28mself\u001b[39m\u001b[38;5;241m.\u001b[39mca_certs,\n\u001b[0;32m    737\u001b[0m     ca_cert_dir\u001b[38;5;241m=\u001b[39m\u001b[38;5;28mself\u001b[39m\u001b[38;5;241m.\u001b[39mca_cert_dir,\n\u001b[0;32m    738\u001b[0m     ca_cert_data\u001b[38;5;241m=\u001b[39m\u001b[38;5;28mself\u001b[39m\u001b[38;5;241m.\u001b[39mca_cert_data,\n\u001b[0;32m    739\u001b[0m     cert_file\u001b[38;5;241m=\u001b[39m\u001b[38;5;28mself\u001b[39m\u001b[38;5;241m.\u001b[39mcert_file,\n\u001b[0;32m    740\u001b[0m     key_file\u001b[38;5;241m=\u001b[39m\u001b[38;5;28mself\u001b[39m\u001b[38;5;241m.\u001b[39mkey_file,\n\u001b[0;32m    741\u001b[0m     key_password\u001b[38;5;241m=\u001b[39m\u001b[38;5;28mself\u001b[39m\u001b[38;5;241m.\u001b[39mkey_password,\n\u001b[0;32m    742\u001b[0m     server_hostname\u001b[38;5;241m=\u001b[39mserver_hostname_rm_dot,\n\u001b[0;32m    743\u001b[0m     ssl_context\u001b[38;5;241m=\u001b[39m\u001b[38;5;28mself\u001b[39m\u001b[38;5;241m.\u001b[39mssl_context,\n\u001b[0;32m    744\u001b[0m     tls_in_tls\u001b[38;5;241m=\u001b[39mtls_in_tls,\n\u001b[0;32m    745\u001b[0m     assert_hostname\u001b[38;5;241m=\u001b[39m\u001b[38;5;28mself\u001b[39m\u001b[38;5;241m.\u001b[39massert_hostname,\n\u001b[0;32m    746\u001b[0m     assert_fingerprint\u001b[38;5;241m=\u001b[39m\u001b[38;5;28mself\u001b[39m\u001b[38;5;241m.\u001b[39massert_fingerprint,\n\u001b[0;32m    747\u001b[0m )\n\u001b[0;32m    748\u001b[0m \u001b[38;5;28mself\u001b[39m\u001b[38;5;241m.\u001b[39msock \u001b[38;5;241m=\u001b[39m sock_and_verified\u001b[38;5;241m.\u001b[39msocket\n",
      "File \u001b[1;32mC:\\ProgramData\\anaconda3\\Lib\\site-packages\\urllib3\\connection.py:909\u001b[0m, in \u001b[0;36m_ssl_wrap_socket_and_match_hostname\u001b[1;34m(sock, cert_reqs, ssl_version, ssl_minimum_version, ssl_maximum_version, cert_file, key_file, key_password, ca_certs, ca_cert_dir, ca_cert_data, assert_hostname, assert_fingerprint, server_hostname, ssl_context, tls_in_tls)\u001b[0m\n\u001b[0;32m    907\u001b[0m         server_hostname \u001b[38;5;241m=\u001b[39m normalized\n\u001b[1;32m--> 909\u001b[0m ssl_sock \u001b[38;5;241m=\u001b[39m ssl_wrap_socket(\n\u001b[0;32m    910\u001b[0m     sock\u001b[38;5;241m=\u001b[39msock,\n\u001b[0;32m    911\u001b[0m     keyfile\u001b[38;5;241m=\u001b[39mkey_file,\n\u001b[0;32m    912\u001b[0m     certfile\u001b[38;5;241m=\u001b[39mcert_file,\n\u001b[0;32m    913\u001b[0m     key_password\u001b[38;5;241m=\u001b[39mkey_password,\n\u001b[0;32m    914\u001b[0m     ca_certs\u001b[38;5;241m=\u001b[39mca_certs,\n\u001b[0;32m    915\u001b[0m     ca_cert_dir\u001b[38;5;241m=\u001b[39mca_cert_dir,\n\u001b[0;32m    916\u001b[0m     ca_cert_data\u001b[38;5;241m=\u001b[39mca_cert_data,\n\u001b[0;32m    917\u001b[0m     server_hostname\u001b[38;5;241m=\u001b[39mserver_hostname,\n\u001b[0;32m    918\u001b[0m     ssl_context\u001b[38;5;241m=\u001b[39mcontext,\n\u001b[0;32m    919\u001b[0m     tls_in_tls\u001b[38;5;241m=\u001b[39mtls_in_tls,\n\u001b[0;32m    920\u001b[0m )\n\u001b[0;32m    922\u001b[0m \u001b[38;5;28;01mtry\u001b[39;00m:\n",
      "File \u001b[1;32mC:\\ProgramData\\anaconda3\\Lib\\site-packages\\urllib3\\util\\ssl_.py:469\u001b[0m, in \u001b[0;36mssl_wrap_socket\u001b[1;34m(sock, keyfile, certfile, cert_reqs, ca_certs, server_hostname, ssl_version, ciphers, ssl_context, ca_cert_dir, key_password, ca_cert_data, tls_in_tls)\u001b[0m\n\u001b[0;32m    467\u001b[0m context\u001b[38;5;241m.\u001b[39mset_alpn_protocols(ALPN_PROTOCOLS)\n\u001b[1;32m--> 469\u001b[0m ssl_sock \u001b[38;5;241m=\u001b[39m _ssl_wrap_socket_impl(sock, context, tls_in_tls, server_hostname)\n\u001b[0;32m    470\u001b[0m \u001b[38;5;28;01mreturn\u001b[39;00m ssl_sock\n",
      "File \u001b[1;32mC:\\ProgramData\\anaconda3\\Lib\\site-packages\\urllib3\\util\\ssl_.py:513\u001b[0m, in \u001b[0;36m_ssl_wrap_socket_impl\u001b[1;34m(sock, ssl_context, tls_in_tls, server_hostname)\u001b[0m\n\u001b[0;32m    511\u001b[0m     \u001b[38;5;28;01mreturn\u001b[39;00m SSLTransport(sock, ssl_context, server_hostname)\n\u001b[1;32m--> 513\u001b[0m \u001b[38;5;28;01mreturn\u001b[39;00m ssl_context\u001b[38;5;241m.\u001b[39mwrap_socket(sock, server_hostname\u001b[38;5;241m=\u001b[39mserver_hostname)\n",
      "File \u001b[1;32mC:\\ProgramData\\anaconda3\\Lib\\ssl.py:455\u001b[0m, in \u001b[0;36mSSLContext.wrap_socket\u001b[1;34m(self, sock, server_side, do_handshake_on_connect, suppress_ragged_eofs, server_hostname, session)\u001b[0m\n\u001b[0;32m    449\u001b[0m \u001b[38;5;28;01mdef\u001b[39;00m \u001b[38;5;21mwrap_socket\u001b[39m(\u001b[38;5;28mself\u001b[39m, sock, server_side\u001b[38;5;241m=\u001b[39m\u001b[38;5;28;01mFalse\u001b[39;00m,\n\u001b[0;32m    450\u001b[0m                 do_handshake_on_connect\u001b[38;5;241m=\u001b[39m\u001b[38;5;28;01mTrue\u001b[39;00m,\n\u001b[0;32m    451\u001b[0m                 suppress_ragged_eofs\u001b[38;5;241m=\u001b[39m\u001b[38;5;28;01mTrue\u001b[39;00m,\n\u001b[0;32m    452\u001b[0m                 server_hostname\u001b[38;5;241m=\u001b[39m\u001b[38;5;28;01mNone\u001b[39;00m, session\u001b[38;5;241m=\u001b[39m\u001b[38;5;28;01mNone\u001b[39;00m):\n\u001b[0;32m    453\u001b[0m     \u001b[38;5;66;03m# SSLSocket class handles server_hostname encoding before it calls\u001b[39;00m\n\u001b[0;32m    454\u001b[0m     \u001b[38;5;66;03m# ctx._wrap_socket()\u001b[39;00m\n\u001b[1;32m--> 455\u001b[0m     \u001b[38;5;28;01mreturn\u001b[39;00m \u001b[38;5;28mself\u001b[39m\u001b[38;5;241m.\u001b[39msslsocket_class\u001b[38;5;241m.\u001b[39m_create(\n\u001b[0;32m    456\u001b[0m         sock\u001b[38;5;241m=\u001b[39msock,\n\u001b[0;32m    457\u001b[0m         server_side\u001b[38;5;241m=\u001b[39mserver_side,\n\u001b[0;32m    458\u001b[0m         do_handshake_on_connect\u001b[38;5;241m=\u001b[39mdo_handshake_on_connect,\n\u001b[0;32m    459\u001b[0m         suppress_ragged_eofs\u001b[38;5;241m=\u001b[39msuppress_ragged_eofs,\n\u001b[0;32m    460\u001b[0m         server_hostname\u001b[38;5;241m=\u001b[39mserver_hostname,\n\u001b[0;32m    461\u001b[0m         context\u001b[38;5;241m=\u001b[39m\u001b[38;5;28mself\u001b[39m,\n\u001b[0;32m    462\u001b[0m         session\u001b[38;5;241m=\u001b[39msession\n\u001b[0;32m    463\u001b[0m     )\n",
      "File \u001b[1;32mC:\\ProgramData\\anaconda3\\Lib\\ssl.py:1041\u001b[0m, in \u001b[0;36mSSLSocket._create\u001b[1;34m(cls, sock, server_side, do_handshake_on_connect, suppress_ragged_eofs, server_hostname, context, session)\u001b[0m\n\u001b[0;32m   1040\u001b[0m                 \u001b[38;5;28;01mraise\u001b[39;00m \u001b[38;5;167;01mValueError\u001b[39;00m(\u001b[38;5;124m\"\u001b[39m\u001b[38;5;124mdo_handshake_on_connect should not be specified for non-blocking sockets\u001b[39m\u001b[38;5;124m\"\u001b[39m)\n\u001b[1;32m-> 1041\u001b[0m             \u001b[38;5;28mself\u001b[39m\u001b[38;5;241m.\u001b[39mdo_handshake()\n\u001b[0;32m   1042\u001b[0m \u001b[38;5;28;01mexcept\u001b[39;00m:\n",
      "File \u001b[1;32mC:\\ProgramData\\anaconda3\\Lib\\ssl.py:1319\u001b[0m, in \u001b[0;36mSSLSocket.do_handshake\u001b[1;34m(self, block)\u001b[0m\n\u001b[0;32m   1318\u001b[0m         \u001b[38;5;28mself\u001b[39m\u001b[38;5;241m.\u001b[39msettimeout(\u001b[38;5;28;01mNone\u001b[39;00m)\n\u001b[1;32m-> 1319\u001b[0m     \u001b[38;5;28mself\u001b[39m\u001b[38;5;241m.\u001b[39m_sslobj\u001b[38;5;241m.\u001b[39mdo_handshake()\n\u001b[0;32m   1320\u001b[0m \u001b[38;5;28;01mfinally\u001b[39;00m:\n",
      "\u001b[1;31mSSLEOFError\u001b[0m: [SSL: UNEXPECTED_EOF_WHILE_READING] EOF occurred in violation of protocol (_ssl.c:1000)",
      "\nDuring handling of the above exception, another exception occurred:\n",
      "\u001b[1;31mSSLError\u001b[0m                                  Traceback (most recent call last)",
      "File \u001b[1;32mC:\\ProgramData\\anaconda3\\Lib\\site-packages\\urllib3\\connectionpool.py:789\u001b[0m, in \u001b[0;36mHTTPConnectionPool.urlopen\u001b[1;34m(self, method, url, body, headers, retries, redirect, assert_same_host, timeout, pool_timeout, release_conn, chunked, body_pos, preload_content, decode_content, **response_kw)\u001b[0m\n\u001b[0;32m    788\u001b[0m \u001b[38;5;66;03m# Make the request on the HTTPConnection object\u001b[39;00m\n\u001b[1;32m--> 789\u001b[0m response \u001b[38;5;241m=\u001b[39m \u001b[38;5;28mself\u001b[39m\u001b[38;5;241m.\u001b[39m_make_request(\n\u001b[0;32m    790\u001b[0m     conn,\n\u001b[0;32m    791\u001b[0m     method,\n\u001b[0;32m    792\u001b[0m     url,\n\u001b[0;32m    793\u001b[0m     timeout\u001b[38;5;241m=\u001b[39mtimeout_obj,\n\u001b[0;32m    794\u001b[0m     body\u001b[38;5;241m=\u001b[39mbody,\n\u001b[0;32m    795\u001b[0m     headers\u001b[38;5;241m=\u001b[39mheaders,\n\u001b[0;32m    796\u001b[0m     chunked\u001b[38;5;241m=\u001b[39mchunked,\n\u001b[0;32m    797\u001b[0m     retries\u001b[38;5;241m=\u001b[39mretries,\n\u001b[0;32m    798\u001b[0m     response_conn\u001b[38;5;241m=\u001b[39mresponse_conn,\n\u001b[0;32m    799\u001b[0m     preload_content\u001b[38;5;241m=\u001b[39mpreload_content,\n\u001b[0;32m    800\u001b[0m     decode_content\u001b[38;5;241m=\u001b[39mdecode_content,\n\u001b[0;32m    801\u001b[0m     \u001b[38;5;241m*\u001b[39m\u001b[38;5;241m*\u001b[39mresponse_kw,\n\u001b[0;32m    802\u001b[0m )\n\u001b[0;32m    804\u001b[0m \u001b[38;5;66;03m# Everything went great!\u001b[39;00m\n",
      "File \u001b[1;32mC:\\ProgramData\\anaconda3\\Lib\\site-packages\\urllib3\\connectionpool.py:490\u001b[0m, in \u001b[0;36mHTTPConnectionPool._make_request\u001b[1;34m(self, conn, method, url, body, headers, retries, timeout, chunked, response_conn, preload_content, decode_content, enforce_content_length)\u001b[0m\n\u001b[0;32m    489\u001b[0m         new_e \u001b[38;5;241m=\u001b[39m _wrap_proxy_error(new_e, conn\u001b[38;5;241m.\u001b[39mproxy\u001b[38;5;241m.\u001b[39mscheme)\n\u001b[1;32m--> 490\u001b[0m     \u001b[38;5;28;01mraise\u001b[39;00m new_e\n\u001b[0;32m    492\u001b[0m \u001b[38;5;66;03m# conn.request() calls http.client.*.request, not the method in\u001b[39;00m\n\u001b[0;32m    493\u001b[0m \u001b[38;5;66;03m# urllib3.request. It also calls makefile (recv) on the socket.\u001b[39;00m\n",
      "\u001b[1;31mSSLError\u001b[0m: [SSL: UNEXPECTED_EOF_WHILE_READING] EOF occurred in violation of protocol (_ssl.c:1000)",
      "\nThe above exception was the direct cause of the following exception:\n",
      "\u001b[1;31mMaxRetryError\u001b[0m                             Traceback (most recent call last)",
      "File \u001b[1;32mC:\\ProgramData\\anaconda3\\Lib\\site-packages\\requests\\adapters.py:667\u001b[0m, in \u001b[0;36mHTTPAdapter.send\u001b[1;34m(self, request, stream, timeout, verify, cert, proxies)\u001b[0m\n\u001b[0;32m    666\u001b[0m \u001b[38;5;28;01mtry\u001b[39;00m:\n\u001b[1;32m--> 667\u001b[0m     resp \u001b[38;5;241m=\u001b[39m conn\u001b[38;5;241m.\u001b[39murlopen(\n\u001b[0;32m    668\u001b[0m         method\u001b[38;5;241m=\u001b[39mrequest\u001b[38;5;241m.\u001b[39mmethod,\n\u001b[0;32m    669\u001b[0m         url\u001b[38;5;241m=\u001b[39murl,\n\u001b[0;32m    670\u001b[0m         body\u001b[38;5;241m=\u001b[39mrequest\u001b[38;5;241m.\u001b[39mbody,\n\u001b[0;32m    671\u001b[0m         headers\u001b[38;5;241m=\u001b[39mrequest\u001b[38;5;241m.\u001b[39mheaders,\n\u001b[0;32m    672\u001b[0m         redirect\u001b[38;5;241m=\u001b[39m\u001b[38;5;28;01mFalse\u001b[39;00m,\n\u001b[0;32m    673\u001b[0m         assert_same_host\u001b[38;5;241m=\u001b[39m\u001b[38;5;28;01mFalse\u001b[39;00m,\n\u001b[0;32m    674\u001b[0m         preload_content\u001b[38;5;241m=\u001b[39m\u001b[38;5;28;01mFalse\u001b[39;00m,\n\u001b[0;32m    675\u001b[0m         decode_content\u001b[38;5;241m=\u001b[39m\u001b[38;5;28;01mFalse\u001b[39;00m,\n\u001b[0;32m    676\u001b[0m         retries\u001b[38;5;241m=\u001b[39m\u001b[38;5;28mself\u001b[39m\u001b[38;5;241m.\u001b[39mmax_retries,\n\u001b[0;32m    677\u001b[0m         timeout\u001b[38;5;241m=\u001b[39mtimeout,\n\u001b[0;32m    678\u001b[0m         chunked\u001b[38;5;241m=\u001b[39mchunked,\n\u001b[0;32m    679\u001b[0m     )\n\u001b[0;32m    681\u001b[0m \u001b[38;5;28;01mexcept\u001b[39;00m (ProtocolError, \u001b[38;5;167;01mOSError\u001b[39;00m) \u001b[38;5;28;01mas\u001b[39;00m err:\n",
      "File \u001b[1;32mC:\\ProgramData\\anaconda3\\Lib\\site-packages\\urllib3\\connectionpool.py:843\u001b[0m, in \u001b[0;36mHTTPConnectionPool.urlopen\u001b[1;34m(self, method, url, body, headers, retries, redirect, assert_same_host, timeout, pool_timeout, release_conn, chunked, body_pos, preload_content, decode_content, **response_kw)\u001b[0m\n\u001b[0;32m    841\u001b[0m     new_e \u001b[38;5;241m=\u001b[39m ProtocolError(\u001b[38;5;124m\"\u001b[39m\u001b[38;5;124mConnection aborted.\u001b[39m\u001b[38;5;124m\"\u001b[39m, new_e)\n\u001b[1;32m--> 843\u001b[0m retries \u001b[38;5;241m=\u001b[39m retries\u001b[38;5;241m.\u001b[39mincrement(\n\u001b[0;32m    844\u001b[0m     method, url, error\u001b[38;5;241m=\u001b[39mnew_e, _pool\u001b[38;5;241m=\u001b[39m\u001b[38;5;28mself\u001b[39m, _stacktrace\u001b[38;5;241m=\u001b[39msys\u001b[38;5;241m.\u001b[39mexc_info()[\u001b[38;5;241m2\u001b[39m]\n\u001b[0;32m    845\u001b[0m )\n\u001b[0;32m    846\u001b[0m retries\u001b[38;5;241m.\u001b[39msleep()\n",
      "File \u001b[1;32mC:\\ProgramData\\anaconda3\\Lib\\site-packages\\urllib3\\util\\retry.py:519\u001b[0m, in \u001b[0;36mRetry.increment\u001b[1;34m(self, method, url, response, error, _pool, _stacktrace)\u001b[0m\n\u001b[0;32m    518\u001b[0m     reason \u001b[38;5;241m=\u001b[39m error \u001b[38;5;129;01mor\u001b[39;00m ResponseError(cause)\n\u001b[1;32m--> 519\u001b[0m     \u001b[38;5;28;01mraise\u001b[39;00m MaxRetryError(_pool, url, reason) \u001b[38;5;28;01mfrom\u001b[39;00m \u001b[38;5;21;01mreason\u001b[39;00m  \u001b[38;5;66;03m# type: ignore[arg-type]\u001b[39;00m\n\u001b[0;32m    521\u001b[0m log\u001b[38;5;241m.\u001b[39mdebug(\u001b[38;5;124m\"\u001b[39m\u001b[38;5;124mIncremented Retry for (url=\u001b[39m\u001b[38;5;124m'\u001b[39m\u001b[38;5;132;01m%s\u001b[39;00m\u001b[38;5;124m'\u001b[39m\u001b[38;5;124m): \u001b[39m\u001b[38;5;132;01m%r\u001b[39;00m\u001b[38;5;124m\"\u001b[39m, url, new_retry)\n",
      "\u001b[1;31mMaxRetryError\u001b[0m: HTTPSConnectionPool(host='chelyabinsk.bani.ru.com', port=443): Max retries exceeded with url: /poleznye-statiy/ (Caused by SSLError(SSLEOFError(8, '[SSL: UNEXPECTED_EOF_WHILE_READING] EOF occurred in violation of protocol (_ssl.c:1000)')))",
      "\nDuring handling of the above exception, another exception occurred:\n",
      "\u001b[1;31mSSLError\u001b[0m                                  Traceback (most recent call last)",
      "Cell \u001b[1;32mIn[7], line 5\u001b[0m\n\u001b[0;32m      1\u001b[0m \u001b[38;5;66;03m# Сохраняем полученные данные в словарь. На каждой итерации цикла будем его заполнять:\u001b[39;00m\n\u001b[0;32m      2\u001b[0m \u001b[38;5;66;03m# в котором ключами будут имена категорий, а значениями - ссылки\u001b[39;00m\n\u001b[0;32m      3\u001b[0m \n\u001b[0;32m      4\u001b[0m \u001b[38;5;66;03m# Отправляем запрос на страницу, передаём в качестве GET-параметра URL-адрес\u001b[39;00m\n\u001b[1;32m----> 5\u001b[0m r \u001b[38;5;241m=\u001b[39m requests\u001b[38;5;241m.\u001b[39mget(url\u001b[38;5;241m=\u001b[39mURL, headers\u001b[38;5;241m=\u001b[39mHEADERS)\n\u001b[0;32m      7\u001b[0m \u001b[38;5;66;03m# Создаём объект Супа с параметрами \u001b[39;00m\n\u001b[0;32m      8\u001b[0m soup \u001b[38;5;241m=\u001b[39m BeautifulSoup(r\u001b[38;5;241m.\u001b[39mtext, \u001b[38;5;124m'\u001b[39m\u001b[38;5;124mlxml\u001b[39m\u001b[38;5;124m'\u001b[39m)\n",
      "File \u001b[1;32mC:\\ProgramData\\anaconda3\\Lib\\site-packages\\requests\\api.py:73\u001b[0m, in \u001b[0;36mget\u001b[1;34m(url, params, **kwargs)\u001b[0m\n\u001b[0;32m     62\u001b[0m \u001b[38;5;28;01mdef\u001b[39;00m \u001b[38;5;21mget\u001b[39m(url, params\u001b[38;5;241m=\u001b[39m\u001b[38;5;28;01mNone\u001b[39;00m, \u001b[38;5;241m*\u001b[39m\u001b[38;5;241m*\u001b[39mkwargs):\n\u001b[0;32m     63\u001b[0m \u001b[38;5;250m    \u001b[39m\u001b[38;5;124mr\u001b[39m\u001b[38;5;124;03m\"\"\"Sends a GET request.\u001b[39;00m\n\u001b[0;32m     64\u001b[0m \n\u001b[0;32m     65\u001b[0m \u001b[38;5;124;03m    :param url: URL for the new :class:`Request` object.\u001b[39;00m\n\u001b[1;32m   (...)\u001b[0m\n\u001b[0;32m     70\u001b[0m \u001b[38;5;124;03m    :rtype: requests.Response\u001b[39;00m\n\u001b[0;32m     71\u001b[0m \u001b[38;5;124;03m    \"\"\"\u001b[39;00m\n\u001b[1;32m---> 73\u001b[0m     \u001b[38;5;28;01mreturn\u001b[39;00m request(\u001b[38;5;124m\"\u001b[39m\u001b[38;5;124mget\u001b[39m\u001b[38;5;124m\"\u001b[39m, url, params\u001b[38;5;241m=\u001b[39mparams, \u001b[38;5;241m*\u001b[39m\u001b[38;5;241m*\u001b[39mkwargs)\n",
      "File \u001b[1;32mC:\\ProgramData\\anaconda3\\Lib\\site-packages\\requests\\api.py:59\u001b[0m, in \u001b[0;36mrequest\u001b[1;34m(method, url, **kwargs)\u001b[0m\n\u001b[0;32m     55\u001b[0m \u001b[38;5;66;03m# By using the 'with' statement we are sure the session is closed, thus we\u001b[39;00m\n\u001b[0;32m     56\u001b[0m \u001b[38;5;66;03m# avoid leaving sockets open which can trigger a ResourceWarning in some\u001b[39;00m\n\u001b[0;32m     57\u001b[0m \u001b[38;5;66;03m# cases, and look like a memory leak in others.\u001b[39;00m\n\u001b[0;32m     58\u001b[0m \u001b[38;5;28;01mwith\u001b[39;00m sessions\u001b[38;5;241m.\u001b[39mSession() \u001b[38;5;28;01mas\u001b[39;00m session:\n\u001b[1;32m---> 59\u001b[0m     \u001b[38;5;28;01mreturn\u001b[39;00m session\u001b[38;5;241m.\u001b[39mrequest(method\u001b[38;5;241m=\u001b[39mmethod, url\u001b[38;5;241m=\u001b[39murl, \u001b[38;5;241m*\u001b[39m\u001b[38;5;241m*\u001b[39mkwargs)\n",
      "File \u001b[1;32mC:\\ProgramData\\anaconda3\\Lib\\site-packages\\requests\\sessions.py:589\u001b[0m, in \u001b[0;36mSession.request\u001b[1;34m(self, method, url, params, data, headers, cookies, files, auth, timeout, allow_redirects, proxies, hooks, stream, verify, cert, json)\u001b[0m\n\u001b[0;32m    584\u001b[0m send_kwargs \u001b[38;5;241m=\u001b[39m {\n\u001b[0;32m    585\u001b[0m     \u001b[38;5;124m\"\u001b[39m\u001b[38;5;124mtimeout\u001b[39m\u001b[38;5;124m\"\u001b[39m: timeout,\n\u001b[0;32m    586\u001b[0m     \u001b[38;5;124m\"\u001b[39m\u001b[38;5;124mallow_redirects\u001b[39m\u001b[38;5;124m\"\u001b[39m: allow_redirects,\n\u001b[0;32m    587\u001b[0m }\n\u001b[0;32m    588\u001b[0m send_kwargs\u001b[38;5;241m.\u001b[39mupdate(settings)\n\u001b[1;32m--> 589\u001b[0m resp \u001b[38;5;241m=\u001b[39m \u001b[38;5;28mself\u001b[39m\u001b[38;5;241m.\u001b[39msend(prep, \u001b[38;5;241m*\u001b[39m\u001b[38;5;241m*\u001b[39msend_kwargs)\n\u001b[0;32m    591\u001b[0m \u001b[38;5;28;01mreturn\u001b[39;00m resp\n",
      "File \u001b[1;32mC:\\ProgramData\\anaconda3\\Lib\\site-packages\\requests\\sessions.py:703\u001b[0m, in \u001b[0;36mSession.send\u001b[1;34m(self, request, **kwargs)\u001b[0m\n\u001b[0;32m    700\u001b[0m start \u001b[38;5;241m=\u001b[39m preferred_clock()\n\u001b[0;32m    702\u001b[0m \u001b[38;5;66;03m# Send the request\u001b[39;00m\n\u001b[1;32m--> 703\u001b[0m r \u001b[38;5;241m=\u001b[39m adapter\u001b[38;5;241m.\u001b[39msend(request, \u001b[38;5;241m*\u001b[39m\u001b[38;5;241m*\u001b[39mkwargs)\n\u001b[0;32m    705\u001b[0m \u001b[38;5;66;03m# Total elapsed time of the request (approximately)\u001b[39;00m\n\u001b[0;32m    706\u001b[0m elapsed \u001b[38;5;241m=\u001b[39m preferred_clock() \u001b[38;5;241m-\u001b[39m start\n",
      "File \u001b[1;32mC:\\ProgramData\\anaconda3\\Lib\\site-packages\\requests\\adapters.py:698\u001b[0m, in \u001b[0;36mHTTPAdapter.send\u001b[1;34m(self, request, stream, timeout, verify, cert, proxies)\u001b[0m\n\u001b[0;32m    694\u001b[0m         \u001b[38;5;28;01mraise\u001b[39;00m ProxyError(e, request\u001b[38;5;241m=\u001b[39mrequest)\n\u001b[0;32m    696\u001b[0m     \u001b[38;5;28;01mif\u001b[39;00m \u001b[38;5;28misinstance\u001b[39m(e\u001b[38;5;241m.\u001b[39mreason, _SSLError):\n\u001b[0;32m    697\u001b[0m         \u001b[38;5;66;03m# This branch is for urllib3 v1.22 and later.\u001b[39;00m\n\u001b[1;32m--> 698\u001b[0m         \u001b[38;5;28;01mraise\u001b[39;00m SSLError(e, request\u001b[38;5;241m=\u001b[39mrequest)\n\u001b[0;32m    700\u001b[0m     \u001b[38;5;28;01mraise\u001b[39;00m \u001b[38;5;167;01mConnectionError\u001b[39;00m(e, request\u001b[38;5;241m=\u001b[39mrequest)\n\u001b[0;32m    702\u001b[0m \u001b[38;5;28;01mexcept\u001b[39;00m ClosedPoolError \u001b[38;5;28;01mas\u001b[39;00m e:\n",
      "\u001b[1;31mSSLError\u001b[0m: HTTPSConnectionPool(host='chelyabinsk.bani.ru.com', port=443): Max retries exceeded with url: /poleznye-statiy/ (Caused by SSLError(SSLEOFError(8, '[SSL: UNEXPECTED_EOF_WHILE_READING] EOF occurred in violation of protocol (_ssl.c:1000)')))"
     ]
    }
   ],
   "source": [
    "# Сохраняем полученные данные в словарь. На каждой итерации цикла будем его заполнять:\n",
    "# в котором ключами будут имена категорий, а значениями - ссылки\n",
    "\n",
    "# Отправляем запрос на страницу, передаём в качестве GET-параметра URL-адрес\n",
    "r = requests.get(url=URL, headers=HEADERS)\n",
    "    \n",
    "# Создаём объект Супа с параметрами \n",
    "soup = BeautifulSoup(r.text, 'lxml')\n",
    "    \n",
    "# Определяем DIV-ы с нужной инфой (заголовки статей)\n",
    "articles = soup.find('div', class_='desc list').find_all(\"a\")\n",
    "\n",
    "articles_list = []\n",
    "articles_list_dict = {}\n",
    "count = 0\n",
    "for item in articles:\n",
    "    title = item.text\n",
    "    link = item.get(\"href\")\n",
    "#     print(f\"{item_text}: {item_href}\")\n",
    "\n",
    "    articles_list_dict['Number'] = count\n",
    "    articles_list_dict['Topic'] = title\n",
    "    articles_list_dict['Link'] = link\n",
    "    \n",
    "    articles_list.append(\n",
    "            {\n",
    "                articles_list_dict['Number'],\n",
    "                articles_list_dict['Topic'],\n",
    "                articles_list_dict['Link']\n",
    "            }\n",
    "        )\n",
    "    count += 1\n",
    "#     articles_list_dict[title] = link\n",
    "    \n",
    "print(articles_list)\n",
    "\n",
    "# ОТЛИЧНО !!!!!"
   ]
  },
  {
   "cell_type": "code",
   "execution_count": 9,
   "metadata": {},
   "outputs": [
    {
     "name": "stdout",
     "output_type": "stream",
     "text": [
      "{'one': 1, 'two': 2, 'three': 3, 'four': 4, 'five': 5}\n"
     ]
    }
   ],
   "source": [
    "# Создание словаря:\n",
    "list_one = [\"one\", \"two\", \"three\", \"four\", \"five\"]\n",
    "list_two = [1, 2, 3, 4, 5]\n",
    " \n",
    "the_dict = dict(zip(list_one, list_two))\n",
    "print(the_dict)"
   ]
  },
  {
   "cell_type": "code",
   "execution_count": 116,
   "metadata": {},
   "outputs": [
    {
     "name": "stdout",
     "output_type": "stream",
     "text": [
      "{0: 'Как сделать фундамент для бани-бочки?', 1: 'Печь в бане-бочке: печь с топкой через перегородку или на улицу — плюсы и минусы', 2: 'Правила эксплуатации бань-бочек', 3: 'Что нужно знать при покупке?', 4: 'Эксплуатация бани-бочки зимой', 5: 'Почему покупатели выбирают Бани-бочки?', 6: 'Планировки и внутреннее устройство бань-бочек', 7: 'Выбор материала при производстве и отделке бани-бочки', 8: 'ТОП-15 причин, почему нужно выбирать бани Лукоморье', 9: 'Популярные дополнения к бане', 10: 'Как топить баню-бочку?', 11: 'Как устроена баня-бочка?', 12: 'Как сделать баню-бочку своими руками?', 13: 'Баня-бочка по финской технологии', 14: 'Виды веников для бани и как правильно их запаривать?', 15: 'Полезна ли баня для здоровья?', 16: 'Внешний вид бани: обработка и отделка', 17: 'Сборка бани бочки на участке', 18: 'Финская и русская баня-бочка: в чем разница', 19: 'Баня-бочка из кедра или ели, что лучше?', 20: 'Виды кровли для бани', 21: 'Какой должна быть влажность бруса при строительстве бани?', 22: 'Печь для бани — какую выбрать?', 23: 'Вагонка для отделки бани', 24: 'Преимущества деревянной бани', 25: 'Основные требования по эксплуатации бань', 26: 'В чем разница между срощенной и обычной древесиной', 27: 'Секреты создания легкого и приятного пара'}\n"
     ]
    }
   ],
   "source": [
    "# Отправляем запрос на страницу, передаём в качестве GET-параметра URL-адрес\n",
    "r = requests.get(url=URL, headers=HEADERS)\n",
    "    \n",
    "# Создаём объект Супа с параметрами \n",
    "soup = BeautifulSoup(r.text, 'lxml')\n",
    "    \n",
    "# Определяем DIV-ы с нужной инфой (заголовки статей)\n",
    "articles = soup.find('div', class_='desc list').find_all(\"a\")\n",
    "\n",
    "numbers_list = []\n",
    "topics_list = []\n",
    "links_list = []\n",
    "articles_list = []\n",
    "articles_list_dict = {}\n",
    "\n",
    "count = 0\n",
    "for item in articles:\n",
    "    title = item.text\n",
    "    link = item.get(\"href\")\n",
    "    \n",
    "    numbers_list.append(count)\n",
    "    topics_list.append(title)\n",
    "    links_list.append(link)\n",
    "    count += 1\n",
    "    \n",
    "articles_list_dict = dict(zip(numbers_list, topics_list))\n",
    "        \n",
    "print(articles_list_dict)"
   ]
  },
  {
   "cell_type": "code",
   "execution_count": 117,
   "metadata": {},
   "outputs": [
    {
     "name": "stdout",
     "output_type": "stream",
     "text": [
      "[{'Number': 1, 'Topic': 'Как сделать фундамент для бани-бочки?', 'Link': 'https://chelyabinsk.bani.ru.com/poleznye-statiy/kak-sdelat-fundament-dlya-bani-bochki/'}, {'Number': 2, 'Topic': 'Печь в бане-бочке: печь с топкой через перегородку или на улицу — плюсы и минусы', 'Link': 'https://chelyabinsk.bani.ru.com/poleznye-statiy/pech-v-bane-bochke-varianty-raspolozheniya/'}, {'Number': 3, 'Topic': 'Правила эксплуатации бань-бочек', 'Link': 'https://chelyabinsk.bani.ru.com/poleznye-statiy/pravila-ekspluatacii-bani-bochki-kak-prodlit-srok-sluzhby/'}, {'Number': 4, 'Topic': 'Что нужно знать при покупке?', 'Link': 'https://chelyabinsk.bani.ru.com/poleznye-statiy/chto-nuzhno-znat-pri-pokupke-bani-bochki/'}, {'Number': 5, 'Topic': 'Эксплуатация бани-бочки зимой', 'Link': 'https://chelyabinsk.bani.ru.com/poleznye-statiy/ekspluataciya-bani-bochki-zimoj/'}, {'Number': 6, 'Topic': 'Почему покупатели выбирают Бани-бочки?', 'Link': 'https://chelyabinsk.bani.ru.com/poleznye-statiy/pochemu-pokupateli-vybirajut-bani-bochki/'}, {'Number': 7, 'Topic': 'Планировки и внутреннее устройство бань-бочек', 'Link': 'https://chelyabinsk.bani.ru.com/poleznye-statiy/planirovki-i-vnutrennee-ustrojstvo-ban-bochek/'}, {'Number': 8, 'Topic': 'Выбор материала при производстве и отделке бани-бочки', 'Link': 'https://chelyabinsk.bani.ru.com/poleznye-statiy/vybor-materiala-pri-proizvodstve-i-otdelke-bani-bochki/'}, {'Number': 9, 'Topic': 'ТОП-15 причин, почему нужно выбирать бани Лукоморье', 'Link': 'https://chelyabinsk.bani.ru.com/poleznye-statiy/pochemu-pokupateli-vybirajut-bani-lukomore/'}, {'Number': 10, 'Topic': 'Популярные дополнения к бане', 'Link': 'https://chelyabinsk.bani.ru.com/poleznye-statiy/populyarnye-dopolneniya-k-bane/'}, {'Number': 11, 'Topic': 'Как топить баню-бочку?', 'Link': 'https://chelyabinsk.bani.ru.com/poleznye-statiy/kak-topit-banju-bochku/'}, {'Number': 12, 'Topic': 'Как устроена баня-бочка?', 'Link': 'https://chelyabinsk.bani.ru.com/poleznye-statiy/kak-ustroena-banya-bochka/'}, {'Number': 13, 'Topic': 'Как сделать баню-бочку своими руками?', 'Link': 'https://chelyabinsk.bani.ru.com/poleznye-statiy/kak-sdelat-banju-bochku-svoimi-rukami/'}, {'Number': 14, 'Topic': 'Баня-бочка по финской технологии', 'Link': 'https://chelyabinsk.bani.ru.com/poleznye-statiy/banya-bochka-po-finskoj-tehnologii/'}, {'Number': 15, 'Topic': 'Виды веников для бани и как правильно их запаривать?', 'Link': 'https://chelyabinsk.bani.ru.com/poleznye-statiy/vidy-venikov-dlya-bani-i-kak-pravilno-ih-zaparivat/'}, {'Number': 16, 'Topic': 'Полезна ли баня для здоровья?', 'Link': 'https://chelyabinsk.bani.ru.com/poleznye-statiy/polezna-li-banya-dlya-zdorovya/'}, {'Number': 17, 'Topic': 'Внешний вид бани: обработка и отделка', 'Link': 'https://chelyabinsk.bani.ru.com/poleznye-statiy/vneshnij-vid-bani-obrabotka-i-otdelka/'}, {'Number': 18, 'Topic': 'Сборка бани бочки на участке', 'Link': 'https://chelyabinsk.bani.ru.com/poleznye-statiy/sborka-bani-bochki-na-uchastke/'}, {'Number': 19, 'Topic': 'Финская и русская баня-бочка: в чем разница', 'Link': 'https://chelyabinsk.bani.ru.com/poleznye-statiy/finskaya-i-russkaya-banya-v-chem-raznica/'}, {'Number': 20, 'Topic': 'Баня-бочка из кедра или ели, что лучше?', 'Link': 'https://chelyabinsk.bani.ru.com/poleznye-statiy/banya-bochka-iz-kedra-ili-eli/'}, {'Number': 21, 'Topic': 'Виды кровли для бани', 'Link': 'https://chelyabinsk.bani.ru.com/poleznye-statiy/vidy-krovli-dlya-bani/'}, {'Number': 22, 'Topic': 'Какой должна быть влажность бруса при строительстве бани?', 'Link': 'https://chelyabinsk.bani.ru.com/poleznye-statiy/kakoj-dolzhna-byt-vlazhnost-brusa-pri-stroitelstve-bani/'}, {'Number': 23, 'Topic': 'Печь для бани — какую выбрать?', 'Link': 'https://chelyabinsk.bani.ru.com/poleznye-statiy/pech-dlya-bani/'}, {'Number': 24, 'Topic': 'Вагонка для отделки бани', 'Link': 'https://chelyabinsk.bani.ru.com/poleznye-statiy/vagonka-dlya-otdelki-bani/'}, {'Number': 25, 'Topic': 'Преимущества деревянной бани', 'Link': 'https://chelyabinsk.bani.ru.com/poleznye-statiy/derevyannye-bani/'}, {'Number': 26, 'Topic': 'Основные требования по эксплуатации бань', 'Link': 'https://chelyabinsk.bani.ru.com/poleznye-statiy/osnovnye-trebovaniya-po-ekspluatacii-ban/'}, {'Number': 27, 'Topic': 'В чем разница между срощенной и обычной древесиной', 'Link': 'https://chelyabinsk.bani.ru.com/poleznye-statiy/v-chem-raznica-mezhdu-sroshhennoj-i-obychnoj-drevesinoj/'}, {'Number': 28, 'Topic': 'Секреты создания легкого и приятного пара', 'Link': 'https://chelyabinsk.bani.ru.com/kak-sozdat-legkij-i-priyatnyj-par-v-bane-bochke/'}]\n"
     ]
    }
   ],
   "source": [
    "# Пройдём в цикле по коду блока\n",
    "articles_list = []\n",
    "count = 1\n",
    "for item in articles:\n",
    "    title = item.text\n",
    "    link = item.get(\"href\")\n",
    "\n",
    "    articles_list.append(\n",
    "        {\n",
    "            \"Number\": count,\n",
    "            \"Topic\": title,\n",
    "            \"Link\": link\n",
    "        }\n",
    "    )\n",
    "    count += 1\n",
    "    \n",
    "print(articles_list)"
   ]
  },
  {
   "cell_type": "code",
   "execution_count": 118,
   "metadata": {},
   "outputs": [
    {
     "data": {
      "text/plain": [
       "[{'Number': 1,\n",
       "  'Topic': 'Как сделать фундамент для бани-бочки?',\n",
       "  'Link': 'https://chelyabinsk.bani.ru.com/poleznye-statiy/kak-sdelat-fundament-dlya-bani-bochki/'},\n",
       " {'Number': 2,\n",
       "  'Topic': 'Печь в бане-бочке: печь с топкой через перегородку или на улицу — плюсы и минусы',\n",
       "  'Link': 'https://chelyabinsk.bani.ru.com/poleznye-statiy/pech-v-bane-bochke-varianty-raspolozheniya/'},\n",
       " {'Number': 3,\n",
       "  'Topic': 'Правила эксплуатации бань-бочек',\n",
       "  'Link': 'https://chelyabinsk.bani.ru.com/poleznye-statiy/pravila-ekspluatacii-bani-bochki-kak-prodlit-srok-sluzhby/'},\n",
       " {'Number': 4,\n",
       "  'Topic': 'Что нужно знать при покупке?',\n",
       "  'Link': 'https://chelyabinsk.bani.ru.com/poleznye-statiy/chto-nuzhno-znat-pri-pokupke-bani-bochki/'},\n",
       " {'Number': 5,\n",
       "  'Topic': 'Эксплуатация бани-бочки зимой',\n",
       "  'Link': 'https://chelyabinsk.bani.ru.com/poleznye-statiy/ekspluataciya-bani-bochki-zimoj/'},\n",
       " {'Number': 6,\n",
       "  'Topic': 'Почему покупатели выбирают Бани-бочки?',\n",
       "  'Link': 'https://chelyabinsk.bani.ru.com/poleznye-statiy/pochemu-pokupateli-vybirajut-bani-bochki/'},\n",
       " {'Number': 7,\n",
       "  'Topic': 'Планировки и внутреннее устройство бань-бочек',\n",
       "  'Link': 'https://chelyabinsk.bani.ru.com/poleznye-statiy/planirovki-i-vnutrennee-ustrojstvo-ban-bochek/'},\n",
       " {'Number': 8,\n",
       "  'Topic': 'Выбор материала при производстве и отделке бани-бочки',\n",
       "  'Link': 'https://chelyabinsk.bani.ru.com/poleznye-statiy/vybor-materiala-pri-proizvodstve-i-otdelke-bani-bochki/'},\n",
       " {'Number': 9,\n",
       "  'Topic': 'ТОП-15 причин, почему нужно выбирать бани Лукоморье',\n",
       "  'Link': 'https://chelyabinsk.bani.ru.com/poleznye-statiy/pochemu-pokupateli-vybirajut-bani-lukomore/'},\n",
       " {'Number': 10,\n",
       "  'Topic': 'Популярные дополнения к бане',\n",
       "  'Link': 'https://chelyabinsk.bani.ru.com/poleznye-statiy/populyarnye-dopolneniya-k-bane/'},\n",
       " {'Number': 11,\n",
       "  'Topic': 'Как топить баню-бочку?',\n",
       "  'Link': 'https://chelyabinsk.bani.ru.com/poleznye-statiy/kak-topit-banju-bochku/'},\n",
       " {'Number': 12,\n",
       "  'Topic': 'Как устроена баня-бочка?',\n",
       "  'Link': 'https://chelyabinsk.bani.ru.com/poleznye-statiy/kak-ustroena-banya-bochka/'},\n",
       " {'Number': 13,\n",
       "  'Topic': 'Как сделать баню-бочку своими руками?',\n",
       "  'Link': 'https://chelyabinsk.bani.ru.com/poleznye-statiy/kak-sdelat-banju-bochku-svoimi-rukami/'},\n",
       " {'Number': 14,\n",
       "  'Topic': 'Баня-бочка по финской технологии',\n",
       "  'Link': 'https://chelyabinsk.bani.ru.com/poleznye-statiy/banya-bochka-po-finskoj-tehnologii/'},\n",
       " {'Number': 15,\n",
       "  'Topic': 'Виды веников для бани и как правильно их запаривать?',\n",
       "  'Link': 'https://chelyabinsk.bani.ru.com/poleznye-statiy/vidy-venikov-dlya-bani-i-kak-pravilno-ih-zaparivat/'},\n",
       " {'Number': 16,\n",
       "  'Topic': 'Полезна ли баня для здоровья?',\n",
       "  'Link': 'https://chelyabinsk.bani.ru.com/poleznye-statiy/polezna-li-banya-dlya-zdorovya/'},\n",
       " {'Number': 17,\n",
       "  'Topic': 'Внешний вид бани: обработка и отделка',\n",
       "  'Link': 'https://chelyabinsk.bani.ru.com/poleznye-statiy/vneshnij-vid-bani-obrabotka-i-otdelka/'},\n",
       " {'Number': 18,\n",
       "  'Topic': 'Сборка бани бочки на участке',\n",
       "  'Link': 'https://chelyabinsk.bani.ru.com/poleznye-statiy/sborka-bani-bochki-na-uchastke/'},\n",
       " {'Number': 19,\n",
       "  'Topic': 'Финская и русская баня-бочка: в чем разница',\n",
       "  'Link': 'https://chelyabinsk.bani.ru.com/poleznye-statiy/finskaya-i-russkaya-banya-v-chem-raznica/'},\n",
       " {'Number': 20,\n",
       "  'Topic': 'Баня-бочка из кедра или ели, что лучше?',\n",
       "  'Link': 'https://chelyabinsk.bani.ru.com/poleznye-statiy/banya-bochka-iz-kedra-ili-eli/'},\n",
       " {'Number': 21,\n",
       "  'Topic': 'Виды кровли для бани',\n",
       "  'Link': 'https://chelyabinsk.bani.ru.com/poleznye-statiy/vidy-krovli-dlya-bani/'},\n",
       " {'Number': 22,\n",
       "  'Topic': 'Какой должна быть влажность бруса при строительстве бани?',\n",
       "  'Link': 'https://chelyabinsk.bani.ru.com/poleznye-statiy/kakoj-dolzhna-byt-vlazhnost-brusa-pri-stroitelstve-bani/'},\n",
       " {'Number': 23,\n",
       "  'Topic': 'Печь для бани — какую выбрать?',\n",
       "  'Link': 'https://chelyabinsk.bani.ru.com/poleznye-statiy/pech-dlya-bani/'},\n",
       " {'Number': 24,\n",
       "  'Topic': 'Вагонка для отделки бани',\n",
       "  'Link': 'https://chelyabinsk.bani.ru.com/poleznye-statiy/vagonka-dlya-otdelki-bani/'},\n",
       " {'Number': 25,\n",
       "  'Topic': 'Преимущества деревянной бани',\n",
       "  'Link': 'https://chelyabinsk.bani.ru.com/poleznye-statiy/derevyannye-bani/'},\n",
       " {'Number': 26,\n",
       "  'Topic': 'Основные требования по эксплуатации бань',\n",
       "  'Link': 'https://chelyabinsk.bani.ru.com/poleznye-statiy/osnovnye-trebovaniya-po-ekspluatacii-ban/'},\n",
       " {'Number': 27,\n",
       "  'Topic': 'В чем разница между срощенной и обычной древесиной',\n",
       "  'Link': 'https://chelyabinsk.bani.ru.com/poleznye-statiy/v-chem-raznica-mezhdu-sroshhennoj-i-obychnoj-drevesinoj/'},\n",
       " {'Number': 28,\n",
       "  'Topic': 'Секреты создания легкого и приятного пара',\n",
       "  'Link': 'https://chelyabinsk.bani.ru.com/kak-sozdat-legkij-i-priyatnyj-par-v-bane-bochke/'}]"
      ]
     },
     "execution_count": 118,
     "metadata": {},
     "output_type": "execute_result"
    }
   ],
   "source": [
    "articles_list"
   ]
  },
  {
   "cell_type": "code",
   "execution_count": 122,
   "metadata": {},
   "outputs": [],
   "source": [
    "# Сохранение данных в JSON файл\n",
    "with open(\"barrels_articles.json\", \"a\", encoding=\"utf-8\") as file:\n",
    "        json.dump(articles_list, file, indent=4, ensure_ascii=False)"
   ]
  },
  {
   "cell_type": "code",
   "execution_count": null,
   "metadata": {},
   "outputs": [],
   "source": []
  },
  {
   "cell_type": "markdown",
   "metadata": {},
   "source": [
    "## Окончательный вариант оформляем в виде общей функции"
   ]
  },
  {
   "cell_type": "code",
   "execution_count": 57,
   "metadata": {},
   "outputs": [
    {
     "name": "stdout",
     "output_type": "stream",
     "text": [
      "Осталось итераций: 1\n",
      "# Итерация 1. Как сделать фундамент для бани-бочки? ... записан...\n",
      "Осталось итераций: 2\n",
      "# Итерация 2. Печь в бане-бочке: печь с топкой через перегородку или на улицу — плюсы и минусы ... записан...\n",
      "Осталось итераций: 3\n",
      "# Итерация 3. Правила эксплуатации бань-бочек ... записан...\n",
      "Осталось итераций: 4\n",
      "# Итерация 4. Что нужно знать при покупке? ... записан...\n",
      "Осталось итераций: 5\n",
      "# Итерация 5. Эксплуатация бани-бочки зимой ... записан...\n",
      "Осталось итераций: 6\n",
      "# Итерация 6. Почему покупатели выбирают Бани-бочки? ... записан...\n",
      "Осталось итераций: 7\n",
      "# Итерация 7. Планировки и внутреннее устройство бань-бочек ... записан...\n",
      "Осталось итераций: 8\n",
      "# Итерация 8. Выбор материала при производстве и отделке бани-бочки ... записан...\n",
      "Осталось итераций: 9\n",
      "# Итерация 9. ТОП-15 причин, почему нужно выбирать бани Лукоморье ... записан...\n",
      "Осталось итераций: 10\n",
      "# Итерация 10. Популярные дополнения к бане ... записан...\n",
      "Осталось итераций: 11\n",
      "# Итерация 11. Как топить баню-бочку? ... записан...\n",
      "Осталось итераций: 12\n",
      "# Итерация 12. Как устроена баня-бочка? ... записан...\n",
      "Осталось итераций: 13\n",
      "# Итерация 13. Как сделать баню-бочку своими руками? ... записан...\n",
      "Осталось итераций: 14\n",
      "# Итерация 14. Баня-бочка по финской технологии ... записан...\n",
      "Осталось итераций: 15\n",
      "# Итерация 15. Виды веников для бани и как правильно их запаривать? ... записан...\n",
      "Осталось итераций: 16\n",
      "# Итерация 16. Полезна ли баня для здоровья? ... записан...\n",
      "Осталось итераций: 17\n",
      "# Итерация 17. Внешний вид бани: обработка и отделка ... записан...\n",
      "Осталось итераций: 18\n",
      "# Итерация 18. Сборка бани бочки на участке ... записан...\n",
      "Осталось итераций: 19\n",
      "# Итерация 19. Финская и русская баня-бочка: в чем разница ... записан...\n",
      "Осталось итераций: 20\n",
      "# Итерация 20. Баня-бочка из кедра или ели, что лучше? ... записан...\n",
      "Осталось итераций: 21\n",
      "# Итерация 21. Виды кровли для бани ... записан...\n",
      "Осталось итераций: 22\n",
      "# Итерация 22. Какой должна быть влажность бруса при строительстве бани? ... записан...\n",
      "Осталось итераций: 23\n",
      "# Итерация 23. Печь для бани — какую выбрать? ... записан...\n",
      "Осталось итераций: 24\n",
      "# Итерация 24. Вагонка для отделки бани ... записан...\n",
      "Осталось итераций: 25\n",
      "# Итерация 25. Преимущества деревянной бани ... записан...\n",
      "Осталось итераций: 26\n",
      "# Итерация 26. Основные требования по эксплуатации бань ... записан...\n",
      "Осталось итераций: 27\n",
      "# Итерация 27. В чем разница между срощенной и обычной древесиной ... записан...\n",
      "Осталось итераций: 28\n",
      "# Итерация 28. Секреты создания легкого и приятного пара ... записан...\n",
      "Общее число итераций: 28\n"
     ]
    }
   ],
   "source": [
    "def get_barrels():\n",
    "# Словарь для заголовков запросов\n",
    "# 1. Адрес основного хоста\n",
    "    HOST = 'https://chelyabinsk.bani.ru.com' \n",
    "\n",
    "# 2. Адрес страницы для парсинга\n",
    "    URL = 'https://chelyabinsk.bani.ru.com/poleznye-statiy/'\n",
    "    \n",
    "# 3. Создаём словарь заголовков\n",
    "# Это нужно для некоторых сайтов (но не для всех - для этого необязательно)\n",
    "# чтобы показать сайту, что ВЫ НЕ БОТ, а обычный пользователь\n",
    "    HEADERS = {\n",
    "        'accept': 'text/html,application/xhtml+xml,application/xml;q=0.9,image/avif,image/webp,image/apng,*/*;q=0.8,application/signed-exchange;v=b3;q=0.9',\n",
    "        'user-agent': 'Mozilla/5.0 (Windows NT 10.0; Win64; x64) AppleWebKit/537.36 (KHTML, like Gecko) Chrome/109.0.0.0 Safari/537.36'\n",
    "    }\n",
    "\n",
    "# Для начала работы нужно открыть файл нашей страницы:\n",
    "#     with open(URL, encoding='utf-8') as file:\n",
    "#         src = file.read() # Сохраним содержимое файла в переменную\n",
    "#     print(src)\n",
    "# Теперь откроем наш файл, прочитаем и сохраним код страницы в переменную:\n",
    "    with open('../data/interim/html/index_clb.html', encoding='utf-8') as file:\n",
    "        src = file.read()\n",
    "    \n",
    "# Отправляем запрос на страницу, передаём в качестве GET-параметра URL-адрес\n",
    "#     r = requests.get(url=URL, headers=HEADERS)\n",
    "    \n",
    "# Создаём объект Супа с параметрами \n",
    "    soup = BeautifulSoup(src, 'lxml')\n",
    "    \n",
    "# Определяем DIV-ы с нужной инфой (заголовки статей)\n",
    "    articles = soup.find('div', class_='desc list').find_all('a')\n",
    "#     print(articles)\n",
    "\n",
    "# собираем заголовки для CSV-файла\n",
    "    with open('../data/processed/csv/barrels_articles_clb.csv', 'w', encoding='utf-8') as file:\n",
    "            writer = csv.writer(file)\n",
    "            writer.writerow(\n",
    "                (\n",
    "                    'title',\n",
    "                    'link'\n",
    "                )\n",
    "            )\n",
    "\n",
    "# Пройдём в цикле по коду блока - Достаём все заголовки статей со ссылками (используем цикл):\n",
    "    articles_list = []\n",
    "    count = 1\n",
    "    for item in articles:\n",
    "        title = item.text\n",
    "        link = item.get(\"href\")\n",
    "\n",
    "        articles_list.append(\n",
    "            {\n",
    "                \"Number\": count,\n",
    "                \"Topic\": title,\n",
    "                \"Link\": link\n",
    "            }\n",
    "        )\n",
    "        \n",
    "    \n",
    "# print(articles_list)\n",
    "        \n",
    "        \n",
    "        with open('../data/processed/csv/barrels_articles_clb.csv', 'a', encoding='utf-8') as file:\n",
    "            writer = csv.writer(file)\n",
    "            writer.writerow(\n",
    "                (\n",
    "                    title,\n",
    "                    link\n",
    "                )\n",
    "            )\n",
    "            \n",
    "        iteration_count = int(len(articles_list))        \n",
    "        print(f\"Осталось итераций: {iteration_count}\")\n",
    "        print(f\"# Итерация {count}. {title} ... записан...\")\n",
    "\n",
    "\n",
    "        if iteration_count == 0:\n",
    "            print(\"\\nРабота завершена\")\n",
    "            break\n",
    "\n",
    "\n",
    "        sleep(random.randrange(2, 4)) # Для симуляции работы реального пользователя, а не робота\n",
    "\n",
    "\n",
    "        count += 1\n",
    "\n",
    "    print(f'Общее число итераций: {iteration_count}')\n",
    "    iteration_count = iteration_count - 1\n",
    "    \n",
    "# Создаём третий файл в формате JSON, в который будем записывать данные в виде словаря\n",
    "# который весьма полезен и удобен для чтения (в дополнение к формату CSV)\n",
    "    with open('../data/processed/json/barrels_articles_clb.json', 'a', encoding='utf-8') as file:\n",
    "        json.dump(articles_list, file, indent=4, ensure_ascii=False)\n",
    "\n",
    "\n",
    "# MAIN SCRIPT\n",
    "def main():\n",
    "    get_barrels()\n",
    "\n",
    "\n",
    "if __name__ == '__main__':\n",
    "    main()"
   ]
  },
  {
   "cell_type": "code",
   "execution_count": null,
   "metadata": {},
   "outputs": [],
   "source": []
  },
  {
   "cell_type": "markdown",
   "metadata": {},
   "source": [
    "# № 3 - Парсим статьи про бани"
   ]
  },
  {
   "cell_type": "markdown",
   "metadata": {},
   "source": [
    "### Путь к папкам и файлам с данными - Path to folders and files with data\n",
    "\n",
    "#### ВРЕМЕННЫЕ данные: ../data/interim/(csv, html, json, xls)/file_name_svoy.*\n",
    "#### ФИНАЛЬНЫЕ данные: ../data/processed/(csv, html, json, xls)/file_name_svoy.*"
   ]
  },
  {
   "cell_type": "markdown",
   "metadata": {},
   "source": [
    "##### https://svoy-bany.ru/article/"
   ]
  },
  {
   "cell_type": "code",
   "execution_count": 3,
   "metadata": {},
   "outputs": [],
   "source": [
    "# Подключаем библиотеку для поиска элементов кода на сайте !!!!!!!!!!!!!\n",
    "# Библиотека PYTHON для извлечения данных из файлов HTML и XML\n",
    "from bs4 import BeautifulSoup\n",
    "\n",
    "# Подключаем библиотеку для парсинга сайтов !!!!!!!!!!!!!\n",
    "import requests\n",
    "import json\n",
    "import csv\n",
    "import random\n",
    "from time import sleep"
   ]
  },
  {
   "cell_type": "markdown",
   "metadata": {},
   "source": [
    "### Константы для проекта"
   ]
  },
  {
   "cell_type": "code",
   "execution_count": 35,
   "metadata": {},
   "outputs": [],
   "source": [
    "# Создаём переменные-КОНСТАНТЫ\n",
    "# 1. Адрес основного хоста\n",
    "HOST = 'https://svoy-bany.ru'\n",
    "# https://chelyabinsk.bani.ru.com/poleznye-statiy/pravila-ekspluatacii-bani-bochki-kak-prodlit-srok-sluzhby/\n",
    "\n",
    "# 2. Адрес страницы для парсинга\n",
    "URL = 'https://svoy-bany.ru/article/'\n",
    "\n",
    "# 3. Создаём словарь заголовков\n",
    "# Это нужно для некоторых сайтов (но не для всех - для этого необязательно)\n",
    "# чтобы показать сайту, что ВЫ НЕ БОТ, а обычный пользователь\n",
    "HEADERS = {\n",
    "    'accept': 'text/html,application/xhtml+xml,application/xml;q=0.9,image/avif,image/webp,image/apng,*/*;q=0.8,application/signed-exchange;v=b3;q=0.9',\n",
    "    'user-agent': 'Mozilla/5.0 (Windows NT 10.0; Win64; x64) AppleWebKit/537.36 (KHTML, like Gecko) Chrome/109.0.0.0 Safari/537.36'\n",
    "}"
   ]
  },
  {
   "cell_type": "code",
   "execution_count": 2,
   "metadata": {},
   "outputs": [],
   "source": [
    "# Отправляем запрос на страницу, передаём в качестве GET-параметра URL-адрес\n",
    "# Сохраним нашу страницу в файл И ЗАКОММЕНТИРУЕМ ЭТУ КОМАНДУ за ненадобностью\n",
    "\n",
    "# r = requests.get(url=URL, headers=HEADERS)\n",
    "# src = r.text\n",
    "# with open('../data/interim/html/index_svoy.html', 'w', encoding='utf-8') as file:\n",
    "#     file.write(src)\n",
    "\n",
    "# Теперь откроем наш файл, прочитаем и сохраним код страницы в переменную:\n",
    "with open('../data/interim/html/index_svoy.html', encoding='utf-8') as file:\n",
    "    src = file.read()\n",
    "# print(src)"
   ]
  },
  {
   "cell_type": "code",
   "execution_count": 1,
   "metadata": {},
   "outputs": [],
   "source": [
    "# print(src)"
   ]
  },
  {
   "cell_type": "code",
   "execution_count": 36,
   "metadata": {},
   "outputs": [
    {
     "name": "stdout",
     "output_type": "stream",
     "text": [
      "Topic: Технология строительства из минибруса\n",
      "Link: https://svoy-bany.ru/article/tekhnologiya-stroitelstva-iz-minibrusa/\n"
     ]
    }
   ],
   "source": [
    "# Создаём объект Супа с параметрами \n",
    "soup = BeautifulSoup(src, 'lxml')\n",
    "# Определяем DIV-ы с нужной инфой (заголовки статей)\n",
    "topic = soup.find('p', class_='news-item')\n",
    "# link = soup.find('p', class_='news-item').find('a')\n",
    "print(f\"Topic: {topic.text.strip()}\")\n",
    "print(f\"Link: {HOST}{topic.find('a').get('href')}\")\n",
    "\n",
    "# topic = soup.find('div', class_='news-list').find_all('p')\n",
    "# print(topic)"
   ]
  },
  {
   "cell_type": "code",
   "execution_count": 39,
   "metadata": {},
   "outputs": [
    {
     "name": "stdout",
     "output_type": "stream",
     "text": [
      "[{'https://svoy-bany.ru/article/tekhnologiya-stroitelstva-iz-minibrusa/', 1, 'Технология строительства из минибруса'}, {'A-frame House: треугольные дома-шалаши снова набирают популярность', 2, 'https://svoy-bany.ru/article/a-frame-house-treugolnye-doma-shalashi-snova-nabirayut-populyarnost/'}, {3, 'Баня из бруса или каркасная – что лучше выбрать?', 'https://svoy-bany.ru/article/banya-iz-brusa-ili-karkasnaya-chto-luchshe-vybrat/'}, {'Модульные бани: особенности строительства, преимущества конструкции', 'https://svoy-bany.ru/article/vse-o-modulnyh-banyah/', 4}, {'https://svoy-bany.ru/article/plusy-i-minusy-karkasnyh-domov/', 'Плюсы и минусы каркасных домов', 5}, {'Правила эксплуатации бань-бочек', 'https://svoy-bany.ru/article/pravila-ekspluatatsii-ban-bochek/', 6}, {'Напитки в бане: травяной чай', 'https://svoy-bany.ru/article/napitki-v-bane-travyanoy-chay/', 7}, {8, 'Как правильно париться в бане?', 'https://svoy-bany.ru/article/kak-pravilno-paritsya-v-bane/'}, {'https://svoy-bany.ru/article/kak-pravilno-zaparivat-bannyy-venik-iz-raznykh-porod/', 9, 'Как правильно запаривать банный веник из разных пород?'}]\n"
     ]
    }
   ],
   "source": [
    "# Создаём объект Супа с параметрами \n",
    "soup = BeautifulSoup(src, 'lxml')\n",
    "# Определяем DIV-ы с нужной инфой (заголовки статей)\n",
    "articles = soup.find_all('p', class_='news-item')\n",
    "\n",
    "articles_list = []\n",
    "articles_list_dict = {}\n",
    "count = 1\n",
    "for item in articles:\n",
    "    title = item.text.strip()\n",
    "    link = item.find('a').get('href')\n",
    "#     print(f\"{item_text}: {item_href}\")\n",
    "\n",
    "    articles_list_dict['Number'] = count\n",
    "    articles_list_dict['Topic'] = title\n",
    "    articles_list_dict['Link'] = HOST + link\n",
    "    \n",
    "    articles_list.append(\n",
    "            {\n",
    "                articles_list_dict['Number'],\n",
    "                articles_list_dict['Topic'],\n",
    "                articles_list_dict['Link']\n",
    "            }\n",
    "        )\n",
    "    count += 1\n",
    "    \n",
    "print(articles_list)"
   ]
  },
  {
   "cell_type": "code",
   "execution_count": 41,
   "metadata": {},
   "outputs": [],
   "source": [
    "# articles_list"
   ]
  },
  {
   "cell_type": "markdown",
   "metadata": {},
   "source": [
    "### Обработка JSON файла - Сохранение данных в JSON файл"
   ]
  },
  {
   "cell_type": "code",
   "execution_count": null,
   "metadata": {},
   "outputs": [],
   "source": []
  },
  {
   "cell_type": "code",
   "execution_count": null,
   "metadata": {},
   "outputs": [],
   "source": []
  },
  {
   "cell_type": "markdown",
   "metadata": {},
   "source": [
    "## Окончательный вариант оформляем в виде общей функции"
   ]
  },
  {
   "cell_type": "code",
   "execution_count": 56,
   "metadata": {},
   "outputs": [
    {
     "name": "stdout",
     "output_type": "stream",
     "text": [
      "Осталось итераций: 1\n",
      "# Итерация 1. Технология строительства из минибруса ... записан...\n",
      "Осталось итераций: 2\n",
      "# Итерация 2. A-frame House: треугольные дома-шалаши снова набирают популярность ... записан...\n",
      "Осталось итераций: 3\n",
      "# Итерация 3. Баня из бруса или каркасная – что лучше выбрать? ... записан...\n",
      "Осталось итераций: 4\n",
      "# Итерация 4. Модульные бани: особенности строительства, преимущества конструкции ... записан...\n",
      "Осталось итераций: 5\n",
      "# Итерация 5. Плюсы и минусы каркасных домов ... записан...\n",
      "Осталось итераций: 6\n",
      "# Итерация 6. Правила эксплуатации бань-бочек ... записан...\n",
      "Осталось итераций: 7\n",
      "# Итерация 7. Напитки в бане: травяной чай ... записан...\n",
      "Осталось итераций: 8\n",
      "# Итерация 8. Как правильно париться в бане? ... записан...\n",
      "Осталось итераций: 9\n",
      "# Итерация 9. Как правильно запаривать банный веник из разных пород? ... записан...\n",
      "Общее число итераций: 9\n"
     ]
    }
   ],
   "source": [
    "def get_svoy():\n",
    "# Создаём переменные-КОНСТАНТЫ\n",
    "# 1. Адрес основного хоста\n",
    "    HOST = 'https://svoy-bany.ru'\n",
    "    # https://chelyabinsk.bani.ru.com/poleznye-statiy/pravila-ekspluatacii-bani-bochki-kak-prodlit-srok-sluzhby/\n",
    "\n",
    "    # 2. Адрес страницы для парсинга\n",
    "    URL = 'https://svoy-bany.ru/article/'\n",
    "\n",
    "    # 3. Создаём словарь заголовков\n",
    "    # Это нужно для некоторых сайтов (но не для всех - для этого необязательно)\n",
    "    # чтобы показать сайту, что ВЫ НЕ БОТ, а обычный пользователь\n",
    "    HEADERS = {\n",
    "        'accept': 'text/html,application/xhtml+xml,application/xml;q=0.9,image/avif,image/webp,image/apng,*/*;q=0.8,application/signed-exchange;v=b3;q=0.9',\n",
    "        'user-agent': 'Mozilla/5.0 (Windows NT 10.0; Win64; x64) AppleWebKit/537.36 (KHTML, like Gecko) Chrome/109.0.0.0 Safari/537.36'\n",
    "    }\n",
    "\n",
    "# !!!!!!!!!! CODE BLOCK FOR TESTING - БЛОК КОДА ДЛЯ ТЕСТИРОВАНИЯ !!!!!!!!!!\n",
    "# Теперь откроем наш файл, прочитаем и сохраним код страницы в переменную:\n",
    "    with open('../data/interim/html/index_svoy.html', encoding='utf-8') as file:\n",
    "        src = file.read()\n",
    "# Создаём объект Супа с параметрами \n",
    "    soup = BeautifulSoup(src, 'lxml')        \n",
    "# !!!!!!!!!! THE END !!!!!!!!!!\n",
    "\n",
    "# $$$$$$$$$$ CODE BLOCK FOR WORKING WITH THE SITE - БЛОК КОДА ДЛЯ РАБОТЫ С САЙТОМ $$$$$$$$$$\n",
    "# Отправляем запрос на страницу, передаём в качестве GET-параметра URL-адрес\n",
    "#     r = requests.get(url=URL, headers=HEADERS)\n",
    "    \n",
    "# Создаём объект Супа с параметрами \n",
    "#     soup = BeautifulSoup(r.text, 'lxml')\n",
    "# $$$$$$$$$$ THE END $$$$$$$$$$\n",
    "\n",
    "\n",
    "# Определяем DIV-ы с нужной инфой (заголовки статей)\n",
    "    articles = soup.find_all('p', class_='news-item')\n",
    "#     print(articles)\n",
    "\n",
    "# собираем заголовки для CSV-файла\n",
    "    with open('../data/processed/csv/barrels_articles_svoy.csv', 'w', encoding='utf-8') as file:\n",
    "            writer = csv.writer(file)\n",
    "            writer.writerow(\n",
    "                (\n",
    "                    'title',\n",
    "                    'link'\n",
    "                )\n",
    "            )\n",
    "\n",
    "# Пройдём в цикле по коду блока - Достаём все заголовки статей со ссылками (используем цикл):\n",
    "    articles_list = []\n",
    "    count = 1\n",
    "    for item in articles:\n",
    "        title = item.text.strip()\n",
    "        link = HOST + item.find('a').get('href')\n",
    "\n",
    "        articles_list.append(\n",
    "            {\n",
    "                \"Number\": count,\n",
    "                \"Topic\": title,\n",
    "                \"Link\": link\n",
    "            }\n",
    "        )\n",
    "        \n",
    "    \n",
    "# print(articles_list)\n",
    "        \n",
    "\n",
    "        with open('../data/processed/csv/barrels_articles_svoy.csv', 'a', encoding='utf-8') as file:\n",
    "            writer = csv.writer(file)\n",
    "            writer.writerow(\n",
    "                (\n",
    "                    title,\n",
    "                    link\n",
    "                )\n",
    "            )\n",
    "            \n",
    "        iteration_count = int(len(articles_list))        \n",
    "        print(f\"Осталось итераций: {iteration_count}\")\n",
    "        print(f\"# Итерация {count}. {title} ... записан...\")\n",
    "\n",
    "\n",
    "        if iteration_count == 0:\n",
    "            print(\"\\nРабота завершена\")\n",
    "            break\n",
    "\n",
    "\n",
    "        sleep(random.randrange(2, 4)) # Для симуляции работы реального пользователя, а не робота\n",
    "\n",
    "\n",
    "        count += 1\n",
    "\n",
    "    print(f'Общее число итераций: {iteration_count}')\n",
    "    iteration_count = iteration_count - 1\n",
    "    \n",
    "# Создаём третий файл в формате JSON, в который будем записывать данные в виде словаря\n",
    "# который весьма полезен и удобен для чтения (в дополнение к формату CSV)\n",
    "    with open('../data/processed/json/barrels_articles_svoy.json', 'a', encoding='utf-8') as file:\n",
    "        json.dump(articles_list, file, indent=4, ensure_ascii=False)\n",
    "\n",
    "\n",
    "# MAIN SCRIPT\n",
    "def main():\n",
    "    get_svoy()\n",
    "\n",
    "\n",
    "if __name__ == '__main__':\n",
    "    main()"
   ]
  },
  {
   "cell_type": "code",
   "execution_count": null,
   "metadata": {},
   "outputs": [],
   "source": []
  }
 ],
 "metadata": {
  "kernelspec": {
   "display_name": "Python 3 (ipykernel)",
   "language": "python",
   "name": "python3"
  },
  "language_info": {
   "codemirror_mode": {
    "name": "ipython",
    "version": 3
   },
   "file_extension": ".py",
   "mimetype": "text/x-python",
   "name": "python",
   "nbconvert_exporter": "python",
   "pygments_lexer": "ipython3",
   "version": "3.12.7"
  }
 },
 "nbformat": 4,
 "nbformat_minor": 4
}
