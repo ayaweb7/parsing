{
 "cells": [
  {
   "cell_type": "markdown",
   "id": "2f4f20e0-3fbc-4720-9f1d-924d30fefc80",
   "metadata": {},
   "source": [
    "# Алексей Куличевский"
   ]
  },
  {
   "cell_type": "markdown",
   "id": "ad7ccef1-e099-4e12-bb73-31f743546bd1",
   "metadata": {},
   "source": [
    "# Парсим сайты конкурентов с помощью Python | Часть 1 | Web Scraping Python"
   ]
  },
  {
   "cell_type": "markdown",
   "id": "e52c04c6-5135-4731-9ef2-181fe5aeae1a",
   "metadata": {},
   "source": [
    "#### https://youtu.be/fgFWo0sDApA?si=O871DBQnQnPRYdXp\n",
    "https://www.youtube.com/watch?v=fgFWo0sDApA&list=PL2PN33KbuWfx0lPNVUJbjD6y63hctbhn3&index=1&t=173s"
   ]
  },
  {
   "cell_type": "code",
   "execution_count": null,
   "id": "e676b5b4-2ad5-473b-b757-6c1fa42a686f",
   "metadata": {},
   "outputs": [],
   "source": [
    "# !pip install requests\n",
    "# !pip install beautifulsoup4"
   ]
  },
  {
   "cell_type": "code",
   "execution_count": 3,
   "id": "a95ed386-ed5c-412d-906e-44f9f93706d9",
   "metadata": {},
   "outputs": [],
   "source": [
    "# Подключаем библиотеку для поиска элементов кода на сайте !!!!!!!!!!!!!\n",
    "# Библиотека PYTHON для извлечения данных из файлов HTML и XML\n",
    "from bs4 import BeautifulSoup\n",
    "\n",
    "# Подключаем библиотеку для парсинга сайтов !!!!!!!!!!!!!\n",
    "import requests\n",
    "import json\n",
    "import csv\n",
    "import random\n",
    "from time import sleep\n",
    "from lxml import etree\n",
    "\n",
    "import pandas as pd"
   ]
  },
  {
   "cell_type": "markdown",
   "id": "644e4d8e-b144-4a9c-9df7-4afcabe28897",
   "metadata": {},
   "source": [
    "### Парсим первую страницу каталога"
   ]
  },
  {
   "cell_type": "code",
   "execution_count": 36,
   "id": "3bb80628-103e-4c6f-a41e-b3c3079951a8",
   "metadata": {},
   "outputs": [],
   "source": [
    "# Создаём переменные-КОНСТАНТЫ\n",
    "HOST = 'https://ryvok.ru'\n",
    "URL = 'https://ryvok.ru/instrumenty/shlifmashiny/'\n",
    "HEADERS = {\n",
    "    'accept': 'text/html,application/xhtml+xml,application/xml;q=0.9,image/avif,image/webp,image/apng,*/*;q=0.8,application/signed-exchange;v=b3;q=0.9',\n",
    "    'user-agent': 'Mozilla/5.0 (Windows NT 10.0; Win64; x64) AppleWebKit/537.36 (KHTML, like Gecko) Chrome/109.0.0.0 Safari/537.36'\n",
    "}\n",
    "CSV = 'catalog.csv'"
   ]
  },
  {
   "cell_type": "markdown",
   "id": "915ddfa3-bba4-4ad9-947e-bb79aa2c2386",
   "metadata": {},
   "source": [
    "### Чтобы отправить запрос на любой сайт:\n",
    "#### res = requests.get(URL)\n",
    "#### res.text"
   ]
  },
  {
   "cell_type": "markdown",
   "id": "8d2260c7-38ec-4d0c-a4a2-862e4d9eb0c0",
   "metadata": {},
   "source": [
    "### Ищем нужные элементы в коде с помощью:\n",
    "#### soup = BeautifulSoup(res.text, 'html')\n",
    "#### print(soup)"
   ]
  },
  {
   "cell_type": "markdown",
   "id": "f4aa3440-96aa-4826-912b-df0437cd6ad4",
   "metadata": {},
   "source": [
    "### Путь к папкам и файлам с данными - Path to folders and files with data\n",
    "\n",
    "#### ВНЕШНИЕ (скачанные) данные: ../data/external/(csv, html, json, xls)/file_name.*\n",
    "#### ВРЕМЕННЫЕ данные: ../data/interim/(csv, html, json, xls)/file_name.*\n",
    "#### ФИНАЛЬНЫЕ данные: ../data/processed/(csv, html, json, xls)/file_name.*"
   ]
  },
  {
   "cell_type": "code",
   "execution_count": 37,
   "id": "28f926df-c102-4e54-870d-b7de72d6aff1",
   "metadata": {},
   "outputs": [],
   "source": [
    "# Отправляем запрос на страницу, передаём в качестве GET-параметра URL-адрес\n",
    "# Сохраним нашу страницу в файл И ЗАКОММЕНТИРУЕМ ЭТУ КОМАНДУ за ненадобностью\n",
    "\n",
    "res = requests.get(url=URL, headers=HEADERS)\n",
    "src = res.text\n",
    "with open('../data/interim/html/index_tools_ryvok.html', 'w', encoding='utf-8') as file:\n",
    "    file.write(src)"
   ]
  },
  {
   "cell_type": "code",
   "execution_count": 38,
   "id": "0b5b20ca-224d-444d-af24-82bb603eedd9",
   "metadata": {},
   "outputs": [],
   "source": [
    "# Теперь откроем наш файл, прочитаем и сохраним код страницы в переменную:\n",
    "with open('../data/interim/html/index_tools_ryvok.html', encoding='utf-8') as file:\n",
    "    src = file.read()\n",
    "# print(src)"
   ]
  },
  {
   "cell_type": "code",
   "execution_count": null,
   "id": "e6c7bd3e-2970-4f44-a6de-62cdf7d61ec5",
   "metadata": {},
   "outputs": [],
   "source": [
    "# print(src)"
   ]
  },
  {
   "cell_type": "code",
   "execution_count": 30,
   "id": "5b1804f6-df81-44a4-85c6-68979baf135f",
   "metadata": {},
   "outputs": [],
   "source": [
    "# Отправляем запрос на страницу, передаём в качестве GET-параметра URL-адрес\n",
    "# r = requests.get(url=URL, headers=HEADERS)\n",
    "    \n",
    "# Создаём объект Супа с параметрами \n",
    "# soup = BeautifulSoup(r.text, 'lxml')\n",
    "# print(soup)\n",
    "\n",
    "# ПОКА НЕ ПОЛУЧИЛОСЬ СОХРАНИТЬ ПРАВИЛЬНУЮ СТРАНИЦУ HTML !!!!!!!!!!"
   ]
  },
  {
   "cell_type": "code",
   "execution_count": null,
   "id": "509ec725-6a03-463a-af3a-9b7040cc11e2",
   "metadata": {},
   "outputs": [],
   "source": [
    "# Создаём объект Супа с параметрами \n",
    "soup = BeautifulSoup(src, 'lxml')"
   ]
  },
  {
   "cell_type": "code",
   "execution_count": 42,
   "id": "fcbe3573-5a43-41e7-8161-968dda6b5ec1",
   "metadata": {},
   "outputs": [],
   "source": [
    "# Определяем DIV-ы с нужной инфой (заголовки статей)\n",
    "block = soup.find('div', class_='app-product-card__bottom')"
   ]
  },
  {
   "cell_type": "code",
   "execution_count": 43,
   "id": "2f469cb9-0514-4cca-983e-a552fff2231e",
   "metadata": {},
   "outputs": [
    {
     "name": "stdout",
     "output_type": "stream",
     "text": [
      "<div class=\"app-product-card__bottom\"><div class=\"app-product-card__code\"> Артикул 265-190156</div><div class=\"app-product-card__title\"><a href=\"/instrumenty/shlifmashiny/patriot-pg-160-6bar-shtucer-14/\" title=\"\">Пневмошлифмашина PATRIOT PG 160 6бар, штуцер 1/4</a></div><div class=\"app-product-card__subtitle\">Тип двигателя - пневматический  | Размер цанги - 3,6 мм | Макс. рабочее давление - 6 бар</div><div class=\"app-product-card__status_color-success app-product-card__status\"><div class=\"ui-tag ui-tag_color-gray-dark ui-tag_size-s ui-tag_type-default\" style=\"cursor:normal;\"><!--[-->В наличии <i class=\"icon-check\"></i><!--]--><!-- --></div></div><!-- --><div class=\"app-product-card__prices\"><div class=\"app-product-card__info\"><!--[--><div class=\"app-product-card__info-item\"><span>Тип двигателя:</span><div>пневматический </div></div><div class=\"app-product-card__info-item\"><span>Размер цанги:</span><div>3,6 мм</div></div><div class=\"app-product-card__info-item\"><span>Макс. рабочее давление:</span><div>6 бар</div></div><!--]--></div><div><div class=\"app-product-card__price-old price-crossout\" style=\"display:none;\">Цена по запросу</div><div class=\"app-product-card__price\">2 090 ₽</div></div><span></span></div><!-- --><div class=\"app-product-card__actions\"><!--[--><!--[--><div class=\"app-buy-product__line0\"><!-- --></div><div class=\"app-buy-product__line1\"><div class=\"ui-btn-cart bordered transparent\" style=\"\"><div class=\"block loader\"></div><a class=\"ui-btn-cart__hidden-link\" href=\"/#add-to-cart\" title=\"Добавить в корзину\"></a><div class=\"\"><div class=\"ui-btn-cart__btn\"><button aria-label=\"-FAfdgbhWRYv-8BkO1NBZ-label\" class=\"ui-btn ui-btn--type-flat ui-btn--size-m ui-btn--color-accent ui-btn--direction-row\" id=\"-FAfdgbhWRYv-8BkO1NBZ\"><!-- --><!--[--><!--[--> В корзину <!--]--><!--]--><!-- --></button></div></div></div><span></span><!-- --></div><div class=\"app-buy-product__line2\"><!-- --><span></span></div><!--]--><!--]--></div></div>\n"
     ]
    }
   ],
   "source": [
    "print(block)"
   ]
  },
  {
   "cell_type": "code",
   "execution_count": 44,
   "id": "0b109dec-25cc-4a6b-a3e3-3967f5da5d4c",
   "metadata": {},
   "outputs": [
    {
     "data": {
      "text/plain": [
       "[' Артикул 265-190156',\n",
       " 'Пневмошлифмашина PATRIOT PG 160 6бар, штуцер 1/4',\n",
       " 'Тип двигателя - пневматический  | Размер цанги - 3,6 мм | Макс. рабочее давление - 6 бар',\n",
       " 'В наличии ',\n",
       " '',\n",
       " 'Тип двигателя:пневматический Размер цанги:3,6 ммМакс. рабочее давление:6 барЦена по запросу2\\xa0090 ₽',\n",
       " '',\n",
       " ' В корзину ']"
      ]
     },
     "execution_count": 44,
     "metadata": {},
     "output_type": "execute_result"
    }
   ],
   "source": [
    "# Чтобы извлечь из блока текст\n",
    "[x.text for x in block]"
   ]
  },
  {
   "cell_type": "code",
   "execution_count": 48,
   "id": "94238777-7462-45ba-8810-f090d69ecdb3",
   "metadata": {},
   "outputs": [],
   "source": [
    "# Создаём объект Супа с параметрами \n",
    "# soup = BeautifulSoup(src, 'lxml')\n",
    "\n",
    "# Определяем DIV-ы с нужной инфой (наименования товаров)\n",
    "title = soup.find_all('div', class_='app-product-card__title')"
   ]
  },
  {
   "cell_type": "code",
   "execution_count": 49,
   "id": "b6ca092d-6e66-4af7-bd6a-3e3d1c8bcf35",
   "metadata": {},
   "outputs": [
    {
     "name": "stdout",
     "output_type": "stream",
     "text": [
      "[<div class=\"app-product-card__title\"><a href=\"/instrumenty/shlifmashiny/patriot-pg-160-6bar-shtucer-14/\" title=\"\">Пневмошлифмашина PATRIOT PG 160 6бар, штуцер 1/4</a></div>, <div class=\"app-product-card__title\"><a href=\"/instrumenty/shlifmashiny/bort-bs-155/\" title=\"\">Машина шлифовальная вибрационная BORT BS-155</a></div>, <div class=\"app-product-card__title\"><a href=\"/instrumenty/shlifmashiny/pegas-pneumatic-1802-10-shlif-kamney-1802/\" title=\"\">Прямая шлифмашина Pegas pneumatic + 10 шлиф камней 1802</a></div>, <div class=\"app-product-card__title\"><a href=\"/instrumenty/shlifmashiny/kolner-125750/\" title=\"\">Угловая шлифовальная машина KOLNER KAG 125/750</a></div>, <div class=\"app-product-card__title\"><a href=\"/instrumenty/shlifmashiny/kolner-115500/\" title=\"\">Угловая шлифовальная машина KOLNER KAG 115/500M</a></div>, <div class=\"app-product-card__title\"><a href=\"/instrumenty/shlifmashiny/fubag-gl25000-103-lmin-6bar-25000obmin-nabor/\" title=\"\">Пневмошлифмашина прямая Fubag GL25000 (103 л/мин 6бар 25000об/мин) + набор</a></div>, <div class=\"app-product-card__title\"><a href=\"/instrumenty/shlifmashiny/pobeda-ushm1251175-korobka/\" title=\"\">Машина углошлифовальная ПОБЕДА УШМ-125/1175 (коробка)</a></div>, <div class=\"app-product-card__title\"><a href=\"/instrumenty/shlifmashiny/fubag-gl25000-103-lmin-6bar-25000obmin-nabor-keys/\" title=\"\">Пневмошлифмашина прямая Fubag GL25000 (103 л/мин 6бар 25000об/мин) + набор кейс</a></div>, <div class=\"app-product-card__title\"><a href=\"/instrumenty/shlifmashiny/villager-agm-ag-650-115-650-vt-115-mm-12500-obmin/\" title=\"\">Угловая шлифовальная машинка (УШМ) AGM AG 650-115 / 650 Вт. 115 мм. 12500 об/мин</a></div>, <div class=\"app-product-card__title\"><a href=\"/instrumenty/shlifmashiny/energomash-ushm-125/\" title=\"\">Болгарка (УШМ) Энергомаш УШМ-125</a></div>, <div class=\"app-product-card__title\"><a href=\"/instrumenty/shlifmashiny/soyuz-ushs-9010/\" title=\"\">Болгарка (УШМ) СОЮЗ УШС-9010</a></div>, <div class=\"app-product-card__title\"><a href=\"/instrumenty/shlifmashiny/hammer-osm260a-260vt-diametr-125mm-12000obmin/\" title=\"\">Шлифмашина эксцентриковая орбитальная Hammer OSM260A 260Вт диаметр 125мм 12000об/мин</a></div>, <div class=\"app-product-card__title\"><a href=\"/instrumenty/shlifmashiny/patriot-ag-131/\" title=\"\">Машина углошлифовальная PATRIOT AG 131</a></div>, <div class=\"app-product-card__title\"><a href=\"/instrumenty/shlifmashiny/denzel-vds-2-130-vt-14000-obmin/\" title=\"\">Машина плоскошлифовальная вибрационная 2 в 1 Denzel VDS-2, 130 Вт, 14000 об/мин</a></div>, <div class=\"app-product-card__title\"><a href=\"/instrumenty/shlifmashiny/klpro-ke75115at-750-vt/\" title=\"\">Шлифовальная машина угловая KLeco KE75115AT (750 Вт)</a></div>, <div class=\"app-product-card__title\"><a href=\"/instrumenty/shlifmashiny/energomash-ushm-115/\" title=\"\">Болгарка (УШМ) Энергомаш УШМ-115</a></div>, <div class=\"app-product-card__title\"><a href=\"/instrumenty/shlifmashiny/patriot-os-100/\" title=\"\">Машина плоскошлифовальная Patriot OS 100</a></div>, <div class=\"app-product-card__title\"><a href=\"/instrumenty/shlifmashiny/denzel-vs-90-187-240-vt-6000-11000-obmin/\" title=\"\">Машина плоскошлифовальная вибрационная Denzel VS-90-187, 240 Вт, 6000-11000 об/мин</a></div>, <div class=\"app-product-card__title\"><a href=\"/instrumenty/shlifmashiny/villager-vln-7120/\" title=\"\">Аккумуляторная вибрационная дельта шлифовальная машина Villager VLN 7120</a></div>, <div class=\"app-product-card__title\"><a href=\"/instrumenty/shlifmashiny/alteco-heavy-duty-agh-850-125/\" title=\"\">Угловая шлифмашина ALTECO HEAVY DUTY AGH 850-125</a></div>, <div class=\"app-product-card__title\"><a href=\"/instrumenty/shlifmashiny/alteco-sn-240-4/\" title=\"\">Виброшлифмашина ALTECO SN 240-4</a></div>, <div class=\"app-product-card__title\"><a href=\"/instrumenty/shlifmashiny/kolner-125950/\" title=\"\">Угловая шлифовальная машина KOLNER KAG 125/950</a></div>, <div class=\"app-product-card__title\"><a href=\"/instrumenty/shlifmashiny/patriot-os-105/\" title=\"\">Машина плоскошлифовальная Patriot OS 105</a></div>, <div class=\"app-product-card__title\"><a href=\"/instrumenty/shlifmashiny/sturm-os8025/\" title=\"\">Вибрационная шлифовальная машина Sturm OS8025</a></div>, <div class=\"app-product-card__title\"><a href=\"/instrumenty/shlifmashiny/klpro-ke90125at-900-vt/\" title=\"\">Шлифовальная машина угловая с регулируемой скоростью KLeco KE90125AT (900 Вт)</a></div>, <div class=\"app-product-card__title\"><a href=\"/instrumenty/shlifmashiny/alteco-ag-1300-125/\" title=\"\">Угловая шлифмашина ALTECO AG 1300-125</a></div>, <div class=\"app-product-card__title\"><a href=\"/instrumenty/shlifmashiny/patriot-os-122/\" title=\"\">Машина шлифовальная эксцентриковая PATRIOT OS 122</a></div>, <div class=\"app-product-card__title\"><a href=\"/instrumenty/shlifmashiny/foxweld-63-150/\" title=\"\">Пневмошлифмашина эксцентриковая FoxWeld 6,3 / 150</a></div>, <div class=\"app-product-card__title\"><a href=\"/instrumenty/shlifmashiny/denzel-agh125-900-900-vt-125-mm-11000-obmin/\" title=\"\">Машина шлифовальная угловая Denzel AGH125-900, 900 Вт, 125 мм, 11000 об/мин</a></div>, <div class=\"app-product-card__title\"><a href=\"/instrumenty/shlifmashiny/villager-vln-125/\" title=\"\">Вибрационная дельта шлифовальная машина Villager VLN 125</a></div>, <div class=\"app-product-card__title\"><a href=\"/instrumenty/shlifmashiny/sturm-au-1731-04/\" title=\"\">Пневматическая шлифовальная машина орбитальная, 150 мм, 12000 об/мин Sturm!</a></div>, <div class=\"app-product-card__title\"><a href=\"/instrumenty/shlifmashiny/sturm-os8032/\" title=\"\">Вибрационная шлифовальная машина Sturm! OS8032</a></div>]\n"
     ]
    }
   ],
   "source": [
    "print(title)"
   ]
  },
  {
   "cell_type": "code",
   "execution_count": 51,
   "id": "6464955d-2fa3-4902-a9a4-dc927ae49fa8",
   "metadata": {},
   "outputs": [
    {
     "data": {
      "text/plain": [
       "['Пневмошлифмашина PATRIOT PG 160 6бар, штуцер 1/4',\n",
       " 'Машина шлифовальная вибрационная BORT BS-155',\n",
       " 'Прямая шлифмашина Pegas pneumatic + 10 шлиф камней 1802',\n",
       " 'Угловая шлифовальная машина KOLNER KAG 125/750',\n",
       " 'Угловая шлифовальная машина KOLNER KAG 115/500M',\n",
       " 'Пневмошлифмашина прямая Fubag GL25000 (103 л/мин 6бар 25000об/мин) + набор',\n",
       " 'Машина углошлифовальная ПОБЕДА УШМ-125/1175 (коробка)',\n",
       " 'Пневмошлифмашина прямая Fubag GL25000 (103 л/мин 6бар 25000об/мин) + набор кейс',\n",
       " 'Угловая шлифовальная машинка (УШМ) AGM AG 650-115 / 650 Вт. 115 мм. 12500 об/мин',\n",
       " 'Болгарка (УШМ) Энергомаш УШМ-125',\n",
       " 'Болгарка (УШМ) СОЮЗ УШС-9010',\n",
       " 'Шлифмашина эксцентриковая орбитальная Hammer OSM260A 260Вт диаметр 125мм 12000об/мин',\n",
       " 'Машина углошлифовальная PATRIOT AG 131',\n",
       " 'Машина плоскошлифовальная вибрационная 2 в 1 Denzel VDS-2, 130 Вт, 14000 об/мин',\n",
       " 'Шлифовальная машина угловая KLeco KE75115AT (750 Вт)',\n",
       " 'Болгарка (УШМ) Энергомаш УШМ-115',\n",
       " 'Машина плоскошлифовальная Patriot OS 100',\n",
       " 'Машина плоскошлифовальная вибрационная Denzel VS-90-187, 240 Вт, 6000-11000 об/мин',\n",
       " 'Аккумуляторная вибрационная дельта шлифовальная машина Villager VLN 7120',\n",
       " 'Угловая шлифмашина ALTECO HEAVY DUTY AGH 850-125',\n",
       " 'Виброшлифмашина ALTECO SN 240-4',\n",
       " 'Угловая шлифовальная машина KOLNER KAG 125/950',\n",
       " 'Машина плоскошлифовальная Patriot OS 105',\n",
       " 'Вибрационная шлифовальная машина Sturm OS8025',\n",
       " 'Шлифовальная машина угловая с регулируемой скоростью KLeco KE90125AT (900 Вт)',\n",
       " 'Угловая шлифмашина ALTECO AG 1300-125',\n",
       " 'Машина шлифовальная эксцентриковая PATRIOT OS 122',\n",
       " 'Пневмошлифмашина эксцентриковая FoxWeld 6,3 / 150',\n",
       " 'Машина шлифовальная угловая Denzel AGH125-900, 900 Вт, 125 мм, 11000 об/мин',\n",
       " 'Вибрационная дельта шлифовальная машина Villager VLN 125',\n",
       " 'Пневматическая шлифовальная машина орбитальная, 150 мм, 12000 об/мин Sturm!',\n",
       " 'Вибрационная шлифовальная машина Sturm! OS8032']"
      ]
     },
     "execution_count": 51,
     "metadata": {},
     "output_type": "execute_result"
    }
   ],
   "source": [
    "# Чтобы извлечь из блока текст\n",
    "titles = [x.text for x in title]\n",
    "titles"
   ]
  },
  {
   "cell_type": "code",
   "execution_count": 69,
   "id": "91cc9881-9ae0-4238-9602-52961ff96c28",
   "metadata": {},
   "outputs": [
    {
     "data": {
      "text/plain": [
       "'Тип двигателя - пневматический ; Размер цанги - 3,6 мм; Макс. рабочее давление - 6 бар'"
      ]
     },
     "execution_count": 69,
     "metadata": {},
     "output_type": "execute_result"
    }
   ],
   "source": [
    "# Определяем DIV-ы с нужной инфой (краткое описание товаров - подзаголовки)\n",
    "subtitle = soup.find_all('div', class_='app-product-card__subtitle')\n",
    "subtitle[0].text.replace(' | ', '; ')"
   ]
  },
  {
   "cell_type": "code",
   "execution_count": 55,
   "id": "d2589397-9b52-47c3-aa28-71b682490625",
   "metadata": {},
   "outputs": [
    {
     "data": {
      "text/plain": [
       "['Тип двигателя - пневматический  | Размер цанги - 3,6 мм | Макс. рабочее давление - 6 бар',\n",
       " 'Мощность - 0,15 кВт | Размер абразивной бумаги - 104х110 мм | Частота колебаний - 10000 кол/мин',\n",
       " 'Тип двигателя - пневматический  | Рабочее давление - 3,99 атм | Воздушный штуцер - 1/4 дюйма | Частота вращения - 22000 об/мин',\n",
       " 'Мощность - 0,75 кВт | Диаметр диска/чашки - 125 мм | Частота вращения - 12000 об/мин',\n",
       " 'Мощность - 0,5 кВт | Диаметр диска/чашки - 115 мм | Частота вращения - 12000 об/мин',\n",
       " 'Тип двигателя - пневматический  | Частота вращения - 25000 об/мин',\n",
       " 'Мощность - 1,175 кВт | Диаметр диска/чашки - 125 мм',\n",
       " 'Тип двигателя - пневматический  | Частота вращения - 25000 об/мин',\n",
       " 'Тип двигателя - электрический (220 В)  | Мощность - 0,65 кВт | Cкорость холостого хода - 12500 об/мин | Диаметр диска/чашки - 115 мм',\n",
       " 'Мощность - 1 кВт | Частота вращения - 11000 об/мин | Диаметр диска/чашки - 125 мм | Тип двигателя - электрический (220 В) ',\n",
       " 'Тип двигателя - электрический (220 В)  | Частота вращения - 11000 об/мин | Диаметр диска/чашки - 125 мм',\n",
       " 'Мощность - 0,26 кВт | Диаметр диска/чашки - 125 мм | Принцип работы - эксцентриковая (орбитальная)  | Частота вращения - 12000 об/мин',\n",
       " 'Мощность - 0,875 кВт | Диаметр диска - 125 мм',\n",
       " 'Тип двигателя - электрический (220 В)  | Мощность - 0,13 кВт | Частота вращения - 14000 об/мин | Частота колебаний подошвы - 14000 кол/мин',\n",
       " 'Тип двигателя - электрический (220 В)  | Мощность - 0,75 кВт | Диаметр диска/чашки - 115 мм | Частота вращения - 12000 об/мин',\n",
       " 'Тип двигателя - электрический (220 В)  | Мощность - 0,7 кВт | Частота вращения - 11000 об/мин | Диаметр диска/чашки - 115 мм',\n",
       " 'Мощность - 0,13 кВт | Размер платформы - 140х80 мм',\n",
       " 'Тип двигателя - электрический (220 В)  | Мощность - 0,24 кВт | Частота вращения - 6000-11000 об/мин | Размер подошвы - 90х187 мм',\n",
       " 'Cкорость холостого хода - 11000 об/мин | Тип аккумулятора - литий-ионный  | Напряжение - 18В  | Размер площадки - 135x135x95 мм',\n",
       " 'Тип двигателя - электрический (220 В)  | Мощность - 0,85 кВт | Диаметр диска/чашки - 125 мм | Частота вращения - 11000 об/мин',\n",
       " 'Тип двигателя - электрический (220 В)  | Мощность - 0,24 кВт | Частота колебаний - 7000-12000 кол/мин | Амплитуда колебаний - 1,8 мм',\n",
       " 'Мощность - 0,95 кВт | Диаметр диска/чашки - 125 мм | Частота вращения - 12000 об/мин',\n",
       " 'Мощность - 0,24 кВт | Размер платформы - 104х112 мм',\n",
       " 'Тип двигателя - электрический (220 В)  | Мощность - 0,25 кВт',\n",
       " 'Тип двигателя - электрический (220 В)  | Мощность - 0,9 кВт | Диаметр диска/чашки - 125 мм | Частота вращения - 3000-11000 об/мин',\n",
       " 'Тип двигателя - электрический (220 В)  | Мощность - 1,2 кВт | Диаметр диска/чашки - 125 мм | Частота вращения - 9000 об/мин',\n",
       " 'Мощность - 0,3 кВт | Диаметр диска/чашки - 125 мм',\n",
       " 'Тип двигателя - пневматический  | Диаметр диска/чашки - 150 мм | Частота вращения - 10000\\xa0 \\xa0 об/мин',\n",
       " 'Тип двигателя - электрический (220 В)  | Мощность - 0,9 кВт | Частота вращения - 11000 об/мин | Диаметр диска/чашки - 125 мм',\n",
       " 'Cкорость холостого хода - 13500 об/мин | Мощность - 0,125 кВт | Рабочая поверхность - 140x140x80 мм | Тип двигателя - электрический (220 В) ',\n",
       " 'Тип двигателя - пневматический  | Диаметр диска/чашки - 150 мм | Частота вращения - 12000 об/мин | Рабочее давление - 6,3 атм',\n",
       " 'Тип двигателя - электрический (220 В)  | Мощность - 0,32 кВт | Размеры шлифовальной подошвы - 104х112 мм']"
      ]
     },
     "execution_count": 55,
     "metadata": {},
     "output_type": "execute_result"
    }
   ],
   "source": [
    "# Чтобы извлечь из блока текст\n",
    "subtitles = [x.text for x in subtitle]\n",
    "subtitles"
   ]
  },
  {
   "cell_type": "code",
   "execution_count": null,
   "id": "570fae24-e38c-4539-8589-939089acc3c3",
   "metadata": {},
   "outputs": [],
   "source": []
  },
  {
   "cell_type": "code",
   "execution_count": 61,
   "id": "14122968-0e10-4b49-829a-95823d7f699c",
   "metadata": {},
   "outputs": [
    {
     "data": {
      "text/plain": [
       "'В наличии'"
      ]
     },
     "execution_count": 61,
     "metadata": {},
     "output_type": "execute_result"
    }
   ],
   "source": [
    "# Определяем DIV-ы с нужной инфой (статус товара - в наличии или нет)\n",
    "status = soup.find_all('div', class_='app-product-card__status')\n",
    "status[0].text.strip()"
   ]
  },
  {
   "cell_type": "code",
   "execution_count": 63,
   "id": "be18668e-0816-45e9-af18-38e431ab5c00",
   "metadata": {},
   "outputs": [
    {
     "data": {
      "text/plain": [
       "['В наличии',\n",
       " 'В наличии',\n",
       " 'В наличии',\n",
       " 'В наличии',\n",
       " 'В наличии',\n",
       " 'В наличии',\n",
       " 'В наличии',\n",
       " 'В наличии',\n",
       " 'В наличии',\n",
       " 'В наличии',\n",
       " 'В наличии',\n",
       " 'В наличии',\n",
       " 'В наличии',\n",
       " 'В наличии',\n",
       " 'В наличии',\n",
       " 'В наличии',\n",
       " 'В наличии',\n",
       " 'В наличии',\n",
       " 'В наличии',\n",
       " 'В наличии',\n",
       " 'В наличии',\n",
       " 'В наличии',\n",
       " 'В наличии',\n",
       " 'В наличии',\n",
       " 'В наличии',\n",
       " 'В наличии',\n",
       " 'В наличии',\n",
       " 'В наличии',\n",
       " 'В наличии',\n",
       " 'В наличии',\n",
       " 'В наличии',\n",
       " 'В наличии']"
      ]
     },
     "execution_count": 63,
     "metadata": {},
     "output_type": "execute_result"
    }
   ],
   "source": [
    "# Чтобы извлечь из блока текст и убрать пробелы вначале и в конце\n",
    "statuses = [x.text.strip() for x in status]\n",
    "statuses"
   ]
  },
  {
   "cell_type": "code",
   "execution_count": 73,
   "id": "f7afe7f1-afb5-4be9-981e-4ec2d94ea4c0",
   "metadata": {},
   "outputs": [
    {
     "data": {
      "text/plain": [
       "'2090'"
      ]
     },
     "execution_count": 73,
     "metadata": {},
     "output_type": "execute_result"
    }
   ],
   "source": [
    "# Определяем DIV-ы с нужной инфой (цена товара)\n",
    "price = soup.find_all('div', class_='app-product-card__price')\n",
    "price[0].text.replace('\\xa0', '').replace(' ₽', '')"
   ]
  },
  {
   "cell_type": "code",
   "execution_count": 67,
   "id": "8c71ba3d-1027-424b-8a0f-e04032838866",
   "metadata": {},
   "outputs": [
    {
     "data": {
      "text/plain": [
       "['2\\xa0090 ₽',\n",
       " '2\\xa0500 ₽',\n",
       " '2\\xa0525 ₽',\n",
       " '2\\xa0690 ₽',\n",
       " '2\\xa0890 ₽',\n",
       " '2\\xa0980 ₽',\n",
       " '3\\xa0190 ₽',\n",
       " '3\\xa0210 ₽',\n",
       " '3\\xa0220 ₽',\n",
       " '3\\xa0250 ₽',\n",
       " '3\\xa0250 ₽',\n",
       " '3\\xa0290 ₽',\n",
       " '3\\xa0290 ₽',\n",
       " '3\\xa0302 ₽',\n",
       " '3\\xa0330 ₽',\n",
       " '3\\xa0390 ₽',\n",
       " '3\\xa0390 ₽',\n",
       " '3\\xa0410 ₽',\n",
       " '3\\xa0522 ₽',\n",
       " '3\\xa0560 ₽',\n",
       " '3\\xa0590 ₽',\n",
       " '3\\xa0650 ₽',\n",
       " '3\\xa0690 ₽',\n",
       " '3\\xa0790 ₽',\n",
       " '3\\xa0800 ₽',\n",
       " '3\\xa0890 ₽',\n",
       " '3\\xa0890 ₽',\n",
       " '3\\xa0900 ₽',\n",
       " '3\\xa0904 ₽',\n",
       " '3\\xa0905 ₽',\n",
       " '3\\xa0910 ₽',\n",
       " '3\\xa0990 ₽']"
      ]
     },
     "execution_count": 67,
     "metadata": {},
     "output_type": "execute_result"
    }
   ],
   "source": [
    "# Чтобы извлечь из блока текст\n",
    "prices = [x.text for x in price]\n",
    "prices"
   ]
  },
  {
   "cell_type": "code",
   "execution_count": 75,
   "id": "052a9290-7f3e-4508-b4c5-c43fd1916a5f",
   "metadata": {},
   "outputs": [
    {
     "data": {
      "text/plain": [
       "'Лучшая цена Артикул 265-190156Пневмошлифмашина PATRIOT PG 160 6бар, штуцер 1/4Тип двигателя - пневматический  | Размер цанги - 3,6 мм | Макс. рабочее давление - 6 барВ наличии Тип двигателя:пневматический Размер цанги:3,6 ммМакс. рабочее давление:6 барЦена по запросу2\\xa0090 ₽ В корзину '"
      ]
     },
     "execution_count": 75,
     "metadata": {},
     "output_type": "execute_result"
    }
   ],
   "source": [
    "# Определяем блок - общий для всех интересующих элементов, для уверенности, что все элементы принадлежат к одному блоку\n",
    "elements = soup.find_all('div', class_='app-product-card__wrap')\n",
    "elements[0].text"
   ]
  },
  {
   "cell_type": "code",
   "execution_count": null,
   "id": "ecc41be6-0185-413d-9fff-9c961f4b2e3e",
   "metadata": {},
   "outputs": [],
   "source": [
    "# Все элементы определяем из одного общего блока\n",
    "title = elements[0].find('div', class_='app-product-card__title').text\n",
    "subtitle = elements[0].find('div', class_='app-product-card__subtitle').text.replace(' | ', '; ')\n",
    "status = elements[0].find('div', class_='app-product-card__status').text.strip()\n",
    "price = elements[0].find('div', class_='app-product-card__price').text.replace('\\xa0', '').replace(' ₽', '')"
   ]
  },
  {
   "cell_type": "code",
   "execution_count": 77,
   "id": "2b510bbc-8ddd-4e5a-a98e-839732218598",
   "metadata": {},
   "outputs": [],
   "source": [
    "# Преобразуем всё в один объект через цикл и словарь\n",
    "data = []\n",
    "\n",
    "for e in elements:\n",
    "    data.append({\n",
    "        'title': e.find('div', class_='app-product-card__title').text,\n",
    "        'subtitle': e.find('div', class_='app-product-card__subtitle').text.replace(' | ', '; '),\n",
    "        'status': e.find('div', class_='app-product-card__status').text.strip(),\n",
    "        'price': e.find('div', class_='app-product-card__price').text.replace('\\xa0', '').replace(' ₽', '')\n",
    "    })"
   ]
  },
  {
   "cell_type": "code",
   "execution_count": 84,
   "id": "c4b96367-282a-4d60-ad32-8ee6feafbdba",
   "metadata": {},
   "outputs": [
    {
     "data": {
      "text/plain": [
       "[{'title': 'Пневмошлифмашина PATRIOT PG 160 6бар, штуцер 1/4',\n",
       "  'subtitle': 'Тип двигателя - пневматический ; Размер цанги - 3,6 мм; Макс. рабочее давление - 6 бар',\n",
       "  'status': 'В наличии',\n",
       "  'price': '2090'},\n",
       " {'title': 'Машина шлифовальная вибрационная BORT BS-155',\n",
       "  'subtitle': 'Мощность - 0,15 кВт; Размер абразивной бумаги - 104х110 мм; Частота колебаний - 10000 кол/мин',\n",
       "  'status': 'В наличии',\n",
       "  'price': '2500'},\n",
       " {'title': 'Прямая шлифмашина Pegas pneumatic + 10 шлиф камней 1802',\n",
       "  'subtitle': 'Тип двигателя - пневматический ; Рабочее давление - 3,99 атм; Воздушный штуцер - 1/4 дюйма; Частота вращения - 22000 об/мин',\n",
       "  'status': 'В наличии',\n",
       "  'price': '2525'},\n",
       " {'title': 'Угловая шлифовальная машина KOLNER KAG 125/750',\n",
       "  'subtitle': 'Мощность - 0,75 кВт; Диаметр диска/чашки - 125 мм; Частота вращения - 12000 об/мин',\n",
       "  'status': 'В наличии',\n",
       "  'price': '2690'},\n",
       " {'title': 'Угловая шлифовальная машина KOLNER KAG 115/500M',\n",
       "  'subtitle': 'Мощность - 0,5 кВт; Диаметр диска/чашки - 115 мм; Частота вращения - 12000 об/мин',\n",
       "  'status': 'В наличии',\n",
       "  'price': '2890'},\n",
       " {'title': 'Пневмошлифмашина прямая Fubag GL25000 (103 л/мин 6бар 25000об/мин) + набор',\n",
       "  'subtitle': 'Тип двигателя - пневматический ; Частота вращения - 25000 об/мин',\n",
       "  'status': 'В наличии',\n",
       "  'price': '2980'},\n",
       " {'title': 'Машина углошлифовальная ПОБЕДА УШМ-125/1175 (коробка)',\n",
       "  'subtitle': 'Мощность - 1,175 кВт; Диаметр диска/чашки - 125 мм',\n",
       "  'status': 'В наличии',\n",
       "  'price': '3190'},\n",
       " {'title': 'Пневмошлифмашина прямая Fubag GL25000 (103 л/мин 6бар 25000об/мин) + набор кейс',\n",
       "  'subtitle': 'Тип двигателя - пневматический ; Частота вращения - 25000 об/мин',\n",
       "  'status': 'В наличии',\n",
       "  'price': '3210'},\n",
       " {'title': 'Угловая шлифовальная машинка (УШМ) AGM AG 650-115 / 650 Вт. 115 мм. 12500 об/мин',\n",
       "  'subtitle': 'Тип двигателя - электрический (220 В) ; Мощность - 0,65 кВт; Cкорость холостого хода - 12500 об/мин; Диаметр диска/чашки - 115 мм',\n",
       "  'status': 'В наличии',\n",
       "  'price': '3220'},\n",
       " {'title': 'Болгарка (УШМ) Энергомаш УШМ-125',\n",
       "  'subtitle': 'Мощность - 1 кВт; Частота вращения - 11000 об/мин; Диаметр диска/чашки - 125 мм; Тип двигателя - электрический (220 В) ',\n",
       "  'status': 'В наличии',\n",
       "  'price': '3250'},\n",
       " {'title': 'Болгарка (УШМ) СОЮЗ УШС-9010',\n",
       "  'subtitle': 'Тип двигателя - электрический (220 В) ; Частота вращения - 11000 об/мин; Диаметр диска/чашки - 125 мм',\n",
       "  'status': 'В наличии',\n",
       "  'price': '3250'},\n",
       " {'title': 'Шлифмашина эксцентриковая орбитальная Hammer OSM260A 260Вт диаметр 125мм 12000об/мин',\n",
       "  'subtitle': 'Мощность - 0,26 кВт; Диаметр диска/чашки - 125 мм; Принцип работы - эксцентриковая (орбитальная) ; Частота вращения - 12000 об/мин',\n",
       "  'status': 'В наличии',\n",
       "  'price': '3290'},\n",
       " {'title': 'Машина углошлифовальная PATRIOT AG 131',\n",
       "  'subtitle': 'Мощность - 0,875 кВт; Диаметр диска - 125 мм',\n",
       "  'status': 'В наличии',\n",
       "  'price': '3290'},\n",
       " {'title': 'Машина плоскошлифовальная вибрационная 2 в 1 Denzel VDS-2, 130 Вт, 14000 об/мин',\n",
       "  'subtitle': 'Тип двигателя - электрический (220 В) ; Мощность - 0,13 кВт; Частота вращения - 14000 об/мин; Частота колебаний подошвы - 14000 кол/мин',\n",
       "  'status': 'В наличии',\n",
       "  'price': '3302'},\n",
       " {'title': 'Шлифовальная машина угловая KLeco KE75115AT (750 Вт)',\n",
       "  'subtitle': 'Тип двигателя - электрический (220 В) ; Мощность - 0,75 кВт; Диаметр диска/чашки - 115 мм; Частота вращения - 12000 об/мин',\n",
       "  'status': 'В наличии',\n",
       "  'price': '3330'},\n",
       " {'title': 'Болгарка (УШМ) Энергомаш УШМ-115',\n",
       "  'subtitle': 'Тип двигателя - электрический (220 В) ; Мощность - 0,7 кВт; Частота вращения - 11000 об/мин; Диаметр диска/чашки - 115 мм',\n",
       "  'status': 'В наличии',\n",
       "  'price': '3390'},\n",
       " {'title': 'Машина плоскошлифовальная Patriot OS 100',\n",
       "  'subtitle': 'Мощность - 0,13 кВт; Размер платформы - 140х80 мм',\n",
       "  'status': 'В наличии',\n",
       "  'price': '3390'},\n",
       " {'title': 'Машина плоскошлифовальная вибрационная Denzel VS-90-187, 240 Вт, 6000-11000 об/мин',\n",
       "  'subtitle': 'Тип двигателя - электрический (220 В) ; Мощность - 0,24 кВт; Частота вращения - 6000-11000 об/мин; Размер подошвы - 90х187 мм',\n",
       "  'status': 'В наличии',\n",
       "  'price': '3410'},\n",
       " {'title': 'Аккумуляторная вибрационная дельта шлифовальная машина Villager VLN 7120',\n",
       "  'subtitle': 'Cкорость холостого хода - 11000 об/мин; Тип аккумулятора - литий-ионный ; Напряжение - 18В ; Размер площадки - 135x135x95 мм',\n",
       "  'status': 'В наличии',\n",
       "  'price': '3522'},\n",
       " {'title': 'Угловая шлифмашина ALTECO HEAVY DUTY AGH 850-125',\n",
       "  'subtitle': 'Тип двигателя - электрический (220 В) ; Мощность - 0,85 кВт; Диаметр диска/чашки - 125 мм; Частота вращения - 11000 об/мин',\n",
       "  'status': 'В наличии',\n",
       "  'price': '3560'},\n",
       " {'title': 'Виброшлифмашина ALTECO SN 240-4',\n",
       "  'subtitle': 'Тип двигателя - электрический (220 В) ; Мощность - 0,24 кВт; Частота колебаний - 7000-12000 кол/мин; Амплитуда колебаний - 1,8 мм',\n",
       "  'status': 'В наличии',\n",
       "  'price': '3590'},\n",
       " {'title': 'Угловая шлифовальная машина KOLNER KAG 125/950',\n",
       "  'subtitle': 'Мощность - 0,95 кВт; Диаметр диска/чашки - 125 мм; Частота вращения - 12000 об/мин',\n",
       "  'status': 'В наличии',\n",
       "  'price': '3650'},\n",
       " {'title': 'Машина плоскошлифовальная Patriot OS 105',\n",
       "  'subtitle': 'Мощность - 0,24 кВт; Размер платформы - 104х112 мм',\n",
       "  'status': 'В наличии',\n",
       "  'price': '3690'},\n",
       " {'title': 'Вибрационная шлифовальная машина Sturm OS8025',\n",
       "  'subtitle': 'Тип двигателя - электрический (220 В) ; Мощность - 0,25 кВт',\n",
       "  'status': 'В наличии',\n",
       "  'price': '3790'},\n",
       " {'title': 'Шлифовальная машина угловая с регулируемой скоростью KLeco KE90125AT (900 Вт)',\n",
       "  'subtitle': 'Тип двигателя - электрический (220 В) ; Мощность - 0,9 кВт; Диаметр диска/чашки - 125 мм; Частота вращения - 3000-11000 об/мин',\n",
       "  'status': 'В наличии',\n",
       "  'price': '3800'},\n",
       " {'title': 'Угловая шлифмашина ALTECO AG 1300-125',\n",
       "  'subtitle': 'Тип двигателя - электрический (220 В) ; Мощность - 1,2 кВт; Диаметр диска/чашки - 125 мм; Частота вращения - 9000 об/мин',\n",
       "  'status': 'В наличии',\n",
       "  'price': '3890'},\n",
       " {'title': 'Машина шлифовальная эксцентриковая PATRIOT OS 122',\n",
       "  'subtitle': 'Мощность - 0,3 кВт; Диаметр диска/чашки - 125 мм',\n",
       "  'status': 'В наличии',\n",
       "  'price': '3890'},\n",
       " {'title': 'Пневмошлифмашина эксцентриковая FoxWeld 6,3 / 150',\n",
       "  'subtitle': 'Тип двигателя - пневматический ; Диаметр диска/чашки - 150 мм; Частота вращения - 10000\\xa0 \\xa0 об/мин',\n",
       "  'status': 'В наличии',\n",
       "  'price': '3900'},\n",
       " {'title': 'Машина шлифовальная угловая Denzel AGH125-900, 900 Вт, 125 мм, 11000 об/мин',\n",
       "  'subtitle': 'Тип двигателя - электрический (220 В) ; Мощность - 0,9 кВт; Частота вращения - 11000 об/мин; Диаметр диска/чашки - 125 мм',\n",
       "  'status': 'В наличии',\n",
       "  'price': '3904'},\n",
       " {'title': 'Вибрационная дельта шлифовальная машина Villager VLN 125',\n",
       "  'subtitle': 'Cкорость холостого хода - 13500 об/мин; Мощность - 0,125 кВт; Рабочая поверхность - 140x140x80 мм; Тип двигателя - электрический (220 В) ',\n",
       "  'status': 'В наличии',\n",
       "  'price': '3905'},\n",
       " {'title': 'Пневматическая шлифовальная машина орбитальная, 150 мм, 12000 об/мин Sturm!',\n",
       "  'subtitle': 'Тип двигателя - пневматический ; Диаметр диска/чашки - 150 мм; Частота вращения - 12000 об/мин; Рабочее давление - 6,3 атм',\n",
       "  'status': 'В наличии',\n",
       "  'price': '3910'},\n",
       " {'title': 'Вибрационная шлифовальная машина Sturm! OS8032',\n",
       "  'subtitle': 'Тип двигателя - электрический (220 В) ; Мощность - 0,32 кВт; Размеры шлифовальной подошвы - 104х112 мм',\n",
       "  'status': 'В наличии',\n",
       "  'price': '3990'}]"
      ]
     },
     "execution_count": 84,
     "metadata": {},
     "output_type": "execute_result"
    }
   ],
   "source": [
    "# Смотрим на наш объект\n",
    "# type(data)\n",
    "data"
   ]
  },
  {
   "cell_type": "code",
   "execution_count": 82,
   "id": "92a138e1-778d-4993-9f31-7b7ec9b191e7",
   "metadata": {},
   "outputs": [
    {
     "data": {
      "text/html": [
       "<div>\n",
       "<style scoped>\n",
       "    .dataframe tbody tr th:only-of-type {\n",
       "        vertical-align: middle;\n",
       "    }\n",
       "\n",
       "    .dataframe tbody tr th {\n",
       "        vertical-align: top;\n",
       "    }\n",
       "\n",
       "    .dataframe thead th {\n",
       "        text-align: right;\n",
       "    }\n",
       "</style>\n",
       "<table border=\"1\" class=\"dataframe\">\n",
       "  <thead>\n",
       "    <tr style=\"text-align: right;\">\n",
       "      <th></th>\n",
       "      <th>title</th>\n",
       "      <th>subtitle</th>\n",
       "      <th>status</th>\n",
       "      <th>price</th>\n",
       "    </tr>\n",
       "  </thead>\n",
       "  <tbody>\n",
       "    <tr>\n",
       "      <th>0</th>\n",
       "      <td>Пневмошлифмашина PATRIOT PG 160 6бар, штуцер 1/4</td>\n",
       "      <td>Тип двигателя - пневматический ; Размер цанги ...</td>\n",
       "      <td>В наличии</td>\n",
       "      <td>2090</td>\n",
       "    </tr>\n",
       "    <tr>\n",
       "      <th>1</th>\n",
       "      <td>Машина шлифовальная вибрационная BORT BS-155</td>\n",
       "      <td>Мощность - 0,15 кВт; Размер абразивной бумаги ...</td>\n",
       "      <td>В наличии</td>\n",
       "      <td>2500</td>\n",
       "    </tr>\n",
       "    <tr>\n",
       "      <th>2</th>\n",
       "      <td>Прямая шлифмашина Pegas pneumatic + 10 шлиф ка...</td>\n",
       "      <td>Тип двигателя - пневматический ; Рабочее давле...</td>\n",
       "      <td>В наличии</td>\n",
       "      <td>2525</td>\n",
       "    </tr>\n",
       "    <tr>\n",
       "      <th>3</th>\n",
       "      <td>Угловая шлифовальная машина KOLNER KAG 125/750</td>\n",
       "      <td>Мощность - 0,75 кВт; Диаметр диска/чашки - 125...</td>\n",
       "      <td>В наличии</td>\n",
       "      <td>2690</td>\n",
       "    </tr>\n",
       "    <tr>\n",
       "      <th>4</th>\n",
       "      <td>Угловая шлифовальная машина KOLNER KAG 115/500M</td>\n",
       "      <td>Мощность - 0,5 кВт; Диаметр диска/чашки - 115 ...</td>\n",
       "      <td>В наличии</td>\n",
       "      <td>2890</td>\n",
       "    </tr>\n",
       "  </tbody>\n",
       "</table>\n",
       "</div>"
      ],
      "text/plain": [
       "                                               title  \\\n",
       "0   Пневмошлифмашина PATRIOT PG 160 6бар, штуцер 1/4   \n",
       "1       Машина шлифовальная вибрационная BORT BS-155   \n",
       "2  Прямая шлифмашина Pegas pneumatic + 10 шлиф ка...   \n",
       "3     Угловая шлифовальная машина KOLNER KAG 125/750   \n",
       "4    Угловая шлифовальная машина KOLNER KAG 115/500M   \n",
       "\n",
       "                                            subtitle     status price  \n",
       "0  Тип двигателя - пневматический ; Размер цанги ...  В наличии  2090  \n",
       "1  Мощность - 0,15 кВт; Размер абразивной бумаги ...  В наличии  2500  \n",
       "2  Тип двигателя - пневматический ; Рабочее давле...  В наличии  2525  \n",
       "3  Мощность - 0,75 кВт; Диаметр диска/чашки - 125...  В наличии  2690  \n",
       "4  Мощность - 0,5 кВт; Диаметр диска/чашки - 115 ...  В наличии  2890  "
      ]
     },
     "execution_count": 82,
     "metadata": {},
     "output_type": "execute_result"
    }
   ],
   "source": [
    "# Преобразуем объект в пандасовский датафрейм\n",
    "# import pandas as pd\n",
    "df = pd.DataFrame(data)\n",
    "df.head()"
   ]
  },
  {
   "cell_type": "code",
   "execution_count": null,
   "id": "4bbd1509-c770-4284-b7d7-97d455e48917",
   "metadata": {},
   "outputs": [],
   "source": []
  },
  {
   "cell_type": "markdown",
   "id": "e682d986-87a6-4ebb-9536-6a925373b80e",
   "metadata": {},
   "source": [
    "### Парсим все остальные страницы каталога"
   ]
  },
  {
   "cell_type": "code",
   "execution_count": null,
   "id": "dd298d12-7a8f-4210-9338-05718e4baea3",
   "metadata": {},
   "outputs": [],
   "source": [
    "# Определяем количество страниц\n",
    "# Ссылка для второй и последующих страниц:\n",
    "# url_n = 'https://ryvok.ru/instrumenty/shlifmashiny/?page=5'"
   ]
  },
  {
   "cell_type": "code",
   "execution_count": null,
   "id": "0cf610bb-1b9e-438d-b1a2-38b664974145",
   "metadata": {},
   "outputs": [],
   "source": [
    "# Теперь откроем наш файл, прочитаем и сохраним код страницы в переменную:\n",
    "with open('../data/interim/html/index_tools_ryvok.html', encoding='utf-8') as file:\n",
    "    src = file.read()"
   ]
  },
  {
   "cell_type": "code",
   "execution_count": 93,
   "id": "91325b7d-7832-45e8-9b20-066b7ea5d86b",
   "metadata": {},
   "outputs": [],
   "source": [
    "data = []"
   ]
  },
  {
   "cell_type": "code",
   "execution_count": 99,
   "id": "46116113-6560-46b5-b1f9-887e3d4f62b6",
   "metadata": {},
   "outputs": [],
   "source": [
    "# Проверяем скрипт сначала на скачанной и сохранённой странице (SRC), а потом на реальной с URL?PAGE=1\n",
    "# data2 = []\n",
    "page = 2\n",
    "\n",
    "URL = f'https://ryvok.ru/instrumenty/shlifmashiny/?page={page}'\n",
    "\n",
    "# Отправляем запрос на страницу, передаём в качестве GET-параметра URL-адрес\n",
    "res = requests.get(url=URL)\n",
    "    \n",
    "# Создаём объект Супа с параметрами \n",
    "# soup = BeautifulSoup(src, 'lxml')\n",
    "soup = BeautifulSoup(res.text, 'lxml')\n",
    "\n",
    "# Определяем блок - общий для всех интересующих элементов, для уверенности, что все элементы принадлежат к одному блоку\n",
    "elements = soup.find_all('div', class_='app-product-card__wrap')\n",
    "elements[0].text\n",
    "\n",
    "# Преобразуем всё в один объект через цикл и словарь\n",
    "for e in elements:\n",
    "    data.append({\n",
    "        'title': e.find('div', class_='app-product-card__title').text,\n",
    "        'subtitle': e.find('div', class_='app-product-card__subtitle').text.replace(' | ', '; '),\n",
    "        'status': e.find('div', class_='app-product-card__status').text.strip(),\n",
    "        'price': e.find('div', class_='app-product-card__price').text.replace('\\xa0', '').replace(' ₽', '')\n",
    "    })\n",
    "\n",
    "# Работает нормально !!!!"
   ]
  },
  {
   "cell_type": "code",
   "execution_count": 100,
   "id": "4b927473-8cf6-4973-bd04-935a744c2f01",
   "metadata": {},
   "outputs": [
    {
     "data": {
      "text/plain": [
       "64"
      ]
     },
     "execution_count": 100,
     "metadata": {},
     "output_type": "execute_result"
    }
   ],
   "source": [
    "len(data)"
   ]
  },
  {
   "cell_type": "code",
   "execution_count": 86,
   "id": "78bce046-bc55-4636-bde1-db6b54c11a7e",
   "metadata": {},
   "outputs": [
    {
     "data": {
      "text/plain": [
       "(32, 4)"
      ]
     },
     "execution_count": 86,
     "metadata": {},
     "output_type": "execute_result"
    }
   ],
   "source": [
    "df.shape"
   ]
  },
  {
   "cell_type": "markdown",
   "id": "1ca42011-3058-4f73-9016-34461ac731ec",
   "metadata": {},
   "source": [
    "#### Вычисляем количество страниц"
   ]
  },
  {
   "cell_type": "code",
   "execution_count": 107,
   "id": "f1a4b26a-df54-42df-be13-9fe5ba7d367c",
   "metadata": {},
   "outputs": [],
   "source": [
    "# Определяем начальные данные для парсинга: список с информацией (изначально пустой), первая страница и наибольший номер страницы\n",
    "data = []\n",
    "page = 1\n",
    "max_page = 1"
   ]
  },
  {
   "cell_type": "code",
   "execution_count": 108,
   "id": "bc7feb56-86fd-45ce-a784-9fa0a53076d5",
   "metadata": {},
   "outputs": [
    {
     "name": "stdout",
     "output_type": "stream",
     "text": [
      "Номер страницы: 1; Максимум: 6\n",
      "Номер страницы: 2; Максимум: 6\n",
      "Номер страницы: 3; Максимум: 6\n",
      "Номер страницы: 4; Максимум: 6\n"
     ]
    },
    {
     "ename": "ValueError",
     "evalue": "invalid literal for int() with base 10: '...'",
     "output_type": "error",
     "traceback": [
      "\u001b[1;31m---------------------------------------------------------------------------\u001b[0m",
      "\u001b[1;31mValueError\u001b[0m                                Traceback (most recent call last)",
      "Cell \u001b[1;32mIn[108], line 25\u001b[0m\n\u001b[0;32m     23\u001b[0m pagination \u001b[38;5;241m=\u001b[39m soup\u001b[38;5;241m.\u001b[39mfind(\u001b[38;5;124m'\u001b[39m\u001b[38;5;124mdiv\u001b[39m\u001b[38;5;124m'\u001b[39m, class_\u001b[38;5;241m=\u001b[39m\u001b[38;5;124m'\u001b[39m\u001b[38;5;124mui-pagination__numbers\u001b[39m\u001b[38;5;124m'\u001b[39m)\n\u001b[0;32m     24\u001b[0m pags \u001b[38;5;241m=\u001b[39m pagination\u001b[38;5;241m.\u001b[39mfind_all(\u001b[38;5;124m'\u001b[39m\u001b[38;5;124mdiv\u001b[39m\u001b[38;5;124m'\u001b[39m, class_\u001b[38;5;241m=\u001b[39m\u001b[38;5;124m'\u001b[39m\u001b[38;5;124mui-pagination__number\u001b[39m\u001b[38;5;124m'\u001b[39m)\n\u001b[1;32m---> 25\u001b[0m pages \u001b[38;5;241m=\u001b[39m [\u001b[38;5;28mint\u001b[39m(p\u001b[38;5;241m.\u001b[39mtext\u001b[38;5;241m.\u001b[39mstrip()) \u001b[38;5;28;01mfor\u001b[39;00m p \u001b[38;5;129;01min\u001b[39;00m pags]\n\u001b[0;32m     26\u001b[0m max_page \u001b[38;5;241m=\u001b[39m \u001b[38;5;28mmax\u001b[39m(pages)\n\u001b[0;32m     29\u001b[0m \u001b[38;5;28mprint\u001b[39m(\u001b[38;5;124mf\u001b[39m\u001b[38;5;124m'\u001b[39m\u001b[38;5;124mНомер страницы: \u001b[39m\u001b[38;5;132;01m{\u001b[39;00mpage\u001b[38;5;132;01m}\u001b[39;00m\u001b[38;5;124m; Максимум: \u001b[39m\u001b[38;5;132;01m{\u001b[39;00mmax_page\u001b[38;5;132;01m}\u001b[39;00m\u001b[38;5;124m'\u001b[39m)\n",
      "Cell \u001b[1;32mIn[108], line 25\u001b[0m, in \u001b[0;36m<listcomp>\u001b[1;34m(.0)\u001b[0m\n\u001b[0;32m     23\u001b[0m pagination \u001b[38;5;241m=\u001b[39m soup\u001b[38;5;241m.\u001b[39mfind(\u001b[38;5;124m'\u001b[39m\u001b[38;5;124mdiv\u001b[39m\u001b[38;5;124m'\u001b[39m, class_\u001b[38;5;241m=\u001b[39m\u001b[38;5;124m'\u001b[39m\u001b[38;5;124mui-pagination__numbers\u001b[39m\u001b[38;5;124m'\u001b[39m)\n\u001b[0;32m     24\u001b[0m pags \u001b[38;5;241m=\u001b[39m pagination\u001b[38;5;241m.\u001b[39mfind_all(\u001b[38;5;124m'\u001b[39m\u001b[38;5;124mdiv\u001b[39m\u001b[38;5;124m'\u001b[39m, class_\u001b[38;5;241m=\u001b[39m\u001b[38;5;124m'\u001b[39m\u001b[38;5;124mui-pagination__number\u001b[39m\u001b[38;5;124m'\u001b[39m)\n\u001b[1;32m---> 25\u001b[0m pages \u001b[38;5;241m=\u001b[39m [\u001b[38;5;28;43mint\u001b[39;49m\u001b[43m(\u001b[49m\u001b[43mp\u001b[49m\u001b[38;5;241;43m.\u001b[39;49m\u001b[43mtext\u001b[49m\u001b[38;5;241;43m.\u001b[39;49m\u001b[43mstrip\u001b[49m\u001b[43m(\u001b[49m\u001b[43m)\u001b[49m\u001b[43m)\u001b[49m \u001b[38;5;28;01mfor\u001b[39;00m p \u001b[38;5;129;01min\u001b[39;00m pags]\n\u001b[0;32m     26\u001b[0m max_page \u001b[38;5;241m=\u001b[39m \u001b[38;5;28mmax\u001b[39m(pages)\n\u001b[0;32m     29\u001b[0m \u001b[38;5;28mprint\u001b[39m(\u001b[38;5;124mf\u001b[39m\u001b[38;5;124m'\u001b[39m\u001b[38;5;124mНомер страницы: \u001b[39m\u001b[38;5;132;01m{\u001b[39;00mpage\u001b[38;5;132;01m}\u001b[39;00m\u001b[38;5;124m; Максимум: \u001b[39m\u001b[38;5;132;01m{\u001b[39;00mmax_page\u001b[38;5;132;01m}\u001b[39;00m\u001b[38;5;124m'\u001b[39m)\n",
      "\u001b[1;31mValueError\u001b[0m: invalid literal for int() with base 10: '...'"
     ]
    }
   ],
   "source": [
    "while page <= max_page:\n",
    "    URL = f'https://ryvok.ru/instrumenty/shlifmashiny/?page={page}'\n",
    "\n",
    "    # Отправляем запрос на страницу, передаём в качестве GET-параметра URL-адрес\n",
    "    res = requests.get(url=URL)\n",
    "        \n",
    "    # Создаём объект Супа с параметрами \n",
    "    soup = BeautifulSoup(res.text, 'lxml')\n",
    "    \n",
    "    # Определяем блок - общий для всех интересующих элементов, для уверенности, что все элементы принадлежат к одному блоку\n",
    "    elements = soup.find_all('div', class_='app-product-card__wrap')\n",
    "    elements[0].text\n",
    "    \n",
    "    # Преобразуем всё в один объект через цикл и словарь\n",
    "    for e in elements:\n",
    "        data.append({\n",
    "            'title': e.find('div', class_='app-product-card__title').text,\n",
    "            'subtitle': e.find('div', class_='app-product-card__subtitle').text.replace(' | ', '; '),\n",
    "            'status': e.find('div', class_='app-product-card__status').text.strip(),\n",
    "            'price': e.find('div', class_='app-product-card__price').text.replace('\\xa0', '').replace(' ₽', '')\n",
    "        })\n",
    "\n",
    "    pagination = soup.find('div', class_='ui-pagination__numbers')\n",
    "    pags = pagination.find_all('div', class_='ui-pagination__number')\n",
    "    pages = [int(p.text.strip()) for p in pags]\n",
    "    max_page = max(pages)\n",
    "    \n",
    "    \n",
    "    print(f'Номер страницы: {page}; Максимум: {max_page}')\n",
    "    page += 1"
   ]
  },
  {
   "cell_type": "code",
   "execution_count": 104,
   "id": "b0e8b111-849d-4ecb-b254-fe237f7ac739",
   "metadata": {},
   "outputs": [],
   "source": [
    "# Определяем порядковые номера и количество страниц в пагинаторе внутри ПЕРВОЙ страницы,\n",
    "# удаляем пробелы из текста и преобразуем в числовой формат\n",
    "# Определяем максимальный номер страницы на ПЕРВОЙ странице\n",
    "\n",
    "pagination = soup.find('div', class_='ui-pagination__numbers')\n",
    "pags = pagination.find_all('div', class_='ui-pagination__number')\n",
    "pages = [int(p.text.strip()) for p in pags]\n",
    "max_page = max(pages)"
   ]
  },
  {
   "cell_type": "code",
   "execution_count": null,
   "id": "918888d6-014e-4e7b-ab08-68de25d15c85",
   "metadata": {},
   "outputs": [],
   "source": [
    "# Усложняем код для определения максимального номера страницы из-за символа \" ... \" в пагинаторе\n",
    "int_pages = []\n",
    "for p in pages:\n",
    "    try:\n",
    "        n = int(p)\n",
    "        int_pages.append(n)\n",
    "    except:\n",
    "        continue"
   ]
  },
  {
   "cell_type": "code",
   "execution_count": null,
   "id": "d1c8deac-28ed-438b-ae1d-5de5ea408abd",
   "metadata": {},
   "outputs": [],
   "source": []
  },
  {
   "cell_type": "code",
   "execution_count": 109,
   "id": "82aab7fc-4461-435a-87b3-75361c560e45",
   "metadata": {},
   "outputs": [
    {
     "data": {
      "text/plain": [
       "[1, 2, 3, 4, 5, 6]"
      ]
     },
     "execution_count": 109,
     "metadata": {},
     "output_type": "execute_result"
    }
   ],
   "source": [
    "pages"
   ]
  },
  {
   "cell_type": "code",
   "execution_count": 110,
   "id": "5e097d5e-997c-498d-88b8-74ff74f2ea9c",
   "metadata": {},
   "outputs": [
    {
     "data": {
      "text/plain": [
       "6"
      ]
     },
     "execution_count": 110,
     "metadata": {},
     "output_type": "execute_result"
    }
   ],
   "source": [
    "max_page"
   ]
  },
  {
   "cell_type": "markdown",
   "id": "7cebca8e-0669-442f-a677-0e3e5006743c",
   "metadata": {},
   "source": [
    "### Окончательный вариант"
   ]
  },
  {
   "cell_type": "code",
   "execution_count": 4,
   "id": "0d7f706c-9859-4f3b-a7a4-667c1e8280cf",
   "metadata": {},
   "outputs": [],
   "source": [
    "# Определяем начальные данные для парсинга: список с информацией (изначально пустой), первая страница и наибольший номер страницы\n",
    "data = []\n",
    "page = 1\n",
    "max_page = 1"
   ]
  },
  {
   "cell_type": "code",
   "execution_count": 5,
   "id": "fb2b6e6a-c1c1-4738-a484-7778bdcf90c7",
   "metadata": {},
   "outputs": [
    {
     "name": "stdout",
     "output_type": "stream",
     "text": [
      "Номер страницы: 1; Максимум: 6\n",
      "Номер страницы: 2; Максимум: 6\n",
      "Номер страницы: 3; Максимум: 6\n",
      "Номер страницы: 4; Максимум: 6\n",
      "Номер страницы: 5; Максимум: 6\n",
      "Номер страницы: 6; Максимум: 7\n",
      "Номер страницы: 7; Максимум: 8\n",
      "Номер страницы: 8; Максимум: 9\n",
      "Номер страницы: 9; Максимум: 10\n",
      "Номер страницы: 10; Максимум: 11\n",
      "Номер страницы: 11; Максимум: 12\n",
      "Номер страницы: 12; Максимум: 13\n",
      "Номер страницы: 13; Максимум: 14\n",
      "Номер страницы: 14; Максимум: 15\n",
      "Номер страницы: 15; Максимум: 16\n",
      "Номер страницы: 16; Максимум: 17\n",
      "Номер страницы: 17; Максимум: 18\n",
      "Номер страницы: 18; Максимум: 19\n",
      "Номер страницы: 19; Максимум: 20\n",
      "Номер страницы: 20; Максимум: 21\n",
      "Номер страницы: 21; Максимум: 22\n",
      "Номер страницы: 22; Максимум: 23\n",
      "Номер страницы: 23; Максимум: 24\n",
      "Номер страницы: 24; Максимум: 25\n",
      "Номер страницы: 25; Максимум: 25\n"
     ]
    }
   ],
   "source": [
    "# \n",
    "while page <= max_page:\n",
    "    URL = f'https://ryvok.ru/instrumenty/shlifmashiny/?page={page}'\n",
    "\n",
    "    # Отправляем запрос на страницу, передаём в качестве GET-параметра URL-адрес\n",
    "    res = requests.get(url=URL)\n",
    "        \n",
    "    # Создаём объект Супа с параметрами \n",
    "    soup = BeautifulSoup(res.text, 'lxml')\n",
    "    \n",
    "    # Определяем блок - общий для всех интересующих элементов, для уверенности, что все элементы принадлежат к одному блоку\n",
    "    elements = soup.find_all('div', class_='app-product-card__wrap')\n",
    "    elements[0].text\n",
    "    \n",
    "    # Преобразуем всё в один объект через цикл и словарь\n",
    "    for e in elements:\n",
    "        data.append({\n",
    "            'title': e.find('div', class_='app-product-card__title').text,\n",
    "            'subtitle': e.find('div', class_='app-product-card__subtitle').text.replace(' | ', '; '),\n",
    "            'status': e.find('div', class_='app-product-card__status').text.strip(),\n",
    "            'price': e.find('div', class_='app-product-card__price').text.replace('\\xa0', '').replace(' ₽', '')\n",
    "        })\n",
    "\n",
    "    pagination = soup.find('div', class_='ui-pagination__numbers')\n",
    "    pags = pagination.find_all('div', class_='ui-pagination__number')\n",
    "    pages = [p.text.strip() for p in pags]\n",
    "\n",
    "    # Вставляем сюда проверку на корректный номер максимального номера страницы\n",
    "    int_pages = []\n",
    "    for p in pages:\n",
    "        try:\n",
    "            n = int(p)\n",
    "            int_pages.append(n)\n",
    "        except:\n",
    "            continue\n",
    "    \n",
    "    max_page = max(int_pages)\n",
    "\n",
    "    print(f'Номер страницы: {page}; Максимум: {max_page}')\n",
    "    page += 1"
   ]
  },
  {
   "cell_type": "markdown",
   "id": "3f216b2d-0801-495f-ade2-6d5d289a6149",
   "metadata": {},
   "source": [
    "#### Всякая-разная проверка и статистические данные"
   ]
  },
  {
   "cell_type": "code",
   "execution_count": 6,
   "id": "140dd54a-8d2e-423a-9a8e-472e3724b2fb",
   "metadata": {},
   "outputs": [
    {
     "data": {
      "text/plain": [
       "793"
      ]
     },
     "execution_count": 6,
     "metadata": {},
     "output_type": "execute_result"
    }
   ],
   "source": [
    "len(data)"
   ]
  },
  {
   "cell_type": "code",
   "execution_count": 7,
   "id": "a3482937-e6ec-4204-b619-9593c2047ef9",
   "metadata": {},
   "outputs": [
    {
     "data": {
      "text/html": [
       "<div>\n",
       "<style scoped>\n",
       "    .dataframe tbody tr th:only-of-type {\n",
       "        vertical-align: middle;\n",
       "    }\n",
       "\n",
       "    .dataframe tbody tr th {\n",
       "        vertical-align: top;\n",
       "    }\n",
       "\n",
       "    .dataframe thead th {\n",
       "        text-align: right;\n",
       "    }\n",
       "</style>\n",
       "<table border=\"1\" class=\"dataframe\">\n",
       "  <thead>\n",
       "    <tr style=\"text-align: right;\">\n",
       "      <th></th>\n",
       "      <th>title</th>\n",
       "      <th>subtitle</th>\n",
       "      <th>status</th>\n",
       "      <th>price</th>\n",
       "    </tr>\n",
       "  </thead>\n",
       "  <tbody>\n",
       "    <tr>\n",
       "      <th>788</th>\n",
       "      <td>Ленточная шлифовальная машина MESSER M3025 (дв...</td>\n",
       "      <td>Мощность - 0,8 кВт; Длина ленты - 620 мм; Шири...</td>\n",
       "      <td>Нет в наличии</td>\n",
       "      <td>35773</td>\n",
       "    </tr>\n",
       "    <tr>\n",
       "      <th>789</th>\n",
       "      <td>Шлифмашина ленточная трехроликовая MESSER M3336</td>\n",
       "      <td>Мощность - 1.3 кВт; Длина ленты - 760 мм; Скор...</td>\n",
       "      <td>Нет в наличии</td>\n",
       "      <td>39047</td>\n",
       "    </tr>\n",
       "    <tr>\n",
       "      <th>790</th>\n",
       "      <td>Аккумуляторная УШМ Hanskonner HAG2012BLE 1Batt...</td>\n",
       "      <td>Диаметр диска/чашки - 125 мм; Напряжение аккум...</td>\n",
       "      <td>Нет в наличии</td>\n",
       "      <td>Цена по запросу</td>\n",
       "    </tr>\n",
       "    <tr>\n",
       "      <th>791</th>\n",
       "      <td>Аккумуляторная УШМ Hanskonner HAG1812BLE 1Batt...</td>\n",
       "      <td>Диаметр диска/чашки - 125 мм; Напряжение аккум...</td>\n",
       "      <td>Нет в наличии</td>\n",
       "      <td>Цена по запросу</td>\n",
       "    </tr>\n",
       "    <tr>\n",
       "      <th>792</th>\n",
       "      <td>Аккумуляторная УШМ Hanskonner HAG1812BL 1Batte...</td>\n",
       "      <td>Диаметр диска/чашки - 125 мм; Напряжение аккум...</td>\n",
       "      <td>Нет в наличии</td>\n",
       "      <td>Цена по запросу</td>\n",
       "    </tr>\n",
       "  </tbody>\n",
       "</table>\n",
       "</div>"
      ],
      "text/plain": [
       "                                                 title  \\\n",
       "788  Ленточная шлифовальная машина MESSER M3025 (дв...   \n",
       "789    Шлифмашина ленточная трехроликовая MESSER M3336   \n",
       "790  Аккумуляторная УШМ Hanskonner HAG2012BLE 1Batt...   \n",
       "791  Аккумуляторная УШМ Hanskonner HAG1812BLE 1Batt...   \n",
       "792  Аккумуляторная УШМ Hanskonner HAG1812BL 1Batte...   \n",
       "\n",
       "                                              subtitle         status  \\\n",
       "788  Мощность - 0,8 кВт; Длина ленты - 620 мм; Шири...  Нет в наличии   \n",
       "789  Мощность - 1.3 кВт; Длина ленты - 760 мм; Скор...  Нет в наличии   \n",
       "790  Диаметр диска/чашки - 125 мм; Напряжение аккум...  Нет в наличии   \n",
       "791  Диаметр диска/чашки - 125 мм; Напряжение аккум...  Нет в наличии   \n",
       "792  Диаметр диска/чашки - 125 мм; Напряжение аккум...  Нет в наличии   \n",
       "\n",
       "               price  \n",
       "788            35773  \n",
       "789            39047  \n",
       "790  Цена по запросу  \n",
       "791  Цена по запросу  \n",
       "792  Цена по запросу  "
      ]
     },
     "execution_count": 7,
     "metadata": {},
     "output_type": "execute_result"
    }
   ],
   "source": [
    "# Преобразуем объект в пандасовский датафрейм\n",
    "# import pandas as pd\n",
    "df = pd.DataFrame(data)\n",
    "df.tail()"
   ]
  },
  {
   "cell_type": "code",
   "execution_count": 8,
   "id": "b68b7744-da4b-46e2-8e0b-cae392722ed0",
   "metadata": {},
   "outputs": [
    {
     "data": {
      "text/plain": [
       "(793, 4)"
      ]
     },
     "execution_count": 8,
     "metadata": {},
     "output_type": "execute_result"
    }
   ],
   "source": [
    "df.shape"
   ]
  },
  {
   "cell_type": "code",
   "execution_count": null,
   "id": "46c24505-1373-4b01-848e-4f85076c30cf",
   "metadata": {},
   "outputs": [],
   "source": []
  },
  {
   "cell_type": "markdown",
   "id": "af28503d-1e9c-4a0c-a610-1cdab8b1fc60",
   "metadata": {},
   "source": [
    "# Python и Google Sheets API: Загружаем данные | Часть 2 | Google Sheets API Python"
   ]
  },
  {
   "cell_type": "markdown",
   "id": "98c98090-0ced-411b-893f-47f682816273",
   "metadata": {},
   "source": [
    "#### https://youtu.be/RmEsC2T8dwE?si=_eBbyQaiHQXObGLh\n",
    "https://www.youtube.com/watch?v=RmEsC2T8dwE&list=PL2PN33KbuWfx0lPNVUJbjD6y63hctbhn3&index=2"
   ]
  },
  {
   "cell_type": "markdown",
   "id": "36b76ee6-cf83-4449-a024-53e23faa4e48",
   "metadata": {},
   "source": [
    "### API - Application Programming Interface"
   ]
  },
  {
   "cell_type": "code",
   "execution_count": 9,
   "id": "b8746fe4-0556-4cec-b071-99955f32daba",
   "metadata": {},
   "outputs": [],
   "source": [
    "# Для взаимодействия Python с Google-таблицей\n",
    "# !pip install gspread\n",
    "import gspread"
   ]
  },
  {
   "cell_type": "code",
   "execution_count": null,
   "id": "d75c0778-2254-4b8d-ae4d-8e2f8319009d",
   "metadata": {},
   "outputs": [],
   "source": [
    "# Получаем ключи доступа к API\n"
   ]
  },
  {
   "cell_type": "markdown",
   "id": "d99c975a-e073-4703-85ee-3bb738feabc2",
   "metadata": {},
   "source": [
    "### Cоздание учётной записи для программы\n",
    "##### docs.gspread -> Autentification -> Auth Client ID -> Service Account -> Enable API Access for a Project -> \n",
    "##### Google Developers Console -> API APIs & Servises"
   ]
  },
  {
   "cell_type": "markdown",
   "id": "cb7b5737-c2ae-45b5-b288-aac8256999f6",
   "metadata": {},
   "source": [
    "### После создания сервисного аккаунта и ключей доступа:\n",
    "1. Создаём Google-sheet\n",
    "### 2. Копируем адрес client_email из file.json (copy) !!!!!\n",
    "#### 3. Настройка доступа -> client_email -> Редактор -> Отправить !!\n",
    "4. Возвращаемся в документацию GSPREAD\n",
    "5. Документация -> Quick Example -> Copy -> вставить пример кода в Python"
   ]
  },
  {
   "cell_type": "markdown",
   "id": "e2040243-de7e-4156-ae03-37a629f67402",
   "metadata": {},
   "source": [
    "#### Редактируем:\n",
    "gc = gspread.service_account(filename='../../beauty-salon-key.json')\n",
    "wks = gc.open('catalog_of_tools').tools"
   ]
  },
  {
   "cell_type": "code",
   "execution_count": 12,
   "id": "12ec267d-1458-4683-8b0e-d4053245ebd3",
   "metadata": {},
   "outputs": [],
   "source": [
    "# Объявляем ключ для связи с сервисным аккаунтом и его расположение на диске\n",
    "gc = gspread.service_account(filename='../../beauty-salon-key.json')"
   ]
  },
  {
   "cell_type": "code",
   "execution_count": 23,
   "id": "33c3cad6-dcb2-4d7e-9eb5-7804fe70110a",
   "metadata": {},
   "outputs": [],
   "source": [
    "# Opening a Spreadsheet\n",
    "# Открытие электронной таблицы\n",
    "wts = gc.open('catalog_of_tools').sheet1"
   ]
  },
  {
   "cell_type": "code",
   "execution_count": 24,
   "id": "8aacecfa-a137-4bd3-9918-1863890ec1fa",
   "metadata": {},
   "outputs": [
    {
     "data": {
      "text/html": [
       "<div>\n",
       "<style scoped>\n",
       "    .dataframe tbody tr th:only-of-type {\n",
       "        vertical-align: middle;\n",
       "    }\n",
       "\n",
       "    .dataframe tbody tr th {\n",
       "        vertical-align: top;\n",
       "    }\n",
       "\n",
       "    .dataframe thead th {\n",
       "        text-align: right;\n",
       "    }\n",
       "</style>\n",
       "<table border=\"1\" class=\"dataframe\">\n",
       "  <thead>\n",
       "    <tr style=\"text-align: right;\">\n",
       "      <th></th>\n",
       "      <th></th>\n",
       "      <th>col_1</th>\n",
       "      <th>col_2</th>\n",
       "    </tr>\n",
       "  </thead>\n",
       "  <tbody>\n",
       "    <tr>\n",
       "      <th>0</th>\n",
       "      <td>row_1</td>\n",
       "      <td>a</td>\n",
       "      <td>20</td>\n",
       "    </tr>\n",
       "    <tr>\n",
       "      <th>1</th>\n",
       "      <td>row_2</td>\n",
       "      <td>b</td>\n",
       "      <td>40</td>\n",
       "    </tr>\n",
       "    <tr>\n",
       "      <th>2</th>\n",
       "      <td>row_3</td>\n",
       "      <td>d</td>\n",
       "      <td>100</td>\n",
       "    </tr>\n",
       "  </tbody>\n",
       "</table>\n",
       "</div>"
      ],
      "text/plain": [
       "         col_1  col_2\n",
       "0  row_1     a     20\n",
       "1  row_2     b     40\n",
       "2  row_3     d    100"
      ]
     },
     "execution_count": 24,
     "metadata": {},
     "output_type": "execute_result"
    }
   ],
   "source": [
    "# Использование gspread с pandas\n",
    "# pandas — популярная библиотека для анализа данных.\n",
    "# Самый простой способ получить данные из таблицы в pandas DataFrame — это get_all_records():\n",
    "tools_df = pd.DataFrame(wts.get_all_records())\n",
    "tools_df.head()"
   ]
  },
  {
   "cell_type": "markdown",
   "id": "488db218-3c12-422d-8e2c-7ad881b31313",
   "metadata": {},
   "source": [
    "### Примеры операций с таблицей"
   ]
  },
  {
   "cell_type": "code",
   "execution_count": null,
   "id": "b1306c03-c6a8-4c28-a768-0013f6526ec2",
   "metadata": {},
   "outputs": [],
   "source": [
    "# Чтобы открыть таблицу:\n",
    "wts = gc.open('catalog_of_tools').sheet1"
   ]
  },
  {
   "cell_type": "code",
   "execution_count": 25,
   "id": "9a405aeb-024a-4645-b15c-95d04bcbe096",
   "metadata": {},
   "outputs": [
    {
     "name": "stderr",
     "output_type": "stream",
     "text": [
      "C:\\Users\\Андрей\\AppData\\Local\\Temp\\ipykernel_5644\\2107564261.py:2: DeprecationWarning: The order of arguments in worksheet.update() has changed. Please pass values first and range_name secondor used named arguments (range_name=, values=)\n",
      "  wts.update('A1', [[1,2], [3,4]])\n"
     ]
    },
    {
     "data": {
      "text/plain": [
       "{'spreadsheetId': '1W4-3iF4g_kSOgarrDv3mTxqIM7JYfakQzzXBeLczFgQ',\n",
       " 'updatedRange': 'tools!A1:B2',\n",
       " 'updatedRows': 2,\n",
       " 'updatedColumns': 2,\n",
       " 'updatedCells': 4}"
      ]
     },
     "execution_count": 25,
     "metadata": {},
     "output_type": "execute_result"
    }
   ],
   "source": [
    "# Изменить таблицу:\n",
    "wts.update('A1', [[1,2], [3,4]])"
   ]
  },
  {
   "cell_type": "code",
   "execution_count": 28,
   "id": "2238e50c-791d-4692-96ca-da64e2915192",
   "metadata": {},
   "outputs": [
    {
     "ename": "APIError",
     "evalue": "APIError: [400]: Invalid value at 'data.values' (type.googleapis.com/google.protobuf.ListValue), \"D4\"",
     "output_type": "error",
     "traceback": [
      "\u001b[1;31m---------------------------------------------------------------------------\u001b[0m",
      "\u001b[1;31mAPIError\u001b[0m                                  Traceback (most recent call last)",
      "Cell \u001b[1;32mIn[28], line 2\u001b[0m\n\u001b[0;32m      1\u001b[0m \u001b[38;5;66;03m# Изменить таблицу:\u001b[39;00m\n\u001b[1;32m----> 2\u001b[0m \u001b[43mwts\u001b[49m\u001b[38;5;241;43m.\u001b[39;49m\u001b[43mupdate\u001b[49m\u001b[43m(\u001b[49m\u001b[38;5;124;43m'\u001b[39;49m\u001b[38;5;124;43mD4\u001b[39;49m\u001b[38;5;124;43m'\u001b[39;49m\u001b[43m,\u001b[49m\u001b[43m \u001b[49m\u001b[38;5;124;43m'\u001b[39;49m\u001b[38;5;124;43mSome tEXT\u001b[39;49m\u001b[38;5;124;43m'\u001b[39;49m\u001b[43m)\u001b[49m\n",
      "File \u001b[1;32mC:\\Python310\\lib\\site-packages\\gspread\\worksheet.py:1240\u001b[0m, in \u001b[0;36mWorksheet.update\u001b[1;34m(self, values, range_name, raw, major_dimension, value_input_option, include_values_in_response, response_value_render_option, response_date_time_render_option)\u001b[0m\n\u001b[0;32m   1229\u001b[0m     value_input_option \u001b[38;5;241m=\u001b[39m (\n\u001b[0;32m   1230\u001b[0m         ValueInputOption\u001b[38;5;241m.\u001b[39mraw \u001b[38;5;28;01mif\u001b[39;00m raw \u001b[38;5;129;01mis\u001b[39;00m \u001b[38;5;28;01mTrue\u001b[39;00m \u001b[38;5;28;01melse\u001b[39;00m ValueInputOption\u001b[38;5;241m.\u001b[39muser_entered\n\u001b[0;32m   1231\u001b[0m     )\n\u001b[0;32m   1233\u001b[0m params: ParamsType \u001b[38;5;241m=\u001b[39m {\n\u001b[0;32m   1234\u001b[0m     \u001b[38;5;124m\"\u001b[39m\u001b[38;5;124mvalueInputOption\u001b[39m\u001b[38;5;124m\"\u001b[39m: value_input_option,\n\u001b[0;32m   1235\u001b[0m     \u001b[38;5;124m\"\u001b[39m\u001b[38;5;124mincludeValuesInResponse\u001b[39m\u001b[38;5;124m\"\u001b[39m: include_values_in_response,\n\u001b[0;32m   1236\u001b[0m     \u001b[38;5;124m\"\u001b[39m\u001b[38;5;124mresponseValueRenderOption\u001b[39m\u001b[38;5;124m\"\u001b[39m: response_value_render_option,\n\u001b[0;32m   1237\u001b[0m     \u001b[38;5;124m\"\u001b[39m\u001b[38;5;124mresponseDateTimeRenderOption\u001b[39m\u001b[38;5;124m\"\u001b[39m: response_date_time_render_option,\n\u001b[0;32m   1238\u001b[0m }\n\u001b[1;32m-> 1240\u001b[0m response \u001b[38;5;241m=\u001b[39m \u001b[38;5;28;43mself\u001b[39;49m\u001b[38;5;241;43m.\u001b[39;49m\u001b[43mclient\u001b[49m\u001b[38;5;241;43m.\u001b[39;49m\u001b[43mvalues_update\u001b[49m\u001b[43m(\u001b[49m\n\u001b[0;32m   1241\u001b[0m \u001b[43m    \u001b[49m\u001b[38;5;28;43mself\u001b[39;49m\u001b[38;5;241;43m.\u001b[39;49m\u001b[43mspreadsheet_id\u001b[49m\u001b[43m,\u001b[49m\n\u001b[0;32m   1242\u001b[0m \u001b[43m    \u001b[49m\u001b[43mfull_range_name\u001b[49m\u001b[43m,\u001b[49m\n\u001b[0;32m   1243\u001b[0m \u001b[43m    \u001b[49m\u001b[43mparams\u001b[49m\u001b[38;5;241;43m=\u001b[39;49m\u001b[43mparams\u001b[49m\u001b[43m,\u001b[49m\n\u001b[0;32m   1244\u001b[0m \u001b[43m    \u001b[49m\u001b[43mbody\u001b[49m\u001b[38;5;241;43m=\u001b[39;49m\u001b[43m{\u001b[49m\u001b[38;5;124;43m\"\u001b[39;49m\u001b[38;5;124;43mvalues\u001b[39;49m\u001b[38;5;124;43m\"\u001b[39;49m\u001b[43m:\u001b[49m\u001b[43m \u001b[49m\u001b[43mvalues\u001b[49m\u001b[43m,\u001b[49m\u001b[43m \u001b[49m\u001b[38;5;124;43m\"\u001b[39;49m\u001b[38;5;124;43mmajorDimension\u001b[39;49m\u001b[38;5;124;43m\"\u001b[39;49m\u001b[43m:\u001b[49m\u001b[43m \u001b[49m\u001b[43mmajor_dimension\u001b[49m\u001b[43m}\u001b[49m\u001b[43m,\u001b[49m\n\u001b[0;32m   1245\u001b[0m \u001b[43m\u001b[49m\u001b[43m)\u001b[49m\n\u001b[0;32m   1247\u001b[0m \u001b[38;5;28;01mreturn\u001b[39;00m response\n",
      "File \u001b[1;32mC:\\Python310\\lib\\site-packages\\gspread\\http_client.py:173\u001b[0m, in \u001b[0;36mHTTPClient.values_update\u001b[1;34m(self, id, range, params, body)\u001b[0m\n\u001b[0;32m    150\u001b[0m \u001b[38;5;250m\u001b[39m\u001b[38;5;124;03m\"\"\"Lower-level method that directly calls `PUT spreadsheets/<ID>/values/<range> <https://developers.google.com/sheets/api/reference/rest/v4/spreadsheets.values/update>`_.\u001b[39;00m\n\u001b[0;32m    151\u001b[0m \n\u001b[0;32m    152\u001b[0m \u001b[38;5;124;03m:param str range: The `A1 notation <https://developers.google.com/sheets/api/guides/concepts#a1_notation>`_ of the values to update.\u001b[39;00m\n\u001b[1;32m   (...)\u001b[0m\n\u001b[0;32m    170\u001b[0m \u001b[38;5;124;03m.. versionadded:: 3.0\u001b[39;00m\n\u001b[0;32m    171\u001b[0m \u001b[38;5;124;03m\"\"\"\u001b[39;00m\n\u001b[0;32m    172\u001b[0m url \u001b[38;5;241m=\u001b[39m SPREADSHEET_VALUES_URL \u001b[38;5;241m%\u001b[39m (\u001b[38;5;28mid\u001b[39m, quote(\u001b[38;5;28mrange\u001b[39m))\n\u001b[1;32m--> 173\u001b[0m r \u001b[38;5;241m=\u001b[39m \u001b[38;5;28;43mself\u001b[39;49m\u001b[38;5;241;43m.\u001b[39;49m\u001b[43mrequest\u001b[49m\u001b[43m(\u001b[49m\u001b[38;5;124;43m\"\u001b[39;49m\u001b[38;5;124;43mput\u001b[39;49m\u001b[38;5;124;43m\"\u001b[39;49m\u001b[43m,\u001b[49m\u001b[43m \u001b[49m\u001b[43murl\u001b[49m\u001b[43m,\u001b[49m\u001b[43m \u001b[49m\u001b[43mparams\u001b[49m\u001b[38;5;241;43m=\u001b[39;49m\u001b[43mparams\u001b[49m\u001b[43m,\u001b[49m\u001b[43m \u001b[49m\u001b[43mjson\u001b[49m\u001b[38;5;241;43m=\u001b[39;49m\u001b[43mbody\u001b[49m\u001b[43m)\u001b[49m\n\u001b[0;32m    174\u001b[0m \u001b[38;5;28;01mreturn\u001b[39;00m r\u001b[38;5;241m.\u001b[39mjson()\n",
      "File \u001b[1;32mC:\\Python310\\lib\\site-packages\\gspread\\http_client.py:128\u001b[0m, in \u001b[0;36mHTTPClient.request\u001b[1;34m(self, method, endpoint, params, data, json, files, headers)\u001b[0m\n\u001b[0;32m    126\u001b[0m     \u001b[38;5;28;01mreturn\u001b[39;00m response\n\u001b[0;32m    127\u001b[0m \u001b[38;5;28;01melse\u001b[39;00m:\n\u001b[1;32m--> 128\u001b[0m     \u001b[38;5;28;01mraise\u001b[39;00m APIError(response)\n",
      "\u001b[1;31mAPIError\u001b[0m: APIError: [400]: Invalid value at 'data.values' (type.googleapis.com/google.protobuf.ListValue), \"D4\""
     ]
    }
   ],
   "source": [
    "# Изменить таблицу:\n",
    "wts.update('D4', 'Some tEXT')"
   ]
  },
  {
   "cell_type": "code",
   "execution_count": 29,
   "id": "b21ec7ca-696f-4b09-880c-52ecc66fb713",
   "metadata": {},
   "outputs": [
    {
     "data": {
      "text/plain": [
       "{'spreadsheetId': '1W4-3iF4g_kSOgarrDv3mTxqIM7JYfakQzzXBeLczFgQ',\n",
       " 'replies': [{}]}"
      ]
     },
     "execution_count": 29,
     "metadata": {},
     "output_type": "execute_result"
    }
   ],
   "source": [
    "# Отформатировать строки:\n",
    "wts.format('A1:B1', {'textFormat': {'bold': True}})"
   ]
  },
  {
   "cell_type": "markdown",
   "id": "54b3f385-9873-4ce5-b990-07084aa5f11d",
   "metadata": {},
   "source": [
    "### Конец теории"
   ]
  },
  {
   "cell_type": "code",
   "execution_count": null,
   "id": "21f0af91-9f62-4025-9155-0b19bc13d353",
   "metadata": {},
   "outputs": [],
   "source": []
  },
  {
   "cell_type": "markdown",
   "id": "a46c430d-2585-4305-b504-48240934b130",
   "metadata": {},
   "source": [
    "### Заливаем данные в Гугл-таблицы"
   ]
  },
  {
   "cell_type": "code",
   "execution_count": 30,
   "id": "6d42c78a-b523-4268-8860-a9bf65f270e7",
   "metadata": {},
   "outputs": [
    {
     "data": {
      "text/plain": [
       "{'spreadsheetId': '1W4-3iF4g_kSOgarrDv3mTxqIM7JYfakQzzXBeLczFgQ',\n",
       " 'updatedRange': 'tools!A1:D794',\n",
       " 'updatedRows': 794,\n",
       " 'updatedColumns': 4,\n",
       " 'updatedCells': 3176}"
      ]
     },
     "execution_count": 30,
     "metadata": {},
     "output_type": "execute_result"
    }
   ],
   "source": [
    "# Изменяем код примера в таблице\n",
    "wts.update([df.columns.values.tolist()] + df.values.tolist())"
   ]
  },
  {
   "cell_type": "code",
   "execution_count": 31,
   "id": "dd5f0191-1f6d-47f7-b6cb-0f40500652d5",
   "metadata": {},
   "outputs": [
    {
     "data": {
      "text/plain": [
       "{'spreadsheetId': '1W4-3iF4g_kSOgarrDv3mTxqIM7JYfakQzzXBeLczFgQ',\n",
       " 'replies': [{}]}"
      ]
     },
     "execution_count": 31,
     "metadata": {},
     "output_type": "execute_result"
    }
   ],
   "source": [
    "# Отформатировать строки - сделаем жирными заголовки таблицы:\n",
    "wts.format('A1:D1', {'textFormat': {'bold': True}})"
   ]
  },
  {
   "cell_type": "code",
   "execution_count": 33,
   "id": "a5991241-7a7d-427b-9540-e31b09ac44a2",
   "metadata": {},
   "outputs": [
    {
     "data": {
      "text/plain": [
       "'2025-01-08'"
      ]
     },
     "execution_count": 33,
     "metadata": {},
     "output_type": "execute_result"
    }
   ],
   "source": [
    "# Добавим TIMESTEMP когда программа выполнилась\n",
    "from datetime import datetime\n",
    "\n",
    "datetime.now().strftime('%Y-%m-%d')"
   ]
  },
  {
   "cell_type": "code",
   "execution_count": 35,
   "id": "e61f61f4-ede3-4286-a860-bd27437a4c2c",
   "metadata": {},
   "outputs": [
    {
     "data": {
      "text/html": [
       "<div>\n",
       "<style scoped>\n",
       "    .dataframe tbody tr th:only-of-type {\n",
       "        vertical-align: middle;\n",
       "    }\n",
       "\n",
       "    .dataframe tbody tr th {\n",
       "        vertical-align: top;\n",
       "    }\n",
       "\n",
       "    .dataframe thead th {\n",
       "        text-align: right;\n",
       "    }\n",
       "</style>\n",
       "<table border=\"1\" class=\"dataframe\">\n",
       "  <thead>\n",
       "    <tr style=\"text-align: right;\">\n",
       "      <th></th>\n",
       "      <th>title</th>\n",
       "      <th>subtitle</th>\n",
       "      <th>status</th>\n",
       "      <th>price</th>\n",
       "      <th>timestamp</th>\n",
       "    </tr>\n",
       "  </thead>\n",
       "  <tbody>\n",
       "    <tr>\n",
       "      <th>788</th>\n",
       "      <td>Ленточная шлифовальная машина MESSER M3025 (дв...</td>\n",
       "      <td>Мощность - 0,8 кВт; Длина ленты - 620 мм; Шири...</td>\n",
       "      <td>Нет в наличии</td>\n",
       "      <td>35773</td>\n",
       "      <td>2025-01-08 23:37:34</td>\n",
       "    </tr>\n",
       "    <tr>\n",
       "      <th>789</th>\n",
       "      <td>Шлифмашина ленточная трехроликовая MESSER M3336</td>\n",
       "      <td>Мощность - 1.3 кВт; Длина ленты - 760 мм; Скор...</td>\n",
       "      <td>Нет в наличии</td>\n",
       "      <td>39047</td>\n",
       "      <td>2025-01-08 23:37:34</td>\n",
       "    </tr>\n",
       "    <tr>\n",
       "      <th>790</th>\n",
       "      <td>Аккумуляторная УШМ Hanskonner HAG2012BLE 1Batt...</td>\n",
       "      <td>Диаметр диска/чашки - 125 мм; Напряжение аккум...</td>\n",
       "      <td>Нет в наличии</td>\n",
       "      <td>Цена по запросу</td>\n",
       "      <td>2025-01-08 23:37:34</td>\n",
       "    </tr>\n",
       "    <tr>\n",
       "      <th>791</th>\n",
       "      <td>Аккумуляторная УШМ Hanskonner HAG1812BLE 1Batt...</td>\n",
       "      <td>Диаметр диска/чашки - 125 мм; Напряжение аккум...</td>\n",
       "      <td>Нет в наличии</td>\n",
       "      <td>Цена по запросу</td>\n",
       "      <td>2025-01-08 23:37:34</td>\n",
       "    </tr>\n",
       "    <tr>\n",
       "      <th>792</th>\n",
       "      <td>Аккумуляторная УШМ Hanskonner HAG1812BL 1Batte...</td>\n",
       "      <td>Диаметр диска/чашки - 125 мм; Напряжение аккум...</td>\n",
       "      <td>Нет в наличии</td>\n",
       "      <td>Цена по запросу</td>\n",
       "      <td>2025-01-08 23:37:34</td>\n",
       "    </tr>\n",
       "  </tbody>\n",
       "</table>\n",
       "</div>"
      ],
      "text/plain": [
       "                                                 title  \\\n",
       "788  Ленточная шлифовальная машина MESSER M3025 (дв...   \n",
       "789    Шлифмашина ленточная трехроликовая MESSER M3336   \n",
       "790  Аккумуляторная УШМ Hanskonner HAG2012BLE 1Batt...   \n",
       "791  Аккумуляторная УШМ Hanskonner HAG1812BLE 1Batt...   \n",
       "792  Аккумуляторная УШМ Hanskonner HAG1812BL 1Batte...   \n",
       "\n",
       "                                              subtitle         status  \\\n",
       "788  Мощность - 0,8 кВт; Длина ленты - 620 мм; Шири...  Нет в наличии   \n",
       "789  Мощность - 1.3 кВт; Длина ленты - 760 мм; Скор...  Нет в наличии   \n",
       "790  Диаметр диска/чашки - 125 мм; Напряжение аккум...  Нет в наличии   \n",
       "791  Диаметр диска/чашки - 125 мм; Напряжение аккум...  Нет в наличии   \n",
       "792  Диаметр диска/чашки - 125 мм; Напряжение аккум...  Нет в наличии   \n",
       "\n",
       "               price            timestamp  \n",
       "788            35773  2025-01-08 23:37:34  \n",
       "789            39047  2025-01-08 23:37:34  \n",
       "790  Цена по запросу  2025-01-08 23:37:34  \n",
       "791  Цена по запросу  2025-01-08 23:37:34  \n",
       "792  Цена по запросу  2025-01-08 23:37:34  "
      ]
     },
     "execution_count": 35,
     "metadata": {},
     "output_type": "execute_result"
    }
   ],
   "source": [
    "# Добавляем к датафрейму колонку с датой когда сформировалась таблица\n",
    "df['timestamp'] = datetime.now().strftime('%Y-%m-%d %H:%M:%S')\n",
    "df.tail()"
   ]
  },
  {
   "cell_type": "code",
   "execution_count": 36,
   "id": "aa20a91b-0c72-434f-b51a-39a8f8a57116",
   "metadata": {},
   "outputs": [
    {
     "data": {
      "text/html": [
       "<div>\n",
       "<style scoped>\n",
       "    .dataframe tbody tr th:only-of-type {\n",
       "        vertical-align: middle;\n",
       "    }\n",
       "\n",
       "    .dataframe tbody tr th {\n",
       "        vertical-align: top;\n",
       "    }\n",
       "\n",
       "    .dataframe thead th {\n",
       "        text-align: right;\n",
       "    }\n",
       "</style>\n",
       "<table border=\"1\" class=\"dataframe\">\n",
       "  <thead>\n",
       "    <tr style=\"text-align: right;\">\n",
       "      <th></th>\n",
       "      <th>title</th>\n",
       "      <th>subtitle</th>\n",
       "      <th>status</th>\n",
       "      <th>price</th>\n",
       "      <th>timestamp</th>\n",
       "    </tr>\n",
       "  </thead>\n",
       "  <tbody>\n",
       "    <tr>\n",
       "      <th>788</th>\n",
       "      <td>Ленточная шлифовальная машина MESSER M3025 (дв...</td>\n",
       "      <td>Мощность - 0,8 кВт; Длина ленты - 620 мм; Шири...</td>\n",
       "      <td>Нет в наличии</td>\n",
       "      <td>35773</td>\n",
       "      <td>2025-01-08 23:37:34</td>\n",
       "    </tr>\n",
       "    <tr>\n",
       "      <th>789</th>\n",
       "      <td>Шлифмашина ленточная трехроликовая MESSER M3336</td>\n",
       "      <td>Мощность - 1.3 кВт; Длина ленты - 760 мм; Скор...</td>\n",
       "      <td>Нет в наличии</td>\n",
       "      <td>39047</td>\n",
       "      <td>2025-01-08 23:37:34</td>\n",
       "    </tr>\n",
       "    <tr>\n",
       "      <th>790</th>\n",
       "      <td>Аккумуляторная УШМ Hanskonner HAG2012BLE 1Batt...</td>\n",
       "      <td>Диаметр диска/чашки - 125 мм; Напряжение аккум...</td>\n",
       "      <td>Нет в наличии</td>\n",
       "      <td>Цена по запросу</td>\n",
       "      <td>2025-01-08 23:37:34</td>\n",
       "    </tr>\n",
       "    <tr>\n",
       "      <th>791</th>\n",
       "      <td>Аккумуляторная УШМ Hanskonner HAG1812BLE 1Batt...</td>\n",
       "      <td>Диаметр диска/чашки - 125 мм; Напряжение аккум...</td>\n",
       "      <td>Нет в наличии</td>\n",
       "      <td>Цена по запросу</td>\n",
       "      <td>2025-01-08 23:37:34</td>\n",
       "    </tr>\n",
       "    <tr>\n",
       "      <th>792</th>\n",
       "      <td>Аккумуляторная УШМ Hanskonner HAG1812BL 1Batte...</td>\n",
       "      <td>Диаметр диска/чашки - 125 мм; Напряжение аккум...</td>\n",
       "      <td>Нет в наличии</td>\n",
       "      <td>Цена по запросу</td>\n",
       "      <td>2025-01-08 23:37:34</td>\n",
       "    </tr>\n",
       "  </tbody>\n",
       "</table>\n",
       "</div>"
      ],
      "text/plain": [
       "                                                 title  \\\n",
       "788  Ленточная шлифовальная машина MESSER M3025 (дв...   \n",
       "789    Шлифмашина ленточная трехроликовая MESSER M3336   \n",
       "790  Аккумуляторная УШМ Hanskonner HAG2012BLE 1Batt...   \n",
       "791  Аккумуляторная УШМ Hanskonner HAG1812BLE 1Batt...   \n",
       "792  Аккумуляторная УШМ Hanskonner HAG1812BL 1Batte...   \n",
       "\n",
       "                                              subtitle         status  \\\n",
       "788  Мощность - 0,8 кВт; Длина ленты - 620 мм; Шири...  Нет в наличии   \n",
       "789  Мощность - 1.3 кВт; Длина ленты - 760 мм; Скор...  Нет в наличии   \n",
       "790  Диаметр диска/чашки - 125 мм; Напряжение аккум...  Нет в наличии   \n",
       "791  Диаметр диска/чашки - 125 мм; Напряжение аккум...  Нет в наличии   \n",
       "792  Диаметр диска/чашки - 125 мм; Напряжение аккум...  Нет в наличии   \n",
       "\n",
       "               price            timestamp  \n",
       "788            35773  2025-01-08 23:37:34  \n",
       "789            39047  2025-01-08 23:37:34  \n",
       "790  Цена по запросу  2025-01-08 23:37:34  \n",
       "791  Цена по запросу  2025-01-08 23:37:34  \n",
       "792  Цена по запросу  2025-01-08 23:37:34  "
      ]
     },
     "execution_count": 36,
     "metadata": {},
     "output_type": "execute_result"
    }
   ],
   "source": [
    "df.tail()"
   ]
  },
  {
   "cell_type": "code",
   "execution_count": 37,
   "id": "88a18f32-fa8d-4a7e-bfed-4c63a823a2d1",
   "metadata": {},
   "outputs": [
    {
     "data": {
      "text/plain": [
       "{'spreadsheetId': '1W4-3iF4g_kSOgarrDv3mTxqIM7JYfakQzzXBeLczFgQ',\n",
       " 'updatedRange': 'tools!A1:E794',\n",
       " 'updatedRows': 794,\n",
       " 'updatedColumns': 5,\n",
       " 'updatedCells': 3970}"
      ]
     },
     "execution_count": 37,
     "metadata": {},
     "output_type": "execute_result"
    }
   ],
   "source": [
    "# Снова зальём изменения в Гугл-таблицу\n",
    "\n",
    "# Изменяем код примера в таблице\n",
    "wts.update([df.columns.values.tolist()] + df.values.tolist())"
   ]
  },
  {
   "cell_type": "code",
   "execution_count": null,
   "id": "748c5c86-c158-40ec-bc50-2a109c33d7a7",
   "metadata": {},
   "outputs": [],
   "source": [
    "# "
   ]
  },
  {
   "cell_type": "code",
   "execution_count": 39,
   "id": "9b2e3d09-d2ee-49e4-99e3-5c74bdb7966b",
   "metadata": {},
   "outputs": [
    {
     "data": {
      "text/html": [
       "<div>\n",
       "<style scoped>\n",
       "    .dataframe tbody tr th:only-of-type {\n",
       "        vertical-align: middle;\n",
       "    }\n",
       "\n",
       "    .dataframe tbody tr th {\n",
       "        vertical-align: top;\n",
       "    }\n",
       "\n",
       "    .dataframe thead th {\n",
       "        text-align: right;\n",
       "    }\n",
       "</style>\n",
       "<table border=\"1\" class=\"dataframe\">\n",
       "  <thead>\n",
       "    <tr style=\"text-align: right;\">\n",
       "      <th></th>\n",
       "      <th>title</th>\n",
       "      <th>subtitle</th>\n",
       "      <th>status</th>\n",
       "      <th>price</th>\n",
       "      <th>timestamp</th>\n",
       "    </tr>\n",
       "  </thead>\n",
       "  <tbody>\n",
       "    <tr>\n",
       "      <th>788</th>\n",
       "      <td>Ленточная шлифовальная машина MESSER M3025 (дв...</td>\n",
       "      <td>Мощность - 0,8 кВт; Длина ленты - 620 мм; Шири...</td>\n",
       "      <td>Нет в наличии</td>\n",
       "      <td>35773</td>\n",
       "      <td>2025-01-08 23:37:34</td>\n",
       "    </tr>\n",
       "    <tr>\n",
       "      <th>789</th>\n",
       "      <td>Шлифмашина ленточная трехроликовая MESSER M3336</td>\n",
       "      <td>Мощность - 1.3 кВт; Длина ленты - 760 мм; Скор...</td>\n",
       "      <td>Нет в наличии</td>\n",
       "      <td>39047</td>\n",
       "      <td>2025-01-08 23:37:34</td>\n",
       "    </tr>\n",
       "    <tr>\n",
       "      <th>790</th>\n",
       "      <td>Аккумуляторная УШМ Hanskonner HAG2012BLE 1Batt...</td>\n",
       "      <td>Диаметр диска/чашки - 125 мм; Напряжение аккум...</td>\n",
       "      <td>Нет в наличии</td>\n",
       "      <td>Цена по запросу</td>\n",
       "      <td>2025-01-08 23:37:34</td>\n",
       "    </tr>\n",
       "    <tr>\n",
       "      <th>791</th>\n",
       "      <td>Аккумуляторная УШМ Hanskonner HAG1812BLE 1Batt...</td>\n",
       "      <td>Диаметр диска/чашки - 125 мм; Напряжение аккум...</td>\n",
       "      <td>Нет в наличии</td>\n",
       "      <td>Цена по запросу</td>\n",
       "      <td>2025-01-08 23:37:34</td>\n",
       "    </tr>\n",
       "    <tr>\n",
       "      <th>792</th>\n",
       "      <td>Аккумуляторная УШМ Hanskonner HAG1812BL 1Batte...</td>\n",
       "      <td>Диаметр диска/чашки - 125 мм; Напряжение аккум...</td>\n",
       "      <td>Нет в наличии</td>\n",
       "      <td>Цена по запросу</td>\n",
       "      <td>2025-01-08 23:37:34</td>\n",
       "    </tr>\n",
       "  </tbody>\n",
       "</table>\n",
       "</div>"
      ],
      "text/plain": [
       "                                                 title  \\\n",
       "788  Ленточная шлифовальная машина MESSER M3025 (дв...   \n",
       "789    Шлифмашина ленточная трехроликовая MESSER M3336   \n",
       "790  Аккумуляторная УШМ Hanskonner HAG2012BLE 1Batt...   \n",
       "791  Аккумуляторная УШМ Hanskonner HAG1812BLE 1Batt...   \n",
       "792  Аккумуляторная УШМ Hanskonner HAG1812BL 1Batte...   \n",
       "\n",
       "                                              subtitle         status  \\\n",
       "788  Мощность - 0,8 кВт; Длина ленты - 620 мм; Шири...  Нет в наличии   \n",
       "789  Мощность - 1.3 кВт; Длина ленты - 760 мм; Скор...  Нет в наличии   \n",
       "790  Диаметр диска/чашки - 125 мм; Напряжение аккум...  Нет в наличии   \n",
       "791  Диаметр диска/чашки - 125 мм; Напряжение аккум...  Нет в наличии   \n",
       "792  Диаметр диска/чашки - 125 мм; Напряжение аккум...  Нет в наличии   \n",
       "\n",
       "               price            timestamp  \n",
       "788            35773  2025-01-08 23:37:34  \n",
       "789            39047  2025-01-08 23:37:34  \n",
       "790  Цена по запросу  2025-01-08 23:37:34  \n",
       "791  Цена по запросу  2025-01-08 23:37:34  \n",
       "792  Цена по запросу  2025-01-08 23:37:34  "
      ]
     },
     "execution_count": 39,
     "metadata": {},
     "output_type": "execute_result"
    }
   ],
   "source": [
    "# Добавим строку, чтобы программа проверяла и записывала новые данные в конец таблицы\n",
    "# Для этого скачаем таблицу из Гугл и сохраним её во временный датафрейм\n",
    "current_df = pd.DataFrame(wts.get_all_records())\n",
    "current_df.tail()"
   ]
  },
  {
   "cell_type": "code",
   "execution_count": 42,
   "id": "5faf43dd-705a-41d8-97f6-1692ca492f59",
   "metadata": {},
   "outputs": [
    {
     "data": {
      "text/plain": [
       "(793, 5)"
      ]
     },
     "execution_count": 42,
     "metadata": {},
     "output_type": "execute_result"
    }
   ],
   "source": [
    "current_df.shape"
   ]
  },
  {
   "cell_type": "code",
   "execution_count": 40,
   "id": "3b616f10-3dcf-4abf-b814-b998f69b2de9",
   "metadata": {},
   "outputs": [],
   "source": [
    "# Объединим две таблицы - скачанную (временную) и постоянную(с возможными изменениями)\n",
    "merged_df = pd.concat([df, current_df])"
   ]
  },
  {
   "cell_type": "code",
   "execution_count": 41,
   "id": "e2666058-2291-46ff-8572-5a69237dc4e0",
   "metadata": {},
   "outputs": [
    {
     "data": {
      "text/plain": [
       "(1586, 5)"
      ]
     },
     "execution_count": 41,
     "metadata": {},
     "output_type": "execute_result"
    }
   ],
   "source": [
    "# \n",
    "merged_df.shape"
   ]
  },
  {
   "cell_type": "code",
   "execution_count": 43,
   "id": "3f35fe69-8aba-48e3-8df1-d1d91b850b9a",
   "metadata": {},
   "outputs": [
    {
     "data": {
      "text/plain": [
       "{'spreadsheetId': '1W4-3iF4g_kSOgarrDv3mTxqIM7JYfakQzzXBeLczFgQ',\n",
       " 'updatedRange': 'tools!A1:E1587',\n",
       " 'updatedRows': 1587,\n",
       " 'updatedColumns': 5,\n",
       " 'updatedCells': 7935}"
      ]
     },
     "execution_count": 43,
     "metadata": {},
     "output_type": "execute_result"
    }
   ],
   "source": [
    "# ЭТО ДЛЯ ДОБАВЛЕНИЯ НОВЫХ ДАННЫХ В ТАБЛИЦУ БЕЗ ЕЁ ПЕРЕЗАПИСИ !!!!!!\n",
    "\n",
    "wts.update([merged_df.columns.values.tolist()] + merged_df.values.tolist())\n",
    "\n",
    "# wts.update([df.columns.values.tolist()] + df.values.tolist())"
   ]
  },
  {
   "cell_type": "code",
   "execution_count": null,
   "id": "8c972f84-55de-466d-848d-ac69cddd585e",
   "metadata": {},
   "outputs": [],
   "source": []
  },
  {
   "cell_type": "markdown",
   "id": "b370688e-9ae5-4d1c-8500-95b0de4c34fa",
   "metadata": {},
   "source": [
    "# Автоматизируем Python скрипты с Cron | Часть 3 | Python Cron"
   ]
  },
  {
   "cell_type": "markdown",
   "id": "66d056bc-8fb3-4020-8a5a-f0aba34151d2",
   "metadata": {},
   "source": [
    "#### https://youtu.be/Paq4fW9Z_5w?si=DZsBkI60pXs2JVvx\n",
    "https://www.youtube.com/watch?v=Paq4fW9Z_5w&list=PL2PN33KbuWfx0lPNVUJbjD6y63hctbhn3&index=3"
   ]
  },
  {
   "cell_type": "markdown",
   "id": "3ef83c66-508a-4a41-8441-fc41fd8a59db",
   "metadata": {},
   "source": [
    "#### Создаём скрипт, автоматически парсящий страницы сайтов\n",
    "#### и загружающший скачанную инфу в Google-таблицы"
   ]
  },
  {
   "cell_type": "code",
   "execution_count": null,
   "id": "892836fc-e67a-4b43-b302-edc807716b6c",
   "metadata": {},
   "outputs": [],
   "source": [
    "# FILE app.py\n",
    "\n",
    "from datetime import datetime\n",
    "print(f'Current time - {datetime.now().strftime('%Y-%m-%d %H:%M:%S')}')"
   ]
  },
  {
   "cell_type": "markdown",
   "id": "bdbb266a-a423-4509-87a0-edf8b86104ff",
   "metadata": {},
   "source": [
    "### В данном видео рассказывают о подключении к планировщику заданий CRON для MAC - настраиваем расписание, запуск программы парсера, сохранение результатов в файл"
   ]
  },
  {
   "cell_type": "code",
   "execution_count": null,
   "id": "4789da12-942b-4e6d-9e52-7e94716c35b5",
   "metadata": {},
   "outputs": [],
   "source": [
    "# \n"
   ]
  },
  {
   "cell_type": "code",
   "execution_count": null,
   "id": "3d1d6197-0d66-44be-8623-6464331090cd",
   "metadata": {},
   "outputs": [],
   "source": [
    "# \n"
   ]
  },
  {
   "cell_type": "markdown",
   "id": "76f7fe54-0eac-4b90-b962-6b44a78878a5",
   "metadata": {},
   "source": [
    "## Подготовка к скачиванию из Гугл/таблиц"
   ]
  },
  {
   "cell_type": "markdown",
   "id": "915df159-19bc-40eb-bcdc-789b3de73871",
   "metadata": {},
   "source": [
    "### Подключаем нужные библиотеки все сразу\n",
    "#### для запуска всего проекта"
   ]
  },
  {
   "cell_type": "code",
   "execution_count": 22,
   "id": "89b4a223-21a7-49db-b441-7b3da63ae86f",
   "metadata": {},
   "outputs": [],
   "source": [
    "# Pandas & Numpy\n",
    "import pandas as pd\n",
    "import numpy as np\n",
    "import sys\n",
    "\n",
    "# Для работы с форматом даты и временными рядами, строковыми форматами и генерацией случайных величин\n",
    "from datetime import datetime, timedelta, date, time\n",
    "from io import StringIO\n",
    "import random\n",
    "\n",
    "# Для работы с HTML кодом в Python используют модуль etree:\n",
    "from urllib.request import urlopen\n",
    "from lxml import etree\n",
    "from openpyxl import Workbook\n",
    "\n",
    "# Подключаем библиотеку для парсинга сайтов !!!!!!!!!!!!!\n",
    "import requests\n",
    "\n",
    "# Подключаем библиотеку для поиска элементов кода на сайте !!!!!!!!!!!!!\n",
    "from bs4 import BeautifulSoup\n",
    "\n",
    "# Подключаем библиотеку для соединения с google-таблицами !!!!!!!!!!!!!\n",
    "import gspread\n",
    "\n",
    "# Vizualization - Seaborn & MatPlotLib\n",
    "import seaborn as sns\n",
    "import matplotlib.pyplot as plt\n",
    "%matplotlib inline\n",
    "\n",
    "# Plotly\n",
    "# позволяет строить интерактивные визуализации\n",
    "import plotly"
   ]
  },
  {
   "cell_type": "code",
   "execution_count": 24,
   "id": "159898e2-f9dc-43f3-984a-cfe70fe681cc",
   "metadata": {},
   "outputs": [],
   "source": [
    "# Объявляем ключ для связи с сервисным аккаунтом и его расположение на диске\n",
    "gc = gspread.service_account(filename='../../beauty-salon-key.json')"
   ]
  },
  {
   "cell_type": "code",
   "execution_count": 15,
   "id": "4884d619-fcfd-4fa3-bf03-bdf5f7a56d0b",
   "metadata": {},
   "outputs": [],
   "source": [
    "# Opening a Spreadsheet\n",
    "# Открытие электронной таблицы\n",
    "wks = gc.open('Elion').sheet1"
   ]
  },
  {
   "cell_type": "code",
   "execution_count": 16,
   "id": "bc3f02dd-9c94-4cd7-b59a-efcc622e1bdd",
   "metadata": {},
   "outputs": [
    {
     "data": {
      "text/html": [
       "<div>\n",
       "<style scoped>\n",
       "    .dataframe tbody tr th:only-of-type {\n",
       "        vertical-align: middle;\n",
       "    }\n",
       "\n",
       "    .dataframe tbody tr th {\n",
       "        vertical-align: top;\n",
       "    }\n",
       "\n",
       "    .dataframe thead th {\n",
       "        text-align: right;\n",
       "    }\n",
       "</style>\n",
       "<table border=\"1\" class=\"dataframe\">\n",
       "  <thead>\n",
       "    <tr style=\"text-align: right;\">\n",
       "      <th></th>\n",
       "      <th>Отметка времени</th>\n",
       "      <th>Где вы узнали о нашем салоне?</th>\n",
       "      <th>Как часто Вы посещаете салоны красоты?</th>\n",
       "      <th>Оцените персонал нашего салона</th>\n",
       "      <th>Какие процедуры вы проходили?</th>\n",
       "      <th>Оцените качество услуги по 5-бальной шкале</th>\n",
       "      <th>Как вы оцениваете цены на наши услуги?</th>\n",
       "      <th>Если у Вас есть предложения по улучшению наших услуг - напишите их сюда:</th>\n",
       "      <th>Ваш пол:</th>\n",
       "      <th>Ваш возраст:</th>\n",
       "      <th>Ваш социальный статус:</th>\n",
       "      <th>Ваш ежемесячный уровень дохода:</th>\n",
       "    </tr>\n",
       "  </thead>\n",
       "  <tbody>\n",
       "    <tr>\n",
       "      <th>0</th>\n",
       "      <td>16.09.2024 22:16:33</td>\n",
       "      <td>От знакомых</td>\n",
       "      <td>Несколько раз в месяц</td>\n",
       "      <td>Приятный</td>\n",
       "      <td>Парикмахерская</td>\n",
       "      <td>5</td>\n",
       "      <td>Приемлемые</td>\n",
       "      <td>Сложно записаться на выходные дни</td>\n",
       "      <td>Мужской</td>\n",
       "      <td>от 46 до 55 лет</td>\n",
       "      <td>Предприниматель</td>\n",
       "      <td>до 30 тысяч рублей</td>\n",
       "    </tr>\n",
       "    <tr>\n",
       "      <th>1</th>\n",
       "      <td>16.09.2024 22:18:11</td>\n",
       "      <td>Случайно</td>\n",
       "      <td>Несколько раз в год</td>\n",
       "      <td>Нейтральный</td>\n",
       "      <td>Бровист, Маникюр, Педикюр</td>\n",
       "      <td>4</td>\n",
       "      <td>Высокие</td>\n",
       "      <td>Сомнительная чистота в зале</td>\n",
       "      <td>Женский</td>\n",
       "      <td>от 36 до 45 лет</td>\n",
       "      <td>Домохозяйка</td>\n",
       "      <td>от 30 до 100 тысяч рублей</td>\n",
       "    </tr>\n",
       "    <tr>\n",
       "      <th>2</th>\n",
       "      <td>16.09.2024 22:32:58</td>\n",
       "      <td>Интернет, социальные сети</td>\n",
       "      <td>Несколько раз в год</td>\n",
       "      <td>Очень приятный</td>\n",
       "      <td>Массаж, Косметолог, Солярий</td>\n",
       "      <td>3</td>\n",
       "      <td>Приемлемые</td>\n",
       "      <td>Нет предложений</td>\n",
       "      <td>Женский</td>\n",
       "      <td>от 26 до 35 лет</td>\n",
       "      <td>Служащий, работник бюджетной сферы</td>\n",
       "      <td>до 30 тысяч рублей</td>\n",
       "    </tr>\n",
       "    <tr>\n",
       "      <th>3</th>\n",
       "      <td>16.09.2024 22:58:36</td>\n",
       "      <td>Случайно</td>\n",
       "      <td>Несколько раз в неделю</td>\n",
       "      <td>Приятный</td>\n",
       "      <td>Парикмахерская, Соляная комната</td>\n",
       "      <td>3</td>\n",
       "      <td>Приемлемые</td>\n",
       "      <td>Поставьте музыку на фоне</td>\n",
       "      <td>Женский</td>\n",
       "      <td>от 19 до 25 лет</td>\n",
       "      <td>Служащий, работник бюджетной сферы</td>\n",
       "      <td>до 30 тысяч рублей</td>\n",
       "    </tr>\n",
       "    <tr>\n",
       "      <th>4</th>\n",
       "      <td>17.09.2024 19:02:45</td>\n",
       "      <td>От знакомых</td>\n",
       "      <td>Несколько раз в месяц</td>\n",
       "      <td>Приятный</td>\n",
       "      <td>Парикмахерская</td>\n",
       "      <td>4</td>\n",
       "      <td>Приемлемые</td>\n",
       "      <td>Нет</td>\n",
       "      <td>Мужской</td>\n",
       "      <td>55 +</td>\n",
       "      <td>Пенсионер</td>\n",
       "      <td>до 30 тысяч рублей</td>\n",
       "    </tr>\n",
       "  </tbody>\n",
       "</table>\n",
       "</div>"
      ],
      "text/plain": [
       "       Отметка времени Где вы узнали о нашем салоне?  \\\n",
       "0  16.09.2024 22:16:33                   От знакомых   \n",
       "1  16.09.2024 22:18:11                      Случайно   \n",
       "2  16.09.2024 22:32:58     Интернет, социальные сети   \n",
       "3  16.09.2024 22:58:36                      Случайно   \n",
       "4  17.09.2024 19:02:45                   От знакомых   \n",
       "\n",
       "  Как часто Вы посещаете салоны красоты? Оцените персонал нашего салона  \\\n",
       "0                  Несколько раз в месяц                       Приятный   \n",
       "1                    Несколько раз в год                    Нейтральный   \n",
       "2                    Несколько раз в год                 Очень приятный   \n",
       "3                 Несколько раз в неделю                       Приятный   \n",
       "4                  Несколько раз в месяц                       Приятный   \n",
       "\n",
       "     Какие процедуры вы проходили?  \\\n",
       "0                   Парикмахерская   \n",
       "1        Бровист, Маникюр, Педикюр   \n",
       "2      Массаж, Косметолог, Солярий   \n",
       "3  Парикмахерская, Соляная комната   \n",
       "4                   Парикмахерская   \n",
       "\n",
       "   Оцените качество услуги по 5-бальной шкале  \\\n",
       "0                                           5   \n",
       "1                                           4   \n",
       "2                                           3   \n",
       "3                                           3   \n",
       "4                                           4   \n",
       "\n",
       "  Как вы оцениваете цены на наши услуги?  \\\n",
       "0                             Приемлемые   \n",
       "1                                Высокие   \n",
       "2                             Приемлемые   \n",
       "3                             Приемлемые   \n",
       "4                             Приемлемые   \n",
       "\n",
       "  Если у Вас есть предложения по улучшению наших услуг - напишите их сюда:  \\\n",
       "0                  Сложно записаться на выходные дни                         \n",
       "1                        Сомнительная чистота в зале                         \n",
       "2                                    Нет предложений                         \n",
       "3                           Поставьте музыку на фоне                         \n",
       "4                                                Нет                         \n",
       "\n",
       "  Ваш пол:     Ваш возраст:              Ваш социальный статус:  \\\n",
       "0  Мужской  от 46 до 55 лет                     Предприниматель   \n",
       "1  Женский  от 36 до 45 лет                         Домохозяйка   \n",
       "2  Женский  от 26 до 35 лет  Служащий, работник бюджетной сферы   \n",
       "3  Женский  от 19 до 25 лет  Служащий, работник бюджетной сферы   \n",
       "4  Мужской             55 +                           Пенсионер   \n",
       "\n",
       "  Ваш ежемесячный уровень дохода:  \n",
       "0              до 30 тысяч рублей  \n",
       "1       от 30 до 100 тысяч рублей  \n",
       "2              до 30 тысяч рублей  \n",
       "3              до 30 тысяч рублей  \n",
       "4              до 30 тысяч рублей  "
      ]
     },
     "execution_count": 16,
     "metadata": {},
     "output_type": "execute_result"
    }
   ],
   "source": [
    "# Getting All Values From a Worksheet as a List of Dictionaries\n",
    "# Получение всех значений из рабочего листа в виде списка словарей\n",
    "# Получение всех значений из рабочего листа в виде списка словарей\n",
    "# list_of_dicts = wks.get_all_records()\n",
    "\n",
    "# Использование gspread с pandas\n",
    "# pandas — популярная библиотека для анализа данных.\n",
    "# Самый простой способ получить данные из таблицы в pandas DataFrame — это get_all_records():\n",
    "elion_df = pd.DataFrame(wks.get_all_records())\n",
    "elion_df.head()"
   ]
  },
  {
   "cell_type": "code",
   "execution_count": null,
   "id": "add2d547-9dec-4671-84b8-c422bdb6779a",
   "metadata": {},
   "outputs": [],
   "source": []
  },
  {
   "cell_type": "code",
   "execution_count": null,
   "id": "9e945333-7af1-4f30-a598-fb3c55d4fb81",
   "metadata": {},
   "outputs": [],
   "source": []
  },
  {
   "cell_type": "code",
   "execution_count": 17,
   "id": "ab3f0018-e006-4141-8f9a-497d22ab78cf",
   "metadata": {},
   "outputs": [],
   "source": [
    "# Opening a Spreadsheet\n",
    "# Открытие электронной таблицы\n",
    "wpr = gc.open('web_parsing_report').sheet1"
   ]
  },
  {
   "cell_type": "code",
   "execution_count": 18,
   "id": "2c8bb1a9-8834-4103-b4a0-5cf19c28cdf3",
   "metadata": {},
   "outputs": [
    {
     "data": {
      "text/html": [
       "<div>\n",
       "<style scoped>\n",
       "    .dataframe tbody tr th:only-of-type {\n",
       "        vertical-align: middle;\n",
       "    }\n",
       "\n",
       "    .dataframe tbody tr th {\n",
       "        vertical-align: top;\n",
       "    }\n",
       "\n",
       "    .dataframe thead th {\n",
       "        text-align: right;\n",
       "    }\n",
       "</style>\n",
       "<table border=\"1\" class=\"dataframe\">\n",
       "  <thead>\n",
       "    <tr style=\"text-align: right;\">\n",
       "      <th></th>\n",
       "      <th>title</th>\n",
       "      <th>price</th>\n",
       "      <th>timestamp</th>\n",
       "    </tr>\n",
       "  </thead>\n",
       "  <tbody>\n",
       "    <tr>\n",
       "      <th>0</th>\n",
       "      <td>Стимулирующее масло для бороды и усов MEN’S MA...</td>\n",
       "      <td>711</td>\n",
       "      <td>2024-09-20 20:52:26</td>\n",
       "    </tr>\n",
       "    <tr>\n",
       "      <th>1</th>\n",
       "      <td>Шампунь Окрашивающий для волос MEN’S MASTER Чё...</td>\n",
       "      <td>106</td>\n",
       "      <td>2024-09-20 20:52:26</td>\n",
       "    </tr>\n",
       "    <tr>\n",
       "      <th>2</th>\n",
       "      <td>Шампунь окрашивающий для волос MEN’S MASTER Ко...</td>\n",
       "      <td>106</td>\n",
       "      <td>2024-09-20 20:52:26</td>\n",
       "    </tr>\n",
       "    <tr>\n",
       "      <th>3</th>\n",
       "      <td>Шампунь Стимулирующий \"Красный перец, кофеин и...</td>\n",
       "      <td>765</td>\n",
       "      <td>2024-09-20 20:52:26</td>\n",
       "    </tr>\n",
       "    <tr>\n",
       "      <th>4</th>\n",
       "      <td>Шампунь Детокс \"Уголь и репей\" MEN’S MASTER 26...</td>\n",
       "      <td>816</td>\n",
       "      <td>2024-09-20 20:52:26</td>\n",
       "    </tr>\n",
       "  </tbody>\n",
       "</table>\n",
       "</div>"
      ],
      "text/plain": [
       "                                               title price  \\\n",
       "0  Стимулирующее масло для бороды и усов MEN’S MA...   711   \n",
       "1  Шампунь Окрашивающий для волос MEN’S MASTER Чё...   106   \n",
       "2  Шампунь окрашивающий для волос MEN’S MASTER Ко...   106   \n",
       "3  Шампунь Стимулирующий \"Красный перец, кофеин и...   765   \n",
       "4  Шампунь Детокс \"Уголь и репей\" MEN’S MASTER 26...   816   \n",
       "\n",
       "             timestamp  \n",
       "0  2024-09-20 20:52:26  \n",
       "1  2024-09-20 20:52:26  \n",
       "2  2024-09-20 20:52:26  \n",
       "3  2024-09-20 20:52:26  \n",
       "4  2024-09-20 20:52:26  "
      ]
     },
     "execution_count": 18,
     "metadata": {},
     "output_type": "execute_result"
    }
   ],
   "source": [
    "# Использование gspread с pandas\n",
    "# pandas — популярная библиотека для анализа данных.\n",
    "# Самый простой способ получить данные из таблицы в pandas DataFrame — это get_all_records():\n",
    "parsing_df = pd.DataFrame(wpr.get_all_records())\n",
    "parsing_df.head()"
   ]
  },
  {
   "cell_type": "code",
   "execution_count": null,
   "id": "f18398a3-3f7b-4b74-bcf0-0922bfcc28af",
   "metadata": {},
   "outputs": [],
   "source": []
  }
 ],
 "metadata": {
  "kernelspec": {
   "display_name": "Python 3 (ipykernel)",
   "language": "python",
   "name": "python3"
  },
  "language_info": {
   "codemirror_mode": {
    "name": "ipython",
    "version": 3
   },
   "file_extension": ".py",
   "mimetype": "text/x-python",
   "name": "python",
   "nbconvert_exporter": "python",
   "pygments_lexer": "ipython3",
   "version": "3.10.4"
  }
 },
 "nbformat": 4,
 "nbformat_minor": 5
}
