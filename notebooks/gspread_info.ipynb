{
 "cells": [
  {
   "cell_type": "code",
   "execution_count": 5,
   "metadata": {},
   "outputs": [],
   "source": []
  },
  {
   "cell_type": "code",
   "execution_count": 1,
   "metadata": {},
   "outputs": [],
   "source": [
    "# Импортируем нужные нам библиотеки.\n",
    "import pandas as pd\n",
    "from io import StringIO\n",
    "\n",
    "import numpy as np\n",
    "import random\n",
    "\n",
    "# Использование объекта datetime :\n",
    "from datetime import datetime\n",
    "import time"
   ]
  },
  {
   "cell_type": "code",
   "execution_count": 2,
   "metadata": {},
   "outputs": [],
   "source": [
    "# Подключаем библиотеку для поиска элементов кода на сайте !!!!!!!!!!!!!\n",
    "# Библиотека PYTHON для извлечения данных из файлов HTML и XML\n",
    "from bs4 import BeautifulSoup\n",
    "\n",
    "# Подключаем библиотеки для парсинга сайтов !!!!!!!!!!!!!\n",
    "import requests\n",
    "import json\n",
    "import csv\n",
    "import random\n",
    "from time import sleep\n",
    "import openpyxl # Работа с файлами XLSX\n",
    "import xlsxwriter\n",
    "import lxml"
   ]
  },
  {
   "cell_type": "code",
   "execution_count": 3,
   "metadata": {},
   "outputs": [],
   "source": [
    "# Выполним импорты:\n",
    "# from gspread import Client, Spreadsheet, Worksheet, service_account\n",
    "from gspread import Client, Spreadsheet, Worksheet, service_account, exceptions\n",
    "from typing import List, Dict"
   ]
  },
  {
   "cell_type": "markdown",
   "metadata": {},
   "source": [
    "### Путь к папкам и файлам с данными - Path to folders and files with data\n",
    "\n",
    "#### ВНЕШНИЕ (скачанные) данные: ../data/external/(csv, html, json, xls)/file_name.*\n",
    "#### ВРЕМЕННЫЕ данные: ../data/interim/(csv, html, json, xls)/file_name.*\n",
    "#### ФИНАЛЬНЫЕ данные: ../data/processed/(csv, html, json, xls)/file_name.*"
   ]
  },
  {
   "cell_type": "code",
   "execution_count": null,
   "metadata": {},
   "outputs": [],
   "source": []
  },
  {
   "cell_type": "markdown",
   "metadata": {},
   "source": [
    "# Сохраняем датафрейм в EXCEL-таблицу при отсутствии файла"
   ]
  },
  {
   "cell_type": "markdown",
   "metadata": {},
   "source": [
    "### Как проверить существование файла?"
   ]
  },
  {
   "cell_type": "code",
   "execution_count": null,
   "metadata": {},
   "outputs": [],
   "source": [
    "# Как проверить существование файла?\n",
    "import os\n",
    "\n",
    "if os.path.exists(\"Имя_папки\\\\Имя_папки\\\\anytext.txt\"): \n",
    "     print (\"Файл найден\")\n",
    "else: \n",
    "     print (\"Файл не найден\")"
   ]
  },
  {
   "cell_type": "markdown",
   "metadata": {},
   "source": [
    "## pandas.DataFrame.to_excel — pandas 2.2.3 documentation"
   ]
  },
  {
   "cell_type": "markdown",
   "metadata": {},
   "source": [
    "### pandas.DataFrame.to_excel\n",
    "DataFrame.to_excel(excel_writer, *, sheet_name='Sheet1', na_rep='', float_format=None, columns=None, header=True, index=True, index_label=None, startrow=0, startcol=0, engine=None, merge_cells=True, inf_rep='inf', freeze_panes=None, storage_options=None, engine_kwargs=None)"
   ]
  },
  {
   "cell_type": "code",
   "execution_count": 34,
   "metadata": {},
   "outputs": [],
   "source": [
    "# Сохраняем датафрейм в EXCEL-таблицу\n",
    "import os\n",
    "import openpyxl # Работа с файлами XLSX\n",
    "\n",
    "# Прописываем путь и характеристики файла\n",
    "PATH = '../data/processed/xls/'\n",
    "file_name = 'sauna_articles'\n",
    "sheet_name = 'chelyabinsk'\n",
    "file_extension = '.xlsx'\n",
    "FILE = PATH + file_name + file_extension\n",
    "\n",
    "# Если папки для сохранения результатов не существует, то она будет создана\n",
    "if not os.path.isdir(PATH):\n",
    "    os.mkdir(PATH)\n",
    "\n",
    "# Отправляем датафрейм в EXCEL-таблицу\n",
    "df1.to_excel(FILE, engine='openpyxl', sheet_name=sheet_name)\n",
    "\n",
    "# df1.to_excel(\"output.xlsx\", sheet_name='Sheet_name_1')"
   ]
  },
  {
   "cell_type": "markdown",
   "metadata": {},
   "source": [
    "### Как проверить существование файла?"
   ]
  },
  {
   "cell_type": "code",
   "execution_count": 43,
   "metadata": {},
   "outputs": [
    {
     "name": "stdout",
     "output_type": "stream",
     "text": [
      "Файл найден\n"
     ]
    }
   ],
   "source": [
    "# Как проверить существование файла?\n",
    "import os\n",
    "\n",
    "# Прописываем путь и характеристики файла\n",
    "PATH = '../data/processed/xls/'\n",
    "file_name = 'sauna_articles'\n",
    "sheet_name = 'chelyabinsk'\n",
    "file_extension = '.xlsx'\n",
    "FILE = PATH + file_name + file_extension\n",
    "\n",
    "if os.path.exists(FILE): \n",
    "     print (\"Файл найден\")\n",
    "else: \n",
    "     print (\"Файл не найден\")"
   ]
  },
  {
   "cell_type": "code",
   "execution_count": null,
   "metadata": {},
   "outputs": [],
   "source": []
  },
  {
   "cell_type": "markdown",
   "metadata": {},
   "source": [
    "### Как проверить существование папки? Если папка не существует - создать."
   ]
  },
  {
   "cell_type": "code",
   "execution_count": 40,
   "metadata": {},
   "outputs": [
    {
     "name": "stdout",
     "output_type": "stream",
     "text": [
      "Папки не существует !!!\n"
     ]
    }
   ],
   "source": [
    "# Как проверить существование папки?\n",
    "import os\n",
    "\n",
    "# Прописываем путь и характеристики файла\n",
    "PATH = '../data/processed/xlsыы/'\n",
    "file_name = 'sauna_articles'\n",
    "sheet_name = 'chelyabinsk'\n",
    "file_extension = '.xlsx'\n",
    "FILE = PATH + file_name + file_extension\n",
    "\n",
    "# Если папки для сохранения результатов не существует, то она будет создана\n",
    "# if not os.path.isdir(PATH):\n",
    "#     os.mkdir(PATH)\n",
    "    \n",
    "if os.path.isdir(PATH): \n",
    "     print (\"Папка найдена!\")\n",
    "else: \n",
    "     print (\"Папки не существует !!!\")"
   ]
  },
  {
   "cell_type": "markdown",
   "metadata": {},
   "source": [
    "# Загружаем данные в Google Sheets API Python - ТЕОРИЯ"
   ]
  },
  {
   "cell_type": "markdown",
   "metadata": {},
   "source": [
    "### Простой способ взаимодействия с Google Таблицами через Python (Gspread)"
   ]
  },
  {
   "cell_type": "markdown",
   "metadata": {},
   "source": [
    "##### https://habr.com/ru/articles/825404/"
   ]
  },
  {
   "cell_type": "markdown",
   "metadata": {},
   "source": [
    "##### Установка:\n",
    "pip install -r req.txt\n",
    "\n",
    "##### Выполним импорты:\n",
    "from gspread import Client, Spreadsheet, Worksheet, service_account\n",
    "\n",
    "##### Client:\n",
    "Это класс, представляющий клиентскую сессию для взаимодействия с Google Sheets. Используется для аутентификации и управления доступом к таблицам.\n",
    "\n",
    "##### Spreadsheet:\n",
    "Это класс, представляющий конкретную таблицу в Google Sheets. С его помощью можно управлять рабочими листами внутри таблицы и выполнять операции с данными.\n",
    "\n",
    "##### Worksheet:\n",
    "Это класс, представляющий конкретный рабочий лист внутри таблицы. Используется для выполнения операций с данными, таких как чтение, запись и обновление.\n",
    "\n",
    "##### service_account:\n",
    "Это функция для аутентификации с использованием сервисного аккаунта. С её помощью создается клиентская сессия (Client) для взаимодействия с Google Sheets от имени сервисного аккаунта."
   ]
  },
  {
   "cell_type": "code",
   "execution_count": 15,
   "metadata": {},
   "outputs": [],
   "source": [
    "# Выполним импорты:\n",
    "# from gspread import Client, Spreadsheet, Worksheet, service_account\n",
    "from gspread import Client, Spreadsheet, Worksheet, service_account, exceptions\n",
    "from typing import List, Dict\n",
    "\n",
    "from faker import Faker\n",
    "\n",
    "# from get_fake_users import get_fake_users # (если код находится в другом файле)"
   ]
  },
  {
   "cell_type": "code",
   "execution_count": 2,
   "metadata": {},
   "outputs": [
    {
     "data": {
      "text/plain": [
       "<gspread.client.Client at 0x21038be06b0>"
      ]
     },
     "execution_count": 2,
     "metadata": {},
     "output_type": "execute_result"
    }
   ],
   "source": [
    "# Напишем функцию, которая позволит выполнить инициализацию клиента для работы с Google Sheets через загруженный JSON:\n",
    "\n",
    "def client_init_json() -> Client:\n",
    "    \"\"\"Создание клиента для работы с Google Sheets.\"\"\"\n",
    "    return service_account(filename='../../beauty-salon-key.json')\n",
    "\n",
    "# Если мы просто вызовем эту функцию и распечатаем результат, то увидим следующее:\n",
    "# <gspread.client.Client object at 0x00000166052A0380>\n",
    "# Такой ответ говорит нам о том, что авторизация прошла корректно.\n",
    "client_init_json()"
   ]
  },
  {
   "cell_type": "code",
   "execution_count": null,
   "metadata": {},
   "outputs": [],
   "source": [
    "# Для получения ссылки на таблицу (а из нее ещё и ID) просто копируем ссылку с браузера на таблицу. В моем случае вид такой:\n",
    "\n",
    "# https://docs.google.com/spreadsheets/d/1-9n_S8-uQxykltg4g3N6ucY3uG_KnGjwU_phmjzITXU/edit?gid=0#gid=0\n",
    "\n",
    "# ID хранится в ссылке на таблицу после d/\n",
    "# Обратите внимание. В ссылке на таблицу уже указывется ee ID.\n",
    "\n",
    "# My link for GSPREA_TEST:\n",
    "# https://docs.google.com/spreadsheets/d/175hbs5sUemHIlIkZE6G6lZvwvsgZTZjNXma2zhlN5Xg/edit?gid=0#gid=0"
   ]
  },
  {
   "cell_type": "code",
   "execution_count": 3,
   "metadata": {},
   "outputs": [],
   "source": [
    "table_link = 'https://docs.google.com/spreadsheets/d/175hbs5sUemHIlIkZE6G6lZvwvsgZTZjNXma2zhlN5Xg/edit?gid=0#gid=0'\n",
    "table_id = '175hbs5sUemHIlIkZE6G6lZvwvsgZTZjNXma2zhlN5Xg'"
   ]
  },
  {
   "cell_type": "code",
   "execution_count": 4,
   "metadata": {},
   "outputs": [
    {
     "name": "stdout",
     "output_type": "stream",
     "text": [
      "Инфо по таблице по ссылке:  <Spreadsheet 'gspread_test' id:175hbs5sUemHIlIkZE6G6lZvwvsgZTZjNXma2zhlN5Xg>\n",
      "Инфо по таблице по id:  <Spreadsheet 'gspread_test' id:175hbs5sUemHIlIkZE6G6lZvwvsgZTZjNXma2zhlN5Xg>\n"
     ]
    }
   ],
   "source": [
    "# Пишем код для доступа к таблице:\n",
    "\n",
    "def get_table_by_url(client: Client, table_url):\n",
    "    \"\"\"Получение таблицы из Google Sheets по ссылке.\"\"\"\n",
    "    return client.open_by_url(table_url)\n",
    "\n",
    "\n",
    "def get_table_by_id(client: Client, table_url):\n",
    "    \"\"\"Получение таблицы из Google Sheets по ID таблицы.\"\"\"\n",
    "    return client.open_by_key(table_url)\n",
    "\n",
    "# Тестируем:\n",
    "\n",
    "def test_get_table(table_url: str, table_key: str):\n",
    "    \"\"\"Тестирование получения таблицы из Google Sheets.\"\"\"\n",
    "    \n",
    "    # Создаем клиента и открываем таблицу\n",
    "    client = client_init_json()\n",
    "    table = get_table_by_url(client, table_url)\n",
    "    print('Инфо по таблице по ссылке: ', table)\n",
    "    \n",
    "    table = get_table_by_id(client, table_key)\n",
    "    print('Инфо по таблице по id: ', table)\n",
    "\n",
    "\n",
    "if __name__ == '__main__':\n",
    "    test_get_table(table_link, table_id)\n",
    "\n",
    "# ВСЁ ПОЛУЧИЛОСЬ !!! = EVERYTHING WORKED OUT !!!"
   ]
  },
  {
   "cell_type": "code",
   "execution_count": null,
   "metadata": {},
   "outputs": [],
   "source": [
    "# Результат выполнения кода:\n",
    "\n",
    "# Инфо по таблице по ссылке:  <Spreadsheet 'Habr table' id:1lzQ78nxKShICHQaVW2ZuKw5QBRR1q4gAzPPbVOHsd4Q>\n",
    "# Инфо по таблице по id:  <Spreadsheet 'Habr table' id:1lzQ78nxKShICHQaVW2ZuKw5QBRR1q4gAzPPbVOHsd4Q>"
   ]
  },
  {
   "cell_type": "code",
   "execution_count": 26,
   "metadata": {},
   "outputs": [
    {
     "name": "stdout",
     "output_type": "stream",
     "text": [
      "Количество листов: 2\n",
      "Названия листов:\n",
      "Лист1\n",
      "Copy_list_1\n"
     ]
    }
   ],
   "source": [
    "# Теперь перейдем к более интересному опыту взаимодействия с гугл таблицами.\n",
    "\n",
    "# Для начала давайте узнаем количество листов в таблице и их название.\n",
    "\n",
    "def get_worksheet_info(table: Spreadsheet) -> dict:\n",
    "    \"\"\"Возвращает количество листов в таблице и их названия.\"\"\"\n",
    "    worksheets = table.worksheets()\n",
    "    worksheet_info = {\n",
    "        \"count\": len(worksheets),\n",
    "        \"names\": [worksheet.title for worksheet in worksheets]\n",
    "    }\n",
    "    return worksheet_info\n",
    "\n",
    "\n",
    "def main():\n",
    "    # Создаем клиента и открываем таблицу\n",
    "    client = client_init_json()\n",
    "    table = get_table_by_id(client, table_id)\n",
    "\n",
    "    # Получаем информацию о листах\n",
    "    info = get_worksheet_info(table)\n",
    "    print(f\"Количество листов: {info['count']}\")\n",
    "    print(\"Названия листов:\")\n",
    "    for name in info['names']:\n",
    "        print(name)\n",
    "\n",
    "\n",
    "if __name__ == '__main__':\n",
    "    main()"
   ]
  },
  {
   "cell_type": "code",
   "execution_count": null,
   "metadata": {},
   "outputs": [],
   "source": [
    "# Смотрим на результат:\n",
    "\n",
    "# Количество листов: 1\n",
    "# Названия листов:\n",
    "# Sheet1"
   ]
  },
  {
   "cell_type": "markdown",
   "metadata": {},
   "source": [
    "Если я добавлю новые листы или изменю название, то при повторном вызове получу актуальную информацию. Дело в том, что каждое обращение клиента к таблице происходит в live-режиме.\n",
    "\n",
    "##### Очень важно после изменения имени листа указать это в коде.\n",
    "У меня из практики были случаи, когда клиенты переименовывали лист, а после возвращались ко мне с претензиями, мол не работает. Внимательно."
   ]
  },
  {
   "cell_type": "code",
   "execution_count": 6,
   "metadata": {},
   "outputs": [
    {
     "name": "stdout",
     "output_type": "stream",
     "text": [
      "<Worksheet 'New_Work_List' id:1216298911>\n"
     ]
    }
   ],
   "source": [
    "# Для того чтоб клиент понимал с каким листом работать, в дальнейшем, необходимо будет явно указывать лист.\n",
    "# Речь про такие операции, как: добавление записи, удаление записи, удаление листа и прочее (рассмотрим далее). \n",
    "# А сейчас я покажу как создать новый лист через нашего клиента:\n",
    "\n",
    "def create_worksheet(table: Spreadsheet, title: str, rows: int, cols: int):\n",
    "    \"\"\"Создание листа в таблице.\"\"\"\n",
    "    return table.add_worksheet(title, rows, cols)\n",
    "\n",
    "    \n",
    "# Тестируем\n",
    "def test_create_worksheet():\n",
    "    \n",
    "    # Создаем клиента и открываем таблицу\n",
    "    client = client_init_json()\n",
    "    table = get_table_by_id(client, table_id)\n",
    "    \n",
    "    # Через функцию определяем Название таблицы, Название нового листа, Количество строк и столбцов (необязательно)\n",
    "    rez = create_worksheet(table, 'New_Work_List', rows=15, cols=10)\n",
    "    print(rez)\n",
    "\n",
    "\n",
    "test_create_worksheet()\n",
    "# Результат:\n",
    "\n",
    "# <Worksheet 'НовыйРабочийЛист' id:2135109655>\n",
    "# Обратите внимание. Листу присвоеy id. Смотрим в таблицу:"
   ]
  },
  {
   "cell_type": "code",
   "execution_count": 8,
   "metadata": {},
   "outputs": [],
   "source": [
    "# Для удаления листа можно использовать такую функцию:\n",
    "\n",
    "def delete_worksheet(table: Spreadsheet, title: str):\n",
    "    \"\"\"Удаление листа из таблицы.\"\"\"\n",
    "    return table.del_worksheet(table.worksheet(title))\n",
    "\n",
    "# Пример использования:\n",
    "\n",
    "def test_dell_worksheet():\n",
    "    \n",
    "    # Создаем клиента и открываем таблицу\n",
    "    client = client_init_json()\n",
    "    table = get_table_by_id(client, table_id)\n",
    "    \n",
    "    # Удаление листа по его названию через специально созданную функцию\n",
    "    delete_worksheet(table, title='New_Work_List')\n",
    "\n",
    "\n",
    "test_dell_worksheet()"
   ]
  },
  {
   "cell_type": "markdown",
   "metadata": {},
   "source": [
    "На этом примере вы могли заметить конструкцию table.worksheet(title). Благодаря такому простому обращению мы указываем клиенту текущий рабочий лист. Далее, когда мы будем добавлять данные и удалять их мы будем использовать похожее указание на текущий рабочий лист.\n",
    "\n",
    "Теперь мы готовы работать с данными. Для начала попробуем добавить информацию в любой из листов. Для этого напишем простую функцию, суть которой будет принимать некие данные и вставлять их в свободную строку (вставка идет сверху-вниз). Данный метод называется insert_row, а принимает он список с данными."
   ]
  },
  {
   "cell_type": "code",
   "execution_count": 27,
   "metadata": {},
   "outputs": [],
   "source": [
    "def insert_one(table: Spreadsheet, title: str, data: list, index: int = 5):\n",
    "    \"\"\"Вставка данных в лист.\"\"\"\n",
    "    worksheet = table.worksheet(title)\n",
    "    worksheet.insert_row(data, index=index)\n",
    "\n",
    "# Обратите внимание. Мы бы могли в эту функцию передавать worksheet, но, с опыта скажу что удобнее явно передавать имя листа. Меньше проблем потом."
   ]
  },
  {
   "cell_type": "markdown",
   "metadata": {},
   "source": [
    "Индексы в таблицах начинаются не с 0, как мы привыкли, а с 1. По умолчанию запись будет добавлена в первую строку (индекс 1), но я его решил явно передать чтоб путанницы не было. Если укажем 2, то запись пойдет во вторую строку и так далее."
   ]
  },
  {
   "cell_type": "code",
   "execution_count": 28,
   "metadata": {},
   "outputs": [
    {
     "name": "stdout",
     "output_type": "stream",
     "text": [
      "Инфо по таблице:  {'count': 2, 'names': ['Лист1', 'Copy_list_1']}\n"
     ]
    }
   ],
   "source": [
    "def test_add_data():\n",
    "    \"\"\"Тестирование добавления данных в таблицу.\"\"\"\n",
    "    # Создаем клиента и открываем таблицу\n",
    "    client = client_init_json()\n",
    "    table = get_table_by_id(client, table_id)\n",
    "    \n",
    "    worksheet_info = get_worksheet_info(table)\n",
    "    print('Инфо по таблице: ', worksheet_info)\n",
    "    \n",
    "    # Вставляем в первый по порядку лист строку заголовка (и пользуемся для этого верхней функцией)\n",
    "    insert_one(table=table,\n",
    "               title=worksheet_info['names'][1],\n",
    "               data=['name', 'address', 'email', 'phone_number', 'birth_date', 'company', 'job'])\n",
    "\n",
    "\n",
    "test_add_data()"
   ]
  },
  {
   "cell_type": "markdown",
   "metadata": {},
   "source": [
    "А вот тут давайте остановимся подробнее. Для получения имени листа я воспользовался функцией worksheet_info и достал данные по нулевому индексу. Сделал это просто для демонстрации, а для работы было бы просто достаточно указания названия листа.\n",
    "\n",
    "data - это список и в данной функции при его помощи мы создаем некий header для нашей таблицы. Выполним код и посмотрим что получилось:"
   ]
  },
  {
   "cell_type": "markdown",
   "metadata": {},
   "source": [
    "Мы видим что данные добавлены. Теперь было бы не плохо заполнить их информацией и понять, а как вообще добавлять данные массово, не по 1 строке.\n",
    "Напишем код для создания фейковых пользователей при помощи библиотеки faker."
   ]
  },
  {
   "cell_type": "code",
   "execution_count": 12,
   "metadata": {},
   "outputs": [
    {
     "name": "stdout",
     "output_type": "stream",
     "text": [
      "Defaulting to user installation because normal site-packages is not writeable\n",
      "Collecting faker\n",
      "  Downloading Faker-33.3.1-py3-none-any.whl.metadata (15 kB)\n",
      "Requirement already satisfied: python-dateutil>=2.4 in c:\\programdata\\anaconda3\\lib\\site-packages (from faker) (2.9.0.post0)\n",
      "Requirement already satisfied: typing-extensions in c:\\programdata\\anaconda3\\lib\\site-packages (from faker) (4.11.0)\n",
      "Requirement already satisfied: six>=1.5 in c:\\programdata\\anaconda3\\lib\\site-packages (from python-dateutil>=2.4->faker) (1.16.0)\n",
      "Downloading Faker-33.3.1-py3-none-any.whl (1.9 MB)\n",
      "   ---------------------------------------- 0.0/1.9 MB ? eta -:--:--\n",
      "   ---------------------------------------- 0.0/1.9 MB ? eta -:--:--\n",
      "   ----- ---------------------------------- 0.3/1.9 MB ? eta -:--:--\n",
      "   ---------------- ----------------------- 0.8/1.9 MB 1.6 MB/s eta 0:00:01\n",
      "   --------------------------- ------------ 1.3/1.9 MB 1.7 MB/s eta 0:00:01\n",
      "   --------------------------------- ------ 1.6/1.9 MB 1.8 MB/s eta 0:00:01\n",
      "   ---------------------------------------- 1.9/1.9 MB 1.7 MB/s eta 0:00:00\n",
      "Installing collected packages: faker\n",
      "Successfully installed faker-33.3.1\n"
     ]
    },
    {
     "name": "stderr",
     "output_type": "stream",
     "text": [
      "  WARNING: The script faker.exe is installed in 'C:\\Users\\User\\AppData\\Roaming\\Python\\Python312\\Scripts' which is not on PATH.\n",
      "  Consider adding this directory to PATH or, if you prefer to suppress this warning, use --no-warn-script-location.\n"
     ]
    }
   ],
   "source": [
    "# !pip install faker"
   ]
  },
  {
   "cell_type": "code",
   "execution_count": 29,
   "metadata": {},
   "outputs": [],
   "source": [
    "from faker import Faker\n",
    "\n",
    "\n",
    "def generate_fake_user():\n",
    "    fake = Faker('ru_RU')\n",
    "\n",
    "    return {\n",
    "        'name': fake.name(),\n",
    "        'address': fake.address(),\n",
    "        'email': fake.email(),\n",
    "        'phone_number': fake.phone_number(),\n",
    "        'birth_date': fake.date_of_birth().strftime(\"%d.%m.%Y\"),\n",
    "        'company': fake.company(),\n",
    "        'job': fake.job()\n",
    "    }\n",
    "\n",
    "\n",
    "def get_fake_users(count: int):\n",
    "    return [generate_fake_user() for _ in range(count)]"
   ]
  },
  {
   "cell_type": "markdown",
   "metadata": {},
   "source": [
    "Смысл данного кода в генерации фейковых данных по русским пользователям. На выходе укажем число пользователей и получим список из питоновских словарей с данными.\n",
    "\n",
    "Сам код поместил в отдельный файл, чтоб не перегружать main.py."
   ]
  },
  {
   "cell_type": "code",
   "execution_count": 30,
   "metadata": {},
   "outputs": [],
   "source": [
    "# Первый вариант функции (простой)\n",
    "\n",
    "def add_data_to_worksheet_var_1(table: Spreadsheet, title: str, data: List[Dict], start_row: int = 6) -> None:\n",
    "    \"\"\"\n",
    "    Добавляет данные на рабочий лист в Google Sheets.\n",
    "\n",
    "    :param table: Объект таблицы (Spreadsheet).\n",
    "    :param title: Название рабочего листа.\n",
    "    :param data: Список словарей с данными.\n",
    "    :param start_row: Номер строки, с которой начнется добавление данных.\n",
    "    \"\"\"\n",
    "\n",
    "    # Условие, при котором, при отсутствии листа, он будет создан. Для этого используется функция, которую мы уже расмотрели.\n",
    "    try:\n",
    "        worksheet = table.worksheet(title)\n",
    "    except exceptions.WorksheetNotFound:\n",
    "        worksheet = create_worksheet(table, title, rows=100, cols=20)\n",
    "\n",
    "    # Преобразуем список словарей в список списков для добавления через insert_rows\n",
    "    headers = list(data[0].keys())\n",
    "    rows = [[row[header] for header in headers] for row in data]\n",
    "\n",
    "    # Вставляем строки с данными в рабочий лист\n",
    "    worksheet.insert_rows(rows, row=start_row)"
   ]
  },
  {
   "cell_type": "markdown",
   "metadata": {},
   "source": [
    "В данном коде я прописал условие, при котором, при отсутствии листа, он будет создан. Для этого используется функция, которую мы уже расмотрели.\n",
    "\n",
    "Далее мы преобразуем список словарей в список списков (rows), подходящий для метода insert_rows, а после уже идет сам метод insert_rows. Тестируем:"
   ]
  },
  {
   "cell_type": "code",
   "execution_count": 31,
   "metadata": {},
   "outputs": [],
   "source": [
    "# Тестируем\n",
    "\n",
    "def test_add_many_data():\n",
    "    \"\"\"Тестирование добавления данных на рабочий лист.\"\"\"\n",
    "    \n",
    "    # Создаем клиента и открываем таблицу\n",
    "    client = client_init_json()\n",
    "    table = get_table_by_id(client, table_id)\n",
    "\n",
    "    # Заполняем список фейковыми данными\n",
    "    users_data = get_fake_users(10)\n",
    "    \n",
    "    # Записываем данные в указанную таблицу, лист и начиная с указанной строки\n",
    "    add_data_to_worksheet_var_1(table=table,\n",
    "                                title='Лист1',\n",
    "                                data=users_data)\n",
    "\n",
    "\n",
    "test_add_many_data()"
   ]
  },
  {
   "cell_type": "markdown",
   "metadata": {},
   "source": [
    "Данные добавлены.\n",
    "При помощи функции get_fake_users мы создали 10 пользователей, а после, без особых проблем, добавили их на рабочий лист с именем 'РабочийЛист1'.\n",
    "\n",
    "Технически, для большинства задач будет достаточно использовать описанный выше метод, но, можно ту же задачу закрыть по другому."
   ]
  },
  {
   "cell_type": "code",
   "execution_count": 23,
   "metadata": {},
   "outputs": [],
   "source": [
    "def add_data_to_worksheet_var_2(table: Spreadsheet, title: str, data: List[Dict], start_row: int = 5) -> None:\n",
    "    \"\"\"\n",
    "    Добавляет данные на рабочий лист в Google Sheets.\n",
    "\n",
    "    :param table: Объект таблицы (Spreadsheet).\n",
    "    :param title: Название рабочего листа.\n",
    "    :param data: Список словарей с данными.\n",
    "    :param start_row: Номер строки, с которой начнется добавление данных.\n",
    "    \"\"\"\n",
    "    \n",
    "    # Условие, при котором, при отсутствии листа, он будет создан. Для этого используется функция, которую мы уже расмотрели.\n",
    "    try:\n",
    "        worksheet = table.worksheet(title)\n",
    "    except exceptions.WorksheetNotFound:\n",
    "        worksheet = create_worksheet(table, title, rows=100, cols=20)\n",
    "\n",
    "    headers = data[0].keys()\n",
    "    end_row = start_row + len(data) - 1\n",
    "    end_col = chr(ord('A') + len(headers) - 1)\n",
    "\n",
    "    cell_range = f'A{start_row}:{end_col}{end_row}'\n",
    "    cell_list = worksheet.range(cell_range)\n",
    "\n",
    "    flat_data = []\n",
    "    for row in data:\n",
    "        for header in headers:\n",
    "            flat_data.append(row[header])\n",
    "\n",
    "    for i, cell in enumerate(cell_list):\n",
    "        cell.value = flat_data[i]\n",
    "\n",
    "    worksheet.update_cells(cell_list)"
   ]
  },
  {
   "cell_type": "markdown",
   "metadata": {},
   "source": [
    "Новый функционал:\n",
    "\n",
    "Определяет диапазон ячеек, которые будут обновлены, на основе размера данных.\n",
    "\n",
    "Преобразует список словарей в плоский список значений для обновления ячеек.\n",
    "\n",
    "Обновляет ячейки в указанном диапазоне значениями из данных (используя метод update_cells).\n",
    "\n",
    "Как вы видите, данный метод немного сложнее в синтаксисе, но, в то же время, он более гибкий. Кроме того, на примере данного метода вы увидели как просиходит обновление данных в ячейках (метод update_cells)."
   ]
  },
  {
   "cell_type": "code",
   "execution_count": 32,
   "metadata": {},
   "outputs": [],
   "source": [
    "# Пишем функцию для получения данных:\n",
    "\n",
    "def extract_data_from_sheet(table: Spreadsheet, sheet_name: str) -> List[Dict]:\n",
    "    \"\"\"\n",
    "    Извлекает данные из указанного листа таблицы Google Sheets и возвращает список словарей.\n",
    "\n",
    "    :param table: Объект таблицы Google Sheets (Spreadsheet).\n",
    "    :param sheet_name: Название листа в таблице.\n",
    "    :return: Список словарей, представляющих данные из таблицы.\n",
    "    \"\"\"\n",
    "    worksheet = table.worksheet(sheet_name)\n",
    "    rows = worksheet.get_all_records()\n",
    "    return rows"
   ]
  },
  {
   "cell_type": "markdown",
   "metadata": {},
   "source": [
    "Как вы видите, все достаточно просто. Для того чтоб извлечь данные из указанного рабочего листа таблицы можно использовать метод get_all_records.\n",
    "\n",
    "Метод удобен, так как он сразу возвращает данные в виде списка питоновских словарей, принимая первую строку, как список ключей по умолчанию."
   ]
  },
  {
   "cell_type": "code",
   "execution_count": 33,
   "metadata": {
    "collapsed": true,
    "jupyter": {
     "outputs_hidden": true
    },
    "scrolled": true
   },
   "outputs": [
    {
     "ename": "GSpreadException",
     "evalue": "the header row in the worksheet is not unique, try passing 'expected_headers' to get_all_records",
     "output_type": "error",
     "traceback": [
      "\u001b[1;31m---------------------------------------------------------------------------\u001b[0m",
      "\u001b[1;31mGSpreadException\u001b[0m                          Traceback (most recent call last)",
      "Cell \u001b[1;32mIn[33], line 15\u001b[0m\n\u001b[0;32m     11\u001b[0m     \u001b[38;5;28;01mfor\u001b[39;00m i \u001b[38;5;129;01min\u001b[39;00m data:\n\u001b[0;32m     12\u001b[0m         \u001b[38;5;28mprint\u001b[39m(i)\n\u001b[1;32m---> 15\u001b[0m test_get_data()\n",
      "Cell \u001b[1;32mIn[33], line 10\u001b[0m, in \u001b[0;36mtest_get_data\u001b[1;34m()\u001b[0m\n\u001b[0;32m      7\u001b[0m client \u001b[38;5;241m=\u001b[39m client_init_json()\n\u001b[0;32m      8\u001b[0m table \u001b[38;5;241m=\u001b[39m get_table_by_id(client, table_id)\n\u001b[1;32m---> 10\u001b[0m data \u001b[38;5;241m=\u001b[39m extract_data_from_sheet(table, \u001b[38;5;124m'\u001b[39m\u001b[38;5;124mCopy_list_1\u001b[39m\u001b[38;5;124m'\u001b[39m)\n\u001b[0;32m     11\u001b[0m \u001b[38;5;28;01mfor\u001b[39;00m i \u001b[38;5;129;01min\u001b[39;00m data:\n\u001b[0;32m     12\u001b[0m     \u001b[38;5;28mprint\u001b[39m(i)\n",
      "Cell \u001b[1;32mIn[32], line 12\u001b[0m, in \u001b[0;36mextract_data_from_sheet\u001b[1;34m(table, sheet_name)\u001b[0m\n\u001b[0;32m      4\u001b[0m \u001b[38;5;250m\u001b[39m\u001b[38;5;124;03m\"\"\"\u001b[39;00m\n\u001b[0;32m      5\u001b[0m \u001b[38;5;124;03mИзвлекает данные из указанного листа таблицы Google Sheets и возвращает список словарей.\u001b[39;00m\n\u001b[0;32m      6\u001b[0m \n\u001b[1;32m   (...)\u001b[0m\n\u001b[0;32m      9\u001b[0m \u001b[38;5;124;03m:return: Список словарей, представляющих данные из таблицы.\u001b[39;00m\n\u001b[0;32m     10\u001b[0m \u001b[38;5;124;03m\"\"\"\u001b[39;00m\n\u001b[0;32m     11\u001b[0m worksheet \u001b[38;5;241m=\u001b[39m table\u001b[38;5;241m.\u001b[39mworksheet(sheet_name)\n\u001b[1;32m---> 12\u001b[0m rows \u001b[38;5;241m=\u001b[39m worksheet\u001b[38;5;241m.\u001b[39mget_all_records()\n\u001b[0;32m     13\u001b[0m \u001b[38;5;28;01mreturn\u001b[39;00m rows\n",
      "File \u001b[1;32m~\\AppData\\Roaming\\Python\\Python312\\site-packages\\gspread\\worksheet.py:575\u001b[0m, in \u001b[0;36mWorksheet.get_all_records\u001b[1;34m(self, head, expected_headers, value_render_option, default_blank, numericise_ignore, allow_underscores_in_numeric_literals, empty2zero)\u001b[0m\n\u001b[0;32m    573\u001b[0m     header_row_is_unique \u001b[38;5;241m=\u001b[39m \u001b[38;5;28mlen\u001b[39m(keys) \u001b[38;5;241m==\u001b[39m \u001b[38;5;28mlen\u001b[39m(\u001b[38;5;28mset\u001b[39m(keys))\n\u001b[0;32m    574\u001b[0m     \u001b[38;5;28;01mif\u001b[39;00m \u001b[38;5;129;01mnot\u001b[39;00m header_row_is_unique:\n\u001b[1;32m--> 575\u001b[0m         \u001b[38;5;28;01mraise\u001b[39;00m GSpreadException(\n\u001b[0;32m    576\u001b[0m             \u001b[38;5;124m\"\u001b[39m\u001b[38;5;124mthe header row in the worksheet is not unique, \u001b[39m\u001b[38;5;124m\"\u001b[39m\n\u001b[0;32m    577\u001b[0m             \u001b[38;5;124m\"\u001b[39m\u001b[38;5;124mtry passing \u001b[39m\u001b[38;5;124m'\u001b[39m\u001b[38;5;124mexpected_headers\u001b[39m\u001b[38;5;124m'\u001b[39m\u001b[38;5;124m to get_all_records\u001b[39m\u001b[38;5;124m\"\u001b[39m\n\u001b[0;32m    578\u001b[0m         )\n\u001b[0;32m    579\u001b[0m \u001b[38;5;28;01melse\u001b[39;00m:\n\u001b[0;32m    580\u001b[0m     \u001b[38;5;66;03m# all expected headers must be unique\u001b[39;00m\n\u001b[0;32m    581\u001b[0m     expected_headers_are_unique \u001b[38;5;241m=\u001b[39m \u001b[38;5;28mlen\u001b[39m(expected_headers) \u001b[38;5;241m==\u001b[39m \u001b[38;5;28mlen\u001b[39m(\n\u001b[0;32m    582\u001b[0m         \u001b[38;5;28mset\u001b[39m(expected_headers)\n\u001b[0;32m    583\u001b[0m     )\n",
      "\u001b[1;31mGSpreadException\u001b[0m: the header row in the worksheet is not unique, try passing 'expected_headers' to get_all_records"
     ]
    }
   ],
   "source": [
    "# Тестируем:\n",
    "\n",
    "def test_get_data():\n",
    "    \"\"\"Тестирование извлечения данных из таблицы Google Sheets.\"\"\"\n",
    "    \n",
    "    # Создаем клиента и открываем таблицу\n",
    "    client = client_init_json()\n",
    "    table = get_table_by_id(client, table_id)\n",
    "    \n",
    "    data = extract_data_from_sheet(table, 'Copy_list_1')\n",
    "    for i in data:\n",
    "        print(i)\n",
    "\n",
    "\n",
    "test_get_data()\n",
    "# Результат:"
   ]
  },
  {
   "cell_type": "markdown",
   "metadata": {},
   "source": [
    "Теперь мы можем использовать ключ в каждом из словарей, для того чтоб фильтровать данные или получать конкретные значения.\n",
    "\n",
    "Для получения данных из таблицы Google Sheets без использования метода get_all_records(), можно воспользоваться более низкоуровневыми методами библиотеки gspread, такими как get для получения диапазона ячеек. Это позволяет более гибко управлять процессом извлечения данных."
   ]
  },
  {
   "cell_type": "code",
   "execution_count": 35,
   "metadata": {},
   "outputs": [],
   "source": [
    "# Вот пример функции, которая извлекает данные из таблицы, используя метод get:\n",
    "\n",
    "def extract_data_from_sheet_var_2(table: Spreadsheet, sheet_name: str) -> List[Dict]:\n",
    "    \"\"\"\n",
    "    Извлекает данные из указанного листа таблицы Google Sheets и возвращает список словарей.\n",
    "\n",
    "    :param table: Объект таблицы Google Sheets (Spreadsheet).\n",
    "    :param sheet_name: Название листа в таблице.\n",
    "    :return: Список словарей, представляющих данные из таблицы.\n",
    "    \"\"\"\n",
    "    worksheet = table.worksheet(sheet_name)\n",
    "    headers = worksheet.row_values(1)  # Первая строка считается заголовками\n",
    "\n",
    "    data = []\n",
    "    rows = worksheet.get_all_values()[1:]  # Начинаем считывать с второй строки\n",
    "\n",
    "    for row in rows:\n",
    "        row_dict = {headers[i]: value for i, value in enumerate(row)}\n",
    "        data.append(row_dict)\n",
    "\n",
    "    return data"
   ]
  },
  {
   "cell_type": "markdown",
   "metadata": {},
   "source": [
    "Давайте рассмотрим тему с удалением данных из таблицы. Тут будет 2 варианта:\n",
    "\n",
    "Удаление данных из заданного диапазона ячеек на указанном рабочем листе таблицы Google Sheets.\n",
    "\n",
    "Удаление всех данных из указанного рабочего листа таблицы Google Sheets."
   ]
  },
  {
   "cell_type": "code",
   "execution_count": 36,
   "metadata": {},
   "outputs": [],
   "source": [
    "def clear_range(table: Spreadsheet, sheet_name: str, start_cell: str, end_cell: str) -> None:\n",
    "    \"\"\"\n",
    "    Удаляет данные из заданного диапазона ячеек на указанном рабочем листе таблицы Google Sheets.\n",
    "\n",
    "    :param table: Объект таблицы Google Sheets (Spreadsheet).\n",
    "    :param sheet_name: Название листа в таблице.\n",
    "    :param start_cell: Начальная ячейка диапазона (например, 'A1').\n",
    "    :param end_cell: Конечная ячейка диапазона (например, 'B10').\n",
    "    \"\"\"\n",
    "    worksheet = table.worksheet(sheet_name)\n",
    "    cell_list = worksheet.range(f\"{start_cell}:{end_cell}\")\n",
    "    for cell in cell_list:\n",
    "        cell.value = ''\n",
    "    worksheet.update_cells(cell_list)\n",
    "    print(f\"Данные в диапазоне {start_cell}:{end_cell} на листе '{sheet_name}' были успешно удалены.\")\n",
    "# Давайте удалим данные в диапазоне A10:G11"
   ]
  },
  {
   "cell_type": "code",
   "execution_count": 37,
   "metadata": {},
   "outputs": [
    {
     "name": "stdout",
     "output_type": "stream",
     "text": [
      "Данные в диапазоне B2:C3 на листе 'Copy_list_1' были успешно удалены.\n"
     ]
    }
   ],
   "source": [
    "# Тестируем:\n",
    "\n",
    "def test_dell_data():\n",
    "    \"\"\"Тестирование удаления данных по указанному диапазону.\"\"\"\n",
    "    client = client_init_json()\n",
    "    table = get_table_by_id(client, table_id)\n",
    "    clear_range(table=table, sheet_name=\"Copy_list_1\", start_cell=\"B2\", end_cell=\"C3\")\n",
    "\n",
    "\n",
    "test_dell_data()\n",
    "\n",
    "# Смотрим:\n",
    "\n",
    "# Данные в диапазоне A10:G11 на листе 'РабочийЛист1' были успешно удалены."
   ]
  },
  {
   "cell_type": "code",
   "execution_count": 38,
   "metadata": {},
   "outputs": [
    {
     "name": "stdout",
     "output_type": "stream",
     "text": [
      "Все данные на листе 'Copy_list_1' были успешно удалены.\n"
     ]
    }
   ],
   "source": [
    "# Теперь удалим все данные с указанного листа:\n",
    "\n",
    "def clear_sheet(table: Spreadsheet, sheet_name: str) -> None:\n",
    "    \"\"\"\n",
    "    Удаляет все данные из указанного рабочего листа таблицы Google Sheets.\n",
    "\n",
    "    :param table: Объект таблицы Google Sheets (Spreadsheet).\n",
    "    :param sheet_name: Название листа в таблице.\n",
    "    \"\"\"\n",
    "    worksheet = table.worksheet(sheet_name)\n",
    "    worksheet.clear()\n",
    "    print(f\"Все данные на листе '{sheet_name}' были успешно удалены.\")\n",
    "\n",
    "# Тестируем удаление всех данных:\n",
    "\n",
    "def test_dell_all_data():\n",
    "    \"\"\"Тестирование удаления данных по указанному диапазону.\"\"\"\n",
    "    client = client_init_json()\n",
    "    table = get_table_by_id(client, table_id)\n",
    "    clear_sheet(table=table, sheet_name=\"Copy_list_1\")\n",
    "\n",
    "\n",
    "test_dell_all_data()\n",
    "\n",
    "# Смотрим:\n",
    "\n",
    "# Все данные на листе 'РабочийЛист1' были успешно удалены."
   ]
  },
  {
   "cell_type": "code",
   "execution_count": null,
   "metadata": {},
   "outputs": [],
   "source": [
    "# Ссылка на полный код: GspreadTeach\n",
    "# https://github.com/Yakvenalex/GspreadTeach"
   ]
  },
  {
   "cell_type": "markdown",
   "metadata": {},
   "source": [
    "В заключение, работа с Google Таблицами через Python с использованием библиотеки Gspread предоставляет множество возможностей для автоматизации и управления данными. В данной статье мы рассмотрели основные шаги для настройки окружения, получения доступа к таблицам через сервисный аккаунт Google, а также основные операции работы с данными.\n",
    "\n",
    "Gspread предлагает удобные методы для чтения, записи и обновления данных, что позволяет разработчикам эффективно интегрировать Google Sheets в свои проекты. С помощью простых функций можно добавлять данные, получать и фильтровать информацию, а также удалять данные как в определенных диапазонах, так и полностью из листов.\n",
    "\n",
    "Надеюсь, что данное руководство помогло вам разобраться с основами работы с Google Таблицами через Python и вдохновило на создание собственных проектов с использованием этого мощного инструмента. Если это так, то сообщите об этом в комментариях, лайком или подпиской."
   ]
  },
  {
   "cell_type": "code",
   "execution_count": null,
   "metadata": {},
   "outputs": [],
   "source": []
  },
  {
   "cell_type": "code",
   "execution_count": null,
   "metadata": {},
   "outputs": [],
   "source": []
  },
  {
   "cell_type": "markdown",
   "metadata": {},
   "source": [
    "## КОНЕЦ ТЕОРИИ"
   ]
  },
  {
   "cell_type": "code",
   "execution_count": null,
   "metadata": {},
   "outputs": [],
   "source": []
  },
  {
   "cell_type": "code",
   "execution_count": null,
   "metadata": {},
   "outputs": [],
   "source": []
  },
  {
   "cell_type": "code",
   "execution_count": 56,
   "metadata": {},
   "outputs": [],
   "source": [
    "import gspread"
   ]
  },
  {
   "cell_type": "code",
   "execution_count": 63,
   "metadata": {},
   "outputs": [],
   "source": [
    "# Объявляем ключ для связи с сервисным аккаунтом и его расположение на диске\n",
    "gc = gspread.service_account(filename='../../beauty-salon-key.json')\n",
    "\n",
    "# Открытие электронной таблицы\n",
    "sau = gc.open('sauna_articles')"
   ]
  },
  {
   "cell_type": "code",
   "execution_count": null,
   "metadata": {},
   "outputs": [],
   "source": [
    "# Выбор рабочего листа\n",
    "# Выбрать лист по индексу. Индексы листов начинаются с нуля:\n",
    "worksheet = sh.get_worksheet(0)\n",
    "\n",
    "# Или по названию:\n",
    "worksheet = sh.worksheet(\"January\")\n",
    "\n",
    "# Или самый распространенный случай: Лист1 :\n",
    "worksheet = sh.sheet1\n",
    "\n",
    "# Чтобы получить список всех рабочих листов:\n",
    "worksheet_list = sh.worksheets()"
   ]
  },
  {
   "cell_type": "code",
   "execution_count": 64,
   "metadata": {},
   "outputs": [
    {
     "name": "stdout",
     "output_type": "stream",
     "text": [
      "<Worksheet 'chelyabinsk' id:0>\n"
     ]
    }
   ],
   "source": [
    "worksheet = sau.worksheet('chelyabinsk')\n",
    "print(worksheet)"
   ]
  },
  {
   "cell_type": "code",
   "execution_count": 65,
   "metadata": {},
   "outputs": [
    {
     "data": {
      "text/plain": [
       "[<Worksheet 'chelyabinsk' id:0>]"
      ]
     },
     "execution_count": 65,
     "metadata": {},
     "output_type": "execute_result"
    }
   ],
   "source": [
    "# Чтобы получить список всех рабочих листов:\n",
    "sau.worksheets()\n",
    "# worksheet_list = sau.worksheets()\n",
    "# print(worksheet_list)"
   ]
  },
  {
   "cell_type": "code",
   "execution_count": 66,
   "metadata": {},
   "outputs": [
    {
     "name": "stdout",
     "output_type": "stream",
     "text": [
      "<Worksheet 'chelyabinsk' id:0>\n"
     ]
    }
   ],
   "source": [
    "# \n",
    "worksheet = sau.get_worksheet(0)\n",
    "print(worksheet)"
   ]
  },
  {
   "cell_type": "code",
   "execution_count": 45,
   "metadata": {},
   "outputs": [
    {
     "data": {
      "text/plain": [
       "'2025-01-21'"
      ]
     },
     "execution_count": 45,
     "metadata": {},
     "output_type": "execute_result"
    }
   ],
   "source": [
    "# Добавим TIMESTEMP когда программа выполнилась\n",
    "from datetime import datetime\n",
    "\n",
    "datetime.now().strftime('%Y-%m-%d')"
   ]
  },
  {
   "cell_type": "code",
   "execution_count": 46,
   "metadata": {},
   "outputs": [
    {
     "data": {
      "text/html": [
       "<div>\n",
       "<style scoped>\n",
       "    .dataframe tbody tr th:only-of-type {\n",
       "        vertical-align: middle;\n",
       "    }\n",
       "\n",
       "    .dataframe tbody tr th {\n",
       "        vertical-align: top;\n",
       "    }\n",
       "\n",
       "    .dataframe thead th {\n",
       "        text-align: right;\n",
       "    }\n",
       "</style>\n",
       "<table border=\"1\" class=\"dataframe\">\n",
       "  <thead>\n",
       "    <tr style=\"text-align: right;\">\n",
       "      <th></th>\n",
       "      <th>Number</th>\n",
       "      <th>Topic</th>\n",
       "      <th>Link</th>\n",
       "      <th>timestamp</th>\n",
       "    </tr>\n",
       "  </thead>\n",
       "  <tbody>\n",
       "    <tr>\n",
       "      <th>23</th>\n",
       "      <td>24</td>\n",
       "      <td>Вагонка для отделки бани</td>\n",
       "      <td>https://chelyabinsk.bani.ru.com/poleznye-stati...</td>\n",
       "      <td>2025-01-21 19:45:44</td>\n",
       "    </tr>\n",
       "    <tr>\n",
       "      <th>24</th>\n",
       "      <td>25</td>\n",
       "      <td>Преимущества деревянной бани</td>\n",
       "      <td>https://chelyabinsk.bani.ru.com/poleznye-stati...</td>\n",
       "      <td>2025-01-21 19:45:44</td>\n",
       "    </tr>\n",
       "    <tr>\n",
       "      <th>25</th>\n",
       "      <td>26</td>\n",
       "      <td>Основные требования по эксплуатации бань</td>\n",
       "      <td>https://chelyabinsk.bani.ru.com/poleznye-stati...</td>\n",
       "      <td>2025-01-21 19:45:44</td>\n",
       "    </tr>\n",
       "    <tr>\n",
       "      <th>26</th>\n",
       "      <td>27</td>\n",
       "      <td>В чем разница между срощенной и обычной древес...</td>\n",
       "      <td>https://chelyabinsk.bani.ru.com/poleznye-stati...</td>\n",
       "      <td>2025-01-21 19:45:44</td>\n",
       "    </tr>\n",
       "    <tr>\n",
       "      <th>27</th>\n",
       "      <td>28</td>\n",
       "      <td>Секреты создания легкого и приятного пара</td>\n",
       "      <td>https://chelyabinsk.bani.ru.com/kak-sozdat-leg...</td>\n",
       "      <td>2025-01-21 19:45:44</td>\n",
       "    </tr>\n",
       "  </tbody>\n",
       "</table>\n",
       "</div>"
      ],
      "text/plain": [
       "    Number                                              Topic  \\\n",
       "23      24                           Вагонка для отделки бани   \n",
       "24      25                       Преимущества деревянной бани   \n",
       "25      26           Основные требования по эксплуатации бань   \n",
       "26      27  В чем разница между срощенной и обычной древес...   \n",
       "27      28          Секреты создания легкого и приятного пара   \n",
       "\n",
       "                                                 Link            timestamp  \n",
       "23  https://chelyabinsk.bani.ru.com/poleznye-stati...  2025-01-21 19:45:44  \n",
       "24  https://chelyabinsk.bani.ru.com/poleznye-stati...  2025-01-21 19:45:44  \n",
       "25  https://chelyabinsk.bani.ru.com/poleznye-stati...  2025-01-21 19:45:44  \n",
       "26  https://chelyabinsk.bani.ru.com/poleznye-stati...  2025-01-21 19:45:44  \n",
       "27  https://chelyabinsk.bani.ru.com/kak-sozdat-leg...  2025-01-21 19:45:44  "
      ]
     },
     "execution_count": 46,
     "metadata": {},
     "output_type": "execute_result"
    }
   ],
   "source": [
    "# Добавляем к датафрейму колонку с датой когда сформировалась таблица\n",
    "df1['timestamp'] = datetime.now().strftime('%Y-%m-%d %H:%M:%S')\n",
    "df1.tail()"
   ]
  },
  {
   "cell_type": "code",
   "execution_count": 70,
   "metadata": {},
   "outputs": [
    {
     "ename": "AttributeError",
     "evalue": "'Spreadsheet' object has no attribute 'update'",
     "output_type": "error",
     "traceback": [
      "\u001b[1;31m---------------------------------------------------------------------------\u001b[0m",
      "\u001b[1;31mAttributeError\u001b[0m                            Traceback (most recent call last)",
      "Cell \u001b[1;32mIn[70], line 3\u001b[0m\n\u001b[0;32m      1\u001b[0m \u001b[38;5;66;03m# Заливаем данные в Гугл-таблицы\u001b[39;00m\n\u001b[0;32m      2\u001b[0m \u001b[38;5;66;03m# Изменяем код примера в таблице\u001b[39;00m\n\u001b[1;32m----> 3\u001b[0m sau\u001b[38;5;241m.\u001b[39mupdate([df1\u001b[38;5;241m.\u001b[39mcolumns\u001b[38;5;241m.\u001b[39mvalues\u001b[38;5;241m.\u001b[39mtolist()] \u001b[38;5;241m+\u001b[39m df1\u001b[38;5;241m.\u001b[39mvalues\u001b[38;5;241m.\u001b[39mtolist())\n",
      "\u001b[1;31mAttributeError\u001b[0m: 'Spreadsheet' object has no attribute 'update'"
     ]
    }
   ],
   "source": [
    "# Заливаем данные в Гугл-таблицы\n",
    "# Изменяем код примера в таблице\n",
    "sau.update([df1.columns.values.tolist()] + df1.values.tolist())"
   ]
  },
  {
   "cell_type": "code",
   "execution_count": 52,
   "metadata": {},
   "outputs": [
    {
     "data": {
      "text/plain": [
       "{'spreadsheetId': '1-9n_S8-uQxykltg4g3N6ucY3uG_KnGjwU_phmjzITXU',\n",
       " 'replies': [{}]}"
      ]
     },
     "execution_count": 52,
     "metadata": {},
     "output_type": "execute_result"
    }
   ],
   "source": [
    "# Отформатировать строки - сделаем жирными заголовки таблицы:\n",
    "sau.format('A1:L1', {'textFormat': {'bold': True}})"
   ]
  },
  {
   "cell_type": "code",
   "execution_count": null,
   "metadata": {},
   "outputs": [],
   "source": []
  },
  {
   "cell_type": "code",
   "execution_count": 67,
   "metadata": {},
   "outputs": [
    {
     "data": {
      "text/plain": [
       "<Worksheet 'A worksheet' id:2015621942>"
      ]
     },
     "execution_count": 67,
     "metadata": {},
     "output_type": "execute_result"
    }
   ],
   "source": [
    "# Creating a Worksheet\n",
    "# worksheet = sau.add_worksheet(title=\"A worksheet\", rows=100, cols=20)\n",
    "\n",
    "sau.add_worksheet(title=\"A worksheet\", rows=100, cols=20)"
   ]
  },
  {
   "cell_type": "markdown",
   "metadata": {},
   "source": [
    "### Добавить новую строку в конец листа с помощью Gspread"
   ]
  },
  {
   "cell_type": "code",
   "execution_count": null,
   "metadata": {},
   "outputs": [],
   "source": [
    "# У меня есть этот код, мне нужно добавить значения в столбцы в моей таблице Google, \n",
    "# и значения должны быть добавлены в конец таблицы в новой строке, не удаляя существующие данные.\n",
    "\n",
    "all_values = worksheet.get_all_values()\n",
    "row_count = len(all_values)\n",
    "sheet_range = \"'{}'!{row}:{row}\".format(worksheet.title, row=row_count+1+insert_count)\n",
    "\n",
    "values = {\n",
    "  \"Name\": \"Ford\",\n",
    "  \"Age\": \"34\",\n",
    "  \"Color\": 'Blue'\n",
    "}\n",
    "worksheet.append_row(sheet_range, values)"
   ]
  },
  {
   "cell_type": "code",
   "execution_count": null,
   "metadata": {},
   "outputs": [],
   "source": [
    "# Я понял, на самом деле все довольно просто.\n",
    "\n",
    "body=[0, 4, 9,7,5] #the values should be a list\n",
    "\n",
    "worksheet.append_row(body, table_range=\"A1:E1\") \n",
    "\n",
    "#table_range should be range of columns in the sheet, example from A1 to E1 (A1:E1), other parameters are optional. \n",
    "# this will append the values in body to the last row in the sheet and it will not overwrite existing data.\n",
    "\n",
    "# table_range должен быть диапазоном столбцов в таблице, например от A1 до E1 (A1:E1), другие параметры необязательны.\n",
    "# это добавит значения в body в последнюю строку в таблице и не перезапишет существующие данные."
   ]
  },
  {
   "cell_type": "code",
   "execution_count": null,
   "metadata": {},
   "outputs": [],
   "source": []
  },
  {
   "cell_type": "markdown",
   "metadata": {},
   "source": [
    "## pandas.DataFrame.to_excel — pandas 2.2.3 documentation"
   ]
  },
  {
   "cell_type": "markdown",
   "metadata": {},
   "source": [
    "### pandas.DataFrame.to_excel\n",
    "DataFrame.to_excel(excel_writer, *, sheet_name='Sheet1', na_rep='', float_format=None, columns=None, header=True, index=True, index_label=None, startrow=0, startcol=0, engine=None, merge_cells=True, inf_rep='inf', freeze_panes=None, storage_options=None, engine_kwargs=None)"
   ]
  },
  {
   "cell_type": "code",
   "execution_count": 42,
   "metadata": {},
   "outputs": [],
   "source": [
    "# Сохраняем датафрейм в EXCEL-таблицу\n",
    "import os\n",
    "# import openpyxl # Работа с файлами XLSX\n",
    "\n",
    "# Прописываем путь и характеристики файла\n",
    "PATH = '../data/processed/xls/'\n",
    "file_name = 'sauna_articles'\n",
    "sheet_name = 'surgut'\n",
    "file_extension = '.xlsx'\n",
    "FILE = PATH + file_name + file_extension\n",
    "\n",
    "# Если папки для сохранения результатов не существует, то она будет создана\n",
    "if not os.path.isdir(PATH):\n",
    "    os.mkdir(PATH)\n",
    "\n",
    "# ДОБАВЛЯЕМ датафрейм в EXCEL-таблицу НА СЛЕДУЮЩИЙ ЛИСТ\n",
    "def append_to_excel(fpath, df, sheet_name):\n",
    "    with pd.ExcelWriter(fpath, engine='openpyxl', mode='a', if_sheet_exists = 'overlay') as f:\n",
    "        df.to_excel(f, sheet_name=sheet_name)\n",
    "\n",
    "append_to_excel(FILE, df2, sheet_name)\n",
    "    \n",
    "# with pd.ExcelWriter(PATH + file_name + file_extension, mode='a', if_sheet_exists = 'overlay') as writer:\n",
    "#     df2.to_excel(writer, sheet_name=sheet_name)\n",
    "\n",
    "# df2.to_excel(PATH + file_name + file_extension, sheet_name=sheet_name)\n",
    "# df2.to_excel(\"output.xlsx\", sheet_name='Sheet_name_1')"
   ]
  },
  {
   "cell_type": "code",
   "execution_count": null,
   "metadata": {},
   "outputs": [],
   "source": []
  },
  {
   "cell_type": "markdown",
   "metadata": {},
   "source": [
    "## ТЕОРИЯ"
   ]
  },
  {
   "cell_type": "markdown",
   "metadata": {},
   "source": [
    "### добавить фрейм данных в excel с помощью pandas"
   ]
  },
  {
   "cell_type": "code",
   "execution_count": null,
   "metadata": {},
   "outputs": [],
   "source": [
    "# Если кому-то нужно, я нашел более простой способ:\n",
    "\n",
    "# Преобразовать DF в строки списка\n",
    "rows = your_df.values.tolist()\n",
    "\n",
    "# загрузите свою рабочую книгу\n",
    "workbook = load_workbook(filename=your_excel)\n",
    "\n",
    "# Выберите свой лист\n",
    "sheet = workbook[your_sheet]\n",
    "\n",
    "# Пройдитесь по строкам, чтобы добавить каждую:\n",
    "for row in rows:\n",
    "    sheet.append(row)\n",
    "\n",
    "# Сохраните книгу, когда закончите\n",
    "workbook.save(filename=your_excel)\n",
    "\n",
    "# Собираем все вместе:\n",
    "rows = your_df.values.tolist()\n",
    "workbook = load_workbook(filename=your_excel)\n",
    "sheet = workbook[your_sheet]\n",
    "for row in rows:\n",
    "    sheet.append(row)\n",
    "workbook.save(filename=your_excel)"
   ]
  },
  {
   "cell_type": "code",
   "execution_count": null,
   "metadata": {},
   "outputs": [],
   "source": [
    "# Зачем все усложнять? Просто получите количество строк в файле Excel, чтобы определить, куда их добавлять, с помощью параметра startrow:\n",
    "\n",
    "import pandas as pd\n",
    "import openpyxl as xl\n",
    "\n",
    "# Get number of rows in excel file (to determine where to append)\n",
    "source_file = xl.load_workbook(\"file.xlsx\", enumerate)\n",
    "sheet = source_file[\"sheetname\"]\n",
    "row_count = sheet.max_row\n",
    "source_file.close()\n",
    "\n",
    "with pd.ExcelWriter(\"file.xlsx\", engine='openpyxl', mode='a', if_sheet_exists='overlay') as writer:  \n",
    "    data.to_excel(writer, sheet_name='sheetname', index= False, startrow = row_count)"
   ]
  },
  {
   "cell_type": "code",
   "execution_count": null,
   "metadata": {},
   "outputs": [],
   "source": [
    "# ExcelWriter также можно использовать для добавления в существующий файл Excel:\n",
    "\n",
    "with pd.ExcelWriter('output.xlsx', mode='a') as writer:\n",
    "    df1.to_excel(writer, sheet_name='Sheet_name_3')"
   ]
  },
  {
   "cell_type": "markdown",
   "metadata": {},
   "source": []
  },
  {
   "cell_type": "markdown",
   "metadata": {},
   "source": [
    "Вы можете использовать append_df_to_excel()вспомогательную функцию, которая определена в этом ответе :\n",
    "Примеры использования:\n",
    "\n",
    "filename = r'C:\\OCC.xlsx'\n",
    "append_df_to_excel(filename, df)\n",
    "append_df_to_excel(filename, df, header=None, index=False)\n",
    "append_df_to_excel(filename, df, sheet_name='Sheet2', index=False)\n",
    "append_df_to_excel(filename, df, sheet_name='Sheet2', index=False, startrow=25)"
   ]
  },
  {
   "cell_type": "code",
   "execution_count": null,
   "metadata": {},
   "outputs": [],
   "source": [
    "# Все примеры здесь довольно сложные. В документации все гораздо проще:\n",
    "\n",
    "def append_to_excel(fpath, df, sheet_name):\n",
    "    with pd.ExcelWriter(fpath, mode=\"a\", if_sheet_exists = 'overlay') as f:\n",
    "        df.to_excel(f, sheet_name=sheet_name)\n",
    "\n",
    "append_to_excel(<your_excel_path>, <new_df>, <new_sheet_name>)"
   ]
  },
  {
   "cell_type": "code",
   "execution_count": null,
   "metadata": {},
   "outputs": [],
   "source": [
    "# ExcelWriter также можно использовать для добавления в существующий файл Excel:\n",
    "\n",
    "with pd.ExcelWriter('output.xlsx', mode='a') as writer:\n",
    "    df1.to_excel(writer, sheet_name='Sheet_name_3')"
   ]
  },
  {
   "cell_type": "markdown",
   "metadata": {},
   "source": [
    "## КОНЕЦ ТЕОРИИ"
   ]
  },
  {
   "cell_type": "code",
   "execution_count": null,
   "metadata": {},
   "outputs": [],
   "source": []
  },
  {
   "cell_type": "code",
   "execution_count": null,
   "metadata": {},
   "outputs": [],
   "source": []
  },
  {
   "cell_type": "markdown",
   "metadata": {},
   "source": [
    "# From the documentation GSPRED - THEORY !!!"
   ]
  },
  {
   "cell_type": "code",
   "execution_count": 1,
   "metadata": {},
   "outputs": [],
   "source": [
    "# Импортируем нужные нам библиотеки.\n",
    "import pandas as pd\n",
    "from io import StringIO\n",
    "\n",
    "import numpy as np\n",
    "import random\n",
    "\n",
    "# Использование объекта datetime :\n",
    "from datetime import datetime\n",
    "import time"
   ]
  },
  {
   "cell_type": "code",
   "execution_count": 2,
   "metadata": {},
   "outputs": [],
   "source": [
    "# Подключаем библиотеку для поиска элементов кода на сайте !!!!!!!!!!!!!\n",
    "# Библиотека PYTHON для извлечения данных из файлов HTML и XML\n",
    "from bs4 import BeautifulSoup\n",
    "\n",
    "# Подключаем библиотеки для парсинга сайтов !!!!!!!!!!!!!\n",
    "import requests\n",
    "import json\n",
    "import csv\n",
    "import random\n",
    "from time import sleep\n",
    "import openpyxl # Работа с файлами XLSX\n",
    "import xlsxwriter\n",
    "import lxml"
   ]
  },
  {
   "cell_type": "code",
   "execution_count": 3,
   "metadata": {},
   "outputs": [],
   "source": [
    "# Выполним импорты:\n",
    "# from gspread import Client, Spreadsheet, Worksheet, service_account\n",
    "from gspread import Client, Spreadsheet, Worksheet, service_account, exceptions\n",
    "from typing import List, Dict\n",
    "\n",
    "# import pandas as pd"
   ]
  },
  {
   "cell_type": "markdown",
   "metadata": {},
   "source": [
    "## 0. Инициализация"
   ]
  },
  {
   "cell_type": "code",
   "execution_count": 4,
   "metadata": {},
   "outputs": [
    {
     "data": {
      "text/plain": [
       "<gspread.client.Client at 0x1ea3d43b200>"
      ]
     },
     "execution_count": 4,
     "metadata": {},
     "output_type": "execute_result"
    }
   ],
   "source": [
    "# Напишем функцию, которая позволит выполнить инициализацию клиента для работы с Google Sheets через загруженный JSON:\n",
    "\n",
    "def client_init_json() -> Client:\n",
    "    \"\"\"Создание клиента для работы с Google Sheets.\"\"\"\n",
    "    return service_account(filename='../../beauty-salon-key.json')\n",
    "\n",
    "# Если мы просто вызовем эту функцию и распечатаем результат, то увидим следующее:\n",
    "# <gspread.client.Client object at 0x00000166052A0380>\n",
    "# Такой ответ говорит нам о том, что авторизация прошла корректно.\n",
    "client_init_json()"
   ]
  },
  {
   "cell_type": "code",
   "execution_count": 5,
   "metadata": {},
   "outputs": [],
   "source": [
    "# Для получения ссылки на таблицу (а из нее ещё и ID) просто копируем ссылку с браузера на таблицу.\n",
    "table_link = 'https://docs.google.com/spreadsheets/d/1-9n_S8-uQxykltg4g3N6ucY3uG_KnGjwU_phmjzITXU/edit?gid=0#gid=0'"
   ]
  },
  {
   "cell_type": "code",
   "execution_count": null,
   "metadata": {
    "jupyter": {
     "source_hidden": true
    }
   },
   "outputs": [],
   "source": [
    "# Пишем код для доступа к таблице:\n",
    "\n",
    "# def get_table_by_url(client: Client, table_url):\n",
    "#     \"\"\"Получение таблицы из Google Sheets по ссылке.\"\"\"\n",
    "#     return client.open_by_url(table_url)\n",
    "\n",
    "\n",
    "# def get_table_by_id(client: Client, table_url):\n",
    "#     \"\"\"Получение таблицы из Google Sheets по ID таблицы.\"\"\"\n",
    "#     return client.open_by_key(table_url)\n",
    "\n",
    "# # Тестируем:\n",
    "\n",
    "# def test_get_table(table_url: str, table_key: str):\n",
    "#     \"\"\"Тестирование получения таблицы из Google Sheets.\"\"\"\n",
    "#     client = client_init_json()\n",
    "#     table = get_table_by_url(client, table_url)\n",
    "#     print('Инфо по таблице по ссылке: ', table)\n",
    "#     table = get_table_by_id(client, table_key)\n",
    "#     print('Инфо по таблице по id: ', table)\n",
    "\n",
    "\n",
    "# if __name__ == '__main__':\n",
    "#     test_get_table(table_link, table_id)"
   ]
  },
  {
   "cell_type": "code",
   "execution_count": 6,
   "metadata": {},
   "outputs": [
    {
     "name": "stdout",
     "output_type": "stream",
     "text": [
      "Инфо по таблице по ссылке:  <Spreadsheet 'sauna_articles' id:1-9n_S8-uQxykltg4g3N6ucY3uG_KnGjwU_phmjzITXU>\n"
     ]
    }
   ],
   "source": [
    "# Пишем код для доступа к таблице:\n",
    "\n",
    "def get_table_by_url(client: Client, table_url):\n",
    "    \"\"\"Получение таблицы из Google Sheets по ссылке.\"\"\"\n",
    "    return client.open_by_url(table_url)\n",
    "\n",
    "# Тестируем:\n",
    "\n",
    "def test_get_table(table_url: str):\n",
    "    \"\"\"Тестирование получения таблицы из Google Sheets.\"\"\"\n",
    "    \n",
    "    # Создаем клиента и открываем таблицу\n",
    "    client = client_init_json()\n",
    "    table = get_table_by_url(client, table_url)\n",
    "    print('Инфо по таблице по ссылке: ', table)\n",
    "\n",
    "if __name__ == '__main__':\n",
    "    test_get_table(table_link)"
   ]
  },
  {
   "cell_type": "code",
   "execution_count": null,
   "metadata": {},
   "outputs": [],
   "source": []
  },
  {
   "cell_type": "markdown",
   "metadata": {},
   "source": [
    "## 1. Создаем клиента и открываем таблицу"
   ]
  },
  {
   "cell_type": "code",
   "execution_count": 7,
   "metadata": {},
   "outputs": [],
   "source": [
    "# Создаем клиента и открываем таблицу\n",
    "def get_table(table_url: str):\n",
    "    # Инициализация клиента\n",
    "    client = client_init_json()\n",
    "\n",
    "    # Доступ к таблице\n",
    "    table = get_table_by_url(client, table_url)\n",
    "    # print('Инфо по таблице по ссылке: ', table)\n",
    "\n",
    "    return table\n",
    "\n",
    "if __name__ == '__main__':\n",
    "    get_table(table_link)"
   ]
  },
  {
   "cell_type": "code",
   "execution_count": 10,
   "metadata": {},
   "outputs": [
    {
     "name": "stdout",
     "output_type": "stream",
     "text": [
      "Работает функция: MAIN - Количество листов: 5 - Названия листов:\n",
      "Sheet 0. chelyabinsk\n",
      "Sheet 1. surgut\n",
      "Sheet 2. vologda\n",
      "Sheet 3. vologda_1\n",
      "Sheet 4. vologda_2\n"
     ]
    }
   ],
   "source": [
    "# С ИСПОЛЬЗОВАНИЕМ ФУНКЦИИ ИНИЦИАЛИЗАЦИИ\n",
    "\n",
    "def get_worksheet_info(table: Spreadsheet) -> dict:\n",
    "    \"\"\"Возвращает количество листов в таблице и их названия.\"\"\"\n",
    "    worksheets = table.worksheets()\n",
    "    worksheet_info = {\n",
    "        \"count\": len(worksheets),\n",
    "        \"names\": [worksheet.title for worksheet in worksheets]\n",
    "    }\n",
    "    return worksheet_info\n",
    "\n",
    "\n",
    "def main():\n",
    "    # Создаем клиента и открываем таблицу\n",
    "    table = get_table(table_link)\n",
    "\n",
    "    # Получаем информацию о листах\n",
    "    info = get_worksheet_info(table)\n",
    "    print('Работает функция: MAIN', end=' - ')\n",
    "    print(f\"Количество листов: {info['count']}\", end=' - ')\n",
    "    print(\"Названия листов:\")\n",
    "    count = 0\n",
    "    for name in info['names']:\n",
    "        print(f'Sheet {count}. {name}')\n",
    "        count += 1\n",
    "\n",
    "\n",
    "if __name__ == '__main__':\n",
    "    main()"
   ]
  },
  {
   "cell_type": "code",
   "execution_count": null,
   "metadata": {},
   "outputs": [],
   "source": []
  },
  {
   "cell_type": "markdown",
   "metadata": {},
   "source": [
    "## 2. Идём по документации с проверкой на своей таблице - https://docs.gspread.org/en/latest/user-guide.html"
   ]
  },
  {
   "cell_type": "code",
   "execution_count": 12,
   "metadata": {},
   "outputs": [],
   "source": [
    "# Создаем клиента и открываем таблицу\n",
    "table = get_table(table_link)"
   ]
  },
  {
   "cell_type": "markdown",
   "metadata": {},
   "source": [
    "### Создание электронной таблицы"
   ]
  },
  {
   "cell_type": "code",
   "execution_count": 43,
   "metadata": {},
   "outputs": [],
   "source": [
    "# Создаем клиента и открываем таблицу\n",
    "client = client_init_json()"
   ]
  },
  {
   "cell_type": "code",
   "execution_count": 44,
   "metadata": {},
   "outputs": [],
   "source": [
    "# Используйте create()для создания новой пустой электронной таблицы:\n",
    "\n",
    "new_table = client.create('New_Table')"
   ]
  },
  {
   "cell_type": "code",
   "execution_count": 45,
   "metadata": {},
   "outputs": [
    {
     "name": "stdout",
     "output_type": "stream",
     "text": [
      "3.Информация о ПЕРВОМ листе по индексу 0: <Worksheet 'Sheet1' id:0>\n"
     ]
    }
   ],
   "source": [
    "# Или самый распространенный случай: Лист1 :\n",
    "worksheet_sheet1 = new_table.sheet1\n",
    "print(f'3.Информация о ПЕРВОМ листе по индексу 0: {worksheet_sheet1}')"
   ]
  },
  {
   "cell_type": "code",
   "execution_count": null,
   "metadata": {},
   "outputs": [],
   "source": []
  },
  {
   "cell_type": "markdown",
   "metadata": {},
   "source": [
    "### Выбор рабочего листа"
   ]
  },
  {
   "cell_type": "code",
   "execution_count": 15,
   "metadata": {},
   "outputs": [
    {
     "name": "stdout",
     "output_type": "stream",
     "text": [
      "1.Информация о листе по его индексу: <Worksheet 'vologda' id:173362967>\n",
      "2.Информация о листе по его наименованию: <Worksheet 'vologda_2' id:427420938>\n",
      "3.Информация о ПЕРВОМ листе по индексу 0: <Worksheet 'chelyabinsk' id:0>\n",
      "4.Информация о всех рабочих листах:\n",
      "Sheet 0. <Worksheet 'chelyabinsk' id:0>\n",
      "Sheet 1. <Worksheet 'surgut' id:2015621942>\n",
      "Sheet 2. <Worksheet 'vologda' id:173362967>\n",
      "Sheet 3. <Worksheet 'vologda_1' id:228546517>\n",
      "Sheet 4. <Worksheet 'vologda_2' id:427420938>\n"
     ]
    }
   ],
   "source": [
    "# Выбрать лист по индексу. Индексы листов начинаются с нуля: \"table.GET_worksheet(0)\"\n",
    "worksheet_index = table.get_worksheet(2)\n",
    "print(f'1.Информация о листе по его индексу: {worksheet_index}')\n",
    "\n",
    "# Или по названию: \"table.WORKSHEET('Sheet_NAME')\"\n",
    "worksheet_name = table.worksheet('vologda_2')\n",
    "print(f'2.Информация о листе по его наименованию: {worksheet_name}')\n",
    "\n",
    "# Или самый распространенный случай: Лист1 :\n",
    "worksheet_sheet1 = table.sheet1\n",
    "print(f'3.Информация о ПЕРВОМ листе по индексу 0: {worksheet_sheet1}')\n",
    "\n",
    "# Чтобы получить список всех рабочих листов:\n",
    "worksheet_list = table.worksheets()\n",
    "print('4.Информация о всех рабочих листах:')\n",
    "count = 0\n",
    "for name in worksheet_list:\n",
    "    print(f'Sheet {count}. {name}')\n",
    "    count += 1"
   ]
  },
  {
   "cell_type": "code",
   "execution_count": null,
   "metadata": {},
   "outputs": [],
   "source": []
  },
  {
   "cell_type": "markdown",
   "metadata": {},
   "source": [
    "### Создание рабочего листа - Обновление имени и цвета рабочего листа - Удаление рабочего листа"
   ]
  },
  {
   "cell_type": "code",
   "execution_count": 23,
   "metadata": {},
   "outputs": [],
   "source": [
    "# Создание рабочего листа\n",
    "new_sheet = table.add_worksheet(title='moskow', rows=100, cols=20)"
   ]
  },
  {
   "cell_type": "code",
   "execution_count": 24,
   "metadata": {},
   "outputs": [
    {
     "data": {
      "text/plain": [
       "{'spreadsheetId': '1-9n_S8-uQxykltg4g3N6ucY3uG_KnGjwU_phmjzITXU',\n",
       " 'replies': [{}]}"
      ]
     },
     "execution_count": 24,
     "metadata": {},
     "output_type": "execute_result"
    }
   ],
   "source": [
    "# Обновление имени\n",
    "new_sheet.update_title(\"erevan\")"
   ]
  },
  {
   "cell_type": "code",
   "execution_count": 21,
   "metadata": {},
   "outputs": [],
   "source": [
    "# Обновление цвета\n",
    "# new_sheet.update_tab_color({\"red\": 1, \"green\": 0.5, \"blue\": 0.5})"
   ]
  },
  {
   "cell_type": "code",
   "execution_count": 22,
   "metadata": {},
   "outputs": [
    {
     "data": {
      "text/plain": [
       "{'spreadsheetId': '1-9n_S8-uQxykltg4g3N6ucY3uG_KnGjwU_phmjzITXU',\n",
       " 'replies': [{}]}"
      ]
     },
     "execution_count": 22,
     "metadata": {},
     "output_type": "execute_result"
    }
   ],
   "source": [
    "# Удаление рабочего листа\n",
    "table.del_worksheet(new_sheet)"
   ]
  },
  {
   "cell_type": "code",
   "execution_count": null,
   "metadata": {},
   "outputs": [],
   "source": []
  },
  {
   "cell_type": "markdown",
   "metadata": {},
   "source": [
    "### Получение всех значений из строки или столбца"
   ]
  },
  {
   "cell_type": "code",
   "execution_count": 25,
   "metadata": {},
   "outputs": [],
   "source": [
    "my_sheet = table.worksheet('chelyabinsk')"
   ]
  },
  {
   "cell_type": "code",
   "execution_count": 28,
   "metadata": {},
   "outputs": [
    {
     "name": "stdout",
     "output_type": "stream",
     "text": [
      "['1', 'Как сделать фундамент для бани-бочки?', 'https://chelyabinsk.bani.ru.com/poleznye-statiy/kak-sdelat-fundament-dlya-bani-bochki/', '2025-01-21 19:45:44']\n"
     ]
    }
   ],
   "source": [
    "# Получить все значения из первой строки:\n",
    "\n",
    "row_list = my_sheet.row_values(2)\n",
    "print(row_list)"
   ]
  },
  {
   "cell_type": "code",
   "execution_count": 29,
   "metadata": {},
   "outputs": [
    {
     "name": "stdout",
     "output_type": "stream",
     "text": [
      "['Number', '1', '2', '3', '4', '5', '6', '7', '8', '9', '10', '11', '12', '13', '14', '15', '16', '17', '18', '19', '20', '21', '22', '23', '24', '25', '26', '27', '28', '1', '2', '3', '4', '5', '6', '7', '8', '9', '10', '11', '12', '13', '14', '15', '16', '17', '18', '19', '20', '21', '22', '23', '24', '25', '26', '27', '28']\n"
     ]
    }
   ],
   "source": [
    "# Получить все значения из первого столбца:\n",
    "\n",
    "col_list = my_sheet.col_values(1)\n",
    "print(col_list)"
   ]
  },
  {
   "cell_type": "markdown",
   "metadata": {},
   "source": [
    "#### Вот методы, которые могут помочь вам сократить количество вызовов API:\n",
    "\n",
    "get_all_values() - извлекает значения из всех ячеек листа.\n",
    "get() - извлекает все значения из диапазона ячеек.\n",
    "batch_get() - может извлекать значения из нескольких диапазонов ячеек с помощью одного вызова API.\n",
    "update() - позволяет обновить диапазон ячеек с помощью списка списков.\n",
    "batch_update() - позволяет обновлять несколько диапазонов ячеек с помощью одного вызова API."
   ]
  },
  {
   "cell_type": "code",
   "execution_count": null,
   "metadata": {},
   "outputs": [],
   "source": []
  },
  {
   "cell_type": "markdown",
   "metadata": {},
   "source": [
    "### Получение всех значений из рабочего листа в виде списка списков"
   ]
  },
  {
   "cell_type": "code",
   "execution_count": 31,
   "metadata": {
    "collapsed": true,
    "jupyter": {
     "outputs_hidden": true
    }
   },
   "outputs": [
    {
     "name": "stdout",
     "output_type": "stream",
     "text": [
      "[['Number', 'Topic', 'Link', 'timestamp'], ['1', 'Как сделать фундамент для бани-бочки?', 'https://chelyabinsk.bani.ru.com/poleznye-statiy/kak-sdelat-fundament-dlya-bani-bochki/', '2025-01-21 19:45:44'], ['2', 'Печь в бане-бочке: печь с топкой через перегородку или на улицу — плюсы и минусы', 'https://chelyabinsk.bani.ru.com/poleznye-statiy/pech-v-bane-bochke-varianty-raspolozheniya/', '2025-01-21 19:45:44'], ['3', 'Правила эксплуатации бань-бочек', 'https://chelyabinsk.bani.ru.com/poleznye-statiy/pravila-ekspluatacii-bani-bochki-kak-prodlit-srok-sluzhby/', '2025-01-21 19:45:44'], ['4', 'Что нужно знать при покупке?', 'https://chelyabinsk.bani.ru.com/poleznye-statiy/chto-nuzhno-znat-pri-pokupke-bani-bochki/', '2025-01-21 19:45:44'], ['5', 'Эксплуатация бани-бочки зимой', 'https://chelyabinsk.bani.ru.com/poleznye-statiy/ekspluataciya-bani-bochki-zimoj/', '2025-01-21 19:45:44'], ['6', 'Почему покупатели выбирают Бани-бочки?', 'https://chelyabinsk.bani.ru.com/poleznye-statiy/pochemu-pokupateli-vybirajut-bani-bochki/', '2025-01-21 19:45:44'], ['7', 'Планировки и внутреннее устройство бань-бочек', 'https://chelyabinsk.bani.ru.com/poleznye-statiy/planirovki-i-vnutrennee-ustrojstvo-ban-bochek/', '2025-01-21 19:45:44'], ['8', 'Выбор материала при производстве и отделке бани-бочки', 'https://chelyabinsk.bani.ru.com/poleznye-statiy/vybor-materiala-pri-proizvodstve-i-otdelke-bani-bochki/', '2025-01-21 19:45:44'], ['9', 'ТОП-15 причин, почему нужно выбирать бани Лукоморье', 'https://chelyabinsk.bani.ru.com/poleznye-statiy/pochemu-pokupateli-vybirajut-bani-lukomore/', '2025-01-21 19:45:44'], ['10', 'Популярные дополнения к бане', 'https://chelyabinsk.bani.ru.com/poleznye-statiy/populyarnye-dopolneniya-k-bane/', '2025-01-21 19:45:44'], ['11', 'Как топить баню-бочку?', 'https://chelyabinsk.bani.ru.com/poleznye-statiy/kak-topit-banju-bochku/', '2025-01-21 19:45:44'], ['12', 'Как устроена баня-бочка?', 'https://chelyabinsk.bani.ru.com/poleznye-statiy/kak-ustroena-banya-bochka/', '2025-01-21 19:45:44'], ['13', 'Как сделать баню-бочку своими руками?', 'https://chelyabinsk.bani.ru.com/poleznye-statiy/kak-sdelat-banju-bochku-svoimi-rukami/', '2025-01-21 19:45:44'], ['14', 'Баня-бочка по финской технологии', 'https://chelyabinsk.bani.ru.com/poleznye-statiy/banya-bochka-po-finskoj-tehnologii/', '2025-01-21 19:45:44'], ['15', 'Виды веников для бани и как правильно их запаривать?', 'https://chelyabinsk.bani.ru.com/poleznye-statiy/vidy-venikov-dlya-bani-i-kak-pravilno-ih-zaparivat/', '2025-01-21 19:45:44'], ['16', 'Полезна ли баня для здоровья?', 'https://chelyabinsk.bani.ru.com/poleznye-statiy/polezna-li-banya-dlya-zdorovya/', '2025-01-21 19:45:44'], ['17', 'Внешний вид бани: обработка и отделка', 'https://chelyabinsk.bani.ru.com/poleznye-statiy/vneshnij-vid-bani-obrabotka-i-otdelka/', '2025-01-21 19:45:44'], ['18', 'Сборка бани бочки на участке', 'https://chelyabinsk.bani.ru.com/poleznye-statiy/sborka-bani-bochki-na-uchastke/', '2025-01-21 19:45:44'], ['19', 'Финская и русская баня-бочка: в чем разница', 'https://chelyabinsk.bani.ru.com/poleznye-statiy/finskaya-i-russkaya-banya-v-chem-raznica/', '2025-01-21 19:45:44'], ['20', 'Баня-бочка из кедра или ели, что лучше?', 'https://chelyabinsk.bani.ru.com/poleznye-statiy/banya-bochka-iz-kedra-ili-eli/', '2025-01-21 19:45:44'], ['21', 'Виды кровли для бани', 'https://chelyabinsk.bani.ru.com/poleznye-statiy/vidy-krovli-dlya-bani/', '2025-01-21 19:45:44'], ['22', 'Какой должна быть влажность бруса при строительстве бани?', 'https://chelyabinsk.bani.ru.com/poleznye-statiy/kakoj-dolzhna-byt-vlazhnost-brusa-pri-stroitelstve-bani/', '2025-01-21 19:45:44'], ['23', 'Печь для бани — какую выбрать?', 'https://chelyabinsk.bani.ru.com/poleznye-statiy/pech-dlya-bani/', '2025-01-21 19:45:44'], ['24', 'Вагонка для отделки бани', 'https://chelyabinsk.bani.ru.com/poleznye-statiy/vagonka-dlya-otdelki-bani/', '2025-01-21 19:45:44'], ['25', 'Преимущества деревянной бани', 'https://chelyabinsk.bani.ru.com/poleznye-statiy/derevyannye-bani/', '2025-01-21 19:45:44'], ['26', 'Основные требования по эксплуатации бань', 'https://chelyabinsk.bani.ru.com/poleznye-statiy/osnovnye-trebovaniya-po-ekspluatacii-ban/', '2025-01-21 19:45:44'], ['27', 'В чем разница между срощенной и обычной древесиной', 'https://chelyabinsk.bani.ru.com/poleznye-statiy/v-chem-raznica-mezhdu-sroshhennoj-i-obychnoj-drevesinoj/', '2025-01-21 19:45:44'], ['28', 'Секреты создания легкого и приятного пара', 'https://chelyabinsk.bani.ru.com/kak-sozdat-legkij-i-priyatnyj-par-v-bane-bochke/', '2025-01-21 19:45:44'], ['1', 'Как сделать фундамент для бани-бочки?', 'https://chelyabinsk.bani.ru.com/poleznye-statiy/kak-sdelat-fundament-dlya-bani-bochki/', '2025-01-23 16:26:20'], ['2', 'Печь в бане-бочке: печь с топкой через перегородку или на улицу — плюсы и минусы', 'https://chelyabinsk.bani.ru.com/poleznye-statiy/pech-v-bane-bochke-varianty-raspolozheniya/', '2025-01-23 16:26:22'], ['3', 'Правила эксплуатации бань-бочек', 'https://chelyabinsk.bani.ru.com/poleznye-statiy/pravila-ekspluatacii-bani-bochki-kak-prodlit-srok-sluzhby/', '2025-01-23 16:26:25'], ['4', 'Что нужно знать при покупке?', 'https://chelyabinsk.bani.ru.com/poleznye-statiy/chto-nuzhno-znat-pri-pokupke-bani-bochki/', '2025-01-23 16:26:27'], ['5', 'Эксплуатация бани-бочки зимой', 'https://chelyabinsk.bani.ru.com/poleznye-statiy/ekspluataciya-bani-bochki-zimoj/', '2025-01-23 16:26:29'], ['6', 'Почему покупатели выбирают Бани-бочки?', 'https://chelyabinsk.bani.ru.com/poleznye-statiy/pochemu-pokupateli-vybirajut-bani-bochki/', '2025-01-23 16:26:32'], ['7', 'Планировки и внутреннее устройство бань-бочек', 'https://chelyabinsk.bani.ru.com/poleznye-statiy/planirovki-i-vnutrennee-ustrojstvo-ban-bochek/', '2025-01-23 16:26:35'], ['8', 'Выбор материала при производстве и отделке бани-бочки', 'https://chelyabinsk.bani.ru.com/poleznye-statiy/vybor-materiala-pri-proizvodstve-i-otdelke-bani-bochki/', '2025-01-23 16:26:37'], ['9', 'ТОП-15 причин, почему нужно выбирать бани Лукоморье', 'https://chelyabinsk.bani.ru.com/poleznye-statiy/pochemu-pokupateli-vybirajut-bani-lukomore/', '2025-01-23 16:26:40'], ['10', 'Популярные дополнения к бане', 'https://chelyabinsk.bani.ru.com/poleznye-statiy/populyarnye-dopolneniya-k-bane/', '2025-01-23 16:26:42'], ['11', 'Как топить баню-бочку?', 'https://chelyabinsk.bani.ru.com/poleznye-statiy/kak-topit-banju-bochku/', '2025-01-23 16:26:45'], ['12', 'Как устроена баня-бочка?', 'https://chelyabinsk.bani.ru.com/poleznye-statiy/kak-ustroena-banya-bochka/', '2025-01-23 16:26:48'], ['13', 'Как сделать баню-бочку своими руками?', 'https://chelyabinsk.bani.ru.com/poleznye-statiy/kak-sdelat-banju-bochku-svoimi-rukami/', '2025-01-23 16:26:50'], ['14', 'Баня-бочка по финской технологии', 'https://chelyabinsk.bani.ru.com/poleznye-statiy/banya-bochka-po-finskoj-tehnologii/', '2025-01-23 16:26:53'], ['15', 'Виды веников для бани и как правильно их запаривать?', 'https://chelyabinsk.bani.ru.com/poleznye-statiy/vidy-venikov-dlya-bani-i-kak-pravilno-ih-zaparivat/', '2025-01-23 16:26:56'], ['16', 'Полезна ли баня для здоровья?', 'https://chelyabinsk.bani.ru.com/poleznye-statiy/polezna-li-banya-dlya-zdorovya/', '2025-01-23 16:26:59'], ['17', 'Внешний вид бани: обработка и отделка', 'https://chelyabinsk.bani.ru.com/poleznye-statiy/vneshnij-vid-bani-obrabotka-i-otdelka/', '2025-01-23 16:27:01'], ['18', 'Сборка бани бочки на участке', 'https://chelyabinsk.bani.ru.com/poleznye-statiy/sborka-bani-bochki-na-uchastke/', '2025-01-23 16:27:04'], ['19', 'Финская и русская баня-бочка: в чем разница', 'https://chelyabinsk.bani.ru.com/poleznye-statiy/finskaya-i-russkaya-banya-v-chem-raznica/', '2025-01-23 16:27:07'], ['20', 'Баня-бочка из кедра или ели, что лучше?', 'https://chelyabinsk.bani.ru.com/poleznye-statiy/banya-bochka-iz-kedra-ili-eli/', '2025-01-23 16:27:09'], ['21', 'Виды кровли для бани', 'https://chelyabinsk.bani.ru.com/poleznye-statiy/vidy-krovli-dlya-bani/', '2025-01-23 16:27:12'], ['22', 'Какой должна быть влажность бруса при строительстве бани?', 'https://chelyabinsk.bani.ru.com/poleznye-statiy/kakoj-dolzhna-byt-vlazhnost-brusa-pri-stroitelstve-bani/', '2025-01-23 16:27:14'], ['23', 'Печь для бани — какую выбрать?', 'https://chelyabinsk.bani.ru.com/poleznye-statiy/pech-dlya-bani/', '2025-01-23 16:27:17'], ['24', 'Вагонка для отделки бани', 'https://chelyabinsk.bani.ru.com/poleznye-statiy/vagonka-dlya-otdelki-bani/', '2025-01-23 16:27:20'], ['25', 'Преимущества деревянной бани', 'https://chelyabinsk.bani.ru.com/poleznye-statiy/derevyannye-bani/', '2025-01-23 16:27:23'], ['26', 'Основные требования по эксплуатации бань', 'https://chelyabinsk.bani.ru.com/poleznye-statiy/osnovnye-trebovaniya-po-ekspluatacii-ban/', '2025-01-23 16:27:25'], ['27', 'В чем разница между срощенной и обычной древесиной', 'https://chelyabinsk.bani.ru.com/poleznye-statiy/v-chem-raznica-mezhdu-sroshhennoj-i-obychnoj-drevesinoj/', '2025-01-23 16:27:28'], ['28', 'Секреты создания легкого и приятного пара', 'https://chelyabinsk.bani.ru.com/kak-sozdat-legkij-i-priyatnyj-par-v-bane-bochke/', '2025-01-23 16:27:30']]\n"
     ]
    }
   ],
   "source": [
    "list_of_lists = my_sheet.get_all_values()\n",
    "print(list_of_lists)"
   ]
  },
  {
   "cell_type": "code",
   "execution_count": null,
   "metadata": {},
   "outputs": [],
   "source": []
  },
  {
   "cell_type": "markdown",
   "metadata": {},
   "source": [
    "### Получение всех значений из рабочего листа в виде списка словарей"
   ]
  },
  {
   "cell_type": "code",
   "execution_count": 32,
   "metadata": {
    "collapsed": true,
    "jupyter": {
     "outputs_hidden": true
    }
   },
   "outputs": [
    {
     "name": "stdout",
     "output_type": "stream",
     "text": [
      "[{'Number': 1, 'Topic': 'Как сделать фундамент для бани-бочки?', 'Link': 'https://chelyabinsk.bani.ru.com/poleznye-statiy/kak-sdelat-fundament-dlya-bani-bochki/', 'timestamp': '2025-01-21 19:45:44'}, {'Number': 2, 'Topic': 'Печь в бане-бочке: печь с топкой через перегородку или на улицу — плюсы и минусы', 'Link': 'https://chelyabinsk.bani.ru.com/poleznye-statiy/pech-v-bane-bochke-varianty-raspolozheniya/', 'timestamp': '2025-01-21 19:45:44'}, {'Number': 3, 'Topic': 'Правила эксплуатации бань-бочек', 'Link': 'https://chelyabinsk.bani.ru.com/poleznye-statiy/pravila-ekspluatacii-bani-bochki-kak-prodlit-srok-sluzhby/', 'timestamp': '2025-01-21 19:45:44'}, {'Number': 4, 'Topic': 'Что нужно знать при покупке?', 'Link': 'https://chelyabinsk.bani.ru.com/poleznye-statiy/chto-nuzhno-znat-pri-pokupke-bani-bochki/', 'timestamp': '2025-01-21 19:45:44'}, {'Number': 5, 'Topic': 'Эксплуатация бани-бочки зимой', 'Link': 'https://chelyabinsk.bani.ru.com/poleznye-statiy/ekspluataciya-bani-bochki-zimoj/', 'timestamp': '2025-01-21 19:45:44'}, {'Number': 6, 'Topic': 'Почему покупатели выбирают Бани-бочки?', 'Link': 'https://chelyabinsk.bani.ru.com/poleznye-statiy/pochemu-pokupateli-vybirajut-bani-bochki/', 'timestamp': '2025-01-21 19:45:44'}, {'Number': 7, 'Topic': 'Планировки и внутреннее устройство бань-бочек', 'Link': 'https://chelyabinsk.bani.ru.com/poleznye-statiy/planirovki-i-vnutrennee-ustrojstvo-ban-bochek/', 'timestamp': '2025-01-21 19:45:44'}, {'Number': 8, 'Topic': 'Выбор материала при производстве и отделке бани-бочки', 'Link': 'https://chelyabinsk.bani.ru.com/poleznye-statiy/vybor-materiala-pri-proizvodstve-i-otdelke-bani-bochki/', 'timestamp': '2025-01-21 19:45:44'}, {'Number': 9, 'Topic': 'ТОП-15 причин, почему нужно выбирать бани Лукоморье', 'Link': 'https://chelyabinsk.bani.ru.com/poleznye-statiy/pochemu-pokupateli-vybirajut-bani-lukomore/', 'timestamp': '2025-01-21 19:45:44'}, {'Number': 10, 'Topic': 'Популярные дополнения к бане', 'Link': 'https://chelyabinsk.bani.ru.com/poleznye-statiy/populyarnye-dopolneniya-k-bane/', 'timestamp': '2025-01-21 19:45:44'}, {'Number': 11, 'Topic': 'Как топить баню-бочку?', 'Link': 'https://chelyabinsk.bani.ru.com/poleznye-statiy/kak-topit-banju-bochku/', 'timestamp': '2025-01-21 19:45:44'}, {'Number': 12, 'Topic': 'Как устроена баня-бочка?', 'Link': 'https://chelyabinsk.bani.ru.com/poleznye-statiy/kak-ustroena-banya-bochka/', 'timestamp': '2025-01-21 19:45:44'}, {'Number': 13, 'Topic': 'Как сделать баню-бочку своими руками?', 'Link': 'https://chelyabinsk.bani.ru.com/poleznye-statiy/kak-sdelat-banju-bochku-svoimi-rukami/', 'timestamp': '2025-01-21 19:45:44'}, {'Number': 14, 'Topic': 'Баня-бочка по финской технологии', 'Link': 'https://chelyabinsk.bani.ru.com/poleznye-statiy/banya-bochka-po-finskoj-tehnologii/', 'timestamp': '2025-01-21 19:45:44'}, {'Number': 15, 'Topic': 'Виды веников для бани и как правильно их запаривать?', 'Link': 'https://chelyabinsk.bani.ru.com/poleznye-statiy/vidy-venikov-dlya-bani-i-kak-pravilno-ih-zaparivat/', 'timestamp': '2025-01-21 19:45:44'}, {'Number': 16, 'Topic': 'Полезна ли баня для здоровья?', 'Link': 'https://chelyabinsk.bani.ru.com/poleznye-statiy/polezna-li-banya-dlya-zdorovya/', 'timestamp': '2025-01-21 19:45:44'}, {'Number': 17, 'Topic': 'Внешний вид бани: обработка и отделка', 'Link': 'https://chelyabinsk.bani.ru.com/poleznye-statiy/vneshnij-vid-bani-obrabotka-i-otdelka/', 'timestamp': '2025-01-21 19:45:44'}, {'Number': 18, 'Topic': 'Сборка бани бочки на участке', 'Link': 'https://chelyabinsk.bani.ru.com/poleznye-statiy/sborka-bani-bochki-na-uchastke/', 'timestamp': '2025-01-21 19:45:44'}, {'Number': 19, 'Topic': 'Финская и русская баня-бочка: в чем разница', 'Link': 'https://chelyabinsk.bani.ru.com/poleznye-statiy/finskaya-i-russkaya-banya-v-chem-raznica/', 'timestamp': '2025-01-21 19:45:44'}, {'Number': 20, 'Topic': 'Баня-бочка из кедра или ели, что лучше?', 'Link': 'https://chelyabinsk.bani.ru.com/poleznye-statiy/banya-bochka-iz-kedra-ili-eli/', 'timestamp': '2025-01-21 19:45:44'}, {'Number': 21, 'Topic': 'Виды кровли для бани', 'Link': 'https://chelyabinsk.bani.ru.com/poleznye-statiy/vidy-krovli-dlya-bani/', 'timestamp': '2025-01-21 19:45:44'}, {'Number': 22, 'Topic': 'Какой должна быть влажность бруса при строительстве бани?', 'Link': 'https://chelyabinsk.bani.ru.com/poleznye-statiy/kakoj-dolzhna-byt-vlazhnost-brusa-pri-stroitelstve-bani/', 'timestamp': '2025-01-21 19:45:44'}, {'Number': 23, 'Topic': 'Печь для бани — какую выбрать?', 'Link': 'https://chelyabinsk.bani.ru.com/poleznye-statiy/pech-dlya-bani/', 'timestamp': '2025-01-21 19:45:44'}, {'Number': 24, 'Topic': 'Вагонка для отделки бани', 'Link': 'https://chelyabinsk.bani.ru.com/poleznye-statiy/vagonka-dlya-otdelki-bani/', 'timestamp': '2025-01-21 19:45:44'}, {'Number': 25, 'Topic': 'Преимущества деревянной бани', 'Link': 'https://chelyabinsk.bani.ru.com/poleznye-statiy/derevyannye-bani/', 'timestamp': '2025-01-21 19:45:44'}, {'Number': 26, 'Topic': 'Основные требования по эксплуатации бань', 'Link': 'https://chelyabinsk.bani.ru.com/poleznye-statiy/osnovnye-trebovaniya-po-ekspluatacii-ban/', 'timestamp': '2025-01-21 19:45:44'}, {'Number': 27, 'Topic': 'В чем разница между срощенной и обычной древесиной', 'Link': 'https://chelyabinsk.bani.ru.com/poleznye-statiy/v-chem-raznica-mezhdu-sroshhennoj-i-obychnoj-drevesinoj/', 'timestamp': '2025-01-21 19:45:44'}, {'Number': 28, 'Topic': 'Секреты создания легкого и приятного пара', 'Link': 'https://chelyabinsk.bani.ru.com/kak-sozdat-legkij-i-priyatnyj-par-v-bane-bochke/', 'timestamp': '2025-01-21 19:45:44'}, {'Number': 1, 'Topic': 'Как сделать фундамент для бани-бочки?', 'Link': 'https://chelyabinsk.bani.ru.com/poleznye-statiy/kak-sdelat-fundament-dlya-bani-bochki/', 'timestamp': '2025-01-23 16:26:20'}, {'Number': 2, 'Topic': 'Печь в бане-бочке: печь с топкой через перегородку или на улицу — плюсы и минусы', 'Link': 'https://chelyabinsk.bani.ru.com/poleznye-statiy/pech-v-bane-bochke-varianty-raspolozheniya/', 'timestamp': '2025-01-23 16:26:22'}, {'Number': 3, 'Topic': 'Правила эксплуатации бань-бочек', 'Link': 'https://chelyabinsk.bani.ru.com/poleznye-statiy/pravila-ekspluatacii-bani-bochki-kak-prodlit-srok-sluzhby/', 'timestamp': '2025-01-23 16:26:25'}, {'Number': 4, 'Topic': 'Что нужно знать при покупке?', 'Link': 'https://chelyabinsk.bani.ru.com/poleznye-statiy/chto-nuzhno-znat-pri-pokupke-bani-bochki/', 'timestamp': '2025-01-23 16:26:27'}, {'Number': 5, 'Topic': 'Эксплуатация бани-бочки зимой', 'Link': 'https://chelyabinsk.bani.ru.com/poleznye-statiy/ekspluataciya-bani-bochki-zimoj/', 'timestamp': '2025-01-23 16:26:29'}, {'Number': 6, 'Topic': 'Почему покупатели выбирают Бани-бочки?', 'Link': 'https://chelyabinsk.bani.ru.com/poleznye-statiy/pochemu-pokupateli-vybirajut-bani-bochki/', 'timestamp': '2025-01-23 16:26:32'}, {'Number': 7, 'Topic': 'Планировки и внутреннее устройство бань-бочек', 'Link': 'https://chelyabinsk.bani.ru.com/poleznye-statiy/planirovki-i-vnutrennee-ustrojstvo-ban-bochek/', 'timestamp': '2025-01-23 16:26:35'}, {'Number': 8, 'Topic': 'Выбор материала при производстве и отделке бани-бочки', 'Link': 'https://chelyabinsk.bani.ru.com/poleznye-statiy/vybor-materiala-pri-proizvodstve-i-otdelke-bani-bochki/', 'timestamp': '2025-01-23 16:26:37'}, {'Number': 9, 'Topic': 'ТОП-15 причин, почему нужно выбирать бани Лукоморье', 'Link': 'https://chelyabinsk.bani.ru.com/poleznye-statiy/pochemu-pokupateli-vybirajut-bani-lukomore/', 'timestamp': '2025-01-23 16:26:40'}, {'Number': 10, 'Topic': 'Популярные дополнения к бане', 'Link': 'https://chelyabinsk.bani.ru.com/poleznye-statiy/populyarnye-dopolneniya-k-bane/', 'timestamp': '2025-01-23 16:26:42'}, {'Number': 11, 'Topic': 'Как топить баню-бочку?', 'Link': 'https://chelyabinsk.bani.ru.com/poleznye-statiy/kak-topit-banju-bochku/', 'timestamp': '2025-01-23 16:26:45'}, {'Number': 12, 'Topic': 'Как устроена баня-бочка?', 'Link': 'https://chelyabinsk.bani.ru.com/poleznye-statiy/kak-ustroena-banya-bochka/', 'timestamp': '2025-01-23 16:26:48'}, {'Number': 13, 'Topic': 'Как сделать баню-бочку своими руками?', 'Link': 'https://chelyabinsk.bani.ru.com/poleznye-statiy/kak-sdelat-banju-bochku-svoimi-rukami/', 'timestamp': '2025-01-23 16:26:50'}, {'Number': 14, 'Topic': 'Баня-бочка по финской технологии', 'Link': 'https://chelyabinsk.bani.ru.com/poleznye-statiy/banya-bochka-po-finskoj-tehnologii/', 'timestamp': '2025-01-23 16:26:53'}, {'Number': 15, 'Topic': 'Виды веников для бани и как правильно их запаривать?', 'Link': 'https://chelyabinsk.bani.ru.com/poleznye-statiy/vidy-venikov-dlya-bani-i-kak-pravilno-ih-zaparivat/', 'timestamp': '2025-01-23 16:26:56'}, {'Number': 16, 'Topic': 'Полезна ли баня для здоровья?', 'Link': 'https://chelyabinsk.bani.ru.com/poleznye-statiy/polezna-li-banya-dlya-zdorovya/', 'timestamp': '2025-01-23 16:26:59'}, {'Number': 17, 'Topic': 'Внешний вид бани: обработка и отделка', 'Link': 'https://chelyabinsk.bani.ru.com/poleznye-statiy/vneshnij-vid-bani-obrabotka-i-otdelka/', 'timestamp': '2025-01-23 16:27:01'}, {'Number': 18, 'Topic': 'Сборка бани бочки на участке', 'Link': 'https://chelyabinsk.bani.ru.com/poleznye-statiy/sborka-bani-bochki-na-uchastke/', 'timestamp': '2025-01-23 16:27:04'}, {'Number': 19, 'Topic': 'Финская и русская баня-бочка: в чем разница', 'Link': 'https://chelyabinsk.bani.ru.com/poleznye-statiy/finskaya-i-russkaya-banya-v-chem-raznica/', 'timestamp': '2025-01-23 16:27:07'}, {'Number': 20, 'Topic': 'Баня-бочка из кедра или ели, что лучше?', 'Link': 'https://chelyabinsk.bani.ru.com/poleznye-statiy/banya-bochka-iz-kedra-ili-eli/', 'timestamp': '2025-01-23 16:27:09'}, {'Number': 21, 'Topic': 'Виды кровли для бани', 'Link': 'https://chelyabinsk.bani.ru.com/poleznye-statiy/vidy-krovli-dlya-bani/', 'timestamp': '2025-01-23 16:27:12'}, {'Number': 22, 'Topic': 'Какой должна быть влажность бруса при строительстве бани?', 'Link': 'https://chelyabinsk.bani.ru.com/poleznye-statiy/kakoj-dolzhna-byt-vlazhnost-brusa-pri-stroitelstve-bani/', 'timestamp': '2025-01-23 16:27:14'}, {'Number': 23, 'Topic': 'Печь для бани — какую выбрать?', 'Link': 'https://chelyabinsk.bani.ru.com/poleznye-statiy/pech-dlya-bani/', 'timestamp': '2025-01-23 16:27:17'}, {'Number': 24, 'Topic': 'Вагонка для отделки бани', 'Link': 'https://chelyabinsk.bani.ru.com/poleznye-statiy/vagonka-dlya-otdelki-bani/', 'timestamp': '2025-01-23 16:27:20'}, {'Number': 25, 'Topic': 'Преимущества деревянной бани', 'Link': 'https://chelyabinsk.bani.ru.com/poleznye-statiy/derevyannye-bani/', 'timestamp': '2025-01-23 16:27:23'}, {'Number': 26, 'Topic': 'Основные требования по эксплуатации бань', 'Link': 'https://chelyabinsk.bani.ru.com/poleznye-statiy/osnovnye-trebovaniya-po-ekspluatacii-ban/', 'timestamp': '2025-01-23 16:27:25'}, {'Number': 27, 'Topic': 'В чем разница между срощенной и обычной древесиной', 'Link': 'https://chelyabinsk.bani.ru.com/poleznye-statiy/v-chem-raznica-mezhdu-sroshhennoj-i-obychnoj-drevesinoj/', 'timestamp': '2025-01-23 16:27:28'}, {'Number': 28, 'Topic': 'Секреты создания легкого и приятного пара', 'Link': 'https://chelyabinsk.bani.ru.com/kak-sozdat-legkij-i-priyatnyj-par-v-bane-bochke/', 'timestamp': '2025-01-23 16:27:30'}]\n"
     ]
    }
   ],
   "source": [
    "list_of_dicts = my_sheet.get_all_records()\n",
    "print(list_of_dicts)"
   ]
  },
  {
   "cell_type": "code",
   "execution_count": null,
   "metadata": {},
   "outputs": [],
   "source": []
  },
  {
   "cell_type": "markdown",
   "metadata": {},
   "source": [
    "### Форматирование\n",
    "Вот пример базового форматирования. Установите полужирный формат текста A1:B1 :\n",
    "worksheet.format('A1:B1', {'textFormat': {'bold': True}})"
   ]
  },
  {
   "cell_type": "code",
   "execution_count": 38,
   "metadata": {},
   "outputs": [
    {
     "data": {
      "text/plain": [
       "{'spreadsheetId': '1-9n_S8-uQxykltg4g3N6ucY3uG_KnGjwU_phmjzITXU',\n",
       " 'replies': [{}]}"
      ]
     },
     "execution_count": 38,
     "metadata": {},
     "output_type": "execute_result"
    }
   ],
   "source": [
    "# Установите полужирный формат текста A1:B1 :\n",
    "my_sheet.format('A1:G2', {'textFormat': {'bold': True}})"
   ]
  },
  {
   "cell_type": "code",
   "execution_count": 37,
   "metadata": {},
   "outputs": [
    {
     "data": {
      "text/plain": [
       "{'spreadsheetId': '1-9n_S8-uQxykltg4g3N6ucY3uG_KnGjwU_phmjzITXU',\n",
       " 'replies': [{}]}"
      ]
     },
     "execution_count": 37,
     "metadata": {},
     "output_type": "execute_result"
    }
   ],
   "source": [
    "my_sheet.format('A2:B10', {'textFormat': {'bold': False}})"
   ]
  },
  {
   "cell_type": "code",
   "execution_count": 40,
   "metadata": {},
   "outputs": [
    {
     "data": {
      "text/plain": [
       "{'spreadsheetId': '1-9n_S8-uQxykltg4g3N6ucY3uG_KnGjwU_phmjzITXU',\n",
       " 'replies': [{}]}"
      ]
     },
     "execution_count": 40,
     "metadata": {},
     "output_type": "execute_result"
    }
   ],
   "source": [
    "# Закрасьте фон диапазона ячеек A2:B2 черным цветом, измените горизонтальное выравнивание, цвет текста и размер шрифта:\n",
    "\n",
    "my_sheet.format(\"A2:B2\", {\n",
    "    \"backgroundColor\": {\n",
    "      \"red\": 0.0,\n",
    "      \"green\": 0.0,\n",
    "      \"blue\": 0.0\n",
    "    },\n",
    "    \"horizontalAlignment\": \"CENTER\",\n",
    "    \"textFormat\": {\n",
    "      \"foregroundColor\": {\n",
    "        \"red\": 1.0,\n",
    "        \"green\": 1.0,\n",
    "        \"blue\": 1.0\n",
    "      },\n",
    "      \"fontSize\": 12,\n",
    "      \"bold\": True\n",
    "    }\n",
    "})"
   ]
  },
  {
   "cell_type": "markdown",
   "metadata": {},
   "source": [
    "Второй аргумент — format()это словарь, содержащий поля для обновления. Полная спецификация параметров формата доступна в CellFormat в Sheet API Reference.\n",
    "https://developers.google.com/sheets/api/reference/rest/v4/spreadsheets/cells#cellformat"
   ]
  },
  {
   "cell_type": "markdown",
   "metadata": {},
   "source": [
    "для более сложного форматирования см. gspread-formating .\n",
    "https://docs.gspread.org/en/latest/community.html#gspread-formating-label"
   ]
  },
  {
   "cell_type": "code",
   "execution_count": null,
   "metadata": {},
   "outputs": [],
   "source": []
  },
  {
   "cell_type": "markdown",
   "metadata": {},
   "source": [
    "### Использование gspread с pandas\n",
    "pandas — популярная библиотека для анализа данных.\n",
    "Самый простой способ получить данные из таблицы в pandas DataFrame — это get_all_records():"
   ]
  },
  {
   "cell_type": "code",
   "execution_count": 41,
   "metadata": {},
   "outputs": [
    {
     "data": {
      "text/html": [
       "<div>\n",
       "<style scoped>\n",
       "    .dataframe tbody tr th:only-of-type {\n",
       "        vertical-align: middle;\n",
       "    }\n",
       "\n",
       "    .dataframe tbody tr th {\n",
       "        vertical-align: top;\n",
       "    }\n",
       "\n",
       "    .dataframe thead th {\n",
       "        text-align: right;\n",
       "    }\n",
       "</style>\n",
       "<table border=\"1\" class=\"dataframe\">\n",
       "  <thead>\n",
       "    <tr style=\"text-align: right;\">\n",
       "      <th></th>\n",
       "      <th>Number</th>\n",
       "      <th>Topic</th>\n",
       "      <th>Link</th>\n",
       "      <th>timestamp</th>\n",
       "    </tr>\n",
       "  </thead>\n",
       "  <tbody>\n",
       "    <tr>\n",
       "      <th>51</th>\n",
       "      <td>24</td>\n",
       "      <td>Вагонка для отделки бани</td>\n",
       "      <td>https://chelyabinsk.bani.ru.com/poleznye-stati...</td>\n",
       "      <td>2025-01-23 16:27:20</td>\n",
       "    </tr>\n",
       "    <tr>\n",
       "      <th>52</th>\n",
       "      <td>25</td>\n",
       "      <td>Преимущества деревянной бани</td>\n",
       "      <td>https://chelyabinsk.bani.ru.com/poleznye-stati...</td>\n",
       "      <td>2025-01-23 16:27:23</td>\n",
       "    </tr>\n",
       "    <tr>\n",
       "      <th>53</th>\n",
       "      <td>26</td>\n",
       "      <td>Основные требования по эксплуатации бань</td>\n",
       "      <td>https://chelyabinsk.bani.ru.com/poleznye-stati...</td>\n",
       "      <td>2025-01-23 16:27:25</td>\n",
       "    </tr>\n",
       "    <tr>\n",
       "      <th>54</th>\n",
       "      <td>27</td>\n",
       "      <td>В чем разница между срощенной и обычной древес...</td>\n",
       "      <td>https://chelyabinsk.bani.ru.com/poleznye-stati...</td>\n",
       "      <td>2025-01-23 16:27:28</td>\n",
       "    </tr>\n",
       "    <tr>\n",
       "      <th>55</th>\n",
       "      <td>28</td>\n",
       "      <td>Секреты создания легкого и приятного пара</td>\n",
       "      <td>https://chelyabinsk.bani.ru.com/kak-sozdat-leg...</td>\n",
       "      <td>2025-01-23 16:27:30</td>\n",
       "    </tr>\n",
       "  </tbody>\n",
       "</table>\n",
       "</div>"
      ],
      "text/plain": [
       "    Number                                              Topic  \\\n",
       "51      24                           Вагонка для отделки бани   \n",
       "52      25                       Преимущества деревянной бани   \n",
       "53      26           Основные требования по эксплуатации бань   \n",
       "54      27  В чем разница между срощенной и обычной древес...   \n",
       "55      28          Секреты создания легкого и приятного пара   \n",
       "\n",
       "                                                 Link            timestamp  \n",
       "51  https://chelyabinsk.bani.ru.com/poleznye-stati...  2025-01-23 16:27:20  \n",
       "52  https://chelyabinsk.bani.ru.com/poleznye-stati...  2025-01-23 16:27:23  \n",
       "53  https://chelyabinsk.bani.ru.com/poleznye-stati...  2025-01-23 16:27:25  \n",
       "54  https://chelyabinsk.bani.ru.com/poleznye-stati...  2025-01-23 16:27:28  \n",
       "55  https://chelyabinsk.bani.ru.com/kak-sozdat-leg...  2025-01-23 16:27:30  "
      ]
     },
     "execution_count": 41,
     "metadata": {},
     "output_type": "execute_result"
    }
   ],
   "source": [
    "# import pandas as pd\n",
    "\n",
    "df2 = pd.DataFrame(my_sheet.get_all_records())\n",
    "df2.tail()"
   ]
  },
  {
   "cell_type": "code",
   "execution_count": 42,
   "metadata": {},
   "outputs": [
    {
     "data": {
      "text/plain": [
       "Number        int64\n",
       "Topic        object\n",
       "Link         object\n",
       "timestamp    object\n",
       "dtype: object"
      ]
     },
     "execution_count": 42,
     "metadata": {},
     "output_type": "execute_result"
    }
   ],
   "source": [
    "df2.dtypes"
   ]
  },
  {
   "cell_type": "code",
   "execution_count": null,
   "metadata": {},
   "outputs": [],
   "source": [
    "# Вот простой пример записи dataframe на лист.\n",
    "# С помощью update()мы помещаем заголовок dataframe в первую строку листа, а затем значения dataframe:\n",
    "\n",
    "# import pandas as pd\n",
    "worksheet.update([dataframe.columns.values.tolist()] + dataframe.values.tolist())"
   ]
  },
  {
   "cell_type": "markdown",
   "metadata": {},
   "source": []
  },
  {
   "cell_type": "markdown",
   "metadata": {},
   "source": [
    "#### https://docs.gspread.org/en/latest/community.html#gspread-pandas-label\n",
    "Для более продвинутых вариантов использования pandas посетите раздел сообщества Использование gspread с pandas"
   ]
  },
  {
   "cell_type": "markdown",
   "metadata": {},
   "source": [
    "#### https://github.com/aiguofer/gspread-pandas\n",
    "Using gspread with pandas"
   ]
  },
  {
   "cell_type": "code",
   "execution_count": null,
   "metadata": {},
   "outputs": [],
   "source": []
  },
  {
   "cell_type": "markdown",
   "metadata": {},
   "source": [
    "# Расширенное использование\n",
    "## Пользовательская аутентификация\n",
    "### Google Colaboratory"
   ]
  },
  {
   "cell_type": "code",
   "execution_count": null,
   "metadata": {},
   "outputs": [],
   "source": [
    "# Если вы знакомы с Jupyter Notebook, Google Colaboratory, вероятно, является самым простым способом начать использовать gspread:\n",
    "\n",
    "from google.colab import auth\n",
    "auth.authenticate_user()\n",
    "\n",
    "import gspread\n",
    "from google.auth import default\n",
    "creds, _ = default()\n",
    "\n",
    "gc = gspread.authorize(creds)"
   ]
  },
  {
   "cell_type": "markdown",
   "metadata": {},
   "source": [
    "#### https://colab.research.google.com/notebooks/io.ipynb#scrollTo=sOm9PFrT8mGG\n",
    "Полный пример смотрите в блокноте Внешние данные: локальные файлы, диск, таблицы и облачное хранилище ."
   ]
  },
  {
   "cell_type": "code",
   "execution_count": null,
   "metadata": {},
   "outputs": [],
   "source": []
  },
  {
   "cell_type": "markdown",
   "metadata": {},
   "source": [
    "## Использование Authlib"
   ]
  },
  {
   "cell_type": "markdown",
   "metadata": {},
   "source": [
    "Использование Authlibвместо google-auth.\n",
    "Аналогично google.auth.transport.requests.AuthorizedSession Authlib AssertionSession может автоматически обновлять токены.:"
   ]
  },
  {
   "cell_type": "code",
   "execution_count": null,
   "metadata": {},
   "outputs": [],
   "source": [
    "import json\n",
    "from gspread import Client\n",
    "from authlib.integrations.requests_client import AssertionSession\n",
    "\n",
    "def create_assertion_session(conf_file, scopes, subject=None):\n",
    "    with open(conf_file, 'r') as f:\n",
    "        conf = json.load(f)\n",
    "\n",
    "    token_url = conf['token_uri']\n",
    "    issuer = conf['client_email']\n",
    "    key = conf['private_key']\n",
    "    key_id = conf.get('private_key_id')\n",
    "\n",
    "    header = {'alg': 'RS256'}\n",
    "    if key_id:\n",
    "        header['kid'] = key_id\n",
    "\n",
    "    # Google puts scope in payload\n",
    "    claims = {'scope': ' '.join(scopes)}\n",
    "    return AssertionSession(\n",
    "        grant_type=AssertionSession.JWT_BEARER_GRANT_TYPE,\n",
    "        token_endpoint=token_url,\n",
    "        issuer=issuer,\n",
    "        audience=token_url,\n",
    "        claims=claims,\n",
    "        subject=subject,\n",
    "        key=key,\n",
    "        header=header,\n",
    "    )\n",
    "\n",
    "scopes = [\n",
    "    'https://www.googleapis.com/auth/spreadsheets',\n",
    "    'https://www.googleapis.com/auth/drive',\n",
    "]\n",
    "session = create_assertion_session('your-google-conf.json', scopes)\n",
    "gc = Client(None, session)\n",
    "\n",
    "wks = gc.open(\"Where is the money Lebowski?\").sheet1\n",
    "\n",
    "wks.update_acell('B2', \"it's down there somewhere, let me take another look.\")\n",
    "\n",
    "# Fetch a cell range\n",
    "cell_list = wks.range('A1:B7')"
   ]
  },
  {
   "cell_type": "code",
   "execution_count": null,
   "metadata": {},
   "outputs": [],
   "source": []
  }
 ],
 "metadata": {
  "kernelspec": {
   "display_name": "Python 3 (ipykernel)",
   "language": "python",
   "name": "python3"
  },
  "language_info": {
   "codemirror_mode": {
    "name": "ipython",
    "version": 3
   },
   "file_extension": ".py",
   "mimetype": "text/x-python",
   "name": "python",
   "nbconvert_exporter": "python",
   "pygments_lexer": "ipython3",
   "version": "3.12.7"
  }
 },
 "nbformat": 4,
 "nbformat_minor": 4
}
