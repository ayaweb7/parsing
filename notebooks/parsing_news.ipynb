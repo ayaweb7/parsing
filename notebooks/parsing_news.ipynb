{
 "cells": [
  {
   "cell_type": "markdown",
   "metadata": {},
   "source": [
    "## Парсер новостей с VC.RU на PYTHON"
   ]
  },
  {
   "cell_type": "code",
   "execution_count": null,
   "metadata": {},
   "outputs": [],
   "source": []
  },
  {
   "cell_type": "code",
   "execution_count": 2,
   "metadata": {},
   "outputs": [],
   "source": [
    "# Подключаем библиотеку для поиска элементов кода на сайте !!!!!!!!!!!!!\n",
    "# Библиотека PYTHON для извлечения данных из файлов HTML и XML\n",
    "from bs4 import BeautifulSoup\n",
    "\n",
    "# Подключаем библиотеку для парсинга сайтов !!!!!!!!!!!!!\n",
    "import requests"
   ]
  },
  {
   "cell_type": "code",
   "execution_count": 3,
   "metadata": {},
   "outputs": [],
   "source": [
    "# Переменная со ссылкой на сайт\n",
    "url = 'https://vc.ru/popular'"
   ]
  },
  {
   "cell_type": "code",
   "execution_count": 4,
   "metadata": {},
   "outputs": [],
   "source": [
    "# Создаём запрос\n",
    "response = requests.get(url)"
   ]
  },
  {
   "cell_type": "code",
   "execution_count": 9,
   "metadata": {},
   "outputs": [],
   "source": [
    "# Объект SOUP\n",
    "soup = BeautifulSoup(response.text, 'html')\n",
    "\n",
    "# Вылезает куча кода в виде текста\n",
    "# print(soup)"
   ]
  },
  {
   "cell_type": "code",
   "execution_count": 11,
   "metadata": {},
   "outputs": [],
   "source": [
    "# Определяем DIV-ы с нужной инфой (заголовки статей)\n",
    "articles = soup.find('div', class_ = 'content content--short')\n",
    "# print (articles)"
   ]
  },
  {
   "cell_type": "code",
   "execution_count": 43,
   "metadata": {},
   "outputs": [],
   "source": [
    "# Чтобы определить степени вложенности DIV-ов применяем трюк PRETTIFY:\n",
    "# print(articles.prettify())"
   ]
  },
  {
   "cell_type": "code",
   "execution_count": 20,
   "metadata": {},
   "outputs": [
    {
     "name": "stdout",
     "output_type": "stream",
     "text": [
      "<div class=\"content-title content-title--low-indent\">Генконсульство России в Дубае призвало россиян не соглашаться на просьбы незнакомцев перевезти через границу дубайский <span class=\"content-title__editorial\" title=\"Материал редакции\">шоколад <a class=\"\" href=\"/editorial\"><!--[--><svg class=\"icon icon--tick_redaction\" height=\"22\" width=\"22\"><use xlink:href=\"#tick_redaction\"></use></svg><!--]--></a></span></div>\n"
     ]
    }
   ],
   "source": [
    "# Достаём нужный DIV:\n",
    "# div = articles.div.div.div\n",
    "div = articles.find('div', class_ = 'content-title content-title--low-indent')\n",
    "print (div)"
   ]
  },
  {
   "cell_type": "code",
   "execution_count": 23,
   "metadata": {},
   "outputs": [
    {
     "name": "stdout",
     "output_type": "stream",
     "text": [
      "Генконсульство России в Дубае призвало россиян не соглашаться на просьбы незнакомцев перевезти через границу дубайский шоколад \n"
     ]
    }
   ],
   "source": [
    "# Достаём текст заголовка из этого DIV-а\n",
    "title = div.text\n",
    "print (title)"
   ]
  },
  {
   "cell_type": "code",
   "execution_count": 40,
   "metadata": {},
   "outputs": [
    {
     "name": "stdout",
     "output_type": "stream",
     "text": [
      "/flood/1653587-genkonsulstvo-rossii-v-dubae-prizvalo-rossiyan-ne-soglashatsya-na-prosby-neznakomcev-perevezti-cherez-granicu-dubaiskii-shokolad\n",
      "Генконсульство России в Дубае призвало россиян не соглашаться на просьбы незнакомцев перевезти через границу дубайский шоколад  /flood/1653587-genkonsulstvo-rossii-v-dubae-prizvalo-rossiyan-ne-soglashatsya-na-prosby-neznakomcev-perevezti-cherez-granicu-dubaiskii-shokolad\n"
     ]
    }
   ],
   "source": [
    "# Ссылку ищем как элемент словаря:\n",
    "# link = div.a['href']\n",
    "link = articles.find('a', class_ = 'content__link')['href']\n",
    "# link = articles.a['href']\n",
    "\n",
    "print(link)\n",
    "print(title, link)"
   ]
  },
  {
   "cell_type": "code",
   "execution_count": 42,
   "metadata": {},
   "outputs": [
    {
     "name": "stdout",
     "output_type": "stream",
     "text": [
      "Генконсульство России в Дубае призвало россиян не соглашаться на просьбы незнакомцев перевезти через границу дубайский шоколад  /flood/1653587-genkonsulstvo-rossii-v-dubae-prizvalo-rossiyan-ne-soglashatsya-na-prosby-neznakomcev-perevezti-cherez-granicu-dubaiskii-shokolad\n",
      "\n",
      "Онлайн-переводчик DeepL запустил перевод устной речи — он распознаёт 13 языков, включая русский  /services/1653923-onlain-perevodchik-deepl-zapustil-perevod-ustnoi-rechi-on-raspoznaet-13-yazykov-vklyuchaya-russkii\n",
      "\n",
      "Влияние — как повлиять на сотрудников, партнеров, команду  /u/627659-vdumchivo-o-prodazhah/1653863-vliyanie-kak-povliyat-na-sotrudnikov-partnerov-komandu\n",
      "\n",
      "Кейс: за три месяца удвоили выручку бренда косметики  /marketplace/1653912-keis-za-tri-mesyaca-udvoili-vyruchku-brenda-kosmetiki\n",
      "\n",
      "С 2025 года почти все иностранные ценные бумаги будут доступны только квалифицированным инвесторам  /invest/1653812-s-2025-goda-pochti-vse-inostrannye-cennye-bumagi-budut-dostupny-tolko-kvalificirovannym-investoram\n",
      "\n",
      "«ТКС Холдинг» утвердил смену названия на «Т-Технологии» и получил тикер на Мосбирже из одной буквы  /invest/1644022-tks-holding-utverdil-smenu-nazvaniya-na-t-tehnologii-i-poluchil-tiker-na-mosbirzhe-iz-odnoi-bukvy\n",
      "\n",
      "ВТБ, «Сбер», «Т-Банк» и ещё 23 компании возглавили рейтинг лучших работодателей 2024 года по версии Forbes  /hr/1653471-vtb-sber-t-bank-i-eshe-23-kompanii-vozglavili-reiting-luchshih-rabotodatelei-2024-goda-po-versii-forbes\n",
      "\n",
      "Пузырь немного лопается»: Bloomberg узнал о проблемах OpenAI и Google с новыми моделями искусственного интеллекта  /u/2834746-neiroset-novosti-ai/1653945-puzyr-nemnogo-lopaetsya-bloomberg-uznal-o-problemah-openai-i-google-s-novymi-modelyami-iskusstvennogo-intellekta\n",
      "\n",
      "Российский бизнес-журнал Inc. сменил владельцев и будет выходить под названием «Инк»  /media/1653730-rossiiskii-biznes-zhurnal-inc-smenil-vladelcev-i-budet-vyhodit-pod-nazvaniem-ink\n",
      "\n",
      "Штрафы сотрудникам или как владельцу бизнеса экономить до 10% на зарплатах  /hr/1653904-shtrafy-sotrudnikam-ili-kak-vladelcu-biznesa-ekonomit-do-10-na-zarplatah\n",
      "\n",
      "Зачем нужен коллтрекинг, если есть офлайн-конверсии  /marketing/1651809-zachem-nuzhen-kolltreking-esli-est-oflain-konversii\n",
      "\n",
      "«Ситидрайв» добавит две модернизированные «Волги» в автопарки Москвы и Санкт-Петербурга  /marketing/1653101-sitidraiv-dobavit-dve-modernizirovannye-volgi-v-avtoparki-moskvy-i-sankt-peterburga\n",
      "\n"
     ]
    }
   ],
   "source": [
    "# Достаём все заголовки статей со ссылками (используем цикл):\n",
    "for article in soup.find_all('div', class_ = 'content content--short'):\n",
    "    \n",
    "    title = article.find('div', class_ = 'content-title content-title--low-indent').text\n",
    "    link = article.find('a', class_ = 'content__link')['href']\n",
    "\n",
    "    print(title, link)\n",
    "    print()"
   ]
  },
  {
   "cell_type": "code",
   "execution_count": null,
   "metadata": {},
   "outputs": [],
   "source": [
    "# \n"
   ]
  },
  {
   "cell_type": "code",
   "execution_count": null,
   "metadata": {},
   "outputs": [],
   "source": [
    "# \n"
   ]
  }
 ],
 "metadata": {
  "kernelspec": {
   "display_name": "Python 3",
   "language": "python",
   "name": "python3"
  },
  "language_info": {
   "codemirror_mode": {
    "name": "ipython",
    "version": 3
   },
   "file_extension": ".py",
   "mimetype": "text/x-python",
   "name": "python",
   "nbconvert_exporter": "python",
   "pygments_lexer": "ipython3",
   "version": "3.8.3"
  }
 },
 "nbformat": 4,
 "nbformat_minor": 5
}
