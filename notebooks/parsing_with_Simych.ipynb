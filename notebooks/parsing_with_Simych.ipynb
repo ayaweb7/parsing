{
 "cells": [
  {
   "cell_type": "markdown",
   "id": "135a799c-5588-438a-9f94-a7b8776fd835",
   "metadata": {},
   "source": [
    "# Parsing with Simych"
   ]
  },
  {
   "cell_type": "markdown",
   "id": "51cb4e5e-625c-4eaf-9209-6b4f3c1152a0",
   "metadata": {
    "jp-MarkdownHeadingCollapsed": true
   },
   "source": [
    "## Подготовительные действия"
   ]
  },
  {
   "cell_type": "code",
   "execution_count": 1,
   "id": "2db93d28-0bc5-4cea-9d4f-01b87bb45f55",
   "metadata": {},
   "outputs": [],
   "source": [
    "import sys"
   ]
  },
  {
   "cell_type": "code",
   "execution_count": 2,
   "id": "38ee9032-aecd-4caf-a68b-8d3e818eacdd",
   "metadata": {},
   "outputs": [
    {
     "name": "stdout",
     "output_type": "stream",
     "text": [
      "Python 3.12.7\n"
     ]
    }
   ],
   "source": [
    "# Для определения версии Python в Jupyter Notebook\n",
    "!python --version"
   ]
  },
  {
   "cell_type": "code",
   "execution_count": 3,
   "id": "69f9b1dd-d6bb-42dc-aa5c-616a09db10a8",
   "metadata": {},
   "outputs": [
    {
     "name": "stdout",
     "output_type": "stream",
     "text": [
      "Python interpreter path: C:\\ProgramData\\anaconda3\\python.exe\n"
     ]
    }
   ],
   "source": [
    "# Прямой запрос к пути интерпретатора Python\n",
    "# import sys\n",
    "print(\"Python interpreter path:\", sys.executable)"
   ]
  },
  {
   "cell_type": "code",
   "execution_count": null,
   "id": "2e345b3e-1679-4709-9efc-b8afcb10a358",
   "metadata": {},
   "outputs": [],
   "source": [
    "# Как определить версию Python, на которой запускается скрипт\n",
    "# import sys\n",
    "print(sys.version)"
   ]
  },
  {
   "cell_type": "code",
   "execution_count": null,
   "id": "f38c3c6c-d089-4e76-9d84-7334c36a5dc7",
   "metadata": {},
   "outputs": [],
   "source": [
    "# Если необходимо узнать только номер версии\n",
    "# import sys\n",
    "print(sys.version_info)"
   ]
  },
  {
   "cell_type": "code",
   "execution_count": null,
   "id": "058fe87d-68c7-4dfa-bffa-46e49afb5b65",
   "metadata": {},
   "outputs": [],
   "source": []
  },
  {
   "cell_type": "markdown",
   "id": "197d68a7-c726-428a-a9e4-f4e266b2dc01",
   "metadata": {
    "jp-MarkdownHeadingCollapsed": true
   },
   "source": [
    "## Определение исходных и финишных папок"
   ]
  },
  {
   "cell_type": "code",
   "execution_count": 5,
   "id": "9f8aa1c7-4acd-443a-a90f-bf93fdd8f0d1",
   "metadata": {},
   "outputs": [],
   "source": [
    "import os\n",
    "import random\n",
    "import glob\n",
    "from pathlib import Path\n",
    "import re"
   ]
  },
  {
   "cell_type": "code",
   "execution_count": 6,
   "id": "053225d1-b389-4aef-9a2e-17cf3ed1add7",
   "metadata": {},
   "outputs": [],
   "source": [
    "# Пример определения пути к домашней папке\n",
    "downloads_path = str(Path.home() / 'Downloads')\n",
    "home_path = str(Path.home())"
   ]
  },
  {
   "cell_type": "code",
   "execution_count": 7,
   "id": "20ab1c95-be0e-4489-b54a-083f55a224a3",
   "metadata": {},
   "outputs": [
    {
     "name": "stdout",
     "output_type": "stream",
     "text": [
      "C:\\Users\\User\n",
      "C:\\Users\\User\\Downloads\n"
     ]
    }
   ],
   "source": [
    "# Напечатали полный путь к домашней папке\n",
    "print(home_path)\n",
    "print(downloads_path)"
   ]
  },
  {
   "cell_type": "code",
   "execution_count": 10,
   "id": "029346a4-6a80-411e-9b9b-e6a6ef5a0053",
   "metadata": {},
   "outputs": [],
   "source": [
    "path = \"C:/Users/User/my_learning/parsing_cases/notebooks/schedule_test.py\""
   ]
  },
  {
   "cell_type": "code",
   "execution_count": 11,
   "id": "36eb1c3d-f9c8-4723-847d-c0794ba28d19",
   "metadata": {},
   "outputs": [
    {
     "name": "stdout",
     "output_type": "stream",
     "text": [
      "C:/Users/User/my_learning/parsing_cases/notebooks/schedule_test.py\n"
     ]
    }
   ],
   "source": [
    "print(path)"
   ]
  },
  {
   "cell_type": "markdown",
   "id": "a5170d68-82f0-4450-826b-d27e67baf592",
   "metadata": {
    "jp-MarkdownHeadingCollapsed": true
   },
   "source": [
    "## Автоматическая проверка через Python"
   ]
  },
  {
   "cell_type": "markdown",
   "id": "8981ab1d-0a21-4c96-ad17-023259177097",
   "metadata": {},
   "source": [
    "### Проверка наличия API у сайта с помощью Python"
   ]
  },
  {
   "cell_type": "code",
   "execution_count": 2,
   "id": "5481117b-7552-47fb-a59a-8181e7ccf716",
   "metadata": {},
   "outputs": [],
   "source": [
    "import requests\n",
    "\n",
    "def check_api(site_url):\n",
    "    # Популярные пути к API (можно расширить список)\n",
    "    api_endpoints = [\n",
    "        \"/api/v1/news\",\n",
    "        \"/api/news\",\n",
    "        \"/graphql\",\n",
    "        \"/wp-json/wp/v2/posts\"  # Для WordPress\n",
    "    ]\n",
    "    \n",
    "    found_apis = []\n",
    "    for endpoint in api_endpoints:\n",
    "        url = f\"{site_url.rstrip('/')}{endpoint}\"\n",
    "        try:\n",
    "            response = requests.get(url, timeout=5)\n",
    "            if response.status_code == 200:\n",
    "                print(f\"🎯 Найдено API: {url}\")\n",
    "                found_apis.append(url)\n",
    "        except requests.exceptions.RequestException:\n",
    "            continue\n",
    "    \n",
    "    if not found_apis:\n",
    "        print(\"🔍 API не обнаружено. Возможно, сайт использует внутренние запросы (AJAX).\")"
   ]
  },
  {
   "cell_type": "code",
   "execution_count": null,
   "id": "12de4ed1-ac31-44a0-b3f5-7de7cc889356",
   "metadata": {},
   "outputs": [],
   "source": [
    "# Пример вызова\n",
    "check_api(\"https://example.com\")"
   ]
  },
  {
   "cell_type": "code",
   "execution_count": 4,
   "id": "d437c7d1-c04a-44b0-a2f5-b868e3561666",
   "metadata": {},
   "outputs": [
    {
     "name": "stdout",
     "output_type": "stream",
     "text": [
      "🔍 API не обнаружено. Возможно, сайт использует внутренние запросы (AJAX).\n"
     ]
    }
   ],
   "source": [
    "# Пример вызова\n",
    "check_api(\"https://vc.ru/new\")"
   ]
  },
  {
   "cell_type": "code",
   "execution_count": null,
   "id": "505936ca-30d9-4485-8ced-b2a569ec46c8",
   "metadata": {},
   "outputs": [],
   "source": []
  },
  {
   "cell_type": "markdown",
   "id": "a445f023-68de-4a0c-b016-8cbdc5d5a198",
   "metadata": {
    "jp-MarkdownHeadingCollapsed": true
   },
   "source": [
    "## Пример кода для теста"
   ]
  },
  {
   "cell_type": "code",
   "execution_count": 6,
   "id": "ae136e4a-2327-4237-b3f6-bcca63cd07fa",
   "metadata": {},
   "outputs": [],
   "source": [
    "import requests\n",
    "from bs4 import BeautifulSoup"
   ]
  },
  {
   "cell_type": "code",
   "execution_count": null,
   "id": "eec784d7-0b21-4501-a5c5-beca86518f54",
   "metadata": {},
   "outputs": [],
   "source": [
    "url = \"https://vc.ru/new\"\n",
    "headers = {\"User-Agent\": \"Mozilla/5.0\"}\n",
    "\n",
    "response = requests.get(url, headers=headers)\n",
    "soup = BeautifulSoup(response.text, \"html.parser\")\n",
    "\n",
    "# Извлечение заголовков (уточните селекторы!)\n",
    "for article in soup.select(\".content-title\"):\n",
    "    title = article.get_text(strip=True)\n",
    "    print(title)"
   ]
  },
  {
   "cell_type": "code",
   "execution_count": 12,
   "id": "a7876654-286a-4df9-aa2d-ec5e62bdb280",
   "metadata": {},
   "outputs": [
    {
     "name": "stdout",
     "output_type": "stream",
     "text": [
      "Трюизмы: как тебя заставляют соглашаться, не спрашивая\n",
      "Telegram против остальных: где продвигать свой продукт в 2025 году\n",
      "Google добавила ИИ-функции в «Таблицы», выпустила инструменты для разработки ИИ-агентов и анонсировала Gemini 2.5 Flash\n",
      "Как создать продающие текста или как заставить клиента купить Вашу услугу или товар: от слов к действию 🌟\n",
      "Американский фондовый рынок и крипта ответили ростом на тарифную «паузу» для стран, которые не стали вводить зеркальные меры против США\n",
      "Трамп объявил о «немедленном» повышении пошлин для Китая до 125%\n",
      "Чем старше — тем лучше: почему Брэд Питт с годами становится только красивее?\n",
      "«Бот запрашивает то, что уже известно властям»: Горелкин ответил на подозрения в обмане блогеров с помощью Telegram-бота для маркировки\n",
      "Instagram* начал тестировать «заблокированные» Reels — пользователи смогут их увидеть, если введут «секретный код»\n",
      "Канал под ключ: из автомеханика во владельца бизнеса за пол года\n",
      "CJM в маркетинге. Российская версия карты пути клиента или как збрать все продажи в 2025 году?\n",
      "«Каждое второе слово — вранье»: почему я не купил франшизу компьютерного клуба, а запустил ее сам. История франшизы Cube\n"
     ]
    }
   ],
   "source": [
    "url = \"https://vc.ru/new\"\n",
    "headers = {\"User-Agent\": \"Mozilla/5.0\"}\n",
    "\n",
    "response = requests.get(url, headers=headers)\n",
    "soup = BeautifulSoup(response.text, \"html.parser\")\n",
    "articles = soup.find('div', class_ = 'content-list')\n",
    "divs = articles.find_all('div', class_='content--short')\n",
    "\n",
    "# Извлечение заголовков (уточните селекторы!)\n",
    "for article in divs:\n",
    "    title = article.find('div', class_='content-title').text.strip() if article.find('div', class_='content-title') else 'Absent'\n",
    "    print(title)"
   ]
  },
  {
   "cell_type": "code",
   "execution_count": null,
   "id": "7b1df661-54b3-45de-a89f-d4091b4a0bc4",
   "metadata": {},
   "outputs": [],
   "source": []
  },
  {
   "cell_type": "markdown",
   "id": "8f6124bc-8292-4fd6-94fd-0e64938bbe8a",
   "metadata": {
    "jp-MarkdownHeadingCollapsed": true
   },
   "source": [
    "## V1 Улучшенный тестовый код"
   ]
  },
  {
   "cell_type": "code",
   "execution_count": 14,
   "id": "83f2407d-c886-4b39-9a93-104bc1694227",
   "metadata": {},
   "outputs": [],
   "source": [
    "import os\n",
    "import requests\n",
    "from bs4 import BeautifulSoup"
   ]
  },
  {
   "cell_type": "code",
   "execution_count": 16,
   "id": "0d04534f-0607-4b42-b02f-237153038e77",
   "metadata": {},
   "outputs": [
    {
     "name": "stdout",
     "output_type": "stream",
     "text": [
      "✅ HTML сохранен в файл для тестирования.\n",
      "Заголовок: Как настроить отчетность и аналитику для рекламных кампаний?\n",
      "Автор: Директолог который пишет\n",
      "\n",
      "Заголовок: Все доходности облигаций: какие бывают и чем отличаются от доходност��й депозитов\n",
      "Автор: igotosochi\n",
      "\n",
      "Заголовок: Делаю много, а результата нет\n",
      "Автор: Ульяна Майорова\n",
      "\n",
      "Заголовок: Кейс: связали 1С:Бухгалтерия и AmoCRM — теперь счета выставляются автоматически\n",
      "Автор: Артем про продажи\n",
      "\n",
      "Заголовок: ⭐️281% годовых на облигациях – много это, или мало?\n",
      "Автор: Кот.Финанс\n",
      "\n",
      "Заголовок: 💣 Облигации как ловушка: почему даже “безрисковый” инструмент может разорить инвестора. ТОП-3 важных ошибок\n",
      "Автор: Суцкевер Семен - Fond&Flow\n",
      "\n",
      "Заголовок: Трюизмы: как тебя заставляют соглашаться, не спраш��вая\n",
      "Автор: Евгений Клочков\n",
      "\n",
      "Заголовок: «Мне донатят за ламповость». Как я стал стримером после неудачного стартапа, и зарабатываю 70к в месяц.\n",
      "Автор: Батюшка Бизнесменский\n",
      "\n",
      "Заголовок: Курс биткоина вырос на 12% за сутки. Это разворот? Или обновление минимумов продолжится?\n",
      "Автор: Деньгов Никита\n",
      "\n",
      "Заголовок: Telegram против остальных: где продвигать свой продукт в 2025 году\n",
      "Автор: Dmitry\n",
      "\n",
      "Заголовок: Google добавила ИИ-функции в «Таблицы», выпустила инструменты для разработки ИИ-агентов и анонсировала Gemini 2.5Flash\n",
      "Автор: Ася Карпова\n",
      "\n",
      "Заголовок: Как создать продающие текста или как заставить клиента купить Вашу услугу или товар: от слов к действию 🌟\n",
      "Автор: Хорош в маркетинге\n",
      "\n"
     ]
    }
   ],
   "source": [
    "# Настройки\n",
    "URL = \"https://vc.ru/new\"\n",
    "HEADERS = {\"User-Agent\": \"Mozilla/5.0\"}\n",
    "TEMP_HTML_PATH = \"data/interim/vc_ru_temp.html\"  # Путь для сохранения HTML\n",
    "\n",
    "# Создаем папку, если её нет\n",
    "os.makedirs(os.path.dirname(TEMP_HTML_PATH), exist_ok=True)\n",
    "\n",
    "def save_html(content, path):\n",
    "    \"\"\"Сохраняет HTML во временный файл.\"\"\"\n",
    "    with open(path, 'w', encoding='utf-8') as f:\n",
    "        f.write(content)\n",
    "\n",
    "def load_html(path):\n",
    "    \"\"\"Загружает HTML из файла (если существует).\"\"\"\n",
    "    if os.path.exists(path):\n",
    "        with open(path, 'r', encoding='utf-8') as f:\n",
    "            return f.read()\n",
    "    return None\n",
    "\n",
    "# Парсинг (с кешированием HTML)\n",
    "html_content = load_html(TEMP_HTML_PATH)\n",
    "if not html_content:\n",
    "    try:\n",
    "        response = requests.get(URL, headers=HEADERS, timeout=10)\n",
    "        response.raise_for_status()  # Проверка на ошибки HTTP\n",
    "        html_content = response.text\n",
    "        save_html(html_content, TEMP_HTML_PATH)\n",
    "        print(\"✅ HTML сохранен в файл для тестирования.\")\n",
    "    except Exception as e:\n",
    "        print(f\"🚨 Ошибка при загрузке страницы: {e}\")\n",
    "        exit()\n",
    "\n",
    "soup = BeautifulSoup(html_content, 'html.parser')\n",
    "articles = soup.find('div', class_='content-list')\n",
    "if not articles:\n",
    "    print(\"🚨 Не найдена секция с новостями!\")\n",
    "    exit()\n",
    "\n",
    "# Извлечение данных\n",
    "for article in articles.find_all('div', class_='content--short'):\n",
    "    title = article.find('div', class_='content-title').get_text(strip=True) if article.find('div', class_='content-title') else 'N/A'\n",
    "    print(f\"Заголовок: {title}\")\n",
    "\n",
    "    # Дополнительные данные (добавьте свои селекторы)\n",
    "    author = article.find('a', class_='author__name').get_text(strip=True) if article.find('a', class_='author__name') else 'N/A'\n",
    "    print(f\"Автор: {author}\\n\")"
   ]
  },
  {
   "cell_type": "markdown",
   "id": "207a4d86-ae26-4d6f-9b33-4a121d522661",
   "metadata": {},
   "source": [
    "### 🔍 **Что улучшено:**\n",
    "1. **Кеширование HTML**  \n",
    "   - Сайт не будет запрашиваться при каждом запуске — данные берутся из локального файла `vc_ru_temp.html`.  \n",
    "   - Если файла нет, код загрузит HTML и сохранит его автоматически.\n",
    "\n",
    "2. **Обработка ошибок**  \n",
    "   - Проверка HTTP-статуса (`raise_for_status()`).  \n",
    "   - Защита от отсутствия элементов (`.find()` + тернарные операторы).  \n",
    "\n",
    "3. **Гибкость**  \n",
    "   - Легко добавить новые поля (достаточно уточнить селекторы).  \n"
   ]
  },
  {
   "cell_type": "code",
   "execution_count": null,
   "id": "df9eeebb-4889-4d3b-8f7f-e36724c1918b",
   "metadata": {},
   "outputs": [],
   "source": []
  },
  {
   "cell_type": "markdown",
   "id": "83236720-da52-442b-a261-6b1b1b0d9637",
   "metadata": {
    "jp-MarkdownHeadingCollapsed": true
   },
   "source": [
    "## V2 Исправленный код с единообразными селекторами"
   ]
  },
  {
   "cell_type": "code",
   "execution_count": 18,
   "id": "a64eab6e-c0e5-4b78-92e7-870c6d6fa3cf",
   "metadata": {},
   "outputs": [],
   "source": [
    "import os\n",
    "import requests\n",
    "from bs4 import BeautifulSoup\n",
    "from datetime import datetime\n",
    "from urllib.parse import urljoin  # Для объединения URL"
   ]
  },
  {
   "cell_type": "code",
   "execution_count": 20,
   "id": "69cf8b7c-a2b4-49be-b406-bb4a24c2702c",
   "metadata": {},
   "outputs": [],
   "source": [
    "# Настройки\n",
    "URL = \"https://vc.ru/new\"\n",
    "HOST = \"https://vc.ru\"\n",
    "HEADERS = {\"User-Agent\": \"Mozilla/5.0\"}\n",
    "TEMP_HTML_PATH = \"data/interim/vc_ru_temp.html\""
   ]
  },
  {
   "cell_type": "markdown",
   "id": "0c835bfa-1a16-4aec-807e-56d3a99ad828",
   "metadata": {},
   "source": [
    "### Вот полная реализация функции `load_or_fetch_html()`,\n",
    "которая кеширует HTML во временный файл и обрабатывает ошибки:"
   ]
  },
  {
   "cell_type": "code",
   "execution_count": 26,
   "id": "f137f421-0a65-4985-98b0-8163e1521764",
   "metadata": {},
   "outputs": [],
   "source": [
    "import os\n",
    "import requests\n",
    "from urllib.parse import urljoin\n",
    "\n",
    "def load_or_fetch_html(url, cache_path, headers=None, timeout=10):\n",
    "    \"\"\"\n",
    "    Загружает HTML из кеша (если есть) или скачивает с сайта.\n",
    "    \n",
    "    Параметры:\n",
    "        url (str): URL страницы для парсинга\n",
    "        cache_path (str): Путь для сохранения/загрузки HTML\n",
    "        headers (dict): Заголовки HTTP-запроса\n",
    "        timeout (int): Таймаут запроса в секундах\n",
    "        \n",
    "    Возвращает:\n",
    "        str: HTML-контент\n",
    "    \"\"\"\n",
    "    # Создаем папку для кеша, если её нет\n",
    "    os.makedirs(os.path.dirname(cache_path), exist_ok=True)\n",
    "    \n",
    "    # Пытаемся загрузить из кеша\n",
    "    if os.path.exists(cache_path):\n",
    "        with open(cache_path, 'r', encoding='utf-8') as f:\n",
    "            print(f\"⚡ Используется кешированный HTML: {cache_path}\")\n",
    "            return f.read()\n",
    "    \n",
    "    # Если кеша нет - скачиваем\n",
    "    try:\n",
    "        print(f\"🌐 Загружаем данные с {url}\")\n",
    "        response = requests.get(\n",
    "            url,\n",
    "            headers=headers or {},\n",
    "            timeout=timeout\n",
    "        )\n",
    "        response.raise_for_status()  # Проверка на ошибки HTTP\n",
    "        \n",
    "        # Сохраняем в кеш\n",
    "        with open(cache_path, 'w', encoding='utf-8') as f:\n",
    "            f.write(response.text)\n",
    "        print(f\"✅ HTML сохранен в кеш: {cache_path}\")\n",
    "        \n",
    "        return response.text\n",
    "        \n",
    "    except requests.exceptions.RequestException as e:\n",
    "        print(f\"🚨 Ошибка при загрузке страницы: {e}\")\n",
    "        raise  # Можно заменить на return None для мягкой обработки"
   ]
  },
  {
   "cell_type": "markdown",
   "id": "85c2c5af-346e-4e02-83b8-98a65c40df50",
   "metadata": {},
   "source": [
    "### Как это работает:\n",
    "1. **Проверка кеша**:\n",
    "   - Если файл `data/interim/vc_ru_temp.html` существует, читает его.\n",
    "   - Если нет — скачивает страницу и сохраняет в этот файл.\n",
    "\n",
    "2. **Обработка ошибок**:\n",
    "   - Ловит проблемы с интернетом/доступом к сайту.\n",
    "   - Проверяет HTTP-статус (404, 500 и др.).\n",
    "\n",
    "3. **Безопасность**:\n",
    "   - Автоматически создает папки для кеша.\n",
    "   - Использует `utf-8` для корректного сохранения текста.\n",
    "\n",
    "### Пример использования:\n",
    "```python\n",
    "html_content = load_or_fetch_html(\n",
    "    url=\"https://vc.ru/new\",\n",
    "    cache_path=\"data/interim/vc_ru_temp.html\",\n",
    "    headers={\"User-Agent\": \"Mozilla/5.0\"}\n",
    ")\n",
    "```"
   ]
  },
  {
   "cell_type": "markdown",
   "id": "6e1cc18f-f92d-4566-b766-5b347e5a93b1",
   "metadata": {},
   "source": [
    "### Дополнительно можно добавить:\n",
    "Срок жизни кеша (например, перезагружать, если файл старше 1 часа):"
   ]
  },
  {
   "cell_type": "code",
   "execution_count": null,
   "id": "dcc25604-56c2-4b07-81d9-14d71f372588",
   "metadata": {},
   "outputs": [],
   "source": [
    "import time\n",
    "MAX_CACHE_AGE = 3600  # 1 час в секундах\n",
    "\n",
    "if os.path.exists(cache_path) and \n",
    "   (time.time() - os.path.getmtime(cache_path)) < MAX_CACHE_AGE:\n",
    "    # Используем кеш"
   ]
  },
  {
   "cell_type": "markdown",
   "id": "5db3834e-7a86-4a7c-b470-ff1ea5f48bda",
   "metadata": {},
   "source": [
    "### Сжатие HTML для экономии места:"
   ]
  },
  {
   "cell_type": "code",
   "execution_count": null,
   "id": "1551f1ea-7012-4797-b841-1d766bcbcafa",
   "metadata": {},
   "outputs": [],
   "source": [
    "import gzip\n",
    "with gzip.open(cache_path + '.gz', 'wt', encoding='utf-8') as f:\n",
    "    f.write(html)"
   ]
  },
  {
   "cell_type": "code",
   "execution_count": 22,
   "id": "46e2c0b5-627b-4f74-8659-2b1070ff91e1",
   "metadata": {},
   "outputs": [],
   "source": [
    "def parse_articles(html_content):\n",
    "    soup = BeautifulSoup(html_content, 'html.parser')\n",
    "    articles = soup.find('div', class_='content-list')\n",
    "    if not articles:\n",
    "        raise ValueError(\"Секция с новостями не найдена\")\n",
    "\n",
    "    results = []\n",
    "    for article in articles.find_all('div', class_='content--short'):\n",
    "        # Основные данные\n",
    "        data = {\n",
    "            'title': get_text_or_none(article, 'div.content-title'),\n",
    "            'author': get_text_or_none(article, 'a.author__name'),\n",
    "            'date': get_text_or_none(article, 'div.content-header__date'),\n",
    "            'shorts': get_text_or_none(article, 'div.block-text'),\n",
    "            'link': get_link(article, 'a.content__link', HOST),\n",
    "            'category': extract_category(get_link(article, 'a.content__link', HOST)),\n",
    "            'parse_datetime': datetime.now().strftime('%Y-%m-%d %H:%M:%S')\n",
    "        }\n",
    "        results.append(data)\n",
    "    return results"
   ]
  },
  {
   "cell_type": "code",
   "execution_count": 28,
   "id": "93336190-b9e9-45d2-a073-cc63d0aeb073",
   "metadata": {},
   "outputs": [
    {
     "name": "stdout",
     "output_type": "stream",
     "text": [
      "⚡ Используется кешированный HTML: data/interim/vc_ru_temp.html\n"
     ]
    },
    {
     "ename": "NameError",
     "evalue": "name 'get_text_or_none' is not defined",
     "output_type": "error",
     "traceback": [
      "\u001b[0;31m---------------------------------------------------------------------------\u001b[0m",
      "\u001b[0;31mNameError\u001b[0m                                 Traceback (most recent call last)",
      "Cell \u001b[0;32mIn[28], line 4\u001b[0m\n\u001b[1;32m      2\u001b[0m \u001b[38;5;28;01mif\u001b[39;00m \u001b[38;5;18m__name__\u001b[39m \u001b[38;5;241m==\u001b[39m \u001b[38;5;124m\"\u001b[39m\u001b[38;5;124m__main__\u001b[39m\u001b[38;5;124m\"\u001b[39m:\n\u001b[1;32m      3\u001b[0m     html_content \u001b[38;5;241m=\u001b[39m load_or_fetch_html(URL, TEMP_HTML_PATH, HEADERS)\n\u001b[0;32m----> 4\u001b[0m     articles_data \u001b[38;5;241m=\u001b[39m parse_articles(html_content)\n\u001b[1;32m      5\u001b[0m     \u001b[38;5;28mprint\u001b[39m(\u001b[38;5;124mf\u001b[39m\u001b[38;5;124m\"\u001b[39m\u001b[38;5;124mНайдено статей: \u001b[39m\u001b[38;5;132;01m{\u001b[39;00m\u001b[38;5;28mlen\u001b[39m(articles_data)\u001b[38;5;132;01m}\u001b[39;00m\u001b[38;5;124m\"\u001b[39m)\n",
      "Cell \u001b[0;32mIn[22], line 11\u001b[0m, in \u001b[0;36mparse_articles\u001b[0;34m(html_content)\u001b[0m\n\u001b[1;32m      7\u001b[0m results \u001b[38;5;241m=\u001b[39m []\n\u001b[1;32m      8\u001b[0m \u001b[38;5;28;01mfor\u001b[39;00m article \u001b[38;5;129;01min\u001b[39;00m articles\u001b[38;5;241m.\u001b[39mfind_all(\u001b[38;5;124m'\u001b[39m\u001b[38;5;124mdiv\u001b[39m\u001b[38;5;124m'\u001b[39m, class_\u001b[38;5;241m=\u001b[39m\u001b[38;5;124m'\u001b[39m\u001b[38;5;124mcontent--short\u001b[39m\u001b[38;5;124m'\u001b[39m):\n\u001b[1;32m      9\u001b[0m     \u001b[38;5;66;03m# Основные данные\u001b[39;00m\n\u001b[1;32m     10\u001b[0m     data \u001b[38;5;241m=\u001b[39m {\n\u001b[0;32m---> 11\u001b[0m         \u001b[38;5;124m'\u001b[39m\u001b[38;5;124mtitle\u001b[39m\u001b[38;5;124m'\u001b[39m: get_text_or_none(article, \u001b[38;5;124m'\u001b[39m\u001b[38;5;124mdiv.content-title\u001b[39m\u001b[38;5;124m'\u001b[39m),\n\u001b[1;32m     12\u001b[0m         \u001b[38;5;124m'\u001b[39m\u001b[38;5;124mauthor\u001b[39m\u001b[38;5;124m'\u001b[39m: get_text_or_none(article, \u001b[38;5;124m'\u001b[39m\u001b[38;5;124ma.author__name\u001b[39m\u001b[38;5;124m'\u001b[39m),\n\u001b[1;32m     13\u001b[0m         \u001b[38;5;124m'\u001b[39m\u001b[38;5;124mdate\u001b[39m\u001b[38;5;124m'\u001b[39m: get_text_or_none(article, \u001b[38;5;124m'\u001b[39m\u001b[38;5;124mdiv.content-header-date\u001b[39m\u001b[38;5;124m'\u001b[39m),\n\u001b[1;32m     14\u001b[0m         \u001b[38;5;124m'\u001b[39m\u001b[38;5;124mshorts\u001b[39m\u001b[38;5;124m'\u001b[39m: get_text_or_none(article, \u001b[38;5;124m'\u001b[39m\u001b[38;5;124mdiv.block-text\u001b[39m\u001b[38;5;124m'\u001b[39m),\n\u001b[1;32m     15\u001b[0m         \u001b[38;5;124m'\u001b[39m\u001b[38;5;124mlink\u001b[39m\u001b[38;5;124m'\u001b[39m: get_link(article, \u001b[38;5;124m'\u001b[39m\u001b[38;5;124ma.content__link\u001b[39m\u001b[38;5;124m'\u001b[39m, HOST),\n\u001b[1;32m     16\u001b[0m         \u001b[38;5;124m'\u001b[39m\u001b[38;5;124mcategory\u001b[39m\u001b[38;5;124m'\u001b[39m: extract_category(get_link(article, \u001b[38;5;124m'\u001b[39m\u001b[38;5;124ma.content__link\u001b[39m\u001b[38;5;124m'\u001b[39m, HOST)),\n\u001b[1;32m     17\u001b[0m         \u001b[38;5;124m'\u001b[39m\u001b[38;5;124mparse_datetime\u001b[39m\u001b[38;5;124m'\u001b[39m: datetime\u001b[38;5;241m.\u001b[39mnow()\u001b[38;5;241m.\u001b[39mstrftime(\u001b[38;5;124m'\u001b[39m\u001b[38;5;124m%\u001b[39m\u001b[38;5;124mY-\u001b[39m\u001b[38;5;124m%\u001b[39m\u001b[38;5;124mm-\u001b[39m\u001b[38;5;132;01m%d\u001b[39;00m\u001b[38;5;124m \u001b[39m\u001b[38;5;124m%\u001b[39m\u001b[38;5;124mH:\u001b[39m\u001b[38;5;124m%\u001b[39m\u001b[38;5;124mM:\u001b[39m\u001b[38;5;124m%\u001b[39m\u001b[38;5;124mS\u001b[39m\u001b[38;5;124m'\u001b[39m)\n\u001b[1;32m     18\u001b[0m     }\n\u001b[1;32m     19\u001b[0m     results\u001b[38;5;241m.\u001b[39mappend(data)\n\u001b[1;32m     20\u001b[0m \u001b[38;5;28;01mreturn\u001b[39;00m results\n",
      "\u001b[0;31mNameError\u001b[0m: name 'get_text_or_none' is not defined"
     ]
    }
   ],
   "source": [
    "# Пример использования\n",
    "if __name__ == \"__main__\":\n",
    "    html_content = load_or_fetch_html(URL, TEMP_HTML_PATH, HEADERS)\n",
    "    articles_data = parse_articles(html_content)\n",
    "    print(f\"Найдено статей: {len(articles_data)}\")"
   ]
  },
  {
   "cell_type": "code",
   "execution_count": null,
   "id": "69f105d1-d35b-4ede-a671-2799b727ff26",
   "metadata": {},
   "outputs": [],
   "source": [
    "\n",
    "# Вспомогательные функции\n",
    "def get_text_or_none(parent, selector):\n",
    "    element = parent.select_one(selector)\n",
    "    return element.get_text(strip=True) if element else None\n",
    "\n",
    "def get_link(parent, selector, host):\n",
    "    element = parent.select_one(selector)\n",
    "    return urljoin(host, element['href']) if element and 'href' in element.attrs else None\n",
    "\n",
    "def extract_category(url):\n",
    "    if not url:\n",
    "        return None\n",
    "    parts = url.replace(HOST, '').strip('/').split('/')\n",
    "    return parts[0] if parts else None"
   ]
  },
  {
   "cell_type": "code",
   "execution_count": null,
   "id": "ab36aaa2-5451-4fb3-93bf-7c660379db65",
   "metadata": {},
   "outputs": [],
   "source": []
  },
  {
   "cell_type": "markdown",
   "id": "3c45585d-0d1a-4e7e-aa8b-4dd7adcbe52e",
   "metadata": {
    "jp-MarkdownHeadingCollapsed": true
   },
   "source": [
    "## V3 Исправленная версия с полным набором функций"
   ]
  },
  {
   "cell_type": "code",
   "execution_count": 2,
   "id": "fc337841-c50d-46b6-952d-100c16f88f81",
   "metadata": {},
   "outputs": [],
   "source": [
    "import os\n",
    "import requests\n",
    "from bs4 import BeautifulSoup\n",
    "from datetime import datetime\n",
    "from urllib.parse import urljoin"
   ]
  },
  {
   "cell_type": "markdown",
   "id": "4ec9a19e-8bf8-485e-a1c6-474b3ed205ee",
   "metadata": {},
   "source": [
    "### --- Вспомогательные функции ---"
   ]
  },
  {
   "cell_type": "code",
   "execution_count": 3,
   "id": "c00d4dc0-7376-4351-92d2-921f9fff8c7d",
   "metadata": {},
   "outputs": [],
   "source": [
    "def get_text_or_none(parent, selector):\n",
    "    \"\"\"Извлекает текст из элемента или возвращает None, если элемент не найден.\"\"\"\n",
    "    element = parent.select_one(selector)\n",
    "    return element.get_text(strip=True) if element else None\n",
    "\n",
    "def get_link(parent, selector, host):\n",
    "    \"\"\"Извлекает URL ссылки, объединяя с host.\"\"\"\n",
    "    element = parent.select_one(selector)\n",
    "    return urljoin(host, element['href']) if element and 'href' in element.attrs else None\n",
    "\n",
    "def extract_category(url):\n",
    "    \"\"\"Извлекает категорию из URL (например, 'marketing' из 'https://vc.ru/marketing/123').\"\"\"\n",
    "    if not url:\n",
    "        return None\n",
    "    parts = url.replace(HOST, '').strip('/').split('/')\n",
    "    return parts[0] if parts else None\n",
    "\n",
    "def load_or_fetch_html(url, cache_path, headers=None, timeout=10):\n",
    "    \"\"\"Загружает HTML из кеша или скачивает с сайта.\"\"\"\n",
    "    os.makedirs(os.path.dirname(cache_path), exist_ok=True)\n",
    "    if os.path.exists(cache_path):\n",
    "        with open(cache_path, 'r', encoding='utf-8') as f:\n",
    "            return f.read()\n",
    "    try:\n",
    "        response = requests.get(url, headers=headers, timeout=timeout)\n",
    "        response.raise_for_status()\n",
    "        with open(cache_path, 'w', encoding='utf-8') as f:\n",
    "            f.write(response.text)\n",
    "        return response.text\n",
    "    except requests.exceptions.RequestException as e:\n",
    "        print(f\"Ошибка: {e}\")\n",
    "        return None"
   ]
  },
  {
   "cell_type": "code",
   "execution_count": 28,
   "id": "db50a1aa-6992-42ce-bf65-9f3138785435",
   "metadata": {},
   "outputs": [],
   "source": [
    "# --- Основной парсер ---\n",
    "def parse_articles(html_content):\n",
    "    soup = BeautifulSoup(html_content, 'html.parser')\n",
    "    articles = soup.find('div', class_='content-list')\n",
    "    if not articles:\n",
    "        raise ValueError(\"Секция с новостями не найдена\")\n",
    "\n",
    "    results = []\n",
    "    for article in articles.find_all('div', class_='content--short'):\n",
    "        data = {\n",
    "            'title': get_text_or_none(article, 'div.content-title'),\n",
    "            'author': get_text_or_none(article, 'a.author__name'),\n",
    "            'date': get_text_or_none(article, 'div.content-header__date'), #div.content-header__date\n",
    "            'shorts': get_text_or_none(article, 'div.block-text'),\n",
    "            'link': get_link(article, 'a.content__link', HOST),\n",
    "            'category': extract_category(get_link(article, 'a.content__link', HOST)),\n",
    "            'parse_datetime': datetime.now().strftime('%Y-%m-%d %H:%M:%S')\n",
    "        }\n",
    "        results.append(data)\n",
    "    return results"
   ]
  },
  {
   "cell_type": "markdown",
   "id": "b9fdb427-1fa8-4663-9c05-1f822101b02a",
   "metadata": {},
   "source": [
    "#### Исправленная функция "
   ]
  },
  {
   "cell_type": "code",
   "execution_count": 33,
   "id": "95f16823-2b92-4654-8df7-277b64079eca",
   "metadata": {},
   "outputs": [],
   "source": [
    "def parse_articles(html_content):\n",
    "    soup = BeautifulSoup(html_content, 'html.parser')\n",
    "    articles = soup.find('div', class_='content-list')\n",
    "    if not articles:\n",
    "        raise ValueError(\"Секция с новостями не найдена\")\n",
    "\n",
    "    results = []\n",
    "    for article in articles.find_all('div', class_='content--short'):\n",
    "        # Ищем тег <time> внутри статьи\n",
    "        time_tag = article.find('time')\n",
    "        \n",
    "        # Извлекаем дату из атрибута datetime (формат ISO 8601)\n",
    "        if time_tag and time_tag.has_attr('datetime'):\n",
    "            date_iso = time_tag['datetime']  # \"2025-04-12T09:43:34.000Z\"\n",
    "            # Конвертируем в нужный формат (опционально)\n",
    "            date_formatted = datetime.fromisoformat(date_iso.replace('Z', '+00:00')).strftime('%d.%m.%Y в %H:%M')\n",
    "        else:\n",
    "            date_iso = None\n",
    "            date_formatted = None\n",
    "\n",
    "        data = {\n",
    "            'title': get_text_or_none(article, 'div.content-title'),\n",
    "            'author': get_text_or_none(article, 'a.author__name'),\n",
    "            'date': date_formatted,  # Формат \"12.04.2025 в 12:43\"\n",
    "            # 'date_iso': date_iso, # Сохраняем оригинальный ISO-формат\n",
    "            # 'date_formatted': date_formatted,  # Формат \"12.04.2025 в 12:43\"\n",
    "            'shorts': get_text_or_none(article, 'div.block-text'),\n",
    "            'link': get_link(article, 'a.content__link', HOST),\n",
    "            'category': extract_category(get_link(article, 'a.content__link', HOST)),\n",
    "            'parse_datetime': datetime.now().strftime('%Y-%m-%d %H:%M:%S')\n",
    "        }\n",
    "        results.append(data)\n",
    "    return results"
   ]
  },
  {
   "cell_type": "markdown",
   "id": "d15b3ff9-d910-433e-8698-2c4f2f59817e",
   "metadata": {},
   "source": [
    "### --- Конфигурация --- Запуск функции"
   ]
  },
  {
   "cell_type": "code",
   "execution_count": 34,
   "id": "d95970d0-c614-48e5-a2dd-7a6204fec372",
   "metadata": {},
   "outputs": [
    {
     "name": "stdout",
     "output_type": "stream",
     "text": [
      "Найдено статей: 24\n",
      "{'title': 'Почему так сложно пилить видеоконтент и что с этим делать', 'author': 'Наталия Потёмина', 'date': '12.04.2025 в 09:43', 'shorts': 'Я не умею говорить, смотря в камеру — и мне часто приходится это делать. Методом самоонализа я поняла, что со мной не так. А вы расскажите, что с вами.', 'link': 'https://vc.ru/life/1920915-slozhnosti-sozdaniya-videokontenta-i-puti-ikh-resheniya', 'category': 'life', 'parse_datetime': '2025-04-12 17:09:19'}\n",
      "{'title': 'Как продвигать Telegram-канал без бюджета и привлекать подписчиков и клиентов с помощью бота', 'author': 'Артем Жуков', 'date': '12.04.2025 в 09:07', 'shorts': 'Можно ли в 2025 развивать Telegram-канал компании без бюджета на рекламу? Да — если подключить бота со специальной механикой. В кейсе показываю, как разработали чат-бота с программой лояльности и за две недели получили 25% рост канала за счёт имеющейся аудитории и без затрат на трафик.', 'link': 'https://vc.ru/marketing/1918599-prodvizhenie-telegram-kanala-bez-budjeta', 'category': 'marketing', 'parse_datetime': '2025-04-12 17:09:19'}\n",
      "{'title': 'Космос на чертежах и в облаке: как летали в космос «тогда», как это делают сегодня и что будет дальше?', 'author': 'Timeweb Cloud', 'date': '12.04.2025 в 09:05', 'shorts': 'Когда Юрий Гагарин улыбнулся в иллюминатор и сказал «Поехали!», за ним стояла не только ракета «Восток», но тысячи инженеров и их бессонных ночей, расчётов от руки и сгоревших макетов.Разберёмся, с чем работали конструкторы 60-х, чем живут инженеры XXI века и какие технологии приведут нас к новой эре — гораздо дальше Луны и Марса.', 'link': 'https://vc.ru/future/1844099-kosmos-ot-chertyozhey-60-h-do-tsifrovogo-proyektirovaniya-segodnya', 'category': 'future', 'parse_datetime': '2025-04-12 17:09:19'}\n"
     ]
    }
   ],
   "source": [
    "\n",
    "# --- Конфигурация ---\n",
    "URL = \"https://vc.ru/new\"\n",
    "HOST = \"https://vc.ru\"\n",
    "HEADERS = {\"User-Agent\": \"Mozilla/5.0\"}\n",
    "# TEMP_HTML_PATH = \"data/interim/vc_ru_temp.html\"\n",
    "TEMP_HTML_PATH = \"data/interim/dynamic_page.html\"\n",
    "\n",
    "# --- Запуск ---\n",
    "if __name__ == \"__main__\":\n",
    "    html_content = load_or_fetch_html(URL, TEMP_HTML_PATH, HEADERS)\n",
    "    if html_content:\n",
    "        articles_data = parse_articles(html_content)\n",
    "        print(f\"Найдено статей: {len(articles_data)}\")\n",
    "        for article in articles_data[:3]:  # Вывод первых 3 статей для проверки\n",
    "            print(article)"
   ]
  },
  {
   "cell_type": "markdown",
   "id": "31118c80-aeb9-4674-a714-626dfbb9bd22",
   "metadata": {},
   "source": [
    "### Ключевые исправления:\n",
    "#### Добавлены все недостающие функции:\n",
    "\n",
    "get_text_or_none\n",
    "get_link\n",
    "extract_category\n",
    "load_or_fetch_html\n",
    "\n",
    "#### Глобальные константы:\n",
    "HOST теперь корректно используется в extract_category.\n",
    "\n",
    "#### Проверка работы:\n",
    "Код выводит первые 3 статьи для визуальной проверки."
   ]
  },
  {
   "cell_type": "code",
   "execution_count": null,
   "id": "ed2b9846-9539-4849-a67b-11d1f8c49bfc",
   "metadata": {},
   "outputs": [],
   "source": []
  },
  {
   "cell_type": "markdown",
   "id": "174b9682-361a-416b-a2ea-d51d80e88334",
   "metadata": {},
   "source": [
    "### Автоматизация расписания (простой вариант)\n",
    "Создайте файл run_parser.py:"
   ]
  },
  {
   "cell_type": "code",
   "execution_count": null,
   "id": "0e3ceee5-fb03-4d0e-b324-498b93a0801c",
   "metadata": {},
   "outputs": [],
   "source": [
    "import schedule\n",
    "import time\n",
    "\n",
    "def job():\n",
    "    print(\"Парсинг запущен...\")\n",
    "    # Ваш код парсинга и экспорта\n",
    "\n",
    "schedule.every().day.at(\"09:00\").do(job)\n",
    "\n",
    "while True:\n",
    "    schedule.run_pending()\n",
    "    time.sleep(60)"
   ]
  },
  {
   "cell_type": "markdown",
   "id": "b4fefea5-4fed-49de-bbf7-99a8cac44284",
   "metadata": {},
   "source": [
    "#### Запускайте его в фоне через nohup python run_parser.py & (Linux/macOS)."
   ]
  },
  {
   "cell_type": "markdown",
   "id": "f44b426c-1839-4d82-a37c-e9e1d3187209",
   "metadata": {},
   "source": [
    "### Пример экспорта в CSV/JSON"
   ]
  },
  {
   "cell_type": "code",
   "execution_count": 6,
   "id": "a655e7e2-a225-497b-bab6-a26560b3824c",
   "metadata": {},
   "outputs": [],
   "source": [
    "import json\n",
    "import csv"
   ]
  },
  {
   "cell_type": "code",
   "execution_count": 7,
   "id": "6cde9231-aa0d-4a4c-afd1-63dd9c586184",
   "metadata": {},
   "outputs": [],
   "source": [
    "def save_to_csv(data, filename):\n",
    "    with open(filename, 'w', encoding='utf-8', newline='') as f:\n",
    "        writer = csv.DictWriter(f, fieldnames=data[0].keys())\n",
    "        writer.writeheader()\n",
    "        writer.writerows(data)\n",
    "\n",
    "def save_to_json(data, filename):\n",
    "    with open(filename, 'w', encoding='utf-8') as f:\n",
    "        json.dump(data, f, ensure_ascii=False, indent=2)"
   ]
  },
  {
   "cell_type": "code",
   "execution_count": 9,
   "id": "57a12f9a-cc6d-4da2-8186-aa7d2b85db1a",
   "metadata": {},
   "outputs": [],
   "source": [
    "# Использование\n",
    "save_to_csv(articles_data, 'data/output/vc_ru_articles.csv')\n",
    "save_to_json(articles_data, 'data/output/vc_ru_articles.json')"
   ]
  },
  {
   "cell_type": "code",
   "execution_count": null,
   "id": "4aae63ce-1a58-4a14-a2aa-3cab23653e10",
   "metadata": {},
   "outputs": [],
   "source": []
  },
  {
   "cell_type": "markdown",
   "id": "8a7f66a5-9742-4cc9-b5dd-1743cfd03d65",
   "metadata": {
    "jp-MarkdownHeadingCollapsed": true
   },
   "source": [
    "## V4 - V1 DYNAMIC_PARCE - 1. Динамическая загрузка с Selenium"
   ]
  },
  {
   "cell_type": "markdown",
   "id": "41011072-309c-499a-8d40-a0906be13298",
   "metadata": {},
   "source": [
    "#### Цель:\n",
    "Прокрутить ленту vc.ru на 10 \"страниц\" (или до достижения лимита новостей).\n",
    "Имитировать поведение человека: случайные задержки, плавная прокрутка.\n",
    "Защита от бана: User-Agent, куки, ограничение скорости."
   ]
  },
  {
   "cell_type": "code",
   "execution_count": 1,
   "id": "d629038b-a8d5-488a-854a-f237c61d0ab3",
   "metadata": {},
   "outputs": [],
   "source": [
    "from selenium import webdriver\n",
    "from selenium.webdriver.common.by import By\n",
    "from selenium.webdriver.chrome.service import Service\n",
    "from selenium.webdriver.chrome.options import Options\n",
    "import time\n",
    "import random"
   ]
  },
  {
   "cell_type": "code",
   "execution_count": 29,
   "id": "77748802-3d44-486f-93a6-4f7bc59d81ac",
   "metadata": {},
   "outputs": [],
   "source": [
    "# Настройки\n",
    "URL = \"https://vc.ru/new\"\n",
    "SCROLL_PAUSE = random.uniform(2, 5)  # Случайные задержки\n",
    "MAX_SCROLLS = 10  # Лимит прокруток\n",
    "\n",
    "def dynamic_parse():\n",
    "    # chrome_options = Options()\n",
    "    # chrome_options.add_argument(\"--headless\")  # Режим без GUI (для сервера)\n",
    "    # chrome_options.add_argument(f\"user-agent=Mozilla/5.0 (Windows NT 10.0; Win64; x64) AppleWebKit/537.36 (KHTML, like Gecko) Chrome/91.0.4472.124 Safari/537.36\")\n",
    "\n",
    "    # Автоматическая установка ChromeDriver\n",
    "    driver = webdriver.Chrome(service=Service(ChromeDriverManager().install()))\n",
    "    \n",
    "    # driver = webdriver.Chrome(service=Service('chromedriver'), options=chrome_options)\n",
    "    driver.get(URL)\n",
    "\n",
    "    for _ in range(MAX_SCROLLS):\n",
    "        # Плавная прокрутка вниз\n",
    "        driver.execute_script(\"window.scrollBy(0, 2000);\")\n",
    "        time.sleep(SCROLL_PAUSE)\n",
    "        \n",
    "        # Проверка на \"конец ленты\" (если есть кнопка \"Показать ещё\")\n",
    "        try:\n",
    "            more_button = driver.find_element(By.CSS_SELECTOR, \".button-more\")\n",
    "            more_button.click()\n",
    "            time.sleep(SCROLL_PAUSE)\n",
    "        except:\n",
    "            pass\n",
    "\n",
    "    html_content = driver.page_source\n",
    "    driver.quit()\n",
    "    return html_content"
   ]
  },
  {
   "cell_type": "markdown",
   "id": "60403de5-ce7d-4d5b-9d26-19c331b52a7f",
   "metadata": {},
   "source": [
    "### Использование"
   ]
  },
  {
   "cell_type": "code",
   "execution_count": 30,
   "id": "b5c34831-4f45-4880-a447-60163837a670",
   "metadata": {},
   "outputs": [],
   "source": [
    "# Использование\n",
    "html_content = dynamic_parse()\n",
    "articles_data = parse_articles(html_content)  # Ваша существующая функция"
   ]
  },
  {
   "cell_type": "code",
   "execution_count": null,
   "id": "5abece4f-6539-4517-bb21-906c9edf688f",
   "metadata": {},
   "outputs": [],
   "source": [
    "# Что добавить - Рандомизация действий:\n",
    "if random.random() > 0.7:  # 30% chance to hover over elements\n",
    "    element = driver.find_element(By.CSS_SELECTOR, random.choice([\".content-title\", \".author__name\"]))\n",
    "    webdriver.ActionChains(driver).move_to_element(element).pause(1).perform()\n",
    "\n",
    "# Сохранение сессии (куки) между запусками."
   ]
  },
  {
   "cell_type": "markdown",
   "id": "7fc2f697-d612-4cde-b9a2-e78bc6fffe07",
   "metadata": {},
   "source": [
    "### Устранение ошибки NoSuchDriverException - настройка ChromeDriver"
   ]
  },
  {
   "cell_type": "code",
   "execution_count": 25,
   "id": "0a1cb8ef-5b32-4a6d-b62a-6f69442d500c",
   "metadata": {},
   "outputs": [],
   "source": [
    "# 1. Установите ChromeDriver автоматически (рекомендуемый способ)\n",
    "# Используйте webdriver-manager для автоматической загрузки драйвера:\n",
    "\n",
    "from selenium import webdriver\n",
    "from selenium.webdriver.chrome.service import Service\n",
    "from webdriver_manager.chrome import ChromeDriverManager\n",
    "\n",
    "# Автоматическая установка ChromeDriver\n",
    "driver = webdriver.Chrome(service=Service(ChromeDriverManager().install()))"
   ]
  },
  {
   "cell_type": "markdown",
   "id": "e0b6d8b1-8a9a-4f28-8ee4-b84071f60f89",
   "metadata": {},
   "source": [
    "### V2 DYNAMIC_PARCE - Полный рабочий код с обработкой ошибок"
   ]
  },
  {
   "cell_type": "code",
   "execution_count": null,
   "id": "ce3405d6-ee0b-4e8d-bb24-5557181f10ba",
   "metadata": {},
   "outputs": [],
   "source": [
    "from selenium import webdriver\n",
    "from selenium.webdriver.chrome.service import Service\n",
    "from selenium.webdriver.common.by import By\n",
    "from webdriver_manager.chrome import ChromeDriverManager\n",
    "import time\n",
    "import random"
   ]
  },
  {
   "cell_type": "code",
   "execution_count": 18,
   "id": "ad66be35-b307-4a76-99b8-dbeb9244bf5d",
   "metadata": {},
   "outputs": [
    {
     "name": "stdout",
     "output_type": "stream",
     "text": [
      "HTML успешно получен!\n"
     ]
    }
   ],
   "source": [
    "def dynamic_parse():\n",
    "    try:\n",
    "        # Автоматическая настройка ChromeDriver\n",
    "        driver = webdriver.Chrome(service=Service(ChromeDriverManager().install()))\n",
    "        \n",
    "        # Или ручной путь (раскомментируйте, если автоматически не работает)\n",
    "        # driver = webdriver.Chrome(service=Service(r'ПУТЬ_К_CHROMEDRIVER'))\n",
    "\n",
    "        driver.get(\"https://vc.ru/new\")\n",
    "        \n",
    "        for _ in range(10):\n",
    "            driver.execute_script(\"window.scrollBy(0, 2000);\")\n",
    "            time.sleep(random.uniform(2, 5))\n",
    "            \n",
    "        html_content = driver.page_source\n",
    "        return html_content\n",
    "        \n",
    "    except Exception as e:\n",
    "        print(f\"Ошибка: {e}\")\n",
    "        return None\n",
    "    finally:\n",
    "        if 'driver' in locals():\n",
    "            driver.quit()"
   ]
  },
  {
   "cell_type": "code",
   "execution_count": 26,
   "id": "0611afa0-35e7-4d8d-bcc6-9c02013c5009",
   "metadata": {},
   "outputs": [
    {
     "name": "stdout",
     "output_type": "stream",
     "text": [
      "HTML успешно получен!\n"
     ]
    }
   ],
   "source": [
    "# Проверка\n",
    "if __name__ == \"__main__\":\n",
    "    html = dynamic_parse()\n",
    "    if html:\n",
    "        print(\"HTML успешно получен!\")"
   ]
  },
  {
   "cell_type": "code",
   "execution_count": null,
   "id": "18d37842-dd27-4dde-8f4e-d985190bb901",
   "metadata": {},
   "outputs": [],
   "source": []
  },
  {
   "cell_type": "code",
   "execution_count": null,
   "id": "34a91d77-e988-4ebe-8c60-666eadee9b97",
   "metadata": {},
   "outputs": [],
   "source": []
  },
  {
   "cell_type": "markdown",
   "id": "98481618-81c6-4856-a0c4-f02d1cf73641",
   "metadata": {},
   "source": [
    "### 2. Обновление CSV/JSON с дедупликацией"
   ]
  },
  {
   "cell_type": "markdown",
   "id": "69d71ac6-9984-4432-93db-71751afca905",
   "metadata": {},
   "source": [
    "#### Алгоритм:\n",
    "Загружаем существующие данные из файла.\n",
    "Объединяем со свежими данными.\n",
    "Удаляем дубликаты по title или link.\n",
    "Сохраняем обновлённый файл."
   ]
  },
  {
   "cell_type": "code",
   "execution_count": 27,
   "id": "b14eb6d8-7e7c-455b-a157-6f948516b9c3",
   "metadata": {},
   "outputs": [],
   "source": [
    "import pandas as pd\n",
    "\n",
    "def update_data(new_data, csv_path=\"data/output/articles.csv\", json_path=\"data/output/articles.json\"):\n",
    "    # Загрузка старых данных (если файл есть)\n",
    "    try:\n",
    "        old_df = pd.read_csv(csv_path)\n",
    "    except FileNotFoundError:\n",
    "        old_df = pd.DataFrame()\n",
    "\n",
    "    # Объединение + удаление дубликатов\n",
    "    combined_df = pd.concat([old_df, pd.DataFrame(new_data)])\n",
    "    combined_df.drop_duplicates(subset=[\"title\"], keep=\"last\", inplace=True)  # Или \"link\"\n",
    "\n",
    "    # Сохранение\n",
    "    combined_df.to_csv(csv_path, index=False, encoding='utf-8')\n",
    "    combined_df.to_json(json_path, orient=\"records\", force_ascii=False, indent=2)\n",
    "    print(f\"Данные обновлены. Уникальных записей: {len(combined_df)}\")"
   ]
  },
  {
   "cell_type": "code",
   "execution_count": 21,
   "id": "a5c2ec19-b97b-4845-8919-c67456cdf0bc",
   "metadata": {},
   "outputs": [
    {
     "name": "stdout",
     "output_type": "stream",
     "text": [
      "Данные обновлены. Уникальных записей: 36\n"
     ]
    }
   ],
   "source": [
    "# Обновление CSV/JSON с дедупликацией\n",
    "if __name__ == \"__main__\":\n",
    "    update_data(articles_data)"
   ]
  },
  {
   "cell_type": "code",
   "execution_count": 31,
   "id": "ccf81607-ee32-4bce-adb9-1344b9af0cb0",
   "metadata": {},
   "outputs": [
    {
     "name": "stdout",
     "output_type": "stream",
     "text": [
      "Данные обновлены. Уникальных записей: 36\n"
     ]
    }
   ],
   "source": [
    "# Обновление CSV/JSON с дедупликацией\n",
    "if __name__ == \"__main__\":\n",
    "    update_data(articles_data, csv_path=\"data/output/vc_ru_articles.csv\", json_path=\"data/output/vc_ru_articles.json\")"
   ]
  },
  {
   "cell_type": "markdown",
   "id": "f8c2909b-0273-41c4-b617-c14fcca6daf9",
   "metadata": {},
   "source": [
    "### Следующие шаги:\n",
    "#### Настроим Selenium:\n",
    "Установите драйвер (ChromeDriver).\n",
    "Проверим работу dynamic_parse() на тестовой прокрутке.\n",
    "\n",
    "#### Интеграция с вашим кодом:\n",
    "Заменим load_or_fetch_html() на dynamic_parse().\n",
    "Добавим обработку ошибок (например, если сайт блокирует запросы).\n",
    "\n",
    "#### Тестирование дедупликации:\n",
    "Создадим тестовые CSV/JSON с дубликатами.\n",
    "Проверим, что update_data() корректно объединяет файлы."
   ]
  },
  {
   "cell_type": "code",
   "execution_count": null,
   "id": "cf52767e-0dfb-433b-944a-ea202cba165b",
   "metadata": {},
   "outputs": [],
   "source": [
    "# Важно для Selenium:\n",
    "# Для macOS/Windows установите:\n",
    "pip install selenium webdriver-manager"
   ]
  },
  {
   "cell_type": "code",
   "execution_count": null,
   "id": "0e34737e-41fe-467e-b3ed-2268f5983ef0",
   "metadata": {},
   "outputs": [],
   "source": [
    "# Драйвер можно настроить автоматически:\n",
    "from webdriver_manager.chrome import ChromeDriverManager\n",
    "driver = webdriver.Chrome(service=Service(ChromeDriverManager().install()))"
   ]
  },
  {
   "cell_type": "code",
   "execution_count": null,
   "id": "c0d848a9-d740-418e-b910-53eb3459e1c2",
   "metadata": {},
   "outputs": [],
   "source": []
  },
  {
   "cell_type": "markdown",
   "id": "4e50eeb9-f06c-4a14-8c7e-c2230932dbbd",
   "metadata": {
    "jp-MarkdownHeadingCollapsed": true
   },
   "source": [
    "## V5 - Совмещаем все функции в один блок"
   ]
  },
  {
   "cell_type": "markdown",
   "id": "33e2542b-4700-4d23-9326-cf554aa7f08c",
   "metadata": {},
   "source": [
    "### Libraries - Импортирование библиотек"
   ]
  },
  {
   "cell_type": "code",
   "execution_count": 1,
   "id": "d8d3118f-90b9-45d9-9135-19d3c4a7b7a4",
   "metadata": {},
   "outputs": [],
   "source": [
    "# Для вспомогательных функций и основного парсера\n",
    "import os\n",
    "import requests\n",
    "from bs4 import BeautifulSoup\n",
    "from datetime import datetime\n",
    "from urllib.parse import urljoin\n",
    "\n",
    "# Для экспорта/импорта временных данных\n",
    "import json\n",
    "import csv\n",
    "\n",
    "# Для работы с динамическими сайтами\n",
    "from selenium import webdriver\n",
    "from selenium.webdriver.common.by import By\n",
    "from selenium.webdriver.chrome.service import Service\n",
    "from selenium.webdriver.chrome.options import Options\n",
    "from selenium.webdriver.common.action_chains import ActionChains\n",
    "from webdriver_manager.chrome import ChromeDriverManager\n",
    "import time\n",
    "import random\n",
    "\n",
    "# Обновление CSV/JSON с дедупликацией\n",
    "import pandas as pd\n",
    "\n",
    "# Google Sheets\n",
    "from gspread import Client, Spreadsheet, Worksheet, service_account, exceptions\n",
    "from typing import Optional, List, Dict"
   ]
  },
  {
   "cell_type": "markdown",
   "id": "e0022f56-dcca-4dc9-ae34-a21ce5776d0a",
   "metadata": {
    "jp-MarkdownHeadingCollapsed": true
   },
   "source": [
    "### Усовершенствованная функция по импортированию библиотек"
   ]
  },
  {
   "cell_type": "code",
   "execution_count": 1,
   "id": "aa9f074e-b080-4b33-860a-da4bb2071f80",
   "metadata": {},
   "outputs": [],
   "source": [
    "imports = [\n",
    "        \"import os\",\n",
    "        \"import requests\",\n",
    "        \"from bs4 import BeautifulSoup\",\n",
    "        \"from datetime import datetime\",\n",
    "        \"from urllib.parse import urljoin\",\n",
    "        \"import json\",\n",
    "        \"import csv\",\n",
    "        \"from selenium import webdriver\",\n",
    "        \"from selenium.webdriver.common.by import By\",\n",
    "        \"from selenium.webdriver.chrome.service import Service\",\n",
    "        \"from selenium.webdriver.chrome.options import Options\",\n",
    "        \"import time\",\n",
    "        \"import random\",\n",
    "        \"import pandas as pd\"\n",
    "    ]"
   ]
  },
  {
   "cell_type": "code",
   "execution_count": 2,
   "id": "8fb16260-b474-48d4-88ff-1d0003b33805",
   "metadata": {},
   "outputs": [],
   "source": [
    "import time\n",
    "import importlib"
   ]
  },
  {
   "cell_type": "code",
   "execution_count": 3,
   "id": "69c66dda-cf9f-4d83-9a4d-aacd70044198",
   "metadata": {},
   "outputs": [],
   "source": [
    "# import time\n",
    "# import importlib\n",
    "\n",
    "def import_and_measure_improved(import_statement):\n",
    "    \"\"\"\n",
    "    Импортирует библиотеку или модуль и измеряет время выполнения операции.\n",
    "    :param import_statement: Строка с командой импорта (например, \"import requests\" или \"from telebot import types\").\n",
    "    \"\"\"\n",
    "    start_time = time.time()  # Запуск таймера\n",
    "\n",
    "    try:\n",
    "        # Выполняем команду импорта\n",
    "        exec(import_statement)\n",
    "        end_time = time.time()  # Остановка таймера\n",
    "\n",
    "        # Вычисление времени выполнения\n",
    "        elapsed_time = end_time - start_time\n",
    "        minutes = int(elapsed_time // 60)\n",
    "        seconds = int(elapsed_time % 60)\n",
    "\n",
    "        # Вывод результата\n",
    "        print(f\"\\t'{import_statement}' успешно завершено!\\n\"\n",
    "              f\"\\tВремя выполнения операции: \"\n",
    "              f\"минут: {minutes}, секунд: {seconds}\")\n",
    "    except Exception as e:\n",
    "        print(f\"Ошибка при импортировании '{import_statement}': {e}\")"
   ]
  },
  {
   "cell_type": "code",
   "execution_count": 4,
   "id": "312b17e0-d2a9-4d6f-9ba5-fd8859dd5e6f",
   "metadata": {
    "collapsed": true,
    "jupyter": {
     "outputs_hidden": true
    }
   },
   "outputs": [
    {
     "name": "stdout",
     "output_type": "stream",
     "text": [
      "Start immorting of libraries !\n",
      "1. Выполняется операция 'IMPORT OS' ...\n",
      "\t'import os' успешно завершено!\n",
      "\tВремя выполнения операции: минут: 0, секунд: 0\n",
      "2. Выполняется операция 'IMPORT REQUESTS' ...\n",
      "\t'import requests' успешно завершено!\n",
      "\tВремя выполнения операции: минут: 0, секунд: 7\n",
      "3. Выполняется операция 'FROM BS4 IMPORT BEAUTIFULSOUP' ...\n",
      "\t'from bs4 import BeautifulSoup' успешно завершено!\n",
      "\tВремя выполнения операции: минут: 0, секунд: 1\n",
      "4. Выполняется операция 'FROM DATETIME IMPORT DATETIME' ...\n",
      "\t'from datetime import datetime' успешно завершено!\n",
      "\tВремя выполнения операции: минут: 0, секунд: 0\n",
      "5. Выполняется операция 'FROM URLLIB.PARSE IMPORT URLJOIN' ...\n",
      "\t'from urllib.parse import urljoin' успешно завершено!\n",
      "\tВремя выполнения операции: минут: 0, секунд: 0\n",
      "6. Выполняется операция 'IMPORT JSON' ...\n",
      "\t'import json' успешно завершено!\n",
      "\tВремя выполнения операции: минут: 0, секунд: 0\n",
      "7. Выполняется операция 'IMPORT CSV' ...\n",
      "\t'import csv' успешно завершено!\n",
      "\tВремя выполнения операции: минут: 0, секунд: 0\n",
      "8. Выполняется операция 'FROM SELENIUM IMPORT WEBDRIVER' ...\n",
      "\t'from selenium import webdriver' успешно завершено!\n",
      "\tВремя выполнения операции: минут: 0, секунд: 3\n",
      "9. Выполняется операция 'FROM SELENIUM.WEBDRIVER.COMMON.BY IMPORT BY' ...\n",
      "\t'from selenium.webdriver.common.by import By' успешно завершено!\n",
      "\tВремя выполнения операции: минут: 0, секунд: 0\n",
      "10. Выполняется операция 'FROM SELENIUM.WEBDRIVER.CHROME.SERVICE IMPORT SERVICE' ...\n",
      "\t'from selenium.webdriver.chrome.service import Service' успешно завершено!\n",
      "\tВремя выполнения операции: минут: 0, секунд: 0\n",
      "11. Выполняется операция 'FROM SELENIUM.WEBDRIVER.CHROME.OPTIONS IMPORT OPTIONS' ...\n",
      "\t'from selenium.webdriver.chrome.options import Options' успешно завершено!\n",
      "\tВремя выполнения операции: минут: 0, секунд: 0\n",
      "12. Выполняется операция 'IMPORT TIME' ...\n",
      "\t'import time' успешно завершено!\n",
      "\tВремя выполнения операции: минут: 0, секунд: 0\n",
      "13. Выполняется операция 'IMPORT RANDOM' ...\n",
      "\t'import random' успешно завершено!\n",
      "\tВремя выполнения операции: минут: 0, секунд: 0\n",
      "14. Выполняется операция 'IMPORT PANDAS AS PD' ...\n",
      "\t'import pandas as pd' успешно завершено!\n",
      "\tВремя выполнения операции: минут: 0, секунд: 29\n",
      "\n",
      "Общее время импортирования библиотек: минут: 0, секунд: 41\n"
     ]
    }
   ],
   "source": [
    "# Пример использования усовершенствованной функции IMPORT_AND_MEASURE_IMPROVED\n",
    "if __name__ == \"__main__\":\n",
    "    \"\"\"\n",
    "    imports = [\n",
    "        \"import time\",\n",
    "        \"import importlib\"\n",
    "    ]\n",
    "    \"\"\"\n",
    "    total_start_time = time.time()  # Запуск общего таймера\n",
    "    count = 1 # Счетчик операций\n",
    "    print(\"Start immorting of libraries !\")\n",
    "    \n",
    "    for imp in imports:\n",
    "        print(f\"{count}. Выполняется операция '{imp.upper()}' ...\")\n",
    "        import_and_measure_improved(imp)\n",
    "        count += 1\n",
    "\n",
    "    total_end_time = time.time()  # Остановка общего таймера\n",
    "    total_elapsed_time = total_end_time - total_start_time\n",
    "    total_minutes = int(total_elapsed_time // 60)\n",
    "    total_seconds = int(total_elapsed_time % 60)\n",
    "\n",
    "    print(f\"\\nОбщее время импортирования библиотек: \"\n",
    "          f\"минут: {total_minutes}, секунд: {total_seconds}\")"
   ]
  },
  {
   "cell_type": "markdown",
   "id": "0de68727-9430-4236-a2b6-851942e1a1d1",
   "metadata": {
    "jupyter": {
     "source_hidden": true
    }
   },
   "source": [
    "### --- Вспомогательные функции ---"
   ]
  },
  {
   "cell_type": "code",
   "execution_count": 5,
   "id": "41589a48-7856-46e9-b57a-dfd7e58d5215",
   "metadata": {},
   "outputs": [],
   "source": [
    "def get_text_or_none(parent, selector):\n",
    "    \"\"\"Извлекает текст из элемента или возвращает None, если элемент не найден.\"\"\"\n",
    "    element = parent.select_one(selector)\n",
    "    return element.get_text(strip=True) if element else None\n",
    "\n",
    "def get_link(parent, selector, host):\n",
    "    \"\"\"Извлекает URL ссылки, объединяя с host.\"\"\"\n",
    "    element = parent.select_one(selector)\n",
    "    return urljoin(host, element['href']) if element and 'href' in element.attrs else None\n",
    "\n",
    "def extract_category(url):\n",
    "    \"\"\"Извлекает категорию из URL (например, 'marketing' из 'https://vc.ru/marketing/123').\"\"\"\n",
    "    if not url:\n",
    "        return None\n",
    "    parts = url.replace(HOST, '').strip('/').split('/')\n",
    "    return parts[0] if parts else None\n",
    "\n",
    "def load_or_fetch_html(url, cache_path, headers=None, timeout=10):\n",
    "    \"\"\"Загружает HTML из кеша или скачивает с сайта.\"\"\"\n",
    "    os.makedirs(os.path.dirname(cache_path), exist_ok=True)\n",
    "    if os.path.exists(cache_path):\n",
    "        with open(cache_path, 'r', encoding='utf-8') as f:\n",
    "            return f.read()\n",
    "    try:\n",
    "        response = requests.get(url, headers=headers, timeout=timeout)\n",
    "        response.raise_for_status()\n",
    "        with open(cache_path, 'w', encoding='utf-8') as f:\n",
    "            f.write(response.text)\n",
    "        return response.text\n",
    "    except requests.exceptions.RequestException as e:\n",
    "        print(f\"Ошибка: {e}\")\n",
    "        return None"
   ]
  },
  {
   "cell_type": "code",
   "execution_count": 6,
   "id": "44b881c0-a6f3-43aa-b209-906e2d6bcfe3",
   "metadata": {},
   "outputs": [],
   "source": [
    "# --- Основной парсер ---\n",
    "def parse_articles(html_content):\n",
    "    soup = BeautifulSoup(html_content, 'html.parser')\n",
    "    articles = soup.find('div', class_='content-list')\n",
    "    if not articles:\n",
    "        raise ValueError(\"Секция с новостями не найдена\")\n",
    "\n",
    "    results = []\n",
    "    for article in articles.find_all('div', class_='content--short'):\n",
    "        data = {\n",
    "            'title': get_text_or_none(article, 'div.content-title'),\n",
    "            'author': get_text_or_none(article, 'a.author__name'),\n",
    "            'date': get_text_or_none(article, 'div.content-header-date'),\n",
    "            'shorts': get_text_or_none(article, 'div.block-text'),\n",
    "            'link': get_link(article, 'a.content__link', HOST),\n",
    "            'category': extract_category(get_link(article, 'a.content__link', HOST)),\n",
    "            'parse_datetime': datetime.now().strftime('%Y-%m-%d %H:%M:%S')\n",
    "        }\n",
    "        results.append(data)\n",
    "    return results"
   ]
  },
  {
   "cell_type": "markdown",
   "id": "d8c7cba9-c072-4dc4-bd8c-dd8b61684d33",
   "metadata": {
    "jupyter": {
     "source_hidden": true
    }
   },
   "source": [
    "### --- Конфигурация --- Запуск функции"
   ]
  },
  {
   "cell_type": "code",
   "execution_count": 7,
   "id": "b17f63ad-6f15-407f-adf7-1f20909087fc",
   "metadata": {},
   "outputs": [],
   "source": [
    "# --- Конфигурация ---\n",
    "URL = \"https://vc.ru/new\"\n",
    "HOST = \"https://vc.ru\"\n",
    "HEADERS = {\"User-Agent\": \"Mozilla/5.0\"}\n",
    "TEMP_HTML_PATH = \"data/interim/vc_ru_temp.html\""
   ]
  },
  {
   "cell_type": "code",
   "execution_count": 11,
   "id": "25053914-7212-4987-ad06-d3523f952ec8",
   "metadata": {},
   "outputs": [
    {
     "name": "stdout",
     "output_type": "stream",
     "text": [
      "Найдено статей: 12\n",
      "{'title': 'Повышение конверсии и прибыли за 10 пунктов: как начать зарабатывать больше, благодаря одной статье', 'author': 'Хорош в маркетинге', 'date': None, 'shorts': 'Вы хотите зарабатывать больше? Вы хотите повысить конверсии ��а своем сайте? Тогда, усаживайтесь поудобнее и дочитывайте до конца. Ведь в конце будет бонусный самый важный пункт по моему мнению. Я думаю, что Вы согласитесь со мной', 'link': 'https://vc.ru/marketing/1921259-kak-povysit-konversii-i-pribyl-na-sayte-10-strategiy', 'category': 'marketing', 'parse_datetime': '2025-04-12 07:36:11'}\n",
      "{'title': 'Google уволила «сотни сотрудников» в подразделении, которое занимается Android иPixel', 'author': 'Таня Боброва', 'date': None, 'shorts': 'В начале 2025-го компания предлагала сотрудникам уйти по собственному желанию в рамках оптимизации.', 'link': 'https://vc.ru/hr/1921136-google-uvolila-sotrudnikov-iz-podrazdeleniya-android-i-pixel', 'category': 'hr', 'parse_datetime': '2025-04-12 07:36:11'}\n",
      "{'title': 'Главное за неделю: BYD переизобрели зарядку , ChatGPT теперь помнит вообще всё, большое обновление WhatsApp и облачный гейминг Razer', 'author': 'Сергей Кузнецов', 'date': None, 'shorts': 'Подводим итоги недели в подкастеTelegram-канала ForGeeks. Расскажем, как BYD будет заряжать электромобили, почему лююди боятся ChatGPT, зачем вам нужно оставить WhatsApp и многое другое.Слушайтеновый выпуск, читайте иподписывайтесь на ForGeeks в Telegram.', 'link': 'https://vc.ru/tech/1921117-glavnye-tehnologii-nedeli-byd-chatgpt-whatsapp-i-oblachnyj-gejming', 'category': 'tech', 'parse_datetime': '2025-04-12 07:36:11'}\n"
     ]
    }
   ],
   "source": [
    "# --- Запуск 3 ---\n",
    "if __name__ == \"__main__\":\n",
    "    html_content = load_or_fetch_html(URL, TEMP_HTML_PATH, HEADERS)\n",
    "    if html_content:\n",
    "        articles_data = parse_articles(html_content)\n",
    "        print(f\"Найдено статей: {len(articles_data)}\")\n",
    "        for article in articles_data[:3]:  # Вывод первых 3 статей для проверки\n",
    "            print(article)"
   ]
  },
  {
   "cell_type": "code",
   "execution_count": 13,
   "id": "cbd17f91-d765-42d4-aae7-cf445852dda9",
   "metadata": {},
   "outputs": [
    {
     "name": "stdout",
     "output_type": "stream",
     "text": [
      "Найдено статей: 12\n",
      "{'title': 'Рабочий vs Предприниматель', 'author': 'Ирина Курбанова', 'date': None, 'shorts': 'Что общего между рабочим, вкалывающим по 12 часов день на стройке, и предпринимателем, погрязшем в текучке?', 'link': 'https://vc.ru/opinions/1915659-rabochiy-i-predprinimatel', 'category': 'opinions', 'parse_datetime': '2025-04-11 12:25:01'}\n",
      "{'title': 'OpenAI обновила «память» у ChatGPT — бот теперь может запоминать всечаты', 'author': 'Таня Боброва', 'date': None, 'shorts': 'И, например, напомнить содержание разговора, который был несколько дней назад.', 'link': 'https://vc.ru/chatgpt/1918921-obnovlenie-pamyati-chatgpt-ot-openai', 'category': 'chatgpt', 'parse_datetime': '2025-04-11 12:25:01'}\n",
      "{'title': 'Настольный мерч: в какие игры можно интегрировать бренд?', 'author': 'Станислав Грушевский', 'date': None, 'shorts': None, 'link': 'https://vc.ru/marketing/1919121-nastolnyy-merch-dlya-brendov-idei-integratsii-v-igry', 'category': 'marketing', 'parse_datetime': '2025-04-11 12:25:01'}\n"
     ]
    }
   ],
   "source": [
    "# import os\n",
    "# from bs4 import BeautifulSoup\n",
    "\n",
    "# --- Запуск 2 ---\n",
    "if __name__ == \"__main__\":\n",
    "    html_content = load_or_fetch_html(URL, TEMP_HTML_PATH, HEADERS)\n",
    "    if html_content:\n",
    "        articles_data = parse_articles(html_content)\n",
    "        print(f\"Найдено статей: {len(articles_data)}\")\n",
    "        for article in articles_data[:3]:  # Вывод первых 3 статей для проверки\n",
    "            print(article)"
   ]
  },
  {
   "cell_type": "markdown",
   "id": "08afad21-e810-4610-8a5b-2e87a8b33c01",
   "metadata": {},
   "source": [
    "### Пример экспорта в CSV/JSON"
   ]
  },
  {
   "cell_type": "code",
   "execution_count": 12,
   "id": "ba04b1dd-2443-451d-bf1a-8103ac894d25",
   "metadata": {},
   "outputs": [],
   "source": [
    "import json\n",
    "import csv"
   ]
  },
  {
   "cell_type": "code",
   "execution_count": 13,
   "id": "94a8b7c2-7659-4c96-b37f-122c3abd29f2",
   "metadata": {},
   "outputs": [],
   "source": [
    "def save_to_csv(data, filename):\n",
    "    with open(filename, 'w', encoding='utf-8', newline='') as f:\n",
    "        writer = csv.DictWriter(f, fieldnames=data[0].keys())\n",
    "        writer.writeheader()\n",
    "        writer.writerows(data)\n",
    "\n",
    "def save_to_json(data, filename):\n",
    "    with open(filename, 'w', encoding='utf-8') as f:\n",
    "        json.dump(data, f, ensure_ascii=False, indent=2)"
   ]
  },
  {
   "cell_type": "code",
   "execution_count": 14,
   "id": "c1aa6ea8-292d-4e20-926e-e8753ae70466",
   "metadata": {},
   "outputs": [],
   "source": [
    "# Использование\n",
    "save_to_csv(articles_data, 'data/output/vc_ru_articles.csv')\n",
    "save_to_json(articles_data, 'data/output/vc_ru_articles.json')"
   ]
  },
  {
   "cell_type": "code",
   "execution_count": null,
   "id": "ca99feda-2090-4bd0-9453-234f20fbb85c",
   "metadata": {},
   "outputs": [],
   "source": []
  },
  {
   "cell_type": "markdown",
   "id": "2f05ca5e-085a-4188-b68f-10077dfe4e0c",
   "metadata": {
    "jp-MarkdownHeadingCollapsed": true
   },
   "source": [
    "## V6 DYNAMIC_PARCE - 1. Динамическая загрузка с Selenium"
   ]
  },
  {
   "cell_type": "markdown",
   "id": "3f93cb78-4d01-4fc7-ba53-7645ae9aac5f",
   "metadata": {},
   "source": [
    "#### Цель:\n",
    "Прокрутить ленту vc.ru на 10 \"страниц\" (или до достижения лимита новостей).\n",
    "Имитировать поведение человека: случайные задержки, плавная прокрутка.\n",
    "Защита от бана: User-Agent, куки, ограничение скорости."
   ]
  },
  {
   "cell_type": "code",
   "execution_count": 15,
   "id": "7b4f4d72-7c2f-4cdf-9338-db57e9b39467",
   "metadata": {},
   "outputs": [],
   "source": [
    "from selenium import webdriver\n",
    "from selenium.webdriver.common.by import By\n",
    "from selenium.webdriver.chrome.service import Service\n",
    "from selenium.webdriver.chrome.options import Options\n",
    "import time\n",
    "import random"
   ]
  },
  {
   "cell_type": "markdown",
   "id": "f737b428-24cc-4dfe-802b-a2d141b198bd",
   "metadata": {},
   "source": [
    "### Использование"
   ]
  },
  {
   "cell_type": "code",
   "execution_count": null,
   "id": "e156cad8-71fc-4792-a805-8331bc4ad07f",
   "metadata": {},
   "outputs": [],
   "source": []
  },
  {
   "cell_type": "markdown",
   "id": "74ed30d1-44ba-4b7c-b247-53c4a840af7c",
   "metadata": {
    "jp-MarkdownHeadingCollapsed": true
   },
   "source": [
    "### V2 DYNAMIC_PARCE - Полный рабочий код с обработкой ошибок"
   ]
  },
  {
   "cell_type": "code",
   "execution_count": null,
   "id": "789ee886-dc2b-4702-b428-c84abd830099",
   "metadata": {},
   "outputs": [],
   "source": [
    "# from selenium import webdriver\n",
    "# from selenium.webdriver.chrome.service import Service\n",
    "# from selenium.webdriver.common.by import By\n",
    "# from webdriver_manager.chrome import ChromeDriverManager\n",
    "# import time\n",
    "# import random"
   ]
  },
  {
   "cell_type": "code",
   "execution_count": 18,
   "id": "1c184e40-c324-41a8-85c0-f55aed30ff95",
   "metadata": {},
   "outputs": [],
   "source": [
    "def dynamic_parse():\n",
    "    try:\n",
    "        # Автоматическая настройка ChromeDriver\n",
    "        driver = webdriver.Chrome(service=Service(ChromeDriverManager().install()))\n",
    "        \n",
    "        # Или ручной путь (раскомментируйте, если автоматически не работает)\n",
    "        # driver = webdriver.Chrome(service=Service(r'ПУТЬ_К_CHROMEDRIVER'))\n",
    "\n",
    "        driver.get(\"https://vc.ru/new\")\n",
    "        \n",
    "        for _ in range(10):\n",
    "            driver.execute_script(\"window.scrollBy(0, 2000);\")\n",
    "            time.sleep(random.uniform(2, 5))\n",
    "            \n",
    "        html_content = driver.page_source\n",
    "        return html_content\n",
    "        \n",
    "    except Exception as e:\n",
    "        print(f\"Ошибка: {e}\")\n",
    "        return None\n",
    "    finally:\n",
    "        if 'driver' in locals():\n",
    "            driver.quit()"
   ]
  },
  {
   "cell_type": "code",
   "execution_count": 19,
   "id": "c6d89670-8159-4f0f-b5f3-0425ceb7bfe9",
   "metadata": {},
   "outputs": [
    {
     "name": "stdout",
     "output_type": "stream",
     "text": [
      "Ошибка: name 'ChromeDriverManager' is not defined\n"
     ]
    }
   ],
   "source": [
    "# Проверка\n",
    "if __name__ == \"__main__\":\n",
    "    html = dynamic_parse()\n",
    "    if html:\n",
    "        print(\"HTML успешно получен!\")"
   ]
  },
  {
   "cell_type": "code",
   "execution_count": null,
   "id": "78019db5-c2aa-4792-9cd9-f05745482b41",
   "metadata": {},
   "outputs": [],
   "source": []
  },
  {
   "cell_type": "markdown",
   "id": "b801eff3-5439-4549-a403-2f4eeb87a588",
   "metadata": {
    "jupyter": {
     "source_hidden": true
    }
   },
   "source": [
    "#### 2. Обновление CSV/JSON с дедупликацией"
   ]
  },
  {
   "cell_type": "markdown",
   "id": "bb74c7fa-5cc2-438f-9a7c-ad71c6eca86b",
   "metadata": {},
   "source": [
    "#### Алгоритм:\n",
    "Загружаем существующие данные из файла.\n",
    "Объединяем со свежими данными.\n",
    "Удаляем дубликаты по title или link.\n",
    "Сохраняем обновлённый файл."
   ]
  },
  {
   "cell_type": "code",
   "execution_count": 25,
   "id": "75032d81-f80b-4313-aef2-6db6d29bf483",
   "metadata": {},
   "outputs": [],
   "source": [
    "import pandas as pd\n",
    "\n",
    "def update_data(new_data, csv_path=\"data/output/articles.csv\", json_path=\"data/output/articles.json\"):\n",
    "    # Загрузка старых данных (если файл есть)\n",
    "    try:\n",
    "        old_df = pd.read_csv(csv_path)\n",
    "    except FileNotFoundError:\n",
    "        old_df = pd.DataFrame()\n",
    "\n",
    "    # Объединение + удаление дубликатов\n",
    "    combined_df = pd.concat([old_df, pd.DataFrame(new_data)])\n",
    "    combined_df.drop_duplicates(subset=[\"title\"], keep=\"last\", inplace=True)  # Или \"link\"\n",
    "\n",
    "    # Сохранение\n",
    "    combined_df.to_csv(csv_path, index=False, encoding='utf-8')\n",
    "    combined_df.to_json(json_path, orient=\"records\", force_ascii=False, indent=2)\n",
    "    print(f\"Данные обновлены. Уникальных записей: {len(combined_df)}\")"
   ]
  },
  {
   "cell_type": "code",
   "execution_count": 26,
   "id": "239e64fe-7f78-4b8a-a3cb-a0093c96dc5c",
   "metadata": {},
   "outputs": [
    {
     "name": "stdout",
     "output_type": "stream",
     "text": [
      "Данные обновлены. Уникальных записей: 48\n"
     ]
    }
   ],
   "source": [
    "# Обновление CSV/JSON с дедупликацией\n",
    "if __name__ == \"__main__\":\n",
    "    update_data(articles_data)"
   ]
  },
  {
   "cell_type": "code",
   "execution_count": 27,
   "id": "0692384f-8967-4270-9f6a-bc42138303ad",
   "metadata": {},
   "outputs": [
    {
     "name": "stdout",
     "output_type": "stream",
     "text": [
      "Данные обновлены. Уникальных записей: 12\n"
     ]
    }
   ],
   "source": [
    "# Обновление CSV/JSON с дедупликацией\n",
    "if __name__ == \"__main__\":\n",
    "    update_data(articles_data, csv_path=\"data/output/vc_ru_articles.csv\", json_path=\"data/output/vc_ru_articles.json\")"
   ]
  },
  {
   "cell_type": "code",
   "execution_count": 41,
   "id": "fd7f7327-60cb-4689-ba13-690d333616ee",
   "metadata": {
    "collapsed": true,
    "jupyter": {
     "outputs_hidden": true
    }
   },
   "outputs": [
    {
     "data": {
      "text/plain": [
       "[{'title': 'Поисковая выдача Telegram: первичные результаты тестирования нового плейсмента',\n",
       "  'author': 'Владислав Ануфриев',\n",
       "  'date': None,\n",
       "  'shorts': 'Я сходил к нашему отделу по работе с Telegram Ads, чтобы узнать результаты первых тестов по поисковой рекламе в мессенджере и поделиться с вами их наблюдениями.',\n",
       "  'link': 'https://vc.ru/marketing/1920047-reklama-v-telegram-rezultaty-testirovaniya-novogo-formata-poiska',\n",
       "  'category': 'marketing',\n",
       "  'parse_datetime': '2025-04-11 12:44:57'},\n",
       " {'title': 'Как я влез в строительный бизнес и начал приводить по 300 целевых заявок в месяц с ключевой ставкой в 21% и уже приблизился к нервному срыву...',\n",
       "  'author': 'Георгий Ягелло I themedia',\n",
       "  'date': None,\n",
       "  'shorts': 'Самый пострадавший бизнес 2025 года - стройка. Так как ей, еще ни одному бизнесу не доставалось, процентная ставка буквально уничтожает все потуги. Единственный шанс это система бесперебойной системы лидогенерации и вот как я к ней пришел.',\n",
       "  'link': 'https://vc.ru/marketing/1919857-kak-ya-nachal-lidogeneratsiyu-v-stroitelstve',\n",
       "  'category': 'marketing',\n",
       "  'parse_datetime': '2025-04-11 12:44:57'},\n",
       " {'title': 'Финансовый скоринг и медицинская диагностика: можно ли доверить жизнь и деньги алгоритмам?',\n",
       "  'author': 'Timeweb Cloud',\n",
       "  'date': None,\n",
       "  'shorts': 'Представьте, что ваш кредит отклонили не потому, что вы не можете его выплатить, а потому, что так решил искусственный интеллект. Или хуже — диагноз поставлен неверно, потому что алгоритм ошибся. Сегодня разбираемся, насколько безопасно доверять важнейшие решения в финансах и медицине нейросетям.',\n",
       "  'link': 'https://vc.ru/ai/1844097-finansovyy-skoring-i-ii-v-medicine-doverie-algoritmam',\n",
       "  'category': 'ai',\n",
       "  'parse_datetime': '2025-04-11 12:44:57'},\n",
       " {'title': 'Китай ввёл дополнительные пошлины в 41% на ввоз товаров из США — суммарно они составят125%',\n",
       "  'author': 'Полина Лааксо',\n",
       "  'date': None,\n",
       "  'shorts': 'Изменениявступятв силу с 12 апреля 2025 года.',\n",
       "  'link': 'https://vc.ru/money/1919961-kitaj-poshliny-41-na-tovary-iz-ssha',\n",
       "  'category': 'money',\n",
       "  'parse_datetime': '2025-04-11 12:44:57'},\n",
       " {'title': '«Ситибанк» без лицензии Euroclear разблокировал часть замороженных активов россиян — это может быть связано с уходом изРоссии',\n",
       "  'author': 'Евгения Евсеева',\n",
       "  'date': None,\n",
       "  'shorts': 'Так предполагают юристы.',\n",
       "  'link': 'https://vc.ru/invest/1919858-sitibank-razblokiroval-aktivy-rossiyan-bez-litsenzii-euroclear',\n",
       "  'category': 'invest',\n",
       "  'parse_datetime': '2025-04-11 12:44:57'},\n",
       " {'title': 'Простой гид по SEO: 14 базовых советов для улучшения позиций в поиске',\n",
       "  'author': 'RukMarketing',\n",
       "  'date': None,\n",
       "  'shorts': None,\n",
       "  'link': 'https://vc.ru/marketing/1916746-seo-dlya-nachinayushchikh-14-sovetov',\n",
       "  'category': 'marketing',\n",
       "  'parse_datetime': '2025-04-11 12:44:57'},\n",
       " {'title': 'РБК: экспертная группа начала разрабатывать проект регулирования ИИ в России — он запрещает системы с «неприемлемым уровнемриска»',\n",
       "  'author': 'Евгения Евсеева',\n",
       "  'date': None,\n",
       "  'shorts': 'Но законопроекта, который зарегулирует всю деятельность ИИ, пока ждать не стоит.',\n",
       "  'link': 'https://vc.ru/ai/1919715-regulirovanie-ii-v-rossii-proekt-zapreta-sistem-s-vysokim-riskom',\n",
       "  'category': 'ai',\n",
       "  'parse_datetime': '2025-04-11 12:44:57'},\n",
       " {'title': 'Дональд Трамп: «Мне не то чтобы нужен Илон — он мне просто нравится. Мне и Tesla не сдалась, а я еёкупил»',\n",
       "  'author': 'Полина Лааксо',\n",
       "  'date': None,\n",
       "  'shorts': 'Президент США в очередной раз прокомментировал отношения с Маском.',\n",
       "  'link': 'https://vc.ru/flood/1919679-tramp-o-maske-on-mne-prosto-nravitsya',\n",
       "  'category': 'flood',\n",
       "  'parse_datetime': '2025-04-11 12:44:57'},\n",
       " {'title': 'Мощный взлёт рынка акций! Продолжится ли обвал?',\n",
       "  'author': 'Частный инвестор',\n",
       "  'date': None,\n",
       "  'shorts': 'В среду на вечерней торговой сессии российский рынок акций резко взлетел синхронно с рынком США на фоне новостей о приостановке пошлин Трампа на 90 дней. Всего за несколько часов рост рынка составил 7,6%! Американский рынок вырос еще сильнее: индекс S&P500 на 9,52%, а индекс Nasdaq на 12,02%. По-настоящему уникальный день, такое бывало крайне редко…',\n",
       "  'link': 'https://vc.ru/money/1919443-vzlet-rynka-aktsiy-v-rossii-i-ssha',\n",
       "  'category': 'money',\n",
       "  'parse_datetime': '2025-04-11 12:44:57'},\n",
       " {'title': 'Как с ИИ-ботом увеличивать окупаемость рекламы VK в 2 раза',\n",
       "  'author': 'Андрей Анцибор',\n",
       "  'date': None,\n",
       "  'shorts': 'Ручное тестирование рекламных гипотез в 2025 — дорого и долго. Поэтому я с командой перестал бороться с нейросетями и внедрил их в работу. О впечатляющих результатах на клиентских проектах, росте продаж и снижении стоимости трафика, рассказал в этой статье.',\n",
       "  'link': 'https://vc.ru/marketing/1919580-uvelichenie-okupayemosti-reklamy-vk-s-ii-botom',\n",
       "  'category': 'marketing',\n",
       "  'parse_datetime': '2025-04-11 12:44:57'},\n",
       " {'title': 'Как неуверенность и непонимание ценности убивает в тебе продажника',\n",
       "  'author': 'Сергей Котовский',\n",
       "  'date': None,\n",
       "  'shorts': 'Когда-то я искал менеджеров по продажам. Откликнулись люди из разных сфер — даже с высшим образованием в менеджменте и продажах. Но когда я попросил их продать самую дешёвую услугу, справились только двое. Остальные просто… не смогли.',\n",
       "  'link': 'https://vc.ru/life/1918064-kak-neuverennost-ubivaet-prodazhi',\n",
       "  'category': 'life',\n",
       "  'parse_datetime': '2025-04-11 12:44:57'},\n",
       " {'title': 'Новые облигации Атомэнергопром 1Р-05 на размещении',\n",
       "  'author': 'Инвестиции с умом',\n",
       "  'date': None,\n",
       "  'shorts': 'АО «Атомэнергопром» (акционерное общество «Атомный энергопромышленный комплекс») — интегрированная компания госкорпорации «Росатом», консолидирующая гражданские активы российской атомной отрасли.',\n",
       "  'link': 'https://vc.ru/money/1919691-obligatsii-atomenergoprom-1r-05',\n",
       "  'category': 'money',\n",
       "  'parse_datetime': '2025-04-11 12:44:57'},\n",
       " {'title': 'Я ускорил обработку данных в 3 раза, но заслуги присвоила команда',\n",
       "  'author': 'Томас Андерсон',\n",
       "  'date': None,\n",
       "  'shorts': 'Год назад я сменил работу и попал в настоящий ад. Я пишу это не для жалоб, а чтобы помочь тем, кто оказался в похожей ситуации. Спойлер: однозначного решения нет, но есть способы минимизировать ущерб.',\n",
       "  'link': 'https://vc.ru/life/1918842-kak-vyzhit-v-toksichnom-kollektive',\n",
       "  'category': 'life',\n",
       "  'parse_datetime': '2025-04-11 12:44:57'},\n",
       " {'title': 'Я работал в продуктовой команде 7 лет, а потом пришли нейросети',\n",
       "  'author': 'neuroAnn',\n",
       "  'date': None,\n",
       "  'shorts': 'Еще пару лет назад моя работа продакт-менеджера выглядела как бесконечное жонглирование задачами: исследования пользователей, анализ конкурентов, документация, постановка задач, презентации... И так по кругу. Большую часть времени съедали рутинные задачи, которые требовали механической работы, но не давали простора для творчества. А теперь...',\n",
       "  'link': 'https://vc.ru/life/1919309-kak-ii-pomogaet-prodakt-menedzheru-v-rabote',\n",
       "  'category': 'life',\n",
       "  'parse_datetime': '2025-04-11 12:44:57'},\n",
       " {'title': 'Как искать крутых подрядчиков по маркетингу, которые сделают результат',\n",
       "  'author': 'Руслан Хайруллин',\n",
       "  'date': None,\n",
       "  'shorts': 'Таргетологи, директологи, авитологи, срм-маркетологи, smmщики, рилсмейкеры и прочие — тоже люди, хорошие и не очень.',\n",
       "  'link': 'https://vc.ru/marketing/1919633-kak-vybrat-podryadchika-po-marketingu',\n",
       "  'category': 'marketing',\n",
       "  'parse_datetime': '2025-04-11 12:44:57'},\n",
       " {'title': 'Продавцы на маркетплейсах предложили переложить оплату возврата товаров надлежащего качества напокупателей',\n",
       "  'author': 'Полина Лааксо',\n",
       "  'date': None,\n",
       "  'shorts': 'Пока расходы несут сами предприниматели.',\n",
       "  'link': 'https://vc.ru/marketplace/1918210-prodavtsy-marketpleysov-predlagayut-oplatu-vozvrata-na-pokupateley',\n",
       "  'category': 'marketplace',\n",
       "  'parse_datetime': '2025-04-11 12:44:57'},\n",
       " {'title': 'Как мы спасли клиента от банкротства и помогли ему заработать 3.500.000₽ за два месяца',\n",
       "  'author': 'Влад Николаус',\n",
       "  'date': None,\n",
       "  'shorts': 'Как мы смогли реализовать 1.5млн₽ в Яндекс.Директ. Получили 20.000 подписчиков в Telegram канал и привлекли более 90 лидов со средним чеком 393.000₽.',\n",
       "  'link': 'https://vc.ru/marketing/1918725-kak-my-pomogli-klientu-zarabotat-3500000',\n",
       "  'category': 'marketing',\n",
       "  'parse_datetime': '2025-04-11 12:44:57'},\n",
       " {'title': 'День 1143: российские лизинговые компании столкнулись с избытком автомобильнойтехники',\n",
       "  'author': 'Полина Лааксо',\n",
       "  'date': None,\n",
       "  'shorts': 'Собираем новости, события и мнения о рынках, банках и реакциях компаний.',\n",
       "  'link': 'https://vc.ru/money/1919577-rossijskie-lizingovye-kompanii-izbytok-avtomobilej',\n",
       "  'category': 'money',\n",
       "  'parse_datetime': '2025-04-11 12:44:57'},\n",
       " {'title': 'До 25% дивидендами в 2025 году. Топ-10 акций по дивидендной доходности от «Цифра брокер»',\n",
       "  'author': 'igotosochi',\n",
       "  'date': None,\n",
       "  'shorts': 'Дивидендный сезон всё ближе, значит каждые уважающие себя аналитики должны успеть сделать свои прогнозы, и лучше, если сразу до конца года. Цифра выкатила своё видение, посмотрим.',\n",
       "  'link': 'https://vc.ru/money/1919257-top-10-aktsiy-s-dividendami-do-25-v-2025-godu-ot-tsifra-broker',\n",
       "  'category': 'money',\n",
       "  'parse_datetime': '2025-04-11 12:44:57'},\n",
       " {'title': '🏦 Сбербанк и мартовский отчёт: 400 млрд прибыли, щедрые дивиденды и -12% по акциям. Уже пора брать или геополитика против?',\n",
       "  'author': 'Суцкевер Семен - Fond&Flow',\n",
       "  'date': None,\n",
       "  'shorts': 'Падает всё, кроме прибыли. Сбербанк заработал 400+ млрд за квартал, а инвесторы всё равно распродают.Где же правда — в панике или отчёте?',\n",
       "  'link': 'https://vc.ru/money/1919342-sberbank-martovskiy-otchet-2024-pribyl-400-mlrd',\n",
       "  'category': 'money',\n",
       "  'parse_datetime': '2025-04-11 12:44:57'},\n",
       " {'title': 'Курс биткоина пошел по условиям для падения. В каком случае растем к $85596? В каком случае падаем к $71456?',\n",
       "  'author': 'Деньгов Никита',\n",
       "  'date': None,\n",
       "  'shorts': 'Во вчерашнемвидео-разборея подробно описывал условия для падения цены. Мы видим, что условия выполнены и цена в процессе падения. Сегодня произошел пересчет локальных данных. При каких условиях цена сможет достать ликвидность сверху в районе $85596? При каких цена продолжит обновлять минимумы и упадет в район $71456?',\n",
       "  'link': 'https://vc.ru/u/2271569-dengov-nikita/1919538-prognoz-kursa-bitkoina-rost-k-85596-ili-padenie-k-71456',\n",
       "  'category': 'u',\n",
       "  'parse_datetime': '2025-04-11 12:44:58'},\n",
       " {'title': 'Хайп на тему AGI не утихает, а тем временем нас лишают открытых технологий для памяти нейросетей',\n",
       "  'author': 'Алексей Иванов',\n",
       "  'date': None,\n",
       "  'shorts': 'Все сейчас говорят об AGI— искусственном интеллекте, который будет думать и действовать как человек. Сэм Альтман, глава OpenAI, активно подогревает интерес к этой теме. И это, конечно, звучит захватывающе. Но вот что странно: почтиникто не упоминает о том, что сейчас нейросети не могут запоминатьважные детали и использовать их в будущих разговор…',\n",
       "  'link': 'https://vc.ru/ai/1919354-problemy-pamyati-neyrosetey-i-agi-chto-skryvaet-openai',\n",
       "  'category': 'ai',\n",
       "  'parse_datetime': '2025-04-11 12:44:58'},\n",
       " {'title': 'Как я создал клуб для фрилансеров, в котором они теперь не одиноки',\n",
       "  'author': 'Dmitry Kyznecov',\n",
       "  'date': None,\n",
       "  'shorts': None,\n",
       "  'link': 'https://vc.ru/marketing/1919327-kak-sozdat-klub-dlya-frilanserov',\n",
       "  'category': 'marketing',\n",
       "  'parse_datetime': '2025-04-11 12:44:58'},\n",
       " {'title': 'Рабочий vs Предприниматель',\n",
       "  'author': 'Ирина Курбанова',\n",
       "  'date': None,\n",
       "  'shorts': 'Что общего между рабочим, вкалывающим по 12 часов день на стройке, и предпринимателем, погрязшем в текучке?',\n",
       "  'link': 'https://vc.ru/opinions/1915659-rabochiy-i-predprinimatel',\n",
       "  'category': 'opinions',\n",
       "  'parse_datetime': '2025-04-11 12:44:58'},\n",
       " {'title': 'OpenAI обновила «память» у ChatGPT — бот теперь может запоминать всечаты',\n",
       "  'author': 'Таня Боброва',\n",
       "  'date': None,\n",
       "  'shorts': 'И, например, напомнить содержание разговора, который был несколько дней назад.',\n",
       "  'link': 'https://vc.ru/chatgpt/1918921-obnovlenie-pamyati-chatgpt-ot-openai',\n",
       "  'category': 'chatgpt',\n",
       "  'parse_datetime': '2025-04-11 12:44:58'},\n",
       " {'title': 'Настольный мерч: в какие игры можно интегрировать бренд?',\n",
       "  'author': 'Станислав Грушевский',\n",
       "  'date': None,\n",
       "  'shorts': None,\n",
       "  'link': 'https://vc.ru/marketing/1919121-nastolnyy-merch-dlya-brendov-idei-integratsii-v-igry',\n",
       "  'category': 'marketing',\n",
       "  'parse_datetime': '2025-04-11 12:44:58'},\n",
       " {'title': 'Nvidia разработала модель, которая по одному запросу создаёт минутные ролики со «сложнымиисториями»',\n",
       "  'author': 'Ася Карпова',\n",
       "  'date': None,\n",
       "  'shorts': 'Для демонстрации исследователи обучили ИИ на мультфильмах «Том и Джерри» и сгенерировали новые «серии».',\n",
       "  'link': 'https://vc.ru/ai/1918974-nvidia-razrabotala-ii-dlya-sozdaniya-rolikov',\n",
       "  'category': 'ai',\n",
       "  'parse_datetime': '2025-04-11 12:44:58'},\n",
       " {'title': 'Застройщики начали давать скидки на квартиры в новостройках',\n",
       "  'author': 'Недвижимость',\n",
       "  'date': None,\n",
       "  'shorts': 'Да-да, наконец-то появились реальные скидки, а не вот это вот всё.',\n",
       "  'link': 'https://vc.ru/money/1919100-skidki-na-kvartiry-v-novostroykakh-moskvy',\n",
       "  'category': 'money',\n",
       "  'parse_datetime': '2025-04-11 12:44:58'},\n",
       " {'title': 'Как я увеличила количество заявок на строительство каркасных домов на 58% по цене всего 442 ₽ и меня уволили.',\n",
       "  'author': 'Ксения Жукова',\n",
       "  'date': None,\n",
       "  'shorts': 'Это рассказ о том, как моя грамотная система лидогенерации рвёт статистику, а начальство рвёт договор — матчасть для тех, кто верит в цифры больше, чем в «мы всегда так делали».',\n",
       "  'link': 'https://vc.ru/marketing/1918519-kak-uvelichit-zayavki-na-stroitelstvo-karkasnykh-domov',\n",
       "  'category': 'marketing',\n",
       "  'parse_datetime': '2025-04-11 12:44:58'},\n",
       " {'title': 'Белый дом заявил, что суммарные пошлины США против Китая составляют145%',\n",
       "  'author': 'Таня Боброва',\n",
       "  'date': None,\n",
       "  'shorts': 'А не 125%, как сообщил Трамп.',\n",
       "  'link': 'https://vc.ru/money/1918920-poshliny-ssha-na-kitay-145',\n",
       "  'category': 'money',\n",
       "  'parse_datetime': '2025-04-11 12:44:58'},\n",
       " {'title': 'Новая реальность ИИ: меньше, лучше, дешевле',\n",
       "  'author': 'Sherpa RPA',\n",
       "  'date': None,\n",
       "  'shorts': 'Привет, друзья! В этой статье мы хочтим поделиться с вами анализом свежего отчета от Стэнфордского университета, который показывает, как меняется ландшафт технологий ИИ в 2025 году. Особенно интересно, что 2024 год стал переломным для компактных моделей, которые теперь способны конкурировать с гигантами индустрии.',\n",
       "  'link': 'https://vc.ru/u/2983287-sherpa-rpa/1918871-iskusstvennyj-intellekt-2025-kompaktnye-modeli',\n",
       "  'category': 'u',\n",
       "  'parse_datetime': '2025-04-11 12:44:58'},\n",
       " {'title': 'Началось: мои знакомые один за другим начали беднеть из-за ChatGPT',\n",
       "  'author': 'Александр Иванищев',\n",
       "  'date': None,\n",
       "  'shorts': 'Это не абстрактные заокеанские примеры, как Amazon в очередной раз уволил всех сотрудников и заменил их роботами. Это происходит прямо сейчас у нас, у обычных людей, которые еще пару лет назад даже и предположить не могли об этом.',\n",
       "  'link': 'https://vc.ru/ai/1918830-kak-chatgpt-vliyaet-na-dohody',\n",
       "  'category': 'ai',\n",
       "  'parse_datetime': '2025-04-11 12:44:58'},\n",
       " {'title': 'В России закрылись более 210 китайских автосалонов в первом квартале 2025 года — в три раза больше год кгоду',\n",
       "  'author': 'Таня Боброва',\n",
       "  'date': None,\n",
       "  'shorts': 'На фоне падения всего российского авторынка.',\n",
       "  'link': 'https://vc.ru/transport/1916014-v-rossii-zakrylis-213-kitayskikh-avtosalonov-2025',\n",
       "  'category': 'transport',\n",
       "  'parse_datetime': '2025-04-11 12:44:58'},\n",
       " {'title': 'Самозапрет на кредиты в 2025 году: как оформить и для чегонужен',\n",
       "  'author': 'Валерия Ильина',\n",
       "  'date': None,\n",
       "  'shorts': 'Ещё один барьер для мошенников, но бдительность по-прежнему крайне важна.',\n",
       "  'link': 'https://vc.ru/money/1918724-samozapret-na-kredity-2025',\n",
       "  'category': 'money',\n",
       "  'parse_datetime': '2025-04-11 12:44:58'},\n",
       " {'title': 'Как и зачем проводить A/B тестирование для рекламных объявлений?',\n",
       "  'author': 'Директолог который пишет',\n",
       "  'date': None,\n",
       "  'shorts': None,\n",
       "  'link': 'https://vc.ru/marketing/1903880-ab-testirovanie-reklamnyh-ob-yavlenij-v-yandeks-direkt',\n",
       "  'category': 'marketing',\n",
       "  'parse_datetime': '2025-04-11 12:44:58'},\n",
       " {'title': 'Как доказать, что имущество было куплено до брака? Объясняет Податьвсуд.РФ',\n",
       "  'author': 'Податьвсуд.РФ',\n",
       "  'date': None,\n",
       "  'shorts': 'Закон действительно защищает личную собственность, но доказывать её принадлежность придётся в суде. Разберёмся, как это сделать.',\n",
       "  'link': 'https://vc.ru/legal/1917742-kak-dokazat-imushchestvo-do-braka',\n",
       "  'category': 'legal',\n",
       "  'parse_datetime': '2025-04-11 12:44:58'}]"
      ]
     },
     "execution_count": 41,
     "metadata": {},
     "output_type": "execute_result"
    }
   ],
   "source": [
    "articles_data"
   ]
  },
  {
   "cell_type": "markdown",
   "id": "eeb39167-1f7d-40d5-9481-bc53b3e4049f",
   "metadata": {},
   "source": [
    "#### Обновленная функция"
   ]
  },
  {
   "cell_type": "code",
   "execution_count": null,
   "id": "5b205678-9eb8-4244-a7b3-03f7f882f47f",
   "metadata": {},
   "outputs": [],
   "source": [
    "import pandas as pd\n",
    "from datetime import datetime\n",
    "\n",
    "def update_data(\n",
    "    new_data: list[dict],\n",
    "    csv_path: str = \"data/output/articles.csv\",\n",
    "    json_path: str = \"data/output/articles.json\"\n",
    ") -> None:\n",
    "    \"\"\"\n",
    "    Обновляет данные, сохраняя первую дату появления записи.\n",
    "    \n",
    "    Параметры:\n",
    "        new_data (list[dict]): Свежие данные (каждый элемент — словарь с полями, включая 'parse_datetime').\n",
    "        csv_path (str): Путь к CSV-файлу.\n",
    "        json_path (str): Путь к JSON-файлу.\n",
    "    \"\"\"\n",
    "    try:\n",
    "        # Загрузка старых данных (если файл существует)\n",
    "        try:\n",
    "            old_df = pd.read_csv(csv_path)\n",
    "            old_df[\"parse_datetime\"] = pd.to_datetime(old_df[\"parse_datetime\"])\n",
    "        except FileNotFoundError:\n",
    "            old_df = pd.DataFrame()\n",
    "\n",
    "        # Конвертация новых данных в DataFrame\n",
    "        new_df = pd.DataFrame(new_data)\n",
    "        new_df[\"parse_datetime\"] = pd.to_datetime(new_df[\"parse_datetime\"])\n",
    "\n",
    "        # Объединение данных\n",
    "        combined_df = pd.concat([old_df, new_df], ignore_index=True)\n",
    "\n",
    "        # Удаление дубликатов с сохранением новых данных + оригинальной даты первого появления\n",
    "        combined_df[\"first_seen\"] = combined_df.groupby(\"title\")[\"parse_datetime\"].transform(\"min\")\n",
    "        combined_df = combined_df.sort_values(\"parse_datetime\", ascending=False).drop_duplicates(\"title\", keep=\"first\")\n",
    "\n",
    "        # Восстанавливаем исходную дату первого появления\n",
    "        combined_df[\"parse_datetime\"] = combined_df[\"first_seen\"]\n",
    "        combined_df = combined_df.drop(columns=\"first_seen\")\n",
    "\n",
    "        # Сохранение\n",
    "        combined_df.to_csv(csv_path, index=False, encoding='utf-8')\n",
    "        combined_df.to_json(json_path, orient=\"records\", force_ascii=False, indent=2)\n",
    "        print(f\"✅ Данные обновлены. Уникальных записей: {len(combined_df)}\")\n",
    "\n",
    "    except Exception as e:\n",
    "        print(f\"🚨 Ошибка: {e}\")\n",
    "\n",
    "# Пример вызова\n",
    "new_articles = [\n",
    "    {\n",
    "        \"title\": \"Новость 1\",\n",
    "        \"author\": \"Автор 1\",\n",
    "        \"parse_datetime\": \"2025-01-10 12:00:00\",  # Новая дата парсинга\n",
    "        # ...остальные поля\n",
    "    },\n",
    "    # ...\n",
    "]\n",
    "update_data(new_articles)"
   ]
  },
  {
   "cell_type": "code",
   "execution_count": null,
   "id": "0ed220ec-dffe-417a-92c6-aa26e6072774",
   "metadata": {},
   "outputs": [],
   "source": []
  },
  {
   "cell_type": "markdown",
   "id": "445015df-c4ae-418a-aaca-3dbe9a6968e7",
   "metadata": {},
   "source": [
    "## V7 - Финальная версия функций для Selenium"
   ]
  },
  {
   "cell_type": "code",
   "execution_count": 1,
   "id": "dee68d29-f72a-4077-ac85-a52518026682",
   "metadata": {},
   "outputs": [
    {
     "name": "stdout",
     "output_type": "stream",
     "text": [
      "77. Hello Nick!\n",
      "88. Notebook testing SCHEDULE\n",
      "111. Token_&_CHAT_ID - Gut !!\n"
     ]
    }
   ],
   "source": [
    "# Загрузка библиотек\n",
    "# Для вспомогательных функций и основного парсера\n",
    "import os\n",
    "import requests\n",
    "from bs4 import BeautifulSoup\n",
    "from datetime import datetime\n",
    "from urllib.parse import urljoin\n",
    "\n",
    "# Для экспорта/импорта временных данных\n",
    "import json\n",
    "import csv\n",
    "\n",
    "# Для работы с динамическими сайтами\n",
    "from selenium import webdriver\n",
    "from selenium.webdriver.common.by import By\n",
    "from selenium.webdriver.chrome.service import Service\n",
    "from selenium.webdriver.chrome.options import Options\n",
    "from selenium.webdriver.common.action_chains import ActionChains\n",
    "from webdriver_manager.chrome import ChromeDriverManager\n",
    "import time\n",
    "import random\n",
    "\n",
    "# Обновление CSV/JSON с дедупликацией\n",
    "import pandas as pd\n",
    "\n",
    "# Google Sheets\n",
    "from gspread import Client, Spreadsheet, Worksheet, service_account, exceptions\n",
    "from typing import Optional, List, Dict\n",
    "\n",
    "# Библиотеки для ТелеБОТа\n",
    "import telebot\n",
    "# для указание типов\n",
    "from telebot import types\n",
    "# токен лежит в файле config.py\n",
    "import config"
   ]
  },
  {
   "cell_type": "markdown",
   "id": "953806fb-6f5d-4274-bdb6-ddbdc2df1202",
   "metadata": {},
   "source": [
    "### HUMAN_LIKE_INTERACTION - Имитирует действия человека"
   ]
  },
  {
   "cell_type": "code",
   "execution_count": 2,
   "id": "541ab53e-dc29-4e19-a0b1-bc0fd2f54edb",
   "metadata": {},
   "outputs": [],
   "source": [
    "def human_like_interaction(driver):\n",
    "    \"\"\"Имитирует действия человека: плавная прокрутка, hover, случайные паузы.\"\"\"\n",
    "    # Плавная прокрутка (3-5 сек)\n",
    "    scroll_pause = random.uniform(3, 5)\n",
    "    scroll_amount = random.randint(800, 1200)\n",
    "    driver.execute_script(f\"window.scrollBy(0, {scroll_amount});\")\n",
    "    time.sleep(scroll_pause)\n",
    "\n",
    "    # Случайный hover на элементы (30% вероятность)\n",
    "    if random.random() > 0.7:\n",
    "        elements = driver.find_elements(By.CSS_SELECTOR, \".content-title, .author__name, .content-header__item\")\n",
    "        if elements:\n",
    "            element = random.choice(elements)\n",
    "            ActionChains(driver).move_to_element(element).pause(1).perform()\n",
    "            time.sleep(random.uniform(1, 2))"
   ]
  },
  {
   "cell_type": "markdown",
   "id": "4f1a2266-e3fe-4b64-a9ad-4ac2cb9be433",
   "metadata": {},
   "source": [
    "### DYNAMIC_PARSE - Динамически загружает контент в локальный html файл"
   ]
  },
  {
   "cell_type": "code",
   "execution_count": 3,
   "id": "7425ec5a-ad32-468d-8fda-25c996957737",
   "metadata": {},
   "outputs": [],
   "source": [
    "def dynamic_parse(url=\"https://vc.ru/new\", max_scrolls=10):\n",
    "    \"\"\"\n",
    "    Динамически загружает контент с имитацией поведения человека.\n",
    "    \n",
    "    Параметры:\n",
    "        url (str): URL для парсинга\n",
    "        max_scrolls (int): Максимальное число прокруток\n",
    "        \n",
    "    Возвращает:\n",
    "        str: HTML-контент или None при ошибке\n",
    "    \"\"\"\n",
    "    try:\n",
    "        # Настройка драйвера\n",
    "        service = Service(ChromeDriverManager().install())\n",
    "        options = webdriver.ChromeOptions()\n",
    "        options.add_argument(\"--disable-blink-features=AutomationControlled\")\n",
    "        options.add_argument(f\"user-agent=Mozilla/5.0 (Windows NT 10.0; Win64; x64) AppleWebKit/537.36 (KHTML, like Gecko) Chrome/{random.randint(90, 115)}.0.0.0 Safari/537.36\")\n",
    "        \n",
    "        driver = webdriver.Chrome(service=service, options=options)\n",
    "        driver.get(url)\n",
    "\n",
    "        # Счетчик прокрутки\n",
    "        count = 1\n",
    "\n",
    "        # Основной цикл прокрутки\n",
    "        for _ in range(max_scrolls):\n",
    "            human_like_interaction(driver)\n",
    "            print(f\"\\tПрокрутка: {count}\")\n",
    "            count+=1\n",
    "            # Проверка на кнопку \"Показать ещё\" (если есть)\n",
    "            try:\n",
    "                more_btn = driver.find_element(By.CSS_SELECTOR, \".button-more\")\n",
    "                if more_btn.is_displayed():\n",
    "                    more_btn.click()\n",
    "                    time.sleep(random.uniform(2, 4))\n",
    "            except:\n",
    "                pass\n",
    "                \n",
    "        print(f\"\\tПрокручено: {count} раз!\")\n",
    "        print(\"\\n✅ 1. HTML сохранён с динамическим контентом!\")\n",
    "        return driver.page_source\n",
    "\n",
    "    except Exception as e:\n",
    "        print(f\"🚨 Ошибка в dynamic_parse(): {type(e).__name__} - {str(e)}\")\n",
    "        return None\n",
    "    finally:\n",
    "        if 'driver' in locals():\n",
    "            driver.quit()"
   ]
  },
  {
   "cell_type": "code",
   "execution_count": 4,
   "id": "a1b8122b-2d9f-4f18-bc52-9eb2f52eaf1e",
   "metadata": {
    "collapsed": true,
    "jupyter": {
     "outputs_hidden": true
    }
   },
   "outputs": [
    {
     "name": "stdout",
     "output_type": "stream",
     "text": [
      "Прокрутка: 1\n",
      "Прокрутка: 2\n",
      "Прокрутка: 3\n",
      "Прокрутка: 4\n",
      "Прокрутка: 5\n",
      "Прокрутка: 6\n",
      "Прокрутка: 7\n",
      "Прокрутка: 8\n",
      "Прокрутка: 9\n",
      "Прокрутка: 10\n",
      "Прокрутка: 11\n",
      "Прокрутка: 12\n",
      "Прокрутка: 13\n",
      "Прокрутка: 14\n",
      "Прокрутка: 15\n",
      "Прокрутка: 16\n",
      "Прокрутка: 17\n",
      "Прокрутка: 18\n",
      "Прокрутка: 19\n",
      "Прокрутка: 20\n",
      "Прокрутка: 21\n",
      "Прокрутка: 22\n",
      "Прокрутка: 23\n",
      "Прокрутка: 24\n",
      "Прокрутка: 25\n",
      "Прокрутка: 26\n",
      "Прокрутка: 27\n",
      "Прокрутка: 28\n",
      "Прокрутка: 29\n",
      "Прокрутка: 30\n",
      "Прокрутка: 31\n",
      "Прокрутка: 32\n",
      "Прокрутка: 33\n",
      "Прокрутка: 34\n",
      "Прокрутка: 35\n",
      "Прокрутка: 36\n",
      "Прокрутка: 37\n",
      "Прокрутка: 38\n",
      "Прокрутка: 39\n",
      "Прокрутка: 40\n",
      "Прокрутка: 41\n",
      "Прокрутка: 42\n",
      "Прокрутка: 43\n",
      "Прокрутка: 44\n",
      "Прокрутка: 45\n",
      "Прокрутка: 46\n",
      "Прокрутка: 47\n",
      "Прокрутка: 48\n",
      "Прокрутка: 49\n",
      "Прокрутка: 50\n",
      "Прокручено: 51 раз!\n",
      "✅ HTML сохранён с динамическим контентом!\n",
      "Скрипт отработал: 2025-04-27 22:09:43\n"
     ]
    }
   ],
   "source": [
    "# Пример использования\n",
    "if __name__ == \"__main__\":\n",
    "    # html = dynamic_parse()\n",
    "    html = dynamic_parse(max_scrolls=50)\n",
    "    if html:\n",
    "        with open(\"data/interim/dynamic_page.html\", \"w\", encoding=\"utf-8\") as f:\n",
    "            f.write(html)\n",
    "        print(\"✅ 1. HTML сохранён с динамическим контентом!\")\n",
    "        print(\"Скрипт отработал:\", datetime.now().strftime('%Y-%m-%d %H:%M:%S'))"
   ]
  },
  {
   "cell_type": "markdown",
   "id": "27898113-5f0f-47cd-9813-84415182df59",
   "metadata": {},
   "source": [
    "### PARSE_ARTICLES - Запуск основной функции парсинга"
   ]
  },
  {
   "cell_type": "markdown",
   "id": "857c2fab-56e6-49db-b5e9-de2cf1b9e3dd",
   "metadata": {},
   "source": [
    "#### --- Вспомогательные функции --- GET_TEXT - GET_LINK - EXTRACT_CATEGORY - LOAD_OR_FETCH_HTML"
   ]
  },
  {
   "cell_type": "code",
   "execution_count": 13,
   "id": "ac35d5b8-448e-4bae-a68e-f4a89f47b711",
   "metadata": {},
   "outputs": [],
   "source": [
    "def get_text_or_none(parent, selector):\n",
    "    \"\"\"Извлекает текст из элемента или возвращает None, если элемент не найден.\"\"\"\n",
    "    element = parent.select_one(selector)\n",
    "    return element.get_text(strip=True) if element else None\n",
    "\n",
    "def get_link(parent, selector, host):\n",
    "    \"\"\"Извлекает URL ссылки, объединяя с host.\"\"\"\n",
    "    element = parent.select_one(selector)\n",
    "    return urljoin(host, element['href']) if element and 'href' in element.attrs else None\n",
    "\n",
    "def extract_category(url):\n",
    "    \"\"\"Извлекает категорию из URL (например, 'marketing' из 'https://vc.ru/marketing/123').\"\"\"\n",
    "    if not url:\n",
    "        return None\n",
    "    parts = url.replace(host, '').strip('/').split('/')\n",
    "    return parts[0] if parts else None\n",
    "\n",
    "def load_or_fetch_html(url, cache_path, headers=None, timeout=10):\n",
    "    \"\"\"Загружает HTML из кеша или скачивает с сайта.\"\"\"\n",
    "    os.makedirs(os.path.dirname(cache_path), exist_ok=True)\n",
    "    if os.path.exists(cache_path):\n",
    "        with open(cache_path, 'r', encoding='utf-8') as f:\n",
    "            return f.read()\n",
    "    try:\n",
    "        response = requests.get(url, headers=headers, timeout=timeout)\n",
    "        response.raise_for_status()\n",
    "        with open(cache_path, 'w', encoding='utf-8') as f:\n",
    "            f.write(response.text)\n",
    "        return response.text\n",
    "    except requests.exceptions.RequestException as e:\n",
    "        print(f\"Ошибка: {e}\")\n",
    "        return None"
   ]
  },
  {
   "cell_type": "markdown",
   "id": "06070889-9a6f-4d25-b690-f315979d39da",
   "metadata": {},
   "source": [
    "#### Исправленная функция"
   ]
  },
  {
   "cell_type": "code",
   "execution_count": 5,
   "id": "62b793ba-4fba-4924-a645-7cfb5be290b4",
   "metadata": {},
   "outputs": [],
   "source": [
    "def parse_articles(html_content, host):\n",
    "    soup = BeautifulSoup(html_content, 'html.parser')\n",
    "    articles = soup.find('div', class_='content-list')\n",
    "    if not articles:\n",
    "        raise ValueError(\"Секция с новостями не найдена\")\n",
    "\n",
    "    results = []\n",
    "    for article in articles.find_all('div', class_='content--short'):\n",
    "        # Ищем тег <time> внутри статьи\n",
    "        time_tag = article.find('time')\n",
    "        \n",
    "        # Извлекаем дату из атрибута datetime (формат ISO 8601)\n",
    "        if time_tag and time_tag.has_attr('datetime'):\n",
    "            date_iso = time_tag['datetime']  # \"2025-04-12T09:43:34.000Z\"\n",
    "            # Конвертируем в нужный формат (опционально)\n",
    "            date_formatted = datetime.fromisoformat(date_iso.replace('Z', '+00:00')).strftime('%d.%m.%Y в %H:%M')\n",
    "        else:\n",
    "            date_iso = None\n",
    "            date_formatted = None\n",
    "\n",
    "        data = {\n",
    "            'title': get_text_or_none(article, 'div.content-title'),\n",
    "            'author': get_text_or_none(article, 'a.author__name'),\n",
    "            'date': date_formatted,  # Формат \"12.04.2025 в 12:43\"\n",
    "            # 'date_iso': date_iso, # Сохраняем оригинальный ISO-формат\n",
    "            # 'date_formatted': date_formatted,  # Формат \"12.04.2025 в 12:43\"\n",
    "            'shorts': get_text_or_none(article, 'div.block-text'),\n",
    "            'link': get_link(article, 'a.content__link', host),\n",
    "            'category': extract_category(get_link(article, 'a.content__link', host)),\n",
    "            'parse_datetime': datetime.now().strftime('%d.%m.%Y. %H:%M:%S')\n",
    "        }\n",
    "        results.append(data)\n",
    "\n",
    "    print(\"\\n✅ 2. Парсинг новостей прошёл успешно!\")\n",
    "    return results"
   ]
  },
  {
   "cell_type": "markdown",
   "id": "c3c46a45-f73f-4be7-ad9b-a1560718728a",
   "metadata": {},
   "source": [
    "#### --- Конфигурация --- Запуск функции"
   ]
  },
  {
   "cell_type": "code",
   "execution_count": 9,
   "id": "b1c6f782-a1e0-4829-a904-cb3f7ee958ab",
   "metadata": {},
   "outputs": [],
   "source": [
    "# --- Конфигурация ---\n",
    "# URL = \"https://vc.ru/new\"\n",
    "HOST = \"https://vc.ru\"\n",
    "# HEADERS = {\"User-Agent\": \"Mozilla/5.0\"}\n",
    "# TEMP_HTML_PATH = \"data/interim/vc_ru_temp.html\""
   ]
  },
  {
   "cell_type": "code",
   "execution_count": 28,
   "id": "c5caada0-0073-45e9-8ed7-054827ee05d7",
   "metadata": {},
   "outputs": [],
   "source": [
    "# Запуск осовной функции\n",
    "# HOST = \"https://vc.ru\"\n",
    "# articles_data = parse_articles(html, HOST)"
   ]
  },
  {
   "cell_type": "markdown",
   "id": "0a506d9f-1a46-407d-8761-da50b5735528",
   "metadata": {},
   "source": [
    "### UPDATE_DATA - Обновление CSV/JSON с дедупликацией"
   ]
  },
  {
   "cell_type": "markdown",
   "id": "2b54466c-dd7f-4615-a9e0-0b18de2219ef",
   "metadata": {
    "jp-MarkdownHeadingCollapsed": true
   },
   "source": [
    "#### Алгоритм:\n",
    "Загружаем существующие данные из файла.\n",
    "Объединяем со свежими данными.\n",
    "Удаляем дубликаты по title или link.\n",
    "Сохраняем обновлённый файл."
   ]
  },
  {
   "cell_type": "code",
   "execution_count": 6,
   "id": "c03d653b-acdf-4239-b14e-e427f2ce94de",
   "metadata": {},
   "outputs": [],
   "source": [
    "# import pandas as pd\n",
    "\n",
    "def update_data(new_data, csv_path=\"data/output/articles.csv\", json_path=\"data/output/articles.json\"):\n",
    "    # Загрузка старых данных (если файл есть)\n",
    "    try:\n",
    "        old_df = pd.read_csv(csv_path)\n",
    "    except FileNotFoundError:\n",
    "        old_df = pd.DataFrame()\n",
    "\n",
    "    # Объединение + удаление дубликатов\n",
    "    combined_df = pd.concat([old_df, pd.DataFrame(new_data)])\n",
    "    combined_df.drop_duplicates(subset=[\"title\"], keep=\"last\", inplace=True)  # Или \"link\"\n",
    "\n",
    "    # Сохранение\n",
    "    combined_df.to_csv(csv_path, index=False, encoding='utf-8')\n",
    "    combined_df.to_json(json_path, orient=\"records\", force_ascii=False, indent=2)\n",
    "    print(f\"Данные обновлены. Уникальных записей: {len(combined_df)}\")"
   ]
  },
  {
   "cell_type": "code",
   "execution_count": 12,
   "id": "aed46c8b-8033-40f5-b839-1fc1d8af9712",
   "metadata": {},
   "outputs": [
    {
     "name": "stdout",
     "output_type": "stream",
     "text": [
      "Данные обновлены. Уникальных записей: 72\n"
     ]
    }
   ],
   "source": [
    "# Обновление CSV/JSON с дедупликацией\n",
    "if __name__ == \"__main__\":\n",
    "    update_data(articles_data)"
   ]
  },
  {
   "cell_type": "code",
   "execution_count": 27,
   "id": "ab205277-7cbe-4cbb-a8de-4062be3c9add",
   "metadata": {
    "jupyter": {
     "source_hidden": true
    }
   },
   "outputs": [
    {
     "name": "stdout",
     "output_type": "stream",
     "text": [
      "Данные обновлены. Уникальных записей: 12\n"
     ]
    }
   ],
   "source": [
    "# Обновление CSV/JSON с дедупликацией\n",
    "if __name__ == \"__main__\":\n",
    "    update_data(articles_data, csv_path=\"data/output/vc_ru_articles.csv\", json_path=\"data/output/vc_ru_articles.json\")"
   ]
  },
  {
   "cell_type": "code",
   "execution_count": 13,
   "id": "3c20e37a-d1d1-49bb-8937-45f6617f5ef4",
   "metadata": {},
   "outputs": [],
   "source": [
    "# Обновление CSV/JSON с дедупликацией\n",
    "# if __name__ == \"__main__\":\n",
    "#     update_data(articles_data, csv_path=\"data/output/vc_ru_articles.csv\", json_path=\"data/output/vc_ru_articles.json\")"
   ]
  },
  {
   "cell_type": "code",
   "execution_count": null,
   "id": "8acda908-fb94-40b7-b723-951b74a23e40",
   "metadata": {},
   "outputs": [],
   "source": []
  },
  {
   "cell_type": "markdown",
   "id": "f3b1a260-842c-4ec0-ae75-9c6ebab190fe",
   "metadata": {
    "jp-MarkdownHeadingCollapsed": true
   },
   "source": [
    "#### Вот модернизированная функция `update_data()`, которая:\n",
    "1. Сохраняет **первую дату создания** записи (`first_seen`),  \n",
    "2. Удаляет дубликаты, оставляя **новые данные**, но с оригинальной датой первого появления."
   ]
  },
  {
   "cell_type": "code",
   "execution_count": 40,
   "id": "2221860f-4b4c-480c-8f8d-fcdd24425211",
   "metadata": {},
   "outputs": [],
   "source": [
    "# import pandas as pd\n",
    "# from datetime import datetime\n",
    "\n",
    "def update_data(\n",
    "    new_data: list[dict],\n",
    "    csv_path: str = \"data/output/articles.csv\",\n",
    "    json_path: str = \"data/output/articles.json\"\n",
    ") -> None:\n",
    "    \"\"\"\n",
    "    Обновляет данные, сохраняя первую дату появления записи.\n",
    "    \n",
    "    Параметры:\n",
    "        new_data (list[dict]): Свежие данные (каждый элемент — словарь с полями, включая 'parse_datetime').\n",
    "        csv_path (str): Путь к CSV-файлу.\n",
    "        json_path (str): Путь к JSON-файлу.\n",
    "    \"\"\"\n",
    "    try:\n",
    "        # Загрузка старых данных (если файл существует)\n",
    "        try:\n",
    "            old_df = pd.read_csv(csv_path)\n",
    "            old_df[\"parse_datetime\"] = pd.to_datetime(old_df[\"parse_datetime\"])\n",
    "        except FileNotFoundError:\n",
    "            old_df = pd.DataFrame()\n",
    "\n",
    "        # Конвертация новых данных в DataFrame\n",
    "        new_df = pd.DataFrame(new_data)\n",
    "        new_df[\"parse_datetime\"] = pd.to_datetime(new_df[\"parse_datetime\"])\n",
    "\n",
    "        # Объединение данных\n",
    "        combined_df = pd.concat([old_df, new_df], ignore_index=True)\n",
    "\n",
    "        # Удаление дубликатов с сохранением новых данных + оригинальной даты первого появления\n",
    "        combined_df[\"first_seen\"] = combined_df.groupby(\"title\")[\"parse_datetime\"].transform(\"min\")\n",
    "        combined_df = combined_df.sort_values(\"parse_datetime\", ascending=False).drop_duplicates(\"title\", keep=\"first\")\n",
    "\n",
    "        # Восстанавливаем исходную дату первого появления\n",
    "        combined_df[\"parse_datetime\"] = combined_df[\"first_seen\"]\n",
    "        combined_df = combined_df.drop(columns=\"first_seen\")\n",
    "\n",
    "        # Сохранение\n",
    "        combined_df.to_csv(csv_path, index=False, encoding='utf-8')\n",
    "        combined_df.to_json(json_path, orient=\"records\", force_ascii=False, indent=2)\n",
    "        print(f\"✅ Данные обновлены. Уникальных записей: {len(combined_df)}\")\n",
    "\n",
    "    except Exception as e:\n",
    "        print(f\"🚨 Ошибка в update_data(): {e}\")"
   ]
  },
  {
   "cell_type": "code",
   "execution_count": null,
   "id": "324b61f7-5677-473e-97ee-35b77ee06e79",
   "metadata": {},
   "outputs": [],
   "source": [
    "# Пример вызова\n",
    "new_articles = [\n",
    "    {\n",
    "        \"title\": \"Новость 1\",\n",
    "        \"author\": \"Автор 1\",\n",
    "        \"parse_datetime\": \"2025-01-10 12:00:00\",  # Новая дата парсинга\n",
    "        # ...остальные поля\n",
    "    },\n",
    "    # ...\n",
    "]\n",
    "update_data(new_articles)"
   ]
  },
  {
   "cell_type": "markdown",
   "id": "8d6ed6b3-ef9e-4e6e-8196-27d5efa56f04",
   "metadata": {},
   "source": [
    "##### 🔍 **Ключевые изменения:**\n",
    "1. **Сохранение первой даты (`first_seen`)**  \n",
    "   - Группировка по `title` и поиск минимальной даты с помощью `groupby() + transform(\"min\")`.  \n",
    "2. **Приоритет новых данных**  \n",
    "   - Сортировка по `parse_datetime` (новые записи выше) + `drop_duplicates(keep=\"first\")`.  \n",
    "3. **Восстановление оригинальной даты**  \n",
    "   - После дедупликации возвращаем `first_seen` в `parse_datetime`. "
   ]
  },
  {
   "cell_type": "markdown",
   "id": "42f351e9-f77c-43bc-bad3-e43294d699e9",
   "metadata": {},
   "source": [
    "#### Доработанная функция update_data(), для работы с форматом даты \"%d.%m.%Y. %H:%M:%S\""
   ]
  },
  {
   "cell_type": "code",
   "execution_count": 6,
   "id": "0da5a22b-7ade-4415-9b66-2cec12e71665",
   "metadata": {},
   "outputs": [],
   "source": [
    "# import pandas as pd\n",
    "# from datetime import datetime\n",
    "\n",
    "def update_data(\n",
    "    new_data: list[dict],\n",
    "    csv_path: str = \"data/output/articles.csv\",\n",
    "    json_path: str = \"data/output/articles.json\"\n",
    ") -> None:\n",
    "    \"\"\"\n",
    "    Обновляет данные, сохраняя первую дату появления записи.\n",
    "    Работает с форматом даты: \"%d.%m.%Y. %H:%M:%S\".\n",
    "    \"\"\"\n",
    "    try:\n",
    "        # Загрузка старых данных (если файл существует)\n",
    "        try:\n",
    "            old_df = pd.read_csv(csv_path)\n",
    "            # Конвертируем дату из строки в datetime с указанием формата\n",
    "            old_df[\"parse_datetime\"] = pd.to_datetime(\n",
    "                old_df[\"parse_datetime\"],\n",
    "                format=\"%d.%m.%Y. %H:%M:%S\",\n",
    "                dayfirst=True\n",
    "            )\n",
    "        except FileNotFoundError:\n",
    "            old_df = pd.DataFrame()\n",
    "\n",
    "        # Конвертация новых данных в DataFrame\n",
    "        new_df = pd.DataFrame(new_data)\n",
    "        new_df[\"parse_datetime\"] = pd.to_datetime(\n",
    "            new_df[\"parse_datetime\"],\n",
    "            format=\"%d.%m.%Y. %H:%M:%S\",\n",
    "            dayfirst=True\n",
    "        )\n",
    "\n",
    "        # Объединение данных\n",
    "        combined_df = pd.concat([old_df, new_df], ignore_index=True)\n",
    "\n",
    "        # Удаление дубликатов с сохранением новых данных + оригинальной даты первого появления\n",
    "        combined_df[\"first_seen\"] = combined_df.groupby(\"title\")[\"parse_datetime\"].transform(\"min\")\n",
    "        combined_df = combined_df.sort_values(\"parse_datetime\", ascending=False).drop_duplicates(\"title\", keep=\"first\")\n",
    "\n",
    "        # Восстанавливаем исходную дату первого появления и конвертируем обратно в строку\n",
    "        combined_df[\"parse_datetime\"] = combined_df[\"first_seen\"].dt.strftime(\"%d.%m.%Y. %H:%M:%S\")\n",
    "        combined_df = combined_df.drop(columns=\"first_seen\")\n",
    "\n",
    "        # Сохранение\n",
    "        combined_df.to_csv(csv_path, index=False, encoding='utf-8')\n",
    "        combined_df.to_json(json_path, orient=\"records\", force_ascii=False, indent=2)\n",
    "        print(f\"\\n✅ 3. Данные в CSV/JSON файлах обновлены. Уникальных записей: {len(combined_df)}\")\n",
    "\n",
    "    except Exception as e:\n",
    "        print(f\"🚨 Ошибка в update_data(): {e}\")"
   ]
  },
  {
   "cell_type": "code",
   "execution_count": null,
   "id": "e579591d-51c6-402f-b0b5-37212e6bd9ce",
   "metadata": {},
   "outputs": [],
   "source": [
    "# Пример вызова\n",
    "new_articles = [\n",
    "    {\n",
    "        \"title\": \"Новость 1\",\n",
    "        \"author\": \"Автор 1\",\n",
    "        \"parse_datetime\": \"27.04.2025. 22:12:18\",  # Ваш текущий формат\n",
    "        # ...остальные поля\n",
    "    },\n",
    "    # ...\n",
    "]\n",
    "update_data(new_articles)"
   ]
  },
  {
   "cell_type": "code",
   "execution_count": null,
   "id": "1e0e5efe-0da6-4c58-8392-32da49abbe2a",
   "metadata": {},
   "outputs": [],
   "source": []
  },
  {
   "cell_type": "markdown",
   "id": "de38d7d4-f4de-4e6f-8a3c-8b4c4d583bef",
   "metadata": {
    "jp-MarkdownHeadingCollapsed": true
   },
   "source": [
    "### V1 - Код для экспорта в Google Sheets"
   ]
  },
  {
   "cell_type": "code",
   "execution_count": 18,
   "id": "53931496-8847-484b-a7d9-464c7fedacc1",
   "metadata": {},
   "outputs": [],
   "source": [
    "from gspread import Client, Spreadsheet, Worksheet, service_account, exceptions\n",
    "from typing import Optional, List, Dict\n",
    "import json"
   ]
  },
  {
   "cell_type": "code",
   "execution_count": 31,
   "id": "02b267da-ba0f-4dd7-a8f6-bdd5adf8a9cf",
   "metadata": {},
   "outputs": [],
   "source": [
    "def export_to_google_sheets(\n",
    "    json_path: str,\n",
    "    spreadsheet_id: str,\n",
    "    sheet_name: str = \"News\",\n",
    "    credentials_path: str = \"credentials.json\"\n",
    ") -> None:\n",
    "    \"\"\"\n",
    "    Экспортирует данные из JSON в Google Sheets с использованием gspread.\n",
    "\n",
    "    Параметры:\n",
    "        json_path (str): Путь к JSON-файлу с данными.\n",
    "        spreadsheet_id (str): ID таблицы из URL.\n",
    "        sheet_name (str): Название листа (по умолчанию \"News\").\n",
    "        credentials_path (str): Путь к credentials.json.\n",
    "\n",
    "    Исключения:\n",
    "        exceptions.GSpreadException: При ошибках API.\n",
    "    \"\"\"\n",
    "    try:\n",
    "        # 1. Инициализация клиента\n",
    "        gc: Client = service_account(filename=credentials_path)\n",
    "\n",
    "        # 2. Загрузка данных из JSON\n",
    "        with open(json_path, 'r', encoding='utf-8') as f:\n",
    "            data: List[Dict] = json.load(f)  # Предполагаем, что JSON — список словарей\n",
    "\n",
    "        if not data:\n",
    "            print(\"⚠️ Нет данных для экспорта.\")\n",
    "            return\n",
    "\n",
    "        # 3. Открытие таблицы\n",
    "        spreadsheet: Spreadsheet = gc.open_by_key(spreadsheet_id)\n",
    "        \n",
    "        try:\n",
    "            worksheet: Worksheet = spreadsheet.worksheet(sheet_name)\n",
    "        except exceptions.WorksheetNotFound:\n",
    "            worksheet: Worksheet = spreadsheet.add_worksheet(title=sheet_name, rows=len(data)+1, cols=10)\n",
    "\n",
    "        # 4. Подготовка данных\n",
    "        headers: List[str] = list(data[0].keys())\n",
    "        values: List[List] = [headers] + [list(item.values()) for item in data]\n",
    "\n",
    "        # 5. Запись в таблицу\n",
    "        worksheet.clear()\n",
    "        worksheet.update(values)\n",
    "        print(f\"✅ Данные успешно экспортированы в лист '{sheet_name}'\")\n",
    "        print(f\"🔗 URL таблицы: https://docs.google.com/spreadsheets/d/{spreadsheet_id}\")\n",
    "\n",
    "    except exceptions.GSpreadException as e:\n",
    "        print(f\"🚨 Ошибка Google Sheets API: {e}\")\n",
    "    except Exception as e:\n",
    "        print(f\"🚨 Неожиданная ошибка: {e}\")"
   ]
  },
  {
   "cell_type": "code",
   "execution_count": 32,
   "id": "1cfb22c2-1663-445f-bd8a-704628c80696",
   "metadata": {},
   "outputs": [
    {
     "name": "stdout",
     "output_type": "stream",
     "text": [
      "✅ Данные успешно экспортированы в лист 'VC.ru News'\n",
      "🔗 URL таблицы: https://docs.google.com/spreadsheets/d/1XQBizX0YVDsZ7PaHlNvnEVLwyOxUZuFJo0447ku6Qdg\n"
     ]
    }
   ],
   "source": [
    "# Пример вызова\n",
    "export_to_google_sheets(\n",
    "    json_path=\"data/output/vc_ru_articles.json\",\n",
    "    spreadsheet_id=\"1XQBizX0YVDsZ7PaHlNvnEVLwyOxUZuFJo0447ku6Qdg\",\n",
    "    sheet_name=\"VC.ru News\"\n",
    ")"
   ]
  },
  {
   "cell_type": "code",
   "execution_count": 33,
   "id": "79f4d3ac-dc61-438b-bb2c-77faadf35c0f",
   "metadata": {},
   "outputs": [
    {
     "name": "stdout",
     "output_type": "stream",
     "text": [
      "✅ Данные успешно экспортированы в лист 'VC.ru News'\n",
      "🔗 URL таблицы: https://docs.google.com/spreadsheets/d/1XQBizX0YVDsZ7PaHlNvnEVLwyOxUZuFJo0447ku6Qdg\n"
     ]
    }
   ],
   "source": [
    "# Пример вызова\n",
    "export_to_google_sheets(\n",
    "    json_path=\"data/output/articles.json\",\n",
    "    spreadsheet_id=\"1XQBizX0YVDsZ7PaHlNvnEVLwyOxUZuFJo0447ku6Qdg\",\n",
    "    sheet_name=\"VC.ru News\"\n",
    ")"
   ]
  },
  {
   "cell_type": "markdown",
   "id": "05e1f24a-09cd-437a-b11d-9586d5b307fe",
   "metadata": {},
   "source": [
    "### V2 - Как сделать \"умное\" обновление Google Sheets?"
   ]
  },
  {
   "cell_type": "markdown",
   "id": "d81ca3b8-99cf-4ffa-b632-db9d2b52d724",
   "metadata": {},
   "source": [
    "#### Как сделать \"умное\" обновление Google Sheets?\n",
    "Вот модифицированная версия функции, которая:\n",
    "Сначала загружает текущие данные из Google Sheets.\n",
    "Объединяет их с новыми (удаляя дубликаты).\n",
    "Обновляет лист целиком."
   ]
  },
  {
   "cell_type": "markdown",
   "id": "decb93d3-b3b2-435b-942b-565ee49f642b",
   "metadata": {},
   "source": [
    "### V2 - EXPORT_TO_GOOGLE_SHEETS - Код для \"умного\" обновления Google Sheets"
   ]
  },
  {
   "cell_type": "code",
   "execution_count": null,
   "id": "08f3069e-1a82-47b1-b90f-0d78213280d6",
   "metadata": {},
   "outputs": [],
   "source": [
    "# from gspread import Client, Spreadsheet, Worksheet, service_account, exceptions\n",
    "# from typing import Optional, List, Dict\n",
    "# import json"
   ]
  },
  {
   "cell_type": "code",
   "execution_count": 7,
   "id": "221943cf-5dad-4d5e-b48d-8a3d26d69eb9",
   "metadata": {},
   "outputs": [],
   "source": [
    "def export_to_google_sheets(\n",
    "    json_path: str,\n",
    "    spreadsheet_id: str,\n",
    "    sheet_name: str = \"News\",\n",
    "    credentials_path: str = \"credentials.json\"\n",
    ") -> None:\n",
    "    try:\n",
    "        gc = service_account(filename=credentials_path)\n",
    "        spreadsheet = gc.open_by_key(spreadsheet_id)\n",
    "        \n",
    "        # Загрузка новых данных из JSON\n",
    "        with open(json_path, 'r', encoding='utf-8') as f:\n",
    "            new_data = json.load(f)  # list[dict]\n",
    "\n",
    "        if not new_data:\n",
    "            print(\"⚠️ Нет новых данных для экспорта.\")\n",
    "            return\n",
    "\n",
    "        # Загрузка старых данных из Google Sheets\n",
    "        try:\n",
    "            worksheet = spreadsheet.worksheet(sheet_name)\n",
    "            old_data = worksheet.get_all_records()  # list[dict]\n",
    "        except exceptions.WorksheetNotFound:\n",
    "            old_data = []\n",
    "            worksheet = spreadsheet.add_worksheet(title=sheet_name, rows=len(new_data)+1, cols=10)\n",
    "\n",
    "        # Объединение + дедупликация (по полю 'title')\n",
    "        combined_data = old_data + new_data\n",
    "        unique_data = []\n",
    "        seen_titles = set()\n",
    "        for item in reversed(combined_data):  # Чтобы keep='last'\n",
    "            if item['title'] not in seen_titles:\n",
    "                seen_titles.add(item['title'])\n",
    "                unique_data.append(item)\n",
    "        unique_data.reverse()  # Вернём исходный порядок\n",
    "\n",
    "        # Подготовка данных для записи\n",
    "        headers = list(unique_data[0].keys())\n",
    "        values = [headers] + [list(item.values()) for item in unique_data]\n",
    "\n",
    "        # Обновление листа\n",
    "        worksheet.clear()\n",
    "        worksheet.update(values)\n",
    "        print(f\"\\n✅ 4. Данные обновлены с дедупликацией. Уникальных записей: {len(unique_data)}\")\n",
    "        # print(\"\\tСкрипт 'EXPORT_TO_GOOGLE_SHEETS' отработал:\", datetime.now().strftime('%H:%M:%S'))\n",
    "\n",
    "    except exceptions.GSpreadException as e:\n",
    "        print(f\"🚨 Ошибка Google Sheets API: {e}\")\n",
    "\n",
    "    return len(unique_data)"
   ]
  },
  {
   "cell_type": "code",
   "execution_count": 19,
   "id": "4565640f-b290-472b-8955-f5f4e7629bcf",
   "metadata": {},
   "outputs": [
    {
     "name": "stdout",
     "output_type": "stream",
     "text": [
      "✅ Данные обновлены с дедупликацией. Уникальных записей: 151\n",
      "Скрипт отработал: 2025-04-29 20:21:56\n"
     ]
    },
    {
     "data": {
      "text/plain": [
       "151"
      ]
     },
     "execution_count": 19,
     "metadata": {},
     "output_type": "execute_result"
    }
   ],
   "source": [
    "# Пример вызова\n",
    "export_to_google_sheets(\n",
    "    json_path=\"data/output/articles.json\",\n",
    "    spreadsheet_id=\"1XQBizX0YVDsZ7PaHlNvnEVLwyOxUZuFJo0447ku6Qdg\",\n",
    "    sheet_name=\"VC.ru News\"\n",
    ")"
   ]
  },
  {
   "cell_type": "code",
   "execution_count": null,
   "id": "072bf0c1-3d78-4858-b1d5-0b2063937e30",
   "metadata": {},
   "outputs": [],
   "source": []
  },
  {
   "cell_type": "markdown",
   "id": "47f9c2fb-7800-4ed7-80cf-be7b7cb94ea2",
   "metadata": {
    "jp-MarkdownHeadingCollapsed": true
   },
   "source": [
    "## Тренируемся на скачанной динамической странице"
   ]
  },
  {
   "cell_type": "code",
   "execution_count": 14,
   "id": "1b17e9ad-8575-4cda-9aa4-2691e43968e3",
   "metadata": {},
   "outputs": [],
   "source": [
    "def load_html(path):\n",
    "    \"\"\"Загружает HTML из файла (если существует).\"\"\"\n",
    "    if os.path.exists(path):\n",
    "        with open(path, 'r', encoding='utf-8') as f:\n",
    "            return f.read()\n",
    "    return None"
   ]
  },
  {
   "cell_type": "code",
   "execution_count": 15,
   "id": "3c35ceb9-782d-4111-b9c4-ce41c122ded6",
   "metadata": {},
   "outputs": [],
   "source": [
    "# Парсинг (с кешированием HTML)\n",
    "TEMP_HTML_PATH = \"data/interim/dynamic_page.html\"  # Путь для сохранения HTML\n",
    "html = load_html(TEMP_HTML_PATH)"
   ]
  },
  {
   "cell_type": "code",
   "execution_count": 17,
   "id": "57cf4661-9bd6-4413-9e9a-d4b0c234d00d",
   "metadata": {},
   "outputs": [
    {
     "name": "stdout",
     "output_type": "stream",
     "text": [
      "\n",
      "✅ 2. Парсинг новостей прошёл успешно!\n"
     ]
    }
   ],
   "source": [
    "# Запуск осовной функции\n",
    "host = \"https://vc.ru\"\n",
    "articles_data = parse_articles(html, host)"
   ]
  },
  {
   "cell_type": "code",
   "execution_count": 18,
   "id": "0677ce76-a71f-4637-90bb-faaffc7aa253",
   "metadata": {},
   "outputs": [
    {
     "name": "stdout",
     "output_type": "stream",
     "text": [
      "\n",
      "✅ 3. Данные в CSV/JSON файлах обновлены. Уникальных записей: 175\n"
     ]
    }
   ],
   "source": [
    "# Вызов функции обновления csv/json\n",
    "update_data(articles_data)"
   ]
  },
  {
   "cell_type": "code",
   "execution_count": null,
   "id": "34fc70d8-0dd6-411d-8454-d8c777dcb215",
   "metadata": {},
   "outputs": [],
   "source": []
  },
  {
   "cell_type": "markdown",
   "id": "53288e08-eb2e-4393-a997-b39152b8bdee",
   "metadata": {},
   "source": [
    "# Запуск всех функций парсинга"
   ]
  },
  {
   "cell_type": "markdown",
   "id": "af082229-317d-45fa-8075-b1ac2d800b46",
   "metadata": {},
   "source": [
    "## START_MESSAGE - Отправление сообщения ТелеБОТу о начале работы парсера"
   ]
  },
  {
   "cell_type": "code",
   "execution_count": 8,
   "id": "157c00d4-4b12-42ad-98fd-90aeab138684",
   "metadata": {},
   "outputs": [],
   "source": [
    "# Отправление сообщения ТелеБОТу о начале работы парсера\n",
    "def start_message(chat_id):\n",
    "    bot = telebot.TeleBot(config.token)\n",
    "    message_time = datetime.now().strftime('%Y-%m-%d %H:%M:%S')\n",
    "    print(f\"✅ 0. Бот запущен. Никаких действий не требуется! Время: {message_time}\")\n",
    "    \n",
    "    bot.send_message(chat_id, f\"Запуск парсера новостей с VC.RU:\\nНачало парсинга: {message_time}\\nИдёт парсинг сайта ...\")\n",
    "    bot.stop_polling()  # Останавливаем бота"
   ]
  },
  {
   "cell_type": "code",
   "execution_count": null,
   "id": "1431f87a-65c3-4950-8a46-e06ea6e2dd7b",
   "metadata": {},
   "outputs": [],
   "source": [
    "# Запуск функции START_MESSAGE()\n",
    "if __name__ == \"__main__\":\n",
    "    start_message(chat_id)"
   ]
  },
  {
   "cell_type": "code",
   "execution_count": null,
   "id": "9738e61d-0724-456a-bd69-2e09216686a5",
   "metadata": {},
   "outputs": [],
   "source": []
  },
  {
   "cell_type": "markdown",
   "id": "ebe70779-0059-4326-8bd7-666749f10848",
   "metadata": {},
   "source": [
    "## FINISH_MESSAGE - Отправление сообщения ТелеБОТу об окончании работы парсера"
   ]
  },
  {
   "cell_type": "code",
   "execution_count": 9,
   "id": "8f132231-5699-41a2-a522-5341b809b39e",
   "metadata": {},
   "outputs": [],
   "source": [
    "# Отправление сообщения ТелеБОТу об окончании работы парсера\n",
    "def finish_message(chat_id, ad, ud):\n",
    "    bot = telebot.TeleBot(config.token)\n",
    "    message_time = datetime.now().strftime('%Y-%m-%d %H:%M:%S')\n",
    "    print(f\"\\n✅ 5. Парсинг завершен: {message_time}\\n\\tПолучено {ad} записей\\n\\tУникальных записей: {ud}\")\n",
    "    \n",
    "    bot.send_message(chat_id, f\"Окончание парсинга: {message_time}\\nПолучено {ad} записей\\nУникальных записей: {ud}\")\n",
    "    bot.stop_polling()  # Останавливаем бота"
   ]
  },
  {
   "cell_type": "code",
   "execution_count": 21,
   "id": "cecde4a2-9053-4125-861c-617813729320",
   "metadata": {},
   "outputs": [],
   "source": [
    "# Запуск функции START_MESSAGE()\n",
    "# if __name__ == \"__main__\":\n",
    "#     finish_message(chat_id, len(articles_data), len(unique_data))"
   ]
  },
  {
   "cell_type": "code",
   "execution_count": null,
   "id": "0f5dd369-7d96-43cd-85b9-6b3bb3f2cbd0",
   "metadata": {},
   "outputs": [],
   "source": []
  },
  {
   "cell_type": "markdown",
   "id": "fdf2b726-910c-4836-8e1d-c6a882a598cd",
   "metadata": {},
   "source": [
    "## START_PARSING - Функция запуска парсинга (основная объединяющая функция)"
   ]
  },
  {
   "cell_type": "code",
   "execution_count": 11,
   "id": "5ff29d1a-11e9-4708-babc-31a94bceb740",
   "metadata": {},
   "outputs": [],
   "source": [
    "def start_parsing():\n",
    "    # Константы:\n",
    "    chat_id = \"1938719365\"\n",
    "    \n",
    "    # Запуск стартового сообщения ТелеБОТу\n",
    "    start_message(chat_id)\n",
    "    \n",
    "    # Запуск сохранения динамического сайта в HTML\n",
    "    html = dynamic_parse(max_scrolls=50)\n",
    "    # --- ДЛЯ ТЕСТОВ ---\n",
    "    # html = dynamic_parse()\n",
    "    if html:\n",
    "        with open(\"data/interim/dynamic_page.html\", \"w\", encoding=\"utf-8\") as f:\n",
    "            f.write(html)\n",
    "        # print(\"✅ 1. HTML сохранён с динамическим контентом!\")\n",
    "        print(\"\\tСкрипт 'DYNAMIC_PARSE' отработал:\", datetime.now().strftime('%H:%M:%S'))\n",
    "\n",
    "    # Запуск осовной функции\n",
    "    host = \"https://vc.ru\"\n",
    "    articles_data = parse_articles(html, host)\n",
    "    if articles_data:\n",
    "        # print(\"\\n✅ 2. Парсинг новостей прошёл успешно!\")\n",
    "        print(\"\\tСкрипт 'PARSE_ARTICLES' отработал:\", datetime.now().strftime('%H:%M:%S'))\n",
    "\n",
    "    # Обновление CSV/JSON с дедупликацией\n",
    "    update_data(articles_data)\n",
    "    # print(\"\\n3. ✅ CSV/JSON обновлены!\")\n",
    "    print(\"\\tСкрипт 'UPDATE_DATA' отработал:\", datetime.now().strftime('%H:%M:%S'))\n",
    "\n",
    "    # Обновление Google Sheets\n",
    "    count_unique_data = export_to_google_sheets(\n",
    "        json_path=\"data/output/articles.json\",\n",
    "        spreadsheet_id=\"1XQBizX0YVDsZ7PaHlNvnEVLwyOxUZuFJo0447ku6Qdg\",\n",
    "        sheet_name=\"VC.ru News\"\n",
    "    )\n",
    "    print(\"\\tGoogle Sheets обновлены!\")\n",
    "    print(\"\\tСкрипт 'EXPORT_TO_GOOGLE_SHEETS' отработал:\", datetime.now().strftime('%H:%M:%S'))\n",
    "\n",
    "    # Сообщение ТелеБОТу о завершению парсинга\n",
    "    finish_message(chat_id, len(articles_data), count_unique_data)"
   ]
  },
  {
   "cell_type": "code",
   "execution_count": 11,
   "id": "b0d10473-41d1-4ade-900c-fdb69fe94921",
   "metadata": {
    "collapsed": true,
    "jupyter": {
     "outputs_hidden": true,
     "source_hidden": true
    }
   },
   "outputs": [
    {
     "name": "stdout",
     "output_type": "stream",
     "text": [
      "Бот запущен. Никаких действий не требуется! Время: 2025-04-29 20:06:34\n",
      "🚨 Ошибка в dynamic_parse(): ReadTimeoutError - HTTPConnectionPool(host='localhost', port=53985): Read timed out. (read timeout=120)\n"
     ]
    },
    {
     "ename": "TypeError",
     "evalue": "object of type 'NoneType' has no len()",
     "output_type": "error",
     "traceback": [
      "\u001b[1;31m---------------------------------------------------------------------------\u001b[0m",
      "\u001b[1;31mTypeError\u001b[0m                                 Traceback (most recent call last)",
      "Cell \u001b[1;32mIn[11], line 3\u001b[0m\n\u001b[0;32m      1\u001b[0m \u001b[38;5;66;03m# Запуск функции START_PARSING\u001b[39;00m\n\u001b[0;32m      2\u001b[0m \u001b[38;5;28;01mif\u001b[39;00m \u001b[38;5;18m__name__\u001b[39m \u001b[38;5;241m==\u001b[39m \u001b[38;5;124m\"\u001b[39m\u001b[38;5;124m__main__\u001b[39m\u001b[38;5;124m\"\u001b[39m:\n\u001b[1;32m----> 3\u001b[0m     start_parsing()\n",
      "Cell \u001b[1;32mIn[10], line 20\u001b[0m, in \u001b[0;36mstart_parsing\u001b[1;34m()\u001b[0m\n\u001b[0;32m     18\u001b[0m \u001b[38;5;66;03m# Запуск осовной функции\u001b[39;00m\n\u001b[0;32m     19\u001b[0m HOST \u001b[38;5;241m=\u001b[39m \u001b[38;5;124m\"\u001b[39m\u001b[38;5;124mhttps://vc.ru\u001b[39m\u001b[38;5;124m\"\u001b[39m\n\u001b[1;32m---> 20\u001b[0m articles_data \u001b[38;5;241m=\u001b[39m parse_articles(html, HOST)\n\u001b[0;32m     21\u001b[0m \u001b[38;5;28;01mif\u001b[39;00m articles_data:\n\u001b[0;32m     22\u001b[0m     \u001b[38;5;28mprint\u001b[39m(\u001b[38;5;124m\"\u001b[39m\u001b[38;5;130;01m\\n\u001b[39;00m\u001b[38;5;124m2. ✅ Парсинг новостей прошёл успешно!\u001b[39m\u001b[38;5;124m\"\u001b[39m)\n",
      "Cell \u001b[1;32mIn[5], line 2\u001b[0m, in \u001b[0;36mparse_articles\u001b[1;34m(html_content, HOST)\u001b[0m\n\u001b[0;32m      1\u001b[0m \u001b[38;5;28;01mdef\u001b[39;00m \u001b[38;5;21mparse_articles\u001b[39m(html_content, HOST):\n\u001b[1;32m----> 2\u001b[0m     soup \u001b[38;5;241m=\u001b[39m BeautifulSoup(html_content, \u001b[38;5;124m'\u001b[39m\u001b[38;5;124mhtml.parser\u001b[39m\u001b[38;5;124m'\u001b[39m)\n\u001b[0;32m      3\u001b[0m     articles \u001b[38;5;241m=\u001b[39m soup\u001b[38;5;241m.\u001b[39mfind(\u001b[38;5;124m'\u001b[39m\u001b[38;5;124mdiv\u001b[39m\u001b[38;5;124m'\u001b[39m, class_\u001b[38;5;241m=\u001b[39m\u001b[38;5;124m'\u001b[39m\u001b[38;5;124mcontent-list\u001b[39m\u001b[38;5;124m'\u001b[39m)\n\u001b[0;32m      4\u001b[0m     \u001b[38;5;28;01mif\u001b[39;00m \u001b[38;5;129;01mnot\u001b[39;00m articles:\n",
      "File \u001b[1;32mC:\\ProgramData\\anaconda3\\Lib\\site-packages\\bs4\\__init__.py:315\u001b[0m, in \u001b[0;36mBeautifulSoup.__init__\u001b[1;34m(self, markup, features, builder, parse_only, from_encoding, exclude_encodings, element_classes, **kwargs)\u001b[0m\n\u001b[0;32m    313\u001b[0m \u001b[38;5;28;01mif\u001b[39;00m \u001b[38;5;28mhasattr\u001b[39m(markup, \u001b[38;5;124m'\u001b[39m\u001b[38;5;124mread\u001b[39m\u001b[38;5;124m'\u001b[39m):        \u001b[38;5;66;03m# It's a file-type object.\u001b[39;00m\n\u001b[0;32m    314\u001b[0m     markup \u001b[38;5;241m=\u001b[39m markup\u001b[38;5;241m.\u001b[39mread()\n\u001b[1;32m--> 315\u001b[0m \u001b[38;5;28;01melif\u001b[39;00m \u001b[38;5;28mlen\u001b[39m(markup) \u001b[38;5;241m<\u001b[39m\u001b[38;5;241m=\u001b[39m \u001b[38;5;241m256\u001b[39m \u001b[38;5;129;01mand\u001b[39;00m (\n\u001b[0;32m    316\u001b[0m         (\u001b[38;5;28misinstance\u001b[39m(markup, \u001b[38;5;28mbytes\u001b[39m) \u001b[38;5;129;01mand\u001b[39;00m \u001b[38;5;129;01mnot\u001b[39;00m \u001b[38;5;124mb\u001b[39m\u001b[38;5;124m'\u001b[39m\u001b[38;5;124m<\u001b[39m\u001b[38;5;124m'\u001b[39m \u001b[38;5;129;01min\u001b[39;00m markup)\n\u001b[0;32m    317\u001b[0m         \u001b[38;5;129;01mor\u001b[39;00m (\u001b[38;5;28misinstance\u001b[39m(markup, \u001b[38;5;28mstr\u001b[39m) \u001b[38;5;129;01mand\u001b[39;00m \u001b[38;5;129;01mnot\u001b[39;00m \u001b[38;5;124m'\u001b[39m\u001b[38;5;124m<\u001b[39m\u001b[38;5;124m'\u001b[39m \u001b[38;5;129;01min\u001b[39;00m markup)\n\u001b[0;32m    318\u001b[0m ):\n\u001b[0;32m    319\u001b[0m     \u001b[38;5;66;03m# Issue warnings for a couple beginner problems\u001b[39;00m\n\u001b[0;32m    320\u001b[0m     \u001b[38;5;66;03m# involving passing non-markup to Beautiful Soup.\u001b[39;00m\n\u001b[0;32m    321\u001b[0m     \u001b[38;5;66;03m# Beautiful Soup will still parse the input as markup,\u001b[39;00m\n\u001b[0;32m    322\u001b[0m     \u001b[38;5;66;03m# since that is sometimes the intended behavior.\u001b[39;00m\n\u001b[0;32m    323\u001b[0m     \u001b[38;5;28;01mif\u001b[39;00m \u001b[38;5;129;01mnot\u001b[39;00m \u001b[38;5;28mself\u001b[39m\u001b[38;5;241m.\u001b[39m_markup_is_url(markup):\n\u001b[0;32m    324\u001b[0m         \u001b[38;5;28mself\u001b[39m\u001b[38;5;241m.\u001b[39m_markup_resembles_filename(markup)                \n",
      "\u001b[1;31mTypeError\u001b[0m: object of type 'NoneType' has no len()"
     ]
    }
   ],
   "source": [
    "# Запуск функции START_PARSING - выдало ошибку превышения времени ожидания - НАДО ОТРАБОТАТЬ !!\n",
    "if __name__ == \"__main__\":\n",
    "    start_parsing()"
   ]
  },
  {
   "cell_type": "code",
   "execution_count": 12,
   "id": "091807f5-007a-4b78-af9d-298b4f5ddbbc",
   "metadata": {},
   "outputs": [
    {
     "name": "stdout",
     "output_type": "stream",
     "text": [
      "✅ 0. Бот запущен. Никаких действий не требуется! Время: 2025-04-29 21:53:39\n",
      "\tПрокрутка: 1\n",
      "\tПрокрутка: 2\n",
      "\tПрокрутка: 3\n",
      "\tПрокрутка: 4\n",
      "\tПрокрутка: 5\n",
      "\tПрокрутка: 6\n",
      "\tПрокрутка: 7\n",
      "\tПрокрутка: 8\n",
      "\tПрокрутка: 9\n",
      "\tПрокрутка: 10\n",
      "\tПрокрутка: 11\n",
      "\tПрокрутка: 12\n",
      "\tПрокрутка: 13\n",
      "\tПрокрутка: 14\n",
      "\tПрокрутка: 15\n",
      "\tПрокрутка: 16\n",
      "\tПрокрутка: 17\n",
      "\tПрокрутка: 18\n",
      "\tПрокрутка: 19\n",
      "\tПрокрутка: 20\n",
      "\tПрокрутка: 21\n",
      "\tПрокрутка: 22\n",
      "\tПрокрутка: 23\n",
      "\tПрокрутка: 24\n",
      "\tПрокрутка: 25\n",
      "\tПрокрутка: 26\n",
      "\tПрокрутка: 27\n",
      "\tПрокрутка: 28\n",
      "\tПрокрутка: 29\n",
      "\tПрокрутка: 30\n",
      "\tПрокрутка: 31\n",
      "\tПрокрутка: 32\n",
      "\tПрокрутка: 33\n",
      "\tПрокрутка: 34\n",
      "\tПрокрутка: 35\n",
      "\tПрокрутка: 36\n",
      "\tПрокрутка: 37\n",
      "\tПрокрутка: 38\n",
      "\tПрокрутка: 39\n",
      "\tПрокрутка: 40\n",
      "\tПрокрутка: 41\n",
      "\tПрокрутка: 42\n",
      "\tПрокрутка: 43\n",
      "\tПрокрутка: 44\n",
      "\tПрокрутка: 45\n",
      "\tПрокрутка: 46\n",
      "\tПрокрутка: 47\n",
      "\tПрокрутка: 48\n",
      "\tПрокрутка: 49\n",
      "\tПрокрутка: 50\n",
      "\tПрокручено: 51 раз!\n",
      "\n",
      "✅ 1. HTML сохранён с динамическим контентом!\n",
      "\tСкрипт 'DYNAMIC_PARSE' отработал: 21:59:54\n"
     ]
    },
    {
     "ename": "NameError",
     "evalue": "name 'HOST' is not defined",
     "output_type": "error",
     "traceback": [
      "\u001b[1;31m---------------------------------------------------------------------------\u001b[0m",
      "\u001b[1;31mNameError\u001b[0m                                 Traceback (most recent call last)",
      "Cell \u001b[1;32mIn[12], line 3\u001b[0m\n\u001b[0;32m      1\u001b[0m \u001b[38;5;66;03m# Запуск функции START_PARSING\u001b[39;00m\n\u001b[0;32m      2\u001b[0m \u001b[38;5;28;01mif\u001b[39;00m \u001b[38;5;18m__name__\u001b[39m \u001b[38;5;241m==\u001b[39m \u001b[38;5;124m\"\u001b[39m\u001b[38;5;124m__main__\u001b[39m\u001b[38;5;124m\"\u001b[39m:\n\u001b[1;32m----> 3\u001b[0m     start_parsing()\n",
      "Cell \u001b[1;32mIn[11], line 20\u001b[0m, in \u001b[0;36mstart_parsing\u001b[1;34m()\u001b[0m\n\u001b[0;32m     18\u001b[0m \u001b[38;5;66;03m# Запуск осовной функции\u001b[39;00m\n\u001b[0;32m     19\u001b[0m host \u001b[38;5;241m=\u001b[39m \u001b[38;5;124m\"\u001b[39m\u001b[38;5;124mhttps://vc.ru\u001b[39m\u001b[38;5;124m\"\u001b[39m\n\u001b[1;32m---> 20\u001b[0m articles_data \u001b[38;5;241m=\u001b[39m parse_articles(html, host)\n\u001b[0;32m     21\u001b[0m \u001b[38;5;28;01mif\u001b[39;00m articles_data:\n\u001b[0;32m     22\u001b[0m     \u001b[38;5;66;03m# print(\"\\n✅ 2. Парсинг новостей прошёл успешно!\")\u001b[39;00m\n\u001b[0;32m     23\u001b[0m     \u001b[38;5;28mprint\u001b[39m(\u001b[38;5;124m\"\u001b[39m\u001b[38;5;130;01m\\t\u001b[39;00m\u001b[38;5;124mСкрипт \u001b[39m\u001b[38;5;124m'\u001b[39m\u001b[38;5;124mPARSE_ARTICLES\u001b[39m\u001b[38;5;124m'\u001b[39m\u001b[38;5;124m отработал:\u001b[39m\u001b[38;5;124m\"\u001b[39m, datetime\u001b[38;5;241m.\u001b[39mnow()\u001b[38;5;241m.\u001b[39mstrftime(\u001b[38;5;124m'\u001b[39m\u001b[38;5;124m%\u001b[39m\u001b[38;5;124mH:\u001b[39m\u001b[38;5;124m%\u001b[39m\u001b[38;5;124mM:\u001b[39m\u001b[38;5;124m%\u001b[39m\u001b[38;5;124mS\u001b[39m\u001b[38;5;124m'\u001b[39m))\n",
      "Cell \u001b[1;32mIn[5], line 29\u001b[0m, in \u001b[0;36mparse_articles\u001b[1;34m(html_content, host)\u001b[0m\n\u001b[0;32m     18\u001b[0m         date_iso \u001b[38;5;241m=\u001b[39m \u001b[38;5;28;01mNone\u001b[39;00m\n\u001b[0;32m     19\u001b[0m         date_formatted \u001b[38;5;241m=\u001b[39m \u001b[38;5;28;01mNone\u001b[39;00m\n\u001b[0;32m     21\u001b[0m     data \u001b[38;5;241m=\u001b[39m {\n\u001b[0;32m     22\u001b[0m         \u001b[38;5;124m'\u001b[39m\u001b[38;5;124mtitle\u001b[39m\u001b[38;5;124m'\u001b[39m: get_text_or_none(article, \u001b[38;5;124m'\u001b[39m\u001b[38;5;124mdiv.content-title\u001b[39m\u001b[38;5;124m'\u001b[39m),\n\u001b[0;32m     23\u001b[0m         \u001b[38;5;124m'\u001b[39m\u001b[38;5;124mauthor\u001b[39m\u001b[38;5;124m'\u001b[39m: get_text_or_none(article, \u001b[38;5;124m'\u001b[39m\u001b[38;5;124ma.author__name\u001b[39m\u001b[38;5;124m'\u001b[39m),\n\u001b[0;32m     24\u001b[0m         \u001b[38;5;124m'\u001b[39m\u001b[38;5;124mdate\u001b[39m\u001b[38;5;124m'\u001b[39m: date_formatted,  \u001b[38;5;66;03m# Формат \"12.04.2025 в 12:43\"\u001b[39;00m\n\u001b[0;32m     25\u001b[0m         \u001b[38;5;66;03m# 'date_iso': date_iso, # Сохраняем оригинальный ISO-формат\u001b[39;00m\n\u001b[0;32m     26\u001b[0m         \u001b[38;5;66;03m# 'date_formatted': date_formatted,  # Формат \"12.04.2025 в 12:43\"\u001b[39;00m\n\u001b[0;32m     27\u001b[0m         \u001b[38;5;124m'\u001b[39m\u001b[38;5;124mshorts\u001b[39m\u001b[38;5;124m'\u001b[39m: get_text_or_none(article, \u001b[38;5;124m'\u001b[39m\u001b[38;5;124mdiv.block-text\u001b[39m\u001b[38;5;124m'\u001b[39m),\n\u001b[0;32m     28\u001b[0m         \u001b[38;5;124m'\u001b[39m\u001b[38;5;124mlink\u001b[39m\u001b[38;5;124m'\u001b[39m: get_link(article, \u001b[38;5;124m'\u001b[39m\u001b[38;5;124ma.content__link\u001b[39m\u001b[38;5;124m'\u001b[39m, host),\n\u001b[1;32m---> 29\u001b[0m         \u001b[38;5;124m'\u001b[39m\u001b[38;5;124mcategory\u001b[39m\u001b[38;5;124m'\u001b[39m: extract_category(get_link(article, \u001b[38;5;124m'\u001b[39m\u001b[38;5;124ma.content__link\u001b[39m\u001b[38;5;124m'\u001b[39m, host)),\n\u001b[0;32m     30\u001b[0m         \u001b[38;5;124m'\u001b[39m\u001b[38;5;124mparse_datetime\u001b[39m\u001b[38;5;124m'\u001b[39m: datetime\u001b[38;5;241m.\u001b[39mnow()\u001b[38;5;241m.\u001b[39mstrftime(\u001b[38;5;124m'\u001b[39m\u001b[38;5;132;01m%d\u001b[39;00m\u001b[38;5;124m.\u001b[39m\u001b[38;5;124m%\u001b[39m\u001b[38;5;124mm.\u001b[39m\u001b[38;5;124m%\u001b[39m\u001b[38;5;124mY. \u001b[39m\u001b[38;5;124m%\u001b[39m\u001b[38;5;124mH:\u001b[39m\u001b[38;5;124m%\u001b[39m\u001b[38;5;124mM:\u001b[39m\u001b[38;5;124m%\u001b[39m\u001b[38;5;124mS\u001b[39m\u001b[38;5;124m'\u001b[39m)\n\u001b[0;32m     31\u001b[0m     }\n\u001b[0;32m     32\u001b[0m     results\u001b[38;5;241m.\u001b[39mappend(data)\n\u001b[0;32m     34\u001b[0m \u001b[38;5;28mprint\u001b[39m(\u001b[38;5;124m\"\u001b[39m\u001b[38;5;130;01m\\n\u001b[39;00m\u001b[38;5;124m✅ 2. Парсинг новостей прошёл успешно!\u001b[39m\u001b[38;5;124m\"\u001b[39m)\n",
      "Cell \u001b[1;32mIn[4], line 15\u001b[0m, in \u001b[0;36mextract_category\u001b[1;34m(url)\u001b[0m\n\u001b[0;32m     13\u001b[0m \u001b[38;5;28;01mif\u001b[39;00m \u001b[38;5;129;01mnot\u001b[39;00m url:\n\u001b[0;32m     14\u001b[0m     \u001b[38;5;28;01mreturn\u001b[39;00m \u001b[38;5;28;01mNone\u001b[39;00m\n\u001b[1;32m---> 15\u001b[0m parts \u001b[38;5;241m=\u001b[39m url\u001b[38;5;241m.\u001b[39mreplace(HOST, \u001b[38;5;124m'\u001b[39m\u001b[38;5;124m'\u001b[39m)\u001b[38;5;241m.\u001b[39mstrip(\u001b[38;5;124m'\u001b[39m\u001b[38;5;124m/\u001b[39m\u001b[38;5;124m'\u001b[39m)\u001b[38;5;241m.\u001b[39msplit(\u001b[38;5;124m'\u001b[39m\u001b[38;5;124m/\u001b[39m\u001b[38;5;124m'\u001b[39m)\n\u001b[0;32m     16\u001b[0m \u001b[38;5;28;01mreturn\u001b[39;00m parts[\u001b[38;5;241m0\u001b[39m] \u001b[38;5;28;01mif\u001b[39;00m parts \u001b[38;5;28;01melse\u001b[39;00m \u001b[38;5;28;01mNone\u001b[39;00m\n",
      "\u001b[1;31mNameError\u001b[0m: name 'HOST' is not defined"
     ]
    }
   ],
   "source": [
    "# Запуск функции START_PARSING\n",
    "if __name__ == \"__main__\":\n",
    "    start_parsing()"
   ]
  },
  {
   "cell_type": "markdown",
   "id": "0b240f2d-250e-47e8-a8e2-16a296fd6039",
   "metadata": {},
   "source": [
    "## 🔄 **Автоматизация расписания (простой вариант)**"
   ]
  },
  {
   "cell_type": "markdown",
   "id": "5afa5e7f-d727-42a7-a129-530e826f33b3",
   "metadata": {},
   "source": [
    "3. **Расписание**:\n",
    "   - Для ежедневного парсинга предлагаю:\n",
    "     - **Windows**: Планировщик задач + `.bat`-файл\n",
    "     - **Linux/macOS**: Cron\n",
    "     - Альтернатива: GitHub Actions (бесплатно для редких запусков)"
   ]
  },
  {
   "cell_type": "code",
   "execution_count": 1,
   "id": "1779e379-ce1f-4065-bc04-b4b846788940",
   "metadata": {},
   "outputs": [],
   "source": [
    "import schedule\n",
    "import time"
   ]
  },
  {
   "cell_type": "code",
   "execution_count": 8,
   "id": "83d20e9f-08df-462f-8e6e-77e7e6dd406b",
   "metadata": {},
   "outputs": [
    {
     "ename": "ModuleNotFoundError",
     "evalue": "No module named 'schedule_test.py'; 'schedule_test' is not a package",
     "output_type": "error",
     "traceback": [
      "\u001b[1;31m---------------------------------------------------------------------------\u001b[0m",
      "\u001b[1;31mModuleNotFoundError\u001b[0m                       Traceback (most recent call last)",
      "Cell \u001b[1;32mIn[8], line 2\u001b[0m\n\u001b[0;32m      1\u001b[0m \u001b[38;5;66;03m#Автоматизация расписания (простой вариант)\u001b[39;00m\n\u001b[1;32m----> 2\u001b[0m \u001b[38;5;28;01mimport\u001b[39;00m \u001b[38;5;21;01mschedule_test\u001b[39;00m\u001b[38;5;21;01m.\u001b[39;00m\u001b[38;5;21;01mpy\u001b[39;00m\n\u001b[0;32m      3\u001b[0m \u001b[38;5;66;03m# Создайте файл `run_parser.py`:\u001b[39;00m\n\u001b[0;32m      4\u001b[0m \u001b[38;5;66;03m# ```python\u001b[39;00m\n\u001b[0;32m      5\u001b[0m \u001b[38;5;66;03m# import schedule\u001b[39;00m\n\u001b[0;32m      6\u001b[0m \u001b[38;5;66;03m# import time\u001b[39;00m\n\u001b[0;32m      8\u001b[0m \u001b[38;5;28;01mdef\u001b[39;00m \u001b[38;5;21mjob\u001b[39m():\n",
      "\u001b[1;31mModuleNotFoundError\u001b[0m: No module named 'schedule_test.py'; 'schedule_test' is not a package"
     ]
    }
   ],
   "source": [
    "#Автоматизация расписания (простой вариант)\n",
    "import schedule_test.py\n",
    "# Создайте файл `run_parser.py`:\n",
    "# ```python\n",
    "# import schedule\n",
    "# import time\n",
    "\n",
    "def job():\n",
    "    print(\"Парсинг запущен...\")\n",
    "    # Ваш код парсинга и экспорта\n",
    "    \n",
    "# schedule.every().day.at(\"09:00\").do(job)\n",
    "schedule.every(10).seconds.do(job)\n",
    "\n",
    "while True:\n",
    "    schedule.run_pending()\n",
    "    time.sleep(1)\n",
    "# ```\n",
    "# Запускайте его в фоне через `nohup python run_parser.py &` (Linux/macOS)."
   ]
  },
  {
   "cell_type": "markdown",
   "id": "0777f6d8-aafe-474d-b5a6-9ed8fa51795b",
   "metadata": {},
   "source": [
    "### Testing SCHEDULE"
   ]
  },
  {
   "cell_type": "code",
   "execution_count": 2,
   "id": "df1d1ee1-a5ab-4c25-8d0e-cb13f1c38a7b",
   "metadata": {
    "collapsed": true,
    "jupyter": {
     "outputs_hidden": true
    }
   },
   "outputs": [
    {
     "name": "stdout",
     "output_type": "stream",
     "text": [
      "Hello, World!\n",
      "Hello, World!\n",
      "Hello, World!\n"
     ]
    },
    {
     "ename": "KeyboardInterrupt",
     "evalue": "",
     "output_type": "error",
     "traceback": [
      "\u001b[1;31m---------------------------------------------------------------------------\u001b[0m",
      "\u001b[1;31mKeyboardInterrupt\u001b[0m                         Traceback (most recent call last)",
      "Cell \u001b[1;32mIn[2], line 12\u001b[0m\n\u001b[0;32m     10\u001b[0m \u001b[38;5;28;01mwhile\u001b[39;00m \u001b[38;5;28;01mTrue\u001b[39;00m:\n\u001b[0;32m     11\u001b[0m     schedule\u001b[38;5;241m.\u001b[39mrun_pending()\n\u001b[1;32m---> 12\u001b[0m     time\u001b[38;5;241m.\u001b[39msleep(\u001b[38;5;241m1\u001b[39m)\n",
      "\u001b[1;31mKeyboardInterrupt\u001b[0m: "
     ]
    }
   ],
   "source": [
    "# Ниже приведен пример скрипта, который выполняет функцию hello_world() каждые 10 секунд:\n",
    "# import schedule\n",
    "# import time\n",
    " \n",
    "def hello_world():\n",
    "    print(\"Hello, World!\")\n",
    " \n",
    "schedule.every(10).seconds.do(hello_world)\n",
    " \n",
    "while True:\n",
    "    schedule.run_pending()\n",
    "    time.sleep(1)"
   ]
  },
  {
   "cell_type": "markdown",
   "id": "6b874be8-0299-45ca-b8de-20a40b707fb7",
   "metadata": {},
   "source": [
    "#### Расширенные возможности планирования\n",
    "Библиотека schedule предоставляет различные методы для более гибкого планирования задач. Некоторые из них:\n",
    "\n",
    "every(interval).seconds\n",
    "every(interval).minutes\n",
    "every(interval).hours\n",
    "every().day.at(time)\n",
    "every().monday.at(time)\n",
    "every().wednesday.at(time)\n",
    "every().friday.at(time)"
   ]
  },
  {
   "cell_type": "code",
   "execution_count": null,
   "id": "461b6222-4994-4744-b710-628d636c81aa",
   "metadata": {},
   "outputs": [],
   "source": [
    "# Пример задачи, выполняющейся каждый день в 10:00:\n",
    "\n",
    "# import schedule\n",
    "# import time\n",
    " \n",
    "def daily_task():\n",
    "    print(\"Running daily task\")\n",
    " \n",
    "schedule.every().day.at(\"10:00\").do(daily_task)\n",
    " \n",
    "while True:\n",
    "    schedule.run_pending()\n",
    "    time.sleep(1)"
   ]
  },
  {
   "cell_type": "code",
   "execution_count": null,
   "id": "8ad4f173-8338-432e-939a-7280de412d03",
   "metadata": {},
   "outputs": [],
   "source": []
  },
  {
   "cell_type": "code",
   "execution_count": null,
   "id": "ad1584c1-f343-4c60-8619-ba4720fc9cd6",
   "metadata": {},
   "outputs": [],
   "source": []
  },
  {
   "cell_type": "code",
   "execution_count": null,
   "id": "e57d5796-f7da-4c77-88fc-8bff0e403814",
   "metadata": {},
   "outputs": [],
   "source": []
  },
  {
   "cell_type": "markdown",
   "id": "ded64ea1-ff81-4d9c-8b9d-dbee034b1f7f",
   "metadata": {},
   "source": [
    "## PostgreSQL & Python"
   ]
  },
  {
   "cell_type": "markdown",
   "id": "ab23e98c-cc46-43f8-9225-28011bd3ff67",
   "metadata": {},
   "source": [
    "### Пример подключения к PostgreSQL из Python"
   ]
  },
  {
   "cell_type": "code",
   "execution_count": 4,
   "id": "217cdc03-4477-4291-93d9-863d70bb6f97",
   "metadata": {
    "collapsed": true,
    "jupyter": {
     "outputs_hidden": true
    }
   },
   "outputs": [
    {
     "name": "stdout",
     "output_type": "stream",
     "text": [
      "Defaulting to user installation because normal site-packages is not writeable\n",
      "Collecting psycopg2\n",
      "  Downloading psycopg2-2.9.10-cp312-cp312-win_amd64.whl.metadata (5.0 kB)\n",
      "Downloading psycopg2-2.9.10-cp312-cp312-win_amd64.whl (1.2 MB)\n",
      "   ---------------------------------------- 0.0/1.2 MB ? eta -:--:--\n",
      "   ---------------------------------------- 0.0/1.2 MB ? eta -:--:--\n",
      "   ---------------------------------------- 0.0/1.2 MB ? eta -:--:--\n",
      "   --------- ------------------------------ 0.3/1.2 MB ? eta -:--:--\n",
      "   --------- ------------------------------ 0.3/1.2 MB ? eta -:--:--\n",
      "   ------------------ --------------------- 0.5/1.2 MB 621.2 kB/s eta 0:00:02\n",
      "   ------------------ --------------------- 0.5/1.2 MB 621.2 kB/s eta 0:00:02\n",
      "   --------------------------- ------------ 0.8/1.2 MB 588.4 kB/s eta 0:00:01\n",
      "   --------------------------- ------------ 0.8/1.2 MB 588.4 kB/s eta 0:00:01\n",
      "   ------------------------------------ --- 1.0/1.2 MB 599.4 kB/s eta 0:00:01\n",
      "   ---------------------------------------- 1.2/1.2 MB 539.4 kB/s eta 0:00:00\n",
      "Installing collected packages: psycopg2\n",
      "Successfully installed psycopg2-2.9.10\n"
     ]
    }
   ],
   "source": [
    "# !pip install psycopg2"
   ]
  },
  {
   "cell_type": "code",
   "execution_count": 5,
   "id": "161cdf30-bd5d-46ba-9a2f-357d5e9c53a4",
   "metadata": {},
   "outputs": [],
   "source": [
    "import psycopg2\n",
    "from psycopg2 import sql"
   ]
  },
  {
   "cell_type": "code",
   "execution_count": 7,
   "id": "c0807457-3763-4a2b-8447-b96746321d95",
   "metadata": {},
   "outputs": [
    {
     "ename": "UnicodeDecodeError",
     "evalue": "'utf-8' codec can't decode byte 0xc2 in position 67: invalid continuation byte",
     "output_type": "error",
     "traceback": [
      "\u001b[1;31m---------------------------------------------------------------------------\u001b[0m",
      "\u001b[1;31mUnicodeDecodeError\u001b[0m                        Traceback (most recent call last)",
      "Cell \u001b[1;32mIn[7], line 5\u001b[0m\n\u001b[0;32m      1\u001b[0m \u001b[38;5;66;03m# import psycopg2\u001b[39;00m\n\u001b[0;32m      2\u001b[0m \u001b[38;5;66;03m# from psycopg2 import sql\u001b[39;00m\n\u001b[0;32m      3\u001b[0m \n\u001b[0;32m      4\u001b[0m \u001b[38;5;66;03m# Подключение\u001b[39;00m\n\u001b[1;32m----> 5\u001b[0m conn \u001b[38;5;241m=\u001b[39m psycopg2\u001b[38;5;241m.\u001b[39mconnect(\n\u001b[0;32m      6\u001b[0m     dbname\u001b[38;5;241m=\u001b[39m\u001b[38;5;124m\"\u001b[39m\u001b[38;5;124mnews_parser\u001b[39m\u001b[38;5;124m\"\u001b[39m,\n\u001b[0;32m      7\u001b[0m     user\u001b[38;5;241m=\u001b[39m\u001b[38;5;124m\"\u001b[39m\u001b[38;5;124mnikart_parser\u001b[39m\u001b[38;5;124m\"\u001b[39m,\n\u001b[0;32m      8\u001b[0m     password\u001b[38;5;241m=\u001b[39m\u001b[38;5;124m\"\u001b[39m\u001b[38;5;124marteeva12\u001b[39m\u001b[38;5;124m\"\u001b[39m,\n\u001b[0;32m      9\u001b[0m     host\u001b[38;5;241m=\u001b[39m\u001b[38;5;124m\"\u001b[39m\u001b[38;5;124mlocalhost\u001b[39m\u001b[38;5;124m\"\u001b[39m,  \u001b[38;5;66;03m# или IP удалённого сервера\u001b[39;00m\n\u001b[0;32m     10\u001b[0m     port\u001b[38;5;241m=\u001b[39m\u001b[38;5;124m\"\u001b[39m\u001b[38;5;124m5432\u001b[39m\u001b[38;5;124m\"\u001b[39m\n\u001b[0;32m     11\u001b[0m )\n",
      "File \u001b[1;32m~\\AppData\\Roaming\\Python\\Python312\\site-packages\\psycopg2\\__init__.py:122\u001b[0m, in \u001b[0;36mconnect\u001b[1;34m(dsn, connection_factory, cursor_factory, **kwargs)\u001b[0m\n\u001b[0;32m    119\u001b[0m     kwasync[\u001b[38;5;124m'\u001b[39m\u001b[38;5;124masync_\u001b[39m\u001b[38;5;124m'\u001b[39m] \u001b[38;5;241m=\u001b[39m kwargs\u001b[38;5;241m.\u001b[39mpop(\u001b[38;5;124m'\u001b[39m\u001b[38;5;124masync_\u001b[39m\u001b[38;5;124m'\u001b[39m)\n\u001b[0;32m    121\u001b[0m dsn \u001b[38;5;241m=\u001b[39m _ext\u001b[38;5;241m.\u001b[39mmake_dsn(dsn, \u001b[38;5;241m*\u001b[39m\u001b[38;5;241m*\u001b[39mkwargs)\n\u001b[1;32m--> 122\u001b[0m conn \u001b[38;5;241m=\u001b[39m _connect(dsn, connection_factory\u001b[38;5;241m=\u001b[39mconnection_factory, \u001b[38;5;241m*\u001b[39m\u001b[38;5;241m*\u001b[39mkwasync)\n\u001b[0;32m    123\u001b[0m \u001b[38;5;28;01mif\u001b[39;00m cursor_factory \u001b[38;5;129;01mis\u001b[39;00m \u001b[38;5;129;01mnot\u001b[39;00m \u001b[38;5;28;01mNone\u001b[39;00m:\n\u001b[0;32m    124\u001b[0m     conn\u001b[38;5;241m.\u001b[39mcursor_factory \u001b[38;5;241m=\u001b[39m cursor_factory\n",
      "\u001b[1;31mUnicodeDecodeError\u001b[0m: 'utf-8' codec can't decode byte 0xc2 in position 67: invalid continuation byte"
     ]
    }
   ],
   "source": [
    "# import psycopg2\n",
    "# from psycopg2 import sql\n",
    "\n",
    "# Подключение\n",
    "conn = psycopg2.connect(\n",
    "    dbname=\"news_parser\",\n",
    "    user=\"nikart_parser\",\n",
    "    password=\"arteeva12\",\n",
    "    host=\"localhost\",  # или IP удалённого сервера\n",
    "    port=\"5432\"\n",
    ")"
   ]
  },
  {
   "cell_type": "markdown",
   "id": "63f4fc6e-53f2-4c83-a5b9-ff0dea6cff28",
   "metadata": {},
   "source": [
    "### Создание таблицы"
   ]
  },
  {
   "cell_type": "code",
   "execution_count": null,
   "id": "4d7af19a-41d5-4911-8e45-93ba77817ac7",
   "metadata": {},
   "outputs": [],
   "source": [
    "cursor = conn.cursor()\n",
    "cursor.execute(\"\"\"\n",
    "    CREATE TABLE IF NOT EXISTS news (\n",
    "        id SERIAL PRIMARY KEY,\n",
    "        title TEXT NOT NULL,\n",
    "        author TEXT,\n",
    "        date TIMESTAMP,\n",
    "        link TEXT UNIQUE  # Защита от дубликатов\n",
    "    )\n",
    "\"\"\")"
   ]
  },
  {
   "cell_type": "markdown",
   "id": "9146eed7-1db4-41c0-ab6e-33bb5475f1cd",
   "metadata": {},
   "source": [
    "### Вставка данных"
   ]
  },
  {
   "cell_type": "code",
   "execution_count": null,
   "id": "c12bd750-126f-4161-b3c0-f0e58e429cbf",
   "metadata": {},
   "outputs": [],
   "source": [
    "cursor.execute(\"\"\"\n",
    "    INSERT INTO news (title, author, date, link)\n",
    "    VALUES (%s, %s, %s, %s)\n",
    "    ON CONFLICT (link) DO NOTHING  # Пропустить дубликаты\n",
    "\"\"\", (\"Заголовок\", \"Автор\", \"2023-01-01\", \"https://example.com\"))\n",
    "\n",
    "conn.commit()\n",
    "cursor.close()\n",
    "conn.close()"
   ]
  },
  {
   "cell_type": "code",
   "execution_count": null,
   "id": "2aecb5f6-5d05-4506-bec6-6795b1b58328",
   "metadata": {},
   "outputs": [],
   "source": []
  }
 ],
 "metadata": {
  "kernelspec": {
   "display_name": "Python 3 (ipykernel)",
   "language": "python",
   "name": "python3"
  },
  "language_info": {
   "codemirror_mode": {
    "name": "ipython",
    "version": 3
   },
   "file_extension": ".py",
   "mimetype": "text/x-python",
   "name": "python",
   "nbconvert_exporter": "python",
   "pygments_lexer": "ipython3",
   "version": "3.12.7"
  }
 },
 "nbformat": 4,
 "nbformat_minor": 5
}
