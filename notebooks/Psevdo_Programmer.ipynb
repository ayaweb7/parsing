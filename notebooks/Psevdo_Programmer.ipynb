{
 "cells": [
  {
   "cell_type": "markdown",
   "id": "f49dd3a9-77bd-40f9-9ada-74cd99c93505",
   "metadata": {},
   "source": [
    "# OZON Parser.PY"
   ]
  },
  {
   "cell_type": "code",
   "execution_count": 5,
   "id": "fd87770a-2b35-417a-93e7-de222643e8b9",
   "metadata": {},
   "outputs": [],
   "source": [
    "# \n",
    "import time\n",
    "import json\n",
    "\n",
    "from selenium import webdriver\n",
    "\n",
    "# Модуль для подмены параметров пользователя\n",
    "from selenium_stealth import stealth\n",
    "from bs4 import BeautifulSoup\n",
    "\n",
    "# \n",
    "from curl_cffi import requests"
   ]
  },
  {
   "cell_type": "code",
   "execution_count": 4,
   "id": "db67abfe-3023-4234-a6b9-7b4512ffb4cc",
   "metadata": {
    "collapsed": true,
    "jupyter": {
     "outputs_hidden": true
    }
   },
   "outputs": [
    {
     "name": "stdout",
     "output_type": "stream",
     "text": [
      "Defaulting to user installation because normal site-packages is not writeable\n",
      "Collecting curl_cffi\n",
      "  Downloading curl_cffi-0.9.0-cp38-abi3-win_amd64.whl.metadata (13 kB)\n",
      "Requirement already satisfied: cffi>=1.12.0 in c:\\programdata\\anaconda3\\lib\\site-packages (from curl_cffi) (1.17.1)\n",
      "Requirement already satisfied: certifi>=2024.2.2 in c:\\programdata\\anaconda3\\lib\\site-packages (from curl_cffi) (2024.8.30)\n",
      "Requirement already satisfied: pycparser in c:\\programdata\\anaconda3\\lib\\site-packages (from cffi>=1.12.0->curl_cffi) (2.21)\n",
      "Downloading curl_cffi-0.9.0-cp38-abi3-win_amd64.whl (1.3 MB)\n",
      "   ---------------------------------------- 0.0/1.3 MB ? eta -:--:--\n",
      "   ---------------------------------------- 0.0/1.3 MB ? eta -:--:--\n",
      "   ------- -------------------------------- 0.3/1.3 MB ? eta -:--:--\n",
      "   ------- -------------------------------- 0.3/1.3 MB ? eta -:--:--\n",
      "   --------------- ------------------------ 0.5/1.3 MB 932.9 kB/s eta 0:00:01\n",
      "   ----------------------- ---------------- 0.8/1.3 MB 1.0 MB/s eta 0:00:01\n",
      "   ---------------------------------------  1.3/1.3 MB 1.2 MB/s eta 0:00:01\n",
      "   ---------------------------------------- 1.3/1.3 MB 1.1 MB/s eta 0:00:00\n",
      "Installing collected packages: curl_cffi\n",
      "Successfully installed curl_cffi-0.9.0\n"
     ]
    }
   ],
   "source": [
    "# !pip install selenium_stealth\n",
    "# !pip install curl_cffi"
   ]
  },
  {
   "cell_type": "markdown",
   "id": "f9dd1a13-386e-4385-9002-2233ac0cb062",
   "metadata": {},
   "source": [
    "##### ChromeDriver\n",
    "The latest drivers can be found at:\n",
    "\n",
    "https://sites.google.com/chromium.org/driver"
   ]
  },
  {
   "cell_type": "code",
   "execution_count": 7,
   "id": "0071b6cb-b70c-4056-a084-fa40c6f91290",
   "metadata": {
    "collapsed": true,
    "jupyter": {
     "outputs_hidden": true
    }
   },
   "outputs": [
    {
     "ename": "WebDriverException",
     "evalue": "Message: unknown error: net::ERR_CONNECTION_TIMED_OUT\n  (Session info: chrome=132.0.6834.197)\nStacktrace:\n\tGetHandleVerifier [0x00007FF6778102F5+28725]\n\t(No symbol) [0x00007FF677772AE0]\n\t(No symbol) [0x00007FF67760510A]\n\t(No symbol) [0x00007FF677602861]\n\t(No symbol) [0x00007FF6775F3559]\n\t(No symbol) [0x00007FF6775F52AF]\n\t(No symbol) [0x00007FF6775F381F]\n\t(No symbol) [0x00007FF6775F32ED]\n\t(No symbol) [0x00007FF6775F2FBA]\n\t(No symbol) [0x00007FF6775F0DD1]\n\t(No symbol) [0x00007FF6775F145C]\n\t(No symbol) [0x00007FF67760824A]\n\t(No symbol) [0x00007FF6776A0FAE]\n\t(No symbol) [0x00007FF67767FFAA]\n\t(No symbol) [0x00007FF6776A0181]\n\t(No symbol) [0x00007FF67767FD53]\n\t(No symbol) [0x00007FF67764A0E3]\n\t(No symbol) [0x00007FF67764B471]\n\tGetHandleVerifier [0x00007FF677B3F30D+3366989]\n\tGetHandleVerifier [0x00007FF677B512F0+3440688]\n\tGetHandleVerifier [0x00007FF677B478FD+3401277]\n\tGetHandleVerifier [0x00007FF6778DAAAB+858091]\n\t(No symbol) [0x00007FF67777E74F]\n\t(No symbol) [0x00007FF67777A304]\n\t(No symbol) [0x00007FF67777A49D]\n\t(No symbol) [0x00007FF677768B69]\n\tBaseThreadInitThunk [0x00007FF80FC97BD4+20]\n\tRtlUserThreadStart [0x00007FF8100ECE51+33]\n",
     "output_type": "error",
     "traceback": [
      "\u001b[1;31m---------------------------------------------------------------------------\u001b[0m",
      "\u001b[1;31mWebDriverException\u001b[0m                        Traceback (most recent call last)",
      "Cell \u001b[1;32mIn[7], line 7\u001b[0m\n\u001b[0;32m      1\u001b[0m \u001b[38;5;66;03m# Простой код для имитации входа на сайт\u001b[39;00m\n\u001b[0;32m      2\u001b[0m \n\u001b[0;32m      3\u001b[0m \u001b[38;5;66;03m# from selenium import webdriver\u001b[39;00m\n\u001b[0;32m      4\u001b[0m \u001b[38;5;66;03m# import time\u001b[39;00m\n\u001b[0;32m      6\u001b[0m driver \u001b[38;5;241m=\u001b[39m webdriver\u001b[38;5;241m.\u001b[39mChrome()\n\u001b[1;32m----> 7\u001b[0m driver\u001b[38;5;241m.\u001b[39mget(\u001b[38;5;124m'\u001b[39m\u001b[38;5;124mhttps://oson.ru\u001b[39m\u001b[38;5;124m'\u001b[39m)\n\u001b[0;32m      8\u001b[0m time\u001b[38;5;241m.\u001b[39msleep(\u001b[38;5;241m10\u001b[39m)\n",
      "File \u001b[1;32m~\\AppData\\Roaming\\Python\\Python312\\site-packages\\selenium\\webdriver\\remote\\webdriver.py:454\u001b[0m, in \u001b[0;36mWebDriver.get\u001b[1;34m(self, url)\u001b[0m\n\u001b[0;32m    436\u001b[0m \u001b[38;5;28;01mdef\u001b[39;00m \u001b[38;5;21mget\u001b[39m(\u001b[38;5;28mself\u001b[39m, url: \u001b[38;5;28mstr\u001b[39m) \u001b[38;5;241m-\u001b[39m\u001b[38;5;241m>\u001b[39m \u001b[38;5;28;01mNone\u001b[39;00m:\n\u001b[0;32m    437\u001b[0m \u001b[38;5;250m    \u001b[39m\u001b[38;5;124;03m\"\"\"Navigate the browser to the specified URL in the current window or\u001b[39;00m\n\u001b[0;32m    438\u001b[0m \u001b[38;5;124;03m    tab.\u001b[39;00m\n\u001b[0;32m    439\u001b[0m \n\u001b[1;32m   (...)\u001b[0m\n\u001b[0;32m    452\u001b[0m \u001b[38;5;124;03m    >>> driver.get(\"https://example.com\")\u001b[39;00m\n\u001b[0;32m    453\u001b[0m \u001b[38;5;124;03m    \"\"\"\u001b[39;00m\n\u001b[1;32m--> 454\u001b[0m     \u001b[38;5;28mself\u001b[39m\u001b[38;5;241m.\u001b[39mexecute(Command\u001b[38;5;241m.\u001b[39mGET, {\u001b[38;5;124m\"\u001b[39m\u001b[38;5;124murl\u001b[39m\u001b[38;5;124m\"\u001b[39m: url})\n",
      "File \u001b[1;32m~\\AppData\\Roaming\\Python\\Python312\\site-packages\\selenium\\webdriver\\remote\\webdriver.py:429\u001b[0m, in \u001b[0;36mWebDriver.execute\u001b[1;34m(self, driver_command, params)\u001b[0m\n\u001b[0;32m    427\u001b[0m response \u001b[38;5;241m=\u001b[39m \u001b[38;5;28mself\u001b[39m\u001b[38;5;241m.\u001b[39mcommand_executor\u001b[38;5;241m.\u001b[39mexecute(driver_command, params)\n\u001b[0;32m    428\u001b[0m \u001b[38;5;28;01mif\u001b[39;00m response:\n\u001b[1;32m--> 429\u001b[0m     \u001b[38;5;28mself\u001b[39m\u001b[38;5;241m.\u001b[39merror_handler\u001b[38;5;241m.\u001b[39mcheck_response(response)\n\u001b[0;32m    430\u001b[0m     response[\u001b[38;5;124m\"\u001b[39m\u001b[38;5;124mvalue\u001b[39m\u001b[38;5;124m\"\u001b[39m] \u001b[38;5;241m=\u001b[39m \u001b[38;5;28mself\u001b[39m\u001b[38;5;241m.\u001b[39m_unwrap_value(response\u001b[38;5;241m.\u001b[39mget(\u001b[38;5;124m\"\u001b[39m\u001b[38;5;124mvalue\u001b[39m\u001b[38;5;124m\"\u001b[39m, \u001b[38;5;28;01mNone\u001b[39;00m))\n\u001b[0;32m    431\u001b[0m     \u001b[38;5;28;01mreturn\u001b[39;00m response\n",
      "File \u001b[1;32m~\\AppData\\Roaming\\Python\\Python312\\site-packages\\selenium\\webdriver\\remote\\errorhandler.py:232\u001b[0m, in \u001b[0;36mErrorHandler.check_response\u001b[1;34m(self, response)\u001b[0m\n\u001b[0;32m    230\u001b[0m         alert_text \u001b[38;5;241m=\u001b[39m value[\u001b[38;5;124m\"\u001b[39m\u001b[38;5;124malert\u001b[39m\u001b[38;5;124m\"\u001b[39m]\u001b[38;5;241m.\u001b[39mget(\u001b[38;5;124m\"\u001b[39m\u001b[38;5;124mtext\u001b[39m\u001b[38;5;124m\"\u001b[39m)\n\u001b[0;32m    231\u001b[0m     \u001b[38;5;28;01mraise\u001b[39;00m exception_class(message, screen, stacktrace, alert_text)  \u001b[38;5;66;03m# type: ignore[call-arg]  # mypy is not smart enough here\u001b[39;00m\n\u001b[1;32m--> 232\u001b[0m \u001b[38;5;28;01mraise\u001b[39;00m exception_class(message, screen, stacktrace)\n",
      "\u001b[1;31mWebDriverException\u001b[0m: Message: unknown error: net::ERR_CONNECTION_TIMED_OUT\n  (Session info: chrome=132.0.6834.197)\nStacktrace:\n\tGetHandleVerifier [0x00007FF6778102F5+28725]\n\t(No symbol) [0x00007FF677772AE0]\n\t(No symbol) [0x00007FF67760510A]\n\t(No symbol) [0x00007FF677602861]\n\t(No symbol) [0x00007FF6775F3559]\n\t(No symbol) [0x00007FF6775F52AF]\n\t(No symbol) [0x00007FF6775F381F]\n\t(No symbol) [0x00007FF6775F32ED]\n\t(No symbol) [0x00007FF6775F2FBA]\n\t(No symbol) [0x00007FF6775F0DD1]\n\t(No symbol) [0x00007FF6775F145C]\n\t(No symbol) [0x00007FF67760824A]\n\t(No symbol) [0x00007FF6776A0FAE]\n\t(No symbol) [0x00007FF67767FFAA]\n\t(No symbol) [0x00007FF6776A0181]\n\t(No symbol) [0x00007FF67767FD53]\n\t(No symbol) [0x00007FF67764A0E3]\n\t(No symbol) [0x00007FF67764B471]\n\tGetHandleVerifier [0x00007FF677B3F30D+3366989]\n\tGetHandleVerifier [0x00007FF677B512F0+3440688]\n\tGetHandleVerifier [0x00007FF677B478FD+3401277]\n\tGetHandleVerifier [0x00007FF6778DAAAB+858091]\n\t(No symbol) [0x00007FF67777E74F]\n\t(No symbol) [0x00007FF67777A304]\n\t(No symbol) [0x00007FF67777A49D]\n\t(No symbol) [0x00007FF677768B69]\n\tBaseThreadInitThunk [0x00007FF80FC97BD4+20]\n\tRtlUserThreadStart [0x00007FF8100ECE51+33]\n"
     ]
    }
   ],
   "source": [
    "# Простой код для имитации входа на сайт\n",
    "\n",
    "# from selenium import webdriver\n",
    "# import time\n",
    "\n",
    "driver = webdriver.Chrome()\n",
    "driver.get('https://oson.ru')\n",
    "time.sleep(10)\n",
    "\n",
    "# Не удается получить доступ к сайту\n",
    "# Превышено время ожидания ответа от сайта oson.ru."
   ]
  },
  {
   "cell_type": "code",
   "execution_count": 11,
   "id": "967d3254-96d6-4f80-9531-14c240baa903",
   "metadata": {},
   "outputs": [],
   "source": [
    "# Функция для обхода защиты от скрапинга - # Модуль для подмены параметров браузера\n",
    "\n",
    "def init_webdriver():\n",
    "    driver = webdriver.Chrome()\n",
    "    stealth(driver,\n",
    "            languages=[\"en-US\", \"en\"],\n",
    "            vendor=\"Google Inc.\",\n",
    "            platform=\"Win32\",\n",
    "            webgl_vendor=\"Intel Inc.\",\n",
    "            renderer=\"Intel Iris OpenGL Engine\",\n",
    "            fix_hairline=True)\n",
    "    driver.maximize_window()\n",
    "    return driver"
   ]
  },
  {
   "cell_type": "code",
   "execution_count": 9,
   "id": "27af4d0a-7fc5-4cca-b613-bed855c15849",
   "metadata": {},
   "outputs": [
    {
     "data": {
      "text/plain": [
       "<selenium.webdriver.chrome.webdriver.WebDriver (session=\"09efe2c32e9ae17c38ca05ae40d3c63c\")>"
      ]
     },
     "execution_count": 9,
     "metadata": {},
     "output_type": "execute_result"
    }
   ],
   "source": [
    "# init_webdriver()"
   ]
  },
  {
   "cell_type": "code",
   "execution_count": 13,
   "id": "62eab468-1b2d-4bc5-907d-aa8220b0ce09",
   "metadata": {},
   "outputs": [],
   "source": [
    "# Если после запуска этого модуля попасть на сайт, то:\n",
    "driver = init_webdriver()\n",
    "# driver = webdriver.Chrome()\n",
    "# driver.get('https://oson.ru')\n",
    "driver.get('https://www.ozon.ru/?__rr=1&abt_att=1&origin_referer=www.google.com')\n",
    "time.sleep(10)"
   ]
  },
  {
   "cell_type": "code",
   "execution_count": null,
   "id": "41c4522e-51e0-40a9-8c1d-04d83a0d276d",
   "metadata": {},
   "outputs": [],
   "source": [
    "# Функция для прокрутки страницы\n",
    "def scrolldown(driver, deep):\n",
    "    for _ in range(deep):\n",
    "        driver.execute_script('window.scrollBy(0, 500)') # 0 - перемещение по X ; 500 - перемещение по Y\n",
    "        time.sleep(0.1)"
   ]
  },
  {
   "cell_type": "code",
   "execution_count": null,
   "id": "30d48fa6-0e50-492f-a10c-7476fe8ab3c5",
   "metadata": {},
   "outputs": [],
   "source": [
    "# \n",
    "\n",
    "def get_product_info(product_url):\n",
    "    session = requests.Session()\n",
    "\n",
    "    raw_data = session.get(\"https://www.ozon.ru/api/composer-api.bx/page/json/v2?url=\" + product_url)\n",
    "# https://www.ozon.ru/api/composer-api.bx/page/json/v2?url=product/pandora-sharm-1653191574/?at=99trjPgn0sGVJG1jfABrrLJuLXP2YQtQjZklGI1jqWP8\n",
    "# https://www.ozon.ru/\n",
    "    json_data = json.loads(raw_data.content.decode())\n",
    "\n",
    "    full_name = json_data[\"seo\"][\"title\"]\n",
    "\n",
    "    if json_data[\"layout\"][0][\"component\"] == \"userAdultModal\":\n",
    "        product_id = str(full_name.split()[-1])[1:-1]\n",
    "        print(product_id, full_name)\n",
    "        return (product_id, full_name, \"Товар для лиц старше 18 лет\", None, None)\n",
    "    else:\n",
    "        description = json.loads(json_data[\"seo\"][\"script\"][0][\"innerHTML\"])[\"description\"]\n",
    "        image_url = json.loads(json_data[\"seo\"][\"script\"][0][\"innerHTML\"])[\"image\"]\n",
    "        price = json.loads(json_data[\"seo\"][\"script\"][0][\"innerHTML\"])[\"offers\"][\"price\"] + \" \" +\\\n",
    "                json.loads(json_data[\"seo\"][\"script\"][0][\"innerHTML\"])[\"offers\"][\"priceCurrency\"]\n",
    "        rating = json.loads(json_data[\"seo\"][\"script\"][0][\"innerHTML\"][\"ratingValue\"])\n",
    "        rating_counter = json.loads(json_data[\"seo\"][\"script\"][0][\"innerHTML\"][\"reviewCount\"])\n",
    "        product_id = json.loads(json_data[\"seo\"][\"script\"][0][\"innerHTML\"])[\"sku\"]\n",
    "\n",
    "        return (product_id, full_name, description, price, rating, rating_counter, image_url)"
   ]
  },
  {
   "cell_type": "code",
   "execution_count": null,
   "id": "6b5db311-8827-4c45-ac8e-63c812b6eb19",
   "metadata": {},
   "outputs": [],
   "source": [
    "# Функция для определения блоков с информацией\n",
    "\n",
    "def get_mainpage_cards(driver, url):\n",
    "    driver.get(url)\n",
    "    scrolldown(driver, 50)\n",
    "    main_page_html = BeautifulSoup(driver.page_source, \"html.parser\")\n",
    "\n",
    "# Это главный тэг в котором находятся все карточки\n",
    "    content = main_page_html.find(\"div\", {\"class\": \"container\"})\n",
    "\n",
    "# Собираем все вложенные тэги (\"recursive=False\" не позволяет искать вложенные тэги), то есть на 1 уровень вложенности и забираем ПАГИНАТОР\n",
    "    content = content.findChildren(recursive=False)[-1].find(\"div\")\n",
    "\n",
    "# Углубляемся в ПАГИНАТОР и забираем все ДИВы\n",
    "    content = content.findChildren(recursive=False)\n",
    "\n",
    "# Собираем список из тэгов, содержащих \"freshIsland\" и забираем из него самый последний ИЛИ ПРОСТО \"island\"\n",
    "    content = [item for item in content if \"freshIsland\" in str(item)][-1]\n",
    "\n",
    "# Переходим последовательно внутрь блоков: 1)оболочка; 2)пагинатор; 3)блок с классами - третий вложенный блок\n",
    "    content = content.find(\"div\").find(\"div\").find(\"div\")\n",
    "\n",
    "# Во вложенном блоке лежит секция с карточками товаров (это опять блок - оболочка в котором лежат карточки товаров) !!!!!!\n",
    "    content = content.findChildren(recursive=False)\n",
    "\n",
    "# Теперь !!!!! НАКОНЕЦ-ТО !!!!! можно пройти циклом по карточкам товаров, лежащим в одной (первой секции)\n",
    "    all_cards = list() # список для всех карточек во всех слоях\n",
    "    for layer in content:\n",
    "        layer = layer.find(\"div\") # это блок с карточкой, который в свою очередь состоит из 3-х блоков\n",
    "        cards = layer.findChildren(recursive=False) # забираем все дочерние блоки ()\n",
    "\n",
    "        cards_in_layer = list() # список для карточек в КАЖДОМ ИЗ слоёв\n",
    "        for card in cards:\n",
    "            card = card.findChildren(recursive=False) # добираемся до блока с информацией - это последний из дочерних блоков\n",
    "\n",
    "            card_name = card[2].find(\"span\", {\"class\": \"tsBody500Medium\"}).contents[0] # это всё текстовое содержимое блока (tsBody500Medium)\n",
    "            card_url = card[2].find(\"a\", href=True)[\"href\"] # относительная ссылка на карточку\n",
    "            product_url = \"https://ozon.ru/\" + card_url # абсолютная ссылка на карточку\n",
    "\n",
    "            product_id, full_name, description, price, rating, rating_counter, image_url = get_product_info(card_url)\n",
    "            card_info = {product_id: {\"short_name\": card_name,\n",
    "                                      \"full_name\": full_name,\n",
    "                                      \"description\": description,\n",
    "                                      \"url\": product_url,\n",
    "                                      \"rating\": rating,\n",
    "                                      \"rating_counter\": rating_counter,\n",
    "                                      \"price\": price,\n",
    "                                      \"image_url\": image_url\n",
    "                                      }\n",
    "                         }\n",
    "            cards_in_layer.append(card_info)\n",
    "            print(product_id, \"- DONE\")\n",
    "\n",
    "        all_cards.extend(cards_in_layer)\n",
    "    return all_cards"
   ]
  },
  {
   "cell_type": "code",
   "execution_count": null,
   "id": "2f9b6154-b678-40fd-9b0d-e71e366fad86",
   "metadata": {},
   "outputs": [],
   "source": [
    "# \n",
    "\n",
    "def get_searchpage_cards(driver, url, all_cards = []):\n",
    "    driver.get(url)\n",
    "    scrolldown(driver, 20)\n",
    "    search_page_html = BeautifulSoup(driver.page_source, \"html.parser\")\n",
    "\n",
    "    content = search_page_html.find(\"div\", {\"id\": \"layoutPage\"})\n",
    "    content = content.find(\"div\")\n",
    "\n",
    "    content_with_cards = content.find(\"div\", {\"class\": \"widget-search-result-container\"})\n",
    "    content_with_cards = content_with_cards.find(\"div\").findChildren(recursive=False)\n",
    "\n",
    "    cards_in_page = list()\n",
    "    for card in content_with_cards:\n",
    "        card_url = card.find(\"a\", href=True)[\"href\"]\n",
    "        card_name = card.find(\"span\", {\"class\": \"tsBody500Medium\"}).contents[0]\n",
    "\n",
    "        product_url = \"https://ozon.ru/\" + card_url\n",
    "\n",
    "        product_id, full_name, description, price, rating, rating_counter, image_url = get_product_info(card_url)\n",
    "        card_info = {product_id: {\"short_name\": card_name,\n",
    "                                  \"full_name\": full_name,\n",
    "                                  \"description\": description,\n",
    "                                  \"url\": product_url,\n",
    "                                  \"rating\": rating,\n",
    "                                  \"rating_counter\": rating_counter,\n",
    "                                  \"price\": price,\n",
    "                                  \"image_url\": image_url\n",
    "                                  }\n",
    "                     }\n",
    "        cards_in_page.append(card_info)\n",
    "        print(product_id, \"- DONE\")\n",
    "\n",
    "    content_with_next = [div for div in content.find_all(\"a\", href=True) if \"Дальше\" in str(div)]\n",
    "    if not content_with_next:\n",
    "        return cards_in_page\n",
    "    else:\n",
    "        next_page_url = \"https://www.ozon.ru\" + content_with_next[0][\"href\"]\n",
    "        all_cards.extend(get_searchpage_cards(driver, next_page_url, cards_in_page))\n",
    "        return all_cards"
   ]
  },
  {
   "cell_type": "code",
   "execution_count": null,
   "id": "b2a6b7c0-edf6-42f0-89f3-95e8b3f49ac6",
   "metadata": {},
   "outputs": [],
   "source": [
    "# \n",
    "\n",
    "if __name__ == \"__main__\":\n",
    "    url_ozon = \"https://www.ozon.ru\"\n",
    "\n",
    "    driver = init_webdriver()\n",
    "\n",
    "    search_list = [\"пиво+светлое\", \"бандана+мужская+с+черепами\", \"сухарики+кириешки\", \"RTX+4090\"]\n",
    "    end_list = list()\n",
    "\n",
    "    try:\n",
    "        main_cards = get_mainpage_cards(driver, url_ozon)\n",
    "        print(\"Я успешно нашёл\", len(main_cards), \"на главной странице\")\n",
    "        end_list.append(\"MAIN\")\n",
    "    except:\n",
    "        print(\"Я упал на парсинге главной страницы\")\n",
    "\n",
    "    for search_tag in search_list:\n",
    "        url_search = f\"https://www.ozon.ru/search/?text={search_tag}&from_global=true\"\n",
    "\n",
    "        try:\n",
    "            search_cards = get_searchpage_cards(driver, url_search)\n",
    "            print(\"Я успешно нашёл\", len(search_cards), \"по поиску\", search_tag)\n",
    "            end_list.append(search_tag)\n",
    "        except:\n",
    "            print(\"Я упал на\", search_tag)\n",
    "    print(end_list)\n"
   ]
  },
  {
   "cell_type": "code",
   "execution_count": null,
   "id": "05b41612-6088-4827-bb87-a26b4688e3d8",
   "metadata": {},
   "outputs": [],
   "source": []
  },
  {
   "cell_type": "markdown",
   "id": "bafdc68d-fa59-4bc9-8803-502f20601814",
   "metadata": {},
   "source": [
    "# GET PRODUCT INFO.PY"
   ]
  },
  {
   "cell_type": "code",
   "execution_count": null,
   "id": "ec90a428-bffe-446a-8b7c-fad8986f213d",
   "metadata": {},
   "outputs": [],
   "source": [
    "# \n",
    "\n",
    "from curl_cffi import requests\n",
    "import json"
   ]
  },
  {
   "cell_type": "code",
   "execution_count": null,
   "id": "954c17d2-8380-4cdd-9c98-e4e767d0d274",
   "metadata": {},
   "outputs": [],
   "source": [
    "# формируем сессию и получаем куки\n",
    "\n",
    "s = requests.Session()\n",
    "s.get(\"https://www.ozon.ru\")\n",
    "print(*str(s.cookies).split(\", \"), sep=\"\\n\")\n",
    "\n",
    "url_prod = \"https://www.ozon.ru/api/composer-api.bx/page/json/v2?url=/product/artbuk-h-r-a-m-monohromnyy-uzhas-h-r-a-m-1173897628/?avtc=1&avte=2&avts=1719315501\"\n",
    "\n",
    "r = s.get(\"https://www.ozon.ru/api/composer-api.bx/page/json/v2?url=/product/futbolka-rustactic-politsiya-991026398\")\n",
    "\n",
    "#print(r)\n",
    "json_data = json.loads(r.content.decode())\n",
    "print(json_data[\"seo\"][\"title\"])\n",
    "print(json.loads(json_data[\"seo\"][\"script\"][0][\"innerHTML\"])[\"description\"])\n",
    "print(json.loads(json_data[\"seo\"][\"script\"][0][\"innerHTML\"])[\"image\"])\n",
    "print(json.loads(json_data[\"seo\"][\"script\"][0][\"innerHTML\"])[\"offers\"][\"price\"] + \" \" +\n",
    "      json.loads(json_data[\"seo\"][\"script\"][0][\"innerHTML\"])[\"offers\"][\"priceCurrency\"])\n",
    "print(json.loads(json_data[\"seo\"][\"script\"][0][\"innerHTML\"])[\"sku\"])"
   ]
  },
  {
   "cell_type": "code",
   "execution_count": null,
   "id": "ca6cf214-e610-4ad0-a50b-03a409dffdab",
   "metadata": {},
   "outputs": [],
   "source": []
  }
 ],
 "metadata": {
  "kernelspec": {
   "display_name": "Python 3 (ipykernel)",
   "language": "python",
   "name": "python3"
  },
  "language_info": {
   "codemirror_mode": {
    "name": "ipython",
    "version": 3
   },
   "file_extension": ".py",
   "mimetype": "text/x-python",
   "name": "python",
   "nbconvert_exporter": "python",
   "pygments_lexer": "ipython3",
   "version": "3.12.7"
  }
 },
 "nbformat": 4,
 "nbformat_minor": 5
}
