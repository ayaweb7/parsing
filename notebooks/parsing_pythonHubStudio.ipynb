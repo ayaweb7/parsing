{
 "cells": [
  {
   "cell_type": "markdown",
   "id": "b1656d8d-df67-4917-b61e-b2e560bb2db1",
   "metadata": {},
   "source": [
    "# Учим парсинг на python и bs4 Курс по парсингу веб сайтов на python с нуля профессия backend аналитик"
   ]
  },
  {
   "cell_type": "markdown",
   "id": "51bc48ac-557c-4994-9914-1ce0fb592061",
   "metadata": {},
   "source": [
    "### https://youtu.be/lOfm04oLD1U?si=k0If8WOumhlsnTFy"
   ]
  },
  {
   "cell_type": "code",
   "execution_count": 2,
   "id": "e5662d7d-7402-4886-8e7f-6623cbe21142",
   "metadata": {},
   "outputs": [],
   "source": [
    "# Установка необходимых библиотек\n",
    "import requests\n",
    "from bs4 import BeautifulSoup"
   ]
  },
  {
   "cell_type": "code",
   "execution_count": 92,
   "id": "5f5ad35c-7a7d-4d59-a522-740ece574798",
   "metadata": {},
   "outputs": [],
   "source": [
    "# Подключаем библиотеку для поиска элементов кода на сайте !!!!!!!!!!!!!\n",
    "# Библиотека PYTHON для извлечения данных из файлов HTML и XML\n",
    "from bs4 import BeautifulSoup\n",
    "\n",
    "# Подключаем библиотеку для парсинга сайтов !!!!!!!!!!!!!\n",
    "import requests\n",
    "import json\n",
    "import csv\n",
    "import random\n",
    "from time import sleep\n",
    "from lxml import etree\n",
    "\n",
    "import pandas as pd"
   ]
  },
  {
   "cell_type": "code",
   "execution_count": null,
   "id": "be265190-f6c3-40fc-923d-231e76411f51",
   "metadata": {},
   "outputs": [],
   "source": [
    "from time import sleep\n",
    "# Для симуляции работы реального пользователя, а не робота\n",
    "sleep(random.randrange(2, 4))"
   ]
  },
  {
   "cell_type": "code",
   "execution_count": 41,
   "id": "52918c3d-5c49-4807-ac0d-454c37e8fa92",
   "metadata": {},
   "outputs": [],
   "source": [
    "# Создаём переменные-КОНСТАНТЫ\n",
    "# PAGE = 1\n",
    "HOST = 'https://scrapingclub.com'\n",
    "URL = 'https://scrapingclub.com/exercise/list_basic/?page=1'\n",
    "HEADERS = {\n",
    "    'accept': 'text/html,application/xhtml+xml,application/xml;q=0.9,image/avif,image/webp,image/apng,*/*;q=0.8,application/signed-exchange;v=b3;q=0.9',\n",
    "    'user-agent': 'Mozilla/5.0 (Windows NT 10.0; Win64; x64) AppleWebKit/537.36 (KHTML, like Gecko) Chrome/109.0.0.0 Safari/537.36'\n",
    "}\n",
    "CSV = 'catalog.csv'"
   ]
  },
  {
   "cell_type": "code",
   "execution_count": 5,
   "id": "6a6f609a-2b2a-4b77-a8de-a0f5ac2dd298",
   "metadata": {},
   "outputs": [],
   "source": [
    "# Отправляем запрос на страницу, передаём в качестве GET-параметра URL-адрес\n",
    "# Сохраним нашу страницу в файл И ЗАКОММЕНТИРУЕМ ЭТУ КОМАНДУ за ненадобностью\n",
    "\n",
    "res = requests.get(url=URL, headers=HEADERS)\n",
    "src = res.text\n",
    "with open('../data/interim/html/index_hubstudio_catalog.html', 'w', encoding='utf-8') as file:\n",
    "    file.write(src)"
   ]
  },
  {
   "cell_type": "code",
   "execution_count": 4,
   "id": "6b69303b-a21b-4b13-8515-193dce7578b7",
   "metadata": {},
   "outputs": [],
   "source": [
    "# Теперь откроем наш файл, прочитаем и сохраним код страницы в переменную:\n",
    "with open('../data/interim/html/index_hubstudio_catalog.html', encoding='utf-8') as file:\n",
    "    src = file.read()\n",
    "# print(src)"
   ]
  },
  {
   "cell_type": "code",
   "execution_count": 5,
   "id": "46b893dd-469a-497b-b1bb-1ab0f3509bff",
   "metadata": {},
   "outputs": [],
   "source": [
    "# Создаём объект Супа с параметрами \n",
    "soup = BeautifulSoup(src, 'lxml')"
   ]
  },
  {
   "cell_type": "markdown",
   "id": "64707c6d-9fe2-4578-a8c2-f723cfe52433",
   "metadata": {},
   "source": [
    "## Парсим первый сайт с интернет каталогом"
   ]
  },
  {
   "cell_type": "code",
   "execution_count": null,
   "id": "7023254d-4d46-4780-9e23-b1b919a41ba7",
   "metadata": {},
   "outputs": [],
   "source": [
    "# \n",
    "# URL = 'https://scrapingclub.com/exercise/list_basic/?page=1'"
   ]
  },
  {
   "cell_type": "code",
   "execution_count": null,
   "id": "d8b73280-4332-4e01-b42f-8d07639dd371",
   "metadata": {},
   "outputs": [],
   "source": [
    "# Две первые стандартные команды для скачивания HTML-кода\n",
    "# res = requests.get(url=URL, headers=HEADERS)\n",
    "# soup = BeautifulSoup(res.text, 'lxml')"
   ]
  },
  {
   "cell_type": "markdown",
   "id": "bdcc9205-34d9-4791-aa2f-7da39a2cc764",
   "metadata": {},
   "source": [
    "### Находим информацию по одной карточке товара"
   ]
  },
  {
   "cell_type": "code",
   "execution_count": 6,
   "id": "0c0213c3-f1be-4d43-a52c-ca9dd03684fb",
   "metadata": {},
   "outputs": [],
   "source": [
    "# Определяем общий блок со всей информацией\n",
    "block = soup.find('div', class_='w-full rounded border')"
   ]
  },
  {
   "cell_type": "code",
   "execution_count": 8,
   "id": "783d6a2b-5672-488a-bb71-bc7eb3d0f005",
   "metadata": {},
   "outputs": [
    {
     "name": "stdout",
     "output_type": "stream",
     "text": [
      "<div class=\"w-full rounded border\">\n",
      "<a href=\"/exercise/list_basic_detail/90008-E/\">\n",
      "<img alt=\"\" class=\"card-img-top img-fluid\" src=\"/static/img/90008-E.jpg\"/>\n",
      "</a>\n",
      "<div class=\"p-4\">\n",
      "<h4>\n",
      "<a href=\"/exercise/list_basic_detail/90008-E/\">Short Dress</a>\n",
      "</h4>\n",
      "<h5>$24.99</h5>\n",
      "</div>\n",
      "</div>\n"
     ]
    }
   ],
   "source": [
    "# \n",
    "print(block)"
   ]
  },
  {
   "cell_type": "code",
   "execution_count": 16,
   "id": "506b2e38-2851-4734-9386-6c7c9f493467",
   "metadata": {},
   "outputs": [],
   "source": [
    "# Наименование товара\n",
    "name = block.find('h4').text.replace('\\n', '')"
   ]
  },
  {
   "cell_type": "code",
   "execution_count": 17,
   "id": "1fb27efe-96a0-4fed-9e27-43d3859383b9",
   "metadata": {},
   "outputs": [
    {
     "data": {
      "text/plain": [
       "'Short Dress'"
      ]
     },
     "execution_count": 17,
     "metadata": {},
     "output_type": "execute_result"
    }
   ],
   "source": [
    "# В данном случае результат применения STRIP() и REPLACE() идентичны\n",
    "# name.text.strip()\n",
    "# name.text.replace('\\n', '')\n",
    "name"
   ]
  },
  {
   "cell_type": "code",
   "execution_count": 24,
   "id": "562d010b-7f0d-4b02-a61f-3cfa9a83631c",
   "metadata": {},
   "outputs": [],
   "source": [
    "# Цена\n",
    "price = float(block.find('h5').text.replace('$', ''))"
   ]
  },
  {
   "cell_type": "code",
   "execution_count": 25,
   "id": "1eb7a64d-f626-4f09-bb61-c1e8995c38a6",
   "metadata": {},
   "outputs": [
    {
     "data": {
      "text/plain": [
       "24.99"
      ]
     },
     "execution_count": 25,
     "metadata": {},
     "output_type": "execute_result"
    }
   ],
   "source": [
    "# \n",
    "price"
   ]
  },
  {
   "cell_type": "code",
   "execution_count": 30,
   "id": "27dc86b7-86ca-4307-b555-2c7028c15cb8",
   "metadata": {},
   "outputs": [],
   "source": [
    "# Адрес картинки\n",
    "url_img = HOST + block.find('img', class_='card-img-top img-fluid').get('src')"
   ]
  },
  {
   "cell_type": "code",
   "execution_count": 31,
   "id": "b5f8a1fd-d5e7-4cbf-8085-d34a3662d360",
   "metadata": {},
   "outputs": [
    {
     "data": {
      "text/plain": [
       "'https://scrapingclub.com/static/img/90008-E.jpg'"
      ]
     },
     "execution_count": 31,
     "metadata": {},
     "output_type": "execute_result"
    }
   ],
   "source": [
    "# \n",
    "url_img"
   ]
  },
  {
   "cell_type": "code",
   "execution_count": 36,
   "id": "5f5f7ceb-15a6-46f0-adc6-c8d17efdaf74",
   "metadata": {},
   "outputs": [],
   "source": [
    "# Ссылка на карточку товара\n",
    "link = HOST + block.find('a').get('href')"
   ]
  },
  {
   "cell_type": "code",
   "execution_count": 37,
   "id": "4cdfd786-6b45-4c97-8ca5-4dd2ea604498",
   "metadata": {},
   "outputs": [
    {
     "data": {
      "text/plain": [
       "'https://scrapingclub.com/exercise/list_basic_detail/90008-E/'"
      ]
     },
     "execution_count": 37,
     "metadata": {},
     "output_type": "execute_result"
    }
   ],
   "source": [
    "# \n",
    "link"
   ]
  },
  {
   "cell_type": "code",
   "execution_count": 39,
   "id": "4246ac5d-226c-4145-9f12-0088865d779f",
   "metadata": {},
   "outputs": [
    {
     "name": "stdout",
     "output_type": "stream",
     "text": [
      "Товар: Short Dress;\n",
      "Цена: 24.99;\n",
      "Картинка: https://scrapingclub.com/static/img/90008-E.jpg;\n",
      "Ссылка: https://scrapingclub.com/exercise/list_basic_detail/90008-E/\n"
     ]
    }
   ],
   "source": [
    "# Напечатаем найденную информацию\n",
    "print(f'Товар: {name};\\nЦена: {price};\\nКартинка: {url_img};\\nСсылка: {link}')"
   ]
  },
  {
   "cell_type": "code",
   "execution_count": null,
   "id": "77e05557-db7f-46b9-8144-39500b62cc4f",
   "metadata": {},
   "outputs": [],
   "source": []
  },
  {
   "cell_type": "markdown",
   "id": "f6326c2c-c83f-49d8-8dc3-a6925b1d1e8a",
   "metadata": {},
   "source": [
    "### Получаем данные со всех карточек, которые есть на странице"
   ]
  },
  {
   "cell_type": "code",
   "execution_count": 40,
   "id": "5cda7e40-bf7d-415a-9b7f-cae9f8c0f994",
   "metadata": {
    "collapsed": true,
    "jupyter": {
     "outputs_hidden": true
    }
   },
   "outputs": [
    {
     "name": "stdout",
     "output_type": "stream",
     "text": [
      "Товар: Short Dress; Цена: 24.99; Картинка: https://scrapingclub.com/static/img/90008-E.jpg; Ссылка: https://scrapingclub.com/exercise/list_basic_detail/90008-E/\n",
      "Товар: Patterned Slacks; Цена: 29.99; Картинка: https://scrapingclub.com/static/img/96436-A.jpg; Ссылка: https://scrapingclub.com/exercise/list_basic_detail/96436-A/\n",
      "Товар: Short Chiffon Dress; Цена: 49.99; Картинка: https://scrapingclub.com/static/img/93926-B.jpg; Ссылка: https://scrapingclub.com/exercise/list_basic_detail/93926-B/\n",
      "Товар: Off-the-shoulder Dress; Цена: 59.99; Картинка: https://scrapingclub.com/static/img/90882-B.jpg; Ссылка: https://scrapingclub.com/exercise/list_basic_detail/90882-B/\n",
      "Товар: V-neck Top; Цена: 24.99; Картинка: https://scrapingclub.com/static/img/93756-C.jpg; Ссылка: https://scrapingclub.com/exercise/list_basic_detail/93756-C/\n",
      "Товар: Short Chiffon Dress; Цена: 49.99; Картинка: https://scrapingclub.com/static/img/93926-C.jpg; Ссылка: https://scrapingclub.com/exercise/list_basic_detail/93926-C/\n",
      "Товар: V-neck Top; Цена: 24.99; Картинка: https://scrapingclub.com/static/img/93756-B.jpg; Ссылка: https://scrapingclub.com/exercise/list_basic_detail/93756-B/\n",
      "Товар: V-neck Top; Цена: 24.99; Картинка: https://scrapingclub.com/static/img/93756-D.jpg; Ссылка: https://scrapingclub.com/exercise/list_basic_detail/93756-D/\n",
      "Товар: Short Lace Dress; Цена: 59.99; Картинка: https://scrapingclub.com/static/img/96643-A.jpg; Ссылка: https://scrapingclub.com/exercise/list_basic_detail/96643-A/\n",
      "Товар: Fitted Dress; Цена: 34.99; Картинка: https://scrapingclub.com/static/img/94766-A.jpg; Ссылка: https://scrapingclub.com/exercise/list_basic_detail/94766-A/\n"
     ]
    }
   ],
   "source": [
    "# Определяем общий блок со всей информацией\n",
    "blocks = soup.find_all('div', class_='w-full rounded border')\n",
    "\n",
    "for i in blocks:\n",
    "    name = i.find('h4').text.replace('\\n', '')\n",
    "    price = float(i.find('h5').text.replace('$', ''))\n",
    "    url_img = HOST + i.find('img', class_='card-img-top img-fluid').get('src')\n",
    "    link = HOST + i.find('a').get('href')\n",
    "    print(f'Товар: {name}; Цена: {price}; Картинка: {url_img}; Ссылка: {link}')"
   ]
  },
  {
   "cell_type": "code",
   "execution_count": null,
   "id": "1e31ee2b-ef47-4987-821e-6f34fb39809e",
   "metadata": {},
   "outputs": [],
   "source": []
  },
  {
   "cell_type": "markdown",
   "id": "d02e26b1-fad4-4071-b500-0fc75b8b9548",
   "metadata": {},
   "source": [
    "### Получаем данные со всех карточек, которые есть на САЙТЕ"
   ]
  },
  {
   "cell_type": "code",
   "execution_count": 43,
   "id": "0e9f0b18-848c-4dc8-a654-dbc3e7006a4e",
   "metadata": {
    "collapsed": true,
    "jupyter": {
     "outputs_hidden": true
    }
   },
   "outputs": [
    {
     "name": "stdout",
     "output_type": "stream",
     "text": [
      "Товар: Short Dress; Цена: 24.99; Картинка: https://scrapingclub.com/static/img/90008-E.jpg; Ссылка: https://scrapingclub.com/exercise/list_basic_detail/90008-E/\n",
      "Товар: Patterned Slacks; Цена: 29.99; Картинка: https://scrapingclub.com/static/img/96436-A.jpg; Ссылка: https://scrapingclub.com/exercise/list_basic_detail/96436-A/\n",
      "Товар: Short Chiffon Dress; Цена: 49.99; Картинка: https://scrapingclub.com/static/img/93926-B.jpg; Ссылка: https://scrapingclub.com/exercise/list_basic_detail/93926-B/\n",
      "Товар: Off-the-shoulder Dress; Цена: 59.99; Картинка: https://scrapingclub.com/static/img/90882-B.jpg; Ссылка: https://scrapingclub.com/exercise/list_basic_detail/90882-B/\n",
      "Товар: V-neck Top; Цена: 24.99; Картинка: https://scrapingclub.com/static/img/93756-C.jpg; Ссылка: https://scrapingclub.com/exercise/list_basic_detail/93756-C/\n",
      "Товар: Short Chiffon Dress; Цена: 49.99; Картинка: https://scrapingclub.com/static/img/93926-C.jpg; Ссылка: https://scrapingclub.com/exercise/list_basic_detail/93926-C/\n",
      "Товар: V-neck Top; Цена: 24.99; Картинка: https://scrapingclub.com/static/img/93756-B.jpg; Ссылка: https://scrapingclub.com/exercise/list_basic_detail/93756-B/\n",
      "Товар: V-neck Top; Цена: 24.99; Картинка: https://scrapingclub.com/static/img/93756-D.jpg; Ссылка: https://scrapingclub.com/exercise/list_basic_detail/93756-D/\n",
      "Товар: Short Lace Dress; Цена: 59.99; Картинка: https://scrapingclub.com/static/img/96643-A.jpg; Ссылка: https://scrapingclub.com/exercise/list_basic_detail/96643-A/\n",
      "Товар: Fitted Dress; Цена: 34.99; Картинка: https://scrapingclub.com/static/img/94766-A.jpg; Ссылка: https://scrapingclub.com/exercise/list_basic_detail/94766-A/\n",
      "Товар: V-neck Jumpsuit; Цена: 69.99; Картинка: https://scrapingclub.com/static/img/91696-C.jpg; Ссылка: https://scrapingclub.com/exercise/list_basic_detail/91696-C/\n",
      "Товар: Chiffon Dress; Цена: 54.99; Картинка: https://scrapingclub.com/static/img/93745-A.jpg; Ссылка: https://scrapingclub.com/exercise/list_basic_detail/93745-A/\n",
      "Товар: Skinny High Waist Jeans; Цена: 39.99; Картинка: https://scrapingclub.com/static/img/65763-E.jpg; Ссылка: https://scrapingclub.com/exercise/list_basic_detail/65763-E/\n",
      "Товар: Super Skinny High Jeans; Цена: 19.99; Картинка: https://scrapingclub.com/static/img/70745-D.jpg; Ссылка: https://scrapingclub.com/exercise/list_basic_detail/70745-D/\n",
      "Товар: Oversized Denim Jacket; Цена: 19.99; Картинка: https://scrapingclub.com/static/img/94706-A.jpg; Ссылка: https://scrapingclub.com/exercise/list_basic_detail/94706-A/\n",
      "Товар: Short Sweatshirt; Цена: 24.99; Картинка: https://scrapingclub.com/static/img/96230-B.jpg; Ссылка: https://scrapingclub.com/exercise/list_basic_detail/96230-B/\n",
      "Товар: Long-sleeved Jersey Top; Цена: 12.99; Картинка: https://scrapingclub.com/static/img/73840-F.jpg; Ссылка: https://scrapingclub.com/exercise/list_basic_detail/73840-F/\n",
      "Товар: Skinny High Waist Jeans; Цена: 39.99; Картинка: https://scrapingclub.com/static/img/65763-A.jpg; Ссылка: https://scrapingclub.com/exercise/list_basic_detail/65763-A/\n",
      "Товар: Short Sweatshirt; Цена: 24.99; Картинка: https://scrapingclub.com/static/img/96230-A.jpg; Ссылка: https://scrapingclub.com/exercise/list_basic_detail/96230-A/\n",
      "Товар: Long-sleeved Jersey Top; Цена: 12.99; Картинка: https://scrapingclub.com/static/img/73840-P.jpg; Ссылка: https://scrapingclub.com/exercise/list_basic_detail/73840-P/\n",
      "Товар: Long-sleeved Jersey Top; Цена: 12.99; Картинка: https://scrapingclub.com/static/img/73840-Q.jpg; Ссылка: https://scrapingclub.com/exercise/list_basic_detail/73840-Q/\n",
      "Товар: Jersey Dress; Цена: 19.99; Картинка: https://scrapingclub.com/static/img/96113-C.jpg; Ссылка: https://scrapingclub.com/exercise/list_basic_detail/96113-C/\n",
      "Товар: Short Sweatshirt; Цена: 24.99; Картинка: https://scrapingclub.com/static/img/96230-C.jpg; Ссылка: https://scrapingclub.com/exercise/list_basic_detail/96230-C/\n",
      "Товар: Crinkled Flounced Blouse; Цена: 24.99; Картинка: https://scrapingclub.com/static/img/00959-A.jpg; Ссылка: https://scrapingclub.com/exercise/list_basic_detail/00959-A/\n",
      "Товар: Bib Overall Dress; Цена: 29.99; Картинка: https://scrapingclub.com/static/img/94323-B.jpg; Ссылка: https://scrapingclub.com/exercise/list_basic_detail/94323-B/\n",
      "Товар: Loose-knit Sweater; Цена: 17.99; Картинка: https://scrapingclub.com/static/img/71342-J.jpg; Ссылка: https://scrapingclub.com/exercise/list_basic_detail/71342-J/\n",
      "Товар: Skinny Regular Jeans; Цена: 29.99; Картинка: https://scrapingclub.com/static/img/94453-B.jpg; Ссылка: https://scrapingclub.com/exercise/list_basic_detail/94453-B/\n",
      "Товар: Henley-style Top; Цена: 12.99; Картинка: https://scrapingclub.com/static/img/34975-K.jpg; Ссылка: https://scrapingclub.com/exercise/list_basic_detail/34975-K/\n",
      "Товар: Joggers; Цена: 17.99; Картинка: https://scrapingclub.com/static/img/59851-A.jpg; Ссылка: https://scrapingclub.com/exercise/list_basic_detail/59851-A/\n",
      "Товар: Skirt with Lacing; Цена: 34.99; Картинка: https://scrapingclub.com/static/img/93811-A.jpg; Ссылка: https://scrapingclub.com/exercise/list_basic_detail/93811-A/\n",
      "Товар: Top with Tie; Цена: 17.99; Картинка: https://scrapingclub.com/static/img/94967-A.jpg; Ссылка: https://scrapingclub.com/exercise/list_basic_detail/94967-A/\n",
      "Товар: Joggers; Цена: 34.99; Картинка: https://scrapingclub.com/static/img/92905-A.jpg; Ссылка: https://scrapingclub.com/exercise/list_basic_detail/92905-A/\n",
      "Товар: Chiffon Dress with Flounce; Цена: 49.99; Картинка: https://scrapingclub.com/static/img/97504-A.jpg; Ссылка: https://scrapingclub.com/exercise/list_basic_detail/97504-A/\n",
      "Товар: Skirt with Lacing; Цена: 34.99; Картинка: https://scrapingclub.com/static/img/93811-B.jpg; Ссылка: https://scrapingclub.com/exercise/list_basic_detail/93811-B/\n",
      "Товар: V-neck Top; Цена: 9.99; Картинка: https://scrapingclub.com/static/img/95168-D.jpg; Ссылка: https://scrapingclub.com/exercise/list_basic_detail/95168-D/\n",
      "Товар: Hooded Jacket; Цена: 29.99; Картинка: https://scrapingclub.com/static/img/52378-D.jpg; Ссылка: https://scrapingclub.com/exercise/list_basic_detail/52378-D/\n",
      "Товар: Hooded Top; Цена: 29.99; Картинка: https://scrapingclub.com/static/img/60135-A.jpg; Ссылка: https://scrapingclub.com/exercise/list_basic_detail/60135-A/\n",
      "Товар: Lyocell-blend Blouse; Цена: 34.99; Картинка: https://scrapingclub.com/static/img/91865-A.jpg; Ссылка: https://scrapingclub.com/exercise/list_basic_detail/91865-A/\n",
      "Товар: Bib Overall Dress; Цена: 29.99; Картинка: https://scrapingclub.com/static/img/94323-A.jpg; Ссылка: https://scrapingclub.com/exercise/list_basic_detail/94323-A/\n",
      "Товар: Wide-leg Pants; Цена: 34.99; Картинка: https://scrapingclub.com/static/img/92942-B.jpg; Ссылка: https://scrapingclub.com/exercise/list_basic_detail/92942-B/\n",
      "Товар: Ankle-length Slim-fit Pants; Цена: 24.99; Картинка: https://scrapingclub.com/static/img/93270-A.jpg; Ссылка: https://scrapingclub.com/exercise/list_basic_detail/93270-A/\n",
      "Товар: Short Sweatshirt; Цена: 9.99; Картинка: https://scrapingclub.com/static/img/96230-D.jpg; Ссылка: https://scrapingclub.com/exercise/list_basic_detail/96230-D/\n",
      "Товар: V-neck Blouse; Цена: 17.99; Картинка: https://scrapingclub.com/static/img/97571-B.jpg; Ссылка: https://scrapingclub.com/exercise/list_basic_detail/97571-B/\n",
      "Товар: Short Skirt; Цена: 24.99; Картинка: https://scrapingclub.com/static/img/92740-A.jpg; Ссылка: https://scrapingclub.com/exercise/list_basic_detail/92740-A/\n",
      "Товар: Mesh T-shirt; Цена: 17.99; Картинка: https://scrapingclub.com/static/img/94984-A.jpg; Ссылка: https://scrapingclub.com/exercise/list_basic_detail/94984-A/\n",
      "Товар: Blouse with Embroidery; Цена: 59.99; Картинка: https://scrapingclub.com/static/img/96236-C.jpg; Ссылка: https://scrapingclub.com/exercise/list_basic_detail/96236-C/\n",
      "Товар: Wide-cut Cotton Top; Цена: 34.99; Картинка: https://scrapingclub.com/static/img/99663-A.jpg; Ссылка: https://scrapingclub.com/exercise/list_basic_detail/99663-A/\n",
      "Товар: Pleated Skirt; Цена: 54.99; Картинка: https://scrapingclub.com/static/img/00268-B.jpg; Ссылка: https://scrapingclub.com/exercise/list_basic_detail/00268-B/\n",
      "Товар: Coat; Цена: 69.99; Картинка: https://scrapingclub.com/static/img/98209-A.jpg; Ссылка: https://scrapingclub.com/exercise/list_basic_detail/98209-A/\n",
      "Товар: Wide-leg Pants; Цена: 49.99; Картинка: https://scrapingclub.com/static/img/93158-A.jpg; Ссылка: https://scrapingclub.com/exercise/list_basic_detail/93158-A/\n",
      "Товар: Top; Цена: 29.99; Картинка: https://scrapingclub.com/static/img/00948-B.jpg; Ссылка: https://scrapingclub.com/exercise/list_basic_detail/00948-B/\n",
      "Товар: Knit Mohair-blend Sweater; Цена: 69.99; Картинка: https://scrapingclub.com/static/img/94321-B.jpg; Ссылка: https://scrapingclub.com/exercise/list_basic_detail/94321-B/\n",
      "Товар: Dress; Цена: 69.99; Картинка: https://scrapingclub.com/static/img/98086-A.jpg; Ссылка: https://scrapingclub.com/exercise/list_basic_detail/98086-A/\n",
      "Товар: T-shirt with Embroidery; Цена: 29.99; Картинка: https://scrapingclub.com/static/img/01007-C.jpg; Ссылка: https://scrapingclub.com/exercise/list_basic_detail/01007-C/\n",
      "Товар: Blouse with Ruffled Collar; Цена: 49.99; Картинка: https://scrapingclub.com/static/img/98894-A.jpg; Ссылка: https://scrapingclub.com/exercise/list_basic_detail/98894-A/\n",
      "Товар: Pants; Цена: 49.99; Картинка: https://scrapingclub.com/static/img/00286-B.jpg; Ссылка: https://scrapingclub.com/exercise/list_basic_detail/00286-B/\n",
      "Товар: Jersey Dress; Цена: 19.99; Картинка: https://scrapingclub.com/static/img/96113-B.jpg; Ссылка: https://scrapingclub.com/exercise/list_basic_detail/96113-B/\n",
      "Товар: T-shirt; Цена: 6.99; Картинка: https://scrapingclub.com/static/img/96771-B.jpg; Ссылка: https://scrapingclub.com/exercise/list_basic_detail/96771-B/\n",
      "Товар: T-shirt; Цена: 6.99; Картинка: https://scrapingclub.com/static/img/96771-A.jpg; Ссылка: https://scrapingclub.com/exercise/list_basic_detail/96771-A/\n",
      "Товар: Blazer; Цена: 49.99; Картинка: https://scrapingclub.com/static/img/93086-B.jpg; Ссылка: https://scrapingclub.com/exercise/list_basic_detail/93086-B/\n",
      "Товар: Short Dress; Цена: 24.99; Картинка: https://scrapingclub.com/static/img/90008-E.jpg; Ссылка: https://scrapingclub.com/exercise/list_basic_detail/90008-E/\n",
      "Товар: Patterned Slacks; Цена: 29.99; Картинка: https://scrapingclub.com/static/img/96436-A.jpg; Ссылка: https://scrapingclub.com/exercise/list_basic_detail/96436-A/\n",
      "Товар: Short Chiffon Dress; Цена: 49.99; Картинка: https://scrapingclub.com/static/img/93926-B.jpg; Ссылка: https://scrapingclub.com/exercise/list_basic_detail/93926-B/\n",
      "Товар: Off-the-shoulder Dress; Цена: 59.99; Картинка: https://scrapingclub.com/static/img/90882-B.jpg; Ссылка: https://scrapingclub.com/exercise/list_basic_detail/90882-B/\n",
      "Товар: V-neck Top; Цена: 24.99; Картинка: https://scrapingclub.com/static/img/93756-C.jpg; Ссылка: https://scrapingclub.com/exercise/list_basic_detail/93756-C/\n",
      "Товар: Short Chiffon Dress; Цена: 49.99; Картинка: https://scrapingclub.com/static/img/93926-C.jpg; Ссылка: https://scrapingclub.com/exercise/list_basic_detail/93926-C/\n",
      "Товар: V-neck Top; Цена: 24.99; Картинка: https://scrapingclub.com/static/img/93756-B.jpg; Ссылка: https://scrapingclub.com/exercise/list_basic_detail/93756-B/\n",
      "Товар: V-neck Top; Цена: 24.99; Картинка: https://scrapingclub.com/static/img/93756-D.jpg; Ссылка: https://scrapingclub.com/exercise/list_basic_detail/93756-D/\n",
      "Товар: Short Lace Dress; Цена: 59.99; Картинка: https://scrapingclub.com/static/img/96643-A.jpg; Ссылка: https://scrapingclub.com/exercise/list_basic_detail/96643-A/\n",
      "Товар: Fitted Dress; Цена: 34.99; Картинка: https://scrapingclub.com/static/img/94766-A.jpg; Ссылка: https://scrapingclub.com/exercise/list_basic_detail/94766-A/\n"
     ]
    }
   ],
   "source": [
    "# Организуем цикл с пагинацией\n",
    "HOST = 'https://scrapingclub.com'\n",
    "\n",
    "for PAGE in range(1, 8):\n",
    "    URL = f'https://scrapingclub.com/exercise/list_basic/?page={PAGE}'\n",
    "\n",
    "    res = requests.get(url=URL)\n",
    "    soup = BeautifulSoup(res.text, 'lxml')\n",
    "    blocks = soup.find_all('div', class_='w-full rounded border')\n",
    "\n",
    "    for i in blocks:\n",
    "        name = i.find('h4').text.replace('\\n', '')\n",
    "        price = float(i.find('h5').text.replace('$', ''))\n",
    "        url_img = HOST + i.find('img', class_='card-img-top img-fluid').get('src')\n",
    "        link = HOST + i.find('a').get('href')\n",
    "        print(f'Товар: {name}; Цена: {price}; Картинка: {url_img}; Ссылка: {link}')"
   ]
  },
  {
   "cell_type": "code",
   "execution_count": null,
   "id": "2704384f-d21a-431d-959a-c804cf673385",
   "metadata": {},
   "outputs": [],
   "source": [
    "# Для имитации работы человека и разгрузки сайта вставляем в код задерку времени:\n",
    "from time import sleep\n",
    "sleep(3)"
   ]
  },
  {
   "cell_type": "code",
   "execution_count": null,
   "id": "9d4608d7-44b7-476e-b30a-f0154a5baaee",
   "metadata": {},
   "outputs": [],
   "source": [
    "# \n",
    "HEADERS = {\n",
    "    'accept': 'text/html,application/xhtml+xml,application/xml;q=0.9,image/avif,image/webp,image/apng,*/*;q=0.8,application/signed-exchange;v=b3;q=0.9',\n",
    "    'user-agent': 'Mozilla/5.0 (Windows NT 10.0; Win64; x64) AppleWebKit/537.36 (KHTML, like Gecko) Chrome/109.0.0.0 Safari/537.36'\n",
    "}"
   ]
  },
  {
   "cell_type": "code",
   "execution_count": null,
   "id": "e23c9315-03f3-4ee8-8761-49efee860dc2",
   "metadata": {},
   "outputs": [],
   "source": []
  },
  {
   "cell_type": "markdown",
   "id": "63c03e33-066e-47fb-8a19-ca98643ac631",
   "metadata": {},
   "source": [
    "### Проникаем вглубь кода, чтобы взять о товаре более подробную информацию\n",
    "#### 37:32 - парсинг с заходом в каждую карточку товара"
   ]
  },
  {
   "cell_type": "code",
   "execution_count": null,
   "id": "c34940a6-6ba6-404e-9b74-d11e9bbebf08",
   "metadata": {},
   "outputs": [],
   "source": []
  },
  {
   "cell_type": "code",
   "execution_count": 46,
   "id": "de2e6e06-d4e5-450c-bea1-166613264b05",
   "metadata": {},
   "outputs": [],
   "source": [
    "URL_ONE = 'https://scrapingclub.com/exercise/list_basic_detail/90008-E/'\n",
    "HEADERS = {\n",
    "    'accept': 'text/html,application/xhtml+xml,application/xml;q=0.9,image/avif,image/webp,image/apng,*/*;q=0.8,application/signed-exchange;v=b3;q=0.9',\n",
    "    'user-agent': 'Mozilla/5.0 (Windows NT 10.0; Win64; x64) AppleWebKit/537.36 (KHTML, like Gecko) Chrome/109.0.0.0 Safari/537.36'\n",
    "}"
   ]
  },
  {
   "cell_type": "code",
   "execution_count": 47,
   "id": "7a200b08-e2bc-43b1-b69f-c86059503ac9",
   "metadata": {},
   "outputs": [],
   "source": [
    "# Отправляем запрос на страницу, передаём в качестве GET-параметра URL-адрес\n",
    "# Сохраним нашу страницу в файл И ЗАКОММЕНТИРУЕМ ЭТУ КОМАНДУ за ненадобностью\n",
    "\n",
    "res_one = requests.get(url=URL_ONE, headers=HEADERS)\n",
    "src_one = res_one.text\n",
    "with open('../data/interim/html/index_hubstudio_cat_one.html', 'w', encoding='utf-8') as file:\n",
    "    file.write(src_one)"
   ]
  },
  {
   "cell_type": "code",
   "execution_count": 48,
   "id": "58a5f3cf-99a1-4232-bd4b-2a12878e2631",
   "metadata": {},
   "outputs": [],
   "source": [
    "# Теперь откроем наш файл, прочитаем и сохраним код страницы в переменную:\n",
    "with open('../data/interim/html/index_hubstudio_cat_one.html', encoding='utf-8') as file:\n",
    "    src_one = file.read()\n",
    "# print(src)"
   ]
  },
  {
   "cell_type": "code",
   "execution_count": 49,
   "id": "70b61a5b-6a8c-4f12-9b1e-2e74ad5d5a1f",
   "metadata": {},
   "outputs": [],
   "source": [
    "# Создаём объект Супа с параметрами \n",
    "soup_one = BeautifulSoup(src_one, 'lxml')"
   ]
  },
  {
   "cell_type": "code",
   "execution_count": 51,
   "id": "c3a0883c-1849-4d0c-9a38-56db33b90fe9",
   "metadata": {},
   "outputs": [
    {
     "name": "stdout",
     "output_type": "stream",
     "text": [
      "Товар: Short Dress;\n",
      "Цена: 24.99;\n",
      "Картинка: https://scrapingclub.com/static/img/90008-E.jpg;\n",
      "Описание: Short dress in woven fabric. Round neckline and opening at back of neck with a button. Yoke at back with concealed pleats, long sleeves, and narrow cuffs with ties. Side pockets. 100% polyester. Machine wash cold.\n",
      "\n"
     ]
    }
   ],
   "source": [
    "block_one = soup_one.find_all('div', class_='my-8 w-full rounded border')\n",
    "\n",
    "for i in block_one:\n",
    "    name = i.find('h3', class_='card-title').text.replace('\\n', '')\n",
    "    price = float(i.find('h4', class_='my-4 card-price').text.replace('$', ''))\n",
    "    desc = i.find('p', class_='card-description').text\n",
    "    url_img = HOST + i.find('img', class_='card-img-top').get('src')\n",
    "    # link = HOST + i.find('a').get('href')\n",
    "    print(f'Товар: {name};\\nЦена: {price};\\nКартинка: {url_img};\\nОписание: {desc}\\n')"
   ]
  },
  {
   "cell_type": "code",
   "execution_count": null,
   "id": "0f4cc1f3-29c9-45e8-aa94-2bdb8c2fda09",
   "metadata": {},
   "outputs": [],
   "source": [
    "from time import sleep\n",
    "# Для симуляции работы реального пользователя, а не робота\n",
    "sleep(random.randrange(2, 4))"
   ]
  },
  {
   "cell_type": "code",
   "execution_count": 52,
   "id": "f22ca0f6-e986-48b7-a270-8fc4b2d812ff",
   "metadata": {},
   "outputs": [],
   "source": [
    "# Создаём переменные-КОНСТАНТЫ\n",
    "# PAGE = 1\n",
    "HOST = 'https://scrapingclub.com'\n",
    "# URL = 'https://scrapingclub.com/exercise/list_basic/?page=1'\n",
    "HEADERS = {\n",
    "    'accept': 'text/html,application/xhtml+xml,application/xml;q=0.9,image/avif,image/webp,image/apng,*/*;q=0.8,application/signed-exchange;v=b3;q=0.9',\n",
    "    'user-agent': 'Mozilla/5.0 (Windows NT 10.0; Win64; x64) AppleWebKit/537.36 (KHTML, like Gecko) Chrome/109.0.0.0 Safari/537.36'\n",
    "}"
   ]
  },
  {
   "cell_type": "code",
   "execution_count": 54,
   "id": "a4986ae4-e1dc-42e0-b083-90fa9e21d92b",
   "metadata": {
    "collapsed": true,
    "jupyter": {
     "outputs_hidden": true
    }
   },
   "outputs": [
    {
     "name": "stdout",
     "output_type": "stream",
     "text": [
      "Товар: Short Dress;\n",
      "Цена: 24.99;\n",
      "Картинка: https://scrapingclub.com/static/img/90008-E.jpg;\n",
      "Описание: Short dress in woven fabric. Round neckline and opening at back of neck with a button. Yoke at back with concealed pleats, long sleeves, and narrow cuffs with ties. Side pockets. 100% polyester. Machine wash cold.\n",
      "\n",
      "Товар: Patterned Slacks;\n",
      "Цена: 29.99;\n",
      "Картинка: https://scrapingclub.com/static/img/96436-A.jpg;\n",
      "Описание: Ankle-length slacks in patterned stretch cotton satin. Regular waist with concealed hook-and-eye fastener and zip fly. Side pockets and tapered legs with slits at hems. 61% cotton, 36% polyester, 3% spandex. Machine wash...\n",
      "\n",
      "Товар: Short Chiffon Dress;\n",
      "Цена: 49.99;\n",
      "Картинка: https://scrapingclub.com/static/img/93926-B.jpg;\n",
      "Описание: Short V-neck dress in plumeti chiffon. Gathers and small ruffle at shoulders, dropped shoulders, and long, wide sleeves with buttons at cuffs. Narrow, elasticized seam at waist and circle skirt with ruffled tiers. Lined. 100% polyester. Machine wash warm.\n",
      "\n",
      "Товар: Off-the-shoulder Dress;\n",
      "Цена: 59.99;\n",
      "Картинка: https://scrapingclub.com/static/img/90882-B.jpg;\n",
      "Описание: Short, fitted off-the-shoulder dress in stretch ribbed fabric. Short raglan sleeves, seam at waist with gently flared skirt. Unlined. 54% rayon, 44% nylon, 2% spandex. Machine wash warm.\n",
      "\n",
      "Товар: V-neck Top;\n",
      "Цена: 24.99;\n",
      "Картинка: https://scrapingclub.com/static/img/93756-C.jpg;\n",
      "Описание: Top in woven fabric with V-neck front and back. Narrow shoulder straps and decorative straps at back. 100% polyester. Machine wash cold.\n",
      "\n",
      "Товар: Short Chiffon Dress;\n",
      "Цена: 49.99;\n",
      "Картинка: https://scrapingclub.com/static/img/93926-C.jpg;\n",
      "Описание: Short V-neck dress in plumeti chiffon. Gathers and small ruffle at shoulders, dropped shoulders, and long, wide sleeves with buttons at cuffs. Narrow, elasticized seam at waist and circle skirt with ruffled tiers. Lined. 100% polyester. Machine wash warm.\n",
      "\n",
      "Товар: V-neck Top;\n",
      "Цена: 24.99;\n",
      "Картинка: https://scrapingclub.com/static/img/93756-B.jpg;\n",
      "Описание: Top in woven fabric with V-neck front and back. Narrow shoulder straps and decorative straps at back. 100% polyester. Machine wash cold.\n",
      "\n",
      "Товар: V-neck Top;\n",
      "Цена: 24.99;\n",
      "Картинка: https://scrapingclub.com/static/img/93756-D.jpg;\n",
      "Описание: Top in woven fabric with V-neck front and back. Narrow shoulder straps and decorative straps at back. 100% polyester. Machine wash cold.\n",
      "\n",
      "Товар: Short Lace Dress;\n",
      "Цена: 59.99;\n",
      "Картинка: https://scrapingclub.com/static/img/96643-A.jpg;\n",
      "Описание: Short, straight-cut dress in lace. Opening at back with concealed button at back of neck. Round neck, padded shoulders, and 3/4-length sleeves. Lined. 51% cotton, 25% nylon, 24% rayon. Machine wash cold.\n",
      "\n",
      "Товар: Fitted Dress;\n",
      "Цена: 34.99;\n",
      "Картинка: https://scrapingclub.com/static/img/94766-A.jpg;\n",
      "Описание: Fitted dress in thick jersey with a V-neck, long sleeves, and cut-out section at back with button at back of neck. Lined at top. 60% rayon, 35% nylon, 5% spandex. Machine wash warm.\n",
      "\n"
     ]
    }
   ],
   "source": [
    "# \n",
    "list_cards_url = []\n",
    "\n",
    "for PAGE in range(1, 2):\n",
    "    URL = f'https://scrapingclub.com/exercise/list_basic/?page={PAGE}'\n",
    "\n",
    "    res = requests.get(url=URL, headers=HEADERS)\n",
    "    soup = BeautifulSoup(res.text, 'lxml')\n",
    "    blocks = soup.find_all('div', class_='w-full rounded border')\n",
    "    sleep(1)\n",
    "\n",
    "    for i in blocks:\n",
    "        link = HOST + i.find('a').get('href')\n",
    "        list_cards_url.append(link)\n",
    "\n",
    "for card in list_cards_url:\n",
    "    res = requests.get(card, headers=HEADERS)\n",
    "    soup = BeautifulSoup(res.text, 'lxml')\n",
    "    block_one = soup.find_all('div', class_='my-8 w-full rounded border')\n",
    "    sleep(1)\n",
    "\n",
    "    for i in block_one:\n",
    "        name = i.find('h3', class_='card-title').text.replace('\\n', '')\n",
    "        price = float(i.find('h4', class_='my-4 card-price').text.replace('$', ''))\n",
    "        desc = i.find('p', class_='card-description').text\n",
    "        url_img = HOST + i.find('img', class_='card-img-top').get('src')\n",
    "        # link = HOST + i.find('a').get('href')\n",
    "        print(f'Товар: {name};\\nЦена: {price};\\nКартинка: {url_img};\\nОписание: {desc}\\n')"
   ]
  },
  {
   "cell_type": "code",
   "execution_count": null,
   "id": "ca509aec-e33b-4eeb-9ad7-a1eb6f0707ab",
   "metadata": {},
   "outputs": [],
   "source": []
  },
  {
   "cell_type": "markdown",
   "id": "3ab25d6f-97f9-4ab4-a727-644417b8ff8f",
   "metadata": {},
   "source": [
    "### Об оптимизации работы программы (с большим количеством страниц на сайте)\n",
    "#### 55:27 - парсер - генератор, оптимизируем код"
   ]
  },
  {
   "cell_type": "code",
   "execution_count": 64,
   "id": "3c6fa3df-ef2d-49eb-acab-dc9bd6a49f35",
   "metadata": {},
   "outputs": [],
   "source": [
    "# Помещаем всю первую часть кода в функцию:\n",
    "def get_url():\n",
    "    HOST = 'https://scrapingclub.com'\n",
    "    HEADERS = {\n",
    "    'accept': 'text/html,application/xhtml+xml,application/xml;q=0.9,image/avif,image/webp,image/apng,*/*;q=0.8,application/signed-exchange;v=b3;q=0.9',\n",
    "    'user-agent': 'Mozilla/5.0 (Windows NT 10.0; Win64; x64) AppleWebKit/537.36 (KHTML, like Gecko) Chrome/109.0.0.0 Safari/537.36'\n",
    "    }\n",
    "    count = 1\n",
    "    for PAGE in range(1, 3):\n",
    "        URL = f'https://scrapingclub.com/exercise/list_basic/?page={PAGE}'\n",
    "        res = requests.get(url=URL, headers=HEADERS)\n",
    "        soup = BeautifulSoup(res.text, 'lxml')\n",
    "        blocks = soup.find_all('div', class_='w-full rounded border')\n",
    "        print(f'Page №{PAGE}.')\n",
    "        # sleep(1) - переносим задержку в цикл\n",
    "        \n",
    "        for i in blocks:\n",
    "            print(f'Link №{count}.')\n",
    "            link = HOST + i.find('a').get('href')\n",
    "            count += 1\n",
    "            yield link"
   ]
  },
  {
   "cell_type": "code",
   "execution_count": 65,
   "id": "9e682534-8fa9-49b8-8b6b-17bf8b2d97f6",
   "metadata": {
    "collapsed": true,
    "jupyter": {
     "outputs_hidden": true
    }
   },
   "outputs": [
    {
     "name": "stdout",
     "output_type": "stream",
     "text": [
      "Page №1.\n",
      "Link №1.\n",
      "Товар: Short Dress;\n",
      "Цена: 24.99;\n",
      "Картинка: https://scrapingclub.com/static/img/90008-E.jpg;\n",
      "Описание: Short dress in woven fabric. Round neckline and opening at back of neck with a button. Yoke at back with concealed pleats, long sleeves, and narrow cuffs with ties. Side pockets. 100% polyester. Machine wash cold.\n",
      "\n",
      "Link №2.\n",
      "Товар: Patterned Slacks;\n",
      "Цена: 29.99;\n",
      "Картинка: https://scrapingclub.com/static/img/96436-A.jpg;\n",
      "Описание: Ankle-length slacks in patterned stretch cotton satin. Regular waist with concealed hook-and-eye fastener and zip fly. Side pockets and tapered legs with slits at hems. 61% cotton, 36% polyester, 3% spandex. Machine wash...\n",
      "\n",
      "Link №3.\n",
      "Товар: Short Chiffon Dress;\n",
      "Цена: 49.99;\n",
      "Картинка: https://scrapingclub.com/static/img/93926-B.jpg;\n",
      "Описание: Short V-neck dress in plumeti chiffon. Gathers and small ruffle at shoulders, dropped shoulders, and long, wide sleeves with buttons at cuffs. Narrow, elasticized seam at waist and circle skirt with ruffled tiers. Lined. 100% polyester. Machine wash warm.\n",
      "\n",
      "Link №4.\n",
      "Товар: Off-the-shoulder Dress;\n",
      "Цена: 59.99;\n",
      "Картинка: https://scrapingclub.com/static/img/90882-B.jpg;\n",
      "Описание: Short, fitted off-the-shoulder dress in stretch ribbed fabric. Short raglan sleeves, seam at waist with gently flared skirt. Unlined. 54% rayon, 44% nylon, 2% spandex. Machine wash warm.\n",
      "\n",
      "Link №5.\n",
      "Товар: V-neck Top;\n",
      "Цена: 24.99;\n",
      "Картинка: https://scrapingclub.com/static/img/93756-C.jpg;\n",
      "Описание: Top in woven fabric with V-neck front and back. Narrow shoulder straps and decorative straps at back. 100% polyester. Machine wash cold.\n",
      "\n",
      "Link №6.\n",
      "Товар: Short Chiffon Dress;\n",
      "Цена: 49.99;\n",
      "Картинка: https://scrapingclub.com/static/img/93926-C.jpg;\n",
      "Описание: Short V-neck dress in plumeti chiffon. Gathers and small ruffle at shoulders, dropped shoulders, and long, wide sleeves with buttons at cuffs. Narrow, elasticized seam at waist and circle skirt with ruffled tiers. Lined. 100% polyester. Machine wash warm.\n",
      "\n",
      "Link №7.\n",
      "Товар: V-neck Top;\n",
      "Цена: 24.99;\n",
      "Картинка: https://scrapingclub.com/static/img/93756-B.jpg;\n",
      "Описание: Top in woven fabric with V-neck front and back. Narrow shoulder straps and decorative straps at back. 100% polyester. Machine wash cold.\n",
      "\n",
      "Link №8.\n",
      "Товар: V-neck Top;\n",
      "Цена: 24.99;\n",
      "Картинка: https://scrapingclub.com/static/img/93756-D.jpg;\n",
      "Описание: Top in woven fabric with V-neck front and back. Narrow shoulder straps and decorative straps at back. 100% polyester. Machine wash cold.\n",
      "\n",
      "Link №9.\n",
      "Товар: Short Lace Dress;\n",
      "Цена: 59.99;\n",
      "Картинка: https://scrapingclub.com/static/img/96643-A.jpg;\n",
      "Описание: Short, straight-cut dress in lace. Opening at back with concealed button at back of neck. Round neck, padded shoulders, and 3/4-length sleeves. Lined. 51% cotton, 25% nylon, 24% rayon. Machine wash cold.\n",
      "\n",
      "Link №10.\n",
      "Товар: Fitted Dress;\n",
      "Цена: 34.99;\n",
      "Картинка: https://scrapingclub.com/static/img/94766-A.jpg;\n",
      "Описание: Fitted dress in thick jersey with a V-neck, long sleeves, and cut-out section at back with button at back of neck. Lined at top. 60% rayon, 35% nylon, 5% spandex. Machine wash warm.\n",
      "\n",
      "Page №2.\n",
      "Link №11.\n",
      "Товар: V-neck Jumpsuit;\n",
      "Цена: 69.99;\n",
      "Картинка: https://scrapingclub.com/static/img/91696-C.jpg;\n",
      "Описание: Jumpsuit in woven fabric with a V-neck and short butterfly sleeves. Concealed zip at back, seam at waist, and slightly slimmer, gently flared legs with creases. 92% polyester, 8% spandex. Machine wash warm.\n",
      "\n",
      "Link №12.\n",
      "Товар: Chiffon Dress;\n",
      "Цена: 54.99;\n",
      "Картинка: https://scrapingclub.com/static/img/93745-A.jpg;\n",
      "Описание: Short dress in crinkled chiffon with a V-neck front and back. Horizontal ties at back of neck, pleats at top, and concealed side zip. Long, semi-sheer sleeves, gathered seam at waist, and flared skirt. Lined. 100% polyester. Machine wash cold.\n",
      "\n",
      "Link №13.\n",
      "Товар: Skinny High Waist Jeans;\n",
      "Цена: 39.99;\n",
      "Картинка: https://scrapingclub.com/static/img/65763-E.jpg;\n",
      "Описание: 5-pocket jeans in washed stretch denim with distressed details. High waist, zip fly with button, and skinny legs. 99% cotton, 1% spandex.\n",
      "\n",
      "Link №14.\n",
      "Товар: Super Skinny High Jeans;\n",
      "Цена: 19.99;\n",
      "Картинка: https://scrapingclub.com/static/img/70745-D.jpg;\n",
      "Описание: Jeans in washed superstretch denim with a zip fly and button. Mock pockets at front, regular pockets at back, and super-skinny legs. High waist. 78% cotton, 20% polyester, 2% spandex. Machine wash...\n",
      "\n",
      "Link №15.\n",
      "Товар: Oversized Denim Jacket;\n",
      "Цена: 19.99;\n",
      "Картинка: https://scrapingclub.com/static/img/94706-A.jpg;\n",
      "Описание: Oversized denim jacket with smooth metal buttons at front and at cuffs. Collar, chest pockets with flap and button, and side-seam pockets. Adjustable tab at back with buttons. 100% cotton. Machine wash cold.\n",
      "\n",
      "Link №16.\n",
      "Товар: Short Sweatshirt;\n",
      "Цена: 24.99;\n",
      "Картинка: https://scrapingclub.com/static/img/96230-B.jpg;\n",
      "Описание: Short sweatshirt with long sleeves and ribbing at neckline, cuffs, and hem. 57% cotton, 43% polyester. Machine wash cold.\n",
      "\n",
      "Link №17.\n",
      "Товар: Long-sleeved Jersey Top;\n",
      "Цена: 12.99;\n",
      "Картинка: https://scrapingclub.com/static/img/73840-F.jpg;\n",
      "Описание: CONSCIOUS. Fitted, long-sleeved top in stretch jersey made from organic cotton with a round neckline. 92% cotton, 3% spandex, 3% rayon, 2% polyester.\n",
      "\n",
      "Link №18.\n",
      "Товар: Skinny High Waist Jeans;\n",
      "Цена: 39.99;\n",
      "Картинка: https://scrapingclub.com/static/img/65763-A.jpg;\n",
      "Описание: 5-pocket jeans in washed stretch denim with distressed details. High waist, zip fly with button, and skinny legs. 70% cotton, 28% polyester, 2% spandex. Machine wash...\n",
      "\n",
      "Link №19.\n",
      "Товар: Short Sweatshirt;\n",
      "Цена: 24.99;\n",
      "Картинка: https://scrapingclub.com/static/img/96230-A.jpg;\n",
      "Описание: Short sweatshirt with long sleeves and ribbing at neckline, cuffs, and hem. 57% cotton, 43% polyester. Machine wash cold.\n",
      "\n",
      "Link №20.\n",
      "Товар: Long-sleeved Jersey Top;\n",
      "Цена: 12.99;\n",
      "Картинка: https://scrapingclub.com/static/img/73840-P.jpg;\n",
      "Описание: CONSCIOUS. Fitted, long-sleeved top in stretch jersey made from organic cotton with a round neckline. 92% cotton, 3% spandex, 3% rayon, 2% polyester.\n",
      "\n"
     ]
    }
   ],
   "source": [
    "# Каждый раз функция проходит по внутренней ссылке на товар и выполнение цикла приостанавливается благодаря команде !!! \"YIELD\" !!!\n",
    "for link in get_url():\n",
    "    res = requests.get(link, headers=HEADERS)\n",
    "    \n",
    "    sleep(3) # Переставляем функцию задерки выполнения кода из первой части (из тела функции) внутрь цикла\n",
    "    \n",
    "    soup = BeautifulSoup(res.text, 'lxml')\n",
    "    block_one = soup.find('div', class_='my-8 w-full rounded border')\n",
    "    sleep(1)\n",
    "\n",
    "    name = block_one.find('h3', class_='card-title').text\n",
    "    price = float(block_one.find('h4', class_='my-4 card-price').text.replace('$', ''))\n",
    "    desc = block_one.find('p', class_='card-description').text\n",
    "    url_img = HOST + block_one.find('img', class_='card-img-top').get('src')\n",
    "    print(f'Товар: {name};\\nЦена: {price};\\nКартинка: {url_img};\\nОписание: {desc}\\n')"
   ]
  },
  {
   "cell_type": "code",
   "execution_count": null,
   "id": "5899c73c-60fe-46fb-a4b5-38e8d14aa899",
   "metadata": {},
   "outputs": [],
   "source": []
  },
  {
   "cell_type": "markdown",
   "id": "2f0c5568-8716-4b22-a3fc-e97289223e02",
   "metadata": {},
   "source": [
    "### 01:01:02 - запись данных результата парсинга в exel таблицу"
   ]
  },
  {
   "cell_type": "code",
   "execution_count": 74,
   "id": "a777b581-8322-42fa-be06-06c7967b9da6",
   "metadata": {},
   "outputs": [
    {
     "name": "stdout",
     "output_type": "stream",
     "text": [
      "^C\n"
     ]
    }
   ],
   "source": [
    "# !pip install xlsxwriter\n",
    "# !pip uninstall xlsxwriter"
   ]
  },
  {
   "cell_type": "code",
   "execution_count": 3,
   "id": "6ca26025-8678-426d-8a93-67b98145f812",
   "metadata": {},
   "outputs": [
    {
     "name": "stdout",
     "output_type": "stream",
     "text": [
      "Defaulting to user installation because normal site-packages is not writeable\n",
      "Collecting XlsxWriter\n",
      "  Downloading XlsxWriter-3.2.0-py3-none-any.whl.metadata (2.6 kB)\n",
      "Downloading XlsxWriter-3.2.0-py3-none-any.whl (159 kB)\n",
      "Installing collected packages: XlsxWriter\n",
      "Successfully installed XlsxWriter-3.2.0\n"
     ]
    }
   ],
   "source": [
    "!pip install XlsxWriter\n",
    "\n",
    "# Or to a non system dir:\n",
    "# !pip install --user XlsxWriter"
   ]
  },
  {
   "cell_type": "code",
   "execution_count": 7,
   "id": "cb38fcce-628b-4846-961a-ca741bf75062",
   "metadata": {},
   "outputs": [
    {
     "ename": "NameError",
     "evalue": "name 'XlsxWriter' is not defined",
     "output_type": "error",
     "traceback": [
      "\u001b[1;31m---------------------------------------------------------------------------\u001b[0m",
      "\u001b[1;31mNameError\u001b[0m                                 Traceback (most recent call last)",
      "Cell \u001b[1;32mIn[7], line 1\u001b[0m\n\u001b[1;32m----> 1\u001b[0m XlsxWriter\u001b[38;5;241m.\u001b[39m__version__\n",
      "\u001b[1;31mNameError\u001b[0m: name 'XlsxWriter' is not defined"
     ]
    }
   ],
   "source": [
    "XlsxWriter.__version__"
   ]
  },
  {
   "cell_type": "code",
   "execution_count": 86,
   "id": "7dd3352d-1a2f-4c2e-99d5-16bcc7449a3f",
   "metadata": {},
   "outputs": [],
   "source": [
    "# !pip list"
   ]
  },
  {
   "cell_type": "code",
   "execution_count": 5,
   "id": "3f561f15-7424-437d-ad4f-79cbab6a8f92",
   "metadata": {},
   "outputs": [],
   "source": [
    "import xlsxwriter\n",
    "# from file import array"
   ]
  },
  {
   "cell_type": "code",
   "execution_count": 6,
   "id": "b9f30bfb-8b00-41d0-a9e7-b4ec21ada2f6",
   "metadata": {},
   "outputs": [],
   "source": [
    "# Пример работы модуля\n",
    "\n",
    "import xlsxwriter\n",
    "\n",
    "workbook = xlsxwriter.Workbook('hello.xlsx')\n",
    "worksheet = workbook.add_worksheet()\n",
    "\n",
    "worksheet.write('A1', 'File Name: parsing_pythonHubStudio ')\n",
    "\n",
    "workbook.close()"
   ]
  },
  {
   "cell_type": "code",
   "execution_count": null,
   "id": "d1ba7de9-ee71-412f-bf2e-342075031fed",
   "metadata": {},
   "outputs": [],
   "source": []
  },
  {
   "cell_type": "code",
   "execution_count": null,
   "id": "b8a43bf1-700a-466a-9b5d-7f6cd569a2ee",
   "metadata": {},
   "outputs": [],
   "source": [
    "# Помещаем всю первую часть кода в функцию:\n",
    "def get_url():\n",
    "    HOST = 'https://scrapingclub.com'\n",
    "    HEADERS = {\n",
    "    'accept': 'text/html,application/xhtml+xml,application/xml;q=0.9,image/avif,image/webp,image/apng,*/*;q=0.8,application/signed-exchange;v=b3;q=0.9',\n",
    "    'user-agent': 'Mozilla/5.0 (Windows NT 10.0; Win64; x64) AppleWebKit/537.36 (KHTML, like Gecko) Chrome/109.0.0.0 Safari/537.36'\n",
    "    }\n",
    "    count = 1\n",
    "    for PAGE in range(1, 3):\n",
    "        URL = f'https://scrapingclub.com/exercise/list_basic/?page={PAGE}'\n",
    "        res = requests.get(url=URL, headers=HEADERS)\n",
    "        soup = BeautifulSoup(res.text, 'lxml')\n",
    "        blocks = soup.find_all('div', class_='w-full rounded border')\n",
    "        print(f'Page №{PAGE}.')\n",
    "        # sleep(1) - переносим задержку в цикл\n",
    "        \n",
    "        for i in blocks:\n",
    "            print(f'Link №{count}.')\n",
    "            link = HOST + i.find('a').get('href')\n",
    "            count += 1\n",
    "            yield link"
   ]
  },
  {
   "cell_type": "markdown",
   "id": "37388e9e-ae34-42a6-a68c-8cf0ebfbd14f",
   "metadata": {},
   "source": [
    "#### Преобразуем следующий код в генератор по примеру предыдущего\n",
    "#### чтобы он мог работать без сохранения промежуточных результатов"
   ]
  },
  {
   "cell_type": "code",
   "execution_count": null,
   "id": "1669a944-1ab1-46a7-818a-3aaa9f52423f",
   "metadata": {},
   "outputs": [],
   "source": [
    "# Каждый раз функция проходит по внутренней ссылке на товар и выполнение цикла приостанавливается благодаря команде !!! \"YIELD\" !!!\n",
    "\n",
    "def array():\n",
    "    for link in get_url():\n",
    "        res = requests.get(link, headers=HEADERS)\n",
    "        \n",
    "        sleep(3) # Переставляем функцию задерки выполнения кода из первой части (из тела функции) внутрь цикла\n",
    "        \n",
    "        soup = BeautifulSoup(res.text, 'lxml')\n",
    "        block_one = soup.find('div', class_='my-8 w-full rounded border')\n",
    "        sleep(1)\n",
    "    \n",
    "        name = block_one.find('h3', class_='card-title').text\n",
    "        price = float(block_one.find('h4', class_='my-4 card-price').text.replace('$', ''))\n",
    "        desc = block_one.find('p', class_='card-description').text\n",
    "        url_img = HOST + block_one.find('img', class_='card-img-top').get('src')\n",
    "# Вместо построчной печати результатов на экране - сохраняем результаты в EXCEL-файл\n",
    "        # print(f'Товар: {name};\\nЦена: {price};\\nКартинка: {url_img};\\nОписание: {desc}\\n')\n",
    "# Будем сохранять кортеж из наших значений\n",
    "        yield name, price, url_img, desc"
   ]
  },
  {
   "cell_type": "code",
   "execution_count": null,
   "id": "d171c05c-e4a6-4792-ba7d-86c0447521af",
   "metadata": {},
   "outputs": [],
   "source": [
    "# File: DOWN_TO_EXCEL.PY\n",
    "\n",
    "# import xlsxwriter\n",
    "# from file import array\n",
    "\n",
    "def writer (parameter):\n",
    "    book = xlsxwriter.Workbook(r\"C:\\Users\\..\\..\\catalog_hubStudio.xlsx\") # Сооздание файла\n",
    "    page = book.add_worksheet(\"goods\") # Сооздание страницы файла\n",
    "    \n",
    "    row = 0\n",
    "    column = 0\n",
    "    \n",
    "    page.set_column(\"A:A\", 20) # Устанавливаем ширину колонок\n",
    "    page.set_column(\"B:B\", 20)\n",
    "    page.set_column(\"C:C\", 50)\n",
    "    page.set_column(\"D:D\", 50)\n",
    "    \n",
    "    for item in parameter:\n",
    "        page.write(row, column, item[0])\n",
    "        page.write(row, column+1, item[1])\n",
    "        page.write(row, column+2, item[2])\n",
    "        page.write(row, column+3, item[3])\n",
    "        \n",
    "        row += 1\n",
    "        \n",
    "    book.close()\n",
    "\n",
    "# Запуск функции\n",
    "# writer(array)"
   ]
  },
  {
   "cell_type": "code",
   "execution_count": null,
   "id": "72c162ac-e53a-4188-bfe1-fddecdaab126",
   "metadata": {},
   "outputs": [],
   "source": [
    "# Запуск всего скрипта:\n",
    "writer(array)"
   ]
  },
  {
   "cell_type": "code",
   "execution_count": null,
   "id": "a69a9252-3215-41d6-978f-ac96f3d68a53",
   "metadata": {},
   "outputs": [],
   "source": []
  },
  {
   "cell_type": "code",
   "execution_count": null,
   "id": "1f90ac38-65a3-490f-a463-b931f6578b02",
   "metadata": {},
   "outputs": [],
   "source": [
    "# На моменте 1:11:03, он будет брать только текущие элементы страницы. Нужно прописать:\n",
    "# data = soup.find_all('div', class_='w-full rounded border')\n",
    "# Тогда всё будет работать"
   ]
  },
  {
   "cell_type": "code",
   "execution_count": null,
   "id": "8d3d03b7-a334-406b-bb9d-afb4bba61ed4",
   "metadata": {},
   "outputs": [],
   "source": []
  },
  {
   "cell_type": "markdown",
   "id": "4c61090c-8637-4b64-8d31-951c7aa0c7cc",
   "metadata": {},
   "source": [
    "### 01:11:42 - парсим картинки товаров (скачиваем)"
   ]
  },
  {
   "cell_type": "code",
   "execution_count": null,
   "id": "7c0b2e63-81d6-4d00-ba36-e6cab242225f",
   "metadata": {},
   "outputs": [],
   "source": [
    "# Подготовительные операции: создаём папку для скачивания картинок\n"
   ]
  },
  {
   "cell_type": "markdown",
   "id": "5d0d5144-cdb2-4060-acff-ef8f1dbc30f8",
   "metadata": {},
   "source": [
    "### 01:12:58 - requests get скачать файл"
   ]
  },
  {
   "cell_type": "markdown",
   "id": "811cb862-3bbe-4061-aa35-5887f65928ff",
   "metadata": {},
   "source": [
    "#### Папка для картинок создана: \"../data/images/hub_studio/\""
   ]
  },
  {
   "cell_type": "code",
   "execution_count": null,
   "id": "a53e5bf3-62f2-431e-bbb7-1f7808546199",
   "metadata": {},
   "outputs": [],
   "source": [
    "# ДАННАЯ ФУНКЦИЯ ОСТАЁТСЯ УЖЕ БЕЗ ИЗМЕНЕНИЯ:\n",
    "\n",
    "def get_url():\n",
    "    HOST = 'https://scrapingclub.com'\n",
    "    HEADERS = {\n",
    "    'accept': 'text/html,application/xhtml+xml,application/xml;q=0.9,image/avif,image/webp,image/apng,*/*;q=0.8,application/signed-exchange;v=b3;q=0.9',\n",
    "    'user-agent': 'Mozilla/5.0 (Windows NT 10.0; Win64; x64) AppleWebKit/537.36 (KHTML, like Gecko) Chrome/109.0.0.0 Safari/537.36'\n",
    "    }\n",
    "    count = 1\n",
    "    for PAGE in range(1, 3):\n",
    "        URL = f'https://scrapingclub.com/exercise/list_basic/?page={PAGE}'\n",
    "        res = requests.get(url=URL, headers=HEADERS)\n",
    "        soup = BeautifulSoup(res.text, 'lxml')\n",
    "        blocks = soup.find_all('div', class_='w-full rounded border')\n",
    "        print(f'Page №{PAGE}.')\n",
    "        # sleep(1) - переносим задержку в цикл\n",
    "        \n",
    "        for i in blocks:\n",
    "            print(f'Link №{count}.')\n",
    "            link = HOST + i.find('a').get('href')\n",
    "            count += 1\n",
    "            yield link"
   ]
  },
  {
   "cell_type": "code",
   "execution_count": null,
   "id": "a9fbe7b2-30b4-4337-ab3e-cf38bf98852b",
   "metadata": {},
   "outputs": [],
   "source": [
    "# ДОБАВЛЯЕМ НОВУЮ ФУНКЦИЮ ДЛЯ СКАЧИВАНИЯ КАРТИНОК\n",
    "\n",
    "def download(url):\n",
    "    res = requests.get(url, stream=True) # STREAM - для порционной загрузки файла изображения (или видео)\n",
    "    file_img = open('../data/images/hub_studio/' + url.split('/')[-1], 'wb')\n",
    "    for value in res.iter_content(1024*1024):\n",
    "        file_img.write(value)\n",
    "\n",
    "    file_img.close()"
   ]
  },
  {
   "cell_type": "markdown",
   "id": "abc6cc6a-14b0-49e2-99ac-5fa5b4c3dea7",
   "metadata": {},
   "source": [
    "#### Преобразуем следующий код в генератор по примеру предыдущего\n",
    "#### чтобы он мог работать без сохранения промежуточных результатов"
   ]
  },
  {
   "cell_type": "code",
   "execution_count": null,
   "id": "eb8f34d2-ad83-4158-b908-c10cfa1e7062",
   "metadata": {},
   "outputs": [],
   "source": [
    "# В ЭТУ ФУНКЦИЮ ДОБАВЛЕНА ФУНКЦИЯ ДЛЯ СКАЧИВАНИЯ КАРТИНОК\n",
    "# Каждый раз функция проходит по внутренней ссылке на товар и выполнение цикла приостанавливается благодаря команде !!! \"YIELD\" !!!\n",
    "\n",
    "def array():\n",
    "    for link in get_url():\n",
    "        res = requests.get(link, headers=HEADERS)\n",
    "        \n",
    "        sleep(3) # Переставляем функцию задерки выполнения кода из первой части (из тела функции) внутрь цикла\n",
    "        \n",
    "        soup = BeautifulSoup(res.text, 'lxml')\n",
    "        block_one = soup.find('div', class_='my-8 w-full rounded border')\n",
    "        sleep(1)\n",
    "    \n",
    "        name = block_one.find('h3', class_='card-title').text\n",
    "        price = float(block_one.find('h4', class_='my-4 card-price').text.replace('$', ''))\n",
    "        desc = block_one.find('p', class_='card-description').text\n",
    "        url_img = block_one.find('img', class_='card-img-top').get('src')\n",
    "        url_img_full = HOST + block_one.find('img', class_='card-img-top').get('src')\n",
    "# Вместо построчной печати результатов на экране - сохраняем результаты в EXCEL-файл\n",
    "        # print(f'Товар: {name};\\nЦена: {price};\\nКартинка: {url_img};\\nОписание: {desc}\\n')\n",
    "# Дописываем функцию для скачивания картинок:\n",
    "        download(url_img)\n",
    "# Будем сохранять кортеж из наших значений\n",
    "        yield name, price, url_img_full, desc"
   ]
  },
  {
   "cell_type": "code",
   "execution_count": null,
   "id": "40678edc-4231-48e7-b9b5-420398d755c9",
   "metadata": {},
   "outputs": [],
   "source": [
    "# ОСНОВНАЯ ФУНКЦИЯ ДЛЯ ЗАПУСКА СКРИПТА (СОХРАНЯЕТ ДАННЫЕ В ТАБЛИЦУ, КАРТИНКИ В ПАПКУ)\n",
    "\n",
    "# File: DOWN_TO_EXCEL.PY\n",
    "\n",
    "# import xlsxwriter\n",
    "# from file import array\n",
    "\n",
    "def writer (parameter):\n",
    "    book = xlsxwriter.Workbook(r\"C:\\Users\\..\\..\\catalog_hubStudio.xlsx\") # Сооздание файла\n",
    "    page = book.add_worksheet(\"goods\") # Сооздание страницы файла\n",
    "    \n",
    "    row = 0\n",
    "    column = 0\n",
    "    \n",
    "    page.set_column(\"A:A\", 20) # Устанавливаем ширину колонок\n",
    "    page.set_column(\"B:B\", 20)\n",
    "    page.set_column(\"C:C\", 50)\n",
    "    page.set_column(\"D:D\", 50)\n",
    "    \n",
    "    for item in parameter:\n",
    "        page.write(row, column, item[0])\n",
    "        page.write(row, column+1, item[1])\n",
    "        page.write(row, column+2, item[2])\n",
    "        page.write(row, column+3, item[3])\n",
    "        \n",
    "        row += 1\n",
    "        \n",
    "    book.close()\n",
    "\n",
    "# Запуск функции\n",
    "# writer(array)"
   ]
  },
  {
   "cell_type": "code",
   "execution_count": null,
   "id": "f5662f17-af5f-4333-b4d5-0026ad815abd",
   "metadata": {},
   "outputs": [],
   "source": [
    "# ЗАПУСК ВСЕГО СКРИПТА:\n",
    "writer(array)"
   ]
  },
  {
   "cell_type": "code",
   "execution_count": null,
   "id": "85951987-c2d0-48de-b690-436a2b4524c9",
   "metadata": {},
   "outputs": [],
   "source": []
  },
  {
   "cell_type": "code",
   "execution_count": null,
   "id": "8f1c9c90-fc58-41b7-ae9e-4c88c7cad9fe",
   "metadata": {},
   "outputs": [],
   "source": []
  },
  {
   "cell_type": "markdown",
   "id": "09618a00-b360-4f8d-9511-a7ca927887f3",
   "metadata": {},
   "source": [
    "## 01:22:32 - парсинг с POST авторизацией на сайте"
   ]
  },
  {
   "cell_type": "markdown",
   "id": "f15d37b1-da8c-4dc3-bdfb-0462fdb857dc",
   "metadata": {},
   "source": [
    "#### Чтобы получить доступ к контенту на некоторых сайтах нужна авторизация"
   ]
  },
  {
   "cell_type": "markdown",
   "id": "b6396f43-b89b-4b5e-b0c1-ce4fd32501f8",
   "metadata": {},
   "source": [
    "##### Сайт с цитатами и авторизацией:\n",
    "https://quotes.toscrape.com/"
   ]
  },
  {
   "cell_type": "code",
   "execution_count": null,
   "id": "083485e9-44e2-49a9-8fe7-9a2522e63f99",
   "metadata": {},
   "outputs": [],
   "source": [
    "# Установка необходимых библиотек\n",
    "import requests\n",
    "from bs4 import BeautifulSoup\n",
    "from time import time\n",
    "\n",
    "from requests import Session"
   ]
  },
  {
   "cell_type": "code",
   "execution_count": null,
   "id": "c49fdad7-0b0a-4b46-b51a-f8638846bf1c",
   "metadata": {},
   "outputs": [],
   "source": [
    "# Создаём переменные-КОНСТАНТЫ\n",
    "PAGE = 1\n",
    "HOST = 'https://quotes.toscrape.com/'\n",
    "URL_AUTH = 'https://quotes.toscrape.com/login'\n",
    "URL = f'https://scrapingclub.com/exercise/list_basic/?page={PAGE}'\n",
    "HEADERS = {\n",
    "    'accept': 'text/html,application/xhtml+xml,application/xml;q=0.9,image/avif,image/webp,image/apng,*/*;q=0.8,application/signed-exchange;v=b3;q=0.9',\n",
    "    'user-agent': 'Mozilla/5.0 (Windows NT 10.0; Win64; x64) AppleWebKit/537.36 (KHTML, like Gecko) Chrome/109.0.0.0 Safari/537.36'\n",
    "}"
   ]
  },
  {
   "cell_type": "code",
   "execution_count": null,
   "id": "5f8550e2-e823-4880-907a-abbdb789bb72",
   "metadata": {},
   "outputs": [],
   "source": [
    "# \n",
    "work = Session()\n",
    "\n",
    "work.get(url = URL, headers = HEADERS)\n",
    "res = work.get(url = URL_AUTH, headers = HEADERS)\n",
    "soup = BeautifulSoup(res.text, 'lxml')\n",
    "\n",
    "token = soup.find('form').find('input').get('value')\n",
    "data = {\n",
    "    'csrf_token': token,\n",
    "    'username': 'noname',\n",
    "    'password': 'password'\n",
    "}\n",
    "result = work.post(URL_AUTH, headers=HEADERS, data=data, allow_redirects=True)"
   ]
  },
  {
   "cell_type": "code",
   "execution_count": null,
   "id": "35e70920-5a52-4122-a6f1-18f6cd592553",
   "metadata": {},
   "outputs": [],
   "source": []
  },
  {
   "cell_type": "code",
   "execution_count": null,
   "id": "d733ced3-98f3-46c5-9648-d0e4b54e99dc",
   "metadata": {},
   "outputs": [],
   "source": []
  },
  {
   "cell_type": "code",
   "execution_count": null,
   "id": "fc052ca3-62cb-4493-a7b5-fba085e78351",
   "metadata": {},
   "outputs": [],
   "source": []
  },
  {
   "cell_type": "code",
   "execution_count": null,
   "id": "df24c13f-3df3-4d63-a43d-78a055f79c19",
   "metadata": {},
   "outputs": [],
   "source": [
    "# \n",
    "for\n",
    "result = soup.find_all('span', class_='text')\n",
    "author = soup.find_all('small', class_='author')\n",
    "\n",
    "if len(result) != 0:\n",
    "    script\n",
    "else:\n",
    "    break"
   ]
  },
  {
   "cell_type": "code",
   "execution_count": null,
   "id": "07018bed-292d-4929-b874-d4e89b2b1c4a",
   "metadata": {},
   "outputs": [],
   "source": []
  },
  {
   "cell_type": "markdown",
   "id": "fe7aca64-d8b0-4f73-8412-8221176ee706",
   "metadata": {},
   "source": [
    "# YIELD"
   ]
  },
  {
   "cell_type": "code",
   "execution_count": 5,
   "id": "92f8272f-57c5-4ae6-9212-1211418b1e59",
   "metadata": {},
   "outputs": [],
   "source": [
    "def create_generator():\n",
    "    mylist = range(4)\n",
    "    for i in mylist:\n",
    "        yield i*i"
   ]
  },
  {
   "cell_type": "code",
   "execution_count": 6,
   "id": "443d86a9-534e-488c-831a-74ed1a2dd14b",
   "metadata": {},
   "outputs": [
    {
     "name": "stdout",
     "output_type": "stream",
     "text": [
      "<generator object create_generator at 0x000002B4A780C380>\n",
      "0\n",
      "1\n",
      "4\n",
      "9\n"
     ]
    }
   ],
   "source": [
    "mygenerator = create_generator() # create a generator\n",
    "print(mygenerator) # mygenerator is an object!\n",
    "# <generator object create_generator at 0xb7555c34>\n",
    "for i in mygenerator:\n",
    "    print(i)"
   ]
  },
  {
   "cell_type": "markdown",
   "id": "be733b50-ddaa-43d8-aee1-9d901a750db6",
   "metadata": {},
   "source": [
    "Здесь это бесполезный пример, но он удобен, когда вы знаете, что ваша функция вернет огромный набор значений, которые вам нужно будет прочитать только один раз.\n",
    "\n",
    "Чтобы освоить yield, вы должны понимать, что когда вы вызываете функцию, код, который вы написали в теле функции, не выполняется. Функция возвращает только объект генератора, это немного сложно.\n",
    "\n",
    "Затем ваш код будет продолжаться с того места, где он остановился, каждый раз, когда forбудет использоваться генератор.\n",
    "\n",
    "А теперь самое сложное:\n",
    "\n",
    "В первый раз, когда forвызывается объект генератора, созданный из вашей функции, он выполнит код в вашей функции с самого начала, пока не достигнет yield, затем вернет первое значение цикла. Затем каждый последующий вызов выполнит еще одну итерацию цикла, который вы написали в функции, и вернет следующее значение. Это будет продолжаться до тех пор, пока генератор не будет считаться пустым, что происходит, когда функция выполняется без достижения yield. Это может быть связано с тем, что цикл подошел к концу, или с тем, что вы больше не удовлетворяете \"if/else\"."
   ]
  },
  {
   "cell_type": "code",
   "execution_count": null,
   "id": "2a128ebe-2b98-4ce6-8d2d-ceff570bef63",
   "metadata": {},
   "outputs": [],
   "source": []
  },
  {
   "cell_type": "markdown",
   "id": "17f436ae-9886-4de7-992e-59aec438e761",
   "metadata": {},
   "source": [
    "#### Оба решения работают отлично, если вам нужно вернуть несколько значений из генератора."
   ]
  },
  {
   "cell_type": "code",
   "execution_count": 7,
   "id": "f5053dc1-a843-44c5-a35e-555a518c81e3",
   "metadata": {},
   "outputs": [],
   "source": [
    "def gen():\n",
    "    for i in range(5):\n",
    "        yield i, i+1"
   ]
  },
  {
   "cell_type": "code",
   "execution_count": 8,
   "id": "38150548-b3fc-471c-8c24-731e01cf8ad6",
   "metadata": {},
   "outputs": [
    {
     "name": "stdout",
     "output_type": "stream",
     "text": [
      "0 1\n",
      "1 2\n",
      "2 3\n",
      "3 4\n",
      "4 5\n"
     ]
    }
   ],
   "source": [
    "# Решение 1:\n",
    "for values in gen():\n",
    "    print(values[0],values[1])"
   ]
  },
  {
   "cell_type": "code",
   "execution_count": 9,
   "id": "dbe1f111-e84c-4ec1-8ffc-8e094ba79b76",
   "metadata": {},
   "outputs": [
    {
     "name": "stdout",
     "output_type": "stream",
     "text": [
      "0 1\n",
      "1 2\n",
      "2 3\n",
      "3 4\n",
      "4 5\n"
     ]
    }
   ],
   "source": [
    "# Решение 2:\n",
    "for value1, value2 in gen():\n",
    "    print(value1, value2)"
   ]
  },
  {
   "cell_type": "code",
   "execution_count": null,
   "id": "e5b5ae4c-39d0-4848-a98f-c28d19f43dbe",
   "metadata": {},
   "outputs": [],
   "source": []
  }
 ],
 "metadata": {
  "kernelspec": {
   "display_name": "Python 3 (ipykernel)",
   "language": "python",
   "name": "python3"
  },
  "language_info": {
   "codemirror_mode": {
    "name": "ipython",
    "version": 3
   },
   "file_extension": ".py",
   "mimetype": "text/x-python",
   "name": "python",
   "nbconvert_exporter": "python",
   "pygments_lexer": "ipython3",
   "version": "3.12.7"
  }
 },
 "nbformat": 4,
 "nbformat_minor": 5
}
